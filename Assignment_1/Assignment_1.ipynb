{
 "cells": [
  {
   "cell_type": "markdown",
   "metadata": {},
   "source": [
    "### Assignment1\n",
    "\n",
    "Remember -> submission using itslearning, both notebook and github repo *deadline on 22.11.2021*\n",
    "\n",
    "#### Task 1 (3 points):\n",
    "\n",
    "Regression $\\to$ Superconductivity Data Set\n",
    "\n",
    "The goal here is to predict the critical temperature based on the features extracted.\n",
    "\n",
    "https://archive.ics.uci.edu/ml/datasets/Superconductivty+Data\n",
    "\n",
    "* Fit two regression models to predict the critical temperature. Report the score with the default parameters of each model.\n",
    "* Perform a simple manual optimization for one of the default parameters (at least 5 different values) and plot the new obtained score as a function of the chosen parameter. Plot the coefficient magnitudes for the best model. "
   ]
  },
  {
   "cell_type": "code",
   "execution_count": 46,
   "metadata": {},
   "outputs": [
    {
     "name": "stdout",
     "output_type": "stream",
     "text": [
      "(21263, 82)\n"
     ]
    }
   ],
   "source": [
    "%matplotlib inline\n",
    "import pandas as pd\n",
    "import matplotlib.pyplot as plt\n",
    "import numpy as np\n",
    "\n",
    "from sklearn.model_selection import train_test_split, cross_val_score\n",
    "from sklearn.preprocessing import StandardScaler\n",
    "from sklearn.linear_model import Ridge, Lasso\n",
    "from sklearn.metrics import mean_squared_error\n",
    "\n",
    "# Load dataset\n",
    "url = \"https://people.arcada.fi/~martinel/\"\n",
    "df = pd.read_csv(url + 'train.csv')\n",
    "\n",
    "# Separate dependent and independent variables\n",
    "X = df.drop('critical_temp',axis=1)\n",
    "y = df['critical_temp']\n",
    "\n",
    "# Print shape\n",
    "print(df.shape)"
   ]
  },
  {
   "cell_type": "code",
   "execution_count": 47,
   "metadata": {},
   "outputs": [],
   "source": [
    "# Split data\n",
    "X_train, X_test, y_train, y_test = train_test_split(X,y, test_size=0.2, random_state=42)"
   ]
  },
  {
   "cell_type": "code",
   "execution_count": 48,
   "metadata": {},
   "outputs": [
    {
     "name": "stdout",
     "output_type": "stream",
     "text": [
      "Ridge regression:\n",
      "Training set score: 0.74\n",
      "Test set score: 0.74\n",
      "\n",
      "Lasso regression:\n",
      "Training set score: 0.71\n",
      "Test set score: 0.71\n"
     ]
    }
   ],
   "source": [
    "# Fit two regression models to predict the critical temperature. Report the score with the default parameters of each model\n",
    "ridge_reg = Ridge().fit(X_train, y_train)    \n",
    "lasso_reg = Lasso().fit(X_train, y_train)\n",
    "\n",
    "print(\"Ridge regression:\")\n",
    "print(\"Training set score: {:.2f}\".format(ridge_reg.score(X_train, y_train)))\n",
    "print(\"Test set score: {:.2f}\\n\".format(ridge_reg.score(X_test, y_test)))\n",
    "\n",
    "print(\"Lasso regression:\")\n",
    "print(\"Training set score: {:.2f}\".format(lasso_reg.score(X_train, y_train)))\n",
    "print(\"Test set score: {:.2f}\".format(lasso_reg.score(X_test, y_test)))"
   ]
  },
  {
   "cell_type": "code",
   "execution_count": 49,
   "metadata": {},
   "outputs": [
    {
     "data": {
      "text/html": [
       "<div>\n",
       "<style scoped>\n",
       "    .dataframe tbody tr th:only-of-type {\n",
       "        vertical-align: middle;\n",
       "    }\n",
       "\n",
       "    .dataframe tbody tr th {\n",
       "        vertical-align: top;\n",
       "    }\n",
       "\n",
       "    .dataframe thead th {\n",
       "        text-align: right;\n",
       "    }\n",
       "</style>\n",
       "<table border=\"1\" class=\"dataframe\">\n",
       "  <thead>\n",
       "    <tr style=\"text-align: right;\">\n",
       "      <th></th>\n",
       "      <th>Model</th>\n",
       "      <th>alpha=0.01</th>\n",
       "      <th>alpha=0.05</th>\n",
       "      <th>alpha=0.1</th>\n",
       "      <th>alpha=0.3</th>\n",
       "      <th>alpha=1</th>\n",
       "      <th>alpha=3</th>\n",
       "      <th>alpha=5</th>\n",
       "      <th>alpha=10</th>\n",
       "      <th>alpha=15</th>\n",
       "      <th>alpha=30</th>\n",
       "      <th>alpha=50</th>\n",
       "      <th>alpha=75</th>\n",
       "    </tr>\n",
       "  </thead>\n",
       "  <tbody>\n",
       "    <tr>\n",
       "      <th>0</th>\n",
       "      <td>Ridge Train</td>\n",
       "      <td>0.736836</td>\n",
       "      <td>0.736831</td>\n",
       "      <td>0.736820</td>\n",
       "      <td>0.736758</td>\n",
       "      <td>0.736564</td>\n",
       "      <td>0.736096</td>\n",
       "      <td>0.735658</td>\n",
       "      <td>0.734751</td>\n",
       "      <td>0.734075</td>\n",
       "      <td>0.732779</td>\n",
       "      <td>0.731764</td>\n",
       "      <td>0.730923</td>\n",
       "    </tr>\n",
       "    <tr>\n",
       "      <th>1</th>\n",
       "      <td>Ridge Test</td>\n",
       "      <td>0.737616</td>\n",
       "      <td>0.737556</td>\n",
       "      <td>0.737490</td>\n",
       "      <td>0.737289</td>\n",
       "      <td>0.736928</td>\n",
       "      <td>0.736383</td>\n",
       "      <td>0.735949</td>\n",
       "      <td>0.735100</td>\n",
       "      <td>0.734492</td>\n",
       "      <td>0.733360</td>\n",
       "      <td>0.732478</td>\n",
       "      <td>0.731722</td>\n",
       "    </tr>\n",
       "    <tr>\n",
       "      <th>2</th>\n",
       "      <td>Lasso Train</td>\n",
       "      <td>0.733833</td>\n",
       "      <td>0.728200</td>\n",
       "      <td>0.725411</td>\n",
       "      <td>0.719942</td>\n",
       "      <td>0.714255</td>\n",
       "      <td>0.699008</td>\n",
       "      <td>0.688609</td>\n",
       "      <td>0.670519</td>\n",
       "      <td>0.660886</td>\n",
       "      <td>0.634146</td>\n",
       "      <td>0.604911</td>\n",
       "      <td>0.594828</td>\n",
       "    </tr>\n",
       "    <tr>\n",
       "      <th>3</th>\n",
       "      <td>Lasso Test</td>\n",
       "      <td>0.734230</td>\n",
       "      <td>0.729033</td>\n",
       "      <td>0.726339</td>\n",
       "      <td>0.720100</td>\n",
       "      <td>0.714969</td>\n",
       "      <td>0.700249</td>\n",
       "      <td>0.690296</td>\n",
       "      <td>0.672396</td>\n",
       "      <td>0.663562</td>\n",
       "      <td>0.639365</td>\n",
       "      <td>0.613078</td>\n",
       "      <td>0.603315</td>\n",
       "    </tr>\n",
       "  </tbody>\n",
       "</table>\n",
       "</div>"
      ],
      "text/plain": [
       "         Model  alpha=0.01  alpha=0.05  alpha=0.1  alpha=0.3   alpha=1  \\\n",
       "0  Ridge Train    0.736836    0.736831   0.736820   0.736758  0.736564   \n",
       "1   Ridge Test    0.737616    0.737556   0.737490   0.737289  0.736928   \n",
       "2  Lasso Train    0.733833    0.728200   0.725411   0.719942  0.714255   \n",
       "3   Lasso Test    0.734230    0.729033   0.726339   0.720100  0.714969   \n",
       "\n",
       "    alpha=3   alpha=5  alpha=10  alpha=15  alpha=30  alpha=50  alpha=75  \n",
       "0  0.736096  0.735658  0.734751  0.734075  0.732779  0.731764  0.730923  \n",
       "1  0.736383  0.735949  0.735100  0.734492  0.733360  0.732478  0.731722  \n",
       "2  0.699008  0.688609  0.670519  0.660886  0.634146  0.604911  0.594828  \n",
       "3  0.700249  0.690296  0.672396  0.663562  0.639365  0.613078  0.603315  "
      ]
     },
     "execution_count": 49,
     "metadata": {},
     "output_type": "execute_result"
    }
   ],
   "source": [
    "# Perform a simple manual optimization for one of the default parameters (at least 5 different values) \n",
    "alphas = [0.01, 0.05, 0.1, 0.3, 1, 3, 5, 10, 15, 30, 50, 75]\n",
    "models = [\"Ridge Train\", \"Ridge Test\", \"Lasso Train\", \"Lasso Test\"]\n",
    "\n",
    "r2_dataset = pd.DataFrame()\n",
    "r2_dataset[\"Model\"] = models\n",
    "\n",
    "for alpha in alphas:\n",
    "    \n",
    "    ridge_reg = Ridge(alpha=alpha).fit(X_train, y_train)    \n",
    "    lasso_reg = Lasso(alpha=alpha).fit(X_train, y_train)\n",
    "    \n",
    "    r2_dataset[f\"alpha={alpha}\"] = [\n",
    "        ridge_reg.score(X_train, y_train),\n",
    "        ridge_reg.score(X_test, y_test),      \n",
    "        lasso_reg.score(X_train, y_train), \n",
    "        lasso_reg.score(X_test, y_test) \n",
    "                            ]\n",
    "\n",
    "r2_dataset"
   ]
  },
  {
   "cell_type": "code",
   "execution_count": 45,
   "metadata": {},
   "outputs": [
    {
     "data": {
      "image/png": "[encoded data removed]",
      "text/plain": [
       "<Figure size 432x288 with 1 Axes>"
      ]
     },
     "metadata": {
      "needs_background": "light"
     },
     "output_type": "display_data"
    }
   ],
   "source": [
    "# Plot the coefficient magnitudes for the best model (Ridge - alpha 0.01)\n",
    "plt.plot(ridge_reg.coef_,alpha=0.7,linestyle='none',marker='*',markersize=5,color='red',label=r'Ridge; $\\alpha = 0.01$',zorder=7) \n",
    "plt.xlabel('Coefficient Index',fontsize=16)\n",
    "plt.ylabel('Coefficient Magnitude',fontsize=16)\n",
    "plt.legend(fontsize=13,loc=4)\n",
    "plt.show()"
   ]
  },
  {
   "cell_type": "code",
   "execution_count": null,
   "metadata": {},
   "outputs": [],
   "source": []
  },
  {
   "cell_type": "markdown",
   "metadata": {},
   "source": [
    "#### Task 2 (3 points):\n",
    "\n",
    "Binary classification $\\to$ Default of credit card clients Data Set\n",
    "\n",
    "The goal here is to predict the default payment next month.\n",
    "\n",
    "https://archive.ics.uci.edu/ml/datasets/default+of+credit+card+clients\n",
    "\n",
    "* Fit two binary classification models to predict the client's credit card default. Report accuracy with the default parameters of each model.\n",
    "* Perform a simple manual optimization for one of the default parameters (at least 5 different values) and plot the new obtained accuracy as a function of the chosen parameter.. Plot the feature importance. "
   ]
  },
  {
   "cell_type": "code",
   "execution_count": null,
   "metadata": {},
   "outputs": [],
   "source": []
  },
  {
   "cell_type": "markdown",
   "metadata": {},
   "source": [
    "#### Task 3 (9 points): \n",
    "\n",
    "Multiclass & binary classification $\\to$ Drug consumption (quantified) Data Set\n",
    "\n",
    "https://archive.ics.uci.edu/ml/datasets/Drug+consumption+%28quantified%29\n",
    "\n",
    "Data Set Information:\n",
    "\n",
    "Database contains records for 1885 respondents. For each respondent 12 attributes are known: Personality measurements which include NEO-FFI-R (neuroticism, extraversion, openness to experience, agreeableness, and conscientiousness), BIS-11 (impulsivity), and ImpSS (sensation seeking), level of education, age, gender, country of residence and ethnicity. All input attributes are originally categorical and are quantified. After quantification values of all input features can be considered as real-valued. In addition, participants were questioned concerning their use of 18 legal and illegal drugs (alcohol, amphetamines, amyl nitrite, benzodiazepine, cannabis, chocolate, cocaine, caffeine, crack, ecstasy, heroin, ketamine, legal highs, LSD, methadone, mushrooms, nicotine and volatile substance abuse and one fictitious drug (Semeron) which was introduced to identify over-claimers. For each drug they have to select one of the answers: never used the drug, used it over a decade ago, or in the last decade, year, month, week, or day.\n",
    "\n",
    "Database contains 18 classification problems. Each of independent label variables contains seven classes: \"Never Used\", \"Used over a Decade Ago\", \"Used in Last Decade\", \"Used in Last Year\", \"Used in Last Month\", \"Used in Last Week\", and \"Used in Last Day\".\n",
    "\n",
    "* Fit two multiclass classification models to predict two selected features out of 18. Use numerical values to represent each class. Report accuracy with the default parameters of each model.\n",
    "* Perform a simple manual optimization for one of the default parameters (at least 5 different values) for one of the previous models. Plot the new obtained accuracy as a function of the chosen parameter. \n",
    "* Fit one multiclass classification model for all the rest 16 features. Comment on the accuracy of predicting each feature, for all the seven classes. \n",
    "* Run one binary classification model for 3 features out of 18. Test the performance of the model by choosing as:\n",
    " - one class (class 0) the variable \"Used in Last Decade\" and the remaining variables for the other class (class 1).\n",
    " - one class (class 0) the variables \"Used in Last Decade\" and \"Used in Last Year\" and the remaining variables for the other class (class 1).\n",
    " - one class (class 0) the variables \"Used in Last Decade\", \"Used in Last Year\", \"Used in Last Month\" and the remaining variables for the other class (class 1).\n",
    " \n",
    " Comment your results, and point which selection of classes have better accuracy."
   ]
  },
  {
   "cell_type": "code",
   "execution_count": null,
   "metadata": {},
   "outputs": [],
   "source": []
  }
 ],
 "metadata": {
  "interpreter": {
   "hash": "b3ba2566441a7c06988d0923437866b63cedc61552a5af99d1f4fb67d367b25f"
  },
  "kernelspec": {
   "display_name": "Python 3.8.8 64-bit ('base': conda)",
   "name": "python3"
  },
  "language_info": {
   "codemirror_mode": {
    "name": "ipython",
    "version": 3
   },
   "file_extension": ".py",
   "mimetype": "text/x-python",
   "name": "python",
   "nbconvert_exporter": "python",
   "pygments_lexer": "ipython3",
   "version": "3.8.8"
  }
 },
 "nbformat": 4,
 "nbformat_minor": 4
}
