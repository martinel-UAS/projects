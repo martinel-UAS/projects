{
 "cells": [
  {
   "cell_type": "markdown",
   "metadata": {},
   "source": [
    "## Project 2: Sentiment Analysis on IMDB dataset\n",
    "<hr>\n",
    "\n"
   ]
  },
  {
   "cell_type": "markdown",
   "metadata": {},
   "source": [
    "### Task 1: Defining the project topic, and RNN models (Deadline: 28.1.2022)\n",
    "\n",
    "For this project we will use the IMDB Dataset of 50K Movie Reviews which Dataset can be found in the link: https://www.kaggle.com/lakshmi25npathi/imdb-dataset-of-50k-movie-reviews\n",
    "\n",
    "I will train a LSTM (Long Short-Term Memory) with the data to elaborate a sentiment Analysis for the classification of emotions (positive and negative) on text data using text analysis techniques.\n",
    "\n",
    "Afterwards I will compare the results with GRU."
   ]
  },
  {
   "cell_type": "markdown",
   "metadata": {},
   "source": [
    "<hr>\n",
    "\n",
    "### Task 2: Implement the selected model. (Deadline: 11.2.2022)"
   ]
  },
  {
   "cell_type": "markdown",
   "metadata": {},
   "source": [
    "1. Import all the dependencies"
   ]
  },
  {
   "cell_type": "code",
   "execution_count": 1,
   "metadata": {},
   "outputs": [],
   "source": [
    "# Import libraries\n",
    "import keras\n",
    "from keras.datasets import imdb\n",
    "from keras.preprocessing import sequence\n",
    "from keras.layers import Dense, Embedding, LSTM\n",
    "from keras.models import Sequential\n",
    "\n",
    "import matplotlib.pyplot as plt"
   ]
  },
  {
   "cell_type": "markdown",
   "metadata": {},
   "source": [
    "2. Defining Key Values:"
   ]
  },
  {
   "cell_type": "code",
   "execution_count": 2,
   "metadata": {},
   "outputs": [],
   "source": [
    "# Model configuration\n",
    "max_sequence_length     = 50\n",
    "num_distinct_words      = 500\n",
    "embedding_output_dims   = 100\n",
    "lstm_units              = 128\n",
    "number_of_epochs        = 10\n",
    "batch_size              = 256\n",
    "optimizer               = 'rmsprop'\n",
    "\n",
    "loss_function           = 'binary_crossentropy'\n",
    "additional_metrics      = ['accuracy']\n",
    "validation_split        = 0.20\n",
    "\n",
    "# Model results\n",
    "train_accuracies = []\n",
    "test_accuracies = []\n",
    "train_losses = []\n",
    "test_losses = []"
   ]
  },
  {
   "cell_type": "markdown",
   "metadata": {},
   "source": [
    "3. Loading the data:\n",
    "\n",
    "* ###### Using the API we download the preprocessed imdb dataset where reviews have been encoded as a sequence of word indexes (integers). Words are indexed by overall frequency in the dataset, which  allows us to quickly filter the most common words."
   ]
  },
  {
   "cell_type": "code",
   "execution_count": 3,
   "metadata": {},
   "outputs": [
    {
     "name": "stdout",
     "output_type": "stream",
     "text": [
      "25000 train sequences\n",
      "25000 test sequences\n"
     ]
    }
   ],
   "source": [
    "# Loading data\n",
    "(Xtrain, ytrain), (Xtest, ytest) = imdb.load_data(num_words=num_distinct_words)\n",
    "print(len(Xtrain), 'train sequences')\n",
    "print(len(Xtest), 'test sequences')"
   ]
  },
  {
   "cell_type": "markdown",
   "metadata": {},
   "source": [
    "4. Data preprocessing:\n",
    "\n",
    "* ###### Using the API we download the preprocessed imdb dataset where reviews have been encoded as a sequence of word indexes (integers). Words are indexed by overall frequency in the dataset, which  allows us to quickly filter the most common words."
   ]
  },
  {
   "cell_type": "code",
   "execution_count": 4,
   "metadata": {},
   "outputs": [
    {
     "name": "stdout",
     "output_type": "stream",
     "text": [
      "Input train shape: (25000, 50)\n",
      "Input test shape: (25000, 50)\n",
      "Output train shape: (25000,)\n",
      "Output test shape: (25000,)\n"
     ]
    }
   ],
   "source": [
    "# Data preprocessing\n",
    "Xtrain = sequence.pad_sequences(Xtrain, maxlen=max_sequence_length)\n",
    "Xtest  = sequence.pad_sequences(Xtest, maxlen=max_sequence_length)\n",
    "print('Input train shape:', Xtrain.shape)\n",
    "print('Input test shape:', Xtest.shape)\n",
    "print('Output train shape:', ytrain.shape)\n",
    "print('Output test shape:', ytest.shape)"
   ]
  },
  {
   "cell_type": "markdown",
   "metadata": {},
   "source": [
    "5. Building the model:\n",
    "\n",
    "* ###### Using the API we download the preprocessed imdb dataset where reviews have been encoded as a sequence of word indexes (integers). Words are indexed by overall frequency in the dataset, which  allows us to quickly filter the most common words."
   ]
  },
  {
   "cell_type": "code",
   "execution_count": 5,
   "metadata": {},
   "outputs": [
    {
     "name": "stdout",
     "output_type": "stream",
     "text": [
      "Model: \"sequential\"\n",
      "_________________________________________________________________\n",
      " Layer (type)                Output Shape              Param #   \n",
      "=================================================================\n",
      " embedding (Embedding)       (None, 50, 100)           50000     \n",
      "                                                                 \n",
      " lstm (LSTM)                 (None, 128)               117248    \n",
      "                                                                 \n",
      " dense (Dense)               (None, 1)                 129       \n",
      "                                                                 \n",
      "=================================================================\n",
      "Total params: 167,377\n",
      "Trainable params: 167,377\n",
      "Non-trainable params: 0\n",
      "_________________________________________________________________\n"
     ]
    }
   ],
   "source": [
    "# Create model\n",
    "model = Sequential()\n",
    "model.add(Embedding(num_distinct_words, embedding_output_dims, input_length=max_sequence_length))\n",
    "model.add(LSTM(lstm_units))\n",
    "model.add(Dense(1, activation='sigmoid'))\n",
    "\n",
    "# Compile the model\n",
    "model.compile(optimizer=optimizer, loss=loss_function, metrics=additional_metrics)\n",
    "\n",
    "# Give a summary\n",
    "model.summary()"
   ]
  },
  {
   "cell_type": "markdown",
   "metadata": {},
   "source": [
    "6. Trining the model:"
   ]
  },
  {
   "cell_type": "code",
   "execution_count": 6,
   "metadata": {},
   "outputs": [
    {
     "name": "stdout",
     "output_type": "stream",
     "text": [
      "Epoch 1/10\n",
      "79/79 [==============================] - 20s 232ms/step - loss: 0.6153 - accuracy: 0.6579 - val_loss: 0.5292 - val_accuracy: 0.7464\n",
      "Epoch 2/10\n",
      "79/79 [==============================] - 17s 210ms/step - loss: 0.5121 - accuracy: 0.7498 - val_loss: 0.5691 - val_accuracy: 0.7310\n",
      "Epoch 3/10\n",
      "79/79 [==============================] - 17s 209ms/step - loss: 0.4925 - accuracy: 0.7620 - val_loss: 0.5408 - val_accuracy: 0.7272\n",
      "Epoch 4/10\n",
      "79/79 [==============================] - 16s 208ms/step - loss: 0.4847 - accuracy: 0.7631 - val_loss: 0.7124 - val_accuracy: 0.7204\n",
      "Epoch 5/10\n",
      "79/79 [==============================] - 17s 212ms/step - loss: 0.4749 - accuracy: 0.7724 - val_loss: 0.4977 - val_accuracy: 0.7548\n",
      "Epoch 6/10\n",
      "79/79 [==============================] - 17s 213ms/step - loss: 0.4651 - accuracy: 0.7738 - val_loss: 0.4995 - val_accuracy: 0.7444\n",
      "Epoch 7/10\n",
      "79/79 [==============================] - 17s 211ms/step - loss: 0.4585 - accuracy: 0.7785 - val_loss: 0.5212 - val_accuracy: 0.7266\n",
      "Epoch 8/10\n",
      "79/79 [==============================] - 17s 210ms/step - loss: 0.4518 - accuracy: 0.7805 - val_loss: 0.4883 - val_accuracy: 0.7546\n",
      "Epoch 9/10\n",
      "79/79 [==============================] - 17s 209ms/step - loss: 0.4445 - accuracy: 0.7833 - val_loss: 0.5140 - val_accuracy: 0.7298\n",
      "Epoch 10/10\n",
      "79/79 [==============================] - 17s 211ms/step - loss: 0.4385 - accuracy: 0.7887 - val_loss: 0.5237 - val_accuracy: 0.7374\n"
     ]
    }
   ],
   "source": [
    "# Fit model\n",
    "history = model.fit(Xtrain, ytrain, \n",
    "                    batch_size=batch_size, \n",
    "                    epochs=number_of_epochs, \n",
    "                    validation_data=[Xtest, ytest], \n",
    "                    validation_split=validation_split)"
   ]
  },
  {
   "cell_type": "markdown",
   "metadata": {},
   "source": [
    "7. Evaluating the model"
   ]
  },
  {
   "cell_type": "code",
   "execution_count": 8,
   "metadata": {},
   "outputs": [
    {
     "name": "stdout",
     "output_type": "stream",
     "text": [
      "Training Accuracy: 0.762, Testing Accuracy: 0.740\n",
      "Training Loss: 0.471, Testing Loss: 0.511\n"
     ]
    }
   ],
   "source": [
    "# Evaluate the model\n",
    "train_loss,train_accuracy = model.evaluate(Xtrain, ytrain, batch_size=batch_size, verbose=0)\n",
    "test_loss,test_accuracy = model.evaluate(Xtest, ytest, batch_size=batch_size, verbose=0)\n",
    "print('Training Accuracy: %.3f, Testing Accuracy: %.3f' % (train_accuracy, test_accuracy))\n",
    "print('Training Loss: %.3f, Testing Loss: %.3f' % (train_loss, test_loss))\n",
    "\n",
    "train_accuracies.append(train_accuracy)\n",
    "test_accuracies.append(test_accuracy)\n",
    "train_losses.append(train_loss)\n",
    "test_losses.append(test_loss)"
   ]
  },
  {
   "cell_type": "markdown",
   "metadata": {},
   "source": [
    "8. Plotting results"
   ]
  },
  {
   "cell_type": "code",
   "execution_count": 9,
   "metadata": {},
   "outputs": [
    {
     "data": {
      "image/png": "[encoded data removed]",
      "text/plain": [
       "<Figure size 432x288 with 1 Axes>"
      ]
     },
     "metadata": {
      "needs_background": "light"
     },
     "output_type": "display_data"
    },
    {
     "data": {
      "image/png": "[encoded data removed]",
      "text/plain": [
       "<Figure size 432x288 with 1 Axes>"
      ]
     },
     "metadata": {
      "needs_background": "light"
     },
     "output_type": "display_data"
    }
   ],
   "source": [
    "# Plotting results\n",
    "\n",
    "def plot_graphs(history, string):\n",
    "    plt.plot(history.history[string])\n",
    "    plt.plot(history.history['val_'+string])\n",
    "    plt.xlabel(\"Epochs\")\n",
    "    plt.ylabel(string)\n",
    "    plt.legend([string, 'val_'+string])\n",
    "    plt.show()\n",
    "\n",
    "plot_graphs(history, \"accuracy\")\n",
    "plot_graphs(history, \"loss\")"
   ]
  },
  {
   "cell_type": "markdown",
   "metadata": {},
   "source": [
    "<hr>\n",
    "\n",
    "### Task 3.A: Tuning the presented model and describing how and why the results get improvement.\n"
   ]
  },
  {
   "cell_type": "code",
   "execution_count": 10,
   "metadata": {},
   "outputs": [
    {
     "name": "stdout",
     "output_type": "stream",
     "text": [
      "Model: \"sequential_1\"\n",
      "_________________________________________________________________\n",
      " Layer (type)                Output Shape              Param #   \n",
      "=================================================================\n",
      " embedding_1 (Embedding)     (None, 500, 10)           50000     \n",
      "                                                                 \n",
      " lstm_1 (LSTM)               (None, 64)                19200     \n",
      "                                                                 \n",
      " dense_1 (Dense)             (None, 1)                 65        \n",
      "                                                                 \n",
      "=================================================================\n",
      "Total params: 69,265\n",
      "Trainable params: 69,265\n",
      "Non-trainable params: 0\n",
      "_________________________________________________________________\n"
     ]
    }
   ],
   "source": [
    "from keras.layers import Dropout\n",
    "\n",
    "# Tuning some parameters to try to avoid the overfiting we have seen in the previous setup\n",
    "number_of_epochs        = 100      # Increase the number of epochs\n",
    "batch_size              = 32       # Reduce batch size\n",
    "optimizer               = 'adam'   # Change the optimizer from rmsprop to adam\n",
    "max_sequence_length     = 500      # Increase the maximun number of words to consider\n",
    "num_distinct_words      = 5000     # Increase the number of dictinct words \n",
    "embedding_output_dims   = 10       # Reduce the size of the vector space in which words will be embedded\n",
    "lstm_units              = 64       # Reduce the number of LSTM units\n",
    "\n",
    "# Loading data\n",
    "(Xtrain, ytrain), (Xtest, ytest) = imdb.load_data(num_words=num_distinct_words)\n",
    "\n",
    "# Data preprocessing\n",
    "Xtrain = sequence.pad_sequences(Xtrain, maxlen=max_sequence_length)\n",
    "Xtest  = sequence.pad_sequences(Xtest, maxlen=max_sequence_length)\n",
    "\n",
    "# Create model\n",
    "model_tuned = Sequential()\n",
    "model_tuned.add(Embedding(num_distinct_words, embedding_output_dims, input_length=max_sequence_length))\n",
    "\n",
    "# Adding dropout to avoid overfitting in training by bypassing randomly selected neurons, thereby reducing the sensitivity to specific weights of the individual neurons\n",
    "model_tuned.add(LSTM(lstm_units, dropout=0.2))\n",
    "model_tuned.add(Dense(1, activation='sigmoid'))\n",
    "\n",
    "# Define early stopping for early temination that will speed up the process if there is no improvement after 5 consecutive epochs\n",
    "from keras.callbacks import EarlyStopping\n",
    "es = EarlyStopping(monitor='val_loss', mode='min', verbose=1, patience=5)\n",
    "\n",
    "# Compile the model\n",
    "model_tuned.compile(optimizer=optimizer, loss='binary_crossentropy', metrics=['accuracy'])\n",
    "\n",
    "# Give a summary\n",
    "model_tuned.summary()"
   ]
  },
  {
   "cell_type": "code",
   "execution_count": 12,
   "metadata": {},
   "outputs": [
    {
     "name": "stdout",
     "output_type": "stream",
     "text": [
      "Epoch 1/100\n",
      "625/625 [==============================] - 101s 161ms/step - loss: 0.1764 - accuracy: 0.9350 - val_loss: 0.3480 - val_accuracy: 0.8650\n",
      "Epoch 2/100\n",
      "625/625 [==============================] - 100s 160ms/step - loss: 0.1567 - accuracy: 0.9416 - val_loss: 0.3602 - val_accuracy: 0.8668\n",
      "Epoch 3/100\n",
      "625/625 [==============================] - 93s 149ms/step - loss: 0.1498 - accuracy: 0.9442 - val_loss: 0.3927 - val_accuracy: 0.8662\n",
      "Epoch 4/100\n",
      "625/625 [==============================] - 93s 149ms/step - loss: 0.1565 - accuracy: 0.9405 - val_loss: 0.3779 - val_accuracy: 0.8662\n",
      "Epoch 5/100\n",
      "625/625 [==============================] - 93s 149ms/step - loss: 0.1205 - accuracy: 0.9567 - val_loss: 0.4513 - val_accuracy: 0.8556\n",
      "Epoch 6/100\n",
      "625/625 [==============================] - 94s 151ms/step - loss: 0.1207 - accuracy: 0.9549 - val_loss: 0.4287 - val_accuracy: 0.8672\n",
      "Epoch 6: early stopping\n",
      "Training Accuracy: 0.957, Testing Accuracy: 0.862\n",
      "Training Loss: 0.142, Testing Loss: 0.439\n"
     ]
    },
    {
     "data": {
      "image/png": "[encoded data removed]",
      "text/plain": [
       "<Figure size 432x288 with 1 Axes>"
      ]
     },
     "metadata": {
      "needs_background": "light"
     },
     "output_type": "display_data"
    },
    {
     "data": {
      "image/png": "[encoded data removed]",
      "text/plain": [
       "<Figure size 432x288 with 1 Axes>"
      ]
     },
     "metadata": {
      "needs_background": "light"
     },
     "output_type": "display_data"
    }
   ],
   "source": [
    "# Fit model\n",
    "history_tuned = model_tuned.fit(Xtrain, ytrain, \n",
    "                    batch_size=batch_size, \n",
    "                    epochs=number_of_epochs, \n",
    "                    validation_data=[Xtest, ytest], \n",
    "                    validation_split=validation_split, \n",
    "                    callbacks=[es]\n",
    "                    )\n",
    "\n",
    "# Evaluate the model\n",
    "train_loss,train_accuracy = model_tuned.evaluate(Xtrain, ytrain, batch_size=batch_size, verbose=0)\n",
    "test_loss,test_accuracy = model_tuned.evaluate(Xtest, ytest, batch_size=batch_size, verbose=0)\n",
    "print('Training Accuracy: %.3f, Testing Accuracy: %.3f' % (train_accuracy, test_accuracy))\n",
    "print('Training Loss: %.3f, Testing Loss: %.3f' % (train_loss, test_loss))\n",
    "\n",
    "train_accuracies.append(train_accuracy)\n",
    "test_accuracies.append(test_accuracy)\n",
    "train_losses.append(train_loss)\n",
    "test_losses.append(test_loss)\n",
    "\n",
    "# Plot results\n",
    "plot_graphs(history_tuned, \"accuracy\")\n",
    "plot_graphs(history_tuned, \"loss\")                 "
   ]
  },
  {
   "cell_type": "code",
   "execution_count": 16,
   "metadata": {},
   "outputs": [
    {
     "data": {
      "text/html": [
       "<div>\n",
       "<style scoped>\n",
       "    .dataframe tbody tr th:only-of-type {\n",
       "        vertical-align: middle;\n",
       "    }\n",
       "\n",
       "    .dataframe tbody tr th {\n",
       "        vertical-align: top;\n",
       "    }\n",
       "\n",
       "    .dataframe thead th {\n",
       "        text-align: right;\n",
       "    }\n",
       "</style>\n",
       "<table border=\"1\" class=\"dataframe\">\n",
       "  <thead>\n",
       "    <tr style=\"text-align: right;\">\n",
       "      <th></th>\n",
       "      <th>Model</th>\n",
       "      <th>Train Accuracy</th>\n",
       "      <th>Test Accuracy</th>\n",
       "      <th>Train Loss</th>\n",
       "      <th>Test Loss</th>\n",
       "    </tr>\n",
       "  </thead>\n",
       "  <tbody>\n",
       "    <tr>\n",
       "      <th>0</th>\n",
       "      <td>LSTM</td>\n",
       "      <td>0.76196</td>\n",
       "      <td>0.74048</td>\n",
       "      <td>0.471360</td>\n",
       "      <td>0.511047</td>\n",
       "    </tr>\n",
       "    <tr>\n",
       "      <th>1</th>\n",
       "      <td>LSTM_tuned</td>\n",
       "      <td>0.95672</td>\n",
       "      <td>0.86248</td>\n",
       "      <td>0.142352</td>\n",
       "      <td>0.439212</td>\n",
       "    </tr>\n",
       "  </tbody>\n",
       "</table>\n",
       "</div>"
      ],
      "text/plain": [
       "        Model  Train Accuracy  Test Accuracy  Train Loss  Test Loss\n",
       "0        LSTM         0.76196        0.74048    0.471360   0.511047\n",
       "1  LSTM_tuned         0.95672        0.86248    0.142352   0.439212"
      ]
     },
     "execution_count": 16,
     "metadata": {},
     "output_type": "execute_result"
    }
   ],
   "source": [
    "# import pandas as pd\n",
    "import pandas as pd\n",
    "\n",
    "df = pd.DataFrame({\n",
    "    'Model': ['LSTM', 'LSTM_tuned'],\n",
    "    'Train Accuracy': train_accuracies,\n",
    "    'Test Accuracy': test_accuracies,\n",
    "    'Train Loss': train_losses,\n",
    "    'Test Loss': test_losses\n",
    "    })\n",
    "    \n",
    "df.set_index('Model')    \n",
    "df"
   ]
  },
  {
   "cell_type": "markdown",
   "metadata": {},
   "source": [
    "As we can see, we have been able to improve our model performance"
   ]
  },
  {
   "cell_type": "markdown",
   "metadata": {},
   "source": [
    "<hr>\n",
    "\n",
    "### Task 3.B: Comparing the final model with one other RNN model (GRU). (Deadline: 25.2.2022)"
   ]
  },
  {
   "cell_type": "markdown",
   "metadata": {},
   "source": [
    "Comparing the obtained results using a GRU model"
   ]
  },
  {
   "cell_type": "code",
   "execution_count": 17,
   "metadata": {},
   "outputs": [
    {
     "name": "stdout",
     "output_type": "stream",
     "text": [
      "Model: \"sequential_2\"\n",
      "_________________________________________________________________\n",
      " Layer (type)                Output Shape              Param #   \n",
      "=================================================================\n",
      " embedding_2 (Embedding)     (None, 500, 10)           50000     \n",
      "                                                                 \n",
      " gru (GRU)                   (None, 64)                14400     \n",
      "                                                                 \n",
      " dropout (Dropout)           (None, 64)                0         \n",
      "                                                                 \n",
      " dense_2 (Dense)             (None, 1)                 65        \n",
      "                                                                 \n",
      "=================================================================\n",
      "Total params: 64,465\n",
      "Trainable params: 64,465\n",
      "Non-trainable params: 0\n",
      "_________________________________________________________________\n",
      "Epoch 1/100\n",
      "625/625 [==============================] - 125s 198ms/step - loss: 0.5844 - accuracy: 0.6925 - val_loss: 0.5444 - val_accuracy: 0.7200\n",
      "Epoch 2/100\n",
      "625/625 [==============================] - 124s 198ms/step - loss: 0.3524 - accuracy: 0.8499 - val_loss: 0.3384 - val_accuracy: 0.8586\n",
      "Epoch 3/100\n",
      "625/625 [==============================] - 129s 206ms/step - loss: 0.2633 - accuracy: 0.8975 - val_loss: 0.3366 - val_accuracy: 0.8716\n",
      "Epoch 4/100\n",
      "625/625 [==============================] - 132s 212ms/step - loss: 0.2322 - accuracy: 0.9123 - val_loss: 0.3198 - val_accuracy: 0.8698\n",
      "Epoch 5/100\n",
      "625/625 [==============================] - 138s 221ms/step - loss: 0.2066 - accuracy: 0.9223 - val_loss: 0.3568 - val_accuracy: 0.8716\n",
      "Epoch 6/100\n",
      "625/625 [==============================] - 134s 214ms/step - loss: 0.1885 - accuracy: 0.9308 - val_loss: 0.3324 - val_accuracy: 0.8662\n",
      "Epoch 7/100\n",
      "625/625 [==============================] - 141s 226ms/step - loss: 0.1715 - accuracy: 0.9380 - val_loss: 0.3378 - val_accuracy: 0.8722\n",
      "Epoch 8/100\n",
      "625/625 [==============================] - 144s 231ms/step - loss: 0.1593 - accuracy: 0.9445 - val_loss: 0.3698 - val_accuracy: 0.8488\n",
      "Epoch 9/100\n",
      "625/625 [==============================] - 146s 234ms/step - loss: 0.1409 - accuracy: 0.9517 - val_loss: 0.3495 - val_accuracy: 0.8564\n",
      "Epoch 9: early stopping\n",
      "Training Accuracy: 0.927, Testing Accuracy: 0.853\n",
      "Training Loss: 0.201, Testing Loss: 0.364\n"
     ]
    },
    {
     "data": {
      "image/png": "[encoded data removed]",
      "text/plain": [
       "<Figure size 432x288 with 1 Axes>"
      ]
     },
     "metadata": {
      "needs_background": "light"
     },
     "output_type": "display_data"
    },
    {
     "data": {
      "image/png": "[encoded data removed]",
      "text/plain": [
       "<Figure size 432x288 with 1 Axes>"
      ]
     },
     "metadata": {
      "needs_background": "light"
     },
     "output_type": "display_data"
    }
   ],
   "source": [
    "# Setup a GRU - RNN network\n",
    "from keras.layers.recurrent import GRU\n",
    "\n",
    "# Create model\n",
    "gru_model = Sequential()\n",
    "gru_model.add(Embedding(num_distinct_words, embedding_output_dims, input_length=max_sequence_length))\n",
    "gru_model.add(GRU(64))\n",
    "gru_model.add(Dropout(0.2))\n",
    "gru_model.add(Dense(1, activation='sigmoid'))\n",
    "\n",
    "gru_model.summary()\n",
    "\n",
    "# Compile the model\n",
    "gru_model.compile(optimizer=optimizer, loss='binary_crossentropy', metrics=['accuracy'])\n",
    "\n",
    "# Fit model\n",
    "history_gru = gru_model.fit(Xtrain, ytrain, \n",
    "                    batch_size=batch_size, \n",
    "                    epochs=number_of_epochs, \n",
    "                    validation_data=[Xtest, ytest], \n",
    "                    validation_split=validation_split, \n",
    "                    callbacks=[es]\n",
    "                    )\n",
    "\n",
    "# Evaluate the model\n",
    "train_loss,train_accuracy = gru_model.evaluate(Xtrain, ytrain, batch_size=batch_size, verbose=0)\n",
    "test_loss,test_accuracy = gru_model.evaluate(Xtest, ytest, batch_size=batch_size, verbose=0)\n",
    "print('Training Accuracy: %.3f, Testing Accuracy: %.3f' % (train_accuracy, test_accuracy))\n",
    "print('Training Loss: %.3f, Testing Loss: %.3f' % (train_loss, test_loss))\n",
    "\n",
    "train_accuracies.append(train_accuracy)\n",
    "test_accuracies.append(test_accuracy)\n",
    "train_losses.append(train_loss)\n",
    "test_losses.append(test_loss)\n",
    "\n",
    "# Plot training history\n",
    "plot_graphs(history_gru, \"accuracy\")\n",
    "plot_graphs(history_gru, \"loss\")    "
   ]
  },
  {
   "cell_type": "markdown",
   "metadata": {},
   "source": [
    "<hr>\n",
    "\n",
    "### Results"
   ]
  },
  {
   "cell_type": "code",
   "execution_count": 49,
   "metadata": {},
   "outputs": [
    {
     "data": {
      "text/html": [
       "<div>\n",
       "<style scoped>\n",
       "    .dataframe tbody tr th:only-of-type {\n",
       "        vertical-align: middle;\n",
       "    }\n",
       "\n",
       "    .dataframe tbody tr th {\n",
       "        vertical-align: top;\n",
       "    }\n",
       "\n",
       "    .dataframe thead th {\n",
       "        text-align: right;\n",
       "    }\n",
       "</style>\n",
       "<table border=\"1\" class=\"dataframe\">\n",
       "  <thead>\n",
       "    <tr style=\"text-align: right;\">\n",
       "      <th></th>\n",
       "      <th>Model</th>\n",
       "      <th>Train Accuracy</th>\n",
       "      <th>Test Accuracy</th>\n",
       "      <th>Train Loss</th>\n",
       "      <th>Test Loss</th>\n",
       "    </tr>\n",
       "  </thead>\n",
       "  <tbody>\n",
       "    <tr>\n",
       "      <th>0</th>\n",
       "      <td>LSTM</td>\n",
       "      <td>0.76196</td>\n",
       "      <td>0.74048</td>\n",
       "      <td>0.471360</td>\n",
       "      <td>0.511047</td>\n",
       "    </tr>\n",
       "    <tr>\n",
       "      <th>1</th>\n",
       "      <td>LSTM_tuned</td>\n",
       "      <td>0.95672</td>\n",
       "      <td>0.86248</td>\n",
       "      <td>0.142352</td>\n",
       "      <td>0.439212</td>\n",
       "    </tr>\n",
       "    <tr>\n",
       "      <th>2</th>\n",
       "      <td>GRU</td>\n",
       "      <td>0.92680</td>\n",
       "      <td>0.85308</td>\n",
       "      <td>0.201484</td>\n",
       "      <td>0.364004</td>\n",
       "    </tr>\n",
       "  </tbody>\n",
       "</table>\n",
       "</div>"
      ],
      "text/plain": [
       "        Model  Train Accuracy  Test Accuracy  Train Loss  Test Loss\n",
       "0        LSTM         0.76196        0.74048    0.471360   0.511047\n",
       "1  LSTM_tuned         0.95672        0.86248    0.142352   0.439212\n",
       "2         GRU         0.92680        0.85308    0.201484   0.364004"
      ]
     },
     "execution_count": 49,
     "metadata": {},
     "output_type": "execute_result"
    }
   ],
   "source": [
    "df = pd.DataFrame({\n",
    "    'Model': ['LSTM', 'LSTM_tuned', 'GRU'],\n",
    "    'Train Accuracy': train_accuracies,\n",
    "    'Test Accuracy': test_accuracies,\n",
    "    'Train Loss': train_losses,\n",
    "    'Test Loss': test_losses\n",
    "    })\n",
    "    \n",
    "df.set_index('Model')    \n",
    "df"
   ]
  },
  {
   "cell_type": "markdown",
   "metadata": {},
   "source": [
    "<hr>\n",
    "\n",
    "### Conclusions\n",
    "\n",
    "* With the initial LSTM model we acchieved 76.2% accuracy in the test set after 10 epochs.\n",
    "* By tuning some hyperparameters we achieved an imporvement up to 86.2% of accuracy in the test set (10% improvement).\n",
    "* By adding an early stopper we were able to reduce the training time and achieve higher accuracy with just 6 epochs. \n",
    "* By adding dropout layer of 0.2 we were abele to reduce the overfitting in training by bypassing randomly selected neurons, thereby reducing the sensitivity to specific weights of the individual neurons.\n",
    "* We compared our tuned LSTM model with another RNN model (GRU) which perfromed slightly worse than our LSTM tuned model."
   ]
  }
 ],
 "metadata": {
  "interpreter": {
   "hash": "b3ba2566441a7c06988d0923437866b63cedc61552a5af99d1f4fb67d367b25f"
  },
  "kernelspec": {
   "display_name": "Python 3.8.8 64-bit ('base': conda)",
   "language": "python",
   "name": "python3"
  },
  "language_info": {
   "codemirror_mode": {
    "name": "ipython",
    "version": 3
   },
   "file_extension": ".py",
   "mimetype": "text/x-python",
   "name": "python",
   "nbconvert_exporter": "python",
   "pygments_lexer": "ipython3",
   "version": "3.8.8"
  },
  "orig_nbformat": 4
 },
 "nbformat": 4,
 "nbformat_minor": 2
}
