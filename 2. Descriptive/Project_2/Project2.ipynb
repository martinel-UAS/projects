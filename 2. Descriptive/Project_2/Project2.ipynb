{
 "cells": [
  {
   "cell_type": "markdown",
   "metadata": {},
   "source": [
    "# Project 2\n",
    "<hr>"
   ]
  },
  {
   "cell_type": "markdown",
   "metadata": {},
   "source": [
    "## Sentiment Analysis on IMDB dataset\n",
    "###### by Luis Martinez\n",
    "<hr>\n",
    "This is a test  \\ test\n",
    "\n"
   ]
  },
  {
   "cell_type": "code",
   "execution_count": 22,
   "metadata": {},
   "outputs": [],
   "source": [
    "# Import libraries\n",
    "from keras.datasets import imdb\n",
    "from keras.preprocessing import sequence\n",
    "from keras.layers import Dense, Embedding, LSTM\n",
    "from keras.models import Sequential\n",
    "\n",
    "import matplotlib.pyplot as plt"
   ]
  },
  {
   "cell_type": "code",
   "execution_count": 23,
   "metadata": {},
   "outputs": [],
   "source": [
    "# Defining key values \n",
    "n_unique_words = 10000  # number of words to consider as features\n",
    "maxlength      = 500    # maximum word length\n",
    "batch_size     = 128"
   ]
  },
  {
   "cell_type": "code",
   "execution_count": 24,
   "metadata": {},
   "outputs": [
    {
     "name": "stdout",
     "output_type": "stream",
     "text": [
      "Loading data...\n",
      "25000 train sequences\n",
      "25000 test sequences\n",
      "Pad sequences (samples x time)\n",
      "input_train shape: (25000, 500)\n",
      "input_test shape: (25000, 500)\n"
     ]
    }
   ],
   "source": [
    "print('Loading data...')\n",
    "(Xtrain, ytrain), (Xtest, ytest) = imdb.load_data(num_words=n_unique_words)\n",
    "print(len(Xtrain), 'train sequences')\n",
    "print(len(Xtest), 'test sequences')\n",
    "\n",
    "print('Pad sequences (samples x time)')\n",
    "Xtrain = sequence.pad_sequences(Xtrain, maxlen=maxlength)\n",
    "Xtest  = sequence.pad_sequences(Xtest, maxlen=maxlength)\n",
    "print('input_train shape:', Xtrain.shape)\n",
    "print('input_test shape:', Xtest.shape)"
   ]
  },
  {
   "cell_type": "code",
   "execution_count": 30,
   "metadata": {},
   "outputs": [],
   "source": [
    "# Create model\n",
    "model = Sequential()\n",
    "model.add(Embedding(n_unique_words, 32))\n",
    "model.add(LSTM(32))\n",
    "model.add(Dense(24, activation='relu'))\n",
    "model.add(Dense(1, activation='sigmoid'))"
   ]
  },
  {
   "cell_type": "code",
   "execution_count": 31,
   "metadata": {},
   "outputs": [
    {
     "name": "stdout",
     "output_type": "stream",
     "text": [
      "Epoch 1/12\n",
      "157/157 [==============================] - 45s 272ms/step - loss: 0.4837 - accuracy: 0.7596 - val_loss: 0.3042 - val_accuracy: 0.8746\n",
      "Epoch 2/12\n",
      "157/157 [==============================] - 43s 273ms/step - loss: 0.2296 - accuracy: 0.9128 - val_loss: 0.2905 - val_accuracy: 0.8816\n",
      "Epoch 3/12\n",
      "157/157 [==============================] - 43s 271ms/step - loss: 0.1813 - accuracy: 0.9338 - val_loss: 0.3012 - val_accuracy: 0.8824\n",
      "Epoch 4/12\n",
      "157/157 [==============================] - 43s 274ms/step - loss: 0.1353 - accuracy: 0.9520 - val_loss: 0.3193 - val_accuracy: 0.8788\n",
      "Epoch 5/12\n",
      "157/157 [==============================] - 42s 270ms/step - loss: 0.1061 - accuracy: 0.9643 - val_loss: 0.3418 - val_accuracy: 0.8736\n",
      "Epoch 6/12\n",
      "157/157 [==============================] - 43s 272ms/step - loss: 0.0821 - accuracy: 0.9732 - val_loss: 0.4077 - val_accuracy: 0.8752\n",
      "Epoch 7/12\n",
      "157/157 [==============================] - 43s 274ms/step - loss: 0.0640 - accuracy: 0.9798 - val_loss: 0.4941 - val_accuracy: 0.8748\n",
      "Epoch 8/12\n",
      "157/157 [==============================] - 43s 277ms/step - loss: 0.0591 - accuracy: 0.9804 - val_loss: 0.4582 - val_accuracy: 0.8654\n",
      "Epoch 9/12\n",
      "157/157 [==============================] - 44s 277ms/step - loss: 0.0530 - accuracy: 0.9827 - val_loss: 0.5082 - val_accuracy: 0.8634\n",
      "Epoch 10/12\n",
      "157/157 [==============================] - 44s 279ms/step - loss: 0.0316 - accuracy: 0.9911 - val_loss: 0.6494 - val_accuracy: 0.8696\n",
      "Epoch 11/12\n",
      "157/157 [==============================] - 43s 277ms/step - loss: 0.0523 - accuracy: 0.9823 - val_loss: 0.5857 - val_accuracy: 0.8654\n",
      "Epoch 12/12\n",
      "157/157 [==============================] - 43s 276ms/step - loss: 0.0514 - accuracy: 0.9832 - val_loss: 0.6249 - val_accuracy: 0.8670\n"
     ]
    }
   ],
   "source": [
    "# Compile the model\n",
    "#model.compile(optimizer='rmsprop', loss='binary_crossentropy', metrics=['accuracy'])\n",
    "model.compile(optimizer='adam', loss='binary_crossentropy', metrics=['accuracy'])\n",
    "\n",
    "# Fit model\n",
    "history = model.fit(Xtrain, ytrain, \n",
    "                    batch_size=batch_size, \n",
    "                    epochs=12, \n",
    "                    validation_data=[Xtest, ytest], \n",
    "                    validation_split=0.2)"
   ]
  },
  {
   "cell_type": "code",
   "execution_count": 32,
   "metadata": {},
   "outputs": [
    {
     "name": "stdout",
     "output_type": "stream",
     "text": [
      "Training Accuracy: 0.969, Testing Accuracy: 0.850\n"
     ]
    }
   ],
   "source": [
    "# Evaluate the model\n",
    "_, train_acc = model.evaluate(Xtrain, ytrain, verbose = 0)\n",
    "_, test_acc = model.evaluate (Xtest, ytest, verbose=0)\n",
    "print('Training Accuracy: %.3f, Testing Accuracy: %.3f' % (train_acc, test_acc))"
   ]
  },
  {
   "cell_type": "code",
   "execution_count": 1,
   "metadata": {},
   "outputs": [
    {
     "name": "stdout",
     "output_type": "stream",
     "text": [
      "Epoch 1/12\n",
      "196/196 [==============================] - 182s 915ms/step - loss: 0.4217 - accuracy: 0.7960 - val_loss: 0.3036 - val_accuracy: 0.8754\n",
      "Epoch 2/12\n",
      "196/196 [==============================] - 177s 902ms/step - loss: 0.2319 - accuracy: 0.9107 - val_loss: 0.3481 - val_accuracy: 0.8629\n",
      "Epoch 3/12\n",
      "196/196 [==============================] - 181s 922ms/step - loss: 0.1772 - accuracy: 0.9353 - val_loss: 0.3577 - val_accuracy: 0.8657\n",
      "Epoch 4/12\n",
      "196/196 [==============================] - 195s 994ms/step - loss: 0.1337 - accuracy: 0.9524 - val_loss: 0.4213 - val_accuracy: 0.8523\n",
      "Epoch 5/12\n",
      "196/196 [==============================] - 194s 989ms/step - loss: 0.1329 - accuracy: 0.9522 - val_loss: 0.5551 - val_accuracy: 0.8503\n",
      "Epoch 6/12\n",
      "196/196 [==============================] - 191s 975ms/step - loss: 0.0944 - accuracy: 0.9675 - val_loss: 0.5087 - val_accuracy: 0.8564\n",
      "Epoch 7/12\n",
      "196/196 [==============================] - 193s 987ms/step - loss: 0.0666 - accuracy: 0.9781 - val_loss: 0.5031 - val_accuracy: 0.8556\n",
      "Epoch 8/12\n",
      "196/196 [==============================] - 186s 948ms/step - loss: 0.0730 - accuracy: 0.9749 - val_loss: 0.5206 - val_accuracy: 0.8513\n",
      "Epoch 9/12\n",
      "196/196 [==============================] - 188s 962ms/step - loss: 0.0521 - accuracy: 0.9846 - val_loss: 0.6178 - val_accuracy: 0.8496\n",
      "Epoch 10/12\n",
      "196/196 [==============================] - 188s 962ms/step - loss: 0.0310 - accuracy: 0.9912 - val_loss: 0.7209 - val_accuracy: 0.8529\n",
      "Epoch 11/12\n",
      "196/196 [==============================] - 192s 980ms/step - loss: 0.0241 - accuracy: 0.9936 - val_loss: 0.8205 - val_accuracy: 0.8499\n",
      "Epoch 12/12\n",
      "196/196 [==============================] - 201s 1s/step - loss: 0.0818 - accuracy: 0.9708 - val_loss: 0.5959 - val_accuracy: 0.8517\n",
      "[0.4216671884059906, 0.2318604737520218, 0.17720825970172882, 0.13366077840328217, 0.13291095197200775, 0.09436174482107162, 0.06661859154701233, 0.07295893132686615, 0.052111055701971054, 0.0309678353369236, 0.02413225919008255, 0.08179599046707153]\n",
      "[0.7960399985313416, 0.9106799960136414, 0.9353200197219849, 0.9523599743843079, 0.9521600008010864, 0.9674800038337708, 0.9780799746513367, 0.9749199748039246, 0.9846000075340271, 0.991159975528717, 0.9936400055885315, 0.9707599878311157]\n"
     ]
    },
    {
     "data": {
      "image/png": "[encoded data removed]",
      "text/plain": [
       "<Figure size 432x288 with 1 Axes>"
      ]
     },
     "metadata": {
      "needs_background": "light"
     },
     "output_type": "display_data"
    }
   ],
   "source": [
    "# Text classification on IMDB dataset using Keras and bi-LSTM network\n",
    "\n",
    "import numpy as np\n",
    "from keras.datasets import imdb\n",
    "from keras.layers import Dense, Dropout, Embedding, LSTM, Bidirectional\n",
    "from keras.models import Sequential\n",
    "from keras.preprocessing import sequence\n",
    "from matplotlib import pyplot\n",
    "\n",
    "n_unique_words = 10000  # cut texts after this number of words\n",
    "maxlen = 200\n",
    "batch_size = 128\n",
    "\n",
    "(x_train, y_train), (x_test, y_test) = imdb.load_data(num_words=n_unique_words)\n",
    "x_train = sequence.pad_sequences(x_train, maxlen=maxlen)\n",
    "x_test = sequence.pad_sequences(x_test, maxlen=maxlen)\n",
    "y_train = np.array(y_train)\n",
    "y_test = np.array(y_test)\n",
    "\n",
    "model = Sequential()\n",
    "model.add(Embedding(n_unique_words, 128, input_length=maxlen))\n",
    "model.add(Bidirectional(LSTM(64)))\n",
    "model.add(Dropout(0.5))\n",
    "model.add(Dense(1, activation='sigmoid'))\n",
    "model.compile(loss='binary_crossentropy', optimizer='adam', metrics=['accuracy'])\n",
    "\n",
    "history = model.fit(x_train, y_train, batch_size=batch_size, epochs=12, validation_data=[x_test, y_test])\n",
    "print(history.history['loss'])\n",
    "print(history.history['accuracy'])\n",
    "\n",
    "pyplot.plot(history.history['loss'])\n",
    "pyplot.plot(history.history['accuracy'])\n",
    "pyplot.title('Model Loss vs Accuracy')\n",
    "pyplot.xlabel('Epoch')\n",
    "pyplot.legend(['Loss', 'Accuracy'], loc='upper right')\n",
    "pyplot.show()"
   ]
  },
  {
   "cell_type": "code",
   "execution_count": 33,
   "metadata": {},
   "outputs": [
    {
     "data": {
      "image/png": "[encoded data removed]",
      "text/plain": [
       "<Figure size 432x288 with 1 Axes>"
      ]
     },
     "metadata": {
      "needs_background": "light"
     },
     "output_type": "display_data"
    },
    {
     "data": {
      "image/png": "[encoded data removed]",
      "text/plain": [
       "<Figure size 432x288 with 1 Axes>"
      ]
     },
     "metadata": {
      "needs_background": "light"
     },
     "output_type": "display_data"
    }
   ],
   "source": [
    "# Plotting results\n",
    "\n",
    "def plot_graphs(history, string):\n",
    "    plt.plot(history.history[string])\n",
    "    plt.plot(history.history['val_'+string])\n",
    "    plt.xlabel(\"Epochs\")\n",
    "    plt.ylabel(string)\n",
    "    plt.legend([string, 'val_'+string])\n",
    "    plt.show()\n",
    "\n",
    "plot_graphs(history, \"accuracy\")\n",
    "plot_graphs(history, \"loss\")"
   ]
  },
  {
   "cell_type": "code",
   "execution_count": null,
   "metadata": {},
   "outputs": [],
   "source": []
  }
 ],
 "metadata": {
  "interpreter": {
   "hash": "b3ba2566441a7c06988d0923437866b63cedc61552a5af99d1f4fb67d367b25f"
  },
  "kernelspec": {
   "display_name": "Python 3.8.8 64-bit ('base': conda)",
   "language": "python",
   "name": "python3"
  },
  "language_info": {
   "codemirror_mode": {
    "name": "ipython",
    "version": 3
   },
   "file_extension": ".py",
   "mimetype": "text/x-python",
   "name": "python",
   "nbconvert_exporter": "python",
   "pygments_lexer": "ipython3",
   "version": "3.8.8"
  },
  "orig_nbformat": 4
 },
 "nbformat": 4,
 "nbformat_minor": 2
}
