{
 "cells": [
  {
   "cell_type": "markdown",
   "metadata": {},
   "source": [
    "# Project 1: Mining information from Text Data \n",
    "<hr>"
   ]
  },
  {
   "cell_type": "markdown",
   "metadata": {},
   "source": [
    "This project will explore and analyze the information stored in a particular dataset. In this case the ACL Anthology dataset (https://aclanthology.org/). We will explore different techniques for obtainingn valuable information."
   ]
  },
  {
   "cell_type": "markdown",
   "metadata": {},
   "source": [
    "## Task 1: Finding Similar Items"
   ]
  },
  {
   "cell_type": "markdown",
   "metadata": {},
   "source": [
    "Randomly select 1000 abstracts from the whole dataset. Find the similar items using pairwise Jaccard similarities, MinHash and LSH (vectorized versions) .\n",
    "\n",
    "1. Compare the performance in time and the results for k-shingles = 3, 5 and 10, for the three methods and similarity thresholds s=0.1 and 0.2. Use 50 hashing functions. Comment your results.\n",
    "\n",
    "2. Compare the results obtained for MinHash and LSH for different similarity thresholds s = 0.1, 0.2 and 0.25 and 50, 100 and 200 hashing functions. Comment your results.\n",
    "\n",
    "3. For MinHashing using 100 hashing functions and s = 0.1 and 0.2, find the Jaccard distances (1-Jaccard similarity) for all possible pairs. Use the obtained values within a k-NN algorithm, and for k=1,3 and, 5 identify the clusters with similar abstracts for each s. Describe the obtained clusters, are they different?. Select randomly at least 5 abstracts per cluster, upon visual inspection, what are the main topics?\n",
    "\n",
    " \n",
    " "
   ]
  },
  {
   "cell_type": "markdown",
   "metadata": {},
   "source": [
    "<hr>\n",
    "\n",
    "#### 1. Compare the performance in time and the results for k-shingles = 3, 5 and 10, for the three methods and similarity thresholds s=0.1 and 0.2. Use 50 hashing functions. Comment your results."
   ]
  },
  {
   "cell_type": "markdown",
   "metadata": {},
   "source": [
    "0. Import libraries"
   ]
  },
  {
   "cell_type": "code",
   "execution_count": 1,
   "metadata": {},
   "outputs": [],
   "source": [
    "from urllib.request import urlopen\n",
    "from io import BytesIO\n",
    "from time import time\n",
    "\n",
    "import gzip\n",
    "import re\n",
    "import binascii\n",
    "import random\n",
    "import numpy as np\n",
    "import matplotlib.pyplot as plt\n",
    "import itertools"
   ]
  },
  {
   "cell_type": "markdown",
   "metadata": {},
   "source": [
    "1. Load data and make some preprocessing"
   ]
  },
  {
   "cell_type": "code",
   "execution_count": 2,
   "metadata": {},
   "outputs": [
    {
     "name": "stdout",
     "output_type": "stream",
     "text": [
      "Number of abstracts: 30071\n",
      "Example: offensive language detection (old) has received increasing attention due to its societal impact. recent work shows that bidirectional transformer based methods obtain impressive performance on old. however such methods usually rely on large-scale well-labeled old datasets for model training. to address the issue of data/label scarcity in old in this paper we propose a simple yet effective domain adaptation approach to train bidirectional transformers. our approach introduces domain adaptation (da) training procedures to albert such that it can effectively exploit auxiliary data from source domains to improve the old performance in a target domain. experimental results on benchmark datasets show that our approach albert (da) obtains the state-of-the-art performance in most cases. particularly our approach significantly benefits underrepresented and under-performing classes with a significant improvement over albert.\n"
     ]
    }
   ],
   "source": [
    "url  = 'https://aclanthology.org/anthology+abstracts.bib.gz'\n",
    "filename = 'anthology+abstracts.bib'\n",
    "minimum = 200\n",
    "\n",
    "with gzip.open(BytesIO(urlopen(url).read()), 'rb') as fb:\n",
    "    with open(filename, 'wb') as f:\n",
    "        f.write(fb.read())\n",
    "\n",
    "file = open(filename)\n",
    "abstracts = []\n",
    "with open(filename, 'r',errors='ignore') as f:\n",
    "    # skip all lines until abstract\n",
    "    for line in f:\n",
    "      if 'abstract = \"' in line:                                  # abstract found\n",
    "        if len(re.findall('[a-zA-Z]', line)) > .2*len(line):      # ignore non latin\n",
    "          if len(line) > minimum:                                 # ignore abstracts with less than minimum words (200)\n",
    "            line = re.sub(' +', ' ', line)                        # remove double spaces\n",
    "            line = re.sub(' abstract = ', '', line)               # remove \"abstract =\"\n",
    "            line = re.sub('\"|\\n|,', '', line)                     # remove some other characters  \n",
    "            line = line.lower()                                   # transform to lower letters \n",
    "            abstracts.append(line)\n",
    "\n",
    "print('Number of abstracts:', len(abstracts))\n",
    "print('Example:', abstracts[0])       "
   ]
  },
  {
   "cell_type": "markdown",
   "metadata": {},
   "source": [
    "2. Randomly select 1000 abstracts"
   ]
  },
  {
   "cell_type": "code",
   "execution_count": 3,
   "metadata": {},
   "outputs": [
    {
     "name": "stdout",
     "output_type": "stream",
     "text": [
      "Number of abstracts: 1000\n"
     ]
    }
   ],
   "source": [
    "# initializing the value of n_abstracts\n",
    "n_abstracts= 1000\n",
    "  \n",
    "# getting random n elements from the list\n",
    "abstracts = random.sample(abstracts, n_abstracts)\n",
    "print('Number of abstracts:', len(abstracts))"
   ]
  },
  {
   "cell_type": "markdown",
   "metadata": {},
   "source": [
    "3. Define main functions"
   ]
  },
  {
   "cell_type": "code",
   "execution_count": 4,
   "metadata": {},
   "outputs": [],
   "source": [
    "def get_shingles(a, k):\n",
    "    L = len(a)\n",
    "    shingles = set()                                  # we use a set to automatically eliminate duplicates\n",
    "    for i in range(L-k+1):\n",
    "        shingle = a[i:i+k]\n",
    "        crc = binascii.crc32(shingle.encode('utf-8')) # hash the shingle to a 32-bit integer\n",
    "        shingles.add(crc)    \n",
    "    return shingles     "
   ]
  },
  {
   "cell_type": "code",
   "execution_count": 5,
   "metadata": {},
   "outputs": [],
   "source": [
    "def jaccard_similarity_score(x, y):\n",
    "    intersection_cardinality = len(set(x).intersection(set(y)))\n",
    "    union_cardinality = len(set(x).union(set(y)))\n",
    "    return intersection_cardinality / float(union_cardinality)"
   ]
  },
  {
   "cell_type": "code",
   "execution_count": 6,
   "metadata": {},
   "outputs": [],
   "source": [
    "def minhash_vectorized(shingles, A, B, nextPrime, maxShingleID, nsig):\n",
    "    signature = np.ones((nsig,)) * (maxShingleID + 1)\n",
    "\n",
    "    for ShingleID in shingles:\n",
    "        hashCodes = ((A*ShingleID + B) % nextPrime) % maxShingleID\n",
    "        np.minimum(signature, hashCodes, out=signature)\n",
    "\n",
    "    return signature"
   ]
  },
  {
   "cell_type": "code",
   "execution_count": 7,
   "metadata": {},
   "outputs": [],
   "source": [
    "def LSH(signatures, bands, rows, Ab, Bb, nextPrime, maxShingleID):\n",
    "    numItems = signatures.shape[1]\n",
    "    signBands = np.array_split(signatures, bands, axis=0)\n",
    "    candidates = set()\n",
    "    for nb in range(bands):\n",
    "        hashTable = {}\n",
    "        for ni in range(numItems):\n",
    "            item = signBands[nb][:,ni]\n",
    "            hash = (np.dot(Ab[nb,:], item) + Bb[nb]) % nextPrime % maxShingleID\n",
    "            if hash not in hashTable:\n",
    "                hashTable[hash] = [ni]\n",
    "            else:\n",
    "                hashTable[hash].append(ni)\n",
    "        for _,items in hashTable.items():\n",
    "            if len(items) > 1:\n",
    "                L = len(items)\n",
    "                for i in range(L-1):\n",
    "                    for j in range(i+1, L):\n",
    "                        cand = [items[i], items[j]]\n",
    "                        np.sort(cand)\n",
    "                        candidates.add(tuple(cand))\n",
    "    return candidates"
   ]
  },
  {
   "cell_type": "code",
   "execution_count": 8,
   "metadata": {},
   "outputs": [],
   "source": [
    "def plot_results(title):\n",
    "    plt.rcParams[\"figure.figsize\"] = (15,6)\n",
    "\n",
    "    plt.subplot(1,2,1)\n",
    "    objects = ('S=0.1/K=3', 'S=0.1/K=5', 'S=0.1/K=10', 'S=0.2/K=3', 'S=0.2/K=5', 'S=0.2/K=10')\n",
    "    y_pos = np.arange(len(objects))\n",
    "    metric = times\n",
    "    plt.barh(y_pos, metric, align='center', alpha=0.5)\n",
    "    plt.yticks(y_pos, objects)\n",
    "    plt.title(title +' (time)')\n",
    "\n",
    "    plt.subplot(1,2,2)\n",
    "    y_pos = np.arange(len(objects))\n",
    "    metric = similar_items\n",
    "    plt.barh(y_pos, metric, align='center', alpha=0.5)\n",
    "    plt.yticks(y_pos, objects)\n",
    "    plt.title(title + ' (items)')\n",
    "\n",
    "    plt.show()"
   ]
  },
  {
   "cell_type": "markdown",
   "metadata": {},
   "source": [
    "4. Jaccard Similarity: (CAUTION: This process takes long execution time!!)"
   ]
  },
  {
   "cell_type": "code",
   "execution_count": 9,
   "metadata": {},
   "outputs": [
    {
     "name": "stdout",
     "output_type": "stream",
     "text": [
      "Similarity threshold: 0.1\n",
      "K_Shingles: 3\n",
      "Num of candidates found: 492992\n",
      "Took 395.0993957519531 seconds\n",
      "\n",
      "Similarity threshold: 0.1\n",
      "K_Shingles: 5\n",
      "Num of candidates found: 5362\n",
      "Took 411.29351925849915 seconds\n",
      "\n",
      "Similarity threshold: 0.1\n",
      "K_Shingles: 10\n",
      "Num of candidates found: 1\n",
      "Took 419.66449069976807 seconds\n",
      "\n",
      "Similarity threshold: 0.2\n",
      "K_Shingles: 3\n",
      "Num of candidates found: 358837\n",
      "Took 392.85950994491577 seconds\n",
      "\n",
      "Similarity threshold: 0.2\n",
      "K_Shingles: 5\n",
      "Num of candidates found: 1\n",
      "Took 412.25104784965515 seconds\n",
      "\n",
      "Similarity threshold: 0.2\n",
      "K_Shingles: 10\n",
      "Num of candidates found: 1\n",
      "Took 415.15744948387146 seconds\n",
      "\n"
     ]
    }
   ],
   "source": [
    "similarity_threshold = [0.1, 0.2]\n",
    "k_shingles = [3, 5, 10]\n",
    "\n",
    "similar_items = []\n",
    "times = []\n",
    "\n",
    "for s in similarity_threshold:\n",
    "    for k in k_shingles:\n",
    "\n",
    "        candidates = []\n",
    "        t = time()\n",
    "        for pair in itertools.combinations(abstracts,2):\n",
    "            js = jaccard_similarity_score(get_shingles(pair[0], k),get_shingles(pair[1], k))    \n",
    "            if js > s:\n",
    "                candidates.append(pair)\n",
    "        t1 = time()-t\n",
    "        print('Similarity threshold:', s)        \n",
    "        print('K_Shingles:', k)        \n",
    "        print('Num of candidates found:', len(candidates))    \n",
    "        print(\"Took {} seconds\\n\".format(t1))     \n",
    "        similar_items.append(len(candidates))\n",
    "        times.append(t1)\n",
    "        "
   ]
  },
  {
   "cell_type": "code",
   "execution_count": 10,
   "metadata": {},
   "outputs": [
    {
     "data": {
      "image/png": "[encoded data removed]",
      "text/plain": [
       "<Figure size 1080x432 with 2 Axes>"
      ]
     },
     "metadata": {
      "needs_background": "light"
     },
     "output_type": "display_data"
    }
   ],
   "source": [
    "plot_results('Jaccard similarities')"
   ]
  },
  {
   "cell_type": "markdown",
   "metadata": {},
   "source": [
    "5. MinHashing"
   ]
  },
  {
   "cell_type": "code",
   "execution_count": 15,
   "metadata": {},
   "outputs": [
    {
     "name": "stdout",
     "output_type": "stream",
     "text": [
      "Similarity threshold: 0.1\n",
      "K_Shingles: 3\n",
      "Num of candidates found: 491611\n",
      "Took 4.306140899658203 seconds\n",
      "\n",
      "Similarity threshold: 0.1\n",
      "K_Shingles: 5\n",
      "Num of candidates found: 107658\n",
      "Took 4.212770223617554 seconds\n",
      "\n",
      "Similarity threshold: 0.1\n",
      "K_Shingles: 10\n",
      "Num of candidates found: 94\n",
      "Took 4.1809914112091064 seconds\n",
      "\n",
      "Similarity threshold: 0.2\n",
      "K_Shingles: 3\n",
      "Num of candidates found: 396401\n",
      "Took 4.2830047607421875 seconds\n",
      "\n",
      "Similarity threshold: 0.2\n",
      "K_Shingles: 5\n",
      "Num of candidates found: 1525\n",
      "Took 4.246567726135254 seconds\n",
      "\n",
      "Similarity threshold: 0.2\n",
      "K_Shingles: 10\n",
      "Num of candidates found: 1\n",
      "Took 4.1715779304504395 seconds\n",
      "\n"
     ]
    }
   ],
   "source": [
    "# get candidate pairs using MinHashing\n",
    "# set global parameters to process the whole dataset\n",
    "bands = 5          # number of bands\n",
    "rows = 10          # number of rows\n",
    "nsig = bands*rows  # number of elements in signature, or the number of different random hash functions\n",
    "\n",
    "maxShingleID = 2**32-1  # record the maximum shingle ID that we assigned\n",
    "nextPrime = 4294967311  # next prime number after maxShingleID\n",
    "\n",
    "A = np.random.randint(0, nextPrime, size=(nsig,),dtype=np.int64)\n",
    "B = np.random.randint(0, nextPrime, size=(nsig,),dtype=np.int64)\n",
    "\n",
    "similarity_threshold = [0.1, 0.2]\n",
    "k_shingles = [3, 5, 10]\n",
    "\n",
    "similar_items = []\n",
    "times = []\n",
    "\n",
    "for s in similarity_threshold:\n",
    "    \n",
    "    for k in k_shingles:\n",
    "        \n",
    "        signatures = []  # signatures for all files\n",
    "        \n",
    "        for a in abstracts:\n",
    "            shingles = get_shingles(a, k)\n",
    "            signature = minhash_vectorized(shingles, A, B, nextPrime, maxShingleID, nsig)\n",
    "            signatures.append(signature)\n",
    "            \n",
    "        Nfiles = len(signatures)\n",
    "        \n",
    "        t = time()\n",
    "        candidates = []\n",
    "        for i in range(Nfiles):\n",
    "            for j in range(i+1, Nfiles):\n",
    "                Jsim = np.mean(signatures[i] == signatures[j])     # average number of similar items in \n",
    "                if Jsim >= s:                                      # two vectors, equivalent to Jaccard \n",
    "                    candidates.append((i,j))\n",
    "        t1 = time() - t\n",
    "\n",
    "        print('Similarity threshold:', s)        \n",
    "        print('K_Shingles:', k)        \n",
    "        print('Num of candidates found:', len(candidates))    \n",
    "        print(\"Took {} seconds\\n\".format(t1))     \n",
    "        \n",
    "        similar_items.append(len(candidates))\n",
    "        times.append(t1)        \n",
    "\n",
    "        "
   ]
  },
  {
   "cell_type": "code",
   "execution_count": 16,
   "metadata": {},
   "outputs": [
    {
     "data": {
      "image/png": "[encoded data removed]",
      "text/plain": [
       "<Figure size 1080x432 with 2 Axes>"
      ]
     },
     "metadata": {
      "needs_background": "light"
     },
     "output_type": "display_data"
    }
   ],
   "source": [
    "plot_results('Minhashing')"
   ]
  },
  {
   "cell_type": "markdown",
   "metadata": {},
   "source": [
    "6. Locality Sensitive Hashing (LSH)"
   ]
  },
  {
   "cell_type": "code",
   "execution_count": 26,
   "metadata": {},
   "outputs": [
    {
     "name": "stdout",
     "output_type": "stream",
     "text": [
      "K_Shingles: 3\n",
      "Num of candidates found: 489635\n",
      "Took 10.798424005508423 seconds\n",
      "\n",
      "K_Shingles: 5\n",
      "Num of candidates found: 171759\n",
      "Took 1.2896521091461182 seconds\n",
      "\n",
      "K_Shingles: 10\n",
      "Num of candidates found: 1896\n",
      "Took 0.3939981460571289 seconds\n",
      "\n"
     ]
    }
   ],
   "source": [
    "# Find candidates with LSH --> S=0.1\n",
    "bands = 100        # number of bands\n",
    "rows = 2           # number of rows\n",
    "nsig = bands*rows  # number of elements in signature, or the number of different random hash functions\n",
    "\n",
    "maxShingleID = 2**32-1  # record the maximum shingle ID that we assigned\n",
    "nextPrime = 4294967311  # next prime number after maxShingleID\n",
    "\n",
    "A = np.random.randint(0, nextPrime, size=(nsig,),dtype=np.int64)\n",
    "B = np.random.randint(0, nextPrime, size=(nsig,),dtype=np.int64)\n",
    "\n",
    "k_shingles = [3, 5, 10]\n",
    "\n",
    "similar_items = []\n",
    "times = []\n",
    "\n",
    "for k in k_shingles:\n",
    "    signatures = []  # signatures for all files\n",
    "    for a in abstracts:\n",
    "        shingles = get_shingles(a, k)\n",
    "        signature = minhash_vectorized(shingles, A, B, nextPrime, maxShingleID, nsig)\n",
    "        signatures.append(signature)\n",
    "\n",
    "    # prepare data for LSH\n",
    "    A2 = np.random.randint(0, nextPrime/2, size=(bands, rows),dtype=np.int64)  # now we need a vector of A parameters for each band\n",
    "    B2 = np.random.randint(0, nextPrime/2, size=(bands, ),dtype=np.int64)\n",
    "    signatures = np.array(signatures).T  # LSH needs a matrix of signatures, not a list of vectors\n",
    "\n",
    "    #s = 0.95  # NO similarity threshold, why? The threshold is implicit when we choose the number of rows (r) and the number of bands (b)\n",
    "    Nfiles = signatures.shape[1]  # number of different files\n",
    "    t = time()\n",
    "    candidates = LSH(signatures, bands, rows, A2, B2, nextPrime, maxShingleID)\n",
    "    t1 = time() - t\n",
    "     \n",
    "    print('K_Shingles:', k)        \n",
    "    print('Num of candidates found:', len(candidates))    \n",
    "    print(\"Took {} seconds\\n\".format(t1))     \n",
    "    similar_items.append(len(candidates))\n",
    "    times.append(t1)        "
   ]
  },
  {
   "cell_type": "code",
   "execution_count": 27,
   "metadata": {},
   "outputs": [
    {
     "name": "stdout",
     "output_type": "stream",
     "text": [
      "K_Shingles: 3\n",
      "Num of candidates found: 307665\n",
      "Took 2.6600584983825684 seconds\n",
      "\n",
      "K_Shingles: 5\n",
      "Num of candidates found: 12355\n",
      "Took 0.5629680156707764 seconds\n",
      "\n",
      "K_Shingles: 10\n",
      "Num of candidates found: 79\n",
      "Took 0.45701169967651367 seconds\n",
      "\n"
     ]
    }
   ],
   "source": [
    "# Find candidates with LSH --> S=0.2\n",
    "bands = 125\n",
    "rows = 3\n",
    "nsig = bands*rows  # number of elements in signature, or the number of different random hash functions\n",
    "\n",
    "maxShingleID = 2**32-1  # record the maximum shingle ID that we assigned\n",
    "nextPrime = 4294967311  # next prime number after maxShingleID\n",
    "\n",
    "A = np.random.randint(0, nextPrime, size=(nsig,),dtype=np.int64)\n",
    "B = np.random.randint(0, nextPrime, size=(nsig,),dtype=np.int64)\n",
    "\n",
    "k_shingles = [3, 5, 10]\n",
    "\n",
    "for k in k_shingles:\n",
    "    signatures = []  # signatures for all files\n",
    "    for a in abstracts:\n",
    "        shingles = get_shingles(a, k)\n",
    "        signature = minhash_vectorized(shingles, A, B, nextPrime, maxShingleID, nsig)\n",
    "        signatures.append(signature)\n",
    "\n",
    "    # prepare data for LSH\n",
    "    A2 = np.random.randint(0, nextPrime/2, size=(bands, rows),dtype=np.int64)  # now we need a vector of A parameters for each band\n",
    "    B2 = np.random.randint(0, nextPrime/2, size=(bands, ),dtype=np.int64)\n",
    "    signatures = np.array(signatures).T  # LSH needs a matrix of signatures, not a list of vectors\n",
    "\n",
    "    #s = 0.95  # NO similarity threshold, why? The threshold is implicit when we choose the number of rows (r) and the number of bands (b)\n",
    "    Nfiles = signatures.shape[1]  # number of different files\n",
    "    t = time()\n",
    "    candidates = LSH(signatures, bands, rows, A2, B2, nextPrime, maxShingleID)\n",
    "    t1 = time() - t\n",
    "     \n",
    "    print('K_Shingles:', k)        \n",
    "    print('Num of candidates found:', len(candidates))    \n",
    "    print(\"Took {} seconds\\n\".format(t1))     \n",
    "    similar_items.append(len(candidates))\n",
    "    times.append(t1)   "
   ]
  },
  {
   "cell_type": "code",
   "execution_count": 28,
   "metadata": {},
   "outputs": [
    {
     "data": {
      "image/png": "[encoded data removed]",
      "text/plain": [
       "<Figure size 1080x432 with 2 Axes>"
      ]
     },
     "metadata": {
      "needs_background": "light"
     },
     "output_type": "display_data"
    }
   ],
   "source": [
    "plot_results('LSH')"
   ]
  },
  {
   "cell_type": "code",
   "execution_count": 25,
   "metadata": {},
   "outputs": [
    {
     "name": "stdout",
     "output_type": "stream",
     "text": [
      "200 0.1\n",
      "375 0.2\n"
     ]
    },
    {
     "data": {
      "image/png": "[encoded data removed]",
      "text/plain": [
       "<Figure size 1080x432 with 2 Axes>"
      ]
     },
     "metadata": {
      "needs_background": "light"
     },
     "output_type": "display_data"
    }
   ],
   "source": [
    "# Plot the selected number of bands and rows to obtain the desired threshold\n",
    "\n",
    "# s = 0.1\n",
    "b1 = 100\n",
    "r1 = 2\n",
    "print(b1*r1, (1.0/b1)**(1.0/r1))\n",
    "\n",
    "# s = 0.2\n",
    "b2 = 125\n",
    "r2 = 3\n",
    "print(b2*r2, (1.0/b2)**(1.0/r2))\n",
    "\n",
    "t = np.linspace(0,1,1000)  # just lots of points between 0 and 1 for plotting\n",
    "p1 = 1 - np.power((1 - np.power(t, r1)), b1)  # Formula: p = 1 - (1 - t^r)^b \n",
    "p2 = 1 - np.power((1 - np.power(t, r2)), b2)  # Formula: p = 1 - (1 - t^r)^b \n",
    "\n",
    "plt.rcParams[\"figure.figsize\"] = (15,6)\n",
    "\n",
    "plt.subplot(1,2,1)\n",
    "plt.title('Similarity threshold = 0.1')\n",
    "plt.plot(t,p1)\n",
    "    \n",
    "plt.subplot(1,2,2)\n",
    "plt.title('Similarity threshold = 0.2')\n",
    "plt.plot(t,p2)\n",
    "\n",
    "plt.show()"
   ]
  },
  {
   "cell_type": "markdown",
   "metadata": {},
   "source": [
    "7. Comments"
   ]
  },
  {
   "cell_type": "markdown",
   "metadata": {},
   "source": [
    "<hr>\n",
    "\n",
    "#### 2. Compare the results obtained for MinHash and LSH for different similarity thresholds s = 0.1, 0.2 and 0.25 and 50, 100 and 200 hashing functions. Comment your results."
   ]
  },
  {
   "cell_type": "code",
   "execution_count": 49,
   "metadata": {},
   "outputs": [
    {
     "name": "stdout",
     "output_type": "stream",
     "text": [
      "180 0.2554364774645177\n"
     ]
    }
   ],
   "source": [
    "# s = 0.2\n",
    "b2 = 60\n",
    "r2 = 3\n",
    "print(b2*r2, (1.0/b2)**(1.0/r2))"
   ]
  },
  {
   "cell_type": "markdown",
   "metadata": {},
   "source": [
    "<hr>"
   ]
  },
  {
   "cell_type": "markdown",
   "metadata": {},
   "source": [
    "## Task 2: Mining information from Text Data "
   ]
  },
  {
   "cell_type": "markdown",
   "metadata": {},
   "source": [
    "Using the whole anthologies abstract dataset. Extract a list of the authors and editors per publication and create baskets and perform a search of similar items, for example:\n",
    "\n",
    "- basket 1: Mostafazadeh Davani Aida,Kiela Douwe,Lambert Mathias,Vidgen, Bertie Prabhakaran Vinodkumar, Waseem, Zeerak\n",
    "- basket 2: Singh Sumer, Li Sheng"
   ]
  },
  {
   "cell_type": "markdown",
   "metadata": {},
   "source": [
    "1. Find the frequent pair of items (2-tuples) using the naïve, A-priori and PCY algorithms. For each of these compare the time of execution and results for supports s=10, 50, 100. Comment your results. \n",
    "\n",
    "2. For the PCY algorithm, create up to 5 compact hash tables. What is  the difference in results and time of execution for 1,2,3,4 and 5 tables? Comment your results.\n",
    "\n",
    "3. Find the final list of k-frequent items (k-tuples) for k=3 and 4. Experiment a bit and describe the best value for the support in each case. *Warning*: You can use any of the three algorithms, but be careful, because the algorithm can take too long if you don't chose it properly (well, basically don't use the naïve approach ;)).\n",
    "\n",
    "4. Using one of the results of the previous items, for one k (k=2 or 3) find the possible clusters using the 1-NN criteria. Comment your results.\n",
    "\n",
    "> 1-NN means that if you have a tuple {A,B,C} and {C,E,F} then because they share one element {C}, then they belong to the same cluster  {A,B,C,E,F}."
   ]
  },
  {
   "cell_type": "code",
   "execution_count": null,
   "metadata": {},
   "outputs": [],
   "source": []
  },
  {
   "cell_type": "markdown",
   "metadata": {},
   "source": [
    "<hr>"
   ]
  },
  {
   "cell_type": "markdown",
   "metadata": {},
   "source": [
    "## Task 3: Graphs and Social Networks"
   ]
  },
  {
   "cell_type": "markdown",
   "metadata": {},
   "source": [
    "Using the whole anthologies abstract dataset.\n",
    "\n",
    "1. From the abstracts part, using two different similarity thresholds (e.g. 0.05, 0.1), create an unweighted network from the obtained similar pairs (use MinHashing or LSH) for each threshold.\n",
    "\n",
    "2. From the basket list of authors/editors, using A-Priori or PCY, create a weighted network, using the support threshold as weight.\n",
    "\n",
    "3. Find the communities for the networks obtained in 1. and 2. Comment about the results with respect to the different thresholds and methods. How does it compare with the same analysis using 1-NN done in previous tasks?\n",
    "\n",
    "4. Use a ready-made software, library or service (eg. gephi) for visualizing one the network in 1. or 2."
   ]
  },
  {
   "cell_type": "code",
   "execution_count": null,
   "metadata": {},
   "outputs": [],
   "source": []
  }
 ],
 "metadata": {
  "kernelspec": {
   "display_name": "Python 3",
   "language": "python",
   "name": "python3"
  },
  "language_info": {
   "codemirror_mode": {
    "name": "ipython",
    "version": 3
   },
   "file_extension": ".py",
   "mimetype": "text/x-python",
   "name": "python",
   "nbconvert_exporter": "python",
   "pygments_lexer": "ipython3",
   "version": "3.8.8"
  }
 },
 "nbformat": 4,
 "nbformat_minor": 4
}
