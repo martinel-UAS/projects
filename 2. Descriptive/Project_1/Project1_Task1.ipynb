{
 "cells": [
  {
   "cell_type": "markdown",
   "metadata": {},
   "source": [
    "# Project 1: Mining information from Text Data \n",
    "<hr>"
   ]
  },
  {
   "cell_type": "markdown",
   "metadata": {},
   "source": [
    "## Task 1: Finding Similar Items"
   ]
  },
  {
   "cell_type": "markdown",
   "metadata": {},
   "source": [
    "Randomly select 1000 abstracts from the whole dataset. Find the similar items using pairwise Jaccard similarities, MinHash and LSH (vectorized versions) .\n",
    "\n",
    "1. Compare the performance in time and the results for k-shingles = 3, 5 and 10, for the three methods and similarity thresholds s=0.1 and 0.2. Use 50 hashing functions. Comment your results.\n",
    "\n",
    "2. Compare the results obtained for MinHash and LSH for different similarity thresholds s = 0.1, 0.2 and 0.25 and 50, 100 and 200 hashing functions. Comment your results.\n",
    "\n",
    "3. For MinHashing using 100 hashing functions and s = 0.1 and 0.2, find the Jaccard distances (1-Jaccard similarity) for all possible pairs. Use the obtained values within a k-NN algorithm, and for k=1,3 and, 5 identify the clusters with similar abstracts for each s. Describe the obtained clusters, are they different?. Select randomly at least 5 abstracts per cluster, upon visual inspection, what are the main topics?\n",
    "\n",
    " \n",
    " "
   ]
  },
  {
   "cell_type": "markdown",
   "metadata": {},
   "source": [
    "<hr>\n",
    "\n",
    "#### 1. Compare the performance in time and the results for k-shingles = 3, 5 and 10, for the three methods and similarity thresholds s=0.1 and 0.2. Use 50 hashing functions. Comment your results."
   ]
  },
  {
   "cell_type": "markdown",
   "metadata": {},
   "source": [
    "0. Import libraries"
   ]
  },
  {
   "cell_type": "code",
   "execution_count": 1,
   "metadata": {},
   "outputs": [],
   "source": [
    "from urllib.request import urlopen\n",
    "from io import BytesIO\n",
    "from time import time\n",
    "\n",
    "import pandas as pd\n",
    "import gzip\n",
    "import re\n",
    "import binascii\n",
    "import numpy as np\n",
    "import matplotlib.pyplot as plt\n",
    "import itertools\n",
    "import os"
   ]
  },
  {
   "cell_type": "markdown",
   "metadata": {},
   "source": [
    "1. Download the data files"
   ]
  },
  {
   "cell_type": "code",
   "execution_count": 2,
   "metadata": {},
   "outputs": [
    {
     "name": "stdout",
     "output_type": "stream",
     "text": [
      "File anthology+abstracts.bib already available in folder /data\n"
     ]
    }
   ],
   "source": [
    "url  = 'https://aclanthology.org/anthology+abstracts.bib.gz'   # url where the file is stored\n",
    "filename = 'anthology+abstracts.bib'                           # bib filename\n",
    "folder   = 'data'                                              # folder name\n",
    "minimum = 200                                                  # minimum number of words in the abtract to be considered \n",
    "\n",
    "# Create the path to store the files\n",
    "os.makedirs(folder, exist_ok=True)\n",
    "\n",
    "file = folder + '/' + filename\n",
    "\n",
    "# Download the file if it doesn't exist locally\n",
    "if(not os.path.exists(file)):\n",
    "  print(\"Downloading \" + url + \" to /\" + folder + \"...\" )\n",
    "  with gzip.open(BytesIO(urlopen(url).read()), 'rb') as fb:\n",
    "    with open(file, 'wb') as f:\n",
    "        f.write(fb.read())\n",
    "else:\n",
    "  print(\"File \" + filename + \" already available in folder /\" + folder)        \n"
   ]
  },
  {
   "cell_type": "markdown",
   "metadata": {},
   "source": [
    "2. Load data and make some preprocessing"
   ]
  },
  {
   "cell_type": "code",
   "execution_count": 3,
   "metadata": {},
   "outputs": [
    {
     "name": "stdout",
     "output_type": "stream",
     "text": [
      "Number of abstracts: 30115\n",
      "Number of titles: 30115\n",
      "Number of ids: 30115\n",
      "\n",
      "Abstract: offensive language detection (old) has received increasing attention due to its societal impact. recent work shows that bidirectional transformer based methods obtain impressive performance on old. however such methods usually rely on large-scale well-labeled old datasets for model training. to address the issue of data/label scarcity in old in this paper we propose a simple yet effective domain adaptation approach to train bidirectional transformers. our approach introduces domain adaptation (da) training procedures to albert such that it can effectively exploit auxiliary data from source domains to improve the old performance in a target domain. experimental results on benchmark datasets show that our approach albert (da) obtains the state-of-the-art performance in most cases. particularly our approach significantly benefits underrepresented and under-performing classes with a significant improvement over albert.\n",
      "\n",
      "Title:    Exploiting Auxiliary Data for Offensive Language Detection with Bidirectional Transformers\",\n",
      "\n",
      "ID: singh-li-2021-exploiting\n"
     ]
    }
   ],
   "source": [
    "# Read and process data\n",
    "abstracts = []\n",
    "titles = []\n",
    "ids = []\n",
    "\n",
    "with open(file, 'r',errors='ignore') as f:\n",
    "    for line in f:    \n",
    "      if '@proceedings{' in line:                                 # key found\n",
    "        line = re.sub('@proceedings{', '', line)                  # remove \n",
    "        line = re.sub(',', '', line)                              # remove \n",
    "        line = re.sub('\\n', '', line)                             # remove some other characters  \n",
    "        id = line  \n",
    "      if '@inproceedings{' in line:                               # key found\n",
    "        line = re.sub('@inproceedings{', '', line)                # remove \n",
    "        line = re.sub(',', '', line)                              # remove \n",
    "        line = re.sub('\\n', '', line)                             # remove some other characters  \n",
    "        id = line            \n",
    "      if ' title = \"' in line:                                    # title found\n",
    "        line = re.sub(' title = \"', '', line)                     # remove \"title =\"\n",
    "        title = line\n",
    "      if 'abstract = \"' in line:                                  # abstract found\n",
    "        if len(re.findall('[a-zA-Z]', line)) > .2*len(line):      # ignore non latin\n",
    "          if len(line) > minimum:                                 # ignore abstracts with less than minimum words (200)\n",
    "            line = re.sub(' +', ' ', line)                        # remove double spaces\n",
    "            line = re.sub(' abstract = ', '', line)               # remove \"abstract =\" \n",
    "            line = re.sub('\"|\\n|,', '', line)                     # remove some other characters  \n",
    "            line = line.lower()                                   # transform to lower letters             \n",
    "            abstracts.append(line)\n",
    "            titles.append(title)\n",
    "            ids.append(id)\n",
    "\n",
    "print('Number of abstracts:', len(abstracts))\n",
    "print('Number of titles:', len(titles))\n",
    "print('Number of ids:', len(ids))\n",
    "print('\\nAbstract:', abstracts[0])\n",
    "print('\\nTitle:', titles[0])\n",
    "print('ID:', ids[0])"
   ]
  },
  {
   "cell_type": "code",
   "execution_count": 4,
   "metadata": {},
   "outputs": [],
   "source": [
    "# Creating a dataframe with ID, abstract and title\n",
    "data_tuples = list(zip(ids, titles, abstracts))\n",
    "data = pd.DataFrame(data_tuples, columns=['ID', 'title', 'abstract'])"
   ]
  },
  {
   "cell_type": "code",
   "execution_count": 5,
   "metadata": {},
   "outputs": [
    {
     "data": {
      "text/html": [
       "<div>\n",
       "<style scoped>\n",
       "    .dataframe tbody tr th:only-of-type {\n",
       "        vertical-align: middle;\n",
       "    }\n",
       "\n",
       "    .dataframe tbody tr th {\n",
       "        vertical-align: top;\n",
       "    }\n",
       "\n",
       "    .dataframe thead th {\n",
       "        text-align: right;\n",
       "    }\n",
       "</style>\n",
       "<table border=\"1\" class=\"dataframe\">\n",
       "  <thead>\n",
       "    <tr style=\"text-align: right;\">\n",
       "      <th></th>\n",
       "      <th>ID</th>\n",
       "      <th>title</th>\n",
       "      <th>abstract</th>\n",
       "    </tr>\n",
       "  </thead>\n",
       "  <tbody>\n",
       "    <tr>\n",
       "      <th>0</th>\n",
       "      <td>singh-li-2021-exploiting</td>\n",
       "      <td>Exploiting Auxiliary Data for Offensive Lan...</td>\n",
       "      <td>offensive language detection (old) has receive...</td>\n",
       "    </tr>\n",
       "    <tr>\n",
       "      <th>1</th>\n",
       "      <td>hahn-etal-2021-modeling</td>\n",
       "      <td>Modeling Profanity and Hate Speech in Socia...</td>\n",
       "      <td>hate speech and profanity detection suffer fro...</td>\n",
       "    </tr>\n",
       "    <tr>\n",
       "      <th>2</th>\n",
       "      <td>caselli-etal-2021-hatebert</td>\n",
       "      <td>{H}ate{BERT}: Retraining {BERT} for Abusive...</td>\n",
       "      <td>we introduce hatebert a re-trained bert model ...</td>\n",
       "    </tr>\n",
       "    <tr>\n",
       "      <th>3</th>\n",
       "      <td>kirk-etal-2021-memes</td>\n",
       "      <td>Memes in the Wild: Assessing the Generaliza...</td>\n",
       "      <td>hateful memes pose a unique challenge for curr...</td>\n",
       "    </tr>\n",
       "    <tr>\n",
       "      <th>4</th>\n",
       "      <td>kivlichan-etal-2021-measuring</td>\n",
       "      <td>Measuring and Improving Model-Moderator Col...</td>\n",
       "      <td>content moderation is often performed by a col...</td>\n",
       "    </tr>\n",
       "    <tr>\n",
       "      <th>...</th>\n",
       "      <td>...</td>\n",
       "      <td>...</td>\n",
       "      <td>...</td>\n",
       "    </tr>\n",
       "    <tr>\n",
       "      <th>30110</th>\n",
       "      <td>raphael-1963-computer</td>\n",
       "      <td>A computer representation for semantic info...</td>\n",
       "      <td>this paper deals with the problem of represent...</td>\n",
       "    </tr>\n",
       "    <tr>\n",
       "      <th>30111</th>\n",
       "      <td>tabory-1963-specifications</td>\n",
       "      <td>Specifications for generative grammars used...</td>\n",
       "      <td>it becomes more and more evident that successf...</td>\n",
       "    </tr>\n",
       "    <tr>\n",
       "      <th>30112</th>\n",
       "      <td>tosh-1963-collecting</td>\n",
       "      <td>Collecting linguistic data for the grammar ...</td>\n",
       "      <td>establishing the grammatical description of a ...</td>\n",
       "    </tr>\n",
       "    <tr>\n",
       "      <th>30113</th>\n",
       "      <td>wahlgren-1963-derivational</td>\n",
       "      <td>Derivational suffixes in {R}ussian general ...</td>\n",
       "      <td>a grammar based upon a conventional morphemic ...</td>\n",
       "    </tr>\n",
       "    <tr>\n",
       "      <th>30114</th>\n",
       "      <td>yngve-1963-order</td>\n",
       "      <td>On the order of clauses\",\\n</td>\n",
       "      <td>we used to think that the output of a translat...</td>\n",
       "    </tr>\n",
       "  </tbody>\n",
       "</table>\n",
       "<p>30115 rows × 3 columns</p>\n",
       "</div>"
      ],
      "text/plain": [
       "                                  ID  \\\n",
       "0           singh-li-2021-exploiting   \n",
       "1            hahn-etal-2021-modeling   \n",
       "2         caselli-etal-2021-hatebert   \n",
       "3               kirk-etal-2021-memes   \n",
       "4      kivlichan-etal-2021-measuring   \n",
       "...                              ...   \n",
       "30110          raphael-1963-computer   \n",
       "30111     tabory-1963-specifications   \n",
       "30112           tosh-1963-collecting   \n",
       "30113     wahlgren-1963-derivational   \n",
       "30114               yngve-1963-order   \n",
       "\n",
       "                                                   title  \\\n",
       "0         Exploiting Auxiliary Data for Offensive Lan...   \n",
       "1         Modeling Profanity and Hate Speech in Socia...   \n",
       "2         {H}ate{BERT}: Retraining {BERT} for Abusive...   \n",
       "3         Memes in the Wild: Assessing the Generaliza...   \n",
       "4         Measuring and Improving Model-Moderator Col...   \n",
       "...                                                  ...   \n",
       "30110     A computer representation for semantic info...   \n",
       "30111     Specifications for generative grammars used...   \n",
       "30112     Collecting linguistic data for the grammar ...   \n",
       "30113     Derivational suffixes in {R}ussian general ...   \n",
       "30114                        On the order of clauses\",\\n   \n",
       "\n",
       "                                                abstract  \n",
       "0      offensive language detection (old) has receive...  \n",
       "1      hate speech and profanity detection suffer fro...  \n",
       "2      we introduce hatebert a re-trained bert model ...  \n",
       "3      hateful memes pose a unique challenge for curr...  \n",
       "4      content moderation is often performed by a col...  \n",
       "...                                                  ...  \n",
       "30110  this paper deals with the problem of represent...  \n",
       "30111  it becomes more and more evident that successf...  \n",
       "30112  establishing the grammatical description of a ...  \n",
       "30113  a grammar based upon a conventional morphemic ...  \n",
       "30114  we used to think that the output of a translat...  \n",
       "\n",
       "[30115 rows x 3 columns]"
      ]
     },
     "execution_count": 5,
     "metadata": {},
     "output_type": "execute_result"
    }
   ],
   "source": [
    "data"
   ]
  },
  {
   "cell_type": "markdown",
   "metadata": {},
   "source": [
    "3. Randomly select 1000 abstracts and save them to a file"
   ]
  },
  {
   "cell_type": "code",
   "execution_count": 6,
   "metadata": {},
   "outputs": [],
   "source": [
    "# Randomly select 1000 rows\n",
    "data = data.sample(n=1000, random_state=1)\n",
    "# Reset index\n",
    "data = data.reset_index(drop=True)\n",
    "# Get abstracts\n",
    "abstracts = data['abstract'].tolist()\n",
    "\n",
    "# save abstracts to a file for other tasks\n",
    "os.makedirs(folder, exist_ok=True)  \n",
    "data.to_csv('./data/abstracts.csv')"
   ]
  },
  {
   "cell_type": "markdown",
   "metadata": {},
   "source": [
    "4. Define main functions"
   ]
  },
  {
   "cell_type": "code",
   "execution_count": 7,
   "metadata": {},
   "outputs": [],
   "source": [
    "\" Returns the k hasshed shingles of a\"\n",
    "def get_shingles(a, k):\n",
    "    L = len(a)\n",
    "    shingles = set()                                   # we use a set to automatically eliminate duplicates\n",
    "    for i in range(L-k+1):                              \n",
    "        shingle = a[i:i+k]\n",
    "        crc = binascii.crc32(shingle.encode('utf-8'))  # hash the shingle to a 32-bit integer\n",
    "        shingles.add(crc)    \n",
    "    return shingles"
   ]
  },
  {
   "cell_type": "code",
   "execution_count": 8,
   "metadata": {},
   "outputs": [],
   "source": [
    "\" Returns the jaccard similarity score of two sets (x y) \"\n",
    "def jaccard_similarity_score(x, y):\n",
    "    intersection_cardinality = len(set(x).intersection(set(y)))\n",
    "    union_cardinality = len(set(x).union(set(y)))\n",
    "    return intersection_cardinality / float(union_cardinality)"
   ]
  },
  {
   "cell_type": "code",
   "execution_count": 9,
   "metadata": {},
   "outputs": [],
   "source": [
    "\" Minhashing \"\n",
    "def minhash_vectorized(shingles, A, B, nextPrime, maxShingleID, nsig):\n",
    "    \n",
    "    signature = np.ones((nsig,)) * (maxShingleID + 1)\n",
    "\n",
    "    for ShingleID in shingles:\n",
    "        hashCodes = ((A*ShingleID + B) % nextPrime) % maxShingleID\n",
    "        np.minimum(signature, hashCodes, out=signature)\n",
    "\n",
    "    return signature"
   ]
  },
  {
   "cell_type": "code",
   "execution_count": 10,
   "metadata": {},
   "outputs": [],
   "source": [
    "\" Locality Sensitive Hashing \"\n",
    "def LSH(signatures, bands, rows, Ab, Bb, nextPrime, maxShingleID):\n",
    "    numItems = signatures.shape[1]\n",
    "    signBands = np.array_split(signatures, bands, axis=0)\n",
    "    candidates = set()\n",
    "    for nb in range(bands):\n",
    "        hashTable = {}\n",
    "        for ni in range(numItems):\n",
    "            item = signBands[nb][:,ni]\n",
    "            hash = (np.dot(Ab[nb,:], item) + Bb[nb]) % nextPrime % maxShingleID\n",
    "            if hash not in hashTable:\n",
    "                hashTable[hash] = [ni]\n",
    "            else:\n",
    "                hashTable[hash].append(ni)\n",
    "        for _,items in hashTable.items():\n",
    "            if len(items) > 1:\n",
    "                L = len(items)\n",
    "                for i in range(L-1):\n",
    "                    for j in range(i+1, L):\n",
    "                        cand = [items[i], items[j]]\n",
    "                        np.sort(cand)\n",
    "                        candidates.add(tuple(cand))\n",
    "    return candidates"
   ]
  },
  {
   "cell_type": "code",
   "execution_count": 11,
   "metadata": {},
   "outputs": [],
   "source": [
    "\" Plot results \"\n",
    "def plot_results(title, times, num_of_similar_items, objects):\n",
    "    plt.rcParams[\"figure.figsize\"] = (19,6)\n",
    "\n",
    "    plt.subplot(1,2,1)\n",
    "    objects = objects\n",
    "    y_pos = np.arange(len(objects))\n",
    "    metric = times\n",
    "    plt.barh(y_pos, metric, align='center', alpha=0.5)\n",
    "    plt.yticks(y_pos, objects)\n",
    "    plt.title(title +' (time)')\n",
    "\n",
    "    plt.subplot(1,2,2)\n",
    "    y_pos = np.arange(len(objects))\n",
    "    metric = num_of_similar_items\n",
    "    plt.yticks(y_pos, objects)\n",
    "    plt.barh(y_pos, metric, align='center', alpha=0.5)    \n",
    "    plt.title(title + ' (items)')\n",
    "\n",
    "    plt.show()"
   ]
  },
  {
   "cell_type": "markdown",
   "metadata": {},
   "source": [
    "4. Jaccard Similarity: **(CAUTION: This process takes long execution time!!)**"
   ]
  },
  {
   "cell_type": "code",
   "execution_count": 12,
   "metadata": {},
   "outputs": [
    {
     "name": "stdout",
     "output_type": "stream",
     "text": [
      "Similarity threshold: 0.1\n",
      "K_Shingles: 3\n",
      "Num of candidates found: 494717\n",
      "Took 521.3669061660767 seconds\n",
      "\n",
      "Similarity threshold: 0.1\n",
      "K_Shingles: 5\n",
      "Num of candidates found: 6758\n",
      "Took 527.8188972473145 seconds\n",
      "\n",
      "Similarity threshold: 0.1\n",
      "K_Shingles: 10\n",
      "Num of candidates found: 2\n",
      "Took 524.5193543434143 seconds\n",
      "\n",
      "Similarity threshold: 0.2\n",
      "K_Shingles: 3\n",
      "Num of candidates found: 366030\n",
      "Took 516.0057106018066 seconds\n",
      "\n",
      "Similarity threshold: 0.2\n",
      "K_Shingles: 5\n",
      "Num of candidates found: 2\n",
      "Took 518.3740553855896 seconds\n",
      "\n",
      "Similarity threshold: 0.2\n",
      "K_Shingles: 10\n",
      "Num of candidates found: 0\n",
      "Took 527.1691093444824 seconds\n",
      "\n"
     ]
    }
   ],
   "source": [
    "# Get candidate pairs using naive approach\n",
    "\n",
    "similarity_threshold = [0.1, 0.2]\n",
    "k_shingles = [3, 5, 10]\n",
    "\n",
    "num_of_similar_items = []\n",
    "times = []\n",
    "\n",
    "for s in similarity_threshold:\n",
    "    for k in k_shingles:\n",
    "        candidates = []\n",
    "        t = time()\n",
    "        for pair in itertools.combinations(abstracts,2):\n",
    "            js = jaccard_similarity_score(get_shingles(pair[0], k),get_shingles(pair[1], k))    \n",
    "            if js > s:\n",
    "                candidates.append(pair)\n",
    "        t1 = time()-t\n",
    "        print('Similarity threshold:', s)        \n",
    "        print('K_Shingles:', k)        \n",
    "        print('Num of candidates found:', len(candidates))    \n",
    "        print(\"Took {} seconds\\n\".format(t1))     \n",
    "        num_of_similar_items.append(len(candidates))\n",
    "        times.append(t1)\n",
    "        "
   ]
  },
  {
   "cell_type": "code",
   "execution_count": 13,
   "metadata": {},
   "outputs": [
    {
     "data": {
      "image/png": "[encoded data removed]",
      "text/plain": [
       "<Figure size 1368x432 with 2 Axes>"
      ]
     },
     "metadata": {
      "needs_background": "light"
     },
     "output_type": "display_data"
    }
   ],
   "source": [
    "objects = ('S=0.1/K=3', 'S=0.1/K=5', 'S=0.1/K=10', 'S=0.2/K=3', 'S=0.2/K=5', 'S=0.2/K=10')\n",
    "plot_results('Jaccard similarities', times, num_of_similar_items, objects)"
   ]
  },
  {
   "cell_type": "markdown",
   "metadata": {},
   "source": [
    "5. MinHashing"
   ]
  },
  {
   "cell_type": "code",
   "execution_count": 15,
   "metadata": {},
   "outputs": [
    {
     "name": "stdout",
     "output_type": "stream",
     "text": [
      "Similarity threshold: 0.1\n",
      "K_Shingles: 3\n",
      "Num of candidates found: 466035\n",
      "Took 5.307616710662842 seconds\n",
      "\n",
      "Similarity threshold: 0.1\n",
      "K_Shingles: 5\n",
      "Num of candidates found: 82980\n",
      "Took 5.203993082046509 seconds\n",
      "\n",
      "Similarity threshold: 0.1\n",
      "K_Shingles: 10\n",
      "Num of candidates found: 449\n",
      "Took 5.2679197788238525 seconds\n",
      "\n",
      "Similarity threshold: 0.2\n",
      "K_Shingles: 3\n",
      "Num of candidates found: 212966\n",
      "Took 5.211092472076416 seconds\n",
      "\n",
      "Similarity threshold: 0.2\n",
      "K_Shingles: 5\n",
      "Num of candidates found: 658\n",
      "Took 5.177306890487671 seconds\n",
      "\n",
      "Similarity threshold: 0.2\n",
      "K_Shingles: 10\n",
      "Num of candidates found: 1\n",
      "[(275, 637)]\n",
      "Took 5.2090888023376465 seconds\n",
      "\n"
     ]
    }
   ],
   "source": [
    "# get candidate pairs using MinHashing\n",
    "bands = 10         # number of bands\n",
    "rows = 5           # number of rows\n",
    "nsig = bands*rows  # number of elements in signature, or the number of different random hash functions\n",
    "\n",
    "maxShingleID = 2**32-1  # record the maximum shingle ID that we assigned\n",
    "nextPrime = 4294967311  # next prime number after maxShingleID\n",
    "\n",
    "A = np.random.randint(0, nextPrime, size=(nsig,),dtype=np.int64)\n",
    "B = np.random.randint(0, nextPrime, size=(nsig,),dtype=np.int64)\n",
    "\n",
    "similarity_threshold = [0.1, 0.2]\n",
    "k_shingles = [3, 5, 10]\n",
    "\n",
    "num_of_similar_items = []\n",
    "times = []\n",
    "\n",
    "for s in similarity_threshold:\n",
    "    \n",
    "    for k in k_shingles:\n",
    "        \n",
    "        signatures = []  # signatures for all files\n",
    "        \n",
    "        for a in abstracts:\n",
    "            shingles = get_shingles(a, k)\n",
    "            signature = minhash_vectorized(shingles, A, B, nextPrime, maxShingleID, nsig)\n",
    "            signatures.append(signature)\n",
    "            \n",
    "        Nfiles = len(signatures)\n",
    "        \n",
    "        t = time()\n",
    "        candidates = []\n",
    "        for i in range(Nfiles):\n",
    "            for j in range(i+1, Nfiles):\n",
    "                Jsim = np.mean(signatures[i] == signatures[j])     # average number of similar items in \n",
    "                if Jsim >= s:                                      # two vectors, equivalent to Jaccard \n",
    "                    candidates.append((i,j))\n",
    "        t1 = time() - t\n",
    "\n",
    "        print('Similarity threshold:', s)        \n",
    "        print('K_Shingles:', k)        \n",
    "        print('Num of candidates found:', len(candidates))  \n",
    "        if(len(candidates) < 11):\n",
    "            print(candidates)\n",
    "        print(\"Took {} seconds\\n\".format(t1))     \n",
    "        \n",
    "        num_of_similar_items.append(len(candidates))\n",
    "        times.append(t1)        \n",
    "\n",
    "        "
   ]
  },
  {
   "cell_type": "code",
   "execution_count": 16,
   "metadata": {},
   "outputs": [
    {
     "data": {
      "image/png": "[encoded data removed]",
      "text/plain": [
       "<Figure size 1368x432 with 2 Axes>"
      ]
     },
     "metadata": {
      "needs_background": "light"
     },
     "output_type": "display_data"
    }
   ],
   "source": [
    "objects = ('S=0.1/K=3', 'S=0.1/K=5', 'S=0.1/K=10', 'S=0.2/K=3', 'S=0.2/K=5', 'S=0.2/K=10')\n",
    "plot_results('Minhashing', times, num_of_similar_items, objects)"
   ]
  },
  {
   "cell_type": "markdown",
   "metadata": {},
   "source": [
    "6. Locality Sensitive Hashing (LSH)"
   ]
  },
  {
   "cell_type": "code",
   "execution_count": 17,
   "metadata": {},
   "outputs": [
    {
     "name": "stdout",
     "output_type": "stream",
     "text": [
      "K_Shingles: 3\n",
      "Num of candidates found: 482166\n",
      "Took 13.485519170761108 seconds\n",
      "\n",
      "K_Shingles: 5\n",
      "Num of candidates found: 140850\n",
      "Took 1.4490242004394531 seconds\n",
      "\n",
      "K_Shingles: 10\n",
      "Num of candidates found: 2284\n",
      "Took 0.4599769115447998 seconds\n",
      "\n",
      "K_Shingles: 3\n",
      "Num of candidates found: 358133\n",
      "Took 4.422111511230469 seconds\n",
      "\n",
      "K_Shingles: 5\n",
      "Num of candidates found: 21966\n",
      "Took 0.8249967098236084 seconds\n",
      "\n",
      "K_Shingles: 10\n",
      "Num of candidates found: 141\n",
      "Took 0.5249919891357422 seconds\n",
      "\n"
     ]
    }
   ],
   "source": [
    "# get candidate pairs using Local Sensitive Hashing (LSH) with thresholds 0.1 and 0.2\n",
    "list = [(100,2),(125,3)]\n",
    "k_shingles = [3, 5, 10]\n",
    "\n",
    "num_of_similar_items = []\n",
    "times = []\n",
    "\n",
    "for (bands,rows) in list:\n",
    "    nsig = bands*rows  # number of elements in signature, or the number of different random hash functions\n",
    "\n",
    "    maxShingleID = 2**32-1  # record the maximum shingle ID that we assigned\n",
    "    nextPrime = 4294967311  # next prime number after maxShingleID\n",
    "\n",
    "    A = np.random.randint(0, nextPrime, size=(nsig,),dtype=np.int64)\n",
    "    B = np.random.randint(0, nextPrime, size=(nsig,),dtype=np.int64)\n",
    "\n",
    "    for k in k_shingles:\n",
    "        signatures = []  # signatures for all files\n",
    "        for a in abstracts:\n",
    "            shingles = get_shingles(a, k)\n",
    "            signature = minhash_vectorized(shingles, A, B, nextPrime, maxShingleID, nsig)\n",
    "            signatures.append(signature)\n",
    "\n",
    "        # prepare data for LSH\n",
    "        A2 = np.random.randint(0, nextPrime/2, size=(bands, rows),dtype=np.int64)  # now we need a vector of A parameters for each band\n",
    "        B2 = np.random.randint(0, nextPrime/2, size=(bands, ),dtype=np.int64)\n",
    "        signatures = np.array(signatures).T  # LSH needs a matrix of signatures, not a list of vectors\n",
    "\n",
    "        #s = 0.95  # NO similarity threshold, why? The threshold is implicit when we choose the number of rows and the number of bands \n",
    "        Nfiles = signatures.shape[1]  # number of different files\n",
    "        t = time()\n",
    "        candidates = LSH(signatures, bands, rows, A2, B2, nextPrime, maxShingleID)\n",
    "        t1 = time() - t\n",
    "     \n",
    "        print('K_Shingles:', k)        \n",
    "        print('Num of candidates found:', len(candidates))    \n",
    "        print(\"Took {} seconds\\n\".format(t1))     \n",
    "        num_of_similar_items.append(len(candidates))\n",
    "        times.append(t1)  "
   ]
  },
  {
   "cell_type": "code",
   "execution_count": 18,
   "metadata": {},
   "outputs": [
    {
     "data": {
      "image/png": "[encoded data removed]",
      "text/plain": [
       "<Figure size 1368x432 with 2 Axes>"
      ]
     },
     "metadata": {
      "needs_background": "light"
     },
     "output_type": "display_data"
    }
   ],
   "source": [
    "plot_results('LSH', times, num_of_similar_items, objects)"
   ]
  },
  {
   "cell_type": "code",
   "execution_count": 19,
   "metadata": {},
   "outputs": [
    {
     "name": "stdout",
     "output_type": "stream",
     "text": [
      "200 0.1\n",
      "375 0.2\n",
      "180 0.2554364774645177\n"
     ]
    },
    {
     "data": {
      "text/plain": [
       "Text(0.5, 1.0, 'Similarity threshold = 0.25')"
      ]
     },
     "execution_count": 19,
     "metadata": {},
     "output_type": "execute_result"
    },
    {
     "data": {
      "image/png": "[encoded data removed]",
      "text/plain": [
       "<Figure size 720x720 with 3 Axes>"
      ]
     },
     "metadata": {
      "needs_background": "light"
     },
     "output_type": "display_data"
    }
   ],
   "source": [
    "# Plot the selected number of bands and rows to obtain the desired threshold\n",
    "\n",
    "# s = 0.1\n",
    "b1 = 100\n",
    "r1 = 2\n",
    "print(b1*r1, (1.0/b1)**(1.0/r1))\n",
    "\n",
    "# s = 0.2\n",
    "b2 = 125\n",
    "r2 = 3\n",
    "print(b2*r2, (1.0/b2)**(1.0/r2))\n",
    "\n",
    "# s = 0.25\n",
    "b3 = 60\n",
    "r3 = 3\n",
    "print(b3*r3, (1.0/b3)**(1.0/r3))\n",
    "\n",
    "t = np.linspace(0,1,1000)  # just lots of points between 0 and 1 for plotting\n",
    "p1 = 1 - np.power((1 - np.power(t, r1)), b1)  # Formula: p = 1 - (1 - t^r)^b \n",
    "p2 = 1 - np.power((1 - np.power(t, r2)), b2)  # Formula: p = 1 - (1 - t^r)^b \n",
    "p3 = 1 - np.power((1 - np.power(t, r3)), b3)  # Formula: p = 1 - (1 - t^r)^b \n",
    "\n",
    "plt.rcParams[\"figure.figsize\"] = (10,10)\n",
    "\n",
    "fig, axs = plt.subplots(3, sharex=True, sharey=True)\n",
    "axs[0].plot(t,p1)\n",
    "axs[0].set_title('Similarity threshold = 0.1')\n",
    "axs[1].plot(t,p2)\n",
    "axs[1].set_title('Similarity threshold = 0.2')\n",
    "axs[2].plot(t,p3)\n",
    "axs[2].set_title('Similarity threshold = 0.25')"
   ]
  },
  {
   "cell_type": "markdown",
   "metadata": {},
   "source": [
    "7. Comments"
   ]
  },
  {
   "cell_type": "markdown",
   "metadata": {},
   "source": [
    "With these exexcutions we have seen that MinHash and LSH techniques provide an estimate of Jaccard Similarity Coefficient with much fewer computations.\n",
    "\n",
    "LSH performs much faster than the other techniques but also includes more false positives and false negatives."
   ]
  },
  {
   "cell_type": "markdown",
   "metadata": {},
   "source": [
    "<hr>\n",
    "\n",
    "#### 2. Compare the results obtained for MinHash and LSH for different similarity thresholds s = 0.1, 0.2 and 0.25 and 50, 100 and 200 hashing functions. Comment your results."
   ]
  },
  {
   "cell_type": "markdown",
   "metadata": {},
   "source": [
    "Minhashing"
   ]
  },
  {
   "cell_type": "code",
   "execution_count": 22,
   "metadata": {},
   "outputs": [
    {
     "name": "stdout",
     "output_type": "stream",
     "text": [
      "Similarity threshold: 0.1\n",
      "K_Shingles: 3\n",
      "Num of hashing functions: 50\n",
      "Num of candidates found: 488003\n",
      "Took 8.689929723739624 seconds\n",
      "\n",
      "Similarity threshold: 0.1\n",
      "K_Shingles: 5\n",
      "Num of hashing functions: 50\n",
      "Num of candidates found: 103798\n",
      "Took 8.536864757537842 seconds\n",
      "\n",
      "Similarity threshold: 0.1\n",
      "K_Shingles: 10\n",
      "Num of hashing functions: 50\n",
      "Num of candidates found: 98\n",
      "Took 8.444589853286743 seconds\n",
      "\n",
      "Similarity threshold: 0.2\n",
      "K_Shingles: 3\n",
      "Num of hashing functions: 50\n",
      "Num of candidates found: 301300\n",
      "Took 8.630599975585938 seconds\n",
      "\n",
      "Similarity threshold: 0.2\n",
      "K_Shingles: 5\n",
      "Num of hashing functions: 50\n",
      "Num of candidates found: 1001\n",
      "Took 8.4491708278656 seconds\n",
      "\n",
      "Similarity threshold: 0.2\n",
      "K_Shingles: 10\n",
      "Num of hashing functions: 50\n",
      "Num of candidates found: 0\n",
      "Took 8.457028150558472 seconds\n",
      "\n",
      "Similarity threshold: 0.25\n",
      "K_Shingles: 3\n",
      "Num of hashing functions: 50\n",
      "Num of candidates found: 130064\n",
      "Took 8.463310480117798 seconds\n",
      "\n",
      "Similarity threshold: 0.25\n",
      "K_Shingles: 5\n",
      "Num of hashing functions: 50\n",
      "Num of candidates found: 24\n",
      "Took 8.41472864151001 seconds\n",
      "\n",
      "Similarity threshold: 0.25\n",
      "K_Shingles: 10\n",
      "Num of hashing functions: 50\n",
      "Num of candidates found: 0\n",
      "Took 8.506222009658813 seconds\n",
      "\n",
      "Similarity threshold: 0.1\n",
      "K_Shingles: 3\n",
      "Num of hashing functions: 100\n",
      "Num of candidates found: 496793\n",
      "Took 8.68956708908081 seconds\n",
      "\n",
      "Similarity threshold: 0.1\n",
      "K_Shingles: 5\n",
      "Num of hashing functions: 100\n",
      "Num of candidates found: 48282\n",
      "Took 8.457843780517578 seconds\n",
      "\n",
      "Similarity threshold: 0.1\n",
      "K_Shingles: 10\n",
      "Num of hashing functions: 100\n",
      "Num of candidates found: 8\n",
      "Took 8.459787368774414 seconds\n",
      "\n",
      "Similarity threshold: 0.2\n",
      "K_Shingles: 3\n",
      "Num of hashing functions: 100\n",
      "Num of candidates found: 377732\n",
      "Took 8.560331344604492 seconds\n",
      "\n",
      "Similarity threshold: 0.2\n",
      "K_Shingles: 5\n",
      "Num of hashing functions: 100\n",
      "Num of candidates found: 39\n",
      "Took 8.40422797203064 seconds\n",
      "\n",
      "Similarity threshold: 0.2\n",
      "K_Shingles: 10\n",
      "Num of hashing functions: 100\n",
      "Num of candidates found: 0\n",
      "Took 8.39943552017212 seconds\n",
      "\n",
      "Similarity threshold: 0.25\n",
      "K_Shingles: 3\n",
      "Num of hashing functions: 100\n",
      "Num of candidates found: 212998\n",
      "Took 8.567464828491211 seconds\n",
      "\n",
      "Similarity threshold: 0.25\n",
      "K_Shingles: 5\n",
      "Num of hashing functions: 100\n",
      "Num of candidates found: 0\n",
      "Took 8.511009693145752 seconds\n",
      "\n",
      "Similarity threshold: 0.25\n",
      "K_Shingles: 10\n",
      "Num of hashing functions: 100\n",
      "Num of candidates found: 0\n",
      "Took 8.487114191055298 seconds\n",
      "\n",
      "Similarity threshold: 0.1\n",
      "K_Shingles: 3\n",
      "Num of hashing functions: 200\n",
      "Num of candidates found: 496816\n",
      "Took 8.764439105987549 seconds\n",
      "\n",
      "Similarity threshold: 0.1\n",
      "K_Shingles: 5\n",
      "Num of hashing functions: 200\n",
      "Num of candidates found: 28160\n",
      "Took 8.567797660827637 seconds\n",
      "\n",
      "Similarity threshold: 0.1\n",
      "K_Shingles: 10\n",
      "Num of hashing functions: 200\n",
      "Num of candidates found: 2\n",
      "Took 8.555937051773071 seconds\n",
      "\n",
      "Similarity threshold: 0.2\n",
      "K_Shingles: 3\n",
      "Num of hashing functions: 200\n",
      "Num of candidates found: 367549\n",
      "Took 8.85530972480774 seconds\n",
      "\n",
      "Similarity threshold: 0.2\n",
      "K_Shingles: 5\n",
      "Num of hashing functions: 200\n",
      "Num of candidates found: 3\n",
      "Took 8.522864580154419 seconds\n",
      "\n",
      "Similarity threshold: 0.2\n",
      "K_Shingles: 10\n",
      "Num of hashing functions: 200\n",
      "Num of candidates found: 0\n",
      "Took 8.519966840744019 seconds\n",
      "\n",
      "Similarity threshold: 0.25\n",
      "K_Shingles: 3\n",
      "Num of hashing functions: 200\n",
      "Num of candidates found: 169562\n",
      "Took 8.690049171447754 seconds\n",
      "\n",
      "Similarity threshold: 0.25\n",
      "K_Shingles: 5\n",
      "Num of hashing functions: 200\n",
      "Num of candidates found: 0\n",
      "Took 8.497281312942505 seconds\n",
      "\n",
      "Similarity threshold: 0.25\n",
      "K_Shingles: 10\n",
      "Num of hashing functions: 200\n",
      "Num of candidates found: 0\n",
      "Took 8.535901308059692 seconds\n",
      "\n"
     ]
    }
   ],
   "source": [
    "# get candidate pairs using MinHashing\n",
    "# set global parameters to process the whole dataset\n",
    "list = [(10,5),(10,10),(20,10)]\n",
    "similarity_threshold = [0.1, 0.2, 0.25]\n",
    "k_shingles = [3,5,10]\n",
    "\n",
    "labels = []\n",
    "num_of_similar_items = []\n",
    "times = []   \n",
    "\n",
    "for (bands,rows) in list:\n",
    "    nsig = bands*rows           # number of elements in signature, or the number of different random hash functions\n",
    "    maxShingleID = 2**32-1      # record the maximum shingle ID that we assigned\n",
    "    nextPrime = 4294967311      # next prime number after maxShingleID\n",
    "\n",
    "    A = np.random.randint(0, nextPrime, size=(nsig,),dtype=np.int64)\n",
    "    B = np.random.randint(0, nextPrime, size=(nsig,),dtype=np.int64)\n",
    "\n",
    "    for s in similarity_threshold:            \n",
    "        for k in k_shingles:\n",
    "            signatures = []  # signatures for all files\n",
    "        \n",
    "            for a in abstracts:\n",
    "                shingles = get_shingles(a, k)\n",
    "                signature = minhash_vectorized(shingles, A, B, nextPrime, maxShingleID, nsig)\n",
    "                signatures.append(signature)\n",
    "            \n",
    "            Nfiles = len(signatures)\n",
    "        \n",
    "            t = time()\n",
    "            candidates = []\n",
    "            for i in range(Nfiles):\n",
    "                for j in range(i+1, Nfiles):\n",
    "                    Jsim = np.mean(signatures[i] == signatures[j])     # average number of similar items in \n",
    "                    if Jsim >= s:                                      # two vectors, equivalent to Jaccard \n",
    "                        candidates.append((i,j))\n",
    "            t1 = time() - t\n",
    "\n",
    "            print('Similarity threshold:', s)        \n",
    "            print('K_Shingles:', k)\n",
    "            print('Num of hashing functions:', nsig)        \n",
    "            print('Num of candidates found:', len(candidates))             \n",
    "            labels.append('s=' + str(s) + '/' + 'K=' + str(k) + '/H=' + str(nsig))\n",
    "            print(\"Took {} seconds\\n\".format(t1))     \n",
    "\n",
    "            num_of_similar_items.append(len(candidates))\n",
    "            times.append(t1)        "
   ]
  },
  {
   "cell_type": "code",
   "execution_count": 23,
   "metadata": {},
   "outputs": [
    {
     "data": {
      "image/png": "[encoded data removed]",
      "text/plain": [
       "<Figure size 1368x432 with 2 Axes>"
      ]
     },
     "metadata": {
      "needs_background": "light"
     },
     "output_type": "display_data"
    }
   ],
   "source": [
    "plot_results('MinHashing', times, num_of_similar_items, labels)"
   ]
  },
  {
   "cell_type": "markdown",
   "metadata": {},
   "source": [
    "Local Sensitive Hashing (LSH)"
   ]
  },
  {
   "cell_type": "code",
   "execution_count": 24,
   "metadata": {},
   "outputs": [
    {
     "name": "stdout",
     "output_type": "stream",
     "text": [
      "Similarity threshold: 0.1\n",
      "K_Shingles: 3\n",
      "Num of hashing functions: 200\n",
      "Num of candidates found: 488871\n",
      "Took 24.656306982040405 seconds\n",
      "\n",
      "Similarity threshold: 0.1\n",
      "K_Shingles: 5\n",
      "Num of hashing functions: 200\n",
      "Num of candidates found: 149330\n",
      "Took 2.3857364654541016 seconds\n",
      "\n",
      "Similarity threshold: 0.1\n",
      "K_Shingles: 10\n",
      "Num of hashing functions: 200\n",
      "Num of candidates found: 2879\n",
      "Took 0.6750049591064453 seconds\n",
      "\n",
      "Similarity threshold: 0.2\n",
      "K_Shingles: 3\n",
      "Num of hashing functions: 375\n",
      "Num of candidates found: 374473\n",
      "Took 7.853050231933594 seconds\n",
      "\n",
      "Similarity threshold: 0.2\n",
      "K_Shingles: 5\n",
      "Num of hashing functions: 375\n",
      "Num of candidates found: 15188\n",
      "Took 1.0205109119415283 seconds\n",
      "\n",
      "Similarity threshold: 0.2\n",
      "K_Shingles: 10\n",
      "Num of hashing functions: 375\n",
      "Num of candidates found: 61\n",
      "Took 0.780228853225708 seconds\n",
      "\n",
      "Similarity threshold: 0.2554364774645177\n",
      "K_Shingles: 3\n",
      "Num of hashing functions: 180\n",
      "Num of candidates found: 260131\n",
      "Took 3.945794105529785 seconds\n",
      "\n",
      "Similarity threshold: 0.2554364774645177\n",
      "K_Shingles: 5\n",
      "Num of hashing functions: 180\n",
      "Num of candidates found: 6444\n",
      "Took 0.4847421646118164 seconds\n",
      "\n",
      "Similarity threshold: 0.2554364774645177\n",
      "K_Shingles: 10\n",
      "Num of hashing functions: 180\n",
      "Num of candidates found: 17\n",
      "Took 0.4502146244049072 seconds\n",
      "\n"
     ]
    }
   ],
   "source": [
    "list = [(100,2),(125,3),(60,3)]\n",
    "k_shingles = [3, 5, 10]\n",
    "\n",
    "num_of_similar_items = []\n",
    "times = []\n",
    "labels = []\n",
    "\n",
    "for (bands,rows) in list:\n",
    "    nsig = bands*rows           # number of elements in signature, or the number of different random hash functions\n",
    "    s = (1.0/bands)**(1.0/rows) # calculate the threshold\n",
    "    maxShingleID = 2**32-1      # record the maximum shingle ID that we assigned\n",
    "    nextPrime = 4294967311      # next prime number after maxShingleID\n",
    "\n",
    "    A = np.random.randint(0, nextPrime, size=(nsig,),dtype=np.int64)\n",
    "    B = np.random.randint(0, nextPrime, size=(nsig,),dtype=np.int64)\n",
    "\n",
    "\n",
    "    for k in k_shingles:\n",
    "        signatures = []  # signatures for all files\n",
    "        for a in abstracts:\n",
    "            shingles = get_shingles(a, k)\n",
    "            signature = minhash_vectorized(shingles, A, B, nextPrime, maxShingleID, nsig)\n",
    "            signatures.append(signature)\n",
    "\n",
    "        # prepare data for LSH\n",
    "        A2 = np.random.randint(0, nextPrime/2, size=(bands, rows),dtype=np.int64)  # now we need a vector of A parameters for each band\n",
    "        B2 = np.random.randint(0, nextPrime/2, size=(bands, ),dtype=np.int64)\n",
    "        signatures = np.array(signatures).T  # LSH needs a matrix of signatures, not a list of vectors\n",
    "\n",
    "        #s = 0.95  # NO similarity threshold, why? The threshold is implicit when we choose the number of rows (r) and the number of bands (b)\n",
    "        Nfiles = signatures.shape[1]  # number of different files\n",
    "        t = time()\n",
    "        candidates = LSH(signatures, bands, rows, A2, B2, nextPrime, maxShingleID)\n",
    "        t1 = time() - t\n",
    "     \n",
    "        print('Similarity threshold:', s) \n",
    "        print('K_Shingles:', k)  \n",
    "        print('Num of hashing functions:', nsig)       \n",
    "        print('Num of candidates found:', len(candidates))    \n",
    "        print(\"Took {} seconds\\n\".format(t1))     \n",
    "        labels.append('s=' + str(\"{:0.2f}\".format(s)) + '/' + 'K=' + str(k) + '/H=' + str(nsig))\n",
    "        num_of_similar_items.append(len(candidates))\n",
    "        times.append(t1)  "
   ]
  },
  {
   "cell_type": "code",
   "execution_count": 25,
   "metadata": {},
   "outputs": [
    {
     "data": {
      "image/png": "[encoded data removed]",
      "text/plain": [
       "<Figure size 1368x432 with 2 Axes>"
      ]
     },
     "metadata": {
      "needs_background": "light"
     },
     "output_type": "display_data"
    }
   ],
   "source": [
    "plot_results('LSH', times, num_of_similar_items, labels)"
   ]
  },
  {
   "cell_type": "markdown",
   "metadata": {},
   "source": [
    "<hr>\n",
    "\n",
    "#### 3. For MinHashing using 100 hashing functions and s = 0.1 and 0.2, find the Jaccard distances (1-Jaccard similarity) for all possible pairs. Use the obtained values within a k-NN algorithm, and for k=1,3 and, 5 identify the clusters with similar abstracts for each s. Describe the obtained clusters, are they different?. Select randomly at least 5 abstracts per cluster, upon visual inspection, what are the main topics?"
   ]
  }
 ],
 "metadata": {
  "kernelspec": {
   "display_name": "Python 3",
   "language": "python",
   "name": "python3"
  },
  "language_info": {
   "codemirror_mode": {
    "name": "ipython",
    "version": 3
   },
   "file_extension": ".py",
   "mimetype": "text/x-python",
   "name": "python",
   "nbconvert_exporter": "python",
   "pygments_lexer": "ipython3",
   "version": "3.8.12"
  }
 },
 "nbformat": 4,
 "nbformat_minor": 4
}
