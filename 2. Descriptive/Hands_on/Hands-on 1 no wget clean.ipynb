{
 "cells": [
  {
   "cell_type": "code",
   "execution_count": 32,
   "metadata": {},
   "outputs": [],
   "source": [
    "import csv\n",
    "import tensorflow as tf\n",
    "import numpy as np\n",
    "from tensorflow.keras.preprocessing.text import Tokenizer\n",
    "from tensorflow.keras.preprocessing.sequence import pad_sequences\n",
    "\n",
    "# !wget --no-check-certificate \\\n",
    "#     https://storage.googleapis.com/laurencemoroney-blog.appspot.com/bbc-text.csv \\\n",
    "#     -O /tmp/bbc-text.csv"
   ]
  },
  {
   "cell_type": "code",
   "execution_count": 33,
   "metadata": {},
   "outputs": [
    {
     "name": "stdout",
     "output_type": "stream",
     "text": [
      "labels: 2226 ; texts: 2226 \n",
      "\n",
      "           tech 401\n",
      "       business 510\n",
      "       category 1\n",
      "  entertainment 386\n",
      "       politics 417\n",
      "          sport 511\n",
      "\n",
      "label count: 6 \n",
      "\n",
      "business\n",
      "worldcom boss  left books alone  former worldcom boss bernie ebbers  accused overseeing $11bn (£58bn) fraud  never made accounting decisions  witness told jurors  david myers made comments questioning defence lawyers arguing mr ebbers responsible worldcom problems phone company collapsed 2002 prosecutors claim losses hidden protect firm shares mr myers already pleaded guilty fraud assisting prosecutors  monday  defence lawyer reid weingarten tried distance client allegations cross examination  asked mr myers ever knew mr ebbers  make accounting decision    am aware   mr myers replied  ever know mr ebbers make accounting entry worldcom books   mr weingarten pressed    replied witness mr myers admitted ordered false accounting entries request former worldcom chief financial officer scott sullivan defence lawyers trying paint mr sullivan  admitted fraud testify later trial  mastermind behind worldcom accounting house cards  mr ebbers  team  meanwhile  looking portray affable boss  admission pe graduate economist whatever abilities  mr ebbers transformed worldcom relative unknown $160bn telecoms giant investor darling late 1990s worldcom problems mounted  however  competition increased telecoms boom petered firm finally collapsed  shareholders lost $180bn 20 000 workers lost jobs mr ebbers  trial expected last two months found guilty former ceo faces substantial jail sentence firmly declared innocence\n"
     ]
    }
   ],
   "source": [
    "from urllib.request import urlopen\n",
    "import codecs\n",
    "url = 'https://storage.googleapis.com/laurencemoroney-blog.appspot.com/bbc-text.csv'\n",
    "reader = csv.reader(codecs.iterdecode(urlopen(url), 'utf-8'), delimiter=',')\n",
    "\n",
    "texts = []\n",
    "labels = []\n",
    "stopwords = [ \"a\", \"about\", \"above\", \"after\", \"again\", \"against\", \"all\", 'also' \"am\", \"an\", \"and\", \"any\", \"are\",\\\n",
    "             \"as\", \"at\", \"be\", \"because\", \"been\", \"before\", \"being\", \"below\", \"between\", \"both\", \"but\", \\\n",
    "             \"by\", 'can', \"could\", \"did\", \"do\", \"does\", \"doing\", \"down\", \"during\", \"each\", \"few\", \"for\", \"from\", \\\n",
    "             \"further\", \"had\", \"has\", \"have\", \"having\", \"he\", \"he'd\", \"he'll\", \"he's\", \"her\", \"here\", \\\n",
    "             \"here's\", \"hers\", \"herself\", \"him\", \"himself\", \"his\", \"how\", \"how's\", \"i\", \"i'd\", \"i'll\", \\\n",
    "             \"i'm\", \"i've\", \"if\", \"in\", \"into\", \"is\", \"it\", \"it's\", \"its\", \"itself\", \"let's\", \"me\", \"more\", \\\n",
    "             \"most\", \"my\", \"myself\", 'no', 'not', \"nor\", \"of\", \"on\", \"once\", \"only\", \"or\", \"other\", \"ought\", \"our\", \\\n",
    "             \"ours\", \"ourselves\", \"out\", \"over\", \"own\", 's', \"same\", \"she\", \"she'd\", \"she'll\", \"she's\", \"should\",\\\n",
    "             \"so\", \"some\", \"such\", \"than\", \"that\", \"that's\", \"the\", \"their\", \"theirs\", \"them\", \"themselves\", \\\n",
    "             \"then\", \"there\", \"there's\", \"these\", \"they\", \"they'd\", \"they'll\", \"they're\", \"they've\", \\\n",
    "             \"this\", \"those\", \"through\", \"to\", \"too\", \"under\", \"until\", \"up\", \"very\", \"was\", \"we\", \"we'd\", \\\n",
    "             \"we'll\", \"we're\", \"we've\", \"were\", 'will', \"what\", \"what's\", \"when\", \"when's\", \"where\", \"where's\", \\\n",
    "             \"which\", \"while\", \"who\", \"who's\", \"whom\", \"why\", \"why's\", \"with\", \"would\", \"you\", \"you'd\", \\\n",
    "             \"you'll\", \"you're\", \"you've\", \"your\", \"yours\", \"yourself\", \"yourselves\" ]\n",
    "# print(len(stopwords))\n",
    "\n",
    "for row in reader:\n",
    "    labels.append(row[0])\n",
    "    text = row[1]\n",
    "    for word in stopwords:\n",
    "        token = \" \" + word + \" \"\n",
    "        text = text.replace(token.lower(), \" \").replace('.', '')\n",
    "    texts.append(text) \n",
    "    \n",
    "    # YOUR CODE HERE\n",
    "    \n",
    "print('labels:', len(labels), '; texts:', len(texts), '\\n')\n",
    "unique = dict.fromkeys(set(labels), 0)\n",
    "for k in labels:\n",
    "    unique[k] += 1\n",
    "for k, v in unique.items():\n",
    "    print(f\"{k:>15}\", f\"{v}\")\n",
    "print('\\nlabel count:', len(set(labels)), '\\n')\n",
    "\n",
    "print(labels[2])\n",
    "print(texts[2])\n"
   ]
  },
  {
   "cell_type": "code",
   "execution_count": 34,
   "metadata": {},
   "outputs": [],
   "source": [
    "texts.remove(texts[labels.index('category')])\n",
    "labels.remove('category')"
   ]
  },
  {
   "cell_type": "code",
   "execution_count": 35,
   "metadata": {},
   "outputs": [],
   "source": [
    "vocab_size = 1000 \n",
    "embedding_dim = 16\n",
    "max_length =  120 \n",
    "trunc_type = 'post'\n",
    "padding_type = 'post'\n",
    "oov_tok = '<OOV>'\n",
    "training_portion = .8"
   ]
  },
  {
   "cell_type": "code",
   "execution_count": 36,
   "metadata": {},
   "outputs": [
    {
     "name": "stdout",
     "output_type": "stream",
     "text": [
      "1780\n",
      "1780\n",
      "1780\n",
      "445\n",
      "445\n"
     ]
    }
   ],
   "source": [
    "train_size = int(len(texts) * training_portion)# YOUR CODE HERE\n",
    "\n",
    "train_texts = texts[:train_size]\n",
    "train_labels = labels[:train_size]\n",
    "\n",
    "validation_texts = texts[train_size:]\n",
    "validation_labels = labels[train_size:]\n",
    "\n",
    "print(train_size)\n",
    "print(len(train_texts))\n",
    "print(len(train_labels))\n",
    "print(len(validation_texts))\n",
    "print(len(validation_labels))\n"
   ]
  },
  {
   "cell_type": "code",
   "execution_count": 37,
   "metadata": {},
   "outputs": [
    {
     "name": "stdout",
     "output_type": "stream",
     "text": [
      "426\n",
      "120\n",
      "191\n",
      "120\n",
      "186\n",
      "120\n"
     ]
    }
   ],
   "source": [
    "tokenizer = Tokenizer(num_words = vocab_size, oov_token=oov_tok)\n",
    "tokenizer.fit_on_texts(train_texts)\n",
    "word_index = tokenizer.word_index\n",
    "\n",
    "train_sequences = tokenizer.texts_to_sequences(train_texts)\n",
    "train_padded = pad_sequences(train_sequences, padding=padding_type, maxlen=max_length)\n",
    "\n",
    "\n",
    "print(len(train_sequences[0]))\n",
    "print(len(train_padded[0]))\n",
    "\n",
    "print(len(train_sequences[1]))\n",
    "print(len(train_padded[1]))\n",
    "\n",
    "print(len(train_sequences[10]))\n",
    "print(len(train_padded[10]))"
   ]
  },
  {
   "cell_type": "code",
   "execution_count": 38,
   "metadata": {},
   "outputs": [
    {
     "name": "stdout",
     "output_type": "stream",
     "text": [
      "445\n",
      "(445, 120)\n"
     ]
    }
   ],
   "source": [
    "validation_sequences = tokenizer.texts_to_sequences(validation_texts)\n",
    "validation_padded = pad_sequences(validation_sequences, padding=padding_type, maxlen=max_length)\n",
    "\n",
    "print(len(validation_sequences))\n",
    "print(validation_padded.shape)"
   ]
  },
  {
   "cell_type": "code",
   "execution_count": 39,
   "metadata": {},
   "outputs": [
    {
     "name": "stdout",
     "output_type": "stream",
     "text": [
      "[4]\n",
      "[2]\n",
      "[1]\n",
      "(1780, 1)\n",
      "[5]\n",
      "[4]\n",
      "[3]\n",
      "(445, 1)\n"
     ]
    }
   ],
   "source": [
    "label_tokenizer = Tokenizer()\n",
    "label_tokenizer.fit_on_texts(labels)\n",
    "\n",
    "training_label_seq = np.array(label_tokenizer.texts_to_sequences(train_labels))\n",
    "validation_label_seq = np.array(label_tokenizer.texts_to_sequences(validation_labels))\n",
    "\n",
    "print(training_label_seq[0])\n",
    "print(training_label_seq[1])\n",
    "print(training_label_seq[2])\n",
    "print(training_label_seq.shape)\n",
    "\n",
    "print(validation_label_seq[0])\n",
    "print(validation_label_seq[1])\n",
    "print(validation_label_seq[2])\n",
    "print(validation_label_seq.shape)"
   ]
  },
  {
   "cell_type": "code",
   "execution_count": 40,
   "metadata": {},
   "outputs": [
    {
     "name": "stdout",
     "output_type": "stream",
     "text": [
      "Model: \"sequential_3\"\n",
      "_________________________________________________________________\n",
      "Layer (type)                 Output Shape              Param #   \n",
      "=================================================================\n",
      "embedding_3 (Embedding)      (None, 120, 16)           16000     \n",
      "_________________________________________________________________\n",
      "global_average_pooling1d_3 ( (None, 16)                0         \n",
      "_________________________________________________________________\n",
      "dense_6 (Dense)              (None, 24)                408       \n",
      "_________________________________________________________________\n",
      "dense_7 (Dense)              (None, 6)                 150       \n",
      "=================================================================\n",
      "Total params: 16,558\n",
      "Trainable params: 16,558\n",
      "Non-trainable params: 0\n",
      "_________________________________________________________________\n"
     ]
    }
   ],
   "source": [
    "model = tf.keras.Sequential([\n",
    "    tf.keras.layers.Embedding(vocab_size, embedding_dim, input_length=max_length),\n",
    "    tf.keras.layers.GlobalAveragePooling1D(),\n",
    "    tf.keras.layers.Dense(24, activation='relu'),\n",
    "    tf.keras.layers.Dense(6, activation='softmax')\n",
    "])\n",
    "model.compile(loss='sparse_categorical_crossentropy',optimizer='adam',metrics=['accuracy'])\n",
    "model.summary()"
   ]
  },
  {
   "cell_type": "code",
   "execution_count": 41,
   "metadata": {},
   "outputs": [
    {
     "name": "stdout",
     "output_type": "stream",
     "text": [
      "Train on 1780 samples, validate on 445 samples\n",
      "Epoch 1/30\n",
      "1780/1780 - 1s - loss: 1.7643 - accuracy: 0.3904 - val_loss: 1.7220 - val_accuracy: 0.5011\n",
      "Epoch 2/30\n",
      "1780/1780 - 0s - loss: 1.6653 - accuracy: 0.4921 - val_loss: 1.5862 - val_accuracy: 0.4517\n",
      "Epoch 3/30\n",
      "1780/1780 - 0s - loss: 1.4883 - accuracy: 0.4522 - val_loss: 1.3863 - val_accuracy: 0.4517\n",
      "Epoch 4/30\n",
      "1780/1780 - 0s - loss: 1.2721 - accuracy: 0.4528 - val_loss: 1.1929 - val_accuracy: 0.4831\n",
      "Epoch 5/30\n",
      "1780/1780 - 0s - loss: 1.0900 - accuracy: 0.5427 - val_loss: 1.0477 - val_accuracy: 0.6000\n",
      "Epoch 6/30\n",
      "1780/1780 - 0s - loss: 0.9470 - accuracy: 0.6579 - val_loss: 0.9298 - val_accuracy: 0.7056\n",
      "Epoch 7/30\n",
      "1780/1780 - 0s - loss: 0.8217 - accuracy: 0.7573 - val_loss: 0.8230 - val_accuracy: 0.7798\n",
      "Epoch 8/30\n",
      "1780/1780 - 0s - loss: 0.7020 - accuracy: 0.8713 - val_loss: 0.7203 - val_accuracy: 0.8225\n",
      "Epoch 9/30\n",
      "1780/1780 - 0s - loss: 0.5921 - accuracy: 0.8944 - val_loss: 0.6284 - val_accuracy: 0.8539\n",
      "Epoch 10/30\n",
      "1780/1780 - 0s - loss: 0.4963 - accuracy: 0.9242 - val_loss: 0.5469 - val_accuracy: 0.8787\n",
      "Epoch 11/30\n",
      "1780/1780 - 0s - loss: 0.4134 - accuracy: 0.9382 - val_loss: 0.4811 - val_accuracy: 0.8787\n",
      "Epoch 12/30\n",
      "1780/1780 - 0s - loss: 0.3476 - accuracy: 0.9517 - val_loss: 0.4293 - val_accuracy: 0.8854\n",
      "Epoch 13/30\n",
      "1780/1780 - 0s - loss: 0.2963 - accuracy: 0.9551 - val_loss: 0.3885 - val_accuracy: 0.8989\n",
      "Epoch 14/30\n",
      "1780/1780 - 0s - loss: 0.2525 - accuracy: 0.9657 - val_loss: 0.3530 - val_accuracy: 0.9034\n",
      "Epoch 15/30\n",
      "1780/1780 - 0s - loss: 0.2188 - accuracy: 0.9674 - val_loss: 0.3352 - val_accuracy: 0.9011\n",
      "Epoch 16/30\n",
      "1780/1780 - 0s - loss: 0.1898 - accuracy: 0.9697 - val_loss: 0.3096 - val_accuracy: 0.9079\n",
      "Epoch 17/30\n",
      "1780/1780 - 0s - loss: 0.1672 - accuracy: 0.9730 - val_loss: 0.2887 - val_accuracy: 0.9101\n",
      "Epoch 18/30\n",
      "1780/1780 - 0s - loss: 0.1465 - accuracy: 0.9758 - val_loss: 0.2751 - val_accuracy: 0.9124\n",
      "Epoch 19/30\n",
      "1780/1780 - 0s - loss: 0.1302 - accuracy: 0.9775 - val_loss: 0.2640 - val_accuracy: 0.9146\n",
      "Epoch 20/30\n",
      "1780/1780 - 0s - loss: 0.1161 - accuracy: 0.9798 - val_loss: 0.2555 - val_accuracy: 0.9169\n",
      "Epoch 21/30\n",
      "1780/1780 - 0s - loss: 0.1030 - accuracy: 0.9837 - val_loss: 0.2459 - val_accuracy: 0.9191\n",
      "Epoch 22/30\n",
      "1780/1780 - 0s - loss: 0.0927 - accuracy: 0.9860 - val_loss: 0.2420 - val_accuracy: 0.9146\n",
      "Epoch 23/30\n",
      "1780/1780 - 0s - loss: 0.0832 - accuracy: 0.9882 - val_loss: 0.2368 - val_accuracy: 0.9236\n",
      "Epoch 24/30\n",
      "1780/1780 - 0s - loss: 0.0753 - accuracy: 0.9910 - val_loss: 0.2363 - val_accuracy: 0.9191\n",
      "Epoch 25/30\n",
      "1780/1780 - 0s - loss: 0.0683 - accuracy: 0.9927 - val_loss: 0.2284 - val_accuracy: 0.9191\n",
      "Epoch 26/30\n",
      "1780/1780 - 0s - loss: 0.0618 - accuracy: 0.9938 - val_loss: 0.2268 - val_accuracy: 0.9213\n",
      "Epoch 27/30\n",
      "1780/1780 - 0s - loss: 0.0556 - accuracy: 0.9966 - val_loss: 0.2251 - val_accuracy: 0.9124\n",
      "Epoch 28/30\n",
      "1780/1780 - 0s - loss: 0.0508 - accuracy: 0.9966 - val_loss: 0.2225 - val_accuracy: 0.9169\n",
      "Epoch 29/30\n",
      "1780/1780 - 0s - loss: 0.0461 - accuracy: 0.9978 - val_loss: 0.2232 - val_accuracy: 0.9169\n",
      "Epoch 30/30\n",
      "1780/1780 - 0s - loss: 0.0420 - accuracy: 0.9978 - val_loss: 0.2245 - val_accuracy: 0.9236\n"
     ]
    }
   ],
   "source": [
    "num_epochs = 30\n",
    "history = model.fit(train_padded, \n",
    "                    training_label_seq, \n",
    "                    epochs=num_epochs, \n",
    "                    validation_data=(validation_padded, validation_label_seq), \n",
    "                    verbose=2)"
   ]
  },
  {
   "cell_type": "code",
   "execution_count": 42,
   "metadata": {},
   "outputs": [
    {
     "data": {
      "image/png": "[encoded data removed]",
      "text/plain": [
       "<Figure size 432x288 with 1 Axes>"
      ]
     },
     "metadata": {
      "needs_background": "light"
     },
     "output_type": "display_data"
    },
    {
     "data": {
      "image/png": "[encoded data removed]",
      "text/plain": [
       "<Figure size 432x288 with 1 Axes>"
      ]
     },
     "metadata": {
      "needs_background": "light"
     },
     "output_type": "display_data"
    }
   ],
   "source": [
    "import matplotlib.pyplot as plt\n",
    "\n",
    "\n",
    "def plot_graphs(history, string):\n",
    "    plt.plot(history.history[string])\n",
    "    plt.plot(history.history['val_'+string])\n",
    "    plt.xlabel(\"Epochs\")\n",
    "    plt.ylabel(string)\n",
    "    plt.legend([string, 'val_'+string])\n",
    "    plt.show()\n",
    "\n",
    "plot_graphs(history, \"accuracy\")\n",
    "plot_graphs(history, \"loss\")"
   ]
  },
  {
   "cell_type": "code",
   "execution_count": null,
   "metadata": {},
   "outputs": [],
   "source": []
  }
 ],
 "metadata": {
  "kernelspec": {
   "display_name": "Python 3",
   "language": "python",
   "name": "python3"
  },
  "language_info": {
   "codemirror_mode": {
    "name": "ipython",
    "version": 3
   },
   "file_extension": ".py",
   "mimetype": "text/x-python",
   "name": "python",
   "nbconvert_exporter": "python",
   "pygments_lexer": "ipython3",
   "version": "3.7.6"
  }
 },
 "nbformat": 4,
 "nbformat_minor": 4
}
