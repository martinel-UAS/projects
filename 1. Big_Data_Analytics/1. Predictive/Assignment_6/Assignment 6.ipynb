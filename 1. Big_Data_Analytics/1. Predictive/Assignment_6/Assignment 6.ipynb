{
 "cells": [
  {
   "cell_type": "markdown",
   "metadata": {},
   "source": [
    "# Assignment 6\n",
    "1. Use yeast dataset from UCI http://archive.ics.uci.edu/ml/machine-learning-databases/yeast/yeast.data\n",
    "2. Remove the first column and use the last column as the target\n",
    "3. Only leave CYT and VAC classes\n",
    "4. Replace [0.3, 0.5, 0.7] in feature 2 to null\n",
    "5. Replace [0.26, 0.36, 0.64] in feature 3 to null\n",
    "6. Split the data\n",
    "7. Impute the data (or not, it's your call)\n",
    "8. Build a outlier detection model to classify VAC from CYT, i.e. 0 from 1\n",
    "9. Build a classifer using sample augmentation techniques to classify VAC from CYT, i.e. 0 from 1\n",
    "10. Try different methods and hyper parameters\n",
    "\n",
    "11. Report perfromance using F-1 score"
   ]
  },
  {
   "cell_type": "code",
   "execution_count": 1,
   "metadata": {},
   "outputs": [],
   "source": [
    "from sklearn.model_selection import train_test_split\n",
    "from sklearn.metrics import confusion_matrix, accuracy_score, precision_score, recall_score, f1_score\n",
    "from sklearn.impute import KNNImputer\n",
    "from sklearn.preprocessing import StandardScaler\n",
    "from sklearn.tree import DecisionTreeClassifier\n",
    "import seaborn as sns\n",
    "\n",
    "import matplotlib.pyplot as plt\n",
    "import pandas as pd\n",
    "import numpy as np\n",
    "\n",
    "# Import libraries\n",
    "%matplotlib inline\n",
    "\n",
    "plt.rcParams[\"figure.figsize\"] = [16, 9]\n",
    "nan = np.nan\n",
    "\n",
    "def evaluate_model(classifier):\n",
    "    print(\"-\"*50)\n",
    "    print(\"Train Accuracy :\", accuracy_score(y_train, classifier.predict(X_train)))\n",
    "    print(\"Train Precision :\", precision_score(y_train, classifier.predict(X_train)))    \n",
    "    print(\"Train Recall :\", recall_score(y_train, classifier.predict(X_train)))\n",
    "    print(\"Train F1-Score :\", f1_score(y_train, classifier.predict(X_train)))\n",
    "    print(\"Train Confusion Matrix:\")\n",
    "    print(confusion_matrix(y_train, classifier.predict(X_train)))\n",
    "    print(\"-\"*50)\n",
    "    print(\"Test Accuracy :\", accuracy_score(y_test, classifier.predict(X_test)))\n",
    "    print(\"Test Precision :\", precision_score(y_test, classifier.predict(X_test)))    \n",
    "    print(\"Test Recall :\", recall_score(y_test, classifier.predict(X_test)))\n",
    "    print(\"Test F1-Score :\", f1_score(y_test, classifier.predict(X_test)))    \n",
    "    print(\"Test Confusion Matrix:\")\n",
    "    print(confusion_matrix(y_test, classifier.predict(X_test)))"
   ]
  },
  {
   "cell_type": "code",
   "execution_count": 2,
   "metadata": {},
   "outputs": [
    {
     "data": {
      "text/html": [
       "<div>\n",
       "<style scoped>\n",
       "    .dataframe tbody tr th:only-of-type {\n",
       "        vertical-align: middle;\n",
       "    }\n",
       "\n",
       "    .dataframe tbody tr th {\n",
       "        vertical-align: top;\n",
       "    }\n",
       "\n",
       "    .dataframe thead th {\n",
       "        text-align: right;\n",
       "    }\n",
       "</style>\n",
       "<table border=\"1\" class=\"dataframe\">\n",
       "  <thead>\n",
       "    <tr style=\"text-align: right;\">\n",
       "      <th></th>\n",
       "      <th>Sequence Name</th>\n",
       "      <th>mcg</th>\n",
       "      <th>gvh</th>\n",
       "      <th>alm</th>\n",
       "      <th>mit</th>\n",
       "      <th>erl</th>\n",
       "      <th>pox</th>\n",
       "      <th>vac</th>\n",
       "      <th>nuc</th>\n",
       "      <th>label</th>\n",
       "    </tr>\n",
       "  </thead>\n",
       "  <tbody>\n",
       "    <tr>\n",
       "      <th>0</th>\n",
       "      <td>ADT1_YEAST</td>\n",
       "      <td>0.58</td>\n",
       "      <td>0.61</td>\n",
       "      <td>0.47</td>\n",
       "      <td>0.13</td>\n",
       "      <td>0.5</td>\n",
       "      <td>0.0</td>\n",
       "      <td>0.48</td>\n",
       "      <td>0.22</td>\n",
       "      <td>MIT</td>\n",
       "    </tr>\n",
       "    <tr>\n",
       "      <th>1</th>\n",
       "      <td>ADT2_YEAST</td>\n",
       "      <td>0.43</td>\n",
       "      <td>0.67</td>\n",
       "      <td>0.48</td>\n",
       "      <td>0.27</td>\n",
       "      <td>0.5</td>\n",
       "      <td>0.0</td>\n",
       "      <td>0.53</td>\n",
       "      <td>0.22</td>\n",
       "      <td>MIT</td>\n",
       "    </tr>\n",
       "    <tr>\n",
       "      <th>2</th>\n",
       "      <td>ADT3_YEAST</td>\n",
       "      <td>0.64</td>\n",
       "      <td>0.62</td>\n",
       "      <td>0.49</td>\n",
       "      <td>0.15</td>\n",
       "      <td>0.5</td>\n",
       "      <td>0.0</td>\n",
       "      <td>0.53</td>\n",
       "      <td>0.22</td>\n",
       "      <td>MIT</td>\n",
       "    </tr>\n",
       "    <tr>\n",
       "      <th>3</th>\n",
       "      <td>AAR2_YEAST</td>\n",
       "      <td>0.58</td>\n",
       "      <td>0.44</td>\n",
       "      <td>0.57</td>\n",
       "      <td>0.13</td>\n",
       "      <td>0.5</td>\n",
       "      <td>0.0</td>\n",
       "      <td>0.54</td>\n",
       "      <td>0.22</td>\n",
       "      <td>NUC</td>\n",
       "    </tr>\n",
       "    <tr>\n",
       "      <th>4</th>\n",
       "      <td>AATM_YEAST</td>\n",
       "      <td>0.42</td>\n",
       "      <td>0.44</td>\n",
       "      <td>0.48</td>\n",
       "      <td>0.54</td>\n",
       "      <td>0.5</td>\n",
       "      <td>0.0</td>\n",
       "      <td>0.48</td>\n",
       "      <td>0.22</td>\n",
       "      <td>MIT</td>\n",
       "    </tr>\n",
       "    <tr>\n",
       "      <th>...</th>\n",
       "      <td>...</td>\n",
       "      <td>...</td>\n",
       "      <td>...</td>\n",
       "      <td>...</td>\n",
       "      <td>...</td>\n",
       "      <td>...</td>\n",
       "      <td>...</td>\n",
       "      <td>...</td>\n",
       "      <td>...</td>\n",
       "      <td>...</td>\n",
       "    </tr>\n",
       "    <tr>\n",
       "      <th>1479</th>\n",
       "      <td>YUR1_YEAST</td>\n",
       "      <td>0.81</td>\n",
       "      <td>0.62</td>\n",
       "      <td>0.43</td>\n",
       "      <td>0.17</td>\n",
       "      <td>0.5</td>\n",
       "      <td>0.0</td>\n",
       "      <td>0.53</td>\n",
       "      <td>0.22</td>\n",
       "      <td>ME2</td>\n",
       "    </tr>\n",
       "    <tr>\n",
       "      <th>1480</th>\n",
       "      <td>ZIP1_YEAST</td>\n",
       "      <td>0.47</td>\n",
       "      <td>0.43</td>\n",
       "      <td>0.61</td>\n",
       "      <td>0.40</td>\n",
       "      <td>0.5</td>\n",
       "      <td>0.0</td>\n",
       "      <td>0.48</td>\n",
       "      <td>0.47</td>\n",
       "      <td>NUC</td>\n",
       "    </tr>\n",
       "    <tr>\n",
       "      <th>1481</th>\n",
       "      <td>ZNRP_YEAST</td>\n",
       "      <td>0.67</td>\n",
       "      <td>0.57</td>\n",
       "      <td>0.36</td>\n",
       "      <td>0.19</td>\n",
       "      <td>0.5</td>\n",
       "      <td>0.0</td>\n",
       "      <td>0.56</td>\n",
       "      <td>0.22</td>\n",
       "      <td>ME2</td>\n",
       "    </tr>\n",
       "    <tr>\n",
       "      <th>1482</th>\n",
       "      <td>ZUO1_YEAST</td>\n",
       "      <td>0.43</td>\n",
       "      <td>0.40</td>\n",
       "      <td>0.60</td>\n",
       "      <td>0.16</td>\n",
       "      <td>0.5</td>\n",
       "      <td>0.0</td>\n",
       "      <td>0.53</td>\n",
       "      <td>0.39</td>\n",
       "      <td>NUC</td>\n",
       "    </tr>\n",
       "    <tr>\n",
       "      <th>1483</th>\n",
       "      <td>G6PD_YEAST</td>\n",
       "      <td>0.65</td>\n",
       "      <td>0.54</td>\n",
       "      <td>0.54</td>\n",
       "      <td>0.13</td>\n",
       "      <td>0.5</td>\n",
       "      <td>0.0</td>\n",
       "      <td>0.53</td>\n",
       "      <td>0.22</td>\n",
       "      <td>CYT</td>\n",
       "    </tr>\n",
       "  </tbody>\n",
       "</table>\n",
       "<p>1484 rows × 10 columns</p>\n",
       "</div>"
      ],
      "text/plain": [
       "     Sequence Name   mcg   gvh   alm   mit  erl  pox   vac   nuc label\n",
       "0       ADT1_YEAST  0.58  0.61  0.47  0.13  0.5  0.0  0.48  0.22   MIT\n",
       "1       ADT2_YEAST  0.43  0.67  0.48  0.27  0.5  0.0  0.53  0.22   MIT\n",
       "2       ADT3_YEAST  0.64  0.62  0.49  0.15  0.5  0.0  0.53  0.22   MIT\n",
       "3       AAR2_YEAST  0.58  0.44  0.57  0.13  0.5  0.0  0.54  0.22   NUC\n",
       "4       AATM_YEAST  0.42  0.44  0.48  0.54  0.5  0.0  0.48  0.22   MIT\n",
       "...            ...   ...   ...   ...   ...  ...  ...   ...   ...   ...\n",
       "1479    YUR1_YEAST  0.81  0.62  0.43  0.17  0.5  0.0  0.53  0.22   ME2\n",
       "1480    ZIP1_YEAST  0.47  0.43  0.61  0.40  0.5  0.0  0.48  0.47   NUC\n",
       "1481    ZNRP_YEAST  0.67  0.57  0.36  0.19  0.5  0.0  0.56  0.22   ME2\n",
       "1482    ZUO1_YEAST  0.43  0.40  0.60  0.16  0.5  0.0  0.53  0.39   NUC\n",
       "1483    G6PD_YEAST  0.65  0.54  0.54  0.13  0.5  0.0  0.53  0.22   CYT\n",
       "\n",
       "[1484 rows x 10 columns]"
      ]
     },
     "execution_count": 2,
     "metadata": {},
     "output_type": "execute_result"
    }
   ],
   "source": [
    "# Load dataset\n",
    "url = \"https://people.arcada.fi/~martinel/\"\n",
    "names = ['Sequence Name','mcg', 'gvh', 'alm', 'mit', 'erl','pox','vac','nuc', 'label']\n",
    "df = pd.read_csv(url + 'yeast.data', header=None, names=names, delim_whitespace=True)\n",
    "df"
   ]
  },
  {
   "cell_type": "code",
   "execution_count": 3,
   "metadata": {},
   "outputs": [
    {
     "data": {
      "text/plain": [
       "array(['CYT', 'VAC'], dtype=object)"
      ]
     },
     "execution_count": 3,
     "metadata": {},
     "output_type": "execute_result"
    }
   ],
   "source": [
    "# Only leave CYT and VAC classes\n",
    "df = (df.loc[(df['label'] == 'CYT') | (df['label'] == 'VAC')])\n",
    "df.label.unique()"
   ]
  },
  {
   "cell_type": "code",
   "execution_count": 4,
   "metadata": {},
   "outputs": [],
   "source": [
    "# Replace CYT by 0 and VAC by 1 on target variable\n",
    "df = df.replace({'label' : { 'CYT':0, 'VAC':1 }})"
   ]
  },
  {
   "cell_type": "code",
   "execution_count": 5,
   "metadata": {},
   "outputs": [],
   "source": [
    "# Replace [0.3, 0.5, 0.7] in feature 2 to null\n",
    "df = df.replace({'gvh' : { 0.3:nan, 0.5:nan, 0.7:nan }})\n",
    "\n",
    "# Replace [0.26, 0.36, 0.64] in feature 3 to null\n",
    "df = df.replace({'alm' : { 0.26:nan, 0.36:nan, 0.64:nan }})"
   ]
  },
  {
   "cell_type": "code",
   "execution_count": 6,
   "metadata": {},
   "outputs": [
    {
     "data": {
      "text/plain": [
       "Sequence Name     0\n",
       "mcg               0\n",
       "gvh              26\n",
       "alm               5\n",
       "mit               0\n",
       "erl               0\n",
       "pox               0\n",
       "vac               0\n",
       "nuc               0\n",
       "label             0\n",
       "dtype: int64"
      ]
     },
     "execution_count": 6,
     "metadata": {},
     "output_type": "execute_result"
    }
   ],
   "source": [
    "df.isna().sum()"
   ]
  },
  {
   "cell_type": "code",
   "execution_count": 7,
   "metadata": {},
   "outputs": [
    {
     "data": {
      "text/html": [
       "<div>\n",
       "<style scoped>\n",
       "    .dataframe tbody tr th:only-of-type {\n",
       "        vertical-align: middle;\n",
       "    }\n",
       "\n",
       "    .dataframe tbody tr th {\n",
       "        vertical-align: top;\n",
       "    }\n",
       "\n",
       "    .dataframe thead th {\n",
       "        text-align: right;\n",
       "    }\n",
       "</style>\n",
       "<table border=\"1\" class=\"dataframe\">\n",
       "  <thead>\n",
       "    <tr style=\"text-align: right;\">\n",
       "      <th></th>\n",
       "      <th>Sequence Name</th>\n",
       "      <th>mcg</th>\n",
       "      <th>gvh</th>\n",
       "      <th>alm</th>\n",
       "      <th>mit</th>\n",
       "      <th>erl</th>\n",
       "      <th>pox</th>\n",
       "      <th>vac</th>\n",
       "      <th>nuc</th>\n",
       "      <th>label</th>\n",
       "    </tr>\n",
       "  </thead>\n",
       "  <tbody>\n",
       "    <tr>\n",
       "      <th>5</th>\n",
       "      <td>AATC_YEAST</td>\n",
       "      <td>0.51</td>\n",
       "      <td>0.40</td>\n",
       "      <td>0.56</td>\n",
       "      <td>0.17</td>\n",
       "      <td>0.5</td>\n",
       "      <td>0.5</td>\n",
       "      <td>0.49</td>\n",
       "      <td>0.22</td>\n",
       "      <td>0</td>\n",
       "    </tr>\n",
       "    <tr>\n",
       "      <th>9</th>\n",
       "      <td>ABP1_YEAST</td>\n",
       "      <td>0.40</td>\n",
       "      <td>0.39</td>\n",
       "      <td>0.60</td>\n",
       "      <td>0.15</td>\n",
       "      <td>0.5</td>\n",
       "      <td>0.0</td>\n",
       "      <td>0.58</td>\n",
       "      <td>0.30</td>\n",
       "      <td>0</td>\n",
       "    </tr>\n",
       "    <tr>\n",
       "      <th>12</th>\n",
       "      <td>ACH1_YEAST</td>\n",
       "      <td>0.40</td>\n",
       "      <td>0.42</td>\n",
       "      <td>0.57</td>\n",
       "      <td>0.35</td>\n",
       "      <td>0.5</td>\n",
       "      <td>0.0</td>\n",
       "      <td>0.53</td>\n",
       "      <td>0.25</td>\n",
       "      <td>0</td>\n",
       "    </tr>\n",
       "    <tr>\n",
       "      <th>15</th>\n",
       "      <td>ACT_YEAST</td>\n",
       "      <td>0.46</td>\n",
       "      <td>0.44</td>\n",
       "      <td>0.52</td>\n",
       "      <td>0.11</td>\n",
       "      <td>0.5</td>\n",
       "      <td>0.0</td>\n",
       "      <td>0.50</td>\n",
       "      <td>0.22</td>\n",
       "      <td>0</td>\n",
       "    </tr>\n",
       "    <tr>\n",
       "      <th>16</th>\n",
       "      <td>ACT2_YEAST</td>\n",
       "      <td>0.47</td>\n",
       "      <td>0.39</td>\n",
       "      <td>0.50</td>\n",
       "      <td>0.11</td>\n",
       "      <td>0.5</td>\n",
       "      <td>0.0</td>\n",
       "      <td>0.49</td>\n",
       "      <td>0.40</td>\n",
       "      <td>0</td>\n",
       "    </tr>\n",
       "    <tr>\n",
       "      <th>...</th>\n",
       "      <td>...</td>\n",
       "      <td>...</td>\n",
       "      <td>...</td>\n",
       "      <td>...</td>\n",
       "      <td>...</td>\n",
       "      <td>...</td>\n",
       "      <td>...</td>\n",
       "      <td>...</td>\n",
       "      <td>...</td>\n",
       "      <td>...</td>\n",
       "    </tr>\n",
       "    <tr>\n",
       "      <th>1475</th>\n",
       "      <td>YP53_YEAST</td>\n",
       "      <td>0.71</td>\n",
       "      <td>NaN</td>\n",
       "      <td>0.50</td>\n",
       "      <td>0.18</td>\n",
       "      <td>0.5</td>\n",
       "      <td>0.0</td>\n",
       "      <td>0.46</td>\n",
       "      <td>0.22</td>\n",
       "      <td>0</td>\n",
       "    </tr>\n",
       "    <tr>\n",
       "      <th>1476</th>\n",
       "      <td>YPT7_YEAST</td>\n",
       "      <td>0.61</td>\n",
       "      <td>0.48</td>\n",
       "      <td>0.54</td>\n",
       "      <td>0.25</td>\n",
       "      <td>0.5</td>\n",
       "      <td>0.0</td>\n",
       "      <td>0.50</td>\n",
       "      <td>0.22</td>\n",
       "      <td>0</td>\n",
       "    </tr>\n",
       "    <tr>\n",
       "      <th>1477</th>\n",
       "      <td>R29A_YEAST</td>\n",
       "      <td>0.38</td>\n",
       "      <td>0.32</td>\n",
       "      <td>NaN</td>\n",
       "      <td>0.41</td>\n",
       "      <td>0.5</td>\n",
       "      <td>0.0</td>\n",
       "      <td>0.44</td>\n",
       "      <td>0.11</td>\n",
       "      <td>0</td>\n",
       "    </tr>\n",
       "    <tr>\n",
       "      <th>1478</th>\n",
       "      <td>R29B_YEAST</td>\n",
       "      <td>0.38</td>\n",
       "      <td>0.40</td>\n",
       "      <td>0.66</td>\n",
       "      <td>0.35</td>\n",
       "      <td>0.5</td>\n",
       "      <td>0.0</td>\n",
       "      <td>0.43</td>\n",
       "      <td>0.11</td>\n",
       "      <td>0</td>\n",
       "    </tr>\n",
       "    <tr>\n",
       "      <th>1483</th>\n",
       "      <td>G6PD_YEAST</td>\n",
       "      <td>0.65</td>\n",
       "      <td>0.54</td>\n",
       "      <td>0.54</td>\n",
       "      <td>0.13</td>\n",
       "      <td>0.5</td>\n",
       "      <td>0.0</td>\n",
       "      <td>0.53</td>\n",
       "      <td>0.22</td>\n",
       "      <td>0</td>\n",
       "    </tr>\n",
       "  </tbody>\n",
       "</table>\n",
       "<p>493 rows × 10 columns</p>\n",
       "</div>"
      ],
      "text/plain": [
       "     Sequence Name   mcg   gvh   alm   mit  erl  pox   vac   nuc  label\n",
       "5       AATC_YEAST  0.51  0.40  0.56  0.17  0.5  0.5  0.49  0.22      0\n",
       "9       ABP1_YEAST  0.40  0.39  0.60  0.15  0.5  0.0  0.58  0.30      0\n",
       "12      ACH1_YEAST  0.40  0.42  0.57  0.35  0.5  0.0  0.53  0.25      0\n",
       "15       ACT_YEAST  0.46  0.44  0.52  0.11  0.5  0.0  0.50  0.22      0\n",
       "16      ACT2_YEAST  0.47  0.39  0.50  0.11  0.5  0.0  0.49  0.40      0\n",
       "...            ...   ...   ...   ...   ...  ...  ...   ...   ...    ...\n",
       "1475    YP53_YEAST  0.71   NaN  0.50  0.18  0.5  0.0  0.46  0.22      0\n",
       "1476    YPT7_YEAST  0.61  0.48  0.54  0.25  0.5  0.0  0.50  0.22      0\n",
       "1477    R29A_YEAST  0.38  0.32   NaN  0.41  0.5  0.0  0.44  0.11      0\n",
       "1478    R29B_YEAST  0.38  0.40  0.66  0.35  0.5  0.0  0.43  0.11      0\n",
       "1483    G6PD_YEAST  0.65  0.54  0.54  0.13  0.5  0.0  0.53  0.22      0\n",
       "\n",
       "[493 rows x 10 columns]"
      ]
     },
     "execution_count": 7,
     "metadata": {},
     "output_type": "execute_result"
    }
   ],
   "source": [
    "df"
   ]
  },
  {
   "cell_type": "code",
   "execution_count": 8,
   "metadata": {},
   "outputs": [],
   "source": [
    "# Remove the first column and use the last column as the target\n",
    "X = df.iloc[: ,1:9]\n",
    "y = df.iloc[:,-1]\n"
   ]
  },
  {
   "cell_type": "code",
   "execution_count": 9,
   "metadata": {},
   "outputs": [],
   "source": [
    "# Split the data\n",
    "X_train, X_test, y_train, y_test = train_test_split(X, y, test_size=0.2, random_state=0)\n",
    "\n",
    "# Scale data before applying KNNImputer\n",
    "scaler = StandardScaler()\n",
    "X_train = scaler.fit_transform(X_train)\n",
    "X_test = scaler.transform(X_test)\n",
    "\n",
    "# Impute the data (or not, it's your call)\n",
    "imputer = KNNImputer(n_neighbors=2, weights=\"uniform\")\n",
    "X_train = imputer.fit_transform(X_train)\n",
    "X_test = imputer.transform(X_test)"
   ]
  },
  {
   "cell_type": "code",
   "execution_count": 10,
   "metadata": {},
   "outputs": [
    {
     "data": {
      "text/plain": [
       "0    463\n",
       "1     30\n",
       "Name: label, dtype: int64"
      ]
     },
     "execution_count": 10,
     "metadata": {},
     "output_type": "execute_result"
    }
   ],
   "source": [
    "df['label'].value_counts()"
   ]
  },
  {
   "cell_type": "code",
   "execution_count": 11,
   "metadata": {},
   "outputs": [
    {
     "data": {
      "image/png": "[encoded data removed]",
      "text/plain": [
       "<Figure size 1152x648 with 1 Axes>"
      ]
     },
     "metadata": {
      "needs_background": "light"
     },
     "output_type": "display_data"
    }
   ],
   "source": [
    "sns.countplot(x='label', data=df, palette='hls')\n",
    "plt.show()"
   ]
  },
  {
   "cell_type": "code",
   "execution_count": 12,
   "metadata": {},
   "outputs": [
    {
     "data": {
      "text/html": [
       "<div>\n",
       "<style scoped>\n",
       "    .dataframe tbody tr th:only-of-type {\n",
       "        vertical-align: middle;\n",
       "    }\n",
       "\n",
       "    .dataframe tbody tr th {\n",
       "        vertical-align: top;\n",
       "    }\n",
       "\n",
       "    .dataframe thead th {\n",
       "        text-align: right;\n",
       "    }\n",
       "</style>\n",
       "<table border=\"1\" class=\"dataframe\">\n",
       "  <thead>\n",
       "    <tr style=\"text-align: right;\">\n",
       "      <th></th>\n",
       "      <th>mcg</th>\n",
       "      <th>gvh</th>\n",
       "      <th>alm</th>\n",
       "      <th>mit</th>\n",
       "      <th>erl</th>\n",
       "      <th>pox</th>\n",
       "      <th>vac</th>\n",
       "      <th>nuc</th>\n",
       "    </tr>\n",
       "    <tr>\n",
       "      <th>label</th>\n",
       "      <th></th>\n",
       "      <th></th>\n",
       "      <th></th>\n",
       "      <th></th>\n",
       "      <th></th>\n",
       "      <th></th>\n",
       "      <th></th>\n",
       "      <th></th>\n",
       "    </tr>\n",
       "  </thead>\n",
       "  <tbody>\n",
       "    <tr>\n",
       "      <th>0</th>\n",
       "      <td>0.480713</td>\n",
       "      <td>0.469203</td>\n",
       "      <td>0.534510</td>\n",
       "      <td>0.227106</td>\n",
       "      <td>0.50432</td>\n",
       "      <td>0.00108</td>\n",
       "      <td>0.499395</td>\n",
       "      <td>0.257235</td>\n",
       "    </tr>\n",
       "    <tr>\n",
       "      <th>1</th>\n",
       "      <td>0.547667</td>\n",
       "      <td>0.520714</td>\n",
       "      <td>0.472414</td>\n",
       "      <td>0.201000</td>\n",
       "      <td>0.50000</td>\n",
       "      <td>0.00000</td>\n",
       "      <td>0.525000</td>\n",
       "      <td>0.250667</td>\n",
       "    </tr>\n",
       "  </tbody>\n",
       "</table>\n",
       "</div>"
      ],
      "text/plain": [
       "            mcg       gvh       alm       mit      erl      pox       vac  \\\n",
       "label                                                                       \n",
       "0      0.480713  0.469203  0.534510  0.227106  0.50432  0.00108  0.499395   \n",
       "1      0.547667  0.520714  0.472414  0.201000  0.50000  0.00000  0.525000   \n",
       "\n",
       "            nuc  \n",
       "label            \n",
       "0      0.257235  \n",
       "1      0.250667  "
      ]
     },
     "execution_count": 12,
     "metadata": {},
     "output_type": "execute_result"
    }
   ],
   "source": [
    "df.groupby('label').mean()"
   ]
  },
  {
   "cell_type": "code",
   "execution_count": 13,
   "metadata": {},
   "outputs": [
    {
     "name": "stdout",
     "output_type": "stream",
     "text": [
      "Percentage of CYT is 93.91\n",
      "Percentage of VAC is 6.09\n"
     ]
    }
   ],
   "source": [
    "CYT = len(df[df['label']==0])\n",
    "VAC = len(df[df['label']==1])\n",
    "PCT_CYT = CYT/(CYT+VAC)\n",
    "print(f\"Percentage of CYT is {PCT_CYT*100:.2f}\")\n",
    "PCT_VAC = VAC/(CYT+VAC)\n",
    "print(f\"Percentage of VAC is {PCT_VAC*100:.2f}\")"
   ]
  },
  {
   "cell_type": "markdown",
   "metadata": {},
   "source": [
    "Our classes are imbalanced, and the ratio of CYT to VAC is 94:6"
   ]
  },
  {
   "cell_type": "code",
   "execution_count": 15,
   "metadata": {},
   "outputs": [
    {
     "name": "stdout",
     "output_type": "stream",
     "text": [
      "--------------------------------------------------\n",
      "Train Accuracy : 0.9543147208121827\n",
      "Train Precision : 1.0\n",
      "Train Recall : 0.3333333333333333\n",
      "Train F1-Score : 0.5\n",
      "Train Confusion Matrix:\n",
      "[[367   0]\n",
      " [ 18   9]]\n",
      "--------------------------------------------------\n",
      "Test Accuracy : 0.9595959595959596\n",
      "Test Precision : 0.0\n",
      "Test Recall : 0.0\n",
      "Test F1-Score : 0.0\n",
      "Test Confusion Matrix:\n",
      "[[95  1]\n",
      " [ 3  0]]\n"
     ]
    }
   ],
   "source": [
    "# Fit the model\n",
    "model = DecisionTreeClassifier(max_depth=3)\n",
    "model.fit(X_train, y_train)\n",
    "# Evaluate the model\n",
    "evaluate_model(model)"
   ]
  },
  {
   "cell_type": "markdown",
   "metadata": {},
   "source": [
    "# Outlier detection"
   ]
  },
  {
   "cell_type": "code",
   "execution_count": 20,
   "metadata": {},
   "outputs": [
    {
     "name": "stdout",
     "output_type": "stream",
     "text": [
      "F1 Score: 0.667\n"
     ]
    }
   ],
   "source": [
    "from sklearn.metrics import f1_score\n",
    "from sklearn.svm import OneClassSVM\n",
    "\n",
    "# Define outlier detection model\n",
    "model = OneClassSVM(gamma='scale', nu=0.01)\n",
    "\n",
    "# Fit on majority class\n",
    "X_train = X_train[y_train==0]\n",
    "model.fit(X_train)\n",
    "\n",
    "# Detect outliers in the test set\n",
    "y_pred = model.predict(X_test)\n",
    "\n",
    "# Mark inliers 1, outliers -1\n",
    "y_test[y_test == 1] = -1\n",
    "y_test[y_test == 0] = 1\n",
    "\n",
    "# Calculate score\n",
    "score = f1_score(y_test, y_pred, pos_label=-1)\n",
    "print('F1 Score: %.3f' % score)"
   ]
  },
  {
   "cell_type": "markdown",
   "metadata": {},
   "source": [
    "# Undersampling"
   ]
  },
  {
   "cell_type": "code",
   "execution_count": 17,
   "metadata": {},
   "outputs": [
    {
     "name": "stdout",
     "output_type": "stream",
     "text": [
      "Random under-sampling:\n",
      "0    30\n",
      "1    30\n",
      "Name: label, dtype: int64\n"
     ]
    },
    {
     "data": {
      "image/png": "[encoded data removed]",
      "text/plain": [
       "<Figure size 1152x648 with 1 Axes>"
      ]
     },
     "metadata": {
      "needs_background": "light"
     },
     "output_type": "display_data"
    }
   ],
   "source": [
    "# Class count\n",
    "count_class_0, count_class_1 = df.label.value_counts()\n",
    " \n",
    "# Divide by class\n",
    "df_class_0 = df[df['label'] == 0]\n",
    "df_class_1 = df[df['label'] == 1]\n",
    "\n",
    "df_class_0_under = df_class_0.sample(count_class_1)\n",
    "df_test_under = pd.concat([df_class_0_under, df_class_1], axis=0)\n",
    "    \n",
    "print('Random under-sampling:')\n",
    "print(df_test_under.label.value_counts())\n",
    "colors = ['r', 'b']\n",
    "df_test_under.label.value_counts().plot(kind='bar', title='Count (label)',color = colors);"
   ]
  },
  {
   "cell_type": "code",
   "execution_count": 19,
   "metadata": {},
   "outputs": [
    {
     "name": "stdout",
     "output_type": "stream",
     "text": [
      "--------------------------------------------------\n",
      "Train Accuracy : 0.9166666666666666\n",
      "Train Precision : 0.92\n",
      "Train Recall : 0.92\n",
      "Train F1-Score : 0.92\n",
      "Train Confusion Matrix:\n",
      "[[21  2]\n",
      " [ 2 23]]\n",
      "--------------------------------------------------\n",
      "Test Accuracy : 0.3333333333333333\n",
      "Test Precision : 0.2\n",
      "Test Recall : 0.2\n",
      "Test F1-Score : 0.20000000000000004\n",
      "Test Confusion Matrix:\n",
      "[[3 4]\n",
      " [4 1]]\n"
     ]
    }
   ],
   "source": [
    "# Remove the first column and use the last column as the target\n",
    "X = df_test_under.iloc[: ,1:9]\n",
    "y = df_test_under.iloc[:,-1]\n",
    "\n",
    "# Split the data\n",
    "X_train, X_test, y_train, y_test = train_test_split(X, y, test_size=0.2, random_state=0)\n",
    "\n",
    "# Scale data before applying KNNImputer\n",
    "scaler = StandardScaler()\n",
    "X_train = scaler.fit_transform(X_train)\n",
    "X_test = scaler.transform(X_test)\n",
    "\n",
    "# Impute the data (or not, it's your call)\n",
    "imputer = KNNImputer(n_neighbors=2, weights=\"uniform\")\n",
    "X_train = imputer.fit_transform(X_train)\n",
    "X_test = imputer.transform(X_test)\n",
    "\n",
    "# Fit the model\n",
    "model = DecisionTreeClassifier(max_depth=3)\n",
    "model.fit(X_train, y_train)\n",
    "# Evaluate the model\n",
    "evaluate_model(model)"
   ]
  },
  {
   "cell_type": "markdown",
   "metadata": {},
   "source": [
    "# Oversampling"
   ]
  },
  {
   "cell_type": "code",
   "execution_count": 21,
   "metadata": {},
   "outputs": [
    {
     "name": "stdout",
     "output_type": "stream",
     "text": [
      "Random over-sampling:\n",
      "0    463\n",
      "1    463\n",
      "Name: label, dtype: int64\n"
     ]
    },
    {
     "data": {
      "image/png": "[encoded data removed]",
      "text/plain": [
       "<Figure size 1152x648 with 1 Axes>"
      ]
     },
     "metadata": {
      "needs_background": "light"
     },
     "output_type": "display_data"
    }
   ],
   "source": [
    "df_class_1_over = df_class_1.sample(count_class_0, replace=True)\n",
    "df_test_over = pd.concat([df_class_0, df_class_1_over], axis=0)\n",
    "\n",
    "print('Random over-sampling:')\n",
    "print(df_test_over.label.value_counts())\n",
    "colors = ['r', 'b']\n",
    "df_test_over.label.value_counts().plot(kind='bar', title='Count (label)',color = colors);"
   ]
  },
  {
   "cell_type": "code",
   "execution_count": 23,
   "metadata": {},
   "outputs": [
    {
     "name": "stdout",
     "output_type": "stream",
     "text": [
      "--------------------------------------------------\n",
      "Train Accuracy : 0.7891891891891892\n",
      "Train Precision : 0.9372384937238494\n",
      "Train Recall : 0.6136986301369863\n",
      "Train F1-Score : 0.7417218543046359\n",
      "Train Confusion Matrix:\n",
      "[[360  15]\n",
      " [141 224]]\n",
      "--------------------------------------------------\n",
      "Test Accuracy : 0.7204301075268817\n",
      "Test Precision : 0.9259259259259259\n",
      "Test Recall : 0.5102040816326531\n",
      "Test F1-Score : 0.6578947368421053\n",
      "Test Confusion Matrix:\n",
      "[[84  4]\n",
      " [48 50]]\n"
     ]
    }
   ],
   "source": [
    "# Remove the first column and use the last column as the target\n",
    "X = df_test_over.iloc[: ,1:9]\n",
    "y = df_test_over.iloc[:,-1]\n",
    "\n",
    "# Split the data\n",
    "X_train, X_test, y_train, y_test = train_test_split(X, y, test_size=0.2, random_state=0)\n",
    "\n",
    "# Scale data before applying KNNImputer\n",
    "scaler = StandardScaler()\n",
    "X_train = scaler.fit_transform(X_train)\n",
    "X_test = scaler.transform(X_test)\n",
    "\n",
    "# Impute the data (or not, it's your call)\n",
    "imputer = KNNImputer(n_neighbors=2, weights=\"uniform\")\n",
    "X_train = imputer.fit_transform(X_train)\n",
    "X_test = imputer.transform(X_test)\n",
    "\n",
    "# Fit the model\n",
    "model = DecisionTreeClassifier(max_depth=3)\n",
    "model.fit(X_train, y_train)\n",
    "# Evaluate the model\n",
    "evaluate_model(model)"
   ]
  },
  {
   "cell_type": "markdown",
   "metadata": {},
   "source": [
    "# Sample augmentation techniques **imbalanced-learn**"
   ]
  },
  {
   "cell_type": "code",
   "execution_count": 24,
   "metadata": {},
   "outputs": [
    {
     "name": "stdout",
     "output_type": "stream",
     "text": [
      "Requirement already satisfied: imbalanced-learn in c:\\programdata\\anaconda3\\lib\\site-packages (0.8.1)\n",
      "Requirement already satisfied: scikit-learn>=0.24 in c:\\programdata\\anaconda3\\lib\\site-packages (from imbalanced-learn) (0.24.1)\n",
      "Requirement already satisfied: scipy>=0.19.1 in c:\\programdata\\anaconda3\\lib\\site-packages (from imbalanced-learn) (1.6.2)\n",
      "Requirement already satisfied: numpy>=1.13.3 in c:\\programdata\\anaconda3\\lib\\site-packages (from imbalanced-learn) (1.20.1)\n",
      "Requirement already satisfied: joblib>=0.11 in c:\\programdata\\anaconda3\\lib\\site-packages (from imbalanced-learn) (1.0.1)\n",
      "Requirement already satisfied: threadpoolctl>=2.0.0 in c:\\programdata\\anaconda3\\lib\\site-packages (from scikit-learn>=0.24->imbalanced-learn) (2.1.0)\n"
     ]
    }
   ],
   "source": [
    "!pip install -U imbalanced-learn"
   ]
  },
  {
   "cell_type": "code",
   "execution_count": 25,
   "metadata": {},
   "outputs": [],
   "source": [
    "# Load dataset\n",
    "url = \"https://people.arcada.fi/~martinel/\"\n",
    "names = ['Sequence Name','mcg', 'gvh', 'alm', 'mit', 'erl','pox','vac','nuc', 'label']\n",
    "df = pd.read_csv(url + 'yeast.data', header=None, names=names, delim_whitespace=True)\n",
    "\n",
    "# Only leave CYT and VAC classes\n",
    "df = (df.loc[(df['label'] == 'CYT') | (df['label'] == 'VAC')])\n",
    "df.label.unique()\n",
    "\n",
    "# Replace CYT by 0 and VAC by 1 on target variable\n",
    "df = df.replace({'label' : { 'CYT':0, 'VAC':1 }})\n",
    "\n",
    "df.columns = np.arange(10) \n",
    "\n",
    "# Remove the first column and use the last column as the target\n",
    "X = df.iloc[: ,1:9]\n",
    "y = df.iloc[:,-1]\n",
    "\n",
    "# Metrics\n",
    "from sklearn.metrics import recall_score\n",
    "from sklearn.metrics import accuracy_score\n",
    "from sklearn.metrics import precision_score\n",
    "from sklearn.metrics import f1_score\n",
    "\n",
    "from sklearn.tree import DecisionTreeClassifier\n",
    "\n",
    "def classify(X, y):\n",
    "\n",
    "    print(f\"Samples of class 0: {y.shape[0] - np.sum(y)}\")\n",
    "    print(f\"Samples of class 1: {np.sum(y)}\")\n",
    "\n",
    "    # Defines the model to be used\n",
    "    model = DecisionTreeClassifier(max_depth=3)\n",
    "\n",
    "    avg_accuracy = []\n",
    "    avg_precision = []\n",
    "    avg_recall = []\n",
    "    avg_f1score = []\n",
    "\n",
    "    # Split the data\n",
    "    X_train, X_test, y_train, y_test = train_test_split(X, y, test_size=0.2, random_state=0)\n",
    "\n",
    "    # Scale data before applying KNNImputer\n",
    "    scaler = StandardScaler()\n",
    "    X_train = scaler.fit_transform(X_train)\n",
    "    X_test = scaler.transform(X_test)\n",
    "\n",
    "    # Impute the data (or not, it's your call)\n",
    "    imputer = KNNImputer(n_neighbors=2, weights=\"uniform\")\n",
    "    X_train = imputer.fit_transform(X_train)\n",
    "    X_test = imputer.transform(X_test)\n",
    "    \n",
    "    # Train\n",
    "    model.fit(X_train, y_train)\n",
    "\n",
    "    evaluate_model(model)\n",
    "\n",
    "from imblearn.under_sampling import RandomUnderSampler\n",
    "from imblearn.over_sampling import RandomOverSampler\n",
    "from imblearn.over_sampling import SMOTE\n",
    "\n",
    "# Applies DT without fixing the class imbalance problem.\n",
    "def dummy_decision_tree():    \n",
    "    classify(X, y)\n",
    "\n",
    "# Applies Random Undersampling\n",
    "def under_sampler():\n",
    "    rus = RandomUnderSampler()\n",
    "    X_a, y_a = rus.fit_resample(X, y)\n",
    "\n",
    "    classify(X_a, y_a)\n",
    "\n",
    "# Applies Random Oversampling\n",
    "def over_sampler():\n",
    "    ros = RandomOverSampler()\n",
    "    X_b, y_b = ros.fit_resample(X, y)\n",
    "    \n",
    "    classify(X_b, y_b)\n",
    "\n",
    "# Applies Synthetic Data Augmentation through SMOTE\n",
    "def smote():\n",
    "    smote= SMOTE()\n",
    "    X_c, y_c = smote.fit_resample(X, y)\n",
    "    classify(X_c, y_c)    "
   ]
  },
  {
   "cell_type": "code",
   "execution_count": 26,
   "metadata": {},
   "outputs": [
    {
     "name": "stdout",
     "output_type": "stream",
     "text": [
      "Samples of class 0: 463\n",
      "Samples of class 1: 30\n",
      "--------------------------------------------------\n",
      "Train Accuracy : 0.6013513513513513\n",
      "Train Precision : 0.9861111111111112\n",
      "Train Recall : 0.19452054794520549\n",
      "Train F1-Score : 0.32494279176201374\n",
      "Train Confusion Matrix:\n",
      "[[374   1]\n",
      " [294  71]]\n",
      "--------------------------------------------------\n",
      "Test Accuracy : 0.6075268817204301\n",
      "Test Precision : 1.0\n",
      "Test Recall : 0.25510204081632654\n",
      "Test F1-Score : 0.40650406504065045\n",
      "Test Confusion Matrix:\n",
      "[[88  0]\n",
      " [73 25]]\n"
     ]
    }
   ],
   "source": [
    "dummy_decision_tree()"
   ]
  },
  {
   "cell_type": "code",
   "execution_count": 27,
   "metadata": {},
   "outputs": [
    {
     "name": "stdout",
     "output_type": "stream",
     "text": [
      "Samples of class 0: 30\n",
      "Samples of class 1: 30\n",
      "--------------------------------------------------\n",
      "Train Accuracy : 0.7378378378378379\n",
      "Train Precision : 0.8766519823788547\n",
      "Train Recall : 0.5452054794520548\n",
      "Train F1-Score : 0.6722972972972973\n",
      "Train Confusion Matrix:\n",
      "[[347  28]\n",
      " [166 199]]\n",
      "--------------------------------------------------\n",
      "Test Accuracy : 0.6827956989247311\n",
      "Test Precision : 0.8979591836734694\n",
      "Test Recall : 0.4489795918367347\n",
      "Test F1-Score : 0.5986394557823129\n",
      "Test Confusion Matrix:\n",
      "[[83  5]\n",
      " [54 44]]\n"
     ]
    }
   ],
   "source": [
    "under_sampler()"
   ]
  },
  {
   "cell_type": "code",
   "execution_count": 28,
   "metadata": {},
   "outputs": [
    {
     "name": "stdout",
     "output_type": "stream",
     "text": [
      "Samples of class 0: 463\n",
      "Samples of class 1: 463\n",
      "--------------------------------------------------\n",
      "Train Accuracy : 0.7486486486486487\n",
      "Train Precision : 0.770392749244713\n",
      "Train Recall : 0.6986301369863014\n",
      "Train F1-Score : 0.7327586206896552\n",
      "Train Confusion Matrix:\n",
      "[[299  76]\n",
      " [110 255]]\n",
      "--------------------------------------------------\n",
      "Test Accuracy : 0.7956989247311828\n",
      "Test Precision : 0.8571428571428571\n",
      "Test Recall : 0.7346938775510204\n",
      "Test F1-Score : 0.7912087912087913\n",
      "Test Confusion Matrix:\n",
      "[[76 12]\n",
      " [26 72]]\n"
     ]
    }
   ],
   "source": [
    "over_sampler()"
   ]
  },
  {
   "cell_type": "code",
   "execution_count": 29,
   "metadata": {},
   "outputs": [
    {
     "name": "stdout",
     "output_type": "stream",
     "text": [
      "Samples of class 0: 463\n",
      "Samples of class 1: 463\n",
      "--------------------------------------------------\n",
      "Train Accuracy : 0.6391891891891892\n",
      "Train Precision : 0.6069868995633187\n",
      "Train Recall : 0.7616438356164383\n",
      "Train F1-Score : 0.6755771567436208\n",
      "Train Confusion Matrix:\n",
      "[[195 180]\n",
      " [ 87 278]]\n",
      "--------------------------------------------------\n",
      "Test Accuracy : 0.6236559139784946\n",
      "Test Precision : 0.6186440677966102\n",
      "Test Recall : 0.7448979591836735\n",
      "Test F1-Score : 0.675925925925926\n",
      "Test Confusion Matrix:\n",
      "[[43 45]\n",
      " [25 73]]\n"
     ]
    }
   ],
   "source": [
    "smote()"
   ]
  },
  {
   "cell_type": "markdown",
   "metadata": {},
   "source": [
    "# Hyperparameter tuning"
   ]
  },
  {
   "cell_type": "code",
   "execution_count": 30,
   "metadata": {},
   "outputs": [
    {
     "name": "stdout",
     "output_type": "stream",
     "text": [
      "Fitting 4 folds for each of 50 candidates, totalling 200 fits\n"
     ]
    },
    {
     "data": {
      "text/plain": [
       "GridSearchCV(cv=4, estimator=DecisionTreeClassifier(max_depth=3), n_jobs=-1,\n",
       "             param_grid={'criterion': ['gini', 'entropy'],\n",
       "                         'max_depth': [2, 3, 5, 10, 20],\n",
       "                         'min_samples_leaf': [5, 10, 20, 50, 100]},\n",
       "             scoring='f1', verbose=1)"
      ]
     },
     "execution_count": 30,
     "metadata": {},
     "output_type": "execute_result"
    }
   ],
   "source": [
    "from sklearn.model_selection import GridSearchCV\n",
    "# Create the parameter grid based on the results of random search \n",
    "params = {\n",
    "    'max_depth': [2, 3, 5, 10, 20],\n",
    "    'min_samples_leaf': [5, 10, 20, 50, 100],\n",
    "    'criterion': [\"gini\", \"entropy\"]\n",
    "}\n",
    "\n",
    "# Instantiate the grid search model\n",
    "grid_search = GridSearchCV(estimator=model, \n",
    "                           param_grid=params, \n",
    "                           cv=4, n_jobs=-1, verbose=1, scoring = \"f1\")\n",
    "\n",
    "grid_search.fit(X_train, y_train)                           "
   ]
  },
  {
   "cell_type": "code",
   "execution_count": 31,
   "metadata": {},
   "outputs": [
    {
     "data": {
      "text/plain": [
       "DecisionTreeClassifier(criterion='entropy', max_depth=20, min_samples_leaf=5)"
      ]
     },
     "execution_count": 31,
     "metadata": {},
     "output_type": "execute_result"
    }
   ],
   "source": [
    "grid_search.best_estimator_"
   ]
  },
  {
   "cell_type": "code",
   "execution_count": 32,
   "metadata": {},
   "outputs": [
    {
     "name": "stdout",
     "output_type": "stream",
     "text": [
      "--------------------------------------------------\n",
      "Train Accuracy : 0.9743243243243244\n",
      "Train Precision : 0.9505208333333334\n",
      "Train Recall : 1.0\n",
      "Train F1-Score : 0.9746328437917222\n",
      "Train Confusion Matrix:\n",
      "[[356  19]\n",
      " [  0 365]]\n",
      "--------------------------------------------------\n",
      "Test Accuracy : 0.9623655913978495\n",
      "Test Precision : 0.9333333333333333\n",
      "Test Recall : 1.0\n",
      "Test F1-Score : 0.9655172413793104\n",
      "Test Confusion Matrix:\n",
      "[[81  7]\n",
      " [ 0 98]]\n"
     ]
    }
   ],
   "source": [
    "dt_best = grid_search.best_estimator_\n",
    "evaluate_model(dt_best)"
   ]
  }
 ],
 "metadata": {
  "kernelspec": {
   "display_name": "Python 3",
   "language": "python",
   "name": "python3"
  },
  "language_info": {
   "codemirror_mode": {
    "name": "ipython",
    "version": 3
   },
   "file_extension": ".py",
   "mimetype": "text/x-python",
   "name": "python",
   "nbconvert_exporter": "python",
   "pygments_lexer": "ipython3",
   "version": "3.8.8"
  }
 },
 "nbformat": 4,
 "nbformat_minor": 4
}
