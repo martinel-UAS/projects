{
 "cells": [
  {
   "attachments": {},
   "cell_type": "markdown",
   "metadata": {},
   "source": [
    "### Install package"
   ]
  },
  {
   "cell_type": "code",
   "execution_count": 1,
   "metadata": {},
   "outputs": [
    {
     "name": "stdout",
     "output_type": "stream",
     "text": [
      "../0. Not_git/Sources/nbconvert/6.5.2\n"
     ]
    }
   ],
   "source": [
    "import sys\n",
    "import subprocess\n",
    "\n",
    "def install(pkg,path):\n",
    "    return subprocess.check_call([sys.executable, \"-m\", \"pip\", \"install\", pkg,\"--target={}\".format(path)])\n",
    "pkgs = [\n",
    "'nbconvert==6.5.2'\n",
    "#'statsmodels==0.14.0'\n",
    "#'scikit-learn==0.24.2',\n",
    "#'scikit-learn==0.24.1',\n",
    "#'scikit-learn==0.24.0',\n",
    "#'scikit-learn==0.23.2',\n",
    "#'scikit-learn==0.23.1',\n",
    "#'scikit-learn==0.23.0'\n",
    "]\n",
    "base = '../0. Not_git/Sources/'\n",
    "for i in pkgs:\n",
    "    [name,ver] = i.split('==')\n",
    "    path = base+name+'/'+ver\n",
    "    print(path)\n",
    "    install(i, path)"
   ]
  },
  {
   "attachments": {},
   "cell_type": "markdown",
   "metadata": {},
   "source": [
    "### Check PATH variables"
   ]
  },
  {
   "cell_type": "code",
   "execution_count": 2,
   "metadata": {},
   "outputs": [
    {
     "data": {
      "text/plain": [
       "['c:\\\\ProgramData\\\\Anaconda3',\n",
       " 'C:\\\\ProgramData\\\\Anaconda3',\n",
       " 'C:\\\\ProgramData\\\\Anaconda3\\\\Library\\\\mingw-w64\\\\bin',\n",
       " 'C:\\\\ProgramData\\\\Anaconda3\\\\Library\\\\usr\\\\bin',\n",
       " 'C:\\\\ProgramData\\\\Anaconda3\\\\Library\\\\bin',\n",
       " 'C:\\\\ProgramData\\\\Anaconda3\\\\Scripts',\n",
       " 'C:\\\\ProgramData\\\\Anaconda3\\\\bin',\n",
       " 'C:\\\\ProgramData\\\\Anaconda3\\\\condabin',\n",
       " 'C:\\\\Program Files (x86)\\\\Common Files\\\\Lenel Shared\\\\LNVSuite Client Components\\\\7.7',\n",
       " 'C:\\\\Program Files (x86)\\\\Common Files\\\\Lenel',\n",
       " 'C:\\\\ProgramData\\\\Oracle\\\\Java\\\\javapath',\n",
       " 'C:\\\\Windows\\\\system32',\n",
       " 'C:\\\\Windows',\n",
       " 'C:\\\\Windows\\\\System32\\\\Wbem',\n",
       " 'C:\\\\Windows\\\\System32\\\\WindowsPowerShell\\\\v1.0',\n",
       " 'C:\\\\Windows\\\\System32\\\\OpenSSH',\n",
       " 'C:\\\\Program Files\\\\SafeNet\\\\Authentication\\\\SAC\\\\x64',\n",
       " 'C:\\\\Program Files\\\\SafeNet\\\\Authentication\\\\SAC\\\\x32',\n",
       " 'C:\\\\Program Files\\\\Git\\\\cmd',\n",
       " 'C:\\\\ProgramData\\\\Anaconda3\\\\Scripts',\n",
       " 'C:\\\\ProgramData\\\\Anaconda3',\n",
       " 'C:\\\\ProgramData\\\\Anaconda3\\\\Library\\\\bin',\n",
       " 'C:\\\\Program Files (x86)\\\\OnGuard',\n",
       " 'C:\\\\Program Files (x86)\\\\Common Files\\\\Lenel',\n",
       " 'C:\\\\Program Files\\\\Graphviz\\\\bin',\n",
       " 'C:\\\\Program Files (x86)\\\\IDEMIA\\\\AWP\\\\Dlls',\n",
       " 'C:\\\\Program Files\\\\IDEMIA\\\\AWP\\\\Dlls',\n",
       " 'C:\\\\Program Files (x86)\\\\Microsoft SQL Server\\\\150\\\\DTS\\\\Binn',\n",
       " 'C:\\\\Program Files\\\\Azure Data Studio\\\\bin',\n",
       " 'C:\\\\Program Files\\\\AutoFirma\\\\AutoFirma',\n",
       " 'C:\\\\ProgramData\\\\chocolatey\\\\bin',\n",
       " 'C:\\\\Users\\\\ne74255\\\\spark-3.2.1-bin-hadoop3.2\\\\bin',\n",
       " 'C:\\\\Program Files (x86)\\\\Common Files\\\\Lenel Shared\\\\LNVSuite Client Components\\\\7.7',\n",
       " 'C:\\\\Program Files (x86)\\\\Common Files\\\\Lenel',\n",
       " 'C:\\\\ProgramData\\\\Oracle\\\\Java\\\\javapath',\n",
       " 'C:\\\\Windows\\\\system32',\n",
       " 'C:\\\\Windows',\n",
       " 'C:\\\\Windows\\\\System32\\\\Wbem',\n",
       " 'C:\\\\Windows\\\\System32\\\\WindowsPowerShell\\\\v1.0',\n",
       " 'C:\\\\Windows\\\\System32\\\\OpenSSH',\n",
       " 'C:\\\\Program Files\\\\SafeNet\\\\Authentication\\\\SAC\\\\x64',\n",
       " 'C:\\\\Program Files\\\\SafeNet\\\\Authentication\\\\SAC\\\\x32',\n",
       " 'C:\\\\Program Files\\\\Git\\\\cmd',\n",
       " 'C:\\\\ProgramData\\\\Anaconda3\\\\Scripts',\n",
       " 'C:\\\\ProgramData\\\\Anaconda3',\n",
       " 'C:\\\\ProgramData\\\\Anaconda3\\\\Library\\\\bin',\n",
       " 'C:\\\\Program Files (x86)\\\\OnGuard',\n",
       " 'C:\\\\Program Files (x86)\\\\Common Files\\\\Lenel',\n",
       " 'C:\\\\Program Files\\\\Graphviz\\\\bin',\n",
       " 'C:\\\\Users\\\\ne74255\\\\AppData\\\\Local\\\\Microsoft\\\\WindowsApps',\n",
       " 'C:\\\\Users\\\\ne74255\\\\AppData\\\\Local\\\\Programs\\\\Microsoft VS Code\\\\bin',\n",
       " 'C:\\\\Users\\\\ne74255\\\\AppData\\\\Local\\\\Programs\\\\MiKTeX\\\\miktex\\\\bin\\\\x64']"
      ]
     },
     "execution_count": 2,
     "metadata": {},
     "output_type": "execute_result"
    }
   ],
   "source": [
    "import os\n",
    "os.environ['PATH'].split(';')"
   ]
  },
  {
   "attachments": {},
   "cell_type": "markdown",
   "metadata": {},
   "source": [
    "### Add variable to PATH"
   ]
  },
  {
   "cell_type": "code",
   "execution_count": 4,
   "metadata": {},
   "outputs": [
    {
     "name": "stdout",
     "output_type": "stream",
     "text": [
      "0.24.0\n"
     ]
    }
   ],
   "source": [
    "import os\n",
    "import sys\n",
    "sys.path.insert(1,os.path.abspath('../Git_Projects/0. Not_git/Sources/scikit-learn/0.24.0'))"
   ]
  },
  {
   "attachments": {},
   "cell_type": "markdown",
   "metadata": {},
   "source": [
    "### Check package version"
   ]
  },
  {
   "cell_type": "code",
   "execution_count": 3,
   "metadata": {},
   "outputs": [
    {
     "name": "stdout",
     "output_type": "stream",
     "text": [
      "0.13.5\n"
     ]
    }
   ],
   "source": [
    "import statsmodels as k\n",
    "print(k.__version__)"
   ]
  }
 ],
 "metadata": {
  "kernelspec": {
   "display_name": "base",
   "language": "python",
   "name": "python3"
  },
  "language_info": {
   "codemirror_mode": {
    "name": "ipython",
    "version": 3
   },
   "file_extension": ".py",
   "mimetype": "text/x-python",
   "name": "python",
   "nbconvert_exporter": "python",
   "pygments_lexer": "ipython3",
   "version": "3.8.12"
  },
  "orig_nbformat": 4,
  "vscode": {
   "interpreter": {
    "hash": "ad2bdc8ecc057115af97d19610ffacc2b4e99fae6737bb82f5d7fb13d2f2c186"
   }
  }
 },
 "nbformat": 4,
 "nbformat_minor": 2
}
