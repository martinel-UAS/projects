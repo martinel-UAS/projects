{
 "cells": [
  {
   "cell_type": "code",
   "execution_count": 12,
   "metadata": {},
   "outputs": [],
   "source": [
    "import csv\n",
    "import tensorflow as tf\n",
    "import numpy as np\n",
    "from tensorflow.keras.preprocessing.text import Tokenizer\n",
    "from tensorflow.keras.preprocessing.sequence import pad_sequences\n",
    "\n",
    "# !wget --no-check-certificate \\\n",
    "#     https://storage.googleapis.com/laurencemoroney-blog.appspot.com/bbc-text.csv \\\n",
    "#     -O /tmp/bbc-text.csv"
   ]
  },
  {
   "cell_type": "code",
   "execution_count": 2,
   "metadata": {},
   "outputs": [
    {
     "name": "stdout",
     "output_type": "stream",
     "text": [
      "labels: 2226 ; texts: 2226 \n",
      "\n",
      "       category 1\n",
      "  entertainment 386\n",
      "           tech 401\n",
      "          sport 511\n",
      "       business 510\n",
      "       politics 417\n",
      "\n",
      "label count: 6 \n",
      "\n",
      "business\n",
      "worldcom boss  left books alone  former worldcom boss bernie ebbers  accused overseeing $11bn (£58bn) fraud  never made accounting decisions  witness told jurors  david myers made comments questioning defence lawyers arguing mr ebbers responsible worldcom problems phone company collapsed 2002 prosecutors claim losses hidden protect firm shares mr myers already pleaded guilty fraud assisting prosecutors  monday  defence lawyer reid weingarten tried distance client allegations cross examination  asked mr myers ever knew mr ebbers  make accounting decision    am aware   mr myers replied  ever know mr ebbers make accounting entry worldcom books   mr weingarten pressed    replied witness mr myers admitted ordered false accounting entries request former worldcom chief financial officer scott sullivan defence lawyers trying paint mr sullivan  admitted fraud testify later trial  mastermind behind worldcom accounting house cards  mr ebbers  team  meanwhile  looking portray affable boss  admission pe graduate economist whatever abilities  mr ebbers transformed worldcom relative unknown $160bn telecoms giant investor darling late 1990s worldcom problems mounted  however  competition increased telecoms boom petered firm finally collapsed  shareholders lost $180bn 20 000 workers lost jobs mr ebbers  trial expected last two months found guilty former ceo faces substantial jail sentence firmly declared innocence\n"
     ]
    }
   ],
   "source": [
    "from urllib.request import urlopen\n",
    "import codecs\n",
    "url = 'https://storage.googleapis.com/laurencemoroney-blog.appspot.com/bbc-text.csv'\n",
    "reader = csv.reader(codecs.iterdecode(urlopen(url), 'utf-8'), delimiter=',')\n",
    "\n",
    "texts = []\n",
    "labels = []\n",
    "stopwords = [ \"a\", \"about\", \"above\", \"after\", \"again\", \"against\", \"all\", 'also' \"am\", \"an\", \"and\", \"any\", \"are\",\\\n",
    "             \"as\", \"at\", \"be\", \"because\", \"been\", \"before\", \"being\", \"below\", \"between\", \"both\", \"but\", \\\n",
    "             \"by\", 'can', \"could\", \"did\", \"do\", \"does\", \"doing\", \"down\", \"during\", \"each\", \"few\", \"for\", \"from\", \\\n",
    "             \"further\", \"had\", \"has\", \"have\", \"having\", \"he\", \"he'd\", \"he'll\", \"he's\", \"her\", \"here\", \\\n",
    "             \"here's\", \"hers\", \"herself\", \"him\", \"himself\", \"his\", \"how\", \"how's\", \"i\", \"i'd\", \"i'll\", \\\n",
    "             \"i'm\", \"i've\", \"if\", \"in\", \"into\", \"is\", \"it\", \"it's\", \"its\", \"itself\", \"let's\", \"me\", \"more\", \\\n",
    "             \"most\", \"my\", \"myself\", 'no', 'not', \"nor\", \"of\", \"on\", \"once\", \"only\", \"or\", \"other\", \"ought\", \"our\", \\\n",
    "             \"ours\", \"ourselves\", \"out\", \"over\", \"own\", 's', \"same\", \"she\", \"she'd\", \"she'll\", \"she's\", \"should\",\\\n",
    "             \"so\", \"some\", \"such\", \"than\", \"that\", \"that's\", \"the\", \"their\", \"theirs\", \"them\", \"themselves\", \\\n",
    "             \"then\", \"there\", \"there's\", \"these\", \"they\", \"they'd\", \"they'll\", \"they're\", \"they've\", \\\n",
    "             \"this\", \"those\", \"through\", \"to\", \"too\", \"under\", \"until\", \"up\", \"very\", \"was\", \"we\", \"we'd\", \\\n",
    "             \"we'll\", \"we're\", \"we've\", \"were\", 'will', \"what\", \"what's\", \"when\", \"when's\", \"where\", \"where's\", \\\n",
    "             \"which\", \"while\", \"who\", \"who's\", \"whom\", \"why\", \"why's\", \"with\", \"would\", \"you\", \"you'd\", \\\n",
    "             \"you'll\", \"you're\", \"you've\", \"your\", \"yours\", \"yourself\", \"yourselves\" ]\n",
    "# print(len(stopwords))\n",
    "\n",
    "for row in reader:\n",
    "    labels.append(row[0])\n",
    "    text = row[1]\n",
    "    for word in stopwords:\n",
    "        token = \" \" + word + \" \"\n",
    "        text = text.replace(token.lower(), \" \").replace('.', '')\n",
    "    texts.append(text) \n",
    "    \n",
    "    # YOUR CODE HERE\n",
    "    \n",
    "print('labels:', len(labels), '; texts:', len(texts), '\\n')\n",
    "unique = dict.fromkeys(set(labels), 0)\n",
    "for k in labels:\n",
    "    unique[k] += 1\n",
    "for k, v in unique.items():\n",
    "    print(f\"{k:>15}\", f\"{v}\")\n",
    "print('\\nlabel count:', len(set(labels)), '\\n')\n",
    "\n",
    "print(labels[2])\n",
    "print(texts[2])\n"
   ]
  },
  {
   "cell_type": "code",
   "execution_count": 3,
   "metadata": {},
   "outputs": [],
   "source": [
    "texts.remove(texts[labels.index('category')])\n",
    "labels.remove('category')"
   ]
  },
  {
   "cell_type": "code",
   "execution_count": 4,
   "metadata": {},
   "outputs": [],
   "source": [
    "vocab_size = 1000 \n",
    "embedding_dim = 16\n",
    "max_length =  120 \n",
    "trunc_type = 'post'\n",
    "padding_type = 'post'\n",
    "oov_tok = '<OOV>'\n",
    "training_portion = .8"
   ]
  },
  {
   "cell_type": "code",
   "execution_count": 5,
   "metadata": {},
   "outputs": [
    {
     "name": "stdout",
     "output_type": "stream",
     "text": [
      "1780\n",
      "1780\n",
      "1780\n",
      "445\n",
      "445\n"
     ]
    }
   ],
   "source": [
    "train_size = int(len(texts) * training_portion)# YOUR CODE HERE\n",
    "\n",
    "train_texts = texts[:train_size]\n",
    "train_labels = labels[:train_size]\n",
    "\n",
    "validation_texts = texts[train_size:]\n",
    "validation_labels = labels[train_size:]\n",
    "\n",
    "print(train_size)\n",
    "print(len(train_texts))\n",
    "print(len(train_labels))\n",
    "print(len(validation_texts))\n",
    "print(len(validation_labels))\n"
   ]
  },
  {
   "cell_type": "code",
   "execution_count": 6,
   "metadata": {},
   "outputs": [
    {
     "name": "stdout",
     "output_type": "stream",
     "text": [
      "426\n",
      "120\n",
      "191\n",
      "120\n",
      "186\n",
      "120\n"
     ]
    }
   ],
   "source": [
    "tokenizer = Tokenizer(num_words = vocab_size, oov_token=oov_tok)\n",
    "tokenizer.fit_on_texts(train_texts)\n",
    "word_index = tokenizer.word_index\n",
    "\n",
    "train_sequences = tokenizer.texts_to_sequences(train_texts)\n",
    "train_padded = pad_sequences(train_sequences, padding=padding_type, maxlen=max_length)\n",
    "\n",
    "\n",
    "print(len(train_sequences[0]))\n",
    "print(len(train_padded[0]))\n",
    "\n",
    "print(len(train_sequences[1]))\n",
    "print(len(train_padded[1]))\n",
    "\n",
    "print(len(train_sequences[10]))\n",
    "print(len(train_padded[10]))"
   ]
  },
  {
   "cell_type": "code",
   "execution_count": 7,
   "metadata": {},
   "outputs": [
    {
     "name": "stdout",
     "output_type": "stream",
     "text": [
      "445\n",
      "(445, 120)\n"
     ]
    }
   ],
   "source": [
    "validation_sequences = tokenizer.texts_to_sequences(validation_texts)\n",
    "validation_padded = pad_sequences(validation_sequences, padding=padding_type, maxlen=max_length)\n",
    "\n",
    "print(len(validation_sequences))\n",
    "print(validation_padded.shape)"
   ]
  },
  {
   "cell_type": "code",
   "execution_count": 8,
   "metadata": {},
   "outputs": [
    {
     "name": "stdout",
     "output_type": "stream",
     "text": [
      "[4]\n",
      "[2]\n",
      "[1]\n",
      "(1780, 1)\n",
      "[5]\n",
      "[4]\n",
      "[3]\n",
      "(445, 1)\n"
     ]
    }
   ],
   "source": [
    "label_tokenizer = Tokenizer()\n",
    "label_tokenizer.fit_on_texts(labels)\n",
    "\n",
    "training_label_seq = np.array(label_tokenizer.texts_to_sequences(train_labels))\n",
    "validation_label_seq = np.array(label_tokenizer.texts_to_sequences(validation_labels))\n",
    "\n",
    "print(training_label_seq[0])\n",
    "print(training_label_seq[1])\n",
    "print(training_label_seq[2])\n",
    "print(training_label_seq.shape)\n",
    "\n",
    "print(validation_label_seq[0])\n",
    "print(validation_label_seq[1])\n",
    "print(validation_label_seq[2])\n",
    "print(validation_label_seq.shape)"
   ]
  },
  {
   "cell_type": "code",
   "execution_count": 16,
   "metadata": {},
   "outputs": [
    {
     "name": "stdout",
     "output_type": "stream",
     "text": [
      "Model: \"sequential_2\"\n",
      "_________________________________________________________________\n",
      " Layer (type)                Output Shape              Param #   \n",
      "=================================================================\n",
      " embedding_2 (Embedding)     (None, 120, 16)           16000     \n",
      "                                                                 \n",
      " global_average_pooling1d_2   (None, 16)               0         \n",
      " (GlobalAveragePooling1D)                                        \n",
      "                                                                 \n",
      " dense_6 (Dense)             (None, 64)                1088      \n",
      "                                                                 \n",
      " dense_7 (Dense)             (None, 6)                 390       \n",
      "                                                                 \n",
      "=================================================================\n",
      "Total params: 17,478\n",
      "Trainable params: 17,478\n",
      "Non-trainable params: 0\n",
      "_________________________________________________________________\n"
     ]
    }
   ],
   "source": [
    "model = tf.keras.Sequential([\n",
    "    tf.keras.layers.Embedding(vocab_size, embedding_dim, input_length=max_length),\n",
    "    tf.keras.layers.GlobalAveragePooling1D(),\n",
    "    tf.keras.layers.Dense(64, activation='relu'),\n",
    "    tf.keras.layers.Dense(6, activation='softmax')\n",
    "])\n",
    "model.compile(loss='sparse_categorical_crossentropy',optimizer='adam',metrics=['accuracy'])\n",
    "model.summary()"
   ]
  },
  {
   "cell_type": "code",
   "execution_count": 17,
   "metadata": {},
   "outputs": [
    {
     "name": "stdout",
     "output_type": "stream",
     "text": [
      "Epoch 1/30\n",
      "56/56 - 1s - loss: 1.7572 - accuracy: 0.2449 - val_loss: 1.7105 - val_accuracy: 0.3775 - 656ms/epoch - 12ms/step\n",
      "Epoch 2/30\n",
      "56/56 - 0s - loss: 1.6595 - accuracy: 0.2871 - val_loss: 1.6023 - val_accuracy: 0.4225 - 134ms/epoch - 2ms/step\n",
      "Epoch 3/30\n",
      "56/56 - 0s - loss: 1.5347 - accuracy: 0.4410 - val_loss: 1.4685 - val_accuracy: 0.4517 - 152ms/epoch - 3ms/step\n",
      "Epoch 4/30\n",
      "56/56 - 0s - loss: 1.3536 - accuracy: 0.4927 - val_loss: 1.2636 - val_accuracy: 0.5596 - 146ms/epoch - 3ms/step\n",
      "Epoch 5/30\n",
      "56/56 - 0s - loss: 1.1014 - accuracy: 0.6607 - val_loss: 1.0176 - val_accuracy: 0.7191 - 137ms/epoch - 2ms/step\n",
      "Epoch 6/30\n",
      "56/56 - 0s - loss: 0.8567 - accuracy: 0.7663 - val_loss: 0.8135 - val_accuracy: 0.7798 - 133ms/epoch - 2ms/step\n",
      "Epoch 7/30\n",
      "56/56 - 0s - loss: 0.6690 - accuracy: 0.8303 - val_loss: 0.6719 - val_accuracy: 0.8225 - 129ms/epoch - 2ms/step\n",
      "Epoch 8/30\n",
      "56/56 - 0s - loss: 0.5399 - accuracy: 0.8708 - val_loss: 0.5740 - val_accuracy: 0.8337 - 153ms/epoch - 3ms/step\n",
      "Epoch 9/30\n",
      "56/56 - 0s - loss: 0.4447 - accuracy: 0.8983 - val_loss: 0.5039 - val_accuracy: 0.8607 - 133ms/epoch - 2ms/step\n",
      "Epoch 10/30\n",
      "56/56 - 0s - loss: 0.3766 - accuracy: 0.9157 - val_loss: 0.4494 - val_accuracy: 0.8629 - 131ms/epoch - 2ms/step\n",
      "Epoch 11/30\n",
      "56/56 - 0s - loss: 0.3163 - accuracy: 0.9326 - val_loss: 0.4051 - val_accuracy: 0.8674 - 145ms/epoch - 3ms/step\n",
      "Epoch 12/30\n",
      "56/56 - 0s - loss: 0.2678 - accuracy: 0.9438 - val_loss: 0.3629 - val_accuracy: 0.8697 - 139ms/epoch - 2ms/step\n",
      "Epoch 13/30\n",
      "56/56 - 0s - loss: 0.2290 - accuracy: 0.9478 - val_loss: 0.3355 - val_accuracy: 0.8831 - 149ms/epoch - 3ms/step\n",
      "Epoch 14/30\n",
      "56/56 - 0s - loss: 0.1962 - accuracy: 0.9556 - val_loss: 0.3124 - val_accuracy: 0.8944 - 137ms/epoch - 2ms/step\n",
      "Epoch 15/30\n",
      "56/56 - 0s - loss: 0.1687 - accuracy: 0.9680 - val_loss: 0.2929 - val_accuracy: 0.8921 - 138ms/epoch - 2ms/step\n",
      "Epoch 16/30\n",
      "56/56 - 0s - loss: 0.1445 - accuracy: 0.9730 - val_loss: 0.2688 - val_accuracy: 0.9101 - 133ms/epoch - 2ms/step\n",
      "Epoch 17/30\n",
      "56/56 - 0s - loss: 0.1253 - accuracy: 0.9798 - val_loss: 0.2546 - val_accuracy: 0.9079 - 142ms/epoch - 3ms/step\n",
      "Epoch 18/30\n",
      "56/56 - 0s - loss: 0.1095 - accuracy: 0.9809 - val_loss: 0.2396 - val_accuracy: 0.9124 - 134ms/epoch - 2ms/step\n",
      "Epoch 19/30\n",
      "56/56 - 0s - loss: 0.0957 - accuracy: 0.9860 - val_loss: 0.2302 - val_accuracy: 0.9191 - 161ms/epoch - 3ms/step\n",
      "Epoch 20/30\n",
      "56/56 - 0s - loss: 0.0838 - accuracy: 0.9871 - val_loss: 0.2234 - val_accuracy: 0.9146 - 142ms/epoch - 3ms/step\n",
      "Epoch 21/30\n",
      "56/56 - 0s - loss: 0.0736 - accuracy: 0.9904 - val_loss: 0.2133 - val_accuracy: 0.9258 - 164ms/epoch - 3ms/step\n",
      "Epoch 22/30\n",
      "56/56 - 0s - loss: 0.0649 - accuracy: 0.9904 - val_loss: 0.2090 - val_accuracy: 0.9236 - 133ms/epoch - 2ms/step\n",
      "Epoch 23/30\n",
      "56/56 - 0s - loss: 0.0573 - accuracy: 0.9927 - val_loss: 0.2060 - val_accuracy: 0.9258 - 156ms/epoch - 3ms/step\n",
      "Epoch 24/30\n",
      "56/56 - 0s - loss: 0.0507 - accuracy: 0.9949 - val_loss: 0.2026 - val_accuracy: 0.9213 - 121ms/epoch - 2ms/step\n",
      "Epoch 25/30\n",
      "56/56 - 0s - loss: 0.0453 - accuracy: 0.9955 - val_loss: 0.1996 - val_accuracy: 0.9303 - 132ms/epoch - 2ms/step\n",
      "Epoch 26/30\n",
      "56/56 - 0s - loss: 0.0402 - accuracy: 0.9966 - val_loss: 0.1963 - val_accuracy: 0.9258 - 133ms/epoch - 2ms/step\n",
      "Epoch 27/30\n",
      "56/56 - 0s - loss: 0.0352 - accuracy: 0.9972 - val_loss: 0.1937 - val_accuracy: 0.9281 - 131ms/epoch - 2ms/step\n",
      "Epoch 28/30\n",
      "56/56 - 0s - loss: 0.0318 - accuracy: 0.9978 - val_loss: 0.1911 - val_accuracy: 0.9258 - 129ms/epoch - 2ms/step\n",
      "Epoch 29/30\n",
      "56/56 - 0s - loss: 0.0284 - accuracy: 0.9978 - val_loss: 0.1910 - val_accuracy: 0.9258 - 134ms/epoch - 2ms/step\n",
      "Epoch 30/30\n",
      "56/56 - 0s - loss: 0.0251 - accuracy: 0.9994 - val_loss: 0.1915 - val_accuracy: 0.9258 - 136ms/epoch - 2ms/step\n"
     ]
    }
   ],
   "source": [
    "num_epochs = 30\n",
    "history = model.fit(train_padded, \n",
    "                    training_label_seq, \n",
    "                    epochs=num_epochs, \n",
    "                    validation_data=(validation_padded, validation_label_seq), \n",
    "                    verbose=2)"
   ]
  },
  {
   "cell_type": "code",
   "execution_count": 18,
   "metadata": {},
   "outputs": [
    {
     "data": {
      "image/png": "[encoded data removed]",
      "text/plain": [
       "<Figure size 432x288 with 1 Axes>"
      ]
     },
     "metadata": {
      "needs_background": "light"
     },
     "output_type": "display_data"
    },
    {
     "data": {
      "image/png": "[encoded data removed]",
      "text/plain": [
       "<Figure size 432x288 with 1 Axes>"
      ]
     },
     "metadata": {
      "needs_background": "light"
     },
     "output_type": "display_data"
    }
   ],
   "source": [
    "import matplotlib.pyplot as plt\n",
    "\n",
    "\n",
    "def plot_graphs(history, string):\n",
    "    plt.plot(history.history[string])\n",
    "    plt.plot(history.history['val_'+string])\n",
    "    plt.xlabel(\"Epochs\")\n",
    "    plt.ylabel(string)\n",
    "    plt.legend([string, 'val_'+string])\n",
    "    plt.show()\n",
    "\n",
    "plot_graphs(history, \"accuracy\")\n",
    "plot_graphs(history, \"loss\")"
   ]
  },
  {
   "cell_type": "code",
   "execution_count": null,
   "metadata": {},
   "outputs": [],
   "source": []
  },
  {
   "cell_type": "code",
   "execution_count": null,
   "metadata": {},
   "outputs": [],
   "source": []
  }
 ],
 "metadata": {
  "kernelspec": {
   "display_name": "Python 3",
   "language": "python",
   "name": "python3"
  },
  "language_info": {
   "codemirror_mode": {
    "name": "ipython",
    "version": 3
   },
   "file_extension": ".py",
   "mimetype": "text/x-python",
   "name": "python",
   "nbconvert_exporter": "python",
   "pygments_lexer": "ipython3",
   "version": "3.8.8"
  }
 },
 "nbformat": 4,
 "nbformat_minor": 4
}
