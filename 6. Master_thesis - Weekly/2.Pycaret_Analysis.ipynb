{
 "cells": [
  {
   "cell_type": "code",
   "execution_count": 186,
   "metadata": {},
   "outputs": [
    {
     "name": "stdout",
     "output_type": "stream",
     "text": [
      "0.23.2\n"
     ]
    }
   ],
   "source": [
    "import os\n",
    "import sys\n",
    "sys.path.insert(1,os.path.abspath('../Git_Projects/0. Not_git/Sources/scikit-learn/0.23.2'))\n",
    "import sklearn\n",
    "print(sklearn.__version__)"
   ]
  },
  {
   "attachments": {},
   "cell_type": "markdown",
   "metadata": {},
   "source": [
    "### Load Data"
   ]
  },
  {
   "cell_type": "code",
   "execution_count": 6,
   "metadata": {},
   "outputs": [],
   "source": [
    "import pandas as pd\n",
    "\n",
    "# Input path and filename\n",
    "path = 'D:/Git_Projects/5. Master_thesis/Datasets/Output_files/'\n",
    "\n",
    "# Load files into a pandas dataframes\n",
    "file = path + '2.xlsx'\n",
    "df = pd.concat(pd.read_excel(file, sheet_name=None), ignore_index=True)\n",
    "\n",
    "# Dependant variable\n",
    "dep_var = 'Orders' \n",
    "\n",
    "# Set index\n",
    "df = df.set_index(\"Date\")"
   ]
  },
  {
   "cell_type": "code",
   "execution_count": 7,
   "metadata": {},
   "outputs": [
    {
     "data": {
      "text/html": [
       "<div>\n",
       "<style scoped>\n",
       "    .dataframe tbody tr th:only-of-type {\n",
       "        vertical-align: middle;\n",
       "    }\n",
       "\n",
       "    .dataframe tbody tr th {\n",
       "        vertical-align: top;\n",
       "    }\n",
       "\n",
       "    .dataframe thead th {\n",
       "        text-align: right;\n",
       "    }\n",
       "</style>\n",
       "<table border=\"1\" class=\"dataframe\">\n",
       "  <thead>\n",
       "    <tr style=\"text-align: right;\">\n",
       "      <th></th>\n",
       "      <th>Orders</th>\n",
       "      <th>CCI</th>\n",
       "      <th>CPI</th>\n",
       "      <th>Unemployment_rate</th>\n",
       "      <th>Long_term_interest_rates</th>\n",
       "      <th>Avg_Fuel_Price</th>\n",
       "      <th>TIV</th>\n",
       "      <th>Quarter</th>\n",
       "      <th>Month</th>\n",
       "      <th>Orders_lagged_12m</th>\n",
       "      <th>...</th>\n",
       "      <th>Orders_rolled_detrended_diff</th>\n",
       "      <th>CCI_diff</th>\n",
       "      <th>CCI_rolled_detrended</th>\n",
       "      <th>CCI_rolled_detrended_diff</th>\n",
       "      <th>TIV_diff</th>\n",
       "      <th>TIV_rolled_detrended</th>\n",
       "      <th>TIV_rolled_detrended_diff</th>\n",
       "      <th>Avg_Fuel_Price_diff</th>\n",
       "      <th>Avg_Fuel_Price_rolled_detrended</th>\n",
       "      <th>Avg_Fuel_Price_rolled_detrended_diff</th>\n",
       "    </tr>\n",
       "    <tr>\n",
       "      <th>Date</th>\n",
       "      <th></th>\n",
       "      <th></th>\n",
       "      <th></th>\n",
       "      <th></th>\n",
       "      <th></th>\n",
       "      <th></th>\n",
       "      <th></th>\n",
       "      <th></th>\n",
       "      <th></th>\n",
       "      <th></th>\n",
       "      <th></th>\n",
       "      <th></th>\n",
       "      <th></th>\n",
       "      <th></th>\n",
       "      <th></th>\n",
       "      <th></th>\n",
       "      <th></th>\n",
       "      <th></th>\n",
       "      <th></th>\n",
       "      <th></th>\n",
       "      <th></th>\n",
       "    </tr>\n",
       "  </thead>\n",
       "  <tbody>\n",
       "    <tr>\n",
       "      <th>2007-01-01</th>\n",
       "      <td>998</td>\n",
       "      <td>101.06670</td>\n",
       "      <td>2.302302</td>\n",
       "      <td>7.2</td>\n",
       "      <td>4.050000</td>\n",
       "      <td>1.120000</td>\n",
       "      <td>18851</td>\n",
       "      <td>1</td>\n",
       "      <td>1</td>\n",
       "      <td>1124</td>\n",
       "      <td>...</td>\n",
       "      <td>293.500000</td>\n",
       "      <td>NaN</td>\n",
       "      <td>0.362300</td>\n",
       "      <td>NaN</td>\n",
       "      <td>NaN</td>\n",
       "      <td>5547.500000</td>\n",
       "      <td>NaN</td>\n",
       "      <td>NaN</td>\n",
       "      <td>-0.086944</td>\n",
       "      <td>NaN</td>\n",
       "    </tr>\n",
       "    <tr>\n",
       "      <th>2007-02-01</th>\n",
       "      <td>638</td>\n",
       "      <td>100.98060</td>\n",
       "      <td>2.184707</td>\n",
       "      <td>7.2</td>\n",
       "      <td>4.080000</td>\n",
       "      <td>1.133333</td>\n",
       "      <td>11852</td>\n",
       "      <td>1</td>\n",
       "      <td>2</td>\n",
       "      <td>1079</td>\n",
       "      <td>...</td>\n",
       "      <td>-323.250000</td>\n",
       "      <td>-0.08610</td>\n",
       "      <td>0.261283</td>\n",
       "      <td>-0.101017</td>\n",
       "      <td>-6999.0</td>\n",
       "      <td>-1368.750000</td>\n",
       "      <td>-6916.250000</td>\n",
       "      <td>0.013333</td>\n",
       "      <td>-0.069167</td>\n",
       "      <td>0.017778</td>\n",
       "    </tr>\n",
       "    <tr>\n",
       "      <th>2007-03-01</th>\n",
       "      <td>649</td>\n",
       "      <td>100.94160</td>\n",
       "      <td>2.574257</td>\n",
       "      <td>7.1</td>\n",
       "      <td>3.980000</td>\n",
       "      <td>1.183333</td>\n",
       "      <td>14386</td>\n",
       "      <td>1</td>\n",
       "      <td>3</td>\n",
       "      <td>1210</td>\n",
       "      <td>...</td>\n",
       "      <td>57.750000</td>\n",
       "      <td>-0.03900</td>\n",
       "      <td>0.193900</td>\n",
       "      <td>-0.067383</td>\n",
       "      <td>2534.0</td>\n",
       "      <td>1230.000000</td>\n",
       "      <td>2598.750000</td>\n",
       "      <td>0.050000</td>\n",
       "      <td>-0.019444</td>\n",
       "      <td>0.049722</td>\n",
       "    </tr>\n",
       "    <tr>\n",
       "      <th>2007-04-01</th>\n",
       "      <td>753</td>\n",
       "      <td>100.98700</td>\n",
       "      <td>2.561576</td>\n",
       "      <td>6.5</td>\n",
       "      <td>4.200000</td>\n",
       "      <td>1.203333</td>\n",
       "      <td>13761</td>\n",
       "      <td>2</td>\n",
       "      <td>4</td>\n",
       "      <td>1147</td>\n",
       "      <td>...</td>\n",
       "      <td>136.833333</td>\n",
       "      <td>0.04540</td>\n",
       "      <td>0.197258</td>\n",
       "      <td>0.003358</td>\n",
       "      <td>-625.0</td>\n",
       "      <td>580.916667</td>\n",
       "      <td>-649.083333</td>\n",
       "      <td>0.020000</td>\n",
       "      <td>0.003889</td>\n",
       "      <td>0.023333</td>\n",
       "    </tr>\n",
       "    <tr>\n",
       "      <th>2007-05-01</th>\n",
       "      <td>856</td>\n",
       "      <td>100.99110</td>\n",
       "      <td>2.362205</td>\n",
       "      <td>6.6</td>\n",
       "      <td>4.330000</td>\n",
       "      <td>1.236667</td>\n",
       "      <td>14917</td>\n",
       "      <td>2</td>\n",
       "      <td>5</td>\n",
       "      <td>1001</td>\n",
       "      <td>...</td>\n",
       "      <td>115.083333</td>\n",
       "      <td>0.00410</td>\n",
       "      <td>0.166042</td>\n",
       "      <td>-0.031217</td>\n",
       "      <td>1156.0</td>\n",
       "      <td>1870.166667</td>\n",
       "      <td>1289.250000</td>\n",
       "      <td>0.033333</td>\n",
       "      <td>0.039167</td>\n",
       "      <td>0.035278</td>\n",
       "    </tr>\n",
       "    <tr>\n",
       "      <th>...</th>\n",
       "      <td>...</td>\n",
       "      <td>...</td>\n",
       "      <td>...</td>\n",
       "      <td>...</td>\n",
       "      <td>...</td>\n",
       "      <td>...</td>\n",
       "      <td>...</td>\n",
       "      <td>...</td>\n",
       "      <td>...</td>\n",
       "      <td>...</td>\n",
       "      <td>...</td>\n",
       "      <td>...</td>\n",
       "      <td>...</td>\n",
       "      <td>...</td>\n",
       "      <td>...</td>\n",
       "      <td>...</td>\n",
       "      <td>...</td>\n",
       "      <td>...</td>\n",
       "      <td>...</td>\n",
       "      <td>...</td>\n",
       "      <td>...</td>\n",
       "    </tr>\n",
       "    <tr>\n",
       "      <th>2022-08-01</th>\n",
       "      <td>254</td>\n",
       "      <td>94.58021</td>\n",
       "      <td>7.616082</td>\n",
       "      <td>7.2</td>\n",
       "      <td>1.624904</td>\n",
       "      <td>2.153333</td>\n",
       "      <td>8163</td>\n",
       "      <td>3</td>\n",
       "      <td>8</td>\n",
       "      <td>256</td>\n",
       "      <td>...</td>\n",
       "      <td>136.166667</td>\n",
       "      <td>-0.38799</td>\n",
       "      <td>-3.819936</td>\n",
       "      <td>0.283843</td>\n",
       "      <td>2062.0</td>\n",
       "      <td>369.500000</td>\n",
       "      <td>2124.583333</td>\n",
       "      <td>-0.186667</td>\n",
       "      <td>0.086111</td>\n",
       "      <td>-0.225000</td>\n",
       "    </tr>\n",
       "    <tr>\n",
       "      <th>2022-09-01</th>\n",
       "      <td>228</td>\n",
       "      <td>94.10754</td>\n",
       "      <td>8.119296</td>\n",
       "      <td>7.3</td>\n",
       "      <td>2.420836</td>\n",
       "      <td>2.133333</td>\n",
       "      <td>7867</td>\n",
       "      <td>3</td>\n",
       "      <td>9</td>\n",
       "      <td>259</td>\n",
       "      <td>...</td>\n",
       "      <td>-23.416667</td>\n",
       "      <td>-0.47267</td>\n",
       "      <td>-3.595534</td>\n",
       "      <td>0.224402</td>\n",
       "      <td>-296.0</td>\n",
       "      <td>50.750000</td>\n",
       "      <td>-318.750000</td>\n",
       "      <td>-0.020000</td>\n",
       "      <td>0.028333</td>\n",
       "      <td>-0.057778</td>\n",
       "    </tr>\n",
       "    <tr>\n",
       "      <th>2022-10-01</th>\n",
       "      <td>188</td>\n",
       "      <td>93.96142</td>\n",
       "      <td>8.310766</td>\n",
       "      <td>6.4</td>\n",
       "      <td>2.894486</td>\n",
       "      <td>2.136667</td>\n",
       "      <td>7132</td>\n",
       "      <td>4</td>\n",
       "      <td>10</td>\n",
       "      <td>178</td>\n",
       "      <td>...</td>\n",
       "      <td>-40.833333</td>\n",
       "      <td>-0.14612</td>\n",
       "      <td>-3.082147</td>\n",
       "      <td>0.513387</td>\n",
       "      <td>-735.0</td>\n",
       "      <td>-648.916667</td>\n",
       "      <td>-699.666667</td>\n",
       "      <td>0.003333</td>\n",
       "      <td>0.001111</td>\n",
       "      <td>-0.027222</td>\n",
       "    </tr>\n",
       "    <tr>\n",
       "      <th>2022-11-01</th>\n",
       "      <td>204</td>\n",
       "      <td>94.09164</td>\n",
       "      <td>9.138235</td>\n",
       "      <td>6.7</td>\n",
       "      <td>2.691082</td>\n",
       "      <td>2.173333</td>\n",
       "      <td>7337</td>\n",
       "      <td>4</td>\n",
       "      <td>11</td>\n",
       "      <td>379</td>\n",
       "      <td>...</td>\n",
       "      <td>30.583333</td>\n",
       "      <td>0.13022</td>\n",
       "      <td>-2.364689</td>\n",
       "      <td>0.717458</td>\n",
       "      <td>205.0</td>\n",
       "      <td>-423.166667</td>\n",
       "      <td>225.750000</td>\n",
       "      <td>0.036667</td>\n",
       "      <td>0.011111</td>\n",
       "      <td>0.010000</td>\n",
       "    </tr>\n",
       "    <tr>\n",
       "      <th>2022-12-01</th>\n",
       "      <td>370</td>\n",
       "      <td>94.47976</td>\n",
       "      <td>9.145037</td>\n",
       "      <td>7.2</td>\n",
       "      <td>2.706710</td>\n",
       "      <td>1.940000</td>\n",
       "      <td>7248</td>\n",
       "      <td>4</td>\n",
       "      <td>12</td>\n",
       "      <td>256</td>\n",
       "      <td>...</td>\n",
       "      <td>156.500000</td>\n",
       "      <td>0.38812</td>\n",
       "      <td>-1.478749</td>\n",
       "      <td>0.885940</td>\n",
       "      <td>-89.0</td>\n",
       "      <td>-492.916667</td>\n",
       "      <td>-69.750000</td>\n",
       "      <td>-0.233333</td>\n",
       "      <td>-0.234167</td>\n",
       "      <td>-0.245278</td>\n",
       "    </tr>\n",
       "  </tbody>\n",
       "</table>\n",
       "<p>192 rows × 36 columns</p>\n",
       "</div>"
      ],
      "text/plain": [
       "            Orders        CCI       CPI  Unemployment_rate  \\\n",
       "Date                                                         \n",
       "2007-01-01     998  101.06670  2.302302                7.2   \n",
       "2007-02-01     638  100.98060  2.184707                7.2   \n",
       "2007-03-01     649  100.94160  2.574257                7.1   \n",
       "2007-04-01     753  100.98700  2.561576                6.5   \n",
       "2007-05-01     856  100.99110  2.362205                6.6   \n",
       "...            ...        ...       ...                ...   \n",
       "2022-08-01     254   94.58021  7.616082                7.2   \n",
       "2022-09-01     228   94.10754  8.119296                7.3   \n",
       "2022-10-01     188   93.96142  8.310766                6.4   \n",
       "2022-11-01     204   94.09164  9.138235                6.7   \n",
       "2022-12-01     370   94.47976  9.145037                7.2   \n",
       "\n",
       "            Long_term_interest_rates  Avg_Fuel_Price    TIV  Quarter  Month  \\\n",
       "Date                                                                          \n",
       "2007-01-01                  4.050000        1.120000  18851        1      1   \n",
       "2007-02-01                  4.080000        1.133333  11852        1      2   \n",
       "2007-03-01                  3.980000        1.183333  14386        1      3   \n",
       "2007-04-01                  4.200000        1.203333  13761        2      4   \n",
       "2007-05-01                  4.330000        1.236667  14917        2      5   \n",
       "...                              ...             ...    ...      ...    ...   \n",
       "2022-08-01                  1.624904        2.153333   8163        3      8   \n",
       "2022-09-01                  2.420836        2.133333   7867        3      9   \n",
       "2022-10-01                  2.894486        2.136667   7132        4     10   \n",
       "2022-11-01                  2.691082        2.173333   7337        4     11   \n",
       "2022-12-01                  2.706710        1.940000   7248        4     12   \n",
       "\n",
       "            Orders_lagged_12m  ...  Orders_rolled_detrended_diff  CCI_diff  \\\n",
       "Date                           ...                                           \n",
       "2007-01-01               1124  ...                    293.500000       NaN   \n",
       "2007-02-01               1079  ...                   -323.250000  -0.08610   \n",
       "2007-03-01               1210  ...                     57.750000  -0.03900   \n",
       "2007-04-01               1147  ...                    136.833333   0.04540   \n",
       "2007-05-01               1001  ...                    115.083333   0.00410   \n",
       "...                       ...  ...                           ...       ...   \n",
       "2022-08-01                256  ...                    136.166667  -0.38799   \n",
       "2022-09-01                259  ...                    -23.416667  -0.47267   \n",
       "2022-10-01                178  ...                    -40.833333  -0.14612   \n",
       "2022-11-01                379  ...                     30.583333   0.13022   \n",
       "2022-12-01                256  ...                    156.500000   0.38812   \n",
       "\n",
       "            CCI_rolled_detrended  CCI_rolled_detrended_diff  TIV_diff  \\\n",
       "Date                                                                    \n",
       "2007-01-01              0.362300                        NaN       NaN   \n",
       "2007-02-01              0.261283                  -0.101017   -6999.0   \n",
       "2007-03-01              0.193900                  -0.067383    2534.0   \n",
       "2007-04-01              0.197258                   0.003358    -625.0   \n",
       "2007-05-01              0.166042                  -0.031217    1156.0   \n",
       "...                          ...                        ...       ...   \n",
       "2022-08-01             -3.819936                   0.283843    2062.0   \n",
       "2022-09-01             -3.595534                   0.224402    -296.0   \n",
       "2022-10-01             -3.082147                   0.513387    -735.0   \n",
       "2022-11-01             -2.364689                   0.717458     205.0   \n",
       "2022-12-01             -1.478749                   0.885940     -89.0   \n",
       "\n",
       "            TIV_rolled_detrended  TIV_rolled_detrended_diff  \\\n",
       "Date                                                          \n",
       "2007-01-01           5547.500000                        NaN   \n",
       "2007-02-01          -1368.750000               -6916.250000   \n",
       "2007-03-01           1230.000000                2598.750000   \n",
       "2007-04-01            580.916667                -649.083333   \n",
       "2007-05-01           1870.166667                1289.250000   \n",
       "...                          ...                        ...   \n",
       "2022-08-01            369.500000                2124.583333   \n",
       "2022-09-01             50.750000                -318.750000   \n",
       "2022-10-01           -648.916667                -699.666667   \n",
       "2022-11-01           -423.166667                 225.750000   \n",
       "2022-12-01           -492.916667                 -69.750000   \n",
       "\n",
       "            Avg_Fuel_Price_diff  Avg_Fuel_Price_rolled_detrended  \\\n",
       "Date                                                               \n",
       "2007-01-01                  NaN                        -0.086944   \n",
       "2007-02-01             0.013333                        -0.069167   \n",
       "2007-03-01             0.050000                        -0.019444   \n",
       "2007-04-01             0.020000                         0.003889   \n",
       "2007-05-01             0.033333                         0.039167   \n",
       "...                         ...                              ...   \n",
       "2022-08-01            -0.186667                         0.086111   \n",
       "2022-09-01            -0.020000                         0.028333   \n",
       "2022-10-01             0.003333                         0.001111   \n",
       "2022-11-01             0.036667                         0.011111   \n",
       "2022-12-01            -0.233333                        -0.234167   \n",
       "\n",
       "            Avg_Fuel_Price_rolled_detrended_diff  \n",
       "Date                                              \n",
       "2007-01-01                                   NaN  \n",
       "2007-02-01                              0.017778  \n",
       "2007-03-01                              0.049722  \n",
       "2007-04-01                              0.023333  \n",
       "2007-05-01                              0.035278  \n",
       "...                                          ...  \n",
       "2022-08-01                             -0.225000  \n",
       "2022-09-01                             -0.057778  \n",
       "2022-10-01                             -0.027222  \n",
       "2022-11-01                              0.010000  \n",
       "2022-12-01                             -0.245278  \n",
       "\n",
       "[192 rows x 36 columns]"
      ]
     },
     "execution_count": 7,
     "metadata": {},
     "output_type": "execute_result"
    }
   ],
   "source": [
    "df"
   ]
  },
  {
   "attachments": {},
   "cell_type": "markdown",
   "metadata": {},
   "source": [
    "### Split Data"
   ]
  },
  {
   "cell_type": "code",
   "execution_count": 8,
   "metadata": {},
   "outputs": [
    {
     "name": "stdout",
     "output_type": "stream",
     "text": [
      "Dataset length : (n=192)\n",
      "Train dates    : 2007-01-01 00:00:00 --- 2019-12-01 00:00:00  (n=156)\n",
      "Test dates     : 2020-01-01 00:00:00 --- 2022-12-01 00:00:00  (n=36)\n"
     ]
    },
    {
     "data": {
      "text/plain": [
       "(Timestamp('2007-01-01 00:00:00'),\n",
       " Timestamp('2022-12-01 00:00:00'),\n",
       " Timestamp('2020-01-01 00:00:00'))"
      ]
     },
     "execution_count": 8,
     "metadata": {},
     "output_type": "execute_result"
    }
   ],
   "source": [
    "# Split data\n",
    "steps = 36  # Number of months of testing\n",
    "train = df[:-steps]\n",
    "test  = df[-steps:]\n",
    "\n",
    "print(f\"Dataset length : (n={len(df)})\")\n",
    "print(f\"Train dates    : {train.index.min()} --- {train.index.max()}  (n={len(train)})\")\n",
    "print(f\"Test dates     : {test.index.min()} --- {test.index.max()}  (n={len(test)})\")\n",
    "\n",
    "start = train.index.min()\n",
    "end = df.index.max()\n",
    "start_test = test.index.min()\n",
    "\n",
    "start, end, start_test"
   ]
  },
  {
   "attachments": {},
   "cell_type": "markdown",
   "metadata": {},
   "source": [
    "### Pycaret"
   ]
  },
  {
   "cell_type": "code",
   "execution_count": 9,
   "metadata": {},
   "outputs": [],
   "source": [
    "# Import the regression module\n",
    "from pycaret.regression import *"
   ]
  },
  {
   "attachments": {},
   "cell_type": "markdown",
   "metadata": {},
   "source": [
    "#### Initialize"
   ]
  },
  {
   "cell_type": "code",
   "execution_count": 10,
   "metadata": {},
   "outputs": [
    {
     "data": {
      "text/html": [
       "<style type=\"text/css\">\n",
       "#T_40f44_row3_col1, #T_40f44_row42_col1 {\n",
       "  background-color: lightgreen;\n",
       "}\n",
       "</style>\n",
       "<table id=\"T_40f44\">\n",
       "  <thead>\n",
       "    <tr>\n",
       "      <th class=\"blank level0\" >&nbsp;</th>\n",
       "      <th id=\"T_40f44_level0_col0\" class=\"col_heading level0 col0\" >Description</th>\n",
       "      <th id=\"T_40f44_level0_col1\" class=\"col_heading level0 col1\" >Value</th>\n",
       "    </tr>\n",
       "  </thead>\n",
       "  <tbody>\n",
       "    <tr>\n",
       "      <th id=\"T_40f44_level0_row0\" class=\"row_heading level0 row0\" >0</th>\n",
       "      <td id=\"T_40f44_row0_col0\" class=\"data row0 col0\" >session_id</td>\n",
       "      <td id=\"T_40f44_row0_col1\" class=\"data row0 col1\" >42</td>\n",
       "    </tr>\n",
       "    <tr>\n",
       "      <th id=\"T_40f44_level0_row1\" class=\"row_heading level0 row1\" >1</th>\n",
       "      <td id=\"T_40f44_row1_col0\" class=\"data row1 col0\" >Target</td>\n",
       "      <td id=\"T_40f44_row1_col1\" class=\"data row1 col1\" >Orders</td>\n",
       "    </tr>\n",
       "    <tr>\n",
       "      <th id=\"T_40f44_level0_row2\" class=\"row_heading level0 row2\" >2</th>\n",
       "      <td id=\"T_40f44_row2_col0\" class=\"data row2 col0\" >Original Data</td>\n",
       "      <td id=\"T_40f44_row2_col1\" class=\"data row2 col1\" >(156, 36)</td>\n",
       "    </tr>\n",
       "    <tr>\n",
       "      <th id=\"T_40f44_level0_row3\" class=\"row_heading level0 row3\" >3</th>\n",
       "      <td id=\"T_40f44_row3_col0\" class=\"data row3 col0\" >Missing Values</td>\n",
       "      <td id=\"T_40f44_row3_col1\" class=\"data row3 col1\" >1</td>\n",
       "    </tr>\n",
       "    <tr>\n",
       "      <th id=\"T_40f44_level0_row4\" class=\"row_heading level0 row4\" >4</th>\n",
       "      <td id=\"T_40f44_row4_col0\" class=\"data row4 col0\" >Numeric Features</td>\n",
       "      <td id=\"T_40f44_row4_col1\" class=\"data row4 col1\" >33</td>\n",
       "    </tr>\n",
       "    <tr>\n",
       "      <th id=\"T_40f44_level0_row5\" class=\"row_heading level0 row5\" >5</th>\n",
       "      <td id=\"T_40f44_row5_col0\" class=\"data row5 col0\" >Categorical Features</td>\n",
       "      <td id=\"T_40f44_row5_col1\" class=\"data row5 col1\" >2</td>\n",
       "    </tr>\n",
       "    <tr>\n",
       "      <th id=\"T_40f44_level0_row6\" class=\"row_heading level0 row6\" >6</th>\n",
       "      <td id=\"T_40f44_row6_col0\" class=\"data row6 col0\" >Ordinal Features</td>\n",
       "      <td id=\"T_40f44_row6_col1\" class=\"data row6 col1\" >0</td>\n",
       "    </tr>\n",
       "    <tr>\n",
       "      <th id=\"T_40f44_level0_row7\" class=\"row_heading level0 row7\" >7</th>\n",
       "      <td id=\"T_40f44_row7_col0\" class=\"data row7 col0\" >High Cardinality Features</td>\n",
       "      <td id=\"T_40f44_row7_col1\" class=\"data row7 col1\" >0</td>\n",
       "    </tr>\n",
       "    <tr>\n",
       "      <th id=\"T_40f44_level0_row8\" class=\"row_heading level0 row8\" >8</th>\n",
       "      <td id=\"T_40f44_row8_col0\" class=\"data row8 col0\" >High Cardinality Method</td>\n",
       "      <td id=\"T_40f44_row8_col1\" class=\"data row8 col1\" >None</td>\n",
       "    </tr>\n",
       "    <tr>\n",
       "      <th id=\"T_40f44_level0_row9\" class=\"row_heading level0 row9\" >9</th>\n",
       "      <td id=\"T_40f44_row9_col0\" class=\"data row9 col0\" >Transformed Train Set</td>\n",
       "      <td id=\"T_40f44_row9_col1\" class=\"data row9 col1\" >(156, 48)</td>\n",
       "    </tr>\n",
       "    <tr>\n",
       "      <th id=\"T_40f44_level0_row10\" class=\"row_heading level0 row10\" >10</th>\n",
       "      <td id=\"T_40f44_row10_col0\" class=\"data row10 col0\" >Transformed Test Set</td>\n",
       "      <td id=\"T_40f44_row10_col1\" class=\"data row10 col1\" >(36, 48)</td>\n",
       "    </tr>\n",
       "    <tr>\n",
       "      <th id=\"T_40f44_level0_row11\" class=\"row_heading level0 row11\" >11</th>\n",
       "      <td id=\"T_40f44_row11_col0\" class=\"data row11 col0\" >Shuffle Train-Test</td>\n",
       "      <td id=\"T_40f44_row11_col1\" class=\"data row11 col1\" >False</td>\n",
       "    </tr>\n",
       "    <tr>\n",
       "      <th id=\"T_40f44_level0_row12\" class=\"row_heading level0 row12\" >12</th>\n",
       "      <td id=\"T_40f44_row12_col0\" class=\"data row12 col0\" >Stratify Train-Test</td>\n",
       "      <td id=\"T_40f44_row12_col1\" class=\"data row12 col1\" >False</td>\n",
       "    </tr>\n",
       "    <tr>\n",
       "      <th id=\"T_40f44_level0_row13\" class=\"row_heading level0 row13\" >13</th>\n",
       "      <td id=\"T_40f44_row13_col0\" class=\"data row13 col0\" >Fold Generator</td>\n",
       "      <td id=\"T_40f44_row13_col1\" class=\"data row13 col1\" >TimeSeriesSplit</td>\n",
       "    </tr>\n",
       "    <tr>\n",
       "      <th id=\"T_40f44_level0_row14\" class=\"row_heading level0 row14\" >14</th>\n",
       "      <td id=\"T_40f44_row14_col0\" class=\"data row14 col0\" >Fold Number</td>\n",
       "      <td id=\"T_40f44_row14_col1\" class=\"data row14 col1\" >10</td>\n",
       "    </tr>\n",
       "    <tr>\n",
       "      <th id=\"T_40f44_level0_row15\" class=\"row_heading level0 row15\" >15</th>\n",
       "      <td id=\"T_40f44_row15_col0\" class=\"data row15 col0\" >CPU Jobs</td>\n",
       "      <td id=\"T_40f44_row15_col1\" class=\"data row15 col1\" >-1</td>\n",
       "    </tr>\n",
       "    <tr>\n",
       "      <th id=\"T_40f44_level0_row16\" class=\"row_heading level0 row16\" >16</th>\n",
       "      <td id=\"T_40f44_row16_col0\" class=\"data row16 col0\" >Use GPU</td>\n",
       "      <td id=\"T_40f44_row16_col1\" class=\"data row16 col1\" >0</td>\n",
       "    </tr>\n",
       "    <tr>\n",
       "      <th id=\"T_40f44_level0_row17\" class=\"row_heading level0 row17\" >17</th>\n",
       "      <td id=\"T_40f44_row17_col0\" class=\"data row17 col0\" >Log Experiment</td>\n",
       "      <td id=\"T_40f44_row17_col1\" class=\"data row17 col1\" >0</td>\n",
       "    </tr>\n",
       "    <tr>\n",
       "      <th id=\"T_40f44_level0_row18\" class=\"row_heading level0 row18\" >18</th>\n",
       "      <td id=\"T_40f44_row18_col0\" class=\"data row18 col0\" >Experiment Name</td>\n",
       "      <td id=\"T_40f44_row18_col1\" class=\"data row18 col1\" >reg-default-name</td>\n",
       "    </tr>\n",
       "    <tr>\n",
       "      <th id=\"T_40f44_level0_row19\" class=\"row_heading level0 row19\" >19</th>\n",
       "      <td id=\"T_40f44_row19_col0\" class=\"data row19 col0\" >USI</td>\n",
       "      <td id=\"T_40f44_row19_col1\" class=\"data row19 col1\" >1e15</td>\n",
       "    </tr>\n",
       "    <tr>\n",
       "      <th id=\"T_40f44_level0_row20\" class=\"row_heading level0 row20\" >20</th>\n",
       "      <td id=\"T_40f44_row20_col0\" class=\"data row20 col0\" >Imputation Type</td>\n",
       "      <td id=\"T_40f44_row20_col1\" class=\"data row20 col1\" >simple</td>\n",
       "    </tr>\n",
       "    <tr>\n",
       "      <th id=\"T_40f44_level0_row21\" class=\"row_heading level0 row21\" >21</th>\n",
       "      <td id=\"T_40f44_row21_col0\" class=\"data row21 col0\" >Iterative Imputation Iteration</td>\n",
       "      <td id=\"T_40f44_row21_col1\" class=\"data row21 col1\" >None</td>\n",
       "    </tr>\n",
       "    <tr>\n",
       "      <th id=\"T_40f44_level0_row22\" class=\"row_heading level0 row22\" >22</th>\n",
       "      <td id=\"T_40f44_row22_col0\" class=\"data row22 col0\" >Numeric Imputer</td>\n",
       "      <td id=\"T_40f44_row22_col1\" class=\"data row22 col1\" >mean</td>\n",
       "    </tr>\n",
       "    <tr>\n",
       "      <th id=\"T_40f44_level0_row23\" class=\"row_heading level0 row23\" >23</th>\n",
       "      <td id=\"T_40f44_row23_col0\" class=\"data row23 col0\" >Iterative Imputation Numeric Model</td>\n",
       "      <td id=\"T_40f44_row23_col1\" class=\"data row23 col1\" >None</td>\n",
       "    </tr>\n",
       "    <tr>\n",
       "      <th id=\"T_40f44_level0_row24\" class=\"row_heading level0 row24\" >24</th>\n",
       "      <td id=\"T_40f44_row24_col0\" class=\"data row24 col0\" >Categorical Imputer</td>\n",
       "      <td id=\"T_40f44_row24_col1\" class=\"data row24 col1\" >constant</td>\n",
       "    </tr>\n",
       "    <tr>\n",
       "      <th id=\"T_40f44_level0_row25\" class=\"row_heading level0 row25\" >25</th>\n",
       "      <td id=\"T_40f44_row25_col0\" class=\"data row25 col0\" >Iterative Imputation Categorical Model</td>\n",
       "      <td id=\"T_40f44_row25_col1\" class=\"data row25 col1\" >None</td>\n",
       "    </tr>\n",
       "    <tr>\n",
       "      <th id=\"T_40f44_level0_row26\" class=\"row_heading level0 row26\" >26</th>\n",
       "      <td id=\"T_40f44_row26_col0\" class=\"data row26 col0\" >Unknown Categoricals Handling</td>\n",
       "      <td id=\"T_40f44_row26_col1\" class=\"data row26 col1\" >least_frequent</td>\n",
       "    </tr>\n",
       "    <tr>\n",
       "      <th id=\"T_40f44_level0_row27\" class=\"row_heading level0 row27\" >27</th>\n",
       "      <td id=\"T_40f44_row27_col0\" class=\"data row27 col0\" >Normalize</td>\n",
       "      <td id=\"T_40f44_row27_col1\" class=\"data row27 col1\" >0</td>\n",
       "    </tr>\n",
       "    <tr>\n",
       "      <th id=\"T_40f44_level0_row28\" class=\"row_heading level0 row28\" >28</th>\n",
       "      <td id=\"T_40f44_row28_col0\" class=\"data row28 col0\" >Normalize Method</td>\n",
       "      <td id=\"T_40f44_row28_col1\" class=\"data row28 col1\" >None</td>\n",
       "    </tr>\n",
       "    <tr>\n",
       "      <th id=\"T_40f44_level0_row29\" class=\"row_heading level0 row29\" >29</th>\n",
       "      <td id=\"T_40f44_row29_col0\" class=\"data row29 col0\" >Transformation</td>\n",
       "      <td id=\"T_40f44_row29_col1\" class=\"data row29 col1\" >0</td>\n",
       "    </tr>\n",
       "    <tr>\n",
       "      <th id=\"T_40f44_level0_row30\" class=\"row_heading level0 row30\" >30</th>\n",
       "      <td id=\"T_40f44_row30_col0\" class=\"data row30 col0\" >Transformation Method</td>\n",
       "      <td id=\"T_40f44_row30_col1\" class=\"data row30 col1\" >None</td>\n",
       "    </tr>\n",
       "    <tr>\n",
       "      <th id=\"T_40f44_level0_row31\" class=\"row_heading level0 row31\" >31</th>\n",
       "      <td id=\"T_40f44_row31_col0\" class=\"data row31 col0\" >PCA</td>\n",
       "      <td id=\"T_40f44_row31_col1\" class=\"data row31 col1\" >0</td>\n",
       "    </tr>\n",
       "    <tr>\n",
       "      <th id=\"T_40f44_level0_row32\" class=\"row_heading level0 row32\" >32</th>\n",
       "      <td id=\"T_40f44_row32_col0\" class=\"data row32 col0\" >PCA Method</td>\n",
       "      <td id=\"T_40f44_row32_col1\" class=\"data row32 col1\" >None</td>\n",
       "    </tr>\n",
       "    <tr>\n",
       "      <th id=\"T_40f44_level0_row33\" class=\"row_heading level0 row33\" >33</th>\n",
       "      <td id=\"T_40f44_row33_col0\" class=\"data row33 col0\" >PCA Components</td>\n",
       "      <td id=\"T_40f44_row33_col1\" class=\"data row33 col1\" >None</td>\n",
       "    </tr>\n",
       "    <tr>\n",
       "      <th id=\"T_40f44_level0_row34\" class=\"row_heading level0 row34\" >34</th>\n",
       "      <td id=\"T_40f44_row34_col0\" class=\"data row34 col0\" >Ignore Low Variance</td>\n",
       "      <td id=\"T_40f44_row34_col1\" class=\"data row34 col1\" >0</td>\n",
       "    </tr>\n",
       "    <tr>\n",
       "      <th id=\"T_40f44_level0_row35\" class=\"row_heading level0 row35\" >35</th>\n",
       "      <td id=\"T_40f44_row35_col0\" class=\"data row35 col0\" >Combine Rare Levels</td>\n",
       "      <td id=\"T_40f44_row35_col1\" class=\"data row35 col1\" >0</td>\n",
       "    </tr>\n",
       "    <tr>\n",
       "      <th id=\"T_40f44_level0_row36\" class=\"row_heading level0 row36\" >36</th>\n",
       "      <td id=\"T_40f44_row36_col0\" class=\"data row36 col0\" >Rare Level Threshold</td>\n",
       "      <td id=\"T_40f44_row36_col1\" class=\"data row36 col1\" >None</td>\n",
       "    </tr>\n",
       "    <tr>\n",
       "      <th id=\"T_40f44_level0_row37\" class=\"row_heading level0 row37\" >37</th>\n",
       "      <td id=\"T_40f44_row37_col0\" class=\"data row37 col0\" >Numeric Binning</td>\n",
       "      <td id=\"T_40f44_row37_col1\" class=\"data row37 col1\" >0</td>\n",
       "    </tr>\n",
       "    <tr>\n",
       "      <th id=\"T_40f44_level0_row38\" class=\"row_heading level0 row38\" >38</th>\n",
       "      <td id=\"T_40f44_row38_col0\" class=\"data row38 col0\" >Remove Outliers</td>\n",
       "      <td id=\"T_40f44_row38_col1\" class=\"data row38 col1\" >0</td>\n",
       "    </tr>\n",
       "    <tr>\n",
       "      <th id=\"T_40f44_level0_row39\" class=\"row_heading level0 row39\" >39</th>\n",
       "      <td id=\"T_40f44_row39_col0\" class=\"data row39 col0\" >Outliers Threshold</td>\n",
       "      <td id=\"T_40f44_row39_col1\" class=\"data row39 col1\" >None</td>\n",
       "    </tr>\n",
       "    <tr>\n",
       "      <th id=\"T_40f44_level0_row40\" class=\"row_heading level0 row40\" >40</th>\n",
       "      <td id=\"T_40f44_row40_col0\" class=\"data row40 col0\" >Remove Multicollinearity</td>\n",
       "      <td id=\"T_40f44_row40_col1\" class=\"data row40 col1\" >0</td>\n",
       "    </tr>\n",
       "    <tr>\n",
       "      <th id=\"T_40f44_level0_row41\" class=\"row_heading level0 row41\" >41</th>\n",
       "      <td id=\"T_40f44_row41_col0\" class=\"data row41 col0\" >Multicollinearity Threshold</td>\n",
       "      <td id=\"T_40f44_row41_col1\" class=\"data row41 col1\" >None</td>\n",
       "    </tr>\n",
       "    <tr>\n",
       "      <th id=\"T_40f44_level0_row42\" class=\"row_heading level0 row42\" >42</th>\n",
       "      <td id=\"T_40f44_row42_col0\" class=\"data row42 col0\" >Remove Perfect Collinearity</td>\n",
       "      <td id=\"T_40f44_row42_col1\" class=\"data row42 col1\" >1</td>\n",
       "    </tr>\n",
       "    <tr>\n",
       "      <th id=\"T_40f44_level0_row43\" class=\"row_heading level0 row43\" >43</th>\n",
       "      <td id=\"T_40f44_row43_col0\" class=\"data row43 col0\" >Clustering</td>\n",
       "      <td id=\"T_40f44_row43_col1\" class=\"data row43 col1\" >0</td>\n",
       "    </tr>\n",
       "    <tr>\n",
       "      <th id=\"T_40f44_level0_row44\" class=\"row_heading level0 row44\" >44</th>\n",
       "      <td id=\"T_40f44_row44_col0\" class=\"data row44 col0\" >Clustering Iteration</td>\n",
       "      <td id=\"T_40f44_row44_col1\" class=\"data row44 col1\" >None</td>\n",
       "    </tr>\n",
       "    <tr>\n",
       "      <th id=\"T_40f44_level0_row45\" class=\"row_heading level0 row45\" >45</th>\n",
       "      <td id=\"T_40f44_row45_col0\" class=\"data row45 col0\" >Polynomial Features</td>\n",
       "      <td id=\"T_40f44_row45_col1\" class=\"data row45 col1\" >0</td>\n",
       "    </tr>\n",
       "    <tr>\n",
       "      <th id=\"T_40f44_level0_row46\" class=\"row_heading level0 row46\" >46</th>\n",
       "      <td id=\"T_40f44_row46_col0\" class=\"data row46 col0\" >Polynomial Degree</td>\n",
       "      <td id=\"T_40f44_row46_col1\" class=\"data row46 col1\" >None</td>\n",
       "    </tr>\n",
       "    <tr>\n",
       "      <th id=\"T_40f44_level0_row47\" class=\"row_heading level0 row47\" >47</th>\n",
       "      <td id=\"T_40f44_row47_col0\" class=\"data row47 col0\" >Trignometry Features</td>\n",
       "      <td id=\"T_40f44_row47_col1\" class=\"data row47 col1\" >0</td>\n",
       "    </tr>\n",
       "    <tr>\n",
       "      <th id=\"T_40f44_level0_row48\" class=\"row_heading level0 row48\" >48</th>\n",
       "      <td id=\"T_40f44_row48_col0\" class=\"data row48 col0\" >Polynomial Threshold</td>\n",
       "      <td id=\"T_40f44_row48_col1\" class=\"data row48 col1\" >None</td>\n",
       "    </tr>\n",
       "    <tr>\n",
       "      <th id=\"T_40f44_level0_row49\" class=\"row_heading level0 row49\" >49</th>\n",
       "      <td id=\"T_40f44_row49_col0\" class=\"data row49 col0\" >Group Features</td>\n",
       "      <td id=\"T_40f44_row49_col1\" class=\"data row49 col1\" >0</td>\n",
       "    </tr>\n",
       "    <tr>\n",
       "      <th id=\"T_40f44_level0_row50\" class=\"row_heading level0 row50\" >50</th>\n",
       "      <td id=\"T_40f44_row50_col0\" class=\"data row50 col0\" >Feature Selection</td>\n",
       "      <td id=\"T_40f44_row50_col1\" class=\"data row50 col1\" >0</td>\n",
       "    </tr>\n",
       "    <tr>\n",
       "      <th id=\"T_40f44_level0_row51\" class=\"row_heading level0 row51\" >51</th>\n",
       "      <td id=\"T_40f44_row51_col0\" class=\"data row51 col0\" >Feature Selection Method</td>\n",
       "      <td id=\"T_40f44_row51_col1\" class=\"data row51 col1\" >classic</td>\n",
       "    </tr>\n",
       "    <tr>\n",
       "      <th id=\"T_40f44_level0_row52\" class=\"row_heading level0 row52\" >52</th>\n",
       "      <td id=\"T_40f44_row52_col0\" class=\"data row52 col0\" >Features Selection Threshold</td>\n",
       "      <td id=\"T_40f44_row52_col1\" class=\"data row52 col1\" >None</td>\n",
       "    </tr>\n",
       "    <tr>\n",
       "      <th id=\"T_40f44_level0_row53\" class=\"row_heading level0 row53\" >53</th>\n",
       "      <td id=\"T_40f44_row53_col0\" class=\"data row53 col0\" >Feature Interaction</td>\n",
       "      <td id=\"T_40f44_row53_col1\" class=\"data row53 col1\" >0</td>\n",
       "    </tr>\n",
       "    <tr>\n",
       "      <th id=\"T_40f44_level0_row54\" class=\"row_heading level0 row54\" >54</th>\n",
       "      <td id=\"T_40f44_row54_col0\" class=\"data row54 col0\" >Feature Ratio</td>\n",
       "      <td id=\"T_40f44_row54_col1\" class=\"data row54 col1\" >0</td>\n",
       "    </tr>\n",
       "    <tr>\n",
       "      <th id=\"T_40f44_level0_row55\" class=\"row_heading level0 row55\" >55</th>\n",
       "      <td id=\"T_40f44_row55_col0\" class=\"data row55 col0\" >Interaction Threshold</td>\n",
       "      <td id=\"T_40f44_row55_col1\" class=\"data row55 col1\" >None</td>\n",
       "    </tr>\n",
       "    <tr>\n",
       "      <th id=\"T_40f44_level0_row56\" class=\"row_heading level0 row56\" >56</th>\n",
       "      <td id=\"T_40f44_row56_col0\" class=\"data row56 col0\" >Transform Target</td>\n",
       "      <td id=\"T_40f44_row56_col1\" class=\"data row56 col1\" >0</td>\n",
       "    </tr>\n",
       "    <tr>\n",
       "      <th id=\"T_40f44_level0_row57\" class=\"row_heading level0 row57\" >57</th>\n",
       "      <td id=\"T_40f44_row57_col0\" class=\"data row57 col0\" >Transform Target Method</td>\n",
       "      <td id=\"T_40f44_row57_col1\" class=\"data row57 col1\" >box-cox</td>\n",
       "    </tr>\n",
       "  </tbody>\n",
       "</table>\n"
      ],
      "text/plain": [
       "<pandas.io.formats.style.Styler at 0x1e43e889310>"
      ]
     },
     "metadata": {},
     "output_type": "display_data"
    }
   ],
   "source": [
    "# Initialize setup\n",
    "s = setup(    \n",
    "    data = train, \n",
    "    test_data = test, \n",
    "    target = dep_var, \n",
    "    preprocess=True,  \n",
    "    fold_strategy = 'timeseries', \n",
    "    transform_target = False, \n",
    "    data_split_shuffle=False,\n",
    "    session_id = 42)"
   ]
  },
  {
   "cell_type": "code",
   "execution_count": 11,
   "metadata": {},
   "outputs": [],
   "source": [
    "# Review the transformed dataset\n",
    "prep_pipe = get_config('prep_pipe') \n",
    "transformed_df = prep_pipe.transform(df) "
   ]
  },
  {
   "cell_type": "code",
   "execution_count": 12,
   "metadata": {},
   "outputs": [
    {
     "data": {
      "text/plain": [
       "Index(['CCI', 'CPI', 'Unemployment_rate', 'Long_term_interest_rates',\n",
       "       'Avg_Fuel_Price', 'TIV', 'Orders_lagged_12m', 'LTIR_lagged_3m',\n",
       "       'CCI_lagged_3m', 'CPI_lagged_3m', 'UR_lagged_3m', 'AFP_lagged_3m',\n",
       "       'LTIR_lagged_4m', 'CCI_lagged_4m', 'CPI_lagged_4m', 'UR_lagged_4m',\n",
       "       'AFP_lagged_4m', 'LTIR_lagged_5m', 'CCI_lagged_5m', 'CPI_lagged_5m',\n",
       "       'UR_lagged_5m', 'AFP_lagged_5m', 'Orders_rolled_detrended',\n",
       "       'Orders_rolled_detrended_diff', 'CCI_diff', 'CCI_rolled_detrended',\n",
       "       'CCI_rolled_detrended_diff', 'TIV_diff', 'TIV_rolled_detrended',\n",
       "       'Avg_Fuel_Price_diff', 'Avg_Fuel_Price_rolled_detrended',\n",
       "       'Avg_Fuel_Price_rolled_detrended_diff', 'Quarter_1', 'Quarter_2',\n",
       "       'Quarter_3', 'Quarter_4', 'Month_1', 'Month_10', 'Month_11', 'Month_12',\n",
       "       'Month_2', 'Month_3', 'Month_4', 'Month_5', 'Month_6', 'Month_7',\n",
       "       'Month_8', 'Month_9'],\n",
       "      dtype='object')"
      ]
     },
     "execution_count": 12,
     "metadata": {},
     "output_type": "execute_result"
    }
   ],
   "source": [
    "transformed_df.columns"
   ]
  },
  {
   "cell_type": "code",
   "execution_count": 13,
   "metadata": {},
   "outputs": [
    {
     "data": {
      "text/plain": [
       "Index(['Orders', 'CCI', 'CPI', 'Unemployment_rate', 'Long_term_interest_rates',\n",
       "       'Avg_Fuel_Price', 'TIV', 'Quarter', 'Month', 'Orders_lagged_12m',\n",
       "       'LTIR_lagged_3m', 'CCI_lagged_3m', 'CPI_lagged_3m', 'UR_lagged_3m',\n",
       "       'AFP_lagged_3m', 'LTIR_lagged_4m', 'CCI_lagged_4m', 'CPI_lagged_4m',\n",
       "       'UR_lagged_4m', 'AFP_lagged_4m', 'LTIR_lagged_5m', 'CCI_lagged_5m',\n",
       "       'CPI_lagged_5m', 'UR_lagged_5m', 'AFP_lagged_5m',\n",
       "       'Orders_rolled_detrended', 'Orders_rolled_detrended_diff', 'CCI_diff',\n",
       "       'CCI_rolled_detrended', 'CCI_rolled_detrended_diff', 'TIV_diff',\n",
       "       'TIV_rolled_detrended', 'TIV_rolled_detrended_diff',\n",
       "       'Avg_Fuel_Price_diff', 'Avg_Fuel_Price_rolled_detrended',\n",
       "       'Avg_Fuel_Price_rolled_detrended_diff'],\n",
       "      dtype='object')"
      ]
     },
     "execution_count": 13,
     "metadata": {},
     "output_type": "execute_result"
    }
   ],
   "source": [
    "df.columns"
   ]
  },
  {
   "attachments": {},
   "cell_type": "markdown",
   "metadata": {},
   "source": [
    "#### Model comparison"
   ]
  },
  {
   "cell_type": "code",
   "execution_count": 14,
   "metadata": {},
   "outputs": [
    {
     "data": {
      "text/html": [
       "<style type=\"text/css\">\n",
       "#T_a8605 th {\n",
       "  text-align: left;\n",
       "}\n",
       "#T_a8605_row0_col0, #T_a8605_row0_col2, #T_a8605_row0_col4, #T_a8605_row0_col6, #T_a8605_row1_col0, #T_a8605_row1_col1, #T_a8605_row1_col3, #T_a8605_row1_col4, #T_a8605_row1_col5, #T_a8605_row2_col0, #T_a8605_row2_col1, #T_a8605_row2_col2, #T_a8605_row2_col3, #T_a8605_row2_col5, #T_a8605_row2_col6, #T_a8605_row3_col0, #T_a8605_row3_col1, #T_a8605_row3_col2, #T_a8605_row3_col3, #T_a8605_row3_col4, #T_a8605_row3_col5, #T_a8605_row3_col6, #T_a8605_row4_col0, #T_a8605_row4_col1, #T_a8605_row4_col2, #T_a8605_row4_col3, #T_a8605_row4_col4, #T_a8605_row4_col5, #T_a8605_row4_col6, #T_a8605_row5_col0, #T_a8605_row5_col1, #T_a8605_row5_col2, #T_a8605_row5_col3, #T_a8605_row5_col4, #T_a8605_row5_col5, #T_a8605_row5_col6, #T_a8605_row6_col0, #T_a8605_row6_col1, #T_a8605_row6_col2, #T_a8605_row6_col3, #T_a8605_row6_col4, #T_a8605_row6_col5, #T_a8605_row6_col6, #T_a8605_row7_col0, #T_a8605_row7_col1, #T_a8605_row7_col2, #T_a8605_row7_col3, #T_a8605_row7_col4, #T_a8605_row7_col5, #T_a8605_row7_col6, #T_a8605_row8_col0, #T_a8605_row8_col1, #T_a8605_row8_col2, #T_a8605_row8_col3, #T_a8605_row8_col4, #T_a8605_row8_col5, #T_a8605_row8_col6 {\n",
       "  text-align: left;\n",
       "}\n",
       "#T_a8605_row0_col1, #T_a8605_row0_col3, #T_a8605_row0_col5, #T_a8605_row1_col2, #T_a8605_row1_col6, #T_a8605_row2_col4 {\n",
       "  text-align: left;\n",
       "  background-color: yellow;\n",
       "}\n",
       "#T_a8605_row0_col7, #T_a8605_row1_col7, #T_a8605_row2_col7, #T_a8605_row3_col7, #T_a8605_row4_col7, #T_a8605_row6_col7, #T_a8605_row7_col7, #T_a8605_row8_col7 {\n",
       "  text-align: left;\n",
       "  background-color: lightgrey;\n",
       "}\n",
       "#T_a8605_row5_col7 {\n",
       "  text-align: left;\n",
       "  background-color: yellow;\n",
       "  background-color: lightgrey;\n",
       "}\n",
       "</style>\n",
       "<table id=\"T_a8605\">\n",
       "  <thead>\n",
       "    <tr>\n",
       "      <th class=\"blank level0\" >&nbsp;</th>\n",
       "      <th id=\"T_a8605_level0_col0\" class=\"col_heading level0 col0\" >Model</th>\n",
       "      <th id=\"T_a8605_level0_col1\" class=\"col_heading level0 col1\" >MAE</th>\n",
       "      <th id=\"T_a8605_level0_col2\" class=\"col_heading level0 col2\" >MSE</th>\n",
       "      <th id=\"T_a8605_level0_col3\" class=\"col_heading level0 col3\" >RMSE</th>\n",
       "      <th id=\"T_a8605_level0_col4\" class=\"col_heading level0 col4\" >R2</th>\n",
       "      <th id=\"T_a8605_level0_col5\" class=\"col_heading level0 col5\" >RMSLE</th>\n",
       "      <th id=\"T_a8605_level0_col6\" class=\"col_heading level0 col6\" >MAPE</th>\n",
       "      <th id=\"T_a8605_level0_col7\" class=\"col_heading level0 col7\" >TT (Sec)</th>\n",
       "    </tr>\n",
       "  </thead>\n",
       "  <tbody>\n",
       "    <tr>\n",
       "      <th id=\"T_a8605_level0_row0\" class=\"row_heading level0 row0\" >rf</th>\n",
       "      <td id=\"T_a8605_row0_col0\" class=\"data row0 col0\" >Random Forest Regressor</td>\n",
       "      <td id=\"T_a8605_row0_col1\" class=\"data row0 col1\" >99.6725</td>\n",
       "      <td id=\"T_a8605_row0_col2\" class=\"data row0 col2\" >18239.5639</td>\n",
       "      <td id=\"T_a8605_row0_col3\" class=\"data row0 col3\" >126.3560</td>\n",
       "      <td id=\"T_a8605_row0_col4\" class=\"data row0 col4\" >0.2055</td>\n",
       "      <td id=\"T_a8605_row0_col5\" class=\"data row0 col5\" >0.2188</td>\n",
       "      <td id=\"T_a8605_row0_col6\" class=\"data row0 col6\" >0.1947</td>\n",
       "      <td id=\"T_a8605_row0_col7\" class=\"data row0 col7\" >0.0640</td>\n",
       "    </tr>\n",
       "    <tr>\n",
       "      <th id=\"T_a8605_level0_row1\" class=\"row_heading level0 row1\" >xgboost</th>\n",
       "      <td id=\"T_a8605_row1_col0\" class=\"data row1 col0\" >Extreme Gradient Boosting</td>\n",
       "      <td id=\"T_a8605_row1_col1\" class=\"data row1 col1\" >101.5372</td>\n",
       "      <td id=\"T_a8605_row1_col2\" class=\"data row1 col2\" >17490.4303</td>\n",
       "      <td id=\"T_a8605_row1_col3\" class=\"data row1 col3\" >128.0874</td>\n",
       "      <td id=\"T_a8605_row1_col4\" class=\"data row1 col4\" >0.2306</td>\n",
       "      <td id=\"T_a8605_row1_col5\" class=\"data row1 col5\" >0.2273</td>\n",
       "      <td id=\"T_a8605_row1_col6\" class=\"data row1 col6\" >0.1873</td>\n",
       "      <td id=\"T_a8605_row1_col7\" class=\"data row1 col7\" >0.0410</td>\n",
       "    </tr>\n",
       "    <tr>\n",
       "      <th id=\"T_a8605_level0_row2\" class=\"row_heading level0 row2\" >ada</th>\n",
       "      <td id=\"T_a8605_row2_col0\" class=\"data row2 col0\" >AdaBoost Regressor</td>\n",
       "      <td id=\"T_a8605_row2_col1\" class=\"data row2 col1\" >101.6280</td>\n",
       "      <td id=\"T_a8605_row2_col2\" class=\"data row2 col2\" >18058.0514</td>\n",
       "      <td id=\"T_a8605_row2_col3\" class=\"data row2 col3\" >126.4735</td>\n",
       "      <td id=\"T_a8605_row2_col4\" class=\"data row2 col4\" >0.2627</td>\n",
       "      <td id=\"T_a8605_row2_col5\" class=\"data row2 col5\" >0.2240</td>\n",
       "      <td id=\"T_a8605_row2_col6\" class=\"data row2 col6\" >0.1932</td>\n",
       "      <td id=\"T_a8605_row2_col7\" class=\"data row2 col7\" >0.0230</td>\n",
       "    </tr>\n",
       "    <tr>\n",
       "      <th id=\"T_a8605_level0_row3\" class=\"row_heading level0 row3\" >gbr</th>\n",
       "      <td id=\"T_a8605_row3_col0\" class=\"data row3 col0\" >Gradient Boosting Regressor</td>\n",
       "      <td id=\"T_a8605_row3_col1\" class=\"data row3 col1\" >105.8431</td>\n",
       "      <td id=\"T_a8605_row3_col2\" class=\"data row3 col2\" >20970.2783</td>\n",
       "      <td id=\"T_a8605_row3_col3\" class=\"data row3 col3\" >134.3136</td>\n",
       "      <td id=\"T_a8605_row3_col4\" class=\"data row3 col4\" >0.0483</td>\n",
       "      <td id=\"T_a8605_row3_col5\" class=\"data row3 col5\" >0.2234</td>\n",
       "      <td id=\"T_a8605_row3_col6\" class=\"data row3 col6\" >0.1999</td>\n",
       "      <td id=\"T_a8605_row3_col7\" class=\"data row3 col7\" >0.0230</td>\n",
       "    </tr>\n",
       "    <tr>\n",
       "      <th id=\"T_a8605_level0_row4\" class=\"row_heading level0 row4\" >et</th>\n",
       "      <td id=\"T_a8605_row4_col0\" class=\"data row4 col0\" >Extra Trees Regressor</td>\n",
       "      <td id=\"T_a8605_row4_col1\" class=\"data row4 col1\" >106.1826</td>\n",
       "      <td id=\"T_a8605_row4_col2\" class=\"data row4 col2\" >19257.9977</td>\n",
       "      <td id=\"T_a8605_row4_col3\" class=\"data row4 col3\" >131.8048</td>\n",
       "      <td id=\"T_a8605_row4_col4\" class=\"data row4 col4\" >0.1427</td>\n",
       "      <td id=\"T_a8605_row4_col5\" class=\"data row4 col5\" >0.2285</td>\n",
       "      <td id=\"T_a8605_row4_col6\" class=\"data row4 col6\" >0.2100</td>\n",
       "      <td id=\"T_a8605_row4_col7\" class=\"data row4 col7\" >0.0490</td>\n",
       "    </tr>\n",
       "    <tr>\n",
       "      <th id=\"T_a8605_level0_row5\" class=\"row_heading level0 row5\" >dt</th>\n",
       "      <td id=\"T_a8605_row5_col0\" class=\"data row5 col0\" >Decision Tree Regressor</td>\n",
       "      <td id=\"T_a8605_row5_col1\" class=\"data row5 col1\" >117.1929</td>\n",
       "      <td id=\"T_a8605_row5_col2\" class=\"data row5 col2\" >23056.2214</td>\n",
       "      <td id=\"T_a8605_row5_col3\" class=\"data row5 col3\" >146.4312</td>\n",
       "      <td id=\"T_a8605_row5_col4\" class=\"data row5 col4\" >-0.0171</td>\n",
       "      <td id=\"T_a8605_row5_col5\" class=\"data row5 col5\" >0.2699</td>\n",
       "      <td id=\"T_a8605_row5_col6\" class=\"data row5 col6\" >0.2284</td>\n",
       "      <td id=\"T_a8605_row5_col7\" class=\"data row5 col7\" >0.0100</td>\n",
       "    </tr>\n",
       "    <tr>\n",
       "      <th id=\"T_a8605_level0_row6\" class=\"row_heading level0 row6\" >lightgbm</th>\n",
       "      <td id=\"T_a8605_row6_col0\" class=\"data row6 col0\" >Light Gradient Boosting Machine</td>\n",
       "      <td id=\"T_a8605_row6_col1\" class=\"data row6 col1\" >121.8533</td>\n",
       "      <td id=\"T_a8605_row6_col2\" class=\"data row6 col2\" >26120.7413</td>\n",
       "      <td id=\"T_a8605_row6_col3\" class=\"data row6 col3\" >147.0878</td>\n",
       "      <td id=\"T_a8605_row6_col4\" class=\"data row6 col4\" >-0.0555</td>\n",
       "      <td id=\"T_a8605_row6_col5\" class=\"data row6 col5\" >0.2838</td>\n",
       "      <td id=\"T_a8605_row6_col6\" class=\"data row6 col6\" >0.2738</td>\n",
       "      <td id=\"T_a8605_row6_col7\" class=\"data row6 col7\" >0.2360</td>\n",
       "    </tr>\n",
       "    <tr>\n",
       "      <th id=\"T_a8605_level0_row7\" class=\"row_heading level0 row7\" >par</th>\n",
       "      <td id=\"T_a8605_row7_col0\" class=\"data row7 col0\" >Passive Aggressive Regressor</td>\n",
       "      <td id=\"T_a8605_row7_col1\" class=\"data row7 col1\" >124.5902</td>\n",
       "      <td id=\"T_a8605_row7_col2\" class=\"data row7 col2\" >23641.6330</td>\n",
       "      <td id=\"T_a8605_row7_col3\" class=\"data row7 col3\" >145.2427</td>\n",
       "      <td id=\"T_a8605_row7_col4\" class=\"data row7 col4\" >-0.3996</td>\n",
       "      <td id=\"T_a8605_row7_col5\" class=\"data row7 col5\" >0.2677</td>\n",
       "      <td id=\"T_a8605_row7_col6\" class=\"data row7 col6\" >0.2372</td>\n",
       "      <td id=\"T_a8605_row7_col7\" class=\"data row7 col7\" >0.5320</td>\n",
       "    </tr>\n",
       "    <tr>\n",
       "      <th id=\"T_a8605_level0_row8\" class=\"row_heading level0 row8\" >lar</th>\n",
       "      <td id=\"T_a8605_row8_col0\" class=\"data row8 col0\" >Least Angle Regression</td>\n",
       "      <td id=\"T_a8605_row8_col1\" class=\"data row8 col1\" >435066090795889024.0000</td>\n",
       "      <td id=\"T_a8605_row8_col2\" class=\"data row8 col2\" >3584858543811890538889112873473146880.0000</td>\n",
       "      <td id=\"T_a8605_row8_col3\" class=\"data row8 col3\" >599070446906218240.0000</td>\n",
       "      <td id=\"T_a8605_row8_col4\" class=\"data row8 col4\" >-109764336348510717992882443124736.0000</td>\n",
       "      <td id=\"T_a8605_row8_col5\" class=\"data row8 col5\" >10.0776</td>\n",
       "      <td id=\"T_a8605_row8_col6\" class=\"data row8 col6\" >1208197541597555.0000</td>\n",
       "      <td id=\"T_a8605_row8_col7\" class=\"data row8 col7\" >1.0880</td>\n",
       "    </tr>\n",
       "  </tbody>\n",
       "</table>\n"
      ],
      "text/plain": [
       "<pandas.io.formats.style.Styler at 0x1e43e8f80a0>"
      ]
     },
     "metadata": {},
     "output_type": "display_data"
    }
   ],
   "source": [
    "# Train and evaluate models\n",
    "exclude_list = ['dummy', 'br', 'knn', 'en', 'omp', 'huber', 'ridge', 'llar', 'lasso', 'lr']\n",
    "#exclude_list = []\n",
    "best = compare_models(exclude = exclude_list, sort = 'MAE')"
   ]
  },
  {
   "attachments": {},
   "cell_type": "markdown",
   "metadata": {},
   "source": [
    "#### Create best model"
   ]
  },
  {
   "cell_type": "code",
   "execution_count": 15,
   "metadata": {},
   "outputs": [
    {
     "data": {
      "text/html": [
       "<style type=\"text/css\">\n",
       "#T_b9510_row10_col0, #T_b9510_row10_col1, #T_b9510_row10_col2, #T_b9510_row10_col3, #T_b9510_row10_col4, #T_b9510_row10_col5 {\n",
       "  background: yellow;\n",
       "}\n",
       "</style>\n",
       "<table id=\"T_b9510\">\n",
       "  <thead>\n",
       "    <tr>\n",
       "      <th class=\"blank level0\" >&nbsp;</th>\n",
       "      <th id=\"T_b9510_level0_col0\" class=\"col_heading level0 col0\" >MAE</th>\n",
       "      <th id=\"T_b9510_level0_col1\" class=\"col_heading level0 col1\" >MSE</th>\n",
       "      <th id=\"T_b9510_level0_col2\" class=\"col_heading level0 col2\" >RMSE</th>\n",
       "      <th id=\"T_b9510_level0_col3\" class=\"col_heading level0 col3\" >R2</th>\n",
       "      <th id=\"T_b9510_level0_col4\" class=\"col_heading level0 col4\" >RMSLE</th>\n",
       "      <th id=\"T_b9510_level0_col5\" class=\"col_heading level0 col5\" >MAPE</th>\n",
       "    </tr>\n",
       "    <tr>\n",
       "      <th class=\"index_name level0\" >Fold</th>\n",
       "      <th class=\"blank col0\" >&nbsp;</th>\n",
       "      <th class=\"blank col1\" >&nbsp;</th>\n",
       "      <th class=\"blank col2\" >&nbsp;</th>\n",
       "      <th class=\"blank col3\" >&nbsp;</th>\n",
       "      <th class=\"blank col4\" >&nbsp;</th>\n",
       "      <th class=\"blank col5\" >&nbsp;</th>\n",
       "    </tr>\n",
       "  </thead>\n",
       "  <tbody>\n",
       "    <tr>\n",
       "      <th id=\"T_b9510_level0_row0\" class=\"row_heading level0 row0\" >0</th>\n",
       "      <td id=\"T_b9510_row0_col0\" class=\"data row0 col0\" >191.8714</td>\n",
       "      <td id=\"T_b9510_row0_col1\" class=\"data row0 col1\" >51371.4494</td>\n",
       "      <td id=\"T_b9510_row0_col2\" class=\"data row0 col2\" >226.6527</td>\n",
       "      <td id=\"T_b9510_row0_col3\" class=\"data row0 col3\" >-0.5729</td>\n",
       "      <td id=\"T_b9510_row0_col4\" class=\"data row0 col4\" >0.4978</td>\n",
       "      <td id=\"T_b9510_row0_col5\" class=\"data row0 col5\" >0.5759</td>\n",
       "    </tr>\n",
       "    <tr>\n",
       "      <th id=\"T_b9510_level0_row1\" class=\"row_heading level0 row1\" >1</th>\n",
       "      <td id=\"T_b9510_row1_col0\" class=\"data row1 col0\" >98.6079</td>\n",
       "      <td id=\"T_b9510_row1_col1\" class=\"data row1 col1\" >13949.2030</td>\n",
       "      <td id=\"T_b9510_row1_col2\" class=\"data row1 col2\" >118.1067</td>\n",
       "      <td id=\"T_b9510_row1_col3\" class=\"data row1 col3\" >0.4042</td>\n",
       "      <td id=\"T_b9510_row1_col4\" class=\"data row1 col4\" >0.2363</td>\n",
       "      <td id=\"T_b9510_row1_col5\" class=\"data row1 col5\" >0.2216</td>\n",
       "    </tr>\n",
       "    <tr>\n",
       "      <th id=\"T_b9510_level0_row2\" class=\"row_heading level0 row2\" >2</th>\n",
       "      <td id=\"T_b9510_row2_col0\" class=\"data row2 col0\" >128.1243</td>\n",
       "      <td id=\"T_b9510_row2_col1\" class=\"data row2 col1\" >22978.0014</td>\n",
       "      <td id=\"T_b9510_row2_col2\" class=\"data row2 col2\" >151.5850</td>\n",
       "      <td id=\"T_b9510_row2_col3\" class=\"data row2 col3\" >-0.0762</td>\n",
       "      <td id=\"T_b9510_row2_col4\" class=\"data row2 col4\" >0.2254</td>\n",
       "      <td id=\"T_b9510_row2_col5\" class=\"data row2 col5\" >0.1759</td>\n",
       "    </tr>\n",
       "    <tr>\n",
       "      <th id=\"T_b9510_level0_row3\" class=\"row_heading level0 row3\" >3</th>\n",
       "      <td id=\"T_b9510_row3_col0\" class=\"data row3 col0\" >140.8407</td>\n",
       "      <td id=\"T_b9510_row3_col1\" class=\"data row3 col1\" >32108.6821</td>\n",
       "      <td id=\"T_b9510_row3_col2\" class=\"data row3 col2\" >179.1890</td>\n",
       "      <td id=\"T_b9510_row3_col3\" class=\"data row3 col3\" >0.4924</td>\n",
       "      <td id=\"T_b9510_row3_col4\" class=\"data row3 col4\" >0.2899</td>\n",
       "      <td id=\"T_b9510_row3_col5\" class=\"data row3 col5\" >0.2167</td>\n",
       "    </tr>\n",
       "    <tr>\n",
       "      <th id=\"T_b9510_level0_row4\" class=\"row_heading level0 row4\" >4</th>\n",
       "      <td id=\"T_b9510_row4_col0\" class=\"data row4 col0\" >83.3414</td>\n",
       "      <td id=\"T_b9510_row4_col1\" class=\"data row4 col1\" >14025.8255</td>\n",
       "      <td id=\"T_b9510_row4_col2\" class=\"data row4 col2\" >118.4307</td>\n",
       "      <td id=\"T_b9510_row4_col3\" class=\"data row4 col3\" >-0.7163</td>\n",
       "      <td id=\"T_b9510_row4_col4\" class=\"data row4 col4\" >0.2116</td>\n",
       "      <td id=\"T_b9510_row4_col5\" class=\"data row4 col5\" >0.1707</td>\n",
       "    </tr>\n",
       "    <tr>\n",
       "      <th id=\"T_b9510_level0_row5\" class=\"row_heading level0 row5\" >5</th>\n",
       "      <td id=\"T_b9510_row5_col0\" class=\"data row5 col0\" >99.2207</td>\n",
       "      <td id=\"T_b9510_row5_col1\" class=\"data row5 col1\" >21078.0273</td>\n",
       "      <td id=\"T_b9510_row5_col2\" class=\"data row5 col2\" >145.1827</td>\n",
       "      <td id=\"T_b9510_row5_col3\" class=\"data row5 col3\" >0.3873</td>\n",
       "      <td id=\"T_b9510_row5_col4\" class=\"data row5 col4\" >0.1964</td>\n",
       "      <td id=\"T_b9510_row5_col5\" class=\"data row5 col5\" >0.1406</td>\n",
       "    </tr>\n",
       "    <tr>\n",
       "      <th id=\"T_b9510_level0_row6\" class=\"row_heading level0 row6\" >6</th>\n",
       "      <td id=\"T_b9510_row6_col0\" class=\"data row6 col0\" >66.6564</td>\n",
       "      <td id=\"T_b9510_row6_col1\" class=\"data row6 col1\" >5952.9582</td>\n",
       "      <td id=\"T_b9510_row6_col2\" class=\"data row6 col2\" >77.1554</td>\n",
       "      <td id=\"T_b9510_row6_col3\" class=\"data row6 col3\" >0.7277</td>\n",
       "      <td id=\"T_b9510_row6_col4\" class=\"data row6 col4\" >0.1171</td>\n",
       "      <td id=\"T_b9510_row6_col5\" class=\"data row6 col5\" >0.0973</td>\n",
       "    </tr>\n",
       "    <tr>\n",
       "      <th id=\"T_b9510_level0_row7\" class=\"row_heading level0 row7\" >7</th>\n",
       "      <td id=\"T_b9510_row7_col0\" class=\"data row7 col0\" >54.3029</td>\n",
       "      <td id=\"T_b9510_row7_col1\" class=\"data row7 col1\" >5162.0995</td>\n",
       "      <td id=\"T_b9510_row7_col2\" class=\"data row7 col2\" >71.8478</td>\n",
       "      <td id=\"T_b9510_row7_col3\" class=\"data row7 col3\" >0.6483</td>\n",
       "      <td id=\"T_b9510_row7_col4\" class=\"data row7 col4\" >0.1090</td>\n",
       "      <td id=\"T_b9510_row7_col5\" class=\"data row7 col5\" >0.0825</td>\n",
       "    </tr>\n",
       "    <tr>\n",
       "      <th id=\"T_b9510_level0_row8\" class=\"row_heading level0 row8\" >8</th>\n",
       "      <td id=\"T_b9510_row8_col0\" class=\"data row8 col0\" >46.8421</td>\n",
       "      <td id=\"T_b9510_row8_col1\" class=\"data row8 col1\" >5450.8847</td>\n",
       "      <td id=\"T_b9510_row8_col2\" class=\"data row8 col2\" >73.8301</td>\n",
       "      <td id=\"T_b9510_row8_col3\" class=\"data row8 col3\" >0.8279</td>\n",
       "      <td id=\"T_b9510_row8_col4\" class=\"data row8 col4\" >0.1059</td>\n",
       "      <td id=\"T_b9510_row8_col5\" class=\"data row8 col5\" >0.0733</td>\n",
       "    </tr>\n",
       "    <tr>\n",
       "      <th id=\"T_b9510_level0_row9\" class=\"row_heading level0 row9\" >9</th>\n",
       "      <td id=\"T_b9510_row9_col0\" class=\"data row9 col0\" >86.9171</td>\n",
       "      <td id=\"T_b9510_row9_col1\" class=\"data row9 col1\" >10318.5082</td>\n",
       "      <td id=\"T_b9510_row9_col2\" class=\"data row9 col2\" >101.5801</td>\n",
       "      <td id=\"T_b9510_row9_col3\" class=\"data row9 col3\" >-0.0671</td>\n",
       "      <td id=\"T_b9510_row9_col4\" class=\"data row9 col4\" >0.1988</td>\n",
       "      <td id=\"T_b9510_row9_col5\" class=\"data row9 col5\" >0.1925</td>\n",
       "    </tr>\n",
       "    <tr>\n",
       "      <th id=\"T_b9510_level0_row10\" class=\"row_heading level0 row10\" >Mean</th>\n",
       "      <td id=\"T_b9510_row10_col0\" class=\"data row10 col0\" >99.6725</td>\n",
       "      <td id=\"T_b9510_row10_col1\" class=\"data row10 col1\" >18239.5639</td>\n",
       "      <td id=\"T_b9510_row10_col2\" class=\"data row10 col2\" >126.3560</td>\n",
       "      <td id=\"T_b9510_row10_col3\" class=\"data row10 col3\" >0.2055</td>\n",
       "      <td id=\"T_b9510_row10_col4\" class=\"data row10 col4\" >0.2188</td>\n",
       "      <td id=\"T_b9510_row10_col5\" class=\"data row10 col5\" >0.1947</td>\n",
       "    </tr>\n",
       "    <tr>\n",
       "      <th id=\"T_b9510_level0_row11\" class=\"row_heading level0 row11\" >Std</th>\n",
       "      <td id=\"T_b9510_row11_col0\" class=\"data row11 col0\" >41.6836</td>\n",
       "      <td id=\"T_b9510_row11_col1\" class=\"data row11 col1\" >13802.2495</td>\n",
       "      <td id=\"T_b9510_row11_col2\" class=\"data row11 col2\" >47.6836</td>\n",
       "      <td id=\"T_b9510_row11_col3\" class=\"data row11 col3\" >0.5119</td>\n",
       "      <td id=\"T_b9510_row11_col4\" class=\"data row11 col4\" >0.1092</td>\n",
       "      <td id=\"T_b9510_row11_col5\" class=\"data row11 col5\" >0.1368</td>\n",
       "    </tr>\n",
       "  </tbody>\n",
       "</table>\n"
      ],
      "text/plain": [
       "<pandas.io.formats.style.Styler at 0x1e43ebe2970>"
      ]
     },
     "metadata": {},
     "output_type": "display_data"
    }
   ],
   "source": [
    "# Create model\n",
    "model = create_model(best)"
   ]
  },
  {
   "attachments": {},
   "cell_type": "markdown",
   "metadata": {},
   "source": [
    "#### Tune model"
   ]
  },
  {
   "cell_type": "code",
   "execution_count": 16,
   "metadata": {},
   "outputs": [
    {
     "data": {
      "text/html": [
       "<style type=\"text/css\">\n",
       "#T_7aaea_row10_col0, #T_7aaea_row10_col1, #T_7aaea_row10_col2, #T_7aaea_row10_col3, #T_7aaea_row10_col4, #T_7aaea_row10_col5 {\n",
       "  background: yellow;\n",
       "}\n",
       "</style>\n",
       "<table id=\"T_7aaea\">\n",
       "  <thead>\n",
       "    <tr>\n",
       "      <th class=\"blank level0\" >&nbsp;</th>\n",
       "      <th id=\"T_7aaea_level0_col0\" class=\"col_heading level0 col0\" >MAE</th>\n",
       "      <th id=\"T_7aaea_level0_col1\" class=\"col_heading level0 col1\" >MSE</th>\n",
       "      <th id=\"T_7aaea_level0_col2\" class=\"col_heading level0 col2\" >RMSE</th>\n",
       "      <th id=\"T_7aaea_level0_col3\" class=\"col_heading level0 col3\" >R2</th>\n",
       "      <th id=\"T_7aaea_level0_col4\" class=\"col_heading level0 col4\" >RMSLE</th>\n",
       "      <th id=\"T_7aaea_level0_col5\" class=\"col_heading level0 col5\" >MAPE</th>\n",
       "    </tr>\n",
       "    <tr>\n",
       "      <th class=\"index_name level0\" >Fold</th>\n",
       "      <th class=\"blank col0\" >&nbsp;</th>\n",
       "      <th class=\"blank col1\" >&nbsp;</th>\n",
       "      <th class=\"blank col2\" >&nbsp;</th>\n",
       "      <th class=\"blank col3\" >&nbsp;</th>\n",
       "      <th class=\"blank col4\" >&nbsp;</th>\n",
       "      <th class=\"blank col5\" >&nbsp;</th>\n",
       "    </tr>\n",
       "  </thead>\n",
       "  <tbody>\n",
       "    <tr>\n",
       "      <th id=\"T_7aaea_level0_row0\" class=\"row_heading level0 row0\" >0</th>\n",
       "      <td id=\"T_7aaea_row0_col0\" class=\"data row0 col0\" >181.2303</td>\n",
       "      <td id=\"T_7aaea_row0_col1\" class=\"data row0 col1\" >45950.0152</td>\n",
       "      <td id=\"T_7aaea_row0_col2\" class=\"data row0 col2\" >214.3595</td>\n",
       "      <td id=\"T_7aaea_row0_col3\" class=\"data row0 col3\" >-0.4069</td>\n",
       "      <td id=\"T_7aaea_row0_col4\" class=\"data row0 col4\" >0.5181</td>\n",
       "      <td id=\"T_7aaea_row0_col5\" class=\"data row0 col5\" >0.5941</td>\n",
       "    </tr>\n",
       "    <tr>\n",
       "      <th id=\"T_7aaea_level0_row1\" class=\"row_heading level0 row1\" >1</th>\n",
       "      <td id=\"T_7aaea_row1_col0\" class=\"data row1 col0\" >93.5907</td>\n",
       "      <td id=\"T_7aaea_row1_col1\" class=\"data row1 col1\" >12812.7803</td>\n",
       "      <td id=\"T_7aaea_row1_col2\" class=\"data row1 col2\" >113.1936</td>\n",
       "      <td id=\"T_7aaea_row1_col3\" class=\"data row1 col3\" >0.4528</td>\n",
       "      <td id=\"T_7aaea_row1_col4\" class=\"data row1 col4\" >0.2298</td>\n",
       "      <td id=\"T_7aaea_row1_col5\" class=\"data row1 col5\" >0.2143</td>\n",
       "    </tr>\n",
       "    <tr>\n",
       "      <th id=\"T_7aaea_level0_row2\" class=\"row_heading level0 row2\" >2</th>\n",
       "      <td id=\"T_7aaea_row2_col0\" class=\"data row2 col0\" >120.9162</td>\n",
       "      <td id=\"T_7aaea_row2_col1\" class=\"data row2 col1\" >20823.9791</td>\n",
       "      <td id=\"T_7aaea_row2_col2\" class=\"data row2 col2\" >144.3052</td>\n",
       "      <td id=\"T_7aaea_row2_col3\" class=\"data row2 col3\" >0.0247</td>\n",
       "      <td id=\"T_7aaea_row2_col4\" class=\"data row2 col4\" >0.2119</td>\n",
       "      <td id=\"T_7aaea_row2_col5\" class=\"data row2 col5\" >0.1658</td>\n",
       "    </tr>\n",
       "    <tr>\n",
       "      <th id=\"T_7aaea_level0_row3\" class=\"row_heading level0 row3\" >3</th>\n",
       "      <td id=\"T_7aaea_row3_col0\" class=\"data row3 col0\" >147.6128</td>\n",
       "      <td id=\"T_7aaea_row3_col1\" class=\"data row3 col1\" >34061.0917</td>\n",
       "      <td id=\"T_7aaea_row3_col2\" class=\"data row3 col2\" >184.5565</td>\n",
       "      <td id=\"T_7aaea_row3_col3\" class=\"data row3 col3\" >0.4616</td>\n",
       "      <td id=\"T_7aaea_row3_col4\" class=\"data row3 col4\" >0.3054</td>\n",
       "      <td id=\"T_7aaea_row3_col5\" class=\"data row3 col5\" >0.2288</td>\n",
       "    </tr>\n",
       "    <tr>\n",
       "      <th id=\"T_7aaea_level0_row4\" class=\"row_heading level0 row4\" >4</th>\n",
       "      <td id=\"T_7aaea_row4_col0\" class=\"data row4 col0\" >84.5020</td>\n",
       "      <td id=\"T_7aaea_row4_col1\" class=\"data row4 col1\" >13830.6126</td>\n",
       "      <td id=\"T_7aaea_row4_col2\" class=\"data row4 col2\" >117.6036</td>\n",
       "      <td id=\"T_7aaea_row4_col3\" class=\"data row4 col3\" >-0.6924</td>\n",
       "      <td id=\"T_7aaea_row4_col4\" class=\"data row4 col4\" >0.2105</td>\n",
       "      <td id=\"T_7aaea_row4_col5\" class=\"data row4 col5\" >0.1719</td>\n",
       "    </tr>\n",
       "    <tr>\n",
       "      <th id=\"T_7aaea_level0_row5\" class=\"row_heading level0 row5\" >5</th>\n",
       "      <td id=\"T_7aaea_row5_col0\" class=\"data row5 col0\" >98.4359</td>\n",
       "      <td id=\"T_7aaea_row5_col1\" class=\"data row5 col1\" >21767.8707</td>\n",
       "      <td id=\"T_7aaea_row5_col2\" class=\"data row5 col2\" >147.5394</td>\n",
       "      <td id=\"T_7aaea_row5_col3\" class=\"data row5 col3\" >0.3672</td>\n",
       "      <td id=\"T_7aaea_row5_col4\" class=\"data row5 col4\" >0.2025</td>\n",
       "      <td id=\"T_7aaea_row5_col5\" class=\"data row5 col5\" >0.1414</td>\n",
       "    </tr>\n",
       "    <tr>\n",
       "      <th id=\"T_7aaea_level0_row6\" class=\"row_heading level0 row6\" >6</th>\n",
       "      <td id=\"T_7aaea_row6_col0\" class=\"data row6 col0\" >58.1033</td>\n",
       "      <td id=\"T_7aaea_row6_col1\" class=\"data row6 col1\" >4950.2096</td>\n",
       "      <td id=\"T_7aaea_row6_col2\" class=\"data row6 col2\" >70.3577</td>\n",
       "      <td id=\"T_7aaea_row6_col3\" class=\"data row6 col3\" >0.7735</td>\n",
       "      <td id=\"T_7aaea_row6_col4\" class=\"data row6 col4\" >0.1005</td>\n",
       "      <td id=\"T_7aaea_row6_col5\" class=\"data row6 col5\" >0.0824</td>\n",
       "    </tr>\n",
       "    <tr>\n",
       "      <th id=\"T_7aaea_level0_row7\" class=\"row_heading level0 row7\" >7</th>\n",
       "      <td id=\"T_7aaea_row7_col0\" class=\"data row7 col0\" >63.9119</td>\n",
       "      <td id=\"T_7aaea_row7_col1\" class=\"data row7 col1\" >6368.8866</td>\n",
       "      <td id=\"T_7aaea_row7_col2\" class=\"data row7 col2\" >79.8053</td>\n",
       "      <td id=\"T_7aaea_row7_col3\" class=\"data row7 col3\" >0.5661</td>\n",
       "      <td id=\"T_7aaea_row7_col4\" class=\"data row7 col4\" >0.1175</td>\n",
       "      <td id=\"T_7aaea_row7_col5\" class=\"data row7 col5\" >0.0949</td>\n",
       "    </tr>\n",
       "    <tr>\n",
       "      <th id=\"T_7aaea_level0_row8\" class=\"row_heading level0 row8\" >8</th>\n",
       "      <td id=\"T_7aaea_row8_col0\" class=\"data row8 col0\" >57.0009</td>\n",
       "      <td id=\"T_7aaea_row8_col1\" class=\"data row8 col1\" >6005.9177</td>\n",
       "      <td id=\"T_7aaea_row8_col2\" class=\"data row8 col2\" >77.4979</td>\n",
       "      <td id=\"T_7aaea_row8_col3\" class=\"data row8 col3\" >0.8104</td>\n",
       "      <td id=\"T_7aaea_row8_col4\" class=\"data row8 col4\" >0.1170</td>\n",
       "      <td id=\"T_7aaea_row8_col5\" class=\"data row8 col5\" >0.0902</td>\n",
       "    </tr>\n",
       "    <tr>\n",
       "      <th id=\"T_7aaea_level0_row9\" class=\"row_heading level0 row9\" >9</th>\n",
       "      <td id=\"T_7aaea_row9_col0\" class=\"data row9 col0\" >83.3873</td>\n",
       "      <td id=\"T_7aaea_row9_col1\" class=\"data row9 col1\" >9759.3649</td>\n",
       "      <td id=\"T_7aaea_row9_col2\" class=\"data row9 col2\" >98.7895</td>\n",
       "      <td id=\"T_7aaea_row9_col3\" class=\"data row9 col3\" >-0.0093</td>\n",
       "      <td id=\"T_7aaea_row9_col4\" class=\"data row9 col4\" >0.2005</td>\n",
       "      <td id=\"T_7aaea_row9_col5\" class=\"data row9 col5\" >0.1900</td>\n",
       "    </tr>\n",
       "    <tr>\n",
       "      <th id=\"T_7aaea_level0_row10\" class=\"row_heading level0 row10\" >Mean</th>\n",
       "      <td id=\"T_7aaea_row10_col0\" class=\"data row10 col0\" >98.8691</td>\n",
       "      <td id=\"T_7aaea_row10_col1\" class=\"data row10 col1\" >17633.0728</td>\n",
       "      <td id=\"T_7aaea_row10_col2\" class=\"data row10 col2\" >124.8008</td>\n",
       "      <td id=\"T_7aaea_row10_col3\" class=\"data row10 col3\" >0.2348</td>\n",
       "      <td id=\"T_7aaea_row10_col4\" class=\"data row10 col4\" >0.2214</td>\n",
       "      <td id=\"T_7aaea_row10_col5\" class=\"data row10 col5\" >0.1974</td>\n",
       "    </tr>\n",
       "    <tr>\n",
       "      <th id=\"T_7aaea_level0_row11\" class=\"row_heading level0 row11\" >Std</th>\n",
       "      <td id=\"T_7aaea_row11_col0\" class=\"data row11 col0\" >38.4140</td>\n",
       "      <td id=\"T_7aaea_row11_col1\" class=\"data row11 col1\" >12734.3014</td>\n",
       "      <td id=\"T_7aaea_row11_col2\" class=\"data row11 col2\" >45.3633</td>\n",
       "      <td id=\"T_7aaea_row11_col3\" class=\"data row11 col3\" >0.4715</td>\n",
       "      <td id=\"T_7aaea_row11_col4\" class=\"data row11 col4\" >0.1151</td>\n",
       "      <td id=\"T_7aaea_row11_col5\" class=\"data row11 col5\" >0.1410</td>\n",
       "    </tr>\n",
       "  </tbody>\n",
       "</table>\n"
      ],
      "text/plain": [
       "<pandas.io.formats.style.Styler at 0x1e43e881190>"
      ]
     },
     "metadata": {},
     "output_type": "display_data"
    }
   ],
   "source": [
    "# Tune model\n",
    "tuned_model = tune_model(model, n_iter=50, optimize = 'MAE')"
   ]
  },
  {
   "cell_type": "code",
   "execution_count": 17,
   "metadata": {},
   "outputs": [
    {
     "data": {
      "text/plain": [
       "RandomForestRegressor(bootstrap=True, ccp_alpha=0.0, criterion='mse',\n",
       "                      max_depth=4, max_features=1.0, max_leaf_nodes=None,\n",
       "                      max_samples=None, min_impurity_decrease=0.3,\n",
       "                      min_impurity_split=None, min_samples_leaf=2,\n",
       "                      min_samples_split=2, min_weight_fraction_leaf=0.0,\n",
       "                      n_estimators=190, n_jobs=-1, oob_score=False,\n",
       "                      random_state=42, verbose=0, warm_start=False)"
      ]
     },
     "execution_count": 17,
     "metadata": {},
     "output_type": "execute_result"
    }
   ],
   "source": [
    "tuned_model"
   ]
  },
  {
   "cell_type": "code",
   "execution_count": 18,
   "metadata": {},
   "outputs": [
    {
     "data": {
      "text/plain": [
       "RandomForestRegressor(bootstrap=True, ccp_alpha=0.0, criterion='mse',\n",
       "                      max_depth=None, max_features='auto', max_leaf_nodes=None,\n",
       "                      max_samples=None, min_impurity_decrease=0.0,\n",
       "                      min_impurity_split=None, min_samples_leaf=1,\n",
       "                      min_samples_split=2, min_weight_fraction_leaf=0.0,\n",
       "                      n_estimators=100, n_jobs=-1, oob_score=False,\n",
       "                      random_state=42, verbose=0, warm_start=False)"
      ]
     },
     "execution_count": 18,
     "metadata": {},
     "output_type": "execute_result"
    }
   ],
   "source": [
    "model"
   ]
  },
  {
   "attachments": {},
   "cell_type": "markdown",
   "metadata": {},
   "source": [
    "#### Plot model"
   ]
  },
  {
   "cell_type": "code",
   "execution_count": 19,
   "metadata": {},
   "outputs": [
    {
     "data": {
      "image/png": "[encoded data removed]",
      "text/plain": [
       "<Figure size 576x396 with 2 Axes>"
      ]
     },
     "metadata": {},
     "output_type": "display_data"
    }
   ],
   "source": [
    "# PLot model - Residual plot\n",
    "plot_model(model)"
   ]
  },
  {
   "cell_type": "code",
   "execution_count": 20,
   "metadata": {},
   "outputs": [
    {
     "data": {
      "image/png": "[encoded data removed]",
      "text/plain": [
       "<Figure size 576x396 with 2 Axes>"
      ]
     },
     "metadata": {},
     "output_type": "display_data"
    }
   ],
   "source": [
    "# PLot model - Residual plot\n",
    "plot_model(tuned_model)"
   ]
  },
  {
   "cell_type": "code",
   "execution_count": 21,
   "metadata": {},
   "outputs": [
    {
     "data": {
      "image/png": "[encoded data removed]",
      "text/plain": [
       "<Figure size 576x396 with 1 Axes>"
      ]
     },
     "metadata": {},
     "output_type": "display_data"
    }
   ],
   "source": [
    "# Prediction Error Plot\n",
    "plot_model(model, plot = 'error')"
   ]
  },
  {
   "cell_type": "code",
   "execution_count": 22,
   "metadata": {},
   "outputs": [
    {
     "data": {
      "image/png": "[encoded data removed]",
      "text/plain": [
       "<Figure size 576x396 with 1 Axes>"
      ]
     },
     "metadata": {},
     "output_type": "display_data"
    }
   ],
   "source": [
    "# Prediction Error Plot\n",
    "plot_model(tuned_model, plot = 'error')"
   ]
  },
  {
   "cell_type": "code",
   "execution_count": 23,
   "metadata": {},
   "outputs": [
    {
     "data": {
      "image/png": "[encoded data removed]",
      "text/plain": [
       "<Figure size 800x500 with 1 Axes>"
      ]
     },
     "metadata": {},
     "output_type": "display_data"
    }
   ],
   "source": [
    "# Feature Importance Plot\n",
    "plot_model(model, plot='feature')"
   ]
  },
  {
   "cell_type": "code",
   "execution_count": 24,
   "metadata": {},
   "outputs": [
    {
     "data": {
      "image/png": "[encoded data removed]",
      "text/plain": [
       "<Figure size 800x500 with 1 Axes>"
      ]
     },
     "metadata": {},
     "output_type": "display_data"
    }
   ],
   "source": [
    "# Feature Importance Plot\n",
    "plot_model(tuned_model, plot='feature')"
   ]
  },
  {
   "attachments": {},
   "cell_type": "markdown",
   "metadata": {},
   "source": [
    "#### Evaluate models"
   ]
  },
  {
   "cell_type": "code",
   "execution_count": 25,
   "metadata": {},
   "outputs": [
    {
     "data": {
      "application/vnd.jupyter.widget-view+json": {
       "model_id": "bb38ad40a5cd466c9c9a218b990b7094",
       "version_major": 2,
       "version_minor": 0
      },
      "text/plain": [
       "interactive(children=(ToggleButtons(description='Plot Type:', icons=('',), options=(('Hyperparameters', 'param…"
      ]
     },
     "metadata": {},
     "output_type": "display_data"
    }
   ],
   "source": [
    "evaluate_model(model)"
   ]
  },
  {
   "cell_type": "code",
   "execution_count": 26,
   "metadata": {},
   "outputs": [
    {
     "data": {
      "application/vnd.jupyter.widget-view+json": {
       "model_id": "6e244a0d07e242ef9bec8a96be4e342c",
       "version_major": 2,
       "version_minor": 0
      },
      "text/plain": [
       "interactive(children=(ToggleButtons(description='Plot Type:', icons=('',), options=(('Hyperparameters', 'param…"
      ]
     },
     "metadata": {},
     "output_type": "display_data"
    }
   ],
   "source": [
    "evaluate_model(tuned_model)"
   ]
  },
  {
   "attachments": {},
   "cell_type": "markdown",
   "metadata": {},
   "source": [
    "#### Predict on test set"
   ]
  },
  {
   "cell_type": "code",
   "execution_count": 27,
   "metadata": {},
   "outputs": [
    {
     "data": {
      "text/html": [
       "<style type=\"text/css\">\n",
       "</style>\n",
       "<table id=\"T_f62ba\">\n",
       "  <thead>\n",
       "    <tr>\n",
       "      <th class=\"blank level0\" >&nbsp;</th>\n",
       "      <th id=\"T_f62ba_level0_col0\" class=\"col_heading level0 col0\" >Model</th>\n",
       "      <th id=\"T_f62ba_level0_col1\" class=\"col_heading level0 col1\" >MAE</th>\n",
       "      <th id=\"T_f62ba_level0_col2\" class=\"col_heading level0 col2\" >MSE</th>\n",
       "      <th id=\"T_f62ba_level0_col3\" class=\"col_heading level0 col3\" >RMSE</th>\n",
       "      <th id=\"T_f62ba_level0_col4\" class=\"col_heading level0 col4\" >R2</th>\n",
       "      <th id=\"T_f62ba_level0_col5\" class=\"col_heading level0 col5\" >RMSLE</th>\n",
       "      <th id=\"T_f62ba_level0_col6\" class=\"col_heading level0 col6\" >MAPE</th>\n",
       "    </tr>\n",
       "  </thead>\n",
       "  <tbody>\n",
       "    <tr>\n",
       "      <th id=\"T_f62ba_level0_row0\" class=\"row_heading level0 row0\" >0</th>\n",
       "      <td id=\"T_f62ba_row0_col0\" class=\"data row0 col0\" >Random Forest Regressor</td>\n",
       "      <td id=\"T_f62ba_row0_col1\" class=\"data row0 col1\" >230.6044</td>\n",
       "      <td id=\"T_f62ba_row0_col2\" class=\"data row0 col2\" >57304.3761</td>\n",
       "      <td id=\"T_f62ba_row0_col3\" class=\"data row0 col3\" >239.3833</td>\n",
       "      <td id=\"T_f62ba_row0_col4\" class=\"data row0 col4\" >-4.9851</td>\n",
       "      <td id=\"T_f62ba_row0_col5\" class=\"data row0 col5\" >0.6487</td>\n",
       "      <td id=\"T_f62ba_row0_col6\" class=\"data row0 col6\" >0.8907</td>\n",
       "    </tr>\n",
       "  </tbody>\n",
       "</table>\n"
      ],
      "text/plain": [
       "<pandas.io.formats.style.Styler at 0x1e43ee59550>"
      ]
     },
     "metadata": {},
     "output_type": "display_data"
    }
   ],
   "source": [
    "prediction = predict_model(model)"
   ]
  },
  {
   "cell_type": "code",
   "execution_count": 28,
   "metadata": {},
   "outputs": [
    {
     "data": {
      "text/html": [
       "<style type=\"text/css\">\n",
       "</style>\n",
       "<table id=\"T_24339\">\n",
       "  <thead>\n",
       "    <tr>\n",
       "      <th class=\"blank level0\" >&nbsp;</th>\n",
       "      <th id=\"T_24339_level0_col0\" class=\"col_heading level0 col0\" >Model</th>\n",
       "      <th id=\"T_24339_level0_col1\" class=\"col_heading level0 col1\" >MAE</th>\n",
       "      <th id=\"T_24339_level0_col2\" class=\"col_heading level0 col2\" >MSE</th>\n",
       "      <th id=\"T_24339_level0_col3\" class=\"col_heading level0 col3\" >RMSE</th>\n",
       "      <th id=\"T_24339_level0_col4\" class=\"col_heading level0 col4\" >R2</th>\n",
       "      <th id=\"T_24339_level0_col5\" class=\"col_heading level0 col5\" >RMSLE</th>\n",
       "      <th id=\"T_24339_level0_col6\" class=\"col_heading level0 col6\" >MAPE</th>\n",
       "    </tr>\n",
       "  </thead>\n",
       "  <tbody>\n",
       "    <tr>\n",
       "      <th id=\"T_24339_level0_row0\" class=\"row_heading level0 row0\" >0</th>\n",
       "      <td id=\"T_24339_row0_col0\" class=\"data row0 col0\" >Random Forest Regressor</td>\n",
       "      <td id=\"T_24339_row0_col1\" class=\"data row0 col1\" >237.0922</td>\n",
       "      <td id=\"T_24339_row0_col2\" class=\"data row0 col2\" >59732.6383</td>\n",
       "      <td id=\"T_24339_row0_col3\" class=\"data row0 col3\" >244.4026</td>\n",
       "      <td id=\"T_24339_row0_col4\" class=\"data row0 col4\" >-5.2387</td>\n",
       "      <td id=\"T_24339_row0_col5\" class=\"data row0 col5\" >0.6620</td>\n",
       "      <td id=\"T_24339_row0_col6\" class=\"data row0 col6\" >0.9181</td>\n",
       "    </tr>\n",
       "  </tbody>\n",
       "</table>\n"
      ],
      "text/plain": [
       "<pandas.io.formats.style.Styler at 0x1e43c30bf10>"
      ]
     },
     "metadata": {},
     "output_type": "display_data"
    }
   ],
   "source": [
    "prediction_tuned = predict_model(tuned_model)"
   ]
  },
  {
   "attachments": {},
   "cell_type": "markdown",
   "metadata": {},
   "source": [
    "#### Predict full dataset"
   ]
  },
  {
   "attachments": {},
   "cell_type": "markdown",
   "metadata": {},
   "source": [
    "##### Base model"
   ]
  },
  {
   "cell_type": "code",
   "execution_count": 29,
   "metadata": {},
   "outputs": [
    {
     "data": {
      "text/html": [
       "<style type=\"text/css\">\n",
       "</style>\n",
       "<table id=\"T_69fff\">\n",
       "  <thead>\n",
       "    <tr>\n",
       "      <th class=\"blank level0\" >&nbsp;</th>\n",
       "      <th id=\"T_69fff_level0_col0\" class=\"col_heading level0 col0\" >Model</th>\n",
       "      <th id=\"T_69fff_level0_col1\" class=\"col_heading level0 col1\" >MAE</th>\n",
       "      <th id=\"T_69fff_level0_col2\" class=\"col_heading level0 col2\" >MSE</th>\n",
       "      <th id=\"T_69fff_level0_col3\" class=\"col_heading level0 col3\" >RMSE</th>\n",
       "      <th id=\"T_69fff_level0_col4\" class=\"col_heading level0 col4\" >R2</th>\n",
       "      <th id=\"T_69fff_level0_col5\" class=\"col_heading level0 col5\" >RMSLE</th>\n",
       "      <th id=\"T_69fff_level0_col6\" class=\"col_heading level0 col6\" >MAPE</th>\n",
       "    </tr>\n",
       "  </thead>\n",
       "  <tbody>\n",
       "    <tr>\n",
       "      <th id=\"T_69fff_level0_row0\" class=\"row_heading level0 row0\" >0</th>\n",
       "      <td id=\"T_69fff_row0_col0\" class=\"data row0 col0\" >Random Forest Regressor</td>\n",
       "      <td id=\"T_69fff_row0_col1\" class=\"data row0 col1\" >61.1792</td>\n",
       "      <td id=\"T_69fff_row0_col2\" class=\"data row0 col2\" >11505.1796</td>\n",
       "      <td id=\"T_69fff_row0_col3\" class=\"data row0 col3\" >107.2622</td>\n",
       "      <td id=\"T_69fff_row0_col4\" class=\"data row0 col4\" >0.7408</td>\n",
       "      <td id=\"T_69fff_row0_col5\" class=\"data row0 col5\" >0.2873</td>\n",
       "      <td id=\"T_69fff_row0_col6\" class=\"data row0 col6\" >0.2034</td>\n",
       "    </tr>\n",
       "  </tbody>\n",
       "</table>\n"
      ],
      "text/plain": [
       "<pandas.io.formats.style.Styler at 0x1e43ee59400>"
      ]
     },
     "metadata": {},
     "output_type": "display_data"
    },
    {
     "data": {
      "application/vnd.plotly.v1+json": {
       "config": {
        "plotlyServerURL": "https://plot.ly"
       },
       "data": [
        {
         "hovertemplate": "variable=Orders<br>Date=%{x}<br>value=%{y}<extra></extra>",
         "legendgroup": "Orders",
         "line": {
          "color": "#636efa",
          "dash": "solid"
         },
         "marker": {
          "symbol": "circle"
         },
         "mode": "lines",
         "name": "Orders",
         "orientation": "v",
         "showlegend": true,
         "type": "scatter",
         "x": [
          "2007-01-01T00:00:00",
          "2007-02-01T00:00:00",
          "2007-03-01T00:00:00",
          "2007-04-01T00:00:00",
          "2007-05-01T00:00:00",
          "2007-06-01T00:00:00",
          "2007-07-01T00:00:00",
          "2007-08-01T00:00:00",
          "2007-09-01T00:00:00",
          "2007-10-01T00:00:00",
          "2007-11-01T00:00:00",
          "2007-12-01T00:00:00",
          "2008-01-01T00:00:00",
          "2008-02-01T00:00:00",
          "2008-03-01T00:00:00",
          "2008-04-01T00:00:00",
          "2008-05-01T00:00:00",
          "2008-06-01T00:00:00",
          "2008-07-01T00:00:00",
          "2008-08-01T00:00:00",
          "2008-09-01T00:00:00",
          "2008-10-01T00:00:00",
          "2008-11-01T00:00:00",
          "2008-12-01T00:00:00",
          "2009-01-01T00:00:00",
          "2009-02-01T00:00:00",
          "2009-03-01T00:00:00",
          "2009-04-01T00:00:00",
          "2009-05-01T00:00:00",
          "2009-06-01T00:00:00",
          "2009-07-01T00:00:00",
          "2009-08-01T00:00:00",
          "2009-09-01T00:00:00",
          "2009-10-01T00:00:00",
          "2009-11-01T00:00:00",
          "2009-12-01T00:00:00",
          "2010-01-01T00:00:00",
          "2010-02-01T00:00:00",
          "2010-03-01T00:00:00",
          "2010-04-01T00:00:00",
          "2010-05-01T00:00:00",
          "2010-06-01T00:00:00",
          "2010-07-01T00:00:00",
          "2010-08-01T00:00:00",
          "2010-09-01T00:00:00",
          "2010-10-01T00:00:00",
          "2010-11-01T00:00:00",
          "2010-12-01T00:00:00",
          "2011-01-01T00:00:00",
          "2011-02-01T00:00:00",
          "2011-03-01T00:00:00",
          "2011-04-01T00:00:00",
          "2011-05-01T00:00:00",
          "2011-06-01T00:00:00",
          "2011-07-01T00:00:00",
          "2011-08-01T00:00:00",
          "2011-09-01T00:00:00",
          "2011-10-01T00:00:00",
          "2011-11-01T00:00:00",
          "2011-12-01T00:00:00",
          "2012-01-01T00:00:00",
          "2012-02-01T00:00:00",
          "2012-03-01T00:00:00",
          "2012-04-01T00:00:00",
          "2012-05-01T00:00:00",
          "2012-06-01T00:00:00",
          "2012-07-01T00:00:00",
          "2012-08-01T00:00:00",
          "2012-09-01T00:00:00",
          "2012-10-01T00:00:00",
          "2012-11-01T00:00:00",
          "2012-12-01T00:00:00",
          "2013-01-01T00:00:00",
          "2013-02-01T00:00:00",
          "2013-03-01T00:00:00",
          "2013-04-01T00:00:00",
          "2013-05-01T00:00:00",
          "2013-06-01T00:00:00",
          "2013-07-01T00:00:00",
          "2013-08-01T00:00:00",
          "2013-09-01T00:00:00",
          "2013-10-01T00:00:00",
          "2013-11-01T00:00:00",
          "2013-12-01T00:00:00",
          "2014-01-01T00:00:00",
          "2014-02-01T00:00:00",
          "2014-03-01T00:00:00",
          "2014-04-01T00:00:00",
          "2014-05-01T00:00:00",
          "2014-06-01T00:00:00",
          "2014-07-01T00:00:00",
          "2014-08-01T00:00:00",
          "2014-09-01T00:00:00",
          "2014-10-01T00:00:00",
          "2014-11-01T00:00:00",
          "2014-12-01T00:00:00",
          "2015-01-01T00:00:00",
          "2015-02-01T00:00:00",
          "2015-03-01T00:00:00",
          "2015-04-01T00:00:00",
          "2015-05-01T00:00:00",
          "2015-06-01T00:00:00",
          "2015-07-01T00:00:00",
          "2015-08-01T00:00:00",
          "2015-09-01T00:00:00",
          "2015-10-01T00:00:00",
          "2015-11-01T00:00:00",
          "2015-12-01T00:00:00",
          "2016-01-01T00:00:00",
          "2016-02-01T00:00:00",
          "2016-03-01T00:00:00",
          "2016-04-01T00:00:00",
          "2016-05-01T00:00:00",
          "2016-06-01T00:00:00",
          "2016-07-01T00:00:00",
          "2016-08-01T00:00:00",
          "2016-09-01T00:00:00",
          "2016-10-01T00:00:00",
          "2016-11-01T00:00:00",
          "2016-12-01T00:00:00",
          "2017-01-01T00:00:00",
          "2017-02-01T00:00:00",
          "2017-03-01T00:00:00",
          "2017-04-01T00:00:00",
          "2017-05-01T00:00:00",
          "2017-06-01T00:00:00",
          "2017-07-01T00:00:00",
          "2017-08-01T00:00:00",
          "2017-09-01T00:00:00",
          "2017-10-01T00:00:00",
          "2017-11-01T00:00:00",
          "2017-12-01T00:00:00",
          "2018-01-01T00:00:00",
          "2018-02-01T00:00:00",
          "2018-03-01T00:00:00",
          "2018-04-01T00:00:00",
          "2018-05-01T00:00:00",
          "2018-06-01T00:00:00",
          "2018-07-01T00:00:00",
          "2018-08-01T00:00:00",
          "2018-09-01T00:00:00",
          "2018-10-01T00:00:00",
          "2018-11-01T00:00:00",
          "2018-12-01T00:00:00",
          "2019-01-01T00:00:00",
          "2019-02-01T00:00:00",
          "2019-03-01T00:00:00",
          "2019-04-01T00:00:00",
          "2019-05-01T00:00:00",
          "2019-06-01T00:00:00",
          "2019-07-01T00:00:00",
          "2019-08-01T00:00:00",
          "2019-09-01T00:00:00",
          "2019-10-01T00:00:00",
          "2019-11-01T00:00:00",
          "2019-12-01T00:00:00",
          "2020-01-01T00:00:00",
          "2020-02-01T00:00:00",
          "2020-03-01T00:00:00",
          "2020-04-01T00:00:00",
          "2020-05-01T00:00:00",
          "2020-06-01T00:00:00",
          "2020-07-01T00:00:00",
          "2020-08-01T00:00:00",
          "2020-09-01T00:00:00",
          "2020-10-01T00:00:00",
          "2020-11-01T00:00:00",
          "2020-12-01T00:00:00",
          "2021-01-01T00:00:00",
          "2021-02-01T00:00:00",
          "2021-03-01T00:00:00",
          "2021-04-01T00:00:00",
          "2021-05-01T00:00:00",
          "2021-06-01T00:00:00",
          "2021-07-01T00:00:00",
          "2021-08-01T00:00:00",
          "2021-09-01T00:00:00",
          "2021-10-01T00:00:00",
          "2021-11-01T00:00:00",
          "2021-12-01T00:00:00",
          "2022-01-01T00:00:00",
          "2022-02-01T00:00:00",
          "2022-03-01T00:00:00",
          "2022-04-01T00:00:00",
          "2022-05-01T00:00:00",
          "2022-06-01T00:00:00",
          "2022-07-01T00:00:00",
          "2022-08-01T00:00:00",
          "2022-09-01T00:00:00",
          "2022-10-01T00:00:00",
          "2022-11-01T00:00:00",
          "2022-12-01T00:00:00"
         ],
         "xaxis": "x",
         "y": [
          998,
          638,
          649,
          753,
          856,
          825,
          685,
          755,
          755,
          640,
          130,
          155,
          900,
          609,
          765,
          638,
          799,
          666,
          574,
          443,
          489,
          527,
          235,
          122,
          508,
          311,
          629,
          294,
          306,
          338,
          319,
          367,
          422,
          352,
          274,
          178,
          711,
          519,
          647,
          524,
          608,
          662,
          468,
          532,
          561,
          662,
          503,
          402,
          901,
          671,
          917,
          785,
          764,
          645,
          529,
          690,
          842,
          632,
          570,
          405,
          1021,
          770,
          1268,
          349,
          413,
          473,
          408,
          485,
          765,
          604,
          584,
          519,
          648,
          553,
          728,
          456,
          609,
          465,
          440,
          518,
          559,
          657,
          600,
          481,
          441,
          653,
          928,
          527,
          602,
          587,
          511,
          587,
          612,
          653,
          578,
          650,
          710,
          693,
          1154,
          344,
          562,
          656,
          578,
          552,
          757,
          699,
          486,
          517,
          689,
          740,
          1089,
          517,
          616,
          715,
          574,
          647,
          830,
          700,
          613,
          522,
          709,
          730,
          916,
          556,
          585,
          469,
          506,
          619,
          752,
          789,
          697,
          608,
          666,
          700,
          798,
          521,
          507,
          696,
          675,
          1107,
          394,
          379,
          491,
          349,
          523,
          520,
          742,
          484,
          513,
          519,
          457,
          543,
          484,
          374,
          379,
          348,
          493,
          457,
          325,
          172,
          151,
          259,
          418,
          367,
          396,
          362,
          291,
          286,
          424,
          333,
          552,
          313,
          322,
          257,
          238,
          256,
          259,
          178,
          379,
          256,
          230,
          222,
          392,
          316,
          224,
          231,
          118,
          254,
          228,
          188,
          204,
          370
         ],
         "yaxis": "y"
        },
        {
         "hovertemplate": "variable=Label<br>Date=%{x}<br>value=%{y}<extra></extra>",
         "legendgroup": "Label",
         "line": {
          "color": "#EF553B",
          "dash": "solid"
         },
         "marker": {
          "symbol": "circle"
         },
         "mode": "lines",
         "name": "Label",
         "orientation": "v",
         "showlegend": true,
         "type": "scatter",
         "x": [
          "2007-01-01T00:00:00",
          "2007-02-01T00:00:00",
          "2007-03-01T00:00:00",
          "2007-04-01T00:00:00",
          "2007-05-01T00:00:00",
          "2007-06-01T00:00:00",
          "2007-07-01T00:00:00",
          "2007-08-01T00:00:00",
          "2007-09-01T00:00:00",
          "2007-10-01T00:00:00",
          "2007-11-01T00:00:00",
          "2007-12-01T00:00:00",
          "2008-01-01T00:00:00",
          "2008-02-01T00:00:00",
          "2008-03-01T00:00:00",
          "2008-04-01T00:00:00",
          "2008-05-01T00:00:00",
          "2008-06-01T00:00:00",
          "2008-07-01T00:00:00",
          "2008-08-01T00:00:00",
          "2008-09-01T00:00:00",
          "2008-10-01T00:00:00",
          "2008-11-01T00:00:00",
          "2008-12-01T00:00:00",
          "2009-01-01T00:00:00",
          "2009-02-01T00:00:00",
          "2009-03-01T00:00:00",
          "2009-04-01T00:00:00",
          "2009-05-01T00:00:00",
          "2009-06-01T00:00:00",
          "2009-07-01T00:00:00",
          "2009-08-01T00:00:00",
          "2009-09-01T00:00:00",
          "2009-10-01T00:00:00",
          "2009-11-01T00:00:00",
          "2009-12-01T00:00:00",
          "2010-01-01T00:00:00",
          "2010-02-01T00:00:00",
          "2010-03-01T00:00:00",
          "2010-04-01T00:00:00",
          "2010-05-01T00:00:00",
          "2010-06-01T00:00:00",
          "2010-07-01T00:00:00",
          "2010-08-01T00:00:00",
          "2010-09-01T00:00:00",
          "2010-10-01T00:00:00",
          "2010-11-01T00:00:00",
          "2010-12-01T00:00:00",
          "2011-01-01T00:00:00",
          "2011-02-01T00:00:00",
          "2011-03-01T00:00:00",
          "2011-04-01T00:00:00",
          "2011-05-01T00:00:00",
          "2011-06-01T00:00:00",
          "2011-07-01T00:00:00",
          "2011-08-01T00:00:00",
          "2011-09-01T00:00:00",
          "2011-10-01T00:00:00",
          "2011-11-01T00:00:00",
          "2011-12-01T00:00:00",
          "2012-01-01T00:00:00",
          "2012-02-01T00:00:00",
          "2012-03-01T00:00:00",
          "2012-04-01T00:00:00",
          "2012-05-01T00:00:00",
          "2012-06-01T00:00:00",
          "2012-07-01T00:00:00",
          "2012-08-01T00:00:00",
          "2012-09-01T00:00:00",
          "2012-10-01T00:00:00",
          "2012-11-01T00:00:00",
          "2012-12-01T00:00:00",
          "2013-01-01T00:00:00",
          "2013-02-01T00:00:00",
          "2013-03-01T00:00:00",
          "2013-04-01T00:00:00",
          "2013-05-01T00:00:00",
          "2013-06-01T00:00:00",
          "2013-07-01T00:00:00",
          "2013-08-01T00:00:00",
          "2013-09-01T00:00:00",
          "2013-10-01T00:00:00",
          "2013-11-01T00:00:00",
          "2013-12-01T00:00:00",
          "2014-01-01T00:00:00",
          "2014-02-01T00:00:00",
          "2014-03-01T00:00:00",
          "2014-04-01T00:00:00",
          "2014-05-01T00:00:00",
          "2014-06-01T00:00:00",
          "2014-07-01T00:00:00",
          "2014-08-01T00:00:00",
          "2014-09-01T00:00:00",
          "2014-10-01T00:00:00",
          "2014-11-01T00:00:00",
          "2014-12-01T00:00:00",
          "2015-01-01T00:00:00",
          "2015-02-01T00:00:00",
          "2015-03-01T00:00:00",
          "2015-04-01T00:00:00",
          "2015-05-01T00:00:00",
          "2015-06-01T00:00:00",
          "2015-07-01T00:00:00",
          "2015-08-01T00:00:00",
          "2015-09-01T00:00:00",
          "2015-10-01T00:00:00",
          "2015-11-01T00:00:00",
          "2015-12-01T00:00:00",
          "2016-01-01T00:00:00",
          "2016-02-01T00:00:00",
          "2016-03-01T00:00:00",
          "2016-04-01T00:00:00",
          "2016-05-01T00:00:00",
          "2016-06-01T00:00:00",
          "2016-07-01T00:00:00",
          "2016-08-01T00:00:00",
          "2016-09-01T00:00:00",
          "2016-10-01T00:00:00",
          "2016-11-01T00:00:00",
          "2016-12-01T00:00:00",
          "2017-01-01T00:00:00",
          "2017-02-01T00:00:00",
          "2017-03-01T00:00:00",
          "2017-04-01T00:00:00",
          "2017-05-01T00:00:00",
          "2017-06-01T00:00:00",
          "2017-07-01T00:00:00",
          "2017-08-01T00:00:00",
          "2017-09-01T00:00:00",
          "2017-10-01T00:00:00",
          "2017-11-01T00:00:00",
          "2017-12-01T00:00:00",
          "2018-01-01T00:00:00",
          "2018-02-01T00:00:00",
          "2018-03-01T00:00:00",
          "2018-04-01T00:00:00",
          "2018-05-01T00:00:00",
          "2018-06-01T00:00:00",
          "2018-07-01T00:00:00",
          "2018-08-01T00:00:00",
          "2018-09-01T00:00:00",
          "2018-10-01T00:00:00",
          "2018-11-01T00:00:00",
          "2018-12-01T00:00:00",
          "2019-01-01T00:00:00",
          "2019-02-01T00:00:00",
          "2019-03-01T00:00:00",
          "2019-04-01T00:00:00",
          "2019-05-01T00:00:00",
          "2019-06-01T00:00:00",
          "2019-07-01T00:00:00",
          "2019-08-01T00:00:00",
          "2019-09-01T00:00:00",
          "2019-10-01T00:00:00",
          "2019-11-01T00:00:00",
          "2019-12-01T00:00:00",
          "2020-01-01T00:00:00",
          "2020-02-01T00:00:00",
          "2020-03-01T00:00:00",
          "2020-04-01T00:00:00",
          "2020-05-01T00:00:00",
          "2020-06-01T00:00:00",
          "2020-07-01T00:00:00",
          "2020-08-01T00:00:00",
          "2020-09-01T00:00:00",
          "2020-10-01T00:00:00",
          "2020-11-01T00:00:00",
          "2020-12-01T00:00:00",
          "2021-01-01T00:00:00",
          "2021-02-01T00:00:00",
          "2021-03-01T00:00:00",
          "2021-04-01T00:00:00",
          "2021-05-01T00:00:00",
          "2021-06-01T00:00:00",
          "2021-07-01T00:00:00",
          "2021-08-01T00:00:00",
          "2021-09-01T00:00:00",
          "2021-10-01T00:00:00",
          "2021-11-01T00:00:00",
          "2021-12-01T00:00:00",
          "2022-01-01T00:00:00",
          "2022-02-01T00:00:00",
          "2022-03-01T00:00:00",
          "2022-04-01T00:00:00",
          "2022-05-01T00:00:00",
          "2022-06-01T00:00:00",
          "2022-07-01T00:00:00",
          "2022-08-01T00:00:00",
          "2022-09-01T00:00:00",
          "2022-10-01T00:00:00",
          "2022-11-01T00:00:00",
          "2022-12-01T00:00:00"
         ],
         "xaxis": "x",
         "y": [
          921.93,
          598.34,
          618.52,
          707.18,
          812.82,
          797.26,
          648.74,
          720.87,
          727.15,
          611.96,
          169.58,
          177.44,
          894.58,
          622.19,
          758.47,
          635.14,
          790.56,
          688.25,
          574.66,
          457.86,
          501.26,
          546.39,
          233.54,
          157.95,
          546.64,
          334.66,
          692.64,
          324.27,
          330.08,
          446.01,
          348.93,
          391.99,
          518.9,
          423.4,
          309.66,
          234.41,
          792.7,
          531.08,
          715.83,
          547.09,
          631.82,
          659.31,
          456.99,
          566.75,
          592.38,
          656.29,
          527.79,
          400.78,
          920.43,
          681.53,
          896.26,
          757.24,
          751.9,
          628.06,
          515.55,
          681.05,
          791.32,
          599.86,
          541.88,
          424.87,
          1007.93,
          737.52,
          1179.52,
          335.47,
          414.41,
          465.53,
          413.08,
          470.73,
          769.76,
          591.97,
          569.09,
          480.97,
          668.97,
          553.35,
          755.72,
          477.98,
          627.82,
          481.71,
          457.94,
          529.7,
          572.86,
          667.77,
          614.62,
          471.34,
          471.66,
          667.28,
          924.55,
          538.18,
          615.23,
          590.94,
          508.01,
          569.39,
          620.48,
          659.77,
          547.3,
          639.46,
          677.92,
          698.73,
          1097.39,
          404.66,
          554.61,
          657.97,
          569.94,
          542.56,
          743.01,
          693.95,
          485.92,
          519.71,
          690.54,
          729.1,
          1061.62,
          509.68,
          604.08,
          705.27,
          562.34,
          621.87,
          792.97,
          697.3,
          586.36,
          525.87,
          711.84,
          710.76,
          869.7,
          544.55,
          566.11,
          482.78,
          502.06,
          609.6,
          754.05,
          765.45,
          697.51,
          591.37,
          676.89,
          701.72,
          789.22,
          524.44,
          512.24,
          683.71,
          656.41,
          1026.47,
          391.25,
          419.21,
          478.15,
          364.42,
          533.1,
          516.37,
          784.72,
          491.89,
          511.34,
          532.62,
          478.18,
          652.79,
          496.81,
          411.76,
          410.09,
          375.18,
          567.76,
          529.44,
          434.68,
          376.07,
          369.15,
          428.11,
          648.1,
          664.86,
          669.52,
          634.69,
          506.93,
          510.06,
          679.05,
          622.74,
          681.56,
          490.74,
          492.61,
          448.77,
          429.78,
          460.57,
          462.53,
          440.9,
          657.39,
          460.61,
          502.02,
          448.82,
          734.88,
          630.7,
          528.84,
          505.94,
          423.04,
          534.78,
          472.52,
          452.96,
          463.77,
          657.87
         ],
         "yaxis": "y"
        }
       ],
       "layout": {
        "legend": {
         "title": {
          "text": "variable"
         },
         "tracegroupgap": 0
        },
        "margin": {
         "t": 60
        },
        "shapes": [
         {
          "fillcolor": "grey",
          "line": {
           "width": 0
          },
          "opacity": 0.25,
          "type": "rect",
          "x0": "2020-01-01T00:00:00",
          "x1": "2022-12-01T00:00:00",
          "xref": "x",
          "y0": 0,
          "y1": 1,
          "yref": "y domain"
         }
        ],
        "template": {
         "data": {
          "bar": [
           {
            "error_x": {
             "color": "#2a3f5f"
            },
            "error_y": {
             "color": "#2a3f5f"
            },
            "marker": {
             "line": {
              "color": "#E5ECF6",
              "width": 0.5
             },
             "pattern": {
              "fillmode": "overlay",
              "size": 10,
              "solidity": 0.2
             }
            },
            "type": "bar"
           }
          ],
          "barpolar": [
           {
            "marker": {
             "line": {
              "color": "#E5ECF6",
              "width": 0.5
             },
             "pattern": {
              "fillmode": "overlay",
              "size": 10,
              "solidity": 0.2
             }
            },
            "type": "barpolar"
           }
          ],
          "carpet": [
           {
            "aaxis": {
             "endlinecolor": "#2a3f5f",
             "gridcolor": "white",
             "linecolor": "white",
             "minorgridcolor": "white",
             "startlinecolor": "#2a3f5f"
            },
            "baxis": {
             "endlinecolor": "#2a3f5f",
             "gridcolor": "white",
             "linecolor": "white",
             "minorgridcolor": "white",
             "startlinecolor": "#2a3f5f"
            },
            "type": "carpet"
           }
          ],
          "choropleth": [
           {
            "colorbar": {
             "outlinewidth": 0,
             "ticks": ""
            },
            "type": "choropleth"
           }
          ],
          "contour": [
           {
            "colorbar": {
             "outlinewidth": 0,
             "ticks": ""
            },
            "colorscale": [
             [
              0,
              "#0d0887"
             ],
             [
              0.1111111111111111,
              "#46039f"
             ],
             [
              0.2222222222222222,
              "#7201a8"
             ],
             [
              0.3333333333333333,
              "#9c179e"
             ],
             [
              0.4444444444444444,
              "#bd3786"
             ],
             [
              0.5555555555555556,
              "#d8576b"
             ],
             [
              0.6666666666666666,
              "#ed7953"
             ],
             [
              0.7777777777777778,
              "#fb9f3a"
             ],
             [
              0.8888888888888888,
              "#fdca26"
             ],
             [
              1,
              "#f0f921"
             ]
            ],
            "type": "contour"
           }
          ],
          "contourcarpet": [
           {
            "colorbar": {
             "outlinewidth": 0,
             "ticks": ""
            },
            "type": "contourcarpet"
           }
          ],
          "heatmap": [
           {
            "colorbar": {
             "outlinewidth": 0,
             "ticks": ""
            },
            "colorscale": [
             [
              0,
              "#0d0887"
             ],
             [
              0.1111111111111111,
              "#46039f"
             ],
             [
              0.2222222222222222,
              "#7201a8"
             ],
             [
              0.3333333333333333,
              "#9c179e"
             ],
             [
              0.4444444444444444,
              "#bd3786"
             ],
             [
              0.5555555555555556,
              "#d8576b"
             ],
             [
              0.6666666666666666,
              "#ed7953"
             ],
             [
              0.7777777777777778,
              "#fb9f3a"
             ],
             [
              0.8888888888888888,
              "#fdca26"
             ],
             [
              1,
              "#f0f921"
             ]
            ],
            "type": "heatmap"
           }
          ],
          "heatmapgl": [
           {
            "colorbar": {
             "outlinewidth": 0,
             "ticks": ""
            },
            "colorscale": [
             [
              0,
              "#0d0887"
             ],
             [
              0.1111111111111111,
              "#46039f"
             ],
             [
              0.2222222222222222,
              "#7201a8"
             ],
             [
              0.3333333333333333,
              "#9c179e"
             ],
             [
              0.4444444444444444,
              "#bd3786"
             ],
             [
              0.5555555555555556,
              "#d8576b"
             ],
             [
              0.6666666666666666,
              "#ed7953"
             ],
             [
              0.7777777777777778,
              "#fb9f3a"
             ],
             [
              0.8888888888888888,
              "#fdca26"
             ],
             [
              1,
              "#f0f921"
             ]
            ],
            "type": "heatmapgl"
           }
          ],
          "histogram": [
           {
            "marker": {
             "pattern": {
              "fillmode": "overlay",
              "size": 10,
              "solidity": 0.2
             }
            },
            "type": "histogram"
           }
          ],
          "histogram2d": [
           {
            "colorbar": {
             "outlinewidth": 0,
             "ticks": ""
            },
            "colorscale": [
             [
              0,
              "#0d0887"
             ],
             [
              0.1111111111111111,
              "#46039f"
             ],
             [
              0.2222222222222222,
              "#7201a8"
             ],
             [
              0.3333333333333333,
              "#9c179e"
             ],
             [
              0.4444444444444444,
              "#bd3786"
             ],
             [
              0.5555555555555556,
              "#d8576b"
             ],
             [
              0.6666666666666666,
              "#ed7953"
             ],
             [
              0.7777777777777778,
              "#fb9f3a"
             ],
             [
              0.8888888888888888,
              "#fdca26"
             ],
             [
              1,
              "#f0f921"
             ]
            ],
            "type": "histogram2d"
           }
          ],
          "histogram2dcontour": [
           {
            "colorbar": {
             "outlinewidth": 0,
             "ticks": ""
            },
            "colorscale": [
             [
              0,
              "#0d0887"
             ],
             [
              0.1111111111111111,
              "#46039f"
             ],
             [
              0.2222222222222222,
              "#7201a8"
             ],
             [
              0.3333333333333333,
              "#9c179e"
             ],
             [
              0.4444444444444444,
              "#bd3786"
             ],
             [
              0.5555555555555556,
              "#d8576b"
             ],
             [
              0.6666666666666666,
              "#ed7953"
             ],
             [
              0.7777777777777778,
              "#fb9f3a"
             ],
             [
              0.8888888888888888,
              "#fdca26"
             ],
             [
              1,
              "#f0f921"
             ]
            ],
            "type": "histogram2dcontour"
           }
          ],
          "mesh3d": [
           {
            "colorbar": {
             "outlinewidth": 0,
             "ticks": ""
            },
            "type": "mesh3d"
           }
          ],
          "parcoords": [
           {
            "line": {
             "colorbar": {
              "outlinewidth": 0,
              "ticks": ""
             }
            },
            "type": "parcoords"
           }
          ],
          "pie": [
           {
            "automargin": true,
            "type": "pie"
           }
          ],
          "scatter": [
           {
            "fillpattern": {
             "fillmode": "overlay",
             "size": 10,
             "solidity": 0.2
            },
            "type": "scatter"
           }
          ],
          "scatter3d": [
           {
            "line": {
             "colorbar": {
              "outlinewidth": 0,
              "ticks": ""
             }
            },
            "marker": {
             "colorbar": {
              "outlinewidth": 0,
              "ticks": ""
             }
            },
            "type": "scatter3d"
           }
          ],
          "scattercarpet": [
           {
            "marker": {
             "colorbar": {
              "outlinewidth": 0,
              "ticks": ""
             }
            },
            "type": "scattercarpet"
           }
          ],
          "scattergeo": [
           {
            "marker": {
             "colorbar": {
              "outlinewidth": 0,
              "ticks": ""
             }
            },
            "type": "scattergeo"
           }
          ],
          "scattergl": [
           {
            "marker": {
             "colorbar": {
              "outlinewidth": 0,
              "ticks": ""
             }
            },
            "type": "scattergl"
           }
          ],
          "scattermapbox": [
           {
            "marker": {
             "colorbar": {
              "outlinewidth": 0,
              "ticks": ""
             }
            },
            "type": "scattermapbox"
           }
          ],
          "scatterpolar": [
           {
            "marker": {
             "colorbar": {
              "outlinewidth": 0,
              "ticks": ""
             }
            },
            "type": "scatterpolar"
           }
          ],
          "scatterpolargl": [
           {
            "marker": {
             "colorbar": {
              "outlinewidth": 0,
              "ticks": ""
             }
            },
            "type": "scatterpolargl"
           }
          ],
          "scatterternary": [
           {
            "marker": {
             "colorbar": {
              "outlinewidth": 0,
              "ticks": ""
             }
            },
            "type": "scatterternary"
           }
          ],
          "surface": [
           {
            "colorbar": {
             "outlinewidth": 0,
             "ticks": ""
            },
            "colorscale": [
             [
              0,
              "#0d0887"
             ],
             [
              0.1111111111111111,
              "#46039f"
             ],
             [
              0.2222222222222222,
              "#7201a8"
             ],
             [
              0.3333333333333333,
              "#9c179e"
             ],
             [
              0.4444444444444444,
              "#bd3786"
             ],
             [
              0.5555555555555556,
              "#d8576b"
             ],
             [
              0.6666666666666666,
              "#ed7953"
             ],
             [
              0.7777777777777778,
              "#fb9f3a"
             ],
             [
              0.8888888888888888,
              "#fdca26"
             ],
             [
              1,
              "#f0f921"
             ]
            ],
            "type": "surface"
           }
          ],
          "table": [
           {
            "cells": {
             "fill": {
              "color": "#EBF0F8"
             },
             "line": {
              "color": "white"
             }
            },
            "header": {
             "fill": {
              "color": "#C8D4E3"
             },
             "line": {
              "color": "white"
             }
            },
            "type": "table"
           }
          ]
         },
         "layout": {
          "annotationdefaults": {
           "arrowcolor": "#2a3f5f",
           "arrowhead": 0,
           "arrowwidth": 1
          },
          "autotypenumbers": "strict",
          "coloraxis": {
           "colorbar": {
            "outlinewidth": 0,
            "ticks": ""
           }
          },
          "colorscale": {
           "diverging": [
            [
             0,
             "#8e0152"
            ],
            [
             0.1,
             "#c51b7d"
            ],
            [
             0.2,
             "#de77ae"
            ],
            [
             0.3,
             "#f1b6da"
            ],
            [
             0.4,
             "#fde0ef"
            ],
            [
             0.5,
             "#f7f7f7"
            ],
            [
             0.6,
             "#e6f5d0"
            ],
            [
             0.7,
             "#b8e186"
            ],
            [
             0.8,
             "#7fbc41"
            ],
            [
             0.9,
             "#4d9221"
            ],
            [
             1,
             "#276419"
            ]
           ],
           "sequential": [
            [
             0,
             "#0d0887"
            ],
            [
             0.1111111111111111,
             "#46039f"
            ],
            [
             0.2222222222222222,
             "#7201a8"
            ],
            [
             0.3333333333333333,
             "#9c179e"
            ],
            [
             0.4444444444444444,
             "#bd3786"
            ],
            [
             0.5555555555555556,
             "#d8576b"
            ],
            [
             0.6666666666666666,
             "#ed7953"
            ],
            [
             0.7777777777777778,
             "#fb9f3a"
            ],
            [
             0.8888888888888888,
             "#fdca26"
            ],
            [
             1,
             "#f0f921"
            ]
           ],
           "sequentialminus": [
            [
             0,
             "#0d0887"
            ],
            [
             0.1111111111111111,
             "#46039f"
            ],
            [
             0.2222222222222222,
             "#7201a8"
            ],
            [
             0.3333333333333333,
             "#9c179e"
            ],
            [
             0.4444444444444444,
             "#bd3786"
            ],
            [
             0.5555555555555556,
             "#d8576b"
            ],
            [
             0.6666666666666666,
             "#ed7953"
            ],
            [
             0.7777777777777778,
             "#fb9f3a"
            ],
            [
             0.8888888888888888,
             "#fdca26"
            ],
            [
             1,
             "#f0f921"
            ]
           ]
          },
          "colorway": [
           "#636efa",
           "#EF553B",
           "#00cc96",
           "#ab63fa",
           "#FFA15A",
           "#19d3f3",
           "#FF6692",
           "#B6E880",
           "#FF97FF",
           "#FECB52"
          ],
          "font": {
           "color": "#2a3f5f"
          },
          "geo": {
           "bgcolor": "white",
           "lakecolor": "white",
           "landcolor": "#E5ECF6",
           "showlakes": true,
           "showland": true,
           "subunitcolor": "white"
          },
          "hoverlabel": {
           "align": "left"
          },
          "hovermode": "closest",
          "mapbox": {
           "style": "light"
          },
          "paper_bgcolor": "white",
          "plot_bgcolor": "#E5ECF6",
          "polar": {
           "angularaxis": {
            "gridcolor": "white",
            "linecolor": "white",
            "ticks": ""
           },
           "bgcolor": "#E5ECF6",
           "radialaxis": {
            "gridcolor": "white",
            "linecolor": "white",
            "ticks": ""
           }
          },
          "scene": {
           "xaxis": {
            "backgroundcolor": "#E5ECF6",
            "gridcolor": "white",
            "gridwidth": 2,
            "linecolor": "white",
            "showbackground": true,
            "ticks": "",
            "zerolinecolor": "white"
           },
           "yaxis": {
            "backgroundcolor": "#E5ECF6",
            "gridcolor": "white",
            "gridwidth": 2,
            "linecolor": "white",
            "showbackground": true,
            "ticks": "",
            "zerolinecolor": "white"
           },
           "zaxis": {
            "backgroundcolor": "#E5ECF6",
            "gridcolor": "white",
            "gridwidth": 2,
            "linecolor": "white",
            "showbackground": true,
            "ticks": "",
            "zerolinecolor": "white"
           }
          },
          "shapedefaults": {
           "line": {
            "color": "#2a3f5f"
           }
          },
          "ternary": {
           "aaxis": {
            "gridcolor": "white",
            "linecolor": "white",
            "ticks": ""
           },
           "baxis": {
            "gridcolor": "white",
            "linecolor": "white",
            "ticks": ""
           },
           "bgcolor": "#E5ECF6",
           "caxis": {
            "gridcolor": "white",
            "linecolor": "white",
            "ticks": ""
           }
          },
          "title": {
           "x": 0.05
          },
          "xaxis": {
           "automargin": true,
           "gridcolor": "white",
           "linecolor": "white",
           "ticks": "",
           "title": {
            "standoff": 15
           },
           "zerolinecolor": "white",
           "zerolinewidth": 2
          },
          "yaxis": {
           "automargin": true,
           "gridcolor": "white",
           "linecolor": "white",
           "ticks": "",
           "title": {
            "standoff": 15
           },
           "zerolinecolor": "white",
           "zerolinewidth": 2
          }
         }
        },
        "xaxis": {
         "anchor": "y",
         "domain": [
          0,
          1
         ],
         "title": {
          "text": "Date"
         }
        },
        "yaxis": {
         "anchor": "x",
         "domain": [
          0,
          1
         ],
         "title": {
          "text": "value"
         }
        }
       }
      }
     },
     "metadata": {},
     "output_type": "display_data"
    }
   ],
   "source": [
    "import plotly.express as px\n",
    "# Generate predictions on the original dataset\n",
    "predictions = predict_model(model, data=df)\n",
    "\n",
    "# Add a date column in the dataset\n",
    "predictions['Date'] = pd.date_range(start=start, end = end, freq = 'MS')\n",
    "\n",
    "# Line plot\n",
    "fig = px.line(predictions, x='Date', y=[dep_var, \"Label\"]) #, template = 'plotly_dark')\n",
    "\n",
    "# Add a vertical rectange for test-set separation\n",
    "fig.add_vrect(x0=start_test, x1=predictions.Date.max(), fillcolor=\"grey\", opacity=0.25, line_width=0)\n",
    "fig.show()"
   ]
  },
  {
   "attachments": {},
   "cell_type": "markdown",
   "metadata": {},
   "source": [
    "##### Tuned model"
   ]
  },
  {
   "cell_type": "code",
   "execution_count": 30,
   "metadata": {},
   "outputs": [
    {
     "data": {
      "text/html": [
       "<style type=\"text/css\">\n",
       "</style>\n",
       "<table id=\"T_41359\">\n",
       "  <thead>\n",
       "    <tr>\n",
       "      <th class=\"blank level0\" >&nbsp;</th>\n",
       "      <th id=\"T_41359_level0_col0\" class=\"col_heading level0 col0\" >Model</th>\n",
       "      <th id=\"T_41359_level0_col1\" class=\"col_heading level0 col1\" >MAE</th>\n",
       "      <th id=\"T_41359_level0_col2\" class=\"col_heading level0 col2\" >MSE</th>\n",
       "      <th id=\"T_41359_level0_col3\" class=\"col_heading level0 col3\" >RMSE</th>\n",
       "      <th id=\"T_41359_level0_col4\" class=\"col_heading level0 col4\" >R2</th>\n",
       "      <th id=\"T_41359_level0_col5\" class=\"col_heading level0 col5\" >RMSLE</th>\n",
       "      <th id=\"T_41359_level0_col6\" class=\"col_heading level0 col6\" >MAPE</th>\n",
       "    </tr>\n",
       "  </thead>\n",
       "  <tbody>\n",
       "    <tr>\n",
       "      <th id=\"T_41359_level0_row0\" class=\"row_heading level0 row0\" >0</th>\n",
       "      <td id=\"T_41359_row0_col0\" class=\"data row0 col0\" >Random Forest Regressor</td>\n",
       "      <td id=\"T_41359_row0_col1\" class=\"data row0 col1\" >78.9511</td>\n",
       "      <td id=\"T_41359_row0_col2\" class=\"data row0 col2\" >13567.2646</td>\n",
       "      <td id=\"T_41359_row0_col3\" class=\"data row0 col3\" >116.4786</td>\n",
       "      <td id=\"T_41359_row0_col4\" class=\"data row0 col4\" >0.6944</td>\n",
       "      <td id=\"T_41359_row0_col5\" class=\"data row0 col5\" >0.3032</td>\n",
       "      <td id=\"T_41359_row0_col6\" class=\"data row0 col6\" >0.2403</td>\n",
       "    </tr>\n",
       "  </tbody>\n",
       "</table>\n"
      ],
      "text/plain": [
       "<pandas.io.formats.style.Styler at 0x1e43e7d93d0>"
      ]
     },
     "metadata": {},
     "output_type": "display_data"
    },
    {
     "data": {
      "application/vnd.plotly.v1+json": {
       "config": {
        "plotlyServerURL": "https://plot.ly"
       },
       "data": [
        {
         "hovertemplate": "variable=Orders<br>Date=%{x}<br>value=%{y}<extra></extra>",
         "legendgroup": "Orders",
         "line": {
          "color": "#636efa",
          "dash": "solid"
         },
         "marker": {
          "symbol": "circle"
         },
         "mode": "lines",
         "name": "Orders",
         "orientation": "v",
         "showlegend": true,
         "type": "scatter",
         "x": [
          "2007-01-01T00:00:00",
          "2007-02-01T00:00:00",
          "2007-03-01T00:00:00",
          "2007-04-01T00:00:00",
          "2007-05-01T00:00:00",
          "2007-06-01T00:00:00",
          "2007-07-01T00:00:00",
          "2007-08-01T00:00:00",
          "2007-09-01T00:00:00",
          "2007-10-01T00:00:00",
          "2007-11-01T00:00:00",
          "2007-12-01T00:00:00",
          "2008-01-01T00:00:00",
          "2008-02-01T00:00:00",
          "2008-03-01T00:00:00",
          "2008-04-01T00:00:00",
          "2008-05-01T00:00:00",
          "2008-06-01T00:00:00",
          "2008-07-01T00:00:00",
          "2008-08-01T00:00:00",
          "2008-09-01T00:00:00",
          "2008-10-01T00:00:00",
          "2008-11-01T00:00:00",
          "2008-12-01T00:00:00",
          "2009-01-01T00:00:00",
          "2009-02-01T00:00:00",
          "2009-03-01T00:00:00",
          "2009-04-01T00:00:00",
          "2009-05-01T00:00:00",
          "2009-06-01T00:00:00",
          "2009-07-01T00:00:00",
          "2009-08-01T00:00:00",
          "2009-09-01T00:00:00",
          "2009-10-01T00:00:00",
          "2009-11-01T00:00:00",
          "2009-12-01T00:00:00",
          "2010-01-01T00:00:00",
          "2010-02-01T00:00:00",
          "2010-03-01T00:00:00",
          "2010-04-01T00:00:00",
          "2010-05-01T00:00:00",
          "2010-06-01T00:00:00",
          "2010-07-01T00:00:00",
          "2010-08-01T00:00:00",
          "2010-09-01T00:00:00",
          "2010-10-01T00:00:00",
          "2010-11-01T00:00:00",
          "2010-12-01T00:00:00",
          "2011-01-01T00:00:00",
          "2011-02-01T00:00:00",
          "2011-03-01T00:00:00",
          "2011-04-01T00:00:00",
          "2011-05-01T00:00:00",
          "2011-06-01T00:00:00",
          "2011-07-01T00:00:00",
          "2011-08-01T00:00:00",
          "2011-09-01T00:00:00",
          "2011-10-01T00:00:00",
          "2011-11-01T00:00:00",
          "2011-12-01T00:00:00",
          "2012-01-01T00:00:00",
          "2012-02-01T00:00:00",
          "2012-03-01T00:00:00",
          "2012-04-01T00:00:00",
          "2012-05-01T00:00:00",
          "2012-06-01T00:00:00",
          "2012-07-01T00:00:00",
          "2012-08-01T00:00:00",
          "2012-09-01T00:00:00",
          "2012-10-01T00:00:00",
          "2012-11-01T00:00:00",
          "2012-12-01T00:00:00",
          "2013-01-01T00:00:00",
          "2013-02-01T00:00:00",
          "2013-03-01T00:00:00",
          "2013-04-01T00:00:00",
          "2013-05-01T00:00:00",
          "2013-06-01T00:00:00",
          "2013-07-01T00:00:00",
          "2013-08-01T00:00:00",
          "2013-09-01T00:00:00",
          "2013-10-01T00:00:00",
          "2013-11-01T00:00:00",
          "2013-12-01T00:00:00",
          "2014-01-01T00:00:00",
          "2014-02-01T00:00:00",
          "2014-03-01T00:00:00",
          "2014-04-01T00:00:00",
          "2014-05-01T00:00:00",
          "2014-06-01T00:00:00",
          "2014-07-01T00:00:00",
          "2014-08-01T00:00:00",
          "2014-09-01T00:00:00",
          "2014-10-01T00:00:00",
          "2014-11-01T00:00:00",
          "2014-12-01T00:00:00",
          "2015-01-01T00:00:00",
          "2015-02-01T00:00:00",
          "2015-03-01T00:00:00",
          "2015-04-01T00:00:00",
          "2015-05-01T00:00:00",
          "2015-06-01T00:00:00",
          "2015-07-01T00:00:00",
          "2015-08-01T00:00:00",
          "2015-09-01T00:00:00",
          "2015-10-01T00:00:00",
          "2015-11-01T00:00:00",
          "2015-12-01T00:00:00",
          "2016-01-01T00:00:00",
          "2016-02-01T00:00:00",
          "2016-03-01T00:00:00",
          "2016-04-01T00:00:00",
          "2016-05-01T00:00:00",
          "2016-06-01T00:00:00",
          "2016-07-01T00:00:00",
          "2016-08-01T00:00:00",
          "2016-09-01T00:00:00",
          "2016-10-01T00:00:00",
          "2016-11-01T00:00:00",
          "2016-12-01T00:00:00",
          "2017-01-01T00:00:00",
          "2017-02-01T00:00:00",
          "2017-03-01T00:00:00",
          "2017-04-01T00:00:00",
          "2017-05-01T00:00:00",
          "2017-06-01T00:00:00",
          "2017-07-01T00:00:00",
          "2017-08-01T00:00:00",
          "2017-09-01T00:00:00",
          "2017-10-01T00:00:00",
          "2017-11-01T00:00:00",
          "2017-12-01T00:00:00",
          "2018-01-01T00:00:00",
          "2018-02-01T00:00:00",
          "2018-03-01T00:00:00",
          "2018-04-01T00:00:00",
          "2018-05-01T00:00:00",
          "2018-06-01T00:00:00",
          "2018-07-01T00:00:00",
          "2018-08-01T00:00:00",
          "2018-09-01T00:00:00",
          "2018-10-01T00:00:00",
          "2018-11-01T00:00:00",
          "2018-12-01T00:00:00",
          "2019-01-01T00:00:00",
          "2019-02-01T00:00:00",
          "2019-03-01T00:00:00",
          "2019-04-01T00:00:00",
          "2019-05-01T00:00:00",
          "2019-06-01T00:00:00",
          "2019-07-01T00:00:00",
          "2019-08-01T00:00:00",
          "2019-09-01T00:00:00",
          "2019-10-01T00:00:00",
          "2019-11-01T00:00:00",
          "2019-12-01T00:00:00",
          "2020-01-01T00:00:00",
          "2020-02-01T00:00:00",
          "2020-03-01T00:00:00",
          "2020-04-01T00:00:00",
          "2020-05-01T00:00:00",
          "2020-06-01T00:00:00",
          "2020-07-01T00:00:00",
          "2020-08-01T00:00:00",
          "2020-09-01T00:00:00",
          "2020-10-01T00:00:00",
          "2020-11-01T00:00:00",
          "2020-12-01T00:00:00",
          "2021-01-01T00:00:00",
          "2021-02-01T00:00:00",
          "2021-03-01T00:00:00",
          "2021-04-01T00:00:00",
          "2021-05-01T00:00:00",
          "2021-06-01T00:00:00",
          "2021-07-01T00:00:00",
          "2021-08-01T00:00:00",
          "2021-09-01T00:00:00",
          "2021-10-01T00:00:00",
          "2021-11-01T00:00:00",
          "2021-12-01T00:00:00",
          "2022-01-01T00:00:00",
          "2022-02-01T00:00:00",
          "2022-03-01T00:00:00",
          "2022-04-01T00:00:00",
          "2022-05-01T00:00:00",
          "2022-06-01T00:00:00",
          "2022-07-01T00:00:00",
          "2022-08-01T00:00:00",
          "2022-09-01T00:00:00",
          "2022-10-01T00:00:00",
          "2022-11-01T00:00:00",
          "2022-12-01T00:00:00"
         ],
         "xaxis": "x",
         "y": [
          998,
          638,
          649,
          753,
          856,
          825,
          685,
          755,
          755,
          640,
          130,
          155,
          900,
          609,
          765,
          638,
          799,
          666,
          574,
          443,
          489,
          527,
          235,
          122,
          508,
          311,
          629,
          294,
          306,
          338,
          319,
          367,
          422,
          352,
          274,
          178,
          711,
          519,
          647,
          524,
          608,
          662,
          468,
          532,
          561,
          662,
          503,
          402,
          901,
          671,
          917,
          785,
          764,
          645,
          529,
          690,
          842,
          632,
          570,
          405,
          1021,
          770,
          1268,
          349,
          413,
          473,
          408,
          485,
          765,
          604,
          584,
          519,
          648,
          553,
          728,
          456,
          609,
          465,
          440,
          518,
          559,
          657,
          600,
          481,
          441,
          653,
          928,
          527,
          602,
          587,
          511,
          587,
          612,
          653,
          578,
          650,
          710,
          693,
          1154,
          344,
          562,
          656,
          578,
          552,
          757,
          699,
          486,
          517,
          689,
          740,
          1089,
          517,
          616,
          715,
          574,
          647,
          830,
          700,
          613,
          522,
          709,
          730,
          916,
          556,
          585,
          469,
          506,
          619,
          752,
          789,
          697,
          608,
          666,
          700,
          798,
          521,
          507,
          696,
          675,
          1107,
          394,
          379,
          491,
          349,
          523,
          520,
          742,
          484,
          513,
          519,
          457,
          543,
          484,
          374,
          379,
          348,
          493,
          457,
          325,
          172,
          151,
          259,
          418,
          367,
          396,
          362,
          291,
          286,
          424,
          333,
          552,
          313,
          322,
          257,
          238,
          256,
          259,
          178,
          379,
          256,
          230,
          222,
          392,
          316,
          224,
          231,
          118,
          254,
          228,
          188,
          204,
          370
         ],
         "yaxis": "y"
        },
        {
         "hovertemplate": "variable=Label<br>Date=%{x}<br>value=%{y}<extra></extra>",
         "legendgroup": "Label",
         "line": {
          "color": "#EF553B",
          "dash": "solid"
         },
         "marker": {
          "symbol": "circle"
         },
         "mode": "lines",
         "name": "Label",
         "orientation": "v",
         "showlegend": true,
         "type": "scatter",
         "x": [
          "2007-01-01T00:00:00",
          "2007-02-01T00:00:00",
          "2007-03-01T00:00:00",
          "2007-04-01T00:00:00",
          "2007-05-01T00:00:00",
          "2007-06-01T00:00:00",
          "2007-07-01T00:00:00",
          "2007-08-01T00:00:00",
          "2007-09-01T00:00:00",
          "2007-10-01T00:00:00",
          "2007-11-01T00:00:00",
          "2007-12-01T00:00:00",
          "2008-01-01T00:00:00",
          "2008-02-01T00:00:00",
          "2008-03-01T00:00:00",
          "2008-04-01T00:00:00",
          "2008-05-01T00:00:00",
          "2008-06-01T00:00:00",
          "2008-07-01T00:00:00",
          "2008-08-01T00:00:00",
          "2008-09-01T00:00:00",
          "2008-10-01T00:00:00",
          "2008-11-01T00:00:00",
          "2008-12-01T00:00:00",
          "2009-01-01T00:00:00",
          "2009-02-01T00:00:00",
          "2009-03-01T00:00:00",
          "2009-04-01T00:00:00",
          "2009-05-01T00:00:00",
          "2009-06-01T00:00:00",
          "2009-07-01T00:00:00",
          "2009-08-01T00:00:00",
          "2009-09-01T00:00:00",
          "2009-10-01T00:00:00",
          "2009-11-01T00:00:00",
          "2009-12-01T00:00:00",
          "2010-01-01T00:00:00",
          "2010-02-01T00:00:00",
          "2010-03-01T00:00:00",
          "2010-04-01T00:00:00",
          "2010-05-01T00:00:00",
          "2010-06-01T00:00:00",
          "2010-07-01T00:00:00",
          "2010-08-01T00:00:00",
          "2010-09-01T00:00:00",
          "2010-10-01T00:00:00",
          "2010-11-01T00:00:00",
          "2010-12-01T00:00:00",
          "2011-01-01T00:00:00",
          "2011-02-01T00:00:00",
          "2011-03-01T00:00:00",
          "2011-04-01T00:00:00",
          "2011-05-01T00:00:00",
          "2011-06-01T00:00:00",
          "2011-07-01T00:00:00",
          "2011-08-01T00:00:00",
          "2011-09-01T00:00:00",
          "2011-10-01T00:00:00",
          "2011-11-01T00:00:00",
          "2011-12-01T00:00:00",
          "2012-01-01T00:00:00",
          "2012-02-01T00:00:00",
          "2012-03-01T00:00:00",
          "2012-04-01T00:00:00",
          "2012-05-01T00:00:00",
          "2012-06-01T00:00:00",
          "2012-07-01T00:00:00",
          "2012-08-01T00:00:00",
          "2012-09-01T00:00:00",
          "2012-10-01T00:00:00",
          "2012-11-01T00:00:00",
          "2012-12-01T00:00:00",
          "2013-01-01T00:00:00",
          "2013-02-01T00:00:00",
          "2013-03-01T00:00:00",
          "2013-04-01T00:00:00",
          "2013-05-01T00:00:00",
          "2013-06-01T00:00:00",
          "2013-07-01T00:00:00",
          "2013-08-01T00:00:00",
          "2013-09-01T00:00:00",
          "2013-10-01T00:00:00",
          "2013-11-01T00:00:00",
          "2013-12-01T00:00:00",
          "2014-01-01T00:00:00",
          "2014-02-01T00:00:00",
          "2014-03-01T00:00:00",
          "2014-04-01T00:00:00",
          "2014-05-01T00:00:00",
          "2014-06-01T00:00:00",
          "2014-07-01T00:00:00",
          "2014-08-01T00:00:00",
          "2014-09-01T00:00:00",
          "2014-10-01T00:00:00",
          "2014-11-01T00:00:00",
          "2014-12-01T00:00:00",
          "2015-01-01T00:00:00",
          "2015-02-01T00:00:00",
          "2015-03-01T00:00:00",
          "2015-04-01T00:00:00",
          "2015-05-01T00:00:00",
          "2015-06-01T00:00:00",
          "2015-07-01T00:00:00",
          "2015-08-01T00:00:00",
          "2015-09-01T00:00:00",
          "2015-10-01T00:00:00",
          "2015-11-01T00:00:00",
          "2015-12-01T00:00:00",
          "2016-01-01T00:00:00",
          "2016-02-01T00:00:00",
          "2016-03-01T00:00:00",
          "2016-04-01T00:00:00",
          "2016-05-01T00:00:00",
          "2016-06-01T00:00:00",
          "2016-07-01T00:00:00",
          "2016-08-01T00:00:00",
          "2016-09-01T00:00:00",
          "2016-10-01T00:00:00",
          "2016-11-01T00:00:00",
          "2016-12-01T00:00:00",
          "2017-01-01T00:00:00",
          "2017-02-01T00:00:00",
          "2017-03-01T00:00:00",
          "2017-04-01T00:00:00",
          "2017-05-01T00:00:00",
          "2017-06-01T00:00:00",
          "2017-07-01T00:00:00",
          "2017-08-01T00:00:00",
          "2017-09-01T00:00:00",
          "2017-10-01T00:00:00",
          "2017-11-01T00:00:00",
          "2017-12-01T00:00:00",
          "2018-01-01T00:00:00",
          "2018-02-01T00:00:00",
          "2018-03-01T00:00:00",
          "2018-04-01T00:00:00",
          "2018-05-01T00:00:00",
          "2018-06-01T00:00:00",
          "2018-07-01T00:00:00",
          "2018-08-01T00:00:00",
          "2018-09-01T00:00:00",
          "2018-10-01T00:00:00",
          "2018-11-01T00:00:00",
          "2018-12-01T00:00:00",
          "2019-01-01T00:00:00",
          "2019-02-01T00:00:00",
          "2019-03-01T00:00:00",
          "2019-04-01T00:00:00",
          "2019-05-01T00:00:00",
          "2019-06-01T00:00:00",
          "2019-07-01T00:00:00",
          "2019-08-01T00:00:00",
          "2019-09-01T00:00:00",
          "2019-10-01T00:00:00",
          "2019-11-01T00:00:00",
          "2019-12-01T00:00:00",
          "2020-01-01T00:00:00",
          "2020-02-01T00:00:00",
          "2020-03-01T00:00:00",
          "2020-04-01T00:00:00",
          "2020-05-01T00:00:00",
          "2020-06-01T00:00:00",
          "2020-07-01T00:00:00",
          "2020-08-01T00:00:00",
          "2020-09-01T00:00:00",
          "2020-10-01T00:00:00",
          "2020-11-01T00:00:00",
          "2020-12-01T00:00:00",
          "2021-01-01T00:00:00",
          "2021-02-01T00:00:00",
          "2021-03-01T00:00:00",
          "2021-04-01T00:00:00",
          "2021-05-01T00:00:00",
          "2021-06-01T00:00:00",
          "2021-07-01T00:00:00",
          "2021-08-01T00:00:00",
          "2021-09-01T00:00:00",
          "2021-10-01T00:00:00",
          "2021-11-01T00:00:00",
          "2021-12-01T00:00:00",
          "2022-01-01T00:00:00",
          "2022-02-01T00:00:00",
          "2022-03-01T00:00:00",
          "2022-04-01T00:00:00",
          "2022-05-01T00:00:00",
          "2022-06-01T00:00:00",
          "2022-07-01T00:00:00",
          "2022-08-01T00:00:00",
          "2022-09-01T00:00:00",
          "2022-10-01T00:00:00",
          "2022-11-01T00:00:00",
          "2022-12-01T00:00:00"
         ],
         "xaxis": "x",
         "y": [
          858.0234922465197,
          580.9758132802455,
          592.3856906950219,
          663.1124774935893,
          772.1125330032519,
          759.1107324676199,
          619.5002092148487,
          671.1001712187826,
          681.0903063054562,
          595.5928823645154,
          193.1618989131863,
          186.0888644330466,
          876.2567790954878,
          619.7288972224279,
          741.9360172383574,
          626.2727935569166,
          774.6919483821787,
          713.8862296715223,
          577.6938132293174,
          492.5367159840074,
          529.9630586039814,
          567.050791196579,
          253.2020691793495,
          185.51876262626277,
          579.2151787085172,
          346.72994340750745,
          743.974056150702,
          341.78172866853845,
          338.78986008803736,
          482.4889481327566,
          356.57448189557954,
          385.6788709111521,
          553.4783071034508,
          472.3001837051064,
          336.5407340276517,
          244.72084325598772,
          833.7058178924821,
          561.8544664722829,
          737.873474103385,
          606.2686778943922,
          650.5683540437494,
          665.2572469504015,
          481.0942879922745,
          607.6966751450326,
          626.084434079926,
          665.5079174809846,
          551.7017091696044,
          407.6929555013526,
          893.1374384524547,
          698.298154016819,
          875.3528390466316,
          728.230197683722,
          725.5735469836735,
          599.1101860823179,
          513.57683030602,
          672.2074237184695,
          737.2435187036858,
          557.5370406628197,
          506.97361258417175,
          450.42155059146836,
          960.518209559143,
          710.0888217325273,
          1118.9424257759779,
          343.2534099375191,
          414.56286760346444,
          472.49224253774713,
          410.44395421614763,
          477.3275556775402,
          759.0857569072192,
          564.9227222294992,
          549.0305984564143,
          460.5955693128051,
          690.6995701241328,
          550.0585103022967,
          762.7755439044947,
          502.6559604387581,
          646.1623840423947,
          507.8675886947524,
          493.91244708443617,
          538.5211281958681,
          582.4928902065565,
          687.1897226715059,
          640.4826264514957,
          460.22473572170935,
          508.7151021230483,
          685.3409275885286,
          908.6371298920654,
          545.0441356798839,
          659.1255108074058,
          589.7835300811062,
          518.3991074039003,
          552.2842331074261,
          647.678503027343,
          679.3751784439522,
          533.2585085904227,
          632.2554544172204,
          667.0199458013199,
          687.4171367670627,
          1127.2296715747698,
          448.6380312439739,
          538.0842965240751,
          663.9014283672597,
          537.3492464936488,
          528.4775554228878,
          708.019763078524,
          672.6559199402798,
          493.96881495447406,
          509.90451779191477,
          693.9470006957529,
          703.3267078824406,
          1092.242656119465,
          512.961132055814,
          581.9203189087403,
          693.4320740936116,
          551.6442809383628,
          589.4736710013424,
          734.0242221719467,
          680.1691383341044,
          554.3262718680043,
          508.1736093644788,
          691.0672404642146,
          689.4427752419131,
          819.019320013786,
          518.5979657669084,
          534.8403395928638,
          500.6168046189526,
          500.11021188915043,
          574.14630609155,
          722.8232093813479,
          723.3904289051235,
          690.8117295763094,
          550.6896624704648,
          685.1571939068158,
          691.3837709092772,
          747.371584522588,
          520.0014269065737,
          515.6867907387724,
          674.6798000161091,
          645.4749429867533,
          1039.8481959379374,
          392.88737072358646,
          456.7017050584446,
          497.19196119220396,
          383.0734606968936,
          538.9115477781286,
          526.126077861108,
          758.7346578513394,
          517.340950376708,
          528.0541036722407,
          553.9895507441166,
          511.17438087693796,
          699.4034783863955,
          541.0436417509368,
          458.41949243130205,
          465.1635352176313,
          444.7264192851305,
          585.3755541476291,
          539.9923224791698,
          471.79088525944803,
          382.23114074026563,
          367.1686097941009,
          468.18841330904667,
          660.7430844176769,
          661.0257062474018,
          662.0240853399846,
          632.1449681906769,
          515.4188005413768,
          522.2717001033155,
          660.5297857206897,
          630.3787697159509,
          681.0524969857117,
          495.6361724145676,
          506.537867439666,
          466.0677852470542,
          447.54828779782787,
          476.678225403684,
          449.25711168989864,
          447.9644582628927,
          652.6101821825879,
          459.23753730154846,
          513.7315906885538,
          452.4463969800149,
          715.8287949723687,
          625.8682178861297,
          544.4223667646123,
          517.8880170137793,
          435.62908139299304,
          542.711604599981,
          487.5475795582305,
          454.16423174411915,
          471.4510896693283,
          652.7556161995481
         ],
         "yaxis": "y"
        }
       ],
       "layout": {
        "legend": {
         "title": {
          "text": "variable"
         },
         "tracegroupgap": 0
        },
        "margin": {
         "t": 60
        },
        "shapes": [
         {
          "fillcolor": "grey",
          "line": {
           "width": 0
          },
          "opacity": 0.25,
          "type": "rect",
          "x0": "2020-01-01T00:00:00",
          "x1": "2022-12-01T00:00:00",
          "xref": "x",
          "y0": 0,
          "y1": 1,
          "yref": "y domain"
         }
        ],
        "template": {
         "data": {
          "bar": [
           {
            "error_x": {
             "color": "#2a3f5f"
            },
            "error_y": {
             "color": "#2a3f5f"
            },
            "marker": {
             "line": {
              "color": "#E5ECF6",
              "width": 0.5
             },
             "pattern": {
              "fillmode": "overlay",
              "size": 10,
              "solidity": 0.2
             }
            },
            "type": "bar"
           }
          ],
          "barpolar": [
           {
            "marker": {
             "line": {
              "color": "#E5ECF6",
              "width": 0.5
             },
             "pattern": {
              "fillmode": "overlay",
              "size": 10,
              "solidity": 0.2
             }
            },
            "type": "barpolar"
           }
          ],
          "carpet": [
           {
            "aaxis": {
             "endlinecolor": "#2a3f5f",
             "gridcolor": "white",
             "linecolor": "white",
             "minorgridcolor": "white",
             "startlinecolor": "#2a3f5f"
            },
            "baxis": {
             "endlinecolor": "#2a3f5f",
             "gridcolor": "white",
             "linecolor": "white",
             "minorgridcolor": "white",
             "startlinecolor": "#2a3f5f"
            },
            "type": "carpet"
           }
          ],
          "choropleth": [
           {
            "colorbar": {
             "outlinewidth": 0,
             "ticks": ""
            },
            "type": "choropleth"
           }
          ],
          "contour": [
           {
            "colorbar": {
             "outlinewidth": 0,
             "ticks": ""
            },
            "colorscale": [
             [
              0,
              "#0d0887"
             ],
             [
              0.1111111111111111,
              "#46039f"
             ],
             [
              0.2222222222222222,
              "#7201a8"
             ],
             [
              0.3333333333333333,
              "#9c179e"
             ],
             [
              0.4444444444444444,
              "#bd3786"
             ],
             [
              0.5555555555555556,
              "#d8576b"
             ],
             [
              0.6666666666666666,
              "#ed7953"
             ],
             [
              0.7777777777777778,
              "#fb9f3a"
             ],
             [
              0.8888888888888888,
              "#fdca26"
             ],
             [
              1,
              "#f0f921"
             ]
            ],
            "type": "contour"
           }
          ],
          "contourcarpet": [
           {
            "colorbar": {
             "outlinewidth": 0,
             "ticks": ""
            },
            "type": "contourcarpet"
           }
          ],
          "heatmap": [
           {
            "colorbar": {
             "outlinewidth": 0,
             "ticks": ""
            },
            "colorscale": [
             [
              0,
              "#0d0887"
             ],
             [
              0.1111111111111111,
              "#46039f"
             ],
             [
              0.2222222222222222,
              "#7201a8"
             ],
             [
              0.3333333333333333,
              "#9c179e"
             ],
             [
              0.4444444444444444,
              "#bd3786"
             ],
             [
              0.5555555555555556,
              "#d8576b"
             ],
             [
              0.6666666666666666,
              "#ed7953"
             ],
             [
              0.7777777777777778,
              "#fb9f3a"
             ],
             [
              0.8888888888888888,
              "#fdca26"
             ],
             [
              1,
              "#f0f921"
             ]
            ],
            "type": "heatmap"
           }
          ],
          "heatmapgl": [
           {
            "colorbar": {
             "outlinewidth": 0,
             "ticks": ""
            },
            "colorscale": [
             [
              0,
              "#0d0887"
             ],
             [
              0.1111111111111111,
              "#46039f"
             ],
             [
              0.2222222222222222,
              "#7201a8"
             ],
             [
              0.3333333333333333,
              "#9c179e"
             ],
             [
              0.4444444444444444,
              "#bd3786"
             ],
             [
              0.5555555555555556,
              "#d8576b"
             ],
             [
              0.6666666666666666,
              "#ed7953"
             ],
             [
              0.7777777777777778,
              "#fb9f3a"
             ],
             [
              0.8888888888888888,
              "#fdca26"
             ],
             [
              1,
              "#f0f921"
             ]
            ],
            "type": "heatmapgl"
           }
          ],
          "histogram": [
           {
            "marker": {
             "pattern": {
              "fillmode": "overlay",
              "size": 10,
              "solidity": 0.2
             }
            },
            "type": "histogram"
           }
          ],
          "histogram2d": [
           {
            "colorbar": {
             "outlinewidth": 0,
             "ticks": ""
            },
            "colorscale": [
             [
              0,
              "#0d0887"
             ],
             [
              0.1111111111111111,
              "#46039f"
             ],
             [
              0.2222222222222222,
              "#7201a8"
             ],
             [
              0.3333333333333333,
              "#9c179e"
             ],
             [
              0.4444444444444444,
              "#bd3786"
             ],
             [
              0.5555555555555556,
              "#d8576b"
             ],
             [
              0.6666666666666666,
              "#ed7953"
             ],
             [
              0.7777777777777778,
              "#fb9f3a"
             ],
             [
              0.8888888888888888,
              "#fdca26"
             ],
             [
              1,
              "#f0f921"
             ]
            ],
            "type": "histogram2d"
           }
          ],
          "histogram2dcontour": [
           {
            "colorbar": {
             "outlinewidth": 0,
             "ticks": ""
            },
            "colorscale": [
             [
              0,
              "#0d0887"
             ],
             [
              0.1111111111111111,
              "#46039f"
             ],
             [
              0.2222222222222222,
              "#7201a8"
             ],
             [
              0.3333333333333333,
              "#9c179e"
             ],
             [
              0.4444444444444444,
              "#bd3786"
             ],
             [
              0.5555555555555556,
              "#d8576b"
             ],
             [
              0.6666666666666666,
              "#ed7953"
             ],
             [
              0.7777777777777778,
              "#fb9f3a"
             ],
             [
              0.8888888888888888,
              "#fdca26"
             ],
             [
              1,
              "#f0f921"
             ]
            ],
            "type": "histogram2dcontour"
           }
          ],
          "mesh3d": [
           {
            "colorbar": {
             "outlinewidth": 0,
             "ticks": ""
            },
            "type": "mesh3d"
           }
          ],
          "parcoords": [
           {
            "line": {
             "colorbar": {
              "outlinewidth": 0,
              "ticks": ""
             }
            },
            "type": "parcoords"
           }
          ],
          "pie": [
           {
            "automargin": true,
            "type": "pie"
           }
          ],
          "scatter": [
           {
            "fillpattern": {
             "fillmode": "overlay",
             "size": 10,
             "solidity": 0.2
            },
            "type": "scatter"
           }
          ],
          "scatter3d": [
           {
            "line": {
             "colorbar": {
              "outlinewidth": 0,
              "ticks": ""
             }
            },
            "marker": {
             "colorbar": {
              "outlinewidth": 0,
              "ticks": ""
             }
            },
            "type": "scatter3d"
           }
          ],
          "scattercarpet": [
           {
            "marker": {
             "colorbar": {
              "outlinewidth": 0,
              "ticks": ""
             }
            },
            "type": "scattercarpet"
           }
          ],
          "scattergeo": [
           {
            "marker": {
             "colorbar": {
              "outlinewidth": 0,
              "ticks": ""
             }
            },
            "type": "scattergeo"
           }
          ],
          "scattergl": [
           {
            "marker": {
             "colorbar": {
              "outlinewidth": 0,
              "ticks": ""
             }
            },
            "type": "scattergl"
           }
          ],
          "scattermapbox": [
           {
            "marker": {
             "colorbar": {
              "outlinewidth": 0,
              "ticks": ""
             }
            },
            "type": "scattermapbox"
           }
          ],
          "scatterpolar": [
           {
            "marker": {
             "colorbar": {
              "outlinewidth": 0,
              "ticks": ""
             }
            },
            "type": "scatterpolar"
           }
          ],
          "scatterpolargl": [
           {
            "marker": {
             "colorbar": {
              "outlinewidth": 0,
              "ticks": ""
             }
            },
            "type": "scatterpolargl"
           }
          ],
          "scatterternary": [
           {
            "marker": {
             "colorbar": {
              "outlinewidth": 0,
              "ticks": ""
             }
            },
            "type": "scatterternary"
           }
          ],
          "surface": [
           {
            "colorbar": {
             "outlinewidth": 0,
             "ticks": ""
            },
            "colorscale": [
             [
              0,
              "#0d0887"
             ],
             [
              0.1111111111111111,
              "#46039f"
             ],
             [
              0.2222222222222222,
              "#7201a8"
             ],
             [
              0.3333333333333333,
              "#9c179e"
             ],
             [
              0.4444444444444444,
              "#bd3786"
             ],
             [
              0.5555555555555556,
              "#d8576b"
             ],
             [
              0.6666666666666666,
              "#ed7953"
             ],
             [
              0.7777777777777778,
              "#fb9f3a"
             ],
             [
              0.8888888888888888,
              "#fdca26"
             ],
             [
              1,
              "#f0f921"
             ]
            ],
            "type": "surface"
           }
          ],
          "table": [
           {
            "cells": {
             "fill": {
              "color": "#EBF0F8"
             },
             "line": {
              "color": "white"
             }
            },
            "header": {
             "fill": {
              "color": "#C8D4E3"
             },
             "line": {
              "color": "white"
             }
            },
            "type": "table"
           }
          ]
         },
         "layout": {
          "annotationdefaults": {
           "arrowcolor": "#2a3f5f",
           "arrowhead": 0,
           "arrowwidth": 1
          },
          "autotypenumbers": "strict",
          "coloraxis": {
           "colorbar": {
            "outlinewidth": 0,
            "ticks": ""
           }
          },
          "colorscale": {
           "diverging": [
            [
             0,
             "#8e0152"
            ],
            [
             0.1,
             "#c51b7d"
            ],
            [
             0.2,
             "#de77ae"
            ],
            [
             0.3,
             "#f1b6da"
            ],
            [
             0.4,
             "#fde0ef"
            ],
            [
             0.5,
             "#f7f7f7"
            ],
            [
             0.6,
             "#e6f5d0"
            ],
            [
             0.7,
             "#b8e186"
            ],
            [
             0.8,
             "#7fbc41"
            ],
            [
             0.9,
             "#4d9221"
            ],
            [
             1,
             "#276419"
            ]
           ],
           "sequential": [
            [
             0,
             "#0d0887"
            ],
            [
             0.1111111111111111,
             "#46039f"
            ],
            [
             0.2222222222222222,
             "#7201a8"
            ],
            [
             0.3333333333333333,
             "#9c179e"
            ],
            [
             0.4444444444444444,
             "#bd3786"
            ],
            [
             0.5555555555555556,
             "#d8576b"
            ],
            [
             0.6666666666666666,
             "#ed7953"
            ],
            [
             0.7777777777777778,
             "#fb9f3a"
            ],
            [
             0.8888888888888888,
             "#fdca26"
            ],
            [
             1,
             "#f0f921"
            ]
           ],
           "sequentialminus": [
            [
             0,
             "#0d0887"
            ],
            [
             0.1111111111111111,
             "#46039f"
            ],
            [
             0.2222222222222222,
             "#7201a8"
            ],
            [
             0.3333333333333333,
             "#9c179e"
            ],
            [
             0.4444444444444444,
             "#bd3786"
            ],
            [
             0.5555555555555556,
             "#d8576b"
            ],
            [
             0.6666666666666666,
             "#ed7953"
            ],
            [
             0.7777777777777778,
             "#fb9f3a"
            ],
            [
             0.8888888888888888,
             "#fdca26"
            ],
            [
             1,
             "#f0f921"
            ]
           ]
          },
          "colorway": [
           "#636efa",
           "#EF553B",
           "#00cc96",
           "#ab63fa",
           "#FFA15A",
           "#19d3f3",
           "#FF6692",
           "#B6E880",
           "#FF97FF",
           "#FECB52"
          ],
          "font": {
           "color": "#2a3f5f"
          },
          "geo": {
           "bgcolor": "white",
           "lakecolor": "white",
           "landcolor": "#E5ECF6",
           "showlakes": true,
           "showland": true,
           "subunitcolor": "white"
          },
          "hoverlabel": {
           "align": "left"
          },
          "hovermode": "closest",
          "mapbox": {
           "style": "light"
          },
          "paper_bgcolor": "white",
          "plot_bgcolor": "#E5ECF6",
          "polar": {
           "angularaxis": {
            "gridcolor": "white",
            "linecolor": "white",
            "ticks": ""
           },
           "bgcolor": "#E5ECF6",
           "radialaxis": {
            "gridcolor": "white",
            "linecolor": "white",
            "ticks": ""
           }
          },
          "scene": {
           "xaxis": {
            "backgroundcolor": "#E5ECF6",
            "gridcolor": "white",
            "gridwidth": 2,
            "linecolor": "white",
            "showbackground": true,
            "ticks": "",
            "zerolinecolor": "white"
           },
           "yaxis": {
            "backgroundcolor": "#E5ECF6",
            "gridcolor": "white",
            "gridwidth": 2,
            "linecolor": "white",
            "showbackground": true,
            "ticks": "",
            "zerolinecolor": "white"
           },
           "zaxis": {
            "backgroundcolor": "#E5ECF6",
            "gridcolor": "white",
            "gridwidth": 2,
            "linecolor": "white",
            "showbackground": true,
            "ticks": "",
            "zerolinecolor": "white"
           }
          },
          "shapedefaults": {
           "line": {
            "color": "#2a3f5f"
           }
          },
          "ternary": {
           "aaxis": {
            "gridcolor": "white",
            "linecolor": "white",
            "ticks": ""
           },
           "baxis": {
            "gridcolor": "white",
            "linecolor": "white",
            "ticks": ""
           },
           "bgcolor": "#E5ECF6",
           "caxis": {
            "gridcolor": "white",
            "linecolor": "white",
            "ticks": ""
           }
          },
          "title": {
           "x": 0.05
          },
          "xaxis": {
           "automargin": true,
           "gridcolor": "white",
           "linecolor": "white",
           "ticks": "",
           "title": {
            "standoff": 15
           },
           "zerolinecolor": "white",
           "zerolinewidth": 2
          },
          "yaxis": {
           "automargin": true,
           "gridcolor": "white",
           "linecolor": "white",
           "ticks": "",
           "title": {
            "standoff": 15
           },
           "zerolinecolor": "white",
           "zerolinewidth": 2
          }
         }
        },
        "xaxis": {
         "anchor": "y",
         "domain": [
          0,
          1
         ],
         "title": {
          "text": "Date"
         }
        },
        "yaxis": {
         "anchor": "x",
         "domain": [
          0,
          1
         ],
         "title": {
          "text": "value"
         }
        }
       }
      }
     },
     "metadata": {},
     "output_type": "display_data"
    }
   ],
   "source": [
    "import plotly.express as px\n",
    "# Generate predictions on the original dataset\n",
    "predictions = predict_model(tuned_model, data=df)\n",
    "\n",
    "# Add a date column in the dataset\n",
    "predictions['Date'] = pd.date_range(start=start, end = end, freq = 'MS')\n",
    "\n",
    "# Line plot\n",
    "fig = px.line(predictions, x='Date', y=[dep_var, \"Label\"]) #, template = 'plotly_dark')\n",
    "\n",
    "# Add a vertical rectange for test-set separation\n",
    "fig.add_vrect(x0=start_test, x1=predictions.Date.max(), fillcolor=\"grey\", opacity=0.25, line_width=0)\n",
    "fig.show()"
   ]
  },
  {
   "attachments": {},
   "cell_type": "markdown",
   "metadata": {},
   "source": [
    "#### Finalize model"
   ]
  },
  {
   "cell_type": "code",
   "execution_count": 218,
   "metadata": {},
   "outputs": [],
   "source": [
    "# Finalize the model i.e. train the best model on the entire dataset (this time, including the test set).\n",
    "final = finalize_model(tuned_model)"
   ]
  },
  {
   "cell_type": "code",
   "execution_count": 219,
   "metadata": {},
   "outputs": [
    {
     "data": {
      "text/plain": [
       "XGBRegressor(base_score=0.5, booster='gbtree', callbacks=None,\n",
       "             colsample_bylevel=1, colsample_bynode=1, colsample_bytree=1,\n",
       "             early_stopping_rounds=None, enable_categorical=False,\n",
       "             eval_metric=None, feature_types=None, gamma=0, gpu_id=-1,\n",
       "             grow_policy='depthwise', importance_type=None,\n",
       "             interaction_constraints='', learning_rate=0.05, max_bin=256,\n",
       "             max_cat_threshold=64, max_cat_to_onehot=4, max_delta_step=0,\n",
       "             max_depth=8, max_leaves=0, min_child_weight=1, missing=nan,\n",
       "             monotone_constraints='()', n_estimators=270, n_jobs=-1,\n",
       "             num_parallel_tree=1, objective='reg:squarederror',\n",
       "             predictor='auto', ...)"
      ]
     },
     "execution_count": 219,
     "metadata": {},
     "output_type": "execute_result"
    }
   ],
   "source": [
    "final"
   ]
  },
  {
   "cell_type": "code",
   "execution_count": null,
   "metadata": {},
   "outputs": [],
   "source": []
  }
 ],
 "metadata": {
  "kernelspec": {
   "display_name": "base",
   "language": "python",
   "name": "python3"
  },
  "language_info": {
   "codemirror_mode": {
    "name": "ipython",
    "version": 3
   },
   "file_extension": ".py",
   "mimetype": "text/x-python",
   "name": "python",
   "nbconvert_exporter": "python",
   "pygments_lexer": "ipython3",
   "version": "3.8.12"
  },
  "orig_nbformat": 4,
  "vscode": {
   "interpreter": {
    "hash": "ad2bdc8ecc057115af97d19610ffacc2b4e99fae6737bb82f5d7fb13d2f2c186"
   }
  }
 },
 "nbformat": 4,
 "nbformat_minor": 2
}
