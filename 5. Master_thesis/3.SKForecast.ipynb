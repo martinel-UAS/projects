{
 "cells": [
  {
   "cell_type": "code",
   "execution_count": 38,
   "metadata": {},
   "outputs": [
    {
     "name": "stdout",
     "output_type": "stream",
     "text": [
      "0.24.0\n"
     ]
    }
   ],
   "source": [
    "# Requires 0.24\n",
    "import os\n",
    "import sys\n",
    "sys.path.insert(1,os.path.abspath('../0. Not_git/Sources/scikit-learn/0.24.0'))\n",
    "import sklearn\n",
    "print(sklearn.__version__)\n",
    "#this will be 0.24.2 "
   ]
  },
  {
   "attachments": {},
   "cell_type": "markdown",
   "metadata": {},
   "source": [
    "### Import libraries"
   ]
  },
  {
   "cell_type": "code",
   "execution_count": 39,
   "metadata": {},
   "outputs": [],
   "source": [
    "# Modules\n",
    "import numpy as np\n",
    "import math\n",
    "import plotly.graph_objs as go\n",
    "from plotly.subplots import make_subplots\n",
    "import pandas as pd\n",
    "\n",
    "# Metrics\n",
    "from sklearn.metrics import mean_absolute_error\n",
    "from sklearn.metrics import mean_squared_error\n",
    "from sklearn.metrics import r2_score\n",
    "\n",
    "# Autoregressor\n",
    "from skforecast.ForecasterAutoreg import ForecasterAutoreg\n",
    "\n",
    "# Hyperparameter Grid search\n",
    "from skforecast.model_selection import grid_search_forecaster\n",
    "\n",
    "# Backtesting\n",
    "from skforecast.model_selection import backtesting_forecaster\n",
    "\n",
    "# Models\n",
    "from sklearn.ensemble import AdaBoostRegressor\n",
    "from sklearn.ensemble import RandomForestRegressor\n",
    "from xgboost import XGBRegressor \n",
    "from lightgbm import LGBMRegressor\n",
    "from sklearn.ensemble import GradientBoostingRegressor\n",
    "from sklearn.ensemble import ExtraTreesRegressor\n",
    "\n",
    "import plotly.io as pio"
   ]
  },
  {
   "cell_type": "code",
   "execution_count": 40,
   "metadata": {},
   "outputs": [],
   "source": [
    "# To render plotly into GitHub\n",
    "pio.renderers.default = \"svg\""
   ]
  },
  {
   "cell_type": "code",
   "execution_count": 41,
   "metadata": {},
   "outputs": [],
   "source": [
    "# Select country in analysis ('FIN', 'DEN', 'NOR', 'SWE')\n",
    "country = 'NOR'\n",
    "\n",
    "# Dependant variable (TIV or Orders)\n",
    "dep_var = 'Orders'"
   ]
  },
  {
   "attachments": {},
   "cell_type": "markdown",
   "metadata": {},
   "source": [
    "### Load Data"
   ]
  },
  {
   "cell_type": "code",
   "execution_count": 42,
   "metadata": {},
   "outputs": [],
   "source": [
    "# Input path and filename\n",
    "path = '../5. Master_thesis/Datasets/Output_files/'\n",
    "\n",
    "# Load files into a pandas dataframes\n",
    "file = path + '0.xlsx'\n",
    "df = pd.read_excel(file, sheet_name=country)\n",
    "\n",
    "# Set index\n",
    "df = df.set_index(\"Date\").asfreq('MS')"
   ]
  },
  {
   "cell_type": "code",
   "execution_count": 43,
   "metadata": {},
   "outputs": [
    {
     "data": {
      "text/html": [
       "<div>\n",
       "<style scoped>\n",
       "    .dataframe tbody tr th:only-of-type {\n",
       "        vertical-align: middle;\n",
       "    }\n",
       "\n",
       "    .dataframe tbody tr th {\n",
       "        vertical-align: top;\n",
       "    }\n",
       "\n",
       "    .dataframe thead th {\n",
       "        text-align: right;\n",
       "    }\n",
       "</style>\n",
       "<table border=\"1\" class=\"dataframe\">\n",
       "  <thead>\n",
       "    <tr style=\"text-align: right;\">\n",
       "      <th></th>\n",
       "      <th>Orders</th>\n",
       "      <th>CPI</th>\n",
       "      <th>UR</th>\n",
       "      <th>LTIR</th>\n",
       "      <th>TIV</th>\n",
       "    </tr>\n",
       "    <tr>\n",
       "      <th>Date</th>\n",
       "      <th></th>\n",
       "      <th></th>\n",
       "      <th></th>\n",
       "      <th></th>\n",
       "      <th></th>\n",
       "    </tr>\n",
       "  </thead>\n",
       "  <tbody>\n",
       "    <tr>\n",
       "      <th>2006-01-01</th>\n",
       "      <td>233</td>\n",
       "      <td>1.847291</td>\n",
       "      <td>4.3</td>\n",
       "      <td>3.65</td>\n",
       "      <td>10606</td>\n",
       "    </tr>\n",
       "    <tr>\n",
       "      <th>2006-02-01</th>\n",
       "      <td>270</td>\n",
       "      <td>2.583026</td>\n",
       "      <td>4.3</td>\n",
       "      <td>3.72</td>\n",
       "      <td>10271</td>\n",
       "    </tr>\n",
       "    <tr>\n",
       "      <th>2006-03-01</th>\n",
       "      <td>406</td>\n",
       "      <td>2.325581</td>\n",
       "      <td>3.9</td>\n",
       "      <td>3.84</td>\n",
       "      <td>13310</td>\n",
       "    </tr>\n",
       "    <tr>\n",
       "      <th>2006-04-01</th>\n",
       "      <td>356</td>\n",
       "      <td>2.679659</td>\n",
       "      <td>4.0</td>\n",
       "      <td>4.07</td>\n",
       "      <td>11062</td>\n",
       "    </tr>\n",
       "    <tr>\n",
       "      <th>2006-05-01</th>\n",
       "      <td>553</td>\n",
       "      <td>2.305825</td>\n",
       "      <td>3.9</td>\n",
       "      <td>4.17</td>\n",
       "      <td>13930</td>\n",
       "    </tr>\n",
       "    <tr>\n",
       "      <th>...</th>\n",
       "      <td>...</td>\n",
       "      <td>...</td>\n",
       "      <td>...</td>\n",
       "      <td>...</td>\n",
       "      <td>...</td>\n",
       "    </tr>\n",
       "    <tr>\n",
       "      <th>2022-08-01</th>\n",
       "      <td>347</td>\n",
       "      <td>6.534824</td>\n",
       "      <td>3.6</td>\n",
       "      <td>2.99</td>\n",
       "      <td>15512</td>\n",
       "    </tr>\n",
       "    <tr>\n",
       "      <th>2022-09-01</th>\n",
       "      <td>295</td>\n",
       "      <td>6.893617</td>\n",
       "      <td>3.4</td>\n",
       "      <td>3.34</td>\n",
       "      <td>17369</td>\n",
       "    </tr>\n",
       "    <tr>\n",
       "      <th>2022-10-01</th>\n",
       "      <td>413</td>\n",
       "      <td>7.508533</td>\n",
       "      <td>3.2</td>\n",
       "      <td>3.54</td>\n",
       "      <td>14825</td>\n",
       "    </tr>\n",
       "    <tr>\n",
       "      <th>2022-11-01</th>\n",
       "      <td>563</td>\n",
       "      <td>6.519898</td>\n",
       "      <td>3.1</td>\n",
       "      <td>3.24</td>\n",
       "      <td>21899</td>\n",
       "    </tr>\n",
       "    <tr>\n",
       "      <th>2022-12-01</th>\n",
       "      <td>682</td>\n",
       "      <td>5.887300</td>\n",
       "      <td>3.4</td>\n",
       "      <td>3.03</td>\n",
       "      <td>43371</td>\n",
       "    </tr>\n",
       "  </tbody>\n",
       "</table>\n",
       "<p>204 rows × 5 columns</p>\n",
       "</div>"
      ],
      "text/plain": [
       "            Orders       CPI   UR  LTIR    TIV\n",
       "Date                                          \n",
       "2006-01-01     233  1.847291  4.3  3.65  10606\n",
       "2006-02-01     270  2.583026  4.3  3.72  10271\n",
       "2006-03-01     406  2.325581  3.9  3.84  13310\n",
       "2006-04-01     356  2.679659  4.0  4.07  11062\n",
       "2006-05-01     553  2.305825  3.9  4.17  13930\n",
       "...            ...       ...  ...   ...    ...\n",
       "2022-08-01     347  6.534824  3.6  2.99  15512\n",
       "2022-09-01     295  6.893617  3.4  3.34  17369\n",
       "2022-10-01     413  7.508533  3.2  3.54  14825\n",
       "2022-11-01     563  6.519898  3.1  3.24  21899\n",
       "2022-12-01     682  5.887300  3.4  3.03  43371\n",
       "\n",
       "[204 rows x 5 columns]"
      ]
     },
     "execution_count": 43,
     "metadata": {},
     "output_type": "execute_result"
    }
   ],
   "source": [
    "df"
   ]
  },
  {
   "attachments": {},
   "cell_type": "markdown",
   "metadata": {},
   "source": [
    "### Split Data"
   ]
  },
  {
   "cell_type": "code",
   "execution_count": 44,
   "metadata": {},
   "outputs": [
    {
     "name": "stdout",
     "output_type": "stream",
     "text": [
      "Dataset length : (n=204)\n",
      "Train dates    : 2006-01-01 00:00:00 --- 2020-12-01 00:00:00  (n=180)\n",
      "Test dates     : 2021-01-01 00:00:00 --- 2022-12-01 00:00:00  (n=24)\n"
     ]
    },
    {
     "data": {
      "text/plain": [
       "(Timestamp('2006-01-01 00:00:00', freq='MS'),\n",
       " Timestamp('2022-12-01 00:00:00', freq='MS'),\n",
       " Timestamp('2021-01-01 00:00:00', freq='MS'))"
      ]
     },
     "execution_count": 44,
     "metadata": {},
     "output_type": "execute_result"
    }
   ],
   "source": [
    "# Split data\n",
    "steps = 24  # Number of months of testing\n",
    "train = df[:-steps]\n",
    "test  = df[-steps:]\n",
    "\n",
    "print(f\"Dataset length : (n={len(df)})\")\n",
    "print(f\"Train dates    : {train.index.min()} --- {train.index.max()}  (n={len(train)})\")\n",
    "print(f\"Test dates     : {test.index.min()} --- {test.index.max()}  (n={len(test)})\")\n",
    "\n",
    "start = train.index.min()\n",
    "end = df.index.max()\n",
    "start_test = test.index.min()\n",
    "\n",
    "start, end, start_test"
   ]
  },
  {
   "cell_type": "code",
   "execution_count": 45,
   "metadata": {},
   "outputs": [
    {
     "name": "stdout",
     "output_type": "stream",
     "text": [
      "\n",
      "Data shape: (180, 5) (24, 5)\n",
      "Exog shape: (180, 4) (24, 4)\n"
     ]
    }
   ],
   "source": [
    "# Define exogenous variables\n",
    "df_exo = df[df.columns.difference([dep_var])]\n",
    "train_exo = train[train.columns.difference([dep_var])]\n",
    "test_exo = test[test.columns.difference([dep_var])]\n",
    "\n",
    "print('\\nData shape:', train.shape, test.shape)\n",
    "print('Exog shape:', train_exo.shape, test_exo.shape)"
   ]
  },
  {
   "attachments": {},
   "cell_type": "markdown",
   "metadata": {},
   "source": [
    "### Scoring function"
   ]
  },
  {
   "cell_type": "code",
   "execution_count": 46,
   "metadata": {},
   "outputs": [],
   "source": [
    "metrics = pd.DataFrame()\n",
    "\n",
    "def scoring(model_name, y_true, y_pred, print_metrics: bool, plot_results: bool):\n",
    "\n",
    "    # Calculate metrics\n",
    "    mae = mean_absolute_error(y_true, y_pred)                      # MAE (Mean Absolute Error)\n",
    "    mse = mean_squared_error(y_true, y_pred)                       # MSE (Mean Squared Error)\n",
    "    rmse = math.sqrt(mse)                                          # RMSE (Root Mean Squared Error)\n",
    "    r2 = r2_score(y_true, y_pred)                                  # R2 (R-squared - Coeficient of determination)                           \n",
    "    mape = np.mean(np.abs((y_true - y_pred) /y_true)) * 100        # MAPE\n",
    "    accuracy = 100 - mape                                          # Accuracy\n",
    "\n",
    "    # Append metrics for summary\n",
    "    metrics[model_name] = [mae, mse, rmse, r2, mape, accuracy]\n",
    "    metrics.index = ['Mean Absolute Error', \n",
    "                    'Mean Squared Error', \n",
    "                    'Root Mean Squared Error',\n",
    "                    'R^2',\n",
    "                    'Mean Absolute Percentage Error',\n",
    "                    'Accuracy']\n",
    "\n",
    "    # Print metrics  \n",
    "    if print_metrics:\n",
    " \n",
    "        print(model_name, 'Model Performance:')                             # Model name\n",
    "        print('Mean Absolute Error: {:0.2f}.'.format(mae))                  # MAE\n",
    "        print('Mean Squared Error: {:0.2f}.'.format(mse))                   # MSE\n",
    "        print('Root Mean Squared Error: {:0.2f}.'.format(rmse))             # RMSE  \n",
    "        print('R^2 Score = {:0.2f}.'.format(r2))                            # R2\n",
    "        print('Mean Absolute Percentage Error: {:0.2f}%.'.format(mape))     # MAPE \n",
    "        print('Accuracy = {:0.2f}%.'.format(accuracy))                      # Accuracy\n",
    "        \n",
    "    # Plot Actual values vs predicted values\n",
    "    if plot_results:\n",
    "        \n",
    "        df = pd.DataFrame(y_true)\n",
    "\n",
    "        fig= make_subplots(rows=2, cols=1)\n",
    "        \n",
    "        fig.add_trace(go.Scatter(dict(x=df.index, y=y_true, mode='lines', name= 'Actual'), legendgroup=\"Preds\"), row=1, col=1)\n",
    "        fig.add_trace(go.Scatter(dict(x=df.index, y=y_pred, mode='lines', name= 'Predicted'), legendgroup=\"Preds\"), row=1, col=1)\n",
    "                \n",
    "        fig.add_trace(go.Scatter(dict(x=train.index, y=train[dep_var], mode='lines', name= 'Train'), legendgroup=\"Full\"), row=2, col=1)\n",
    "        fig.add_trace(go.Scatter(dict(x=test.index, y=y_true, mode='lines', name= 'Test'), legendgroup=\"Full\"), row=2, col=1)\n",
    "        fig.add_trace(go.Scatter(dict(x=test.index, y=y_pred, mode='lines', name= 'Forecast'), legendgroup=\"Full\"), row=2, col=1)\n",
    "\n",
    "        fig.update_layout(height=600, width=1000, title_text=model_name + \" Predictions in \" + country)    \n",
    "\n",
    "        fig.show()         "
   ]
  },
  {
   "attachments": {},
   "cell_type": "markdown",
   "metadata": {},
   "source": [
    "#### Backtesting"
   ]
  },
  {
   "cell_type": "code",
   "execution_count": 47,
   "metadata": {},
   "outputs": [],
   "source": [
    "def backtest(model_name, forecaster):\n",
    "    n_backtesting = 12*14   # Number of samples for backtest (14 y)\n",
    "    metric, backtest_pred = backtesting_forecaster(\n",
    "                                    forecaster         = forecaster,\n",
    "                                    y                  = df[dep_var],\n",
    "                                    exog               = df_exo,\n",
    "                                    initial_train_size = len(df) - n_backtesting,\n",
    "                                    fixed_train_size   = False,\n",
    "                                    steps              = steps,\n",
    "                                    refit              = True,\n",
    "                                    metric             = ['mean_squared_error', 'mean_absolute_error', 'mean_absolute_percentage_error'],\n",
    "                                    verbose            = False\n",
    "                                 )\n",
    "         \n",
    "    # Calculate metrics\n",
    "    mae = metric[1]                                                                      # MAE (Mean Absolute Error)\n",
    "    mse = metric[0]                                                                      # MSE (Mean Squared Error)\n",
    "    rmse = math.sqrt(metric[0])                                                          # RMSE (Root Mean Squared Error)    \n",
    "    mape = metric[2] * 100                                                               # MAPE\n",
    "    accuracy = 100 - mape                                                                # Accuracy\n",
    "    \n",
    "    # Print metrics\n",
    "    print(model_name, 'Backtesting:')                                   # Model name\n",
    "    print('Mean Absolute Error: {:0.2f}.'.format(mae))                  # MAE    \n",
    "    print('Root Mean Squared Error: {:0.2f}.'.format(rmse))             # RMSE      \n",
    "    print('Mean Absolute Percentage Error: {:0.2f}%.'.format(mape))     # MAPE \n",
    "    print('Accuracy = {:0.2f}%.'.format(accuracy))                      # Accuracy\n",
    "\n",
    "    # Append metrics for summary\n",
    "    metrics[model_name] = [mae, rmse, mape, accuracy]\n",
    "    metrics.index = ['MAE', 'RMSE', 'MAPE', 'Accuracy']    \n",
    "\n",
    "    # Plot\n",
    "    fig = go.Figure()\n",
    "    fig.add_trace(go.Scatter(dict(x=backtest_pred.index, y=df[dep_var], mode='lines', name= 'Train')))\n",
    "    fig.add_trace(go.Scatter(dict(x=backtest_pred.index, y=backtest_pred.pred, mode='lines', name= 'Predictions')))\n",
    "    fig.update_layout(height=500, width=1200, title_text=model_name + \" Backteting in \" + country)    \n",
    "    fig.show()"
   ]
  },
  {
   "cell_type": "code",
   "execution_count": 48,
   "metadata": {},
   "outputs": [
    {
     "name": "stdout",
     "output_type": "stream",
     "text": [
      "Ada Backtesting:\n",
      "Mean Absolute Error: 251.47.\n",
      "Root Mean Squared Error: 335.56.\n",
      "Mean Absolute Percentage Error: 46.23%.\n",
      "Accuracy = 53.77%.\n"
     ]
    },
    {
     "data": {
      "image/svg+xml": "<svg class=\"main-svg\" xmlns=\"http://www.w3.org/2000/svg\" xmlns:xlink=\"http://www.w3.org/1999/xlink\" width=\"1200\" height=\"500\" style=\"\" viewBox=\"0 0 1200 500\"><rect x=\"0\" y=\"0\" width=\"1200\" height=\"500\" style=\"fill: rgb(255, 255, 255); fill-opacity: 1;\"/><defs id=\"defs-62b17c\"><g class=\"clips\"><clipPath id=\"clip62b17cxyplot\" class=\"plotclip\"><rect width=\"976\" height=\"320\"/></clipPath><clipPath class=\"axesclip\" id=\"clip62b17cx\"><rect x=\"80\" y=\"0\" width=\"976\" height=\"500\"/></clipPath><clipPath class=\"axesclip\" id=\"clip62b17cy\"><rect x=\"0\" y=\"100\" width=\"1200\" height=\"320\"/></clipPath><clipPath class=\"axesclip\" id=\"clip62b17cxy\"><rect x=\"80\" y=\"100\" width=\"976\" height=\"320\"/></clipPath></g><g class=\"gradients\"/><g class=\"patterns\"/></defs><g class=\"bglayer\"><rect class=\"bg\" x=\"80\" y=\"100\" width=\"976\" height=\"320\" style=\"fill: rgb(229, 236, 246); fill-opacity: 1; stroke-width: 0;\"/></g><g class=\"layer-below\"><g class=\"imagelayer\"/><g class=\"shapelayer\"/></g><g class=\"cartesianlayer\"><g class=\"subplot xy\"><g class=\"layer-subplot\"><g class=\"shapelayer\"/><g class=\"imagelayer\"/></g><g class=\"minor-gridlayer\"><g class=\"x\"/><g class=\"y\"/></g><g class=\"gridlayer\"><g class=\"x\"><path class=\"xgrid crisp\" transform=\"translate(150.1,0)\" d=\"M0,100v320\" style=\"stroke: rgb(255, 255, 255); stroke-opacity: 1; stroke-width: 1px;\"/><path class=\"xgrid crisp\" transform=\"translate(290.3,0)\" d=\"M0,100v320\" style=\"stroke: rgb(255, 255, 255); stroke-opacity: 1; stroke-width: 1px;\"/><path class=\"xgrid crisp\" transform=\"translate(430.68,0)\" d=\"M0,100v320\" style=\"stroke: rgb(255, 255, 255); stroke-opacity: 1; stroke-width: 1px;\"/><path class=\"xgrid crisp\" transform=\"translate(570.88,0)\" d=\"M0,100v320\" style=\"stroke: rgb(255, 255, 255); stroke-opacity: 1; stroke-width: 1px;\"/><path class=\"xgrid crisp\" transform=\"translate(711.27,0)\" d=\"M0,100v320\" style=\"stroke: rgb(255, 255, 255); stroke-opacity: 1; stroke-width: 1px;\"/><path class=\"xgrid crisp\" transform=\"translate(851.47,0)\" d=\"M0,100v320\" style=\"stroke: rgb(255, 255, 255); stroke-opacity: 1; stroke-width: 1px;\"/><path class=\"xgrid crisp\" transform=\"translate(991.86,0)\" d=\"M0,100v320\" style=\"stroke: rgb(255, 255, 255); stroke-opacity: 1; stroke-width: 1px;\"/></g><g class=\"y\"><path class=\"ygrid crisp\" transform=\"translate(0,365.52)\" d=\"M80,0h976\" style=\"stroke: rgb(255, 255, 255); stroke-opacity: 1; stroke-width: 1px;\"/><path class=\"ygrid crisp\" transform=\"translate(0,302.03)\" d=\"M80,0h976\" style=\"stroke: rgb(255, 255, 255); stroke-opacity: 1; stroke-width: 1px;\"/><path class=\"ygrid crisp\" transform=\"translate(0,238.54)\" d=\"M80,0h976\" style=\"stroke: rgb(255, 255, 255); stroke-opacity: 1; stroke-width: 1px;\"/><path class=\"ygrid crisp\" transform=\"translate(0,175.05)\" d=\"M80,0h976\" style=\"stroke: rgb(255, 255, 255); stroke-opacity: 1; stroke-width: 1px;\"/><path class=\"ygrid crisp\" transform=\"translate(0,111.56)\" d=\"M80,0h976\" style=\"stroke: rgb(255, 255, 255); stroke-opacity: 1; stroke-width: 1px;\"/></g></g><g class=\"zerolinelayer\"/><path class=\"xlines-below\"/><path class=\"ylines-below\"/><g class=\"overlines-below\"/><g class=\"xaxislayer-below\"/><g class=\"yaxislayer-below\"/><g class=\"overaxes-below\"/><g class=\"plot\" transform=\"translate(80,100)\" clip-path=\"url(#clip62b17cxyplot)\"><g class=\"scatterlayer mlayer\"><g class=\"trace scatter trace3dddd9\" style=\"stroke-miterlimit: 2; opacity: 1;\"><g class=\"fills\"/><g class=\"errorbars\"/><g class=\"lines\"><path class=\"js-line\" d=\"M0,299.43L5.95,294.73L11.33,277.46L17.28,283.81L23.05,258.79L29,219.17L34.76,260.44L40.71,276.06L46.67,247.37L52.43,280.38L58.38,267.05L64.14,222.86L70.1,292.95L76.05,267.68L81.43,264L87.38,257.27L93.14,262.22L99.1,258.54L104.86,262.73L110.81,261.21L116.77,238.73L122.53,223.87L128.48,251.05L134.24,252.44L140.2,232.89L146.15,227.81L151.53,256.89L157.48,274.54L163.24,256.76L169.2,254.35L174.96,277.21L180.91,266.16L186.87,281.02L192.63,282.29L198.58,295.87L204.34,304L210.3,288L216.25,298.79L221.82,272.76L227.77,300.95L233.53,293.59L239.49,290.54L245.25,275.3L251.2,271.37L257.16,273.27L262.92,275.05L268.87,265.14L274.63,284.95L280.59,282.92L286.54,279.49L291.92,268.95L297.87,262.1L303.63,267.05L309.59,259.81L315.35,268.57L321.3,264.38L327.25,261.71L333.02,260.44L338.97,255.75L344.73,276.83L350.68,253.97L356.64,254.6L362.01,262.22L367.97,251.68L373.73,252.57L379.68,257.9L385.45,269.71L397.35,247.11L403.11,255.87L409.07,239.37L414.83,253.08L420.78,216.38L426.74,257.52L432.11,232.38L438.07,259.68L449.78,249.4L455.54,262.98L461.5,245.08L467.45,236.57L473.21,247.11L479.17,245.59L484.93,260.19L490.88,253.21L496.83,236.95L502.4,186.41L508.36,264.76L514.12,248.89L520.07,242.41L525.83,257.14L531.79,238.1L537.74,229.97L543.5,206.86L549.46,214.48L555.22,242.92L561.17,227.05L567.12,230.48L572.5,191.37L578.46,239.87L584.22,232L590.17,249.65L595.93,250.03L601.89,226.67L607.84,218.67L613.6,213.21L619.55,221.59L625.32,223.75L631.27,228.95L637.22,219.81L642.6,163.68L648.55,266.03L654.32,272.25L660.27,218.79L666.03,252.57L671.98,222.35L677.94,222.98L683.7,232.13L689.65,253.33L695.41,216.13L701.37,278.98L707.32,219.3L712.7,137.14L718.65,258.16L724.41,255.11L730.37,244.44L736.13,244.19L742.08,241.78L748.04,235.17L753.8,247.37L759.75,220.57L771.47,250.54L777.42,214.1L782.99,203.3L788.94,283.43L794.7,244.83L800.66,248L806.42,257.02L812.37,252.32L818.33,266.41L824.09,255.24L835.8,292.06L841.76,301.84L847.71,77.84L853.09,16L859.04,268.06L864.8,198.48L870.76,173.71L876.52,51.43L882.47,167.49L888.43,145.02L894.19,178.41L900.14,180.95L905.9,208L911.86,225.9L917.81,211.3L923.19,169.65L929.14,269.46L934.9,262.6L940.85,214.6L946.62,236.95L952.57,256.51L958.52,219.56L964.28,247.62L970.24,242.29L976,237.08\" style=\"vector-effect: non-scaling-stroke; fill: none; stroke: rgb(99, 110, 250); stroke-opacity: 1; stroke-width: 2px; opacity: 1;\"/></g><g class=\"points\"/><g class=\"text\"/></g><g class=\"trace scatter trace4e62ab\" style=\"stroke-miterlimit: 2; opacity: 1;\"><g class=\"fills\"/><g class=\"errorbars\"/><g class=\"lines\"><path class=\"js-line\" d=\"M0,294.9L11.33,295.87L17.28,294.9L29,294.9L34.76,293.93L40.71,294.9L46.67,292.95L70.1,292.95L76.05,293.93L81.43,292.95L87.38,292.95L134.24,292.95L140.2,264.52L146.15,266.75L151.53,266.75L157.48,264.52L163.24,274.26L169.2,265.71L174.96,266.76L186.87,267.28L192.63,268.37L204.34,267.28L210.3,264.89L221.82,267.74L227.77,267.74L239.49,267.13L245.25,267.13L257.16,267.13L262.92,266.1L268.87,267.13L274.63,267.28L280.59,253.25L286.54,243.01L291.92,257.02L297.87,259.12L309.59,257.44L315.35,258.46L327.25,261.3L333.02,259.12L338.97,257.44L344.73,257.3L350.68,260.1L356.64,257.44L362.01,257.07L367.97,257.44L373.73,257.44L379.68,258.46L385.45,258.46L391.4,257.44L397.35,258.46L403.11,258.46L409.07,257.44L414.83,257.44L420.78,220.47L426.74,218.73L432.11,211.56L438.07,220.47L443.83,217.66L449.78,229.28L455.54,232.49L461.5,218.67L484.93,218.67L490.88,220.47L502.4,218.67L508.36,218.67L555.22,218.67L561.17,242.48L567.12,237.86L572.5,191.37L578.46,245.73L584.22,242.34L590.17,238.91L595.93,234.62L601.89,235.03L607.84,229.68L613.6,234.62L619.55,228.74L625.32,235.03L631.27,235.78L637.22,235.03L642.6,196.12L648.55,237.46L654.32,235.78L660.27,235.67L666.03,226.87L671.98,237.94L677.94,235.78L683.7,229.88L689.65,228.74L695.41,234.62L701.37,218.29L707.32,176.4L712.7,191.58L718.65,233.29L724.41,200.1L730.37,178.09L736.13,205.08L742.08,185.87L748.04,190.04L765.51,190.04L771.47,217.85L777.42,190.04L782.99,188.3L788.94,220.85L794.7,190.04L806.42,190.62L812.37,185.87L830.04,186.11L835.8,188.3L841.76,246.67L847.71,241.55L853.09,241.55L859.04,239.97L864.8,242.26L870.76,242.26L876.52,249.86L882.47,250.08L888.43,245.47L894.19,245.47L900.14,245.47L905.9,246.67L911.86,250.36L917.81,249.86L923.19,246.67L929.14,250.36L934.9,245.25L940.85,245.47L946.62,251.6L952.57,245.25L958.52,249.86L964.28,250.36L970.24,249.5L976,245.47\" style=\"vector-effect: non-scaling-stroke; fill: none; stroke: rgb(239, 85, 59); stroke-opacity: 1; stroke-width: 2px; opacity: 1;\"/></g><g class=\"points\"/><g class=\"text\"/></g></g></g><g class=\"overplot\"/><path class=\"xlines-above crisp\" d=\"M0,0\" style=\"fill: none;\"/><path class=\"ylines-above crisp\" d=\"M0,0\" style=\"fill: none;\"/><g class=\"overlines-above\"/><g class=\"xaxislayer-above\"><g class=\"xtick\"><text text-anchor=\"middle\" x=\"0\" y=\"433\" transform=\"translate(150.1,0)\" style=\"font-family: 'Open Sans', verdana, arial, sans-serif; font-size: 12px; fill: rgb(42, 63, 95); fill-opacity: 1; white-space: pre; opacity: 1;\">2010</text></g><g class=\"xtick\"><text text-anchor=\"middle\" x=\"0\" y=\"433\" style=\"font-family: 'Open Sans', verdana, arial, sans-serif; font-size: 12px; fill: rgb(42, 63, 95); fill-opacity: 1; white-space: pre; opacity: 1;\" transform=\"translate(290.3,0)\">2012</text></g><g class=\"xtick\"><text text-anchor=\"middle\" x=\"0\" y=\"433\" style=\"font-family: 'Open Sans', verdana, arial, sans-serif; font-size: 12px; fill: rgb(42, 63, 95); fill-opacity: 1; white-space: pre; opacity: 1;\" transform=\"translate(430.68,0)\">2014</text></g><g class=\"xtick\"><text text-anchor=\"middle\" x=\"0\" y=\"433\" style=\"font-family: 'Open Sans', verdana, arial, sans-serif; font-size: 12px; fill: rgb(42, 63, 95); fill-opacity: 1; white-space: pre; opacity: 1;\" transform=\"translate(570.88,0)\">2016</text></g><g class=\"xtick\"><text text-anchor=\"middle\" x=\"0\" y=\"433\" style=\"font-family: 'Open Sans', verdana, arial, sans-serif; font-size: 12px; fill: rgb(42, 63, 95); fill-opacity: 1; white-space: pre; opacity: 1;\" transform=\"translate(711.27,0)\">2018</text></g><g class=\"xtick\"><text text-anchor=\"middle\" x=\"0\" y=\"433\" style=\"font-family: 'Open Sans', verdana, arial, sans-serif; font-size: 12px; fill: rgb(42, 63, 95); fill-opacity: 1; white-space: pre; opacity: 1;\" transform=\"translate(851.47,0)\">2020</text></g><g class=\"xtick\"><text text-anchor=\"middle\" x=\"0\" y=\"433\" style=\"font-family: 'Open Sans', verdana, arial, sans-serif; font-size: 12px; fill: rgb(42, 63, 95); fill-opacity: 1; white-space: pre; opacity: 1;\" transform=\"translate(991.86,0)\">2022</text></g></g><g class=\"yaxislayer-above\"><g class=\"ytick\"><text text-anchor=\"end\" x=\"79\" y=\"4.199999999999999\" transform=\"translate(0,365.52)\" style=\"font-family: 'Open Sans', verdana, arial, sans-serif; font-size: 12px; fill: rgb(42, 63, 95); fill-opacity: 1; white-space: pre; opacity: 1;\">500</text></g><g class=\"ytick\"><text text-anchor=\"end\" x=\"79\" y=\"4.199999999999999\" style=\"font-family: 'Open Sans', verdana, arial, sans-serif; font-size: 12px; fill: rgb(42, 63, 95); fill-opacity: 1; white-space: pre; opacity: 1;\" transform=\"translate(0,302.03)\">1000</text></g><g class=\"ytick\"><text text-anchor=\"end\" x=\"79\" y=\"4.199999999999999\" style=\"font-family: 'Open Sans', verdana, arial, sans-serif; font-size: 12px; fill: rgb(42, 63, 95); fill-opacity: 1; white-space: pre; opacity: 1;\" transform=\"translate(0,238.54)\">1500</text></g><g class=\"ytick\"><text text-anchor=\"end\" x=\"79\" y=\"4.199999999999999\" style=\"font-family: 'Open Sans', verdana, arial, sans-serif; font-size: 12px; fill: rgb(42, 63, 95); fill-opacity: 1; white-space: pre; opacity: 1;\" transform=\"translate(0,175.05)\">2000</text></g><g class=\"ytick\"><text text-anchor=\"end\" x=\"79\" y=\"4.199999999999999\" style=\"font-family: 'Open Sans', verdana, arial, sans-serif; font-size: 12px; fill: rgb(42, 63, 95); fill-opacity: 1; white-space: pre; opacity: 1;\" transform=\"translate(0,111.56)\">2500</text></g></g><g class=\"overaxes-above\"/></g></g><g class=\"polarlayer\"/><g class=\"smithlayer\"/><g class=\"ternarylayer\"/><g class=\"geolayer\"/><g class=\"funnelarealayer\"/><g class=\"pielayer\"/><g class=\"iciclelayer\"/><g class=\"treemaplayer\"/><g class=\"sunburstlayer\"/><g class=\"glimages\"/><defs id=\"topdefs-62b17c\"><g class=\"clips\"/><clipPath id=\"legend62b17c\"><rect width=\"112\" height=\"48\" x=\"0\" y=\"0\"/></clipPath></defs><g class=\"layer-above\"><g class=\"imagelayer\"/><g class=\"shapelayer\"/></g><g class=\"infolayer\"><g class=\"legend\" pointer-events=\"all\" transform=\"translate(1075.52,100)\"><rect class=\"bg\" shape-rendering=\"crispEdges\" width=\"112\" height=\"48\" x=\"0\" y=\"0\" style=\"stroke: rgb(68, 68, 68); stroke-opacity: 1; fill: rgb(255, 255, 255); fill-opacity: 1; stroke-width: 0px;\"/><g class=\"scrollbox\" transform=\"\" clip-path=\"url(#legend62b17c)\"><g class=\"groups\"><g class=\"traces\" transform=\"translate(0,14.5)\" style=\"opacity: 1;\"><text class=\"legendtext\" text-anchor=\"start\" x=\"40\" y=\"4.680000000000001\" style=\"font-family: 'Open Sans', verdana, arial, sans-serif; font-size: 12px; fill: rgb(42, 63, 95); fill-opacity: 1; white-space: pre;\">Train</text><g class=\"layers\" style=\"opacity: 1;\"><g class=\"legendfill\"/><g class=\"legendlines\"><path class=\"js-line\" d=\"M5,0h30\" style=\"fill: none; stroke: rgb(99, 110, 250); stroke-opacity: 1; stroke-width: 2px;\"/></g><g class=\"legendsymbols\"><g class=\"legendpoints\"/></g></g><rect class=\"legendtoggle\" x=\"0\" y=\"-9.5\" width=\"106.4375\" height=\"19\" style=\"fill: rgb(0, 0, 0); fill-opacity: 0;\"/></g><g class=\"traces\" transform=\"translate(0,33.5)\" style=\"opacity: 1;\"><text class=\"legendtext\" text-anchor=\"start\" x=\"40\" y=\"4.680000000000001\" style=\"font-family: 'Open Sans', verdana, arial, sans-serif; font-size: 12px; fill: rgb(42, 63, 95); fill-opacity: 1; white-space: pre;\">Predictions</text><g class=\"layers\" style=\"opacity: 1;\"><g class=\"legendfill\"/><g class=\"legendlines\"><path class=\"js-line\" d=\"M5,0h30\" style=\"fill: none; stroke: rgb(239, 85, 59); stroke-opacity: 1; stroke-width: 2px;\"/></g><g class=\"legendsymbols\"><g class=\"legendpoints\"/></g></g><rect class=\"legendtoggle\" x=\"0\" y=\"-9.5\" width=\"106.4375\" height=\"19\" style=\"fill: rgb(0, 0, 0); fill-opacity: 0;\"/></g></g></g><rect class=\"scrollbar\" rx=\"20\" ry=\"3\" width=\"0\" height=\"0\" x=\"0\" y=\"0\" style=\"fill: rgb(128, 139, 164); fill-opacity: 1;\"/></g><g class=\"g-gtitle\"><text class=\"gtitle\" x=\"60\" y=\"50\" text-anchor=\"start\" dy=\"0em\" style=\"font-family: 'Open Sans', verdana, arial, sans-serif; font-size: 17px; fill: rgb(42, 63, 95); opacity: 1; font-weight: normal; white-space: pre;\">Ada Backteting in NOR</text></g><g class=\"g-xtitle\"/><g class=\"g-ytitle\"/></g></svg>"
     },
     "metadata": {},
     "output_type": "display_data"
    },
    {
     "name": "stdout",
     "output_type": "stream",
     "text": [
      "   feature  importance\n",
      "0    lag_1    0.169943\n",
      "11  lag_12    0.145766\n",
      "3    lag_4    0.138808\n",
      "1    lag_2    0.136935\n",
      "2    lag_3    0.089591\n",
      "9   lag_10    0.088055\n",
      "5    lag_6    0.062586\n",
      "13    LTIR    0.042966\n",
      "15      UR    0.032268\n",
      "7    lag_8    0.029693\n",
      "10  lag_11    0.020481\n",
      "4    lag_5    0.015232\n",
      "14     TIV    0.013282\n",
      "6    lag_7    0.006131\n",
      "8    lag_9    0.005821\n",
      "12     CPI    0.002442 \n",
      "\n",
      "GB Backtesting:\n",
      "Mean Absolute Error: 243.48.\n",
      "Root Mean Squared Error: 332.03.\n",
      "Mean Absolute Percentage Error: 43.86%.\n",
      "Accuracy = 56.14%.\n"
     ]
    },
    {
     "data": {
      "image/svg+xml": "<svg class=\"main-svg\" xmlns=\"http://www.w3.org/2000/svg\" xmlns:xlink=\"http://www.w3.org/1999/xlink\" width=\"1200\" height=\"500\" style=\"\" viewBox=\"0 0 1200 500\"><rect x=\"0\" y=\"0\" width=\"1200\" height=\"500\" style=\"fill: rgb(255, 255, 255); fill-opacity: 1;\"/><defs id=\"defs-a8b7aa\"><g class=\"clips\"><clipPath id=\"clipa8b7aaxyplot\" class=\"plotclip\"><rect width=\"976\" height=\"320\"/></clipPath><clipPath class=\"axesclip\" id=\"clipa8b7aax\"><rect x=\"80\" y=\"0\" width=\"976\" height=\"500\"/></clipPath><clipPath class=\"axesclip\" id=\"clipa8b7aay\"><rect x=\"0\" y=\"100\" width=\"1200\" height=\"320\"/></clipPath><clipPath class=\"axesclip\" id=\"clipa8b7aaxy\"><rect x=\"80\" y=\"100\" width=\"976\" height=\"320\"/></clipPath></g><g class=\"gradients\"/><g class=\"patterns\"/></defs><g class=\"bglayer\"><rect class=\"bg\" x=\"80\" y=\"100\" width=\"976\" height=\"320\" style=\"fill: rgb(229, 236, 246); fill-opacity: 1; stroke-width: 0;\"/></g><g class=\"layer-below\"><g class=\"imagelayer\"/><g class=\"shapelayer\"/></g><g class=\"cartesianlayer\"><g class=\"subplot xy\"><g class=\"layer-subplot\"><g class=\"shapelayer\"/><g class=\"imagelayer\"/></g><g class=\"minor-gridlayer\"><g class=\"x\"/><g class=\"y\"/></g><g class=\"gridlayer\"><g class=\"x\"><path class=\"xgrid crisp\" transform=\"translate(150.1,0)\" d=\"M0,100v320\" style=\"stroke: rgb(255, 255, 255); stroke-opacity: 1; stroke-width: 1px;\"/><path class=\"xgrid crisp\" transform=\"translate(290.3,0)\" d=\"M0,100v320\" style=\"stroke: rgb(255, 255, 255); stroke-opacity: 1; stroke-width: 1px;\"/><path class=\"xgrid crisp\" transform=\"translate(430.68,0)\" d=\"M0,100v320\" style=\"stroke: rgb(255, 255, 255); stroke-opacity: 1; stroke-width: 1px;\"/><path class=\"xgrid crisp\" transform=\"translate(570.88,0)\" d=\"M0,100v320\" style=\"stroke: rgb(255, 255, 255); stroke-opacity: 1; stroke-width: 1px;\"/><path class=\"xgrid crisp\" transform=\"translate(711.27,0)\" d=\"M0,100v320\" style=\"stroke: rgb(255, 255, 255); stroke-opacity: 1; stroke-width: 1px;\"/><path class=\"xgrid crisp\" transform=\"translate(851.47,0)\" d=\"M0,100v320\" style=\"stroke: rgb(255, 255, 255); stroke-opacity: 1; stroke-width: 1px;\"/><path class=\"xgrid crisp\" transform=\"translate(991.86,0)\" d=\"M0,100v320\" style=\"stroke: rgb(255, 255, 255); stroke-opacity: 1; stroke-width: 1px;\"/></g><g class=\"y\"><path class=\"ygrid crisp\" transform=\"translate(0,365.52)\" d=\"M80,0h976\" style=\"stroke: rgb(255, 255, 255); stroke-opacity: 1; stroke-width: 1px;\"/><path class=\"ygrid crisp\" transform=\"translate(0,302.03)\" d=\"M80,0h976\" style=\"stroke: rgb(255, 255, 255); stroke-opacity: 1; stroke-width: 1px;\"/><path class=\"ygrid crisp\" transform=\"translate(0,238.54)\" d=\"M80,0h976\" style=\"stroke: rgb(255, 255, 255); stroke-opacity: 1; stroke-width: 1px;\"/><path class=\"ygrid crisp\" transform=\"translate(0,175.05)\" d=\"M80,0h976\" style=\"stroke: rgb(255, 255, 255); stroke-opacity: 1; stroke-width: 1px;\"/><path class=\"ygrid crisp\" transform=\"translate(0,111.56)\" d=\"M80,0h976\" style=\"stroke: rgb(255, 255, 255); stroke-opacity: 1; stroke-width: 1px;\"/></g></g><g class=\"zerolinelayer\"/><path class=\"xlines-below\"/><path class=\"ylines-below\"/><g class=\"overlines-below\"/><g class=\"xaxislayer-below\"/><g class=\"yaxislayer-below\"/><g class=\"overaxes-below\"/><g class=\"plot\" transform=\"translate(80,100)\" clip-path=\"url(#clipa8b7aaxyplot)\"><g class=\"scatterlayer mlayer\"><g class=\"trace scatter traceb62276\" style=\"stroke-miterlimit: 2; opacity: 1;\"><g class=\"fills\"/><g class=\"errorbars\"/><g class=\"lines\"><path class=\"js-line\" d=\"M0,299.43L5.95,294.73L11.33,277.46L17.28,283.81L23.05,258.79L29,219.17L34.76,260.44L40.71,276.06L46.67,247.37L52.43,280.38L58.38,267.05L64.14,222.86L70.1,292.95L76.05,267.68L81.43,264L87.38,257.27L93.14,262.22L99.1,258.54L104.86,262.73L110.81,261.21L116.77,238.73L122.53,223.87L128.48,251.05L134.24,252.44L140.2,232.89L146.15,227.81L151.53,256.89L157.48,274.54L163.24,256.76L169.2,254.35L174.96,277.21L180.91,266.16L186.87,281.02L192.63,282.29L198.58,295.87L204.34,304L210.3,288L216.25,298.79L221.82,272.76L227.77,300.95L233.53,293.59L239.49,290.54L245.25,275.3L251.2,271.37L257.16,273.27L262.92,275.05L268.87,265.14L274.63,284.95L280.59,282.92L286.54,279.49L291.92,268.95L297.87,262.1L303.63,267.05L309.59,259.81L315.35,268.57L321.3,264.38L327.25,261.71L333.02,260.44L338.97,255.75L344.73,276.83L350.68,253.97L356.64,254.6L362.01,262.22L367.97,251.68L373.73,252.57L379.68,257.9L385.45,269.71L397.35,247.11L403.11,255.87L409.07,239.37L414.83,253.08L420.78,216.38L426.74,257.52L432.11,232.38L438.07,259.68L449.78,249.4L455.54,262.98L461.5,245.08L467.45,236.57L473.21,247.11L479.17,245.59L484.93,260.19L490.88,253.21L496.83,236.95L502.4,186.41L508.36,264.76L514.12,248.89L520.07,242.41L525.83,257.14L531.79,238.1L537.74,229.97L543.5,206.86L549.46,214.48L555.22,242.92L561.17,227.05L567.12,230.48L572.5,191.37L578.46,239.87L584.22,232L590.17,249.65L595.93,250.03L601.89,226.67L607.84,218.67L613.6,213.21L619.55,221.59L625.32,223.75L631.27,228.95L637.22,219.81L642.6,163.68L648.55,266.03L654.32,272.25L660.27,218.79L666.03,252.57L671.98,222.35L677.94,222.98L683.7,232.13L689.65,253.33L695.41,216.13L701.37,278.98L707.32,219.3L712.7,137.14L718.65,258.16L724.41,255.11L730.37,244.44L736.13,244.19L742.08,241.78L748.04,235.17L753.8,247.37L759.75,220.57L771.47,250.54L777.42,214.1L782.99,203.3L788.94,283.43L794.7,244.83L800.66,248L806.42,257.02L812.37,252.32L818.33,266.41L824.09,255.24L835.8,292.06L841.76,301.84L847.71,77.84L853.09,16L859.04,268.06L864.8,198.48L870.76,173.71L876.52,51.43L882.47,167.49L888.43,145.02L894.19,178.41L900.14,180.95L905.9,208L911.86,225.9L917.81,211.3L923.19,169.65L929.14,269.46L934.9,262.6L940.85,214.6L946.62,236.95L952.57,256.51L958.52,219.56L964.28,247.62L970.24,242.29L976,237.08\" style=\"vector-effect: non-scaling-stroke; fill: none; stroke: rgb(99, 110, 250); stroke-opacity: 1; stroke-width: 2px; opacity: 1;\"/></g><g class=\"points\"/><g class=\"text\"/></g><g class=\"trace scatter trace8aef38\" style=\"stroke-miterlimit: 2; opacity: 1;\"><g class=\"fills\"/><g class=\"errorbars\"/><g class=\"lines\"><path class=\"js-line\" d=\"M0,291.39L11.33,294.94L17.28,293.36L29,294.71L34.76,290.19L40.71,294.75L46.67,290.68L52.43,275.55L58.38,290.68L70.1,289.84L76.05,290.68L81.43,291.56L87.38,290.68L93.14,290.55L99.1,291.35L116.77,291.35L122.53,291.78L134.24,290.68L140.2,260.82L146.15,259.23L151.53,265.04L157.48,262.11L163.24,268.48L169.2,261L174.96,261.38L180.91,266.25L186.87,260.96L192.63,271.17L198.58,263.63L210.3,260.85L216.25,258.59L221.82,264.5L227.77,259.28L233.53,261.14L239.49,259L245.25,259.04L251.2,262.9L257.16,258.49L262.92,261.48L268.87,260.23L274.63,264.22L280.59,245.82L286.54,236.65L291.92,256.29L297.87,254.64L303.63,258.36L309.59,250.23L321.3,259.99L327.25,261.74L333.02,261.27L338.97,262.74L344.73,257.91L350.68,261.23L356.64,261.28L362.01,252.08L367.97,252.17L373.73,250.15L379.68,253.03L385.45,244.46L391.4,247.86L397.35,248.39L403.11,257.96L409.07,250.5L414.83,256.28L420.78,227.91L426.74,231.4L432.11,219.76L443.83,227.78L449.78,231.21L455.54,238.73L461.5,224.6L467.45,224.19L473.21,221.58L479.17,221.32L484.93,222.73L490.88,227.57L496.83,227.04L502.4,219.76L508.36,222.2L520.07,218.5L525.83,226.94L531.79,215.13L537.74,215.85L543.5,222.07L549.46,218.79L555.22,217.17L561.17,265.54L567.12,229.82L572.5,154.3L578.46,259.16L584.22,255.09L590.17,235.17L595.93,235.78L601.89,232.87L607.84,231.12L613.6,239.8L619.55,230.19L625.32,232.95L631.27,263.51L637.22,232.36L642.6,163.56L648.55,252.71L654.32,253.88L660.27,229.43L666.03,243.95L671.98,234.99L677.94,234.92L683.7,247.47L689.65,231.8L695.41,232.06L701.37,219.58L707.32,171.04L712.7,189.72L718.65,232.1L724.41,180.32L730.37,189.16L736.13,206.53L742.08,179.77L748.04,193.09L753.8,187.04L759.75,175.66L765.51,185.19L771.47,229.97L777.42,179.68L782.99,182.84L788.94,242.95L794.7,189.85L800.66,180.05L806.42,211.89L812.37,175.76L818.33,184.15L824.09,193.77L830.04,177.56L835.8,192.59L841.76,246.52L847.71,236.13L853.09,235.24L859.04,220.76L864.8,240.65L870.76,245.69L876.52,252.45L882.47,245.82L888.43,246.13L894.19,243.31L900.14,247.16L905.9,246.87L911.86,258.33L917.81,265.81L923.19,249.3L929.14,255.1L934.9,249.61L940.85,238.9L946.62,260.18L952.57,242.95L958.52,243L964.28,231.54L970.24,242.02L976,229.7\" style=\"vector-effect: non-scaling-stroke; fill: none; stroke: rgb(239, 85, 59); stroke-opacity: 1; stroke-width: 2px; opacity: 1;\"/></g><g class=\"points\"/><g class=\"text\"/></g></g></g><g class=\"overplot\"/><path class=\"xlines-above crisp\" d=\"M0,0\" style=\"fill: none;\"/><path class=\"ylines-above crisp\" d=\"M0,0\" style=\"fill: none;\"/><g class=\"overlines-above\"/><g class=\"xaxislayer-above\"><g class=\"xtick\"><text text-anchor=\"middle\" x=\"0\" y=\"433\" transform=\"translate(150.1,0)\" style=\"font-family: 'Open Sans', verdana, arial, sans-serif; font-size: 12px; fill: rgb(42, 63, 95); fill-opacity: 1; white-space: pre; opacity: 1;\">2010</text></g><g class=\"xtick\"><text text-anchor=\"middle\" x=\"0\" y=\"433\" style=\"font-family: 'Open Sans', verdana, arial, sans-serif; font-size: 12px; fill: rgb(42, 63, 95); fill-opacity: 1; white-space: pre; opacity: 1;\" transform=\"translate(290.3,0)\">2012</text></g><g class=\"xtick\"><text text-anchor=\"middle\" x=\"0\" y=\"433\" style=\"font-family: 'Open Sans', verdana, arial, sans-serif; font-size: 12px; fill: rgb(42, 63, 95); fill-opacity: 1; white-space: pre; opacity: 1;\" transform=\"translate(430.68,0)\">2014</text></g><g class=\"xtick\"><text text-anchor=\"middle\" x=\"0\" y=\"433\" style=\"font-family: 'Open Sans', verdana, arial, sans-serif; font-size: 12px; fill: rgb(42, 63, 95); fill-opacity: 1; white-space: pre; opacity: 1;\" transform=\"translate(570.88,0)\">2016</text></g><g class=\"xtick\"><text text-anchor=\"middle\" x=\"0\" y=\"433\" style=\"font-family: 'Open Sans', verdana, arial, sans-serif; font-size: 12px; fill: rgb(42, 63, 95); fill-opacity: 1; white-space: pre; opacity: 1;\" transform=\"translate(711.27,0)\">2018</text></g><g class=\"xtick\"><text text-anchor=\"middle\" x=\"0\" y=\"433\" style=\"font-family: 'Open Sans', verdana, arial, sans-serif; font-size: 12px; fill: rgb(42, 63, 95); fill-opacity: 1; white-space: pre; opacity: 1;\" transform=\"translate(851.47,0)\">2020</text></g><g class=\"xtick\"><text text-anchor=\"middle\" x=\"0\" y=\"433\" style=\"font-family: 'Open Sans', verdana, arial, sans-serif; font-size: 12px; fill: rgb(42, 63, 95); fill-opacity: 1; white-space: pre; opacity: 1;\" transform=\"translate(991.86,0)\">2022</text></g></g><g class=\"yaxislayer-above\"><g class=\"ytick\"><text text-anchor=\"end\" x=\"79\" y=\"4.199999999999999\" transform=\"translate(0,365.52)\" style=\"font-family: 'Open Sans', verdana, arial, sans-serif; font-size: 12px; fill: rgb(42, 63, 95); fill-opacity: 1; white-space: pre; opacity: 1;\">500</text></g><g class=\"ytick\"><text text-anchor=\"end\" x=\"79\" y=\"4.199999999999999\" style=\"font-family: 'Open Sans', verdana, arial, sans-serif; font-size: 12px; fill: rgb(42, 63, 95); fill-opacity: 1; white-space: pre; opacity: 1;\" transform=\"translate(0,302.03)\">1000</text></g><g class=\"ytick\"><text text-anchor=\"end\" x=\"79\" y=\"4.199999999999999\" style=\"font-family: 'Open Sans', verdana, arial, sans-serif; font-size: 12px; fill: rgb(42, 63, 95); fill-opacity: 1; white-space: pre; opacity: 1;\" transform=\"translate(0,238.54)\">1500</text></g><g class=\"ytick\"><text text-anchor=\"end\" x=\"79\" y=\"4.199999999999999\" style=\"font-family: 'Open Sans', verdana, arial, sans-serif; font-size: 12px; fill: rgb(42, 63, 95); fill-opacity: 1; white-space: pre; opacity: 1;\" transform=\"translate(0,175.05)\">2000</text></g><g class=\"ytick\"><text text-anchor=\"end\" x=\"79\" y=\"4.199999999999999\" style=\"font-family: 'Open Sans', verdana, arial, sans-serif; font-size: 12px; fill: rgb(42, 63, 95); fill-opacity: 1; white-space: pre; opacity: 1;\" transform=\"translate(0,111.56)\">2500</text></g></g><g class=\"overaxes-above\"/></g></g><g class=\"polarlayer\"/><g class=\"smithlayer\"/><g class=\"ternarylayer\"/><g class=\"geolayer\"/><g class=\"funnelarealayer\"/><g class=\"pielayer\"/><g class=\"iciclelayer\"/><g class=\"treemaplayer\"/><g class=\"sunburstlayer\"/><g class=\"glimages\"/><defs id=\"topdefs-a8b7aa\"><g class=\"clips\"/><clipPath id=\"legenda8b7aa\"><rect width=\"112\" height=\"48\" x=\"0\" y=\"0\"/></clipPath></defs><g class=\"layer-above\"><g class=\"imagelayer\"/><g class=\"shapelayer\"/></g><g class=\"infolayer\"><g class=\"legend\" pointer-events=\"all\" transform=\"translate(1075.52,100)\"><rect class=\"bg\" shape-rendering=\"crispEdges\" width=\"112\" height=\"48\" x=\"0\" y=\"0\" style=\"stroke: rgb(68, 68, 68); stroke-opacity: 1; fill: rgb(255, 255, 255); fill-opacity: 1; stroke-width: 0px;\"/><g class=\"scrollbox\" transform=\"\" clip-path=\"url(#legenda8b7aa)\"><g class=\"groups\"><g class=\"traces\" transform=\"translate(0,14.5)\" style=\"opacity: 1;\"><text class=\"legendtext\" text-anchor=\"start\" x=\"40\" y=\"4.680000000000001\" style=\"font-family: 'Open Sans', verdana, arial, sans-serif; font-size: 12px; fill: rgb(42, 63, 95); fill-opacity: 1; white-space: pre;\">Train</text><g class=\"layers\" style=\"opacity: 1;\"><g class=\"legendfill\"/><g class=\"legendlines\"><path class=\"js-line\" d=\"M5,0h30\" style=\"fill: none; stroke: rgb(99, 110, 250); stroke-opacity: 1; stroke-width: 2px;\"/></g><g class=\"legendsymbols\"><g class=\"legendpoints\"/></g></g><rect class=\"legendtoggle\" x=\"0\" y=\"-9.5\" width=\"106.4375\" height=\"19\" style=\"fill: rgb(0, 0, 0); fill-opacity: 0;\"/></g><g class=\"traces\" transform=\"translate(0,33.5)\" style=\"opacity: 1;\"><text class=\"legendtext\" text-anchor=\"start\" x=\"40\" y=\"4.680000000000001\" style=\"font-family: 'Open Sans', verdana, arial, sans-serif; font-size: 12px; fill: rgb(42, 63, 95); fill-opacity: 1; white-space: pre;\">Predictions</text><g class=\"layers\" style=\"opacity: 1;\"><g class=\"legendfill\"/><g class=\"legendlines\"><path class=\"js-line\" d=\"M5,0h30\" style=\"fill: none; stroke: rgb(239, 85, 59); stroke-opacity: 1; stroke-width: 2px;\"/></g><g class=\"legendsymbols\"><g class=\"legendpoints\"/></g></g><rect class=\"legendtoggle\" x=\"0\" y=\"-9.5\" width=\"106.4375\" height=\"19\" style=\"fill: rgb(0, 0, 0); fill-opacity: 0;\"/></g></g></g><rect class=\"scrollbar\" rx=\"20\" ry=\"3\" width=\"0\" height=\"0\" x=\"0\" y=\"0\" style=\"fill: rgb(128, 139, 164); fill-opacity: 1;\"/></g><g class=\"g-gtitle\"><text class=\"gtitle\" x=\"60\" y=\"50\" text-anchor=\"start\" dy=\"0em\" style=\"font-family: 'Open Sans', verdana, arial, sans-serif; font-size: 17px; fill: rgb(42, 63, 95); opacity: 1; font-weight: normal; white-space: pre;\">GB Backteting in NOR</text></g><g class=\"g-xtitle\"/><g class=\"g-ytitle\"/></g></svg>"
     },
     "metadata": {},
     "output_type": "display_data"
    },
    {
     "name": "stdout",
     "output_type": "stream",
     "text": [
      "   feature  importance\n",
      "1    lag_2    0.218981\n",
      "0    lag_1    0.180547\n",
      "11  lag_12    0.083824\n",
      "3    lag_4    0.080444\n",
      "2    lag_3    0.076840\n",
      "7    lag_8    0.070928\n",
      "13    LTIR    0.067171\n",
      "14     TIV    0.060667\n",
      "5    lag_6    0.033437\n",
      "4    lag_5    0.028165\n",
      "10  lag_11    0.027560\n",
      "12     CPI    0.027078\n",
      "9   lag_10    0.025669\n",
      "15      UR    0.007767\n",
      "8    lag_9    0.005590\n",
      "6    lag_7    0.005332 \n",
      "\n",
      "XGB Backtesting:\n",
      "Mean Absolute Error: 224.23.\n",
      "Root Mean Squared Error: 311.62.\n",
      "Mean Absolute Percentage Error: 41.22%.\n",
      "Accuracy = 58.78%.\n"
     ]
    },
    {
     "data": {
      "image/svg+xml": "<svg class=\"main-svg\" xmlns=\"http://www.w3.org/2000/svg\" xmlns:xlink=\"http://www.w3.org/1999/xlink\" width=\"1200\" height=\"500\" style=\"\" viewBox=\"0 0 1200 500\"><rect x=\"0\" y=\"0\" width=\"1200\" height=\"500\" style=\"fill: rgb(255, 255, 255); fill-opacity: 1;\"/><defs id=\"defs-cf5976\"><g class=\"clips\"><clipPath id=\"clipcf5976xyplot\" class=\"plotclip\"><rect width=\"976\" height=\"320\"/></clipPath><clipPath class=\"axesclip\" id=\"clipcf5976x\"><rect x=\"80\" y=\"0\" width=\"976\" height=\"500\"/></clipPath><clipPath class=\"axesclip\" id=\"clipcf5976y\"><rect x=\"0\" y=\"100\" width=\"1200\" height=\"320\"/></clipPath><clipPath class=\"axesclip\" id=\"clipcf5976xy\"><rect x=\"80\" y=\"100\" width=\"976\" height=\"320\"/></clipPath></g><g class=\"gradients\"/><g class=\"patterns\"/></defs><g class=\"bglayer\"><rect class=\"bg\" x=\"80\" y=\"100\" width=\"976\" height=\"320\" style=\"fill: rgb(229, 236, 246); fill-opacity: 1; stroke-width: 0;\"/></g><g class=\"layer-below\"><g class=\"imagelayer\"/><g class=\"shapelayer\"/></g><g class=\"cartesianlayer\"><g class=\"subplot xy\"><g class=\"layer-subplot\"><g class=\"shapelayer\"/><g class=\"imagelayer\"/></g><g class=\"minor-gridlayer\"><g class=\"x\"/><g class=\"y\"/></g><g class=\"gridlayer\"><g class=\"x\"><path class=\"xgrid crisp\" transform=\"translate(150.1,0)\" d=\"M0,100v320\" style=\"stroke: rgb(255, 255, 255); stroke-opacity: 1; stroke-width: 1px;\"/><path class=\"xgrid crisp\" transform=\"translate(290.3,0)\" d=\"M0,100v320\" style=\"stroke: rgb(255, 255, 255); stroke-opacity: 1; stroke-width: 1px;\"/><path class=\"xgrid crisp\" transform=\"translate(430.68,0)\" d=\"M0,100v320\" style=\"stroke: rgb(255, 255, 255); stroke-opacity: 1; stroke-width: 1px;\"/><path class=\"xgrid crisp\" transform=\"translate(570.88,0)\" d=\"M0,100v320\" style=\"stroke: rgb(255, 255, 255); stroke-opacity: 1; stroke-width: 1px;\"/><path class=\"xgrid crisp\" transform=\"translate(711.27,0)\" d=\"M0,100v320\" style=\"stroke: rgb(255, 255, 255); stroke-opacity: 1; stroke-width: 1px;\"/><path class=\"xgrid crisp\" transform=\"translate(851.47,0)\" d=\"M0,100v320\" style=\"stroke: rgb(255, 255, 255); stroke-opacity: 1; stroke-width: 1px;\"/><path class=\"xgrid crisp\" transform=\"translate(991.86,0)\" d=\"M0,100v320\" style=\"stroke: rgb(255, 255, 255); stroke-opacity: 1; stroke-width: 1px;\"/></g><g class=\"y\"><path class=\"ygrid crisp\" transform=\"translate(0,365.52)\" d=\"M80,0h976\" style=\"stroke: rgb(255, 255, 255); stroke-opacity: 1; stroke-width: 1px;\"/><path class=\"ygrid crisp\" transform=\"translate(0,302.03)\" d=\"M80,0h976\" style=\"stroke: rgb(255, 255, 255); stroke-opacity: 1; stroke-width: 1px;\"/><path class=\"ygrid crisp\" transform=\"translate(0,238.54)\" d=\"M80,0h976\" style=\"stroke: rgb(255, 255, 255); stroke-opacity: 1; stroke-width: 1px;\"/><path class=\"ygrid crisp\" transform=\"translate(0,175.05)\" d=\"M80,0h976\" style=\"stroke: rgb(255, 255, 255); stroke-opacity: 1; stroke-width: 1px;\"/><path class=\"ygrid crisp\" transform=\"translate(0,111.56)\" d=\"M80,0h976\" style=\"stroke: rgb(255, 255, 255); stroke-opacity: 1; stroke-width: 1px;\"/></g></g><g class=\"zerolinelayer\"/><path class=\"xlines-below\"/><path class=\"ylines-below\"/><g class=\"overlines-below\"/><g class=\"xaxislayer-below\"/><g class=\"yaxislayer-below\"/><g class=\"overaxes-below\"/><g class=\"plot\" transform=\"translate(80,100)\" clip-path=\"url(#clipcf5976xyplot)\"><g class=\"scatterlayer mlayer\"><g class=\"trace scatter tracee29be6\" style=\"stroke-miterlimit: 2; opacity: 1;\"><g class=\"fills\"/><g class=\"errorbars\"/><g class=\"lines\"><path class=\"js-line\" d=\"M0,299.43L5.95,294.73L11.33,277.46L17.28,283.81L23.05,258.79L29,219.17L34.76,260.44L40.71,276.06L46.67,247.37L52.43,280.38L58.38,267.05L64.14,222.86L70.1,292.95L76.05,267.68L81.43,264L87.38,257.27L93.14,262.22L99.1,258.54L104.86,262.73L110.81,261.21L116.77,238.73L122.53,223.87L128.48,251.05L134.24,252.44L140.2,232.89L146.15,227.81L151.53,256.89L157.48,274.54L163.24,256.76L169.2,254.35L174.96,277.21L180.91,266.16L186.87,281.02L192.63,282.29L198.58,295.87L204.34,304L210.3,288L216.25,298.79L221.82,272.76L227.77,300.95L233.53,293.59L239.49,290.54L245.25,275.3L251.2,271.37L257.16,273.27L262.92,275.05L268.87,265.14L274.63,284.95L280.59,282.92L286.54,279.49L291.92,268.95L297.87,262.1L303.63,267.05L309.59,259.81L315.35,268.57L321.3,264.38L327.25,261.71L333.02,260.44L338.97,255.75L344.73,276.83L350.68,253.97L356.64,254.6L362.01,262.22L367.97,251.68L373.73,252.57L379.68,257.9L385.45,269.71L397.35,247.11L403.11,255.87L409.07,239.37L414.83,253.08L420.78,216.38L426.74,257.52L432.11,232.38L438.07,259.68L449.78,249.4L455.54,262.98L461.5,245.08L467.45,236.57L473.21,247.11L479.17,245.59L484.93,260.19L490.88,253.21L496.83,236.95L502.4,186.41L508.36,264.76L514.12,248.89L520.07,242.41L525.83,257.14L531.79,238.1L537.74,229.97L543.5,206.86L549.46,214.48L555.22,242.92L561.17,227.05L567.12,230.48L572.5,191.37L578.46,239.87L584.22,232L590.17,249.65L595.93,250.03L601.89,226.67L607.84,218.67L613.6,213.21L619.55,221.59L625.32,223.75L631.27,228.95L637.22,219.81L642.6,163.68L648.55,266.03L654.32,272.25L660.27,218.79L666.03,252.57L671.98,222.35L677.94,222.98L683.7,232.13L689.65,253.33L695.41,216.13L701.37,278.98L707.32,219.3L712.7,137.14L718.65,258.16L724.41,255.11L730.37,244.44L736.13,244.19L742.08,241.78L748.04,235.17L753.8,247.37L759.75,220.57L771.47,250.54L777.42,214.1L782.99,203.3L788.94,283.43L794.7,244.83L800.66,248L806.42,257.02L812.37,252.32L818.33,266.41L824.09,255.24L835.8,292.06L841.76,301.84L847.71,77.84L853.09,16L859.04,268.06L864.8,198.48L870.76,173.71L876.52,51.43L882.47,167.49L888.43,145.02L894.19,178.41L900.14,180.95L905.9,208L911.86,225.9L917.81,211.3L923.19,169.65L929.14,269.46L934.9,262.6L940.85,214.6L946.62,236.95L952.57,256.51L958.52,219.56L964.28,247.62L970.24,242.29L976,237.08\" style=\"vector-effect: non-scaling-stroke; fill: none; stroke: rgb(99, 110, 250); stroke-opacity: 1; stroke-width: 2px; opacity: 1;\"/></g><g class=\"points\"/><g class=\"text\"/></g><g class=\"trace scatter tracec88977\" style=\"stroke-miterlimit: 2; opacity: 1;\"><g class=\"fills\"/><g class=\"errorbars\"/><g class=\"lines\"><path class=\"js-line\" d=\"M0,301.86L5.95,303.57L11.33,299.54L17.28,303.94L23.05,299.57L29,299.6L34.76,285.31L40.71,290.81L46.67,278.72L52.43,273.5L58.38,274.28L64.14,273.4L70.1,274.08L81.43,273.49L87.38,277.24L93.14,273.49L99.1,280.68L104.86,280.36L110.81,281.15L128.48,280.58L134.24,277.85L140.2,259.9L146.15,261.89L151.53,264.02L157.48,257.63L163.24,265.48L169.2,259.35L174.96,260.45L180.91,257.78L186.87,258.77L192.63,260.62L198.58,258.93L204.34,261.78L210.3,257.63L216.25,258.07L221.82,260.1L227.77,257.04L233.53,261.15L239.49,257.28L245.25,256.95L251.2,257.5L257.16,258.55L262.92,260.85L268.87,259.81L274.63,260.34L280.59,247.74L286.54,240.51L291.92,269.47L297.87,264.45L303.63,262.31L309.59,263.88L315.35,260.02L321.3,273.2L327.25,257.46L333.02,260.61L338.97,267.19L344.73,261.19L350.68,277.08L356.64,267.81L362.01,269.93L367.97,264.92L373.73,262.57L379.68,264.99L385.45,260.24L391.4,264.29L397.35,255.64L403.11,261.53L409.07,252.34L414.83,247.61L420.78,245.22L426.74,246.25L432.11,244.56L438.07,228.21L443.83,233.36L449.78,228.03L455.54,241.94L461.5,236.04L467.45,233.97L473.21,235.27L479.17,234.12L484.93,236.94L490.88,238.11L496.83,237.97L502.4,239.27L508.36,233.02L520.07,233.03L525.83,237.84L531.79,238.25L537.74,234.11L543.5,239.19L549.46,234.09L555.22,225.75L561.17,254.41L567.12,233.97L572.5,163.2L578.46,262.75L584.22,260.1L590.17,224.29L595.93,237.37L601.89,231.56L607.84,222L613.6,235.77L619.55,224.54L625.32,230.77L631.27,268.54L637.22,222.88L642.6,137.39L648.55,252.87L654.32,252.83L660.27,225.29L666.03,244.4L671.98,238.09L677.94,224.84L683.7,237.72L689.65,227.87L695.41,226.88L701.37,255.14L707.32,215.54L712.7,199.78L718.65,234.42L724.41,208.65L730.37,206.26L736.13,238.1L742.08,207.47L748.04,185.1L753.8,203.96L759.75,208.43L765.51,198.26L771.47,248.34L777.42,240.46L782.99,181.61L788.94,243.35L794.7,230.46L800.66,192.81L806.42,254.28L812.37,208.76L818.33,184.51L824.09,205.63L830.04,211.59L835.8,195.55L841.76,244.45L847.71,239.75L853.09,248.21L859.04,237.69L864.8,240.81L870.76,242.07L876.52,255.52L882.47,248.45L888.43,231.1L894.19,237.22L900.14,232.01L905.9,230.79L911.86,246.04L917.81,258.18L923.19,232.15L929.14,244.8L934.9,216.42L940.85,227.75L946.62,256.19L952.57,239.78L958.52,239.05L964.28,249.84L970.24,234.51L976,216.42\" style=\"vector-effect: non-scaling-stroke; fill: none; stroke: rgb(239, 85, 59); stroke-opacity: 1; stroke-width: 2px; opacity: 1;\"/></g><g class=\"points\"/><g class=\"text\"/></g></g></g><g class=\"overplot\"/><path class=\"xlines-above crisp\" d=\"M0,0\" style=\"fill: none;\"/><path class=\"ylines-above crisp\" d=\"M0,0\" style=\"fill: none;\"/><g class=\"overlines-above\"/><g class=\"xaxislayer-above\"><g class=\"xtick\"><text text-anchor=\"middle\" x=\"0\" y=\"433\" transform=\"translate(150.1,0)\" style=\"font-family: 'Open Sans', verdana, arial, sans-serif; font-size: 12px; fill: rgb(42, 63, 95); fill-opacity: 1; white-space: pre; opacity: 1;\">2010</text></g><g class=\"xtick\"><text text-anchor=\"middle\" x=\"0\" y=\"433\" style=\"font-family: 'Open Sans', verdana, arial, sans-serif; font-size: 12px; fill: rgb(42, 63, 95); fill-opacity: 1; white-space: pre; opacity: 1;\" transform=\"translate(290.3,0)\">2012</text></g><g class=\"xtick\"><text text-anchor=\"middle\" x=\"0\" y=\"433\" style=\"font-family: 'Open Sans', verdana, arial, sans-serif; font-size: 12px; fill: rgb(42, 63, 95); fill-opacity: 1; white-space: pre; opacity: 1;\" transform=\"translate(430.68,0)\">2014</text></g><g class=\"xtick\"><text text-anchor=\"middle\" x=\"0\" y=\"433\" style=\"font-family: 'Open Sans', verdana, arial, sans-serif; font-size: 12px; fill: rgb(42, 63, 95); fill-opacity: 1; white-space: pre; opacity: 1;\" transform=\"translate(570.88,0)\">2016</text></g><g class=\"xtick\"><text text-anchor=\"middle\" x=\"0\" y=\"433\" style=\"font-family: 'Open Sans', verdana, arial, sans-serif; font-size: 12px; fill: rgb(42, 63, 95); fill-opacity: 1; white-space: pre; opacity: 1;\" transform=\"translate(711.27,0)\">2018</text></g><g class=\"xtick\"><text text-anchor=\"middle\" x=\"0\" y=\"433\" style=\"font-family: 'Open Sans', verdana, arial, sans-serif; font-size: 12px; fill: rgb(42, 63, 95); fill-opacity: 1; white-space: pre; opacity: 1;\" transform=\"translate(851.47,0)\">2020</text></g><g class=\"xtick\"><text text-anchor=\"middle\" x=\"0\" y=\"433\" style=\"font-family: 'Open Sans', verdana, arial, sans-serif; font-size: 12px; fill: rgb(42, 63, 95); fill-opacity: 1; white-space: pre; opacity: 1;\" transform=\"translate(991.86,0)\">2022</text></g></g><g class=\"yaxislayer-above\"><g class=\"ytick\"><text text-anchor=\"end\" x=\"79\" y=\"4.199999999999999\" transform=\"translate(0,365.52)\" style=\"font-family: 'Open Sans', verdana, arial, sans-serif; font-size: 12px; fill: rgb(42, 63, 95); fill-opacity: 1; white-space: pre; opacity: 1;\">500</text></g><g class=\"ytick\"><text text-anchor=\"end\" x=\"79\" y=\"4.199999999999999\" style=\"font-family: 'Open Sans', verdana, arial, sans-serif; font-size: 12px; fill: rgb(42, 63, 95); fill-opacity: 1; white-space: pre; opacity: 1;\" transform=\"translate(0,302.03)\">1000</text></g><g class=\"ytick\"><text text-anchor=\"end\" x=\"79\" y=\"4.199999999999999\" style=\"font-family: 'Open Sans', verdana, arial, sans-serif; font-size: 12px; fill: rgb(42, 63, 95); fill-opacity: 1; white-space: pre; opacity: 1;\" transform=\"translate(0,238.54)\">1500</text></g><g class=\"ytick\"><text text-anchor=\"end\" x=\"79\" y=\"4.199999999999999\" style=\"font-family: 'Open Sans', verdana, arial, sans-serif; font-size: 12px; fill: rgb(42, 63, 95); fill-opacity: 1; white-space: pre; opacity: 1;\" transform=\"translate(0,175.05)\">2000</text></g><g class=\"ytick\"><text text-anchor=\"end\" x=\"79\" y=\"4.199999999999999\" style=\"font-family: 'Open Sans', verdana, arial, sans-serif; font-size: 12px; fill: rgb(42, 63, 95); fill-opacity: 1; white-space: pre; opacity: 1;\" transform=\"translate(0,111.56)\">2500</text></g></g><g class=\"overaxes-above\"/></g></g><g class=\"polarlayer\"/><g class=\"smithlayer\"/><g class=\"ternarylayer\"/><g class=\"geolayer\"/><g class=\"funnelarealayer\"/><g class=\"pielayer\"/><g class=\"iciclelayer\"/><g class=\"treemaplayer\"/><g class=\"sunburstlayer\"/><g class=\"glimages\"/><defs id=\"topdefs-cf5976\"><g class=\"clips\"/><clipPath id=\"legendcf5976\"><rect width=\"112\" height=\"48\" x=\"0\" y=\"0\"/></clipPath></defs><g class=\"layer-above\"><g class=\"imagelayer\"/><g class=\"shapelayer\"/></g><g class=\"infolayer\"><g class=\"legend\" pointer-events=\"all\" transform=\"translate(1075.52,100)\"><rect class=\"bg\" shape-rendering=\"crispEdges\" width=\"112\" height=\"48\" x=\"0\" y=\"0\" style=\"stroke: rgb(68, 68, 68); stroke-opacity: 1; fill: rgb(255, 255, 255); fill-opacity: 1; stroke-width: 0px;\"/><g class=\"scrollbox\" transform=\"\" clip-path=\"url(#legendcf5976)\"><g class=\"groups\"><g class=\"traces\" transform=\"translate(0,14.5)\" style=\"opacity: 1;\"><text class=\"legendtext\" text-anchor=\"start\" x=\"40\" y=\"4.680000000000001\" style=\"font-family: 'Open Sans', verdana, arial, sans-serif; font-size: 12px; fill: rgb(42, 63, 95); fill-opacity: 1; white-space: pre;\">Train</text><g class=\"layers\" style=\"opacity: 1;\"><g class=\"legendfill\"/><g class=\"legendlines\"><path class=\"js-line\" d=\"M5,0h30\" style=\"fill: none; stroke: rgb(99, 110, 250); stroke-opacity: 1; stroke-width: 2px;\"/></g><g class=\"legendsymbols\"><g class=\"legendpoints\"/></g></g><rect class=\"legendtoggle\" x=\"0\" y=\"-9.5\" width=\"106.4375\" height=\"19\" style=\"fill: rgb(0, 0, 0); fill-opacity: 0;\"/></g><g class=\"traces\" transform=\"translate(0,33.5)\" style=\"opacity: 1;\"><text class=\"legendtext\" text-anchor=\"start\" x=\"40\" y=\"4.680000000000001\" style=\"font-family: 'Open Sans', verdana, arial, sans-serif; font-size: 12px; fill: rgb(42, 63, 95); fill-opacity: 1; white-space: pre;\">Predictions</text><g class=\"layers\" style=\"opacity: 1;\"><g class=\"legendfill\"/><g class=\"legendlines\"><path class=\"js-line\" d=\"M5,0h30\" style=\"fill: none; stroke: rgb(239, 85, 59); stroke-opacity: 1; stroke-width: 2px;\"/></g><g class=\"legendsymbols\"><g class=\"legendpoints\"/></g></g><rect class=\"legendtoggle\" x=\"0\" y=\"-9.5\" width=\"106.4375\" height=\"19\" style=\"fill: rgb(0, 0, 0); fill-opacity: 0;\"/></g></g></g><rect class=\"scrollbar\" rx=\"20\" ry=\"3\" width=\"0\" height=\"0\" x=\"0\" y=\"0\" style=\"fill: rgb(128, 139, 164); fill-opacity: 1;\"/></g><g class=\"g-gtitle\"><text class=\"gtitle\" x=\"60\" y=\"50\" text-anchor=\"start\" dy=\"0em\" style=\"font-family: 'Open Sans', verdana, arial, sans-serif; font-size: 17px; fill: rgb(42, 63, 95); opacity: 1; font-weight: normal; white-space: pre;\">XGB Backteting in NOR</text></g><g class=\"g-xtitle\"/><g class=\"g-ytitle\"/></g></svg>"
     },
     "metadata": {},
     "output_type": "display_data"
    },
    {
     "name": "stdout",
     "output_type": "stream",
     "text": [
      "   feature  importance\n",
      "13    LTIR    0.168635\n",
      "11  lag_12    0.139256\n",
      "7    lag_8    0.126675\n",
      "12     CPI    0.107192\n",
      "0    lag_1    0.077963\n",
      "14     TIV    0.077031\n",
      "5    lag_6    0.074626\n",
      "1    lag_2    0.066266\n",
      "2    lag_3    0.046553\n",
      "9   lag_10    0.037945\n",
      "4    lag_5    0.028261\n",
      "8    lag_9    0.015714\n",
      "6    lag_7    0.011809\n",
      "3    lag_4    0.010346\n",
      "10  lag_11    0.008512\n",
      "15      UR    0.003216 \n",
      "\n",
      "LGBM Backtesting:\n",
      "Mean Absolute Error: 219.05.\n",
      "Root Mean Squared Error: 325.14.\n",
      "Mean Absolute Percentage Error: 43.37%.\n",
      "Accuracy = 56.63%.\n"
     ]
    },
    {
     "data": {
      "image/svg+xml": "<svg class=\"main-svg\" xmlns=\"http://www.w3.org/2000/svg\" xmlns:xlink=\"http://www.w3.org/1999/xlink\" width=\"1200\" height=\"500\" style=\"\" viewBox=\"0 0 1200 500\"><rect x=\"0\" y=\"0\" width=\"1200\" height=\"500\" style=\"fill: rgb(255, 255, 255); fill-opacity: 1;\"/><defs id=\"defs-f8ef2d\"><g class=\"clips\"><clipPath id=\"clipf8ef2dxyplot\" class=\"plotclip\"><rect width=\"976\" height=\"320\"/></clipPath><clipPath class=\"axesclip\" id=\"clipf8ef2dx\"><rect x=\"80\" y=\"0\" width=\"976\" height=\"500\"/></clipPath><clipPath class=\"axesclip\" id=\"clipf8ef2dy\"><rect x=\"0\" y=\"100\" width=\"1200\" height=\"320\"/></clipPath><clipPath class=\"axesclip\" id=\"clipf8ef2dxy\"><rect x=\"80\" y=\"100\" width=\"976\" height=\"320\"/></clipPath></g><g class=\"gradients\"/><g class=\"patterns\"/></defs><g class=\"bglayer\"><rect class=\"bg\" x=\"80\" y=\"100\" width=\"976\" height=\"320\" style=\"fill: rgb(229, 236, 246); fill-opacity: 1; stroke-width: 0;\"/></g><g class=\"layer-below\"><g class=\"imagelayer\"/><g class=\"shapelayer\"/></g><g class=\"cartesianlayer\"><g class=\"subplot xy\"><g class=\"layer-subplot\"><g class=\"shapelayer\"/><g class=\"imagelayer\"/></g><g class=\"minor-gridlayer\"><g class=\"x\"/><g class=\"y\"/></g><g class=\"gridlayer\"><g class=\"x\"><path class=\"xgrid crisp\" transform=\"translate(150.1,0)\" d=\"M0,100v320\" style=\"stroke: rgb(255, 255, 255); stroke-opacity: 1; stroke-width: 1px;\"/><path class=\"xgrid crisp\" transform=\"translate(290.3,0)\" d=\"M0,100v320\" style=\"stroke: rgb(255, 255, 255); stroke-opacity: 1; stroke-width: 1px;\"/><path class=\"xgrid crisp\" transform=\"translate(430.68,0)\" d=\"M0,100v320\" style=\"stroke: rgb(255, 255, 255); stroke-opacity: 1; stroke-width: 1px;\"/><path class=\"xgrid crisp\" transform=\"translate(570.88,0)\" d=\"M0,100v320\" style=\"stroke: rgb(255, 255, 255); stroke-opacity: 1; stroke-width: 1px;\"/><path class=\"xgrid crisp\" transform=\"translate(711.27,0)\" d=\"M0,100v320\" style=\"stroke: rgb(255, 255, 255); stroke-opacity: 1; stroke-width: 1px;\"/><path class=\"xgrid crisp\" transform=\"translate(851.47,0)\" d=\"M0,100v320\" style=\"stroke: rgb(255, 255, 255); stroke-opacity: 1; stroke-width: 1px;\"/><path class=\"xgrid crisp\" transform=\"translate(991.86,0)\" d=\"M0,100v320\" style=\"stroke: rgb(255, 255, 255); stroke-opacity: 1; stroke-width: 1px;\"/></g><g class=\"y\"><path class=\"ygrid crisp\" transform=\"translate(0,365.52)\" d=\"M80,0h976\" style=\"stroke: rgb(255, 255, 255); stroke-opacity: 1; stroke-width: 1px;\"/><path class=\"ygrid crisp\" transform=\"translate(0,302.03)\" d=\"M80,0h976\" style=\"stroke: rgb(255, 255, 255); stroke-opacity: 1; stroke-width: 1px;\"/><path class=\"ygrid crisp\" transform=\"translate(0,238.54)\" d=\"M80,0h976\" style=\"stroke: rgb(255, 255, 255); stroke-opacity: 1; stroke-width: 1px;\"/><path class=\"ygrid crisp\" transform=\"translate(0,175.05)\" d=\"M80,0h976\" style=\"stroke: rgb(255, 255, 255); stroke-opacity: 1; stroke-width: 1px;\"/><path class=\"ygrid crisp\" transform=\"translate(0,111.56)\" d=\"M80,0h976\" style=\"stroke: rgb(255, 255, 255); stroke-opacity: 1; stroke-width: 1px;\"/></g></g><g class=\"zerolinelayer\"/><path class=\"xlines-below\"/><path class=\"ylines-below\"/><g class=\"overlines-below\"/><g class=\"xaxislayer-below\"/><g class=\"yaxislayer-below\"/><g class=\"overaxes-below\"/><g class=\"plot\" transform=\"translate(80,100)\" clip-path=\"url(#clipf8ef2dxyplot)\"><g class=\"scatterlayer mlayer\"><g class=\"trace scatter trace9bcc2b\" style=\"stroke-miterlimit: 2; opacity: 1;\"><g class=\"fills\"/><g class=\"errorbars\"/><g class=\"lines\"><path class=\"js-line\" d=\"M0,299.43L5.95,294.73L11.33,277.46L17.28,283.81L23.05,258.79L29,219.17L34.76,260.44L40.71,276.06L46.67,247.37L52.43,280.38L58.38,267.05L64.14,222.86L70.1,292.95L76.05,267.68L81.43,264L87.38,257.27L93.14,262.22L99.1,258.54L104.86,262.73L110.81,261.21L116.77,238.73L122.53,223.87L128.48,251.05L134.24,252.44L140.2,232.89L146.15,227.81L151.53,256.89L157.48,274.54L163.24,256.76L169.2,254.35L174.96,277.21L180.91,266.16L186.87,281.02L192.63,282.29L198.58,295.87L204.34,304L210.3,288L216.25,298.79L221.82,272.76L227.77,300.95L233.53,293.59L239.49,290.54L245.25,275.3L251.2,271.37L257.16,273.27L262.92,275.05L268.87,265.14L274.63,284.95L280.59,282.92L286.54,279.49L291.92,268.95L297.87,262.1L303.63,267.05L309.59,259.81L315.35,268.57L321.3,264.38L327.25,261.71L333.02,260.44L338.97,255.75L344.73,276.83L350.68,253.97L356.64,254.6L362.01,262.22L367.97,251.68L373.73,252.57L379.68,257.9L385.45,269.71L397.35,247.11L403.11,255.87L409.07,239.37L414.83,253.08L420.78,216.38L426.74,257.52L432.11,232.38L438.07,259.68L449.78,249.4L455.54,262.98L461.5,245.08L467.45,236.57L473.21,247.11L479.17,245.59L484.93,260.19L490.88,253.21L496.83,236.95L502.4,186.41L508.36,264.76L514.12,248.89L520.07,242.41L525.83,257.14L531.79,238.1L537.74,229.97L543.5,206.86L549.46,214.48L555.22,242.92L561.17,227.05L567.12,230.48L572.5,191.37L578.46,239.87L584.22,232L590.17,249.65L595.93,250.03L601.89,226.67L607.84,218.67L613.6,213.21L619.55,221.59L625.32,223.75L631.27,228.95L637.22,219.81L642.6,163.68L648.55,266.03L654.32,272.25L660.27,218.79L666.03,252.57L671.98,222.35L677.94,222.98L683.7,232.13L689.65,253.33L695.41,216.13L701.37,278.98L707.32,219.3L712.7,137.14L718.65,258.16L724.41,255.11L730.37,244.44L736.13,244.19L742.08,241.78L748.04,235.17L753.8,247.37L759.75,220.57L771.47,250.54L777.42,214.1L782.99,203.3L788.94,283.43L794.7,244.83L800.66,248L806.42,257.02L812.37,252.32L818.33,266.41L824.09,255.24L835.8,292.06L841.76,301.84L847.71,77.84L853.09,16L859.04,268.06L864.8,198.48L870.76,173.71L876.52,51.43L882.47,167.49L888.43,145.02L894.19,178.41L900.14,180.95L905.9,208L911.86,225.9L917.81,211.3L923.19,169.65L929.14,269.46L934.9,262.6L940.85,214.6L946.62,236.95L952.57,256.51L958.52,219.56L964.28,247.62L970.24,242.29L976,237.08\" style=\"vector-effect: non-scaling-stroke; fill: none; stroke: rgb(99, 110, 250); stroke-opacity: 1; stroke-width: 2px; opacity: 1;\"/></g><g class=\"points\"/><g class=\"text\"/></g><g class=\"trace scatter trace1923d8\" style=\"stroke-miterlimit: 2; opacity: 1;\"><g class=\"fills\"/><g class=\"errorbars\"/><g class=\"lines\"><path class=\"js-line\" d=\"M0,262.6L134.24,262.6L140.2,255.76L146.15,258.94L151.53,254.61L157.48,261.3L163.24,265.37L169.2,261.58L174.96,260.74L180.91,252.62L186.87,262.56L192.63,262.24L198.58,259.07L204.34,254.52L210.3,261.72L268.87,261.72L274.63,263.95L280.59,257.39L286.54,248.59L291.92,258.11L297.87,264.02L303.63,259.41L309.59,257.96L315.35,259.63L321.3,263.46L327.25,260.18L333.02,256.14L338.97,257.57L344.73,260.61L350.68,259.2L356.64,251.13L362.01,248.49L367.97,255.54L373.73,254.79L379.68,248.19L385.45,246.86L391.4,247.06L397.35,252.21L403.11,258.99L409.07,261.76L414.83,259.39L420.78,227.83L426.74,221.11L432.11,217.01L438.07,217.17L443.83,217.77L449.78,222.02L455.54,224.69L461.5,217.93L484.93,217.93L490.88,219.58L502.4,217.93L508.36,217.93L520.07,217.93L525.83,219.58L531.79,217.93L537.74,217.93L543.5,218.53L549.46,217.93L555.22,217.93L561.17,257.11L567.12,223.76L572.5,207.26L578.46,244.88L584.22,226.95L590.17,220.14L595.93,243.9L601.89,220.15L607.84,217.17L613.6,252.34L619.55,213.32L625.32,211.45L631.27,254.67L637.22,236.54L642.6,212.53L648.55,236.3L654.32,228.29L660.27,208.01L666.03,259.09L671.98,224.64L677.94,213.91L683.7,241.52L689.65,220.19L695.41,219.48L701.37,202.67L707.32,192.67L712.7,206.24L718.65,232.08L724.41,224.1L730.37,219.43L736.13,219.8L742.08,225.88L748.04,230.77L753.8,225.13L759.75,233.97L765.51,235.18L771.47,234.5L782.99,240.53L788.94,273.4L794.7,271.6L800.66,241.38L806.42,230.68L812.37,241.3L818.33,266.05L824.09,259.48L830.04,264.12L835.8,267.3L841.76,235.25L847.71,215.79L853.09,220.43L859.04,214.19L864.8,215.64L870.76,230.22L876.52,227.38L882.47,246.83L888.43,252.18L894.19,259.63L905.9,265.41L911.86,277.88L917.81,294.1L923.19,233.42L929.14,203.97L934.9,242.64L940.85,239.81L946.62,241.04L952.57,210.09L958.52,206.18L964.28,215.12L970.24,205.67L976,195.45\" style=\"vector-effect: non-scaling-stroke; fill: none; stroke: rgb(239, 85, 59); stroke-opacity: 1; stroke-width: 2px; opacity: 1;\"/></g><g class=\"points\"/><g class=\"text\"/></g></g></g><g class=\"overplot\"/><path class=\"xlines-above crisp\" d=\"M0,0\" style=\"fill: none;\"/><path class=\"ylines-above crisp\" d=\"M0,0\" style=\"fill: none;\"/><g class=\"overlines-above\"/><g class=\"xaxislayer-above\"><g class=\"xtick\"><text text-anchor=\"middle\" x=\"0\" y=\"433\" transform=\"translate(150.1,0)\" style=\"font-family: 'Open Sans', verdana, arial, sans-serif; font-size: 12px; fill: rgb(42, 63, 95); fill-opacity: 1; white-space: pre; opacity: 1;\">2010</text></g><g class=\"xtick\"><text text-anchor=\"middle\" x=\"0\" y=\"433\" style=\"font-family: 'Open Sans', verdana, arial, sans-serif; font-size: 12px; fill: rgb(42, 63, 95); fill-opacity: 1; white-space: pre; opacity: 1;\" transform=\"translate(290.3,0)\">2012</text></g><g class=\"xtick\"><text text-anchor=\"middle\" x=\"0\" y=\"433\" style=\"font-family: 'Open Sans', verdana, arial, sans-serif; font-size: 12px; fill: rgb(42, 63, 95); fill-opacity: 1; white-space: pre; opacity: 1;\" transform=\"translate(430.68,0)\">2014</text></g><g class=\"xtick\"><text text-anchor=\"middle\" x=\"0\" y=\"433\" style=\"font-family: 'Open Sans', verdana, arial, sans-serif; font-size: 12px; fill: rgb(42, 63, 95); fill-opacity: 1; white-space: pre; opacity: 1;\" transform=\"translate(570.88,0)\">2016</text></g><g class=\"xtick\"><text text-anchor=\"middle\" x=\"0\" y=\"433\" style=\"font-family: 'Open Sans', verdana, arial, sans-serif; font-size: 12px; fill: rgb(42, 63, 95); fill-opacity: 1; white-space: pre; opacity: 1;\" transform=\"translate(711.27,0)\">2018</text></g><g class=\"xtick\"><text text-anchor=\"middle\" x=\"0\" y=\"433\" style=\"font-family: 'Open Sans', verdana, arial, sans-serif; font-size: 12px; fill: rgb(42, 63, 95); fill-opacity: 1; white-space: pre; opacity: 1;\" transform=\"translate(851.47,0)\">2020</text></g><g class=\"xtick\"><text text-anchor=\"middle\" x=\"0\" y=\"433\" style=\"font-family: 'Open Sans', verdana, arial, sans-serif; font-size: 12px; fill: rgb(42, 63, 95); fill-opacity: 1; white-space: pre; opacity: 1;\" transform=\"translate(991.86,0)\">2022</text></g></g><g class=\"yaxislayer-above\"><g class=\"ytick\"><text text-anchor=\"end\" x=\"79\" y=\"4.199999999999999\" transform=\"translate(0,365.52)\" style=\"font-family: 'Open Sans', verdana, arial, sans-serif; font-size: 12px; fill: rgb(42, 63, 95); fill-opacity: 1; white-space: pre; opacity: 1;\">500</text></g><g class=\"ytick\"><text text-anchor=\"end\" x=\"79\" y=\"4.199999999999999\" style=\"font-family: 'Open Sans', verdana, arial, sans-serif; font-size: 12px; fill: rgb(42, 63, 95); fill-opacity: 1; white-space: pre; opacity: 1;\" transform=\"translate(0,302.03)\">1000</text></g><g class=\"ytick\"><text text-anchor=\"end\" x=\"79\" y=\"4.199999999999999\" style=\"font-family: 'Open Sans', verdana, arial, sans-serif; font-size: 12px; fill: rgb(42, 63, 95); fill-opacity: 1; white-space: pre; opacity: 1;\" transform=\"translate(0,238.54)\">1500</text></g><g class=\"ytick\"><text text-anchor=\"end\" x=\"79\" y=\"4.199999999999999\" style=\"font-family: 'Open Sans', verdana, arial, sans-serif; font-size: 12px; fill: rgb(42, 63, 95); fill-opacity: 1; white-space: pre; opacity: 1;\" transform=\"translate(0,175.05)\">2000</text></g><g class=\"ytick\"><text text-anchor=\"end\" x=\"79\" y=\"4.199999999999999\" style=\"font-family: 'Open Sans', verdana, arial, sans-serif; font-size: 12px; fill: rgb(42, 63, 95); fill-opacity: 1; white-space: pre; opacity: 1;\" transform=\"translate(0,111.56)\">2500</text></g></g><g class=\"overaxes-above\"/></g></g><g class=\"polarlayer\"/><g class=\"smithlayer\"/><g class=\"ternarylayer\"/><g class=\"geolayer\"/><g class=\"funnelarealayer\"/><g class=\"pielayer\"/><g class=\"iciclelayer\"/><g class=\"treemaplayer\"/><g class=\"sunburstlayer\"/><g class=\"glimages\"/><defs id=\"topdefs-f8ef2d\"><g class=\"clips\"/><clipPath id=\"legendf8ef2d\"><rect width=\"112\" height=\"48\" x=\"0\" y=\"0\"/></clipPath></defs><g class=\"layer-above\"><g class=\"imagelayer\"/><g class=\"shapelayer\"/></g><g class=\"infolayer\"><g class=\"legend\" pointer-events=\"all\" transform=\"translate(1075.52,100)\"><rect class=\"bg\" shape-rendering=\"crispEdges\" width=\"112\" height=\"48\" x=\"0\" y=\"0\" style=\"stroke: rgb(68, 68, 68); stroke-opacity: 1; fill: rgb(255, 255, 255); fill-opacity: 1; stroke-width: 0px;\"/><g class=\"scrollbox\" transform=\"\" clip-path=\"url(#legendf8ef2d)\"><g class=\"groups\"><g class=\"traces\" transform=\"translate(0,14.5)\" style=\"opacity: 1;\"><text class=\"legendtext\" text-anchor=\"start\" x=\"40\" y=\"4.680000000000001\" style=\"font-family: 'Open Sans', verdana, arial, sans-serif; font-size: 12px; fill: rgb(42, 63, 95); fill-opacity: 1; white-space: pre;\">Train</text><g class=\"layers\" style=\"opacity: 1;\"><g class=\"legendfill\"/><g class=\"legendlines\"><path class=\"js-line\" d=\"M5,0h30\" style=\"fill: none; stroke: rgb(99, 110, 250); stroke-opacity: 1; stroke-width: 2px;\"/></g><g class=\"legendsymbols\"><g class=\"legendpoints\"/></g></g><rect class=\"legendtoggle\" x=\"0\" y=\"-9.5\" width=\"106.4375\" height=\"19\" style=\"fill: rgb(0, 0, 0); fill-opacity: 0;\"/></g><g class=\"traces\" transform=\"translate(0,33.5)\" style=\"opacity: 1;\"><text class=\"legendtext\" text-anchor=\"start\" x=\"40\" y=\"4.680000000000001\" style=\"font-family: 'Open Sans', verdana, arial, sans-serif; font-size: 12px; fill: rgb(42, 63, 95); fill-opacity: 1; white-space: pre;\">Predictions</text><g class=\"layers\" style=\"opacity: 1;\"><g class=\"legendfill\"/><g class=\"legendlines\"><path class=\"js-line\" d=\"M5,0h30\" style=\"fill: none; stroke: rgb(239, 85, 59); stroke-opacity: 1; stroke-width: 2px;\"/></g><g class=\"legendsymbols\"><g class=\"legendpoints\"/></g></g><rect class=\"legendtoggle\" x=\"0\" y=\"-9.5\" width=\"106.4375\" height=\"19\" style=\"fill: rgb(0, 0, 0); fill-opacity: 0;\"/></g></g></g><rect class=\"scrollbar\" rx=\"20\" ry=\"3\" width=\"0\" height=\"0\" x=\"0\" y=\"0\" style=\"fill: rgb(128, 139, 164); fill-opacity: 1;\"/></g><g class=\"g-gtitle\"><text class=\"gtitle\" x=\"60\" y=\"50\" text-anchor=\"start\" dy=\"0em\" style=\"font-family: 'Open Sans', verdana, arial, sans-serif; font-size: 17px; fill: rgb(42, 63, 95); opacity: 1; font-weight: normal; white-space: pre;\">LGBM Backteting in NOR</text></g><g class=\"g-xtitle\"/><g class=\"g-ytitle\"/></g></svg>"
     },
     "metadata": {},
     "output_type": "display_data"
    },
    {
     "name": "stdout",
     "output_type": "stream",
     "text": [
      "   feature  importance\n",
      "11  lag_12          75\n",
      "0    lag_1          72\n",
      "2    lag_3          51\n",
      "1    lag_2          48\n",
      "9   lag_10          44\n",
      "12     CPI          41\n",
      "13    LTIR          41\n",
      "7    lag_8          36\n",
      "14     TIV          27\n",
      "8    lag_9          25\n",
      "3    lag_4          24\n",
      "5    lag_6          23\n",
      "10  lag_11          20\n",
      "6    lag_7          19\n",
      "15      UR          18\n",
      "4    lag_5          16 \n",
      "\n",
      "RF Backtesting:\n",
      "Mean Absolute Error: 238.94.\n",
      "Root Mean Squared Error: 332.70.\n",
      "Mean Absolute Percentage Error: 45.21%.\n",
      "Accuracy = 54.79%.\n"
     ]
    },
    {
     "data": {
      "image/svg+xml": "<svg class=\"main-svg\" xmlns=\"http://www.w3.org/2000/svg\" xmlns:xlink=\"http://www.w3.org/1999/xlink\" width=\"1200\" height=\"500\" style=\"\" viewBox=\"0 0 1200 500\"><rect x=\"0\" y=\"0\" width=\"1200\" height=\"500\" style=\"fill: rgb(255, 255, 255); fill-opacity: 1;\"/><defs id=\"defs-587b43\"><g class=\"clips\"><clipPath id=\"clip587b43xyplot\" class=\"plotclip\"><rect width=\"976\" height=\"320\"/></clipPath><clipPath class=\"axesclip\" id=\"clip587b43x\"><rect x=\"80\" y=\"0\" width=\"976\" height=\"500\"/></clipPath><clipPath class=\"axesclip\" id=\"clip587b43y\"><rect x=\"0\" y=\"100\" width=\"1200\" height=\"320\"/></clipPath><clipPath class=\"axesclip\" id=\"clip587b43xy\"><rect x=\"80\" y=\"100\" width=\"976\" height=\"320\"/></clipPath></g><g class=\"gradients\"/><g class=\"patterns\"/></defs><g class=\"bglayer\"><rect class=\"bg\" x=\"80\" y=\"100\" width=\"976\" height=\"320\" style=\"fill: rgb(229, 236, 246); fill-opacity: 1; stroke-width: 0;\"/></g><g class=\"layer-below\"><g class=\"imagelayer\"/><g class=\"shapelayer\"/></g><g class=\"cartesianlayer\"><g class=\"subplot xy\"><g class=\"layer-subplot\"><g class=\"shapelayer\"/><g class=\"imagelayer\"/></g><g class=\"minor-gridlayer\"><g class=\"x\"/><g class=\"y\"/></g><g class=\"gridlayer\"><g class=\"x\"><path class=\"xgrid crisp\" transform=\"translate(150.1,0)\" d=\"M0,100v320\" style=\"stroke: rgb(255, 255, 255); stroke-opacity: 1; stroke-width: 1px;\"/><path class=\"xgrid crisp\" transform=\"translate(290.3,0)\" d=\"M0,100v320\" style=\"stroke: rgb(255, 255, 255); stroke-opacity: 1; stroke-width: 1px;\"/><path class=\"xgrid crisp\" transform=\"translate(430.68,0)\" d=\"M0,100v320\" style=\"stroke: rgb(255, 255, 255); stroke-opacity: 1; stroke-width: 1px;\"/><path class=\"xgrid crisp\" transform=\"translate(570.88,0)\" d=\"M0,100v320\" style=\"stroke: rgb(255, 255, 255); stroke-opacity: 1; stroke-width: 1px;\"/><path class=\"xgrid crisp\" transform=\"translate(711.27,0)\" d=\"M0,100v320\" style=\"stroke: rgb(255, 255, 255); stroke-opacity: 1; stroke-width: 1px;\"/><path class=\"xgrid crisp\" transform=\"translate(851.47,0)\" d=\"M0,100v320\" style=\"stroke: rgb(255, 255, 255); stroke-opacity: 1; stroke-width: 1px;\"/><path class=\"xgrid crisp\" transform=\"translate(991.86,0)\" d=\"M0,100v320\" style=\"stroke: rgb(255, 255, 255); stroke-opacity: 1; stroke-width: 1px;\"/></g><g class=\"y\"><path class=\"ygrid crisp\" transform=\"translate(0,365.52)\" d=\"M80,0h976\" style=\"stroke: rgb(255, 255, 255); stroke-opacity: 1; stroke-width: 1px;\"/><path class=\"ygrid crisp\" transform=\"translate(0,302.03)\" d=\"M80,0h976\" style=\"stroke: rgb(255, 255, 255); stroke-opacity: 1; stroke-width: 1px;\"/><path class=\"ygrid crisp\" transform=\"translate(0,238.54)\" d=\"M80,0h976\" style=\"stroke: rgb(255, 255, 255); stroke-opacity: 1; stroke-width: 1px;\"/><path class=\"ygrid crisp\" transform=\"translate(0,175.05)\" d=\"M80,0h976\" style=\"stroke: rgb(255, 255, 255); stroke-opacity: 1; stroke-width: 1px;\"/><path class=\"ygrid crisp\" transform=\"translate(0,111.56)\" d=\"M80,0h976\" style=\"stroke: rgb(255, 255, 255); stroke-opacity: 1; stroke-width: 1px;\"/></g></g><g class=\"zerolinelayer\"/><path class=\"xlines-below\"/><path class=\"ylines-below\"/><g class=\"overlines-below\"/><g class=\"xaxislayer-below\"/><g class=\"yaxislayer-below\"/><g class=\"overaxes-below\"/><g class=\"plot\" transform=\"translate(80,100)\" clip-path=\"url(#clip587b43xyplot)\"><g class=\"scatterlayer mlayer\"><g class=\"trace scatter trace9b3fb6\" style=\"stroke-miterlimit: 2; opacity: 1;\"><g class=\"fills\"/><g class=\"errorbars\"/><g class=\"lines\"><path class=\"js-line\" d=\"M0,299.43L5.95,294.73L11.33,277.46L17.28,283.81L23.05,258.79L29,219.17L34.76,260.44L40.71,276.06L46.67,247.37L52.43,280.38L58.38,267.05L64.14,222.86L70.1,292.95L76.05,267.68L81.43,264L87.38,257.27L93.14,262.22L99.1,258.54L104.86,262.73L110.81,261.21L116.77,238.73L122.53,223.87L128.48,251.05L134.24,252.44L140.2,232.89L146.15,227.81L151.53,256.89L157.48,274.54L163.24,256.76L169.2,254.35L174.96,277.21L180.91,266.16L186.87,281.02L192.63,282.29L198.58,295.87L204.34,304L210.3,288L216.25,298.79L221.82,272.76L227.77,300.95L233.53,293.59L239.49,290.54L245.25,275.3L251.2,271.37L257.16,273.27L262.92,275.05L268.87,265.14L274.63,284.95L280.59,282.92L286.54,279.49L291.92,268.95L297.87,262.1L303.63,267.05L309.59,259.81L315.35,268.57L321.3,264.38L327.25,261.71L333.02,260.44L338.97,255.75L344.73,276.83L350.68,253.97L356.64,254.6L362.01,262.22L367.97,251.68L373.73,252.57L379.68,257.9L385.45,269.71L397.35,247.11L403.11,255.87L409.07,239.37L414.83,253.08L420.78,216.38L426.74,257.52L432.11,232.38L438.07,259.68L449.78,249.4L455.54,262.98L461.5,245.08L467.45,236.57L473.21,247.11L479.17,245.59L484.93,260.19L490.88,253.21L496.83,236.95L502.4,186.41L508.36,264.76L514.12,248.89L520.07,242.41L525.83,257.14L531.79,238.1L537.74,229.97L543.5,206.86L549.46,214.48L555.22,242.92L561.17,227.05L567.12,230.48L572.5,191.37L578.46,239.87L584.22,232L590.17,249.65L595.93,250.03L601.89,226.67L607.84,218.67L613.6,213.21L619.55,221.59L625.32,223.75L631.27,228.95L637.22,219.81L642.6,163.68L648.55,266.03L654.32,272.25L660.27,218.79L666.03,252.57L671.98,222.35L677.94,222.98L683.7,232.13L689.65,253.33L695.41,216.13L701.37,278.98L707.32,219.3L712.7,137.14L718.65,258.16L724.41,255.11L730.37,244.44L736.13,244.19L742.08,241.78L748.04,235.17L753.8,247.37L759.75,220.57L771.47,250.54L777.42,214.1L782.99,203.3L788.94,283.43L794.7,244.83L800.66,248L806.42,257.02L812.37,252.32L818.33,266.41L824.09,255.24L835.8,292.06L841.76,301.84L847.71,77.84L853.09,16L859.04,268.06L864.8,198.48L870.76,173.71L876.52,51.43L882.47,167.49L888.43,145.02L894.19,178.41L900.14,180.95L905.9,208L911.86,225.9L917.81,211.3L923.19,169.65L929.14,269.46L934.9,262.6L940.85,214.6L946.62,236.95L952.57,256.51L958.52,219.56L964.28,247.62L970.24,242.29L976,237.08\" style=\"vector-effect: non-scaling-stroke; fill: none; stroke: rgb(99, 110, 250); stroke-opacity: 1; stroke-width: 2px; opacity: 1;\"/></g><g class=\"points\"/><g class=\"text\"/></g><g class=\"trace scatter traceeadbb8\" style=\"stroke-miterlimit: 2; opacity: 1;\"><g class=\"fills\"/><g class=\"errorbars\"/><g class=\"lines\"><path class=\"js-line\" d=\"M0,292.73L5.95,290.59L11.33,287.77L17.28,289.59L23.05,288.78L29,286.07L34.76,284.81L40.71,286.41L46.67,281.97L52.43,281.13L58.38,282.07L70.1,282.16L76.05,285.98L81.43,281L87.38,281.54L134.24,281.78L140.2,263.25L151.53,264.17L157.48,261.76L163.24,264.51L169.2,261.35L174.96,262.18L180.91,259.32L186.87,261.05L192.63,261.82L204.34,261.22L210.3,259.92L239.49,260.91L245.25,261.65L251.2,260.06L257.16,260.6L268.87,259.99L274.63,263.28L280.59,246.36L286.54,247.99L291.92,248.52L297.87,251.27L303.63,250.31L309.59,247.83L315.35,246.78L321.3,252.69L327.25,250.97L333.02,252.51L338.97,248.19L344.73,253.88L350.68,251.61L356.64,252.9L362.01,247.18L367.97,252.31L373.73,249.77L379.68,250.77L385.45,247.29L391.4,251L397.35,250.6L403.11,248.13L409.07,247.31L414.83,248.47L420.78,222.11L426.74,220.05L432.11,211.56L438.07,220.06L443.83,220.1L449.78,231.34L455.54,234.37L461.5,220.88L467.45,222.2L473.21,218.06L479.17,220.07L484.93,218.1L490.88,220.97L496.83,221.31L502.4,216.76L508.36,218.34L514.12,219.85L520.07,218.81L525.83,220.33L531.79,217.61L537.74,217.65L543.5,221.31L549.46,217.84L555.22,218.45L561.17,245.5L567.12,227.22L572.5,179.48L578.46,248.63L584.22,242.53L590.17,234.38L595.93,237.5L601.89,233.96L607.84,232.47L613.6,235.32L619.55,229.06L625.32,229.7L631.27,234.85L637.22,223.92L642.6,180.59L648.55,235.41L654.32,234.28L660.27,227.71L666.03,237.72L671.98,233.36L677.94,232.87L683.7,230.57L695.41,230.81L701.37,211.81L707.32,183.92L712.7,185.48L718.65,231.27L724.41,186.13L730.37,179.87L736.13,182.93L742.08,180.62L748.04,183.36L753.8,182.97L759.75,181.37L765.51,199.52L771.47,201.13L777.42,182.24L782.99,184.46L788.94,231.23L794.7,183.74L800.66,181.44L806.42,188.23L812.37,180.03L818.33,178.66L824.09,186.02L830.04,182.8L835.8,180.49L841.76,237.82L847.71,236.67L853.09,238.93L859.04,241.41L864.8,240.18L870.76,245.2L876.52,257.45L882.47,252.48L888.43,242.9L894.19,238.16L900.14,240.17L905.9,238.51L911.86,253L917.81,253.33L923.19,235.03L929.14,248.44L934.9,227.87L940.85,227.34L946.62,254.04L952.57,236.64L958.52,239.19L964.28,237.56L970.24,239.34L976,230\" style=\"vector-effect: non-scaling-stroke; fill: none; stroke: rgb(239, 85, 59); stroke-opacity: 1; stroke-width: 2px; opacity: 1;\"/></g><g class=\"points\"/><g class=\"text\"/></g></g></g><g class=\"overplot\"/><path class=\"xlines-above crisp\" d=\"M0,0\" style=\"fill: none;\"/><path class=\"ylines-above crisp\" d=\"M0,0\" style=\"fill: none;\"/><g class=\"overlines-above\"/><g class=\"xaxislayer-above\"><g class=\"xtick\"><text text-anchor=\"middle\" x=\"0\" y=\"433\" transform=\"translate(150.1,0)\" style=\"font-family: 'Open Sans', verdana, arial, sans-serif; font-size: 12px; fill: rgb(42, 63, 95); fill-opacity: 1; white-space: pre; opacity: 1;\">2010</text></g><g class=\"xtick\"><text text-anchor=\"middle\" x=\"0\" y=\"433\" style=\"font-family: 'Open Sans', verdana, arial, sans-serif; font-size: 12px; fill: rgb(42, 63, 95); fill-opacity: 1; white-space: pre; opacity: 1;\" transform=\"translate(290.3,0)\">2012</text></g><g class=\"xtick\"><text text-anchor=\"middle\" x=\"0\" y=\"433\" style=\"font-family: 'Open Sans', verdana, arial, sans-serif; font-size: 12px; fill: rgb(42, 63, 95); fill-opacity: 1; white-space: pre; opacity: 1;\" transform=\"translate(430.68,0)\">2014</text></g><g class=\"xtick\"><text text-anchor=\"middle\" x=\"0\" y=\"433\" style=\"font-family: 'Open Sans', verdana, arial, sans-serif; font-size: 12px; fill: rgb(42, 63, 95); fill-opacity: 1; white-space: pre; opacity: 1;\" transform=\"translate(570.88,0)\">2016</text></g><g class=\"xtick\"><text text-anchor=\"middle\" x=\"0\" y=\"433\" style=\"font-family: 'Open Sans', verdana, arial, sans-serif; font-size: 12px; fill: rgb(42, 63, 95); fill-opacity: 1; white-space: pre; opacity: 1;\" transform=\"translate(711.27,0)\">2018</text></g><g class=\"xtick\"><text text-anchor=\"middle\" x=\"0\" y=\"433\" style=\"font-family: 'Open Sans', verdana, arial, sans-serif; font-size: 12px; fill: rgb(42, 63, 95); fill-opacity: 1; white-space: pre; opacity: 1;\" transform=\"translate(851.47,0)\">2020</text></g><g class=\"xtick\"><text text-anchor=\"middle\" x=\"0\" y=\"433\" style=\"font-family: 'Open Sans', verdana, arial, sans-serif; font-size: 12px; fill: rgb(42, 63, 95); fill-opacity: 1; white-space: pre; opacity: 1;\" transform=\"translate(991.86,0)\">2022</text></g></g><g class=\"yaxislayer-above\"><g class=\"ytick\"><text text-anchor=\"end\" x=\"79\" y=\"4.199999999999999\" transform=\"translate(0,365.52)\" style=\"font-family: 'Open Sans', verdana, arial, sans-serif; font-size: 12px; fill: rgb(42, 63, 95); fill-opacity: 1; white-space: pre; opacity: 1;\">500</text></g><g class=\"ytick\"><text text-anchor=\"end\" x=\"79\" y=\"4.199999999999999\" style=\"font-family: 'Open Sans', verdana, arial, sans-serif; font-size: 12px; fill: rgb(42, 63, 95); fill-opacity: 1; white-space: pre; opacity: 1;\" transform=\"translate(0,302.03)\">1000</text></g><g class=\"ytick\"><text text-anchor=\"end\" x=\"79\" y=\"4.199999999999999\" style=\"font-family: 'Open Sans', verdana, arial, sans-serif; font-size: 12px; fill: rgb(42, 63, 95); fill-opacity: 1; white-space: pre; opacity: 1;\" transform=\"translate(0,238.54)\">1500</text></g><g class=\"ytick\"><text text-anchor=\"end\" x=\"79\" y=\"4.199999999999999\" style=\"font-family: 'Open Sans', verdana, arial, sans-serif; font-size: 12px; fill: rgb(42, 63, 95); fill-opacity: 1; white-space: pre; opacity: 1;\" transform=\"translate(0,175.05)\">2000</text></g><g class=\"ytick\"><text text-anchor=\"end\" x=\"79\" y=\"4.199999999999999\" style=\"font-family: 'Open Sans', verdana, arial, sans-serif; font-size: 12px; fill: rgb(42, 63, 95); fill-opacity: 1; white-space: pre; opacity: 1;\" transform=\"translate(0,111.56)\">2500</text></g></g><g class=\"overaxes-above\"/></g></g><g class=\"polarlayer\"/><g class=\"smithlayer\"/><g class=\"ternarylayer\"/><g class=\"geolayer\"/><g class=\"funnelarealayer\"/><g class=\"pielayer\"/><g class=\"iciclelayer\"/><g class=\"treemaplayer\"/><g class=\"sunburstlayer\"/><g class=\"glimages\"/><defs id=\"topdefs-587b43\"><g class=\"clips\"/><clipPath id=\"legend587b43\"><rect width=\"112\" height=\"48\" x=\"0\" y=\"0\"/></clipPath></defs><g class=\"layer-above\"><g class=\"imagelayer\"/><g class=\"shapelayer\"/></g><g class=\"infolayer\"><g class=\"legend\" pointer-events=\"all\" transform=\"translate(1075.52,100)\"><rect class=\"bg\" shape-rendering=\"crispEdges\" width=\"112\" height=\"48\" x=\"0\" y=\"0\" style=\"stroke: rgb(68, 68, 68); stroke-opacity: 1; fill: rgb(255, 255, 255); fill-opacity: 1; stroke-width: 0px;\"/><g class=\"scrollbox\" transform=\"\" clip-path=\"url(#legend587b43)\"><g class=\"groups\"><g class=\"traces\" transform=\"translate(0,14.5)\" style=\"opacity: 1;\"><text class=\"legendtext\" text-anchor=\"start\" x=\"40\" y=\"4.680000000000001\" style=\"font-family: 'Open Sans', verdana, arial, sans-serif; font-size: 12px; fill: rgb(42, 63, 95); fill-opacity: 1; white-space: pre;\">Train</text><g class=\"layers\" style=\"opacity: 1;\"><g class=\"legendfill\"/><g class=\"legendlines\"><path class=\"js-line\" d=\"M5,0h30\" style=\"fill: none; stroke: rgb(99, 110, 250); stroke-opacity: 1; stroke-width: 2px;\"/></g><g class=\"legendsymbols\"><g class=\"legendpoints\"/></g></g><rect class=\"legendtoggle\" x=\"0\" y=\"-9.5\" width=\"106.4375\" height=\"19\" style=\"fill: rgb(0, 0, 0); fill-opacity: 0;\"/></g><g class=\"traces\" transform=\"translate(0,33.5)\" style=\"opacity: 1;\"><text class=\"legendtext\" text-anchor=\"start\" x=\"40\" y=\"4.680000000000001\" style=\"font-family: 'Open Sans', verdana, arial, sans-serif; font-size: 12px; fill: rgb(42, 63, 95); fill-opacity: 1; white-space: pre;\">Predictions</text><g class=\"layers\" style=\"opacity: 1;\"><g class=\"legendfill\"/><g class=\"legendlines\"><path class=\"js-line\" d=\"M5,0h30\" style=\"fill: none; stroke: rgb(239, 85, 59); stroke-opacity: 1; stroke-width: 2px;\"/></g><g class=\"legendsymbols\"><g class=\"legendpoints\"/></g></g><rect class=\"legendtoggle\" x=\"0\" y=\"-9.5\" width=\"106.4375\" height=\"19\" style=\"fill: rgb(0, 0, 0); fill-opacity: 0;\"/></g></g></g><rect class=\"scrollbar\" rx=\"20\" ry=\"3\" width=\"0\" height=\"0\" x=\"0\" y=\"0\" style=\"fill: rgb(128, 139, 164); fill-opacity: 1;\"/></g><g class=\"g-gtitle\"><text class=\"gtitle\" x=\"60\" y=\"50\" text-anchor=\"start\" dy=\"0em\" style=\"font-family: 'Open Sans', verdana, arial, sans-serif; font-size: 17px; fill: rgb(42, 63, 95); opacity: 1; font-weight: normal; white-space: pre;\">RF Backteting in NOR</text></g><g class=\"g-xtitle\"/><g class=\"g-ytitle\"/></g></svg>"
     },
     "metadata": {},
     "output_type": "display_data"
    },
    {
     "name": "stdout",
     "output_type": "stream",
     "text": [
      "   feature  importance\n",
      "0    lag_1    0.222225\n",
      "1    lag_2    0.129084\n",
      "2    lag_3    0.117114\n",
      "11  lag_12    0.085285\n",
      "3    lag_4    0.081806\n",
      "14     TIV    0.066055\n",
      "13    LTIR    0.055501\n",
      "7    lag_8    0.039202\n",
      "9   lag_10    0.038586\n",
      "10  lag_11    0.032990\n",
      "5    lag_6    0.030522\n",
      "4    lag_5    0.029693\n",
      "12     CPI    0.028882\n",
      "8    lag_9    0.018619\n",
      "6    lag_7    0.012596\n",
      "15      UR    0.011841 \n",
      "\n",
      "ET Backtesting:\n",
      "Mean Absolute Error: 260.55.\n",
      "Root Mean Squared Error: 356.07.\n",
      "Mean Absolute Percentage Error: 48.88%.\n",
      "Accuracy = 51.12%.\n"
     ]
    },
    {
     "data": {
      "image/svg+xml": "<svg class=\"main-svg\" xmlns=\"http://www.w3.org/2000/svg\" xmlns:xlink=\"http://www.w3.org/1999/xlink\" width=\"1200\" height=\"500\" style=\"\" viewBox=\"0 0 1200 500\"><rect x=\"0\" y=\"0\" width=\"1200\" height=\"500\" style=\"fill: rgb(255, 255, 255); fill-opacity: 1;\"/><defs id=\"defs-8dfa66\"><g class=\"clips\"><clipPath id=\"clip8dfa66xyplot\" class=\"plotclip\"><rect width=\"976\" height=\"320\"/></clipPath><clipPath class=\"axesclip\" id=\"clip8dfa66x\"><rect x=\"80\" y=\"0\" width=\"976\" height=\"500\"/></clipPath><clipPath class=\"axesclip\" id=\"clip8dfa66y\"><rect x=\"0\" y=\"100\" width=\"1200\" height=\"320\"/></clipPath><clipPath class=\"axesclip\" id=\"clip8dfa66xy\"><rect x=\"80\" y=\"100\" width=\"976\" height=\"320\"/></clipPath></g><g class=\"gradients\"/><g class=\"patterns\"/></defs><g class=\"bglayer\"><rect class=\"bg\" x=\"80\" y=\"100\" width=\"976\" height=\"320\" style=\"fill: rgb(229, 236, 246); fill-opacity: 1; stroke-width: 0;\"/></g><g class=\"layer-below\"><g class=\"imagelayer\"/><g class=\"shapelayer\"/></g><g class=\"cartesianlayer\"><g class=\"subplot xy\"><g class=\"layer-subplot\"><g class=\"shapelayer\"/><g class=\"imagelayer\"/></g><g class=\"minor-gridlayer\"><g class=\"x\"/><g class=\"y\"/></g><g class=\"gridlayer\"><g class=\"x\"><path class=\"xgrid crisp\" transform=\"translate(150.1,0)\" d=\"M0,100v320\" style=\"stroke: rgb(255, 255, 255); stroke-opacity: 1; stroke-width: 1px;\"/><path class=\"xgrid crisp\" transform=\"translate(290.3,0)\" d=\"M0,100v320\" style=\"stroke: rgb(255, 255, 255); stroke-opacity: 1; stroke-width: 1px;\"/><path class=\"xgrid crisp\" transform=\"translate(430.68,0)\" d=\"M0,100v320\" style=\"stroke: rgb(255, 255, 255); stroke-opacity: 1; stroke-width: 1px;\"/><path class=\"xgrid crisp\" transform=\"translate(570.88,0)\" d=\"M0,100v320\" style=\"stroke: rgb(255, 255, 255); stroke-opacity: 1; stroke-width: 1px;\"/><path class=\"xgrid crisp\" transform=\"translate(711.27,0)\" d=\"M0,100v320\" style=\"stroke: rgb(255, 255, 255); stroke-opacity: 1; stroke-width: 1px;\"/><path class=\"xgrid crisp\" transform=\"translate(851.47,0)\" d=\"M0,100v320\" style=\"stroke: rgb(255, 255, 255); stroke-opacity: 1; stroke-width: 1px;\"/><path class=\"xgrid crisp\" transform=\"translate(991.86,0)\" d=\"M0,100v320\" style=\"stroke: rgb(255, 255, 255); stroke-opacity: 1; stroke-width: 1px;\"/></g><g class=\"y\"><path class=\"ygrid crisp\" transform=\"translate(0,365.52)\" d=\"M80,0h976\" style=\"stroke: rgb(255, 255, 255); stroke-opacity: 1; stroke-width: 1px;\"/><path class=\"ygrid crisp\" transform=\"translate(0,302.03)\" d=\"M80,0h976\" style=\"stroke: rgb(255, 255, 255); stroke-opacity: 1; stroke-width: 1px;\"/><path class=\"ygrid crisp\" transform=\"translate(0,238.54)\" d=\"M80,0h976\" style=\"stroke: rgb(255, 255, 255); stroke-opacity: 1; stroke-width: 1px;\"/><path class=\"ygrid crisp\" transform=\"translate(0,175.05)\" d=\"M80,0h976\" style=\"stroke: rgb(255, 255, 255); stroke-opacity: 1; stroke-width: 1px;\"/><path class=\"ygrid crisp\" transform=\"translate(0,111.56)\" d=\"M80,0h976\" style=\"stroke: rgb(255, 255, 255); stroke-opacity: 1; stroke-width: 1px;\"/></g></g><g class=\"zerolinelayer\"/><path class=\"xlines-below\"/><path class=\"ylines-below\"/><g class=\"overlines-below\"/><g class=\"xaxislayer-below\"/><g class=\"yaxislayer-below\"/><g class=\"overaxes-below\"/><g class=\"plot\" transform=\"translate(80,100)\" clip-path=\"url(#clip8dfa66xyplot)\"><g class=\"scatterlayer mlayer\"><g class=\"trace scatter traced9222e\" style=\"stroke-miterlimit: 2; opacity: 1;\"><g class=\"fills\"/><g class=\"errorbars\"/><g class=\"lines\"><path class=\"js-line\" d=\"M0,299.43L5.95,294.73L11.33,277.46L17.28,283.81L23.05,258.79L29,219.17L34.76,260.44L40.71,276.06L46.67,247.37L52.43,280.38L58.38,267.05L64.14,222.86L70.1,292.95L76.05,267.68L81.43,264L87.38,257.27L93.14,262.22L99.1,258.54L104.86,262.73L110.81,261.21L116.77,238.73L122.53,223.87L128.48,251.05L134.24,252.44L140.2,232.89L146.15,227.81L151.53,256.89L157.48,274.54L163.24,256.76L169.2,254.35L174.96,277.21L180.91,266.16L186.87,281.02L192.63,282.29L198.58,295.87L204.34,304L210.3,288L216.25,298.79L221.82,272.76L227.77,300.95L233.53,293.59L239.49,290.54L245.25,275.3L251.2,271.37L257.16,273.27L262.92,275.05L268.87,265.14L274.63,284.95L280.59,282.92L286.54,279.49L291.92,268.95L297.87,262.1L303.63,267.05L309.59,259.81L315.35,268.57L321.3,264.38L327.25,261.71L333.02,260.44L338.97,255.75L344.73,276.83L350.68,253.97L356.64,254.6L362.01,262.22L367.97,251.68L373.73,252.57L379.68,257.9L385.45,269.71L397.35,247.11L403.11,255.87L409.07,239.37L414.83,253.08L420.78,216.38L426.74,257.52L432.11,232.38L438.07,259.68L449.78,249.4L455.54,262.98L461.5,245.08L467.45,236.57L473.21,247.11L479.17,245.59L484.93,260.19L490.88,253.21L496.83,236.95L502.4,186.41L508.36,264.76L514.12,248.89L520.07,242.41L525.83,257.14L531.79,238.1L537.74,229.97L543.5,206.86L549.46,214.48L555.22,242.92L561.17,227.05L567.12,230.48L572.5,191.37L578.46,239.87L584.22,232L590.17,249.65L595.93,250.03L601.89,226.67L607.84,218.67L613.6,213.21L619.55,221.59L625.32,223.75L631.27,228.95L637.22,219.81L642.6,163.68L648.55,266.03L654.32,272.25L660.27,218.79L666.03,252.57L671.98,222.35L677.94,222.98L683.7,232.13L689.65,253.33L695.41,216.13L701.37,278.98L707.32,219.3L712.7,137.14L718.65,258.16L724.41,255.11L730.37,244.44L736.13,244.19L742.08,241.78L748.04,235.17L753.8,247.37L759.75,220.57L771.47,250.54L777.42,214.1L782.99,203.3L788.94,283.43L794.7,244.83L800.66,248L806.42,257.02L812.37,252.32L818.33,266.41L824.09,255.24L835.8,292.06L841.76,301.84L847.71,77.84L853.09,16L859.04,268.06L864.8,198.48L870.76,173.71L876.52,51.43L882.47,167.49L888.43,145.02L894.19,178.41L900.14,180.95L905.9,208L911.86,225.9L917.81,211.3L923.19,169.65L929.14,269.46L934.9,262.6L940.85,214.6L946.62,236.95L952.57,256.51L958.52,219.56L964.28,247.62L970.24,242.29L976,237.08\" style=\"vector-effect: non-scaling-stroke; fill: none; stroke: rgb(99, 110, 250); stroke-opacity: 1; stroke-width: 2px; opacity: 1;\"/></g><g class=\"points\"/><g class=\"text\"/></g><g class=\"trace scatter trace8603dd\" style=\"stroke-miterlimit: 2; opacity: 1;\"><g class=\"fills\"/><g class=\"errorbars\"/><g class=\"lines\"><path class=\"js-line\" d=\"M0,293.22L11.33,294.1L17.28,293.93L23.05,293.79L29,290.54L34.76,290.37L40.71,293.17L52.43,285.44L58.38,288.09L64.14,286.5L70.1,289.23L76.05,290.5L81.43,285.67L87.38,285.07L93.14,287.63L116.77,287.83L122.53,287.47L134.24,287.54L140.2,264.49L146.15,264.38L151.53,267.94L157.48,262.82L163.24,265.99L169.2,263.38L174.96,264.24L180.91,260.84L186.87,259.7L192.63,262.82L198.58,261.21L204.34,258.17L210.3,261.46L227.77,259.59L233.53,260.69L239.49,260.43L245.25,257.82L251.2,260.37L257.16,260.8L262.92,261.23L268.87,260.21L274.63,263.18L280.59,245.12L286.54,247.82L291.92,249.4L297.87,249.99L303.63,249.65L309.59,250.81L315.35,249.66L321.3,254.81L327.25,254.69L338.97,253.36L344.73,254.71L356.64,253.61L362.01,252.69L367.97,252.93L373.73,251.04L379.68,252.58L385.45,251.38L391.4,254.26L397.35,251.63L403.11,249.64L409.07,251.79L414.83,248.89L420.78,223.32L426.74,217.63L432.11,205.12L438.07,220.92L443.83,218.05L449.78,229.09L455.54,230.15L461.5,218.87L467.45,219.77L473.21,217.08L479.17,220.63L484.93,218.21L490.88,218.85L496.83,219.92L502.4,212.74L514.12,219.27L520.07,216.87L525.83,217.49L531.79,215.35L537.74,215.52L543.5,219.12L549.46,216L555.22,216.77L561.17,249.81L567.12,229.44L572.5,167.21L578.46,253.89L584.22,247.43L590.17,234.57L595.93,237.37L601.89,231.63L607.84,228.56L613.6,230.18L619.55,228.73L625.32,224.55L631.27,245.75L637.22,224.41L642.6,164.98L648.55,248.51L654.32,245.94L660.27,230.64L666.03,241.62L671.98,231.07L677.94,233.76L683.7,233.77L689.65,236.97L695.41,232.97L701.37,197.89L707.32,169.17L712.7,154.47L718.65,219.6L724.41,194.89L730.37,176.6L736.13,159.42L742.08,163.2L748.04,169.29L753.8,168.62L759.75,167.93L765.51,191.69L771.47,184.91L777.42,172.27L782.99,170.02L788.94,210.52L794.7,184.6L800.66,175.12L806.42,160.84L812.37,165.62L818.33,163.81L824.09,167.24L835.8,167.16L841.76,238.85L847.71,236.87L853.09,243.06L859.04,246.5L864.8,240.65L870.76,245.09L876.52,253.69L882.47,252.45L888.43,246.46L894.19,239.67L900.14,240.99L905.9,242.24L911.86,246.71L917.81,246.7L923.19,240.22L929.14,242.48L934.9,234.91L940.85,230.76L946.62,243.21L952.57,237.33L958.52,239.7L964.28,240.9L970.24,238.09L976,231.6\" style=\"vector-effect: non-scaling-stroke; fill: none; stroke: rgb(239, 85, 59); stroke-opacity: 1; stroke-width: 2px; opacity: 1;\"/></g><g class=\"points\"/><g class=\"text\"/></g></g></g><g class=\"overplot\"/><path class=\"xlines-above crisp\" d=\"M0,0\" style=\"fill: none;\"/><path class=\"ylines-above crisp\" d=\"M0,0\" style=\"fill: none;\"/><g class=\"overlines-above\"/><g class=\"xaxislayer-above\"><g class=\"xtick\"><text text-anchor=\"middle\" x=\"0\" y=\"433\" transform=\"translate(150.1,0)\" style=\"font-family: 'Open Sans', verdana, arial, sans-serif; font-size: 12px; fill: rgb(42, 63, 95); fill-opacity: 1; white-space: pre; opacity: 1;\">2010</text></g><g class=\"xtick\"><text text-anchor=\"middle\" x=\"0\" y=\"433\" style=\"font-family: 'Open Sans', verdana, arial, sans-serif; font-size: 12px; fill: rgb(42, 63, 95); fill-opacity: 1; white-space: pre; opacity: 1;\" transform=\"translate(290.3,0)\">2012</text></g><g class=\"xtick\"><text text-anchor=\"middle\" x=\"0\" y=\"433\" style=\"font-family: 'Open Sans', verdana, arial, sans-serif; font-size: 12px; fill: rgb(42, 63, 95); fill-opacity: 1; white-space: pre; opacity: 1;\" transform=\"translate(430.68,0)\">2014</text></g><g class=\"xtick\"><text text-anchor=\"middle\" x=\"0\" y=\"433\" style=\"font-family: 'Open Sans', verdana, arial, sans-serif; font-size: 12px; fill: rgb(42, 63, 95); fill-opacity: 1; white-space: pre; opacity: 1;\" transform=\"translate(570.88,0)\">2016</text></g><g class=\"xtick\"><text text-anchor=\"middle\" x=\"0\" y=\"433\" style=\"font-family: 'Open Sans', verdana, arial, sans-serif; font-size: 12px; fill: rgb(42, 63, 95); fill-opacity: 1; white-space: pre; opacity: 1;\" transform=\"translate(711.27,0)\">2018</text></g><g class=\"xtick\"><text text-anchor=\"middle\" x=\"0\" y=\"433\" style=\"font-family: 'Open Sans', verdana, arial, sans-serif; font-size: 12px; fill: rgb(42, 63, 95); fill-opacity: 1; white-space: pre; opacity: 1;\" transform=\"translate(851.47,0)\">2020</text></g><g class=\"xtick\"><text text-anchor=\"middle\" x=\"0\" y=\"433\" style=\"font-family: 'Open Sans', verdana, arial, sans-serif; font-size: 12px; fill: rgb(42, 63, 95); fill-opacity: 1; white-space: pre; opacity: 1;\" transform=\"translate(991.86,0)\">2022</text></g></g><g class=\"yaxislayer-above\"><g class=\"ytick\"><text text-anchor=\"end\" x=\"79\" y=\"4.199999999999999\" transform=\"translate(0,365.52)\" style=\"font-family: 'Open Sans', verdana, arial, sans-serif; font-size: 12px; fill: rgb(42, 63, 95); fill-opacity: 1; white-space: pre; opacity: 1;\">500</text></g><g class=\"ytick\"><text text-anchor=\"end\" x=\"79\" y=\"4.199999999999999\" style=\"font-family: 'Open Sans', verdana, arial, sans-serif; font-size: 12px; fill: rgb(42, 63, 95); fill-opacity: 1; white-space: pre; opacity: 1;\" transform=\"translate(0,302.03)\">1000</text></g><g class=\"ytick\"><text text-anchor=\"end\" x=\"79\" y=\"4.199999999999999\" style=\"font-family: 'Open Sans', verdana, arial, sans-serif; font-size: 12px; fill: rgb(42, 63, 95); fill-opacity: 1; white-space: pre; opacity: 1;\" transform=\"translate(0,238.54)\">1500</text></g><g class=\"ytick\"><text text-anchor=\"end\" x=\"79\" y=\"4.199999999999999\" style=\"font-family: 'Open Sans', verdana, arial, sans-serif; font-size: 12px; fill: rgb(42, 63, 95); fill-opacity: 1; white-space: pre; opacity: 1;\" transform=\"translate(0,175.05)\">2000</text></g><g class=\"ytick\"><text text-anchor=\"end\" x=\"79\" y=\"4.199999999999999\" style=\"font-family: 'Open Sans', verdana, arial, sans-serif; font-size: 12px; fill: rgb(42, 63, 95); fill-opacity: 1; white-space: pre; opacity: 1;\" transform=\"translate(0,111.56)\">2500</text></g></g><g class=\"overaxes-above\"/></g></g><g class=\"polarlayer\"/><g class=\"smithlayer\"/><g class=\"ternarylayer\"/><g class=\"geolayer\"/><g class=\"funnelarealayer\"/><g class=\"pielayer\"/><g class=\"iciclelayer\"/><g class=\"treemaplayer\"/><g class=\"sunburstlayer\"/><g class=\"glimages\"/><defs id=\"topdefs-8dfa66\"><g class=\"clips\"/><clipPath id=\"legend8dfa66\"><rect width=\"112\" height=\"48\" x=\"0\" y=\"0\"/></clipPath></defs><g class=\"layer-above\"><g class=\"imagelayer\"/><g class=\"shapelayer\"/></g><g class=\"infolayer\"><g class=\"legend\" pointer-events=\"all\" transform=\"translate(1075.52,100)\"><rect class=\"bg\" shape-rendering=\"crispEdges\" width=\"112\" height=\"48\" x=\"0\" y=\"0\" style=\"stroke: rgb(68, 68, 68); stroke-opacity: 1; fill: rgb(255, 255, 255); fill-opacity: 1; stroke-width: 0px;\"/><g class=\"scrollbox\" transform=\"\" clip-path=\"url(#legend8dfa66)\"><g class=\"groups\"><g class=\"traces\" transform=\"translate(0,14.5)\" style=\"opacity: 1;\"><text class=\"legendtext\" text-anchor=\"start\" x=\"40\" y=\"4.680000000000001\" style=\"font-family: 'Open Sans', verdana, arial, sans-serif; font-size: 12px; fill: rgb(42, 63, 95); fill-opacity: 1; white-space: pre;\">Train</text><g class=\"layers\" style=\"opacity: 1;\"><g class=\"legendfill\"/><g class=\"legendlines\"><path class=\"js-line\" d=\"M5,0h30\" style=\"fill: none; stroke: rgb(99, 110, 250); stroke-opacity: 1; stroke-width: 2px;\"/></g><g class=\"legendsymbols\"><g class=\"legendpoints\"/></g></g><rect class=\"legendtoggle\" x=\"0\" y=\"-9.5\" width=\"106.4375\" height=\"19\" style=\"fill: rgb(0, 0, 0); fill-opacity: 0;\"/></g><g class=\"traces\" transform=\"translate(0,33.5)\" style=\"opacity: 1;\"><text class=\"legendtext\" text-anchor=\"start\" x=\"40\" y=\"4.680000000000001\" style=\"font-family: 'Open Sans', verdana, arial, sans-serif; font-size: 12px; fill: rgb(42, 63, 95); fill-opacity: 1; white-space: pre;\">Predictions</text><g class=\"layers\" style=\"opacity: 1;\"><g class=\"legendfill\"/><g class=\"legendlines\"><path class=\"js-line\" d=\"M5,0h30\" style=\"fill: none; stroke: rgb(239, 85, 59); stroke-opacity: 1; stroke-width: 2px;\"/></g><g class=\"legendsymbols\"><g class=\"legendpoints\"/></g></g><rect class=\"legendtoggle\" x=\"0\" y=\"-9.5\" width=\"106.4375\" height=\"19\" style=\"fill: rgb(0, 0, 0); fill-opacity: 0;\"/></g></g></g><rect class=\"scrollbar\" rx=\"20\" ry=\"3\" width=\"0\" height=\"0\" x=\"0\" y=\"0\" style=\"fill: rgb(128, 139, 164); fill-opacity: 1;\"/></g><g class=\"g-gtitle\"><text class=\"gtitle\" x=\"60\" y=\"50\" text-anchor=\"start\" dy=\"0em\" style=\"font-family: 'Open Sans', verdana, arial, sans-serif; font-size: 17px; fill: rgb(42, 63, 95); opacity: 1; font-weight: normal; white-space: pre;\">ET Backteting in NOR</text></g><g class=\"g-xtitle\"/><g class=\"g-ytitle\"/></g></svg>"
     },
     "metadata": {},
     "output_type": "display_data"
    },
    {
     "name": "stdout",
     "output_type": "stream",
     "text": [
      "   feature  importance\n",
      "0    lag_1    0.165887\n",
      "3    lag_4    0.120676\n",
      "13    LTIR    0.106044\n",
      "1    lag_2    0.098613\n",
      "11  lag_12    0.081609\n",
      "2    lag_3    0.065412\n",
      "14     TIV    0.059264\n",
      "12     CPI    0.043228\n",
      "9   lag_10    0.042618\n",
      "4    lag_5    0.041594\n",
      "10  lag_11    0.035378\n",
      "5    lag_6    0.031980\n",
      "7    lag_8    0.031962\n",
      "6    lag_7    0.031423\n",
      "8    lag_9    0.025261\n",
      "15      UR    0.019051 \n",
      "\n"
     ]
    }
   ],
   "source": [
    "# Models\n",
    "modelclasses = [\n",
    "    [\"Ada\", AdaBoostRegressor],\n",
    "    [\"GB\", GradientBoostingRegressor],    \n",
    "    [\"XGB\", XGBRegressor],\n",
    "    [\"LGBM\", LGBMRegressor],    \n",
    "    [\"RF\", RandomForestRegressor],\n",
    "    [\"ET\", ExtraTreesRegressor],\n",
    "]\n",
    "\n",
    "number_of_lags = 12   # Number of lags \n",
    "\n",
    "for model_name, Model in modelclasses:\n",
    "    \n",
    "    # Create forecaster\n",
    "    forecaster = ForecasterAutoreg(\n",
    "            regressor = Model(),\n",
    "            lags = number_of_lags\n",
    "    )\n",
    "    \n",
    "    # Fit model\n",
    "    forecaster.fit(y=train[dep_var], exog=train_exo)    \n",
    "        \n",
    "    # Predict\n",
    "    preds = forecaster.predict(steps=steps, exog=test_exo)\n",
    "    \n",
    "    # Backtest\n",
    "    backtest(model_name, forecaster)\n",
    "\n",
    "    # Feature importance\n",
    "    feature_importance = forecaster.get_feature_importance().sort_values(by='importance', ascending=False)\n",
    "    print(feature_importance, \"\\n\")"
   ]
  },
  {
   "cell_type": "code",
   "execution_count": 49,
   "metadata": {},
   "outputs": [],
   "source": [
    "def plot_metrics(m, w, h, error: bool):\n",
    "\n",
    "    chart = m.transpose()\n",
    "    if error:\n",
    "        chart.drop(['Accuracy'], axis=1, inplace=True)\n",
    "    else:\n",
    "        chart.drop(['MAE', 'RMSE', \n",
    "                    'MAPE'], axis=1, inplace=True)\n",
    "    ax = chart.plot.bar(title=\"Models Performance (\" + country + ' /  ' \n",
    "            + dep_var + ')',\n",
    "            figsize=(w, h))        \n",
    "    for c in ax.containers:        \n",
    "        ax.bar_label(c, fmt='%0.2f', label_type='edge', padding=5)\n",
    "    ax.legend(loc='upper left', bbox_to_anchor=(1.0, 1.0))"
   ]
  },
  {
   "attachments": {},
   "cell_type": "markdown",
   "metadata": {},
   "source": [
    "### Summary"
   ]
  },
  {
   "cell_type": "code",
   "execution_count": 50,
   "metadata": {},
   "outputs": [
    {
     "data": {
      "text/html": [
       "<div>\n",
       "<style scoped>\n",
       "    .dataframe tbody tr th:only-of-type {\n",
       "        vertical-align: middle;\n",
       "    }\n",
       "\n",
       "    .dataframe tbody tr th {\n",
       "        vertical-align: top;\n",
       "    }\n",
       "\n",
       "    .dataframe thead th {\n",
       "        text-align: right;\n",
       "    }\n",
       "</style>\n",
       "<table border=\"1\" class=\"dataframe\">\n",
       "  <thead>\n",
       "    <tr style=\"text-align: right;\">\n",
       "      <th></th>\n",
       "      <th>Ada</th>\n",
       "      <th>GB</th>\n",
       "      <th>XGB</th>\n",
       "      <th>LGBM</th>\n",
       "      <th>RF</th>\n",
       "      <th>ET</th>\n",
       "    </tr>\n",
       "  </thead>\n",
       "  <tbody>\n",
       "    <tr>\n",
       "      <th>MAE</th>\n",
       "      <td>251.470727</td>\n",
       "      <td>243.481216</td>\n",
       "      <td>224.226919</td>\n",
       "      <td>219.049898</td>\n",
       "      <td>238.936429</td>\n",
       "      <td>260.548393</td>\n",
       "    </tr>\n",
       "    <tr>\n",
       "      <th>RMSE</th>\n",
       "      <td>335.558201</td>\n",
       "      <td>332.034268</td>\n",
       "      <td>311.624839</td>\n",
       "      <td>325.143782</td>\n",
       "      <td>332.699192</td>\n",
       "      <td>356.067907</td>\n",
       "    </tr>\n",
       "    <tr>\n",
       "      <th>MAPE</th>\n",
       "      <td>46.228885</td>\n",
       "      <td>43.859704</td>\n",
       "      <td>41.219653</td>\n",
       "      <td>43.368018</td>\n",
       "      <td>45.207522</td>\n",
       "      <td>48.881409</td>\n",
       "    </tr>\n",
       "    <tr>\n",
       "      <th>Accuracy</th>\n",
       "      <td>53.771115</td>\n",
       "      <td>56.140296</td>\n",
       "      <td>58.780347</td>\n",
       "      <td>56.631982</td>\n",
       "      <td>54.792478</td>\n",
       "      <td>51.118591</td>\n",
       "    </tr>\n",
       "  </tbody>\n",
       "</table>\n",
       "</div>"
      ],
      "text/plain": [
       "                 Ada          GB         XGB        LGBM          RF  \\\n",
       "MAE       251.470727  243.481216  224.226919  219.049898  238.936429   \n",
       "RMSE      335.558201  332.034268  311.624839  325.143782  332.699192   \n",
       "MAPE       46.228885   43.859704   41.219653   43.368018   45.207522   \n",
       "Accuracy   53.771115   56.140296   58.780347   56.631982   54.792478   \n",
       "\n",
       "                  ET  \n",
       "MAE       260.548393  \n",
       "RMSE      356.067907  \n",
       "MAPE       48.881409  \n",
       "Accuracy   51.118591  "
      ]
     },
     "execution_count": 50,
     "metadata": {},
     "output_type": "execute_result"
    }
   ],
   "source": [
    "metrics"
   ]
  },
  {
   "cell_type": "code",
   "execution_count": 51,
   "metadata": {},
   "outputs": [
    {
     "data": {
      "image/png": "[encoded data removed]",
      "text/plain": [
       "<Figure size 1224x720 with 1 Axes>"
      ]
     },
     "metadata": {
      "needs_background": "light"
     },
     "output_type": "display_data"
    }
   ],
   "source": [
    "plot_metrics(metrics, 17, 10, False)"
   ]
  },
  {
   "cell_type": "code",
   "execution_count": 52,
   "metadata": {},
   "outputs": [
    {
     "data": {
      "image/png": "[encoded data removed]",
      "text/plain": [
       "<Figure size 1224x720 with 1 Axes>"
      ]
     },
     "metadata": {
      "needs_background": "light"
     },
     "output_type": "display_data"
    }
   ],
   "source": [
    "plot_metrics(metrics, 17, 10, True)"
   ]
  }
 ],
 "metadata": {
  "kernelspec": {
   "display_name": "base",
   "language": "python",
   "name": "python3"
  },
  "language_info": {
   "codemirror_mode": {
    "name": "ipython",
    "version": 3
   },
   "file_extension": ".py",
   "mimetype": "text/x-python",
   "name": "python",
   "nbconvert_exporter": "python",
   "pygments_lexer": "ipython3",
   "version": "3.8.12"
  },
  "orig_nbformat": 4,
  "vscode": {
   "interpreter": {
    "hash": "ad2bdc8ecc057115af97d19610ffacc2b4e99fae6737bb82f5d7fb13d2f2c186"
   }
  }
 },
 "nbformat": 4,
 "nbformat_minor": 2
}
