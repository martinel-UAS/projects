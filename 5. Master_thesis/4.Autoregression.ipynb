{
 "cells": [
  {
   "attachments": {},
   "cell_type": "markdown",
   "metadata": {},
   "source": [
    "#### Import libraries"
   ]
  },
  {
   "cell_type": "code",
   "execution_count": 50,
   "metadata": {},
   "outputs": [],
   "source": [
    "import pandas as pd\n",
    "import math\n",
    "import numpy as np\n",
    "\n",
    "from sklearn.metrics import mean_squared_error\n",
    "from sklearn.metrics import r2_score\n",
    "\n",
    "import statsmodels.api as sm\n",
    "from statsmodels.tsa.stattools import acf\n",
    "from statsmodels.tsa.holtwinters import SimpleExpSmoothing\n",
    "from statsmodels.tsa.holtwinters import ExponentialSmoothing\n",
    "\n",
    "import pmdarima as pm\n",
    "from pmdarima import auto_arima\n",
    "\n",
    "import matplotlib.pyplot as plt\n",
    "import plotly.graph_objs as go\n",
    "from plotly.subplots import make_subplots\n",
    "\n",
    "import plotly.io as pio"
   ]
  },
  {
   "cell_type": "code",
   "execution_count": 51,
   "metadata": {},
   "outputs": [],
   "source": [
    "# To render plotly into GitHub\n",
    "pio.renderers.default = \"svg\""
   ]
  },
  {
   "cell_type": "code",
   "execution_count": 52,
   "metadata": {},
   "outputs": [],
   "source": [
    "# Select country in analysis ('FIN', 'DEN', 'NOR', 'SWE')\n",
    "country = 'DEN'\n",
    "\n",
    "# Dependant variable\n",
    "dep_var = 'TIV'     \n",
    "\n",
    "# Exogenous variable for SARIMAX\n",
    "exo_var = 'Orders'"
   ]
  },
  {
   "attachments": {},
   "cell_type": "markdown",
   "metadata": {},
   "source": [
    "### Load Data"
   ]
  },
  {
   "cell_type": "code",
   "execution_count": 53,
   "metadata": {},
   "outputs": [],
   "source": [
    "# Input path and filename\n",
    "path = '../5. Master_thesis/Datasets/Output_files/'\n",
    "\n",
    "# Load files into a pandas dataframes\n",
    "file = path + '0.xlsx'\n",
    "df = pd.read_excel(file, sheet_name=country)\n",
    "\n",
    "# Set index  \n",
    "df = df.set_index(\"Date\").asfreq('MS')"
   ]
  },
  {
   "cell_type": "code",
   "execution_count": 54,
   "metadata": {},
   "outputs": [
    {
     "data": {
      "text/html": [
       "<div>\n",
       "<style scoped>\n",
       "    .dataframe tbody tr th:only-of-type {\n",
       "        vertical-align: middle;\n",
       "    }\n",
       "\n",
       "    .dataframe tbody tr th {\n",
       "        vertical-align: top;\n",
       "    }\n",
       "\n",
       "    .dataframe thead th {\n",
       "        text-align: right;\n",
       "    }\n",
       "</style>\n",
       "<table border=\"1\" class=\"dataframe\">\n",
       "  <thead>\n",
       "    <tr style=\"text-align: right;\">\n",
       "      <th></th>\n",
       "      <th>Orders</th>\n",
       "      <th>CPI</th>\n",
       "      <th>UR</th>\n",
       "      <th>LTIR</th>\n",
       "      <th>TIV</th>\n",
       "    </tr>\n",
       "    <tr>\n",
       "      <th>Date</th>\n",
       "      <th></th>\n",
       "      <th></th>\n",
       "      <th></th>\n",
       "      <th></th>\n",
       "      <th></th>\n",
       "    </tr>\n",
       "  </thead>\n",
       "  <tbody>\n",
       "    <tr>\n",
       "      <th>2006-01-01</th>\n",
       "      <td>161</td>\n",
       "      <td>2.184466</td>\n",
       "      <td>4.1</td>\n",
       "      <td>3.311</td>\n",
       "      <td>65.640787</td>\n",
       "    </tr>\n",
       "    <tr>\n",
       "      <th>2006-02-01</th>\n",
       "      <td>250</td>\n",
       "      <td>2.163461</td>\n",
       "      <td>4.2</td>\n",
       "      <td>3.484</td>\n",
       "      <td>61.924395</td>\n",
       "    </tr>\n",
       "    <tr>\n",
       "      <th>2006-03-01</th>\n",
       "      <td>468</td>\n",
       "      <td>1.911589</td>\n",
       "      <td>4.2</td>\n",
       "      <td>3.704</td>\n",
       "      <td>83.479473</td>\n",
       "    </tr>\n",
       "    <tr>\n",
       "      <th>2006-04-01</th>\n",
       "      <td>412</td>\n",
       "      <td>1.902497</td>\n",
       "      <td>4.2</td>\n",
       "      <td>3.975</td>\n",
       "      <td>77.672609</td>\n",
       "    </tr>\n",
       "    <tr>\n",
       "      <th>2006-05-01</th>\n",
       "      <td>550</td>\n",
       "      <td>2.021403</td>\n",
       "      <td>4.1</td>\n",
       "      <td>4.022</td>\n",
       "      <td>91.928459</td>\n",
       "    </tr>\n",
       "    <tr>\n",
       "      <th>...</th>\n",
       "      <td>...</td>\n",
       "      <td>...</td>\n",
       "      <td>...</td>\n",
       "      <td>...</td>\n",
       "      <td>...</td>\n",
       "    </tr>\n",
       "    <tr>\n",
       "      <th>2022-08-01</th>\n",
       "      <td>343</td>\n",
       "      <td>8.909952</td>\n",
       "      <td>4.5</td>\n",
       "      <td>1.375</td>\n",
       "      <td>74.473027</td>\n",
       "    </tr>\n",
       "    <tr>\n",
       "      <th>2022-09-01</th>\n",
       "      <td>337</td>\n",
       "      <td>10.018900</td>\n",
       "      <td>4.6</td>\n",
       "      <td>2.200</td>\n",
       "      <td>75.796992</td>\n",
       "    </tr>\n",
       "    <tr>\n",
       "      <th>2022-10-01</th>\n",
       "      <td>322</td>\n",
       "      <td>10.112360</td>\n",
       "      <td>4.6</td>\n",
       "      <td>2.599</td>\n",
       "      <td>63.242553</td>\n",
       "    </tr>\n",
       "    <tr>\n",
       "      <th>2022-11-01</th>\n",
       "      <td>305</td>\n",
       "      <td>8.870214</td>\n",
       "      <td>4.7</td>\n",
       "      <td>2.378</td>\n",
       "      <td>76.400906</td>\n",
       "    </tr>\n",
       "    <tr>\n",
       "      <th>2022-12-01</th>\n",
       "      <td>357</td>\n",
       "      <td>8.724202</td>\n",
       "      <td>4.8</td>\n",
       "      <td>2.285</td>\n",
       "      <td>88.502410</td>\n",
       "    </tr>\n",
       "  </tbody>\n",
       "</table>\n",
       "<p>204 rows × 5 columns</p>\n",
       "</div>"
      ],
      "text/plain": [
       "            Orders        CPI   UR   LTIR        TIV\n",
       "Date                                                \n",
       "2006-01-01     161   2.184466  4.1  3.311  65.640787\n",
       "2006-02-01     250   2.163461  4.2  3.484  61.924395\n",
       "2006-03-01     468   1.911589  4.2  3.704  83.479473\n",
       "2006-04-01     412   1.902497  4.2  3.975  77.672609\n",
       "2006-05-01     550   2.021403  4.1  4.022  91.928459\n",
       "...            ...        ...  ...    ...        ...\n",
       "2022-08-01     343   8.909952  4.5  1.375  74.473027\n",
       "2022-09-01     337  10.018900  4.6  2.200  75.796992\n",
       "2022-10-01     322  10.112360  4.6  2.599  63.242553\n",
       "2022-11-01     305   8.870214  4.7  2.378  76.400906\n",
       "2022-12-01     357   8.724202  4.8  2.285  88.502410\n",
       "\n",
       "[204 rows x 5 columns]"
      ]
     },
     "execution_count": 54,
     "metadata": {},
     "output_type": "execute_result"
    }
   ],
   "source": [
    "df"
   ]
  },
  {
   "attachments": {},
   "cell_type": "markdown",
   "metadata": {},
   "source": [
    "### Split Data"
   ]
  },
  {
   "cell_type": "code",
   "execution_count": 28,
   "metadata": {},
   "outputs": [
    {
     "name": "stdout",
     "output_type": "stream",
     "text": [
      "Dataset length : (n=191)\n",
      "Train dates    : 2007-02-01 00:00:00 --- 2019-12-01 00:00:00  (n=155)\n",
      "Test dates     : 2020-01-01 00:00:00 --- 2022-12-01 00:00:00  (n=36)\n"
     ]
    }
   ],
   "source": [
    "steps = 36  # 36 months of testing\n",
    "train = df[:-steps]\n",
    "test  = df[-steps:]\n",
    "\n",
    "start=len(train)\n",
    "end=len(train)+len(test)-1\n",
    "\n",
    "print(f\"Dataset length : (n={len(df)})\")\n",
    "print(f\"Train dates    : {train.index.min()} --- {train.index.max()}  (n={len(train)})\")\n",
    "print(f\"Test dates     : {test.index.min()} --- {test.index.max()}  (n={len(test)})\")"
   ]
  },
  {
   "attachments": {},
   "cell_type": "markdown",
   "metadata": {},
   "source": [
    "### Scoring function"
   ]
  },
  {
   "cell_type": "code",
   "execution_count": 29,
   "metadata": {},
   "outputs": [],
   "source": [
    "metrics = pd.DataFrame()\n",
    "\n",
    "# Accuracy metrics\n",
    "def forecast_accuracy(model_name, y_true, y_pred, print_metrics: bool, plot_results: bool):\n",
    "    \n",
    "    mae = np.mean(np.abs(y_pred - y_true))                                    # MAE\n",
    "    mse = mean_squared_error(y_true, y_pred)                                  # MSE (Mean Squared Error)\n",
    "    rmse = math.sqrt(mse)                                                     # RMSE (Root Mean Squared Error)    \n",
    "    r2 = r2_score(y_true, y_pred)                                             # R2 (R-squared - Coeficient of determination)      \n",
    "    mape = np.mean(np.abs(y_pred - y_true)/np.abs(y_true)*100)                # MAPE        \n",
    "    accuracy = 100 - mape                                                     # Accuracy\n",
    "\n",
    "    # Append metrics for summary\n",
    "    metrics[model_name] = [mae, mse, rmse, r2, mape, accuracy]\n",
    "    metrics.index = ['Mean Absolute Error', \n",
    "                    'Mean Squared Error', \n",
    "                    'Root Mean Squared Error',\n",
    "                    'R^2',\n",
    "                    'Mean Absolute Percentage Error',\n",
    "                    'Accuracy']       \n",
    "\n",
    "    # Print metrics  \n",
    "    if print_metrics:\n",
    " \n",
    "        print(model_name, 'Model Performance:')                             # Model name\n",
    "        print('Mean Absolute Error: {:0.2f}.'.format(mae))                  # MAE\n",
    "        print('Mean Squared Error: {:0.2f}.'.format(mse))                   # MSE\n",
    "        print('Root Mean Squared Error: {:0.2f}.'.format(rmse))             # RMSE  \n",
    "        print('R^2 Score = {:0.2f}.'.format(r2))                            # R2\n",
    "        print('Mean Absolute Percentage Error: {:0.2f}%.'.format(mape))     # MAPE \n",
    "        print('Accuracy = {:0.2f}%.'.format(accuracy))                      # Accuracy                    \n",
    "    \n",
    "    # Plot Actual values vs predicted values\n",
    "    if plot_results:\n",
    "        \n",
    "        df = pd.DataFrame(y_true)\n",
    "\n",
    "        fig= make_subplots(rows=2, cols=1)\n",
    "        \n",
    "        fig.add_trace(go.Scatter(dict(x=df.index, y=y_true, mode='lines', name= 'Actual'), legendgroup=\"Preds\"), row=1, col=1)\n",
    "        fig.add_trace(go.Scatter(dict(x=df.index, y=y_pred, mode='lines', name= 'Predicted'), legendgroup=\"Preds\"), row=1, col=1)\n",
    "        \n",
    "        fig.add_trace(go.Scatter(dict(x=train.index, y=train[dep_var], mode='lines', name= 'Train'), legendgroup=\"Full\"), row=2, col=1)\n",
    "        fig.add_trace(go.Scatter(dict(x=test.index, y=test[dep_var], mode='lines', name= 'Test'), legendgroup=\"Full\"), row=2, col=1)\n",
    "        fig.add_trace(go.Scatter(dict(x=test.index, y=y_pred, mode='lines', name= 'Forecast'), legendgroup=\"Full\"), row=2, col=1)\n",
    "\n",
    "        fig.update_layout(height=600, width=1000, title_text=model_name + \" Predictions - \" + country)    \n",
    "\n",
    "        fig.show()  \n",
    "\n",
    "                    "
   ]
  },
  {
   "attachments": {},
   "cell_type": "markdown",
   "metadata": {},
   "source": [
    "### Modeling"
   ]
  },
  {
   "attachments": {},
   "cell_type": "markdown",
   "metadata": {},
   "source": [
    "#### Simple Exponential Smoothing"
   ]
  },
  {
   "cell_type": "code",
   "execution_count": 30,
   "metadata": {},
   "outputs": [
    {
     "name": "stdout",
     "output_type": "stream",
     "text": [
      "Simple Exponential Smoothing Model Performance:\n",
      "Mean Absolute Error: 22.72.\n",
      "Mean Squared Error: 736.20.\n",
      "Root Mean Squared Error: 27.13.\n",
      "R^2 Score = -0.72.\n",
      "Mean Absolute Percentage Error: 31.43%.\n",
      "Accuracy = 68.57%.\n"
     ]
    },
    {
     "data": {
      "image/svg+xml": "<svg class=\"main-svg\" xmlns=\"http://www.w3.org/2000/svg\" xmlns:xlink=\"http://www.w3.org/1999/xlink\" width=\"1000\" height=\"600\" style=\"\" viewBox=\"0 0 1000 600\"><rect x=\"0\" y=\"0\" width=\"1000\" height=\"600\" style=\"fill: rgb(255, 255, 255); fill-opacity: 1;\"/><defs id=\"defs-2c17ef\"><g class=\"clips\"><clipPath id=\"clip2c17efxyplot\" class=\"plotclip\"><rect width=\"791\" height=\"178.50000000000003\"/></clipPath><clipPath id=\"clip2c17efx2y2plot\" class=\"plotclip\"><rect width=\"791\" height=\"178.5\"/></clipPath><clipPath class=\"axesclip\" id=\"clip2c17efx\"><rect x=\"80\" y=\"0\" width=\"791\" height=\"600\"/></clipPath><clipPath class=\"axesclip\" id=\"clip2c17efy\"><rect x=\"0\" y=\"100\" width=\"1000\" height=\"178.50000000000003\"/></clipPath><clipPath class=\"axesclip\" id=\"clip2c17efxy\"><rect x=\"80\" y=\"100\" width=\"791\" height=\"178.50000000000003\"/></clipPath><clipPath class=\"axesclip\" id=\"clip2c17efy2\"><rect x=\"0\" y=\"341.5\" width=\"1000\" height=\"178.5\"/></clipPath><clipPath class=\"axesclip\" id=\"clip2c17efxy2\"><rect x=\"80\" y=\"341.5\" width=\"791\" height=\"178.5\"/></clipPath><clipPath class=\"axesclip\" id=\"clip2c17efx2\"><rect x=\"80\" y=\"0\" width=\"791\" height=\"600\"/></clipPath><clipPath class=\"axesclip\" id=\"clip2c17efx2y\"><rect x=\"80\" y=\"100\" width=\"791\" height=\"178.50000000000003\"/></clipPath><clipPath class=\"axesclip\" id=\"clip2c17efx2y2\"><rect x=\"80\" y=\"341.5\" width=\"791\" height=\"178.5\"/></clipPath></g><g class=\"gradients\"/><g class=\"patterns\"/></defs><g class=\"bglayer\"><rect class=\"bg\" x=\"80\" y=\"100\" width=\"791\" height=\"178.50000000000003\" style=\"fill: rgb(229, 236, 246); fill-opacity: 1; stroke-width: 0;\"/><rect class=\"bg\" x=\"80\" y=\"341.5\" width=\"791\" height=\"178.5\" style=\"fill: rgb(229, 236, 246); fill-opacity: 1; stroke-width: 0;\"/></g><g class=\"layer-below\"><g class=\"imagelayer\"/><g class=\"shapelayer\"/></g><g class=\"cartesianlayer\"><g class=\"subplot xy\"><g class=\"layer-subplot\"><g class=\"shapelayer\"/><g class=\"imagelayer\"/></g><g class=\"minor-gridlayer\"><g class=\"x\"/><g class=\"y\"/></g><g class=\"gridlayer\"><g class=\"x\"><path class=\"xgrid crisp\" transform=\"translate(215.18,0)\" d=\"M0,100v178.50000000000003\" style=\"stroke: rgb(255, 255, 255); stroke-opacity: 1; stroke-width: 1px;\"/><path class=\"xgrid crisp\" transform=\"translate(351.84,0)\" d=\"M0,100v178.50000000000003\" style=\"stroke: rgb(255, 255, 255); stroke-opacity: 1; stroke-width: 1px;\"/><path class=\"xgrid crisp\" transform=\"translate(486.27,0)\" d=\"M0,100v178.50000000000003\" style=\"stroke: rgb(255, 255, 255); stroke-opacity: 1; stroke-width: 1px;\"/><path class=\"xgrid crisp\" transform=\"translate(622.93,0)\" d=\"M0,100v178.50000000000003\" style=\"stroke: rgb(255, 255, 255); stroke-opacity: 1; stroke-width: 1px;\"/><path class=\"xgrid crisp\" transform=\"translate(757.36,0)\" d=\"M0,100v178.50000000000003\" style=\"stroke: rgb(255, 255, 255); stroke-opacity: 1; stroke-width: 1px;\"/></g><g class=\"y\"><path class=\"ygrid crisp\" transform=\"translate(0,259.76)\" d=\"M80,0h791\" style=\"stroke: rgb(255, 255, 255); stroke-opacity: 1; stroke-width: 1px;\"/><path class=\"ygrid crisp\" transform=\"translate(0,221.39)\" d=\"M80,0h791\" style=\"stroke: rgb(255, 255, 255); stroke-opacity: 1; stroke-width: 1px;\"/><path class=\"ygrid crisp\" transform=\"translate(0,183.01999999999998)\" d=\"M80,0h791\" style=\"stroke: rgb(255, 255, 255); stroke-opacity: 1; stroke-width: 1px;\"/><path class=\"ygrid crisp\" transform=\"translate(0,144.65)\" d=\"M80,0h791\" style=\"stroke: rgb(255, 255, 255); stroke-opacity: 1; stroke-width: 1px;\"/><path class=\"ygrid crisp\" transform=\"translate(0,106.28)\" d=\"M80,0h791\" style=\"stroke: rgb(255, 255, 255); stroke-opacity: 1; stroke-width: 1px;\"/></g></g><g class=\"zerolinelayer\"/><path class=\"xlines-below\"/><path class=\"ylines-below\"/><g class=\"overlines-below\"/><g class=\"xaxislayer-below\"/><g class=\"yaxislayer-below\"/><g class=\"overaxes-below\"/><g class=\"plot\" transform=\"translate(80,100)\" clip-path=\"url(#clip2c17efxyplot)\"><g class=\"scatterlayer mlayer\"><g class=\"trace scatter traced41bb3\" style=\"stroke-miterlimit: 2; opacity: 1;\"><g class=\"fills\"/><g class=\"errorbars\"/><g class=\"lines\"><path class=\"js-line\" d=\"M0,66.77L23.02,107.13L44.56,105.35L67.59,160.29L89.87,146.25L112.89,73.81L135.18,62.07L158.2,77.95L181.22,82.91L203.51,106.36L226.53,71.69L248.81,21.17L271.84,159.99L294.86,163.74L315.66,8.92L338.68,100.75L360.96,85.27L383.99,46.41L406.27,123.75L429.29,97.57L452.32,115.74L474.6,133.17L497.62,108.04L519.91,76.38L542.93,169.58L565.95,160.5L586.75,110.57L609.78,150.69L632.06,122.94L655.08,108.2L677.36,164.41L700.39,132L723.41,129.46L745.69,153.54L768.72,128.3L791,105.08\" style=\"vector-effect: non-scaling-stroke; fill: none; stroke: rgb(99, 110, 250); stroke-opacity: 1; stroke-width: 2px; opacity: 1;\"/></g><g class=\"points\"/><g class=\"text\"/></g><g class=\"trace scatter tracec61e43\" style=\"stroke-miterlimit: 2; opacity: 1;\"><g class=\"fills\"/><g class=\"errorbars\"/><g class=\"lines\"><path class=\"js-line\" d=\"M0,75.73L791,75.73\" style=\"vector-effect: non-scaling-stroke; fill: none; stroke: rgb(239, 85, 59); stroke-opacity: 1; stroke-width: 2px; opacity: 1;\"/></g><g class=\"points\"/><g class=\"text\"/></g></g></g><g class=\"overplot\"/><path class=\"xlines-above crisp\" d=\"M0,0\" style=\"fill: none;\"/><path class=\"ylines-above crisp\" d=\"M0,0\" style=\"fill: none;\"/><g class=\"overlines-above\"/><g class=\"xaxislayer-above\"><g class=\"xtick\"><text text-anchor=\"middle\" x=\"0\" y=\"291.5\" transform=\"translate(80,0)\" style=\"font-family: 'Open Sans', verdana, arial, sans-serif; font-size: 12px; fill: rgb(42, 63, 95); fill-opacity: 1; white-space: pre; opacity: 1;\">Jan 2020</text></g><g class=\"xtick\"><text text-anchor=\"middle\" x=\"0\" y=\"291.5\" style=\"font-family: 'Open Sans', verdana, arial, sans-serif; font-size: 12px; fill: rgb(42, 63, 95); fill-opacity: 1; white-space: pre; opacity: 1;\" transform=\"translate(215.18,0)\">Jul 2020</text></g><g class=\"xtick\"><text text-anchor=\"middle\" x=\"0\" y=\"291.5\" style=\"font-family: 'Open Sans', verdana, arial, sans-serif; font-size: 12px; fill: rgb(42, 63, 95); fill-opacity: 1; white-space: pre; opacity: 1;\" transform=\"translate(351.84,0)\">Jan 2021</text></g><g class=\"xtick\"><text text-anchor=\"middle\" x=\"0\" y=\"291.5\" style=\"font-family: 'Open Sans', verdana, arial, sans-serif; font-size: 12px; fill: rgb(42, 63, 95); fill-opacity: 1; white-space: pre; opacity: 1;\" transform=\"translate(486.27,0)\">Jul 2021</text></g><g class=\"xtick\"><text text-anchor=\"middle\" x=\"0\" y=\"291.5\" style=\"font-family: 'Open Sans', verdana, arial, sans-serif; font-size: 12px; fill: rgb(42, 63, 95); fill-opacity: 1; white-space: pre; opacity: 1;\" transform=\"translate(622.93,0)\">Jan 2022</text></g><g class=\"xtick\"><text text-anchor=\"middle\" x=\"0\" y=\"291.5\" style=\"font-family: 'Open Sans', verdana, arial, sans-serif; font-size: 12px; fill: rgb(42, 63, 95); fill-opacity: 1; white-space: pre; opacity: 1;\" transform=\"translate(757.36,0)\">Jul 2022</text></g></g><g class=\"yaxislayer-above\"><g class=\"ytick\"><text text-anchor=\"end\" x=\"79\" y=\"4.199999999999999\" transform=\"translate(0,259.76)\" style=\"font-family: 'Open Sans', verdana, arial, sans-serif; font-size: 12px; fill: rgb(42, 63, 95); fill-opacity: 1; white-space: pre; opacity: 1;\">60</text></g><g class=\"ytick\"><text text-anchor=\"end\" x=\"79\" y=\"4.199999999999999\" style=\"font-family: 'Open Sans', verdana, arial, sans-serif; font-size: 12px; fill: rgb(42, 63, 95); fill-opacity: 1; white-space: pre; opacity: 1;\" transform=\"translate(0,221.39)\">80</text></g><g class=\"ytick\"><text text-anchor=\"end\" x=\"79\" y=\"4.199999999999999\" style=\"font-family: 'Open Sans', verdana, arial, sans-serif; font-size: 12px; fill: rgb(42, 63, 95); fill-opacity: 1; white-space: pre; opacity: 1;\" transform=\"translate(0,183.01999999999998)\">100</text></g><g class=\"ytick\"><text text-anchor=\"end\" x=\"79\" y=\"4.199999999999999\" style=\"font-family: 'Open Sans', verdana, arial, sans-serif; font-size: 12px; fill: rgb(42, 63, 95); fill-opacity: 1; white-space: pre; opacity: 1;\" transform=\"translate(0,144.65)\">120</text></g><g class=\"ytick\"><text text-anchor=\"end\" x=\"79\" y=\"4.199999999999999\" style=\"font-family: 'Open Sans', verdana, arial, sans-serif; font-size: 12px; fill: rgb(42, 63, 95); fill-opacity: 1; white-space: pre; opacity: 1;\" transform=\"translate(0,106.28)\">140</text></g></g><g class=\"overaxes-above\"/></g><g class=\"subplot x2y2\"><g class=\"layer-subplot\"><g class=\"shapelayer\"/><g class=\"imagelayer\"/></g><g class=\"minor-gridlayer\"><g class=\"x2\"/><g class=\"y2\"/></g><g class=\"gridlayer\"><g class=\"x2\"><path class=\"x2grid crisp\" transform=\"translate(125.69,0)\" d=\"M0,341.5v178.5\" style=\"stroke: rgb(255, 255, 255); stroke-opacity: 1; stroke-width: 1px;\"/><path class=\"x2grid crisp\" transform=\"translate(225.7,0)\" d=\"M0,341.5v178.5\" style=\"stroke: rgb(255, 255, 255); stroke-opacity: 1; stroke-width: 1px;\"/><path class=\"x2grid crisp\" transform=\"translate(325.56,0)\" d=\"M0,341.5v178.5\" style=\"stroke: rgb(255, 255, 255); stroke-opacity: 1; stroke-width: 1px;\"/><path class=\"x2grid crisp\" transform=\"translate(425.57,0)\" d=\"M0,341.5v178.5\" style=\"stroke: rgb(255, 255, 255); stroke-opacity: 1; stroke-width: 1px;\"/><path class=\"x2grid crisp\" transform=\"translate(525.4300000000001,0)\" d=\"M0,341.5v178.5\" style=\"stroke: rgb(255, 255, 255); stroke-opacity: 1; stroke-width: 1px;\"/><path class=\"x2grid crisp\" transform=\"translate(625.44,0)\" d=\"M0,341.5v178.5\" style=\"stroke: rgb(255, 255, 255); stroke-opacity: 1; stroke-width: 1px;\"/><path class=\"x2grid crisp\" transform=\"translate(725.3,0)\" d=\"M0,341.5v178.5\" style=\"stroke: rgb(255, 255, 255); stroke-opacity: 1; stroke-width: 1px;\"/><path class=\"x2grid crisp\" transform=\"translate(825.31,0)\" d=\"M0,341.5v178.5\" style=\"stroke: rgb(255, 255, 255); stroke-opacity: 1; stroke-width: 1px;\"/></g><g class=\"y2\"><path class=\"y2grid crisp\" transform=\"translate(0,500.9)\" d=\"M80,0h791\" style=\"stroke: rgb(255, 255, 255); stroke-opacity: 1; stroke-width: 1px;\"/><path class=\"y2grid crisp\" transform=\"translate(0,427.19)\" d=\"M80,0h791\" style=\"stroke: rgb(255, 255, 255); stroke-opacity: 1; stroke-width: 1px;\"/><path class=\"y2grid crisp\" transform=\"translate(0,353.48)\" d=\"M80,0h791\" style=\"stroke: rgb(255, 255, 255); stroke-opacity: 1; stroke-width: 1px;\"/></g></g><g class=\"zerolinelayer\"/><path class=\"xlines-below\"/><path class=\"ylines-below\"/><g class=\"overlines-below\"/><g class=\"xaxislayer-below\"/><g class=\"yaxislayer-below\"/><g class=\"overaxes-below\"/><g class=\"plot\" transform=\"translate(80,341.5)\" clip-path=\"url(#clip2c17efx2y2plot)\"><g class=\"scatterlayer mlayer\"><g class=\"trace scatter trace84ca54\" style=\"stroke-miterlimit: 2; opacity: 1;\"><g class=\"fills\"/><g class=\"errorbars\"/><g class=\"lines\"><path class=\"js-line\" d=\"M0,140.57L3.83,109.47L8.07,128.04L12.18,110.33L16.42,103.15L20.52,118.11L24.76,118.68L29,118.06L33.11,108.94L37.35,103.08L41.45,114.87L45.69,109.91L49.93,122.14L53.9,125L58.14,95.33L62.25,108.1L66.49,101.49L70.59,121.81L74.83,136L79.07,130.42L83.18,136.18L87.42,161.81L91.52,159.39L95.76,166.46L100,169.58L103.83,148.99L108.08,155.75L112.18,153.25L116.42,136.57L120.52,155.38L124.77,165.41L129.01,149.56L133.11,147.77L137.35,155.55L141.46,132.16L145.7,141.98L149.94,159.58L153.77,113.69L158.01,130.79L162.11,122.05L166.35,100.09L170.46,133.22L174.7,132.47L178.94,117.25L183.04,116.75L187.28,113.71L191.39,100.74L195.63,127.21L199.87,134.3L203.7,89.5L207.94,118.19L212.05,91.29L216.29,87.39L220.39,121.3L224.63,126.17L228.87,115.03L232.98,127.16L237.22,104.48L241.32,101.78L245.56,122.95L249.8,111.78L253.77,116.04L258.01,129.8L262.12,90.83L266.36,113.01L270.46,92.91L274.7,117.84L278.94,114.83L283.05,103.52L287.29,95.43L291.39,142.19L295.63,107.12L299.87,128.94L303.7,105.64L307.95,98.86L316.29,83.93L320.39,112.12L324.64,112.63L328.88,109.94L332.98,90.55L337.22,97.78L341.33,111.25L345.57,94.07L349.81,107.04L353.64,89.58L357.88,92.32L361.98,89.01L366.22,83.03L370.33,111.35L374.57,108.43L378.81,110.19L382.91,93.88L387.15,103.92L391.26,101.59L395.5,96.13L399.74,117.42L403.57,65.85L407.81,88.21L411.92,87.56L416.16,50.63L420.26,94.41L424.5,95.17L428.74,81.26L432.85,89.16L437.09,87.01L441.19,75.42L445.43,92.89L449.67,91.09L453.64,69.17L457.88,63.13L461.99,52.27L466.23,30.88L470.33,98.77L474.57,84.49L478.81,75.6L482.92,87.64L487.16,79.23L491.26,67.68L495.5,66.26L499.74,83.78L503.58,38.51L507.82,82.11L511.92,42.11L516.16,27.81L520.27,102.81L524.51,102.09L528.75,110.47L532.85,74.53L537.09,78.9L541.2,92.02L545.44,62.77L549.68,85.24L553.51,63.74L557.75,72.46L561.85,39.7L566.09,40.01L570.2,92.02L574.44,56.21L578.68,130.5L582.78,90.65L587.03,79.63L591.13,114.12L595.37,50.85L599.61,73.91L603.44,8.93L607.68,93.97L611.79,69.22L616.03,55.22L620.13,89.5L624.37,72.93L628.61,96.59L632.72,75.84L636.96,78.28L641.06,100.67\" style=\"vector-effect: non-scaling-stroke; fill: none; stroke: rgb(0, 204, 150); stroke-opacity: 1; stroke-width: 2px; opacity: 1;\"/></g><g class=\"points\"/><g class=\"text\"/></g><g class=\"trace scatter tracea01ed2\" style=\"stroke-miterlimit: 2; opacity: 1;\"><g class=\"fills\"/><g class=\"errorbars\"/><g class=\"lines\"><path class=\"js-line\" d=\"M645.3,73.2L649.54,104.21L653.51,102.84L657.75,145.07L661.86,134.27L666.1,78.61L670.2,69.59L674.44,81.79L678.68,85.6L682.79,103.62L687.03,76.98L691.13,38.16L695.37,144.83L699.62,147.71L703.45,28.75L707.69,99.31L711.79,87.42L716.03,57.56L720.14,116.99L724.38,96.87L728.62,110.83L732.72,124.22L736.96,104.92L741.07,80.59L745.31,152.2L749.55,145.22L753.38,106.86L757.62,137.69L761.72,116.36L765.96,105.04L770.07,148.22L774.31,123.32L778.55,121.37L782.65,139.88L786.9,120.48L791,102.64\" style=\"vector-effect: non-scaling-stroke; fill: none; stroke: rgb(171, 99, 250); stroke-opacity: 1; stroke-width: 2px; opacity: 1;\"/></g><g class=\"points\"/><g class=\"text\"/></g><g class=\"trace scatter trace82a61b\" style=\"stroke-miterlimit: 2; opacity: 1;\"><g class=\"fills\"/><g class=\"errorbars\"/><g class=\"lines\"><path class=\"js-line\" d=\"M645.3,80.09L791,80.09\" style=\"vector-effect: non-scaling-stroke; fill: none; stroke: rgb(255, 161, 90); stroke-opacity: 1; stroke-width: 2px; opacity: 1;\"/></g><g class=\"points\"/><g class=\"text\"/></g></g></g><g class=\"overplot\"/><path class=\"xlines-above crisp\" d=\"M0,0\" style=\"fill: none;\"/><path class=\"ylines-above crisp\" d=\"M0,0\" style=\"fill: none;\"/><g class=\"overlines-above\"/><g class=\"xaxislayer-above\"><g class=\"x2tick\"><text text-anchor=\"middle\" x=\"0\" y=\"533\" transform=\"translate(125.69,0)\" style=\"font-family: 'Open Sans', verdana, arial, sans-serif; font-size: 12px; fill: rgb(42, 63, 95); fill-opacity: 1; white-space: pre; opacity: 1;\">2008</text></g><g class=\"x2tick\"><text text-anchor=\"middle\" x=\"0\" y=\"533\" style=\"font-family: 'Open Sans', verdana, arial, sans-serif; font-size: 12px; fill: rgb(42, 63, 95); fill-opacity: 1; white-space: pre; opacity: 1;\" transform=\"translate(225.7,0)\">2010</text></g><g class=\"x2tick\"><text text-anchor=\"middle\" x=\"0\" y=\"533\" style=\"font-family: 'Open Sans', verdana, arial, sans-serif; font-size: 12px; fill: rgb(42, 63, 95); fill-opacity: 1; white-space: pre; opacity: 1;\" transform=\"translate(325.56,0)\">2012</text></g><g class=\"x2tick\"><text text-anchor=\"middle\" x=\"0\" y=\"533\" style=\"font-family: 'Open Sans', verdana, arial, sans-serif; font-size: 12px; fill: rgb(42, 63, 95); fill-opacity: 1; white-space: pre; opacity: 1;\" transform=\"translate(425.57,0)\">2014</text></g><g class=\"x2tick\"><text text-anchor=\"middle\" x=\"0\" y=\"533\" style=\"font-family: 'Open Sans', verdana, arial, sans-serif; font-size: 12px; fill: rgb(42, 63, 95); fill-opacity: 1; white-space: pre; opacity: 1;\" transform=\"translate(525.4300000000001,0)\">2016</text></g><g class=\"x2tick\"><text text-anchor=\"middle\" x=\"0\" y=\"533\" style=\"font-family: 'Open Sans', verdana, arial, sans-serif; font-size: 12px; fill: rgb(42, 63, 95); fill-opacity: 1; white-space: pre; opacity: 1;\" transform=\"translate(625.44,0)\">2018</text></g><g class=\"x2tick\"><text text-anchor=\"middle\" x=\"0\" y=\"533\" style=\"font-family: 'Open Sans', verdana, arial, sans-serif; font-size: 12px; fill: rgb(42, 63, 95); fill-opacity: 1; white-space: pre; opacity: 1;\" transform=\"translate(725.3,0)\">2020</text></g><g class=\"x2tick\"><text text-anchor=\"middle\" x=\"0\" y=\"533\" style=\"font-family: 'Open Sans', verdana, arial, sans-serif; font-size: 12px; fill: rgb(42, 63, 95); fill-opacity: 1; white-space: pre; opacity: 1;\" transform=\"translate(825.31,0)\">2022</text></g></g><g class=\"yaxislayer-above\"><g class=\"y2tick\"><text text-anchor=\"end\" x=\"79\" y=\"4.199999999999999\" transform=\"translate(0,500.9)\" style=\"font-family: 'Open Sans', verdana, arial, sans-serif; font-size: 12px; fill: rgb(42, 63, 95); fill-opacity: 1; white-space: pre; opacity: 1;\">50</text></g><g class=\"y2tick\"><text text-anchor=\"end\" x=\"79\" y=\"4.199999999999999\" style=\"font-family: 'Open Sans', verdana, arial, sans-serif; font-size: 12px; fill: rgb(42, 63, 95); fill-opacity: 1; white-space: pre; opacity: 1;\" transform=\"translate(0,427.19)\">100</text></g><g class=\"y2tick\"><text text-anchor=\"end\" x=\"79\" y=\"4.199999999999999\" style=\"font-family: 'Open Sans', verdana, arial, sans-serif; font-size: 12px; fill: rgb(42, 63, 95); fill-opacity: 1; white-space: pre; opacity: 1;\" transform=\"translate(0,353.48)\">150</text></g></g><g class=\"overaxes-above\"/></g></g><g class=\"polarlayer\"/><g class=\"smithlayer\"/><g class=\"ternarylayer\"/><g class=\"geolayer\"/><g class=\"funnelarealayer\"/><g class=\"pielayer\"/><g class=\"iciclelayer\"/><g class=\"treemaplayer\"/><g class=\"sunburstlayer\"/><g class=\"glimages\"/><defs id=\"topdefs-2c17ef\"><g class=\"clips\"/><clipPath id=\"legend2c17ef\"><rect width=\"101\" height=\"115\" x=\"0\" y=\"0\"/></clipPath></defs><g class=\"layer-above\"><g class=\"imagelayer\"/><g class=\"shapelayer\"/></g><g class=\"infolayer\"><g class=\"legend\" pointer-events=\"all\" transform=\"translate(886.82,100)\"><rect class=\"bg\" shape-rendering=\"crispEdges\" width=\"101\" height=\"115\" x=\"0\" y=\"0\" style=\"stroke: rgb(68, 68, 68); stroke-opacity: 1; fill: rgb(255, 255, 255); fill-opacity: 1; stroke-width: 0px;\"/><g class=\"scrollbox\" transform=\"\" clip-path=\"url(#legend2c17ef)\"><g class=\"groups\" transform=\"\"><g class=\"traces\" transform=\"translate(0,14.5)\" style=\"opacity: 1;\"><text class=\"legendtext\" text-anchor=\"start\" x=\"40\" y=\"4.680000000000001\" style=\"font-family: 'Open Sans', verdana, arial, sans-serif; font-size: 12px; fill: rgb(42, 63, 95); fill-opacity: 1; white-space: pre;\">Actual</text><g class=\"layers\" style=\"opacity: 1;\"><g class=\"legendfill\"/><g class=\"legendlines\"><path class=\"js-line\" d=\"M5,0h30\" style=\"fill: none; stroke: rgb(99, 110, 250); stroke-opacity: 1; stroke-width: 2px;\"/></g><g class=\"legendsymbols\"><g class=\"legendpoints\"/></g></g><rect class=\"legendtoggle\" x=\"0\" y=\"-9.5\" width=\"95.890625\" height=\"19\" style=\"fill: rgb(0, 0, 0); fill-opacity: 0;\"/></g><g class=\"traces\" transform=\"translate(0,33.5)\" style=\"opacity: 1;\"><text class=\"legendtext\" text-anchor=\"start\" x=\"40\" y=\"4.680000000000001\" style=\"font-family: 'Open Sans', verdana, arial, sans-serif; font-size: 12px; fill: rgb(42, 63, 95); fill-opacity: 1; white-space: pre;\">Predicted</text><g class=\"layers\" style=\"opacity: 1;\"><g class=\"legendfill\"/><g class=\"legendlines\"><path class=\"js-line\" d=\"M5,0h30\" style=\"fill: none; stroke: rgb(239, 85, 59); stroke-opacity: 1; stroke-width: 2px;\"/></g><g class=\"legendsymbols\"><g class=\"legendpoints\"/></g></g><rect class=\"legendtoggle\" x=\"0\" y=\"-9.5\" width=\"95.890625\" height=\"19\" style=\"fill: rgb(0, 0, 0); fill-opacity: 0;\"/></g></g><g class=\"groups\" transform=\"translate(0,10)\"><g class=\"traces\" transform=\"translate(0,52.5)\" style=\"opacity: 1;\"><text class=\"legendtext\" text-anchor=\"start\" x=\"40\" y=\"4.680000000000001\" style=\"font-family: 'Open Sans', verdana, arial, sans-serif; font-size: 12px; fill: rgb(42, 63, 95); fill-opacity: 1; white-space: pre;\">Train</text><g class=\"layers\" style=\"opacity: 1;\"><g class=\"legendfill\"/><g class=\"legendlines\"><path class=\"js-line\" d=\"M5,0h30\" style=\"fill: none; stroke: rgb(0, 204, 150); stroke-opacity: 1; stroke-width: 2px;\"/></g><g class=\"legendsymbols\"><g class=\"legendpoints\"/></g></g><rect class=\"legendtoggle\" x=\"0\" y=\"-9.5\" width=\"95.890625\" height=\"19\" style=\"fill: rgb(0, 0, 0); fill-opacity: 0;\"/></g><g class=\"traces\" transform=\"translate(0,71.5)\" style=\"opacity: 1;\"><text class=\"legendtext\" text-anchor=\"start\" x=\"40\" y=\"4.680000000000001\" style=\"font-family: 'Open Sans', verdana, arial, sans-serif; font-size: 12px; fill: rgb(42, 63, 95); fill-opacity: 1; white-space: pre;\">Test</text><g class=\"layers\" style=\"opacity: 1;\"><g class=\"legendfill\"/><g class=\"legendlines\"><path class=\"js-line\" d=\"M5,0h30\" style=\"fill: none; stroke: rgb(171, 99, 250); stroke-opacity: 1; stroke-width: 2px;\"/></g><g class=\"legendsymbols\"><g class=\"legendpoints\"/></g></g><rect class=\"legendtoggle\" x=\"0\" y=\"-9.5\" width=\"95.890625\" height=\"19\" style=\"fill: rgb(0, 0, 0); fill-opacity: 0;\"/></g><g class=\"traces\" transform=\"translate(0,90.5)\" style=\"opacity: 1;\"><text class=\"legendtext\" text-anchor=\"start\" x=\"40\" y=\"4.680000000000001\" style=\"font-family: 'Open Sans', verdana, arial, sans-serif; font-size: 12px; fill: rgb(42, 63, 95); fill-opacity: 1; white-space: pre;\">Forecast</text><g class=\"layers\" style=\"opacity: 1;\"><g class=\"legendfill\"/><g class=\"legendlines\"><path class=\"js-line\" d=\"M5,0h30\" style=\"fill: none; stroke: rgb(255, 161, 90); stroke-opacity: 1; stroke-width: 2px;\"/></g><g class=\"legendsymbols\"><g class=\"legendpoints\"/></g></g><rect class=\"legendtoggle\" x=\"0\" y=\"-9.5\" width=\"95.890625\" height=\"19\" style=\"fill: rgb(0, 0, 0); fill-opacity: 0;\"/></g></g></g><rect class=\"scrollbar\" rx=\"20\" ry=\"3\" width=\"0\" height=\"0\" x=\"0\" y=\"0\" style=\"fill: rgb(128, 139, 164); fill-opacity: 1;\"/></g><g class=\"g-gtitle\"><text class=\"gtitle\" x=\"50\" y=\"50\" text-anchor=\"start\" dy=\"0em\" style=\"font-family: 'Open Sans', verdana, arial, sans-serif; font-size: 17px; fill: rgb(42, 63, 95); opacity: 1; font-weight: normal; white-space: pre;\">Simple Exponential Smoothing Predictions - DEN</text></g><g class=\"g-xtitle\"/><g class=\"g-x2title\"/><g class=\"g-ytitle\"/><g class=\"g-y2title\"/></g></svg>"
     },
     "metadata": {},
     "output_type": "display_data"
    }
   ],
   "source": [
    "model_name='Simple Exponential Smoothing'\n",
    "span = 12\n",
    "alpha = 2/(span+1)\n",
    "\n",
    "# Train\n",
    "model = SimpleExpSmoothing(train[dep_var]).fit(smoothing_level=alpha,optimized=False)\n",
    "\n",
    "# Predict\n",
    "predictions = model.predict(start=start, end=end)\n",
    "\n",
    "# Forecast accuracy\n",
    "forecast_accuracy(model_name, test[dep_var], predictions, True, True)"
   ]
  },
  {
   "attachments": {},
   "cell_type": "markdown",
   "metadata": {},
   "source": [
    "#### Double Explonential Smoothing"
   ]
  },
  {
   "cell_type": "code",
   "execution_count": 31,
   "metadata": {},
   "outputs": [
    {
     "name": "stdout",
     "output_type": "stream",
     "text": [
      "Double Exponential Smoothing Model Performance:\n",
      "Mean Absolute Error: 24.37.\n",
      "Mean Squared Error: 831.54.\n",
      "Root Mean Squared Error: 28.84.\n",
      "R^2 Score = -0.94.\n",
      "Mean Absolute Percentage Error: 33.69%.\n",
      "Accuracy = 66.31%.\n"
     ]
    },
    {
     "data": {
      "image/svg+xml": "<svg class=\"main-svg\" xmlns=\"http://www.w3.org/2000/svg\" xmlns:xlink=\"http://www.w3.org/1999/xlink\" width=\"1000\" height=\"600\" style=\"\" viewBox=\"0 0 1000 600\"><rect x=\"0\" y=\"0\" width=\"1000\" height=\"600\" style=\"fill: rgb(255, 255, 255); fill-opacity: 1;\"/><defs id=\"defs-372eca\"><g class=\"clips\"><clipPath id=\"clip372ecaxyplot\" class=\"plotclip\"><rect width=\"791\" height=\"178.50000000000003\"/></clipPath><clipPath id=\"clip372ecax2y2plot\" class=\"plotclip\"><rect width=\"791\" height=\"178.5\"/></clipPath><clipPath class=\"axesclip\" id=\"clip372ecax\"><rect x=\"80\" y=\"0\" width=\"791\" height=\"600\"/></clipPath><clipPath class=\"axesclip\" id=\"clip372ecay\"><rect x=\"0\" y=\"100\" width=\"1000\" height=\"178.50000000000003\"/></clipPath><clipPath class=\"axesclip\" id=\"clip372ecaxy\"><rect x=\"80\" y=\"100\" width=\"791\" height=\"178.50000000000003\"/></clipPath><clipPath class=\"axesclip\" id=\"clip372ecay2\"><rect x=\"0\" y=\"341.5\" width=\"1000\" height=\"178.5\"/></clipPath><clipPath class=\"axesclip\" id=\"clip372ecaxy2\"><rect x=\"80\" y=\"341.5\" width=\"791\" height=\"178.5\"/></clipPath><clipPath class=\"axesclip\" id=\"clip372ecax2\"><rect x=\"80\" y=\"0\" width=\"791\" height=\"600\"/></clipPath><clipPath class=\"axesclip\" id=\"clip372ecax2y\"><rect x=\"80\" y=\"100\" width=\"791\" height=\"178.50000000000003\"/></clipPath><clipPath class=\"axesclip\" id=\"clip372ecax2y2\"><rect x=\"80\" y=\"341.5\" width=\"791\" height=\"178.5\"/></clipPath></g><g class=\"gradients\"/><g class=\"patterns\"/></defs><g class=\"bglayer\"><rect class=\"bg\" x=\"80\" y=\"100\" width=\"791\" height=\"178.50000000000003\" style=\"fill: rgb(229, 236, 246); fill-opacity: 1; stroke-width: 0;\"/><rect class=\"bg\" x=\"80\" y=\"341.5\" width=\"791\" height=\"178.5\" style=\"fill: rgb(229, 236, 246); fill-opacity: 1; stroke-width: 0;\"/></g><g class=\"layer-below\"><g class=\"imagelayer\"/><g class=\"shapelayer\"/></g><g class=\"cartesianlayer\"><g class=\"subplot xy\"><g class=\"layer-subplot\"><g class=\"shapelayer\"/><g class=\"imagelayer\"/></g><g class=\"minor-gridlayer\"><g class=\"x\"/><g class=\"y\"/></g><g class=\"gridlayer\"><g class=\"x\"><path class=\"xgrid crisp\" transform=\"translate(215.18,0)\" d=\"M0,100v178.50000000000003\" style=\"stroke: rgb(255, 255, 255); stroke-opacity: 1; stroke-width: 1px;\"/><path class=\"xgrid crisp\" transform=\"translate(351.84,0)\" d=\"M0,100v178.50000000000003\" style=\"stroke: rgb(255, 255, 255); stroke-opacity: 1; stroke-width: 1px;\"/><path class=\"xgrid crisp\" transform=\"translate(486.27,0)\" d=\"M0,100v178.50000000000003\" style=\"stroke: rgb(255, 255, 255); stroke-opacity: 1; stroke-width: 1px;\"/><path class=\"xgrid crisp\" transform=\"translate(622.93,0)\" d=\"M0,100v178.50000000000003\" style=\"stroke: rgb(255, 255, 255); stroke-opacity: 1; stroke-width: 1px;\"/><path class=\"xgrid crisp\" transform=\"translate(757.36,0)\" d=\"M0,100v178.50000000000003\" style=\"stroke: rgb(255, 255, 255); stroke-opacity: 1; stroke-width: 1px;\"/></g><g class=\"y\"><path class=\"ygrid crisp\" transform=\"translate(0,259.76)\" d=\"M80,0h791\" style=\"stroke: rgb(255, 255, 255); stroke-opacity: 1; stroke-width: 1px;\"/><path class=\"ygrid crisp\" transform=\"translate(0,221.39)\" d=\"M80,0h791\" style=\"stroke: rgb(255, 255, 255); stroke-opacity: 1; stroke-width: 1px;\"/><path class=\"ygrid crisp\" transform=\"translate(0,183.01999999999998)\" d=\"M80,0h791\" style=\"stroke: rgb(255, 255, 255); stroke-opacity: 1; stroke-width: 1px;\"/><path class=\"ygrid crisp\" transform=\"translate(0,144.65)\" d=\"M80,0h791\" style=\"stroke: rgb(255, 255, 255); stroke-opacity: 1; stroke-width: 1px;\"/><path class=\"ygrid crisp\" transform=\"translate(0,106.28)\" d=\"M80,0h791\" style=\"stroke: rgb(255, 255, 255); stroke-opacity: 1; stroke-width: 1px;\"/></g></g><g class=\"zerolinelayer\"/><path class=\"xlines-below\"/><path class=\"ylines-below\"/><g class=\"overlines-below\"/><g class=\"xaxislayer-below\"/><g class=\"yaxislayer-below\"/><g class=\"overaxes-below\"/><g class=\"plot\" transform=\"translate(80,100)\" clip-path=\"url(#clip372ecaxyplot)\"><g class=\"scatterlayer mlayer\"><g class=\"trace scatter trace57c693\" style=\"stroke-miterlimit: 2; opacity: 1;\"><g class=\"fills\"/><g class=\"errorbars\"/><g class=\"lines\"><path class=\"js-line\" d=\"M0,66.77L23.02,107.13L44.56,105.35L67.59,160.29L89.87,146.25L112.89,73.81L135.18,62.07L158.2,77.95L181.22,82.91L203.51,106.36L226.53,71.69L248.81,21.17L271.84,159.99L294.86,163.74L315.66,8.92L338.68,100.75L360.96,85.27L383.99,46.41L406.27,123.75L429.29,97.57L452.32,115.74L474.6,133.17L497.62,108.04L519.91,76.38L542.93,169.58L565.95,160.5L586.75,110.57L609.78,150.69L632.06,122.94L655.08,108.2L677.36,164.41L700.39,132L723.41,129.46L745.69,153.54L768.72,128.3L791,105.08\" style=\"vector-effect: non-scaling-stroke; fill: none; stroke: rgb(99, 110, 250); stroke-opacity: 1; stroke-width: 2px; opacity: 1;\"/></g><g class=\"points\"/><g class=\"text\"/></g><g class=\"trace scatter tracea61662\" style=\"stroke-miterlimit: 2; opacity: 1;\"><g class=\"fills\"/><g class=\"errorbars\"/><g class=\"lines\"><path class=\"js-line\" d=\"M0,78.14L791,66.54\" style=\"vector-effect: non-scaling-stroke; fill: none; stroke: rgb(239, 85, 59); stroke-opacity: 1; stroke-width: 2px; opacity: 1;\"/></g><g class=\"points\"/><g class=\"text\"/></g></g></g><g class=\"overplot\"/><path class=\"xlines-above crisp\" d=\"M0,0\" style=\"fill: none;\"/><path class=\"ylines-above crisp\" d=\"M0,0\" style=\"fill: none;\"/><g class=\"overlines-above\"/><g class=\"xaxislayer-above\"><g class=\"xtick\"><text text-anchor=\"middle\" x=\"0\" y=\"291.5\" transform=\"translate(80,0)\" style=\"font-family: 'Open Sans', verdana, arial, sans-serif; font-size: 12px; fill: rgb(42, 63, 95); fill-opacity: 1; white-space: pre; opacity: 1;\">Jan 2020</text></g><g class=\"xtick\"><text text-anchor=\"middle\" x=\"0\" y=\"291.5\" style=\"font-family: 'Open Sans', verdana, arial, sans-serif; font-size: 12px; fill: rgb(42, 63, 95); fill-opacity: 1; white-space: pre; opacity: 1;\" transform=\"translate(215.18,0)\">Jul 2020</text></g><g class=\"xtick\"><text text-anchor=\"middle\" x=\"0\" y=\"291.5\" style=\"font-family: 'Open Sans', verdana, arial, sans-serif; font-size: 12px; fill: rgb(42, 63, 95); fill-opacity: 1; white-space: pre; opacity: 1;\" transform=\"translate(351.84,0)\">Jan 2021</text></g><g class=\"xtick\"><text text-anchor=\"middle\" x=\"0\" y=\"291.5\" style=\"font-family: 'Open Sans', verdana, arial, sans-serif; font-size: 12px; fill: rgb(42, 63, 95); fill-opacity: 1; white-space: pre; opacity: 1;\" transform=\"translate(486.27,0)\">Jul 2021</text></g><g class=\"xtick\"><text text-anchor=\"middle\" x=\"0\" y=\"291.5\" style=\"font-family: 'Open Sans', verdana, arial, sans-serif; font-size: 12px; fill: rgb(42, 63, 95); fill-opacity: 1; white-space: pre; opacity: 1;\" transform=\"translate(622.93,0)\">Jan 2022</text></g><g class=\"xtick\"><text text-anchor=\"middle\" x=\"0\" y=\"291.5\" style=\"font-family: 'Open Sans', verdana, arial, sans-serif; font-size: 12px; fill: rgb(42, 63, 95); fill-opacity: 1; white-space: pre; opacity: 1;\" transform=\"translate(757.36,0)\">Jul 2022</text></g></g><g class=\"yaxislayer-above\"><g class=\"ytick\"><text text-anchor=\"end\" x=\"79\" y=\"4.199999999999999\" transform=\"translate(0,259.76)\" style=\"font-family: 'Open Sans', verdana, arial, sans-serif; font-size: 12px; fill: rgb(42, 63, 95); fill-opacity: 1; white-space: pre; opacity: 1;\">60</text></g><g class=\"ytick\"><text text-anchor=\"end\" x=\"79\" y=\"4.199999999999999\" style=\"font-family: 'Open Sans', verdana, arial, sans-serif; font-size: 12px; fill: rgb(42, 63, 95); fill-opacity: 1; white-space: pre; opacity: 1;\" transform=\"translate(0,221.39)\">80</text></g><g class=\"ytick\"><text text-anchor=\"end\" x=\"79\" y=\"4.199999999999999\" style=\"font-family: 'Open Sans', verdana, arial, sans-serif; font-size: 12px; fill: rgb(42, 63, 95); fill-opacity: 1; white-space: pre; opacity: 1;\" transform=\"translate(0,183.01999999999998)\">100</text></g><g class=\"ytick\"><text text-anchor=\"end\" x=\"79\" y=\"4.199999999999999\" style=\"font-family: 'Open Sans', verdana, arial, sans-serif; font-size: 12px; fill: rgb(42, 63, 95); fill-opacity: 1; white-space: pre; opacity: 1;\" transform=\"translate(0,144.65)\">120</text></g><g class=\"ytick\"><text text-anchor=\"end\" x=\"79\" y=\"4.199999999999999\" style=\"font-family: 'Open Sans', verdana, arial, sans-serif; font-size: 12px; fill: rgb(42, 63, 95); fill-opacity: 1; white-space: pre; opacity: 1;\" transform=\"translate(0,106.28)\">140</text></g></g><g class=\"overaxes-above\"/></g><g class=\"subplot x2y2\"><g class=\"layer-subplot\"><g class=\"shapelayer\"/><g class=\"imagelayer\"/></g><g class=\"minor-gridlayer\"><g class=\"x2\"/><g class=\"y2\"/></g><g class=\"gridlayer\"><g class=\"x2\"><path class=\"x2grid crisp\" transform=\"translate(125.69,0)\" d=\"M0,341.5v178.5\" style=\"stroke: rgb(255, 255, 255); stroke-opacity: 1; stroke-width: 1px;\"/><path class=\"x2grid crisp\" transform=\"translate(225.7,0)\" d=\"M0,341.5v178.5\" style=\"stroke: rgb(255, 255, 255); stroke-opacity: 1; stroke-width: 1px;\"/><path class=\"x2grid crisp\" transform=\"translate(325.56,0)\" d=\"M0,341.5v178.5\" style=\"stroke: rgb(255, 255, 255); stroke-opacity: 1; stroke-width: 1px;\"/><path class=\"x2grid crisp\" transform=\"translate(425.57,0)\" d=\"M0,341.5v178.5\" style=\"stroke: rgb(255, 255, 255); stroke-opacity: 1; stroke-width: 1px;\"/><path class=\"x2grid crisp\" transform=\"translate(525.4300000000001,0)\" d=\"M0,341.5v178.5\" style=\"stroke: rgb(255, 255, 255); stroke-opacity: 1; stroke-width: 1px;\"/><path class=\"x2grid crisp\" transform=\"translate(625.44,0)\" d=\"M0,341.5v178.5\" style=\"stroke: rgb(255, 255, 255); stroke-opacity: 1; stroke-width: 1px;\"/><path class=\"x2grid crisp\" transform=\"translate(725.3,0)\" d=\"M0,341.5v178.5\" style=\"stroke: rgb(255, 255, 255); stroke-opacity: 1; stroke-width: 1px;\"/><path class=\"x2grid crisp\" transform=\"translate(825.31,0)\" d=\"M0,341.5v178.5\" style=\"stroke: rgb(255, 255, 255); stroke-opacity: 1; stroke-width: 1px;\"/></g><g class=\"y2\"><path class=\"y2grid crisp\" transform=\"translate(0,500.9)\" d=\"M80,0h791\" style=\"stroke: rgb(255, 255, 255); stroke-opacity: 1; stroke-width: 1px;\"/><path class=\"y2grid crisp\" transform=\"translate(0,427.19)\" d=\"M80,0h791\" style=\"stroke: rgb(255, 255, 255); stroke-opacity: 1; stroke-width: 1px;\"/><path class=\"y2grid crisp\" transform=\"translate(0,353.48)\" d=\"M80,0h791\" style=\"stroke: rgb(255, 255, 255); stroke-opacity: 1; stroke-width: 1px;\"/></g></g><g class=\"zerolinelayer\"/><path class=\"xlines-below\"/><path class=\"ylines-below\"/><g class=\"overlines-below\"/><g class=\"xaxislayer-below\"/><g class=\"yaxislayer-below\"/><g class=\"overaxes-below\"/><g class=\"plot\" transform=\"translate(80,341.5)\" clip-path=\"url(#clip372ecax2y2plot)\"><g class=\"scatterlayer mlayer\"><g class=\"trace scatter trace3d2f09\" style=\"stroke-miterlimit: 2; opacity: 1;\"><g class=\"fills\"/><g class=\"errorbars\"/><g class=\"lines\"><path class=\"js-line\" d=\"M0,140.57L3.83,109.47L8.07,128.04L12.18,110.33L16.42,103.15L20.52,118.11L24.76,118.68L29,118.06L33.11,108.94L37.35,103.08L41.45,114.87L45.69,109.91L49.93,122.14L53.9,125L58.14,95.33L62.25,108.1L66.49,101.49L70.59,121.81L74.83,136L79.07,130.42L83.18,136.18L87.42,161.81L91.52,159.39L95.76,166.46L100,169.58L103.83,148.99L108.08,155.75L112.18,153.25L116.42,136.57L120.52,155.38L124.77,165.41L129.01,149.56L133.11,147.77L137.35,155.55L141.46,132.16L145.7,141.98L149.94,159.58L153.77,113.69L158.01,130.79L162.11,122.05L166.35,100.09L170.46,133.22L174.7,132.47L178.94,117.25L183.04,116.75L187.28,113.71L191.39,100.74L195.63,127.21L199.87,134.3L203.7,89.5L207.94,118.19L212.05,91.29L216.29,87.39L220.39,121.3L224.63,126.17L228.87,115.03L232.98,127.16L237.22,104.48L241.32,101.78L245.56,122.95L249.8,111.78L253.77,116.04L258.01,129.8L262.12,90.83L266.36,113.01L270.46,92.91L274.7,117.84L278.94,114.83L283.05,103.52L287.29,95.43L291.39,142.19L295.63,107.12L299.87,128.94L303.7,105.64L307.95,98.86L316.29,83.93L320.39,112.12L324.64,112.63L328.88,109.94L332.98,90.55L337.22,97.78L341.33,111.25L345.57,94.07L349.81,107.04L353.64,89.58L357.88,92.32L361.98,89.01L366.22,83.03L370.33,111.35L374.57,108.43L378.81,110.19L382.91,93.88L387.15,103.92L391.26,101.59L395.5,96.13L399.74,117.42L403.57,65.85L407.81,88.21L411.92,87.56L416.16,50.63L420.26,94.41L424.5,95.17L428.74,81.26L432.85,89.16L437.09,87.01L441.19,75.42L445.43,92.89L449.67,91.09L453.64,69.17L457.88,63.13L461.99,52.27L466.23,30.88L470.33,98.77L474.57,84.49L478.81,75.6L482.92,87.64L487.16,79.23L491.26,67.68L495.5,66.26L499.74,83.78L503.58,38.51L507.82,82.11L511.92,42.11L516.16,27.81L520.27,102.81L524.51,102.09L528.75,110.47L532.85,74.53L537.09,78.9L541.2,92.02L545.44,62.77L549.68,85.24L553.51,63.74L557.75,72.46L561.85,39.7L566.09,40.01L570.2,92.02L574.44,56.21L578.68,130.5L582.78,90.65L587.03,79.63L591.13,114.12L595.37,50.85L599.61,73.91L603.44,8.93L607.68,93.97L611.79,69.22L616.03,55.22L620.13,89.5L624.37,72.93L628.61,96.59L632.72,75.84L636.96,78.28L641.06,100.67\" style=\"vector-effect: non-scaling-stroke; fill: none; stroke: rgb(0, 204, 150); stroke-opacity: 1; stroke-width: 2px; opacity: 1;\"/></g><g class=\"points\"/><g class=\"text\"/></g><g class=\"trace scatter trace06cae1\" style=\"stroke-miterlimit: 2; opacity: 1;\"><g class=\"fills\"/><g class=\"errorbars\"/><g class=\"lines\"><path class=\"js-line\" d=\"M645.3,73.2L649.54,104.21L653.51,102.84L657.75,145.07L661.86,134.27L666.1,78.61L670.2,69.59L674.44,81.79L678.68,85.6L682.79,103.62L687.03,76.98L691.13,38.16L695.37,144.83L699.62,147.71L703.45,28.75L707.69,99.31L711.79,87.42L716.03,57.56L720.14,116.99L724.38,96.87L728.62,110.83L732.72,124.22L736.96,104.92L741.07,80.59L745.31,152.2L749.55,145.22L753.38,106.86L757.62,137.69L761.72,116.36L765.96,105.04L770.07,148.22L774.31,123.32L778.55,121.37L782.65,139.88L786.9,120.48L791,102.64\" style=\"vector-effect: non-scaling-stroke; fill: none; stroke: rgb(171, 99, 250); stroke-opacity: 1; stroke-width: 2px; opacity: 1;\"/></g><g class=\"points\"/><g class=\"text\"/></g><g class=\"trace scatter trace783416\" style=\"stroke-miterlimit: 2; opacity: 1;\"><g class=\"fills\"/><g class=\"errorbars\"/><g class=\"lines\"><path class=\"js-line\" d=\"M645.3,81.94L791,73.02\" style=\"vector-effect: non-scaling-stroke; fill: none; stroke: rgb(255, 161, 90); stroke-opacity: 1; stroke-width: 2px; opacity: 1;\"/></g><g class=\"points\"/><g class=\"text\"/></g></g></g><g class=\"overplot\"/><path class=\"xlines-above crisp\" d=\"M0,0\" style=\"fill: none;\"/><path class=\"ylines-above crisp\" d=\"M0,0\" style=\"fill: none;\"/><g class=\"overlines-above\"/><g class=\"xaxislayer-above\"><g class=\"x2tick\"><text text-anchor=\"middle\" x=\"0\" y=\"533\" transform=\"translate(125.69,0)\" style=\"font-family: 'Open Sans', verdana, arial, sans-serif; font-size: 12px; fill: rgb(42, 63, 95); fill-opacity: 1; white-space: pre; opacity: 1;\">2008</text></g><g class=\"x2tick\"><text text-anchor=\"middle\" x=\"0\" y=\"533\" style=\"font-family: 'Open Sans', verdana, arial, sans-serif; font-size: 12px; fill: rgb(42, 63, 95); fill-opacity: 1; white-space: pre; opacity: 1;\" transform=\"translate(225.7,0)\">2010</text></g><g class=\"x2tick\"><text text-anchor=\"middle\" x=\"0\" y=\"533\" style=\"font-family: 'Open Sans', verdana, arial, sans-serif; font-size: 12px; fill: rgb(42, 63, 95); fill-opacity: 1; white-space: pre; opacity: 1;\" transform=\"translate(325.56,0)\">2012</text></g><g class=\"x2tick\"><text text-anchor=\"middle\" x=\"0\" y=\"533\" style=\"font-family: 'Open Sans', verdana, arial, sans-serif; font-size: 12px; fill: rgb(42, 63, 95); fill-opacity: 1; white-space: pre; opacity: 1;\" transform=\"translate(425.57,0)\">2014</text></g><g class=\"x2tick\"><text text-anchor=\"middle\" x=\"0\" y=\"533\" style=\"font-family: 'Open Sans', verdana, arial, sans-serif; font-size: 12px; fill: rgb(42, 63, 95); fill-opacity: 1; white-space: pre; opacity: 1;\" transform=\"translate(525.4300000000001,0)\">2016</text></g><g class=\"x2tick\"><text text-anchor=\"middle\" x=\"0\" y=\"533\" style=\"font-family: 'Open Sans', verdana, arial, sans-serif; font-size: 12px; fill: rgb(42, 63, 95); fill-opacity: 1; white-space: pre; opacity: 1;\" transform=\"translate(625.44,0)\">2018</text></g><g class=\"x2tick\"><text text-anchor=\"middle\" x=\"0\" y=\"533\" style=\"font-family: 'Open Sans', verdana, arial, sans-serif; font-size: 12px; fill: rgb(42, 63, 95); fill-opacity: 1; white-space: pre; opacity: 1;\" transform=\"translate(725.3,0)\">2020</text></g><g class=\"x2tick\"><text text-anchor=\"middle\" x=\"0\" y=\"533\" style=\"font-family: 'Open Sans', verdana, arial, sans-serif; font-size: 12px; fill: rgb(42, 63, 95); fill-opacity: 1; white-space: pre; opacity: 1;\" transform=\"translate(825.31,0)\">2022</text></g></g><g class=\"yaxislayer-above\"><g class=\"y2tick\"><text text-anchor=\"end\" x=\"79\" y=\"4.199999999999999\" transform=\"translate(0,500.9)\" style=\"font-family: 'Open Sans', verdana, arial, sans-serif; font-size: 12px; fill: rgb(42, 63, 95); fill-opacity: 1; white-space: pre; opacity: 1;\">50</text></g><g class=\"y2tick\"><text text-anchor=\"end\" x=\"79\" y=\"4.199999999999999\" style=\"font-family: 'Open Sans', verdana, arial, sans-serif; font-size: 12px; fill: rgb(42, 63, 95); fill-opacity: 1; white-space: pre; opacity: 1;\" transform=\"translate(0,427.19)\">100</text></g><g class=\"y2tick\"><text text-anchor=\"end\" x=\"79\" y=\"4.199999999999999\" style=\"font-family: 'Open Sans', verdana, arial, sans-serif; font-size: 12px; fill: rgb(42, 63, 95); fill-opacity: 1; white-space: pre; opacity: 1;\" transform=\"translate(0,353.48)\">150</text></g></g><g class=\"overaxes-above\"/></g></g><g class=\"polarlayer\"/><g class=\"smithlayer\"/><g class=\"ternarylayer\"/><g class=\"geolayer\"/><g class=\"funnelarealayer\"/><g class=\"pielayer\"/><g class=\"iciclelayer\"/><g class=\"treemaplayer\"/><g class=\"sunburstlayer\"/><g class=\"glimages\"/><defs id=\"topdefs-372eca\"><g class=\"clips\"/><clipPath id=\"legend372eca\"><rect width=\"101\" height=\"115\" x=\"0\" y=\"0\"/></clipPath></defs><g class=\"layer-above\"><g class=\"imagelayer\"/><g class=\"shapelayer\"/></g><g class=\"infolayer\"><g class=\"legend\" pointer-events=\"all\" transform=\"translate(886.82,100)\"><rect class=\"bg\" shape-rendering=\"crispEdges\" width=\"101\" height=\"115\" x=\"0\" y=\"0\" style=\"stroke: rgb(68, 68, 68); stroke-opacity: 1; fill: rgb(255, 255, 255); fill-opacity: 1; stroke-width: 0px;\"/><g class=\"scrollbox\" transform=\"\" clip-path=\"url(#legend372eca)\"><g class=\"groups\" transform=\"\"><g class=\"traces\" transform=\"translate(0,14.5)\" style=\"opacity: 1;\"><text class=\"legendtext\" text-anchor=\"start\" x=\"40\" y=\"4.680000000000001\" style=\"font-family: 'Open Sans', verdana, arial, sans-serif; font-size: 12px; fill: rgb(42, 63, 95); fill-opacity: 1; white-space: pre;\">Actual</text><g class=\"layers\" style=\"opacity: 1;\"><g class=\"legendfill\"/><g class=\"legendlines\"><path class=\"js-line\" d=\"M5,0h30\" style=\"fill: none; stroke: rgb(99, 110, 250); stroke-opacity: 1; stroke-width: 2px;\"/></g><g class=\"legendsymbols\"><g class=\"legendpoints\"/></g></g><rect class=\"legendtoggle\" x=\"0\" y=\"-9.5\" width=\"95.890625\" height=\"19\" style=\"fill: rgb(0, 0, 0); fill-opacity: 0;\"/></g><g class=\"traces\" transform=\"translate(0,33.5)\" style=\"opacity: 1;\"><text class=\"legendtext\" text-anchor=\"start\" x=\"40\" y=\"4.680000000000001\" style=\"font-family: 'Open Sans', verdana, arial, sans-serif; font-size: 12px; fill: rgb(42, 63, 95); fill-opacity: 1; white-space: pre;\">Predicted</text><g class=\"layers\" style=\"opacity: 1;\"><g class=\"legendfill\"/><g class=\"legendlines\"><path class=\"js-line\" d=\"M5,0h30\" style=\"fill: none; stroke: rgb(239, 85, 59); stroke-opacity: 1; stroke-width: 2px;\"/></g><g class=\"legendsymbols\"><g class=\"legendpoints\"/></g></g><rect class=\"legendtoggle\" x=\"0\" y=\"-9.5\" width=\"95.890625\" height=\"19\" style=\"fill: rgb(0, 0, 0); fill-opacity: 0;\"/></g></g><g class=\"groups\" transform=\"translate(0,10)\"><g class=\"traces\" transform=\"translate(0,52.5)\" style=\"opacity: 1;\"><text class=\"legendtext\" text-anchor=\"start\" x=\"40\" y=\"4.680000000000001\" style=\"font-family: 'Open Sans', verdana, arial, sans-serif; font-size: 12px; fill: rgb(42, 63, 95); fill-opacity: 1; white-space: pre;\">Train</text><g class=\"layers\" style=\"opacity: 1;\"><g class=\"legendfill\"/><g class=\"legendlines\"><path class=\"js-line\" d=\"M5,0h30\" style=\"fill: none; stroke: rgb(0, 204, 150); stroke-opacity: 1; stroke-width: 2px;\"/></g><g class=\"legendsymbols\"><g class=\"legendpoints\"/></g></g><rect class=\"legendtoggle\" x=\"0\" y=\"-9.5\" width=\"95.890625\" height=\"19\" style=\"fill: rgb(0, 0, 0); fill-opacity: 0;\"/></g><g class=\"traces\" transform=\"translate(0,71.5)\" style=\"opacity: 1;\"><text class=\"legendtext\" text-anchor=\"start\" x=\"40\" y=\"4.680000000000001\" style=\"font-family: 'Open Sans', verdana, arial, sans-serif; font-size: 12px; fill: rgb(42, 63, 95); fill-opacity: 1; white-space: pre;\">Test</text><g class=\"layers\" style=\"opacity: 1;\"><g class=\"legendfill\"/><g class=\"legendlines\"><path class=\"js-line\" d=\"M5,0h30\" style=\"fill: none; stroke: rgb(171, 99, 250); stroke-opacity: 1; stroke-width: 2px;\"/></g><g class=\"legendsymbols\"><g class=\"legendpoints\"/></g></g><rect class=\"legendtoggle\" x=\"0\" y=\"-9.5\" width=\"95.890625\" height=\"19\" style=\"fill: rgb(0, 0, 0); fill-opacity: 0;\"/></g><g class=\"traces\" transform=\"translate(0,90.5)\" style=\"opacity: 1;\"><text class=\"legendtext\" text-anchor=\"start\" x=\"40\" y=\"4.680000000000001\" style=\"font-family: 'Open Sans', verdana, arial, sans-serif; font-size: 12px; fill: rgb(42, 63, 95); fill-opacity: 1; white-space: pre;\">Forecast</text><g class=\"layers\" style=\"opacity: 1;\"><g class=\"legendfill\"/><g class=\"legendlines\"><path class=\"js-line\" d=\"M5,0h30\" style=\"fill: none; stroke: rgb(255, 161, 90); stroke-opacity: 1; stroke-width: 2px;\"/></g><g class=\"legendsymbols\"><g class=\"legendpoints\"/></g></g><rect class=\"legendtoggle\" x=\"0\" y=\"-9.5\" width=\"95.890625\" height=\"19\" style=\"fill: rgb(0, 0, 0); fill-opacity: 0;\"/></g></g></g><rect class=\"scrollbar\" rx=\"20\" ry=\"3\" width=\"0\" height=\"0\" x=\"0\" y=\"0\" style=\"fill: rgb(128, 139, 164); fill-opacity: 1;\"/></g><g class=\"g-gtitle\"><text class=\"gtitle\" x=\"50\" y=\"50\" text-anchor=\"start\" dy=\"0em\" style=\"font-family: 'Open Sans', verdana, arial, sans-serif; font-size: 17px; fill: rgb(42, 63, 95); opacity: 1; font-weight: normal; white-space: pre;\">Double Exponential Smoothing Predictions - DEN</text></g><g class=\"g-xtitle\"/><g class=\"g-x2title\"/><g class=\"g-ytitle\"/><g class=\"g-y2title\"/></g></svg>"
     },
     "metadata": {},
     "output_type": "display_data"
    }
   ],
   "source": [
    "model_name='Double Exponential Smoothing'\n",
    "\n",
    "# Train\n",
    "model = ExponentialSmoothing(train[dep_var],trend='add',seasonal_periods=12).fit()\n",
    "# Predict\n",
    "predictions = model.predict(start=start, end=end)\n",
    "\n",
    "# Forecast accuracy\n",
    "forecast_accuracy(model_name, test[dep_var], predictions, True, True)"
   ]
  },
  {
   "attachments": {},
   "cell_type": "markdown",
   "metadata": {},
   "source": [
    "#### Triple Exponential Smoothing"
   ]
  },
  {
   "cell_type": "code",
   "execution_count": 32,
   "metadata": {},
   "outputs": [
    {
     "name": "stdout",
     "output_type": "stream",
     "text": [
      "Triple Exponential Smoothing Model Performance:\n",
      "Mean Absolute Error: 26.22.\n",
      "Mean Squared Error: 962.72.\n",
      "Root Mean Squared Error: 31.03.\n",
      "R^2 Score = -1.24.\n",
      "Mean Absolute Percentage Error: 36.02%.\n",
      "Accuracy = 63.98%.\n"
     ]
    },
    {
     "data": {
      "image/svg+xml": "<svg class=\"main-svg\" xmlns=\"http://www.w3.org/2000/svg\" xmlns:xlink=\"http://www.w3.org/1999/xlink\" width=\"1000\" height=\"600\" style=\"\" viewBox=\"0 0 1000 600\"><rect x=\"0\" y=\"0\" width=\"1000\" height=\"600\" style=\"fill: rgb(255, 255, 255); fill-opacity: 1;\"/><defs id=\"defs-ddc92e\"><g class=\"clips\"><clipPath id=\"clipddc92exyplot\" class=\"plotclip\"><rect width=\"791\" height=\"178.50000000000003\"/></clipPath><clipPath id=\"clipddc92ex2y2plot\" class=\"plotclip\"><rect width=\"791\" height=\"178.5\"/></clipPath><clipPath class=\"axesclip\" id=\"clipddc92ex\"><rect x=\"80\" y=\"0\" width=\"791\" height=\"600\"/></clipPath><clipPath class=\"axesclip\" id=\"clipddc92ey\"><rect x=\"0\" y=\"100\" width=\"1000\" height=\"178.50000000000003\"/></clipPath><clipPath class=\"axesclip\" id=\"clipddc92exy\"><rect x=\"80\" y=\"100\" width=\"791\" height=\"178.50000000000003\"/></clipPath><clipPath class=\"axesclip\" id=\"clipddc92ey2\"><rect x=\"0\" y=\"341.5\" width=\"1000\" height=\"178.5\"/></clipPath><clipPath class=\"axesclip\" id=\"clipddc92exy2\"><rect x=\"80\" y=\"341.5\" width=\"791\" height=\"178.5\"/></clipPath><clipPath class=\"axesclip\" id=\"clipddc92ex2\"><rect x=\"80\" y=\"0\" width=\"791\" height=\"600\"/></clipPath><clipPath class=\"axesclip\" id=\"clipddc92ex2y\"><rect x=\"80\" y=\"100\" width=\"791\" height=\"178.50000000000003\"/></clipPath><clipPath class=\"axesclip\" id=\"clipddc92ex2y2\"><rect x=\"80\" y=\"341.5\" width=\"791\" height=\"178.5\"/></clipPath></g><g class=\"gradients\"/><g class=\"patterns\"/></defs><g class=\"bglayer\"><rect class=\"bg\" x=\"80\" y=\"100\" width=\"791\" height=\"178.50000000000003\" style=\"fill: rgb(229, 236, 246); fill-opacity: 1; stroke-width: 0;\"/><rect class=\"bg\" x=\"80\" y=\"341.5\" width=\"791\" height=\"178.5\" style=\"fill: rgb(229, 236, 246); fill-opacity: 1; stroke-width: 0;\"/></g><g class=\"layer-below\"><g class=\"imagelayer\"/><g class=\"shapelayer\"/></g><g class=\"cartesianlayer\"><g class=\"subplot xy\"><g class=\"layer-subplot\"><g class=\"shapelayer\"/><g class=\"imagelayer\"/></g><g class=\"minor-gridlayer\"><g class=\"x\"/><g class=\"y\"/></g><g class=\"gridlayer\"><g class=\"x\"><path class=\"xgrid crisp\" transform=\"translate(215.18,0)\" d=\"M0,100v178.50000000000003\" style=\"stroke: rgb(255, 255, 255); stroke-opacity: 1; stroke-width: 1px;\"/><path class=\"xgrid crisp\" transform=\"translate(351.84,0)\" d=\"M0,100v178.50000000000003\" style=\"stroke: rgb(255, 255, 255); stroke-opacity: 1; stroke-width: 1px;\"/><path class=\"xgrid crisp\" transform=\"translate(486.27,0)\" d=\"M0,100v178.50000000000003\" style=\"stroke: rgb(255, 255, 255); stroke-opacity: 1; stroke-width: 1px;\"/><path class=\"xgrid crisp\" transform=\"translate(622.93,0)\" d=\"M0,100v178.50000000000003\" style=\"stroke: rgb(255, 255, 255); stroke-opacity: 1; stroke-width: 1px;\"/><path class=\"xgrid crisp\" transform=\"translate(757.36,0)\" d=\"M0,100v178.50000000000003\" style=\"stroke: rgb(255, 255, 255); stroke-opacity: 1; stroke-width: 1px;\"/></g><g class=\"y\"><path class=\"ygrid crisp\" transform=\"translate(0,259.76)\" d=\"M80,0h791\" style=\"stroke: rgb(255, 255, 255); stroke-opacity: 1; stroke-width: 1px;\"/><path class=\"ygrid crisp\" transform=\"translate(0,221.39)\" d=\"M80,0h791\" style=\"stroke: rgb(255, 255, 255); stroke-opacity: 1; stroke-width: 1px;\"/><path class=\"ygrid crisp\" transform=\"translate(0,183.01999999999998)\" d=\"M80,0h791\" style=\"stroke: rgb(255, 255, 255); stroke-opacity: 1; stroke-width: 1px;\"/><path class=\"ygrid crisp\" transform=\"translate(0,144.65)\" d=\"M80,0h791\" style=\"stroke: rgb(255, 255, 255); stroke-opacity: 1; stroke-width: 1px;\"/><path class=\"ygrid crisp\" transform=\"translate(0,106.28)\" d=\"M80,0h791\" style=\"stroke: rgb(255, 255, 255); stroke-opacity: 1; stroke-width: 1px;\"/></g></g><g class=\"zerolinelayer\"/><path class=\"xlines-below\"/><path class=\"ylines-below\"/><g class=\"overlines-below\"/><g class=\"xaxislayer-below\"/><g class=\"yaxislayer-below\"/><g class=\"overaxes-below\"/><g class=\"plot\" transform=\"translate(80,100)\" clip-path=\"url(#clipddc92exyplot)\"><g class=\"scatterlayer mlayer\"><g class=\"trace scatter trace1a047d\" style=\"stroke-miterlimit: 2; opacity: 1;\"><g class=\"fills\"/><g class=\"errorbars\"/><g class=\"lines\"><path class=\"js-line\" d=\"M0,66.77L23.02,107.13L44.56,105.35L67.59,160.29L89.87,146.25L112.89,73.81L135.18,62.07L158.2,77.95L181.22,82.91L203.51,106.36L226.53,71.69L248.81,21.17L271.84,159.99L294.86,163.74L315.66,8.92L338.68,100.75L360.96,85.27L383.99,46.41L406.27,123.75L429.29,97.57L452.32,115.74L474.6,133.17L497.62,108.04L519.91,76.38L542.93,169.58L565.95,160.5L586.75,110.57L609.78,150.69L632.06,122.94L655.08,108.2L677.36,164.41L700.39,132L723.41,129.46L745.69,153.54L768.72,128.3L791,105.08\" style=\"vector-effect: non-scaling-stroke; fill: none; stroke: rgb(99, 110, 250); stroke-opacity: 1; stroke-width: 2px; opacity: 1;\"/></g><g class=\"points\"/><g class=\"text\"/></g><g class=\"trace scatter trace0dfe05\" style=\"stroke-miterlimit: 2; opacity: 1;\"><g class=\"fills\"/><g class=\"errorbars\"/><g class=\"lines\"><path class=\"js-line\" d=\"M0,60.18L23.02,84.68L44.56,39.68L67.59,80.84L89.87,51.49L112.89,37.32L135.18,93.76L158.2,79.35L181.22,99.49L203.51,73.6L226.53,71.02L248.81,80.8L271.84,55.75L294.86,80.25L315.66,35.26L338.68,76.42L360.96,47.06L383.99,32.89L406.27,89.33L429.29,74.93L452.32,95.07L474.6,69.18L497.62,66.6L519.91,76.38L542.93,51.33L565.95,75.83L586.75,30.83L609.78,71.99L632.06,42.64L655.08,28.47L677.36,84.91L700.39,70.5L723.41,90.64L745.69,64.75L768.72,62.17L791,71.95\" style=\"vector-effect: non-scaling-stroke; fill: none; stroke: rgb(239, 85, 59); stroke-opacity: 1; stroke-width: 2px; opacity: 1;\"/></g><g class=\"points\"/><g class=\"text\"/></g></g></g><g class=\"overplot\"/><path class=\"xlines-above crisp\" d=\"M0,0\" style=\"fill: none;\"/><path class=\"ylines-above crisp\" d=\"M0,0\" style=\"fill: none;\"/><g class=\"overlines-above\"/><g class=\"xaxislayer-above\"><g class=\"xtick\"><text text-anchor=\"middle\" x=\"0\" y=\"291.5\" transform=\"translate(80,0)\" style=\"font-family: 'Open Sans', verdana, arial, sans-serif; font-size: 12px; fill: rgb(42, 63, 95); fill-opacity: 1; white-space: pre; opacity: 1;\">Jan 2020</text></g><g class=\"xtick\"><text text-anchor=\"middle\" x=\"0\" y=\"291.5\" style=\"font-family: 'Open Sans', verdana, arial, sans-serif; font-size: 12px; fill: rgb(42, 63, 95); fill-opacity: 1; white-space: pre; opacity: 1;\" transform=\"translate(215.18,0)\">Jul 2020</text></g><g class=\"xtick\"><text text-anchor=\"middle\" x=\"0\" y=\"291.5\" style=\"font-family: 'Open Sans', verdana, arial, sans-serif; font-size: 12px; fill: rgb(42, 63, 95); fill-opacity: 1; white-space: pre; opacity: 1;\" transform=\"translate(351.84,0)\">Jan 2021</text></g><g class=\"xtick\"><text text-anchor=\"middle\" x=\"0\" y=\"291.5\" style=\"font-family: 'Open Sans', verdana, arial, sans-serif; font-size: 12px; fill: rgb(42, 63, 95); fill-opacity: 1; white-space: pre; opacity: 1;\" transform=\"translate(486.27,0)\">Jul 2021</text></g><g class=\"xtick\"><text text-anchor=\"middle\" x=\"0\" y=\"291.5\" style=\"font-family: 'Open Sans', verdana, arial, sans-serif; font-size: 12px; fill: rgb(42, 63, 95); fill-opacity: 1; white-space: pre; opacity: 1;\" transform=\"translate(622.93,0)\">Jan 2022</text></g><g class=\"xtick\"><text text-anchor=\"middle\" x=\"0\" y=\"291.5\" style=\"font-family: 'Open Sans', verdana, arial, sans-serif; font-size: 12px; fill: rgb(42, 63, 95); fill-opacity: 1; white-space: pre; opacity: 1;\" transform=\"translate(757.36,0)\">Jul 2022</text></g></g><g class=\"yaxislayer-above\"><g class=\"ytick\"><text text-anchor=\"end\" x=\"79\" y=\"4.199999999999999\" transform=\"translate(0,259.76)\" style=\"font-family: 'Open Sans', verdana, arial, sans-serif; font-size: 12px; fill: rgb(42, 63, 95); fill-opacity: 1; white-space: pre; opacity: 1;\">60</text></g><g class=\"ytick\"><text text-anchor=\"end\" x=\"79\" y=\"4.199999999999999\" style=\"font-family: 'Open Sans', verdana, arial, sans-serif; font-size: 12px; fill: rgb(42, 63, 95); fill-opacity: 1; white-space: pre; opacity: 1;\" transform=\"translate(0,221.39)\">80</text></g><g class=\"ytick\"><text text-anchor=\"end\" x=\"79\" y=\"4.199999999999999\" style=\"font-family: 'Open Sans', verdana, arial, sans-serif; font-size: 12px; fill: rgb(42, 63, 95); fill-opacity: 1; white-space: pre; opacity: 1;\" transform=\"translate(0,183.01999999999998)\">100</text></g><g class=\"ytick\"><text text-anchor=\"end\" x=\"79\" y=\"4.199999999999999\" style=\"font-family: 'Open Sans', verdana, arial, sans-serif; font-size: 12px; fill: rgb(42, 63, 95); fill-opacity: 1; white-space: pre; opacity: 1;\" transform=\"translate(0,144.65)\">120</text></g><g class=\"ytick\"><text text-anchor=\"end\" x=\"79\" y=\"4.199999999999999\" style=\"font-family: 'Open Sans', verdana, arial, sans-serif; font-size: 12px; fill: rgb(42, 63, 95); fill-opacity: 1; white-space: pre; opacity: 1;\" transform=\"translate(0,106.28)\">140</text></g></g><g class=\"overaxes-above\"/></g><g class=\"subplot x2y2\"><g class=\"layer-subplot\"><g class=\"shapelayer\"/><g class=\"imagelayer\"/></g><g class=\"minor-gridlayer\"><g class=\"x2\"/><g class=\"y2\"/></g><g class=\"gridlayer\"><g class=\"x2\"><path class=\"x2grid crisp\" transform=\"translate(125.69,0)\" d=\"M0,341.5v178.5\" style=\"stroke: rgb(255, 255, 255); stroke-opacity: 1; stroke-width: 1px;\"/><path class=\"x2grid crisp\" transform=\"translate(225.7,0)\" d=\"M0,341.5v178.5\" style=\"stroke: rgb(255, 255, 255); stroke-opacity: 1; stroke-width: 1px;\"/><path class=\"x2grid crisp\" transform=\"translate(325.56,0)\" d=\"M0,341.5v178.5\" style=\"stroke: rgb(255, 255, 255); stroke-opacity: 1; stroke-width: 1px;\"/><path class=\"x2grid crisp\" transform=\"translate(425.57,0)\" d=\"M0,341.5v178.5\" style=\"stroke: rgb(255, 255, 255); stroke-opacity: 1; stroke-width: 1px;\"/><path class=\"x2grid crisp\" transform=\"translate(525.4300000000001,0)\" d=\"M0,341.5v178.5\" style=\"stroke: rgb(255, 255, 255); stroke-opacity: 1; stroke-width: 1px;\"/><path class=\"x2grid crisp\" transform=\"translate(625.44,0)\" d=\"M0,341.5v178.5\" style=\"stroke: rgb(255, 255, 255); stroke-opacity: 1; stroke-width: 1px;\"/><path class=\"x2grid crisp\" transform=\"translate(725.3,0)\" d=\"M0,341.5v178.5\" style=\"stroke: rgb(255, 255, 255); stroke-opacity: 1; stroke-width: 1px;\"/><path class=\"x2grid crisp\" transform=\"translate(825.31,0)\" d=\"M0,341.5v178.5\" style=\"stroke: rgb(255, 255, 255); stroke-opacity: 1; stroke-width: 1px;\"/></g><g class=\"y2\"><path class=\"y2grid crisp\" transform=\"translate(0,500.9)\" d=\"M80,0h791\" style=\"stroke: rgb(255, 255, 255); stroke-opacity: 1; stroke-width: 1px;\"/><path class=\"y2grid crisp\" transform=\"translate(0,427.19)\" d=\"M80,0h791\" style=\"stroke: rgb(255, 255, 255); stroke-opacity: 1; stroke-width: 1px;\"/><path class=\"y2grid crisp\" transform=\"translate(0,353.48)\" d=\"M80,0h791\" style=\"stroke: rgb(255, 255, 255); stroke-opacity: 1; stroke-width: 1px;\"/></g></g><g class=\"zerolinelayer\"/><path class=\"xlines-below\"/><path class=\"ylines-below\"/><g class=\"overlines-below\"/><g class=\"xaxislayer-below\"/><g class=\"yaxislayer-below\"/><g class=\"overaxes-below\"/><g class=\"plot\" transform=\"translate(80,341.5)\" clip-path=\"url(#clipddc92ex2y2plot)\"><g class=\"scatterlayer mlayer\"><g class=\"trace scatter trace7bed71\" style=\"stroke-miterlimit: 2; opacity: 1;\"><g class=\"fills\"/><g class=\"errorbars\"/><g class=\"lines\"><path class=\"js-line\" d=\"M0,140.57L3.83,109.47L8.07,128.04L12.18,110.33L16.42,103.15L20.52,118.11L24.76,118.68L29,118.06L33.11,108.94L37.35,103.08L41.45,114.87L45.69,109.91L49.93,122.14L53.9,125L58.14,95.33L62.25,108.1L66.49,101.49L70.59,121.81L74.83,136L79.07,130.42L83.18,136.18L87.42,161.81L91.52,159.39L95.76,166.46L100,169.58L103.83,148.99L108.08,155.75L112.18,153.25L116.42,136.57L120.52,155.38L124.77,165.41L129.01,149.56L133.11,147.77L137.35,155.55L141.46,132.16L145.7,141.98L149.94,159.58L153.77,113.69L158.01,130.79L162.11,122.05L166.35,100.09L170.46,133.22L174.7,132.47L178.94,117.25L183.04,116.75L187.28,113.71L191.39,100.74L195.63,127.21L199.87,134.3L203.7,89.5L207.94,118.19L212.05,91.29L216.29,87.39L220.39,121.3L224.63,126.17L228.87,115.03L232.98,127.16L237.22,104.48L241.32,101.78L245.56,122.95L249.8,111.78L253.77,116.04L258.01,129.8L262.12,90.83L266.36,113.01L270.46,92.91L274.7,117.84L278.94,114.83L283.05,103.52L287.29,95.43L291.39,142.19L295.63,107.12L299.87,128.94L303.7,105.64L307.95,98.86L316.29,83.93L320.39,112.12L324.64,112.63L328.88,109.94L332.98,90.55L337.22,97.78L341.33,111.25L345.57,94.07L349.81,107.04L353.64,89.58L357.88,92.32L361.98,89.01L366.22,83.03L370.33,111.35L374.57,108.43L378.81,110.19L382.91,93.88L387.15,103.92L391.26,101.59L395.5,96.13L399.74,117.42L403.57,65.85L407.81,88.21L411.92,87.56L416.16,50.63L420.26,94.41L424.5,95.17L428.74,81.26L432.85,89.16L437.09,87.01L441.19,75.42L445.43,92.89L449.67,91.09L453.64,69.17L457.88,63.13L461.99,52.27L466.23,30.88L470.33,98.77L474.57,84.49L478.81,75.6L482.92,87.64L487.16,79.23L491.26,67.68L495.5,66.26L499.74,83.78L503.58,38.51L507.82,82.11L511.92,42.11L516.16,27.81L520.27,102.81L524.51,102.09L528.75,110.47L532.85,74.53L537.09,78.9L541.2,92.02L545.44,62.77L549.68,85.24L553.51,63.74L557.75,72.46L561.85,39.7L566.09,40.01L570.2,92.02L574.44,56.21L578.68,130.5L582.78,90.65L587.03,79.63L591.13,114.12L595.37,50.85L599.61,73.91L603.44,8.93L607.68,93.97L611.79,69.22L616.03,55.22L620.13,89.5L624.37,72.93L628.61,96.59L632.72,75.84L636.96,78.28L641.06,100.67\" style=\"vector-effect: non-scaling-stroke; fill: none; stroke: rgb(0, 204, 150); stroke-opacity: 1; stroke-width: 2px; opacity: 1;\"/></g><g class=\"points\"/><g class=\"text\"/></g><g class=\"trace scatter tracec77f44\" style=\"stroke-miterlimit: 2; opacity: 1;\"><g class=\"fills\"/><g class=\"errorbars\"/><g class=\"lines\"><path class=\"js-line\" d=\"M645.3,73.2L649.54,104.21L653.51,102.84L657.75,145.07L661.86,134.27L666.1,78.61L670.2,69.59L674.44,81.79L678.68,85.6L682.79,103.62L687.03,76.98L691.13,38.16L695.37,144.83L699.62,147.71L703.45,28.75L707.69,99.31L711.79,87.42L716.03,57.56L720.14,116.99L724.38,96.87L728.62,110.83L732.72,124.22L736.96,104.92L741.07,80.59L745.31,152.2L749.55,145.22L753.38,106.86L757.62,137.69L761.72,116.36L765.96,105.04L770.07,148.22L774.31,123.32L778.55,121.37L782.65,139.88L786.9,120.48L791,102.64\" style=\"vector-effect: non-scaling-stroke; fill: none; stroke: rgb(171, 99, 250); stroke-opacity: 1; stroke-width: 2px; opacity: 1;\"/></g><g class=\"points\"/><g class=\"text\"/></g><g class=\"trace scatter trace4a43da\" style=\"stroke-miterlimit: 2; opacity: 1;\"><g class=\"fills\"/><g class=\"errorbars\"/><g class=\"lines\"><path class=\"js-line\" d=\"M645.3,68.13L649.54,86.96L653.51,52.39L657.75,84.01L661.86,61.46L666.1,50.57L670.2,93.94L674.44,82.87L678.68,98.34L682.79,78.45L687.03,76.47L691.13,83.98L695.37,64.73L699.62,83.56L703.45,48.99L707.69,80.61L711.79,58.06L716.03,47.17L720.14,90.54L724.38,79.47L728.62,94.94L732.72,75.05L736.96,73.07L741.07,80.58L745.31,61.33L749.55,80.16L753.38,45.58L757.62,77.21L761.72,54.65L765.96,43.77L770.07,87.14L774.31,76.07L778.55,91.54L782.65,71.65L786.9,69.66L791,77.18\" style=\"vector-effect: non-scaling-stroke; fill: none; stroke: rgb(255, 161, 90); stroke-opacity: 1; stroke-width: 2px; opacity: 1;\"/></g><g class=\"points\"/><g class=\"text\"/></g></g></g><g class=\"overplot\"/><path class=\"xlines-above crisp\" d=\"M0,0\" style=\"fill: none;\"/><path class=\"ylines-above crisp\" d=\"M0,0\" style=\"fill: none;\"/><g class=\"overlines-above\"/><g class=\"xaxislayer-above\"><g class=\"x2tick\"><text text-anchor=\"middle\" x=\"0\" y=\"533\" transform=\"translate(125.69,0)\" style=\"font-family: 'Open Sans', verdana, arial, sans-serif; font-size: 12px; fill: rgb(42, 63, 95); fill-opacity: 1; white-space: pre; opacity: 1;\">2008</text></g><g class=\"x2tick\"><text text-anchor=\"middle\" x=\"0\" y=\"533\" style=\"font-family: 'Open Sans', verdana, arial, sans-serif; font-size: 12px; fill: rgb(42, 63, 95); fill-opacity: 1; white-space: pre; opacity: 1;\" transform=\"translate(225.7,0)\">2010</text></g><g class=\"x2tick\"><text text-anchor=\"middle\" x=\"0\" y=\"533\" style=\"font-family: 'Open Sans', verdana, arial, sans-serif; font-size: 12px; fill: rgb(42, 63, 95); fill-opacity: 1; white-space: pre; opacity: 1;\" transform=\"translate(325.56,0)\">2012</text></g><g class=\"x2tick\"><text text-anchor=\"middle\" x=\"0\" y=\"533\" style=\"font-family: 'Open Sans', verdana, arial, sans-serif; font-size: 12px; fill: rgb(42, 63, 95); fill-opacity: 1; white-space: pre; opacity: 1;\" transform=\"translate(425.57,0)\">2014</text></g><g class=\"x2tick\"><text text-anchor=\"middle\" x=\"0\" y=\"533\" style=\"font-family: 'Open Sans', verdana, arial, sans-serif; font-size: 12px; fill: rgb(42, 63, 95); fill-opacity: 1; white-space: pre; opacity: 1;\" transform=\"translate(525.4300000000001,0)\">2016</text></g><g class=\"x2tick\"><text text-anchor=\"middle\" x=\"0\" y=\"533\" style=\"font-family: 'Open Sans', verdana, arial, sans-serif; font-size: 12px; fill: rgb(42, 63, 95); fill-opacity: 1; white-space: pre; opacity: 1;\" transform=\"translate(625.44,0)\">2018</text></g><g class=\"x2tick\"><text text-anchor=\"middle\" x=\"0\" y=\"533\" style=\"font-family: 'Open Sans', verdana, arial, sans-serif; font-size: 12px; fill: rgb(42, 63, 95); fill-opacity: 1; white-space: pre; opacity: 1;\" transform=\"translate(725.3,0)\">2020</text></g><g class=\"x2tick\"><text text-anchor=\"middle\" x=\"0\" y=\"533\" style=\"font-family: 'Open Sans', verdana, arial, sans-serif; font-size: 12px; fill: rgb(42, 63, 95); fill-opacity: 1; white-space: pre; opacity: 1;\" transform=\"translate(825.31,0)\">2022</text></g></g><g class=\"yaxislayer-above\"><g class=\"y2tick\"><text text-anchor=\"end\" x=\"79\" y=\"4.199999999999999\" transform=\"translate(0,500.9)\" style=\"font-family: 'Open Sans', verdana, arial, sans-serif; font-size: 12px; fill: rgb(42, 63, 95); fill-opacity: 1; white-space: pre; opacity: 1;\">50</text></g><g class=\"y2tick\"><text text-anchor=\"end\" x=\"79\" y=\"4.199999999999999\" style=\"font-family: 'Open Sans', verdana, arial, sans-serif; font-size: 12px; fill: rgb(42, 63, 95); fill-opacity: 1; white-space: pre; opacity: 1;\" transform=\"translate(0,427.19)\">100</text></g><g class=\"y2tick\"><text text-anchor=\"end\" x=\"79\" y=\"4.199999999999999\" style=\"font-family: 'Open Sans', verdana, arial, sans-serif; font-size: 12px; fill: rgb(42, 63, 95); fill-opacity: 1; white-space: pre; opacity: 1;\" transform=\"translate(0,353.48)\">150</text></g></g><g class=\"overaxes-above\"/></g></g><g class=\"polarlayer\"/><g class=\"smithlayer\"/><g class=\"ternarylayer\"/><g class=\"geolayer\"/><g class=\"funnelarealayer\"/><g class=\"pielayer\"/><g class=\"iciclelayer\"/><g class=\"treemaplayer\"/><g class=\"sunburstlayer\"/><g class=\"glimages\"/><defs id=\"topdefs-ddc92e\"><g class=\"clips\"/><clipPath id=\"legendddc92e\"><rect width=\"101\" height=\"115\" x=\"0\" y=\"0\"/></clipPath></defs><g class=\"layer-above\"><g class=\"imagelayer\"/><g class=\"shapelayer\"/></g><g class=\"infolayer\"><g class=\"legend\" pointer-events=\"all\" transform=\"translate(886.82,100)\"><rect class=\"bg\" shape-rendering=\"crispEdges\" width=\"101\" height=\"115\" x=\"0\" y=\"0\" style=\"stroke: rgb(68, 68, 68); stroke-opacity: 1; fill: rgb(255, 255, 255); fill-opacity: 1; stroke-width: 0px;\"/><g class=\"scrollbox\" transform=\"\" clip-path=\"url(#legendddc92e)\"><g class=\"groups\" transform=\"\"><g class=\"traces\" transform=\"translate(0,14.5)\" style=\"opacity: 1;\"><text class=\"legendtext\" text-anchor=\"start\" x=\"40\" y=\"4.680000000000001\" style=\"font-family: 'Open Sans', verdana, arial, sans-serif; font-size: 12px; fill: rgb(42, 63, 95); fill-opacity: 1; white-space: pre;\">Actual</text><g class=\"layers\" style=\"opacity: 1;\"><g class=\"legendfill\"/><g class=\"legendlines\"><path class=\"js-line\" d=\"M5,0h30\" style=\"fill: none; stroke: rgb(99, 110, 250); stroke-opacity: 1; stroke-width: 2px;\"/></g><g class=\"legendsymbols\"><g class=\"legendpoints\"/></g></g><rect class=\"legendtoggle\" x=\"0\" y=\"-9.5\" width=\"95.890625\" height=\"19\" style=\"fill: rgb(0, 0, 0); fill-opacity: 0;\"/></g><g class=\"traces\" transform=\"translate(0,33.5)\" style=\"opacity: 1;\"><text class=\"legendtext\" text-anchor=\"start\" x=\"40\" y=\"4.680000000000001\" style=\"font-family: 'Open Sans', verdana, arial, sans-serif; font-size: 12px; fill: rgb(42, 63, 95); fill-opacity: 1; white-space: pre;\">Predicted</text><g class=\"layers\" style=\"opacity: 1;\"><g class=\"legendfill\"/><g class=\"legendlines\"><path class=\"js-line\" d=\"M5,0h30\" style=\"fill: none; stroke: rgb(239, 85, 59); stroke-opacity: 1; stroke-width: 2px;\"/></g><g class=\"legendsymbols\"><g class=\"legendpoints\"/></g></g><rect class=\"legendtoggle\" x=\"0\" y=\"-9.5\" width=\"95.890625\" height=\"19\" style=\"fill: rgb(0, 0, 0); fill-opacity: 0;\"/></g></g><g class=\"groups\" transform=\"translate(0,10)\"><g class=\"traces\" transform=\"translate(0,52.5)\" style=\"opacity: 1;\"><text class=\"legendtext\" text-anchor=\"start\" x=\"40\" y=\"4.680000000000001\" style=\"font-family: 'Open Sans', verdana, arial, sans-serif; font-size: 12px; fill: rgb(42, 63, 95); fill-opacity: 1; white-space: pre;\">Train</text><g class=\"layers\" style=\"opacity: 1;\"><g class=\"legendfill\"/><g class=\"legendlines\"><path class=\"js-line\" d=\"M5,0h30\" style=\"fill: none; stroke: rgb(0, 204, 150); stroke-opacity: 1; stroke-width: 2px;\"/></g><g class=\"legendsymbols\"><g class=\"legendpoints\"/></g></g><rect class=\"legendtoggle\" x=\"0\" y=\"-9.5\" width=\"95.890625\" height=\"19\" style=\"fill: rgb(0, 0, 0); fill-opacity: 0;\"/></g><g class=\"traces\" transform=\"translate(0,71.5)\" style=\"opacity: 1;\"><text class=\"legendtext\" text-anchor=\"start\" x=\"40\" y=\"4.680000000000001\" style=\"font-family: 'Open Sans', verdana, arial, sans-serif; font-size: 12px; fill: rgb(42, 63, 95); fill-opacity: 1; white-space: pre;\">Test</text><g class=\"layers\" style=\"opacity: 1;\"><g class=\"legendfill\"/><g class=\"legendlines\"><path class=\"js-line\" d=\"M5,0h30\" style=\"fill: none; stroke: rgb(171, 99, 250); stroke-opacity: 1; stroke-width: 2px;\"/></g><g class=\"legendsymbols\"><g class=\"legendpoints\"/></g></g><rect class=\"legendtoggle\" x=\"0\" y=\"-9.5\" width=\"95.890625\" height=\"19\" style=\"fill: rgb(0, 0, 0); fill-opacity: 0;\"/></g><g class=\"traces\" transform=\"translate(0,90.5)\" style=\"opacity: 1;\"><text class=\"legendtext\" text-anchor=\"start\" x=\"40\" y=\"4.680000000000001\" style=\"font-family: 'Open Sans', verdana, arial, sans-serif; font-size: 12px; fill: rgb(42, 63, 95); fill-opacity: 1; white-space: pre;\">Forecast</text><g class=\"layers\" style=\"opacity: 1;\"><g class=\"legendfill\"/><g class=\"legendlines\"><path class=\"js-line\" d=\"M5,0h30\" style=\"fill: none; stroke: rgb(255, 161, 90); stroke-opacity: 1; stroke-width: 2px;\"/></g><g class=\"legendsymbols\"><g class=\"legendpoints\"/></g></g><rect class=\"legendtoggle\" x=\"0\" y=\"-9.5\" width=\"95.890625\" height=\"19\" style=\"fill: rgb(0, 0, 0); fill-opacity: 0;\"/></g></g></g><rect class=\"scrollbar\" rx=\"20\" ry=\"3\" width=\"0\" height=\"0\" x=\"0\" y=\"0\" style=\"fill: rgb(128, 139, 164); fill-opacity: 1;\"/></g><g class=\"g-gtitle\"><text class=\"gtitle\" x=\"50\" y=\"50\" text-anchor=\"start\" dy=\"0em\" style=\"font-family: 'Open Sans', verdana, arial, sans-serif; font-size: 17px; fill: rgb(42, 63, 95); opacity: 1; font-weight: normal; white-space: pre;\">Triple Exponential Smoothing Predictions - DEN</text></g><g class=\"g-xtitle\"/><g class=\"g-x2title\"/><g class=\"g-ytitle\"/><g class=\"g-y2title\"/></g></svg>"
     },
     "metadata": {},
     "output_type": "display_data"
    }
   ],
   "source": [
    "model_name='Triple Exponential Smoothing'\n",
    "\n",
    "# Train\n",
    "model = ExponentialSmoothing(train[dep_var],trend='add',seasonal='add',seasonal_periods=12).fit()\n",
    "\n",
    "# Predict\n",
    "predictions = model.predict(start=start, end=end)\n",
    "\n",
    "# Forecast accuracy\n",
    "forecast_accuracy(model_name, test[dep_var], predictions, True, True)"
   ]
  },
  {
   "cell_type": "code",
   "execution_count": 33,
   "metadata": {},
   "outputs": [
    {
     "data": {
      "text/html": [
       "<div>\n",
       "<style scoped>\n",
       "    .dataframe tbody tr th:only-of-type {\n",
       "        vertical-align: middle;\n",
       "    }\n",
       "\n",
       "    .dataframe tbody tr th {\n",
       "        vertical-align: top;\n",
       "    }\n",
       "\n",
       "    .dataframe thead th {\n",
       "        text-align: right;\n",
       "    }\n",
       "</style>\n",
       "<table border=\"1\" class=\"dataframe\">\n",
       "  <thead>\n",
       "    <tr style=\"text-align: right;\">\n",
       "      <th></th>\n",
       "      <th>Simple Exponential Smoothing</th>\n",
       "      <th>Double Exponential Smoothing</th>\n",
       "      <th>Triple Exponential Smoothing</th>\n",
       "    </tr>\n",
       "  </thead>\n",
       "  <tbody>\n",
       "    <tr>\n",
       "      <th>Mean Absolute Error</th>\n",
       "      <td>22.715779</td>\n",
       "      <td>24.368236</td>\n",
       "      <td>26.216502</td>\n",
       "    </tr>\n",
       "    <tr>\n",
       "      <th>Mean Squared Error</th>\n",
       "      <td>736.196571</td>\n",
       "      <td>831.541784</td>\n",
       "      <td>962.720562</td>\n",
       "    </tr>\n",
       "    <tr>\n",
       "      <th>Root Mean Squared Error</th>\n",
       "      <td>27.132943</td>\n",
       "      <td>28.836466</td>\n",
       "      <td>31.027739</td>\n",
       "    </tr>\n",
       "    <tr>\n",
       "      <th>R^2</th>\n",
       "      <td>-0.715648</td>\n",
       "      <td>-0.937842</td>\n",
       "      <td>-1.243544</td>\n",
       "    </tr>\n",
       "    <tr>\n",
       "      <th>Mean Absolute Percentage Error</th>\n",
       "      <td>31.431946</td>\n",
       "      <td>33.694813</td>\n",
       "      <td>36.019880</td>\n",
       "    </tr>\n",
       "    <tr>\n",
       "      <th>Accuracy</th>\n",
       "      <td>68.568054</td>\n",
       "      <td>66.305187</td>\n",
       "      <td>63.980120</td>\n",
       "    </tr>\n",
       "  </tbody>\n",
       "</table>\n",
       "</div>"
      ],
      "text/plain": [
       "                                Simple Exponential Smoothing  \\\n",
       "Mean Absolute Error                                22.715779   \n",
       "Mean Squared Error                                736.196571   \n",
       "Root Mean Squared Error                            27.132943   \n",
       "R^2                                                -0.715648   \n",
       "Mean Absolute Percentage Error                     31.431946   \n",
       "Accuracy                                           68.568054   \n",
       "\n",
       "                                Double Exponential Smoothing  \\\n",
       "Mean Absolute Error                                24.368236   \n",
       "Mean Squared Error                                831.541784   \n",
       "Root Mean Squared Error                            28.836466   \n",
       "R^2                                                -0.937842   \n",
       "Mean Absolute Percentage Error                     33.694813   \n",
       "Accuracy                                           66.305187   \n",
       "\n",
       "                                Triple Exponential Smoothing  \n",
       "Mean Absolute Error                                26.216502  \n",
       "Mean Squared Error                                962.720562  \n",
       "Root Mean Squared Error                            31.027739  \n",
       "R^2                                                -1.243544  \n",
       "Mean Absolute Percentage Error                     36.019880  \n",
       "Accuracy                                           63.980120  "
      ]
     },
     "execution_count": 33,
     "metadata": {},
     "output_type": "execute_result"
    }
   ],
   "source": [
    "metrics"
   ]
  },
  {
   "attachments": {},
   "cell_type": "markdown",
   "metadata": {},
   "source": [
    "#### ARIMA"
   ]
  },
  {
   "cell_type": "code",
   "execution_count": 34,
   "metadata": {},
   "outputs": [
    {
     "name": "stdout",
     "output_type": "stream",
     "text": [
      "Performing stepwise search to minimize aic\n",
      " ARIMA(1,0,1)(0,0,0)[0]             : AIC=1250.564, Time=0.08 sec\n",
      " ARIMA(0,0,0)(0,0,0)[0]             : AIC=1840.358, Time=0.01 sec\n",
      " ARIMA(1,0,0)(0,0,0)[0]             : AIC=1316.929, Time=0.02 sec\n",
      " ARIMA(0,0,1)(0,0,0)[0]             : AIC=1668.015, Time=0.05 sec\n",
      " ARIMA(2,0,1)(0,0,0)[0]             : AIC=1252.461, Time=0.09 sec\n",
      " ARIMA(1,0,2)(0,0,0)[0]             : AIC=1252.497, Time=0.09 sec\n",
      " ARIMA(0,0,2)(0,0,0)[0]             : AIC=1599.598, Time=0.11 sec\n",
      " ARIMA(2,0,0)(0,0,0)[0]             : AIC=inf, Time=0.04 sec\n",
      " ARIMA(2,0,2)(0,0,0)[0]             : AIC=1251.905, Time=0.11 sec\n",
      " ARIMA(1,0,1)(0,0,0)[0] intercept   : AIC=1247.231, Time=0.14 sec\n",
      " ARIMA(0,0,1)(0,0,0)[0] intercept   : AIC=1330.553, Time=0.06 sec\n",
      " ARIMA(1,0,0)(0,0,0)[0] intercept   : AIC=1288.594, Time=0.08 sec\n",
      " ARIMA(2,0,1)(0,0,0)[0] intercept   : AIC=1248.846, Time=0.21 sec\n",
      " ARIMA(1,0,2)(0,0,0)[0] intercept   : AIC=1248.995, Time=0.24 sec\n",
      " ARIMA(0,0,0)(0,0,0)[0] intercept   : AIC=1374.600, Time=0.02 sec\n",
      " ARIMA(0,0,2)(0,0,0)[0] intercept   : AIC=1298.078, Time=0.11 sec\n",
      " ARIMA(2,0,0)(0,0,0)[0] intercept   : AIC=1256.308, Time=0.04 sec\n",
      " ARIMA(2,0,2)(0,0,0)[0] intercept   : AIC=1248.702, Time=0.25 sec\n",
      "\n",
      "Best model:  ARIMA(1,0,1)(0,0,0)[0] intercept\n",
      "Total fit time: 1.743 seconds\n"
     ]
    }
   ],
   "source": [
    "#Standard ARIMA Model\n",
    "model = auto_arima(train[dep_var], \n",
    "                    start_p=1, \n",
    "                    start_q=1,\n",
    "                    test='adf',                 # Use adftest to find optimal 'd'\n",
    "                    max_p=3, max_q=3,           # Maximum p and q\n",
    "                    m=1,                        # Frequency of series (if m==1, seasonal is set to FALSE automatically)\n",
    "                    d=None,                     # Let model determine 'd'\n",
    "                    seasonal=False,             # No Seasonality for standard ARIMA\n",
    "                    trace=True,                 # Logs \n",
    "                    error_action= 'warn',       # Shows errors ('ignore' silences these)\n",
    "                    suppress_warnings=True,\n",
    "                    stepwise=True)                    "
   ]
  },
  {
   "cell_type": "code",
   "execution_count": 35,
   "metadata": {},
   "outputs": [],
   "source": [
    "#model.plot_diagnostics(figsize=(15,12))\n",
    "#plt.show()"
   ]
  },
  {
   "cell_type": "code",
   "execution_count": 36,
   "metadata": {},
   "outputs": [
    {
     "data": {
      "text/html": [
       "<table class=\"simpletable\">\n",
       "<caption>SARIMAX Results</caption>\n",
       "<tr>\n",
       "  <th>Dep. Variable:</th>           <td>y</td>        <th>  No. Observations:  </th>    <td>155</td>  \n",
       "</tr>\n",
       "<tr>\n",
       "  <th>Model:</th>           <td>SARIMAX(1, 0, 1)</td> <th>  Log Likelihood     </th> <td>-619.616</td>\n",
       "</tr>\n",
       "<tr>\n",
       "  <th>Date:</th>            <td>Thu, 16 Feb 2023</td> <th>  AIC                </th> <td>1247.231</td>\n",
       "</tr>\n",
       "<tr>\n",
       "  <th>Time:</th>                <td>09:10:07</td>     <th>  BIC                </th> <td>1259.405</td>\n",
       "</tr>\n",
       "<tr>\n",
       "  <th>Sample:</th>             <td>02-01-2007</td>    <th>  HQIC               </th> <td>1252.176</td>\n",
       "</tr>\n",
       "<tr>\n",
       "  <th></th>                   <td>- 12-01-2019</td>   <th>                     </th>     <td> </td>   \n",
       "</tr>\n",
       "<tr>\n",
       "  <th>Covariance Type:</th>        <td>opg</td>       <th>                     </th>     <td> </td>   \n",
       "</tr>\n",
       "</table>\n",
       "<table class=\"simpletable\">\n",
       "<tr>\n",
       "      <td></td>         <th>coef</th>     <th>std err</th>      <th>z</th>      <th>P>|z|</th>  <th>[0.025</th>    <th>0.975]</th>  \n",
       "</tr>\n",
       "<tr>\n",
       "  <th>intercept</th> <td>    2.2590</td> <td>    1.912</td> <td>    1.181</td> <td> 0.238</td> <td>   -1.489</td> <td>    6.007</td>\n",
       "</tr>\n",
       "<tr>\n",
       "  <th>ar.L1</th>     <td>    0.9745</td> <td>    0.021</td> <td>   45.841</td> <td> 0.000</td> <td>    0.933</td> <td>    1.016</td>\n",
       "</tr>\n",
       "<tr>\n",
       "  <th>ma.L1</th>     <td>   -0.7254</td> <td>    0.063</td> <td>  -11.584</td> <td> 0.000</td> <td>   -0.848</td> <td>   -0.603</td>\n",
       "</tr>\n",
       "<tr>\n",
       "  <th>sigma2</th>    <td>  172.2416</td> <td>   16.020</td> <td>   10.752</td> <td> 0.000</td> <td>  140.844</td> <td>  203.640</td>\n",
       "</tr>\n",
       "</table>\n",
       "<table class=\"simpletable\">\n",
       "<tr>\n",
       "  <th>Ljung-Box (L1) (Q):</th>     <td>0.19</td> <th>  Jarque-Bera (JB):  </th> <td>6.96</td>\n",
       "</tr>\n",
       "<tr>\n",
       "  <th>Prob(Q):</th>                <td>0.66</td> <th>  Prob(JB):          </th> <td>0.03</td>\n",
       "</tr>\n",
       "<tr>\n",
       "  <th>Heteroskedasticity (H):</th> <td>2.47</td> <th>  Skew:              </th> <td>0.16</td>\n",
       "</tr>\n",
       "<tr>\n",
       "  <th>Prob(H) (two-sided):</th>    <td>0.00</td> <th>  Kurtosis:          </th> <td>3.99</td>\n",
       "</tr>\n",
       "</table><br/><br/>Warnings:<br/>[1] Covariance matrix calculated using the outer product of gradients (complex-step)."
      ],
      "text/plain": [
       "<class 'statsmodels.iolib.summary.Summary'>\n",
       "\"\"\"\n",
       "                               SARIMAX Results                                \n",
       "==============================================================================\n",
       "Dep. Variable:                      y   No. Observations:                  155\n",
       "Model:               SARIMAX(1, 0, 1)   Log Likelihood                -619.616\n",
       "Date:                Thu, 16 Feb 2023   AIC                           1247.231\n",
       "Time:                        09:10:07   BIC                           1259.405\n",
       "Sample:                    02-01-2007   HQIC                          1252.176\n",
       "                         - 12-01-2019                                         \n",
       "Covariance Type:                  opg                                         \n",
       "==============================================================================\n",
       "                 coef    std err          z      P>|z|      [0.025      0.975]\n",
       "------------------------------------------------------------------------------\n",
       "intercept      2.2590      1.912      1.181      0.238      -1.489       6.007\n",
       "ar.L1          0.9745      0.021     45.841      0.000       0.933       1.016\n",
       "ma.L1         -0.7254      0.063    -11.584      0.000      -0.848      -0.603\n",
       "sigma2       172.2416     16.020     10.752      0.000     140.844     203.640\n",
       "===================================================================================\n",
       "Ljung-Box (L1) (Q):                   0.19   Jarque-Bera (JB):                 6.96\n",
       "Prob(Q):                              0.66   Prob(JB):                         0.03\n",
       "Heteroskedasticity (H):               2.47   Skew:                             0.16\n",
       "Prob(H) (two-sided):                  0.00   Kurtosis:                         3.99\n",
       "===================================================================================\n",
       "\n",
       "Warnings:\n",
       "[1] Covariance matrix calculated using the outer product of gradients (complex-step).\n",
       "\"\"\""
      ]
     },
     "execution_count": 36,
     "metadata": {},
     "output_type": "execute_result"
    }
   ],
   "source": [
    "model.summary()"
   ]
  },
  {
   "cell_type": "code",
   "execution_count": 37,
   "metadata": {},
   "outputs": [
    {
     "name": "stdout",
     "output_type": "stream",
     "text": [
      "ARIMA Model Performance:\n",
      "Mean Absolute Error: 18.36.\n",
      "Mean Squared Error: 499.78.\n",
      "Root Mean Squared Error: 22.36.\n",
      "R^2 Score = -0.16.\n",
      "Mean Absolute Percentage Error: 24.75%.\n",
      "Accuracy = 75.25%.\n"
     ]
    },
    {
     "data": {
      "image/svg+xml": "<svg class=\"main-svg\" xmlns=\"http://www.w3.org/2000/svg\" xmlns:xlink=\"http://www.w3.org/1999/xlink\" width=\"1000\" height=\"600\" style=\"\" viewBox=\"0 0 1000 600\"><rect x=\"0\" y=\"0\" width=\"1000\" height=\"600\" style=\"fill: rgb(255, 255, 255); fill-opacity: 1;\"/><defs id=\"defs-c13aef\"><g class=\"clips\"><clipPath id=\"clipc13aefxyplot\" class=\"plotclip\"><rect width=\"791\" height=\"178.50000000000003\"/></clipPath><clipPath id=\"clipc13aefx2y2plot\" class=\"plotclip\"><rect width=\"791\" height=\"178.5\"/></clipPath><clipPath class=\"axesclip\" id=\"clipc13aefx\"><rect x=\"80\" y=\"0\" width=\"791\" height=\"600\"/></clipPath><clipPath class=\"axesclip\" id=\"clipc13aefy\"><rect x=\"0\" y=\"100\" width=\"1000\" height=\"178.50000000000003\"/></clipPath><clipPath class=\"axesclip\" id=\"clipc13aefxy\"><rect x=\"80\" y=\"100\" width=\"791\" height=\"178.50000000000003\"/></clipPath><clipPath class=\"axesclip\" id=\"clipc13aefy2\"><rect x=\"0\" y=\"341.5\" width=\"1000\" height=\"178.5\"/></clipPath><clipPath class=\"axesclip\" id=\"clipc13aefxy2\"><rect x=\"80\" y=\"341.5\" width=\"791\" height=\"178.5\"/></clipPath><clipPath class=\"axesclip\" id=\"clipc13aefx2\"><rect x=\"80\" y=\"0\" width=\"791\" height=\"600\"/></clipPath><clipPath class=\"axesclip\" id=\"clipc13aefx2y\"><rect x=\"80\" y=\"100\" width=\"791\" height=\"178.50000000000003\"/></clipPath><clipPath class=\"axesclip\" id=\"clipc13aefx2y2\"><rect x=\"80\" y=\"341.5\" width=\"791\" height=\"178.5\"/></clipPath></g><g class=\"gradients\"/><g class=\"patterns\"/></defs><g class=\"bglayer\"><rect class=\"bg\" x=\"80\" y=\"100\" width=\"791\" height=\"178.50000000000003\" style=\"fill: rgb(229, 236, 246); fill-opacity: 1; stroke-width: 0;\"/><rect class=\"bg\" x=\"80\" y=\"341.5\" width=\"791\" height=\"178.5\" style=\"fill: rgb(229, 236, 246); fill-opacity: 1; stroke-width: 0;\"/></g><g class=\"layer-below\"><g class=\"imagelayer\"/><g class=\"shapelayer\"/></g><g class=\"cartesianlayer\"><g class=\"subplot xy\"><g class=\"layer-subplot\"><g class=\"shapelayer\"/><g class=\"imagelayer\"/></g><g class=\"minor-gridlayer\"><g class=\"x\"/><g class=\"y\"/></g><g class=\"gridlayer\"><g class=\"x\"><path class=\"xgrid crisp\" transform=\"translate(215.18,0)\" d=\"M0,100v178.50000000000003\" style=\"stroke: rgb(255, 255, 255); stroke-opacity: 1; stroke-width: 1px;\"/><path class=\"xgrid crisp\" transform=\"translate(351.84,0)\" d=\"M0,100v178.50000000000003\" style=\"stroke: rgb(255, 255, 255); stroke-opacity: 1; stroke-width: 1px;\"/><path class=\"xgrid crisp\" transform=\"translate(486.27,0)\" d=\"M0,100v178.50000000000003\" style=\"stroke: rgb(255, 255, 255); stroke-opacity: 1; stroke-width: 1px;\"/><path class=\"xgrid crisp\" transform=\"translate(622.93,0)\" d=\"M0,100v178.50000000000003\" style=\"stroke: rgb(255, 255, 255); stroke-opacity: 1; stroke-width: 1px;\"/><path class=\"xgrid crisp\" transform=\"translate(757.36,0)\" d=\"M0,100v178.50000000000003\" style=\"stroke: rgb(255, 255, 255); stroke-opacity: 1; stroke-width: 1px;\"/></g><g class=\"y\"><path class=\"ygrid crisp\" transform=\"translate(0,259.76)\" d=\"M80,0h791\" style=\"stroke: rgb(255, 255, 255); stroke-opacity: 1; stroke-width: 1px;\"/><path class=\"ygrid crisp\" transform=\"translate(0,221.39)\" d=\"M80,0h791\" style=\"stroke: rgb(255, 255, 255); stroke-opacity: 1; stroke-width: 1px;\"/><path class=\"ygrid crisp\" transform=\"translate(0,183.01999999999998)\" d=\"M80,0h791\" style=\"stroke: rgb(255, 255, 255); stroke-opacity: 1; stroke-width: 1px;\"/><path class=\"ygrid crisp\" transform=\"translate(0,144.65)\" d=\"M80,0h791\" style=\"stroke: rgb(255, 255, 255); stroke-opacity: 1; stroke-width: 1px;\"/><path class=\"ygrid crisp\" transform=\"translate(0,106.28)\" d=\"M80,0h791\" style=\"stroke: rgb(255, 255, 255); stroke-opacity: 1; stroke-width: 1px;\"/></g></g><g class=\"zerolinelayer\"/><path class=\"xlines-below\"/><path class=\"ylines-below\"/><g class=\"overlines-below\"/><g class=\"xaxislayer-below\"/><g class=\"yaxislayer-below\"/><g class=\"overaxes-below\"/><g class=\"plot\" transform=\"translate(80,100)\" clip-path=\"url(#clipc13aefxyplot)\"><g class=\"scatterlayer mlayer\"><g class=\"trace scatter tracedbff90\" style=\"stroke-miterlimit: 2; opacity: 1;\"><g class=\"fills\"/><g class=\"errorbars\"/><g class=\"lines\"><path class=\"js-line\" d=\"M0,66.77L23.02,107.13L44.56,105.35L67.59,160.29L89.87,146.25L112.89,73.81L135.18,62.07L158.2,77.95L181.22,82.91L203.51,106.36L226.53,71.69L248.81,21.17L271.84,159.99L294.86,163.74L315.66,8.92L338.68,100.75L360.96,85.27L383.99,46.41L406.27,123.75L429.29,97.57L452.32,115.74L474.6,133.17L497.62,108.04L519.91,76.38L542.93,169.58L565.95,160.5L586.75,110.57L609.78,150.69L632.06,122.94L655.08,108.2L677.36,164.41L700.39,132L723.41,129.46L745.69,153.54L768.72,128.3L791,105.08\" style=\"vector-effect: non-scaling-stroke; fill: none; stroke: rgb(99, 110, 250); stroke-opacity: 1; stroke-width: 2px; opacity: 1;\"/></g><g class=\"points\"/><g class=\"text\"/></g><g class=\"trace scatter trace06366e\" style=\"stroke-miterlimit: 2; opacity: 1;\"><g class=\"fills\"/><g class=\"errorbars\"/><g class=\"lines\"><path class=\"js-line\" d=\"M0,83.42L248.81,88.72L271.84,89.13L586.75,93.89L609.78,94.17L791,96.16\" style=\"vector-effect: non-scaling-stroke; fill: none; stroke: rgb(239, 85, 59); stroke-opacity: 1; stroke-width: 2px; opacity: 1;\"/></g><g class=\"points\"/><g class=\"text\"/></g></g></g><g class=\"overplot\"/><path class=\"xlines-above crisp\" d=\"M0,0\" style=\"fill: none;\"/><path class=\"ylines-above crisp\" d=\"M0,0\" style=\"fill: none;\"/><g class=\"overlines-above\"/><g class=\"xaxislayer-above\"><g class=\"xtick\"><text text-anchor=\"middle\" x=\"0\" y=\"291.5\" transform=\"translate(80,0)\" style=\"font-family: 'Open Sans', verdana, arial, sans-serif; font-size: 12px; fill: rgb(42, 63, 95); fill-opacity: 1; white-space: pre; opacity: 1;\">Jan 2020</text></g><g class=\"xtick\"><text text-anchor=\"middle\" x=\"0\" y=\"291.5\" style=\"font-family: 'Open Sans', verdana, arial, sans-serif; font-size: 12px; fill: rgb(42, 63, 95); fill-opacity: 1; white-space: pre; opacity: 1;\" transform=\"translate(215.18,0)\">Jul 2020</text></g><g class=\"xtick\"><text text-anchor=\"middle\" x=\"0\" y=\"291.5\" style=\"font-family: 'Open Sans', verdana, arial, sans-serif; font-size: 12px; fill: rgb(42, 63, 95); fill-opacity: 1; white-space: pre; opacity: 1;\" transform=\"translate(351.84,0)\">Jan 2021</text></g><g class=\"xtick\"><text text-anchor=\"middle\" x=\"0\" y=\"291.5\" style=\"font-family: 'Open Sans', verdana, arial, sans-serif; font-size: 12px; fill: rgb(42, 63, 95); fill-opacity: 1; white-space: pre; opacity: 1;\" transform=\"translate(486.27,0)\">Jul 2021</text></g><g class=\"xtick\"><text text-anchor=\"middle\" x=\"0\" y=\"291.5\" style=\"font-family: 'Open Sans', verdana, arial, sans-serif; font-size: 12px; fill: rgb(42, 63, 95); fill-opacity: 1; white-space: pre; opacity: 1;\" transform=\"translate(622.93,0)\">Jan 2022</text></g><g class=\"xtick\"><text text-anchor=\"middle\" x=\"0\" y=\"291.5\" style=\"font-family: 'Open Sans', verdana, arial, sans-serif; font-size: 12px; fill: rgb(42, 63, 95); fill-opacity: 1; white-space: pre; opacity: 1;\" transform=\"translate(757.36,0)\">Jul 2022</text></g></g><g class=\"yaxislayer-above\"><g class=\"ytick\"><text text-anchor=\"end\" x=\"79\" y=\"4.199999999999999\" transform=\"translate(0,259.76)\" style=\"font-family: 'Open Sans', verdana, arial, sans-serif; font-size: 12px; fill: rgb(42, 63, 95); fill-opacity: 1; white-space: pre; opacity: 1;\">60</text></g><g class=\"ytick\"><text text-anchor=\"end\" x=\"79\" y=\"4.199999999999999\" style=\"font-family: 'Open Sans', verdana, arial, sans-serif; font-size: 12px; fill: rgb(42, 63, 95); fill-opacity: 1; white-space: pre; opacity: 1;\" transform=\"translate(0,221.39)\">80</text></g><g class=\"ytick\"><text text-anchor=\"end\" x=\"79\" y=\"4.199999999999999\" style=\"font-family: 'Open Sans', verdana, arial, sans-serif; font-size: 12px; fill: rgb(42, 63, 95); fill-opacity: 1; white-space: pre; opacity: 1;\" transform=\"translate(0,183.01999999999998)\">100</text></g><g class=\"ytick\"><text text-anchor=\"end\" x=\"79\" y=\"4.199999999999999\" style=\"font-family: 'Open Sans', verdana, arial, sans-serif; font-size: 12px; fill: rgb(42, 63, 95); fill-opacity: 1; white-space: pre; opacity: 1;\" transform=\"translate(0,144.65)\">120</text></g><g class=\"ytick\"><text text-anchor=\"end\" x=\"79\" y=\"4.199999999999999\" style=\"font-family: 'Open Sans', verdana, arial, sans-serif; font-size: 12px; fill: rgb(42, 63, 95); fill-opacity: 1; white-space: pre; opacity: 1;\" transform=\"translate(0,106.28)\">140</text></g></g><g class=\"overaxes-above\"/></g><g class=\"subplot x2y2\"><g class=\"layer-subplot\"><g class=\"shapelayer\"/><g class=\"imagelayer\"/></g><g class=\"minor-gridlayer\"><g class=\"x2\"/><g class=\"y2\"/></g><g class=\"gridlayer\"><g class=\"x2\"><path class=\"x2grid crisp\" transform=\"translate(125.69,0)\" d=\"M0,341.5v178.5\" style=\"stroke: rgb(255, 255, 255); stroke-opacity: 1; stroke-width: 1px;\"/><path class=\"x2grid crisp\" transform=\"translate(225.7,0)\" d=\"M0,341.5v178.5\" style=\"stroke: rgb(255, 255, 255); stroke-opacity: 1; stroke-width: 1px;\"/><path class=\"x2grid crisp\" transform=\"translate(325.56,0)\" d=\"M0,341.5v178.5\" style=\"stroke: rgb(255, 255, 255); stroke-opacity: 1; stroke-width: 1px;\"/><path class=\"x2grid crisp\" transform=\"translate(425.57,0)\" d=\"M0,341.5v178.5\" style=\"stroke: rgb(255, 255, 255); stroke-opacity: 1; stroke-width: 1px;\"/><path class=\"x2grid crisp\" transform=\"translate(525.4300000000001,0)\" d=\"M0,341.5v178.5\" style=\"stroke: rgb(255, 255, 255); stroke-opacity: 1; stroke-width: 1px;\"/><path class=\"x2grid crisp\" transform=\"translate(625.44,0)\" d=\"M0,341.5v178.5\" style=\"stroke: rgb(255, 255, 255); stroke-opacity: 1; stroke-width: 1px;\"/><path class=\"x2grid crisp\" transform=\"translate(725.3,0)\" d=\"M0,341.5v178.5\" style=\"stroke: rgb(255, 255, 255); stroke-opacity: 1; stroke-width: 1px;\"/><path class=\"x2grid crisp\" transform=\"translate(825.31,0)\" d=\"M0,341.5v178.5\" style=\"stroke: rgb(255, 255, 255); stroke-opacity: 1; stroke-width: 1px;\"/></g><g class=\"y2\"><path class=\"y2grid crisp\" transform=\"translate(0,500.9)\" d=\"M80,0h791\" style=\"stroke: rgb(255, 255, 255); stroke-opacity: 1; stroke-width: 1px;\"/><path class=\"y2grid crisp\" transform=\"translate(0,427.19)\" d=\"M80,0h791\" style=\"stroke: rgb(255, 255, 255); stroke-opacity: 1; stroke-width: 1px;\"/><path class=\"y2grid crisp\" transform=\"translate(0,353.48)\" d=\"M80,0h791\" style=\"stroke: rgb(255, 255, 255); stroke-opacity: 1; stroke-width: 1px;\"/></g></g><g class=\"zerolinelayer\"/><path class=\"xlines-below\"/><path class=\"ylines-below\"/><g class=\"overlines-below\"/><g class=\"xaxislayer-below\"/><g class=\"yaxislayer-below\"/><g class=\"overaxes-below\"/><g class=\"plot\" transform=\"translate(80,341.5)\" clip-path=\"url(#clipc13aefx2y2plot)\"><g class=\"scatterlayer mlayer\"><g class=\"trace scatter tracee5bf47\" style=\"stroke-miterlimit: 2; opacity: 1;\"><g class=\"fills\"/><g class=\"errorbars\"/><g class=\"lines\"><path class=\"js-line\" d=\"M0,140.57L3.83,109.47L8.07,128.04L12.18,110.33L16.42,103.15L20.52,118.11L24.76,118.68L29,118.06L33.11,108.94L37.35,103.08L41.45,114.87L45.69,109.91L49.93,122.14L53.9,125L58.14,95.33L62.25,108.1L66.49,101.49L70.59,121.81L74.83,136L79.07,130.42L83.18,136.18L87.42,161.81L91.52,159.39L95.76,166.46L100,169.58L103.83,148.99L108.08,155.75L112.18,153.25L116.42,136.57L120.52,155.38L124.77,165.41L129.01,149.56L133.11,147.77L137.35,155.55L141.46,132.16L145.7,141.98L149.94,159.58L153.77,113.69L158.01,130.79L162.11,122.05L166.35,100.09L170.46,133.22L174.7,132.47L178.94,117.25L183.04,116.75L187.28,113.71L191.39,100.74L195.63,127.21L199.87,134.3L203.7,89.5L207.94,118.19L212.05,91.29L216.29,87.39L220.39,121.3L224.63,126.17L228.87,115.03L232.98,127.16L237.22,104.48L241.32,101.78L245.56,122.95L249.8,111.78L253.77,116.04L258.01,129.8L262.12,90.83L266.36,113.01L270.46,92.91L274.7,117.84L278.94,114.83L283.05,103.52L287.29,95.43L291.39,142.19L295.63,107.12L299.87,128.94L303.7,105.64L307.95,98.86L316.29,83.93L320.39,112.12L324.64,112.63L328.88,109.94L332.98,90.55L337.22,97.78L341.33,111.25L345.57,94.07L349.81,107.04L353.64,89.58L357.88,92.32L361.98,89.01L366.22,83.03L370.33,111.35L374.57,108.43L378.81,110.19L382.91,93.88L387.15,103.92L391.26,101.59L395.5,96.13L399.74,117.42L403.57,65.85L407.81,88.21L411.92,87.56L416.16,50.63L420.26,94.41L424.5,95.17L428.74,81.26L432.85,89.16L437.09,87.01L441.19,75.42L445.43,92.89L449.67,91.09L453.64,69.17L457.88,63.13L461.99,52.27L466.23,30.88L470.33,98.77L474.57,84.49L478.81,75.6L482.92,87.64L487.16,79.23L491.26,67.68L495.5,66.26L499.74,83.78L503.58,38.51L507.82,82.11L511.92,42.11L516.16,27.81L520.27,102.81L524.51,102.09L528.75,110.47L532.85,74.53L537.09,78.9L541.2,92.02L545.44,62.77L549.68,85.24L553.51,63.74L557.75,72.46L561.85,39.7L566.09,40.01L570.2,92.02L574.44,56.21L578.68,130.5L582.78,90.65L587.03,79.63L591.13,114.12L595.37,50.85L599.61,73.91L603.44,8.93L607.68,93.97L611.79,69.22L616.03,55.22L620.13,89.5L624.37,72.93L628.61,96.59L632.72,75.84L636.96,78.28L641.06,100.67\" style=\"vector-effect: non-scaling-stroke; fill: none; stroke: rgb(0, 204, 150); stroke-opacity: 1; stroke-width: 2px; opacity: 1;\"/></g><g class=\"points\"/><g class=\"text\"/></g><g class=\"trace scatter trace94b04d\" style=\"stroke-miterlimit: 2; opacity: 1;\"><g class=\"fills\"/><g class=\"errorbars\"/><g class=\"lines\"><path class=\"js-line\" d=\"M645.3,73.2L649.54,104.21L653.51,102.84L657.75,145.07L661.86,134.27L666.1,78.61L670.2,69.59L674.44,81.79L678.68,85.6L682.79,103.62L687.03,76.98L691.13,38.16L695.37,144.83L699.62,147.71L703.45,28.75L707.69,99.31L711.79,87.42L716.03,57.56L720.14,116.99L724.38,96.87L728.62,110.83L732.72,124.22L736.96,104.92L741.07,80.59L745.31,152.2L749.55,145.22L753.38,106.86L757.62,137.69L761.72,116.36L765.96,105.04L770.07,148.22L774.31,123.32L778.55,121.37L782.65,139.88L786.9,120.48L791,102.64\" style=\"vector-effect: non-scaling-stroke; fill: none; stroke: rgb(171, 99, 250); stroke-opacity: 1; stroke-width: 2px; opacity: 1;\"/></g><g class=\"points\"/><g class=\"text\"/></g><g class=\"trace scatter traceeae689\" style=\"stroke-miterlimit: 2; opacity: 1;\"><g class=\"fills\"/><g class=\"errorbars\"/><g class=\"lines\"><path class=\"js-line\" d=\"M645.3,85.99L699.62,90.69L703.45,90.99L770.07,94.87L774.31,95.06L791,95.79\" style=\"vector-effect: non-scaling-stroke; fill: none; stroke: rgb(255, 161, 90); stroke-opacity: 1; stroke-width: 2px; opacity: 1;\"/></g><g class=\"points\"/><g class=\"text\"/></g></g></g><g class=\"overplot\"/><path class=\"xlines-above crisp\" d=\"M0,0\" style=\"fill: none;\"/><path class=\"ylines-above crisp\" d=\"M0,0\" style=\"fill: none;\"/><g class=\"overlines-above\"/><g class=\"xaxislayer-above\"><g class=\"x2tick\"><text text-anchor=\"middle\" x=\"0\" y=\"533\" transform=\"translate(125.69,0)\" style=\"font-family: 'Open Sans', verdana, arial, sans-serif; font-size: 12px; fill: rgb(42, 63, 95); fill-opacity: 1; white-space: pre; opacity: 1;\">2008</text></g><g class=\"x2tick\"><text text-anchor=\"middle\" x=\"0\" y=\"533\" style=\"font-family: 'Open Sans', verdana, arial, sans-serif; font-size: 12px; fill: rgb(42, 63, 95); fill-opacity: 1; white-space: pre; opacity: 1;\" transform=\"translate(225.7,0)\">2010</text></g><g class=\"x2tick\"><text text-anchor=\"middle\" x=\"0\" y=\"533\" style=\"font-family: 'Open Sans', verdana, arial, sans-serif; font-size: 12px; fill: rgb(42, 63, 95); fill-opacity: 1; white-space: pre; opacity: 1;\" transform=\"translate(325.56,0)\">2012</text></g><g class=\"x2tick\"><text text-anchor=\"middle\" x=\"0\" y=\"533\" style=\"font-family: 'Open Sans', verdana, arial, sans-serif; font-size: 12px; fill: rgb(42, 63, 95); fill-opacity: 1; white-space: pre; opacity: 1;\" transform=\"translate(425.57,0)\">2014</text></g><g class=\"x2tick\"><text text-anchor=\"middle\" x=\"0\" y=\"533\" style=\"font-family: 'Open Sans', verdana, arial, sans-serif; font-size: 12px; fill: rgb(42, 63, 95); fill-opacity: 1; white-space: pre; opacity: 1;\" transform=\"translate(525.4300000000001,0)\">2016</text></g><g class=\"x2tick\"><text text-anchor=\"middle\" x=\"0\" y=\"533\" style=\"font-family: 'Open Sans', verdana, arial, sans-serif; font-size: 12px; fill: rgb(42, 63, 95); fill-opacity: 1; white-space: pre; opacity: 1;\" transform=\"translate(625.44,0)\">2018</text></g><g class=\"x2tick\"><text text-anchor=\"middle\" x=\"0\" y=\"533\" style=\"font-family: 'Open Sans', verdana, arial, sans-serif; font-size: 12px; fill: rgb(42, 63, 95); fill-opacity: 1; white-space: pre; opacity: 1;\" transform=\"translate(725.3,0)\">2020</text></g><g class=\"x2tick\"><text text-anchor=\"middle\" x=\"0\" y=\"533\" style=\"font-family: 'Open Sans', verdana, arial, sans-serif; font-size: 12px; fill: rgb(42, 63, 95); fill-opacity: 1; white-space: pre; opacity: 1;\" transform=\"translate(825.31,0)\">2022</text></g></g><g class=\"yaxislayer-above\"><g class=\"y2tick\"><text text-anchor=\"end\" x=\"79\" y=\"4.199999999999999\" transform=\"translate(0,500.9)\" style=\"font-family: 'Open Sans', verdana, arial, sans-serif; font-size: 12px; fill: rgb(42, 63, 95); fill-opacity: 1; white-space: pre; opacity: 1;\">50</text></g><g class=\"y2tick\"><text text-anchor=\"end\" x=\"79\" y=\"4.199999999999999\" style=\"font-family: 'Open Sans', verdana, arial, sans-serif; font-size: 12px; fill: rgb(42, 63, 95); fill-opacity: 1; white-space: pre; opacity: 1;\" transform=\"translate(0,427.19)\">100</text></g><g class=\"y2tick\"><text text-anchor=\"end\" x=\"79\" y=\"4.199999999999999\" style=\"font-family: 'Open Sans', verdana, arial, sans-serif; font-size: 12px; fill: rgb(42, 63, 95); fill-opacity: 1; white-space: pre; opacity: 1;\" transform=\"translate(0,353.48)\">150</text></g></g><g class=\"overaxes-above\"/></g></g><g class=\"polarlayer\"/><g class=\"smithlayer\"/><g class=\"ternarylayer\"/><g class=\"geolayer\"/><g class=\"funnelarealayer\"/><g class=\"pielayer\"/><g class=\"iciclelayer\"/><g class=\"treemaplayer\"/><g class=\"sunburstlayer\"/><g class=\"glimages\"/><defs id=\"topdefs-c13aef\"><g class=\"clips\"/><clipPath id=\"legendc13aef\"><rect width=\"101\" height=\"115\" x=\"0\" y=\"0\"/></clipPath></defs><g class=\"layer-above\"><g class=\"imagelayer\"/><g class=\"shapelayer\"/></g><g class=\"infolayer\"><g class=\"legend\" pointer-events=\"all\" transform=\"translate(886.82,100)\"><rect class=\"bg\" shape-rendering=\"crispEdges\" width=\"101\" height=\"115\" x=\"0\" y=\"0\" style=\"stroke: rgb(68, 68, 68); stroke-opacity: 1; fill: rgb(255, 255, 255); fill-opacity: 1; stroke-width: 0px;\"/><g class=\"scrollbox\" transform=\"\" clip-path=\"url(#legendc13aef)\"><g class=\"groups\" transform=\"\"><g class=\"traces\" transform=\"translate(0,14.5)\" style=\"opacity: 1;\"><text class=\"legendtext\" text-anchor=\"start\" x=\"40\" y=\"4.680000000000001\" style=\"font-family: 'Open Sans', verdana, arial, sans-serif; font-size: 12px; fill: rgb(42, 63, 95); fill-opacity: 1; white-space: pre;\">Actual</text><g class=\"layers\" style=\"opacity: 1;\"><g class=\"legendfill\"/><g class=\"legendlines\"><path class=\"js-line\" d=\"M5,0h30\" style=\"fill: none; stroke: rgb(99, 110, 250); stroke-opacity: 1; stroke-width: 2px;\"/></g><g class=\"legendsymbols\"><g class=\"legendpoints\"/></g></g><rect class=\"legendtoggle\" x=\"0\" y=\"-9.5\" width=\"95.890625\" height=\"19\" style=\"fill: rgb(0, 0, 0); fill-opacity: 0;\"/></g><g class=\"traces\" transform=\"translate(0,33.5)\" style=\"opacity: 1;\"><text class=\"legendtext\" text-anchor=\"start\" x=\"40\" y=\"4.680000000000001\" style=\"font-family: 'Open Sans', verdana, arial, sans-serif; font-size: 12px; fill: rgb(42, 63, 95); fill-opacity: 1; white-space: pre;\">Predicted</text><g class=\"layers\" style=\"opacity: 1;\"><g class=\"legendfill\"/><g class=\"legendlines\"><path class=\"js-line\" d=\"M5,0h30\" style=\"fill: none; stroke: rgb(239, 85, 59); stroke-opacity: 1; stroke-width: 2px;\"/></g><g class=\"legendsymbols\"><g class=\"legendpoints\"/></g></g><rect class=\"legendtoggle\" x=\"0\" y=\"-9.5\" width=\"95.890625\" height=\"19\" style=\"fill: rgb(0, 0, 0); fill-opacity: 0;\"/></g></g><g class=\"groups\" transform=\"translate(0,10)\"><g class=\"traces\" transform=\"translate(0,52.5)\" style=\"opacity: 1;\"><text class=\"legendtext\" text-anchor=\"start\" x=\"40\" y=\"4.680000000000001\" style=\"font-family: 'Open Sans', verdana, arial, sans-serif; font-size: 12px; fill: rgb(42, 63, 95); fill-opacity: 1; white-space: pre;\">Train</text><g class=\"layers\" style=\"opacity: 1;\"><g class=\"legendfill\"/><g class=\"legendlines\"><path class=\"js-line\" d=\"M5,0h30\" style=\"fill: none; stroke: rgb(0, 204, 150); stroke-opacity: 1; stroke-width: 2px;\"/></g><g class=\"legendsymbols\"><g class=\"legendpoints\"/></g></g><rect class=\"legendtoggle\" x=\"0\" y=\"-9.5\" width=\"95.890625\" height=\"19\" style=\"fill: rgb(0, 0, 0); fill-opacity: 0;\"/></g><g class=\"traces\" transform=\"translate(0,71.5)\" style=\"opacity: 1;\"><text class=\"legendtext\" text-anchor=\"start\" x=\"40\" y=\"4.680000000000001\" style=\"font-family: 'Open Sans', verdana, arial, sans-serif; font-size: 12px; fill: rgb(42, 63, 95); fill-opacity: 1; white-space: pre;\">Test</text><g class=\"layers\" style=\"opacity: 1;\"><g class=\"legendfill\"/><g class=\"legendlines\"><path class=\"js-line\" d=\"M5,0h30\" style=\"fill: none; stroke: rgb(171, 99, 250); stroke-opacity: 1; stroke-width: 2px;\"/></g><g class=\"legendsymbols\"><g class=\"legendpoints\"/></g></g><rect class=\"legendtoggle\" x=\"0\" y=\"-9.5\" width=\"95.890625\" height=\"19\" style=\"fill: rgb(0, 0, 0); fill-opacity: 0;\"/></g><g class=\"traces\" transform=\"translate(0,90.5)\" style=\"opacity: 1;\"><text class=\"legendtext\" text-anchor=\"start\" x=\"40\" y=\"4.680000000000001\" style=\"font-family: 'Open Sans', verdana, arial, sans-serif; font-size: 12px; fill: rgb(42, 63, 95); fill-opacity: 1; white-space: pre;\">Forecast</text><g class=\"layers\" style=\"opacity: 1;\"><g class=\"legendfill\"/><g class=\"legendlines\"><path class=\"js-line\" d=\"M5,0h30\" style=\"fill: none; stroke: rgb(255, 161, 90); stroke-opacity: 1; stroke-width: 2px;\"/></g><g class=\"legendsymbols\"><g class=\"legendpoints\"/></g></g><rect class=\"legendtoggle\" x=\"0\" y=\"-9.5\" width=\"95.890625\" height=\"19\" style=\"fill: rgb(0, 0, 0); fill-opacity: 0;\"/></g></g></g><rect class=\"scrollbar\" rx=\"20\" ry=\"3\" width=\"0\" height=\"0\" x=\"0\" y=\"0\" style=\"fill: rgb(128, 139, 164); fill-opacity: 1;\"/></g><g class=\"g-gtitle\"><text class=\"gtitle\" x=\"50\" y=\"50\" text-anchor=\"start\" dy=\"0em\" style=\"font-family: 'Open Sans', verdana, arial, sans-serif; font-size: 17px; fill: rgb(42, 63, 95); opacity: 1; font-weight: normal; white-space: pre;\">ARIMA Predictions - DEN</text></g><g class=\"g-xtitle\"/><g class=\"g-x2title\"/><g class=\"g-ytitle\"/><g class=\"g-y2title\"/></g></svg>"
     },
     "metadata": {},
     "output_type": "display_data"
    }
   ],
   "source": [
    "model_name='ARIMA'\n",
    "\n",
    "# Predict\n",
    "predictions = model.predict(n_periods=test.shape[0], dynamic=False, typ='levels')\n",
    "\n",
    "# Forecast accuracy\n",
    "forecast_accuracy(model_name, test[dep_var], predictions, True, True)"
   ]
  },
  {
   "cell_type": "code",
   "execution_count": 38,
   "metadata": {},
   "outputs": [
    {
     "data": {
      "text/html": [
       "<div>\n",
       "<style scoped>\n",
       "    .dataframe tbody tr th:only-of-type {\n",
       "        vertical-align: middle;\n",
       "    }\n",
       "\n",
       "    .dataframe tbody tr th {\n",
       "        vertical-align: top;\n",
       "    }\n",
       "\n",
       "    .dataframe thead th {\n",
       "        text-align: right;\n",
       "    }\n",
       "</style>\n",
       "<table border=\"1\" class=\"dataframe\">\n",
       "  <thead>\n",
       "    <tr style=\"text-align: right;\">\n",
       "      <th></th>\n",
       "      <th>Simple Exponential Smoothing</th>\n",
       "      <th>Double Exponential Smoothing</th>\n",
       "      <th>Triple Exponential Smoothing</th>\n",
       "      <th>ARIMA</th>\n",
       "    </tr>\n",
       "  </thead>\n",
       "  <tbody>\n",
       "    <tr>\n",
       "      <th>Mean Absolute Error</th>\n",
       "      <td>22.715779</td>\n",
       "      <td>24.368236</td>\n",
       "      <td>26.216502</td>\n",
       "      <td>18.363616</td>\n",
       "    </tr>\n",
       "    <tr>\n",
       "      <th>Mean Squared Error</th>\n",
       "      <td>736.196571</td>\n",
       "      <td>831.541784</td>\n",
       "      <td>962.720562</td>\n",
       "      <td>499.784599</td>\n",
       "    </tr>\n",
       "    <tr>\n",
       "      <th>Root Mean Squared Error</th>\n",
       "      <td>27.132943</td>\n",
       "      <td>28.836466</td>\n",
       "      <td>31.027739</td>\n",
       "      <td>22.355863</td>\n",
       "    </tr>\n",
       "    <tr>\n",
       "      <th>R^2</th>\n",
       "      <td>-0.715648</td>\n",
       "      <td>-0.937842</td>\n",
       "      <td>-1.243544</td>\n",
       "      <td>-0.164709</td>\n",
       "    </tr>\n",
       "    <tr>\n",
       "      <th>Mean Absolute Percentage Error</th>\n",
       "      <td>31.431946</td>\n",
       "      <td>33.694813</td>\n",
       "      <td>36.019880</td>\n",
       "      <td>24.747154</td>\n",
       "    </tr>\n",
       "    <tr>\n",
       "      <th>Accuracy</th>\n",
       "      <td>68.568054</td>\n",
       "      <td>66.305187</td>\n",
       "      <td>63.980120</td>\n",
       "      <td>75.252846</td>\n",
       "    </tr>\n",
       "  </tbody>\n",
       "</table>\n",
       "</div>"
      ],
      "text/plain": [
       "                                Simple Exponential Smoothing  \\\n",
       "Mean Absolute Error                                22.715779   \n",
       "Mean Squared Error                                736.196571   \n",
       "Root Mean Squared Error                            27.132943   \n",
       "R^2                                                -0.715648   \n",
       "Mean Absolute Percentage Error                     31.431946   \n",
       "Accuracy                                           68.568054   \n",
       "\n",
       "                                Double Exponential Smoothing  \\\n",
       "Mean Absolute Error                                24.368236   \n",
       "Mean Squared Error                                831.541784   \n",
       "Root Mean Squared Error                            28.836466   \n",
       "R^2                                                -0.937842   \n",
       "Mean Absolute Percentage Error                     33.694813   \n",
       "Accuracy                                           66.305187   \n",
       "\n",
       "                                Triple Exponential Smoothing       ARIMA  \n",
       "Mean Absolute Error                                26.216502   18.363616  \n",
       "Mean Squared Error                                962.720562  499.784599  \n",
       "Root Mean Squared Error                            31.027739   22.355863  \n",
       "R^2                                                -1.243544   -0.164709  \n",
       "Mean Absolute Percentage Error                     36.019880   24.747154  \n",
       "Accuracy                                           63.980120   75.252846  "
      ]
     },
     "execution_count": 38,
     "metadata": {},
     "output_type": "execute_result"
    }
   ],
   "source": [
    "metrics"
   ]
  },
  {
   "attachments": {},
   "cell_type": "markdown",
   "metadata": {},
   "source": [
    "#### SARIMA"
   ]
  },
  {
   "cell_type": "code",
   "execution_count": 39,
   "metadata": {},
   "outputs": [
    {
     "name": "stdout",
     "output_type": "stream",
     "text": [
      "Performing stepwise search to minimize aic\n",
      " ARIMA(1,1,1)(0,1,1)[12]             : AIC=1095.805, Time=0.27 sec\n",
      " ARIMA(0,1,0)(0,1,0)[12]             : AIC=1184.811, Time=0.02 sec\n",
      " ARIMA(1,1,0)(1,1,0)[12]             : AIC=1128.966, Time=0.11 sec\n",
      " ARIMA(0,1,1)(0,1,1)[12]             : AIC=1096.570, Time=0.22 sec\n",
      " ARIMA(1,1,1)(0,1,0)[12]             : AIC=1128.134, Time=0.06 sec\n",
      " ARIMA(1,1,1)(1,1,1)[12]             : AIC=1096.271, Time=0.40 sec\n",
      " ARIMA(1,1,1)(0,1,2)[12]             : AIC=1096.272, Time=0.79 sec\n",
      " ARIMA(1,1,1)(1,1,0)[12]             : AIC=1110.376, Time=0.17 sec\n",
      " ARIMA(1,1,1)(1,1,2)[12]             : AIC=1098.227, Time=1.37 sec\n",
      " ARIMA(1,1,0)(0,1,1)[12]             : AIC=1113.364, Time=0.21 sec\n",
      " ARIMA(2,1,1)(0,1,1)[12]             : AIC=1094.170, Time=0.38 sec\n",
      " ARIMA(2,1,1)(0,1,0)[12]             : AIC=1126.752, Time=0.08 sec\n",
      " ARIMA(2,1,1)(1,1,1)[12]             : AIC=1095.334, Time=0.61 sec\n",
      " ARIMA(2,1,1)(0,1,2)[12]             : AIC=1095.396, Time=1.18 sec\n",
      " ARIMA(2,1,1)(1,1,0)[12]             : AIC=1106.691, Time=0.23 sec\n",
      " ARIMA(2,1,1)(1,1,2)[12]             : AIC=1097.334, Time=2.26 sec\n",
      " ARIMA(2,1,0)(0,1,1)[12]             : AIC=1092.839, Time=0.27 sec\n",
      " ARIMA(2,1,0)(0,1,0)[12]             : AIC=1124.914, Time=0.07 sec\n",
      " ARIMA(2,1,0)(1,1,1)[12]             : AIC=1093.937, Time=0.45 sec\n",
      " ARIMA(2,1,0)(0,1,2)[12]             : AIC=1093.987, Time=0.73 sec\n",
      " ARIMA(2,1,0)(1,1,0)[12]             : AIC=1105.442, Time=0.16 sec\n",
      " ARIMA(2,1,0)(1,1,2)[12]             : AIC=1095.935, Time=1.56 sec\n",
      " ARIMA(3,1,0)(0,1,1)[12]             : AIC=1094.449, Time=0.33 sec\n",
      " ARIMA(3,1,1)(0,1,1)[12]             : AIC=inf, Time=1.26 sec\n",
      " ARIMA(2,1,0)(0,1,1)[12] intercept   : AIC=1094.837, Time=0.41 sec\n",
      "\n",
      "Best model:  ARIMA(2,1,0)(0,1,1)[12]          \n",
      "Total fit time: 13.619 seconds\n"
     ]
    }
   ],
   "source": [
    "# Seasonal - fit stepwise auto-ARIMA\n",
    "model = auto_arima(train[dep_var],\n",
    "                    start_p=1, \n",
    "                    start_q=1,\n",
    "                    test='adf',                 # Use adftest to find optimal 'd'\n",
    "                    max_p=3, max_q=3,           # Maximum p and q\n",
    "                    m=12,                       # Frequency of series (if m==1, seasonal is set to FALSE automatically) - 12 months\n",
    "                    start_P=0, \n",
    "                    seasonal=True,              # set to seasonal\n",
    "                    d=None,                     # Let model determine 'd'\n",
    "                    D=1,                        # Order of the seasonal differencing\n",
    "                    trace=True,                 # Logs \n",
    "                    error_action='warn',        # Shows errors ('ignore' silences these)\n",
    "                    suppress_warnings=True, \n",
    "                    stepwise=True)  "
   ]
  },
  {
   "cell_type": "code",
   "execution_count": 40,
   "metadata": {},
   "outputs": [],
   "source": [
    "#model.plot_diagnostics(figsize=(15,12))\n",
    "#plt.show()"
   ]
  },
  {
   "cell_type": "code",
   "execution_count": 41,
   "metadata": {},
   "outputs": [
    {
     "data": {
      "text/html": [
       "<table class=\"simpletable\">\n",
       "<caption>SARIMAX Results</caption>\n",
       "<tr>\n",
       "  <th>Dep. Variable:</th>                   <td>y</td>                <th>  No. Observations:  </th>    <td>155</td>  \n",
       "</tr>\n",
       "<tr>\n",
       "  <th>Model:</th>           <td>SARIMAX(2, 1, 0)x(0, 1, [1], 12)</td> <th>  Log Likelihood     </th> <td>-542.419</td>\n",
       "</tr>\n",
       "<tr>\n",
       "  <th>Date:</th>                    <td>Thu, 16 Feb 2023</td>         <th>  AIC                </th> <td>1092.839</td>\n",
       "</tr>\n",
       "<tr>\n",
       "  <th>Time:</th>                        <td>09:10:21</td>             <th>  BIC                </th> <td>1104.662</td>\n",
       "</tr>\n",
       "<tr>\n",
       "  <th>Sample:</th>                     <td>02-01-2007</td>            <th>  HQIC               </th> <td>1097.643</td>\n",
       "</tr>\n",
       "<tr>\n",
       "  <th></th>                           <td>- 12-01-2019</td>           <th>                     </th>     <td> </td>   \n",
       "</tr>\n",
       "<tr>\n",
       "  <th>Covariance Type:</th>                <td>opg</td>               <th>                     </th>     <td> </td>   \n",
       "</tr>\n",
       "</table>\n",
       "<table class=\"simpletable\">\n",
       "<tr>\n",
       "      <td></td>        <th>coef</th>     <th>std err</th>      <th>z</th>      <th>P>|z|</th>  <th>[0.025</th>    <th>0.975]</th>  \n",
       "</tr>\n",
       "<tr>\n",
       "  <th>ar.L1</th>    <td>   -0.7529</td> <td>    0.063</td> <td>  -12.022</td> <td> 0.000</td> <td>   -0.876</td> <td>   -0.630</td>\n",
       "</tr>\n",
       "<tr>\n",
       "  <th>ar.L2</th>    <td>   -0.3833</td> <td>    0.065</td> <td>   -5.868</td> <td> 0.000</td> <td>   -0.511</td> <td>   -0.255</td>\n",
       "</tr>\n",
       "<tr>\n",
       "  <th>ma.S.L12</th> <td>   -0.6818</td> <td>    0.080</td> <td>   -8.489</td> <td> 0.000</td> <td>   -0.839</td> <td>   -0.524</td>\n",
       "</tr>\n",
       "<tr>\n",
       "  <th>sigma2</th>   <td>  114.9301</td> <td>   11.440</td> <td>   10.046</td> <td> 0.000</td> <td>   92.508</td> <td>  137.352</td>\n",
       "</tr>\n",
       "</table>\n",
       "<table class=\"simpletable\">\n",
       "<tr>\n",
       "  <th>Ljung-Box (L1) (Q):</th>     <td>0.04</td> <th>  Jarque-Bera (JB):  </th> <td>12.52</td>\n",
       "</tr>\n",
       "<tr>\n",
       "  <th>Prob(Q):</th>                <td>0.84</td> <th>  Prob(JB):          </th> <td>0.00</td> \n",
       "</tr>\n",
       "<tr>\n",
       "  <th>Heteroskedasticity (H):</th> <td>2.92</td> <th>  Skew:              </th> <td>-0.42</td>\n",
       "</tr>\n",
       "<tr>\n",
       "  <th>Prob(H) (two-sided):</th>    <td>0.00</td> <th>  Kurtosis:          </th> <td>4.18</td> \n",
       "</tr>\n",
       "</table><br/><br/>Warnings:<br/>[1] Covariance matrix calculated using the outer product of gradients (complex-step)."
      ],
      "text/plain": [
       "<class 'statsmodels.iolib.summary.Summary'>\n",
       "\"\"\"\n",
       "                                      SARIMAX Results                                       \n",
       "============================================================================================\n",
       "Dep. Variable:                                    y   No. Observations:                  155\n",
       "Model:             SARIMAX(2, 1, 0)x(0, 1, [1], 12)   Log Likelihood                -542.419\n",
       "Date:                              Thu, 16 Feb 2023   AIC                           1092.839\n",
       "Time:                                      09:10:21   BIC                           1104.662\n",
       "Sample:                                  02-01-2007   HQIC                          1097.643\n",
       "                                       - 12-01-2019                                         \n",
       "Covariance Type:                                opg                                         \n",
       "==============================================================================\n",
       "                 coef    std err          z      P>|z|      [0.025      0.975]\n",
       "------------------------------------------------------------------------------\n",
       "ar.L1         -0.7529      0.063    -12.022      0.000      -0.876      -0.630\n",
       "ar.L2         -0.3833      0.065     -5.868      0.000      -0.511      -0.255\n",
       "ma.S.L12      -0.6818      0.080     -8.489      0.000      -0.839      -0.524\n",
       "sigma2       114.9301     11.440     10.046      0.000      92.508     137.352\n",
       "===================================================================================\n",
       "Ljung-Box (L1) (Q):                   0.04   Jarque-Bera (JB):                12.52\n",
       "Prob(Q):                              0.84   Prob(JB):                         0.00\n",
       "Heteroskedasticity (H):               2.92   Skew:                            -0.42\n",
       "Prob(H) (two-sided):                  0.00   Kurtosis:                         4.18\n",
       "===================================================================================\n",
       "\n",
       "Warnings:\n",
       "[1] Covariance matrix calculated using the outer product of gradients (complex-step).\n",
       "\"\"\""
      ]
     },
     "execution_count": 41,
     "metadata": {},
     "output_type": "execute_result"
    }
   ],
   "source": [
    "model.summary()"
   ]
  },
  {
   "cell_type": "code",
   "execution_count": 42,
   "metadata": {},
   "outputs": [
    {
     "name": "stdout",
     "output_type": "stream",
     "text": [
      "SARIMA Model Performance:\n",
      "Mean Absolute Error: 25.95.\n",
      "Mean Squared Error: 939.88.\n",
      "Root Mean Squared Error: 30.66.\n",
      "R^2 Score = -1.19.\n",
      "Mean Absolute Percentage Error: 35.37%.\n",
      "Accuracy = 64.63%.\n"
     ]
    },
    {
     "data": {
      "image/svg+xml": "<svg class=\"main-svg\" xmlns=\"http://www.w3.org/2000/svg\" xmlns:xlink=\"http://www.w3.org/1999/xlink\" width=\"1000\" height=\"600\" style=\"\" viewBox=\"0 0 1000 600\"><rect x=\"0\" y=\"0\" width=\"1000\" height=\"600\" style=\"fill: rgb(255, 255, 255); fill-opacity: 1;\"/><defs id=\"defs-2e7171\"><g class=\"clips\"><clipPath id=\"clip2e7171xyplot\" class=\"plotclip\"><rect width=\"791\" height=\"178.50000000000003\"/></clipPath><clipPath id=\"clip2e7171x2y2plot\" class=\"plotclip\"><rect width=\"791\" height=\"178.5\"/></clipPath><clipPath class=\"axesclip\" id=\"clip2e7171x\"><rect x=\"80\" y=\"0\" width=\"791\" height=\"600\"/></clipPath><clipPath class=\"axesclip\" id=\"clip2e7171y\"><rect x=\"0\" y=\"100\" width=\"1000\" height=\"178.50000000000003\"/></clipPath><clipPath class=\"axesclip\" id=\"clip2e7171xy\"><rect x=\"80\" y=\"100\" width=\"791\" height=\"178.50000000000003\"/></clipPath><clipPath class=\"axesclip\" id=\"clip2e7171y2\"><rect x=\"0\" y=\"341.5\" width=\"1000\" height=\"178.5\"/></clipPath><clipPath class=\"axesclip\" id=\"clip2e7171xy2\"><rect x=\"80\" y=\"341.5\" width=\"791\" height=\"178.5\"/></clipPath><clipPath class=\"axesclip\" id=\"clip2e7171x2\"><rect x=\"80\" y=\"0\" width=\"791\" height=\"600\"/></clipPath><clipPath class=\"axesclip\" id=\"clip2e7171x2y\"><rect x=\"80\" y=\"100\" width=\"791\" height=\"178.50000000000003\"/></clipPath><clipPath class=\"axesclip\" id=\"clip2e7171x2y2\"><rect x=\"80\" y=\"341.5\" width=\"791\" height=\"178.5\"/></clipPath></g><g class=\"gradients\"/><g class=\"patterns\"/></defs><g class=\"bglayer\"><rect class=\"bg\" x=\"80\" y=\"100\" width=\"791\" height=\"178.50000000000003\" style=\"fill: rgb(229, 236, 246); fill-opacity: 1; stroke-width: 0;\"/><rect class=\"bg\" x=\"80\" y=\"341.5\" width=\"791\" height=\"178.5\" style=\"fill: rgb(229, 236, 246); fill-opacity: 1; stroke-width: 0;\"/></g><g class=\"layer-below\"><g class=\"imagelayer\"/><g class=\"shapelayer\"/></g><g class=\"cartesianlayer\"><g class=\"subplot xy\"><g class=\"layer-subplot\"><g class=\"shapelayer\"/><g class=\"imagelayer\"/></g><g class=\"minor-gridlayer\"><g class=\"x\"/><g class=\"y\"/></g><g class=\"gridlayer\"><g class=\"x\"><path class=\"xgrid crisp\" transform=\"translate(215.18,0)\" d=\"M0,100v178.50000000000003\" style=\"stroke: rgb(255, 255, 255); stroke-opacity: 1; stroke-width: 1px;\"/><path class=\"xgrid crisp\" transform=\"translate(351.84,0)\" d=\"M0,100v178.50000000000003\" style=\"stroke: rgb(255, 255, 255); stroke-opacity: 1; stroke-width: 1px;\"/><path class=\"xgrid crisp\" transform=\"translate(486.27,0)\" d=\"M0,100v178.50000000000003\" style=\"stroke: rgb(255, 255, 255); stroke-opacity: 1; stroke-width: 1px;\"/><path class=\"xgrid crisp\" transform=\"translate(622.93,0)\" d=\"M0,100v178.50000000000003\" style=\"stroke: rgb(255, 255, 255); stroke-opacity: 1; stroke-width: 1px;\"/><path class=\"xgrid crisp\" transform=\"translate(757.36,0)\" d=\"M0,100v178.50000000000003\" style=\"stroke: rgb(255, 255, 255); stroke-opacity: 1; stroke-width: 1px;\"/></g><g class=\"y\"><path class=\"ygrid crisp\" transform=\"translate(0,259.76)\" d=\"M80,0h791\" style=\"stroke: rgb(255, 255, 255); stroke-opacity: 1; stroke-width: 1px;\"/><path class=\"ygrid crisp\" transform=\"translate(0,221.39)\" d=\"M80,0h791\" style=\"stroke: rgb(255, 255, 255); stroke-opacity: 1; stroke-width: 1px;\"/><path class=\"ygrid crisp\" transform=\"translate(0,183.01999999999998)\" d=\"M80,0h791\" style=\"stroke: rgb(255, 255, 255); stroke-opacity: 1; stroke-width: 1px;\"/><path class=\"ygrid crisp\" transform=\"translate(0,144.65)\" d=\"M80,0h791\" style=\"stroke: rgb(255, 255, 255); stroke-opacity: 1; stroke-width: 1px;\"/><path class=\"ygrid crisp\" transform=\"translate(0,106.28)\" d=\"M80,0h791\" style=\"stroke: rgb(255, 255, 255); stroke-opacity: 1; stroke-width: 1px;\"/></g></g><g class=\"zerolinelayer\"/><path class=\"xlines-below\"/><path class=\"ylines-below\"/><g class=\"overlines-below\"/><g class=\"xaxislayer-below\"/><g class=\"yaxislayer-below\"/><g class=\"overaxes-below\"/><g class=\"plot\" transform=\"translate(80,100)\" clip-path=\"url(#clip2e7171xyplot)\"><g class=\"scatterlayer mlayer\"><g class=\"trace scatter traceafc5b8\" style=\"stroke-miterlimit: 2; opacity: 1;\"><g class=\"fills\"/><g class=\"errorbars\"/><g class=\"lines\"><path class=\"js-line\" d=\"M0,66.77L23.02,107.13L44.56,105.35L67.59,160.29L89.87,146.25L112.89,73.81L135.18,62.07L158.2,77.95L181.22,82.91L203.51,106.36L226.53,71.69L248.81,21.17L271.84,159.99L294.86,163.74L315.66,8.92L338.68,100.75L360.96,85.27L383.99,46.41L406.27,123.75L429.29,97.57L452.32,115.74L474.6,133.17L497.62,108.04L519.91,76.38L542.93,169.58L565.95,160.5L586.75,110.57L609.78,150.69L632.06,122.94L655.08,108.2L677.36,164.41L700.39,132L723.41,129.46L745.69,153.54L768.72,128.3L791,105.08\" style=\"vector-effect: non-scaling-stroke; fill: none; stroke: rgb(99, 110, 250); stroke-opacity: 1; stroke-width: 2px; opacity: 1;\"/></g><g class=\"points\"/><g class=\"text\"/></g><g class=\"trace scatter tracea9aeac\" style=\"stroke-miterlimit: 2; opacity: 1;\"><g class=\"fills\"/><g class=\"errorbars\"/><g class=\"lines\"><path class=\"js-line\" d=\"M0,55.7L23.02,83.25L44.56,31.57L67.59,77.1L89.87,47.68L112.89,32.25L135.18,91.84L158.2,74.22L181.22,103.33L203.51,76.84L226.53,74.83L248.81,95.1L271.84,56.95L294.86,81.37L315.66,28.72L338.68,76.18L360.96,45.68L383.99,30.33L406.27,90.27L429.29,72.36L452.32,101.55L474.6,75.11L497.62,73.03L519.91,93.34L542.93,55.18L565.95,79.59L586.75,26.96L609.78,74.41L632.06,43.91L655.08,28.56L677.36,88.5L700.39,70.59L723.41,99.78L745.69,73.34L768.72,71.26L791,91.57\" style=\"vector-effect: non-scaling-stroke; fill: none; stroke: rgb(239, 85, 59); stroke-opacity: 1; stroke-width: 2px; opacity: 1;\"/></g><g class=\"points\"/><g class=\"text\"/></g></g></g><g class=\"overplot\"/><path class=\"xlines-above crisp\" d=\"M0,0\" style=\"fill: none;\"/><path class=\"ylines-above crisp\" d=\"M0,0\" style=\"fill: none;\"/><g class=\"overlines-above\"/><g class=\"xaxislayer-above\"><g class=\"xtick\"><text text-anchor=\"middle\" x=\"0\" y=\"291.5\" transform=\"translate(80,0)\" style=\"font-family: 'Open Sans', verdana, arial, sans-serif; font-size: 12px; fill: rgb(42, 63, 95); fill-opacity: 1; white-space: pre; opacity: 1;\">Jan 2020</text></g><g class=\"xtick\"><text text-anchor=\"middle\" x=\"0\" y=\"291.5\" style=\"font-family: 'Open Sans', verdana, arial, sans-serif; font-size: 12px; fill: rgb(42, 63, 95); fill-opacity: 1; white-space: pre; opacity: 1;\" transform=\"translate(215.18,0)\">Jul 2020</text></g><g class=\"xtick\"><text text-anchor=\"middle\" x=\"0\" y=\"291.5\" style=\"font-family: 'Open Sans', verdana, arial, sans-serif; font-size: 12px; fill: rgb(42, 63, 95); fill-opacity: 1; white-space: pre; opacity: 1;\" transform=\"translate(351.84,0)\">Jan 2021</text></g><g class=\"xtick\"><text text-anchor=\"middle\" x=\"0\" y=\"291.5\" style=\"font-family: 'Open Sans', verdana, arial, sans-serif; font-size: 12px; fill: rgb(42, 63, 95); fill-opacity: 1; white-space: pre; opacity: 1;\" transform=\"translate(486.27,0)\">Jul 2021</text></g><g class=\"xtick\"><text text-anchor=\"middle\" x=\"0\" y=\"291.5\" style=\"font-family: 'Open Sans', verdana, arial, sans-serif; font-size: 12px; fill: rgb(42, 63, 95); fill-opacity: 1; white-space: pre; opacity: 1;\" transform=\"translate(622.93,0)\">Jan 2022</text></g><g class=\"xtick\"><text text-anchor=\"middle\" x=\"0\" y=\"291.5\" style=\"font-family: 'Open Sans', verdana, arial, sans-serif; font-size: 12px; fill: rgb(42, 63, 95); fill-opacity: 1; white-space: pre; opacity: 1;\" transform=\"translate(757.36,0)\">Jul 2022</text></g></g><g class=\"yaxislayer-above\"><g class=\"ytick\"><text text-anchor=\"end\" x=\"79\" y=\"4.199999999999999\" transform=\"translate(0,259.76)\" style=\"font-family: 'Open Sans', verdana, arial, sans-serif; font-size: 12px; fill: rgb(42, 63, 95); fill-opacity: 1; white-space: pre; opacity: 1;\">60</text></g><g class=\"ytick\"><text text-anchor=\"end\" x=\"79\" y=\"4.199999999999999\" style=\"font-family: 'Open Sans', verdana, arial, sans-serif; font-size: 12px; fill: rgb(42, 63, 95); fill-opacity: 1; white-space: pre; opacity: 1;\" transform=\"translate(0,221.39)\">80</text></g><g class=\"ytick\"><text text-anchor=\"end\" x=\"79\" y=\"4.199999999999999\" style=\"font-family: 'Open Sans', verdana, arial, sans-serif; font-size: 12px; fill: rgb(42, 63, 95); fill-opacity: 1; white-space: pre; opacity: 1;\" transform=\"translate(0,183.01999999999998)\">100</text></g><g class=\"ytick\"><text text-anchor=\"end\" x=\"79\" y=\"4.199999999999999\" style=\"font-family: 'Open Sans', verdana, arial, sans-serif; font-size: 12px; fill: rgb(42, 63, 95); fill-opacity: 1; white-space: pre; opacity: 1;\" transform=\"translate(0,144.65)\">120</text></g><g class=\"ytick\"><text text-anchor=\"end\" x=\"79\" y=\"4.199999999999999\" style=\"font-family: 'Open Sans', verdana, arial, sans-serif; font-size: 12px; fill: rgb(42, 63, 95); fill-opacity: 1; white-space: pre; opacity: 1;\" transform=\"translate(0,106.28)\">140</text></g></g><g class=\"overaxes-above\"/></g><g class=\"subplot x2y2\"><g class=\"layer-subplot\"><g class=\"shapelayer\"/><g class=\"imagelayer\"/></g><g class=\"minor-gridlayer\"><g class=\"x2\"/><g class=\"y2\"/></g><g class=\"gridlayer\"><g class=\"x2\"><path class=\"x2grid crisp\" transform=\"translate(125.69,0)\" d=\"M0,341.5v178.5\" style=\"stroke: rgb(255, 255, 255); stroke-opacity: 1; stroke-width: 1px;\"/><path class=\"x2grid crisp\" transform=\"translate(225.7,0)\" d=\"M0,341.5v178.5\" style=\"stroke: rgb(255, 255, 255); stroke-opacity: 1; stroke-width: 1px;\"/><path class=\"x2grid crisp\" transform=\"translate(325.56,0)\" d=\"M0,341.5v178.5\" style=\"stroke: rgb(255, 255, 255); stroke-opacity: 1; stroke-width: 1px;\"/><path class=\"x2grid crisp\" transform=\"translate(425.57,0)\" d=\"M0,341.5v178.5\" style=\"stroke: rgb(255, 255, 255); stroke-opacity: 1; stroke-width: 1px;\"/><path class=\"x2grid crisp\" transform=\"translate(525.4300000000001,0)\" d=\"M0,341.5v178.5\" style=\"stroke: rgb(255, 255, 255); stroke-opacity: 1; stroke-width: 1px;\"/><path class=\"x2grid crisp\" transform=\"translate(625.44,0)\" d=\"M0,341.5v178.5\" style=\"stroke: rgb(255, 255, 255); stroke-opacity: 1; stroke-width: 1px;\"/><path class=\"x2grid crisp\" transform=\"translate(725.3,0)\" d=\"M0,341.5v178.5\" style=\"stroke: rgb(255, 255, 255); stroke-opacity: 1; stroke-width: 1px;\"/><path class=\"x2grid crisp\" transform=\"translate(825.31,0)\" d=\"M0,341.5v178.5\" style=\"stroke: rgb(255, 255, 255); stroke-opacity: 1; stroke-width: 1px;\"/></g><g class=\"y2\"><path class=\"y2grid crisp\" transform=\"translate(0,500.9)\" d=\"M80,0h791\" style=\"stroke: rgb(255, 255, 255); stroke-opacity: 1; stroke-width: 1px;\"/><path class=\"y2grid crisp\" transform=\"translate(0,427.19)\" d=\"M80,0h791\" style=\"stroke: rgb(255, 255, 255); stroke-opacity: 1; stroke-width: 1px;\"/><path class=\"y2grid crisp\" transform=\"translate(0,353.48)\" d=\"M80,0h791\" style=\"stroke: rgb(255, 255, 255); stroke-opacity: 1; stroke-width: 1px;\"/></g></g><g class=\"zerolinelayer\"/><path class=\"xlines-below\"/><path class=\"ylines-below\"/><g class=\"overlines-below\"/><g class=\"xaxislayer-below\"/><g class=\"yaxislayer-below\"/><g class=\"overaxes-below\"/><g class=\"plot\" transform=\"translate(80,341.5)\" clip-path=\"url(#clip2e7171x2y2plot)\"><g class=\"scatterlayer mlayer\"><g class=\"trace scatter tracebf211b\" style=\"stroke-miterlimit: 2; opacity: 1;\"><g class=\"fills\"/><g class=\"errorbars\"/><g class=\"lines\"><path class=\"js-line\" d=\"M0,140.57L3.83,109.47L8.07,128.04L12.18,110.33L16.42,103.15L20.52,118.11L24.76,118.68L29,118.06L33.11,108.94L37.35,103.08L41.45,114.87L45.69,109.91L49.93,122.14L53.9,125L58.14,95.33L62.25,108.1L66.49,101.49L70.59,121.81L74.83,136L79.07,130.42L83.18,136.18L87.42,161.81L91.52,159.39L95.76,166.46L100,169.58L103.83,148.99L108.08,155.75L112.18,153.25L116.42,136.57L120.52,155.38L124.77,165.41L129.01,149.56L133.11,147.77L137.35,155.55L141.46,132.16L145.7,141.98L149.94,159.58L153.77,113.69L158.01,130.79L162.11,122.05L166.35,100.09L170.46,133.22L174.7,132.47L178.94,117.25L183.04,116.75L187.28,113.71L191.39,100.74L195.63,127.21L199.87,134.3L203.7,89.5L207.94,118.19L212.05,91.29L216.29,87.39L220.39,121.3L224.63,126.17L228.87,115.03L232.98,127.16L237.22,104.48L241.32,101.78L245.56,122.95L249.8,111.78L253.77,116.04L258.01,129.8L262.12,90.83L266.36,113.01L270.46,92.91L274.7,117.84L278.94,114.83L283.05,103.52L287.29,95.43L291.39,142.19L295.63,107.12L299.87,128.94L303.7,105.64L307.95,98.86L316.29,83.93L320.39,112.12L324.64,112.63L328.88,109.94L332.98,90.55L337.22,97.78L341.33,111.25L345.57,94.07L349.81,107.04L353.64,89.58L357.88,92.32L361.98,89.01L366.22,83.03L370.33,111.35L374.57,108.43L378.81,110.19L382.91,93.88L387.15,103.92L391.26,101.59L395.5,96.13L399.74,117.42L403.57,65.85L407.81,88.21L411.92,87.56L416.16,50.63L420.26,94.41L424.5,95.17L428.74,81.26L432.85,89.16L437.09,87.01L441.19,75.42L445.43,92.89L449.67,91.09L453.64,69.17L457.88,63.13L461.99,52.27L466.23,30.88L470.33,98.77L474.57,84.49L478.81,75.6L482.92,87.64L487.16,79.23L491.26,67.68L495.5,66.26L499.74,83.78L503.58,38.51L507.82,82.11L511.92,42.11L516.16,27.81L520.27,102.81L524.51,102.09L528.75,110.47L532.85,74.53L537.09,78.9L541.2,92.02L545.44,62.77L549.68,85.24L553.51,63.74L557.75,72.46L561.85,39.7L566.09,40.01L570.2,92.02L574.44,56.21L578.68,130.5L582.78,90.65L587.03,79.63L591.13,114.12L595.37,50.85L599.61,73.91L603.44,8.93L607.68,93.97L611.79,69.22L616.03,55.22L620.13,89.5L624.37,72.93L628.61,96.59L632.72,75.84L636.96,78.28L641.06,100.67\" style=\"vector-effect: non-scaling-stroke; fill: none; stroke: rgb(0, 204, 150); stroke-opacity: 1; stroke-width: 2px; opacity: 1;\"/></g><g class=\"points\"/><g class=\"text\"/></g><g class=\"trace scatter trace65535c\" style=\"stroke-miterlimit: 2; opacity: 1;\"><g class=\"fills\"/><g class=\"errorbars\"/><g class=\"lines\"><path class=\"js-line\" d=\"M645.3,73.2L649.54,104.21L653.51,102.84L657.75,145.07L661.86,134.27L666.1,78.61L670.2,69.59L674.44,81.79L678.68,85.6L682.79,103.62L687.03,76.98L691.13,38.16L695.37,144.83L699.62,147.71L703.45,28.75L707.69,99.31L711.79,87.42L716.03,57.56L720.14,116.99L724.38,96.87L728.62,110.83L732.72,124.22L736.96,104.92L741.07,80.59L745.31,152.2L749.55,145.22L753.38,106.86L757.62,137.69L761.72,116.36L765.96,105.04L770.07,148.22L774.31,123.32L778.55,121.37L782.65,139.88L786.9,120.48L791,102.64\" style=\"vector-effect: non-scaling-stroke; fill: none; stroke: rgb(171, 99, 250); stroke-opacity: 1; stroke-width: 2px; opacity: 1;\"/></g><g class=\"points\"/><g class=\"text\"/></g><g class=\"trace scatter trace421485\" style=\"stroke-miterlimit: 2; opacity: 1;\"><g class=\"fills\"/><g class=\"errorbars\"/><g class=\"lines\"><path class=\"js-line\" d=\"M645.3,64.7L649.54,85.86L653.51,46.15L657.75,81.14L661.86,58.53L666.1,46.68L670.2,92.46L674.44,78.93L678.68,101.29L682.79,80.94L687.03,79.39L691.13,94.97L695.37,65.65L699.62,84.42L703.45,43.96L707.69,80.43L711.79,57L716.03,45.2L720.14,91.26L724.38,77.49L728.62,99.93L732.72,79.61L736.96,78.01L741.07,93.61L745.31,64.3L749.55,83.05L753.38,42.61L757.62,79.07L761.72,55.63L765.96,43.84L770.07,89.9L774.31,76.13L778.55,98.57L782.65,78.25L786.9,76.65L791,92.25\" style=\"vector-effect: non-scaling-stroke; fill: none; stroke: rgb(255, 161, 90); stroke-opacity: 1; stroke-width: 2px; opacity: 1;\"/></g><g class=\"points\"/><g class=\"text\"/></g></g></g><g class=\"overplot\"/><path class=\"xlines-above crisp\" d=\"M0,0\" style=\"fill: none;\"/><path class=\"ylines-above crisp\" d=\"M0,0\" style=\"fill: none;\"/><g class=\"overlines-above\"/><g class=\"xaxislayer-above\"><g class=\"x2tick\"><text text-anchor=\"middle\" x=\"0\" y=\"533\" transform=\"translate(125.69,0)\" style=\"font-family: 'Open Sans', verdana, arial, sans-serif; font-size: 12px; fill: rgb(42, 63, 95); fill-opacity: 1; white-space: pre; opacity: 1;\">2008</text></g><g class=\"x2tick\"><text text-anchor=\"middle\" x=\"0\" y=\"533\" style=\"font-family: 'Open Sans', verdana, arial, sans-serif; font-size: 12px; fill: rgb(42, 63, 95); fill-opacity: 1; white-space: pre; opacity: 1;\" transform=\"translate(225.7,0)\">2010</text></g><g class=\"x2tick\"><text text-anchor=\"middle\" x=\"0\" y=\"533\" style=\"font-family: 'Open Sans', verdana, arial, sans-serif; font-size: 12px; fill: rgb(42, 63, 95); fill-opacity: 1; white-space: pre; opacity: 1;\" transform=\"translate(325.56,0)\">2012</text></g><g class=\"x2tick\"><text text-anchor=\"middle\" x=\"0\" y=\"533\" style=\"font-family: 'Open Sans', verdana, arial, sans-serif; font-size: 12px; fill: rgb(42, 63, 95); fill-opacity: 1; white-space: pre; opacity: 1;\" transform=\"translate(425.57,0)\">2014</text></g><g class=\"x2tick\"><text text-anchor=\"middle\" x=\"0\" y=\"533\" style=\"font-family: 'Open Sans', verdana, arial, sans-serif; font-size: 12px; fill: rgb(42, 63, 95); fill-opacity: 1; white-space: pre; opacity: 1;\" transform=\"translate(525.4300000000001,0)\">2016</text></g><g class=\"x2tick\"><text text-anchor=\"middle\" x=\"0\" y=\"533\" style=\"font-family: 'Open Sans', verdana, arial, sans-serif; font-size: 12px; fill: rgb(42, 63, 95); fill-opacity: 1; white-space: pre; opacity: 1;\" transform=\"translate(625.44,0)\">2018</text></g><g class=\"x2tick\"><text text-anchor=\"middle\" x=\"0\" y=\"533\" style=\"font-family: 'Open Sans', verdana, arial, sans-serif; font-size: 12px; fill: rgb(42, 63, 95); fill-opacity: 1; white-space: pre; opacity: 1;\" transform=\"translate(725.3,0)\">2020</text></g><g class=\"x2tick\"><text text-anchor=\"middle\" x=\"0\" y=\"533\" style=\"font-family: 'Open Sans', verdana, arial, sans-serif; font-size: 12px; fill: rgb(42, 63, 95); fill-opacity: 1; white-space: pre; opacity: 1;\" transform=\"translate(825.31,0)\">2022</text></g></g><g class=\"yaxislayer-above\"><g class=\"y2tick\"><text text-anchor=\"end\" x=\"79\" y=\"4.199999999999999\" transform=\"translate(0,500.9)\" style=\"font-family: 'Open Sans', verdana, arial, sans-serif; font-size: 12px; fill: rgb(42, 63, 95); fill-opacity: 1; white-space: pre; opacity: 1;\">50</text></g><g class=\"y2tick\"><text text-anchor=\"end\" x=\"79\" y=\"4.199999999999999\" style=\"font-family: 'Open Sans', verdana, arial, sans-serif; font-size: 12px; fill: rgb(42, 63, 95); fill-opacity: 1; white-space: pre; opacity: 1;\" transform=\"translate(0,427.19)\">100</text></g><g class=\"y2tick\"><text text-anchor=\"end\" x=\"79\" y=\"4.199999999999999\" style=\"font-family: 'Open Sans', verdana, arial, sans-serif; font-size: 12px; fill: rgb(42, 63, 95); fill-opacity: 1; white-space: pre; opacity: 1;\" transform=\"translate(0,353.48)\">150</text></g></g><g class=\"overaxes-above\"/></g></g><g class=\"polarlayer\"/><g class=\"smithlayer\"/><g class=\"ternarylayer\"/><g class=\"geolayer\"/><g class=\"funnelarealayer\"/><g class=\"pielayer\"/><g class=\"iciclelayer\"/><g class=\"treemaplayer\"/><g class=\"sunburstlayer\"/><g class=\"glimages\"/><defs id=\"topdefs-2e7171\"><g class=\"clips\"/><clipPath id=\"legend2e7171\"><rect width=\"101\" height=\"115\" x=\"0\" y=\"0\"/></clipPath></defs><g class=\"layer-above\"><g class=\"imagelayer\"/><g class=\"shapelayer\"/></g><g class=\"infolayer\"><g class=\"legend\" pointer-events=\"all\" transform=\"translate(886.82,100)\"><rect class=\"bg\" shape-rendering=\"crispEdges\" width=\"101\" height=\"115\" x=\"0\" y=\"0\" style=\"stroke: rgb(68, 68, 68); stroke-opacity: 1; fill: rgb(255, 255, 255); fill-opacity: 1; stroke-width: 0px;\"/><g class=\"scrollbox\" transform=\"\" clip-path=\"url(#legend2e7171)\"><g class=\"groups\" transform=\"\"><g class=\"traces\" transform=\"translate(0,14.5)\" style=\"opacity: 1;\"><text class=\"legendtext\" text-anchor=\"start\" x=\"40\" y=\"4.680000000000001\" style=\"font-family: 'Open Sans', verdana, arial, sans-serif; font-size: 12px; fill: rgb(42, 63, 95); fill-opacity: 1; white-space: pre;\">Actual</text><g class=\"layers\" style=\"opacity: 1;\"><g class=\"legendfill\"/><g class=\"legendlines\"><path class=\"js-line\" d=\"M5,0h30\" style=\"fill: none; stroke: rgb(99, 110, 250); stroke-opacity: 1; stroke-width: 2px;\"/></g><g class=\"legendsymbols\"><g class=\"legendpoints\"/></g></g><rect class=\"legendtoggle\" x=\"0\" y=\"-9.5\" width=\"95.890625\" height=\"19\" style=\"fill: rgb(0, 0, 0); fill-opacity: 0;\"/></g><g class=\"traces\" transform=\"translate(0,33.5)\" style=\"opacity: 1;\"><text class=\"legendtext\" text-anchor=\"start\" x=\"40\" y=\"4.680000000000001\" style=\"font-family: 'Open Sans', verdana, arial, sans-serif; font-size: 12px; fill: rgb(42, 63, 95); fill-opacity: 1; white-space: pre;\">Predicted</text><g class=\"layers\" style=\"opacity: 1;\"><g class=\"legendfill\"/><g class=\"legendlines\"><path class=\"js-line\" d=\"M5,0h30\" style=\"fill: none; stroke: rgb(239, 85, 59); stroke-opacity: 1; stroke-width: 2px;\"/></g><g class=\"legendsymbols\"><g class=\"legendpoints\"/></g></g><rect class=\"legendtoggle\" x=\"0\" y=\"-9.5\" width=\"95.890625\" height=\"19\" style=\"fill: rgb(0, 0, 0); fill-opacity: 0;\"/></g></g><g class=\"groups\" transform=\"translate(0,10)\"><g class=\"traces\" transform=\"translate(0,52.5)\" style=\"opacity: 1;\"><text class=\"legendtext\" text-anchor=\"start\" x=\"40\" y=\"4.680000000000001\" style=\"font-family: 'Open Sans', verdana, arial, sans-serif; font-size: 12px; fill: rgb(42, 63, 95); fill-opacity: 1; white-space: pre;\">Train</text><g class=\"layers\" style=\"opacity: 1;\"><g class=\"legendfill\"/><g class=\"legendlines\"><path class=\"js-line\" d=\"M5,0h30\" style=\"fill: none; stroke: rgb(0, 204, 150); stroke-opacity: 1; stroke-width: 2px;\"/></g><g class=\"legendsymbols\"><g class=\"legendpoints\"/></g></g><rect class=\"legendtoggle\" x=\"0\" y=\"-9.5\" width=\"95.890625\" height=\"19\" style=\"fill: rgb(0, 0, 0); fill-opacity: 0;\"/></g><g class=\"traces\" transform=\"translate(0,71.5)\" style=\"opacity: 1;\"><text class=\"legendtext\" text-anchor=\"start\" x=\"40\" y=\"4.680000000000001\" style=\"font-family: 'Open Sans', verdana, arial, sans-serif; font-size: 12px; fill: rgb(42, 63, 95); fill-opacity: 1; white-space: pre;\">Test</text><g class=\"layers\" style=\"opacity: 1;\"><g class=\"legendfill\"/><g class=\"legendlines\"><path class=\"js-line\" d=\"M5,0h30\" style=\"fill: none; stroke: rgb(171, 99, 250); stroke-opacity: 1; stroke-width: 2px;\"/></g><g class=\"legendsymbols\"><g class=\"legendpoints\"/></g></g><rect class=\"legendtoggle\" x=\"0\" y=\"-9.5\" width=\"95.890625\" height=\"19\" style=\"fill: rgb(0, 0, 0); fill-opacity: 0;\"/></g><g class=\"traces\" transform=\"translate(0,90.5)\" style=\"opacity: 1;\"><text class=\"legendtext\" text-anchor=\"start\" x=\"40\" y=\"4.680000000000001\" style=\"font-family: 'Open Sans', verdana, arial, sans-serif; font-size: 12px; fill: rgb(42, 63, 95); fill-opacity: 1; white-space: pre;\">Forecast</text><g class=\"layers\" style=\"opacity: 1;\"><g class=\"legendfill\"/><g class=\"legendlines\"><path class=\"js-line\" d=\"M5,0h30\" style=\"fill: none; stroke: rgb(255, 161, 90); stroke-opacity: 1; stroke-width: 2px;\"/></g><g class=\"legendsymbols\"><g class=\"legendpoints\"/></g></g><rect class=\"legendtoggle\" x=\"0\" y=\"-9.5\" width=\"95.890625\" height=\"19\" style=\"fill: rgb(0, 0, 0); fill-opacity: 0;\"/></g></g></g><rect class=\"scrollbar\" rx=\"20\" ry=\"3\" width=\"0\" height=\"0\" x=\"0\" y=\"0\" style=\"fill: rgb(128, 139, 164); fill-opacity: 1;\"/></g><g class=\"g-gtitle\"><text class=\"gtitle\" x=\"50\" y=\"50\" text-anchor=\"start\" dy=\"0em\" style=\"font-family: 'Open Sans', verdana, arial, sans-serif; font-size: 17px; fill: rgb(42, 63, 95); opacity: 1; font-weight: normal; white-space: pre;\">SARIMA Predictions - DEN</text></g><g class=\"g-xtitle\"/><g class=\"g-x2title\"/><g class=\"g-ytitle\"/><g class=\"g-y2title\"/></g></svg>"
     },
     "metadata": {},
     "output_type": "display_data"
    }
   ],
   "source": [
    "model_name='SARIMA'\n",
    "\n",
    "# Predict\n",
    "predictions = model.predict(n_periods=test.shape[0], dynamic=False, typ='levels')\n",
    "\n",
    "# Forecast accuracy\n",
    "forecast_accuracy(model_name, test[dep_var], predictions, True, True)"
   ]
  },
  {
   "cell_type": "code",
   "execution_count": 43,
   "metadata": {},
   "outputs": [
    {
     "data": {
      "text/html": [
       "<div>\n",
       "<style scoped>\n",
       "    .dataframe tbody tr th:only-of-type {\n",
       "        vertical-align: middle;\n",
       "    }\n",
       "\n",
       "    .dataframe tbody tr th {\n",
       "        vertical-align: top;\n",
       "    }\n",
       "\n",
       "    .dataframe thead th {\n",
       "        text-align: right;\n",
       "    }\n",
       "</style>\n",
       "<table border=\"1\" class=\"dataframe\">\n",
       "  <thead>\n",
       "    <tr style=\"text-align: right;\">\n",
       "      <th></th>\n",
       "      <th>Simple Exponential Smoothing</th>\n",
       "      <th>Double Exponential Smoothing</th>\n",
       "      <th>Triple Exponential Smoothing</th>\n",
       "      <th>ARIMA</th>\n",
       "      <th>SARIMA</th>\n",
       "    </tr>\n",
       "  </thead>\n",
       "  <tbody>\n",
       "    <tr>\n",
       "      <th>Mean Absolute Error</th>\n",
       "      <td>22.715779</td>\n",
       "      <td>24.368236</td>\n",
       "      <td>26.216502</td>\n",
       "      <td>18.363616</td>\n",
       "      <td>25.953352</td>\n",
       "    </tr>\n",
       "    <tr>\n",
       "      <th>Mean Squared Error</th>\n",
       "      <td>736.196571</td>\n",
       "      <td>831.541784</td>\n",
       "      <td>962.720562</td>\n",
       "      <td>499.784599</td>\n",
       "      <td>939.878417</td>\n",
       "    </tr>\n",
       "    <tr>\n",
       "      <th>Root Mean Squared Error</th>\n",
       "      <td>27.132943</td>\n",
       "      <td>28.836466</td>\n",
       "      <td>31.027739</td>\n",
       "      <td>22.355863</td>\n",
       "      <td>30.657437</td>\n",
       "    </tr>\n",
       "    <tr>\n",
       "      <th>R^2</th>\n",
       "      <td>-0.715648</td>\n",
       "      <td>-0.937842</td>\n",
       "      <td>-1.243544</td>\n",
       "      <td>-0.164709</td>\n",
       "      <td>-1.190312</td>\n",
       "    </tr>\n",
       "    <tr>\n",
       "      <th>Mean Absolute Percentage Error</th>\n",
       "      <td>31.431946</td>\n",
       "      <td>33.694813</td>\n",
       "      <td>36.019880</td>\n",
       "      <td>24.747154</td>\n",
       "      <td>35.370078</td>\n",
       "    </tr>\n",
       "    <tr>\n",
       "      <th>Accuracy</th>\n",
       "      <td>68.568054</td>\n",
       "      <td>66.305187</td>\n",
       "      <td>63.980120</td>\n",
       "      <td>75.252846</td>\n",
       "      <td>64.629922</td>\n",
       "    </tr>\n",
       "  </tbody>\n",
       "</table>\n",
       "</div>"
      ],
      "text/plain": [
       "                                Simple Exponential Smoothing  \\\n",
       "Mean Absolute Error                                22.715779   \n",
       "Mean Squared Error                                736.196571   \n",
       "Root Mean Squared Error                            27.132943   \n",
       "R^2                                                -0.715648   \n",
       "Mean Absolute Percentage Error                     31.431946   \n",
       "Accuracy                                           68.568054   \n",
       "\n",
       "                                Double Exponential Smoothing  \\\n",
       "Mean Absolute Error                                24.368236   \n",
       "Mean Squared Error                                831.541784   \n",
       "Root Mean Squared Error                            28.836466   \n",
       "R^2                                                -0.937842   \n",
       "Mean Absolute Percentage Error                     33.694813   \n",
       "Accuracy                                           66.305187   \n",
       "\n",
       "                                Triple Exponential Smoothing       ARIMA  \\\n",
       "Mean Absolute Error                                26.216502   18.363616   \n",
       "Mean Squared Error                                962.720562  499.784599   \n",
       "Root Mean Squared Error                            31.027739   22.355863   \n",
       "R^2                                                -1.243544   -0.164709   \n",
       "Mean Absolute Percentage Error                     36.019880   24.747154   \n",
       "Accuracy                                           63.980120   75.252846   \n",
       "\n",
       "                                    SARIMA  \n",
       "Mean Absolute Error              25.953352  \n",
       "Mean Squared Error              939.878417  \n",
       "Root Mean Squared Error          30.657437  \n",
       "R^2                              -1.190312  \n",
       "Mean Absolute Percentage Error   35.370078  \n",
       "Accuracy                         64.629922  "
      ]
     },
     "execution_count": 43,
     "metadata": {},
     "output_type": "execute_result"
    }
   ],
   "source": [
    "metrics"
   ]
  },
  {
   "attachments": {},
   "cell_type": "markdown",
   "metadata": {},
   "source": [
    "#### SARIMAX"
   ]
  },
  {
   "cell_type": "code",
   "execution_count": 44,
   "metadata": {},
   "outputs": [
    {
     "name": "stdout",
     "output_type": "stream",
     "text": [
      "Performing stepwise search to minimize aic\n",
      " ARIMA(1,1,1)(0,1,1)[12]             : AIC=1095.805, Time=0.29 sec\n",
      " ARIMA(0,1,0)(0,1,0)[12]             : AIC=1184.811, Time=0.02 sec\n",
      " ARIMA(1,1,0)(1,1,0)[12]             : AIC=1128.966, Time=0.11 sec\n",
      " ARIMA(0,1,1)(0,1,1)[12]             : AIC=1096.570, Time=0.21 sec\n",
      " ARIMA(1,1,1)(0,1,0)[12]             : AIC=1128.134, Time=0.06 sec\n",
      " ARIMA(1,1,1)(1,1,1)[12]             : AIC=1096.271, Time=0.39 sec\n",
      " ARIMA(1,1,1)(0,1,2)[12]             : AIC=1096.272, Time=0.80 sec\n",
      " ARIMA(1,1,1)(1,1,0)[12]             : AIC=1110.376, Time=0.18 sec\n",
      " ARIMA(1,1,1)(1,1,2)[12]             : AIC=1098.227, Time=1.40 sec\n",
      " ARIMA(1,1,0)(0,1,1)[12]             : AIC=1113.364, Time=0.20 sec\n",
      " ARIMA(2,1,1)(0,1,1)[12]             : AIC=1094.170, Time=0.38 sec\n",
      " ARIMA(2,1,1)(0,1,0)[12]             : AIC=1126.752, Time=0.08 sec\n",
      " ARIMA(2,1,1)(1,1,1)[12]             : AIC=1095.334, Time=0.59 sec\n",
      " ARIMA(2,1,1)(0,1,2)[12]             : AIC=1095.396, Time=1.13 sec\n",
      " ARIMA(2,1,1)(1,1,0)[12]             : AIC=1106.691, Time=0.24 sec\n",
      " ARIMA(2,1,1)(1,1,2)[12]             : AIC=1097.334, Time=2.14 sec\n",
      " ARIMA(2,1,0)(0,1,1)[12]             : AIC=1092.839, Time=0.29 sec\n",
      " ARIMA(2,1,0)(0,1,0)[12]             : AIC=1124.914, Time=0.05 sec\n",
      " ARIMA(2,1,0)(1,1,1)[12]             : AIC=1093.937, Time=0.41 sec\n",
      " ARIMA(2,1,0)(0,1,2)[12]             : AIC=1093.987, Time=0.73 sec\n",
      " ARIMA(2,1,0)(1,1,0)[12]             : AIC=1105.442, Time=0.17 sec\n",
      " ARIMA(2,1,0)(1,1,2)[12]             : AIC=1095.935, Time=1.51 sec\n",
      " ARIMA(3,1,0)(0,1,1)[12]             : AIC=1094.449, Time=0.35 sec\n",
      " ARIMA(3,1,1)(0,1,1)[12]             : AIC=inf, Time=1.18 sec\n",
      " ARIMA(2,1,0)(0,1,1)[12] intercept   : AIC=1094.837, Time=0.41 sec\n",
      "\n",
      "Best model:  ARIMA(2,1,0)(0,1,1)[12]          \n",
      "Total fit time: 13.323 seconds\n"
     ]
    }
   ],
   "source": [
    "# SARIMAX = SARIMA with exogenous variable\n",
    "model = auto_arima(train[dep_var], exogenous=train[[exo_var]],\n",
    "                           start_p=1, \n",
    "                           start_q=1,\n",
    "                           test='adf',\n",
    "                           max_p=3, max_q=3, \n",
    "                           m=12,\n",
    "                           start_P=0, \n",
    "                           seasonal=True,\n",
    "                           d=None, \n",
    "                           D=1, \n",
    "                           trace=True,\n",
    "                           error_action='ignore',  \n",
    "                           suppress_warnings=True, \n",
    "                           stepwise=True)"
   ]
  },
  {
   "cell_type": "code",
   "execution_count": 45,
   "metadata": {},
   "outputs": [],
   "source": [
    "#model.plot_diagnostics(figsize=(15,12))\n",
    "#plt.show()"
   ]
  },
  {
   "cell_type": "code",
   "execution_count": 46,
   "metadata": {},
   "outputs": [
    {
     "data": {
      "text/html": [
       "<table class=\"simpletable\">\n",
       "<caption>SARIMAX Results</caption>\n",
       "<tr>\n",
       "  <th>Dep. Variable:</th>                   <td>y</td>                <th>  No. Observations:  </th>    <td>155</td>  \n",
       "</tr>\n",
       "<tr>\n",
       "  <th>Model:</th>           <td>SARIMAX(2, 1, 0)x(0, 1, [1], 12)</td> <th>  Log Likelihood     </th> <td>-542.419</td>\n",
       "</tr>\n",
       "<tr>\n",
       "  <th>Date:</th>                    <td>Thu, 16 Feb 2023</td>         <th>  AIC                </th> <td>1092.839</td>\n",
       "</tr>\n",
       "<tr>\n",
       "  <th>Time:</th>                        <td>09:10:35</td>             <th>  BIC                </th> <td>1104.662</td>\n",
       "</tr>\n",
       "<tr>\n",
       "  <th>Sample:</th>                     <td>02-01-2007</td>            <th>  HQIC               </th> <td>1097.643</td>\n",
       "</tr>\n",
       "<tr>\n",
       "  <th></th>                           <td>- 12-01-2019</td>           <th>                     </th>     <td> </td>   \n",
       "</tr>\n",
       "<tr>\n",
       "  <th>Covariance Type:</th>                <td>opg</td>               <th>                     </th>     <td> </td>   \n",
       "</tr>\n",
       "</table>\n",
       "<table class=\"simpletable\">\n",
       "<tr>\n",
       "      <td></td>        <th>coef</th>     <th>std err</th>      <th>z</th>      <th>P>|z|</th>  <th>[0.025</th>    <th>0.975]</th>  \n",
       "</tr>\n",
       "<tr>\n",
       "  <th>ar.L1</th>    <td>   -0.7529</td> <td>    0.063</td> <td>  -12.022</td> <td> 0.000</td> <td>   -0.876</td> <td>   -0.630</td>\n",
       "</tr>\n",
       "<tr>\n",
       "  <th>ar.L2</th>    <td>   -0.3833</td> <td>    0.065</td> <td>   -5.868</td> <td> 0.000</td> <td>   -0.511</td> <td>   -0.255</td>\n",
       "</tr>\n",
       "<tr>\n",
       "  <th>ma.S.L12</th> <td>   -0.6818</td> <td>    0.080</td> <td>   -8.489</td> <td> 0.000</td> <td>   -0.839</td> <td>   -0.524</td>\n",
       "</tr>\n",
       "<tr>\n",
       "  <th>sigma2</th>   <td>  114.9301</td> <td>   11.440</td> <td>   10.046</td> <td> 0.000</td> <td>   92.508</td> <td>  137.352</td>\n",
       "</tr>\n",
       "</table>\n",
       "<table class=\"simpletable\">\n",
       "<tr>\n",
       "  <th>Ljung-Box (L1) (Q):</th>     <td>0.04</td> <th>  Jarque-Bera (JB):  </th> <td>12.52</td>\n",
       "</tr>\n",
       "<tr>\n",
       "  <th>Prob(Q):</th>                <td>0.84</td> <th>  Prob(JB):          </th> <td>0.00</td> \n",
       "</tr>\n",
       "<tr>\n",
       "  <th>Heteroskedasticity (H):</th> <td>2.92</td> <th>  Skew:              </th> <td>-0.42</td>\n",
       "</tr>\n",
       "<tr>\n",
       "  <th>Prob(H) (two-sided):</th>    <td>0.00</td> <th>  Kurtosis:          </th> <td>4.18</td> \n",
       "</tr>\n",
       "</table><br/><br/>Warnings:<br/>[1] Covariance matrix calculated using the outer product of gradients (complex-step)."
      ],
      "text/plain": [
       "<class 'statsmodels.iolib.summary.Summary'>\n",
       "\"\"\"\n",
       "                                      SARIMAX Results                                       \n",
       "============================================================================================\n",
       "Dep. Variable:                                    y   No. Observations:                  155\n",
       "Model:             SARIMAX(2, 1, 0)x(0, 1, [1], 12)   Log Likelihood                -542.419\n",
       "Date:                              Thu, 16 Feb 2023   AIC                           1092.839\n",
       "Time:                                      09:10:35   BIC                           1104.662\n",
       "Sample:                                  02-01-2007   HQIC                          1097.643\n",
       "                                       - 12-01-2019                                         \n",
       "Covariance Type:                                opg                                         \n",
       "==============================================================================\n",
       "                 coef    std err          z      P>|z|      [0.025      0.975]\n",
       "------------------------------------------------------------------------------\n",
       "ar.L1         -0.7529      0.063    -12.022      0.000      -0.876      -0.630\n",
       "ar.L2         -0.3833      0.065     -5.868      0.000      -0.511      -0.255\n",
       "ma.S.L12      -0.6818      0.080     -8.489      0.000      -0.839      -0.524\n",
       "sigma2       114.9301     11.440     10.046      0.000      92.508     137.352\n",
       "===================================================================================\n",
       "Ljung-Box (L1) (Q):                   0.04   Jarque-Bera (JB):                12.52\n",
       "Prob(Q):                              0.84   Prob(JB):                         0.00\n",
       "Heteroskedasticity (H):               2.92   Skew:                            -0.42\n",
       "Prob(H) (two-sided):                  0.00   Kurtosis:                         4.18\n",
       "===================================================================================\n",
       "\n",
       "Warnings:\n",
       "[1] Covariance matrix calculated using the outer product of gradients (complex-step).\n",
       "\"\"\""
      ]
     },
     "execution_count": 46,
     "metadata": {},
     "output_type": "execute_result"
    }
   ],
   "source": [
    "model.summary()"
   ]
  },
  {
   "cell_type": "code",
   "execution_count": 47,
   "metadata": {},
   "outputs": [
    {
     "name": "stdout",
     "output_type": "stream",
     "text": [
      "SARIMAX Model Performance:\n",
      "Mean Absolute Error: 22.67.\n",
      "Mean Squared Error: 724.34.\n",
      "Root Mean Squared Error: 26.91.\n",
      "R^2 Score = -0.69.\n",
      "Mean Absolute Percentage Error: 30.59%.\n",
      "Accuracy = 69.41%.\n"
     ]
    },
    {
     "data": {
      "image/svg+xml": "<svg class=\"main-svg\" xmlns=\"http://www.w3.org/2000/svg\" xmlns:xlink=\"http://www.w3.org/1999/xlink\" width=\"1000\" height=\"600\" style=\"\" viewBox=\"0 0 1000 600\"><rect x=\"0\" y=\"0\" width=\"1000\" height=\"600\" style=\"fill: rgb(255, 255, 255); fill-opacity: 1;\"/><defs id=\"defs-733442\"><g class=\"clips\"><clipPath id=\"clip733442xyplot\" class=\"plotclip\"><rect width=\"791\" height=\"178.50000000000003\"/></clipPath><clipPath id=\"clip733442x2y2plot\" class=\"plotclip\"><rect width=\"791\" height=\"178.5\"/></clipPath><clipPath class=\"axesclip\" id=\"clip733442x\"><rect x=\"80\" y=\"0\" width=\"791\" height=\"600\"/></clipPath><clipPath class=\"axesclip\" id=\"clip733442y\"><rect x=\"0\" y=\"100\" width=\"1000\" height=\"178.50000000000003\"/></clipPath><clipPath class=\"axesclip\" id=\"clip733442xy\"><rect x=\"80\" y=\"100\" width=\"791\" height=\"178.50000000000003\"/></clipPath><clipPath class=\"axesclip\" id=\"clip733442y2\"><rect x=\"0\" y=\"341.5\" width=\"1000\" height=\"178.5\"/></clipPath><clipPath class=\"axesclip\" id=\"clip733442xy2\"><rect x=\"80\" y=\"341.5\" width=\"791\" height=\"178.5\"/></clipPath><clipPath class=\"axesclip\" id=\"clip733442x2\"><rect x=\"80\" y=\"0\" width=\"791\" height=\"600\"/></clipPath><clipPath class=\"axesclip\" id=\"clip733442x2y\"><rect x=\"80\" y=\"100\" width=\"791\" height=\"178.50000000000003\"/></clipPath><clipPath class=\"axesclip\" id=\"clip733442x2y2\"><rect x=\"80\" y=\"341.5\" width=\"791\" height=\"178.5\"/></clipPath></g><g class=\"gradients\"/><g class=\"patterns\"/></defs><g class=\"bglayer\"><rect class=\"bg\" x=\"80\" y=\"100\" width=\"791\" height=\"178.50000000000003\" style=\"fill: rgb(229, 236, 246); fill-opacity: 1; stroke-width: 0;\"/><rect class=\"bg\" x=\"80\" y=\"341.5\" width=\"791\" height=\"178.5\" style=\"fill: rgb(229, 236, 246); fill-opacity: 1; stroke-width: 0;\"/></g><g class=\"layer-below\"><g class=\"imagelayer\"/><g class=\"shapelayer\"/></g><g class=\"cartesianlayer\"><g class=\"subplot xy\"><g class=\"layer-subplot\"><g class=\"shapelayer\"/><g class=\"imagelayer\"/></g><g class=\"minor-gridlayer\"><g class=\"x\"/><g class=\"y\"/></g><g class=\"gridlayer\"><g class=\"x\"><path class=\"xgrid crisp\" transform=\"translate(215.18,0)\" d=\"M0,100v178.50000000000003\" style=\"stroke: rgb(255, 255, 255); stroke-opacity: 1; stroke-width: 1px;\"/><path class=\"xgrid crisp\" transform=\"translate(351.84,0)\" d=\"M0,100v178.50000000000003\" style=\"stroke: rgb(255, 255, 255); stroke-opacity: 1; stroke-width: 1px;\"/><path class=\"xgrid crisp\" transform=\"translate(486.27,0)\" d=\"M0,100v178.50000000000003\" style=\"stroke: rgb(255, 255, 255); stroke-opacity: 1; stroke-width: 1px;\"/><path class=\"xgrid crisp\" transform=\"translate(622.93,0)\" d=\"M0,100v178.50000000000003\" style=\"stroke: rgb(255, 255, 255); stroke-opacity: 1; stroke-width: 1px;\"/><path class=\"xgrid crisp\" transform=\"translate(757.36,0)\" d=\"M0,100v178.50000000000003\" style=\"stroke: rgb(255, 255, 255); stroke-opacity: 1; stroke-width: 1px;\"/></g><g class=\"y\"><path class=\"ygrid crisp\" transform=\"translate(0,259.76)\" d=\"M80,0h791\" style=\"stroke: rgb(255, 255, 255); stroke-opacity: 1; stroke-width: 1px;\"/><path class=\"ygrid crisp\" transform=\"translate(0,221.39)\" d=\"M80,0h791\" style=\"stroke: rgb(255, 255, 255); stroke-opacity: 1; stroke-width: 1px;\"/><path class=\"ygrid crisp\" transform=\"translate(0,183.01999999999998)\" d=\"M80,0h791\" style=\"stroke: rgb(255, 255, 255); stroke-opacity: 1; stroke-width: 1px;\"/><path class=\"ygrid crisp\" transform=\"translate(0,144.65)\" d=\"M80,0h791\" style=\"stroke: rgb(255, 255, 255); stroke-opacity: 1; stroke-width: 1px;\"/><path class=\"ygrid crisp\" transform=\"translate(0,106.28)\" d=\"M80,0h791\" style=\"stroke: rgb(255, 255, 255); stroke-opacity: 1; stroke-width: 1px;\"/></g></g><g class=\"zerolinelayer\"/><path class=\"xlines-below\"/><path class=\"ylines-below\"/><g class=\"overlines-below\"/><g class=\"xaxislayer-below\"/><g class=\"yaxislayer-below\"/><g class=\"overaxes-below\"/><g class=\"plot\" transform=\"translate(80,100)\" clip-path=\"url(#clip733442xyplot)\"><g class=\"scatterlayer mlayer\"><g class=\"trace scatter trace47a5b6\" style=\"stroke-miterlimit: 2; opacity: 1;\"><g class=\"fills\"/><g class=\"errorbars\"/><g class=\"lines\"><path class=\"js-line\" d=\"M0,66.77L23.02,107.13L44.56,105.35L67.59,160.29L89.87,146.25L112.89,73.81L135.18,62.07L158.2,77.95L181.22,82.91L203.51,106.36L226.53,71.69L248.81,21.17L271.84,159.99L294.86,163.74L315.66,8.92L338.68,100.75L360.96,85.27L383.99,46.41L406.27,123.75L429.29,97.57L452.32,115.74L474.6,133.17L497.62,108.04L519.91,76.38L542.93,169.58L565.95,160.5L586.75,110.57L609.78,150.69L632.06,122.94L655.08,108.2L677.36,164.41L700.39,132L723.41,129.46L745.69,153.54L768.72,128.3L791,105.08\" style=\"vector-effect: non-scaling-stroke; fill: none; stroke: rgb(99, 110, 250); stroke-opacity: 1; stroke-width: 2px; opacity: 1;\"/></g><g class=\"points\"/><g class=\"text\"/></g><g class=\"trace scatter trace96662d\" style=\"stroke-miterlimit: 2; opacity: 1;\"><g class=\"fills\"/><g class=\"errorbars\"/><g class=\"lines\"><path class=\"js-line\" d=\"M0,48.83L23.02,81.42L44.56,49.39L67.59,87.63L89.87,68.03L112.89,30.38L135.18,102.33L158.2,83.87L181.22,90.52L203.51,81L226.53,75.68L248.81,99.28L271.84,51.39L294.86,99.73L315.66,38.73L338.68,71.29L360.96,57.25L383.99,44.12L406.27,105.95L429.29,87.44L452.32,108.75L474.6,81.51L497.62,75.44L519.91,107.42L542.93,73.84L565.95,102.98L586.75,43.72L609.78,72.79L632.06,57.67L655.08,44.67L677.36,102.3L700.39,78.61L723.41,104.98L745.69,81.93L768.72,76.28L791,97.22\" style=\"vector-effect: non-scaling-stroke; fill: none; stroke: rgb(239, 85, 59); stroke-opacity: 1; stroke-width: 2px; opacity: 1;\"/></g><g class=\"points\"/><g class=\"text\"/></g></g></g><g class=\"overplot\"/><path class=\"xlines-above crisp\" d=\"M0,0\" style=\"fill: none;\"/><path class=\"ylines-above crisp\" d=\"M0,0\" style=\"fill: none;\"/><g class=\"overlines-above\"/><g class=\"xaxislayer-above\"><g class=\"xtick\"><text text-anchor=\"middle\" x=\"0\" y=\"291.5\" transform=\"translate(80,0)\" style=\"font-family: 'Open Sans', verdana, arial, sans-serif; font-size: 12px; fill: rgb(42, 63, 95); fill-opacity: 1; white-space: pre; opacity: 1;\">Jan 2020</text></g><g class=\"xtick\"><text text-anchor=\"middle\" x=\"0\" y=\"291.5\" style=\"font-family: 'Open Sans', verdana, arial, sans-serif; font-size: 12px; fill: rgb(42, 63, 95); fill-opacity: 1; white-space: pre; opacity: 1;\" transform=\"translate(215.18,0)\">Jul 2020</text></g><g class=\"xtick\"><text text-anchor=\"middle\" x=\"0\" y=\"291.5\" style=\"font-family: 'Open Sans', verdana, arial, sans-serif; font-size: 12px; fill: rgb(42, 63, 95); fill-opacity: 1; white-space: pre; opacity: 1;\" transform=\"translate(351.84,0)\">Jan 2021</text></g><g class=\"xtick\"><text text-anchor=\"middle\" x=\"0\" y=\"291.5\" style=\"font-family: 'Open Sans', verdana, arial, sans-serif; font-size: 12px; fill: rgb(42, 63, 95); fill-opacity: 1; white-space: pre; opacity: 1;\" transform=\"translate(486.27,0)\">Jul 2021</text></g><g class=\"xtick\"><text text-anchor=\"middle\" x=\"0\" y=\"291.5\" style=\"font-family: 'Open Sans', verdana, arial, sans-serif; font-size: 12px; fill: rgb(42, 63, 95); fill-opacity: 1; white-space: pre; opacity: 1;\" transform=\"translate(622.93,0)\">Jan 2022</text></g><g class=\"xtick\"><text text-anchor=\"middle\" x=\"0\" y=\"291.5\" style=\"font-family: 'Open Sans', verdana, arial, sans-serif; font-size: 12px; fill: rgb(42, 63, 95); fill-opacity: 1; white-space: pre; opacity: 1;\" transform=\"translate(757.36,0)\">Jul 2022</text></g></g><g class=\"yaxislayer-above\"><g class=\"ytick\"><text text-anchor=\"end\" x=\"79\" y=\"4.199999999999999\" transform=\"translate(0,259.76)\" style=\"font-family: 'Open Sans', verdana, arial, sans-serif; font-size: 12px; fill: rgb(42, 63, 95); fill-opacity: 1; white-space: pre; opacity: 1;\">60</text></g><g class=\"ytick\"><text text-anchor=\"end\" x=\"79\" y=\"4.199999999999999\" style=\"font-family: 'Open Sans', verdana, arial, sans-serif; font-size: 12px; fill: rgb(42, 63, 95); fill-opacity: 1; white-space: pre; opacity: 1;\" transform=\"translate(0,221.39)\">80</text></g><g class=\"ytick\"><text text-anchor=\"end\" x=\"79\" y=\"4.199999999999999\" style=\"font-family: 'Open Sans', verdana, arial, sans-serif; font-size: 12px; fill: rgb(42, 63, 95); fill-opacity: 1; white-space: pre; opacity: 1;\" transform=\"translate(0,183.01999999999998)\">100</text></g><g class=\"ytick\"><text text-anchor=\"end\" x=\"79\" y=\"4.199999999999999\" style=\"font-family: 'Open Sans', verdana, arial, sans-serif; font-size: 12px; fill: rgb(42, 63, 95); fill-opacity: 1; white-space: pre; opacity: 1;\" transform=\"translate(0,144.65)\">120</text></g><g class=\"ytick\"><text text-anchor=\"end\" x=\"79\" y=\"4.199999999999999\" style=\"font-family: 'Open Sans', verdana, arial, sans-serif; font-size: 12px; fill: rgb(42, 63, 95); fill-opacity: 1; white-space: pre; opacity: 1;\" transform=\"translate(0,106.28)\">140</text></g></g><g class=\"overaxes-above\"/></g><g class=\"subplot x2y2\"><g class=\"layer-subplot\"><g class=\"shapelayer\"/><g class=\"imagelayer\"/></g><g class=\"minor-gridlayer\"><g class=\"x2\"/><g class=\"y2\"/></g><g class=\"gridlayer\"><g class=\"x2\"><path class=\"x2grid crisp\" transform=\"translate(125.69,0)\" d=\"M0,341.5v178.5\" style=\"stroke: rgb(255, 255, 255); stroke-opacity: 1; stroke-width: 1px;\"/><path class=\"x2grid crisp\" transform=\"translate(225.7,0)\" d=\"M0,341.5v178.5\" style=\"stroke: rgb(255, 255, 255); stroke-opacity: 1; stroke-width: 1px;\"/><path class=\"x2grid crisp\" transform=\"translate(325.56,0)\" d=\"M0,341.5v178.5\" style=\"stroke: rgb(255, 255, 255); stroke-opacity: 1; stroke-width: 1px;\"/><path class=\"x2grid crisp\" transform=\"translate(425.57,0)\" d=\"M0,341.5v178.5\" style=\"stroke: rgb(255, 255, 255); stroke-opacity: 1; stroke-width: 1px;\"/><path class=\"x2grid crisp\" transform=\"translate(525.4300000000001,0)\" d=\"M0,341.5v178.5\" style=\"stroke: rgb(255, 255, 255); stroke-opacity: 1; stroke-width: 1px;\"/><path class=\"x2grid crisp\" transform=\"translate(625.44,0)\" d=\"M0,341.5v178.5\" style=\"stroke: rgb(255, 255, 255); stroke-opacity: 1; stroke-width: 1px;\"/><path class=\"x2grid crisp\" transform=\"translate(725.3,0)\" d=\"M0,341.5v178.5\" style=\"stroke: rgb(255, 255, 255); stroke-opacity: 1; stroke-width: 1px;\"/><path class=\"x2grid crisp\" transform=\"translate(825.31,0)\" d=\"M0,341.5v178.5\" style=\"stroke: rgb(255, 255, 255); stroke-opacity: 1; stroke-width: 1px;\"/></g><g class=\"y2\"><path class=\"y2grid crisp\" transform=\"translate(0,500.9)\" d=\"M80,0h791\" style=\"stroke: rgb(255, 255, 255); stroke-opacity: 1; stroke-width: 1px;\"/><path class=\"y2grid crisp\" transform=\"translate(0,427.19)\" d=\"M80,0h791\" style=\"stroke: rgb(255, 255, 255); stroke-opacity: 1; stroke-width: 1px;\"/><path class=\"y2grid crisp\" transform=\"translate(0,353.48)\" d=\"M80,0h791\" style=\"stroke: rgb(255, 255, 255); stroke-opacity: 1; stroke-width: 1px;\"/></g></g><g class=\"zerolinelayer\"/><path class=\"xlines-below\"/><path class=\"ylines-below\"/><g class=\"overlines-below\"/><g class=\"xaxislayer-below\"/><g class=\"yaxislayer-below\"/><g class=\"overaxes-below\"/><g class=\"plot\" transform=\"translate(80,341.5)\" clip-path=\"url(#clip733442x2y2plot)\"><g class=\"scatterlayer mlayer\"><g class=\"trace scatter trace4d9e2e\" style=\"stroke-miterlimit: 2; opacity: 1;\"><g class=\"fills\"/><g class=\"errorbars\"/><g class=\"lines\"><path class=\"js-line\" d=\"M0,140.57L3.83,109.47L8.07,128.04L12.18,110.33L16.42,103.15L20.52,118.11L24.76,118.68L29,118.06L33.11,108.94L37.35,103.08L41.45,114.87L45.69,109.91L49.93,122.14L53.9,125L58.14,95.33L62.25,108.1L66.49,101.49L70.59,121.81L74.83,136L79.07,130.42L83.18,136.18L87.42,161.81L91.52,159.39L95.76,166.46L100,169.58L103.83,148.99L108.08,155.75L112.18,153.25L116.42,136.57L120.52,155.38L124.77,165.41L129.01,149.56L133.11,147.77L137.35,155.55L141.46,132.16L145.7,141.98L149.94,159.58L153.77,113.69L158.01,130.79L162.11,122.05L166.35,100.09L170.46,133.22L174.7,132.47L178.94,117.25L183.04,116.75L187.28,113.71L191.39,100.74L195.63,127.21L199.87,134.3L203.7,89.5L207.94,118.19L212.05,91.29L216.29,87.39L220.39,121.3L224.63,126.17L228.87,115.03L232.98,127.16L237.22,104.48L241.32,101.78L245.56,122.95L249.8,111.78L253.77,116.04L258.01,129.8L262.12,90.83L266.36,113.01L270.46,92.91L274.7,117.84L278.94,114.83L283.05,103.52L287.29,95.43L291.39,142.19L295.63,107.12L299.87,128.94L303.7,105.64L307.95,98.86L316.29,83.93L320.39,112.12L324.64,112.63L328.88,109.94L332.98,90.55L337.22,97.78L341.33,111.25L345.57,94.07L349.81,107.04L353.64,89.58L357.88,92.32L361.98,89.01L366.22,83.03L370.33,111.35L374.57,108.43L378.81,110.19L382.91,93.88L387.15,103.92L391.26,101.59L395.5,96.13L399.74,117.42L403.57,65.85L407.81,88.21L411.92,87.56L416.16,50.63L420.26,94.41L424.5,95.17L428.74,81.26L432.85,89.16L437.09,87.01L441.19,75.42L445.43,92.89L449.67,91.09L453.64,69.17L457.88,63.13L461.99,52.27L466.23,30.88L470.33,98.77L474.57,84.49L478.81,75.6L482.92,87.64L487.16,79.23L491.26,67.68L495.5,66.26L499.74,83.78L503.58,38.51L507.82,82.11L511.92,42.11L516.16,27.81L520.27,102.81L524.51,102.09L528.75,110.47L532.85,74.53L537.09,78.9L541.2,92.02L545.44,62.77L549.68,85.24L553.51,63.74L557.75,72.46L561.85,39.7L566.09,40.01L570.2,92.02L574.44,56.21L578.68,130.5L582.78,90.65L587.03,79.63L591.13,114.12L595.37,50.85L599.61,73.91L603.44,8.93L607.68,93.97L611.79,69.22L616.03,55.22L620.13,89.5L624.37,72.93L628.61,96.59L632.72,75.84L636.96,78.28L641.06,100.67\" style=\"vector-effect: non-scaling-stroke; fill: none; stroke: rgb(0, 204, 150); stroke-opacity: 1; stroke-width: 2px; opacity: 1;\"/></g><g class=\"points\"/><g class=\"text\"/></g><g class=\"trace scatter trace8cc17e\" style=\"stroke-miterlimit: 2; opacity: 1;\"><g class=\"fills\"/><g class=\"errorbars\"/><g class=\"lines\"><path class=\"js-line\" d=\"M645.3,73.2L649.54,104.21L653.51,102.84L657.75,145.07L661.86,134.27L666.1,78.61L670.2,69.59L674.44,81.79L678.68,85.6L682.79,103.62L687.03,76.98L691.13,38.16L695.37,144.83L699.62,147.71L703.45,28.75L707.69,99.31L711.79,87.42L716.03,57.56L720.14,116.99L724.38,96.87L728.62,110.83L732.72,124.22L736.96,104.92L741.07,80.59L745.31,152.2L749.55,145.22L753.38,106.86L757.62,137.69L761.72,116.36L765.96,105.04L770.07,148.22L774.31,123.32L778.55,121.37L782.65,139.88L786.9,120.48L791,102.64\" style=\"vector-effect: non-scaling-stroke; fill: none; stroke: rgb(171, 99, 250); stroke-opacity: 1; stroke-width: 2px; opacity: 1;\"/></g><g class=\"points\"/><g class=\"text\"/></g><g class=\"trace scatter trace898a09\" style=\"stroke-miterlimit: 2; opacity: 1;\"><g class=\"fills\"/><g class=\"errorbars\"/><g class=\"lines\"><path class=\"js-line\" d=\"M645.3,59.41L649.54,84.46L653.51,59.85L657.75,89.23L661.86,74.17L666.1,45.24L670.2,100.53L674.44,86.34L678.68,91.45L682.79,84.14L687.03,80.05L691.13,98.18L695.37,61.38L699.62,98.53L703.45,51.66L707.69,76.67L711.79,65.89L716.03,55.8L720.14,103.31L724.38,89.09L728.62,105.46L732.72,84.53L736.96,79.86L741.07,104.44L745.31,78.64L749.55,101.02L753.38,55.49L757.62,77.83L761.72,66.21L765.96,56.22L770.07,100.51L774.31,82.3L778.55,102.56L782.65,84.85L786.9,80.51L791,96.6\" style=\"vector-effect: non-scaling-stroke; fill: none; stroke: rgb(255, 161, 90); stroke-opacity: 1; stroke-width: 2px; opacity: 1;\"/></g><g class=\"points\"/><g class=\"text\"/></g></g></g><g class=\"overplot\"/><path class=\"xlines-above crisp\" d=\"M0,0\" style=\"fill: none;\"/><path class=\"ylines-above crisp\" d=\"M0,0\" style=\"fill: none;\"/><g class=\"overlines-above\"/><g class=\"xaxislayer-above\"><g class=\"x2tick\"><text text-anchor=\"middle\" x=\"0\" y=\"533\" transform=\"translate(125.69,0)\" style=\"font-family: 'Open Sans', verdana, arial, sans-serif; font-size: 12px; fill: rgb(42, 63, 95); fill-opacity: 1; white-space: pre; opacity: 1;\">2008</text></g><g class=\"x2tick\"><text text-anchor=\"middle\" x=\"0\" y=\"533\" style=\"font-family: 'Open Sans', verdana, arial, sans-serif; font-size: 12px; fill: rgb(42, 63, 95); fill-opacity: 1; white-space: pre; opacity: 1;\" transform=\"translate(225.7,0)\">2010</text></g><g class=\"x2tick\"><text text-anchor=\"middle\" x=\"0\" y=\"533\" style=\"font-family: 'Open Sans', verdana, arial, sans-serif; font-size: 12px; fill: rgb(42, 63, 95); fill-opacity: 1; white-space: pre; opacity: 1;\" transform=\"translate(325.56,0)\">2012</text></g><g class=\"x2tick\"><text text-anchor=\"middle\" x=\"0\" y=\"533\" style=\"font-family: 'Open Sans', verdana, arial, sans-serif; font-size: 12px; fill: rgb(42, 63, 95); fill-opacity: 1; white-space: pre; opacity: 1;\" transform=\"translate(425.57,0)\">2014</text></g><g class=\"x2tick\"><text text-anchor=\"middle\" x=\"0\" y=\"533\" style=\"font-family: 'Open Sans', verdana, arial, sans-serif; font-size: 12px; fill: rgb(42, 63, 95); fill-opacity: 1; white-space: pre; opacity: 1;\" transform=\"translate(525.4300000000001,0)\">2016</text></g><g class=\"x2tick\"><text text-anchor=\"middle\" x=\"0\" y=\"533\" style=\"font-family: 'Open Sans', verdana, arial, sans-serif; font-size: 12px; fill: rgb(42, 63, 95); fill-opacity: 1; white-space: pre; opacity: 1;\" transform=\"translate(625.44,0)\">2018</text></g><g class=\"x2tick\"><text text-anchor=\"middle\" x=\"0\" y=\"533\" style=\"font-family: 'Open Sans', verdana, arial, sans-serif; font-size: 12px; fill: rgb(42, 63, 95); fill-opacity: 1; white-space: pre; opacity: 1;\" transform=\"translate(725.3,0)\">2020</text></g><g class=\"x2tick\"><text text-anchor=\"middle\" x=\"0\" y=\"533\" style=\"font-family: 'Open Sans', verdana, arial, sans-serif; font-size: 12px; fill: rgb(42, 63, 95); fill-opacity: 1; white-space: pre; opacity: 1;\" transform=\"translate(825.31,0)\">2022</text></g></g><g class=\"yaxislayer-above\"><g class=\"y2tick\"><text text-anchor=\"end\" x=\"79\" y=\"4.199999999999999\" transform=\"translate(0,500.9)\" style=\"font-family: 'Open Sans', verdana, arial, sans-serif; font-size: 12px; fill: rgb(42, 63, 95); fill-opacity: 1; white-space: pre; opacity: 1;\">50</text></g><g class=\"y2tick\"><text text-anchor=\"end\" x=\"79\" y=\"4.199999999999999\" style=\"font-family: 'Open Sans', verdana, arial, sans-serif; font-size: 12px; fill: rgb(42, 63, 95); fill-opacity: 1; white-space: pre; opacity: 1;\" transform=\"translate(0,427.19)\">100</text></g><g class=\"y2tick\"><text text-anchor=\"end\" x=\"79\" y=\"4.199999999999999\" style=\"font-family: 'Open Sans', verdana, arial, sans-serif; font-size: 12px; fill: rgb(42, 63, 95); fill-opacity: 1; white-space: pre; opacity: 1;\" transform=\"translate(0,353.48)\">150</text></g></g><g class=\"overaxes-above\"/></g></g><g class=\"polarlayer\"/><g class=\"smithlayer\"/><g class=\"ternarylayer\"/><g class=\"geolayer\"/><g class=\"funnelarealayer\"/><g class=\"pielayer\"/><g class=\"iciclelayer\"/><g class=\"treemaplayer\"/><g class=\"sunburstlayer\"/><g class=\"glimages\"/><defs id=\"topdefs-733442\"><g class=\"clips\"/><clipPath id=\"legend733442\"><rect width=\"101\" height=\"115\" x=\"0\" y=\"0\"/></clipPath></defs><g class=\"layer-above\"><g class=\"imagelayer\"/><g class=\"shapelayer\"/></g><g class=\"infolayer\"><g class=\"legend\" pointer-events=\"all\" transform=\"translate(886.82,100)\"><rect class=\"bg\" shape-rendering=\"crispEdges\" width=\"101\" height=\"115\" x=\"0\" y=\"0\" style=\"stroke: rgb(68, 68, 68); stroke-opacity: 1; fill: rgb(255, 255, 255); fill-opacity: 1; stroke-width: 0px;\"/><g class=\"scrollbox\" transform=\"\" clip-path=\"url(#legend733442)\"><g class=\"groups\" transform=\"\"><g class=\"traces\" transform=\"translate(0,14.5)\" style=\"opacity: 1;\"><text class=\"legendtext\" text-anchor=\"start\" x=\"40\" y=\"4.680000000000001\" style=\"font-family: 'Open Sans', verdana, arial, sans-serif; font-size: 12px; fill: rgb(42, 63, 95); fill-opacity: 1; white-space: pre;\">Actual</text><g class=\"layers\" style=\"opacity: 1;\"><g class=\"legendfill\"/><g class=\"legendlines\"><path class=\"js-line\" d=\"M5,0h30\" style=\"fill: none; stroke: rgb(99, 110, 250); stroke-opacity: 1; stroke-width: 2px;\"/></g><g class=\"legendsymbols\"><g class=\"legendpoints\"/></g></g><rect class=\"legendtoggle\" x=\"0\" y=\"-9.5\" width=\"95.890625\" height=\"19\" style=\"fill: rgb(0, 0, 0); fill-opacity: 0;\"/></g><g class=\"traces\" transform=\"translate(0,33.5)\" style=\"opacity: 1;\"><text class=\"legendtext\" text-anchor=\"start\" x=\"40\" y=\"4.680000000000001\" style=\"font-family: 'Open Sans', verdana, arial, sans-serif; font-size: 12px; fill: rgb(42, 63, 95); fill-opacity: 1; white-space: pre;\">Predicted</text><g class=\"layers\" style=\"opacity: 1;\"><g class=\"legendfill\"/><g class=\"legendlines\"><path class=\"js-line\" d=\"M5,0h30\" style=\"fill: none; stroke: rgb(239, 85, 59); stroke-opacity: 1; stroke-width: 2px;\"/></g><g class=\"legendsymbols\"><g class=\"legendpoints\"/></g></g><rect class=\"legendtoggle\" x=\"0\" y=\"-9.5\" width=\"95.890625\" height=\"19\" style=\"fill: rgb(0, 0, 0); fill-opacity: 0;\"/></g></g><g class=\"groups\" transform=\"translate(0,10)\"><g class=\"traces\" transform=\"translate(0,52.5)\" style=\"opacity: 1;\"><text class=\"legendtext\" text-anchor=\"start\" x=\"40\" y=\"4.680000000000001\" style=\"font-family: 'Open Sans', verdana, arial, sans-serif; font-size: 12px; fill: rgb(42, 63, 95); fill-opacity: 1; white-space: pre;\">Train</text><g class=\"layers\" style=\"opacity: 1;\"><g class=\"legendfill\"/><g class=\"legendlines\"><path class=\"js-line\" d=\"M5,0h30\" style=\"fill: none; stroke: rgb(0, 204, 150); stroke-opacity: 1; stroke-width: 2px;\"/></g><g class=\"legendsymbols\"><g class=\"legendpoints\"/></g></g><rect class=\"legendtoggle\" x=\"0\" y=\"-9.5\" width=\"95.890625\" height=\"19\" style=\"fill: rgb(0, 0, 0); fill-opacity: 0;\"/></g><g class=\"traces\" transform=\"translate(0,71.5)\" style=\"opacity: 1;\"><text class=\"legendtext\" text-anchor=\"start\" x=\"40\" y=\"4.680000000000001\" style=\"font-family: 'Open Sans', verdana, arial, sans-serif; font-size: 12px; fill: rgb(42, 63, 95); fill-opacity: 1; white-space: pre;\">Test</text><g class=\"layers\" style=\"opacity: 1;\"><g class=\"legendfill\"/><g class=\"legendlines\"><path class=\"js-line\" d=\"M5,0h30\" style=\"fill: none; stroke: rgb(171, 99, 250); stroke-opacity: 1; stroke-width: 2px;\"/></g><g class=\"legendsymbols\"><g class=\"legendpoints\"/></g></g><rect class=\"legendtoggle\" x=\"0\" y=\"-9.5\" width=\"95.890625\" height=\"19\" style=\"fill: rgb(0, 0, 0); fill-opacity: 0;\"/></g><g class=\"traces\" transform=\"translate(0,90.5)\" style=\"opacity: 1;\"><text class=\"legendtext\" text-anchor=\"start\" x=\"40\" y=\"4.680000000000001\" style=\"font-family: 'Open Sans', verdana, arial, sans-serif; font-size: 12px; fill: rgb(42, 63, 95); fill-opacity: 1; white-space: pre;\">Forecast</text><g class=\"layers\" style=\"opacity: 1;\"><g class=\"legendfill\"/><g class=\"legendlines\"><path class=\"js-line\" d=\"M5,0h30\" style=\"fill: none; stroke: rgb(255, 161, 90); stroke-opacity: 1; stroke-width: 2px;\"/></g><g class=\"legendsymbols\"><g class=\"legendpoints\"/></g></g><rect class=\"legendtoggle\" x=\"0\" y=\"-9.5\" width=\"95.890625\" height=\"19\" style=\"fill: rgb(0, 0, 0); fill-opacity: 0;\"/></g></g></g><rect class=\"scrollbar\" rx=\"20\" ry=\"3\" width=\"0\" height=\"0\" x=\"0\" y=\"0\" style=\"fill: rgb(128, 139, 164); fill-opacity: 1;\"/></g><g class=\"g-gtitle\"><text class=\"gtitle\" x=\"50\" y=\"50\" text-anchor=\"start\" dy=\"0em\" style=\"font-family: 'Open Sans', verdana, arial, sans-serif; font-size: 17px; fill: rgb(42, 63, 95); opacity: 1; font-weight: normal; white-space: pre;\">SARIMAX Predictions - DEN</text></g><g class=\"g-xtitle\"/><g class=\"g-x2title\"/><g class=\"g-ytitle\"/><g class=\"g-y2title\"/></g></svg>"
     },
     "metadata": {},
     "output_type": "display_data"
    }
   ],
   "source": [
    "model_name='SARIMAX'\n",
    "\n",
    "# Build model\n",
    "model = sm.tsa.statespace.SARIMAX(train[dep_var],order=(0,1,2),seasonal_order=(0,1,1,12),exog = train[exo_var]).fit()\n",
    "\n",
    "# Predict\n",
    "predictions = model.predict(start=start, end=end, exog = test[exo_var],  dynamic=False, typ='levels')\n",
    "\n",
    "# Forecast accuracy\n",
    "forecast_accuracy(model_name, test[dep_var], predictions, True, True)"
   ]
  },
  {
   "attachments": {},
   "cell_type": "markdown",
   "metadata": {},
   "source": [
    "### Summary"
   ]
  },
  {
   "cell_type": "code",
   "execution_count": 48,
   "metadata": {},
   "outputs": [
    {
     "data": {
      "text/html": [
       "<div>\n",
       "<style scoped>\n",
       "    .dataframe tbody tr th:only-of-type {\n",
       "        vertical-align: middle;\n",
       "    }\n",
       "\n",
       "    .dataframe tbody tr th {\n",
       "        vertical-align: top;\n",
       "    }\n",
       "\n",
       "    .dataframe thead th {\n",
       "        text-align: right;\n",
       "    }\n",
       "</style>\n",
       "<table border=\"1\" class=\"dataframe\">\n",
       "  <thead>\n",
       "    <tr style=\"text-align: right;\">\n",
       "      <th></th>\n",
       "      <th>Simple Exponential Smoothing</th>\n",
       "      <th>Double Exponential Smoothing</th>\n",
       "      <th>Triple Exponential Smoothing</th>\n",
       "      <th>ARIMA</th>\n",
       "      <th>SARIMA</th>\n",
       "      <th>SARIMAX</th>\n",
       "    </tr>\n",
       "  </thead>\n",
       "  <tbody>\n",
       "    <tr>\n",
       "      <th>Mean Absolute Error</th>\n",
       "      <td>22.715779</td>\n",
       "      <td>24.368236</td>\n",
       "      <td>26.216502</td>\n",
       "      <td>18.363616</td>\n",
       "      <td>25.953352</td>\n",
       "      <td>22.671056</td>\n",
       "    </tr>\n",
       "    <tr>\n",
       "      <th>Mean Squared Error</th>\n",
       "      <td>736.196571</td>\n",
       "      <td>831.541784</td>\n",
       "      <td>962.720562</td>\n",
       "      <td>499.784599</td>\n",
       "      <td>939.878417</td>\n",
       "      <td>724.342466</td>\n",
       "    </tr>\n",
       "    <tr>\n",
       "      <th>Root Mean Squared Error</th>\n",
       "      <td>27.132943</td>\n",
       "      <td>28.836466</td>\n",
       "      <td>31.027739</td>\n",
       "      <td>22.355863</td>\n",
       "      <td>30.657437</td>\n",
       "      <td>26.913611</td>\n",
       "    </tr>\n",
       "    <tr>\n",
       "      <th>R^2</th>\n",
       "      <td>-0.715648</td>\n",
       "      <td>-0.937842</td>\n",
       "      <td>-1.243544</td>\n",
       "      <td>-0.164709</td>\n",
       "      <td>-1.190312</td>\n",
       "      <td>-0.688023</td>\n",
       "    </tr>\n",
       "    <tr>\n",
       "      <th>Mean Absolute Percentage Error</th>\n",
       "      <td>31.431946</td>\n",
       "      <td>33.694813</td>\n",
       "      <td>36.019880</td>\n",
       "      <td>24.747154</td>\n",
       "      <td>35.370078</td>\n",
       "      <td>30.590372</td>\n",
       "    </tr>\n",
       "    <tr>\n",
       "      <th>Accuracy</th>\n",
       "      <td>68.568054</td>\n",
       "      <td>66.305187</td>\n",
       "      <td>63.980120</td>\n",
       "      <td>75.252846</td>\n",
       "      <td>64.629922</td>\n",
       "      <td>69.409628</td>\n",
       "    </tr>\n",
       "  </tbody>\n",
       "</table>\n",
       "</div>"
      ],
      "text/plain": [
       "                                Simple Exponential Smoothing  \\\n",
       "Mean Absolute Error                                22.715779   \n",
       "Mean Squared Error                                736.196571   \n",
       "Root Mean Squared Error                            27.132943   \n",
       "R^2                                                -0.715648   \n",
       "Mean Absolute Percentage Error                     31.431946   \n",
       "Accuracy                                           68.568054   \n",
       "\n",
       "                                Double Exponential Smoothing  \\\n",
       "Mean Absolute Error                                24.368236   \n",
       "Mean Squared Error                                831.541784   \n",
       "Root Mean Squared Error                            28.836466   \n",
       "R^2                                                -0.937842   \n",
       "Mean Absolute Percentage Error                     33.694813   \n",
       "Accuracy                                           66.305187   \n",
       "\n",
       "                                Triple Exponential Smoothing       ARIMA  \\\n",
       "Mean Absolute Error                                26.216502   18.363616   \n",
       "Mean Squared Error                                962.720562  499.784599   \n",
       "Root Mean Squared Error                            31.027739   22.355863   \n",
       "R^2                                                -1.243544   -0.164709   \n",
       "Mean Absolute Percentage Error                     36.019880   24.747154   \n",
       "Accuracy                                           63.980120   75.252846   \n",
       "\n",
       "                                    SARIMA     SARIMAX  \n",
       "Mean Absolute Error              25.953352   22.671056  \n",
       "Mean Squared Error              939.878417  724.342466  \n",
       "Root Mean Squared Error          30.657437   26.913611  \n",
       "R^2                              -1.190312   -0.688023  \n",
       "Mean Absolute Percentage Error   35.370078   30.590372  \n",
       "Accuracy                         64.629922   69.409628  "
      ]
     },
     "execution_count": 48,
     "metadata": {},
     "output_type": "execute_result"
    }
   ],
   "source": [
    "metrics"
   ]
  },
  {
   "cell_type": "code",
   "execution_count": 49,
   "metadata": {},
   "outputs": [
    {
     "data": {
      "image/png": "[encoded data removed]",
      "text/plain": [
       "<Figure size 1080x504 with 1 Axes>"
      ]
     },
     "metadata": {
      "needs_background": "light"
     },
     "output_type": "display_data"
    }
   ],
   "source": [
    "chart = metrics.transpose()\n",
    "chart.drop(['Mean Squared Error', 'R^2', 'Accuracy'], axis=1, inplace=True)\n",
    "\n",
    "ax = chart.plot.bar(title=\"Statistical Models Performance - \" + country, figsize=(15,7))\n",
    "for container in ax.containers:\n",
    "    ax.bar_label(container)"
   ]
  },
  {
   "cell_type": "code",
   "execution_count": null,
   "metadata": {},
   "outputs": [],
   "source": []
  }
 ],
 "metadata": {
  "kernelspec": {
   "display_name": "base",
   "language": "python",
   "name": "python3"
  },
  "language_info": {
   "codemirror_mode": {
    "name": "ipython",
    "version": 3
   },
   "file_extension": ".py",
   "mimetype": "text/x-python",
   "name": "python",
   "nbconvert_exporter": "python",
   "pygments_lexer": "ipython3",
   "version": "3.8.12"
  },
  "orig_nbformat": 4,
  "vscode": {
   "interpreter": {
    "hash": "ad2bdc8ecc057115af97d19610ffacc2b4e99fae6737bb82f5d7fb13d2f2c186"
   }
  }
 },
 "nbformat": 4,
 "nbformat_minor": 2
}
