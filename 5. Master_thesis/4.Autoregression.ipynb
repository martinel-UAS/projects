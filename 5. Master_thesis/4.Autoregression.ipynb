{
 "cells": [
  {
   "attachments": {},
   "cell_type": "markdown",
   "metadata": {},
   "source": [
    "#### Import libraries"
   ]
  },
  {
   "cell_type": "code",
   "execution_count": 2,
   "metadata": {},
   "outputs": [],
   "source": [
    "import pandas as pd\n",
    "import math\n",
    "import numpy as np\n",
    "\n",
    "from sklearn.metrics import mean_squared_error\n",
    "from sklearn.metrics import r2_score\n",
    "\n",
    "import statsmodels.api as sm\n",
    "from statsmodels.tsa.stattools import acf\n",
    "from statsmodels.tsa.holtwinters import SimpleExpSmoothing\n",
    "from statsmodels.tsa.holtwinters import ExponentialSmoothing\n",
    "\n",
    "import pmdarima as pm\n",
    "from pmdarima import auto_arima\n",
    "\n",
    "import matplotlib.pyplot as plt\n",
    "import plotly.graph_objs as go\n",
    "from plotly.subplots import make_subplots\n",
    "\n",
    "import plotly.io as pio"
   ]
  },
  {
   "cell_type": "code",
   "execution_count": 3,
   "metadata": {},
   "outputs": [],
   "source": [
    "# To render plotly into GitHub\n",
    "pio.renderers.default = \"svg\""
   ]
  },
  {
   "cell_type": "code",
   "execution_count": 4,
   "metadata": {},
   "outputs": [],
   "source": [
    "# Select country in analysys ('FIN', 'DEN', 'NOR', 'SWE')\n",
    "country = 'DEN'"
   ]
  },
  {
   "attachments": {},
   "cell_type": "markdown",
   "metadata": {},
   "source": [
    "### Load Data"
   ]
  },
  {
   "cell_type": "code",
   "execution_count": 5,
   "metadata": {},
   "outputs": [],
   "source": [
    "# Input path and filename\n",
    "path = '../5. Master_thesis/Datasets/Output_files/'\n",
    "\n",
    "# Load files into a pandas dataframes\n",
    "file = path + '2.xlsx'\n",
    "df = pd.read_excel(file, sheet_name=country)\n",
    "\n",
    "# Set index  \n",
    "df = df.set_index(\"Date\").asfreq('MS')"
   ]
  },
  {
   "cell_type": "code",
   "execution_count": 6,
   "metadata": {},
   "outputs": [],
   "source": [
    "# Dependant variable\n",
    "dep_var = 'Orders'     "
   ]
  },
  {
   "cell_type": "code",
   "execution_count": 7,
   "metadata": {},
   "outputs": [
    {
     "data": {
      "text/html": [
       "<div>\n",
       "<style scoped>\n",
       "    .dataframe tbody tr th:only-of-type {\n",
       "        vertical-align: middle;\n",
       "    }\n",
       "\n",
       "    .dataframe tbody tr th {\n",
       "        vertical-align: top;\n",
       "    }\n",
       "\n",
       "    .dataframe thead th {\n",
       "        text-align: right;\n",
       "    }\n",
       "</style>\n",
       "<table border=\"1\" class=\"dataframe\">\n",
       "  <thead>\n",
       "    <tr style=\"text-align: right;\">\n",
       "      <th></th>\n",
       "      <th>Orders</th>\n",
       "      <th>CPI</th>\n",
       "      <th>UR</th>\n",
       "      <th>LTIR</th>\n",
       "      <th>Orders_rolled_detrended</th>\n",
       "      <th>Orders_lagged_12m</th>\n",
       "    </tr>\n",
       "    <tr>\n",
       "      <th>Date</th>\n",
       "      <th></th>\n",
       "      <th></th>\n",
       "      <th></th>\n",
       "      <th></th>\n",
       "      <th></th>\n",
       "      <th></th>\n",
       "    </tr>\n",
       "  </thead>\n",
       "  <tbody>\n",
       "    <tr>\n",
       "      <th>2007-01-01</th>\n",
       "      <td>331</td>\n",
       "      <td>1.781473</td>\n",
       "      <td>4.1</td>\n",
       "      <td>3.996</td>\n",
       "      <td>-91.083333</td>\n",
       "      <td>161</td>\n",
       "    </tr>\n",
       "    <tr>\n",
       "      <th>2007-02-01</th>\n",
       "      <td>299</td>\n",
       "      <td>1.882353</td>\n",
       "      <td>3.9</td>\n",
       "      <td>4.054</td>\n",
       "      <td>-127.166667</td>\n",
       "      <td>250</td>\n",
       "    </tr>\n",
       "    <tr>\n",
       "      <th>2007-03-01</th>\n",
       "      <td>378</td>\n",
       "      <td>1.992966</td>\n",
       "      <td>3.7</td>\n",
       "      <td>3.958</td>\n",
       "      <td>-40.666667</td>\n",
       "      <td>468</td>\n",
       "    </tr>\n",
       "    <tr>\n",
       "      <th>2007-04-01</th>\n",
       "      <td>267</td>\n",
       "      <td>1.633606</td>\n",
       "      <td>3.5</td>\n",
       "      <td>4.182</td>\n",
       "      <td>-139.583333</td>\n",
       "      <td>412</td>\n",
       "    </tr>\n",
       "    <tr>\n",
       "      <th>2007-05-01</th>\n",
       "      <td>337</td>\n",
       "      <td>1.748252</td>\n",
       "      <td>3.6</td>\n",
       "      <td>4.336</td>\n",
       "      <td>-51.833333</td>\n",
       "      <td>550</td>\n",
       "    </tr>\n",
       "    <tr>\n",
       "      <th>...</th>\n",
       "      <td>...</td>\n",
       "      <td>...</td>\n",
       "      <td>...</td>\n",
       "      <td>...</td>\n",
       "      <td>...</td>\n",
       "      <td>...</td>\n",
       "    </tr>\n",
       "    <tr>\n",
       "      <th>2022-08-01</th>\n",
       "      <td>343</td>\n",
       "      <td>8.909952</td>\n",
       "      <td>4.5</td>\n",
       "      <td>1.375</td>\n",
       "      <td>23.750000</td>\n",
       "      <td>232</td>\n",
       "    </tr>\n",
       "    <tr>\n",
       "      <th>2022-09-01</th>\n",
       "      <td>337</td>\n",
       "      <td>10.018900</td>\n",
       "      <td>4.6</td>\n",
       "      <td>2.200</td>\n",
       "      <td>18.666667</td>\n",
       "      <td>348</td>\n",
       "    </tr>\n",
       "    <tr>\n",
       "      <th>2022-10-01</th>\n",
       "      <td>322</td>\n",
       "      <td>10.112360</td>\n",
       "      <td>4.6</td>\n",
       "      <td>2.599</td>\n",
       "      <td>13.000000</td>\n",
       "      <td>434</td>\n",
       "    </tr>\n",
       "    <tr>\n",
       "      <th>2022-11-01</th>\n",
       "      <td>305</td>\n",
       "      <td>8.870214</td>\n",
       "      <td>4.7</td>\n",
       "      <td>2.378</td>\n",
       "      <td>6.166667</td>\n",
       "      <td>427</td>\n",
       "    </tr>\n",
       "    <tr>\n",
       "      <th>2022-12-01</th>\n",
       "      <td>357</td>\n",
       "      <td>8.724202</td>\n",
       "      <td>4.8</td>\n",
       "      <td>2.285</td>\n",
       "      <td>46.166667</td>\n",
       "      <td>213</td>\n",
       "    </tr>\n",
       "  </tbody>\n",
       "</table>\n",
       "<p>192 rows × 6 columns</p>\n",
       "</div>"
      ],
      "text/plain": [
       "            Orders        CPI   UR   LTIR  Orders_rolled_detrended  \\\n",
       "Date                                                                 \n",
       "2007-01-01     331   1.781473  4.1  3.996               -91.083333   \n",
       "2007-02-01     299   1.882353  3.9  4.054              -127.166667   \n",
       "2007-03-01     378   1.992966  3.7  3.958               -40.666667   \n",
       "2007-04-01     267   1.633606  3.5  4.182              -139.583333   \n",
       "2007-05-01     337   1.748252  3.6  4.336               -51.833333   \n",
       "...            ...        ...  ...    ...                      ...   \n",
       "2022-08-01     343   8.909952  4.5  1.375                23.750000   \n",
       "2022-09-01     337  10.018900  4.6  2.200                18.666667   \n",
       "2022-10-01     322  10.112360  4.6  2.599                13.000000   \n",
       "2022-11-01     305   8.870214  4.7  2.378                 6.166667   \n",
       "2022-12-01     357   8.724202  4.8  2.285                46.166667   \n",
       "\n",
       "            Orders_lagged_12m  \n",
       "Date                           \n",
       "2007-01-01                161  \n",
       "2007-02-01                250  \n",
       "2007-03-01                468  \n",
       "2007-04-01                412  \n",
       "2007-05-01                550  \n",
       "...                       ...  \n",
       "2022-08-01                232  \n",
       "2022-09-01                348  \n",
       "2022-10-01                434  \n",
       "2022-11-01                427  \n",
       "2022-12-01                213  \n",
       "\n",
       "[192 rows x 6 columns]"
      ]
     },
     "execution_count": 7,
     "metadata": {},
     "output_type": "execute_result"
    }
   ],
   "source": [
    "df"
   ]
  },
  {
   "attachments": {},
   "cell_type": "markdown",
   "metadata": {},
   "source": [
    "### Split Data"
   ]
  },
  {
   "cell_type": "code",
   "execution_count": 8,
   "metadata": {},
   "outputs": [
    {
     "name": "stdout",
     "output_type": "stream",
     "text": [
      "Dataset length : (n=192)\n",
      "Train dates    : 2007-01-01 00:00:00 --- 2019-12-01 00:00:00  (n=156)\n",
      "Test dates     : 2020-01-01 00:00:00 --- 2022-12-01 00:00:00  (n=36)\n"
     ]
    }
   ],
   "source": [
    "steps = 36  # 36 months of testing\n",
    "train = df[:-steps]\n",
    "test  = df[-steps:]\n",
    "\n",
    "start=len(train)\n",
    "end=len(train)+len(test)-1\n",
    "\n",
    "print(f\"Dataset length : (n={len(df)})\")\n",
    "print(f\"Train dates    : {train.index.min()} --- {train.index.max()}  (n={len(train)})\")\n",
    "print(f\"Test dates     : {test.index.min()} --- {test.index.max()}  (n={len(test)})\")"
   ]
  },
  {
   "attachments": {},
   "cell_type": "markdown",
   "metadata": {},
   "source": [
    "### Scoring function"
   ]
  },
  {
   "cell_type": "code",
   "execution_count": 9,
   "metadata": {},
   "outputs": [],
   "source": [
    "metrics = pd.DataFrame()\n",
    "\n",
    "# Accuracy metrics\n",
    "def forecast_accuracy(model_name, y_true, y_pred, print_metrics: bool, plot_results: bool):\n",
    "    \n",
    "    mae = np.mean(np.abs(y_pred - y_true))                                    # MAE\n",
    "    mse = mean_squared_error(y_true, y_pred)                                  # MSE (Mean Squared Error)\n",
    "    rmse = math.sqrt(mse)                                                     # RMSE (Root Mean Squared Error)    \n",
    "    r2 = r2_score(y_true, y_pred)                                             # R2 (R-squared - Coeficient of determination)      \n",
    "    mape = np.mean(np.abs(y_pred - y_true)/np.abs(y_true)*100)                # MAPE        \n",
    "    accuracy = 100 - mape                                                     # Accuracy\n",
    "\n",
    "    # Append metrics for summary\n",
    "    metrics[model_name] = [mae, mse, rmse, r2, mape, accuracy]\n",
    "    metrics.index = ['Mean Absolute Error', \n",
    "                    'Mean Squared Error', \n",
    "                    'Root Mean Squared Error',\n",
    "                    'R^2',\n",
    "                    'Mean Absolute Percentage Error',\n",
    "                    'Accuracy']       \n",
    "\n",
    "    # Print metrics  \n",
    "    if print_metrics:\n",
    " \n",
    "        print(model_name, 'Model Performance:')                             # Model name\n",
    "        print('Mean Absolute Error: {:0.2f}.'.format(mae))                  # MAE\n",
    "        print('Mean Squared Error: {:0.2f}.'.format(mse))                   # MSE\n",
    "        print('Root Mean Squared Error: {:0.2f}.'.format(rmse))             # RMSE  \n",
    "        print('R^2 Score = {:0.2f}.'.format(r2))                            # R2\n",
    "        print('Mean Absolute Percentage Error: {:0.2f}%.'.format(mape))     # MAPE \n",
    "        print('Accuracy = {:0.2f}%.'.format(accuracy))                      # Accuracy                    \n",
    "    \n",
    "    # Plot Actual values vs predicted values\n",
    "    if plot_results:\n",
    "        \n",
    "        df = pd.DataFrame(y_true)\n",
    "\n",
    "        fig= make_subplots(rows=2, cols=1)\n",
    "        \n",
    "        fig.add_trace(go.Scatter(dict(x=df.index, y=y_true, mode='lines', name= 'Actual'), legendgroup=\"Preds\"), row=1, col=1)\n",
    "        fig.add_trace(go.Scatter(dict(x=df.index, y=y_pred, mode='lines', name= 'Predicted'), legendgroup=\"Preds\"), row=1, col=1)\n",
    "        \n",
    "        fig.add_trace(go.Scatter(dict(x=train.index, y=train[dep_var], mode='lines', name= 'Train'), legendgroup=\"Full\"), row=2, col=1)\n",
    "        fig.add_trace(go.Scatter(dict(x=test.index, y=test[dep_var], mode='lines', name= 'Test'), legendgroup=\"Full\"), row=2, col=1)\n",
    "        fig.add_trace(go.Scatter(dict(x=test.index, y=y_pred, mode='lines', name= 'Forecast'), legendgroup=\"Full\"), row=2, col=1)\n",
    "\n",
    "        fig.update_layout(height=600, width=1000, title_text=model_name + \" Predictions - \" + country)    \n",
    "\n",
    "        fig.show()  \n",
    "\n",
    "                    "
   ]
  },
  {
   "attachments": {},
   "cell_type": "markdown",
   "metadata": {},
   "source": [
    "### Modeling"
   ]
  },
  {
   "attachments": {},
   "cell_type": "markdown",
   "metadata": {},
   "source": [
    "#### Simple Exponential Smoothing"
   ]
  },
  {
   "cell_type": "code",
   "execution_count": 10,
   "metadata": {},
   "outputs": [
    {
     "name": "stdout",
     "output_type": "stream",
     "text": [
      "Simple Exponential Smoothing Model Performance:\n",
      "Mean Absolute Error: 374.55.\n",
      "Mean Squared Error: 169685.48.\n",
      "Root Mean Squared Error: 411.93.\n",
      "R^2 Score = -2.31.\n",
      "Mean Absolute Percentage Error: 128.57%.\n",
      "Accuracy = -28.57%.\n"
     ]
    },
    {
     "data": {
      "image/svg+xml": "<svg class=\"main-svg\" xmlns=\"http://www.w3.org/2000/svg\" xmlns:xlink=\"http://www.w3.org/1999/xlink\" width=\"1000\" height=\"600\" style=\"\" viewBox=\"0 0 1000 600\"><rect x=\"0\" y=\"0\" width=\"1000\" height=\"600\" style=\"fill: rgb(255, 255, 255); fill-opacity: 1;\"/><defs id=\"defs-0ae085\"><g class=\"clips\"><clipPath id=\"clip0ae085xyplot\" class=\"plotclip\"><rect width=\"791\" height=\"178.50000000000003\"/></clipPath><clipPath id=\"clip0ae085x2y2plot\" class=\"plotclip\"><rect width=\"791\" height=\"178.5\"/></clipPath><clipPath class=\"axesclip\" id=\"clip0ae085x\"><rect x=\"80\" y=\"0\" width=\"791\" height=\"600\"/></clipPath><clipPath class=\"axesclip\" id=\"clip0ae085y\"><rect x=\"0\" y=\"100\" width=\"1000\" height=\"178.50000000000003\"/></clipPath><clipPath class=\"axesclip\" id=\"clip0ae085xy\"><rect x=\"80\" y=\"100\" width=\"791\" height=\"178.50000000000003\"/></clipPath><clipPath class=\"axesclip\" id=\"clip0ae085y2\"><rect x=\"0\" y=\"341.5\" width=\"1000\" height=\"178.5\"/></clipPath><clipPath class=\"axesclip\" id=\"clip0ae085xy2\"><rect x=\"80\" y=\"341.5\" width=\"791\" height=\"178.5\"/></clipPath><clipPath class=\"axesclip\" id=\"clip0ae085x2\"><rect x=\"80\" y=\"0\" width=\"791\" height=\"600\"/></clipPath><clipPath class=\"axesclip\" id=\"clip0ae085x2y\"><rect x=\"80\" y=\"100\" width=\"791\" height=\"178.50000000000003\"/></clipPath><clipPath class=\"axesclip\" id=\"clip0ae085x2y2\"><rect x=\"80\" y=\"341.5\" width=\"791\" height=\"178.5\"/></clipPath></g><g class=\"gradients\"/><g class=\"patterns\"/></defs><g class=\"bglayer\"><rect class=\"bg\" x=\"80\" y=\"100\" width=\"791\" height=\"178.50000000000003\" style=\"fill: rgb(229, 236, 246); fill-opacity: 1; stroke-width: 0;\"/><rect class=\"bg\" x=\"80\" y=\"341.5\" width=\"791\" height=\"178.5\" style=\"fill: rgb(229, 236, 246); fill-opacity: 1; stroke-width: 0;\"/></g><g class=\"layer-below\"><g class=\"imagelayer\"/><g class=\"shapelayer\"/></g><g class=\"cartesianlayer\"><g class=\"subplot xy\"><g class=\"layer-subplot\"><g class=\"shapelayer\"/><g class=\"imagelayer\"/></g><g class=\"minor-gridlayer\"><g class=\"x\"/><g class=\"y\"/></g><g class=\"gridlayer\"><g class=\"x\"><path class=\"xgrid crisp\" transform=\"translate(215.18,0)\" d=\"M0,100v178.50000000000003\" style=\"stroke: rgb(255, 255, 255); stroke-opacity: 1; stroke-width: 1px;\"/><path class=\"xgrid crisp\" transform=\"translate(351.84,0)\" d=\"M0,100v178.50000000000003\" style=\"stroke: rgb(255, 255, 255); stroke-opacity: 1; stroke-width: 1px;\"/><path class=\"xgrid crisp\" transform=\"translate(486.27,0)\" d=\"M0,100v178.50000000000003\" style=\"stroke: rgb(255, 255, 255); stroke-opacity: 1; stroke-width: 1px;\"/><path class=\"xgrid crisp\" transform=\"translate(622.93,0)\" d=\"M0,100v178.50000000000003\" style=\"stroke: rgb(255, 255, 255); stroke-opacity: 1; stroke-width: 1px;\"/><path class=\"xgrid crisp\" transform=\"translate(757.36,0)\" d=\"M0,100v178.50000000000003\" style=\"stroke: rgb(255, 255, 255); stroke-opacity: 1; stroke-width: 1px;\"/></g><g class=\"y\"><path class=\"ygrid crisp\" transform=\"translate(0,256.83000000000004)\" d=\"M80,0h791\" style=\"stroke: rgb(255, 255, 255); stroke-opacity: 1; stroke-width: 1px;\"/><path class=\"ygrid crisp\" transform=\"translate(0,218.20999999999998)\" d=\"M80,0h791\" style=\"stroke: rgb(255, 255, 255); stroke-opacity: 1; stroke-width: 1px;\"/><path class=\"ygrid crisp\" transform=\"translate(0,179.6)\" d=\"M80,0h791\" style=\"stroke: rgb(255, 255, 255); stroke-opacity: 1; stroke-width: 1px;\"/><path class=\"ygrid crisp\" transform=\"translate(0,140.98)\" d=\"M80,0h791\" style=\"stroke: rgb(255, 255, 255); stroke-opacity: 1; stroke-width: 1px;\"/><path class=\"ygrid crisp\" transform=\"translate(0,102.36)\" d=\"M80,0h791\" style=\"stroke: rgb(255, 255, 255); stroke-opacity: 1; stroke-width: 1px;\"/></g></g><g class=\"zerolinelayer\"/><path class=\"xlines-below\"/><path class=\"ylines-below\"/><g class=\"overlines-below\"/><g class=\"xaxislayer-below\"/><g class=\"yaxislayer-below\"/><g class=\"overaxes-below\"/><g class=\"plot\" transform=\"translate(80,100)\" clip-path=\"url(#clip0ae085xyplot)\"><g class=\"scatterlayer mlayer\"><g class=\"trace scatter trace48151d\" style=\"stroke-miterlimit: 2; opacity: 1;\"><g class=\"fills\"/><g class=\"errorbars\"/><g class=\"lines\"><path class=\"js-line\" d=\"M0,10.28L23.02,8.92L44.56,70.71L67.59,169.58L89.87,152.78L112.89,34.99L135.18,112.81L158.2,114.35L181.22,23.79L203.51,89.64L226.53,94.46L248.81,96.78L271.84,36.34L294.86,113.77L315.66,40.78L338.68,113.19L360.96,122.27L383.99,118.6L406.27,149.3L429.29,150.65L452.32,128.25L474.6,111.65L497.62,113L519.91,154.32L542.93,160.5L565.95,148.53L586.75,83.65L609.78,139.84L632.06,143.89L655.08,140.8L677.36,152L700.39,129.22L723.41,130.38L768.72,136.56L791,126.52\" style=\"vector-effect: non-scaling-stroke; fill: none; stroke: rgb(99, 110, 250); stroke-opacity: 1; stroke-width: 2px; opacity: 1;\"/></g><g class=\"points\"/><g class=\"text\"/></g><g class=\"trace scatter tracec921ef\" style=\"stroke-miterlimit: 2; opacity: 1;\"><g class=\"fills\"/><g class=\"errorbars\"/><g class=\"lines\"><path class=\"js-line\" d=\"M0,43.44L791,43.44\" style=\"vector-effect: non-scaling-stroke; fill: none; stroke: rgb(239, 85, 59); stroke-opacity: 1; stroke-width: 2px; opacity: 1;\"/></g><g class=\"points\"/><g class=\"text\"/></g></g></g><g class=\"overplot\"/><path class=\"xlines-above crisp\" d=\"M0,0\" style=\"fill: none;\"/><path class=\"ylines-above crisp\" d=\"M0,0\" style=\"fill: none;\"/><g class=\"overlines-above\"/><g class=\"xaxislayer-above\"><g class=\"xtick\"><text text-anchor=\"middle\" x=\"0\" y=\"291.5\" transform=\"translate(80,0)\" style=\"font-family: 'Open Sans', verdana, arial, sans-serif; font-size: 12px; fill: rgb(42, 63, 95); fill-opacity: 1; white-space: pre; opacity: 1;\">Jan 2020</text></g><g class=\"xtick\"><text text-anchor=\"middle\" x=\"0\" y=\"291.5\" style=\"font-family: 'Open Sans', verdana, arial, sans-serif; font-size: 12px; fill: rgb(42, 63, 95); fill-opacity: 1; white-space: pre; opacity: 1;\" transform=\"translate(215.18,0)\">Jul 2020</text></g><g class=\"xtick\"><text text-anchor=\"middle\" x=\"0\" y=\"291.5\" style=\"font-family: 'Open Sans', verdana, arial, sans-serif; font-size: 12px; fill: rgb(42, 63, 95); fill-opacity: 1; white-space: pre; opacity: 1;\" transform=\"translate(351.84,0)\">Jan 2021</text></g><g class=\"xtick\"><text text-anchor=\"middle\" x=\"0\" y=\"291.5\" style=\"font-family: 'Open Sans', verdana, arial, sans-serif; font-size: 12px; fill: rgb(42, 63, 95); fill-opacity: 1; white-space: pre; opacity: 1;\" transform=\"translate(486.27,0)\">Jul 2021</text></g><g class=\"xtick\"><text text-anchor=\"middle\" x=\"0\" y=\"291.5\" style=\"font-family: 'Open Sans', verdana, arial, sans-serif; font-size: 12px; fill: rgb(42, 63, 95); fill-opacity: 1; white-space: pre; opacity: 1;\" transform=\"translate(622.93,0)\">Jan 2022</text></g><g class=\"xtick\"><text text-anchor=\"middle\" x=\"0\" y=\"291.5\" style=\"font-family: 'Open Sans', verdana, arial, sans-serif; font-size: 12px; fill: rgb(42, 63, 95); fill-opacity: 1; white-space: pre; opacity: 1;\" transform=\"translate(757.36,0)\">Jul 2022</text></g></g><g class=\"yaxislayer-above\"><g class=\"ytick\"><text text-anchor=\"end\" x=\"79\" y=\"4.199999999999999\" transform=\"translate(0,256.83000000000004)\" style=\"font-family: 'Open Sans', verdana, arial, sans-serif; font-size: 12px; fill: rgb(42, 63, 95); fill-opacity: 1; white-space: pre; opacity: 1;\">200</text></g><g class=\"ytick\"><text text-anchor=\"end\" x=\"79\" y=\"4.199999999999999\" style=\"font-family: 'Open Sans', verdana, arial, sans-serif; font-size: 12px; fill: rgb(42, 63, 95); fill-opacity: 1; white-space: pre; opacity: 1;\" transform=\"translate(0,218.20999999999998)\">400</text></g><g class=\"ytick\"><text text-anchor=\"end\" x=\"79\" y=\"4.199999999999999\" style=\"font-family: 'Open Sans', verdana, arial, sans-serif; font-size: 12px; fill: rgb(42, 63, 95); fill-opacity: 1; white-space: pre; opacity: 1;\" transform=\"translate(0,179.6)\">600</text></g><g class=\"ytick\"><text text-anchor=\"end\" x=\"79\" y=\"4.199999999999999\" style=\"font-family: 'Open Sans', verdana, arial, sans-serif; font-size: 12px; fill: rgb(42, 63, 95); fill-opacity: 1; white-space: pre; opacity: 1;\" transform=\"translate(0,140.98)\">800</text></g><g class=\"ytick\"><text text-anchor=\"end\" x=\"79\" y=\"4.199999999999999\" style=\"font-family: 'Open Sans', verdana, arial, sans-serif; font-size: 12px; fill: rgb(42, 63, 95); fill-opacity: 1; white-space: pre; opacity: 1;\" transform=\"translate(0,102.36)\">1000</text></g></g><g class=\"overaxes-above\"/></g><g class=\"subplot x2y2\"><g class=\"layer-subplot\"><g class=\"shapelayer\"/><g class=\"imagelayer\"/></g><g class=\"minor-gridlayer\"><g class=\"x2\"/><g class=\"y2\"/></g><g class=\"gridlayer\"><g class=\"x2\"><path class=\"x2grid crisp\" transform=\"translate(129.67000000000002,0)\" d=\"M0,341.5v178.5\" style=\"stroke: rgb(255, 255, 255); stroke-opacity: 1; stroke-width: 1px;\"/><path class=\"x2grid crisp\" transform=\"translate(229.14,0)\" d=\"M0,341.5v178.5\" style=\"stroke: rgb(255, 255, 255); stroke-opacity: 1; stroke-width: 1px;\"/><path class=\"x2grid crisp\" transform=\"translate(328.47,0)\" d=\"M0,341.5v178.5\" style=\"stroke: rgb(255, 255, 255); stroke-opacity: 1; stroke-width: 1px;\"/><path class=\"x2grid crisp\" transform=\"translate(427.94,0)\" d=\"M0,341.5v178.5\" style=\"stroke: rgb(255, 255, 255); stroke-opacity: 1; stroke-width: 1px;\"/><path class=\"x2grid crisp\" transform=\"translate(527.28,0)\" d=\"M0,341.5v178.5\" style=\"stroke: rgb(255, 255, 255); stroke-opacity: 1; stroke-width: 1px;\"/><path class=\"x2grid crisp\" transform=\"translate(626.75,0)\" d=\"M0,341.5v178.5\" style=\"stroke: rgb(255, 255, 255); stroke-opacity: 1; stroke-width: 1px;\"/><path class=\"x2grid crisp\" transform=\"translate(726.08,0)\" d=\"M0,341.5v178.5\" style=\"stroke: rgb(255, 255, 255); stroke-opacity: 1; stroke-width: 1px;\"/><path class=\"x2grid crisp\" transform=\"translate(825.55,0)\" d=\"M0,341.5v178.5\" style=\"stroke: rgb(255, 255, 255); stroke-opacity: 1; stroke-width: 1px;\"/></g><g class=\"y2\"><path class=\"y2grid crisp\" transform=\"translate(0,471.1)\" d=\"M80,0h791\" style=\"stroke: rgb(255, 255, 255); stroke-opacity: 1; stroke-width: 1px;\"/><path class=\"y2grid crisp\" transform=\"translate(0,416.5)\" d=\"M80,0h791\" style=\"stroke: rgb(255, 255, 255); stroke-opacity: 1; stroke-width: 1px;\"/><path class=\"y2grid crisp\" transform=\"translate(0,361.89)\" d=\"M80,0h791\" style=\"stroke: rgb(255, 255, 255); stroke-opacity: 1; stroke-width: 1px;\"/></g></g><g class=\"zerolinelayer\"/><path class=\"xlines-below\"/><path class=\"ylines-below\"/><g class=\"overlines-below\"/><g class=\"xaxislayer-below\"/><g class=\"yaxislayer-below\"/><g class=\"overaxes-below\"/><g class=\"plot\" transform=\"translate(80,341.5)\" clip-path=\"url(#clip0ae085x2y2plot)\"><g class=\"scatterlayer mlayer\"><g class=\"trace scatter trace569114\" style=\"stroke-miterlimit: 2; opacity: 1;\"><g class=\"fills\"/><g class=\"errorbars\"/><g class=\"lines\"><path class=\"js-line\" d=\"M0,148.06L4.22,151.56L8.03,142.93L12.25,155.05L16.33,147.41L20.55,135.61L24.63,161.49L28.85,149.37L33.07,139.76L37.15,134.95L41.37,148.82L45.45,143.47L49.67,140.42L53.89,137.58L57.83,127.2L62.05,147.84L66.13,143.26L70.35,127.2L74.43,145.88L78.65,149.37L82.87,140.74L86.95,141.73L91.17,146.75L95.25,155.49L99.47,145L103.69,131.57L107.5,142.38L111.72,132.12L115.8,148.93L120.02,143.36L124.1,150.79L128.32,140.96L132.54,126L136.62,143.36L140.84,139.54L144.92,144.35L149.14,136.7L153.36,141.51L157.17,134.52L161.38,146.31L165.47,136.27L169.68,135.17L173.77,142.38L177.99,140.2L182.2,144.13L186.29,134.74L190.5,137.03L194.59,136.81L198.8,138.34L203.02,131.57L206.83,108.53L211.05,130.59L215.13,127.09L219.35,125.67L223.43,144.78L227.65,133.64L231.87,120.32L235.95,129.17L240.17,119.23L244.25,134.08L248.47,132.01L252.69,109.73L256.64,127.64L260.85,148.28L264.94,139.11L269.15,125.56L273.24,126.33L277.46,123.16L281.67,115.52L285.76,111.8L289.97,104.27L294.06,97.06L298.27,101.75L302.49,102.08L306.3,69.32L310.52,112.35L314.6,86.9L318.82,65.5L322.9,76.09L327.12,86.03L331.34,72.16L335.42,60.25L339.64,101.86L343.72,108.96L347.94,105.8L352.16,109.51L355.97,50.21L360.19,111.91L364.27,101.1L368.49,85.7L372.57,95.64L376.79,91.16L381.01,79.37L385.09,94.55L389.31,94.11L393.39,56.43L397.61,102.96L401.83,99.35L405.64,13.51L409.86,143.47L413.94,57.52L418.16,75.76L422.24,82.97L426.46,89.96L430.68,93.02L434.76,86.9L438.98,105.9L443.06,102.41L447.28,96.51L451.49,74.23L455.44,100.23L459.66,119.23L463.74,76.96L467.96,55.45L472.04,71.39L476.26,118.03L480.48,76.42L484.56,93.67L488.78,82.75L492.86,69.1L497.08,82.75L501.3,39.18L505.11,8.93L509.33,118.03L513.41,57.2L517.63,76.53L521.71,105.8L525.93,73.58L530.15,63.86L534.23,78.71L538.45,75L542.53,42.02L546.75,74.45L550.96,55.78L554.77,52.72L558.99,102.63L563.08,63.75L567.29,83.41L571.38,71.18L575.59,60.8L579.81,119.67L583.89,99.57L588.11,123.6L592.2,97.28L596.41,79.26L600.63,43.11L604.44,33.17L608.66,136.7L612.74,111.26L616.96,71.5L621.04,87.45L625.26,114.64L629.48,102.96L633.56,91.05L637.78,109.73L641.86,118.35\" style=\"vector-effect: non-scaling-stroke; fill: none; stroke: rgb(0, 204, 150); stroke-opacity: 1; stroke-width: 2px; opacity: 1;\"/></g><g class=\"points\"/><g class=\"text\"/></g><g class=\"trace scatter trace4bb37c\" style=\"stroke-miterlimit: 2; opacity: 1;\"><g class=\"fills\"/><g class=\"errorbars\"/><g class=\"lines\"><path class=\"js-line\" d=\"M646.08,79.48L650.3,78.71L654.25,113.66L658.46,169.58L662.55,160.07L666.76,93.45L670.85,137.47L675.06,138.34L679.28,87.12L683.37,124.36L687.58,127.09L691.67,128.4L695.88,94.22L700.1,138.01L703.91,96.73L708.13,137.69L712.21,142.82L716.43,140.74L720.51,158.11L724.73,158.87L728.95,146.2L733.03,136.81L737.25,137.58L741.33,160.95L745.55,164.44L749.77,157.67L753.58,120.98L757.8,152.76L761.88,155.05L766.1,153.3L770.18,159.64L774.4,146.75L778.62,147.41L786.92,150.9L791,145.22\" style=\"vector-effect: non-scaling-stroke; fill: none; stroke: rgb(171, 99, 250); stroke-opacity: 1; stroke-width: 2px; opacity: 1;\"/></g><g class=\"points\"/><g class=\"text\"/></g><g class=\"trace scatter tracebfc279\" style=\"stroke-miterlimit: 2; opacity: 1;\"><g class=\"fills\"/><g class=\"errorbars\"/><g class=\"lines\"><path class=\"js-line\" d=\"M646.08,98.23L791,98.23\" style=\"vector-effect: non-scaling-stroke; fill: none; stroke: rgb(255, 161, 90); stroke-opacity: 1; stroke-width: 2px; opacity: 1;\"/></g><g class=\"points\"/><g class=\"text\"/></g></g></g><g class=\"overplot\"/><path class=\"xlines-above crisp\" d=\"M0,0\" style=\"fill: none;\"/><path class=\"ylines-above crisp\" d=\"M0,0\" style=\"fill: none;\"/><g class=\"overlines-above\"/><g class=\"xaxislayer-above\"><g class=\"x2tick\"><text text-anchor=\"middle\" x=\"0\" y=\"533\" transform=\"translate(129.67000000000002,0)\" style=\"font-family: 'Open Sans', verdana, arial, sans-serif; font-size: 12px; fill: rgb(42, 63, 95); fill-opacity: 1; white-space: pre; opacity: 1;\">2008</text></g><g class=\"x2tick\"><text text-anchor=\"middle\" x=\"0\" y=\"533\" style=\"font-family: 'Open Sans', verdana, arial, sans-serif; font-size: 12px; fill: rgb(42, 63, 95); fill-opacity: 1; white-space: pre; opacity: 1;\" transform=\"translate(229.14,0)\">2010</text></g><g class=\"x2tick\"><text text-anchor=\"middle\" x=\"0\" y=\"533\" style=\"font-family: 'Open Sans', verdana, arial, sans-serif; font-size: 12px; fill: rgb(42, 63, 95); fill-opacity: 1; white-space: pre; opacity: 1;\" transform=\"translate(328.47,0)\">2012</text></g><g class=\"x2tick\"><text text-anchor=\"middle\" x=\"0\" y=\"533\" style=\"font-family: 'Open Sans', verdana, arial, sans-serif; font-size: 12px; fill: rgb(42, 63, 95); fill-opacity: 1; white-space: pre; opacity: 1;\" transform=\"translate(427.94,0)\">2014</text></g><g class=\"x2tick\"><text text-anchor=\"middle\" x=\"0\" y=\"533\" style=\"font-family: 'Open Sans', verdana, arial, sans-serif; font-size: 12px; fill: rgb(42, 63, 95); fill-opacity: 1; white-space: pre; opacity: 1;\" transform=\"translate(527.28,0)\">2016</text></g><g class=\"x2tick\"><text text-anchor=\"middle\" x=\"0\" y=\"533\" style=\"font-family: 'Open Sans', verdana, arial, sans-serif; font-size: 12px; fill: rgb(42, 63, 95); fill-opacity: 1; white-space: pre; opacity: 1;\" transform=\"translate(626.75,0)\">2018</text></g><g class=\"x2tick\"><text text-anchor=\"middle\" x=\"0\" y=\"533\" style=\"font-family: 'Open Sans', verdana, arial, sans-serif; font-size: 12px; fill: rgb(42, 63, 95); fill-opacity: 1; white-space: pre; opacity: 1;\" transform=\"translate(726.08,0)\">2020</text></g><g class=\"x2tick\"><text text-anchor=\"middle\" x=\"0\" y=\"533\" style=\"font-family: 'Open Sans', verdana, arial, sans-serif; font-size: 12px; fill: rgb(42, 63, 95); fill-opacity: 1; white-space: pre; opacity: 1;\" transform=\"translate(825.55,0)\">2022</text></g></g><g class=\"yaxislayer-above\"><g class=\"y2tick\"><text text-anchor=\"end\" x=\"79\" y=\"4.199999999999999\" transform=\"translate(0,471.1)\" style=\"font-family: 'Open Sans', verdana, arial, sans-serif; font-size: 12px; fill: rgb(42, 63, 95); fill-opacity: 1; white-space: pre; opacity: 1;\">500</text></g><g class=\"y2tick\"><text text-anchor=\"end\" x=\"79\" y=\"4.199999999999999\" style=\"font-family: 'Open Sans', verdana, arial, sans-serif; font-size: 12px; fill: rgb(42, 63, 95); fill-opacity: 1; white-space: pre; opacity: 1;\" transform=\"translate(0,416.5)\">1000</text></g><g class=\"y2tick\"><text text-anchor=\"end\" x=\"79\" y=\"4.199999999999999\" style=\"font-family: 'Open Sans', verdana, arial, sans-serif; font-size: 12px; fill: rgb(42, 63, 95); fill-opacity: 1; white-space: pre; opacity: 1;\" transform=\"translate(0,361.89)\">1500</text></g></g><g class=\"overaxes-above\"/></g></g><g class=\"polarlayer\"/><g class=\"smithlayer\"/><g class=\"ternarylayer\"/><g class=\"geolayer\"/><g class=\"funnelarealayer\"/><g class=\"pielayer\"/><g class=\"iciclelayer\"/><g class=\"treemaplayer\"/><g class=\"sunburstlayer\"/><g class=\"glimages\"/><defs id=\"topdefs-0ae085\"><g class=\"clips\"/><clipPath id=\"legend0ae085\"><rect width=\"101\" height=\"115\" x=\"0\" y=\"0\"/></clipPath></defs><g class=\"layer-above\"><g class=\"imagelayer\"/><g class=\"shapelayer\"/></g><g class=\"infolayer\"><g class=\"legend\" pointer-events=\"all\" transform=\"translate(886.82,100)\"><rect class=\"bg\" shape-rendering=\"crispEdges\" style=\"stroke: rgb(68, 68, 68); stroke-opacity: 1; fill: rgb(255, 255, 255); fill-opacity: 1; stroke-width: 0px;\" width=\"101\" height=\"115\" x=\"0\" y=\"0\"/><g class=\"scrollbox\" transform=\"\" clip-path=\"url(#legend0ae085)\"><g class=\"groups\" transform=\"\"><g class=\"traces\" transform=\"translate(0,14.5)\" style=\"opacity: 1;\"><text class=\"legendtext\" text-anchor=\"start\" x=\"40\" y=\"4.680000000000001\" style=\"font-family: 'Open Sans', verdana, arial, sans-serif; font-size: 12px; fill: rgb(42, 63, 95); fill-opacity: 1; white-space: pre;\">Actual</text><g class=\"layers\" style=\"opacity: 1;\"><g class=\"legendfill\"/><g class=\"legendlines\"><path class=\"js-line\" d=\"M5,0h30\" style=\"fill: none; stroke: rgb(99, 110, 250); stroke-opacity: 1; stroke-width: 2px;\"/></g><g class=\"legendsymbols\"><g class=\"legendpoints\"/></g></g><rect class=\"legendtoggle\" x=\"0\" y=\"-9.5\" width=\"95.890625\" height=\"19\" style=\"fill: rgb(0, 0, 0); fill-opacity: 0;\"/></g><g class=\"traces\" transform=\"translate(0,33.5)\" style=\"opacity: 1;\"><text class=\"legendtext\" text-anchor=\"start\" x=\"40\" y=\"4.680000000000001\" style=\"font-family: 'Open Sans', verdana, arial, sans-serif; font-size: 12px; fill: rgb(42, 63, 95); fill-opacity: 1; white-space: pre;\">Predicted</text><g class=\"layers\" style=\"opacity: 1;\"><g class=\"legendfill\"/><g class=\"legendlines\"><path class=\"js-line\" d=\"M5,0h30\" style=\"fill: none; stroke: rgb(239, 85, 59); stroke-opacity: 1; stroke-width: 2px;\"/></g><g class=\"legendsymbols\"><g class=\"legendpoints\"/></g></g><rect class=\"legendtoggle\" x=\"0\" y=\"-9.5\" width=\"95.890625\" height=\"19\" style=\"fill: rgb(0, 0, 0); fill-opacity: 0;\"/></g></g><g class=\"groups\" transform=\"translate(0,10)\"><g class=\"traces\" transform=\"translate(0,52.5)\" style=\"opacity: 1;\"><text class=\"legendtext\" text-anchor=\"start\" x=\"40\" y=\"4.680000000000001\" style=\"font-family: 'Open Sans', verdana, arial, sans-serif; font-size: 12px; fill: rgb(42, 63, 95); fill-opacity: 1; white-space: pre;\">Train</text><g class=\"layers\" style=\"opacity: 1;\"><g class=\"legendfill\"/><g class=\"legendlines\"><path class=\"js-line\" d=\"M5,0h30\" style=\"fill: none; stroke: rgb(0, 204, 150); stroke-opacity: 1; stroke-width: 2px;\"/></g><g class=\"legendsymbols\"><g class=\"legendpoints\"/></g></g><rect class=\"legendtoggle\" x=\"0\" y=\"-9.5\" width=\"95.890625\" height=\"19\" style=\"fill: rgb(0, 0, 0); fill-opacity: 0;\"/></g><g class=\"traces\" transform=\"translate(0,71.5)\" style=\"opacity: 1;\"><text class=\"legendtext\" text-anchor=\"start\" x=\"40\" y=\"4.680000000000001\" style=\"font-family: 'Open Sans', verdana, arial, sans-serif; font-size: 12px; fill: rgb(42, 63, 95); fill-opacity: 1; white-space: pre;\">Test</text><g class=\"layers\" style=\"opacity: 1;\"><g class=\"legendfill\"/><g class=\"legendlines\"><path class=\"js-line\" d=\"M5,0h30\" style=\"fill: none; stroke: rgb(171, 99, 250); stroke-opacity: 1; stroke-width: 2px;\"/></g><g class=\"legendsymbols\"><g class=\"legendpoints\"/></g></g><rect class=\"legendtoggle\" x=\"0\" y=\"-9.5\" width=\"95.890625\" height=\"19\" style=\"fill: rgb(0, 0, 0); fill-opacity: 0;\"/></g><g class=\"traces\" transform=\"translate(0,90.5)\" style=\"opacity: 1;\"><text class=\"legendtext\" text-anchor=\"start\" x=\"40\" y=\"4.680000000000001\" style=\"font-family: 'Open Sans', verdana, arial, sans-serif; font-size: 12px; fill: rgb(42, 63, 95); fill-opacity: 1; white-space: pre;\">Forecast</text><g class=\"layers\" style=\"opacity: 1;\"><g class=\"legendfill\"/><g class=\"legendlines\"><path class=\"js-line\" d=\"M5,0h30\" style=\"fill: none; stroke: rgb(255, 161, 90); stroke-opacity: 1; stroke-width: 2px;\"/></g><g class=\"legendsymbols\"><g class=\"legendpoints\"/></g></g><rect class=\"legendtoggle\" x=\"0\" y=\"-9.5\" width=\"95.890625\" height=\"19\" style=\"fill: rgb(0, 0, 0); fill-opacity: 0;\"/></g></g></g><rect class=\"scrollbar\" rx=\"20\" ry=\"3\" width=\"0\" height=\"0\" style=\"fill: rgb(128, 139, 164); fill-opacity: 1;\" x=\"0\" y=\"0\"/></g><g class=\"g-gtitle\"><text class=\"gtitle\" x=\"50\" y=\"50\" text-anchor=\"start\" dy=\"0em\" style=\"font-family: 'Open Sans', verdana, arial, sans-serif; font-size: 17px; fill: rgb(42, 63, 95); opacity: 1; font-weight: normal; white-space: pre;\">Simple Exponential Smoothing Predictions - DEN</text></g><g class=\"g-xtitle\"/><g class=\"g-x2title\"/><g class=\"g-ytitle\"/><g class=\"g-y2title\"/></g></svg>"
     },
     "metadata": {},
     "output_type": "display_data"
    }
   ],
   "source": [
    "model_name='Simple Exponential Smoothing'\n",
    "span = 12\n",
    "alpha = 2/(span+1)\n",
    "\n",
    "# Train\n",
    "model = SimpleExpSmoothing(train[dep_var]).fit(smoothing_level=alpha,optimized=False)\n",
    "\n",
    "# Predict\n",
    "predictions = model.predict(start=start, end=end)\n",
    "\n",
    "# Forecast accuracy\n",
    "forecast_accuracy(model_name, test[dep_var], predictions, True, True)"
   ]
  },
  {
   "attachments": {},
   "cell_type": "markdown",
   "metadata": {},
   "source": [
    "#### Double Explonential Smoothing"
   ]
  },
  {
   "cell_type": "code",
   "execution_count": 11,
   "metadata": {},
   "outputs": [
    {
     "name": "stdout",
     "output_type": "stream",
     "text": [
      "Double Exponential Smoothing Model Performance:\n",
      "Mean Absolute Error: 288.55.\n",
      "Mean Squared Error: 98992.43.\n",
      "Root Mean Squared Error: 314.63.\n",
      "R^2 Score = -0.93.\n",
      "Mean Absolute Percentage Error: 98.83%.\n",
      "Accuracy = 1.17%.\n"
     ]
    },
    {
     "data": {
      "image/svg+xml": "<svg class=\"main-svg\" xmlns=\"http://www.w3.org/2000/svg\" xmlns:xlink=\"http://www.w3.org/1999/xlink\" width=\"1000\" height=\"600\" style=\"\" viewBox=\"0 0 1000 600\"><rect x=\"0\" y=\"0\" width=\"1000\" height=\"600\" style=\"fill: rgb(255, 255, 255); fill-opacity: 1;\"/><defs id=\"defs-128c18\"><g class=\"clips\"><clipPath id=\"clip128c18xyplot\" class=\"plotclip\"><rect width=\"791\" height=\"178.50000000000003\"/></clipPath><clipPath id=\"clip128c18x2y2plot\" class=\"plotclip\"><rect width=\"791\" height=\"178.5\"/></clipPath><clipPath class=\"axesclip\" id=\"clip128c18x\"><rect x=\"80\" y=\"0\" width=\"791\" height=\"600\"/></clipPath><clipPath class=\"axesclip\" id=\"clip128c18y\"><rect x=\"0\" y=\"100\" width=\"1000\" height=\"178.50000000000003\"/></clipPath><clipPath class=\"axesclip\" id=\"clip128c18xy\"><rect x=\"80\" y=\"100\" width=\"791\" height=\"178.50000000000003\"/></clipPath><clipPath class=\"axesclip\" id=\"clip128c18y2\"><rect x=\"0\" y=\"341.5\" width=\"1000\" height=\"178.5\"/></clipPath><clipPath class=\"axesclip\" id=\"clip128c18xy2\"><rect x=\"80\" y=\"341.5\" width=\"791\" height=\"178.5\"/></clipPath><clipPath class=\"axesclip\" id=\"clip128c18x2\"><rect x=\"80\" y=\"0\" width=\"791\" height=\"600\"/></clipPath><clipPath class=\"axesclip\" id=\"clip128c18x2y\"><rect x=\"80\" y=\"100\" width=\"791\" height=\"178.50000000000003\"/></clipPath><clipPath class=\"axesclip\" id=\"clip128c18x2y2\"><rect x=\"80\" y=\"341.5\" width=\"791\" height=\"178.5\"/></clipPath></g><g class=\"gradients\"/><g class=\"patterns\"/></defs><g class=\"bglayer\"><rect class=\"bg\" x=\"80\" y=\"100\" width=\"791\" height=\"178.50000000000003\" style=\"fill: rgb(229, 236, 246); fill-opacity: 1; stroke-width: 0;\"/><rect class=\"bg\" x=\"80\" y=\"341.5\" width=\"791\" height=\"178.5\" style=\"fill: rgb(229, 236, 246); fill-opacity: 1; stroke-width: 0;\"/></g><g class=\"layer-below\"><g class=\"imagelayer\"/><g class=\"shapelayer\"/></g><g class=\"cartesianlayer\"><g class=\"subplot xy\"><g class=\"layer-subplot\"><g class=\"shapelayer\"/><g class=\"imagelayer\"/></g><g class=\"minor-gridlayer\"><g class=\"x\"/><g class=\"y\"/></g><g class=\"gridlayer\"><g class=\"x\"><path class=\"xgrid crisp\" transform=\"translate(215.18,0)\" d=\"M0,100v178.50000000000003\" style=\"stroke: rgb(255, 255, 255); stroke-opacity: 1; stroke-width: 1px;\"/><path class=\"xgrid crisp\" transform=\"translate(351.84,0)\" d=\"M0,100v178.50000000000003\" style=\"stroke: rgb(255, 255, 255); stroke-opacity: 1; stroke-width: 1px;\"/><path class=\"xgrid crisp\" transform=\"translate(486.27,0)\" d=\"M0,100v178.50000000000003\" style=\"stroke: rgb(255, 255, 255); stroke-opacity: 1; stroke-width: 1px;\"/><path class=\"xgrid crisp\" transform=\"translate(622.93,0)\" d=\"M0,100v178.50000000000003\" style=\"stroke: rgb(255, 255, 255); stroke-opacity: 1; stroke-width: 1px;\"/><path class=\"xgrid crisp\" transform=\"translate(757.36,0)\" d=\"M0,100v178.50000000000003\" style=\"stroke: rgb(255, 255, 255); stroke-opacity: 1; stroke-width: 1px;\"/></g><g class=\"y\"><path class=\"ygrid crisp\" transform=\"translate(0,256.83000000000004)\" d=\"M80,0h791\" style=\"stroke: rgb(255, 255, 255); stroke-opacity: 1; stroke-width: 1px;\"/><path class=\"ygrid crisp\" transform=\"translate(0,218.20999999999998)\" d=\"M80,0h791\" style=\"stroke: rgb(255, 255, 255); stroke-opacity: 1; stroke-width: 1px;\"/><path class=\"ygrid crisp\" transform=\"translate(0,179.6)\" d=\"M80,0h791\" style=\"stroke: rgb(255, 255, 255); stroke-opacity: 1; stroke-width: 1px;\"/><path class=\"ygrid crisp\" transform=\"translate(0,140.98)\" d=\"M80,0h791\" style=\"stroke: rgb(255, 255, 255); stroke-opacity: 1; stroke-width: 1px;\"/><path class=\"ygrid crisp\" transform=\"translate(0,102.36)\" d=\"M80,0h791\" style=\"stroke: rgb(255, 255, 255); stroke-opacity: 1; stroke-width: 1px;\"/></g></g><g class=\"zerolinelayer\"/><path class=\"xlines-below\"/><path class=\"ylines-below\"/><g class=\"overlines-below\"/><g class=\"xaxislayer-below\"/><g class=\"yaxislayer-below\"/><g class=\"overaxes-below\"/><g class=\"plot\" transform=\"translate(80,100)\" clip-path=\"url(#clip128c18xyplot)\"><g class=\"scatterlayer mlayer\"><g class=\"trace scatter trace0033b1\" style=\"stroke-miterlimit: 2; opacity: 1;\"><g class=\"fills\"/><g class=\"errorbars\"/><g class=\"lines\"><path class=\"js-line\" d=\"M0,10.28L23.02,8.92L44.56,70.71L67.59,169.58L89.87,152.78L112.89,34.99L135.18,112.81L158.2,114.35L181.22,23.79L203.51,89.64L226.53,94.46L248.81,96.78L271.84,36.34L294.86,113.77L315.66,40.78L338.68,113.19L360.96,122.27L383.99,118.6L406.27,149.3L429.29,150.65L452.32,128.25L474.6,111.65L497.62,113L519.91,154.32L542.93,160.5L565.95,148.53L586.75,83.65L609.78,139.84L632.06,143.89L655.08,140.8L677.36,152L700.39,129.22L723.41,130.38L768.72,136.56L791,126.52\" style=\"vector-effect: non-scaling-stroke; fill: none; stroke: rgb(99, 110, 250); stroke-opacity: 1; stroke-width: 2px; opacity: 1;\"/></g><g class=\"points\"/><g class=\"text\"/></g><g class=\"trace scatter trace41eb37\" style=\"stroke-miterlimit: 2; opacity: 1;\"><g class=\"fills\"/><g class=\"errorbars\"/><g class=\"lines\"><path class=\"js-line\" d=\"M0,48.07L791,79.05\" style=\"vector-effect: non-scaling-stroke; fill: none; stroke: rgb(239, 85, 59); stroke-opacity: 1; stroke-width: 2px; opacity: 1;\"/></g><g class=\"points\"/><g class=\"text\"/></g></g></g><g class=\"overplot\"/><path class=\"xlines-above crisp\" d=\"M0,0\" style=\"fill: none;\"/><path class=\"ylines-above crisp\" d=\"M0,0\" style=\"fill: none;\"/><g class=\"overlines-above\"/><g class=\"xaxislayer-above\"><g class=\"xtick\"><text text-anchor=\"middle\" x=\"0\" y=\"291.5\" transform=\"translate(80,0)\" style=\"font-family: 'Open Sans', verdana, arial, sans-serif; font-size: 12px; fill: rgb(42, 63, 95); fill-opacity: 1; white-space: pre; opacity: 1;\">Jan 2020</text></g><g class=\"xtick\"><text text-anchor=\"middle\" x=\"0\" y=\"291.5\" style=\"font-family: 'Open Sans', verdana, arial, sans-serif; font-size: 12px; fill: rgb(42, 63, 95); fill-opacity: 1; white-space: pre; opacity: 1;\" transform=\"translate(215.18,0)\">Jul 2020</text></g><g class=\"xtick\"><text text-anchor=\"middle\" x=\"0\" y=\"291.5\" style=\"font-family: 'Open Sans', verdana, arial, sans-serif; font-size: 12px; fill: rgb(42, 63, 95); fill-opacity: 1; white-space: pre; opacity: 1;\" transform=\"translate(351.84,0)\">Jan 2021</text></g><g class=\"xtick\"><text text-anchor=\"middle\" x=\"0\" y=\"291.5\" style=\"font-family: 'Open Sans', verdana, arial, sans-serif; font-size: 12px; fill: rgb(42, 63, 95); fill-opacity: 1; white-space: pre; opacity: 1;\" transform=\"translate(486.27,0)\">Jul 2021</text></g><g class=\"xtick\"><text text-anchor=\"middle\" x=\"0\" y=\"291.5\" style=\"font-family: 'Open Sans', verdana, arial, sans-serif; font-size: 12px; fill: rgb(42, 63, 95); fill-opacity: 1; white-space: pre; opacity: 1;\" transform=\"translate(622.93,0)\">Jan 2022</text></g><g class=\"xtick\"><text text-anchor=\"middle\" x=\"0\" y=\"291.5\" style=\"font-family: 'Open Sans', verdana, arial, sans-serif; font-size: 12px; fill: rgb(42, 63, 95); fill-opacity: 1; white-space: pre; opacity: 1;\" transform=\"translate(757.36,0)\">Jul 2022</text></g></g><g class=\"yaxislayer-above\"><g class=\"ytick\"><text text-anchor=\"end\" x=\"79\" y=\"4.199999999999999\" transform=\"translate(0,256.83000000000004)\" style=\"font-family: 'Open Sans', verdana, arial, sans-serif; font-size: 12px; fill: rgb(42, 63, 95); fill-opacity: 1; white-space: pre; opacity: 1;\">200</text></g><g class=\"ytick\"><text text-anchor=\"end\" x=\"79\" y=\"4.199999999999999\" style=\"font-family: 'Open Sans', verdana, arial, sans-serif; font-size: 12px; fill: rgb(42, 63, 95); fill-opacity: 1; white-space: pre; opacity: 1;\" transform=\"translate(0,218.20999999999998)\">400</text></g><g class=\"ytick\"><text text-anchor=\"end\" x=\"79\" y=\"4.199999999999999\" style=\"font-family: 'Open Sans', verdana, arial, sans-serif; font-size: 12px; fill: rgb(42, 63, 95); fill-opacity: 1; white-space: pre; opacity: 1;\" transform=\"translate(0,179.6)\">600</text></g><g class=\"ytick\"><text text-anchor=\"end\" x=\"79\" y=\"4.199999999999999\" style=\"font-family: 'Open Sans', verdana, arial, sans-serif; font-size: 12px; fill: rgb(42, 63, 95); fill-opacity: 1; white-space: pre; opacity: 1;\" transform=\"translate(0,140.98)\">800</text></g><g class=\"ytick\"><text text-anchor=\"end\" x=\"79\" y=\"4.199999999999999\" style=\"font-family: 'Open Sans', verdana, arial, sans-serif; font-size: 12px; fill: rgb(42, 63, 95); fill-opacity: 1; white-space: pre; opacity: 1;\" transform=\"translate(0,102.36)\">1000</text></g></g><g class=\"overaxes-above\"/></g><g class=\"subplot x2y2\"><g class=\"layer-subplot\"><g class=\"shapelayer\"/><g class=\"imagelayer\"/></g><g class=\"minor-gridlayer\"><g class=\"x2\"/><g class=\"y2\"/></g><g class=\"gridlayer\"><g class=\"x2\"><path class=\"x2grid crisp\" transform=\"translate(129.67000000000002,0)\" d=\"M0,341.5v178.5\" style=\"stroke: rgb(255, 255, 255); stroke-opacity: 1; stroke-width: 1px;\"/><path class=\"x2grid crisp\" transform=\"translate(229.14,0)\" d=\"M0,341.5v178.5\" style=\"stroke: rgb(255, 255, 255); stroke-opacity: 1; stroke-width: 1px;\"/><path class=\"x2grid crisp\" transform=\"translate(328.47,0)\" d=\"M0,341.5v178.5\" style=\"stroke: rgb(255, 255, 255); stroke-opacity: 1; stroke-width: 1px;\"/><path class=\"x2grid crisp\" transform=\"translate(427.94,0)\" d=\"M0,341.5v178.5\" style=\"stroke: rgb(255, 255, 255); stroke-opacity: 1; stroke-width: 1px;\"/><path class=\"x2grid crisp\" transform=\"translate(527.28,0)\" d=\"M0,341.5v178.5\" style=\"stroke: rgb(255, 255, 255); stroke-opacity: 1; stroke-width: 1px;\"/><path class=\"x2grid crisp\" transform=\"translate(626.75,0)\" d=\"M0,341.5v178.5\" style=\"stroke: rgb(255, 255, 255); stroke-opacity: 1; stroke-width: 1px;\"/><path class=\"x2grid crisp\" transform=\"translate(726.08,0)\" d=\"M0,341.5v178.5\" style=\"stroke: rgb(255, 255, 255); stroke-opacity: 1; stroke-width: 1px;\"/><path class=\"x2grid crisp\" transform=\"translate(825.55,0)\" d=\"M0,341.5v178.5\" style=\"stroke: rgb(255, 255, 255); stroke-opacity: 1; stroke-width: 1px;\"/></g><g class=\"y2\"><path class=\"y2grid crisp\" transform=\"translate(0,471.1)\" d=\"M80,0h791\" style=\"stroke: rgb(255, 255, 255); stroke-opacity: 1; stroke-width: 1px;\"/><path class=\"y2grid crisp\" transform=\"translate(0,416.5)\" d=\"M80,0h791\" style=\"stroke: rgb(255, 255, 255); stroke-opacity: 1; stroke-width: 1px;\"/><path class=\"y2grid crisp\" transform=\"translate(0,361.89)\" d=\"M80,0h791\" style=\"stroke: rgb(255, 255, 255); stroke-opacity: 1; stroke-width: 1px;\"/></g></g><g class=\"zerolinelayer\"/><path class=\"xlines-below\"/><path class=\"ylines-below\"/><g class=\"overlines-below\"/><g class=\"xaxislayer-below\"/><g class=\"yaxislayer-below\"/><g class=\"overaxes-below\"/><g class=\"plot\" transform=\"translate(80,341.5)\" clip-path=\"url(#clip128c18x2y2plot)\"><g class=\"scatterlayer mlayer\"><g class=\"trace scatter trace076511\" style=\"stroke-miterlimit: 2; opacity: 1;\"><g class=\"fills\"/><g class=\"errorbars\"/><g class=\"lines\"><path class=\"js-line\" d=\"M0,148.06L4.22,151.56L8.03,142.93L12.25,155.05L16.33,147.41L20.55,135.61L24.63,161.49L28.85,149.37L33.07,139.76L37.15,134.95L41.37,148.82L45.45,143.47L49.67,140.42L53.89,137.58L57.83,127.2L62.05,147.84L66.13,143.26L70.35,127.2L74.43,145.88L78.65,149.37L82.87,140.74L86.95,141.73L91.17,146.75L95.25,155.49L99.47,145L103.69,131.57L107.5,142.38L111.72,132.12L115.8,148.93L120.02,143.36L124.1,150.79L128.32,140.96L132.54,126L136.62,143.36L140.84,139.54L144.92,144.35L149.14,136.7L153.36,141.51L157.17,134.52L161.38,146.31L165.47,136.27L169.68,135.17L173.77,142.38L177.99,140.2L182.2,144.13L186.29,134.74L190.5,137.03L194.59,136.81L198.8,138.34L203.02,131.57L206.83,108.53L211.05,130.59L215.13,127.09L219.35,125.67L223.43,144.78L227.65,133.64L231.87,120.32L235.95,129.17L240.17,119.23L244.25,134.08L248.47,132.01L252.69,109.73L256.64,127.64L260.85,148.28L264.94,139.11L269.15,125.56L273.24,126.33L277.46,123.16L281.67,115.52L285.76,111.8L289.97,104.27L294.06,97.06L298.27,101.75L302.49,102.08L306.3,69.32L310.52,112.35L314.6,86.9L318.82,65.5L322.9,76.09L327.12,86.03L331.34,72.16L335.42,60.25L339.64,101.86L343.72,108.96L347.94,105.8L352.16,109.51L355.97,50.21L360.19,111.91L364.27,101.1L368.49,85.7L372.57,95.64L376.79,91.16L381.01,79.37L385.09,94.55L389.31,94.11L393.39,56.43L397.61,102.96L401.83,99.35L405.64,13.51L409.86,143.47L413.94,57.52L418.16,75.76L422.24,82.97L426.46,89.96L430.68,93.02L434.76,86.9L438.98,105.9L443.06,102.41L447.28,96.51L451.49,74.23L455.44,100.23L459.66,119.23L463.74,76.96L467.96,55.45L472.04,71.39L476.26,118.03L480.48,76.42L484.56,93.67L488.78,82.75L492.86,69.1L497.08,82.75L501.3,39.18L505.11,8.93L509.33,118.03L513.41,57.2L517.63,76.53L521.71,105.8L525.93,73.58L530.15,63.86L534.23,78.71L538.45,75L542.53,42.02L546.75,74.45L550.96,55.78L554.77,52.72L558.99,102.63L563.08,63.75L567.29,83.41L571.38,71.18L575.59,60.8L579.81,119.67L583.89,99.57L588.11,123.6L592.2,97.28L596.41,79.26L600.63,43.11L604.44,33.17L608.66,136.7L612.74,111.26L616.96,71.5L621.04,87.45L625.26,114.64L629.48,102.96L633.56,91.05L637.78,109.73L641.86,118.35\" style=\"vector-effect: non-scaling-stroke; fill: none; stroke: rgb(0, 204, 150); stroke-opacity: 1; stroke-width: 2px; opacity: 1;\"/></g><g class=\"points\"/><g class=\"text\"/></g><g class=\"trace scatter traced33102\" style=\"stroke-miterlimit: 2; opacity: 1;\"><g class=\"fills\"/><g class=\"errorbars\"/><g class=\"lines\"><path class=\"js-line\" d=\"M646.08,79.48L650.3,78.71L654.25,113.66L658.46,169.58L662.55,160.07L666.76,93.45L670.85,137.47L675.06,138.34L679.28,87.12L683.37,124.36L687.58,127.09L691.67,128.4L695.88,94.22L700.1,138.01L703.91,96.73L708.13,137.69L712.21,142.82L716.43,140.74L720.51,158.11L724.73,158.87L728.95,146.2L733.03,136.81L737.25,137.58L741.33,160.95L745.55,164.44L749.77,157.67L753.58,120.98L757.8,152.76L761.88,155.05L766.1,153.3L770.18,159.64L774.4,146.75L778.62,147.41L786.92,150.9L791,145.22\" style=\"vector-effect: non-scaling-stroke; fill: none; stroke: rgb(171, 99, 250); stroke-opacity: 1; stroke-width: 2px; opacity: 1;\"/></g><g class=\"points\"/><g class=\"text\"/></g><g class=\"trace scatter trace15f7dc\" style=\"stroke-miterlimit: 2; opacity: 1;\"><g class=\"fills\"/><g class=\"errorbars\"/><g class=\"lines\"><path class=\"js-line\" d=\"M646.08,100.85L791,118.37\" style=\"vector-effect: non-scaling-stroke; fill: none; stroke: rgb(255, 161, 90); stroke-opacity: 1; stroke-width: 2px; opacity: 1;\"/></g><g class=\"points\"/><g class=\"text\"/></g></g></g><g class=\"overplot\"/><path class=\"xlines-above crisp\" d=\"M0,0\" style=\"fill: none;\"/><path class=\"ylines-above crisp\" d=\"M0,0\" style=\"fill: none;\"/><g class=\"overlines-above\"/><g class=\"xaxislayer-above\"><g class=\"x2tick\"><text text-anchor=\"middle\" x=\"0\" y=\"533\" transform=\"translate(129.67000000000002,0)\" style=\"font-family: 'Open Sans', verdana, arial, sans-serif; font-size: 12px; fill: rgb(42, 63, 95); fill-opacity: 1; white-space: pre; opacity: 1;\">2008</text></g><g class=\"x2tick\"><text text-anchor=\"middle\" x=\"0\" y=\"533\" style=\"font-family: 'Open Sans', verdana, arial, sans-serif; font-size: 12px; fill: rgb(42, 63, 95); fill-opacity: 1; white-space: pre; opacity: 1;\" transform=\"translate(229.14,0)\">2010</text></g><g class=\"x2tick\"><text text-anchor=\"middle\" x=\"0\" y=\"533\" style=\"font-family: 'Open Sans', verdana, arial, sans-serif; font-size: 12px; fill: rgb(42, 63, 95); fill-opacity: 1; white-space: pre; opacity: 1;\" transform=\"translate(328.47,0)\">2012</text></g><g class=\"x2tick\"><text text-anchor=\"middle\" x=\"0\" y=\"533\" style=\"font-family: 'Open Sans', verdana, arial, sans-serif; font-size: 12px; fill: rgb(42, 63, 95); fill-opacity: 1; white-space: pre; opacity: 1;\" transform=\"translate(427.94,0)\">2014</text></g><g class=\"x2tick\"><text text-anchor=\"middle\" x=\"0\" y=\"533\" style=\"font-family: 'Open Sans', verdana, arial, sans-serif; font-size: 12px; fill: rgb(42, 63, 95); fill-opacity: 1; white-space: pre; opacity: 1;\" transform=\"translate(527.28,0)\">2016</text></g><g class=\"x2tick\"><text text-anchor=\"middle\" x=\"0\" y=\"533\" style=\"font-family: 'Open Sans', verdana, arial, sans-serif; font-size: 12px; fill: rgb(42, 63, 95); fill-opacity: 1; white-space: pre; opacity: 1;\" transform=\"translate(626.75,0)\">2018</text></g><g class=\"x2tick\"><text text-anchor=\"middle\" x=\"0\" y=\"533\" style=\"font-family: 'Open Sans', verdana, arial, sans-serif; font-size: 12px; fill: rgb(42, 63, 95); fill-opacity: 1; white-space: pre; opacity: 1;\" transform=\"translate(726.08,0)\">2020</text></g><g class=\"x2tick\"><text text-anchor=\"middle\" x=\"0\" y=\"533\" style=\"font-family: 'Open Sans', verdana, arial, sans-serif; font-size: 12px; fill: rgb(42, 63, 95); fill-opacity: 1; white-space: pre; opacity: 1;\" transform=\"translate(825.55,0)\">2022</text></g></g><g class=\"yaxislayer-above\"><g class=\"y2tick\"><text text-anchor=\"end\" x=\"79\" y=\"4.199999999999999\" transform=\"translate(0,471.1)\" style=\"font-family: 'Open Sans', verdana, arial, sans-serif; font-size: 12px; fill: rgb(42, 63, 95); fill-opacity: 1; white-space: pre; opacity: 1;\">500</text></g><g class=\"y2tick\"><text text-anchor=\"end\" x=\"79\" y=\"4.199999999999999\" style=\"font-family: 'Open Sans', verdana, arial, sans-serif; font-size: 12px; fill: rgb(42, 63, 95); fill-opacity: 1; white-space: pre; opacity: 1;\" transform=\"translate(0,416.5)\">1000</text></g><g class=\"y2tick\"><text text-anchor=\"end\" x=\"79\" y=\"4.199999999999999\" style=\"font-family: 'Open Sans', verdana, arial, sans-serif; font-size: 12px; fill: rgb(42, 63, 95); fill-opacity: 1; white-space: pre; opacity: 1;\" transform=\"translate(0,361.89)\">1500</text></g></g><g class=\"overaxes-above\"/></g></g><g class=\"polarlayer\"/><g class=\"smithlayer\"/><g class=\"ternarylayer\"/><g class=\"geolayer\"/><g class=\"funnelarealayer\"/><g class=\"pielayer\"/><g class=\"iciclelayer\"/><g class=\"treemaplayer\"/><g class=\"sunburstlayer\"/><g class=\"glimages\"/><defs id=\"topdefs-128c18\"><g class=\"clips\"/><clipPath id=\"legend128c18\"><rect width=\"101\" height=\"115\" x=\"0\" y=\"0\"/></clipPath></defs><g class=\"layer-above\"><g class=\"imagelayer\"/><g class=\"shapelayer\"/></g><g class=\"infolayer\"><g class=\"legend\" pointer-events=\"all\" transform=\"translate(886.82,100)\"><rect class=\"bg\" shape-rendering=\"crispEdges\" width=\"101\" height=\"115\" x=\"0\" y=\"0\" style=\"stroke: rgb(68, 68, 68); stroke-opacity: 1; fill: rgb(255, 255, 255); fill-opacity: 1; stroke-width: 0px;\"/><g class=\"scrollbox\" transform=\"\" clip-path=\"url(#legend128c18)\"><g class=\"groups\" transform=\"\"><g class=\"traces\" transform=\"translate(0,14.5)\" style=\"opacity: 1;\"><text class=\"legendtext\" text-anchor=\"start\" x=\"40\" y=\"4.680000000000001\" style=\"font-family: 'Open Sans', verdana, arial, sans-serif; font-size: 12px; fill: rgb(42, 63, 95); fill-opacity: 1; white-space: pre;\">Actual</text><g class=\"layers\" style=\"opacity: 1;\"><g class=\"legendfill\"/><g class=\"legendlines\"><path class=\"js-line\" d=\"M5,0h30\" style=\"fill: none; stroke: rgb(99, 110, 250); stroke-opacity: 1; stroke-width: 2px;\"/></g><g class=\"legendsymbols\"><g class=\"legendpoints\"/></g></g><rect class=\"legendtoggle\" x=\"0\" y=\"-9.5\" width=\"95.890625\" height=\"19\" style=\"fill: rgb(0, 0, 0); fill-opacity: 0;\"/></g><g class=\"traces\" transform=\"translate(0,33.5)\" style=\"opacity: 1;\"><text class=\"legendtext\" text-anchor=\"start\" x=\"40\" y=\"4.680000000000001\" style=\"font-family: 'Open Sans', verdana, arial, sans-serif; font-size: 12px; fill: rgb(42, 63, 95); fill-opacity: 1; white-space: pre;\">Predicted</text><g class=\"layers\" style=\"opacity: 1;\"><g class=\"legendfill\"/><g class=\"legendlines\"><path class=\"js-line\" d=\"M5,0h30\" style=\"fill: none; stroke: rgb(239, 85, 59); stroke-opacity: 1; stroke-width: 2px;\"/></g><g class=\"legendsymbols\"><g class=\"legendpoints\"/></g></g><rect class=\"legendtoggle\" x=\"0\" y=\"-9.5\" width=\"95.890625\" height=\"19\" style=\"fill: rgb(0, 0, 0); fill-opacity: 0;\"/></g></g><g class=\"groups\" transform=\"translate(0,10)\"><g class=\"traces\" transform=\"translate(0,52.5)\" style=\"opacity: 1;\"><text class=\"legendtext\" text-anchor=\"start\" x=\"40\" y=\"4.680000000000001\" style=\"font-family: 'Open Sans', verdana, arial, sans-serif; font-size: 12px; fill: rgb(42, 63, 95); fill-opacity: 1; white-space: pre;\">Train</text><g class=\"layers\" style=\"opacity: 1;\"><g class=\"legendfill\"/><g class=\"legendlines\"><path class=\"js-line\" d=\"M5,0h30\" style=\"fill: none; stroke: rgb(0, 204, 150); stroke-opacity: 1; stroke-width: 2px;\"/></g><g class=\"legendsymbols\"><g class=\"legendpoints\"/></g></g><rect class=\"legendtoggle\" x=\"0\" y=\"-9.5\" width=\"95.890625\" height=\"19\" style=\"fill: rgb(0, 0, 0); fill-opacity: 0;\"/></g><g class=\"traces\" transform=\"translate(0,71.5)\" style=\"opacity: 1;\"><text class=\"legendtext\" text-anchor=\"start\" x=\"40\" y=\"4.680000000000001\" style=\"font-family: 'Open Sans', verdana, arial, sans-serif; font-size: 12px; fill: rgb(42, 63, 95); fill-opacity: 1; white-space: pre;\">Test</text><g class=\"layers\" style=\"opacity: 1;\"><g class=\"legendfill\"/><g class=\"legendlines\"><path class=\"js-line\" d=\"M5,0h30\" style=\"fill: none; stroke: rgb(171, 99, 250); stroke-opacity: 1; stroke-width: 2px;\"/></g><g class=\"legendsymbols\"><g class=\"legendpoints\"/></g></g><rect class=\"legendtoggle\" x=\"0\" y=\"-9.5\" width=\"95.890625\" height=\"19\" style=\"fill: rgb(0, 0, 0); fill-opacity: 0;\"/></g><g class=\"traces\" transform=\"translate(0,90.5)\" style=\"opacity: 1;\"><text class=\"legendtext\" text-anchor=\"start\" x=\"40\" y=\"4.680000000000001\" style=\"font-family: 'Open Sans', verdana, arial, sans-serif; font-size: 12px; fill: rgb(42, 63, 95); fill-opacity: 1; white-space: pre;\">Forecast</text><g class=\"layers\" style=\"opacity: 1;\"><g class=\"legendfill\"/><g class=\"legendlines\"><path class=\"js-line\" d=\"M5,0h30\" style=\"fill: none; stroke: rgb(255, 161, 90); stroke-opacity: 1; stroke-width: 2px;\"/></g><g class=\"legendsymbols\"><g class=\"legendpoints\"/></g></g><rect class=\"legendtoggle\" x=\"0\" y=\"-9.5\" width=\"95.890625\" height=\"19\" style=\"fill: rgb(0, 0, 0); fill-opacity: 0;\"/></g></g></g><rect class=\"scrollbar\" rx=\"20\" ry=\"3\" width=\"0\" height=\"0\" x=\"0\" y=\"0\" style=\"fill: rgb(128, 139, 164); fill-opacity: 1;\"/></g><g class=\"g-gtitle\"><text class=\"gtitle\" x=\"50\" y=\"50\" text-anchor=\"start\" dy=\"0em\" style=\"font-family: 'Open Sans', verdana, arial, sans-serif; font-size: 17px; fill: rgb(42, 63, 95); opacity: 1; font-weight: normal; white-space: pre;\">Double Exponential Smoothing Predictions - DEN</text></g><g class=\"g-xtitle\"/><g class=\"g-x2title\"/><g class=\"g-ytitle\"/><g class=\"g-y2title\"/></g></svg>"
     },
     "metadata": {},
     "output_type": "display_data"
    }
   ],
   "source": [
    "model_name='Double Exponential Smoothing'\n",
    "\n",
    "# Train\n",
    "model = ExponentialSmoothing(train[dep_var],trend='add',seasonal_periods=12).fit()\n",
    "# Predict\n",
    "predictions = model.predict(start=start, end=end)\n",
    "\n",
    "# Forecast accuracy\n",
    "forecast_accuracy(model_name, test[dep_var], predictions, True, True)"
   ]
  },
  {
   "attachments": {},
   "cell_type": "markdown",
   "metadata": {},
   "source": [
    "#### Triple Exponential Smoothing"
   ]
  },
  {
   "cell_type": "code",
   "execution_count": 12,
   "metadata": {},
   "outputs": [
    {
     "name": "stdout",
     "output_type": "stream",
     "text": [
      "Triple Exponential Smoothing Model Performance:\n",
      "Mean Absolute Error: 400.50.\n",
      "Mean Squared Error: 200168.54.\n",
      "Root Mean Squared Error: 447.40.\n",
      "R^2 Score = -2.91.\n",
      "Mean Absolute Percentage Error: 130.89%.\n",
      "Accuracy = -30.89%.\n"
     ]
    },
    {
     "data": {
      "image/svg+xml": "<svg class=\"main-svg\" xmlns=\"http://www.w3.org/2000/svg\" xmlns:xlink=\"http://www.w3.org/1999/xlink\" width=\"1000\" height=\"600\" style=\"\" viewBox=\"0 0 1000 600\"><rect x=\"0\" y=\"0\" width=\"1000\" height=\"600\" style=\"fill: rgb(255, 255, 255); fill-opacity: 1;\"/><defs id=\"defs-af84e3\"><g class=\"clips\"><clipPath id=\"clipaf84e3xyplot\" class=\"plotclip\"><rect width=\"791\" height=\"178.50000000000003\"/></clipPath><clipPath id=\"clipaf84e3x2y2plot\" class=\"plotclip\"><rect width=\"791\" height=\"178.5\"/></clipPath><clipPath class=\"axesclip\" id=\"clipaf84e3x\"><rect x=\"80\" y=\"0\" width=\"791\" height=\"600\"/></clipPath><clipPath class=\"axesclip\" id=\"clipaf84e3y\"><rect x=\"0\" y=\"100\" width=\"1000\" height=\"178.50000000000003\"/></clipPath><clipPath class=\"axesclip\" id=\"clipaf84e3xy\"><rect x=\"80\" y=\"100\" width=\"791\" height=\"178.50000000000003\"/></clipPath><clipPath class=\"axesclip\" id=\"clipaf84e3y2\"><rect x=\"0\" y=\"341.5\" width=\"1000\" height=\"178.5\"/></clipPath><clipPath class=\"axesclip\" id=\"clipaf84e3xy2\"><rect x=\"80\" y=\"341.5\" width=\"791\" height=\"178.5\"/></clipPath><clipPath class=\"axesclip\" id=\"clipaf84e3x2\"><rect x=\"80\" y=\"0\" width=\"791\" height=\"600\"/></clipPath><clipPath class=\"axesclip\" id=\"clipaf84e3x2y\"><rect x=\"80\" y=\"100\" width=\"791\" height=\"178.50000000000003\"/></clipPath><clipPath class=\"axesclip\" id=\"clipaf84e3x2y2\"><rect x=\"80\" y=\"341.5\" width=\"791\" height=\"178.5\"/></clipPath></g><g class=\"gradients\"/><g class=\"patterns\"/></defs><g class=\"bglayer\"><rect class=\"bg\" x=\"80\" y=\"100\" width=\"791\" height=\"178.50000000000003\" style=\"fill: rgb(229, 236, 246); fill-opacity: 1; stroke-width: 0;\"/><rect class=\"bg\" x=\"80\" y=\"341.5\" width=\"791\" height=\"178.5\" style=\"fill: rgb(229, 236, 246); fill-opacity: 1; stroke-width: 0;\"/></g><g class=\"layer-below\"><g class=\"imagelayer\"/><g class=\"shapelayer\"/></g><g class=\"cartesianlayer\"><g class=\"subplot xy\"><g class=\"layer-subplot\"><g class=\"shapelayer\"/><g class=\"imagelayer\"/></g><g class=\"minor-gridlayer\"><g class=\"x\"/><g class=\"y\"/></g><g class=\"gridlayer\"><g class=\"x\"><path class=\"xgrid crisp\" transform=\"translate(215.18,0)\" d=\"M0,100v178.50000000000003\" style=\"stroke: rgb(255, 255, 255); stroke-opacity: 1; stroke-width: 1px;\"/><path class=\"xgrid crisp\" transform=\"translate(351.84,0)\" d=\"M0,100v178.50000000000003\" style=\"stroke: rgb(255, 255, 255); stroke-opacity: 1; stroke-width: 1px;\"/><path class=\"xgrid crisp\" transform=\"translate(486.27,0)\" d=\"M0,100v178.50000000000003\" style=\"stroke: rgb(255, 255, 255); stroke-opacity: 1; stroke-width: 1px;\"/><path class=\"xgrid crisp\" transform=\"translate(622.93,0)\" d=\"M0,100v178.50000000000003\" style=\"stroke: rgb(255, 255, 255); stroke-opacity: 1; stroke-width: 1px;\"/><path class=\"xgrid crisp\" transform=\"translate(757.36,0)\" d=\"M0,100v178.50000000000003\" style=\"stroke: rgb(255, 255, 255); stroke-opacity: 1; stroke-width: 1px;\"/></g><g class=\"y\"><path class=\"ygrid crisp\" transform=\"translate(0,211.43)\" d=\"M80,0h791\" style=\"stroke: rgb(255, 255, 255); stroke-opacity: 1; stroke-width: 1px;\"/><path class=\"ygrid crisp\" transform=\"translate(0,132)\" d=\"M80,0h791\" style=\"stroke: rgb(255, 255, 255); stroke-opacity: 1; stroke-width: 1px;\"/></g></g><g class=\"zerolinelayer\"/><path class=\"xlines-below\"/><path class=\"ylines-below\"/><g class=\"overlines-below\"/><g class=\"xaxislayer-below\"/><g class=\"yaxislayer-below\"/><g class=\"overaxes-below\"/><g class=\"plot\" transform=\"translate(80,100)\" clip-path=\"url(#clipaf84e3xyplot)\"><g class=\"scatterlayer mlayer\"><g class=\"trace scatter trace7eb177\" style=\"stroke-miterlimit: 2; opacity: 1;\"><g class=\"fills\"/><g class=\"errorbars\"/><g class=\"lines\"><path class=\"js-line\" d=\"M0,38.51L23.02,37.4L44.56,88.24L67.59,169.58L89.87,155.75L112.89,58.85L135.18,122.87L158.2,124.14L181.22,49.63L203.51,103.81L226.53,107.78L248.81,109.68L271.84,59.96L294.86,123.66L315.66,63.61L338.68,123.19L360.96,130.65L383.99,127.63L406.27,152.89L429.29,154.01L452.32,135.58L474.6,121.92L497.62,123.03L519.91,157.02L542.93,162.11L565.95,152.26L586.75,98.88L609.78,145.11L632.06,148.45L655.08,145.9L677.36,155.12L700.39,136.37L723.41,137.33L768.72,142.41L791,134.15\" style=\"vector-effect: non-scaling-stroke; fill: none; stroke: rgb(99, 110, 250); stroke-opacity: 1; stroke-width: 2px; opacity: 1;\"/></g><g class=\"points\"/><g class=\"text\"/></g><g class=\"trace scatter trace1b6b18\" style=\"stroke-miterlimit: 2; opacity: 1;\"><g class=\"fills\"/><g class=\"errorbars\"/><g class=\"lines\"><path class=\"js-line\" d=\"M0,68.66L23.02,39.72L44.56,19.43L67.59,119.88L89.87,64.53L112.89,53.29L135.18,68.85L158.2,75.87L181.22,73.68L203.51,67.46L226.53,80.82L248.81,53.01L271.84,63.41L294.86,34.47L315.66,14.18L338.68,114.63L360.96,59.28L383.99,48.04L406.27,63.6L429.29,70.62L452.32,68.43L474.6,62.21L497.62,75.57L519.91,47.76L542.93,58.16L565.95,29.22L586.75,8.93L609.78,109.38L632.06,54.03L655.08,42.79L677.36,58.35L700.39,65.37L723.41,63.18L745.69,56.96L768.72,70.32L791,42.51\" style=\"vector-effect: non-scaling-stroke; fill: none; stroke: rgb(239, 85, 59); stroke-opacity: 1; stroke-width: 2px; opacity: 1;\"/></g><g class=\"points\"/><g class=\"text\"/></g></g></g><g class=\"overplot\"/><path class=\"xlines-above crisp\" d=\"M0,0\" style=\"fill: none;\"/><path class=\"ylines-above crisp\" d=\"M0,0\" style=\"fill: none;\"/><g class=\"overlines-above\"/><g class=\"xaxislayer-above\"><g class=\"xtick\"><text text-anchor=\"middle\" x=\"0\" y=\"291.5\" transform=\"translate(80,0)\" style=\"font-family: 'Open Sans', verdana, arial, sans-serif; font-size: 12px; fill: rgb(42, 63, 95); fill-opacity: 1; white-space: pre; opacity: 1;\">Jan 2020</text></g><g class=\"xtick\"><text text-anchor=\"middle\" x=\"0\" y=\"291.5\" style=\"font-family: 'Open Sans', verdana, arial, sans-serif; font-size: 12px; fill: rgb(42, 63, 95); fill-opacity: 1; white-space: pre; opacity: 1;\" transform=\"translate(215.18,0)\">Jul 2020</text></g><g class=\"xtick\"><text text-anchor=\"middle\" x=\"0\" y=\"291.5\" style=\"font-family: 'Open Sans', verdana, arial, sans-serif; font-size: 12px; fill: rgb(42, 63, 95); fill-opacity: 1; white-space: pre; opacity: 1;\" transform=\"translate(351.84,0)\">Jan 2021</text></g><g class=\"xtick\"><text text-anchor=\"middle\" x=\"0\" y=\"291.5\" style=\"font-family: 'Open Sans', verdana, arial, sans-serif; font-size: 12px; fill: rgb(42, 63, 95); fill-opacity: 1; white-space: pre; opacity: 1;\" transform=\"translate(486.27,0)\">Jul 2021</text></g><g class=\"xtick\"><text text-anchor=\"middle\" x=\"0\" y=\"291.5\" style=\"font-family: 'Open Sans', verdana, arial, sans-serif; font-size: 12px; fill: rgb(42, 63, 95); fill-opacity: 1; white-space: pre; opacity: 1;\" transform=\"translate(622.93,0)\">Jan 2022</text></g><g class=\"xtick\"><text text-anchor=\"middle\" x=\"0\" y=\"291.5\" style=\"font-family: 'Open Sans', verdana, arial, sans-serif; font-size: 12px; fill: rgb(42, 63, 95); fill-opacity: 1; white-space: pre; opacity: 1;\" transform=\"translate(757.36,0)\">Jul 2022</text></g></g><g class=\"yaxislayer-above\"><g class=\"ytick\"><text text-anchor=\"end\" x=\"79\" y=\"4.199999999999999\" transform=\"translate(0,211.43)\" style=\"font-family: 'Open Sans', verdana, arial, sans-serif; font-size: 12px; fill: rgb(42, 63, 95); fill-opacity: 1; white-space: pre; opacity: 1;\">500</text></g><g class=\"ytick\"><text text-anchor=\"end\" x=\"79\" y=\"4.199999999999999\" style=\"font-family: 'Open Sans', verdana, arial, sans-serif; font-size: 12px; fill: rgb(42, 63, 95); fill-opacity: 1; white-space: pre; opacity: 1;\" transform=\"translate(0,132)\">1000</text></g></g><g class=\"overaxes-above\"/></g><g class=\"subplot x2y2\"><g class=\"layer-subplot\"><g class=\"shapelayer\"/><g class=\"imagelayer\"/></g><g class=\"minor-gridlayer\"><g class=\"x2\"/><g class=\"y2\"/></g><g class=\"gridlayer\"><g class=\"x2\"><path class=\"x2grid crisp\" transform=\"translate(129.67000000000002,0)\" d=\"M0,341.5v178.5\" style=\"stroke: rgb(255, 255, 255); stroke-opacity: 1; stroke-width: 1px;\"/><path class=\"x2grid crisp\" transform=\"translate(229.14,0)\" d=\"M0,341.5v178.5\" style=\"stroke: rgb(255, 255, 255); stroke-opacity: 1; stroke-width: 1px;\"/><path class=\"x2grid crisp\" transform=\"translate(328.47,0)\" d=\"M0,341.5v178.5\" style=\"stroke: rgb(255, 255, 255); stroke-opacity: 1; stroke-width: 1px;\"/><path class=\"x2grid crisp\" transform=\"translate(427.94,0)\" d=\"M0,341.5v178.5\" style=\"stroke: rgb(255, 255, 255); stroke-opacity: 1; stroke-width: 1px;\"/><path class=\"x2grid crisp\" transform=\"translate(527.28,0)\" d=\"M0,341.5v178.5\" style=\"stroke: rgb(255, 255, 255); stroke-opacity: 1; stroke-width: 1px;\"/><path class=\"x2grid crisp\" transform=\"translate(626.75,0)\" d=\"M0,341.5v178.5\" style=\"stroke: rgb(255, 255, 255); stroke-opacity: 1; stroke-width: 1px;\"/><path class=\"x2grid crisp\" transform=\"translate(726.08,0)\" d=\"M0,341.5v178.5\" style=\"stroke: rgb(255, 255, 255); stroke-opacity: 1; stroke-width: 1px;\"/><path class=\"x2grid crisp\" transform=\"translate(825.55,0)\" d=\"M0,341.5v178.5\" style=\"stroke: rgb(255, 255, 255); stroke-opacity: 1; stroke-width: 1px;\"/></g><g class=\"y2\"><path class=\"y2grid crisp\" transform=\"translate(0,471.1)\" d=\"M80,0h791\" style=\"stroke: rgb(255, 255, 255); stroke-opacity: 1; stroke-width: 1px;\"/><path class=\"y2grid crisp\" transform=\"translate(0,416.5)\" d=\"M80,0h791\" style=\"stroke: rgb(255, 255, 255); stroke-opacity: 1; stroke-width: 1px;\"/><path class=\"y2grid crisp\" transform=\"translate(0,361.89)\" d=\"M80,0h791\" style=\"stroke: rgb(255, 255, 255); stroke-opacity: 1; stroke-width: 1px;\"/></g></g><g class=\"zerolinelayer\"/><path class=\"xlines-below\"/><path class=\"ylines-below\"/><g class=\"overlines-below\"/><g class=\"xaxislayer-below\"/><g class=\"yaxislayer-below\"/><g class=\"overaxes-below\"/><g class=\"plot\" transform=\"translate(80,341.5)\" clip-path=\"url(#clipaf84e3x2y2plot)\"><g class=\"scatterlayer mlayer\"><g class=\"trace scatter tracee8bb1d\" style=\"stroke-miterlimit: 2; opacity: 1;\"><g class=\"fills\"/><g class=\"errorbars\"/><g class=\"lines\"><path class=\"js-line\" d=\"M0,148.06L4.22,151.56L8.03,142.93L12.25,155.05L16.33,147.41L20.55,135.61L24.63,161.49L28.85,149.37L33.07,139.76L37.15,134.95L41.37,148.82L45.45,143.47L49.67,140.42L53.89,137.58L57.83,127.2L62.05,147.84L66.13,143.26L70.35,127.2L74.43,145.88L78.65,149.37L82.87,140.74L86.95,141.73L91.17,146.75L95.25,155.49L99.47,145L103.69,131.57L107.5,142.38L111.72,132.12L115.8,148.93L120.02,143.36L124.1,150.79L128.32,140.96L132.54,126L136.62,143.36L140.84,139.54L144.92,144.35L149.14,136.7L153.36,141.51L157.17,134.52L161.38,146.31L165.47,136.27L169.68,135.17L173.77,142.38L177.99,140.2L182.2,144.13L186.29,134.74L190.5,137.03L194.59,136.81L198.8,138.34L203.02,131.57L206.83,108.53L211.05,130.59L215.13,127.09L219.35,125.67L223.43,144.78L227.65,133.64L231.87,120.32L235.95,129.17L240.17,119.23L244.25,134.08L248.47,132.01L252.69,109.73L256.64,127.64L260.85,148.28L264.94,139.11L269.15,125.56L273.24,126.33L277.46,123.16L281.67,115.52L285.76,111.8L289.97,104.27L294.06,97.06L298.27,101.75L302.49,102.08L306.3,69.32L310.52,112.35L314.6,86.9L318.82,65.5L322.9,76.09L327.12,86.03L331.34,72.16L335.42,60.25L339.64,101.86L343.72,108.96L347.94,105.8L352.16,109.51L355.97,50.21L360.19,111.91L364.27,101.1L368.49,85.7L372.57,95.64L376.79,91.16L381.01,79.37L385.09,94.55L389.31,94.11L393.39,56.43L397.61,102.96L401.83,99.35L405.64,13.51L409.86,143.47L413.94,57.52L418.16,75.76L422.24,82.97L426.46,89.96L430.68,93.02L434.76,86.9L438.98,105.9L443.06,102.41L447.28,96.51L451.49,74.23L455.44,100.23L459.66,119.23L463.74,76.96L467.96,55.45L472.04,71.39L476.26,118.03L480.48,76.42L484.56,93.67L488.78,82.75L492.86,69.1L497.08,82.75L501.3,39.18L505.11,8.93L509.33,118.03L513.41,57.2L517.63,76.53L521.71,105.8L525.93,73.58L530.15,63.86L534.23,78.71L538.45,75L542.53,42.02L546.75,74.45L550.96,55.78L554.77,52.72L558.99,102.63L563.08,63.75L567.29,83.41L571.38,71.18L575.59,60.8L579.81,119.67L583.89,99.57L588.11,123.6L592.2,97.28L596.41,79.26L600.63,43.11L604.44,33.17L608.66,136.7L612.74,111.26L616.96,71.5L621.04,87.45L625.26,114.64L629.48,102.96L633.56,91.05L637.78,109.73L641.86,118.35\" style=\"vector-effect: non-scaling-stroke; fill: none; stroke: rgb(0, 204, 150); stroke-opacity: 1; stroke-width: 2px; opacity: 1;\"/></g><g class=\"points\"/><g class=\"text\"/></g><g class=\"trace scatter trace1fa979\" style=\"stroke-miterlimit: 2; opacity: 1;\"><g class=\"fills\"/><g class=\"errorbars\"/><g class=\"lines\"><path class=\"js-line\" d=\"M646.08,79.48L650.3,78.71L654.25,113.66L658.46,169.58L662.55,160.07L666.76,93.45L670.85,137.47L675.06,138.34L679.28,87.12L683.37,124.36L687.58,127.09L691.67,128.4L695.88,94.22L700.1,138.01L703.91,96.73L708.13,137.69L712.21,142.82L716.43,140.74L720.51,158.11L724.73,158.87L728.95,146.2L733.03,136.81L737.25,137.58L741.33,160.95L745.55,164.44L749.77,157.67L753.58,120.98L757.8,152.76L761.88,155.05L766.1,153.3L770.18,159.64L774.4,146.75L778.62,147.41L786.92,150.9L791,145.22\" style=\"vector-effect: non-scaling-stroke; fill: none; stroke: rgb(171, 99, 250); stroke-opacity: 1; stroke-width: 2px; opacity: 1;\"/></g><g class=\"points\"/><g class=\"text\"/></g><g class=\"trace scatter traceef46f9\" style=\"stroke-miterlimit: 2; opacity: 1;\"><g class=\"fills\"/><g class=\"errorbars\"/><g class=\"lines\"><path class=\"js-line\" d=\"M646.08,100.2L650.3,80.31L654.25,66.35L658.46,135.41L662.55,97.36L666.76,89.63L670.85,100.33L675.06,105.16L679.28,103.65L683.37,99.38L687.58,108.56L691.67,89.44L695.88,96.59L700.1,76.7L703.91,62.75L708.13,131.8L712.21,93.76L716.43,86.02L720.51,96.72L724.73,101.55L728.95,100.04L733.03,95.77L737.25,104.95L741.33,85.83L745.55,92.98L749.77,73.09L753.58,59.14L757.8,128.19L761.88,90.15L766.1,82.41L770.18,93.11L774.4,97.94L778.62,96.43L782.7,92.16L786.92,101.34L791,82.22\" style=\"vector-effect: non-scaling-stroke; fill: none; stroke: rgb(255, 161, 90); stroke-opacity: 1; stroke-width: 2px; opacity: 1;\"/></g><g class=\"points\"/><g class=\"text\"/></g></g></g><g class=\"overplot\"/><path class=\"xlines-above crisp\" d=\"M0,0\" style=\"fill: none;\"/><path class=\"ylines-above crisp\" d=\"M0,0\" style=\"fill: none;\"/><g class=\"overlines-above\"/><g class=\"xaxislayer-above\"><g class=\"x2tick\"><text text-anchor=\"middle\" x=\"0\" y=\"533\" transform=\"translate(129.67000000000002,0)\" style=\"font-family: 'Open Sans', verdana, arial, sans-serif; font-size: 12px; fill: rgb(42, 63, 95); fill-opacity: 1; white-space: pre; opacity: 1;\">2008</text></g><g class=\"x2tick\"><text text-anchor=\"middle\" x=\"0\" y=\"533\" style=\"font-family: 'Open Sans', verdana, arial, sans-serif; font-size: 12px; fill: rgb(42, 63, 95); fill-opacity: 1; white-space: pre; opacity: 1;\" transform=\"translate(229.14,0)\">2010</text></g><g class=\"x2tick\"><text text-anchor=\"middle\" x=\"0\" y=\"533\" style=\"font-family: 'Open Sans', verdana, arial, sans-serif; font-size: 12px; fill: rgb(42, 63, 95); fill-opacity: 1; white-space: pre; opacity: 1;\" transform=\"translate(328.47,0)\">2012</text></g><g class=\"x2tick\"><text text-anchor=\"middle\" x=\"0\" y=\"533\" style=\"font-family: 'Open Sans', verdana, arial, sans-serif; font-size: 12px; fill: rgb(42, 63, 95); fill-opacity: 1; white-space: pre; opacity: 1;\" transform=\"translate(427.94,0)\">2014</text></g><g class=\"x2tick\"><text text-anchor=\"middle\" x=\"0\" y=\"533\" style=\"font-family: 'Open Sans', verdana, arial, sans-serif; font-size: 12px; fill: rgb(42, 63, 95); fill-opacity: 1; white-space: pre; opacity: 1;\" transform=\"translate(527.28,0)\">2016</text></g><g class=\"x2tick\"><text text-anchor=\"middle\" x=\"0\" y=\"533\" style=\"font-family: 'Open Sans', verdana, arial, sans-serif; font-size: 12px; fill: rgb(42, 63, 95); fill-opacity: 1; white-space: pre; opacity: 1;\" transform=\"translate(626.75,0)\">2018</text></g><g class=\"x2tick\"><text text-anchor=\"middle\" x=\"0\" y=\"533\" style=\"font-family: 'Open Sans', verdana, arial, sans-serif; font-size: 12px; fill: rgb(42, 63, 95); fill-opacity: 1; white-space: pre; opacity: 1;\" transform=\"translate(726.08,0)\">2020</text></g><g class=\"x2tick\"><text text-anchor=\"middle\" x=\"0\" y=\"533\" style=\"font-family: 'Open Sans', verdana, arial, sans-serif; font-size: 12px; fill: rgb(42, 63, 95); fill-opacity: 1; white-space: pre; opacity: 1;\" transform=\"translate(825.55,0)\">2022</text></g></g><g class=\"yaxislayer-above\"><g class=\"y2tick\"><text text-anchor=\"end\" x=\"79\" y=\"4.199999999999999\" transform=\"translate(0,471.1)\" style=\"font-family: 'Open Sans', verdana, arial, sans-serif; font-size: 12px; fill: rgb(42, 63, 95); fill-opacity: 1; white-space: pre; opacity: 1;\">500</text></g><g class=\"y2tick\"><text text-anchor=\"end\" x=\"79\" y=\"4.199999999999999\" style=\"font-family: 'Open Sans', verdana, arial, sans-serif; font-size: 12px; fill: rgb(42, 63, 95); fill-opacity: 1; white-space: pre; opacity: 1;\" transform=\"translate(0,416.5)\">1000</text></g><g class=\"y2tick\"><text text-anchor=\"end\" x=\"79\" y=\"4.199999999999999\" style=\"font-family: 'Open Sans', verdana, arial, sans-serif; font-size: 12px; fill: rgb(42, 63, 95); fill-opacity: 1; white-space: pre; opacity: 1;\" transform=\"translate(0,361.89)\">1500</text></g></g><g class=\"overaxes-above\"/></g></g><g class=\"polarlayer\"/><g class=\"smithlayer\"/><g class=\"ternarylayer\"/><g class=\"geolayer\"/><g class=\"funnelarealayer\"/><g class=\"pielayer\"/><g class=\"iciclelayer\"/><g class=\"treemaplayer\"/><g class=\"sunburstlayer\"/><g class=\"glimages\"/><defs id=\"topdefs-af84e3\"><g class=\"clips\"/><clipPath id=\"legendaf84e3\"><rect width=\"101\" height=\"115\" x=\"0\" y=\"0\"/></clipPath></defs><g class=\"layer-above\"><g class=\"imagelayer\"/><g class=\"shapelayer\"/></g><g class=\"infolayer\"><g class=\"legend\" pointer-events=\"all\" transform=\"translate(886.82,100)\"><rect class=\"bg\" shape-rendering=\"crispEdges\" width=\"101\" height=\"115\" x=\"0\" y=\"0\" style=\"stroke: rgb(68, 68, 68); stroke-opacity: 1; fill: rgb(255, 255, 255); fill-opacity: 1; stroke-width: 0px;\"/><g class=\"scrollbox\" transform=\"\" clip-path=\"url(#legendaf84e3)\"><g class=\"groups\" transform=\"\"><g class=\"traces\" transform=\"translate(0,14.5)\" style=\"opacity: 1;\"><text class=\"legendtext\" text-anchor=\"start\" x=\"40\" y=\"4.680000000000001\" style=\"font-family: 'Open Sans', verdana, arial, sans-serif; font-size: 12px; fill: rgb(42, 63, 95); fill-opacity: 1; white-space: pre;\">Actual</text><g class=\"layers\" style=\"opacity: 1;\"><g class=\"legendfill\"/><g class=\"legendlines\"><path class=\"js-line\" d=\"M5,0h30\" style=\"fill: none; stroke: rgb(99, 110, 250); stroke-opacity: 1; stroke-width: 2px;\"/></g><g class=\"legendsymbols\"><g class=\"legendpoints\"/></g></g><rect class=\"legendtoggle\" x=\"0\" y=\"-9.5\" width=\"95.890625\" height=\"19\" style=\"fill: rgb(0, 0, 0); fill-opacity: 0;\"/></g><g class=\"traces\" transform=\"translate(0,33.5)\" style=\"opacity: 1;\"><text class=\"legendtext\" text-anchor=\"start\" x=\"40\" y=\"4.680000000000001\" style=\"font-family: 'Open Sans', verdana, arial, sans-serif; font-size: 12px; fill: rgb(42, 63, 95); fill-opacity: 1; white-space: pre;\">Predicted</text><g class=\"layers\" style=\"opacity: 1;\"><g class=\"legendfill\"/><g class=\"legendlines\"><path class=\"js-line\" d=\"M5,0h30\" style=\"fill: none; stroke: rgb(239, 85, 59); stroke-opacity: 1; stroke-width: 2px;\"/></g><g class=\"legendsymbols\"><g class=\"legendpoints\"/></g></g><rect class=\"legendtoggle\" x=\"0\" y=\"-9.5\" width=\"95.890625\" height=\"19\" style=\"fill: rgb(0, 0, 0); fill-opacity: 0;\"/></g></g><g class=\"groups\" transform=\"translate(0,10)\"><g class=\"traces\" transform=\"translate(0,52.5)\" style=\"opacity: 1;\"><text class=\"legendtext\" text-anchor=\"start\" x=\"40\" y=\"4.680000000000001\" style=\"font-family: 'Open Sans', verdana, arial, sans-serif; font-size: 12px; fill: rgb(42, 63, 95); fill-opacity: 1; white-space: pre;\">Train</text><g class=\"layers\" style=\"opacity: 1;\"><g class=\"legendfill\"/><g class=\"legendlines\"><path class=\"js-line\" d=\"M5,0h30\" style=\"fill: none; stroke: rgb(0, 204, 150); stroke-opacity: 1; stroke-width: 2px;\"/></g><g class=\"legendsymbols\"><g class=\"legendpoints\"/></g></g><rect class=\"legendtoggle\" x=\"0\" y=\"-9.5\" width=\"95.890625\" height=\"19\" style=\"fill: rgb(0, 0, 0); fill-opacity: 0;\"/></g><g class=\"traces\" transform=\"translate(0,71.5)\" style=\"opacity: 1;\"><text class=\"legendtext\" text-anchor=\"start\" x=\"40\" y=\"4.680000000000001\" style=\"font-family: 'Open Sans', verdana, arial, sans-serif; font-size: 12px; fill: rgb(42, 63, 95); fill-opacity: 1; white-space: pre;\">Test</text><g class=\"layers\" style=\"opacity: 1;\"><g class=\"legendfill\"/><g class=\"legendlines\"><path class=\"js-line\" d=\"M5,0h30\" style=\"fill: none; stroke: rgb(171, 99, 250); stroke-opacity: 1; stroke-width: 2px;\"/></g><g class=\"legendsymbols\"><g class=\"legendpoints\"/></g></g><rect class=\"legendtoggle\" x=\"0\" y=\"-9.5\" width=\"95.890625\" height=\"19\" style=\"fill: rgb(0, 0, 0); fill-opacity: 0;\"/></g><g class=\"traces\" transform=\"translate(0,90.5)\" style=\"opacity: 1;\"><text class=\"legendtext\" text-anchor=\"start\" x=\"40\" y=\"4.680000000000001\" style=\"font-family: 'Open Sans', verdana, arial, sans-serif; font-size: 12px; fill: rgb(42, 63, 95); fill-opacity: 1; white-space: pre;\">Forecast</text><g class=\"layers\" style=\"opacity: 1;\"><g class=\"legendfill\"/><g class=\"legendlines\"><path class=\"js-line\" d=\"M5,0h30\" style=\"fill: none; stroke: rgb(255, 161, 90); stroke-opacity: 1; stroke-width: 2px;\"/></g><g class=\"legendsymbols\"><g class=\"legendpoints\"/></g></g><rect class=\"legendtoggle\" x=\"0\" y=\"-9.5\" width=\"95.890625\" height=\"19\" style=\"fill: rgb(0, 0, 0); fill-opacity: 0;\"/></g></g></g><rect class=\"scrollbar\" rx=\"20\" ry=\"3\" width=\"0\" height=\"0\" x=\"0\" y=\"0\" style=\"fill: rgb(128, 139, 164); fill-opacity: 1;\"/></g><g class=\"g-gtitle\"><text class=\"gtitle\" x=\"50\" y=\"50\" text-anchor=\"start\" dy=\"0em\" style=\"font-family: 'Open Sans', verdana, arial, sans-serif; font-size: 17px; fill: rgb(42, 63, 95); opacity: 1; font-weight: normal; white-space: pre;\">Triple Exponential Smoothing Predictions - DEN</text></g><g class=\"g-xtitle\"/><g class=\"g-x2title\"/><g class=\"g-ytitle\"/><g class=\"g-y2title\"/></g></svg>"
     },
     "metadata": {},
     "output_type": "display_data"
    }
   ],
   "source": [
    "model_name='Triple Exponential Smoothing'\n",
    "\n",
    "# Train\n",
    "model = ExponentialSmoothing(train[dep_var],trend='add',seasonal='add',seasonal_periods=12).fit()\n",
    "\n",
    "# Predict\n",
    "predictions = model.predict(start=start, end=end)\n",
    "\n",
    "# Forecast accuracy\n",
    "forecast_accuracy(model_name, test[dep_var], predictions, True, True)"
   ]
  },
  {
   "cell_type": "code",
   "execution_count": 13,
   "metadata": {},
   "outputs": [
    {
     "data": {
      "text/html": [
       "<div>\n",
       "<style scoped>\n",
       "    .dataframe tbody tr th:only-of-type {\n",
       "        vertical-align: middle;\n",
       "    }\n",
       "\n",
       "    .dataframe tbody tr th {\n",
       "        vertical-align: top;\n",
       "    }\n",
       "\n",
       "    .dataframe thead th {\n",
       "        text-align: right;\n",
       "    }\n",
       "</style>\n",
       "<table border=\"1\" class=\"dataframe\">\n",
       "  <thead>\n",
       "    <tr style=\"text-align: right;\">\n",
       "      <th></th>\n",
       "      <th>Simple Exponential Smoothing</th>\n",
       "      <th>Double Exponential Smoothing</th>\n",
       "      <th>Triple Exponential Smoothing</th>\n",
       "    </tr>\n",
       "  </thead>\n",
       "  <tbody>\n",
       "    <tr>\n",
       "      <th>Mean Absolute Error</th>\n",
       "      <td>374.545492</td>\n",
       "      <td>288.545607</td>\n",
       "      <td>400.502355</td>\n",
       "    </tr>\n",
       "    <tr>\n",
       "      <th>Mean Squared Error</th>\n",
       "      <td>169685.476561</td>\n",
       "      <td>98992.434108</td>\n",
       "      <td>200168.540882</td>\n",
       "    </tr>\n",
       "    <tr>\n",
       "      <th>Root Mean Squared Error</th>\n",
       "      <td>411.928970</td>\n",
       "      <td>314.630631</td>\n",
       "      <td>447.401990</td>\n",
       "    </tr>\n",
       "    <tr>\n",
       "      <th>R^2</th>\n",
       "      <td>-2.312484</td>\n",
       "      <td>-0.932463</td>\n",
       "      <td>-2.907554</td>\n",
       "    </tr>\n",
       "    <tr>\n",
       "      <th>Mean Absolute Percentage Error</th>\n",
       "      <td>128.569802</td>\n",
       "      <td>98.833540</td>\n",
       "      <td>130.888264</td>\n",
       "    </tr>\n",
       "    <tr>\n",
       "      <th>Accuracy</th>\n",
       "      <td>-28.569802</td>\n",
       "      <td>1.166460</td>\n",
       "      <td>-30.888264</td>\n",
       "    </tr>\n",
       "  </tbody>\n",
       "</table>\n",
       "</div>"
      ],
      "text/plain": [
       "                                Simple Exponential Smoothing  \\\n",
       "Mean Absolute Error                               374.545492   \n",
       "Mean Squared Error                             169685.476561   \n",
       "Root Mean Squared Error                           411.928970   \n",
       "R^2                                                -2.312484   \n",
       "Mean Absolute Percentage Error                    128.569802   \n",
       "Accuracy                                          -28.569802   \n",
       "\n",
       "                                Double Exponential Smoothing  \\\n",
       "Mean Absolute Error                               288.545607   \n",
       "Mean Squared Error                              98992.434108   \n",
       "Root Mean Squared Error                           314.630631   \n",
       "R^2                                                -0.932463   \n",
       "Mean Absolute Percentage Error                     98.833540   \n",
       "Accuracy                                            1.166460   \n",
       "\n",
       "                                Triple Exponential Smoothing  \n",
       "Mean Absolute Error                               400.502355  \n",
       "Mean Squared Error                             200168.540882  \n",
       "Root Mean Squared Error                           447.401990  \n",
       "R^2                                                -2.907554  \n",
       "Mean Absolute Percentage Error                    130.888264  \n",
       "Accuracy                                          -30.888264  "
      ]
     },
     "execution_count": 13,
     "metadata": {},
     "output_type": "execute_result"
    }
   ],
   "source": [
    "metrics"
   ]
  },
  {
   "attachments": {},
   "cell_type": "markdown",
   "metadata": {},
   "source": [
    "#### ARIMA"
   ]
  },
  {
   "cell_type": "code",
   "execution_count": 14,
   "metadata": {},
   "outputs": [
    {
     "name": "stdout",
     "output_type": "stream",
     "text": [
      "Performing stepwise search to minimize aic\n",
      " ARIMA(1,1,1)(0,0,0)[0] intercept   : AIC=2070.942, Time=0.15 sec\n",
      " ARIMA(0,1,0)(0,0,0)[0] intercept   : AIC=2158.758, Time=0.02 sec\n",
      " ARIMA(1,1,0)(0,0,0)[0] intercept   : AIC=2118.713, Time=0.02 sec\n",
      " ARIMA(0,1,1)(0,0,0)[0] intercept   : AIC=2069.855, Time=0.07 sec\n",
      " ARIMA(0,1,0)(0,0,0)[0]             : AIC=2156.766, Time=0.02 sec\n",
      " ARIMA(0,1,2)(0,0,0)[0] intercept   : AIC=2070.603, Time=0.12 sec\n",
      " ARIMA(1,1,2)(0,0,0)[0] intercept   : AIC=2072.004, Time=0.17 sec\n",
      " ARIMA(0,1,1)(0,0,0)[0]             : AIC=2069.128, Time=0.04 sec\n",
      " ARIMA(1,1,1)(0,0,0)[0]             : AIC=2070.036, Time=0.06 sec\n",
      " ARIMA(0,1,2)(0,0,0)[0]             : AIC=2069.603, Time=0.06 sec\n",
      " ARIMA(1,1,0)(0,0,0)[0]             : AIC=2116.742, Time=0.02 sec\n",
      " ARIMA(1,1,2)(0,0,0)[0]             : AIC=2071.355, Time=0.09 sec\n",
      "\n",
      "Best model:  ARIMA(0,1,1)(0,0,0)[0]          \n",
      "Total fit time: 0.853 seconds\n"
     ]
    }
   ],
   "source": [
    "#Standard ARIMA Model\n",
    "model = auto_arima(train[dep_var], \n",
    "                    start_p=1, \n",
    "                    start_q=1,\n",
    "                    test='adf',                 # Use adftest to find optimal 'd'\n",
    "                    max_p=3, max_q=3,           # Maximum p and q\n",
    "                    m=1,                        # Frequency of series (if m==1, seasonal is set to FALSE automatically)\n",
    "                    d=None,                     # Let model determine 'd'\n",
    "                    seasonal=False,             # No Seasonality for standard ARIMA\n",
    "                    trace=True,                 # Logs \n",
    "                    error_action= 'warn',       # Shows errors ('ignore' silences these)\n",
    "                    suppress_warnings=True,\n",
    "                    stepwise=True)                    "
   ]
  },
  {
   "cell_type": "code",
   "execution_count": 15,
   "metadata": {},
   "outputs": [],
   "source": [
    "#model.plot_diagnostics(figsize=(15,12))\n",
    "#plt.show()"
   ]
  },
  {
   "cell_type": "code",
   "execution_count": 16,
   "metadata": {},
   "outputs": [
    {
     "data": {
      "text/html": [
       "<table class=\"simpletable\">\n",
       "<caption>SARIMAX Results</caption>\n",
       "<tr>\n",
       "  <th>Dep. Variable:</th>           <td>y</td>        <th>  No. Observations:  </th>    <td>156</td>   \n",
       "</tr>\n",
       "<tr>\n",
       "  <th>Model:</th>           <td>SARIMAX(0, 1, 1)</td> <th>  Log Likelihood     </th> <td>-1032.564</td>\n",
       "</tr>\n",
       "<tr>\n",
       "  <th>Date:</th>            <td>Wed, 15 Feb 2023</td> <th>  AIC                </th> <td>2069.128</td> \n",
       "</tr>\n",
       "<tr>\n",
       "  <th>Time:</th>                <td>17:07:56</td>     <th>  BIC                </th> <td>2075.214</td> \n",
       "</tr>\n",
       "<tr>\n",
       "  <th>Sample:</th>             <td>01-01-2007</td>    <th>  HQIC               </th> <td>2071.600</td> \n",
       "</tr>\n",
       "<tr>\n",
       "  <th></th>                   <td>- 12-01-2019</td>   <th>                     </th>     <td> </td>    \n",
       "</tr>\n",
       "<tr>\n",
       "  <th>Covariance Type:</th>        <td>opg</td>       <th>                     </th>     <td> </td>    \n",
       "</tr>\n",
       "</table>\n",
       "<table class=\"simpletable\">\n",
       "<tr>\n",
       "     <td></td>       <th>coef</th>     <th>std err</th>      <th>z</th>      <th>P>|z|</th>  <th>[0.025</th>    <th>0.975]</th>  \n",
       "</tr>\n",
       "<tr>\n",
       "  <th>ma.L1</th>  <td>   -0.8219</td> <td>    0.034</td> <td>  -24.238</td> <td> 0.000</td> <td>   -0.888</td> <td>   -0.755</td>\n",
       "</tr>\n",
       "<tr>\n",
       "  <th>sigma2</th> <td> 3.554e+04</td> <td> 2784.198</td> <td>   12.766</td> <td> 0.000</td> <td> 3.01e+04</td> <td>  4.1e+04</td>\n",
       "</tr>\n",
       "</table>\n",
       "<table class=\"simpletable\">\n",
       "<tr>\n",
       "  <th>Ljung-Box (L1) (Q):</th>     <td>1.14</td>  <th>  Jarque-Bera (JB):  </th> <td>37.92</td>\n",
       "</tr>\n",
       "<tr>\n",
       "  <th>Prob(Q):</th>                <td>0.29</td>  <th>  Prob(JB):          </th> <td>0.00</td> \n",
       "</tr>\n",
       "<tr>\n",
       "  <th>Heteroskedasticity (H):</th> <td>10.12</td> <th>  Skew:              </th> <td>0.03</td> \n",
       "</tr>\n",
       "<tr>\n",
       "  <th>Prob(H) (two-sided):</th>    <td>0.00</td>  <th>  Kurtosis:          </th> <td>5.42</td> \n",
       "</tr>\n",
       "</table><br/><br/>Warnings:<br/>[1] Covariance matrix calculated using the outer product of gradients (complex-step)."
      ],
      "text/plain": [
       "<class 'statsmodels.iolib.summary.Summary'>\n",
       "\"\"\"\n",
       "                               SARIMAX Results                                \n",
       "==============================================================================\n",
       "Dep. Variable:                      y   No. Observations:                  156\n",
       "Model:               SARIMAX(0, 1, 1)   Log Likelihood               -1032.564\n",
       "Date:                Wed, 15 Feb 2023   AIC                           2069.128\n",
       "Time:                        17:07:56   BIC                           2075.214\n",
       "Sample:                    01-01-2007   HQIC                          2071.600\n",
       "                         - 12-01-2019                                         \n",
       "Covariance Type:                  opg                                         \n",
       "==============================================================================\n",
       "                 coef    std err          z      P>|z|      [0.025      0.975]\n",
       "------------------------------------------------------------------------------\n",
       "ma.L1         -0.8219      0.034    -24.238      0.000      -0.888      -0.755\n",
       "sigma2      3.554e+04   2784.198     12.766      0.000    3.01e+04     4.1e+04\n",
       "===================================================================================\n",
       "Ljung-Box (L1) (Q):                   1.14   Jarque-Bera (JB):                37.92\n",
       "Prob(Q):                              0.29   Prob(JB):                         0.00\n",
       "Heteroskedasticity (H):              10.12   Skew:                             0.03\n",
       "Prob(H) (two-sided):                  0.00   Kurtosis:                         5.42\n",
       "===================================================================================\n",
       "\n",
       "Warnings:\n",
       "[1] Covariance matrix calculated using the outer product of gradients (complex-step).\n",
       "\"\"\""
      ]
     },
     "execution_count": 16,
     "metadata": {},
     "output_type": "execute_result"
    }
   ],
   "source": [
    "model.summary()"
   ]
  },
  {
   "cell_type": "code",
   "execution_count": 17,
   "metadata": {},
   "outputs": [
    {
     "name": "stdout",
     "output_type": "stream",
     "text": [
      "ARIMA Model Performance:\n",
      "Mean Absolute Error: 364.70.\n",
      "Mean Squared Error: 159735.58.\n",
      "Root Mean Squared Error: 399.67.\n",
      "R^2 Score = -2.12.\n",
      "Mean Absolute Percentage Error: 124.91%.\n",
      "Accuracy = -24.91%.\n"
     ]
    },
    {
     "data": {
      "image/svg+xml": "<svg class=\"main-svg\" xmlns=\"http://www.w3.org/2000/svg\" xmlns:xlink=\"http://www.w3.org/1999/xlink\" width=\"1000\" height=\"600\" style=\"\" viewBox=\"0 0 1000 600\"><rect x=\"0\" y=\"0\" width=\"1000\" height=\"600\" style=\"fill: rgb(255, 255, 255); fill-opacity: 1;\"/><defs id=\"defs-402f46\"><g class=\"clips\"><clipPath id=\"clip402f46xyplot\" class=\"plotclip\"><rect width=\"791\" height=\"178.50000000000003\"/></clipPath><clipPath id=\"clip402f46x2y2plot\" class=\"plotclip\"><rect width=\"791\" height=\"178.5\"/></clipPath><clipPath class=\"axesclip\" id=\"clip402f46x\"><rect x=\"80\" y=\"0\" width=\"791\" height=\"600\"/></clipPath><clipPath class=\"axesclip\" id=\"clip402f46y\"><rect x=\"0\" y=\"100\" width=\"1000\" height=\"178.50000000000003\"/></clipPath><clipPath class=\"axesclip\" id=\"clip402f46xy\"><rect x=\"80\" y=\"100\" width=\"791\" height=\"178.50000000000003\"/></clipPath><clipPath class=\"axesclip\" id=\"clip402f46y2\"><rect x=\"0\" y=\"341.5\" width=\"1000\" height=\"178.5\"/></clipPath><clipPath class=\"axesclip\" id=\"clip402f46xy2\"><rect x=\"80\" y=\"341.5\" width=\"791\" height=\"178.5\"/></clipPath><clipPath class=\"axesclip\" id=\"clip402f46x2\"><rect x=\"80\" y=\"0\" width=\"791\" height=\"600\"/></clipPath><clipPath class=\"axesclip\" id=\"clip402f46x2y\"><rect x=\"80\" y=\"100\" width=\"791\" height=\"178.50000000000003\"/></clipPath><clipPath class=\"axesclip\" id=\"clip402f46x2y2\"><rect x=\"80\" y=\"341.5\" width=\"791\" height=\"178.5\"/></clipPath></g><g class=\"gradients\"/><g class=\"patterns\"/></defs><g class=\"bglayer\"><rect class=\"bg\" x=\"80\" y=\"100\" width=\"791\" height=\"178.50000000000003\" style=\"fill: rgb(229, 236, 246); fill-opacity: 1; stroke-width: 0;\"/><rect class=\"bg\" x=\"80\" y=\"341.5\" width=\"791\" height=\"178.5\" style=\"fill: rgb(229, 236, 246); fill-opacity: 1; stroke-width: 0;\"/></g><g class=\"layer-below\"><g class=\"imagelayer\"/><g class=\"shapelayer\"/></g><g class=\"cartesianlayer\"><g class=\"subplot xy\"><g class=\"layer-subplot\"><g class=\"shapelayer\"/><g class=\"imagelayer\"/></g><g class=\"minor-gridlayer\"><g class=\"x\"/><g class=\"y\"/></g><g class=\"gridlayer\"><g class=\"x\"><path class=\"xgrid crisp\" transform=\"translate(215.18,0)\" d=\"M0,100v178.50000000000003\" style=\"stroke: rgb(255, 255, 255); stroke-opacity: 1; stroke-width: 1px;\"/><path class=\"xgrid crisp\" transform=\"translate(351.84,0)\" d=\"M0,100v178.50000000000003\" style=\"stroke: rgb(255, 255, 255); stroke-opacity: 1; stroke-width: 1px;\"/><path class=\"xgrid crisp\" transform=\"translate(486.27,0)\" d=\"M0,100v178.50000000000003\" style=\"stroke: rgb(255, 255, 255); stroke-opacity: 1; stroke-width: 1px;\"/><path class=\"xgrid crisp\" transform=\"translate(622.93,0)\" d=\"M0,100v178.50000000000003\" style=\"stroke: rgb(255, 255, 255); stroke-opacity: 1; stroke-width: 1px;\"/><path class=\"xgrid crisp\" transform=\"translate(757.36,0)\" d=\"M0,100v178.50000000000003\" style=\"stroke: rgb(255, 255, 255); stroke-opacity: 1; stroke-width: 1px;\"/></g><g class=\"y\"><path class=\"ygrid crisp\" transform=\"translate(0,256.83000000000004)\" d=\"M80,0h791\" style=\"stroke: rgb(255, 255, 255); stroke-opacity: 1; stroke-width: 1px;\"/><path class=\"ygrid crisp\" transform=\"translate(0,218.20999999999998)\" d=\"M80,0h791\" style=\"stroke: rgb(255, 255, 255); stroke-opacity: 1; stroke-width: 1px;\"/><path class=\"ygrid crisp\" transform=\"translate(0,179.6)\" d=\"M80,0h791\" style=\"stroke: rgb(255, 255, 255); stroke-opacity: 1; stroke-width: 1px;\"/><path class=\"ygrid crisp\" transform=\"translate(0,140.98)\" d=\"M80,0h791\" style=\"stroke: rgb(255, 255, 255); stroke-opacity: 1; stroke-width: 1px;\"/><path class=\"ygrid crisp\" transform=\"translate(0,102.36)\" d=\"M80,0h791\" style=\"stroke: rgb(255, 255, 255); stroke-opacity: 1; stroke-width: 1px;\"/></g></g><g class=\"zerolinelayer\"/><path class=\"xlines-below\"/><path class=\"ylines-below\"/><g class=\"overlines-below\"/><g class=\"xaxislayer-below\"/><g class=\"yaxislayer-below\"/><g class=\"overaxes-below\"/><g class=\"plot\" transform=\"translate(80,100)\" clip-path=\"url(#clip402f46xyplot)\"><g class=\"scatterlayer mlayer\"><g class=\"trace scatter tracefb7888\" style=\"stroke-miterlimit: 2; opacity: 1;\"><g class=\"fills\"/><g class=\"errorbars\"/><g class=\"lines\"><path class=\"js-line\" d=\"M0,10.28L23.02,8.92L44.56,70.71L67.59,169.58L89.87,152.78L112.89,34.99L135.18,112.81L158.2,114.35L181.22,23.79L203.51,89.64L226.53,94.46L248.81,96.78L271.84,36.34L294.86,113.77L315.66,40.78L338.68,113.19L360.96,122.27L383.99,118.6L406.27,149.3L429.29,150.65L452.32,128.25L474.6,111.65L497.62,113L519.91,154.32L542.93,160.5L565.95,148.53L586.75,83.65L609.78,139.84L632.06,143.89L655.08,140.8L677.36,152L700.39,129.22L723.41,130.38L768.72,136.56L791,126.52\" style=\"vector-effect: non-scaling-stroke; fill: none; stroke: rgb(99, 110, 250); stroke-opacity: 1; stroke-width: 2px; opacity: 1;\"/></g><g class=\"points\"/><g class=\"text\"/></g><g class=\"trace scatter traced594bc\" style=\"stroke-miterlimit: 2; opacity: 1;\"><g class=\"fills\"/><g class=\"errorbars\"/><g class=\"lines\"><path class=\"js-line\" d=\"M0,46.29L791,46.29\" style=\"vector-effect: non-scaling-stroke; fill: none; stroke: rgb(239, 85, 59); stroke-opacity: 1; stroke-width: 2px; opacity: 1;\"/></g><g class=\"points\"/><g class=\"text\"/></g></g></g><g class=\"overplot\"/><path class=\"xlines-above crisp\" d=\"M0,0\" style=\"fill: none;\"/><path class=\"ylines-above crisp\" d=\"M0,0\" style=\"fill: none;\"/><g class=\"overlines-above\"/><g class=\"xaxislayer-above\"><g class=\"xtick\"><text text-anchor=\"middle\" x=\"0\" y=\"291.5\" transform=\"translate(80,0)\" style=\"font-family: 'Open Sans', verdana, arial, sans-serif; font-size: 12px; fill: rgb(42, 63, 95); fill-opacity: 1; white-space: pre; opacity: 1;\">Jan 2020</text></g><g class=\"xtick\"><text text-anchor=\"middle\" x=\"0\" y=\"291.5\" style=\"font-family: 'Open Sans', verdana, arial, sans-serif; font-size: 12px; fill: rgb(42, 63, 95); fill-opacity: 1; white-space: pre; opacity: 1;\" transform=\"translate(215.18,0)\">Jul 2020</text></g><g class=\"xtick\"><text text-anchor=\"middle\" x=\"0\" y=\"291.5\" style=\"font-family: 'Open Sans', verdana, arial, sans-serif; font-size: 12px; fill: rgb(42, 63, 95); fill-opacity: 1; white-space: pre; opacity: 1;\" transform=\"translate(351.84,0)\">Jan 2021</text></g><g class=\"xtick\"><text text-anchor=\"middle\" x=\"0\" y=\"291.5\" style=\"font-family: 'Open Sans', verdana, arial, sans-serif; font-size: 12px; fill: rgb(42, 63, 95); fill-opacity: 1; white-space: pre; opacity: 1;\" transform=\"translate(486.27,0)\">Jul 2021</text></g><g class=\"xtick\"><text text-anchor=\"middle\" x=\"0\" y=\"291.5\" style=\"font-family: 'Open Sans', verdana, arial, sans-serif; font-size: 12px; fill: rgb(42, 63, 95); fill-opacity: 1; white-space: pre; opacity: 1;\" transform=\"translate(622.93,0)\">Jan 2022</text></g><g class=\"xtick\"><text text-anchor=\"middle\" x=\"0\" y=\"291.5\" style=\"font-family: 'Open Sans', verdana, arial, sans-serif; font-size: 12px; fill: rgb(42, 63, 95); fill-opacity: 1; white-space: pre; opacity: 1;\" transform=\"translate(757.36,0)\">Jul 2022</text></g></g><g class=\"yaxislayer-above\"><g class=\"ytick\"><text text-anchor=\"end\" x=\"79\" y=\"4.199999999999999\" transform=\"translate(0,256.83000000000004)\" style=\"font-family: 'Open Sans', verdana, arial, sans-serif; font-size: 12px; fill: rgb(42, 63, 95); fill-opacity: 1; white-space: pre; opacity: 1;\">200</text></g><g class=\"ytick\"><text text-anchor=\"end\" x=\"79\" y=\"4.199999999999999\" style=\"font-family: 'Open Sans', verdana, arial, sans-serif; font-size: 12px; fill: rgb(42, 63, 95); fill-opacity: 1; white-space: pre; opacity: 1;\" transform=\"translate(0,218.20999999999998)\">400</text></g><g class=\"ytick\"><text text-anchor=\"end\" x=\"79\" y=\"4.199999999999999\" style=\"font-family: 'Open Sans', verdana, arial, sans-serif; font-size: 12px; fill: rgb(42, 63, 95); fill-opacity: 1; white-space: pre; opacity: 1;\" transform=\"translate(0,179.6)\">600</text></g><g class=\"ytick\"><text text-anchor=\"end\" x=\"79\" y=\"4.199999999999999\" style=\"font-family: 'Open Sans', verdana, arial, sans-serif; font-size: 12px; fill: rgb(42, 63, 95); fill-opacity: 1; white-space: pre; opacity: 1;\" transform=\"translate(0,140.98)\">800</text></g><g class=\"ytick\"><text text-anchor=\"end\" x=\"79\" y=\"4.199999999999999\" style=\"font-family: 'Open Sans', verdana, arial, sans-serif; font-size: 12px; fill: rgb(42, 63, 95); fill-opacity: 1; white-space: pre; opacity: 1;\" transform=\"translate(0,102.36)\">1000</text></g></g><g class=\"overaxes-above\"/></g><g class=\"subplot x2y2\"><g class=\"layer-subplot\"><g class=\"shapelayer\"/><g class=\"imagelayer\"/></g><g class=\"minor-gridlayer\"><g class=\"x2\"/><g class=\"y2\"/></g><g class=\"gridlayer\"><g class=\"x2\"><path class=\"x2grid crisp\" transform=\"translate(129.67000000000002,0)\" d=\"M0,341.5v178.5\" style=\"stroke: rgb(255, 255, 255); stroke-opacity: 1; stroke-width: 1px;\"/><path class=\"x2grid crisp\" transform=\"translate(229.14,0)\" d=\"M0,341.5v178.5\" style=\"stroke: rgb(255, 255, 255); stroke-opacity: 1; stroke-width: 1px;\"/><path class=\"x2grid crisp\" transform=\"translate(328.47,0)\" d=\"M0,341.5v178.5\" style=\"stroke: rgb(255, 255, 255); stroke-opacity: 1; stroke-width: 1px;\"/><path class=\"x2grid crisp\" transform=\"translate(427.94,0)\" d=\"M0,341.5v178.5\" style=\"stroke: rgb(255, 255, 255); stroke-opacity: 1; stroke-width: 1px;\"/><path class=\"x2grid crisp\" transform=\"translate(527.28,0)\" d=\"M0,341.5v178.5\" style=\"stroke: rgb(255, 255, 255); stroke-opacity: 1; stroke-width: 1px;\"/><path class=\"x2grid crisp\" transform=\"translate(626.75,0)\" d=\"M0,341.5v178.5\" style=\"stroke: rgb(255, 255, 255); stroke-opacity: 1; stroke-width: 1px;\"/><path class=\"x2grid crisp\" transform=\"translate(726.08,0)\" d=\"M0,341.5v178.5\" style=\"stroke: rgb(255, 255, 255); stroke-opacity: 1; stroke-width: 1px;\"/><path class=\"x2grid crisp\" transform=\"translate(825.55,0)\" d=\"M0,341.5v178.5\" style=\"stroke: rgb(255, 255, 255); stroke-opacity: 1; stroke-width: 1px;\"/></g><g class=\"y2\"><path class=\"y2grid crisp\" transform=\"translate(0,471.1)\" d=\"M80,0h791\" style=\"stroke: rgb(255, 255, 255); stroke-opacity: 1; stroke-width: 1px;\"/><path class=\"y2grid crisp\" transform=\"translate(0,416.5)\" d=\"M80,0h791\" style=\"stroke: rgb(255, 255, 255); stroke-opacity: 1; stroke-width: 1px;\"/><path class=\"y2grid crisp\" transform=\"translate(0,361.89)\" d=\"M80,0h791\" style=\"stroke: rgb(255, 255, 255); stroke-opacity: 1; stroke-width: 1px;\"/></g></g><g class=\"zerolinelayer\"/><path class=\"xlines-below\"/><path class=\"ylines-below\"/><g class=\"overlines-below\"/><g class=\"xaxislayer-below\"/><g class=\"yaxislayer-below\"/><g class=\"overaxes-below\"/><g class=\"plot\" transform=\"translate(80,341.5)\" clip-path=\"url(#clip402f46x2y2plot)\"><g class=\"scatterlayer mlayer\"><g class=\"trace scatter tracefc96d8\" style=\"stroke-miterlimit: 2; opacity: 1;\"><g class=\"fills\"/><g class=\"errorbars\"/><g class=\"lines\"><path class=\"js-line\" d=\"M0,148.06L4.22,151.56L8.03,142.93L12.25,155.05L16.33,147.41L20.55,135.61L24.63,161.49L28.85,149.37L33.07,139.76L37.15,134.95L41.37,148.82L45.45,143.47L49.67,140.42L53.89,137.58L57.83,127.2L62.05,147.84L66.13,143.26L70.35,127.2L74.43,145.88L78.65,149.37L82.87,140.74L86.95,141.73L91.17,146.75L95.25,155.49L99.47,145L103.69,131.57L107.5,142.38L111.72,132.12L115.8,148.93L120.02,143.36L124.1,150.79L128.32,140.96L132.54,126L136.62,143.36L140.84,139.54L144.92,144.35L149.14,136.7L153.36,141.51L157.17,134.52L161.38,146.31L165.47,136.27L169.68,135.17L173.77,142.38L177.99,140.2L182.2,144.13L186.29,134.74L190.5,137.03L194.59,136.81L198.8,138.34L203.02,131.57L206.83,108.53L211.05,130.59L215.13,127.09L219.35,125.67L223.43,144.78L227.65,133.64L231.87,120.32L235.95,129.17L240.17,119.23L244.25,134.08L248.47,132.01L252.69,109.73L256.64,127.64L260.85,148.28L264.94,139.11L269.15,125.56L273.24,126.33L277.46,123.16L281.67,115.52L285.76,111.8L289.97,104.27L294.06,97.06L298.27,101.75L302.49,102.08L306.3,69.32L310.52,112.35L314.6,86.9L318.82,65.5L322.9,76.09L327.12,86.03L331.34,72.16L335.42,60.25L339.64,101.86L343.72,108.96L347.94,105.8L352.16,109.51L355.97,50.21L360.19,111.91L364.27,101.1L368.49,85.7L372.57,95.64L376.79,91.16L381.01,79.37L385.09,94.55L389.31,94.11L393.39,56.43L397.61,102.96L401.83,99.35L405.64,13.51L409.86,143.47L413.94,57.52L418.16,75.76L422.24,82.97L426.46,89.96L430.68,93.02L434.76,86.9L438.98,105.9L443.06,102.41L447.28,96.51L451.49,74.23L455.44,100.23L459.66,119.23L463.74,76.96L467.96,55.45L472.04,71.39L476.26,118.03L480.48,76.42L484.56,93.67L488.78,82.75L492.86,69.1L497.08,82.75L501.3,39.18L505.11,8.93L509.33,118.03L513.41,57.2L517.63,76.53L521.71,105.8L525.93,73.58L530.15,63.86L534.23,78.71L538.45,75L542.53,42.02L546.75,74.45L550.96,55.78L554.77,52.72L558.99,102.63L563.08,63.75L567.29,83.41L571.38,71.18L575.59,60.8L579.81,119.67L583.89,99.57L588.11,123.6L592.2,97.28L596.41,79.26L600.63,43.11L604.44,33.17L608.66,136.7L612.74,111.26L616.96,71.5L621.04,87.45L625.26,114.64L629.48,102.96L633.56,91.05L637.78,109.73L641.86,118.35\" style=\"vector-effect: non-scaling-stroke; fill: none; stroke: rgb(0, 204, 150); stroke-opacity: 1; stroke-width: 2px; opacity: 1;\"/></g><g class=\"points\"/><g class=\"text\"/></g><g class=\"trace scatter tracecfbba7\" style=\"stroke-miterlimit: 2; opacity: 1;\"><g class=\"fills\"/><g class=\"errorbars\"/><g class=\"lines\"><path class=\"js-line\" d=\"M646.08,79.48L650.3,78.71L654.25,113.66L658.46,169.58L662.55,160.07L666.76,93.45L670.85,137.47L675.06,138.34L679.28,87.12L683.37,124.36L687.58,127.09L691.67,128.4L695.88,94.22L700.1,138.01L703.91,96.73L708.13,137.69L712.21,142.82L716.43,140.74L720.51,158.11L724.73,158.87L728.95,146.2L733.03,136.81L737.25,137.58L741.33,160.95L745.55,164.44L749.77,157.67L753.58,120.98L757.8,152.76L761.88,155.05L766.1,153.3L770.18,159.64L774.4,146.75L778.62,147.41L786.92,150.9L791,145.22\" style=\"vector-effect: non-scaling-stroke; fill: none; stroke: rgb(171, 99, 250); stroke-opacity: 1; stroke-width: 2px; opacity: 1;\"/></g><g class=\"points\"/><g class=\"text\"/></g><g class=\"trace scatter tracec97eee\" style=\"stroke-miterlimit: 2; opacity: 1;\"><g class=\"fills\"/><g class=\"errorbars\"/><g class=\"lines\"><path class=\"js-line\" d=\"M646.08,99.85L791,99.85\" style=\"vector-effect: non-scaling-stroke; fill: none; stroke: rgb(255, 161, 90); stroke-opacity: 1; stroke-width: 2px; opacity: 1;\"/></g><g class=\"points\"/><g class=\"text\"/></g></g></g><g class=\"overplot\"/><path class=\"xlines-above crisp\" d=\"M0,0\" style=\"fill: none;\"/><path class=\"ylines-above crisp\" d=\"M0,0\" style=\"fill: none;\"/><g class=\"overlines-above\"/><g class=\"xaxislayer-above\"><g class=\"x2tick\"><text text-anchor=\"middle\" x=\"0\" y=\"533\" transform=\"translate(129.67000000000002,0)\" style=\"font-family: 'Open Sans', verdana, arial, sans-serif; font-size: 12px; fill: rgb(42, 63, 95); fill-opacity: 1; white-space: pre; opacity: 1;\">2008</text></g><g class=\"x2tick\"><text text-anchor=\"middle\" x=\"0\" y=\"533\" style=\"font-family: 'Open Sans', verdana, arial, sans-serif; font-size: 12px; fill: rgb(42, 63, 95); fill-opacity: 1; white-space: pre; opacity: 1;\" transform=\"translate(229.14,0)\">2010</text></g><g class=\"x2tick\"><text text-anchor=\"middle\" x=\"0\" y=\"533\" style=\"font-family: 'Open Sans', verdana, arial, sans-serif; font-size: 12px; fill: rgb(42, 63, 95); fill-opacity: 1; white-space: pre; opacity: 1;\" transform=\"translate(328.47,0)\">2012</text></g><g class=\"x2tick\"><text text-anchor=\"middle\" x=\"0\" y=\"533\" style=\"font-family: 'Open Sans', verdana, arial, sans-serif; font-size: 12px; fill: rgb(42, 63, 95); fill-opacity: 1; white-space: pre; opacity: 1;\" transform=\"translate(427.94,0)\">2014</text></g><g class=\"x2tick\"><text text-anchor=\"middle\" x=\"0\" y=\"533\" style=\"font-family: 'Open Sans', verdana, arial, sans-serif; font-size: 12px; fill: rgb(42, 63, 95); fill-opacity: 1; white-space: pre; opacity: 1;\" transform=\"translate(527.28,0)\">2016</text></g><g class=\"x2tick\"><text text-anchor=\"middle\" x=\"0\" y=\"533\" style=\"font-family: 'Open Sans', verdana, arial, sans-serif; font-size: 12px; fill: rgb(42, 63, 95); fill-opacity: 1; white-space: pre; opacity: 1;\" transform=\"translate(626.75,0)\">2018</text></g><g class=\"x2tick\"><text text-anchor=\"middle\" x=\"0\" y=\"533\" style=\"font-family: 'Open Sans', verdana, arial, sans-serif; font-size: 12px; fill: rgb(42, 63, 95); fill-opacity: 1; white-space: pre; opacity: 1;\" transform=\"translate(726.08,0)\">2020</text></g><g class=\"x2tick\"><text text-anchor=\"middle\" x=\"0\" y=\"533\" style=\"font-family: 'Open Sans', verdana, arial, sans-serif; font-size: 12px; fill: rgb(42, 63, 95); fill-opacity: 1; white-space: pre; opacity: 1;\" transform=\"translate(825.55,0)\">2022</text></g></g><g class=\"yaxislayer-above\"><g class=\"y2tick\"><text text-anchor=\"end\" x=\"79\" y=\"4.199999999999999\" transform=\"translate(0,471.1)\" style=\"font-family: 'Open Sans', verdana, arial, sans-serif; font-size: 12px; fill: rgb(42, 63, 95); fill-opacity: 1; white-space: pre; opacity: 1;\">500</text></g><g class=\"y2tick\"><text text-anchor=\"end\" x=\"79\" y=\"4.199999999999999\" style=\"font-family: 'Open Sans', verdana, arial, sans-serif; font-size: 12px; fill: rgb(42, 63, 95); fill-opacity: 1; white-space: pre; opacity: 1;\" transform=\"translate(0,416.5)\">1000</text></g><g class=\"y2tick\"><text text-anchor=\"end\" x=\"79\" y=\"4.199999999999999\" style=\"font-family: 'Open Sans', verdana, arial, sans-serif; font-size: 12px; fill: rgb(42, 63, 95); fill-opacity: 1; white-space: pre; opacity: 1;\" transform=\"translate(0,361.89)\">1500</text></g></g><g class=\"overaxes-above\"/></g></g><g class=\"polarlayer\"/><g class=\"smithlayer\"/><g class=\"ternarylayer\"/><g class=\"geolayer\"/><g class=\"funnelarealayer\"/><g class=\"pielayer\"/><g class=\"iciclelayer\"/><g class=\"treemaplayer\"/><g class=\"sunburstlayer\"/><g class=\"glimages\"/><defs id=\"topdefs-402f46\"><g class=\"clips\"/><clipPath id=\"legend402f46\"><rect width=\"101\" height=\"115\" x=\"0\" y=\"0\"/></clipPath></defs><g class=\"layer-above\"><g class=\"imagelayer\"/><g class=\"shapelayer\"/></g><g class=\"infolayer\"><g class=\"legend\" pointer-events=\"all\" transform=\"translate(886.82,100)\"><rect class=\"bg\" shape-rendering=\"crispEdges\" width=\"101\" height=\"115\" x=\"0\" y=\"0\" style=\"stroke: rgb(68, 68, 68); stroke-opacity: 1; fill: rgb(255, 255, 255); fill-opacity: 1; stroke-width: 0px;\"/><g class=\"scrollbox\" transform=\"\" clip-path=\"url(#legend402f46)\"><g class=\"groups\" transform=\"\"><g class=\"traces\" transform=\"translate(0,14.5)\" style=\"opacity: 1;\"><text class=\"legendtext\" text-anchor=\"start\" x=\"40\" y=\"4.680000000000001\" style=\"font-family: 'Open Sans', verdana, arial, sans-serif; font-size: 12px; fill: rgb(42, 63, 95); fill-opacity: 1; white-space: pre;\">Actual</text><g class=\"layers\" style=\"opacity: 1;\"><g class=\"legendfill\"/><g class=\"legendlines\"><path class=\"js-line\" d=\"M5,0h30\" style=\"fill: none; stroke: rgb(99, 110, 250); stroke-opacity: 1; stroke-width: 2px;\"/></g><g class=\"legendsymbols\"><g class=\"legendpoints\"/></g></g><rect class=\"legendtoggle\" x=\"0\" y=\"-9.5\" width=\"95.890625\" height=\"19\" style=\"fill: rgb(0, 0, 0); fill-opacity: 0;\"/></g><g class=\"traces\" transform=\"translate(0,33.5)\" style=\"opacity: 1;\"><text class=\"legendtext\" text-anchor=\"start\" x=\"40\" y=\"4.680000000000001\" style=\"font-family: 'Open Sans', verdana, arial, sans-serif; font-size: 12px; fill: rgb(42, 63, 95); fill-opacity: 1; white-space: pre;\">Predicted</text><g class=\"layers\" style=\"opacity: 1;\"><g class=\"legendfill\"/><g class=\"legendlines\"><path class=\"js-line\" d=\"M5,0h30\" style=\"fill: none; stroke: rgb(239, 85, 59); stroke-opacity: 1; stroke-width: 2px;\"/></g><g class=\"legendsymbols\"><g class=\"legendpoints\"/></g></g><rect class=\"legendtoggle\" x=\"0\" y=\"-9.5\" width=\"95.890625\" height=\"19\" style=\"fill: rgb(0, 0, 0); fill-opacity: 0;\"/></g></g><g class=\"groups\" transform=\"translate(0,10)\"><g class=\"traces\" transform=\"translate(0,52.5)\" style=\"opacity: 1;\"><text class=\"legendtext\" text-anchor=\"start\" x=\"40\" y=\"4.680000000000001\" style=\"font-family: 'Open Sans', verdana, arial, sans-serif; font-size: 12px; fill: rgb(42, 63, 95); fill-opacity: 1; white-space: pre;\">Train</text><g class=\"layers\" style=\"opacity: 1;\"><g class=\"legendfill\"/><g class=\"legendlines\"><path class=\"js-line\" d=\"M5,0h30\" style=\"fill: none; stroke: rgb(0, 204, 150); stroke-opacity: 1; stroke-width: 2px;\"/></g><g class=\"legendsymbols\"><g class=\"legendpoints\"/></g></g><rect class=\"legendtoggle\" x=\"0\" y=\"-9.5\" width=\"95.890625\" height=\"19\" style=\"fill: rgb(0, 0, 0); fill-opacity: 0;\"/></g><g class=\"traces\" transform=\"translate(0,71.5)\" style=\"opacity: 1;\"><text class=\"legendtext\" text-anchor=\"start\" x=\"40\" y=\"4.680000000000001\" style=\"font-family: 'Open Sans', verdana, arial, sans-serif; font-size: 12px; fill: rgb(42, 63, 95); fill-opacity: 1; white-space: pre;\">Test</text><g class=\"layers\" style=\"opacity: 1;\"><g class=\"legendfill\"/><g class=\"legendlines\"><path class=\"js-line\" d=\"M5,0h30\" style=\"fill: none; stroke: rgb(171, 99, 250); stroke-opacity: 1; stroke-width: 2px;\"/></g><g class=\"legendsymbols\"><g class=\"legendpoints\"/></g></g><rect class=\"legendtoggle\" x=\"0\" y=\"-9.5\" width=\"95.890625\" height=\"19\" style=\"fill: rgb(0, 0, 0); fill-opacity: 0;\"/></g><g class=\"traces\" transform=\"translate(0,90.5)\" style=\"opacity: 1;\"><text class=\"legendtext\" text-anchor=\"start\" x=\"40\" y=\"4.680000000000001\" style=\"font-family: 'Open Sans', verdana, arial, sans-serif; font-size: 12px; fill: rgb(42, 63, 95); fill-opacity: 1; white-space: pre;\">Forecast</text><g class=\"layers\" style=\"opacity: 1;\"><g class=\"legendfill\"/><g class=\"legendlines\"><path class=\"js-line\" d=\"M5,0h30\" style=\"fill: none; stroke: rgb(255, 161, 90); stroke-opacity: 1; stroke-width: 2px;\"/></g><g class=\"legendsymbols\"><g class=\"legendpoints\"/></g></g><rect class=\"legendtoggle\" x=\"0\" y=\"-9.5\" width=\"95.890625\" height=\"19\" style=\"fill: rgb(0, 0, 0); fill-opacity: 0;\"/></g></g></g><rect class=\"scrollbar\" rx=\"20\" ry=\"3\" width=\"0\" height=\"0\" x=\"0\" y=\"0\" style=\"fill: rgb(128, 139, 164); fill-opacity: 1;\"/></g><g class=\"g-gtitle\"><text class=\"gtitle\" x=\"50\" y=\"50\" text-anchor=\"start\" dy=\"0em\" style=\"font-family: 'Open Sans', verdana, arial, sans-serif; font-size: 17px; fill: rgb(42, 63, 95); opacity: 1; font-weight: normal; white-space: pre;\">ARIMA Predictions - DEN</text></g><g class=\"g-xtitle\"/><g class=\"g-x2title\"/><g class=\"g-ytitle\"/><g class=\"g-y2title\"/></g></svg>"
     },
     "metadata": {},
     "output_type": "display_data"
    }
   ],
   "source": [
    "model_name='ARIMA'\n",
    "\n",
    "# Predict\n",
    "predictions = model.predict(n_periods=test.shape[0], dynamic=False, typ='levels')\n",
    "\n",
    "# Forecast accuracy\n",
    "forecast_accuracy(model_name, test[dep_var], predictions, True, True)"
   ]
  },
  {
   "cell_type": "code",
   "execution_count": 18,
   "metadata": {},
   "outputs": [
    {
     "data": {
      "text/html": [
       "<div>\n",
       "<style scoped>\n",
       "    .dataframe tbody tr th:only-of-type {\n",
       "        vertical-align: middle;\n",
       "    }\n",
       "\n",
       "    .dataframe tbody tr th {\n",
       "        vertical-align: top;\n",
       "    }\n",
       "\n",
       "    .dataframe thead th {\n",
       "        text-align: right;\n",
       "    }\n",
       "</style>\n",
       "<table border=\"1\" class=\"dataframe\">\n",
       "  <thead>\n",
       "    <tr style=\"text-align: right;\">\n",
       "      <th></th>\n",
       "      <th>Simple Exponential Smoothing</th>\n",
       "      <th>Double Exponential Smoothing</th>\n",
       "      <th>Triple Exponential Smoothing</th>\n",
       "      <th>ARIMA</th>\n",
       "    </tr>\n",
       "  </thead>\n",
       "  <tbody>\n",
       "    <tr>\n",
       "      <th>Mean Absolute Error</th>\n",
       "      <td>374.545492</td>\n",
       "      <td>288.545607</td>\n",
       "      <td>400.502355</td>\n",
       "      <td>364.697824</td>\n",
       "    </tr>\n",
       "    <tr>\n",
       "      <th>Mean Squared Error</th>\n",
       "      <td>169685.476561</td>\n",
       "      <td>98992.434108</td>\n",
       "      <td>200168.540882</td>\n",
       "      <td>159735.582476</td>\n",
       "    </tr>\n",
       "    <tr>\n",
       "      <th>Root Mean Squared Error</th>\n",
       "      <td>411.928970</td>\n",
       "      <td>314.630631</td>\n",
       "      <td>447.401990</td>\n",
       "      <td>399.669341</td>\n",
       "    </tr>\n",
       "    <tr>\n",
       "      <th>R^2</th>\n",
       "      <td>-2.312484</td>\n",
       "      <td>-0.932463</td>\n",
       "      <td>-2.907554</td>\n",
       "      <td>-2.118249</td>\n",
       "    </tr>\n",
       "    <tr>\n",
       "      <th>Mean Absolute Percentage Error</th>\n",
       "      <td>128.569802</td>\n",
       "      <td>98.833540</td>\n",
       "      <td>130.888264</td>\n",
       "      <td>124.906428</td>\n",
       "    </tr>\n",
       "    <tr>\n",
       "      <th>Accuracy</th>\n",
       "      <td>-28.569802</td>\n",
       "      <td>1.166460</td>\n",
       "      <td>-30.888264</td>\n",
       "      <td>-24.906428</td>\n",
       "    </tr>\n",
       "  </tbody>\n",
       "</table>\n",
       "</div>"
      ],
      "text/plain": [
       "                                Simple Exponential Smoothing  \\\n",
       "Mean Absolute Error                               374.545492   \n",
       "Mean Squared Error                             169685.476561   \n",
       "Root Mean Squared Error                           411.928970   \n",
       "R^2                                                -2.312484   \n",
       "Mean Absolute Percentage Error                    128.569802   \n",
       "Accuracy                                          -28.569802   \n",
       "\n",
       "                                Double Exponential Smoothing  \\\n",
       "Mean Absolute Error                               288.545607   \n",
       "Mean Squared Error                              98992.434108   \n",
       "Root Mean Squared Error                           314.630631   \n",
       "R^2                                                -0.932463   \n",
       "Mean Absolute Percentage Error                     98.833540   \n",
       "Accuracy                                            1.166460   \n",
       "\n",
       "                                Triple Exponential Smoothing          ARIMA  \n",
       "Mean Absolute Error                               400.502355     364.697824  \n",
       "Mean Squared Error                             200168.540882  159735.582476  \n",
       "Root Mean Squared Error                           447.401990     399.669341  \n",
       "R^2                                                -2.907554      -2.118249  \n",
       "Mean Absolute Percentage Error                    130.888264     124.906428  \n",
       "Accuracy                                          -30.888264     -24.906428  "
      ]
     },
     "execution_count": 18,
     "metadata": {},
     "output_type": "execute_result"
    }
   ],
   "source": [
    "metrics"
   ]
  },
  {
   "attachments": {},
   "cell_type": "markdown",
   "metadata": {},
   "source": [
    "#### SARIMA"
   ]
  },
  {
   "cell_type": "code",
   "execution_count": 19,
   "metadata": {},
   "outputs": [
    {
     "name": "stdout",
     "output_type": "stream",
     "text": [
      "Performing stepwise search to minimize aic\n",
      " ARIMA(1,0,1)(0,1,1)[12] intercept   : AIC=1901.624, Time=1.47 sec\n",
      " ARIMA(0,0,0)(0,1,0)[12] intercept   : AIC=1974.605, Time=0.02 sec\n",
      " ARIMA(1,0,0)(1,1,0)[12] intercept   : AIC=1929.199, Time=0.61 sec\n",
      " ARIMA(0,0,1)(0,1,1)[12] intercept   : AIC=1925.841, Time=0.58 sec\n",
      " ARIMA(0,0,0)(0,1,0)[12]             : AIC=1977.449, Time=0.03 sec\n",
      " ARIMA(1,0,1)(0,1,0)[12] intercept   : AIC=1962.269, Time=0.32 sec\n",
      " ARIMA(1,0,1)(1,1,1)[12] intercept   : AIC=1902.315, Time=1.44 sec\n",
      " ARIMA(1,0,1)(0,1,2)[12] intercept   : AIC=1902.207, Time=3.19 sec\n",
      " ARIMA(1,0,1)(1,1,0)[12] intercept   : AIC=1911.979, Time=1.12 sec\n",
      " ARIMA(1,0,1)(1,1,2)[12] intercept   : AIC=inf, Time=3.63 sec\n",
      " ARIMA(1,0,0)(0,1,1)[12] intercept   : AIC=1919.698, Time=0.62 sec\n",
      " ARIMA(2,0,1)(0,1,1)[12] intercept   : AIC=1903.558, Time=1.60 sec\n",
      " ARIMA(1,0,2)(0,1,1)[12] intercept   : AIC=1903.540, Time=1.26 sec\n",
      " ARIMA(0,0,0)(0,1,1)[12] intercept   : AIC=1938.265, Time=0.34 sec\n",
      " ARIMA(0,0,2)(0,1,1)[12] intercept   : AIC=1923.739, Time=0.77 sec\n",
      " ARIMA(2,0,0)(0,1,1)[12] intercept   : AIC=1913.557, Time=0.54 sec\n",
      " ARIMA(2,0,2)(0,1,1)[12] intercept   : AIC=1905.408, Time=1.56 sec\n",
      " ARIMA(1,0,1)(0,1,1)[12]             : AIC=1900.555, Time=0.83 sec\n",
      " ARIMA(1,0,1)(0,1,0)[12]             : AIC=1961.258, Time=0.10 sec\n",
      " ARIMA(1,0,1)(1,1,1)[12]             : AIC=1897.616, Time=1.35 sec\n",
      " ARIMA(1,0,1)(1,1,0)[12]             : AIC=1910.229, Time=0.64 sec\n",
      " ARIMA(1,0,1)(2,1,1)[12]             : AIC=1899.512, Time=2.96 sec\n",
      " ARIMA(1,0,1)(1,1,2)[12]             : AIC=1899.551, Time=2.26 sec\n",
      " ARIMA(1,0,1)(0,1,2)[12]             : AIC=1897.757, Time=2.41 sec\n",
      " ARIMA(1,0,1)(2,1,0)[12]             : AIC=1899.914, Time=1.90 sec\n",
      " ARIMA(1,0,1)(2,1,2)[12]             : AIC=inf, Time=5.06 sec\n",
      " ARIMA(0,0,1)(1,1,1)[12]             : AIC=1942.076, Time=0.49 sec\n",
      " ARIMA(1,0,0)(1,1,1)[12]             : AIC=1931.466, Time=0.46 sec\n",
      " ARIMA(2,0,1)(1,1,1)[12]             : AIC=1899.463, Time=2.09 sec\n",
      " ARIMA(1,0,2)(1,1,1)[12]             : AIC=1903.573, Time=1.23 sec\n",
      " ARIMA(0,0,0)(1,1,1)[12]             : AIC=1957.388, Time=0.54 sec\n",
      " ARIMA(0,0,2)(1,1,1)[12]             : AIC=1938.978, Time=0.92 sec\n",
      " ARIMA(2,0,0)(1,1,1)[12]             : AIC=1918.865, Time=0.92 sec\n",
      " ARIMA(2,0,2)(1,1,1)[12]             : AIC=inf, Time=3.18 sec\n",
      "\n",
      "Best model:  ARIMA(1,0,1)(1,1,1)[12]          \n",
      "Total fit time: 46.486 seconds\n"
     ]
    }
   ],
   "source": [
    "# Seasonal - fit stepwise auto-ARIMA\n",
    "model = auto_arima(train[dep_var],\n",
    "                    start_p=1, \n",
    "                    start_q=1,\n",
    "                    test='adf',                 # Use adftest to find optimal 'd'\n",
    "                    max_p=3, max_q=3,           # Maximum p and q\n",
    "                    m=12,                       # Frequency of series (if m==1, seasonal is set to FALSE automatically) - 12 months\n",
    "                    start_P=0, \n",
    "                    seasonal=True,              # set to seasonal\n",
    "                    d=None,                     # Let model determine 'd'\n",
    "                    D=1,                        # Order of the seasonal differencing\n",
    "                    trace=True,                 # Logs \n",
    "                    error_action='warn',        # Shows errors ('ignore' silences these)\n",
    "                    suppress_warnings=True, \n",
    "                    stepwise=True)  "
   ]
  },
  {
   "cell_type": "code",
   "execution_count": 20,
   "metadata": {},
   "outputs": [],
   "source": [
    "#model.plot_diagnostics(figsize=(15,12))\n",
    "#plt.show()"
   ]
  },
  {
   "cell_type": "code",
   "execution_count": 21,
   "metadata": {},
   "outputs": [
    {
     "data": {
      "text/html": [
       "<table class=\"simpletable\">\n",
       "<caption>SARIMAX Results</caption>\n",
       "<tr>\n",
       "  <th>Dep. Variable:</th>                  <td>y</td>               <th>  No. Observations:  </th>    <td>156</td>  \n",
       "</tr>\n",
       "<tr>\n",
       "  <th>Model:</th>           <td>SARIMAX(1, 0, 1)x(1, 1, 1, 12)</td> <th>  Log Likelihood     </th> <td>-943.808</td>\n",
       "</tr>\n",
       "<tr>\n",
       "  <th>Date:</th>                   <td>Wed, 15 Feb 2023</td>        <th>  AIC                </th> <td>1897.616</td>\n",
       "</tr>\n",
       "<tr>\n",
       "  <th>Time:</th>                       <td>17:08:44</td>            <th>  BIC                </th> <td>1912.465</td>\n",
       "</tr>\n",
       "<tr>\n",
       "  <th>Sample:</th>                    <td>01-01-2007</td>           <th>  HQIC               </th> <td>1903.650</td>\n",
       "</tr>\n",
       "<tr>\n",
       "  <th></th>                          <td>- 12-01-2019</td>          <th>                     </th>     <td> </td>   \n",
       "</tr>\n",
       "<tr>\n",
       "  <th>Covariance Type:</th>               <td>opg</td>              <th>                     </th>     <td> </td>   \n",
       "</tr>\n",
       "</table>\n",
       "<table class=\"simpletable\">\n",
       "<tr>\n",
       "      <td></td>        <th>coef</th>     <th>std err</th>      <th>z</th>      <th>P>|z|</th>  <th>[0.025</th>    <th>0.975]</th>  \n",
       "</tr>\n",
       "<tr>\n",
       "  <th>ar.L1</th>    <td>    0.9801</td> <td>    0.019</td> <td>   51.499</td> <td> 0.000</td> <td>    0.943</td> <td>    1.017</td>\n",
       "</tr>\n",
       "<tr>\n",
       "  <th>ma.L1</th>    <td>   -0.7607</td> <td>    0.062</td> <td>  -12.180</td> <td> 0.000</td> <td>   -0.883</td> <td>   -0.638</td>\n",
       "</tr>\n",
       "<tr>\n",
       "  <th>ar.S.L12</th> <td>   -0.2732</td> <td>    0.107</td> <td>   -2.558</td> <td> 0.011</td> <td>   -0.483</td> <td>   -0.064</td>\n",
       "</tr>\n",
       "<tr>\n",
       "  <th>ma.S.L12</th> <td>   -0.5483</td> <td>    0.092</td> <td>   -5.988</td> <td> 0.000</td> <td>   -0.728</td> <td>   -0.369</td>\n",
       "</tr>\n",
       "<tr>\n",
       "  <th>sigma2</th>   <td> 2.733e+04</td> <td> 2670.813</td> <td>   10.233</td> <td> 0.000</td> <td> 2.21e+04</td> <td> 3.26e+04</td>\n",
       "</tr>\n",
       "</table>\n",
       "<table class=\"simpletable\">\n",
       "<tr>\n",
       "  <th>Ljung-Box (L1) (Q):</th>     <td>0.10</td> <th>  Jarque-Bera (JB):  </th> <td>9.69</td> \n",
       "</tr>\n",
       "<tr>\n",
       "  <th>Prob(Q):</th>                <td>0.76</td> <th>  Prob(JB):          </th> <td>0.01</td> \n",
       "</tr>\n",
       "<tr>\n",
       "  <th>Heteroskedasticity (H):</th> <td>9.04</td> <th>  Skew:              </th> <td>-0.32</td>\n",
       "</tr>\n",
       "<tr>\n",
       "  <th>Prob(H) (two-sided):</th>    <td>0.00</td> <th>  Kurtosis:          </th> <td>4.10</td> \n",
       "</tr>\n",
       "</table><br/><br/>Warnings:<br/>[1] Covariance matrix calculated using the outer product of gradients (complex-step)."
      ],
      "text/plain": [
       "<class 'statsmodels.iolib.summary.Summary'>\n",
       "\"\"\"\n",
       "                                     SARIMAX Results                                      \n",
       "==========================================================================================\n",
       "Dep. Variable:                                  y   No. Observations:                  156\n",
       "Model:             SARIMAX(1, 0, 1)x(1, 1, 1, 12)   Log Likelihood                -943.808\n",
       "Date:                            Wed, 15 Feb 2023   AIC                           1897.616\n",
       "Time:                                    17:08:44   BIC                           1912.465\n",
       "Sample:                                01-01-2007   HQIC                          1903.650\n",
       "                                     - 12-01-2019                                         \n",
       "Covariance Type:                              opg                                         \n",
       "==============================================================================\n",
       "                 coef    std err          z      P>|z|      [0.025      0.975]\n",
       "------------------------------------------------------------------------------\n",
       "ar.L1          0.9801      0.019     51.499      0.000       0.943       1.017\n",
       "ma.L1         -0.7607      0.062    -12.180      0.000      -0.883      -0.638\n",
       "ar.S.L12      -0.2732      0.107     -2.558      0.011      -0.483      -0.064\n",
       "ma.S.L12      -0.5483      0.092     -5.988      0.000      -0.728      -0.369\n",
       "sigma2      2.733e+04   2670.813     10.233      0.000    2.21e+04    3.26e+04\n",
       "===================================================================================\n",
       "Ljung-Box (L1) (Q):                   0.10   Jarque-Bera (JB):                 9.69\n",
       "Prob(Q):                              0.76   Prob(JB):                         0.01\n",
       "Heteroskedasticity (H):               9.04   Skew:                            -0.32\n",
       "Prob(H) (two-sided):                  0.00   Kurtosis:                         4.10\n",
       "===================================================================================\n",
       "\n",
       "Warnings:\n",
       "[1] Covariance matrix calculated using the outer product of gradients (complex-step).\n",
       "\"\"\""
      ]
     },
     "execution_count": 21,
     "metadata": {},
     "output_type": "execute_result"
    }
   ],
   "source": [
    "model.summary()"
   ]
  },
  {
   "cell_type": "code",
   "execution_count": 22,
   "metadata": {},
   "outputs": [
    {
     "name": "stdout",
     "output_type": "stream",
     "text": [
      "SARIMA Model Performance:\n",
      "Mean Absolute Error: 333.46.\n",
      "Mean Squared Error: 144602.14.\n",
      "Root Mean Squared Error: 380.27.\n",
      "R^2 Score = -1.82.\n",
      "Mean Absolute Percentage Error: 108.39%.\n",
      "Accuracy = -8.39%.\n"
     ]
    },
    {
     "data": {
      "image/svg+xml": "<svg class=\"main-svg\" xmlns=\"http://www.w3.org/2000/svg\" xmlns:xlink=\"http://www.w3.org/1999/xlink\" width=\"1000\" height=\"600\" style=\"\" viewBox=\"0 0 1000 600\"><rect x=\"0\" y=\"0\" width=\"1000\" height=\"600\" style=\"fill: rgb(255, 255, 255); fill-opacity: 1;\"/><defs id=\"defs-fa7289\"><g class=\"clips\"><clipPath id=\"clipfa7289xyplot\" class=\"plotclip\"><rect width=\"791\" height=\"178.50000000000003\"/></clipPath><clipPath id=\"clipfa7289x2y2plot\" class=\"plotclip\"><rect width=\"791\" height=\"178.5\"/></clipPath><clipPath class=\"axesclip\" id=\"clipfa7289x\"><rect x=\"80\" y=\"0\" width=\"791\" height=\"600\"/></clipPath><clipPath class=\"axesclip\" id=\"clipfa7289y\"><rect x=\"0\" y=\"100\" width=\"1000\" height=\"178.50000000000003\"/></clipPath><clipPath class=\"axesclip\" id=\"clipfa7289xy\"><rect x=\"80\" y=\"100\" width=\"791\" height=\"178.50000000000003\"/></clipPath><clipPath class=\"axesclip\" id=\"clipfa7289y2\"><rect x=\"0\" y=\"341.5\" width=\"1000\" height=\"178.5\"/></clipPath><clipPath class=\"axesclip\" id=\"clipfa7289xy2\"><rect x=\"80\" y=\"341.5\" width=\"791\" height=\"178.5\"/></clipPath><clipPath class=\"axesclip\" id=\"clipfa7289x2\"><rect x=\"80\" y=\"0\" width=\"791\" height=\"600\"/></clipPath><clipPath class=\"axesclip\" id=\"clipfa7289x2y\"><rect x=\"80\" y=\"100\" width=\"791\" height=\"178.50000000000003\"/></clipPath><clipPath class=\"axesclip\" id=\"clipfa7289x2y2\"><rect x=\"80\" y=\"341.5\" width=\"791\" height=\"178.5\"/></clipPath></g><g class=\"gradients\"/><g class=\"patterns\"/></defs><g class=\"bglayer\"><rect class=\"bg\" x=\"80\" y=\"100\" width=\"791\" height=\"178.50000000000003\" style=\"fill: rgb(229, 236, 246); fill-opacity: 1; stroke-width: 0;\"/><rect class=\"bg\" x=\"80\" y=\"341.5\" width=\"791\" height=\"178.5\" style=\"fill: rgb(229, 236, 246); fill-opacity: 1; stroke-width: 0;\"/></g><g class=\"layer-below\"><g class=\"imagelayer\"/><g class=\"shapelayer\"/></g><g class=\"cartesianlayer\"><g class=\"subplot xy\"><g class=\"layer-subplot\"><g class=\"shapelayer\"/><g class=\"imagelayer\"/></g><g class=\"minor-gridlayer\"><g class=\"x\"/><g class=\"y\"/></g><g class=\"gridlayer\"><g class=\"x\"><path class=\"xgrid crisp\" transform=\"translate(215.18,0)\" d=\"M0,100v178.50000000000003\" style=\"stroke: rgb(255, 255, 255); stroke-opacity: 1; stroke-width: 1px;\"/><path class=\"xgrid crisp\" transform=\"translate(351.84,0)\" d=\"M0,100v178.50000000000003\" style=\"stroke: rgb(255, 255, 255); stroke-opacity: 1; stroke-width: 1px;\"/><path class=\"xgrid crisp\" transform=\"translate(486.27,0)\" d=\"M0,100v178.50000000000003\" style=\"stroke: rgb(255, 255, 255); stroke-opacity: 1; stroke-width: 1px;\"/><path class=\"xgrid crisp\" transform=\"translate(622.93,0)\" d=\"M0,100v178.50000000000003\" style=\"stroke: rgb(255, 255, 255); stroke-opacity: 1; stroke-width: 1px;\"/><path class=\"xgrid crisp\" transform=\"translate(757.36,0)\" d=\"M0,100v178.50000000000003\" style=\"stroke: rgb(255, 255, 255); stroke-opacity: 1; stroke-width: 1px;\"/></g><g class=\"y\"><path class=\"ygrid crisp\" transform=\"translate(0,211.35)\" d=\"M80,0h791\" style=\"stroke: rgb(255, 255, 255); stroke-opacity: 1; stroke-width: 1px;\"/><path class=\"ygrid crisp\" transform=\"translate(0,131.82)\" d=\"M80,0h791\" style=\"stroke: rgb(255, 255, 255); stroke-opacity: 1; stroke-width: 1px;\"/></g></g><g class=\"zerolinelayer\"/><path class=\"xlines-below\"/><path class=\"ylines-below\"/><g class=\"overlines-below\"/><g class=\"xaxislayer-below\"/><g class=\"yaxislayer-below\"/><g class=\"overaxes-below\"/><g class=\"plot\" transform=\"translate(80,100)\" clip-path=\"url(#clipfa7289xyplot)\"><g class=\"scatterlayer mlayer\"><g class=\"trace scatter tracebff34c\" style=\"stroke-miterlimit: 2; opacity: 1;\"><g class=\"fills\"/><g class=\"errorbars\"/><g class=\"lines\"><path class=\"js-line\" d=\"M0,38.34L23.02,37.23L44.56,88.13L67.59,169.58L89.87,155.74L112.89,58.7L135.18,122.81L158.2,124.08L181.22,49.47L203.51,103.72L226.53,107.7L248.81,109.6L271.84,59.81L294.86,123.6L315.66,63.47L338.68,123.13L360.96,130.6L383.99,127.58L406.27,152.87L429.29,153.99L452.32,135.53L474.6,121.85L497.62,122.97L519.91,157.01L542.93,162.1L565.95,152.24L586.75,98.79L609.78,145.08L632.06,148.42L655.08,145.87L677.36,155.1L700.39,136.33L723.41,137.28L768.72,142.37L791,134.1\" style=\"vector-effect: non-scaling-stroke; fill: none; stroke: rgb(99, 110, 250); stroke-opacity: 1; stroke-width: 2px; opacity: 1;\"/></g><g class=\"points\"/><g class=\"text\"/></g><g class=\"trace scatter traceadf7dc\" style=\"stroke-miterlimit: 2; opacity: 1;\"><g class=\"fills\"/><g class=\"errorbars\"/><g class=\"lines\"><path class=\"js-line\" d=\"M0,72.59L23.02,35.49L44.56,14.6L67.59,119.69L89.87,57.6L112.89,59.66L135.18,69.65L158.2,69.14L181.22,86.87L203.51,79.55L226.53,96.68L248.81,70.33L271.84,69.67L294.86,28.19L315.66,8.93L338.68,126.38L360.96,71.01L383.99,56.56L406.27,70.05L429.29,80.39L452.32,88.51L474.6,78.34L497.62,98.12L519.91,82.29L542.93,75.59L565.95,35.21L586.75,15.4L609.78,129.38L632.06,72.08L655.08,62.04L677.36,74.49L700.39,81.78L723.41,92.43L745.69,82.95L768.72,101.92L791,83.14\" style=\"vector-effect: non-scaling-stroke; fill: none; stroke: rgb(239, 85, 59); stroke-opacity: 1; stroke-width: 2px; opacity: 1;\"/></g><g class=\"points\"/><g class=\"text\"/></g></g></g><g class=\"overplot\"/><path class=\"xlines-above crisp\" d=\"M0,0\" style=\"fill: none;\"/><path class=\"ylines-above crisp\" d=\"M0,0\" style=\"fill: none;\"/><g class=\"overlines-above\"/><g class=\"xaxislayer-above\"><g class=\"xtick\"><text text-anchor=\"middle\" x=\"0\" y=\"291.5\" transform=\"translate(80,0)\" style=\"font-family: 'Open Sans', verdana, arial, sans-serif; font-size: 12px; fill: rgb(42, 63, 95); fill-opacity: 1; white-space: pre; opacity: 1;\">Jan 2020</text></g><g class=\"xtick\"><text text-anchor=\"middle\" x=\"0\" y=\"291.5\" style=\"font-family: 'Open Sans', verdana, arial, sans-serif; font-size: 12px; fill: rgb(42, 63, 95); fill-opacity: 1; white-space: pre; opacity: 1;\" transform=\"translate(215.18,0)\">Jul 2020</text></g><g class=\"xtick\"><text text-anchor=\"middle\" x=\"0\" y=\"291.5\" style=\"font-family: 'Open Sans', verdana, arial, sans-serif; font-size: 12px; fill: rgb(42, 63, 95); fill-opacity: 1; white-space: pre; opacity: 1;\" transform=\"translate(351.84,0)\">Jan 2021</text></g><g class=\"xtick\"><text text-anchor=\"middle\" x=\"0\" y=\"291.5\" style=\"font-family: 'Open Sans', verdana, arial, sans-serif; font-size: 12px; fill: rgb(42, 63, 95); fill-opacity: 1; white-space: pre; opacity: 1;\" transform=\"translate(486.27,0)\">Jul 2021</text></g><g class=\"xtick\"><text text-anchor=\"middle\" x=\"0\" y=\"291.5\" style=\"font-family: 'Open Sans', verdana, arial, sans-serif; font-size: 12px; fill: rgb(42, 63, 95); fill-opacity: 1; white-space: pre; opacity: 1;\" transform=\"translate(622.93,0)\">Jan 2022</text></g><g class=\"xtick\"><text text-anchor=\"middle\" x=\"0\" y=\"291.5\" style=\"font-family: 'Open Sans', verdana, arial, sans-serif; font-size: 12px; fill: rgb(42, 63, 95); fill-opacity: 1; white-space: pre; opacity: 1;\" transform=\"translate(757.36,0)\">Jul 2022</text></g></g><g class=\"yaxislayer-above\"><g class=\"ytick\"><text text-anchor=\"end\" x=\"79\" y=\"4.199999999999999\" transform=\"translate(0,211.35)\" style=\"font-family: 'Open Sans', verdana, arial, sans-serif; font-size: 12px; fill: rgb(42, 63, 95); fill-opacity: 1; white-space: pre; opacity: 1;\">500</text></g><g class=\"ytick\"><text text-anchor=\"end\" x=\"79\" y=\"4.199999999999999\" style=\"font-family: 'Open Sans', verdana, arial, sans-serif; font-size: 12px; fill: rgb(42, 63, 95); fill-opacity: 1; white-space: pre; opacity: 1;\" transform=\"translate(0,131.82)\">1000</text></g></g><g class=\"overaxes-above\"/></g><g class=\"subplot x2y2\"><g class=\"layer-subplot\"><g class=\"shapelayer\"/><g class=\"imagelayer\"/></g><g class=\"minor-gridlayer\"><g class=\"x2\"/><g class=\"y2\"/></g><g class=\"gridlayer\"><g class=\"x2\"><path class=\"x2grid crisp\" transform=\"translate(129.67000000000002,0)\" d=\"M0,341.5v178.5\" style=\"stroke: rgb(255, 255, 255); stroke-opacity: 1; stroke-width: 1px;\"/><path class=\"x2grid crisp\" transform=\"translate(229.14,0)\" d=\"M0,341.5v178.5\" style=\"stroke: rgb(255, 255, 255); stroke-opacity: 1; stroke-width: 1px;\"/><path class=\"x2grid crisp\" transform=\"translate(328.47,0)\" d=\"M0,341.5v178.5\" style=\"stroke: rgb(255, 255, 255); stroke-opacity: 1; stroke-width: 1px;\"/><path class=\"x2grid crisp\" transform=\"translate(427.94,0)\" d=\"M0,341.5v178.5\" style=\"stroke: rgb(255, 255, 255); stroke-opacity: 1; stroke-width: 1px;\"/><path class=\"x2grid crisp\" transform=\"translate(527.28,0)\" d=\"M0,341.5v178.5\" style=\"stroke: rgb(255, 255, 255); stroke-opacity: 1; stroke-width: 1px;\"/><path class=\"x2grid crisp\" transform=\"translate(626.75,0)\" d=\"M0,341.5v178.5\" style=\"stroke: rgb(255, 255, 255); stroke-opacity: 1; stroke-width: 1px;\"/><path class=\"x2grid crisp\" transform=\"translate(726.08,0)\" d=\"M0,341.5v178.5\" style=\"stroke: rgb(255, 255, 255); stroke-opacity: 1; stroke-width: 1px;\"/><path class=\"x2grid crisp\" transform=\"translate(825.55,0)\" d=\"M0,341.5v178.5\" style=\"stroke: rgb(255, 255, 255); stroke-opacity: 1; stroke-width: 1px;\"/></g><g class=\"y2\"><path class=\"y2grid crisp\" transform=\"translate(0,471.1)\" d=\"M80,0h791\" style=\"stroke: rgb(255, 255, 255); stroke-opacity: 1; stroke-width: 1px;\"/><path class=\"y2grid crisp\" transform=\"translate(0,416.5)\" d=\"M80,0h791\" style=\"stroke: rgb(255, 255, 255); stroke-opacity: 1; stroke-width: 1px;\"/><path class=\"y2grid crisp\" transform=\"translate(0,361.89)\" d=\"M80,0h791\" style=\"stroke: rgb(255, 255, 255); stroke-opacity: 1; stroke-width: 1px;\"/></g></g><g class=\"zerolinelayer\"/><path class=\"xlines-below\"/><path class=\"ylines-below\"/><g class=\"overlines-below\"/><g class=\"xaxislayer-below\"/><g class=\"yaxislayer-below\"/><g class=\"overaxes-below\"/><g class=\"plot\" transform=\"translate(80,341.5)\" clip-path=\"url(#clipfa7289x2y2plot)\"><g class=\"scatterlayer mlayer\"><g class=\"trace scatter traceb7cc02\" style=\"stroke-miterlimit: 2; opacity: 1;\"><g class=\"fills\"/><g class=\"errorbars\"/><g class=\"lines\"><path class=\"js-line\" d=\"M0,148.06L4.22,151.56L8.03,142.93L12.25,155.05L16.33,147.41L20.55,135.61L24.63,161.49L28.85,149.37L33.07,139.76L37.15,134.95L41.37,148.82L45.45,143.47L49.67,140.42L53.89,137.58L57.83,127.2L62.05,147.84L66.13,143.26L70.35,127.2L74.43,145.88L78.65,149.37L82.87,140.74L86.95,141.73L91.17,146.75L95.25,155.49L99.47,145L103.69,131.57L107.5,142.38L111.72,132.12L115.8,148.93L120.02,143.36L124.1,150.79L128.32,140.96L132.54,126L136.62,143.36L140.84,139.54L144.92,144.35L149.14,136.7L153.36,141.51L157.17,134.52L161.38,146.31L165.47,136.27L169.68,135.17L173.77,142.38L177.99,140.2L182.2,144.13L186.29,134.74L190.5,137.03L194.59,136.81L198.8,138.34L203.02,131.57L206.83,108.53L211.05,130.59L215.13,127.09L219.35,125.67L223.43,144.78L227.65,133.64L231.87,120.32L235.95,129.17L240.17,119.23L244.25,134.08L248.47,132.01L252.69,109.73L256.64,127.64L260.85,148.28L264.94,139.11L269.15,125.56L273.24,126.33L277.46,123.16L281.67,115.52L285.76,111.8L289.97,104.27L294.06,97.06L298.27,101.75L302.49,102.08L306.3,69.32L310.52,112.35L314.6,86.9L318.82,65.5L322.9,76.09L327.12,86.03L331.34,72.16L335.42,60.25L339.64,101.86L343.72,108.96L347.94,105.8L352.16,109.51L355.97,50.21L360.19,111.91L364.27,101.1L368.49,85.7L372.57,95.64L376.79,91.16L381.01,79.37L385.09,94.55L389.31,94.11L393.39,56.43L397.61,102.96L401.83,99.35L405.64,13.51L409.86,143.47L413.94,57.52L418.16,75.76L422.24,82.97L426.46,89.96L430.68,93.02L434.76,86.9L438.98,105.9L443.06,102.41L447.28,96.51L451.49,74.23L455.44,100.23L459.66,119.23L463.74,76.96L467.96,55.45L472.04,71.39L476.26,118.03L480.48,76.42L484.56,93.67L488.78,82.75L492.86,69.1L497.08,82.75L501.3,39.18L505.11,8.93L509.33,118.03L513.41,57.2L517.63,76.53L521.71,105.8L525.93,73.58L530.15,63.86L534.23,78.71L538.45,75L542.53,42.02L546.75,74.45L550.96,55.78L554.77,52.72L558.99,102.63L563.08,63.75L567.29,83.41L571.38,71.18L575.59,60.8L579.81,119.67L583.89,99.57L588.11,123.6L592.2,97.28L596.41,79.26L600.63,43.11L604.44,33.17L608.66,136.7L612.74,111.26L616.96,71.5L621.04,87.45L625.26,114.64L629.48,102.96L633.56,91.05L637.78,109.73L641.86,118.35\" style=\"vector-effect: non-scaling-stroke; fill: none; stroke: rgb(0, 204, 150); stroke-opacity: 1; stroke-width: 2px; opacity: 1;\"/></g><g class=\"points\"/><g class=\"text\"/></g><g class=\"trace scatter tracebaf5c2\" style=\"stroke-miterlimit: 2; opacity: 1;\"><g class=\"fills\"/><g class=\"errorbars\"/><g class=\"lines\"><path class=\"js-line\" d=\"M646.08,79.48L650.3,78.71L654.25,113.66L658.46,169.58L662.55,160.07L666.76,93.45L670.85,137.47L675.06,138.34L679.28,87.12L683.37,124.36L687.58,127.09L691.67,128.4L695.88,94.22L700.1,138.01L703.91,96.73L708.13,137.69L712.21,142.82L716.43,140.74L720.51,158.11L724.73,158.87L728.95,146.2L733.03,136.81L737.25,137.58L741.33,160.95L745.55,164.44L749.77,157.67L753.58,120.98L757.8,152.76L761.88,155.05L766.1,153.3L770.18,159.64L774.4,146.75L778.62,147.41L786.92,150.9L791,145.22\" style=\"vector-effect: non-scaling-stroke; fill: none; stroke: rgb(171, 99, 250); stroke-opacity: 1; stroke-width: 2px; opacity: 1;\"/></g><g class=\"points\"/><g class=\"text\"/></g><g class=\"trace scatter traceeb4827\" style=\"stroke-miterlimit: 2; opacity: 1;\"><g class=\"fills\"/><g class=\"errorbars\"/><g class=\"lines\"><path class=\"js-line\" d=\"M646.08,102.99L650.3,77.52L654.25,63.18L658.46,135.33L662.55,92.7L666.76,94.11L670.85,100.97L675.06,100.62L679.28,112.79L683.37,107.77L687.58,119.53L691.67,101.44L695.88,100.98L700.1,72.51L703.91,59.28L708.13,139.92L712.21,101.9L716.43,91.98L720.51,101.25L724.73,108.35L728.95,113.92L733.03,106.94L737.25,120.51L741.33,109.65L745.55,105.05L749.77,77.33L753.58,63.73L757.8,141.98L761.88,102.64L766.1,95.75L770.18,104.29L774.4,109.3L778.62,116.61L782.7,110.1L786.92,123.13L791,110.23\" style=\"vector-effect: non-scaling-stroke; fill: none; stroke: rgb(255, 161, 90); stroke-opacity: 1; stroke-width: 2px; opacity: 1;\"/></g><g class=\"points\"/><g class=\"text\"/></g></g></g><g class=\"overplot\"/><path class=\"xlines-above crisp\" d=\"M0,0\" style=\"fill: none;\"/><path class=\"ylines-above crisp\" d=\"M0,0\" style=\"fill: none;\"/><g class=\"overlines-above\"/><g class=\"xaxislayer-above\"><g class=\"x2tick\"><text text-anchor=\"middle\" x=\"0\" y=\"533\" transform=\"translate(129.67000000000002,0)\" style=\"font-family: 'Open Sans', verdana, arial, sans-serif; font-size: 12px; fill: rgb(42, 63, 95); fill-opacity: 1; white-space: pre; opacity: 1;\">2008</text></g><g class=\"x2tick\"><text text-anchor=\"middle\" x=\"0\" y=\"533\" style=\"font-family: 'Open Sans', verdana, arial, sans-serif; font-size: 12px; fill: rgb(42, 63, 95); fill-opacity: 1; white-space: pre; opacity: 1;\" transform=\"translate(229.14,0)\">2010</text></g><g class=\"x2tick\"><text text-anchor=\"middle\" x=\"0\" y=\"533\" style=\"font-family: 'Open Sans', verdana, arial, sans-serif; font-size: 12px; fill: rgb(42, 63, 95); fill-opacity: 1; white-space: pre; opacity: 1;\" transform=\"translate(328.47,0)\">2012</text></g><g class=\"x2tick\"><text text-anchor=\"middle\" x=\"0\" y=\"533\" style=\"font-family: 'Open Sans', verdana, arial, sans-serif; font-size: 12px; fill: rgb(42, 63, 95); fill-opacity: 1; white-space: pre; opacity: 1;\" transform=\"translate(427.94,0)\">2014</text></g><g class=\"x2tick\"><text text-anchor=\"middle\" x=\"0\" y=\"533\" style=\"font-family: 'Open Sans', verdana, arial, sans-serif; font-size: 12px; fill: rgb(42, 63, 95); fill-opacity: 1; white-space: pre; opacity: 1;\" transform=\"translate(527.28,0)\">2016</text></g><g class=\"x2tick\"><text text-anchor=\"middle\" x=\"0\" y=\"533\" style=\"font-family: 'Open Sans', verdana, arial, sans-serif; font-size: 12px; fill: rgb(42, 63, 95); fill-opacity: 1; white-space: pre; opacity: 1;\" transform=\"translate(626.75,0)\">2018</text></g><g class=\"x2tick\"><text text-anchor=\"middle\" x=\"0\" y=\"533\" style=\"font-family: 'Open Sans', verdana, arial, sans-serif; font-size: 12px; fill: rgb(42, 63, 95); fill-opacity: 1; white-space: pre; opacity: 1;\" transform=\"translate(726.08,0)\">2020</text></g><g class=\"x2tick\"><text text-anchor=\"middle\" x=\"0\" y=\"533\" style=\"font-family: 'Open Sans', verdana, arial, sans-serif; font-size: 12px; fill: rgb(42, 63, 95); fill-opacity: 1; white-space: pre; opacity: 1;\" transform=\"translate(825.55,0)\">2022</text></g></g><g class=\"yaxislayer-above\"><g class=\"y2tick\"><text text-anchor=\"end\" x=\"79\" y=\"4.199999999999999\" transform=\"translate(0,471.1)\" style=\"font-family: 'Open Sans', verdana, arial, sans-serif; font-size: 12px; fill: rgb(42, 63, 95); fill-opacity: 1; white-space: pre; opacity: 1;\">500</text></g><g class=\"y2tick\"><text text-anchor=\"end\" x=\"79\" y=\"4.199999999999999\" style=\"font-family: 'Open Sans', verdana, arial, sans-serif; font-size: 12px; fill: rgb(42, 63, 95); fill-opacity: 1; white-space: pre; opacity: 1;\" transform=\"translate(0,416.5)\">1000</text></g><g class=\"y2tick\"><text text-anchor=\"end\" x=\"79\" y=\"4.199999999999999\" style=\"font-family: 'Open Sans', verdana, arial, sans-serif; font-size: 12px; fill: rgb(42, 63, 95); fill-opacity: 1; white-space: pre; opacity: 1;\" transform=\"translate(0,361.89)\">1500</text></g></g><g class=\"overaxes-above\"/></g></g><g class=\"polarlayer\"/><g class=\"smithlayer\"/><g class=\"ternarylayer\"/><g class=\"geolayer\"/><g class=\"funnelarealayer\"/><g class=\"pielayer\"/><g class=\"iciclelayer\"/><g class=\"treemaplayer\"/><g class=\"sunburstlayer\"/><g class=\"glimages\"/><defs id=\"topdefs-fa7289\"><g class=\"clips\"/><clipPath id=\"legendfa7289\"><rect width=\"101\" height=\"115\" x=\"0\" y=\"0\"/></clipPath></defs><g class=\"layer-above\"><g class=\"imagelayer\"/><g class=\"shapelayer\"/></g><g class=\"infolayer\"><g class=\"legend\" pointer-events=\"all\" transform=\"translate(886.82,100)\"><rect class=\"bg\" shape-rendering=\"crispEdges\" width=\"101\" height=\"115\" x=\"0\" y=\"0\" style=\"stroke: rgb(68, 68, 68); stroke-opacity: 1; fill: rgb(255, 255, 255); fill-opacity: 1; stroke-width: 0px;\"/><g class=\"scrollbox\" transform=\"\" clip-path=\"url(#legendfa7289)\"><g class=\"groups\" transform=\"\"><g class=\"traces\" transform=\"translate(0,14.5)\" style=\"opacity: 1;\"><text class=\"legendtext\" text-anchor=\"start\" x=\"40\" y=\"4.680000000000001\" style=\"font-family: 'Open Sans', verdana, arial, sans-serif; font-size: 12px; fill: rgb(42, 63, 95); fill-opacity: 1; white-space: pre;\">Actual</text><g class=\"layers\" style=\"opacity: 1;\"><g class=\"legendfill\"/><g class=\"legendlines\"><path class=\"js-line\" d=\"M5,0h30\" style=\"fill: none; stroke: rgb(99, 110, 250); stroke-opacity: 1; stroke-width: 2px;\"/></g><g class=\"legendsymbols\"><g class=\"legendpoints\"/></g></g><rect class=\"legendtoggle\" x=\"0\" y=\"-9.5\" width=\"95.890625\" height=\"19\" style=\"fill: rgb(0, 0, 0); fill-opacity: 0;\"/></g><g class=\"traces\" transform=\"translate(0,33.5)\" style=\"opacity: 1;\"><text class=\"legendtext\" text-anchor=\"start\" x=\"40\" y=\"4.680000000000001\" style=\"font-family: 'Open Sans', verdana, arial, sans-serif; font-size: 12px; fill: rgb(42, 63, 95); fill-opacity: 1; white-space: pre;\">Predicted</text><g class=\"layers\" style=\"opacity: 1;\"><g class=\"legendfill\"/><g class=\"legendlines\"><path class=\"js-line\" d=\"M5,0h30\" style=\"fill: none; stroke: rgb(239, 85, 59); stroke-opacity: 1; stroke-width: 2px;\"/></g><g class=\"legendsymbols\"><g class=\"legendpoints\"/></g></g><rect class=\"legendtoggle\" x=\"0\" y=\"-9.5\" width=\"95.890625\" height=\"19\" style=\"fill: rgb(0, 0, 0); fill-opacity: 0;\"/></g></g><g class=\"groups\" transform=\"translate(0,10)\"><g class=\"traces\" transform=\"translate(0,52.5)\" style=\"opacity: 1;\"><text class=\"legendtext\" text-anchor=\"start\" x=\"40\" y=\"4.680000000000001\" style=\"font-family: 'Open Sans', verdana, arial, sans-serif; font-size: 12px; fill: rgb(42, 63, 95); fill-opacity: 1; white-space: pre;\">Train</text><g class=\"layers\" style=\"opacity: 1;\"><g class=\"legendfill\"/><g class=\"legendlines\"><path class=\"js-line\" d=\"M5,0h30\" style=\"fill: none; stroke: rgb(0, 204, 150); stroke-opacity: 1; stroke-width: 2px;\"/></g><g class=\"legendsymbols\"><g class=\"legendpoints\"/></g></g><rect class=\"legendtoggle\" x=\"0\" y=\"-9.5\" width=\"95.890625\" height=\"19\" style=\"fill: rgb(0, 0, 0); fill-opacity: 0;\"/></g><g class=\"traces\" transform=\"translate(0,71.5)\" style=\"opacity: 1;\"><text class=\"legendtext\" text-anchor=\"start\" x=\"40\" y=\"4.680000000000001\" style=\"font-family: 'Open Sans', verdana, arial, sans-serif; font-size: 12px; fill: rgb(42, 63, 95); fill-opacity: 1; white-space: pre;\">Test</text><g class=\"layers\" style=\"opacity: 1;\"><g class=\"legendfill\"/><g class=\"legendlines\"><path class=\"js-line\" d=\"M5,0h30\" style=\"fill: none; stroke: rgb(171, 99, 250); stroke-opacity: 1; stroke-width: 2px;\"/></g><g class=\"legendsymbols\"><g class=\"legendpoints\"/></g></g><rect class=\"legendtoggle\" x=\"0\" y=\"-9.5\" width=\"95.890625\" height=\"19\" style=\"fill: rgb(0, 0, 0); fill-opacity: 0;\"/></g><g class=\"traces\" transform=\"translate(0,90.5)\" style=\"opacity: 1;\"><text class=\"legendtext\" text-anchor=\"start\" x=\"40\" y=\"4.680000000000001\" style=\"font-family: 'Open Sans', verdana, arial, sans-serif; font-size: 12px; fill: rgb(42, 63, 95); fill-opacity: 1; white-space: pre;\">Forecast</text><g class=\"layers\" style=\"opacity: 1;\"><g class=\"legendfill\"/><g class=\"legendlines\"><path class=\"js-line\" d=\"M5,0h30\" style=\"fill: none; stroke: rgb(255, 161, 90); stroke-opacity: 1; stroke-width: 2px;\"/></g><g class=\"legendsymbols\"><g class=\"legendpoints\"/></g></g><rect class=\"legendtoggle\" x=\"0\" y=\"-9.5\" width=\"95.890625\" height=\"19\" style=\"fill: rgb(0, 0, 0); fill-opacity: 0;\"/></g></g></g><rect class=\"scrollbar\" rx=\"20\" ry=\"3\" width=\"0\" height=\"0\" x=\"0\" y=\"0\" style=\"fill: rgb(128, 139, 164); fill-opacity: 1;\"/></g><g class=\"g-gtitle\"><text class=\"gtitle\" x=\"50\" y=\"50\" text-anchor=\"start\" dy=\"0em\" style=\"font-family: 'Open Sans', verdana, arial, sans-serif; font-size: 17px; fill: rgb(42, 63, 95); opacity: 1; font-weight: normal; white-space: pre;\">SARIMA Predictions - DEN</text></g><g class=\"g-xtitle\"/><g class=\"g-x2title\"/><g class=\"g-ytitle\"/><g class=\"g-y2title\"/></g></svg>"
     },
     "metadata": {},
     "output_type": "display_data"
    }
   ],
   "source": [
    "model_name='SARIMA'\n",
    "\n",
    "# Predict\n",
    "predictions = model.predict(n_periods=test.shape[0], dynamic=False, typ='levels')\n",
    "\n",
    "# Forecast accuracy\n",
    "forecast_accuracy(model_name, test[dep_var], predictions, True, True)"
   ]
  },
  {
   "cell_type": "code",
   "execution_count": 23,
   "metadata": {},
   "outputs": [
    {
     "data": {
      "text/html": [
       "<div>\n",
       "<style scoped>\n",
       "    .dataframe tbody tr th:only-of-type {\n",
       "        vertical-align: middle;\n",
       "    }\n",
       "\n",
       "    .dataframe tbody tr th {\n",
       "        vertical-align: top;\n",
       "    }\n",
       "\n",
       "    .dataframe thead th {\n",
       "        text-align: right;\n",
       "    }\n",
       "</style>\n",
       "<table border=\"1\" class=\"dataframe\">\n",
       "  <thead>\n",
       "    <tr style=\"text-align: right;\">\n",
       "      <th></th>\n",
       "      <th>Simple Exponential Smoothing</th>\n",
       "      <th>Double Exponential Smoothing</th>\n",
       "      <th>Triple Exponential Smoothing</th>\n",
       "      <th>ARIMA</th>\n",
       "      <th>SARIMA</th>\n",
       "    </tr>\n",
       "  </thead>\n",
       "  <tbody>\n",
       "    <tr>\n",
       "      <th>Mean Absolute Error</th>\n",
       "      <td>374.545492</td>\n",
       "      <td>288.545607</td>\n",
       "      <td>400.502355</td>\n",
       "      <td>364.697824</td>\n",
       "      <td>333.457051</td>\n",
       "    </tr>\n",
       "    <tr>\n",
       "      <th>Mean Squared Error</th>\n",
       "      <td>169685.476561</td>\n",
       "      <td>98992.434108</td>\n",
       "      <td>200168.540882</td>\n",
       "      <td>159735.582476</td>\n",
       "      <td>144602.135054</td>\n",
       "    </tr>\n",
       "    <tr>\n",
       "      <th>Root Mean Squared Error</th>\n",
       "      <td>411.928970</td>\n",
       "      <td>314.630631</td>\n",
       "      <td>447.401990</td>\n",
       "      <td>399.669341</td>\n",
       "      <td>380.265874</td>\n",
       "    </tr>\n",
       "    <tr>\n",
       "      <th>R^2</th>\n",
       "      <td>-2.312484</td>\n",
       "      <td>-0.932463</td>\n",
       "      <td>-2.907554</td>\n",
       "      <td>-2.118249</td>\n",
       "      <td>-1.822824</td>\n",
       "    </tr>\n",
       "    <tr>\n",
       "      <th>Mean Absolute Percentage Error</th>\n",
       "      <td>128.569802</td>\n",
       "      <td>98.833540</td>\n",
       "      <td>130.888264</td>\n",
       "      <td>124.906428</td>\n",
       "      <td>108.390273</td>\n",
       "    </tr>\n",
       "    <tr>\n",
       "      <th>Accuracy</th>\n",
       "      <td>-28.569802</td>\n",
       "      <td>1.166460</td>\n",
       "      <td>-30.888264</td>\n",
       "      <td>-24.906428</td>\n",
       "      <td>-8.390273</td>\n",
       "    </tr>\n",
       "  </tbody>\n",
       "</table>\n",
       "</div>"
      ],
      "text/plain": [
       "                                Simple Exponential Smoothing  \\\n",
       "Mean Absolute Error                               374.545492   \n",
       "Mean Squared Error                             169685.476561   \n",
       "Root Mean Squared Error                           411.928970   \n",
       "R^2                                                -2.312484   \n",
       "Mean Absolute Percentage Error                    128.569802   \n",
       "Accuracy                                          -28.569802   \n",
       "\n",
       "                                Double Exponential Smoothing  \\\n",
       "Mean Absolute Error                               288.545607   \n",
       "Mean Squared Error                              98992.434108   \n",
       "Root Mean Squared Error                           314.630631   \n",
       "R^2                                                -0.932463   \n",
       "Mean Absolute Percentage Error                     98.833540   \n",
       "Accuracy                                            1.166460   \n",
       "\n",
       "                                Triple Exponential Smoothing          ARIMA  \\\n",
       "Mean Absolute Error                               400.502355     364.697824   \n",
       "Mean Squared Error                             200168.540882  159735.582476   \n",
       "Root Mean Squared Error                           447.401990     399.669341   \n",
       "R^2                                                -2.907554      -2.118249   \n",
       "Mean Absolute Percentage Error                    130.888264     124.906428   \n",
       "Accuracy                                          -30.888264     -24.906428   \n",
       "\n",
       "                                       SARIMA  \n",
       "Mean Absolute Error                333.457051  \n",
       "Mean Squared Error              144602.135054  \n",
       "Root Mean Squared Error            380.265874  \n",
       "R^2                                 -1.822824  \n",
       "Mean Absolute Percentage Error     108.390273  \n",
       "Accuracy                            -8.390273  "
      ]
     },
     "execution_count": 23,
     "metadata": {},
     "output_type": "execute_result"
    }
   ],
   "source": [
    "metrics"
   ]
  },
  {
   "attachments": {},
   "cell_type": "markdown",
   "metadata": {},
   "source": [
    "#### SARIMAX"
   ]
  },
  {
   "cell_type": "code",
   "execution_count": 24,
   "metadata": {},
   "outputs": [
    {
     "name": "stdout",
     "output_type": "stream",
     "text": [
      "Performing stepwise search to minimize aic\n",
      " ARIMA(1,0,1)(0,1,1)[12] intercept   : AIC=1901.624, Time=1.63 sec\n",
      " ARIMA(0,0,0)(0,1,0)[12] intercept   : AIC=1974.605, Time=0.03 sec\n",
      " ARIMA(1,0,0)(1,1,0)[12] intercept   : AIC=1929.199, Time=0.65 sec\n",
      " ARIMA(0,0,1)(0,1,1)[12] intercept   : AIC=1925.841, Time=0.64 sec\n",
      " ARIMA(0,0,0)(0,1,0)[12]             : AIC=1977.449, Time=0.02 sec\n",
      " ARIMA(1,0,1)(0,1,0)[12] intercept   : AIC=1962.269, Time=0.35 sec\n",
      " ARIMA(1,0,1)(1,1,1)[12] intercept   : AIC=1902.315, Time=1.51 sec\n",
      " ARIMA(1,0,1)(0,1,2)[12] intercept   : AIC=1902.207, Time=3.42 sec\n",
      " ARIMA(1,0,1)(1,1,0)[12] intercept   : AIC=1911.979, Time=1.28 sec\n",
      " ARIMA(1,0,1)(1,1,2)[12] intercept   : AIC=inf, Time=4.72 sec\n",
      " ARIMA(1,0,0)(0,1,1)[12] intercept   : AIC=1919.698, Time=0.74 sec\n",
      " ARIMA(2,0,1)(0,1,1)[12] intercept   : AIC=1903.558, Time=1.98 sec\n",
      " ARIMA(1,0,2)(0,1,1)[12] intercept   : AIC=1903.540, Time=1.75 sec\n",
      " ARIMA(0,0,0)(0,1,1)[12] intercept   : AIC=1938.265, Time=0.38 sec\n",
      " ARIMA(0,0,2)(0,1,1)[12] intercept   : AIC=1923.739, Time=0.86 sec\n",
      " ARIMA(2,0,0)(0,1,1)[12] intercept   : AIC=1913.557, Time=0.60 sec\n",
      " ARIMA(2,0,2)(0,1,1)[12] intercept   : AIC=1905.408, Time=2.00 sec\n",
      " ARIMA(1,0,1)(0,1,1)[12]             : AIC=1900.555, Time=0.89 sec\n",
      " ARIMA(1,0,1)(0,1,0)[12]             : AIC=1961.258, Time=0.11 sec\n",
      " ARIMA(1,0,1)(1,1,1)[12]             : AIC=1897.616, Time=1.81 sec\n",
      " ARIMA(1,0,1)(1,1,0)[12]             : AIC=1910.229, Time=0.85 sec\n",
      " ARIMA(1,0,1)(2,1,1)[12]             : AIC=1899.512, Time=3.17 sec\n",
      " ARIMA(1,0,1)(1,1,2)[12]             : AIC=1899.551, Time=2.37 sec\n",
      " ARIMA(1,0,1)(0,1,2)[12]             : AIC=1897.757, Time=2.57 sec\n",
      " ARIMA(1,0,1)(2,1,0)[12]             : AIC=1899.914, Time=2.20 sec\n",
      " ARIMA(1,0,1)(2,1,2)[12]             : AIC=inf, Time=4.21 sec\n",
      " ARIMA(0,0,1)(1,1,1)[12]             : AIC=1942.076, Time=0.38 sec\n",
      " ARIMA(1,0,0)(1,1,1)[12]             : AIC=1931.466, Time=0.41 sec\n",
      " ARIMA(2,0,1)(1,1,1)[12]             : AIC=1899.463, Time=1.49 sec\n",
      " ARIMA(1,0,2)(1,1,1)[12]             : AIC=1903.573, Time=0.82 sec\n",
      " ARIMA(0,0,0)(1,1,1)[12]             : AIC=1957.388, Time=0.28 sec\n",
      " ARIMA(0,0,2)(1,1,1)[12]             : AIC=1938.978, Time=0.57 sec\n",
      " ARIMA(2,0,0)(1,1,1)[12]             : AIC=1918.865, Time=0.56 sec\n",
      " ARIMA(2,0,2)(1,1,1)[12]             : AIC=inf, Time=2.22 sec\n",
      "\n",
      "Best model:  ARIMA(1,0,1)(1,1,1)[12]          \n",
      "Total fit time: 47.509 seconds\n"
     ]
    }
   ],
   "source": [
    "# SARIMAX = SARIMA with exogenous variable\n",
    "exo_var = 'CPI'\n",
    "model = auto_arima(train[dep_var], exogenous=train[[exo_var]],\n",
    "                           start_p=1, \n",
    "                           start_q=1,\n",
    "                           test='adf',\n",
    "                           max_p=3, max_q=3, \n",
    "                           m=12,\n",
    "                           start_P=0, \n",
    "                           seasonal=True,\n",
    "                           d=None, \n",
    "                           D=1, \n",
    "                           trace=True,\n",
    "                           error_action='ignore',  \n",
    "                           suppress_warnings=True, \n",
    "                           stepwise=True)"
   ]
  },
  {
   "cell_type": "code",
   "execution_count": 25,
   "metadata": {},
   "outputs": [],
   "source": [
    "#model.plot_diagnostics(figsize=(15,12))\n",
    "#plt.show()"
   ]
  },
  {
   "cell_type": "code",
   "execution_count": 26,
   "metadata": {},
   "outputs": [
    {
     "data": {
      "text/html": [
       "<table class=\"simpletable\">\n",
       "<caption>SARIMAX Results</caption>\n",
       "<tr>\n",
       "  <th>Dep. Variable:</th>                  <td>y</td>               <th>  No. Observations:  </th>    <td>156</td>  \n",
       "</tr>\n",
       "<tr>\n",
       "  <th>Model:</th>           <td>SARIMAX(1, 0, 1)x(1, 1, 1, 12)</td> <th>  Log Likelihood     </th> <td>-943.808</td>\n",
       "</tr>\n",
       "<tr>\n",
       "  <th>Date:</th>                   <td>Wed, 15 Feb 2023</td>        <th>  AIC                </th> <td>1897.616</td>\n",
       "</tr>\n",
       "<tr>\n",
       "  <th>Time:</th>                       <td>17:09:32</td>            <th>  BIC                </th> <td>1912.465</td>\n",
       "</tr>\n",
       "<tr>\n",
       "  <th>Sample:</th>                    <td>01-01-2007</td>           <th>  HQIC               </th> <td>1903.650</td>\n",
       "</tr>\n",
       "<tr>\n",
       "  <th></th>                          <td>- 12-01-2019</td>          <th>                     </th>     <td> </td>   \n",
       "</tr>\n",
       "<tr>\n",
       "  <th>Covariance Type:</th>               <td>opg</td>              <th>                     </th>     <td> </td>   \n",
       "</tr>\n",
       "</table>\n",
       "<table class=\"simpletable\">\n",
       "<tr>\n",
       "      <td></td>        <th>coef</th>     <th>std err</th>      <th>z</th>      <th>P>|z|</th>  <th>[0.025</th>    <th>0.975]</th>  \n",
       "</tr>\n",
       "<tr>\n",
       "  <th>ar.L1</th>    <td>    0.9801</td> <td>    0.019</td> <td>   51.499</td> <td> 0.000</td> <td>    0.943</td> <td>    1.017</td>\n",
       "</tr>\n",
       "<tr>\n",
       "  <th>ma.L1</th>    <td>   -0.7607</td> <td>    0.062</td> <td>  -12.180</td> <td> 0.000</td> <td>   -0.883</td> <td>   -0.638</td>\n",
       "</tr>\n",
       "<tr>\n",
       "  <th>ar.S.L12</th> <td>   -0.2732</td> <td>    0.107</td> <td>   -2.558</td> <td> 0.011</td> <td>   -0.483</td> <td>   -0.064</td>\n",
       "</tr>\n",
       "<tr>\n",
       "  <th>ma.S.L12</th> <td>   -0.5483</td> <td>    0.092</td> <td>   -5.988</td> <td> 0.000</td> <td>   -0.728</td> <td>   -0.369</td>\n",
       "</tr>\n",
       "<tr>\n",
       "  <th>sigma2</th>   <td> 2.733e+04</td> <td> 2670.813</td> <td>   10.233</td> <td> 0.000</td> <td> 2.21e+04</td> <td> 3.26e+04</td>\n",
       "</tr>\n",
       "</table>\n",
       "<table class=\"simpletable\">\n",
       "<tr>\n",
       "  <th>Ljung-Box (L1) (Q):</th>     <td>0.10</td> <th>  Jarque-Bera (JB):  </th> <td>9.69</td> \n",
       "</tr>\n",
       "<tr>\n",
       "  <th>Prob(Q):</th>                <td>0.76</td> <th>  Prob(JB):          </th> <td>0.01</td> \n",
       "</tr>\n",
       "<tr>\n",
       "  <th>Heteroskedasticity (H):</th> <td>9.04</td> <th>  Skew:              </th> <td>-0.32</td>\n",
       "</tr>\n",
       "<tr>\n",
       "  <th>Prob(H) (two-sided):</th>    <td>0.00</td> <th>  Kurtosis:          </th> <td>4.10</td> \n",
       "</tr>\n",
       "</table><br/><br/>Warnings:<br/>[1] Covariance matrix calculated using the outer product of gradients (complex-step)."
      ],
      "text/plain": [
       "<class 'statsmodels.iolib.summary.Summary'>\n",
       "\"\"\"\n",
       "                                     SARIMAX Results                                      \n",
       "==========================================================================================\n",
       "Dep. Variable:                                  y   No. Observations:                  156\n",
       "Model:             SARIMAX(1, 0, 1)x(1, 1, 1, 12)   Log Likelihood                -943.808\n",
       "Date:                            Wed, 15 Feb 2023   AIC                           1897.616\n",
       "Time:                                    17:09:32   BIC                           1912.465\n",
       "Sample:                                01-01-2007   HQIC                          1903.650\n",
       "                                     - 12-01-2019                                         \n",
       "Covariance Type:                              opg                                         \n",
       "==============================================================================\n",
       "                 coef    std err          z      P>|z|      [0.025      0.975]\n",
       "------------------------------------------------------------------------------\n",
       "ar.L1          0.9801      0.019     51.499      0.000       0.943       1.017\n",
       "ma.L1         -0.7607      0.062    -12.180      0.000      -0.883      -0.638\n",
       "ar.S.L12      -0.2732      0.107     -2.558      0.011      -0.483      -0.064\n",
       "ma.S.L12      -0.5483      0.092     -5.988      0.000      -0.728      -0.369\n",
       "sigma2      2.733e+04   2670.813     10.233      0.000    2.21e+04    3.26e+04\n",
       "===================================================================================\n",
       "Ljung-Box (L1) (Q):                   0.10   Jarque-Bera (JB):                 9.69\n",
       "Prob(Q):                              0.76   Prob(JB):                         0.01\n",
       "Heteroskedasticity (H):               9.04   Skew:                            -0.32\n",
       "Prob(H) (two-sided):                  0.00   Kurtosis:                         4.10\n",
       "===================================================================================\n",
       "\n",
       "Warnings:\n",
       "[1] Covariance matrix calculated using the outer product of gradients (complex-step).\n",
       "\"\"\""
      ]
     },
     "execution_count": 26,
     "metadata": {},
     "output_type": "execute_result"
    }
   ],
   "source": [
    "model.summary()"
   ]
  },
  {
   "cell_type": "code",
   "execution_count": 27,
   "metadata": {},
   "outputs": [
    {
     "name": "stdout",
     "output_type": "stream",
     "text": [
      "SARIMAX Model Performance:\n",
      "Mean Absolute Error: 350.23.\n",
      "Mean Squared Error: 155423.23.\n",
      "Root Mean Squared Error: 394.24.\n",
      "R^2 Score = -2.03.\n",
      "Mean Absolute Percentage Error: 114.19%.\n",
      "Accuracy = -14.19%.\n"
     ]
    },
    {
     "data": {
      "image/svg+xml": "<svg class=\"main-svg\" xmlns=\"http://www.w3.org/2000/svg\" xmlns:xlink=\"http://www.w3.org/1999/xlink\" width=\"1000\" height=\"600\" style=\"\" viewBox=\"0 0 1000 600\"><rect x=\"0\" y=\"0\" width=\"1000\" height=\"600\" style=\"fill: rgb(255, 255, 255); fill-opacity: 1;\"/><defs id=\"defs-f6b39c\"><g class=\"clips\"><clipPath id=\"clipf6b39cxyplot\" class=\"plotclip\"><rect width=\"791\" height=\"178.50000000000003\"/></clipPath><clipPath id=\"clipf6b39cx2y2plot\" class=\"plotclip\"><rect width=\"791\" height=\"178.5\"/></clipPath><clipPath class=\"axesclip\" id=\"clipf6b39cx\"><rect x=\"80\" y=\"0\" width=\"791\" height=\"600\"/></clipPath><clipPath class=\"axesclip\" id=\"clipf6b39cy\"><rect x=\"0\" y=\"100\" width=\"1000\" height=\"178.50000000000003\"/></clipPath><clipPath class=\"axesclip\" id=\"clipf6b39cxy\"><rect x=\"80\" y=\"100\" width=\"791\" height=\"178.50000000000003\"/></clipPath><clipPath class=\"axesclip\" id=\"clipf6b39cy2\"><rect x=\"0\" y=\"341.5\" width=\"1000\" height=\"178.5\"/></clipPath><clipPath class=\"axesclip\" id=\"clipf6b39cxy2\"><rect x=\"80\" y=\"341.5\" width=\"791\" height=\"178.5\"/></clipPath><clipPath class=\"axesclip\" id=\"clipf6b39cx2\"><rect x=\"80\" y=\"0\" width=\"791\" height=\"600\"/></clipPath><clipPath class=\"axesclip\" id=\"clipf6b39cx2y\"><rect x=\"80\" y=\"100\" width=\"791\" height=\"178.50000000000003\"/></clipPath><clipPath class=\"axesclip\" id=\"clipf6b39cx2y2\"><rect x=\"80\" y=\"341.5\" width=\"791\" height=\"178.5\"/></clipPath></g><g class=\"gradients\"/><g class=\"patterns\"/></defs><g class=\"bglayer\"><rect class=\"bg\" x=\"80\" y=\"100\" width=\"791\" height=\"178.50000000000003\" style=\"fill: rgb(229, 236, 246); fill-opacity: 1; stroke-width: 0;\"/><rect class=\"bg\" x=\"80\" y=\"341.5\" width=\"791\" height=\"178.5\" style=\"fill: rgb(229, 236, 246); fill-opacity: 1; stroke-width: 0;\"/></g><g class=\"layer-below\"><g class=\"imagelayer\"/><g class=\"shapelayer\"/></g><g class=\"cartesianlayer\"><g class=\"subplot xy\"><g class=\"layer-subplot\"><g class=\"shapelayer\"/><g class=\"imagelayer\"/></g><g class=\"minor-gridlayer\"><g class=\"x\"/><g class=\"y\"/></g><g class=\"gridlayer\"><g class=\"x\"><path class=\"xgrid crisp\" transform=\"translate(215.18,0)\" d=\"M0,100v178.50000000000003\" style=\"stroke: rgb(255, 255, 255); stroke-opacity: 1; stroke-width: 1px;\"/><path class=\"xgrid crisp\" transform=\"translate(351.84,0)\" d=\"M0,100v178.50000000000003\" style=\"stroke: rgb(255, 255, 255); stroke-opacity: 1; stroke-width: 1px;\"/><path class=\"xgrid crisp\" transform=\"translate(486.27,0)\" d=\"M0,100v178.50000000000003\" style=\"stroke: rgb(255, 255, 255); stroke-opacity: 1; stroke-width: 1px;\"/><path class=\"xgrid crisp\" transform=\"translate(622.93,0)\" d=\"M0,100v178.50000000000003\" style=\"stroke: rgb(255, 255, 255); stroke-opacity: 1; stroke-width: 1px;\"/><path class=\"xgrid crisp\" transform=\"translate(757.36,0)\" d=\"M0,100v178.50000000000003\" style=\"stroke: rgb(255, 255, 255); stroke-opacity: 1; stroke-width: 1px;\"/></g><g class=\"y\"><path class=\"ygrid crisp\" transform=\"translate(0,258.78999999999996)\" d=\"M80,0h791\" style=\"stroke: rgb(255, 255, 255); stroke-opacity: 1; stroke-width: 1px;\"/><path class=\"ygrid crisp\" transform=\"translate(0,226.1)\" d=\"M80,0h791\" style=\"stroke: rgb(255, 255, 255); stroke-opacity: 1; stroke-width: 1px;\"/><path class=\"ygrid crisp\" transform=\"translate(0,193.41)\" d=\"M80,0h791\" style=\"stroke: rgb(255, 255, 255); stroke-opacity: 1; stroke-width: 1px;\"/><path class=\"ygrid crisp\" transform=\"translate(0,160.72)\" d=\"M80,0h791\" style=\"stroke: rgb(255, 255, 255); stroke-opacity: 1; stroke-width: 1px;\"/><path class=\"ygrid crisp\" transform=\"translate(0,128.04)\" d=\"M80,0h791\" style=\"stroke: rgb(255, 255, 255); stroke-opacity: 1; stroke-width: 1px;\"/></g></g><g class=\"zerolinelayer\"/><path class=\"xlines-below\"/><path class=\"ylines-below\"/><g class=\"overlines-below\"/><g class=\"xaxislayer-below\"/><g class=\"yaxislayer-below\"/><g class=\"overaxes-below\"/><g class=\"plot\" transform=\"translate(80,100)\" clip-path=\"url(#clipf6b39cxyplot)\"><g class=\"scatterlayer mlayer\"><g class=\"trace scatter trace1346c5\" style=\"stroke-miterlimit: 2; opacity: 1;\"><g class=\"fills\"/><g class=\"errorbars\"/><g class=\"lines\"><path class=\"js-line\" d=\"M0,34.74L23.02,33.59L44.56,85.89L67.59,169.58L89.87,155.36L112.89,55.66L135.18,121.52L158.2,122.83L181.22,46.18L203.51,101.91L226.53,106L248.81,107.96L271.84,56.8L294.86,122.34L315.66,60.56L338.68,121.85L360.96,129.53L383.99,126.43L406.27,152.41L429.29,153.56L452.32,134.6L474.6,120.54L497.62,121.69L519.91,156.66L542.93,161.89L565.95,151.76L586.75,96.84L609.78,144.41L632.06,147.84L655.08,145.22L677.36,154.7L700.39,135.42L723.41,136.4L768.72,141.63L791,133.13\" style=\"vector-effect: non-scaling-stroke; fill: none; stroke: rgb(99, 110, 250); stroke-opacity: 1; stroke-width: 2px; opacity: 1;\"/></g><g class=\"points\"/><g class=\"text\"/></g><g class=\"trace scatter traced03acb\" style=\"stroke-miterlimit: 2; opacity: 1;\"><g class=\"fills\"/><g class=\"errorbars\"/><g class=\"lines\"><path class=\"js-line\" d=\"M0,67.56L23.02,32.71L44.56,9.16L67.59,119.76L89.87,64.63L112.89,52.44L135.18,67.93L158.2,76.63L181.22,78L203.51,73.33L226.53,89.96L248.81,73.57L271.84,72.79L294.86,37.57L315.66,12.58L338.68,121.56L360.96,65.89L383.99,54.24L406.27,70.29L429.29,78.62L452.32,79.46L474.6,73L497.62,89.1L519.91,73.23L542.93,70.32L565.95,34.25L586.75,8.93L609.78,116.37L632.06,59.85L655.08,46.81L677.36,61.7L700.39,70.02L723.41,69.52L745.69,64.31L768.72,83.43L791,67.31\" style=\"vector-effect: non-scaling-stroke; fill: none; stroke: rgb(239, 85, 59); stroke-opacity: 1; stroke-width: 2px; opacity: 1;\"/></g><g class=\"points\"/><g class=\"text\"/></g></g></g><g class=\"overplot\"/><path class=\"xlines-above crisp\" d=\"M0,0\" style=\"fill: none;\"/><path class=\"ylines-above crisp\" d=\"M0,0\" style=\"fill: none;\"/><g class=\"overlines-above\"/><g class=\"xaxislayer-above\"><g class=\"xtick\"><text text-anchor=\"middle\" x=\"0\" y=\"291.5\" transform=\"translate(80,0)\" style=\"font-family: 'Open Sans', verdana, arial, sans-serif; font-size: 12px; fill: rgb(42, 63, 95); fill-opacity: 1; white-space: pre; opacity: 1;\">Jan 2020</text></g><g class=\"xtick\"><text text-anchor=\"middle\" x=\"0\" y=\"291.5\" style=\"font-family: 'Open Sans', verdana, arial, sans-serif; font-size: 12px; fill: rgb(42, 63, 95); fill-opacity: 1; white-space: pre; opacity: 1;\" transform=\"translate(215.18,0)\">Jul 2020</text></g><g class=\"xtick\"><text text-anchor=\"middle\" x=\"0\" y=\"291.5\" style=\"font-family: 'Open Sans', verdana, arial, sans-serif; font-size: 12px; fill: rgb(42, 63, 95); fill-opacity: 1; white-space: pre; opacity: 1;\" transform=\"translate(351.84,0)\">Jan 2021</text></g><g class=\"xtick\"><text text-anchor=\"middle\" x=\"0\" y=\"291.5\" style=\"font-family: 'Open Sans', verdana, arial, sans-serif; font-size: 12px; fill: rgb(42, 63, 95); fill-opacity: 1; white-space: pre; opacity: 1;\" transform=\"translate(486.27,0)\">Jul 2021</text></g><g class=\"xtick\"><text text-anchor=\"middle\" x=\"0\" y=\"291.5\" style=\"font-family: 'Open Sans', verdana, arial, sans-serif; font-size: 12px; fill: rgb(42, 63, 95); fill-opacity: 1; white-space: pre; opacity: 1;\" transform=\"translate(622.93,0)\">Jan 2022</text></g><g class=\"xtick\"><text text-anchor=\"middle\" x=\"0\" y=\"291.5\" style=\"font-family: 'Open Sans', verdana, arial, sans-serif; font-size: 12px; fill: rgb(42, 63, 95); fill-opacity: 1; white-space: pre; opacity: 1;\" transform=\"translate(757.36,0)\">Jul 2022</text></g></g><g class=\"yaxislayer-above\"><g class=\"ytick\"><text text-anchor=\"end\" x=\"79\" y=\"4.199999999999999\" transform=\"translate(0,258.78999999999996)\" style=\"font-family: 'Open Sans', verdana, arial, sans-serif; font-size: 12px; fill: rgb(42, 63, 95); fill-opacity: 1; white-space: pre; opacity: 1;\">200</text></g><g class=\"ytick\"><text text-anchor=\"end\" x=\"79\" y=\"4.199999999999999\" style=\"font-family: 'Open Sans', verdana, arial, sans-serif; font-size: 12px; fill: rgb(42, 63, 95); fill-opacity: 1; white-space: pre; opacity: 1;\" transform=\"translate(0,226.1)\">400</text></g><g class=\"ytick\"><text text-anchor=\"end\" x=\"79\" y=\"4.199999999999999\" style=\"font-family: 'Open Sans', verdana, arial, sans-serif; font-size: 12px; fill: rgb(42, 63, 95); fill-opacity: 1; white-space: pre; opacity: 1;\" transform=\"translate(0,193.41)\">600</text></g><g class=\"ytick\"><text text-anchor=\"end\" x=\"79\" y=\"4.199999999999999\" style=\"font-family: 'Open Sans', verdana, arial, sans-serif; font-size: 12px; fill: rgb(42, 63, 95); fill-opacity: 1; white-space: pre; opacity: 1;\" transform=\"translate(0,160.72)\">800</text></g><g class=\"ytick\"><text text-anchor=\"end\" x=\"79\" y=\"4.199999999999999\" style=\"font-family: 'Open Sans', verdana, arial, sans-serif; font-size: 12px; fill: rgb(42, 63, 95); fill-opacity: 1; white-space: pre; opacity: 1;\" transform=\"translate(0,128.04)\">1000</text></g></g><g class=\"overaxes-above\"/></g><g class=\"subplot x2y2\"><g class=\"layer-subplot\"><g class=\"shapelayer\"/><g class=\"imagelayer\"/></g><g class=\"minor-gridlayer\"><g class=\"x2\"/><g class=\"y2\"/></g><g class=\"gridlayer\"><g class=\"x2\"><path class=\"x2grid crisp\" transform=\"translate(129.67000000000002,0)\" d=\"M0,341.5v178.5\" style=\"stroke: rgb(255, 255, 255); stroke-opacity: 1; stroke-width: 1px;\"/><path class=\"x2grid crisp\" transform=\"translate(229.14,0)\" d=\"M0,341.5v178.5\" style=\"stroke: rgb(255, 255, 255); stroke-opacity: 1; stroke-width: 1px;\"/><path class=\"x2grid crisp\" transform=\"translate(328.47,0)\" d=\"M0,341.5v178.5\" style=\"stroke: rgb(255, 255, 255); stroke-opacity: 1; stroke-width: 1px;\"/><path class=\"x2grid crisp\" transform=\"translate(427.94,0)\" d=\"M0,341.5v178.5\" style=\"stroke: rgb(255, 255, 255); stroke-opacity: 1; stroke-width: 1px;\"/><path class=\"x2grid crisp\" transform=\"translate(527.28,0)\" d=\"M0,341.5v178.5\" style=\"stroke: rgb(255, 255, 255); stroke-opacity: 1; stroke-width: 1px;\"/><path class=\"x2grid crisp\" transform=\"translate(626.75,0)\" d=\"M0,341.5v178.5\" style=\"stroke: rgb(255, 255, 255); stroke-opacity: 1; stroke-width: 1px;\"/><path class=\"x2grid crisp\" transform=\"translate(726.08,0)\" d=\"M0,341.5v178.5\" style=\"stroke: rgb(255, 255, 255); stroke-opacity: 1; stroke-width: 1px;\"/><path class=\"x2grid crisp\" transform=\"translate(825.55,0)\" d=\"M0,341.5v178.5\" style=\"stroke: rgb(255, 255, 255); stroke-opacity: 1; stroke-width: 1px;\"/></g><g class=\"y2\"><path class=\"y2grid crisp\" transform=\"translate(0,471.1)\" d=\"M80,0h791\" style=\"stroke: rgb(255, 255, 255); stroke-opacity: 1; stroke-width: 1px;\"/><path class=\"y2grid crisp\" transform=\"translate(0,416.5)\" d=\"M80,0h791\" style=\"stroke: rgb(255, 255, 255); stroke-opacity: 1; stroke-width: 1px;\"/><path class=\"y2grid crisp\" transform=\"translate(0,361.89)\" d=\"M80,0h791\" style=\"stroke: rgb(255, 255, 255); stroke-opacity: 1; stroke-width: 1px;\"/></g></g><g class=\"zerolinelayer\"/><path class=\"xlines-below\"/><path class=\"ylines-below\"/><g class=\"overlines-below\"/><g class=\"xaxislayer-below\"/><g class=\"yaxislayer-below\"/><g class=\"overaxes-below\"/><g class=\"plot\" transform=\"translate(80,341.5)\" clip-path=\"url(#clipf6b39cx2y2plot)\"><g class=\"scatterlayer mlayer\"><g class=\"trace scatter trace890107\" style=\"stroke-miterlimit: 2; opacity: 1;\"><g class=\"fills\"/><g class=\"errorbars\"/><g class=\"lines\"><path class=\"js-line\" d=\"M0,148.06L4.22,151.56L8.03,142.93L12.25,155.05L16.33,147.41L20.55,135.61L24.63,161.49L28.85,149.37L33.07,139.76L37.15,134.95L41.37,148.82L45.45,143.47L49.67,140.42L53.89,137.58L57.83,127.2L62.05,147.84L66.13,143.26L70.35,127.2L74.43,145.88L78.65,149.37L82.87,140.74L86.95,141.73L91.17,146.75L95.25,155.49L99.47,145L103.69,131.57L107.5,142.38L111.72,132.12L115.8,148.93L120.02,143.36L124.1,150.79L128.32,140.96L132.54,126L136.62,143.36L140.84,139.54L144.92,144.35L149.14,136.7L153.36,141.51L157.17,134.52L161.38,146.31L165.47,136.27L169.68,135.17L173.77,142.38L177.99,140.2L182.2,144.13L186.29,134.74L190.5,137.03L194.59,136.81L198.8,138.34L203.02,131.57L206.83,108.53L211.05,130.59L215.13,127.09L219.35,125.67L223.43,144.78L227.65,133.64L231.87,120.32L235.95,129.17L240.17,119.23L244.25,134.08L248.47,132.01L252.69,109.73L256.64,127.64L260.85,148.28L264.94,139.11L269.15,125.56L273.24,126.33L277.46,123.16L281.67,115.52L285.76,111.8L289.97,104.27L294.06,97.06L298.27,101.75L302.49,102.08L306.3,69.32L310.52,112.35L314.6,86.9L318.82,65.5L322.9,76.09L327.12,86.03L331.34,72.16L335.42,60.25L339.64,101.86L343.72,108.96L347.94,105.8L352.16,109.51L355.97,50.21L360.19,111.91L364.27,101.1L368.49,85.7L372.57,95.64L376.79,91.16L381.01,79.37L385.09,94.55L389.31,94.11L393.39,56.43L397.61,102.96L401.83,99.35L405.64,13.51L409.86,143.47L413.94,57.52L418.16,75.76L422.24,82.97L426.46,89.96L430.68,93.02L434.76,86.9L438.98,105.9L443.06,102.41L447.28,96.51L451.49,74.23L455.44,100.23L459.66,119.23L463.74,76.96L467.96,55.45L472.04,71.39L476.26,118.03L480.48,76.42L484.56,93.67L488.78,82.75L492.86,69.1L497.08,82.75L501.3,39.18L505.11,8.93L509.33,118.03L513.41,57.2L517.63,76.53L521.71,105.8L525.93,73.58L530.15,63.86L534.23,78.71L538.45,75L542.53,42.02L546.75,74.45L550.96,55.78L554.77,52.72L558.99,102.63L563.08,63.75L567.29,83.41L571.38,71.18L575.59,60.8L579.81,119.67L583.89,99.57L588.11,123.6L592.2,97.28L596.41,79.26L600.63,43.11L604.44,33.17L608.66,136.7L612.74,111.26L616.96,71.5L621.04,87.45L625.26,114.64L629.48,102.96L633.56,91.05L637.78,109.73L641.86,118.35\" style=\"vector-effect: non-scaling-stroke; fill: none; stroke: rgb(0, 204, 150); stroke-opacity: 1; stroke-width: 2px; opacity: 1;\"/></g><g class=\"points\"/><g class=\"text\"/></g><g class=\"trace scatter trace8c00e8\" style=\"stroke-miterlimit: 2; opacity: 1;\"><g class=\"fills\"/><g class=\"errorbars\"/><g class=\"lines\"><path class=\"js-line\" d=\"M646.08,79.48L650.3,78.71L654.25,113.66L658.46,169.58L662.55,160.07L666.76,93.45L670.85,137.47L675.06,138.34L679.28,87.12L683.37,124.36L687.58,127.09L691.67,128.4L695.88,94.22L700.1,138.01L703.91,96.73L708.13,137.69L712.21,142.82L716.43,140.74L720.51,158.11L724.73,158.87L728.95,146.2L733.03,136.81L737.25,137.58L741.33,160.95L745.55,164.44L749.77,157.67L753.58,120.98L757.8,152.76L761.88,155.05L766.1,153.3L770.18,159.64L774.4,146.75L778.62,147.41L786.92,150.9L791,145.22\" style=\"vector-effect: non-scaling-stroke; fill: none; stroke: rgb(171, 99, 250); stroke-opacity: 1; stroke-width: 2px; opacity: 1;\"/></g><g class=\"points\"/><g class=\"text\"/></g><g class=\"trace scatter trace5cf042\" style=\"stroke-miterlimit: 2; opacity: 1;\"><g class=\"fills\"/><g class=\"errorbars\"/><g class=\"lines\"><path class=\"js-line\" d=\"M646.08,101.41L650.3,78.12L654.25,62.39L658.46,136.29L662.55,99.45L666.76,91.31L670.85,101.65L675.06,107.47L679.28,108.38L683.37,105.26L687.58,116.38L691.67,105.42L695.88,104.9L700.1,81.37L703.91,64.67L708.13,137.49L712.21,100.29L716.43,92.51L720.51,103.23L724.73,108.8L728.95,109.36L733.03,105.04L737.25,115.8L741.33,105.2L745.55,103.25L749.77,79.15L753.58,62.23L757.8,134.03L761.88,96.26L766.1,87.54L770.18,97.49L774.4,103.05L778.62,102.72L782.7,99.24L786.92,112.01L791,101.24\" style=\"vector-effect: non-scaling-stroke; fill: none; stroke: rgb(255, 161, 90); stroke-opacity: 1; stroke-width: 2px; opacity: 1;\"/></g><g class=\"points\"/><g class=\"text\"/></g></g></g><g class=\"overplot\"/><path class=\"xlines-above crisp\" d=\"M0,0\" style=\"fill: none;\"/><path class=\"ylines-above crisp\" d=\"M0,0\" style=\"fill: none;\"/><g class=\"overlines-above\"/><g class=\"xaxislayer-above\"><g class=\"x2tick\"><text text-anchor=\"middle\" x=\"0\" y=\"533\" transform=\"translate(129.67000000000002,0)\" style=\"font-family: 'Open Sans', verdana, arial, sans-serif; font-size: 12px; fill: rgb(42, 63, 95); fill-opacity: 1; white-space: pre; opacity: 1;\">2008</text></g><g class=\"x2tick\"><text text-anchor=\"middle\" x=\"0\" y=\"533\" style=\"font-family: 'Open Sans', verdana, arial, sans-serif; font-size: 12px; fill: rgb(42, 63, 95); fill-opacity: 1; white-space: pre; opacity: 1;\" transform=\"translate(229.14,0)\">2010</text></g><g class=\"x2tick\"><text text-anchor=\"middle\" x=\"0\" y=\"533\" style=\"font-family: 'Open Sans', verdana, arial, sans-serif; font-size: 12px; fill: rgb(42, 63, 95); fill-opacity: 1; white-space: pre; opacity: 1;\" transform=\"translate(328.47,0)\">2012</text></g><g class=\"x2tick\"><text text-anchor=\"middle\" x=\"0\" y=\"533\" style=\"font-family: 'Open Sans', verdana, arial, sans-serif; font-size: 12px; fill: rgb(42, 63, 95); fill-opacity: 1; white-space: pre; opacity: 1;\" transform=\"translate(427.94,0)\">2014</text></g><g class=\"x2tick\"><text text-anchor=\"middle\" x=\"0\" y=\"533\" style=\"font-family: 'Open Sans', verdana, arial, sans-serif; font-size: 12px; fill: rgb(42, 63, 95); fill-opacity: 1; white-space: pre; opacity: 1;\" transform=\"translate(527.28,0)\">2016</text></g><g class=\"x2tick\"><text text-anchor=\"middle\" x=\"0\" y=\"533\" style=\"font-family: 'Open Sans', verdana, arial, sans-serif; font-size: 12px; fill: rgb(42, 63, 95); fill-opacity: 1; white-space: pre; opacity: 1;\" transform=\"translate(626.75,0)\">2018</text></g><g class=\"x2tick\"><text text-anchor=\"middle\" x=\"0\" y=\"533\" style=\"font-family: 'Open Sans', verdana, arial, sans-serif; font-size: 12px; fill: rgb(42, 63, 95); fill-opacity: 1; white-space: pre; opacity: 1;\" transform=\"translate(726.08,0)\">2020</text></g><g class=\"x2tick\"><text text-anchor=\"middle\" x=\"0\" y=\"533\" style=\"font-family: 'Open Sans', verdana, arial, sans-serif; font-size: 12px; fill: rgb(42, 63, 95); fill-opacity: 1; white-space: pre; opacity: 1;\" transform=\"translate(825.55,0)\">2022</text></g></g><g class=\"yaxislayer-above\"><g class=\"y2tick\"><text text-anchor=\"end\" x=\"79\" y=\"4.199999999999999\" transform=\"translate(0,471.1)\" style=\"font-family: 'Open Sans', verdana, arial, sans-serif; font-size: 12px; fill: rgb(42, 63, 95); fill-opacity: 1; white-space: pre; opacity: 1;\">500</text></g><g class=\"y2tick\"><text text-anchor=\"end\" x=\"79\" y=\"4.199999999999999\" style=\"font-family: 'Open Sans', verdana, arial, sans-serif; font-size: 12px; fill: rgb(42, 63, 95); fill-opacity: 1; white-space: pre; opacity: 1;\" transform=\"translate(0,416.5)\">1000</text></g><g class=\"y2tick\"><text text-anchor=\"end\" x=\"79\" y=\"4.199999999999999\" style=\"font-family: 'Open Sans', verdana, arial, sans-serif; font-size: 12px; fill: rgb(42, 63, 95); fill-opacity: 1; white-space: pre; opacity: 1;\" transform=\"translate(0,361.89)\">1500</text></g></g><g class=\"overaxes-above\"/></g></g><g class=\"polarlayer\"/><g class=\"smithlayer\"/><g class=\"ternarylayer\"/><g class=\"geolayer\"/><g class=\"funnelarealayer\"/><g class=\"pielayer\"/><g class=\"iciclelayer\"/><g class=\"treemaplayer\"/><g class=\"sunburstlayer\"/><g class=\"glimages\"/><defs id=\"topdefs-f6b39c\"><g class=\"clips\"/><clipPath id=\"legendf6b39c\"><rect width=\"101\" height=\"115\" x=\"0\" y=\"0\"/></clipPath></defs><g class=\"layer-above\"><g class=\"imagelayer\"/><g class=\"shapelayer\"/></g><g class=\"infolayer\"><g class=\"legend\" pointer-events=\"all\" transform=\"translate(886.82,100)\"><rect class=\"bg\" shape-rendering=\"crispEdges\" width=\"101\" height=\"115\" x=\"0\" y=\"0\" style=\"stroke: rgb(68, 68, 68); stroke-opacity: 1; fill: rgb(255, 255, 255); fill-opacity: 1; stroke-width: 0px;\"/><g class=\"scrollbox\" transform=\"\" clip-path=\"url(#legendf6b39c)\"><g class=\"groups\" transform=\"\"><g class=\"traces\" transform=\"translate(0,14.5)\" style=\"opacity: 1;\"><text class=\"legendtext\" text-anchor=\"start\" x=\"40\" y=\"4.680000000000001\" style=\"font-family: 'Open Sans', verdana, arial, sans-serif; font-size: 12px; fill: rgb(42, 63, 95); fill-opacity: 1; white-space: pre;\">Actual</text><g class=\"layers\" style=\"opacity: 1;\"><g class=\"legendfill\"/><g class=\"legendlines\"><path class=\"js-line\" d=\"M5,0h30\" style=\"fill: none; stroke: rgb(99, 110, 250); stroke-opacity: 1; stroke-width: 2px;\"/></g><g class=\"legendsymbols\"><g class=\"legendpoints\"/></g></g><rect class=\"legendtoggle\" x=\"0\" y=\"-9.5\" width=\"95.890625\" height=\"19\" style=\"fill: rgb(0, 0, 0); fill-opacity: 0;\"/></g><g class=\"traces\" transform=\"translate(0,33.5)\" style=\"opacity: 1;\"><text class=\"legendtext\" text-anchor=\"start\" x=\"40\" y=\"4.680000000000001\" style=\"font-family: 'Open Sans', verdana, arial, sans-serif; font-size: 12px; fill: rgb(42, 63, 95); fill-opacity: 1; white-space: pre;\">Predicted</text><g class=\"layers\" style=\"opacity: 1;\"><g class=\"legendfill\"/><g class=\"legendlines\"><path class=\"js-line\" d=\"M5,0h30\" style=\"fill: none; stroke: rgb(239, 85, 59); stroke-opacity: 1; stroke-width: 2px;\"/></g><g class=\"legendsymbols\"><g class=\"legendpoints\"/></g></g><rect class=\"legendtoggle\" x=\"0\" y=\"-9.5\" width=\"95.890625\" height=\"19\" style=\"fill: rgb(0, 0, 0); fill-opacity: 0;\"/></g></g><g class=\"groups\" transform=\"translate(0,10)\"><g class=\"traces\" transform=\"translate(0,52.5)\" style=\"opacity: 1;\"><text class=\"legendtext\" text-anchor=\"start\" x=\"40\" y=\"4.680000000000001\" style=\"font-family: 'Open Sans', verdana, arial, sans-serif; font-size: 12px; fill: rgb(42, 63, 95); fill-opacity: 1; white-space: pre;\">Train</text><g class=\"layers\" style=\"opacity: 1;\"><g class=\"legendfill\"/><g class=\"legendlines\"><path class=\"js-line\" d=\"M5,0h30\" style=\"fill: none; stroke: rgb(0, 204, 150); stroke-opacity: 1; stroke-width: 2px;\"/></g><g class=\"legendsymbols\"><g class=\"legendpoints\"/></g></g><rect class=\"legendtoggle\" x=\"0\" y=\"-9.5\" width=\"95.890625\" height=\"19\" style=\"fill: rgb(0, 0, 0); fill-opacity: 0;\"/></g><g class=\"traces\" transform=\"translate(0,71.5)\" style=\"opacity: 1;\"><text class=\"legendtext\" text-anchor=\"start\" x=\"40\" y=\"4.680000000000001\" style=\"font-family: 'Open Sans', verdana, arial, sans-serif; font-size: 12px; fill: rgb(42, 63, 95); fill-opacity: 1; white-space: pre;\">Test</text><g class=\"layers\" style=\"opacity: 1;\"><g class=\"legendfill\"/><g class=\"legendlines\"><path class=\"js-line\" d=\"M5,0h30\" style=\"fill: none; stroke: rgb(171, 99, 250); stroke-opacity: 1; stroke-width: 2px;\"/></g><g class=\"legendsymbols\"><g class=\"legendpoints\"/></g></g><rect class=\"legendtoggle\" x=\"0\" y=\"-9.5\" width=\"95.890625\" height=\"19\" style=\"fill: rgb(0, 0, 0); fill-opacity: 0;\"/></g><g class=\"traces\" transform=\"translate(0,90.5)\" style=\"opacity: 1;\"><text class=\"legendtext\" text-anchor=\"start\" x=\"40\" y=\"4.680000000000001\" style=\"font-family: 'Open Sans', verdana, arial, sans-serif; font-size: 12px; fill: rgb(42, 63, 95); fill-opacity: 1; white-space: pre;\">Forecast</text><g class=\"layers\" style=\"opacity: 1;\"><g class=\"legendfill\"/><g class=\"legendlines\"><path class=\"js-line\" d=\"M5,0h30\" style=\"fill: none; stroke: rgb(255, 161, 90); stroke-opacity: 1; stroke-width: 2px;\"/></g><g class=\"legendsymbols\"><g class=\"legendpoints\"/></g></g><rect class=\"legendtoggle\" x=\"0\" y=\"-9.5\" width=\"95.890625\" height=\"19\" style=\"fill: rgb(0, 0, 0); fill-opacity: 0;\"/></g></g></g><rect class=\"scrollbar\" rx=\"20\" ry=\"3\" width=\"0\" height=\"0\" x=\"0\" y=\"0\" style=\"fill: rgb(128, 139, 164); fill-opacity: 1;\"/></g><g class=\"g-gtitle\"><text class=\"gtitle\" x=\"50\" y=\"50\" text-anchor=\"start\" dy=\"0em\" style=\"font-family: 'Open Sans', verdana, arial, sans-serif; font-size: 17px; fill: rgb(42, 63, 95); opacity: 1; font-weight: normal; white-space: pre;\">SARIMAX Predictions - DEN</text></g><g class=\"g-xtitle\"/><g class=\"g-x2title\"/><g class=\"g-ytitle\"/><g class=\"g-y2title\"/></g></svg>"
     },
     "metadata": {},
     "output_type": "display_data"
    }
   ],
   "source": [
    "model_name='SARIMAX'\n",
    "\n",
    "# Build model\n",
    "model = sm.tsa.statespace.SARIMAX(train[dep_var],order=(0,1,2),seasonal_order=(0,1,1,12),exog = train[exo_var]).fit()\n",
    "\n",
    "# Predict\n",
    "predictions = model.predict(start=start, end=end, exog = test[exo_var],  dynamic=False, typ='levels')\n",
    "\n",
    "# Forecast accuracy\n",
    "forecast_accuracy(model_name, test[dep_var], predictions, True, True)"
   ]
  },
  {
   "attachments": {},
   "cell_type": "markdown",
   "metadata": {},
   "source": [
    "### Summary"
   ]
  },
  {
   "cell_type": "code",
   "execution_count": 28,
   "metadata": {},
   "outputs": [
    {
     "data": {
      "text/html": [
       "<div>\n",
       "<style scoped>\n",
       "    .dataframe tbody tr th:only-of-type {\n",
       "        vertical-align: middle;\n",
       "    }\n",
       "\n",
       "    .dataframe tbody tr th {\n",
       "        vertical-align: top;\n",
       "    }\n",
       "\n",
       "    .dataframe thead th {\n",
       "        text-align: right;\n",
       "    }\n",
       "</style>\n",
       "<table border=\"1\" class=\"dataframe\">\n",
       "  <thead>\n",
       "    <tr style=\"text-align: right;\">\n",
       "      <th></th>\n",
       "      <th>Simple Exponential Smoothing</th>\n",
       "      <th>Double Exponential Smoothing</th>\n",
       "      <th>Triple Exponential Smoothing</th>\n",
       "      <th>ARIMA</th>\n",
       "      <th>SARIMA</th>\n",
       "      <th>SARIMAX</th>\n",
       "    </tr>\n",
       "  </thead>\n",
       "  <tbody>\n",
       "    <tr>\n",
       "      <th>Mean Absolute Error</th>\n",
       "      <td>374.545492</td>\n",
       "      <td>288.545607</td>\n",
       "      <td>400.502355</td>\n",
       "      <td>364.697824</td>\n",
       "      <td>333.457051</td>\n",
       "      <td>350.230140</td>\n",
       "    </tr>\n",
       "    <tr>\n",
       "      <th>Mean Squared Error</th>\n",
       "      <td>169685.476561</td>\n",
       "      <td>98992.434108</td>\n",
       "      <td>200168.540882</td>\n",
       "      <td>159735.582476</td>\n",
       "      <td>144602.135054</td>\n",
       "      <td>155423.228349</td>\n",
       "    </tr>\n",
       "    <tr>\n",
       "      <th>Root Mean Squared Error</th>\n",
       "      <td>411.928970</td>\n",
       "      <td>314.630631</td>\n",
       "      <td>447.401990</td>\n",
       "      <td>399.669341</td>\n",
       "      <td>380.265874</td>\n",
       "      <td>394.237528</td>\n",
       "    </tr>\n",
       "    <tr>\n",
       "      <th>R^2</th>\n",
       "      <td>-2.312484</td>\n",
       "      <td>-0.932463</td>\n",
       "      <td>-2.907554</td>\n",
       "      <td>-2.118249</td>\n",
       "      <td>-1.822824</td>\n",
       "      <td>-2.034066</td>\n",
       "    </tr>\n",
       "    <tr>\n",
       "      <th>Mean Absolute Percentage Error</th>\n",
       "      <td>128.569802</td>\n",
       "      <td>98.833540</td>\n",
       "      <td>130.888264</td>\n",
       "      <td>124.906428</td>\n",
       "      <td>108.390273</td>\n",
       "      <td>114.186669</td>\n",
       "    </tr>\n",
       "    <tr>\n",
       "      <th>Accuracy</th>\n",
       "      <td>-28.569802</td>\n",
       "      <td>1.166460</td>\n",
       "      <td>-30.888264</td>\n",
       "      <td>-24.906428</td>\n",
       "      <td>-8.390273</td>\n",
       "      <td>-14.186669</td>\n",
       "    </tr>\n",
       "  </tbody>\n",
       "</table>\n",
       "</div>"
      ],
      "text/plain": [
       "                                Simple Exponential Smoothing  \\\n",
       "Mean Absolute Error                               374.545492   \n",
       "Mean Squared Error                             169685.476561   \n",
       "Root Mean Squared Error                           411.928970   \n",
       "R^2                                                -2.312484   \n",
       "Mean Absolute Percentage Error                    128.569802   \n",
       "Accuracy                                          -28.569802   \n",
       "\n",
       "                                Double Exponential Smoothing  \\\n",
       "Mean Absolute Error                               288.545607   \n",
       "Mean Squared Error                              98992.434108   \n",
       "Root Mean Squared Error                           314.630631   \n",
       "R^2                                                -0.932463   \n",
       "Mean Absolute Percentage Error                     98.833540   \n",
       "Accuracy                                            1.166460   \n",
       "\n",
       "                                Triple Exponential Smoothing          ARIMA  \\\n",
       "Mean Absolute Error                               400.502355     364.697824   \n",
       "Mean Squared Error                             200168.540882  159735.582476   \n",
       "Root Mean Squared Error                           447.401990     399.669341   \n",
       "R^2                                                -2.907554      -2.118249   \n",
       "Mean Absolute Percentage Error                    130.888264     124.906428   \n",
       "Accuracy                                          -30.888264     -24.906428   \n",
       "\n",
       "                                       SARIMA        SARIMAX  \n",
       "Mean Absolute Error                333.457051     350.230140  \n",
       "Mean Squared Error              144602.135054  155423.228349  \n",
       "Root Mean Squared Error            380.265874     394.237528  \n",
       "R^2                                 -1.822824      -2.034066  \n",
       "Mean Absolute Percentage Error     108.390273     114.186669  \n",
       "Accuracy                            -8.390273     -14.186669  "
      ]
     },
     "execution_count": 28,
     "metadata": {},
     "output_type": "execute_result"
    }
   ],
   "source": [
    "metrics"
   ]
  },
  {
   "cell_type": "code",
   "execution_count": 29,
   "metadata": {},
   "outputs": [
    {
     "data": {
      "image/png": "[encoded data removed]",
      "text/plain": [
       "<Figure size 1080x504 with 1 Axes>"
      ]
     },
     "metadata": {
      "needs_background": "light"
     },
     "output_type": "display_data"
    }
   ],
   "source": [
    "chart = metrics.transpose()\n",
    "chart.drop(['Mean Squared Error', 'R^2', 'Accuracy'], axis=1, inplace=True)\n",
    "\n",
    "ax = chart.plot.bar(title=\"Statistical Models Performance - \" + country, figsize=(15,7))\n",
    "for container in ax.containers:\n",
    "    ax.bar_label(container)"
   ]
  },
  {
   "cell_type": "code",
   "execution_count": null,
   "metadata": {},
   "outputs": [],
   "source": []
  }
 ],
 "metadata": {
  "kernelspec": {
   "display_name": "base",
   "language": "python",
   "name": "python3"
  },
  "language_info": {
   "codemirror_mode": {
    "name": "ipython",
    "version": 3
   },
   "file_extension": ".py",
   "mimetype": "text/x-python",
   "name": "python",
   "nbconvert_exporter": "python",
   "pygments_lexer": "ipython3",
   "version": "3.8.12"
  },
  "orig_nbformat": 4,
  "vscode": {
   "interpreter": {
    "hash": "ad2bdc8ecc057115af97d19610ffacc2b4e99fae6737bb82f5d7fb13d2f2c186"
   }
  }
 },
 "nbformat": 4,
 "nbformat_minor": 2
}
