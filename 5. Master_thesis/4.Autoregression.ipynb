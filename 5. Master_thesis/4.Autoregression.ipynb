{
 "cells": [
  {
   "attachments": {},
   "cell_type": "markdown",
   "metadata": {},
   "source": [
    "#### Import libraries"
   ]
  },
  {
   "cell_type": "code",
   "execution_count": 1,
   "metadata": {},
   "outputs": [],
   "source": [
    "import pandas as pd\n",
    "import math\n",
    "import numpy as np\n",
    "\n",
    "from sklearn.metrics import mean_squared_error\n",
    "from sklearn.metrics import r2_score\n",
    "\n",
    "import statsmodels.api as sm\n",
    "from statsmodels.tsa.stattools import acf\n",
    "from statsmodels.tsa.holtwinters import SimpleExpSmoothing\n",
    "from statsmodels.tsa.holtwinters import ExponentialSmoothing\n",
    "\n",
    "import pmdarima as pm\n",
    "from pmdarima import auto_arima\n",
    "\n",
    "import matplotlib.pyplot as plt\n",
    "import plotly.graph_objs as go\n",
    "from plotly.subplots import make_subplots\n",
    "\n",
    "import plotly.io as pio"
   ]
  },
  {
   "cell_type": "code",
   "execution_count": 2,
   "metadata": {},
   "outputs": [],
   "source": [
    "# To render plotly into GitHub\n",
    "pio.renderers.default = \"svg\""
   ]
  },
  {
   "cell_type": "code",
   "execution_count": 3,
   "metadata": {},
   "outputs": [],
   "source": [
    "# Select country in analysis ('FIN', 'DEN', 'NOR', 'SWE')\n",
    "country = 'DEN'\n",
    "\n",
    "# Dependant variable\n",
    "dep_var = 'TIV'     \n",
    "\n",
    "# Exogenous variable for SARIMAX\n",
    "exo_var = 'Orders'"
   ]
  },
  {
   "attachments": {},
   "cell_type": "markdown",
   "metadata": {},
   "source": [
    "### Load Data"
   ]
  },
  {
   "cell_type": "code",
   "execution_count": 4,
   "metadata": {},
   "outputs": [],
   "source": [
    "# Input path and filename\n",
    "path = '../5. Master_thesis/Datasets/Output_files/'\n",
    "\n",
    "# Load files into a pandas dataframes\n",
    "file = path + '0.xlsx'\n",
    "df = pd.read_excel(file, sheet_name=country)\n",
    "\n",
    "# Set index  \n",
    "df = df.set_index(\"Date\").asfreq('MS')"
   ]
  },
  {
   "cell_type": "code",
   "execution_count": 5,
   "metadata": {},
   "outputs": [
    {
     "data": {
      "text/html": [
       "<div>\n",
       "<style scoped>\n",
       "    .dataframe tbody tr th:only-of-type {\n",
       "        vertical-align: middle;\n",
       "    }\n",
       "\n",
       "    .dataframe tbody tr th {\n",
       "        vertical-align: top;\n",
       "    }\n",
       "\n",
       "    .dataframe thead th {\n",
       "        text-align: right;\n",
       "    }\n",
       "</style>\n",
       "<table border=\"1\" class=\"dataframe\">\n",
       "  <thead>\n",
       "    <tr style=\"text-align: right;\">\n",
       "      <th></th>\n",
       "      <th>Orders</th>\n",
       "      <th>CPI</th>\n",
       "      <th>UR</th>\n",
       "      <th>LTIR</th>\n",
       "      <th>TIV</th>\n",
       "    </tr>\n",
       "    <tr>\n",
       "      <th>Date</th>\n",
       "      <th></th>\n",
       "      <th></th>\n",
       "      <th></th>\n",
       "      <th></th>\n",
       "      <th></th>\n",
       "    </tr>\n",
       "  </thead>\n",
       "  <tbody>\n",
       "    <tr>\n",
       "      <th>2006-01-01</th>\n",
       "      <td>161</td>\n",
       "      <td>2.184466</td>\n",
       "      <td>4.1</td>\n",
       "      <td>3.311</td>\n",
       "      <td>65.640787</td>\n",
       "    </tr>\n",
       "    <tr>\n",
       "      <th>2006-02-01</th>\n",
       "      <td>250</td>\n",
       "      <td>2.163461</td>\n",
       "      <td>4.2</td>\n",
       "      <td>3.484</td>\n",
       "      <td>61.924395</td>\n",
       "    </tr>\n",
       "    <tr>\n",
       "      <th>2006-03-01</th>\n",
       "      <td>468</td>\n",
       "      <td>1.911589</td>\n",
       "      <td>4.2</td>\n",
       "      <td>3.704</td>\n",
       "      <td>83.479473</td>\n",
       "    </tr>\n",
       "    <tr>\n",
       "      <th>2006-04-01</th>\n",
       "      <td>412</td>\n",
       "      <td>1.902497</td>\n",
       "      <td>4.2</td>\n",
       "      <td>3.975</td>\n",
       "      <td>77.672609</td>\n",
       "    </tr>\n",
       "    <tr>\n",
       "      <th>2006-05-01</th>\n",
       "      <td>550</td>\n",
       "      <td>2.021403</td>\n",
       "      <td>4.1</td>\n",
       "      <td>4.022</td>\n",
       "      <td>91.928459</td>\n",
       "    </tr>\n",
       "    <tr>\n",
       "      <th>...</th>\n",
       "      <td>...</td>\n",
       "      <td>...</td>\n",
       "      <td>...</td>\n",
       "      <td>...</td>\n",
       "      <td>...</td>\n",
       "    </tr>\n",
       "    <tr>\n",
       "      <th>2022-08-01</th>\n",
       "      <td>343</td>\n",
       "      <td>8.909952</td>\n",
       "      <td>4.5</td>\n",
       "      <td>1.375</td>\n",
       "      <td>74.473027</td>\n",
       "    </tr>\n",
       "    <tr>\n",
       "      <th>2022-09-01</th>\n",
       "      <td>337</td>\n",
       "      <td>10.018900</td>\n",
       "      <td>4.6</td>\n",
       "      <td>2.200</td>\n",
       "      <td>75.796992</td>\n",
       "    </tr>\n",
       "    <tr>\n",
       "      <th>2022-10-01</th>\n",
       "      <td>322</td>\n",
       "      <td>10.112360</td>\n",
       "      <td>4.6</td>\n",
       "      <td>2.599</td>\n",
       "      <td>63.242553</td>\n",
       "    </tr>\n",
       "    <tr>\n",
       "      <th>2022-11-01</th>\n",
       "      <td>305</td>\n",
       "      <td>8.870214</td>\n",
       "      <td>4.7</td>\n",
       "      <td>2.378</td>\n",
       "      <td>76.400906</td>\n",
       "    </tr>\n",
       "    <tr>\n",
       "      <th>2022-12-01</th>\n",
       "      <td>357</td>\n",
       "      <td>8.724202</td>\n",
       "      <td>4.8</td>\n",
       "      <td>2.285</td>\n",
       "      <td>88.502410</td>\n",
       "    </tr>\n",
       "  </tbody>\n",
       "</table>\n",
       "<p>204 rows × 5 columns</p>\n",
       "</div>"
      ],
      "text/plain": [
       "            Orders        CPI   UR   LTIR        TIV\n",
       "Date                                                \n",
       "2006-01-01     161   2.184466  4.1  3.311  65.640787\n",
       "2006-02-01     250   2.163461  4.2  3.484  61.924395\n",
       "2006-03-01     468   1.911589  4.2  3.704  83.479473\n",
       "2006-04-01     412   1.902497  4.2  3.975  77.672609\n",
       "2006-05-01     550   2.021403  4.1  4.022  91.928459\n",
       "...            ...        ...  ...    ...        ...\n",
       "2022-08-01     343   8.909952  4.5  1.375  74.473027\n",
       "2022-09-01     337  10.018900  4.6  2.200  75.796992\n",
       "2022-10-01     322  10.112360  4.6  2.599  63.242553\n",
       "2022-11-01     305   8.870214  4.7  2.378  76.400906\n",
       "2022-12-01     357   8.724202  4.8  2.285  88.502410\n",
       "\n",
       "[204 rows x 5 columns]"
      ]
     },
     "execution_count": 5,
     "metadata": {},
     "output_type": "execute_result"
    }
   ],
   "source": [
    "df"
   ]
  },
  {
   "attachments": {},
   "cell_type": "markdown",
   "metadata": {},
   "source": [
    "### Split Data"
   ]
  },
  {
   "cell_type": "code",
   "execution_count": 6,
   "metadata": {},
   "outputs": [
    {
     "name": "stdout",
     "output_type": "stream",
     "text": [
      "Dataset length : (n=204)\n",
      "Train dates    : 2006-01-01 00:00:00 --- 2019-12-01 00:00:00  (n=168)\n",
      "Test dates     : 2020-01-01 00:00:00 --- 2022-12-01 00:00:00  (n=36)\n"
     ]
    }
   ],
   "source": [
    "steps = 36  # 36 months of testing\n",
    "train = df[:-steps]\n",
    "test  = df[-steps:]\n",
    "\n",
    "start=len(train)\n",
    "end=len(train)+len(test)-1\n",
    "\n",
    "print(f\"Dataset length : (n={len(df)})\")\n",
    "print(f\"Train dates    : {train.index.min()} --- {train.index.max()}  (n={len(train)})\")\n",
    "print(f\"Test dates     : {test.index.min()} --- {test.index.max()}  (n={len(test)})\")"
   ]
  },
  {
   "attachments": {},
   "cell_type": "markdown",
   "metadata": {},
   "source": [
    "### Scoring function"
   ]
  },
  {
   "cell_type": "code",
   "execution_count": 7,
   "metadata": {},
   "outputs": [],
   "source": [
    "metrics = pd.DataFrame()\n",
    "\n",
    "# Accuracy metrics\n",
    "def forecast_accuracy(model_name, y_true, y_pred, print_metrics: bool, plot_results: bool):\n",
    "    \n",
    "    mae = np.mean(np.abs(y_pred - y_true))                                    # MAE\n",
    "    mse = mean_squared_error(y_true, y_pred)                                  # MSE (Mean Squared Error)\n",
    "    rmse = math.sqrt(mse)                                                     # RMSE (Root Mean Squared Error)    \n",
    "    r2 = r2_score(y_true, y_pred)                                             # R2 (R-squared - Coeficient of determination)      \n",
    "    mape = np.mean(np.abs(y_pred - y_true)/np.abs(y_true)*100)                # MAPE        \n",
    "    accuracy = 100 - mape                                                     # Accuracy\n",
    "\n",
    "    # Append metrics for summary\n",
    "    metrics[model_name] = [mae, mse, rmse, r2, mape, accuracy]\n",
    "    metrics.index = ['Mean Absolute Error', \n",
    "                    'Mean Squared Error', \n",
    "                    'Root Mean Squared Error',\n",
    "                    'R^2',\n",
    "                    'Mean Absolute Percentage Error',\n",
    "                    'Accuracy']       \n",
    "\n",
    "    # Print metrics  \n",
    "    if print_metrics:\n",
    " \n",
    "        print(model_name, 'Model Performance:')                             # Model name\n",
    "        print('Mean Absolute Error: {:0.2f}.'.format(mae))                  # MAE\n",
    "        print('Mean Squared Error: {:0.2f}.'.format(mse))                   # MSE\n",
    "        print('Root Mean Squared Error: {:0.2f}.'.format(rmse))             # RMSE  \n",
    "        print('R^2 Score = {:0.2f}.'.format(r2))                            # R2\n",
    "        print('Mean Absolute Percentage Error: {:0.2f}%.'.format(mape))     # MAPE \n",
    "        print('Accuracy = {:0.2f}%.'.format(accuracy))                      # Accuracy                    \n",
    "    \n",
    "    # Plot Actual values vs predicted values\n",
    "    if plot_results:\n",
    "        \n",
    "        df = pd.DataFrame(y_true)\n",
    "\n",
    "        fig= make_subplots(rows=2, cols=1)\n",
    "        \n",
    "        fig.add_trace(go.Scatter(dict(x=df.index, y=y_true, mode='lines', name= 'Actual'), legendgroup=\"Preds\"), row=1, col=1)\n",
    "        fig.add_trace(go.Scatter(dict(x=df.index, y=y_pred, mode='lines', name= 'Predicted'), legendgroup=\"Preds\"), row=1, col=1)\n",
    "        \n",
    "        fig.add_trace(go.Scatter(dict(x=train.index, y=train[dep_var], mode='lines', name= 'Train'), legendgroup=\"Full\"), row=2, col=1)\n",
    "        fig.add_trace(go.Scatter(dict(x=test.index, y=test[dep_var], mode='lines', name= 'Test'), legendgroup=\"Full\"), row=2, col=1)\n",
    "        fig.add_trace(go.Scatter(dict(x=test.index, y=y_pred, mode='lines', name= 'Forecast'), legendgroup=\"Full\"), row=2, col=1)\n",
    "\n",
    "        fig.update_layout(height=600, width=1000, title_text=model_name + \" Predictions - \" + country)    \n",
    "\n",
    "        fig.show()  \n",
    "\n",
    "                    "
   ]
  },
  {
   "attachments": {},
   "cell_type": "markdown",
   "metadata": {},
   "source": [
    "### Modeling"
   ]
  },
  {
   "attachments": {},
   "cell_type": "markdown",
   "metadata": {},
   "source": [
    "#### Simple Exponential Smoothing"
   ]
  },
  {
   "cell_type": "code",
   "execution_count": 8,
   "metadata": {},
   "outputs": [
    {
     "name": "stdout",
     "output_type": "stream",
     "text": [
      "Simple Exponential Smoothing Model Performance:\n",
      "Mean Absolute Error: 22.72.\n",
      "Mean Squared Error: 736.20.\n",
      "Root Mean Squared Error: 27.13.\n",
      "R^2 Score = -0.72.\n",
      "Mean Absolute Percentage Error: 31.43%.\n",
      "Accuracy = 68.57%.\n"
     ]
    },
    {
     "data": {
      "image/svg+xml": "<svg class=\"main-svg\" xmlns=\"http://www.w3.org/2000/svg\" xmlns:xlink=\"http://www.w3.org/1999/xlink\" width=\"1000\" height=\"600\" style=\"\" viewBox=\"0 0 1000 600\"><rect x=\"0\" y=\"0\" width=\"1000\" height=\"600\" style=\"fill: rgb(255, 255, 255); fill-opacity: 1;\"/><defs id=\"defs-9073b4\"><g class=\"clips\"><clipPath id=\"clip9073b4xyplot\" class=\"plotclip\"><rect width=\"791\" height=\"178.50000000000003\"/></clipPath><clipPath id=\"clip9073b4x2y2plot\" class=\"plotclip\"><rect width=\"791\" height=\"178.5\"/></clipPath><clipPath class=\"axesclip\" id=\"clip9073b4x\"><rect x=\"80\" y=\"0\" width=\"791\" height=\"600\"/></clipPath><clipPath class=\"axesclip\" id=\"clip9073b4y\"><rect x=\"0\" y=\"100\" width=\"1000\" height=\"178.50000000000003\"/></clipPath><clipPath class=\"axesclip\" id=\"clip9073b4xy\"><rect x=\"80\" y=\"100\" width=\"791\" height=\"178.50000000000003\"/></clipPath><clipPath class=\"axesclip\" id=\"clip9073b4y2\"><rect x=\"0\" y=\"341.5\" width=\"1000\" height=\"178.5\"/></clipPath><clipPath class=\"axesclip\" id=\"clip9073b4xy2\"><rect x=\"80\" y=\"341.5\" width=\"791\" height=\"178.5\"/></clipPath><clipPath class=\"axesclip\" id=\"clip9073b4x2\"><rect x=\"80\" y=\"0\" width=\"791\" height=\"600\"/></clipPath><clipPath class=\"axesclip\" id=\"clip9073b4x2y\"><rect x=\"80\" y=\"100\" width=\"791\" height=\"178.50000000000003\"/></clipPath><clipPath class=\"axesclip\" id=\"clip9073b4x2y2\"><rect x=\"80\" y=\"341.5\" width=\"791\" height=\"178.5\"/></clipPath></g><g class=\"gradients\"/><g class=\"patterns\"/></defs><g class=\"bglayer\"><rect class=\"bg\" x=\"80\" y=\"100\" width=\"791\" height=\"178.50000000000003\" style=\"fill: rgb(229, 236, 246); fill-opacity: 1; stroke-width: 0;\"/><rect class=\"bg\" x=\"80\" y=\"341.5\" width=\"791\" height=\"178.5\" style=\"fill: rgb(229, 236, 246); fill-opacity: 1; stroke-width: 0;\"/></g><g class=\"layer-below\"><g class=\"imagelayer\"/><g class=\"shapelayer\"/></g><g class=\"cartesianlayer\"><g class=\"subplot xy\"><g class=\"layer-subplot\"><g class=\"shapelayer\"/><g class=\"imagelayer\"/></g><g class=\"minor-gridlayer\"><g class=\"x\"/><g class=\"y\"/></g><g class=\"gridlayer\"><g class=\"x\"><path class=\"xgrid crisp\" transform=\"translate(215.18,0)\" d=\"M0,100v178.50000000000003\" style=\"stroke: rgb(255, 255, 255); stroke-opacity: 1; stroke-width: 1px;\"/><path class=\"xgrid crisp\" transform=\"translate(351.84,0)\" d=\"M0,100v178.50000000000003\" style=\"stroke: rgb(255, 255, 255); stroke-opacity: 1; stroke-width: 1px;\"/><path class=\"xgrid crisp\" transform=\"translate(486.27,0)\" d=\"M0,100v178.50000000000003\" style=\"stroke: rgb(255, 255, 255); stroke-opacity: 1; stroke-width: 1px;\"/><path class=\"xgrid crisp\" transform=\"translate(622.93,0)\" d=\"M0,100v178.50000000000003\" style=\"stroke: rgb(255, 255, 255); stroke-opacity: 1; stroke-width: 1px;\"/><path class=\"xgrid crisp\" transform=\"translate(757.36,0)\" d=\"M0,100v178.50000000000003\" style=\"stroke: rgb(255, 255, 255); stroke-opacity: 1; stroke-width: 1px;\"/></g><g class=\"y\"><path class=\"ygrid crisp\" transform=\"translate(0,259.76)\" d=\"M80,0h791\" style=\"stroke: rgb(255, 255, 255); stroke-opacity: 1; stroke-width: 1px;\"/><path class=\"ygrid crisp\" transform=\"translate(0,221.39)\" d=\"M80,0h791\" style=\"stroke: rgb(255, 255, 255); stroke-opacity: 1; stroke-width: 1px;\"/><path class=\"ygrid crisp\" transform=\"translate(0,183.01999999999998)\" d=\"M80,0h791\" style=\"stroke: rgb(255, 255, 255); stroke-opacity: 1; stroke-width: 1px;\"/><path class=\"ygrid crisp\" transform=\"translate(0,144.65)\" d=\"M80,0h791\" style=\"stroke: rgb(255, 255, 255); stroke-opacity: 1; stroke-width: 1px;\"/><path class=\"ygrid crisp\" transform=\"translate(0,106.28)\" d=\"M80,0h791\" style=\"stroke: rgb(255, 255, 255); stroke-opacity: 1; stroke-width: 1px;\"/></g></g><g class=\"zerolinelayer\"/><path class=\"xlines-below\"/><path class=\"ylines-below\"/><g class=\"overlines-below\"/><g class=\"xaxislayer-below\"/><g class=\"yaxislayer-below\"/><g class=\"overaxes-below\"/><g class=\"plot\" transform=\"translate(80,100)\" clip-path=\"url(#clip9073b4xyplot)\"><g class=\"scatterlayer mlayer\"><g class=\"trace scatter tracee8e17f\" style=\"stroke-miterlimit: 2; opacity: 1;\"><g class=\"fills\"/><g class=\"errorbars\"/><g class=\"lines\"><path class=\"js-line\" d=\"M0,66.77L23.02,107.13L44.56,105.35L67.59,160.29L89.87,146.25L112.89,73.81L135.18,62.07L158.2,77.95L181.22,82.91L203.51,106.36L226.53,71.69L248.81,21.17L271.84,159.99L294.86,163.74L315.66,8.92L338.68,100.75L360.96,85.27L383.99,46.41L406.27,123.75L429.29,97.57L452.32,115.74L474.6,133.17L497.62,108.04L519.91,76.38L542.93,169.58L565.95,160.5L586.75,110.57L609.78,150.69L632.06,122.94L655.08,108.2L677.36,164.41L700.39,132L723.41,129.46L745.69,153.54L768.72,128.3L791,105.08\" style=\"vector-effect: non-scaling-stroke; fill: none; stroke: rgb(99, 110, 250); stroke-opacity: 1; stroke-width: 2px; opacity: 1;\"/></g><g class=\"points\"/><g class=\"text\"/></g><g class=\"trace scatter tracede65f3\" style=\"stroke-miterlimit: 2; opacity: 1;\"><g class=\"fills\"/><g class=\"errorbars\"/><g class=\"lines\"><path class=\"js-line\" d=\"M0,75.73L791,75.73\" style=\"vector-effect: non-scaling-stroke; fill: none; stroke: rgb(239, 85, 59); stroke-opacity: 1; stroke-width: 2px; opacity: 1;\"/></g><g class=\"points\"/><g class=\"text\"/></g></g></g><g class=\"overplot\"/><path class=\"xlines-above crisp\" d=\"M0,0\" style=\"fill: none;\"/><path class=\"ylines-above crisp\" d=\"M0,0\" style=\"fill: none;\"/><g class=\"overlines-above\"/><g class=\"xaxislayer-above\"><g class=\"xtick\"><text text-anchor=\"middle\" x=\"0\" y=\"291.5\" transform=\"translate(80,0)\" style=\"font-family: 'Open Sans', verdana, arial, sans-serif; font-size: 12px; fill: rgb(42, 63, 95); fill-opacity: 1; white-space: pre; opacity: 1;\">Jan 2020</text></g><g class=\"xtick\"><text text-anchor=\"middle\" x=\"0\" y=\"291.5\" style=\"font-family: 'Open Sans', verdana, arial, sans-serif; font-size: 12px; fill: rgb(42, 63, 95); fill-opacity: 1; white-space: pre; opacity: 1;\" transform=\"translate(215.18,0)\">Jul 2020</text></g><g class=\"xtick\"><text text-anchor=\"middle\" x=\"0\" y=\"291.5\" style=\"font-family: 'Open Sans', verdana, arial, sans-serif; font-size: 12px; fill: rgb(42, 63, 95); fill-opacity: 1; white-space: pre; opacity: 1;\" transform=\"translate(351.84,0)\">Jan 2021</text></g><g class=\"xtick\"><text text-anchor=\"middle\" x=\"0\" y=\"291.5\" style=\"font-family: 'Open Sans', verdana, arial, sans-serif; font-size: 12px; fill: rgb(42, 63, 95); fill-opacity: 1; white-space: pre; opacity: 1;\" transform=\"translate(486.27,0)\">Jul 2021</text></g><g class=\"xtick\"><text text-anchor=\"middle\" x=\"0\" y=\"291.5\" style=\"font-family: 'Open Sans', verdana, arial, sans-serif; font-size: 12px; fill: rgb(42, 63, 95); fill-opacity: 1; white-space: pre; opacity: 1;\" transform=\"translate(622.93,0)\">Jan 2022</text></g><g class=\"xtick\"><text text-anchor=\"middle\" x=\"0\" y=\"291.5\" style=\"font-family: 'Open Sans', verdana, arial, sans-serif; font-size: 12px; fill: rgb(42, 63, 95); fill-opacity: 1; white-space: pre; opacity: 1;\" transform=\"translate(757.36,0)\">Jul 2022</text></g></g><g class=\"yaxislayer-above\"><g class=\"ytick\"><text text-anchor=\"end\" x=\"79\" y=\"4.199999999999999\" transform=\"translate(0,259.76)\" style=\"font-family: 'Open Sans', verdana, arial, sans-serif; font-size: 12px; fill: rgb(42, 63, 95); fill-opacity: 1; white-space: pre; opacity: 1;\">60</text></g><g class=\"ytick\"><text text-anchor=\"end\" x=\"79\" y=\"4.199999999999999\" style=\"font-family: 'Open Sans', verdana, arial, sans-serif; font-size: 12px; fill: rgb(42, 63, 95); fill-opacity: 1; white-space: pre; opacity: 1;\" transform=\"translate(0,221.39)\">80</text></g><g class=\"ytick\"><text text-anchor=\"end\" x=\"79\" y=\"4.199999999999999\" style=\"font-family: 'Open Sans', verdana, arial, sans-serif; font-size: 12px; fill: rgb(42, 63, 95); fill-opacity: 1; white-space: pre; opacity: 1;\" transform=\"translate(0,183.01999999999998)\">100</text></g><g class=\"ytick\"><text text-anchor=\"end\" x=\"79\" y=\"4.199999999999999\" style=\"font-family: 'Open Sans', verdana, arial, sans-serif; font-size: 12px; fill: rgb(42, 63, 95); fill-opacity: 1; white-space: pre; opacity: 1;\" transform=\"translate(0,144.65)\">120</text></g><g class=\"ytick\"><text text-anchor=\"end\" x=\"79\" y=\"4.199999999999999\" style=\"font-family: 'Open Sans', verdana, arial, sans-serif; font-size: 12px; fill: rgb(42, 63, 95); fill-opacity: 1; white-space: pre; opacity: 1;\" transform=\"translate(0,106.28)\">140</text></g></g><g class=\"overaxes-above\"/></g><g class=\"subplot x2y2\"><g class=\"layer-subplot\"><g class=\"shapelayer\"/><g class=\"imagelayer\"/></g><g class=\"minor-gridlayer\"><g class=\"x2\"/><g class=\"y2\"/></g><g class=\"gridlayer\"><g class=\"x2\"><path class=\"x2grid crisp\" transform=\"translate(173.47,0)\" d=\"M0,341.5v178.5\" style=\"stroke: rgb(255, 255, 255); stroke-opacity: 1; stroke-width: 1px;\"/><path class=\"x2grid crisp\" transform=\"translate(267.06,0)\" d=\"M0,341.5v178.5\" style=\"stroke: rgb(255, 255, 255); stroke-opacity: 1; stroke-width: 1px;\"/><path class=\"x2grid crisp\" transform=\"translate(360.52,0)\" d=\"M0,341.5v178.5\" style=\"stroke: rgb(255, 255, 255); stroke-opacity: 1; stroke-width: 1px;\"/><path class=\"x2grid crisp\" transform=\"translate(454.12,0)\" d=\"M0,341.5v178.5\" style=\"stroke: rgb(255, 255, 255); stroke-opacity: 1; stroke-width: 1px;\"/><path class=\"x2grid crisp\" transform=\"translate(547.5799999999999,0)\" d=\"M0,341.5v178.5\" style=\"stroke: rgb(255, 255, 255); stroke-opacity: 1; stroke-width: 1px;\"/><path class=\"x2grid crisp\" transform=\"translate(641.18,0)\" d=\"M0,341.5v178.5\" style=\"stroke: rgb(255, 255, 255); stroke-opacity: 1; stroke-width: 1px;\"/><path class=\"x2grid crisp\" transform=\"translate(734.64,0)\" d=\"M0,341.5v178.5\" style=\"stroke: rgb(255, 255, 255); stroke-opacity: 1; stroke-width: 1px;\"/><path class=\"x2grid crisp\" transform=\"translate(828.24,0)\" d=\"M0,341.5v178.5\" style=\"stroke: rgb(255, 255, 255); stroke-opacity: 1; stroke-width: 1px;\"/></g><g class=\"y2\"><path class=\"y2grid crisp\" transform=\"translate(0,500.9)\" d=\"M80,0h791\" style=\"stroke: rgb(255, 255, 255); stroke-opacity: 1; stroke-width: 1px;\"/><path class=\"y2grid crisp\" transform=\"translate(0,427.19)\" d=\"M80,0h791\" style=\"stroke: rgb(255, 255, 255); stroke-opacity: 1; stroke-width: 1px;\"/><path class=\"y2grid crisp\" transform=\"translate(0,353.48)\" d=\"M80,0h791\" style=\"stroke: rgb(255, 255, 255); stroke-opacity: 1; stroke-width: 1px;\"/></g></g><g class=\"zerolinelayer\"/><path class=\"xlines-below\"/><path class=\"ylines-below\"/><g class=\"overlines-below\"/><g class=\"xaxislayer-below\"/><g class=\"yaxislayer-below\"/><g class=\"overaxes-below\"/><g class=\"plot\" transform=\"translate(80,341.5)\" clip-path=\"url(#clip9073b4x2y2plot)\"><g class=\"scatterlayer mlayer\"><g class=\"trace scatter trace81284f\" style=\"stroke-miterlimit: 2; opacity: 1;\"><g class=\"fills\"/><g class=\"errorbars\"/><g class=\"lines\"><path class=\"js-line\" d=\"M0,136.34L3.97,141.82L7.55,110.04L11.52,118.6L15.36,97.59L19.33,86.8L23.17,134.36L27.14,129.74L31.11,127.71L38.92,124.8L42.76,121.26L46.73,133.09L50.7,140.57L54.29,109.47L58.26,128.04L62.1,110.33L66.07,103.15L69.91,118.11L73.88,118.68L77.85,118.06L81.69,108.94L85.66,103.08L89.5,114.87L93.47,109.91L97.43,122.14L101.15,125L105.12,95.33L108.96,108.1L112.93,101.49L116.77,121.81L120.74,136L124.71,130.42L128.55,136.18L132.52,161.81L136.36,159.39L140.33,166.46L144.3,169.58L147.88,148.99L151.85,155.75L155.69,153.25L159.66,136.57L163.5,155.38L167.47,165.41L171.44,149.56L175.28,147.77L179.25,155.55L183.09,132.16L187.06,141.98L191.03,159.58L194.61,113.69L198.58,130.79L202.42,122.05L206.39,100.09L210.23,133.22L214.2,132.47L218.17,117.25L222.01,116.75L225.98,113.71L229.82,100.74L233.79,127.21L237.76,134.3L241.35,89.5L245.31,118.19L249.16,91.29L253.13,87.39L256.97,121.3L260.94,126.17L264.9,115.03L268.75,127.16L272.71,104.48L276.56,101.78L280.52,122.95L284.49,111.78L288.21,116.04L292.18,129.8L296.02,90.83L299.99,113.01L303.83,92.91L307.8,117.84L311.77,114.83L315.61,103.52L319.58,95.43L323.42,142.19L327.39,107.12L331.35,128.94L334.94,105.64L338.91,98.86L346.72,83.93L350.56,112.12L354.53,112.63L358.5,109.94L362.34,90.55L366.31,97.78L370.15,111.25L374.12,94.07L378.09,107.04L381.67,89.58L385.64,92.32L389.48,89.01L393.45,83.03L397.29,111.35L401.26,108.43L405.23,110.19L409.07,93.88L413.04,103.92L416.88,101.59L420.85,96.13L424.82,117.42L428.4,65.85L432.37,88.21L436.22,87.56L440.18,50.63L444.03,94.41L447.99,95.17L451.96,81.26L455.8,89.16L459.77,87.01L463.61,75.42L467.58,92.89L471.55,91.09L475.27,69.17L479.23,63.13L483.08,52.27L487.04,30.88L490.89,98.77L494.86,84.49L498.82,75.6L502.67,87.64L506.63,79.23L510.48,67.68L514.44,66.26L518.41,83.78L522,38.51L525.97,82.11L529.81,42.11L533.78,27.81L537.62,102.81L541.59,102.09L545.56,110.47L549.4,74.53L553.37,78.9L557.21,92.02L561.18,62.77L565.15,85.24L568.73,63.74L572.7,72.46L576.54,39.7L580.51,40.01L584.35,92.02L588.32,56.21L592.29,130.5L596.13,90.65L600.1,79.63L603.94,114.12L607.91,50.85L611.88,73.91L615.46,8.93L619.43,93.97L623.27,69.22L627.24,55.22L631.08,89.5L635.05,72.93L639.02,96.59L642.86,75.84L646.83,78.28L650.67,100.67\" style=\"vector-effect: non-scaling-stroke; fill: none; stroke: rgb(0, 204, 150); stroke-opacity: 1; stroke-width: 2px; opacity: 1;\"/></g><g class=\"points\"/><g class=\"text\"/></g><g class=\"trace scatter tracef7af75\" style=\"stroke-miterlimit: 2; opacity: 1;\"><g class=\"fills\"/><g class=\"errorbars\"/><g class=\"lines\"><path class=\"js-line\" d=\"M654.64,73.2L658.61,104.21L662.32,102.84L666.29,145.07L670.13,134.27L674.1,78.61L677.95,69.59L681.91,81.79L685.88,85.6L689.72,103.62L693.69,76.98L697.53,38.16L701.5,144.83L705.47,147.71L709.06,28.75L713.03,99.31L716.87,87.42L720.84,57.56L724.68,116.99L728.65,96.87L732.62,110.83L736.46,124.22L740.43,104.92L744.27,80.59L748.24,152.2L752.21,145.22L755.79,106.86L759.76,137.69L763.6,116.36L767.57,105.04L771.41,148.22L775.38,123.32L779.35,121.37L783.19,139.88L787.16,120.48L791,102.64\" style=\"vector-effect: non-scaling-stroke; fill: none; stroke: rgb(171, 99, 250); stroke-opacity: 1; stroke-width: 2px; opacity: 1;\"/></g><g class=\"points\"/><g class=\"text\"/></g><g class=\"trace scatter trace14869b\" style=\"stroke-miterlimit: 2; opacity: 1;\"><g class=\"fills\"/><g class=\"errorbars\"/><g class=\"lines\"><path class=\"js-line\" d=\"M654.64,80.09L791,80.09\" style=\"vector-effect: non-scaling-stroke; fill: none; stroke: rgb(255, 161, 90); stroke-opacity: 1; stroke-width: 2px; opacity: 1;\"/></g><g class=\"points\"/><g class=\"text\"/></g></g></g><g class=\"overplot\"/><path class=\"xlines-above crisp\" d=\"M0,0\" style=\"fill: none;\"/><path class=\"ylines-above crisp\" d=\"M0,0\" style=\"fill: none;\"/><g class=\"overlines-above\"/><g class=\"xaxislayer-above\"><g class=\"x2tick\"><text text-anchor=\"middle\" x=\"0\" y=\"533\" transform=\"translate(80,0)\" style=\"font-family: 'Open Sans', verdana, arial, sans-serif; font-size: 12px; fill: rgb(42, 63, 95); fill-opacity: 1; white-space: pre; opacity: 1;\">2006</text></g><g class=\"x2tick\"><text text-anchor=\"middle\" x=\"0\" y=\"533\" style=\"font-family: 'Open Sans', verdana, arial, sans-serif; font-size: 12px; fill: rgb(42, 63, 95); fill-opacity: 1; white-space: pre; opacity: 1;\" transform=\"translate(173.47,0)\">2008</text></g><g class=\"x2tick\"><text text-anchor=\"middle\" x=\"0\" y=\"533\" style=\"font-family: 'Open Sans', verdana, arial, sans-serif; font-size: 12px; fill: rgb(42, 63, 95); fill-opacity: 1; white-space: pre; opacity: 1;\" transform=\"translate(267.06,0)\">2010</text></g><g class=\"x2tick\"><text text-anchor=\"middle\" x=\"0\" y=\"533\" style=\"font-family: 'Open Sans', verdana, arial, sans-serif; font-size: 12px; fill: rgb(42, 63, 95); fill-opacity: 1; white-space: pre; opacity: 1;\" transform=\"translate(360.52,0)\">2012</text></g><g class=\"x2tick\"><text text-anchor=\"middle\" x=\"0\" y=\"533\" style=\"font-family: 'Open Sans', verdana, arial, sans-serif; font-size: 12px; fill: rgb(42, 63, 95); fill-opacity: 1; white-space: pre; opacity: 1;\" transform=\"translate(454.12,0)\">2014</text></g><g class=\"x2tick\"><text text-anchor=\"middle\" x=\"0\" y=\"533\" style=\"font-family: 'Open Sans', verdana, arial, sans-serif; font-size: 12px; fill: rgb(42, 63, 95); fill-opacity: 1; white-space: pre; opacity: 1;\" transform=\"translate(547.5799999999999,0)\">2016</text></g><g class=\"x2tick\"><text text-anchor=\"middle\" x=\"0\" y=\"533\" style=\"font-family: 'Open Sans', verdana, arial, sans-serif; font-size: 12px; fill: rgb(42, 63, 95); fill-opacity: 1; white-space: pre; opacity: 1;\" transform=\"translate(641.18,0)\">2018</text></g><g class=\"x2tick\"><text text-anchor=\"middle\" x=\"0\" y=\"533\" style=\"font-family: 'Open Sans', verdana, arial, sans-serif; font-size: 12px; fill: rgb(42, 63, 95); fill-opacity: 1; white-space: pre; opacity: 1;\" transform=\"translate(734.64,0)\">2020</text></g><g class=\"x2tick\"><text text-anchor=\"middle\" x=\"0\" y=\"533\" style=\"font-family: 'Open Sans', verdana, arial, sans-serif; font-size: 12px; fill: rgb(42, 63, 95); fill-opacity: 1; white-space: pre; opacity: 1;\" transform=\"translate(828.24,0)\">2022</text></g></g><g class=\"yaxislayer-above\"><g class=\"y2tick\"><text text-anchor=\"end\" x=\"79\" y=\"4.199999999999999\" transform=\"translate(0,500.9)\" style=\"font-family: 'Open Sans', verdana, arial, sans-serif; font-size: 12px; fill: rgb(42, 63, 95); fill-opacity: 1; white-space: pre; opacity: 1;\">50</text></g><g class=\"y2tick\"><text text-anchor=\"end\" x=\"79\" y=\"4.199999999999999\" style=\"font-family: 'Open Sans', verdana, arial, sans-serif; font-size: 12px; fill: rgb(42, 63, 95); fill-opacity: 1; white-space: pre; opacity: 1;\" transform=\"translate(0,427.19)\">100</text></g><g class=\"y2tick\"><text text-anchor=\"end\" x=\"79\" y=\"4.199999999999999\" style=\"font-family: 'Open Sans', verdana, arial, sans-serif; font-size: 12px; fill: rgb(42, 63, 95); fill-opacity: 1; white-space: pre; opacity: 1;\" transform=\"translate(0,353.48)\">150</text></g></g><g class=\"overaxes-above\"/></g></g><g class=\"polarlayer\"/><g class=\"smithlayer\"/><g class=\"ternarylayer\"/><g class=\"geolayer\"/><g class=\"funnelarealayer\"/><g class=\"pielayer\"/><g class=\"iciclelayer\"/><g class=\"treemaplayer\"/><g class=\"sunburstlayer\"/><g class=\"glimages\"/><defs id=\"topdefs-9073b4\"><g class=\"clips\"/><clipPath id=\"legend9073b4\"><rect width=\"101\" height=\"115\" x=\"0\" y=\"0\"/></clipPath></defs><g class=\"layer-above\"><g class=\"imagelayer\"/><g class=\"shapelayer\"/></g><g class=\"infolayer\"><g class=\"legend\" pointer-events=\"all\" transform=\"translate(886.82,100)\"><rect class=\"bg\" shape-rendering=\"crispEdges\" style=\"stroke: rgb(68, 68, 68); stroke-opacity: 1; fill: rgb(255, 255, 255); fill-opacity: 1; stroke-width: 0px;\" width=\"101\" height=\"115\" x=\"0\" y=\"0\"/><g class=\"scrollbox\" transform=\"\" clip-path=\"url(#legend9073b4)\"><g class=\"groups\" transform=\"\"><g class=\"traces\" transform=\"translate(0,14.5)\" style=\"opacity: 1;\"><text class=\"legendtext\" text-anchor=\"start\" x=\"40\" y=\"4.680000000000001\" style=\"font-family: 'Open Sans', verdana, arial, sans-serif; font-size: 12px; fill: rgb(42, 63, 95); fill-opacity: 1; white-space: pre;\">Actual</text><g class=\"layers\" style=\"opacity: 1;\"><g class=\"legendfill\"/><g class=\"legendlines\"><path class=\"js-line\" d=\"M5,0h30\" style=\"fill: none; stroke: rgb(99, 110, 250); stroke-opacity: 1; stroke-width: 2px;\"/></g><g class=\"legendsymbols\"><g class=\"legendpoints\"/></g></g><rect class=\"legendtoggle\" x=\"0\" y=\"-9.5\" width=\"95.890625\" height=\"19\" style=\"fill: rgb(0, 0, 0); fill-opacity: 0;\"/></g><g class=\"traces\" transform=\"translate(0,33.5)\" style=\"opacity: 1;\"><text class=\"legendtext\" text-anchor=\"start\" x=\"40\" y=\"4.680000000000001\" style=\"font-family: 'Open Sans', verdana, arial, sans-serif; font-size: 12px; fill: rgb(42, 63, 95); fill-opacity: 1; white-space: pre;\">Predicted</text><g class=\"layers\" style=\"opacity: 1;\"><g class=\"legendfill\"/><g class=\"legendlines\"><path class=\"js-line\" d=\"M5,0h30\" style=\"fill: none; stroke: rgb(239, 85, 59); stroke-opacity: 1; stroke-width: 2px;\"/></g><g class=\"legendsymbols\"><g class=\"legendpoints\"/></g></g><rect class=\"legendtoggle\" x=\"0\" y=\"-9.5\" width=\"95.890625\" height=\"19\" style=\"fill: rgb(0, 0, 0); fill-opacity: 0;\"/></g></g><g class=\"groups\" transform=\"translate(0,10)\"><g class=\"traces\" transform=\"translate(0,52.5)\" style=\"opacity: 1;\"><text class=\"legendtext\" text-anchor=\"start\" x=\"40\" y=\"4.680000000000001\" style=\"font-family: 'Open Sans', verdana, arial, sans-serif; font-size: 12px; fill: rgb(42, 63, 95); fill-opacity: 1; white-space: pre;\">Train</text><g class=\"layers\" style=\"opacity: 1;\"><g class=\"legendfill\"/><g class=\"legendlines\"><path class=\"js-line\" d=\"M5,0h30\" style=\"fill: none; stroke: rgb(0, 204, 150); stroke-opacity: 1; stroke-width: 2px;\"/></g><g class=\"legendsymbols\"><g class=\"legendpoints\"/></g></g><rect class=\"legendtoggle\" x=\"0\" y=\"-9.5\" width=\"95.890625\" height=\"19\" style=\"fill: rgb(0, 0, 0); fill-opacity: 0;\"/></g><g class=\"traces\" transform=\"translate(0,71.5)\" style=\"opacity: 1;\"><text class=\"legendtext\" text-anchor=\"start\" x=\"40\" y=\"4.680000000000001\" style=\"font-family: 'Open Sans', verdana, arial, sans-serif; font-size: 12px; fill: rgb(42, 63, 95); fill-opacity: 1; white-space: pre;\">Test</text><g class=\"layers\" style=\"opacity: 1;\"><g class=\"legendfill\"/><g class=\"legendlines\"><path class=\"js-line\" d=\"M5,0h30\" style=\"fill: none; stroke: rgb(171, 99, 250); stroke-opacity: 1; stroke-width: 2px;\"/></g><g class=\"legendsymbols\"><g class=\"legendpoints\"/></g></g><rect class=\"legendtoggle\" x=\"0\" y=\"-9.5\" width=\"95.890625\" height=\"19\" style=\"fill: rgb(0, 0, 0); fill-opacity: 0;\"/></g><g class=\"traces\" transform=\"translate(0,90.5)\" style=\"opacity: 1;\"><text class=\"legendtext\" text-anchor=\"start\" x=\"40\" y=\"4.680000000000001\" style=\"font-family: 'Open Sans', verdana, arial, sans-serif; font-size: 12px; fill: rgb(42, 63, 95); fill-opacity: 1; white-space: pre;\">Forecast</text><g class=\"layers\" style=\"opacity: 1;\"><g class=\"legendfill\"/><g class=\"legendlines\"><path class=\"js-line\" d=\"M5,0h30\" style=\"fill: none; stroke: rgb(255, 161, 90); stroke-opacity: 1; stroke-width: 2px;\"/></g><g class=\"legendsymbols\"><g class=\"legendpoints\"/></g></g><rect class=\"legendtoggle\" x=\"0\" y=\"-9.5\" width=\"95.890625\" height=\"19\" style=\"fill: rgb(0, 0, 0); fill-opacity: 0;\"/></g></g></g><rect class=\"scrollbar\" rx=\"20\" ry=\"3\" width=\"0\" height=\"0\" style=\"fill: rgb(128, 139, 164); fill-opacity: 1;\" x=\"0\" y=\"0\"/></g><g class=\"g-gtitle\"><text class=\"gtitle\" x=\"50\" y=\"50\" text-anchor=\"start\" dy=\"0em\" style=\"font-family: 'Open Sans', verdana, arial, sans-serif; font-size: 17px; fill: rgb(42, 63, 95); opacity: 1; font-weight: normal; white-space: pre;\">Simple Exponential Smoothing Predictions - DEN</text></g><g class=\"g-xtitle\"/><g class=\"g-x2title\"/><g class=\"g-ytitle\"/><g class=\"g-y2title\"/></g></svg>"
     },
     "metadata": {},
     "output_type": "display_data"
    }
   ],
   "source": [
    "model_name='Simple Exponential Smoothing'\n",
    "span = 12\n",
    "alpha = 2/(span+1)\n",
    "\n",
    "# Train\n",
    "model = SimpleExpSmoothing(train[dep_var]).fit(smoothing_level=alpha,optimized=False)\n",
    "\n",
    "# Predict\n",
    "predictions = model.predict(start=start, end=end)\n",
    "\n",
    "# Forecast accuracy\n",
    "forecast_accuracy(model_name, test[dep_var], predictions, True, True)"
   ]
  },
  {
   "attachments": {},
   "cell_type": "markdown",
   "metadata": {},
   "source": [
    "#### Double Explonential Smoothing"
   ]
  },
  {
   "cell_type": "code",
   "execution_count": 9,
   "metadata": {},
   "outputs": [
    {
     "name": "stdout",
     "output_type": "stream",
     "text": [
      "Double Exponential Smoothing Model Performance:\n",
      "Mean Absolute Error: 24.46.\n",
      "Mean Squared Error: 837.06.\n",
      "Root Mean Squared Error: 28.93.\n",
      "R^2 Score = -0.95.\n",
      "Mean Absolute Percentage Error: 33.82%.\n",
      "Accuracy = 66.18%.\n"
     ]
    },
    {
     "data": {
      "image/svg+xml": "<svg class=\"main-svg\" xmlns=\"http://www.w3.org/2000/svg\" xmlns:xlink=\"http://www.w3.org/1999/xlink\" width=\"1000\" height=\"600\" style=\"\" viewBox=\"0 0 1000 600\"><rect x=\"0\" y=\"0\" width=\"1000\" height=\"600\" style=\"fill: rgb(255, 255, 255); fill-opacity: 1;\"/><defs id=\"defs-95b6c3\"><g class=\"clips\"><clipPath id=\"clip95b6c3xyplot\" class=\"plotclip\"><rect width=\"791\" height=\"178.50000000000003\"/></clipPath><clipPath id=\"clip95b6c3x2y2plot\" class=\"plotclip\"><rect width=\"791\" height=\"178.5\"/></clipPath><clipPath class=\"axesclip\" id=\"clip95b6c3x\"><rect x=\"80\" y=\"0\" width=\"791\" height=\"600\"/></clipPath><clipPath class=\"axesclip\" id=\"clip95b6c3y\"><rect x=\"0\" y=\"100\" width=\"1000\" height=\"178.50000000000003\"/></clipPath><clipPath class=\"axesclip\" id=\"clip95b6c3xy\"><rect x=\"80\" y=\"100\" width=\"791\" height=\"178.50000000000003\"/></clipPath><clipPath class=\"axesclip\" id=\"clip95b6c3y2\"><rect x=\"0\" y=\"341.5\" width=\"1000\" height=\"178.5\"/></clipPath><clipPath class=\"axesclip\" id=\"clip95b6c3xy2\"><rect x=\"80\" y=\"341.5\" width=\"791\" height=\"178.5\"/></clipPath><clipPath class=\"axesclip\" id=\"clip95b6c3x2\"><rect x=\"80\" y=\"0\" width=\"791\" height=\"600\"/></clipPath><clipPath class=\"axesclip\" id=\"clip95b6c3x2y\"><rect x=\"80\" y=\"100\" width=\"791\" height=\"178.50000000000003\"/></clipPath><clipPath class=\"axesclip\" id=\"clip95b6c3x2y2\"><rect x=\"80\" y=\"341.5\" width=\"791\" height=\"178.5\"/></clipPath></g><g class=\"gradients\"/><g class=\"patterns\"/></defs><g class=\"bglayer\"><rect class=\"bg\" x=\"80\" y=\"100\" width=\"791\" height=\"178.50000000000003\" style=\"fill: rgb(229, 236, 246); fill-opacity: 1; stroke-width: 0;\"/><rect class=\"bg\" x=\"80\" y=\"341.5\" width=\"791\" height=\"178.5\" style=\"fill: rgb(229, 236, 246); fill-opacity: 1; stroke-width: 0;\"/></g><g class=\"layer-below\"><g class=\"imagelayer\"/><g class=\"shapelayer\"/></g><g class=\"cartesianlayer\"><g class=\"subplot xy\"><g class=\"layer-subplot\"><g class=\"shapelayer\"/><g class=\"imagelayer\"/></g><g class=\"minor-gridlayer\"><g class=\"x\"/><g class=\"y\"/></g><g class=\"gridlayer\"><g class=\"x\"><path class=\"xgrid crisp\" transform=\"translate(215.18,0)\" d=\"M0,100v178.50000000000003\" style=\"stroke: rgb(255, 255, 255); stroke-opacity: 1; stroke-width: 1px;\"/><path class=\"xgrid crisp\" transform=\"translate(351.84,0)\" d=\"M0,100v178.50000000000003\" style=\"stroke: rgb(255, 255, 255); stroke-opacity: 1; stroke-width: 1px;\"/><path class=\"xgrid crisp\" transform=\"translate(486.27,0)\" d=\"M0,100v178.50000000000003\" style=\"stroke: rgb(255, 255, 255); stroke-opacity: 1; stroke-width: 1px;\"/><path class=\"xgrid crisp\" transform=\"translate(622.93,0)\" d=\"M0,100v178.50000000000003\" style=\"stroke: rgb(255, 255, 255); stroke-opacity: 1; stroke-width: 1px;\"/><path class=\"xgrid crisp\" transform=\"translate(757.36,0)\" d=\"M0,100v178.50000000000003\" style=\"stroke: rgb(255, 255, 255); stroke-opacity: 1; stroke-width: 1px;\"/></g><g class=\"y\"><path class=\"ygrid crisp\" transform=\"translate(0,259.76)\" d=\"M80,0h791\" style=\"stroke: rgb(255, 255, 255); stroke-opacity: 1; stroke-width: 1px;\"/><path class=\"ygrid crisp\" transform=\"translate(0,221.39)\" d=\"M80,0h791\" style=\"stroke: rgb(255, 255, 255); stroke-opacity: 1; stroke-width: 1px;\"/><path class=\"ygrid crisp\" transform=\"translate(0,183.01999999999998)\" d=\"M80,0h791\" style=\"stroke: rgb(255, 255, 255); stroke-opacity: 1; stroke-width: 1px;\"/><path class=\"ygrid crisp\" transform=\"translate(0,144.65)\" d=\"M80,0h791\" style=\"stroke: rgb(255, 255, 255); stroke-opacity: 1; stroke-width: 1px;\"/><path class=\"ygrid crisp\" transform=\"translate(0,106.28)\" d=\"M80,0h791\" style=\"stroke: rgb(255, 255, 255); stroke-opacity: 1; stroke-width: 1px;\"/></g></g><g class=\"zerolinelayer\"/><path class=\"xlines-below\"/><path class=\"ylines-below\"/><g class=\"overlines-below\"/><g class=\"xaxislayer-below\"/><g class=\"yaxislayer-below\"/><g class=\"overaxes-below\"/><g class=\"plot\" transform=\"translate(80,100)\" clip-path=\"url(#clip95b6c3xyplot)\"><g class=\"scatterlayer mlayer\"><g class=\"trace scatter trace345556\" style=\"stroke-miterlimit: 2; opacity: 1;\"><g class=\"fills\"/><g class=\"errorbars\"/><g class=\"lines\"><path class=\"js-line\" d=\"M0,66.77L23.02,107.13L44.56,105.35L67.59,160.29L89.87,146.25L112.89,73.81L135.18,62.07L158.2,77.95L181.22,82.91L203.51,106.36L226.53,71.69L248.81,21.17L271.84,159.99L294.86,163.74L315.66,8.92L338.68,100.75L360.96,85.27L383.99,46.41L406.27,123.75L429.29,97.57L452.32,115.74L474.6,133.17L497.62,108.04L519.91,76.38L542.93,169.58L565.95,160.5L586.75,110.57L609.78,150.69L632.06,122.94L655.08,108.2L677.36,164.41L700.39,132L723.41,129.46L745.69,153.54L768.72,128.3L791,105.08\" style=\"vector-effect: non-scaling-stroke; fill: none; stroke: rgb(99, 110, 250); stroke-opacity: 1; stroke-width: 2px; opacity: 1;\"/></g><g class=\"points\"/><g class=\"text\"/></g><g class=\"trace scatter tracea28e6e\" style=\"stroke-miterlimit: 2; opacity: 1;\"><g class=\"fills\"/><g class=\"errorbars\"/><g class=\"lines\"><path class=\"js-line\" d=\"M0,77.9L791,66.24\" style=\"vector-effect: non-scaling-stroke; fill: none; stroke: rgb(239, 85, 59); stroke-opacity: 1; stroke-width: 2px; opacity: 1;\"/></g><g class=\"points\"/><g class=\"text\"/></g></g></g><g class=\"overplot\"/><path class=\"xlines-above crisp\" d=\"M0,0\" style=\"fill: none;\"/><path class=\"ylines-above crisp\" d=\"M0,0\" style=\"fill: none;\"/><g class=\"overlines-above\"/><g class=\"xaxislayer-above\"><g class=\"xtick\"><text text-anchor=\"middle\" x=\"0\" y=\"291.5\" transform=\"translate(80,0)\" style=\"font-family: 'Open Sans', verdana, arial, sans-serif; font-size: 12px; fill: rgb(42, 63, 95); fill-opacity: 1; white-space: pre; opacity: 1;\">Jan 2020</text></g><g class=\"xtick\"><text text-anchor=\"middle\" x=\"0\" y=\"291.5\" style=\"font-family: 'Open Sans', verdana, arial, sans-serif; font-size: 12px; fill: rgb(42, 63, 95); fill-opacity: 1; white-space: pre; opacity: 1;\" transform=\"translate(215.18,0)\">Jul 2020</text></g><g class=\"xtick\"><text text-anchor=\"middle\" x=\"0\" y=\"291.5\" style=\"font-family: 'Open Sans', verdana, arial, sans-serif; font-size: 12px; fill: rgb(42, 63, 95); fill-opacity: 1; white-space: pre; opacity: 1;\" transform=\"translate(351.84,0)\">Jan 2021</text></g><g class=\"xtick\"><text text-anchor=\"middle\" x=\"0\" y=\"291.5\" style=\"font-family: 'Open Sans', verdana, arial, sans-serif; font-size: 12px; fill: rgb(42, 63, 95); fill-opacity: 1; white-space: pre; opacity: 1;\" transform=\"translate(486.27,0)\">Jul 2021</text></g><g class=\"xtick\"><text text-anchor=\"middle\" x=\"0\" y=\"291.5\" style=\"font-family: 'Open Sans', verdana, arial, sans-serif; font-size: 12px; fill: rgb(42, 63, 95); fill-opacity: 1; white-space: pre; opacity: 1;\" transform=\"translate(622.93,0)\">Jan 2022</text></g><g class=\"xtick\"><text text-anchor=\"middle\" x=\"0\" y=\"291.5\" style=\"font-family: 'Open Sans', verdana, arial, sans-serif; font-size: 12px; fill: rgb(42, 63, 95); fill-opacity: 1; white-space: pre; opacity: 1;\" transform=\"translate(757.36,0)\">Jul 2022</text></g></g><g class=\"yaxislayer-above\"><g class=\"ytick\"><text text-anchor=\"end\" x=\"79\" y=\"4.199999999999999\" transform=\"translate(0,259.76)\" style=\"font-family: 'Open Sans', verdana, arial, sans-serif; font-size: 12px; fill: rgb(42, 63, 95); fill-opacity: 1; white-space: pre; opacity: 1;\">60</text></g><g class=\"ytick\"><text text-anchor=\"end\" x=\"79\" y=\"4.199999999999999\" style=\"font-family: 'Open Sans', verdana, arial, sans-serif; font-size: 12px; fill: rgb(42, 63, 95); fill-opacity: 1; white-space: pre; opacity: 1;\" transform=\"translate(0,221.39)\">80</text></g><g class=\"ytick\"><text text-anchor=\"end\" x=\"79\" y=\"4.199999999999999\" style=\"font-family: 'Open Sans', verdana, arial, sans-serif; font-size: 12px; fill: rgb(42, 63, 95); fill-opacity: 1; white-space: pre; opacity: 1;\" transform=\"translate(0,183.01999999999998)\">100</text></g><g class=\"ytick\"><text text-anchor=\"end\" x=\"79\" y=\"4.199999999999999\" style=\"font-family: 'Open Sans', verdana, arial, sans-serif; font-size: 12px; fill: rgb(42, 63, 95); fill-opacity: 1; white-space: pre; opacity: 1;\" transform=\"translate(0,144.65)\">120</text></g><g class=\"ytick\"><text text-anchor=\"end\" x=\"79\" y=\"4.199999999999999\" style=\"font-family: 'Open Sans', verdana, arial, sans-serif; font-size: 12px; fill: rgb(42, 63, 95); fill-opacity: 1; white-space: pre; opacity: 1;\" transform=\"translate(0,106.28)\">140</text></g></g><g class=\"overaxes-above\"/></g><g class=\"subplot x2y2\"><g class=\"layer-subplot\"><g class=\"shapelayer\"/><g class=\"imagelayer\"/></g><g class=\"minor-gridlayer\"><g class=\"x2\"/><g class=\"y2\"/></g><g class=\"gridlayer\"><g class=\"x2\"><path class=\"x2grid crisp\" transform=\"translate(173.47,0)\" d=\"M0,341.5v178.5\" style=\"stroke: rgb(255, 255, 255); stroke-opacity: 1; stroke-width: 1px;\"/><path class=\"x2grid crisp\" transform=\"translate(267.06,0)\" d=\"M0,341.5v178.5\" style=\"stroke: rgb(255, 255, 255); stroke-opacity: 1; stroke-width: 1px;\"/><path class=\"x2grid crisp\" transform=\"translate(360.52,0)\" d=\"M0,341.5v178.5\" style=\"stroke: rgb(255, 255, 255); stroke-opacity: 1; stroke-width: 1px;\"/><path class=\"x2grid crisp\" transform=\"translate(454.12,0)\" d=\"M0,341.5v178.5\" style=\"stroke: rgb(255, 255, 255); stroke-opacity: 1; stroke-width: 1px;\"/><path class=\"x2grid crisp\" transform=\"translate(547.5799999999999,0)\" d=\"M0,341.5v178.5\" style=\"stroke: rgb(255, 255, 255); stroke-opacity: 1; stroke-width: 1px;\"/><path class=\"x2grid crisp\" transform=\"translate(641.18,0)\" d=\"M0,341.5v178.5\" style=\"stroke: rgb(255, 255, 255); stroke-opacity: 1; stroke-width: 1px;\"/><path class=\"x2grid crisp\" transform=\"translate(734.64,0)\" d=\"M0,341.5v178.5\" style=\"stroke: rgb(255, 255, 255); stroke-opacity: 1; stroke-width: 1px;\"/><path class=\"x2grid crisp\" transform=\"translate(828.24,0)\" d=\"M0,341.5v178.5\" style=\"stroke: rgb(255, 255, 255); stroke-opacity: 1; stroke-width: 1px;\"/></g><g class=\"y2\"><path class=\"y2grid crisp\" transform=\"translate(0,500.9)\" d=\"M80,0h791\" style=\"stroke: rgb(255, 255, 255); stroke-opacity: 1; stroke-width: 1px;\"/><path class=\"y2grid crisp\" transform=\"translate(0,427.19)\" d=\"M80,0h791\" style=\"stroke: rgb(255, 255, 255); stroke-opacity: 1; stroke-width: 1px;\"/><path class=\"y2grid crisp\" transform=\"translate(0,353.48)\" d=\"M80,0h791\" style=\"stroke: rgb(255, 255, 255); stroke-opacity: 1; stroke-width: 1px;\"/></g></g><g class=\"zerolinelayer\"/><path class=\"xlines-below\"/><path class=\"ylines-below\"/><g class=\"overlines-below\"/><g class=\"xaxislayer-below\"/><g class=\"yaxislayer-below\"/><g class=\"overaxes-below\"/><g class=\"plot\" transform=\"translate(80,341.5)\" clip-path=\"url(#clip95b6c3x2y2plot)\"><g class=\"scatterlayer mlayer\"><g class=\"trace scatter tracee57d08\" style=\"stroke-miterlimit: 2; opacity: 1;\"><g class=\"fills\"/><g class=\"errorbars\"/><g class=\"lines\"><path class=\"js-line\" d=\"M0,136.34L3.97,141.82L7.55,110.04L11.52,118.6L15.36,97.59L19.33,86.8L23.17,134.36L27.14,129.74L31.11,127.71L38.92,124.8L42.76,121.26L46.73,133.09L50.7,140.57L54.29,109.47L58.26,128.04L62.1,110.33L66.07,103.15L69.91,118.11L73.88,118.68L77.85,118.06L81.69,108.94L85.66,103.08L89.5,114.87L93.47,109.91L97.43,122.14L101.15,125L105.12,95.33L108.96,108.1L112.93,101.49L116.77,121.81L120.74,136L124.71,130.42L128.55,136.18L132.52,161.81L136.36,159.39L140.33,166.46L144.3,169.58L147.88,148.99L151.85,155.75L155.69,153.25L159.66,136.57L163.5,155.38L167.47,165.41L171.44,149.56L175.28,147.77L179.25,155.55L183.09,132.16L187.06,141.98L191.03,159.58L194.61,113.69L198.58,130.79L202.42,122.05L206.39,100.09L210.23,133.22L214.2,132.47L218.17,117.25L222.01,116.75L225.98,113.71L229.82,100.74L233.79,127.21L237.76,134.3L241.35,89.5L245.31,118.19L249.16,91.29L253.13,87.39L256.97,121.3L260.94,126.17L264.9,115.03L268.75,127.16L272.71,104.48L276.56,101.78L280.52,122.95L284.49,111.78L288.21,116.04L292.18,129.8L296.02,90.83L299.99,113.01L303.83,92.91L307.8,117.84L311.77,114.83L315.61,103.52L319.58,95.43L323.42,142.19L327.39,107.12L331.35,128.94L334.94,105.64L338.91,98.86L346.72,83.93L350.56,112.12L354.53,112.63L358.5,109.94L362.34,90.55L366.31,97.78L370.15,111.25L374.12,94.07L378.09,107.04L381.67,89.58L385.64,92.32L389.48,89.01L393.45,83.03L397.29,111.35L401.26,108.43L405.23,110.19L409.07,93.88L413.04,103.92L416.88,101.59L420.85,96.13L424.82,117.42L428.4,65.85L432.37,88.21L436.22,87.56L440.18,50.63L444.03,94.41L447.99,95.17L451.96,81.26L455.8,89.16L459.77,87.01L463.61,75.42L467.58,92.89L471.55,91.09L475.27,69.17L479.23,63.13L483.08,52.27L487.04,30.88L490.89,98.77L494.86,84.49L498.82,75.6L502.67,87.64L506.63,79.23L510.48,67.68L514.44,66.26L518.41,83.78L522,38.51L525.97,82.11L529.81,42.11L533.78,27.81L537.62,102.81L541.59,102.09L545.56,110.47L549.4,74.53L553.37,78.9L557.21,92.02L561.18,62.77L565.15,85.24L568.73,63.74L572.7,72.46L576.54,39.7L580.51,40.01L584.35,92.02L588.32,56.21L592.29,130.5L596.13,90.65L600.1,79.63L603.94,114.12L607.91,50.85L611.88,73.91L615.46,8.93L619.43,93.97L623.27,69.22L627.24,55.22L631.08,89.5L635.05,72.93L639.02,96.59L642.86,75.84L646.83,78.28L650.67,100.67\" style=\"vector-effect: non-scaling-stroke; fill: none; stroke: rgb(0, 204, 150); stroke-opacity: 1; stroke-width: 2px; opacity: 1;\"/></g><g class=\"points\"/><g class=\"text\"/></g><g class=\"trace scatter trace358fda\" style=\"stroke-miterlimit: 2; opacity: 1;\"><g class=\"fills\"/><g class=\"errorbars\"/><g class=\"lines\"><path class=\"js-line\" d=\"M654.64,73.2L658.61,104.21L662.32,102.84L666.29,145.07L670.13,134.27L674.1,78.61L677.95,69.59L681.91,81.79L685.88,85.6L689.72,103.62L693.69,76.98L697.53,38.16L701.5,144.83L705.47,147.71L709.06,28.75L713.03,99.31L716.87,87.42L720.84,57.56L724.68,116.99L728.65,96.87L732.62,110.83L736.46,124.22L740.43,104.92L744.27,80.59L748.24,152.2L752.21,145.22L755.79,106.86L759.76,137.69L763.6,116.36L767.57,105.04L771.41,148.22L775.38,123.32L779.35,121.37L783.19,139.88L787.16,120.48L791,102.64\" style=\"vector-effect: non-scaling-stroke; fill: none; stroke: rgb(171, 99, 250); stroke-opacity: 1; stroke-width: 2px; opacity: 1;\"/></g><g class=\"points\"/><g class=\"text\"/></g><g class=\"trace scatter tracee90e6e\" style=\"stroke-miterlimit: 2; opacity: 1;\"><g class=\"fills\"/><g class=\"errorbars\"/><g class=\"lines\"><path class=\"js-line\" d=\"M654.64,81.76L791,72.8\" style=\"vector-effect: non-scaling-stroke; fill: none; stroke: rgb(255, 161, 90); stroke-opacity: 1; stroke-width: 2px; opacity: 1;\"/></g><g class=\"points\"/><g class=\"text\"/></g></g></g><g class=\"overplot\"/><path class=\"xlines-above crisp\" d=\"M0,0\" style=\"fill: none;\"/><path class=\"ylines-above crisp\" d=\"M0,0\" style=\"fill: none;\"/><g class=\"overlines-above\"/><g class=\"xaxislayer-above\"><g class=\"x2tick\"><text text-anchor=\"middle\" x=\"0\" y=\"533\" transform=\"translate(80,0)\" style=\"font-family: 'Open Sans', verdana, arial, sans-serif; font-size: 12px; fill: rgb(42, 63, 95); fill-opacity: 1; white-space: pre; opacity: 1;\">2006</text></g><g class=\"x2tick\"><text text-anchor=\"middle\" x=\"0\" y=\"533\" style=\"font-family: 'Open Sans', verdana, arial, sans-serif; font-size: 12px; fill: rgb(42, 63, 95); fill-opacity: 1; white-space: pre; opacity: 1;\" transform=\"translate(173.47,0)\">2008</text></g><g class=\"x2tick\"><text text-anchor=\"middle\" x=\"0\" y=\"533\" style=\"font-family: 'Open Sans', verdana, arial, sans-serif; font-size: 12px; fill: rgb(42, 63, 95); fill-opacity: 1; white-space: pre; opacity: 1;\" transform=\"translate(267.06,0)\">2010</text></g><g class=\"x2tick\"><text text-anchor=\"middle\" x=\"0\" y=\"533\" style=\"font-family: 'Open Sans', verdana, arial, sans-serif; font-size: 12px; fill: rgb(42, 63, 95); fill-opacity: 1; white-space: pre; opacity: 1;\" transform=\"translate(360.52,0)\">2012</text></g><g class=\"x2tick\"><text text-anchor=\"middle\" x=\"0\" y=\"533\" style=\"font-family: 'Open Sans', verdana, arial, sans-serif; font-size: 12px; fill: rgb(42, 63, 95); fill-opacity: 1; white-space: pre; opacity: 1;\" transform=\"translate(454.12,0)\">2014</text></g><g class=\"x2tick\"><text text-anchor=\"middle\" x=\"0\" y=\"533\" style=\"font-family: 'Open Sans', verdana, arial, sans-serif; font-size: 12px; fill: rgb(42, 63, 95); fill-opacity: 1; white-space: pre; opacity: 1;\" transform=\"translate(547.5799999999999,0)\">2016</text></g><g class=\"x2tick\"><text text-anchor=\"middle\" x=\"0\" y=\"533\" style=\"font-family: 'Open Sans', verdana, arial, sans-serif; font-size: 12px; fill: rgb(42, 63, 95); fill-opacity: 1; white-space: pre; opacity: 1;\" transform=\"translate(641.18,0)\">2018</text></g><g class=\"x2tick\"><text text-anchor=\"middle\" x=\"0\" y=\"533\" style=\"font-family: 'Open Sans', verdana, arial, sans-serif; font-size: 12px; fill: rgb(42, 63, 95); fill-opacity: 1; white-space: pre; opacity: 1;\" transform=\"translate(734.64,0)\">2020</text></g><g class=\"x2tick\"><text text-anchor=\"middle\" x=\"0\" y=\"533\" style=\"font-family: 'Open Sans', verdana, arial, sans-serif; font-size: 12px; fill: rgb(42, 63, 95); fill-opacity: 1; white-space: pre; opacity: 1;\" transform=\"translate(828.24,0)\">2022</text></g></g><g class=\"yaxislayer-above\"><g class=\"y2tick\"><text text-anchor=\"end\" x=\"79\" y=\"4.199999999999999\" transform=\"translate(0,500.9)\" style=\"font-family: 'Open Sans', verdana, arial, sans-serif; font-size: 12px; fill: rgb(42, 63, 95); fill-opacity: 1; white-space: pre; opacity: 1;\">50</text></g><g class=\"y2tick\"><text text-anchor=\"end\" x=\"79\" y=\"4.199999999999999\" style=\"font-family: 'Open Sans', verdana, arial, sans-serif; font-size: 12px; fill: rgb(42, 63, 95); fill-opacity: 1; white-space: pre; opacity: 1;\" transform=\"translate(0,427.19)\">100</text></g><g class=\"y2tick\"><text text-anchor=\"end\" x=\"79\" y=\"4.199999999999999\" style=\"font-family: 'Open Sans', verdana, arial, sans-serif; font-size: 12px; fill: rgb(42, 63, 95); fill-opacity: 1; white-space: pre; opacity: 1;\" transform=\"translate(0,353.48)\">150</text></g></g><g class=\"overaxes-above\"/></g></g><g class=\"polarlayer\"/><g class=\"smithlayer\"/><g class=\"ternarylayer\"/><g class=\"geolayer\"/><g class=\"funnelarealayer\"/><g class=\"pielayer\"/><g class=\"iciclelayer\"/><g class=\"treemaplayer\"/><g class=\"sunburstlayer\"/><g class=\"glimages\"/><defs id=\"topdefs-95b6c3\"><g class=\"clips\"/><clipPath id=\"legend95b6c3\"><rect width=\"101\" height=\"115\" x=\"0\" y=\"0\"/></clipPath></defs><g class=\"layer-above\"><g class=\"imagelayer\"/><g class=\"shapelayer\"/></g><g class=\"infolayer\"><g class=\"legend\" pointer-events=\"all\" transform=\"translate(886.82,100)\"><rect class=\"bg\" shape-rendering=\"crispEdges\" width=\"101\" height=\"115\" x=\"0\" y=\"0\" style=\"stroke: rgb(68, 68, 68); stroke-opacity: 1; fill: rgb(255, 255, 255); fill-opacity: 1; stroke-width: 0px;\"/><g class=\"scrollbox\" transform=\"\" clip-path=\"url(#legend95b6c3)\"><g class=\"groups\" transform=\"\"><g class=\"traces\" transform=\"translate(0,14.5)\" style=\"opacity: 1;\"><text class=\"legendtext\" text-anchor=\"start\" x=\"40\" y=\"4.680000000000001\" style=\"font-family: 'Open Sans', verdana, arial, sans-serif; font-size: 12px; fill: rgb(42, 63, 95); fill-opacity: 1; white-space: pre;\">Actual</text><g class=\"layers\" style=\"opacity: 1;\"><g class=\"legendfill\"/><g class=\"legendlines\"><path class=\"js-line\" d=\"M5,0h30\" style=\"fill: none; stroke: rgb(99, 110, 250); stroke-opacity: 1; stroke-width: 2px;\"/></g><g class=\"legendsymbols\"><g class=\"legendpoints\"/></g></g><rect class=\"legendtoggle\" x=\"0\" y=\"-9.5\" width=\"95.890625\" height=\"19\" style=\"fill: rgb(0, 0, 0); fill-opacity: 0;\"/></g><g class=\"traces\" transform=\"translate(0,33.5)\" style=\"opacity: 1;\"><text class=\"legendtext\" text-anchor=\"start\" x=\"40\" y=\"4.680000000000001\" style=\"font-family: 'Open Sans', verdana, arial, sans-serif; font-size: 12px; fill: rgb(42, 63, 95); fill-opacity: 1; white-space: pre;\">Predicted</text><g class=\"layers\" style=\"opacity: 1;\"><g class=\"legendfill\"/><g class=\"legendlines\"><path class=\"js-line\" d=\"M5,0h30\" style=\"fill: none; stroke: rgb(239, 85, 59); stroke-opacity: 1; stroke-width: 2px;\"/></g><g class=\"legendsymbols\"><g class=\"legendpoints\"/></g></g><rect class=\"legendtoggle\" x=\"0\" y=\"-9.5\" width=\"95.890625\" height=\"19\" style=\"fill: rgb(0, 0, 0); fill-opacity: 0;\"/></g></g><g class=\"groups\" transform=\"translate(0,10)\"><g class=\"traces\" transform=\"translate(0,52.5)\" style=\"opacity: 1;\"><text class=\"legendtext\" text-anchor=\"start\" x=\"40\" y=\"4.680000000000001\" style=\"font-family: 'Open Sans', verdana, arial, sans-serif; font-size: 12px; fill: rgb(42, 63, 95); fill-opacity: 1; white-space: pre;\">Train</text><g class=\"layers\" style=\"opacity: 1;\"><g class=\"legendfill\"/><g class=\"legendlines\"><path class=\"js-line\" d=\"M5,0h30\" style=\"fill: none; stroke: rgb(0, 204, 150); stroke-opacity: 1; stroke-width: 2px;\"/></g><g class=\"legendsymbols\"><g class=\"legendpoints\"/></g></g><rect class=\"legendtoggle\" x=\"0\" y=\"-9.5\" width=\"95.890625\" height=\"19\" style=\"fill: rgb(0, 0, 0); fill-opacity: 0;\"/></g><g class=\"traces\" transform=\"translate(0,71.5)\" style=\"opacity: 1;\"><text class=\"legendtext\" text-anchor=\"start\" x=\"40\" y=\"4.680000000000001\" style=\"font-family: 'Open Sans', verdana, arial, sans-serif; font-size: 12px; fill: rgb(42, 63, 95); fill-opacity: 1; white-space: pre;\">Test</text><g class=\"layers\" style=\"opacity: 1;\"><g class=\"legendfill\"/><g class=\"legendlines\"><path class=\"js-line\" d=\"M5,0h30\" style=\"fill: none; stroke: rgb(171, 99, 250); stroke-opacity: 1; stroke-width: 2px;\"/></g><g class=\"legendsymbols\"><g class=\"legendpoints\"/></g></g><rect class=\"legendtoggle\" x=\"0\" y=\"-9.5\" width=\"95.890625\" height=\"19\" style=\"fill: rgb(0, 0, 0); fill-opacity: 0;\"/></g><g class=\"traces\" transform=\"translate(0,90.5)\" style=\"opacity: 1;\"><text class=\"legendtext\" text-anchor=\"start\" x=\"40\" y=\"4.680000000000001\" style=\"font-family: 'Open Sans', verdana, arial, sans-serif; font-size: 12px; fill: rgb(42, 63, 95); fill-opacity: 1; white-space: pre;\">Forecast</text><g class=\"layers\" style=\"opacity: 1;\"><g class=\"legendfill\"/><g class=\"legendlines\"><path class=\"js-line\" d=\"M5,0h30\" style=\"fill: none; stroke: rgb(255, 161, 90); stroke-opacity: 1; stroke-width: 2px;\"/></g><g class=\"legendsymbols\"><g class=\"legendpoints\"/></g></g><rect class=\"legendtoggle\" x=\"0\" y=\"-9.5\" width=\"95.890625\" height=\"19\" style=\"fill: rgb(0, 0, 0); fill-opacity: 0;\"/></g></g></g><rect class=\"scrollbar\" rx=\"20\" ry=\"3\" width=\"0\" height=\"0\" x=\"0\" y=\"0\" style=\"fill: rgb(128, 139, 164); fill-opacity: 1;\"/></g><g class=\"g-gtitle\"><text class=\"gtitle\" x=\"50\" y=\"50\" text-anchor=\"start\" dy=\"0em\" style=\"font-family: 'Open Sans', verdana, arial, sans-serif; font-size: 17px; fill: rgb(42, 63, 95); opacity: 1; font-weight: normal; white-space: pre;\">Double Exponential Smoothing Predictions - DEN</text></g><g class=\"g-xtitle\"/><g class=\"g-x2title\"/><g class=\"g-ytitle\"/><g class=\"g-y2title\"/></g></svg>"
     },
     "metadata": {},
     "output_type": "display_data"
    }
   ],
   "source": [
    "model_name='Double Exponential Smoothing'\n",
    "\n",
    "# Train\n",
    "model = ExponentialSmoothing(train[dep_var],trend='add',seasonal_periods=12).fit()\n",
    "# Predict\n",
    "predictions = model.predict(start=start, end=end)\n",
    "\n",
    "# Forecast accuracy\n",
    "forecast_accuracy(model_name, test[dep_var], predictions, True, True)"
   ]
  },
  {
   "attachments": {},
   "cell_type": "markdown",
   "metadata": {},
   "source": [
    "#### Triple Exponential Smoothing"
   ]
  },
  {
   "cell_type": "code",
   "execution_count": 10,
   "metadata": {},
   "outputs": [
    {
     "name": "stdout",
     "output_type": "stream",
     "text": [
      "Triple Exponential Smoothing Model Performance:\n",
      "Mean Absolute Error: 25.06.\n",
      "Mean Squared Error: 858.16.\n",
      "Root Mean Squared Error: 29.29.\n",
      "R^2 Score = -1.00.\n",
      "Mean Absolute Percentage Error: 34.28%.\n",
      "Accuracy = 65.72%.\n"
     ]
    },
    {
     "data": {
      "image/svg+xml": "<svg class=\"main-svg\" xmlns=\"http://www.w3.org/2000/svg\" xmlns:xlink=\"http://www.w3.org/1999/xlink\" width=\"1000\" height=\"600\" style=\"\" viewBox=\"0 0 1000 600\"><rect x=\"0\" y=\"0\" width=\"1000\" height=\"600\" style=\"fill: rgb(255, 255, 255); fill-opacity: 1;\"/><defs id=\"defs-111491\"><g class=\"clips\"><clipPath id=\"clip111491xyplot\" class=\"plotclip\"><rect width=\"791\" height=\"178.50000000000003\"/></clipPath><clipPath id=\"clip111491x2y2plot\" class=\"plotclip\"><rect width=\"791\" height=\"178.5\"/></clipPath><clipPath class=\"axesclip\" id=\"clip111491x\"><rect x=\"80\" y=\"0\" width=\"791\" height=\"600\"/></clipPath><clipPath class=\"axesclip\" id=\"clip111491y\"><rect x=\"0\" y=\"100\" width=\"1000\" height=\"178.50000000000003\"/></clipPath><clipPath class=\"axesclip\" id=\"clip111491xy\"><rect x=\"80\" y=\"100\" width=\"791\" height=\"178.50000000000003\"/></clipPath><clipPath class=\"axesclip\" id=\"clip111491y2\"><rect x=\"0\" y=\"341.5\" width=\"1000\" height=\"178.5\"/></clipPath><clipPath class=\"axesclip\" id=\"clip111491xy2\"><rect x=\"80\" y=\"341.5\" width=\"791\" height=\"178.5\"/></clipPath><clipPath class=\"axesclip\" id=\"clip111491x2\"><rect x=\"80\" y=\"0\" width=\"791\" height=\"600\"/></clipPath><clipPath class=\"axesclip\" id=\"clip111491x2y\"><rect x=\"80\" y=\"100\" width=\"791\" height=\"178.50000000000003\"/></clipPath><clipPath class=\"axesclip\" id=\"clip111491x2y2\"><rect x=\"80\" y=\"341.5\" width=\"791\" height=\"178.5\"/></clipPath></g><g class=\"gradients\"/><g class=\"patterns\"/></defs><g class=\"bglayer\"><rect class=\"bg\" x=\"80\" y=\"100\" width=\"791\" height=\"178.50000000000003\" style=\"fill: rgb(229, 236, 246); fill-opacity: 1; stroke-width: 0;\"/><rect class=\"bg\" x=\"80\" y=\"341.5\" width=\"791\" height=\"178.5\" style=\"fill: rgb(229, 236, 246); fill-opacity: 1; stroke-width: 0;\"/></g><g class=\"layer-below\"><g class=\"imagelayer\"/><g class=\"shapelayer\"/></g><g class=\"cartesianlayer\"><g class=\"subplot xy\"><g class=\"layer-subplot\"><g class=\"shapelayer\"/><g class=\"imagelayer\"/></g><g class=\"minor-gridlayer\"><g class=\"x\"/><g class=\"y\"/></g><g class=\"gridlayer\"><g class=\"x\"><path class=\"xgrid crisp\" transform=\"translate(215.18,0)\" d=\"M0,100v178.50000000000003\" style=\"stroke: rgb(255, 255, 255); stroke-opacity: 1; stroke-width: 1px;\"/><path class=\"xgrid crisp\" transform=\"translate(351.84,0)\" d=\"M0,100v178.50000000000003\" style=\"stroke: rgb(255, 255, 255); stroke-opacity: 1; stroke-width: 1px;\"/><path class=\"xgrid crisp\" transform=\"translate(486.27,0)\" d=\"M0,100v178.50000000000003\" style=\"stroke: rgb(255, 255, 255); stroke-opacity: 1; stroke-width: 1px;\"/><path class=\"xgrid crisp\" transform=\"translate(622.93,0)\" d=\"M0,100v178.50000000000003\" style=\"stroke: rgb(255, 255, 255); stroke-opacity: 1; stroke-width: 1px;\"/><path class=\"xgrid crisp\" transform=\"translate(757.36,0)\" d=\"M0,100v178.50000000000003\" style=\"stroke: rgb(255, 255, 255); stroke-opacity: 1; stroke-width: 1px;\"/></g><g class=\"y\"><path class=\"ygrid crisp\" transform=\"translate(0,259.76)\" d=\"M80,0h791\" style=\"stroke: rgb(255, 255, 255); stroke-opacity: 1; stroke-width: 1px;\"/><path class=\"ygrid crisp\" transform=\"translate(0,221.39)\" d=\"M80,0h791\" style=\"stroke: rgb(255, 255, 255); stroke-opacity: 1; stroke-width: 1px;\"/><path class=\"ygrid crisp\" transform=\"translate(0,183.01999999999998)\" d=\"M80,0h791\" style=\"stroke: rgb(255, 255, 255); stroke-opacity: 1; stroke-width: 1px;\"/><path class=\"ygrid crisp\" transform=\"translate(0,144.65)\" d=\"M80,0h791\" style=\"stroke: rgb(255, 255, 255); stroke-opacity: 1; stroke-width: 1px;\"/><path class=\"ygrid crisp\" transform=\"translate(0,106.28)\" d=\"M80,0h791\" style=\"stroke: rgb(255, 255, 255); stroke-opacity: 1; stroke-width: 1px;\"/></g></g><g class=\"zerolinelayer\"/><path class=\"xlines-below\"/><path class=\"ylines-below\"/><g class=\"overlines-below\"/><g class=\"xaxislayer-below\"/><g class=\"yaxislayer-below\"/><g class=\"overaxes-below\"/><g class=\"plot\" transform=\"translate(80,100)\" clip-path=\"url(#clip111491xyplot)\"><g class=\"scatterlayer mlayer\"><g class=\"trace scatter trace70b884\" style=\"stroke-miterlimit: 2; opacity: 1;\"><g class=\"fills\"/><g class=\"errorbars\"/><g class=\"lines\"><path class=\"js-line\" d=\"M0,66.77L23.02,107.13L44.56,105.35L67.59,160.29L89.87,146.25L112.89,73.81L135.18,62.07L158.2,77.95L181.22,82.91L203.51,106.36L226.53,71.69L248.81,21.17L271.84,159.99L294.86,163.74L315.66,8.92L338.68,100.75L360.96,85.27L383.99,46.41L406.27,123.75L429.29,97.57L452.32,115.74L474.6,133.17L497.62,108.04L519.91,76.38L542.93,169.58L565.95,160.5L586.75,110.57L609.78,150.69L632.06,122.94L655.08,108.2L677.36,164.41L700.39,132L723.41,129.46L745.69,153.54L768.72,128.3L791,105.08\" style=\"vector-effect: non-scaling-stroke; fill: none; stroke: rgb(99, 110, 250); stroke-opacity: 1; stroke-width: 2px; opacity: 1;\"/></g><g class=\"points\"/><g class=\"text\"/></g><g class=\"trace scatter trace40f48e\" style=\"stroke-miterlimit: 2; opacity: 1;\"><g class=\"fills\"/><g class=\"errorbars\"/><g class=\"lines\"><path class=\"js-line\" d=\"M0,79.18L23.02,93.98L44.56,55.58L67.59,75.42L89.87,54.77L112.89,41.25L135.18,85.69L158.2,83.85L181.22,86.56L203.51,75.57L226.53,75.05L248.81,81.7L271.84,74.9L294.86,89.7L315.66,51.3L338.68,71.14L360.96,50.49L383.99,36.97L406.27,81.41L429.29,79.57L452.32,82.28L474.6,71.29L497.62,70.77L519.91,77.42L542.93,70.62L565.95,85.42L586.75,47.02L609.78,66.86L632.06,46.21L655.08,32.69L677.36,77.13L700.39,75.29L723.41,78L745.69,67.01L768.72,66.49L791,73.14\" style=\"vector-effect: non-scaling-stroke; fill: none; stroke: rgb(239, 85, 59); stroke-opacity: 1; stroke-width: 2px; opacity: 1;\"/></g><g class=\"points\"/><g class=\"text\"/></g></g></g><g class=\"overplot\"/><path class=\"xlines-above crisp\" d=\"M0,0\" style=\"fill: none;\"/><path class=\"ylines-above crisp\" d=\"M0,0\" style=\"fill: none;\"/><g class=\"overlines-above\"/><g class=\"xaxislayer-above\"><g class=\"xtick\"><text text-anchor=\"middle\" x=\"0\" y=\"291.5\" transform=\"translate(80,0)\" style=\"font-family: 'Open Sans', verdana, arial, sans-serif; font-size: 12px; fill: rgb(42, 63, 95); fill-opacity: 1; white-space: pre; opacity: 1;\">Jan 2020</text></g><g class=\"xtick\"><text text-anchor=\"middle\" x=\"0\" y=\"291.5\" style=\"font-family: 'Open Sans', verdana, arial, sans-serif; font-size: 12px; fill: rgb(42, 63, 95); fill-opacity: 1; white-space: pre; opacity: 1;\" transform=\"translate(215.18,0)\">Jul 2020</text></g><g class=\"xtick\"><text text-anchor=\"middle\" x=\"0\" y=\"291.5\" style=\"font-family: 'Open Sans', verdana, arial, sans-serif; font-size: 12px; fill: rgb(42, 63, 95); fill-opacity: 1; white-space: pre; opacity: 1;\" transform=\"translate(351.84,0)\">Jan 2021</text></g><g class=\"xtick\"><text text-anchor=\"middle\" x=\"0\" y=\"291.5\" style=\"font-family: 'Open Sans', verdana, arial, sans-serif; font-size: 12px; fill: rgb(42, 63, 95); fill-opacity: 1; white-space: pre; opacity: 1;\" transform=\"translate(486.27,0)\">Jul 2021</text></g><g class=\"xtick\"><text text-anchor=\"middle\" x=\"0\" y=\"291.5\" style=\"font-family: 'Open Sans', verdana, arial, sans-serif; font-size: 12px; fill: rgb(42, 63, 95); fill-opacity: 1; white-space: pre; opacity: 1;\" transform=\"translate(622.93,0)\">Jan 2022</text></g><g class=\"xtick\"><text text-anchor=\"middle\" x=\"0\" y=\"291.5\" style=\"font-family: 'Open Sans', verdana, arial, sans-serif; font-size: 12px; fill: rgb(42, 63, 95); fill-opacity: 1; white-space: pre; opacity: 1;\" transform=\"translate(757.36,0)\">Jul 2022</text></g></g><g class=\"yaxislayer-above\"><g class=\"ytick\"><text text-anchor=\"end\" x=\"79\" y=\"4.199999999999999\" transform=\"translate(0,259.76)\" style=\"font-family: 'Open Sans', verdana, arial, sans-serif; font-size: 12px; fill: rgb(42, 63, 95); fill-opacity: 1; white-space: pre; opacity: 1;\">60</text></g><g class=\"ytick\"><text text-anchor=\"end\" x=\"79\" y=\"4.199999999999999\" style=\"font-family: 'Open Sans', verdana, arial, sans-serif; font-size: 12px; fill: rgb(42, 63, 95); fill-opacity: 1; white-space: pre; opacity: 1;\" transform=\"translate(0,221.39)\">80</text></g><g class=\"ytick\"><text text-anchor=\"end\" x=\"79\" y=\"4.199999999999999\" style=\"font-family: 'Open Sans', verdana, arial, sans-serif; font-size: 12px; fill: rgb(42, 63, 95); fill-opacity: 1; white-space: pre; opacity: 1;\" transform=\"translate(0,183.01999999999998)\">100</text></g><g class=\"ytick\"><text text-anchor=\"end\" x=\"79\" y=\"4.199999999999999\" style=\"font-family: 'Open Sans', verdana, arial, sans-serif; font-size: 12px; fill: rgb(42, 63, 95); fill-opacity: 1; white-space: pre; opacity: 1;\" transform=\"translate(0,144.65)\">120</text></g><g class=\"ytick\"><text text-anchor=\"end\" x=\"79\" y=\"4.199999999999999\" style=\"font-family: 'Open Sans', verdana, arial, sans-serif; font-size: 12px; fill: rgb(42, 63, 95); fill-opacity: 1; white-space: pre; opacity: 1;\" transform=\"translate(0,106.28)\">140</text></g></g><g class=\"overaxes-above\"/></g><g class=\"subplot x2y2\"><g class=\"layer-subplot\"><g class=\"shapelayer\"/><g class=\"imagelayer\"/></g><g class=\"minor-gridlayer\"><g class=\"x2\"/><g class=\"y2\"/></g><g class=\"gridlayer\"><g class=\"x2\"><path class=\"x2grid crisp\" transform=\"translate(173.47,0)\" d=\"M0,341.5v178.5\" style=\"stroke: rgb(255, 255, 255); stroke-opacity: 1; stroke-width: 1px;\"/><path class=\"x2grid crisp\" transform=\"translate(267.06,0)\" d=\"M0,341.5v178.5\" style=\"stroke: rgb(255, 255, 255); stroke-opacity: 1; stroke-width: 1px;\"/><path class=\"x2grid crisp\" transform=\"translate(360.52,0)\" d=\"M0,341.5v178.5\" style=\"stroke: rgb(255, 255, 255); stroke-opacity: 1; stroke-width: 1px;\"/><path class=\"x2grid crisp\" transform=\"translate(454.12,0)\" d=\"M0,341.5v178.5\" style=\"stroke: rgb(255, 255, 255); stroke-opacity: 1; stroke-width: 1px;\"/><path class=\"x2grid crisp\" transform=\"translate(547.5799999999999,0)\" d=\"M0,341.5v178.5\" style=\"stroke: rgb(255, 255, 255); stroke-opacity: 1; stroke-width: 1px;\"/><path class=\"x2grid crisp\" transform=\"translate(641.18,0)\" d=\"M0,341.5v178.5\" style=\"stroke: rgb(255, 255, 255); stroke-opacity: 1; stroke-width: 1px;\"/><path class=\"x2grid crisp\" transform=\"translate(734.64,0)\" d=\"M0,341.5v178.5\" style=\"stroke: rgb(255, 255, 255); stroke-opacity: 1; stroke-width: 1px;\"/><path class=\"x2grid crisp\" transform=\"translate(828.24,0)\" d=\"M0,341.5v178.5\" style=\"stroke: rgb(255, 255, 255); stroke-opacity: 1; stroke-width: 1px;\"/></g><g class=\"y2\"><path class=\"y2grid crisp\" transform=\"translate(0,500.9)\" d=\"M80,0h791\" style=\"stroke: rgb(255, 255, 255); stroke-opacity: 1; stroke-width: 1px;\"/><path class=\"y2grid crisp\" transform=\"translate(0,427.19)\" d=\"M80,0h791\" style=\"stroke: rgb(255, 255, 255); stroke-opacity: 1; stroke-width: 1px;\"/><path class=\"y2grid crisp\" transform=\"translate(0,353.48)\" d=\"M80,0h791\" style=\"stroke: rgb(255, 255, 255); stroke-opacity: 1; stroke-width: 1px;\"/></g></g><g class=\"zerolinelayer\"/><path class=\"xlines-below\"/><path class=\"ylines-below\"/><g class=\"overlines-below\"/><g class=\"xaxislayer-below\"/><g class=\"yaxislayer-below\"/><g class=\"overaxes-below\"/><g class=\"plot\" transform=\"translate(80,341.5)\" clip-path=\"url(#clip111491x2y2plot)\"><g class=\"scatterlayer mlayer\"><g class=\"trace scatter trace199031\" style=\"stroke-miterlimit: 2; opacity: 1;\"><g class=\"fills\"/><g class=\"errorbars\"/><g class=\"lines\"><path class=\"js-line\" d=\"M0,136.34L3.97,141.82L7.55,110.04L11.52,118.6L15.36,97.59L19.33,86.8L23.17,134.36L27.14,129.74L31.11,127.71L38.92,124.8L42.76,121.26L46.73,133.09L50.7,140.57L54.29,109.47L58.26,128.04L62.1,110.33L66.07,103.15L69.91,118.11L73.88,118.68L77.85,118.06L81.69,108.94L85.66,103.08L89.5,114.87L93.47,109.91L97.43,122.14L101.15,125L105.12,95.33L108.96,108.1L112.93,101.49L116.77,121.81L120.74,136L124.71,130.42L128.55,136.18L132.52,161.81L136.36,159.39L140.33,166.46L144.3,169.58L147.88,148.99L151.85,155.75L155.69,153.25L159.66,136.57L163.5,155.38L167.47,165.41L171.44,149.56L175.28,147.77L179.25,155.55L183.09,132.16L187.06,141.98L191.03,159.58L194.61,113.69L198.58,130.79L202.42,122.05L206.39,100.09L210.23,133.22L214.2,132.47L218.17,117.25L222.01,116.75L225.98,113.71L229.82,100.74L233.79,127.21L237.76,134.3L241.35,89.5L245.31,118.19L249.16,91.29L253.13,87.39L256.97,121.3L260.94,126.17L264.9,115.03L268.75,127.16L272.71,104.48L276.56,101.78L280.52,122.95L284.49,111.78L288.21,116.04L292.18,129.8L296.02,90.83L299.99,113.01L303.83,92.91L307.8,117.84L311.77,114.83L315.61,103.52L319.58,95.43L323.42,142.19L327.39,107.12L331.35,128.94L334.94,105.64L338.91,98.86L346.72,83.93L350.56,112.12L354.53,112.63L358.5,109.94L362.34,90.55L366.31,97.78L370.15,111.25L374.12,94.07L378.09,107.04L381.67,89.58L385.64,92.32L389.48,89.01L393.45,83.03L397.29,111.35L401.26,108.43L405.23,110.19L409.07,93.88L413.04,103.92L416.88,101.59L420.85,96.13L424.82,117.42L428.4,65.85L432.37,88.21L436.22,87.56L440.18,50.63L444.03,94.41L447.99,95.17L451.96,81.26L455.8,89.16L459.77,87.01L463.61,75.42L467.58,92.89L471.55,91.09L475.27,69.17L479.23,63.13L483.08,52.27L487.04,30.88L490.89,98.77L494.86,84.49L498.82,75.6L502.67,87.64L506.63,79.23L510.48,67.68L514.44,66.26L518.41,83.78L522,38.51L525.97,82.11L529.81,42.11L533.78,27.81L537.62,102.81L541.59,102.09L545.56,110.47L549.4,74.53L553.37,78.9L557.21,92.02L561.18,62.77L565.15,85.24L568.73,63.74L572.7,72.46L576.54,39.7L580.51,40.01L584.35,92.02L588.32,56.21L592.29,130.5L596.13,90.65L600.1,79.63L603.94,114.12L607.91,50.85L611.88,73.91L615.46,8.93L619.43,93.97L623.27,69.22L627.24,55.22L631.08,89.5L635.05,72.93L639.02,96.59L642.86,75.84L646.83,78.28L650.67,100.67\" style=\"vector-effect: non-scaling-stroke; fill: none; stroke: rgb(0, 204, 150); stroke-opacity: 1; stroke-width: 2px; opacity: 1;\"/></g><g class=\"points\"/><g class=\"text\"/></g><g class=\"trace scatter trace29266a\" style=\"stroke-miterlimit: 2; opacity: 1;\"><g class=\"fills\"/><g class=\"errorbars\"/><g class=\"lines\"><path class=\"js-line\" d=\"M654.64,73.2L658.61,104.21L662.32,102.84L666.29,145.07L670.13,134.27L674.1,78.61L677.95,69.59L681.91,81.79L685.88,85.6L689.72,103.62L693.69,76.98L697.53,38.16L701.5,144.83L705.47,147.71L709.06,28.75L713.03,99.31L716.87,87.42L720.84,57.56L724.68,116.99L728.65,96.87L732.62,110.83L736.46,124.22L740.43,104.92L744.27,80.59L748.24,152.2L752.21,145.22L755.79,106.86L759.76,137.69L763.6,116.36L767.57,105.04L771.41,148.22L775.38,123.32L779.35,121.37L783.19,139.88L787.16,120.48L791,102.64\" style=\"vector-effect: non-scaling-stroke; fill: none; stroke: rgb(171, 99, 250); stroke-opacity: 1; stroke-width: 2px; opacity: 1;\"/></g><g class=\"points\"/><g class=\"text\"/></g><g class=\"trace scatter traceb1bed0\" style=\"stroke-miterlimit: 2; opacity: 1;\"><g class=\"fills\"/><g class=\"errorbars\"/><g class=\"lines\"><path class=\"js-line\" d=\"M654.64,82.74L658.61,94.11L662.32,64.6L666.29,79.84L670.13,63.98L674.1,53.59L677.95,87.74L681.91,86.32L685.88,88.4L689.72,79.96L693.69,79.56L697.53,84.67L701.5,79.45L705.47,90.82L709.06,61.31L713.03,76.56L716.87,60.69L720.84,50.3L724.68,84.45L728.65,83.03L732.62,85.12L736.46,76.67L740.43,76.27L744.27,81.38L748.24,76.16L752.21,87.53L755.79,58.02L759.76,73.27L763.6,57.4L767.57,47.01L771.41,81.16L775.38,79.74L779.35,81.83L783.19,73.38L787.16,72.98L791,78.09\" style=\"vector-effect: non-scaling-stroke; fill: none; stroke: rgb(255, 161, 90); stroke-opacity: 1; stroke-width: 2px; opacity: 1;\"/></g><g class=\"points\"/><g class=\"text\"/></g></g></g><g class=\"overplot\"/><path class=\"xlines-above crisp\" d=\"M0,0\" style=\"fill: none;\"/><path class=\"ylines-above crisp\" d=\"M0,0\" style=\"fill: none;\"/><g class=\"overlines-above\"/><g class=\"xaxislayer-above\"><g class=\"x2tick\"><text text-anchor=\"middle\" x=\"0\" y=\"533\" transform=\"translate(80,0)\" style=\"font-family: 'Open Sans', verdana, arial, sans-serif; font-size: 12px; fill: rgb(42, 63, 95); fill-opacity: 1; white-space: pre; opacity: 1;\">2006</text></g><g class=\"x2tick\"><text text-anchor=\"middle\" x=\"0\" y=\"533\" style=\"font-family: 'Open Sans', verdana, arial, sans-serif; font-size: 12px; fill: rgb(42, 63, 95); fill-opacity: 1; white-space: pre; opacity: 1;\" transform=\"translate(173.47,0)\">2008</text></g><g class=\"x2tick\"><text text-anchor=\"middle\" x=\"0\" y=\"533\" style=\"font-family: 'Open Sans', verdana, arial, sans-serif; font-size: 12px; fill: rgb(42, 63, 95); fill-opacity: 1; white-space: pre; opacity: 1;\" transform=\"translate(267.06,0)\">2010</text></g><g class=\"x2tick\"><text text-anchor=\"middle\" x=\"0\" y=\"533\" style=\"font-family: 'Open Sans', verdana, arial, sans-serif; font-size: 12px; fill: rgb(42, 63, 95); fill-opacity: 1; white-space: pre; opacity: 1;\" transform=\"translate(360.52,0)\">2012</text></g><g class=\"x2tick\"><text text-anchor=\"middle\" x=\"0\" y=\"533\" style=\"font-family: 'Open Sans', verdana, arial, sans-serif; font-size: 12px; fill: rgb(42, 63, 95); fill-opacity: 1; white-space: pre; opacity: 1;\" transform=\"translate(454.12,0)\">2014</text></g><g class=\"x2tick\"><text text-anchor=\"middle\" x=\"0\" y=\"533\" style=\"font-family: 'Open Sans', verdana, arial, sans-serif; font-size: 12px; fill: rgb(42, 63, 95); fill-opacity: 1; white-space: pre; opacity: 1;\" transform=\"translate(547.5799999999999,0)\">2016</text></g><g class=\"x2tick\"><text text-anchor=\"middle\" x=\"0\" y=\"533\" style=\"font-family: 'Open Sans', verdana, arial, sans-serif; font-size: 12px; fill: rgb(42, 63, 95); fill-opacity: 1; white-space: pre; opacity: 1;\" transform=\"translate(641.18,0)\">2018</text></g><g class=\"x2tick\"><text text-anchor=\"middle\" x=\"0\" y=\"533\" style=\"font-family: 'Open Sans', verdana, arial, sans-serif; font-size: 12px; fill: rgb(42, 63, 95); fill-opacity: 1; white-space: pre; opacity: 1;\" transform=\"translate(734.64,0)\">2020</text></g><g class=\"x2tick\"><text text-anchor=\"middle\" x=\"0\" y=\"533\" style=\"font-family: 'Open Sans', verdana, arial, sans-serif; font-size: 12px; fill: rgb(42, 63, 95); fill-opacity: 1; white-space: pre; opacity: 1;\" transform=\"translate(828.24,0)\">2022</text></g></g><g class=\"yaxislayer-above\"><g class=\"y2tick\"><text text-anchor=\"end\" x=\"79\" y=\"4.199999999999999\" transform=\"translate(0,500.9)\" style=\"font-family: 'Open Sans', verdana, arial, sans-serif; font-size: 12px; fill: rgb(42, 63, 95); fill-opacity: 1; white-space: pre; opacity: 1;\">50</text></g><g class=\"y2tick\"><text text-anchor=\"end\" x=\"79\" y=\"4.199999999999999\" style=\"font-family: 'Open Sans', verdana, arial, sans-serif; font-size: 12px; fill: rgb(42, 63, 95); fill-opacity: 1; white-space: pre; opacity: 1;\" transform=\"translate(0,427.19)\">100</text></g><g class=\"y2tick\"><text text-anchor=\"end\" x=\"79\" y=\"4.199999999999999\" style=\"font-family: 'Open Sans', verdana, arial, sans-serif; font-size: 12px; fill: rgb(42, 63, 95); fill-opacity: 1; white-space: pre; opacity: 1;\" transform=\"translate(0,353.48)\">150</text></g></g><g class=\"overaxes-above\"/></g></g><g class=\"polarlayer\"/><g class=\"smithlayer\"/><g class=\"ternarylayer\"/><g class=\"geolayer\"/><g class=\"funnelarealayer\"/><g class=\"pielayer\"/><g class=\"iciclelayer\"/><g class=\"treemaplayer\"/><g class=\"sunburstlayer\"/><g class=\"glimages\"/><defs id=\"topdefs-111491\"><g class=\"clips\"/><clipPath id=\"legend111491\"><rect width=\"101\" height=\"115\" x=\"0\" y=\"0\"/></clipPath></defs><g class=\"layer-above\"><g class=\"imagelayer\"/><g class=\"shapelayer\"/></g><g class=\"infolayer\"><g class=\"legend\" pointer-events=\"all\" transform=\"translate(886.82,100)\"><rect class=\"bg\" shape-rendering=\"crispEdges\" width=\"101\" height=\"115\" x=\"0\" y=\"0\" style=\"stroke: rgb(68, 68, 68); stroke-opacity: 1; fill: rgb(255, 255, 255); fill-opacity: 1; stroke-width: 0px;\"/><g class=\"scrollbox\" transform=\"\" clip-path=\"url(#legend111491)\"><g class=\"groups\" transform=\"\"><g class=\"traces\" transform=\"translate(0,14.5)\" style=\"opacity: 1;\"><text class=\"legendtext\" text-anchor=\"start\" x=\"40\" y=\"4.680000000000001\" style=\"font-family: 'Open Sans', verdana, arial, sans-serif; font-size: 12px; fill: rgb(42, 63, 95); fill-opacity: 1; white-space: pre;\">Actual</text><g class=\"layers\" style=\"opacity: 1;\"><g class=\"legendfill\"/><g class=\"legendlines\"><path class=\"js-line\" d=\"M5,0h30\" style=\"fill: none; stroke: rgb(99, 110, 250); stroke-opacity: 1; stroke-width: 2px;\"/></g><g class=\"legendsymbols\"><g class=\"legendpoints\"/></g></g><rect class=\"legendtoggle\" x=\"0\" y=\"-9.5\" width=\"95.890625\" height=\"19\" style=\"fill: rgb(0, 0, 0); fill-opacity: 0;\"/></g><g class=\"traces\" transform=\"translate(0,33.5)\" style=\"opacity: 1;\"><text class=\"legendtext\" text-anchor=\"start\" x=\"40\" y=\"4.680000000000001\" style=\"font-family: 'Open Sans', verdana, arial, sans-serif; font-size: 12px; fill: rgb(42, 63, 95); fill-opacity: 1; white-space: pre;\">Predicted</text><g class=\"layers\" style=\"opacity: 1;\"><g class=\"legendfill\"/><g class=\"legendlines\"><path class=\"js-line\" d=\"M5,0h30\" style=\"fill: none; stroke: rgb(239, 85, 59); stroke-opacity: 1; stroke-width: 2px;\"/></g><g class=\"legendsymbols\"><g class=\"legendpoints\"/></g></g><rect class=\"legendtoggle\" x=\"0\" y=\"-9.5\" width=\"95.890625\" height=\"19\" style=\"fill: rgb(0, 0, 0); fill-opacity: 0;\"/></g></g><g class=\"groups\" transform=\"translate(0,10)\"><g class=\"traces\" transform=\"translate(0,52.5)\" style=\"opacity: 1;\"><text class=\"legendtext\" text-anchor=\"start\" x=\"40\" y=\"4.680000000000001\" style=\"font-family: 'Open Sans', verdana, arial, sans-serif; font-size: 12px; fill: rgb(42, 63, 95); fill-opacity: 1; white-space: pre;\">Train</text><g class=\"layers\" style=\"opacity: 1;\"><g class=\"legendfill\"/><g class=\"legendlines\"><path class=\"js-line\" d=\"M5,0h30\" style=\"fill: none; stroke: rgb(0, 204, 150); stroke-opacity: 1; stroke-width: 2px;\"/></g><g class=\"legendsymbols\"><g class=\"legendpoints\"/></g></g><rect class=\"legendtoggle\" x=\"0\" y=\"-9.5\" width=\"95.890625\" height=\"19\" style=\"fill: rgb(0, 0, 0); fill-opacity: 0;\"/></g><g class=\"traces\" transform=\"translate(0,71.5)\" style=\"opacity: 1;\"><text class=\"legendtext\" text-anchor=\"start\" x=\"40\" y=\"4.680000000000001\" style=\"font-family: 'Open Sans', verdana, arial, sans-serif; font-size: 12px; fill: rgb(42, 63, 95); fill-opacity: 1; white-space: pre;\">Test</text><g class=\"layers\" style=\"opacity: 1;\"><g class=\"legendfill\"/><g class=\"legendlines\"><path class=\"js-line\" d=\"M5,0h30\" style=\"fill: none; stroke: rgb(171, 99, 250); stroke-opacity: 1; stroke-width: 2px;\"/></g><g class=\"legendsymbols\"><g class=\"legendpoints\"/></g></g><rect class=\"legendtoggle\" x=\"0\" y=\"-9.5\" width=\"95.890625\" height=\"19\" style=\"fill: rgb(0, 0, 0); fill-opacity: 0;\"/></g><g class=\"traces\" transform=\"translate(0,90.5)\" style=\"opacity: 1;\"><text class=\"legendtext\" text-anchor=\"start\" x=\"40\" y=\"4.680000000000001\" style=\"font-family: 'Open Sans', verdana, arial, sans-serif; font-size: 12px; fill: rgb(42, 63, 95); fill-opacity: 1; white-space: pre;\">Forecast</text><g class=\"layers\" style=\"opacity: 1;\"><g class=\"legendfill\"/><g class=\"legendlines\"><path class=\"js-line\" d=\"M5,0h30\" style=\"fill: none; stroke: rgb(255, 161, 90); stroke-opacity: 1; stroke-width: 2px;\"/></g><g class=\"legendsymbols\"><g class=\"legendpoints\"/></g></g><rect class=\"legendtoggle\" x=\"0\" y=\"-9.5\" width=\"95.890625\" height=\"19\" style=\"fill: rgb(0, 0, 0); fill-opacity: 0;\"/></g></g></g><rect class=\"scrollbar\" rx=\"20\" ry=\"3\" width=\"0\" height=\"0\" x=\"0\" y=\"0\" style=\"fill: rgb(128, 139, 164); fill-opacity: 1;\"/></g><g class=\"g-gtitle\"><text class=\"gtitle\" x=\"50\" y=\"50\" text-anchor=\"start\" dy=\"0em\" style=\"font-family: 'Open Sans', verdana, arial, sans-serif; font-size: 17px; fill: rgb(42, 63, 95); opacity: 1; font-weight: normal; white-space: pre;\">Triple Exponential Smoothing Predictions - DEN</text></g><g class=\"g-xtitle\"/><g class=\"g-x2title\"/><g class=\"g-ytitle\"/><g class=\"g-y2title\"/></g></svg>"
     },
     "metadata": {},
     "output_type": "display_data"
    }
   ],
   "source": [
    "model_name='Triple Exponential Smoothing'\n",
    "\n",
    "# Train\n",
    "model = ExponentialSmoothing(train[dep_var],trend='add',seasonal='add',seasonal_periods=12).fit()\n",
    "\n",
    "# Predict\n",
    "predictions = model.predict(start=start, end=end)\n",
    "\n",
    "# Forecast accuracy\n",
    "forecast_accuracy(model_name, test[dep_var], predictions, True, True)"
   ]
  },
  {
   "cell_type": "code",
   "execution_count": 11,
   "metadata": {},
   "outputs": [
    {
     "data": {
      "text/html": [
       "<div>\n",
       "<style scoped>\n",
       "    .dataframe tbody tr th:only-of-type {\n",
       "        vertical-align: middle;\n",
       "    }\n",
       "\n",
       "    .dataframe tbody tr th {\n",
       "        vertical-align: top;\n",
       "    }\n",
       "\n",
       "    .dataframe thead th {\n",
       "        text-align: right;\n",
       "    }\n",
       "</style>\n",
       "<table border=\"1\" class=\"dataframe\">\n",
       "  <thead>\n",
       "    <tr style=\"text-align: right;\">\n",
       "      <th></th>\n",
       "      <th>Simple Exponential Smoothing</th>\n",
       "      <th>Double Exponential Smoothing</th>\n",
       "      <th>Triple Exponential Smoothing</th>\n",
       "    </tr>\n",
       "  </thead>\n",
       "  <tbody>\n",
       "    <tr>\n",
       "      <th>Mean Absolute Error</th>\n",
       "      <td>22.715779</td>\n",
       "      <td>24.455470</td>\n",
       "      <td>25.060178</td>\n",
       "    </tr>\n",
       "    <tr>\n",
       "      <th>Mean Squared Error</th>\n",
       "      <td>736.196571</td>\n",
       "      <td>837.055108</td>\n",
       "      <td>858.155875</td>\n",
       "    </tr>\n",
       "    <tr>\n",
       "      <th>Root Mean Squared Error</th>\n",
       "      <td>27.132943</td>\n",
       "      <td>28.931905</td>\n",
       "      <td>29.294298</td>\n",
       "    </tr>\n",
       "    <tr>\n",
       "      <th>R^2</th>\n",
       "      <td>-0.715648</td>\n",
       "      <td>-0.950691</td>\n",
       "      <td>-0.999864</td>\n",
       "    </tr>\n",
       "    <tr>\n",
       "      <th>Mean Absolute Percentage Error</th>\n",
       "      <td>31.431946</td>\n",
       "      <td>33.821299</td>\n",
       "      <td>34.282128</td>\n",
       "    </tr>\n",
       "    <tr>\n",
       "      <th>Accuracy</th>\n",
       "      <td>68.568054</td>\n",
       "      <td>66.178701</td>\n",
       "      <td>65.717872</td>\n",
       "    </tr>\n",
       "  </tbody>\n",
       "</table>\n",
       "</div>"
      ],
      "text/plain": [
       "                                Simple Exponential Smoothing  \\\n",
       "Mean Absolute Error                                22.715779   \n",
       "Mean Squared Error                                736.196571   \n",
       "Root Mean Squared Error                            27.132943   \n",
       "R^2                                                -0.715648   \n",
       "Mean Absolute Percentage Error                     31.431946   \n",
       "Accuracy                                           68.568054   \n",
       "\n",
       "                                Double Exponential Smoothing  \\\n",
       "Mean Absolute Error                                24.455470   \n",
       "Mean Squared Error                                837.055108   \n",
       "Root Mean Squared Error                            28.931905   \n",
       "R^2                                                -0.950691   \n",
       "Mean Absolute Percentage Error                     33.821299   \n",
       "Accuracy                                           66.178701   \n",
       "\n",
       "                                Triple Exponential Smoothing  \n",
       "Mean Absolute Error                                25.060178  \n",
       "Mean Squared Error                                858.155875  \n",
       "Root Mean Squared Error                            29.294298  \n",
       "R^2                                                -0.999864  \n",
       "Mean Absolute Percentage Error                     34.282128  \n",
       "Accuracy                                           65.717872  "
      ]
     },
     "execution_count": 11,
     "metadata": {},
     "output_type": "execute_result"
    }
   ],
   "source": [
    "metrics"
   ]
  },
  {
   "attachments": {},
   "cell_type": "markdown",
   "metadata": {},
   "source": [
    "#### ARIMA"
   ]
  },
  {
   "cell_type": "code",
   "execution_count": 12,
   "metadata": {},
   "outputs": [
    {
     "name": "stdout",
     "output_type": "stream",
     "text": [
      "Performing stepwise search to minimize aic\n",
      " ARIMA(1,0,1)(0,0,0)[0]             : AIC=1350.790, Time=0.14 sec\n",
      " ARIMA(0,0,0)(0,0,0)[0]             : AIC=1990.537, Time=0.02 sec\n",
      " ARIMA(1,0,0)(0,0,0)[0]             : AIC=1420.659, Time=0.02 sec\n",
      " ARIMA(0,0,1)(0,0,0)[0]             : AIC=1802.877, Time=0.06 sec\n",
      " ARIMA(2,0,1)(0,0,0)[0]             : AIC=1352.782, Time=0.12 sec\n",
      " ARIMA(1,0,2)(0,0,0)[0]             : AIC=1352.784, Time=0.11 sec\n",
      " ARIMA(0,0,2)(0,0,0)[0]             : AIC=1742.687, Time=0.13 sec\n",
      " ARIMA(2,0,0)(0,0,0)[0]             : AIC=inf, Time=0.05 sec\n",
      " ARIMA(2,0,2)(0,0,0)[0]             : AIC=1351.158, Time=0.15 sec\n",
      " ARIMA(1,0,1)(0,0,0)[0] intercept   : AIC=1347.468, Time=0.19 sec\n",
      " ARIMA(0,0,1)(0,0,0)[0] intercept   : AIC=1435.540, Time=0.07 sec\n",
      " ARIMA(1,0,0)(0,0,0)[0] intercept   : AIC=1390.179, Time=0.02 sec\n",
      " ARIMA(2,0,1)(0,0,0)[0] intercept   : AIC=1349.432, Time=0.28 sec\n",
      " ARIMA(1,0,2)(0,0,0)[0] intercept   : AIC=1349.445, Time=0.25 sec\n",
      " ARIMA(0,0,0)(0,0,0)[0] intercept   : AIC=1485.330, Time=0.02 sec\n",
      " ARIMA(0,0,2)(0,0,0)[0] intercept   : AIC=1402.759, Time=0.12 sec\n",
      " ARIMA(2,0,0)(0,0,0)[0] intercept   : AIC=1357.930, Time=0.10 sec\n",
      " ARIMA(2,0,2)(0,0,0)[0] intercept   : AIC=1347.999, Time=0.30 sec\n",
      "\n",
      "Best model:  ARIMA(1,0,1)(0,0,0)[0] intercept\n",
      "Total fit time: 2.135 seconds\n"
     ]
    }
   ],
   "source": [
    "#Standard ARIMA Model\n",
    "model = auto_arima(train[dep_var], \n",
    "                    start_p=1, \n",
    "                    start_q=1,\n",
    "                    test='adf',                 # Use adftest to find optimal 'd'\n",
    "                    max_p=3, max_q=3,           # Maximum p and q\n",
    "                    m=1,                        # Frequency of series (if m==1, seasonal is set to FALSE automatically)\n",
    "                    d=None,                     # Let model determine 'd'\n",
    "                    seasonal=False,             # No Seasonality for standard ARIMA\n",
    "                    trace=True,                 # Logs \n",
    "                    error_action= 'warn',       # Shows errors ('ignore' silences these)\n",
    "                    suppress_warnings=True,\n",
    "                    stepwise=True)                    "
   ]
  },
  {
   "cell_type": "code",
   "execution_count": 13,
   "metadata": {},
   "outputs": [],
   "source": [
    "#model.plot_diagnostics(figsize=(15,12))\n",
    "#plt.show()"
   ]
  },
  {
   "cell_type": "code",
   "execution_count": 14,
   "metadata": {},
   "outputs": [
    {
     "data": {
      "text/html": [
       "<table class=\"simpletable\">\n",
       "<caption>SARIMAX Results</caption>\n",
       "<tr>\n",
       "  <th>Dep. Variable:</th>           <td>y</td>        <th>  No. Observations:  </th>    <td>168</td>  \n",
       "</tr>\n",
       "<tr>\n",
       "  <th>Model:</th>           <td>SARIMAX(1, 0, 1)</td> <th>  Log Likelihood     </th> <td>-669.734</td>\n",
       "</tr>\n",
       "<tr>\n",
       "  <th>Date:</th>            <td>Thu, 16 Feb 2023</td> <th>  AIC                </th> <td>1347.468</td>\n",
       "</tr>\n",
       "<tr>\n",
       "  <th>Time:</th>                <td>16:57:25</td>     <th>  BIC                </th> <td>1359.964</td>\n",
       "</tr>\n",
       "<tr>\n",
       "  <th>Sample:</th>             <td>01-01-2006</td>    <th>  HQIC               </th> <td>1352.540</td>\n",
       "</tr>\n",
       "<tr>\n",
       "  <th></th>                   <td>- 12-01-2019</td>   <th>                     </th>     <td> </td>   \n",
       "</tr>\n",
       "<tr>\n",
       "  <th>Covariance Type:</th>        <td>opg</td>       <th>                     </th>     <td> </td>   \n",
       "</tr>\n",
       "</table>\n",
       "<table class=\"simpletable\">\n",
       "<tr>\n",
       "      <td></td>         <th>coef</th>     <th>std err</th>      <th>z</th>      <th>P>|z|</th>  <th>[0.025</th>    <th>0.975]</th>  \n",
       "</tr>\n",
       "<tr>\n",
       "  <th>intercept</th> <td>    2.1649</td> <td>    1.763</td> <td>    1.228</td> <td> 0.219</td> <td>   -1.290</td> <td>    5.619</td>\n",
       "</tr>\n",
       "<tr>\n",
       "  <th>ar.L1</th>     <td>    0.9753</td> <td>    0.020</td> <td>   49.484</td> <td> 0.000</td> <td>    0.937</td> <td>    1.014</td>\n",
       "</tr>\n",
       "<tr>\n",
       "  <th>ma.L1</th>     <td>   -0.7267</td> <td>    0.059</td> <td>  -12.269</td> <td> 0.000</td> <td>   -0.843</td> <td>   -0.611</td>\n",
       "</tr>\n",
       "<tr>\n",
       "  <th>sigma2</th>    <td>  168.5761</td> <td>   15.286</td> <td>   11.028</td> <td> 0.000</td> <td>  138.617</td> <td>  198.535</td>\n",
       "</tr>\n",
       "</table>\n",
       "<table class=\"simpletable\">\n",
       "<tr>\n",
       "  <th>Ljung-Box (L1) (Q):</th>     <td>0.02</td> <th>  Jarque-Bera (JB):  </th> <td>6.84</td>\n",
       "</tr>\n",
       "<tr>\n",
       "  <th>Prob(Q):</th>                <td>0.88</td> <th>  Prob(JB):          </th> <td>0.03</td>\n",
       "</tr>\n",
       "<tr>\n",
       "  <th>Heteroskedasticity (H):</th> <td>2.45</td> <th>  Skew:              </th> <td>0.18</td>\n",
       "</tr>\n",
       "<tr>\n",
       "  <th>Prob(H) (two-sided):</th>    <td>0.00</td> <th>  Kurtosis:          </th> <td>3.92</td>\n",
       "</tr>\n",
       "</table><br/><br/>Warnings:<br/>[1] Covariance matrix calculated using the outer product of gradients (complex-step)."
      ],
      "text/plain": [
       "<class 'statsmodels.iolib.summary.Summary'>\n",
       "\"\"\"\n",
       "                               SARIMAX Results                                \n",
       "==============================================================================\n",
       "Dep. Variable:                      y   No. Observations:                  168\n",
       "Model:               SARIMAX(1, 0, 1)   Log Likelihood                -669.734\n",
       "Date:                Thu, 16 Feb 2023   AIC                           1347.468\n",
       "Time:                        16:57:25   BIC                           1359.964\n",
       "Sample:                    01-01-2006   HQIC                          1352.540\n",
       "                         - 12-01-2019                                         \n",
       "Covariance Type:                  opg                                         \n",
       "==============================================================================\n",
       "                 coef    std err          z      P>|z|      [0.025      0.975]\n",
       "------------------------------------------------------------------------------\n",
       "intercept      2.1649      1.763      1.228      0.219      -1.290       5.619\n",
       "ar.L1          0.9753      0.020     49.484      0.000       0.937       1.014\n",
       "ma.L1         -0.7267      0.059    -12.269      0.000      -0.843      -0.611\n",
       "sigma2       168.5761     15.286     11.028      0.000     138.617     198.535\n",
       "===================================================================================\n",
       "Ljung-Box (L1) (Q):                   0.02   Jarque-Bera (JB):                 6.84\n",
       "Prob(Q):                              0.88   Prob(JB):                         0.03\n",
       "Heteroskedasticity (H):               2.45   Skew:                             0.18\n",
       "Prob(H) (two-sided):                  0.00   Kurtosis:                         3.92\n",
       "===================================================================================\n",
       "\n",
       "Warnings:\n",
       "[1] Covariance matrix calculated using the outer product of gradients (complex-step).\n",
       "\"\"\""
      ]
     },
     "execution_count": 14,
     "metadata": {},
     "output_type": "execute_result"
    }
   ],
   "source": [
    "model.summary()"
   ]
  },
  {
   "cell_type": "code",
   "execution_count": 15,
   "metadata": {},
   "outputs": [
    {
     "name": "stdout",
     "output_type": "stream",
     "text": [
      "ARIMA Model Performance:\n",
      "Mean Absolute Error: 18.19.\n",
      "Mean Squared Error: 492.57.\n",
      "Root Mean Squared Error: 22.19.\n",
      "R^2 Score = -0.15.\n",
      "Mean Absolute Percentage Error: 24.48%.\n",
      "Accuracy = 75.52%.\n"
     ]
    },
    {
     "data": {
      "image/svg+xml": "<svg class=\"main-svg\" xmlns=\"http://www.w3.org/2000/svg\" xmlns:xlink=\"http://www.w3.org/1999/xlink\" width=\"1000\" height=\"600\" style=\"\" viewBox=\"0 0 1000 600\"><rect x=\"0\" y=\"0\" width=\"1000\" height=\"600\" style=\"fill: rgb(255, 255, 255); fill-opacity: 1;\"/><defs id=\"defs-d610df\"><g class=\"clips\"><clipPath id=\"clipd610dfxyplot\" class=\"plotclip\"><rect width=\"791\" height=\"178.50000000000003\"/></clipPath><clipPath id=\"clipd610dfx2y2plot\" class=\"plotclip\"><rect width=\"791\" height=\"178.5\"/></clipPath><clipPath class=\"axesclip\" id=\"clipd610dfx\"><rect x=\"80\" y=\"0\" width=\"791\" height=\"600\"/></clipPath><clipPath class=\"axesclip\" id=\"clipd610dfy\"><rect x=\"0\" y=\"100\" width=\"1000\" height=\"178.50000000000003\"/></clipPath><clipPath class=\"axesclip\" id=\"clipd610dfxy\"><rect x=\"80\" y=\"100\" width=\"791\" height=\"178.50000000000003\"/></clipPath><clipPath class=\"axesclip\" id=\"clipd610dfy2\"><rect x=\"0\" y=\"341.5\" width=\"1000\" height=\"178.5\"/></clipPath><clipPath class=\"axesclip\" id=\"clipd610dfxy2\"><rect x=\"80\" y=\"341.5\" width=\"791\" height=\"178.5\"/></clipPath><clipPath class=\"axesclip\" id=\"clipd610dfx2\"><rect x=\"80\" y=\"0\" width=\"791\" height=\"600\"/></clipPath><clipPath class=\"axesclip\" id=\"clipd610dfx2y\"><rect x=\"80\" y=\"100\" width=\"791\" height=\"178.50000000000003\"/></clipPath><clipPath class=\"axesclip\" id=\"clipd610dfx2y2\"><rect x=\"80\" y=\"341.5\" width=\"791\" height=\"178.5\"/></clipPath></g><g class=\"gradients\"/><g class=\"patterns\"/></defs><g class=\"bglayer\"><rect class=\"bg\" x=\"80\" y=\"100\" width=\"791\" height=\"178.50000000000003\" style=\"fill: rgb(229, 236, 246); fill-opacity: 1; stroke-width: 0;\"/><rect class=\"bg\" x=\"80\" y=\"341.5\" width=\"791\" height=\"178.5\" style=\"fill: rgb(229, 236, 246); fill-opacity: 1; stroke-width: 0;\"/></g><g class=\"layer-below\"><g class=\"imagelayer\"/><g class=\"shapelayer\"/></g><g class=\"cartesianlayer\"><g class=\"subplot xy\"><g class=\"layer-subplot\"><g class=\"shapelayer\"/><g class=\"imagelayer\"/></g><g class=\"minor-gridlayer\"><g class=\"x\"/><g class=\"y\"/></g><g class=\"gridlayer\"><g class=\"x\"><path class=\"xgrid crisp\" transform=\"translate(215.18,0)\" d=\"M0,100v178.50000000000003\" style=\"stroke: rgb(255, 255, 255); stroke-opacity: 1; stroke-width: 1px;\"/><path class=\"xgrid crisp\" transform=\"translate(351.84,0)\" d=\"M0,100v178.50000000000003\" style=\"stroke: rgb(255, 255, 255); stroke-opacity: 1; stroke-width: 1px;\"/><path class=\"xgrid crisp\" transform=\"translate(486.27,0)\" d=\"M0,100v178.50000000000003\" style=\"stroke: rgb(255, 255, 255); stroke-opacity: 1; stroke-width: 1px;\"/><path class=\"xgrid crisp\" transform=\"translate(622.93,0)\" d=\"M0,100v178.50000000000003\" style=\"stroke: rgb(255, 255, 255); stroke-opacity: 1; stroke-width: 1px;\"/><path class=\"xgrid crisp\" transform=\"translate(757.36,0)\" d=\"M0,100v178.50000000000003\" style=\"stroke: rgb(255, 255, 255); stroke-opacity: 1; stroke-width: 1px;\"/></g><g class=\"y\"><path class=\"ygrid crisp\" transform=\"translate(0,259.76)\" d=\"M80,0h791\" style=\"stroke: rgb(255, 255, 255); stroke-opacity: 1; stroke-width: 1px;\"/><path class=\"ygrid crisp\" transform=\"translate(0,221.39)\" d=\"M80,0h791\" style=\"stroke: rgb(255, 255, 255); stroke-opacity: 1; stroke-width: 1px;\"/><path class=\"ygrid crisp\" transform=\"translate(0,183.01999999999998)\" d=\"M80,0h791\" style=\"stroke: rgb(255, 255, 255); stroke-opacity: 1; stroke-width: 1px;\"/><path class=\"ygrid crisp\" transform=\"translate(0,144.65)\" d=\"M80,0h791\" style=\"stroke: rgb(255, 255, 255); stroke-opacity: 1; stroke-width: 1px;\"/><path class=\"ygrid crisp\" transform=\"translate(0,106.28)\" d=\"M80,0h791\" style=\"stroke: rgb(255, 255, 255); stroke-opacity: 1; stroke-width: 1px;\"/></g></g><g class=\"zerolinelayer\"/><path class=\"xlines-below\"/><path class=\"ylines-below\"/><g class=\"overlines-below\"/><g class=\"xaxislayer-below\"/><g class=\"yaxislayer-below\"/><g class=\"overaxes-below\"/><g class=\"plot\" transform=\"translate(80,100)\" clip-path=\"url(#clipd610dfxyplot)\"><g class=\"scatterlayer mlayer\"><g class=\"trace scatter tracec6f57f\" style=\"stroke-miterlimit: 2; opacity: 1;\"><g class=\"fills\"/><g class=\"errorbars\"/><g class=\"lines\"><path class=\"js-line\" d=\"M0,66.77L23.02,107.13L44.56,105.35L67.59,160.29L89.87,146.25L112.89,73.81L135.18,62.07L158.2,77.95L181.22,82.91L203.51,106.36L226.53,71.69L248.81,21.17L271.84,159.99L294.86,163.74L315.66,8.92L338.68,100.75L360.96,85.27L383.99,46.41L406.27,123.75L429.29,97.57L452.32,115.74L474.6,133.17L497.62,108.04L519.91,76.38L542.93,169.58L565.95,160.5L586.75,110.57L609.78,150.69L632.06,122.94L655.08,108.2L677.36,164.41L700.39,132L723.41,129.46L745.69,153.54L768.72,128.3L791,105.08\" style=\"vector-effect: non-scaling-stroke; fill: none; stroke: rgb(99, 110, 250); stroke-opacity: 1; stroke-width: 2px; opacity: 1;\"/></g><g class=\"points\"/><g class=\"text\"/></g><g class=\"trace scatter tracecba378\" style=\"stroke-miterlimit: 2; opacity: 1;\"><g class=\"fills\"/><g class=\"errorbars\"/><g class=\"lines\"><path class=\"js-line\" d=\"M0,83.5L248.81,89.13L271.84,89.57L565.95,94.39L586.75,94.69L791,97.16\" style=\"vector-effect: non-scaling-stroke; fill: none; stroke: rgb(239, 85, 59); stroke-opacity: 1; stroke-width: 2px; opacity: 1;\"/></g><g class=\"points\"/><g class=\"text\"/></g></g></g><g class=\"overplot\"/><path class=\"xlines-above crisp\" d=\"M0,0\" style=\"fill: none;\"/><path class=\"ylines-above crisp\" d=\"M0,0\" style=\"fill: none;\"/><g class=\"overlines-above\"/><g class=\"xaxislayer-above\"><g class=\"xtick\"><text text-anchor=\"middle\" x=\"0\" y=\"291.5\" transform=\"translate(80,0)\" style=\"font-family: 'Open Sans', verdana, arial, sans-serif; font-size: 12px; fill: rgb(42, 63, 95); fill-opacity: 1; white-space: pre; opacity: 1;\">Jan 2020</text></g><g class=\"xtick\"><text text-anchor=\"middle\" x=\"0\" y=\"291.5\" style=\"font-family: 'Open Sans', verdana, arial, sans-serif; font-size: 12px; fill: rgb(42, 63, 95); fill-opacity: 1; white-space: pre; opacity: 1;\" transform=\"translate(215.18,0)\">Jul 2020</text></g><g class=\"xtick\"><text text-anchor=\"middle\" x=\"0\" y=\"291.5\" style=\"font-family: 'Open Sans', verdana, arial, sans-serif; font-size: 12px; fill: rgb(42, 63, 95); fill-opacity: 1; white-space: pre; opacity: 1;\" transform=\"translate(351.84,0)\">Jan 2021</text></g><g class=\"xtick\"><text text-anchor=\"middle\" x=\"0\" y=\"291.5\" style=\"font-family: 'Open Sans', verdana, arial, sans-serif; font-size: 12px; fill: rgb(42, 63, 95); fill-opacity: 1; white-space: pre; opacity: 1;\" transform=\"translate(486.27,0)\">Jul 2021</text></g><g class=\"xtick\"><text text-anchor=\"middle\" x=\"0\" y=\"291.5\" style=\"font-family: 'Open Sans', verdana, arial, sans-serif; font-size: 12px; fill: rgb(42, 63, 95); fill-opacity: 1; white-space: pre; opacity: 1;\" transform=\"translate(622.93,0)\">Jan 2022</text></g><g class=\"xtick\"><text text-anchor=\"middle\" x=\"0\" y=\"291.5\" style=\"font-family: 'Open Sans', verdana, arial, sans-serif; font-size: 12px; fill: rgb(42, 63, 95); fill-opacity: 1; white-space: pre; opacity: 1;\" transform=\"translate(757.36,0)\">Jul 2022</text></g></g><g class=\"yaxislayer-above\"><g class=\"ytick\"><text text-anchor=\"end\" x=\"79\" y=\"4.199999999999999\" transform=\"translate(0,259.76)\" style=\"font-family: 'Open Sans', verdana, arial, sans-serif; font-size: 12px; fill: rgb(42, 63, 95); fill-opacity: 1; white-space: pre; opacity: 1;\">60</text></g><g class=\"ytick\"><text text-anchor=\"end\" x=\"79\" y=\"4.199999999999999\" style=\"font-family: 'Open Sans', verdana, arial, sans-serif; font-size: 12px; fill: rgb(42, 63, 95); fill-opacity: 1; white-space: pre; opacity: 1;\" transform=\"translate(0,221.39)\">80</text></g><g class=\"ytick\"><text text-anchor=\"end\" x=\"79\" y=\"4.199999999999999\" style=\"font-family: 'Open Sans', verdana, arial, sans-serif; font-size: 12px; fill: rgb(42, 63, 95); fill-opacity: 1; white-space: pre; opacity: 1;\" transform=\"translate(0,183.01999999999998)\">100</text></g><g class=\"ytick\"><text text-anchor=\"end\" x=\"79\" y=\"4.199999999999999\" style=\"font-family: 'Open Sans', verdana, arial, sans-serif; font-size: 12px; fill: rgb(42, 63, 95); fill-opacity: 1; white-space: pre; opacity: 1;\" transform=\"translate(0,144.65)\">120</text></g><g class=\"ytick\"><text text-anchor=\"end\" x=\"79\" y=\"4.199999999999999\" style=\"font-family: 'Open Sans', verdana, arial, sans-serif; font-size: 12px; fill: rgb(42, 63, 95); fill-opacity: 1; white-space: pre; opacity: 1;\" transform=\"translate(0,106.28)\">140</text></g></g><g class=\"overaxes-above\"/></g><g class=\"subplot x2y2\"><g class=\"layer-subplot\"><g class=\"shapelayer\"/><g class=\"imagelayer\"/></g><g class=\"minor-gridlayer\"><g class=\"x2\"/><g class=\"y2\"/></g><g class=\"gridlayer\"><g class=\"x2\"><path class=\"x2grid crisp\" transform=\"translate(173.47,0)\" d=\"M0,341.5v178.5\" style=\"stroke: rgb(255, 255, 255); stroke-opacity: 1; stroke-width: 1px;\"/><path class=\"x2grid crisp\" transform=\"translate(267.06,0)\" d=\"M0,341.5v178.5\" style=\"stroke: rgb(255, 255, 255); stroke-opacity: 1; stroke-width: 1px;\"/><path class=\"x2grid crisp\" transform=\"translate(360.52,0)\" d=\"M0,341.5v178.5\" style=\"stroke: rgb(255, 255, 255); stroke-opacity: 1; stroke-width: 1px;\"/><path class=\"x2grid crisp\" transform=\"translate(454.12,0)\" d=\"M0,341.5v178.5\" style=\"stroke: rgb(255, 255, 255); stroke-opacity: 1; stroke-width: 1px;\"/><path class=\"x2grid crisp\" transform=\"translate(547.5799999999999,0)\" d=\"M0,341.5v178.5\" style=\"stroke: rgb(255, 255, 255); stroke-opacity: 1; stroke-width: 1px;\"/><path class=\"x2grid crisp\" transform=\"translate(641.18,0)\" d=\"M0,341.5v178.5\" style=\"stroke: rgb(255, 255, 255); stroke-opacity: 1; stroke-width: 1px;\"/><path class=\"x2grid crisp\" transform=\"translate(734.64,0)\" d=\"M0,341.5v178.5\" style=\"stroke: rgb(255, 255, 255); stroke-opacity: 1; stroke-width: 1px;\"/><path class=\"x2grid crisp\" transform=\"translate(828.24,0)\" d=\"M0,341.5v178.5\" style=\"stroke: rgb(255, 255, 255); stroke-opacity: 1; stroke-width: 1px;\"/></g><g class=\"y2\"><path class=\"y2grid crisp\" transform=\"translate(0,500.9)\" d=\"M80,0h791\" style=\"stroke: rgb(255, 255, 255); stroke-opacity: 1; stroke-width: 1px;\"/><path class=\"y2grid crisp\" transform=\"translate(0,427.19)\" d=\"M80,0h791\" style=\"stroke: rgb(255, 255, 255); stroke-opacity: 1; stroke-width: 1px;\"/><path class=\"y2grid crisp\" transform=\"translate(0,353.48)\" d=\"M80,0h791\" style=\"stroke: rgb(255, 255, 255); stroke-opacity: 1; stroke-width: 1px;\"/></g></g><g class=\"zerolinelayer\"/><path class=\"xlines-below\"/><path class=\"ylines-below\"/><g class=\"overlines-below\"/><g class=\"xaxislayer-below\"/><g class=\"yaxislayer-below\"/><g class=\"overaxes-below\"/><g class=\"plot\" transform=\"translate(80,341.5)\" clip-path=\"url(#clipd610dfx2y2plot)\"><g class=\"scatterlayer mlayer\"><g class=\"trace scatter trace5a3e8b\" style=\"stroke-miterlimit: 2; opacity: 1;\"><g class=\"fills\"/><g class=\"errorbars\"/><g class=\"lines\"><path class=\"js-line\" d=\"M0,136.34L3.97,141.82L7.55,110.04L11.52,118.6L15.36,97.59L19.33,86.8L23.17,134.36L27.14,129.74L31.11,127.71L38.92,124.8L42.76,121.26L46.73,133.09L50.7,140.57L54.29,109.47L58.26,128.04L62.1,110.33L66.07,103.15L69.91,118.11L73.88,118.68L77.85,118.06L81.69,108.94L85.66,103.08L89.5,114.87L93.47,109.91L97.43,122.14L101.15,125L105.12,95.33L108.96,108.1L112.93,101.49L116.77,121.81L120.74,136L124.71,130.42L128.55,136.18L132.52,161.81L136.36,159.39L140.33,166.46L144.3,169.58L147.88,148.99L151.85,155.75L155.69,153.25L159.66,136.57L163.5,155.38L167.47,165.41L171.44,149.56L175.28,147.77L179.25,155.55L183.09,132.16L187.06,141.98L191.03,159.58L194.61,113.69L198.58,130.79L202.42,122.05L206.39,100.09L210.23,133.22L214.2,132.47L218.17,117.25L222.01,116.75L225.98,113.71L229.82,100.74L233.79,127.21L237.76,134.3L241.35,89.5L245.31,118.19L249.16,91.29L253.13,87.39L256.97,121.3L260.94,126.17L264.9,115.03L268.75,127.16L272.71,104.48L276.56,101.78L280.52,122.95L284.49,111.78L288.21,116.04L292.18,129.8L296.02,90.83L299.99,113.01L303.83,92.91L307.8,117.84L311.77,114.83L315.61,103.52L319.58,95.43L323.42,142.19L327.39,107.12L331.35,128.94L334.94,105.64L338.91,98.86L346.72,83.93L350.56,112.12L354.53,112.63L358.5,109.94L362.34,90.55L366.31,97.78L370.15,111.25L374.12,94.07L378.09,107.04L381.67,89.58L385.64,92.32L389.48,89.01L393.45,83.03L397.29,111.35L401.26,108.43L405.23,110.19L409.07,93.88L413.04,103.92L416.88,101.59L420.85,96.13L424.82,117.42L428.4,65.85L432.37,88.21L436.22,87.56L440.18,50.63L444.03,94.41L447.99,95.17L451.96,81.26L455.8,89.16L459.77,87.01L463.61,75.42L467.58,92.89L471.55,91.09L475.27,69.17L479.23,63.13L483.08,52.27L487.04,30.88L490.89,98.77L494.86,84.49L498.82,75.6L502.67,87.64L506.63,79.23L510.48,67.68L514.44,66.26L518.41,83.78L522,38.51L525.97,82.11L529.81,42.11L533.78,27.81L537.62,102.81L541.59,102.09L545.56,110.47L549.4,74.53L553.37,78.9L557.21,92.02L561.18,62.77L565.15,85.24L568.73,63.74L572.7,72.46L576.54,39.7L580.51,40.01L584.35,92.02L588.32,56.21L592.29,130.5L596.13,90.65L600.1,79.63L603.94,114.12L607.91,50.85L611.88,73.91L615.46,8.93L619.43,93.97L623.27,69.22L627.24,55.22L631.08,89.5L635.05,72.93L639.02,96.59L642.86,75.84L646.83,78.28L650.67,100.67\" style=\"vector-effect: non-scaling-stroke; fill: none; stroke: rgb(0, 204, 150); stroke-opacity: 1; stroke-width: 2px; opacity: 1;\"/></g><g class=\"points\"/><g class=\"text\"/></g><g class=\"trace scatter trace3df782\" style=\"stroke-miterlimit: 2; opacity: 1;\"><g class=\"fills\"/><g class=\"errorbars\"/><g class=\"lines\"><path class=\"js-line\" d=\"M654.64,73.2L658.61,104.21L662.32,102.84L666.29,145.07L670.13,134.27L674.1,78.61L677.95,69.59L681.91,81.79L685.88,85.6L689.72,103.62L693.69,76.98L697.53,38.16L701.5,144.83L705.47,147.71L709.06,28.75L713.03,99.31L716.87,87.42L720.84,57.56L724.68,116.99L728.65,96.87L732.62,110.83L736.46,124.22L740.43,104.92L744.27,80.59L748.24,152.2L752.21,145.22L755.79,106.86L759.76,137.69L763.6,116.36L767.57,105.04L771.41,148.22L775.38,123.32L779.35,121.37L783.19,139.88L787.16,120.48L791,102.64\" style=\"vector-effect: non-scaling-stroke; fill: none; stroke: rgb(171, 99, 250); stroke-opacity: 1; stroke-width: 2px; opacity: 1;\"/></g><g class=\"points\"/><g class=\"text\"/></g><g class=\"trace scatter trace8b37af\" style=\"stroke-miterlimit: 2; opacity: 1;\"><g class=\"fills\"/><g class=\"errorbars\"/><g class=\"lines\"><path class=\"js-line\" d=\"M654.64,86.06L709.06,91.37L713.03,91.69L771.41,95.55L775.38,95.76L791,96.55\" style=\"vector-effect: non-scaling-stroke; fill: none; stroke: rgb(255, 161, 90); stroke-opacity: 1; stroke-width: 2px; opacity: 1;\"/></g><g class=\"points\"/><g class=\"text\"/></g></g></g><g class=\"overplot\"/><path class=\"xlines-above crisp\" d=\"M0,0\" style=\"fill: none;\"/><path class=\"ylines-above crisp\" d=\"M0,0\" style=\"fill: none;\"/><g class=\"overlines-above\"/><g class=\"xaxislayer-above\"><g class=\"x2tick\"><text text-anchor=\"middle\" x=\"0\" y=\"533\" transform=\"translate(80,0)\" style=\"font-family: 'Open Sans', verdana, arial, sans-serif; font-size: 12px; fill: rgb(42, 63, 95); fill-opacity: 1; white-space: pre; opacity: 1;\">2006</text></g><g class=\"x2tick\"><text text-anchor=\"middle\" x=\"0\" y=\"533\" style=\"font-family: 'Open Sans', verdana, arial, sans-serif; font-size: 12px; fill: rgb(42, 63, 95); fill-opacity: 1; white-space: pre; opacity: 1;\" transform=\"translate(173.47,0)\">2008</text></g><g class=\"x2tick\"><text text-anchor=\"middle\" x=\"0\" y=\"533\" style=\"font-family: 'Open Sans', verdana, arial, sans-serif; font-size: 12px; fill: rgb(42, 63, 95); fill-opacity: 1; white-space: pre; opacity: 1;\" transform=\"translate(267.06,0)\">2010</text></g><g class=\"x2tick\"><text text-anchor=\"middle\" x=\"0\" y=\"533\" style=\"font-family: 'Open Sans', verdana, arial, sans-serif; font-size: 12px; fill: rgb(42, 63, 95); fill-opacity: 1; white-space: pre; opacity: 1;\" transform=\"translate(360.52,0)\">2012</text></g><g class=\"x2tick\"><text text-anchor=\"middle\" x=\"0\" y=\"533\" style=\"font-family: 'Open Sans', verdana, arial, sans-serif; font-size: 12px; fill: rgb(42, 63, 95); fill-opacity: 1; white-space: pre; opacity: 1;\" transform=\"translate(454.12,0)\">2014</text></g><g class=\"x2tick\"><text text-anchor=\"middle\" x=\"0\" y=\"533\" style=\"font-family: 'Open Sans', verdana, arial, sans-serif; font-size: 12px; fill: rgb(42, 63, 95); fill-opacity: 1; white-space: pre; opacity: 1;\" transform=\"translate(547.5799999999999,0)\">2016</text></g><g class=\"x2tick\"><text text-anchor=\"middle\" x=\"0\" y=\"533\" style=\"font-family: 'Open Sans', verdana, arial, sans-serif; font-size: 12px; fill: rgb(42, 63, 95); fill-opacity: 1; white-space: pre; opacity: 1;\" transform=\"translate(641.18,0)\">2018</text></g><g class=\"x2tick\"><text text-anchor=\"middle\" x=\"0\" y=\"533\" style=\"font-family: 'Open Sans', verdana, arial, sans-serif; font-size: 12px; fill: rgb(42, 63, 95); fill-opacity: 1; white-space: pre; opacity: 1;\" transform=\"translate(734.64,0)\">2020</text></g><g class=\"x2tick\"><text text-anchor=\"middle\" x=\"0\" y=\"533\" style=\"font-family: 'Open Sans', verdana, arial, sans-serif; font-size: 12px; fill: rgb(42, 63, 95); fill-opacity: 1; white-space: pre; opacity: 1;\" transform=\"translate(828.24,0)\">2022</text></g></g><g class=\"yaxislayer-above\"><g class=\"y2tick\"><text text-anchor=\"end\" x=\"79\" y=\"4.199999999999999\" transform=\"translate(0,500.9)\" style=\"font-family: 'Open Sans', verdana, arial, sans-serif; font-size: 12px; fill: rgb(42, 63, 95); fill-opacity: 1; white-space: pre; opacity: 1;\">50</text></g><g class=\"y2tick\"><text text-anchor=\"end\" x=\"79\" y=\"4.199999999999999\" style=\"font-family: 'Open Sans', verdana, arial, sans-serif; font-size: 12px; fill: rgb(42, 63, 95); fill-opacity: 1; white-space: pre; opacity: 1;\" transform=\"translate(0,427.19)\">100</text></g><g class=\"y2tick\"><text text-anchor=\"end\" x=\"79\" y=\"4.199999999999999\" style=\"font-family: 'Open Sans', verdana, arial, sans-serif; font-size: 12px; fill: rgb(42, 63, 95); fill-opacity: 1; white-space: pre; opacity: 1;\" transform=\"translate(0,353.48)\">150</text></g></g><g class=\"overaxes-above\"/></g></g><g class=\"polarlayer\"/><g class=\"smithlayer\"/><g class=\"ternarylayer\"/><g class=\"geolayer\"/><g class=\"funnelarealayer\"/><g class=\"pielayer\"/><g class=\"iciclelayer\"/><g class=\"treemaplayer\"/><g class=\"sunburstlayer\"/><g class=\"glimages\"/><defs id=\"topdefs-d610df\"><g class=\"clips\"/><clipPath id=\"legendd610df\"><rect width=\"101\" height=\"115\" x=\"0\" y=\"0\"/></clipPath></defs><g class=\"layer-above\"><g class=\"imagelayer\"/><g class=\"shapelayer\"/></g><g class=\"infolayer\"><g class=\"legend\" pointer-events=\"all\" transform=\"translate(886.82,100)\"><rect class=\"bg\" shape-rendering=\"crispEdges\" width=\"101\" height=\"115\" x=\"0\" y=\"0\" style=\"stroke: rgb(68, 68, 68); stroke-opacity: 1; fill: rgb(255, 255, 255); fill-opacity: 1; stroke-width: 0px;\"/><g class=\"scrollbox\" transform=\"\" clip-path=\"url(#legendd610df)\"><g class=\"groups\" transform=\"\"><g class=\"traces\" transform=\"translate(0,14.5)\" style=\"opacity: 1;\"><text class=\"legendtext\" text-anchor=\"start\" x=\"40\" y=\"4.680000000000001\" style=\"font-family: 'Open Sans', verdana, arial, sans-serif; font-size: 12px; fill: rgb(42, 63, 95); fill-opacity: 1; white-space: pre;\">Actual</text><g class=\"layers\" style=\"opacity: 1;\"><g class=\"legendfill\"/><g class=\"legendlines\"><path class=\"js-line\" d=\"M5,0h30\" style=\"fill: none; stroke: rgb(99, 110, 250); stroke-opacity: 1; stroke-width: 2px;\"/></g><g class=\"legendsymbols\"><g class=\"legendpoints\"/></g></g><rect class=\"legendtoggle\" x=\"0\" y=\"-9.5\" width=\"95.890625\" height=\"19\" style=\"fill: rgb(0, 0, 0); fill-opacity: 0;\"/></g><g class=\"traces\" transform=\"translate(0,33.5)\" style=\"opacity: 1;\"><text class=\"legendtext\" text-anchor=\"start\" x=\"40\" y=\"4.680000000000001\" style=\"font-family: 'Open Sans', verdana, arial, sans-serif; font-size: 12px; fill: rgb(42, 63, 95); fill-opacity: 1; white-space: pre;\">Predicted</text><g class=\"layers\" style=\"opacity: 1;\"><g class=\"legendfill\"/><g class=\"legendlines\"><path class=\"js-line\" d=\"M5,0h30\" style=\"fill: none; stroke: rgb(239, 85, 59); stroke-opacity: 1; stroke-width: 2px;\"/></g><g class=\"legendsymbols\"><g class=\"legendpoints\"/></g></g><rect class=\"legendtoggle\" x=\"0\" y=\"-9.5\" width=\"95.890625\" height=\"19\" style=\"fill: rgb(0, 0, 0); fill-opacity: 0;\"/></g></g><g class=\"groups\" transform=\"translate(0,10)\"><g class=\"traces\" transform=\"translate(0,52.5)\" style=\"opacity: 1;\"><text class=\"legendtext\" text-anchor=\"start\" x=\"40\" y=\"4.680000000000001\" style=\"font-family: 'Open Sans', verdana, arial, sans-serif; font-size: 12px; fill: rgb(42, 63, 95); fill-opacity: 1; white-space: pre;\">Train</text><g class=\"layers\" style=\"opacity: 1;\"><g class=\"legendfill\"/><g class=\"legendlines\"><path class=\"js-line\" d=\"M5,0h30\" style=\"fill: none; stroke: rgb(0, 204, 150); stroke-opacity: 1; stroke-width: 2px;\"/></g><g class=\"legendsymbols\"><g class=\"legendpoints\"/></g></g><rect class=\"legendtoggle\" x=\"0\" y=\"-9.5\" width=\"95.890625\" height=\"19\" style=\"fill: rgb(0, 0, 0); fill-opacity: 0;\"/></g><g class=\"traces\" transform=\"translate(0,71.5)\" style=\"opacity: 1;\"><text class=\"legendtext\" text-anchor=\"start\" x=\"40\" y=\"4.680000000000001\" style=\"font-family: 'Open Sans', verdana, arial, sans-serif; font-size: 12px; fill: rgb(42, 63, 95); fill-opacity: 1; white-space: pre;\">Test</text><g class=\"layers\" style=\"opacity: 1;\"><g class=\"legendfill\"/><g class=\"legendlines\"><path class=\"js-line\" d=\"M5,0h30\" style=\"fill: none; stroke: rgb(171, 99, 250); stroke-opacity: 1; stroke-width: 2px;\"/></g><g class=\"legendsymbols\"><g class=\"legendpoints\"/></g></g><rect class=\"legendtoggle\" x=\"0\" y=\"-9.5\" width=\"95.890625\" height=\"19\" style=\"fill: rgb(0, 0, 0); fill-opacity: 0;\"/></g><g class=\"traces\" transform=\"translate(0,90.5)\" style=\"opacity: 1;\"><text class=\"legendtext\" text-anchor=\"start\" x=\"40\" y=\"4.680000000000001\" style=\"font-family: 'Open Sans', verdana, arial, sans-serif; font-size: 12px; fill: rgb(42, 63, 95); fill-opacity: 1; white-space: pre;\">Forecast</text><g class=\"layers\" style=\"opacity: 1;\"><g class=\"legendfill\"/><g class=\"legendlines\"><path class=\"js-line\" d=\"M5,0h30\" style=\"fill: none; stroke: rgb(255, 161, 90); stroke-opacity: 1; stroke-width: 2px;\"/></g><g class=\"legendsymbols\"><g class=\"legendpoints\"/></g></g><rect class=\"legendtoggle\" x=\"0\" y=\"-9.5\" width=\"95.890625\" height=\"19\" style=\"fill: rgb(0, 0, 0); fill-opacity: 0;\"/></g></g></g><rect class=\"scrollbar\" rx=\"20\" ry=\"3\" width=\"0\" height=\"0\" x=\"0\" y=\"0\" style=\"fill: rgb(128, 139, 164); fill-opacity: 1;\"/></g><g class=\"g-gtitle\"><text class=\"gtitle\" x=\"50\" y=\"50\" text-anchor=\"start\" dy=\"0em\" style=\"font-family: 'Open Sans', verdana, arial, sans-serif; font-size: 17px; fill: rgb(42, 63, 95); opacity: 1; font-weight: normal; white-space: pre;\">ARIMA Predictions - DEN</text></g><g class=\"g-xtitle\"/><g class=\"g-x2title\"/><g class=\"g-ytitle\"/><g class=\"g-y2title\"/></g></svg>"
     },
     "metadata": {},
     "output_type": "display_data"
    }
   ],
   "source": [
    "model_name='ARIMA'\n",
    "\n",
    "# Predict\n",
    "predictions = model.predict(n_periods=test.shape[0], dynamic=False, typ='levels')\n",
    "\n",
    "# Forecast accuracy\n",
    "forecast_accuracy(model_name, test[dep_var], predictions, True, True)"
   ]
  },
  {
   "cell_type": "code",
   "execution_count": 16,
   "metadata": {},
   "outputs": [
    {
     "data": {
      "text/html": [
       "<div>\n",
       "<style scoped>\n",
       "    .dataframe tbody tr th:only-of-type {\n",
       "        vertical-align: middle;\n",
       "    }\n",
       "\n",
       "    .dataframe tbody tr th {\n",
       "        vertical-align: top;\n",
       "    }\n",
       "\n",
       "    .dataframe thead th {\n",
       "        text-align: right;\n",
       "    }\n",
       "</style>\n",
       "<table border=\"1\" class=\"dataframe\">\n",
       "  <thead>\n",
       "    <tr style=\"text-align: right;\">\n",
       "      <th></th>\n",
       "      <th>Simple Exponential Smoothing</th>\n",
       "      <th>Double Exponential Smoothing</th>\n",
       "      <th>Triple Exponential Smoothing</th>\n",
       "      <th>ARIMA</th>\n",
       "    </tr>\n",
       "  </thead>\n",
       "  <tbody>\n",
       "    <tr>\n",
       "      <th>Mean Absolute Error</th>\n",
       "      <td>22.715779</td>\n",
       "      <td>24.455470</td>\n",
       "      <td>25.060178</td>\n",
       "      <td>18.191573</td>\n",
       "    </tr>\n",
       "    <tr>\n",
       "      <th>Mean Squared Error</th>\n",
       "      <td>736.196571</td>\n",
       "      <td>837.055108</td>\n",
       "      <td>858.155875</td>\n",
       "      <td>492.569237</td>\n",
       "    </tr>\n",
       "    <tr>\n",
       "      <th>Root Mean Squared Error</th>\n",
       "      <td>27.132943</td>\n",
       "      <td>28.931905</td>\n",
       "      <td>29.294298</td>\n",
       "      <td>22.193901</td>\n",
       "    </tr>\n",
       "    <tr>\n",
       "      <th>R^2</th>\n",
       "      <td>-0.715648</td>\n",
       "      <td>-0.950691</td>\n",
       "      <td>-0.999864</td>\n",
       "      <td>-0.147894</td>\n",
       "    </tr>\n",
       "    <tr>\n",
       "      <th>Mean Absolute Percentage Error</th>\n",
       "      <td>31.431946</td>\n",
       "      <td>33.821299</td>\n",
       "      <td>34.282128</td>\n",
       "      <td>24.481434</td>\n",
       "    </tr>\n",
       "    <tr>\n",
       "      <th>Accuracy</th>\n",
       "      <td>68.568054</td>\n",
       "      <td>66.178701</td>\n",
       "      <td>65.717872</td>\n",
       "      <td>75.518566</td>\n",
       "    </tr>\n",
       "  </tbody>\n",
       "</table>\n",
       "</div>"
      ],
      "text/plain": [
       "                                Simple Exponential Smoothing  \\\n",
       "Mean Absolute Error                                22.715779   \n",
       "Mean Squared Error                                736.196571   \n",
       "Root Mean Squared Error                            27.132943   \n",
       "R^2                                                -0.715648   \n",
       "Mean Absolute Percentage Error                     31.431946   \n",
       "Accuracy                                           68.568054   \n",
       "\n",
       "                                Double Exponential Smoothing  \\\n",
       "Mean Absolute Error                                24.455470   \n",
       "Mean Squared Error                                837.055108   \n",
       "Root Mean Squared Error                            28.931905   \n",
       "R^2                                                -0.950691   \n",
       "Mean Absolute Percentage Error                     33.821299   \n",
       "Accuracy                                           66.178701   \n",
       "\n",
       "                                Triple Exponential Smoothing       ARIMA  \n",
       "Mean Absolute Error                                25.060178   18.191573  \n",
       "Mean Squared Error                                858.155875  492.569237  \n",
       "Root Mean Squared Error                            29.294298   22.193901  \n",
       "R^2                                                -0.999864   -0.147894  \n",
       "Mean Absolute Percentage Error                     34.282128   24.481434  \n",
       "Accuracy                                           65.717872   75.518566  "
      ]
     },
     "execution_count": 16,
     "metadata": {},
     "output_type": "execute_result"
    }
   ],
   "source": [
    "metrics"
   ]
  },
  {
   "attachments": {},
   "cell_type": "markdown",
   "metadata": {},
   "source": [
    "#### SARIMA"
   ]
  },
  {
   "cell_type": "code",
   "execution_count": 17,
   "metadata": {},
   "outputs": [
    {
     "name": "stdout",
     "output_type": "stream",
     "text": [
      "Performing stepwise search to minimize aic\n",
      " ARIMA(1,1,1)(0,1,1)[12]             : AIC=1185.358, Time=0.31 sec\n",
      " ARIMA(0,1,0)(0,1,0)[12]             : AIC=1283.283, Time=0.03 sec\n",
      " ARIMA(1,1,0)(1,1,0)[12]             : AIC=1223.887, Time=0.12 sec\n",
      " ARIMA(0,1,1)(0,1,1)[12]             : AIC=1186.049, Time=0.20 sec\n",
      " ARIMA(1,1,1)(0,1,0)[12]             : AIC=1223.179, Time=0.06 sec\n",
      " ARIMA(1,1,1)(1,1,1)[12]             : AIC=1185.652, Time=0.49 sec\n",
      " ARIMA(1,1,1)(0,1,2)[12]             : AIC=1185.678, Time=1.15 sec\n",
      " ARIMA(1,1,1)(1,1,0)[12]             : AIC=1203.274, Time=0.32 sec\n",
      " ARIMA(1,1,1)(1,1,2)[12]             : AIC=1187.620, Time=2.25 sec\n",
      " ARIMA(1,1,0)(0,1,1)[12]             : AIC=1204.471, Time=0.40 sec\n",
      " ARIMA(2,1,1)(0,1,1)[12]             : AIC=1183.283, Time=0.81 sec\n",
      " ARIMA(2,1,1)(0,1,0)[12]             : AIC=1220.804, Time=0.38 sec\n",
      " ARIMA(2,1,1)(1,1,1)[12]             : AIC=1184.284, Time=1.55 sec\n",
      " ARIMA(2,1,1)(0,1,2)[12]             : AIC=1184.372, Time=4.02 sec\n",
      " ARIMA(2,1,1)(1,1,0)[12]             : AIC=1198.463, Time=0.60 sec\n",
      " ARIMA(2,1,1)(1,1,2)[12]             : AIC=1186.284, Time=3.98 sec\n",
      " ARIMA(2,1,0)(0,1,1)[12]             : AIC=1182.150, Time=0.41 sec\n",
      " ARIMA(2,1,0)(0,1,0)[12]             : AIC=1219.050, Time=0.11 sec\n",
      " ARIMA(2,1,0)(1,1,1)[12]             : AIC=1183.054, Time=0.83 sec\n",
      " ARIMA(2,1,0)(0,1,2)[12]             : AIC=1183.131, Time=1.20 sec\n",
      " ARIMA(2,1,0)(1,1,0)[12]             : AIC=1197.389, Time=0.23 sec\n",
      " ARIMA(2,1,0)(1,1,2)[12]             : AIC=1185.053, Time=1.81 sec\n",
      " ARIMA(3,1,0)(0,1,1)[12]             : AIC=1183.640, Time=0.45 sec\n",
      " ARIMA(3,1,1)(0,1,1)[12]             : AIC=inf, Time=1.68 sec\n",
      " ARIMA(2,1,0)(0,1,1)[12] intercept   : AIC=1184.150, Time=0.45 sec\n",
      "\n",
      "Best model:  ARIMA(2,1,0)(0,1,1)[12]          \n",
      "Total fit time: 23.944 seconds\n"
     ]
    }
   ],
   "source": [
    "# Seasonal - fit stepwise auto-ARIMA\n",
    "model = auto_arima(train[dep_var],\n",
    "                    start_p=1, \n",
    "                    start_q=1,\n",
    "                    test='adf',                 # Use adftest to find optimal 'd'\n",
    "                    max_p=3, max_q=3,           # Maximum p and q\n",
    "                    m=12,                       # Frequency of series (if m==1, seasonal is set to FALSE automatically) - 12 months\n",
    "                    start_P=0, \n",
    "                    seasonal=True,              # set to seasonal\n",
    "                    d=None,                     # Let model determine 'd'\n",
    "                    D=1,                        # Order of the seasonal differencing\n",
    "                    trace=True,                 # Logs \n",
    "                    error_action='warn',        # Shows errors ('ignore' silences these)\n",
    "                    suppress_warnings=True, \n",
    "                    stepwise=True)  "
   ]
  },
  {
   "cell_type": "code",
   "execution_count": 18,
   "metadata": {},
   "outputs": [],
   "source": [
    "#model.plot_diagnostics(figsize=(15,12))\n",
    "#plt.show()"
   ]
  },
  {
   "cell_type": "code",
   "execution_count": 19,
   "metadata": {},
   "outputs": [
    {
     "data": {
      "text/html": [
       "<table class=\"simpletable\">\n",
       "<caption>SARIMAX Results</caption>\n",
       "<tr>\n",
       "  <th>Dep. Variable:</th>                   <td>y</td>                <th>  No. Observations:  </th>    <td>168</td>  \n",
       "</tr>\n",
       "<tr>\n",
       "  <th>Model:</th>           <td>SARIMAX(2, 1, 0)x(0, 1, [1], 12)</td> <th>  Log Likelihood     </th> <td>-587.075</td>\n",
       "</tr>\n",
       "<tr>\n",
       "  <th>Date:</th>                    <td>Thu, 16 Feb 2023</td>         <th>  AIC                </th> <td>1182.150</td>\n",
       "</tr>\n",
       "<tr>\n",
       "  <th>Time:</th>                        <td>16:57:49</td>             <th>  BIC                </th> <td>1194.323</td>\n",
       "</tr>\n",
       "<tr>\n",
       "  <th>Sample:</th>                     <td>01-01-2006</td>            <th>  HQIC               </th> <td>1187.094</td>\n",
       "</tr>\n",
       "<tr>\n",
       "  <th></th>                           <td>- 12-01-2019</td>           <th>                     </th>     <td> </td>   \n",
       "</tr>\n",
       "<tr>\n",
       "  <th>Covariance Type:</th>                <td>opg</td>               <th>                     </th>     <td> </td>   \n",
       "</tr>\n",
       "</table>\n",
       "<table class=\"simpletable\">\n",
       "<tr>\n",
       "      <td></td>        <th>coef</th>     <th>std err</th>      <th>z</th>      <th>P>|z|</th>  <th>[0.025</th>    <th>0.975]</th>  \n",
       "</tr>\n",
       "<tr>\n",
       "  <th>ar.L1</th>    <td>   -0.7492</td> <td>    0.058</td> <td>  -12.854</td> <td> 0.000</td> <td>   -0.863</td> <td>   -0.635</td>\n",
       "</tr>\n",
       "<tr>\n",
       "  <th>ar.L2</th>    <td>   -0.3816</td> <td>    0.061</td> <td>   -6.254</td> <td> 0.000</td> <td>   -0.501</td> <td>   -0.262</td>\n",
       "</tr>\n",
       "<tr>\n",
       "  <th>ma.S.L12</th> <td>   -0.7067</td> <td>    0.077</td> <td>   -9.133</td> <td> 0.000</td> <td>   -0.858</td> <td>   -0.555</td>\n",
       "</tr>\n",
       "<tr>\n",
       "  <th>sigma2</th>   <td>  107.7114</td> <td>    9.828</td> <td>   10.960</td> <td> 0.000</td> <td>   88.449</td> <td>  126.973</td>\n",
       "</tr>\n",
       "</table>\n",
       "<table class=\"simpletable\">\n",
       "<tr>\n",
       "  <th>Ljung-Box (L1) (Q):</th>     <td>0.05</td> <th>  Jarque-Bera (JB):  </th> <td>20.58</td>\n",
       "</tr>\n",
       "<tr>\n",
       "  <th>Prob(Q):</th>                <td>0.83</td> <th>  Prob(JB):          </th> <td>0.00</td> \n",
       "</tr>\n",
       "<tr>\n",
       "  <th>Heteroskedasticity (H):</th> <td>2.94</td> <th>  Skew:              </th> <td>-0.48</td>\n",
       "</tr>\n",
       "<tr>\n",
       "  <th>Prob(H) (two-sided):</th>    <td>0.00</td> <th>  Kurtosis:          </th> <td>4.51</td> \n",
       "</tr>\n",
       "</table><br/><br/>Warnings:<br/>[1] Covariance matrix calculated using the outer product of gradients (complex-step)."
      ],
      "text/plain": [
       "<class 'statsmodels.iolib.summary.Summary'>\n",
       "\"\"\"\n",
       "                                      SARIMAX Results                                       \n",
       "============================================================================================\n",
       "Dep. Variable:                                    y   No. Observations:                  168\n",
       "Model:             SARIMAX(2, 1, 0)x(0, 1, [1], 12)   Log Likelihood                -587.075\n",
       "Date:                              Thu, 16 Feb 2023   AIC                           1182.150\n",
       "Time:                                      16:57:49   BIC                           1194.323\n",
       "Sample:                                  01-01-2006   HQIC                          1187.094\n",
       "                                       - 12-01-2019                                         \n",
       "Covariance Type:                                opg                                         \n",
       "==============================================================================\n",
       "                 coef    std err          z      P>|z|      [0.025      0.975]\n",
       "------------------------------------------------------------------------------\n",
       "ar.L1         -0.7492      0.058    -12.854      0.000      -0.863      -0.635\n",
       "ar.L2         -0.3816      0.061     -6.254      0.000      -0.501      -0.262\n",
       "ma.S.L12      -0.7067      0.077     -9.133      0.000      -0.858      -0.555\n",
       "sigma2       107.7114      9.828     10.960      0.000      88.449     126.973\n",
       "===================================================================================\n",
       "Ljung-Box (L1) (Q):                   0.05   Jarque-Bera (JB):                20.58\n",
       "Prob(Q):                              0.83   Prob(JB):                         0.00\n",
       "Heteroskedasticity (H):               2.94   Skew:                            -0.48\n",
       "Prob(H) (two-sided):                  0.00   Kurtosis:                         4.51\n",
       "===================================================================================\n",
       "\n",
       "Warnings:\n",
       "[1] Covariance matrix calculated using the outer product of gradients (complex-step).\n",
       "\"\"\""
      ]
     },
     "execution_count": 19,
     "metadata": {},
     "output_type": "execute_result"
    }
   ],
   "source": [
    "model.summary()"
   ]
  },
  {
   "cell_type": "code",
   "execution_count": 20,
   "metadata": {},
   "outputs": [
    {
     "name": "stdout",
     "output_type": "stream",
     "text": [
      "SARIMA Model Performance:\n",
      "Mean Absolute Error: 25.71.\n",
      "Mean Squared Error: 921.50.\n",
      "Root Mean Squared Error: 30.36.\n",
      "R^2 Score = -1.15.\n",
      "Mean Absolute Percentage Error: 35.05%.\n",
      "Accuracy = 64.95%.\n"
     ]
    },
    {
     "data": {
      "image/svg+xml": "<svg class=\"main-svg\" xmlns=\"http://www.w3.org/2000/svg\" xmlns:xlink=\"http://www.w3.org/1999/xlink\" width=\"1000\" height=\"600\" style=\"\" viewBox=\"0 0 1000 600\"><rect x=\"0\" y=\"0\" width=\"1000\" height=\"600\" style=\"fill: rgb(255, 255, 255); fill-opacity: 1;\"/><defs id=\"defs-bd4ac0\"><g class=\"clips\"><clipPath id=\"clipbd4ac0xyplot\" class=\"plotclip\"><rect width=\"791\" height=\"178.50000000000003\"/></clipPath><clipPath id=\"clipbd4ac0x2y2plot\" class=\"plotclip\"><rect width=\"791\" height=\"178.5\"/></clipPath><clipPath class=\"axesclip\" id=\"clipbd4ac0x\"><rect x=\"80\" y=\"0\" width=\"791\" height=\"600\"/></clipPath><clipPath class=\"axesclip\" id=\"clipbd4ac0y\"><rect x=\"0\" y=\"100\" width=\"1000\" height=\"178.50000000000003\"/></clipPath><clipPath class=\"axesclip\" id=\"clipbd4ac0xy\"><rect x=\"80\" y=\"100\" width=\"791\" height=\"178.50000000000003\"/></clipPath><clipPath class=\"axesclip\" id=\"clipbd4ac0y2\"><rect x=\"0\" y=\"341.5\" width=\"1000\" height=\"178.5\"/></clipPath><clipPath class=\"axesclip\" id=\"clipbd4ac0xy2\"><rect x=\"80\" y=\"341.5\" width=\"791\" height=\"178.5\"/></clipPath><clipPath class=\"axesclip\" id=\"clipbd4ac0x2\"><rect x=\"80\" y=\"0\" width=\"791\" height=\"600\"/></clipPath><clipPath class=\"axesclip\" id=\"clipbd4ac0x2y\"><rect x=\"80\" y=\"100\" width=\"791\" height=\"178.50000000000003\"/></clipPath><clipPath class=\"axesclip\" id=\"clipbd4ac0x2y2\"><rect x=\"80\" y=\"341.5\" width=\"791\" height=\"178.5\"/></clipPath></g><g class=\"gradients\"/><g class=\"patterns\"/></defs><g class=\"bglayer\"><rect class=\"bg\" x=\"80\" y=\"100\" width=\"791\" height=\"178.50000000000003\" style=\"fill: rgb(229, 236, 246); fill-opacity: 1; stroke-width: 0;\"/><rect class=\"bg\" x=\"80\" y=\"341.5\" width=\"791\" height=\"178.5\" style=\"fill: rgb(229, 236, 246); fill-opacity: 1; stroke-width: 0;\"/></g><g class=\"layer-below\"><g class=\"imagelayer\"/><g class=\"shapelayer\"/></g><g class=\"cartesianlayer\"><g class=\"subplot xy\"><g class=\"layer-subplot\"><g class=\"shapelayer\"/><g class=\"imagelayer\"/></g><g class=\"minor-gridlayer\"><g class=\"x\"/><g class=\"y\"/></g><g class=\"gridlayer\"><g class=\"x\"><path class=\"xgrid crisp\" transform=\"translate(215.18,0)\" d=\"M0,100v178.50000000000003\" style=\"stroke: rgb(255, 255, 255); stroke-opacity: 1; stroke-width: 1px;\"/><path class=\"xgrid crisp\" transform=\"translate(351.84,0)\" d=\"M0,100v178.50000000000003\" style=\"stroke: rgb(255, 255, 255); stroke-opacity: 1; stroke-width: 1px;\"/><path class=\"xgrid crisp\" transform=\"translate(486.27,0)\" d=\"M0,100v178.50000000000003\" style=\"stroke: rgb(255, 255, 255); stroke-opacity: 1; stroke-width: 1px;\"/><path class=\"xgrid crisp\" transform=\"translate(622.93,0)\" d=\"M0,100v178.50000000000003\" style=\"stroke: rgb(255, 255, 255); stroke-opacity: 1; stroke-width: 1px;\"/><path class=\"xgrid crisp\" transform=\"translate(757.36,0)\" d=\"M0,100v178.50000000000003\" style=\"stroke: rgb(255, 255, 255); stroke-opacity: 1; stroke-width: 1px;\"/></g><g class=\"y\"><path class=\"ygrid crisp\" transform=\"translate(0,259.76)\" d=\"M80,0h791\" style=\"stroke: rgb(255, 255, 255); stroke-opacity: 1; stroke-width: 1px;\"/><path class=\"ygrid crisp\" transform=\"translate(0,221.39)\" d=\"M80,0h791\" style=\"stroke: rgb(255, 255, 255); stroke-opacity: 1; stroke-width: 1px;\"/><path class=\"ygrid crisp\" transform=\"translate(0,183.01999999999998)\" d=\"M80,0h791\" style=\"stroke: rgb(255, 255, 255); stroke-opacity: 1; stroke-width: 1px;\"/><path class=\"ygrid crisp\" transform=\"translate(0,144.65)\" d=\"M80,0h791\" style=\"stroke: rgb(255, 255, 255); stroke-opacity: 1; stroke-width: 1px;\"/><path class=\"ygrid crisp\" transform=\"translate(0,106.28)\" d=\"M80,0h791\" style=\"stroke: rgb(255, 255, 255); stroke-opacity: 1; stroke-width: 1px;\"/></g></g><g class=\"zerolinelayer\"/><path class=\"xlines-below\"/><path class=\"ylines-below\"/><g class=\"overlines-below\"/><g class=\"xaxislayer-below\"/><g class=\"yaxislayer-below\"/><g class=\"overaxes-below\"/><g class=\"plot\" transform=\"translate(80,100)\" clip-path=\"url(#clipbd4ac0xyplot)\"><g class=\"scatterlayer mlayer\"><g class=\"trace scatter trace4fbc8a\" style=\"stroke-miterlimit: 2; opacity: 1;\"><g class=\"fills\"/><g class=\"errorbars\"/><g class=\"lines\"><path class=\"js-line\" d=\"M0,66.77L23.02,107.13L44.56,105.35L67.59,160.29L89.87,146.25L112.89,73.81L135.18,62.07L158.2,77.95L181.22,82.91L203.51,106.36L226.53,71.69L248.81,21.17L271.84,159.99L294.86,163.74L315.66,8.92L338.68,100.75L360.96,85.27L383.99,46.41L406.27,123.75L429.29,97.57L452.32,115.74L474.6,133.17L497.62,108.04L519.91,76.38L542.93,169.58L565.95,160.5L586.75,110.57L609.78,150.69L632.06,122.94L655.08,108.2L677.36,164.41L700.39,132L723.41,129.46L745.69,153.54L768.72,128.3L791,105.08\" style=\"vector-effect: non-scaling-stroke; fill: none; stroke: rgb(99, 110, 250); stroke-opacity: 1; stroke-width: 2px; opacity: 1;\"/></g><g class=\"points\"/><g class=\"text\"/></g><g class=\"trace scatter traceef6f48\" style=\"stroke-miterlimit: 2; opacity: 1;\"><g class=\"fills\"/><g class=\"errorbars\"/><g class=\"lines\"><path class=\"js-line\" d=\"M0,57.57L23.02,84.51L44.56,34.25L67.59,77.04L89.87,48.35L112.89,32.95L135.18,92.01L158.2,75.51L181.22,102.6L203.51,77.2L226.53,75.2L248.81,94.36L271.84,58.86L294.86,82.53L315.66,31.12L338.68,76.02L360.96,46.19L383.99,30.83L406.27,90.3L429.29,73.48L452.32,100.65L474.6,75.31L497.62,73.24L519.91,92.42L542.93,56.93L565.95,80.58L586.75,29.18L609.78,74.08L632.06,44.25L655.08,28.9L677.36,88.36L700.39,71.54L723.41,98.72L745.69,73.37L768.72,71.3L791,90.48\" style=\"vector-effect: non-scaling-stroke; fill: none; stroke: rgb(239, 85, 59); stroke-opacity: 1; stroke-width: 2px; opacity: 1;\"/></g><g class=\"points\"/><g class=\"text\"/></g></g></g><g class=\"overplot\"/><path class=\"xlines-above crisp\" d=\"M0,0\" style=\"fill: none;\"/><path class=\"ylines-above crisp\" d=\"M0,0\" style=\"fill: none;\"/><g class=\"overlines-above\"/><g class=\"xaxislayer-above\"><g class=\"xtick\"><text text-anchor=\"middle\" x=\"0\" y=\"291.5\" transform=\"translate(80,0)\" style=\"font-family: 'Open Sans', verdana, arial, sans-serif; font-size: 12px; fill: rgb(42, 63, 95); fill-opacity: 1; white-space: pre; opacity: 1;\">Jan 2020</text></g><g class=\"xtick\"><text text-anchor=\"middle\" x=\"0\" y=\"291.5\" style=\"font-family: 'Open Sans', verdana, arial, sans-serif; font-size: 12px; fill: rgb(42, 63, 95); fill-opacity: 1; white-space: pre; opacity: 1;\" transform=\"translate(215.18,0)\">Jul 2020</text></g><g class=\"xtick\"><text text-anchor=\"middle\" x=\"0\" y=\"291.5\" style=\"font-family: 'Open Sans', verdana, arial, sans-serif; font-size: 12px; fill: rgb(42, 63, 95); fill-opacity: 1; white-space: pre; opacity: 1;\" transform=\"translate(351.84,0)\">Jan 2021</text></g><g class=\"xtick\"><text text-anchor=\"middle\" x=\"0\" y=\"291.5\" style=\"font-family: 'Open Sans', verdana, arial, sans-serif; font-size: 12px; fill: rgb(42, 63, 95); fill-opacity: 1; white-space: pre; opacity: 1;\" transform=\"translate(486.27,0)\">Jul 2021</text></g><g class=\"xtick\"><text text-anchor=\"middle\" x=\"0\" y=\"291.5\" style=\"font-family: 'Open Sans', verdana, arial, sans-serif; font-size: 12px; fill: rgb(42, 63, 95); fill-opacity: 1; white-space: pre; opacity: 1;\" transform=\"translate(622.93,0)\">Jan 2022</text></g><g class=\"xtick\"><text text-anchor=\"middle\" x=\"0\" y=\"291.5\" style=\"font-family: 'Open Sans', verdana, arial, sans-serif; font-size: 12px; fill: rgb(42, 63, 95); fill-opacity: 1; white-space: pre; opacity: 1;\" transform=\"translate(757.36,0)\">Jul 2022</text></g></g><g class=\"yaxislayer-above\"><g class=\"ytick\"><text text-anchor=\"end\" x=\"79\" y=\"4.199999999999999\" transform=\"translate(0,259.76)\" style=\"font-family: 'Open Sans', verdana, arial, sans-serif; font-size: 12px; fill: rgb(42, 63, 95); fill-opacity: 1; white-space: pre; opacity: 1;\">60</text></g><g class=\"ytick\"><text text-anchor=\"end\" x=\"79\" y=\"4.199999999999999\" style=\"font-family: 'Open Sans', verdana, arial, sans-serif; font-size: 12px; fill: rgb(42, 63, 95); fill-opacity: 1; white-space: pre; opacity: 1;\" transform=\"translate(0,221.39)\">80</text></g><g class=\"ytick\"><text text-anchor=\"end\" x=\"79\" y=\"4.199999999999999\" style=\"font-family: 'Open Sans', verdana, arial, sans-serif; font-size: 12px; fill: rgb(42, 63, 95); fill-opacity: 1; white-space: pre; opacity: 1;\" transform=\"translate(0,183.01999999999998)\">100</text></g><g class=\"ytick\"><text text-anchor=\"end\" x=\"79\" y=\"4.199999999999999\" style=\"font-family: 'Open Sans', verdana, arial, sans-serif; font-size: 12px; fill: rgb(42, 63, 95); fill-opacity: 1; white-space: pre; opacity: 1;\" transform=\"translate(0,144.65)\">120</text></g><g class=\"ytick\"><text text-anchor=\"end\" x=\"79\" y=\"4.199999999999999\" style=\"font-family: 'Open Sans', verdana, arial, sans-serif; font-size: 12px; fill: rgb(42, 63, 95); fill-opacity: 1; white-space: pre; opacity: 1;\" transform=\"translate(0,106.28)\">140</text></g></g><g class=\"overaxes-above\"/></g><g class=\"subplot x2y2\"><g class=\"layer-subplot\"><g class=\"shapelayer\"/><g class=\"imagelayer\"/></g><g class=\"minor-gridlayer\"><g class=\"x2\"/><g class=\"y2\"/></g><g class=\"gridlayer\"><g class=\"x2\"><path class=\"x2grid crisp\" transform=\"translate(173.47,0)\" d=\"M0,341.5v178.5\" style=\"stroke: rgb(255, 255, 255); stroke-opacity: 1; stroke-width: 1px;\"/><path class=\"x2grid crisp\" transform=\"translate(267.06,0)\" d=\"M0,341.5v178.5\" style=\"stroke: rgb(255, 255, 255); stroke-opacity: 1; stroke-width: 1px;\"/><path class=\"x2grid crisp\" transform=\"translate(360.52,0)\" d=\"M0,341.5v178.5\" style=\"stroke: rgb(255, 255, 255); stroke-opacity: 1; stroke-width: 1px;\"/><path class=\"x2grid crisp\" transform=\"translate(454.12,0)\" d=\"M0,341.5v178.5\" style=\"stroke: rgb(255, 255, 255); stroke-opacity: 1; stroke-width: 1px;\"/><path class=\"x2grid crisp\" transform=\"translate(547.5799999999999,0)\" d=\"M0,341.5v178.5\" style=\"stroke: rgb(255, 255, 255); stroke-opacity: 1; stroke-width: 1px;\"/><path class=\"x2grid crisp\" transform=\"translate(641.18,0)\" d=\"M0,341.5v178.5\" style=\"stroke: rgb(255, 255, 255); stroke-opacity: 1; stroke-width: 1px;\"/><path class=\"x2grid crisp\" transform=\"translate(734.64,0)\" d=\"M0,341.5v178.5\" style=\"stroke: rgb(255, 255, 255); stroke-opacity: 1; stroke-width: 1px;\"/><path class=\"x2grid crisp\" transform=\"translate(828.24,0)\" d=\"M0,341.5v178.5\" style=\"stroke: rgb(255, 255, 255); stroke-opacity: 1; stroke-width: 1px;\"/></g><g class=\"y2\"><path class=\"y2grid crisp\" transform=\"translate(0,500.9)\" d=\"M80,0h791\" style=\"stroke: rgb(255, 255, 255); stroke-opacity: 1; stroke-width: 1px;\"/><path class=\"y2grid crisp\" transform=\"translate(0,427.19)\" d=\"M80,0h791\" style=\"stroke: rgb(255, 255, 255); stroke-opacity: 1; stroke-width: 1px;\"/><path class=\"y2grid crisp\" transform=\"translate(0,353.48)\" d=\"M80,0h791\" style=\"stroke: rgb(255, 255, 255); stroke-opacity: 1; stroke-width: 1px;\"/></g></g><g class=\"zerolinelayer\"/><path class=\"xlines-below\"/><path class=\"ylines-below\"/><g class=\"overlines-below\"/><g class=\"xaxislayer-below\"/><g class=\"yaxislayer-below\"/><g class=\"overaxes-below\"/><g class=\"plot\" transform=\"translate(80,341.5)\" clip-path=\"url(#clipbd4ac0x2y2plot)\"><g class=\"scatterlayer mlayer\"><g class=\"trace scatter trace48943c\" style=\"stroke-miterlimit: 2; opacity: 1;\"><g class=\"fills\"/><g class=\"errorbars\"/><g class=\"lines\"><path class=\"js-line\" d=\"M0,136.34L3.97,141.82L7.55,110.04L11.52,118.6L15.36,97.59L19.33,86.8L23.17,134.36L27.14,129.74L31.11,127.71L38.92,124.8L42.76,121.26L46.73,133.09L50.7,140.57L54.29,109.47L58.26,128.04L62.1,110.33L66.07,103.15L69.91,118.11L73.88,118.68L77.85,118.06L81.69,108.94L85.66,103.08L89.5,114.87L93.47,109.91L97.43,122.14L101.15,125L105.12,95.33L108.96,108.1L112.93,101.49L116.77,121.81L120.74,136L124.71,130.42L128.55,136.18L132.52,161.81L136.36,159.39L140.33,166.46L144.3,169.58L147.88,148.99L151.85,155.75L155.69,153.25L159.66,136.57L163.5,155.38L167.47,165.41L171.44,149.56L175.28,147.77L179.25,155.55L183.09,132.16L187.06,141.98L191.03,159.58L194.61,113.69L198.58,130.79L202.42,122.05L206.39,100.09L210.23,133.22L214.2,132.47L218.17,117.25L222.01,116.75L225.98,113.71L229.82,100.74L233.79,127.21L237.76,134.3L241.35,89.5L245.31,118.19L249.16,91.29L253.13,87.39L256.97,121.3L260.94,126.17L264.9,115.03L268.75,127.16L272.71,104.48L276.56,101.78L280.52,122.95L284.49,111.78L288.21,116.04L292.18,129.8L296.02,90.83L299.99,113.01L303.83,92.91L307.8,117.84L311.77,114.83L315.61,103.52L319.58,95.43L323.42,142.19L327.39,107.12L331.35,128.94L334.94,105.64L338.91,98.86L346.72,83.93L350.56,112.12L354.53,112.63L358.5,109.94L362.34,90.55L366.31,97.78L370.15,111.25L374.12,94.07L378.09,107.04L381.67,89.58L385.64,92.32L389.48,89.01L393.45,83.03L397.29,111.35L401.26,108.43L405.23,110.19L409.07,93.88L413.04,103.92L416.88,101.59L420.85,96.13L424.82,117.42L428.4,65.85L432.37,88.21L436.22,87.56L440.18,50.63L444.03,94.41L447.99,95.17L451.96,81.26L455.8,89.16L459.77,87.01L463.61,75.42L467.58,92.89L471.55,91.09L475.27,69.17L479.23,63.13L483.08,52.27L487.04,30.88L490.89,98.77L494.86,84.49L498.82,75.6L502.67,87.64L506.63,79.23L510.48,67.68L514.44,66.26L518.41,83.78L522,38.51L525.97,82.11L529.81,42.11L533.78,27.81L537.62,102.81L541.59,102.09L545.56,110.47L549.4,74.53L553.37,78.9L557.21,92.02L561.18,62.77L565.15,85.24L568.73,63.74L572.7,72.46L576.54,39.7L580.51,40.01L584.35,92.02L588.32,56.21L592.29,130.5L596.13,90.65L600.1,79.63L603.94,114.12L607.91,50.85L611.88,73.91L615.46,8.93L619.43,93.97L623.27,69.22L627.24,55.22L631.08,89.5L635.05,72.93L639.02,96.59L642.86,75.84L646.83,78.28L650.67,100.67\" style=\"vector-effect: non-scaling-stroke; fill: none; stroke: rgb(0, 204, 150); stroke-opacity: 1; stroke-width: 2px; opacity: 1;\"/></g><g class=\"points\"/><g class=\"text\"/></g><g class=\"trace scatter traceb8a793\" style=\"stroke-miterlimit: 2; opacity: 1;\"><g class=\"fills\"/><g class=\"errorbars\"/><g class=\"lines\"><path class=\"js-line\" d=\"M654.64,73.2L658.61,104.21L662.32,102.84L666.29,145.07L670.13,134.27L674.1,78.61L677.95,69.59L681.91,81.79L685.88,85.6L689.72,103.62L693.69,76.98L697.53,38.16L701.5,144.83L705.47,147.71L709.06,28.75L713.03,99.31L716.87,87.42L720.84,57.56L724.68,116.99L728.65,96.87L732.62,110.83L736.46,124.22L740.43,104.92L744.27,80.59L748.24,152.2L752.21,145.22L755.79,106.86L759.76,137.69L763.6,116.36L767.57,105.04L771.41,148.22L775.38,123.32L779.35,121.37L783.19,139.88L787.16,120.48L791,102.64\" style=\"vector-effect: non-scaling-stroke; fill: none; stroke: rgb(171, 99, 250); stroke-opacity: 1; stroke-width: 2px; opacity: 1;\"/></g><g class=\"points\"/><g class=\"text\"/></g><g class=\"trace scatter trace495509\" style=\"stroke-miterlimit: 2; opacity: 1;\"><g class=\"fills\"/><g class=\"errorbars\"/><g class=\"lines\"><path class=\"js-line\" d=\"M654.64,66.13L658.61,86.83L662.32,48.21L666.29,81.09L670.13,59.05L674.1,47.21L677.95,92.6L681.91,79.92L685.88,100.73L689.72,81.22L693.69,79.68L697.53,94.4L701.5,67.12L705.47,85.31L709.06,45.8L713.03,80.31L716.87,57.38L720.84,45.59L724.68,91.28L728.65,78.35L732.62,99.24L736.46,79.76L740.43,78.17L744.27,92.91L748.24,65.64L752.21,83.81L755.79,44.32L759.76,78.82L763.6,55.89L767.57,44.1L771.41,89.79L775.38,76.86L779.35,97.75L783.19,78.28L787.16,76.68L791,91.42\" style=\"vector-effect: non-scaling-stroke; fill: none; stroke: rgb(255, 161, 90); stroke-opacity: 1; stroke-width: 2px; opacity: 1;\"/></g><g class=\"points\"/><g class=\"text\"/></g></g></g><g class=\"overplot\"/><path class=\"xlines-above crisp\" d=\"M0,0\" style=\"fill: none;\"/><path class=\"ylines-above crisp\" d=\"M0,0\" style=\"fill: none;\"/><g class=\"overlines-above\"/><g class=\"xaxislayer-above\"><g class=\"x2tick\"><text text-anchor=\"middle\" x=\"0\" y=\"533\" transform=\"translate(80,0)\" style=\"font-family: 'Open Sans', verdana, arial, sans-serif; font-size: 12px; fill: rgb(42, 63, 95); fill-opacity: 1; white-space: pre; opacity: 1;\">2006</text></g><g class=\"x2tick\"><text text-anchor=\"middle\" x=\"0\" y=\"533\" style=\"font-family: 'Open Sans', verdana, arial, sans-serif; font-size: 12px; fill: rgb(42, 63, 95); fill-opacity: 1; white-space: pre; opacity: 1;\" transform=\"translate(173.47,0)\">2008</text></g><g class=\"x2tick\"><text text-anchor=\"middle\" x=\"0\" y=\"533\" style=\"font-family: 'Open Sans', verdana, arial, sans-serif; font-size: 12px; fill: rgb(42, 63, 95); fill-opacity: 1; white-space: pre; opacity: 1;\" transform=\"translate(267.06,0)\">2010</text></g><g class=\"x2tick\"><text text-anchor=\"middle\" x=\"0\" y=\"533\" style=\"font-family: 'Open Sans', verdana, arial, sans-serif; font-size: 12px; fill: rgb(42, 63, 95); fill-opacity: 1; white-space: pre; opacity: 1;\" transform=\"translate(360.52,0)\">2012</text></g><g class=\"x2tick\"><text text-anchor=\"middle\" x=\"0\" y=\"533\" style=\"font-family: 'Open Sans', verdana, arial, sans-serif; font-size: 12px; fill: rgb(42, 63, 95); fill-opacity: 1; white-space: pre; opacity: 1;\" transform=\"translate(454.12,0)\">2014</text></g><g class=\"x2tick\"><text text-anchor=\"middle\" x=\"0\" y=\"533\" style=\"font-family: 'Open Sans', verdana, arial, sans-serif; font-size: 12px; fill: rgb(42, 63, 95); fill-opacity: 1; white-space: pre; opacity: 1;\" transform=\"translate(547.5799999999999,0)\">2016</text></g><g class=\"x2tick\"><text text-anchor=\"middle\" x=\"0\" y=\"533\" style=\"font-family: 'Open Sans', verdana, arial, sans-serif; font-size: 12px; fill: rgb(42, 63, 95); fill-opacity: 1; white-space: pre; opacity: 1;\" transform=\"translate(641.18,0)\">2018</text></g><g class=\"x2tick\"><text text-anchor=\"middle\" x=\"0\" y=\"533\" style=\"font-family: 'Open Sans', verdana, arial, sans-serif; font-size: 12px; fill: rgb(42, 63, 95); fill-opacity: 1; white-space: pre; opacity: 1;\" transform=\"translate(734.64,0)\">2020</text></g><g class=\"x2tick\"><text text-anchor=\"middle\" x=\"0\" y=\"533\" style=\"font-family: 'Open Sans', verdana, arial, sans-serif; font-size: 12px; fill: rgb(42, 63, 95); fill-opacity: 1; white-space: pre; opacity: 1;\" transform=\"translate(828.24,0)\">2022</text></g></g><g class=\"yaxislayer-above\"><g class=\"y2tick\"><text text-anchor=\"end\" x=\"79\" y=\"4.199999999999999\" transform=\"translate(0,500.9)\" style=\"font-family: 'Open Sans', verdana, arial, sans-serif; font-size: 12px; fill: rgb(42, 63, 95); fill-opacity: 1; white-space: pre; opacity: 1;\">50</text></g><g class=\"y2tick\"><text text-anchor=\"end\" x=\"79\" y=\"4.199999999999999\" style=\"font-family: 'Open Sans', verdana, arial, sans-serif; font-size: 12px; fill: rgb(42, 63, 95); fill-opacity: 1; white-space: pre; opacity: 1;\" transform=\"translate(0,427.19)\">100</text></g><g class=\"y2tick\"><text text-anchor=\"end\" x=\"79\" y=\"4.199999999999999\" style=\"font-family: 'Open Sans', verdana, arial, sans-serif; font-size: 12px; fill: rgb(42, 63, 95); fill-opacity: 1; white-space: pre; opacity: 1;\" transform=\"translate(0,353.48)\">150</text></g></g><g class=\"overaxes-above\"/></g></g><g class=\"polarlayer\"/><g class=\"smithlayer\"/><g class=\"ternarylayer\"/><g class=\"geolayer\"/><g class=\"funnelarealayer\"/><g class=\"pielayer\"/><g class=\"iciclelayer\"/><g class=\"treemaplayer\"/><g class=\"sunburstlayer\"/><g class=\"glimages\"/><defs id=\"topdefs-bd4ac0\"><g class=\"clips\"/><clipPath id=\"legendbd4ac0\"><rect width=\"101\" height=\"115\" x=\"0\" y=\"0\"/></clipPath></defs><g class=\"layer-above\"><g class=\"imagelayer\"/><g class=\"shapelayer\"/></g><g class=\"infolayer\"><g class=\"legend\" pointer-events=\"all\" transform=\"translate(886.82,100)\"><rect class=\"bg\" shape-rendering=\"crispEdges\" width=\"101\" height=\"115\" x=\"0\" y=\"0\" style=\"stroke: rgb(68, 68, 68); stroke-opacity: 1; fill: rgb(255, 255, 255); fill-opacity: 1; stroke-width: 0px;\"/><g class=\"scrollbox\" transform=\"\" clip-path=\"url(#legendbd4ac0)\"><g class=\"groups\" transform=\"\"><g class=\"traces\" transform=\"translate(0,14.5)\" style=\"opacity: 1;\"><text class=\"legendtext\" text-anchor=\"start\" x=\"40\" y=\"4.680000000000001\" style=\"font-family: 'Open Sans', verdana, arial, sans-serif; font-size: 12px; fill: rgb(42, 63, 95); fill-opacity: 1; white-space: pre;\">Actual</text><g class=\"layers\" style=\"opacity: 1;\"><g class=\"legendfill\"/><g class=\"legendlines\"><path class=\"js-line\" d=\"M5,0h30\" style=\"fill: none; stroke: rgb(99, 110, 250); stroke-opacity: 1; stroke-width: 2px;\"/></g><g class=\"legendsymbols\"><g class=\"legendpoints\"/></g></g><rect class=\"legendtoggle\" x=\"0\" y=\"-9.5\" width=\"95.890625\" height=\"19\" style=\"fill: rgb(0, 0, 0); fill-opacity: 0;\"/></g><g class=\"traces\" transform=\"translate(0,33.5)\" style=\"opacity: 1;\"><text class=\"legendtext\" text-anchor=\"start\" x=\"40\" y=\"4.680000000000001\" style=\"font-family: 'Open Sans', verdana, arial, sans-serif; font-size: 12px; fill: rgb(42, 63, 95); fill-opacity: 1; white-space: pre;\">Predicted</text><g class=\"layers\" style=\"opacity: 1;\"><g class=\"legendfill\"/><g class=\"legendlines\"><path class=\"js-line\" d=\"M5,0h30\" style=\"fill: none; stroke: rgb(239, 85, 59); stroke-opacity: 1; stroke-width: 2px;\"/></g><g class=\"legendsymbols\"><g class=\"legendpoints\"/></g></g><rect class=\"legendtoggle\" x=\"0\" y=\"-9.5\" width=\"95.890625\" height=\"19\" style=\"fill: rgb(0, 0, 0); fill-opacity: 0;\"/></g></g><g class=\"groups\" transform=\"translate(0,10)\"><g class=\"traces\" transform=\"translate(0,52.5)\" style=\"opacity: 1;\"><text class=\"legendtext\" text-anchor=\"start\" x=\"40\" y=\"4.680000000000001\" style=\"font-family: 'Open Sans', verdana, arial, sans-serif; font-size: 12px; fill: rgb(42, 63, 95); fill-opacity: 1; white-space: pre;\">Train</text><g class=\"layers\" style=\"opacity: 1;\"><g class=\"legendfill\"/><g class=\"legendlines\"><path class=\"js-line\" d=\"M5,0h30\" style=\"fill: none; stroke: rgb(0, 204, 150); stroke-opacity: 1; stroke-width: 2px;\"/></g><g class=\"legendsymbols\"><g class=\"legendpoints\"/></g></g><rect class=\"legendtoggle\" x=\"0\" y=\"-9.5\" width=\"95.890625\" height=\"19\" style=\"fill: rgb(0, 0, 0); fill-opacity: 0;\"/></g><g class=\"traces\" transform=\"translate(0,71.5)\" style=\"opacity: 1;\"><text class=\"legendtext\" text-anchor=\"start\" x=\"40\" y=\"4.680000000000001\" style=\"font-family: 'Open Sans', verdana, arial, sans-serif; font-size: 12px; fill: rgb(42, 63, 95); fill-opacity: 1; white-space: pre;\">Test</text><g class=\"layers\" style=\"opacity: 1;\"><g class=\"legendfill\"/><g class=\"legendlines\"><path class=\"js-line\" d=\"M5,0h30\" style=\"fill: none; stroke: rgb(171, 99, 250); stroke-opacity: 1; stroke-width: 2px;\"/></g><g class=\"legendsymbols\"><g class=\"legendpoints\"/></g></g><rect class=\"legendtoggle\" x=\"0\" y=\"-9.5\" width=\"95.890625\" height=\"19\" style=\"fill: rgb(0, 0, 0); fill-opacity: 0;\"/></g><g class=\"traces\" transform=\"translate(0,90.5)\" style=\"opacity: 1;\"><text class=\"legendtext\" text-anchor=\"start\" x=\"40\" y=\"4.680000000000001\" style=\"font-family: 'Open Sans', verdana, arial, sans-serif; font-size: 12px; fill: rgb(42, 63, 95); fill-opacity: 1; white-space: pre;\">Forecast</text><g class=\"layers\" style=\"opacity: 1;\"><g class=\"legendfill\"/><g class=\"legendlines\"><path class=\"js-line\" d=\"M5,0h30\" style=\"fill: none; stroke: rgb(255, 161, 90); stroke-opacity: 1; stroke-width: 2px;\"/></g><g class=\"legendsymbols\"><g class=\"legendpoints\"/></g></g><rect class=\"legendtoggle\" x=\"0\" y=\"-9.5\" width=\"95.890625\" height=\"19\" style=\"fill: rgb(0, 0, 0); fill-opacity: 0;\"/></g></g></g><rect class=\"scrollbar\" rx=\"20\" ry=\"3\" width=\"0\" height=\"0\" x=\"0\" y=\"0\" style=\"fill: rgb(128, 139, 164); fill-opacity: 1;\"/></g><g class=\"g-gtitle\"><text class=\"gtitle\" x=\"50\" y=\"50\" text-anchor=\"start\" dy=\"0em\" style=\"font-family: 'Open Sans', verdana, arial, sans-serif; font-size: 17px; fill: rgb(42, 63, 95); opacity: 1; font-weight: normal; white-space: pre;\">SARIMA Predictions - DEN</text></g><g class=\"g-xtitle\"/><g class=\"g-x2title\"/><g class=\"g-ytitle\"/><g class=\"g-y2title\"/></g></svg>"
     },
     "metadata": {},
     "output_type": "display_data"
    }
   ],
   "source": [
    "model_name='SARIMA'\n",
    "\n",
    "# Predict\n",
    "predictions = model.predict(n_periods=test.shape[0], dynamic=False, typ='levels')\n",
    "\n",
    "# Forecast accuracy\n",
    "forecast_accuracy(model_name, test[dep_var], predictions, True, True)"
   ]
  },
  {
   "cell_type": "code",
   "execution_count": 21,
   "metadata": {},
   "outputs": [
    {
     "data": {
      "text/html": [
       "<div>\n",
       "<style scoped>\n",
       "    .dataframe tbody tr th:only-of-type {\n",
       "        vertical-align: middle;\n",
       "    }\n",
       "\n",
       "    .dataframe tbody tr th {\n",
       "        vertical-align: top;\n",
       "    }\n",
       "\n",
       "    .dataframe thead th {\n",
       "        text-align: right;\n",
       "    }\n",
       "</style>\n",
       "<table border=\"1\" class=\"dataframe\">\n",
       "  <thead>\n",
       "    <tr style=\"text-align: right;\">\n",
       "      <th></th>\n",
       "      <th>Simple Exponential Smoothing</th>\n",
       "      <th>Double Exponential Smoothing</th>\n",
       "      <th>Triple Exponential Smoothing</th>\n",
       "      <th>ARIMA</th>\n",
       "      <th>SARIMA</th>\n",
       "    </tr>\n",
       "  </thead>\n",
       "  <tbody>\n",
       "    <tr>\n",
       "      <th>Mean Absolute Error</th>\n",
       "      <td>22.715779</td>\n",
       "      <td>24.455470</td>\n",
       "      <td>25.060178</td>\n",
       "      <td>18.191573</td>\n",
       "      <td>25.709606</td>\n",
       "    </tr>\n",
       "    <tr>\n",
       "      <th>Mean Squared Error</th>\n",
       "      <td>736.196571</td>\n",
       "      <td>837.055108</td>\n",
       "      <td>858.155875</td>\n",
       "      <td>492.569237</td>\n",
       "      <td>921.501618</td>\n",
       "    </tr>\n",
       "    <tr>\n",
       "      <th>Root Mean Squared Error</th>\n",
       "      <td>27.132943</td>\n",
       "      <td>28.931905</td>\n",
       "      <td>29.294298</td>\n",
       "      <td>22.193901</td>\n",
       "      <td>30.356245</td>\n",
       "    </tr>\n",
       "    <tr>\n",
       "      <th>R^2</th>\n",
       "      <td>-0.715648</td>\n",
       "      <td>-0.950691</td>\n",
       "      <td>-0.999864</td>\n",
       "      <td>-0.147894</td>\n",
       "      <td>-1.147487</td>\n",
       "    </tr>\n",
       "    <tr>\n",
       "      <th>Mean Absolute Percentage Error</th>\n",
       "      <td>31.431946</td>\n",
       "      <td>33.821299</td>\n",
       "      <td>34.282128</td>\n",
       "      <td>24.481434</td>\n",
       "      <td>35.047868</td>\n",
       "    </tr>\n",
       "    <tr>\n",
       "      <th>Accuracy</th>\n",
       "      <td>68.568054</td>\n",
       "      <td>66.178701</td>\n",
       "      <td>65.717872</td>\n",
       "      <td>75.518566</td>\n",
       "      <td>64.952132</td>\n",
       "    </tr>\n",
       "  </tbody>\n",
       "</table>\n",
       "</div>"
      ],
      "text/plain": [
       "                                Simple Exponential Smoothing  \\\n",
       "Mean Absolute Error                                22.715779   \n",
       "Mean Squared Error                                736.196571   \n",
       "Root Mean Squared Error                            27.132943   \n",
       "R^2                                                -0.715648   \n",
       "Mean Absolute Percentage Error                     31.431946   \n",
       "Accuracy                                           68.568054   \n",
       "\n",
       "                                Double Exponential Smoothing  \\\n",
       "Mean Absolute Error                                24.455470   \n",
       "Mean Squared Error                                837.055108   \n",
       "Root Mean Squared Error                            28.931905   \n",
       "R^2                                                -0.950691   \n",
       "Mean Absolute Percentage Error                     33.821299   \n",
       "Accuracy                                           66.178701   \n",
       "\n",
       "                                Triple Exponential Smoothing       ARIMA  \\\n",
       "Mean Absolute Error                                25.060178   18.191573   \n",
       "Mean Squared Error                                858.155875  492.569237   \n",
       "Root Mean Squared Error                            29.294298   22.193901   \n",
       "R^2                                                -0.999864   -0.147894   \n",
       "Mean Absolute Percentage Error                     34.282128   24.481434   \n",
       "Accuracy                                           65.717872   75.518566   \n",
       "\n",
       "                                    SARIMA  \n",
       "Mean Absolute Error              25.709606  \n",
       "Mean Squared Error              921.501618  \n",
       "Root Mean Squared Error          30.356245  \n",
       "R^2                              -1.147487  \n",
       "Mean Absolute Percentage Error   35.047868  \n",
       "Accuracy                         64.952132  "
      ]
     },
     "execution_count": 21,
     "metadata": {},
     "output_type": "execute_result"
    }
   ],
   "source": [
    "metrics"
   ]
  },
  {
   "attachments": {},
   "cell_type": "markdown",
   "metadata": {},
   "source": [
    "#### SARIMAX"
   ]
  },
  {
   "cell_type": "code",
   "execution_count": 22,
   "metadata": {},
   "outputs": [
    {
     "name": "stdout",
     "output_type": "stream",
     "text": [
      "Performing stepwise search to minimize aic\n",
      " ARIMA(1,1,1)(0,1,1)[12]             : AIC=1185.358, Time=0.30 sec\n",
      " ARIMA(0,1,0)(0,1,0)[12]             : AIC=1283.283, Time=0.03 sec\n",
      " ARIMA(1,1,0)(1,1,0)[12]             : AIC=1223.887, Time=0.13 sec\n",
      " ARIMA(0,1,1)(0,1,1)[12]             : AIC=1186.049, Time=0.20 sec\n",
      " ARIMA(1,1,1)(0,1,0)[12]             : AIC=1223.179, Time=0.06 sec\n",
      " ARIMA(1,1,1)(1,1,1)[12]             : AIC=1185.652, Time=0.49 sec\n",
      " ARIMA(1,1,1)(0,1,2)[12]             : AIC=1185.678, Time=0.93 sec\n",
      " ARIMA(1,1,1)(1,1,0)[12]             : AIC=1203.274, Time=0.18 sec\n",
      " ARIMA(1,1,1)(1,1,2)[12]             : AIC=1187.620, Time=1.40 sec\n",
      " ARIMA(1,1,0)(0,1,1)[12]             : AIC=1204.471, Time=0.18 sec\n",
      " ARIMA(2,1,1)(0,1,1)[12]             : AIC=1183.283, Time=0.36 sec\n",
      " ARIMA(2,1,1)(0,1,0)[12]             : AIC=1220.804, Time=0.07 sec\n",
      " ARIMA(2,1,1)(1,1,1)[12]             : AIC=1184.284, Time=0.75 sec\n",
      " ARIMA(2,1,1)(0,1,2)[12]             : AIC=1184.372, Time=1.35 sec\n",
      " ARIMA(2,1,1)(1,1,0)[12]             : AIC=1198.463, Time=0.25 sec\n",
      " ARIMA(2,1,1)(1,1,2)[12]             : AIC=1186.284, Time=2.21 sec\n",
      " ARIMA(2,1,0)(0,1,1)[12]             : AIC=1182.150, Time=0.29 sec\n",
      " ARIMA(2,1,0)(0,1,0)[12]             : AIC=1219.050, Time=0.07 sec\n",
      " ARIMA(2,1,0)(1,1,1)[12]             : AIC=1183.054, Time=0.77 sec\n",
      " ARIMA(2,1,0)(0,1,2)[12]             : AIC=1183.131, Time=1.08 sec\n",
      " ARIMA(2,1,0)(1,1,0)[12]             : AIC=1197.389, Time=0.19 sec\n",
      " ARIMA(2,1,0)(1,1,2)[12]             : AIC=1185.053, Time=1.75 sec\n",
      " ARIMA(3,1,0)(0,1,1)[12]             : AIC=1183.640, Time=0.46 sec\n",
      " ARIMA(3,1,1)(0,1,1)[12]             : AIC=inf, Time=1.69 sec\n",
      " ARIMA(2,1,0)(0,1,1)[12] intercept   : AIC=1184.150, Time=0.45 sec\n",
      "\n",
      "Best model:  ARIMA(2,1,0)(0,1,1)[12]          \n",
      "Total fit time: 15.660 seconds\n"
     ]
    }
   ],
   "source": [
    "# SARIMAX = SARIMA with exogenous variable\n",
    "model = auto_arima(train[dep_var], exogenous=train[[exo_var]],\n",
    "                           start_p=1, \n",
    "                           start_q=1,\n",
    "                           test='adf',\n",
    "                           max_p=3, max_q=3, \n",
    "                           m=12,\n",
    "                           start_P=0, \n",
    "                           seasonal=True,\n",
    "                           d=None, \n",
    "                           D=1, \n",
    "                           trace=True,\n",
    "                           error_action='ignore',  \n",
    "                           suppress_warnings=True, \n",
    "                           stepwise=True)"
   ]
  },
  {
   "cell_type": "code",
   "execution_count": 23,
   "metadata": {},
   "outputs": [],
   "source": [
    "#model.plot_diagnostics(figsize=(15,12))\n",
    "#plt.show()"
   ]
  },
  {
   "cell_type": "code",
   "execution_count": 24,
   "metadata": {},
   "outputs": [
    {
     "data": {
      "text/html": [
       "<table class=\"simpletable\">\n",
       "<caption>SARIMAX Results</caption>\n",
       "<tr>\n",
       "  <th>Dep. Variable:</th>                   <td>y</td>                <th>  No. Observations:  </th>    <td>168</td>  \n",
       "</tr>\n",
       "<tr>\n",
       "  <th>Model:</th>           <td>SARIMAX(2, 1, 0)x(0, 1, [1], 12)</td> <th>  Log Likelihood     </th> <td>-587.075</td>\n",
       "</tr>\n",
       "<tr>\n",
       "  <th>Date:</th>                    <td>Thu, 16 Feb 2023</td>         <th>  AIC                </th> <td>1182.150</td>\n",
       "</tr>\n",
       "<tr>\n",
       "  <th>Time:</th>                        <td>16:58:06</td>             <th>  BIC                </th> <td>1194.323</td>\n",
       "</tr>\n",
       "<tr>\n",
       "  <th>Sample:</th>                     <td>01-01-2006</td>            <th>  HQIC               </th> <td>1187.094</td>\n",
       "</tr>\n",
       "<tr>\n",
       "  <th></th>                           <td>- 12-01-2019</td>           <th>                     </th>     <td> </td>   \n",
       "</tr>\n",
       "<tr>\n",
       "  <th>Covariance Type:</th>                <td>opg</td>               <th>                     </th>     <td> </td>   \n",
       "</tr>\n",
       "</table>\n",
       "<table class=\"simpletable\">\n",
       "<tr>\n",
       "      <td></td>        <th>coef</th>     <th>std err</th>      <th>z</th>      <th>P>|z|</th>  <th>[0.025</th>    <th>0.975]</th>  \n",
       "</tr>\n",
       "<tr>\n",
       "  <th>ar.L1</th>    <td>   -0.7492</td> <td>    0.058</td> <td>  -12.854</td> <td> 0.000</td> <td>   -0.863</td> <td>   -0.635</td>\n",
       "</tr>\n",
       "<tr>\n",
       "  <th>ar.L2</th>    <td>   -0.3816</td> <td>    0.061</td> <td>   -6.254</td> <td> 0.000</td> <td>   -0.501</td> <td>   -0.262</td>\n",
       "</tr>\n",
       "<tr>\n",
       "  <th>ma.S.L12</th> <td>   -0.7067</td> <td>    0.077</td> <td>   -9.133</td> <td> 0.000</td> <td>   -0.858</td> <td>   -0.555</td>\n",
       "</tr>\n",
       "<tr>\n",
       "  <th>sigma2</th>   <td>  107.7114</td> <td>    9.828</td> <td>   10.960</td> <td> 0.000</td> <td>   88.449</td> <td>  126.973</td>\n",
       "</tr>\n",
       "</table>\n",
       "<table class=\"simpletable\">\n",
       "<tr>\n",
       "  <th>Ljung-Box (L1) (Q):</th>     <td>0.05</td> <th>  Jarque-Bera (JB):  </th> <td>20.58</td>\n",
       "</tr>\n",
       "<tr>\n",
       "  <th>Prob(Q):</th>                <td>0.83</td> <th>  Prob(JB):          </th> <td>0.00</td> \n",
       "</tr>\n",
       "<tr>\n",
       "  <th>Heteroskedasticity (H):</th> <td>2.94</td> <th>  Skew:              </th> <td>-0.48</td>\n",
       "</tr>\n",
       "<tr>\n",
       "  <th>Prob(H) (two-sided):</th>    <td>0.00</td> <th>  Kurtosis:          </th> <td>4.51</td> \n",
       "</tr>\n",
       "</table><br/><br/>Warnings:<br/>[1] Covariance matrix calculated using the outer product of gradients (complex-step)."
      ],
      "text/plain": [
       "<class 'statsmodels.iolib.summary.Summary'>\n",
       "\"\"\"\n",
       "                                      SARIMAX Results                                       \n",
       "============================================================================================\n",
       "Dep. Variable:                                    y   No. Observations:                  168\n",
       "Model:             SARIMAX(2, 1, 0)x(0, 1, [1], 12)   Log Likelihood                -587.075\n",
       "Date:                              Thu, 16 Feb 2023   AIC                           1182.150\n",
       "Time:                                      16:58:06   BIC                           1194.323\n",
       "Sample:                                  01-01-2006   HQIC                          1187.094\n",
       "                                       - 12-01-2019                                         \n",
       "Covariance Type:                                opg                                         \n",
       "==============================================================================\n",
       "                 coef    std err          z      P>|z|      [0.025      0.975]\n",
       "------------------------------------------------------------------------------\n",
       "ar.L1         -0.7492      0.058    -12.854      0.000      -0.863      -0.635\n",
       "ar.L2         -0.3816      0.061     -6.254      0.000      -0.501      -0.262\n",
       "ma.S.L12      -0.7067      0.077     -9.133      0.000      -0.858      -0.555\n",
       "sigma2       107.7114      9.828     10.960      0.000      88.449     126.973\n",
       "===================================================================================\n",
       "Ljung-Box (L1) (Q):                   0.05   Jarque-Bera (JB):                20.58\n",
       "Prob(Q):                              0.83   Prob(JB):                         0.00\n",
       "Heteroskedasticity (H):               2.94   Skew:                            -0.48\n",
       "Prob(H) (two-sided):                  0.00   Kurtosis:                         4.51\n",
       "===================================================================================\n",
       "\n",
       "Warnings:\n",
       "[1] Covariance matrix calculated using the outer product of gradients (complex-step).\n",
       "\"\"\""
      ]
     },
     "execution_count": 24,
     "metadata": {},
     "output_type": "execute_result"
    }
   ],
   "source": [
    "model.summary()"
   ]
  },
  {
   "cell_type": "code",
   "execution_count": 25,
   "metadata": {},
   "outputs": [
    {
     "name": "stdout",
     "output_type": "stream",
     "text": [
      "SARIMAX Model Performance:\n",
      "Mean Absolute Error: 22.13.\n",
      "Mean Squared Error: 689.97.\n",
      "Root Mean Squared Error: 26.27.\n",
      "R^2 Score = -0.61.\n",
      "Mean Absolute Percentage Error: 29.85%.\n",
      "Accuracy = 70.15%.\n"
     ]
    },
    {
     "data": {
      "image/svg+xml": "<svg class=\"main-svg\" xmlns=\"http://www.w3.org/2000/svg\" xmlns:xlink=\"http://www.w3.org/1999/xlink\" width=\"1000\" height=\"600\" style=\"\" viewBox=\"0 0 1000 600\"><rect x=\"0\" y=\"0\" width=\"1000\" height=\"600\" style=\"fill: rgb(255, 255, 255); fill-opacity: 1;\"/><defs id=\"defs-96c4c7\"><g class=\"clips\"><clipPath id=\"clip96c4c7xyplot\" class=\"plotclip\"><rect width=\"791\" height=\"178.50000000000003\"/></clipPath><clipPath id=\"clip96c4c7x2y2plot\" class=\"plotclip\"><rect width=\"791\" height=\"178.5\"/></clipPath><clipPath class=\"axesclip\" id=\"clip96c4c7x\"><rect x=\"80\" y=\"0\" width=\"791\" height=\"600\"/></clipPath><clipPath class=\"axesclip\" id=\"clip96c4c7y\"><rect x=\"0\" y=\"100\" width=\"1000\" height=\"178.50000000000003\"/></clipPath><clipPath class=\"axesclip\" id=\"clip96c4c7xy\"><rect x=\"80\" y=\"100\" width=\"791\" height=\"178.50000000000003\"/></clipPath><clipPath class=\"axesclip\" id=\"clip96c4c7y2\"><rect x=\"0\" y=\"341.5\" width=\"1000\" height=\"178.5\"/></clipPath><clipPath class=\"axesclip\" id=\"clip96c4c7xy2\"><rect x=\"80\" y=\"341.5\" width=\"791\" height=\"178.5\"/></clipPath><clipPath class=\"axesclip\" id=\"clip96c4c7x2\"><rect x=\"80\" y=\"0\" width=\"791\" height=\"600\"/></clipPath><clipPath class=\"axesclip\" id=\"clip96c4c7x2y\"><rect x=\"80\" y=\"100\" width=\"791\" height=\"178.50000000000003\"/></clipPath><clipPath class=\"axesclip\" id=\"clip96c4c7x2y2\"><rect x=\"80\" y=\"341.5\" width=\"791\" height=\"178.5\"/></clipPath></g><g class=\"gradients\"/><g class=\"patterns\"/></defs><g class=\"bglayer\"><rect class=\"bg\" x=\"80\" y=\"100\" width=\"791\" height=\"178.50000000000003\" style=\"fill: rgb(229, 236, 246); fill-opacity: 1; stroke-width: 0;\"/><rect class=\"bg\" x=\"80\" y=\"341.5\" width=\"791\" height=\"178.5\" style=\"fill: rgb(229, 236, 246); fill-opacity: 1; stroke-width: 0;\"/></g><g class=\"layer-below\"><g class=\"imagelayer\"/><g class=\"shapelayer\"/></g><g class=\"cartesianlayer\"><g class=\"subplot xy\"><g class=\"layer-subplot\"><g class=\"shapelayer\"/><g class=\"imagelayer\"/></g><g class=\"minor-gridlayer\"><g class=\"x\"/><g class=\"y\"/></g><g class=\"gridlayer\"><g class=\"x\"><path class=\"xgrid crisp\" transform=\"translate(215.18,0)\" d=\"M0,100v178.50000000000003\" style=\"stroke: rgb(255, 255, 255); stroke-opacity: 1; stroke-width: 1px;\"/><path class=\"xgrid crisp\" transform=\"translate(351.84,0)\" d=\"M0,100v178.50000000000003\" style=\"stroke: rgb(255, 255, 255); stroke-opacity: 1; stroke-width: 1px;\"/><path class=\"xgrid crisp\" transform=\"translate(486.27,0)\" d=\"M0,100v178.50000000000003\" style=\"stroke: rgb(255, 255, 255); stroke-opacity: 1; stroke-width: 1px;\"/><path class=\"xgrid crisp\" transform=\"translate(622.93,0)\" d=\"M0,100v178.50000000000003\" style=\"stroke: rgb(255, 255, 255); stroke-opacity: 1; stroke-width: 1px;\"/><path class=\"xgrid crisp\" transform=\"translate(757.36,0)\" d=\"M0,100v178.50000000000003\" style=\"stroke: rgb(255, 255, 255); stroke-opacity: 1; stroke-width: 1px;\"/></g><g class=\"y\"><path class=\"ygrid crisp\" transform=\"translate(0,259.76)\" d=\"M80,0h791\" style=\"stroke: rgb(255, 255, 255); stroke-opacity: 1; stroke-width: 1px;\"/><path class=\"ygrid crisp\" transform=\"translate(0,221.39)\" d=\"M80,0h791\" style=\"stroke: rgb(255, 255, 255); stroke-opacity: 1; stroke-width: 1px;\"/><path class=\"ygrid crisp\" transform=\"translate(0,183.01999999999998)\" d=\"M80,0h791\" style=\"stroke: rgb(255, 255, 255); stroke-opacity: 1; stroke-width: 1px;\"/><path class=\"ygrid crisp\" transform=\"translate(0,144.65)\" d=\"M80,0h791\" style=\"stroke: rgb(255, 255, 255); stroke-opacity: 1; stroke-width: 1px;\"/><path class=\"ygrid crisp\" transform=\"translate(0,106.28)\" d=\"M80,0h791\" style=\"stroke: rgb(255, 255, 255); stroke-opacity: 1; stroke-width: 1px;\"/></g></g><g class=\"zerolinelayer\"/><path class=\"xlines-below\"/><path class=\"ylines-below\"/><g class=\"overlines-below\"/><g class=\"xaxislayer-below\"/><g class=\"yaxislayer-below\"/><g class=\"overaxes-below\"/><g class=\"plot\" transform=\"translate(80,100)\" clip-path=\"url(#clip96c4c7xyplot)\"><g class=\"scatterlayer mlayer\"><g class=\"trace scatter trace26a056\" style=\"stroke-miterlimit: 2; opacity: 1;\"><g class=\"fills\"/><g class=\"errorbars\"/><g class=\"lines\"><path class=\"js-line\" d=\"M0,66.77L23.02,107.13L44.56,105.35L67.59,160.29L89.87,146.25L112.89,73.81L135.18,62.07L158.2,77.95L181.22,82.91L203.51,106.36L226.53,71.69L248.81,21.17L271.84,159.99L294.86,163.74L315.66,8.92L338.68,100.75L360.96,85.27L383.99,46.41L406.27,123.75L429.29,97.57L452.32,115.74L474.6,133.17L497.62,108.04L519.91,76.38L542.93,169.58L565.95,160.5L586.75,110.57L609.78,150.69L632.06,122.94L655.08,108.2L677.36,164.41L700.39,132L723.41,129.46L745.69,153.54L768.72,128.3L791,105.08\" style=\"vector-effect: non-scaling-stroke; fill: none; stroke: rgb(99, 110, 250); stroke-opacity: 1; stroke-width: 2px; opacity: 1;\"/></g><g class=\"points\"/><g class=\"text\"/></g><g class=\"trace scatter tracebf77d4\" style=\"stroke-miterlimit: 2; opacity: 1;\"><g class=\"fills\"/><g class=\"errorbars\"/><g class=\"lines\"><path class=\"js-line\" d=\"M0,51.21L23.02,82.46L44.56,52.7L67.59,88.29L89.87,69.55L112.89,31.55L135.18,102.43L158.2,86.04L181.22,89.65L203.51,81.79L226.53,76.77L248.81,98.61L271.84,54.28L294.86,101.1L315.66,42.2L338.68,72.08L360.96,58.93L383.99,45.6L406.27,106.29L429.29,89.86L452.32,108.21L474.6,82.53L497.62,76.75L519.91,107.02L542.93,77.09L565.95,104.59L586.75,47.44L609.78,73.81L632.06,59.58L655.08,46.37L677.36,102.85L700.39,81.2L723.41,104.64L745.69,83.17L768.72,77.82L791,96.98\" style=\"vector-effect: non-scaling-stroke; fill: none; stroke: rgb(239, 85, 59); stroke-opacity: 1; stroke-width: 2px; opacity: 1;\"/></g><g class=\"points\"/><g class=\"text\"/></g></g></g><g class=\"overplot\"/><path class=\"xlines-above crisp\" d=\"M0,0\" style=\"fill: none;\"/><path class=\"ylines-above crisp\" d=\"M0,0\" style=\"fill: none;\"/><g class=\"overlines-above\"/><g class=\"xaxislayer-above\"><g class=\"xtick\"><text text-anchor=\"middle\" x=\"0\" y=\"291.5\" transform=\"translate(80,0)\" style=\"font-family: 'Open Sans', verdana, arial, sans-serif; font-size: 12px; fill: rgb(42, 63, 95); fill-opacity: 1; white-space: pre; opacity: 1;\">Jan 2020</text></g><g class=\"xtick\"><text text-anchor=\"middle\" x=\"0\" y=\"291.5\" style=\"font-family: 'Open Sans', verdana, arial, sans-serif; font-size: 12px; fill: rgb(42, 63, 95); fill-opacity: 1; white-space: pre; opacity: 1;\" transform=\"translate(215.18,0)\">Jul 2020</text></g><g class=\"xtick\"><text text-anchor=\"middle\" x=\"0\" y=\"291.5\" style=\"font-family: 'Open Sans', verdana, arial, sans-serif; font-size: 12px; fill: rgb(42, 63, 95); fill-opacity: 1; white-space: pre; opacity: 1;\" transform=\"translate(351.84,0)\">Jan 2021</text></g><g class=\"xtick\"><text text-anchor=\"middle\" x=\"0\" y=\"291.5\" style=\"font-family: 'Open Sans', verdana, arial, sans-serif; font-size: 12px; fill: rgb(42, 63, 95); fill-opacity: 1; white-space: pre; opacity: 1;\" transform=\"translate(486.27,0)\">Jul 2021</text></g><g class=\"xtick\"><text text-anchor=\"middle\" x=\"0\" y=\"291.5\" style=\"font-family: 'Open Sans', verdana, arial, sans-serif; font-size: 12px; fill: rgb(42, 63, 95); fill-opacity: 1; white-space: pre; opacity: 1;\" transform=\"translate(622.93,0)\">Jan 2022</text></g><g class=\"xtick\"><text text-anchor=\"middle\" x=\"0\" y=\"291.5\" style=\"font-family: 'Open Sans', verdana, arial, sans-serif; font-size: 12px; fill: rgb(42, 63, 95); fill-opacity: 1; white-space: pre; opacity: 1;\" transform=\"translate(757.36,0)\">Jul 2022</text></g></g><g class=\"yaxislayer-above\"><g class=\"ytick\"><text text-anchor=\"end\" x=\"79\" y=\"4.199999999999999\" transform=\"translate(0,259.76)\" style=\"font-family: 'Open Sans', verdana, arial, sans-serif; font-size: 12px; fill: rgb(42, 63, 95); fill-opacity: 1; white-space: pre; opacity: 1;\">60</text></g><g class=\"ytick\"><text text-anchor=\"end\" x=\"79\" y=\"4.199999999999999\" style=\"font-family: 'Open Sans', verdana, arial, sans-serif; font-size: 12px; fill: rgb(42, 63, 95); fill-opacity: 1; white-space: pre; opacity: 1;\" transform=\"translate(0,221.39)\">80</text></g><g class=\"ytick\"><text text-anchor=\"end\" x=\"79\" y=\"4.199999999999999\" style=\"font-family: 'Open Sans', verdana, arial, sans-serif; font-size: 12px; fill: rgb(42, 63, 95); fill-opacity: 1; white-space: pre; opacity: 1;\" transform=\"translate(0,183.01999999999998)\">100</text></g><g class=\"ytick\"><text text-anchor=\"end\" x=\"79\" y=\"4.199999999999999\" style=\"font-family: 'Open Sans', verdana, arial, sans-serif; font-size: 12px; fill: rgb(42, 63, 95); fill-opacity: 1; white-space: pre; opacity: 1;\" transform=\"translate(0,144.65)\">120</text></g><g class=\"ytick\"><text text-anchor=\"end\" x=\"79\" y=\"4.199999999999999\" style=\"font-family: 'Open Sans', verdana, arial, sans-serif; font-size: 12px; fill: rgb(42, 63, 95); fill-opacity: 1; white-space: pre; opacity: 1;\" transform=\"translate(0,106.28)\">140</text></g></g><g class=\"overaxes-above\"/></g><g class=\"subplot x2y2\"><g class=\"layer-subplot\"><g class=\"shapelayer\"/><g class=\"imagelayer\"/></g><g class=\"minor-gridlayer\"><g class=\"x2\"/><g class=\"y2\"/></g><g class=\"gridlayer\"><g class=\"x2\"><path class=\"x2grid crisp\" transform=\"translate(173.47,0)\" d=\"M0,341.5v178.5\" style=\"stroke: rgb(255, 255, 255); stroke-opacity: 1; stroke-width: 1px;\"/><path class=\"x2grid crisp\" transform=\"translate(267.06,0)\" d=\"M0,341.5v178.5\" style=\"stroke: rgb(255, 255, 255); stroke-opacity: 1; stroke-width: 1px;\"/><path class=\"x2grid crisp\" transform=\"translate(360.52,0)\" d=\"M0,341.5v178.5\" style=\"stroke: rgb(255, 255, 255); stroke-opacity: 1; stroke-width: 1px;\"/><path class=\"x2grid crisp\" transform=\"translate(454.12,0)\" d=\"M0,341.5v178.5\" style=\"stroke: rgb(255, 255, 255); stroke-opacity: 1; stroke-width: 1px;\"/><path class=\"x2grid crisp\" transform=\"translate(547.5799999999999,0)\" d=\"M0,341.5v178.5\" style=\"stroke: rgb(255, 255, 255); stroke-opacity: 1; stroke-width: 1px;\"/><path class=\"x2grid crisp\" transform=\"translate(641.18,0)\" d=\"M0,341.5v178.5\" style=\"stroke: rgb(255, 255, 255); stroke-opacity: 1; stroke-width: 1px;\"/><path class=\"x2grid crisp\" transform=\"translate(734.64,0)\" d=\"M0,341.5v178.5\" style=\"stroke: rgb(255, 255, 255); stroke-opacity: 1; stroke-width: 1px;\"/><path class=\"x2grid crisp\" transform=\"translate(828.24,0)\" d=\"M0,341.5v178.5\" style=\"stroke: rgb(255, 255, 255); stroke-opacity: 1; stroke-width: 1px;\"/></g><g class=\"y2\"><path class=\"y2grid crisp\" transform=\"translate(0,500.9)\" d=\"M80,0h791\" style=\"stroke: rgb(255, 255, 255); stroke-opacity: 1; stroke-width: 1px;\"/><path class=\"y2grid crisp\" transform=\"translate(0,427.19)\" d=\"M80,0h791\" style=\"stroke: rgb(255, 255, 255); stroke-opacity: 1; stroke-width: 1px;\"/><path class=\"y2grid crisp\" transform=\"translate(0,353.48)\" d=\"M80,0h791\" style=\"stroke: rgb(255, 255, 255); stroke-opacity: 1; stroke-width: 1px;\"/></g></g><g class=\"zerolinelayer\"/><path class=\"xlines-below\"/><path class=\"ylines-below\"/><g class=\"overlines-below\"/><g class=\"xaxislayer-below\"/><g class=\"yaxislayer-below\"/><g class=\"overaxes-below\"/><g class=\"plot\" transform=\"translate(80,341.5)\" clip-path=\"url(#clip96c4c7x2y2plot)\"><g class=\"scatterlayer mlayer\"><g class=\"trace scatter trace9d7078\" style=\"stroke-miterlimit: 2; opacity: 1;\"><g class=\"fills\"/><g class=\"errorbars\"/><g class=\"lines\"><path class=\"js-line\" d=\"M0,136.34L3.97,141.82L7.55,110.04L11.52,118.6L15.36,97.59L19.33,86.8L23.17,134.36L27.14,129.74L31.11,127.71L38.92,124.8L42.76,121.26L46.73,133.09L50.7,140.57L54.29,109.47L58.26,128.04L62.1,110.33L66.07,103.15L69.91,118.11L73.88,118.68L77.85,118.06L81.69,108.94L85.66,103.08L89.5,114.87L93.47,109.91L97.43,122.14L101.15,125L105.12,95.33L108.96,108.1L112.93,101.49L116.77,121.81L120.74,136L124.71,130.42L128.55,136.18L132.52,161.81L136.36,159.39L140.33,166.46L144.3,169.58L147.88,148.99L151.85,155.75L155.69,153.25L159.66,136.57L163.5,155.38L167.47,165.41L171.44,149.56L175.28,147.77L179.25,155.55L183.09,132.16L187.06,141.98L191.03,159.58L194.61,113.69L198.58,130.79L202.42,122.05L206.39,100.09L210.23,133.22L214.2,132.47L218.17,117.25L222.01,116.75L225.98,113.71L229.82,100.74L233.79,127.21L237.76,134.3L241.35,89.5L245.31,118.19L249.16,91.29L253.13,87.39L256.97,121.3L260.94,126.17L264.9,115.03L268.75,127.16L272.71,104.48L276.56,101.78L280.52,122.95L284.49,111.78L288.21,116.04L292.18,129.8L296.02,90.83L299.99,113.01L303.83,92.91L307.8,117.84L311.77,114.83L315.61,103.52L319.58,95.43L323.42,142.19L327.39,107.12L331.35,128.94L334.94,105.64L338.91,98.86L346.72,83.93L350.56,112.12L354.53,112.63L358.5,109.94L362.34,90.55L366.31,97.78L370.15,111.25L374.12,94.07L378.09,107.04L381.67,89.58L385.64,92.32L389.48,89.01L393.45,83.03L397.29,111.35L401.26,108.43L405.23,110.19L409.07,93.88L413.04,103.92L416.88,101.59L420.85,96.13L424.82,117.42L428.4,65.85L432.37,88.21L436.22,87.56L440.18,50.63L444.03,94.41L447.99,95.17L451.96,81.26L455.8,89.16L459.77,87.01L463.61,75.42L467.58,92.89L471.55,91.09L475.27,69.17L479.23,63.13L483.08,52.27L487.04,30.88L490.89,98.77L494.86,84.49L498.82,75.6L502.67,87.64L506.63,79.23L510.48,67.68L514.44,66.26L518.41,83.78L522,38.51L525.97,82.11L529.81,42.11L533.78,27.81L537.62,102.81L541.59,102.09L545.56,110.47L549.4,74.53L553.37,78.9L557.21,92.02L561.18,62.77L565.15,85.24L568.73,63.74L572.7,72.46L576.54,39.7L580.51,40.01L584.35,92.02L588.32,56.21L592.29,130.5L596.13,90.65L600.1,79.63L603.94,114.12L607.91,50.85L611.88,73.91L615.46,8.93L619.43,93.97L623.27,69.22L627.24,55.22L631.08,89.5L635.05,72.93L639.02,96.59L642.86,75.84L646.83,78.28L650.67,100.67\" style=\"vector-effect: non-scaling-stroke; fill: none; stroke: rgb(0, 204, 150); stroke-opacity: 1; stroke-width: 2px; opacity: 1;\"/></g><g class=\"points\"/><g class=\"text\"/></g><g class=\"trace scatter trace332ed6\" style=\"stroke-miterlimit: 2; opacity: 1;\"><g class=\"fills\"/><g class=\"errorbars\"/><g class=\"lines\"><path class=\"js-line\" d=\"M654.64,73.2L658.61,104.21L662.32,102.84L666.29,145.07L670.13,134.27L674.1,78.61L677.95,69.59L681.91,81.79L685.88,85.6L689.72,103.62L693.69,76.98L697.53,38.16L701.5,144.83L705.47,147.71L709.06,28.75L713.03,99.31L716.87,87.42L720.84,57.56L724.68,116.99L728.65,96.87L732.62,110.83L736.46,124.22L740.43,104.92L744.27,80.59L748.24,152.2L752.21,145.22L755.79,106.86L759.76,137.69L763.6,116.36L767.57,105.04L771.41,148.22L775.38,123.32L779.35,121.37L783.19,139.88L787.16,120.48L791,102.64\" style=\"vector-effect: non-scaling-stroke; fill: none; stroke: rgb(171, 99, 250); stroke-opacity: 1; stroke-width: 2px; opacity: 1;\"/></g><g class=\"points\"/><g class=\"text\"/></g><g class=\"trace scatter trace4294c8\" style=\"stroke-miterlimit: 2; opacity: 1;\"><g class=\"fills\"/><g class=\"errorbars\"/><g class=\"lines\"><path class=\"js-line\" d=\"M654.64,61.24L658.61,85.26L662.32,62.39L666.29,89.74L670.13,75.34L674.1,46.14L677.95,100.6L681.91,88.01L685.88,90.78L689.72,84.74L693.69,80.88L697.53,97.66L701.5,63.6L705.47,99.58L709.06,54.32L713.03,77.28L716.87,67.18L720.84,56.93L724.68,103.57L728.65,90.94L732.62,105.04L736.46,85.31L740.43,80.87L744.27,104.13L748.24,81.13L752.21,102.26L755.79,58.35L759.76,78.61L763.6,67.68L767.57,57.53L771.41,100.93L775.38,84.29L779.35,102.3L783.19,85.81L787.16,81.69L791,96.42\" style=\"vector-effect: non-scaling-stroke; fill: none; stroke: rgb(255, 161, 90); stroke-opacity: 1; stroke-width: 2px; opacity: 1;\"/></g><g class=\"points\"/><g class=\"text\"/></g></g></g><g class=\"overplot\"/><path class=\"xlines-above crisp\" d=\"M0,0\" style=\"fill: none;\"/><path class=\"ylines-above crisp\" d=\"M0,0\" style=\"fill: none;\"/><g class=\"overlines-above\"/><g class=\"xaxislayer-above\"><g class=\"x2tick\"><text text-anchor=\"middle\" x=\"0\" y=\"533\" transform=\"translate(80,0)\" style=\"font-family: 'Open Sans', verdana, arial, sans-serif; font-size: 12px; fill: rgb(42, 63, 95); fill-opacity: 1; white-space: pre; opacity: 1;\">2006</text></g><g class=\"x2tick\"><text text-anchor=\"middle\" x=\"0\" y=\"533\" style=\"font-family: 'Open Sans', verdana, arial, sans-serif; font-size: 12px; fill: rgb(42, 63, 95); fill-opacity: 1; white-space: pre; opacity: 1;\" transform=\"translate(173.47,0)\">2008</text></g><g class=\"x2tick\"><text text-anchor=\"middle\" x=\"0\" y=\"533\" style=\"font-family: 'Open Sans', verdana, arial, sans-serif; font-size: 12px; fill: rgb(42, 63, 95); fill-opacity: 1; white-space: pre; opacity: 1;\" transform=\"translate(267.06,0)\">2010</text></g><g class=\"x2tick\"><text text-anchor=\"middle\" x=\"0\" y=\"533\" style=\"font-family: 'Open Sans', verdana, arial, sans-serif; font-size: 12px; fill: rgb(42, 63, 95); fill-opacity: 1; white-space: pre; opacity: 1;\" transform=\"translate(360.52,0)\">2012</text></g><g class=\"x2tick\"><text text-anchor=\"middle\" x=\"0\" y=\"533\" style=\"font-family: 'Open Sans', verdana, arial, sans-serif; font-size: 12px; fill: rgb(42, 63, 95); fill-opacity: 1; white-space: pre; opacity: 1;\" transform=\"translate(454.12,0)\">2014</text></g><g class=\"x2tick\"><text text-anchor=\"middle\" x=\"0\" y=\"533\" style=\"font-family: 'Open Sans', verdana, arial, sans-serif; font-size: 12px; fill: rgb(42, 63, 95); fill-opacity: 1; white-space: pre; opacity: 1;\" transform=\"translate(547.5799999999999,0)\">2016</text></g><g class=\"x2tick\"><text text-anchor=\"middle\" x=\"0\" y=\"533\" style=\"font-family: 'Open Sans', verdana, arial, sans-serif; font-size: 12px; fill: rgb(42, 63, 95); fill-opacity: 1; white-space: pre; opacity: 1;\" transform=\"translate(641.18,0)\">2018</text></g><g class=\"x2tick\"><text text-anchor=\"middle\" x=\"0\" y=\"533\" style=\"font-family: 'Open Sans', verdana, arial, sans-serif; font-size: 12px; fill: rgb(42, 63, 95); fill-opacity: 1; white-space: pre; opacity: 1;\" transform=\"translate(734.64,0)\">2020</text></g><g class=\"x2tick\"><text text-anchor=\"middle\" x=\"0\" y=\"533\" style=\"font-family: 'Open Sans', verdana, arial, sans-serif; font-size: 12px; fill: rgb(42, 63, 95); fill-opacity: 1; white-space: pre; opacity: 1;\" transform=\"translate(828.24,0)\">2022</text></g></g><g class=\"yaxislayer-above\"><g class=\"y2tick\"><text text-anchor=\"end\" x=\"79\" y=\"4.199999999999999\" transform=\"translate(0,500.9)\" style=\"font-family: 'Open Sans', verdana, arial, sans-serif; font-size: 12px; fill: rgb(42, 63, 95); fill-opacity: 1; white-space: pre; opacity: 1;\">50</text></g><g class=\"y2tick\"><text text-anchor=\"end\" x=\"79\" y=\"4.199999999999999\" style=\"font-family: 'Open Sans', verdana, arial, sans-serif; font-size: 12px; fill: rgb(42, 63, 95); fill-opacity: 1; white-space: pre; opacity: 1;\" transform=\"translate(0,427.19)\">100</text></g><g class=\"y2tick\"><text text-anchor=\"end\" x=\"79\" y=\"4.199999999999999\" style=\"font-family: 'Open Sans', verdana, arial, sans-serif; font-size: 12px; fill: rgb(42, 63, 95); fill-opacity: 1; white-space: pre; opacity: 1;\" transform=\"translate(0,353.48)\">150</text></g></g><g class=\"overaxes-above\"/></g></g><g class=\"polarlayer\"/><g class=\"smithlayer\"/><g class=\"ternarylayer\"/><g class=\"geolayer\"/><g class=\"funnelarealayer\"/><g class=\"pielayer\"/><g class=\"iciclelayer\"/><g class=\"treemaplayer\"/><g class=\"sunburstlayer\"/><g class=\"glimages\"/><defs id=\"topdefs-96c4c7\"><g class=\"clips\"/><clipPath id=\"legend96c4c7\"><rect width=\"101\" height=\"115\" x=\"0\" y=\"0\"/></clipPath></defs><g class=\"layer-above\"><g class=\"imagelayer\"/><g class=\"shapelayer\"/></g><g class=\"infolayer\"><g class=\"legend\" pointer-events=\"all\" transform=\"translate(886.82,100)\"><rect class=\"bg\" shape-rendering=\"crispEdges\" width=\"101\" height=\"115\" x=\"0\" y=\"0\" style=\"stroke: rgb(68, 68, 68); stroke-opacity: 1; fill: rgb(255, 255, 255); fill-opacity: 1; stroke-width: 0px;\"/><g class=\"scrollbox\" transform=\"\" clip-path=\"url(#legend96c4c7)\"><g class=\"groups\" transform=\"\"><g class=\"traces\" transform=\"translate(0,14.5)\" style=\"opacity: 1;\"><text class=\"legendtext\" text-anchor=\"start\" x=\"40\" y=\"4.680000000000001\" style=\"font-family: 'Open Sans', verdana, arial, sans-serif; font-size: 12px; fill: rgb(42, 63, 95); fill-opacity: 1; white-space: pre;\">Actual</text><g class=\"layers\" style=\"opacity: 1;\"><g class=\"legendfill\"/><g class=\"legendlines\"><path class=\"js-line\" d=\"M5,0h30\" style=\"fill: none; stroke: rgb(99, 110, 250); stroke-opacity: 1; stroke-width: 2px;\"/></g><g class=\"legendsymbols\"><g class=\"legendpoints\"/></g></g><rect class=\"legendtoggle\" x=\"0\" y=\"-9.5\" width=\"95.890625\" height=\"19\" style=\"fill: rgb(0, 0, 0); fill-opacity: 0;\"/></g><g class=\"traces\" transform=\"translate(0,33.5)\" style=\"opacity: 1;\"><text class=\"legendtext\" text-anchor=\"start\" x=\"40\" y=\"4.680000000000001\" style=\"font-family: 'Open Sans', verdana, arial, sans-serif; font-size: 12px; fill: rgb(42, 63, 95); fill-opacity: 1; white-space: pre;\">Predicted</text><g class=\"layers\" style=\"opacity: 1;\"><g class=\"legendfill\"/><g class=\"legendlines\"><path class=\"js-line\" d=\"M5,0h30\" style=\"fill: none; stroke: rgb(239, 85, 59); stroke-opacity: 1; stroke-width: 2px;\"/></g><g class=\"legendsymbols\"><g class=\"legendpoints\"/></g></g><rect class=\"legendtoggle\" x=\"0\" y=\"-9.5\" width=\"95.890625\" height=\"19\" style=\"fill: rgb(0, 0, 0); fill-opacity: 0;\"/></g></g><g class=\"groups\" transform=\"translate(0,10)\"><g class=\"traces\" transform=\"translate(0,52.5)\" style=\"opacity: 1;\"><text class=\"legendtext\" text-anchor=\"start\" x=\"40\" y=\"4.680000000000001\" style=\"font-family: 'Open Sans', verdana, arial, sans-serif; font-size: 12px; fill: rgb(42, 63, 95); fill-opacity: 1; white-space: pre;\">Train</text><g class=\"layers\" style=\"opacity: 1;\"><g class=\"legendfill\"/><g class=\"legendlines\"><path class=\"js-line\" d=\"M5,0h30\" style=\"fill: none; stroke: rgb(0, 204, 150); stroke-opacity: 1; stroke-width: 2px;\"/></g><g class=\"legendsymbols\"><g class=\"legendpoints\"/></g></g><rect class=\"legendtoggle\" x=\"0\" y=\"-9.5\" width=\"95.890625\" height=\"19\" style=\"fill: rgb(0, 0, 0); fill-opacity: 0;\"/></g><g class=\"traces\" transform=\"translate(0,71.5)\" style=\"opacity: 1;\"><text class=\"legendtext\" text-anchor=\"start\" x=\"40\" y=\"4.680000000000001\" style=\"font-family: 'Open Sans', verdana, arial, sans-serif; font-size: 12px; fill: rgb(42, 63, 95); fill-opacity: 1; white-space: pre;\">Test</text><g class=\"layers\" style=\"opacity: 1;\"><g class=\"legendfill\"/><g class=\"legendlines\"><path class=\"js-line\" d=\"M5,0h30\" style=\"fill: none; stroke: rgb(171, 99, 250); stroke-opacity: 1; stroke-width: 2px;\"/></g><g class=\"legendsymbols\"><g class=\"legendpoints\"/></g></g><rect class=\"legendtoggle\" x=\"0\" y=\"-9.5\" width=\"95.890625\" height=\"19\" style=\"fill: rgb(0, 0, 0); fill-opacity: 0;\"/></g><g class=\"traces\" transform=\"translate(0,90.5)\" style=\"opacity: 1;\"><text class=\"legendtext\" text-anchor=\"start\" x=\"40\" y=\"4.680000000000001\" style=\"font-family: 'Open Sans', verdana, arial, sans-serif; font-size: 12px; fill: rgb(42, 63, 95); fill-opacity: 1; white-space: pre;\">Forecast</text><g class=\"layers\" style=\"opacity: 1;\"><g class=\"legendfill\"/><g class=\"legendlines\"><path class=\"js-line\" d=\"M5,0h30\" style=\"fill: none; stroke: rgb(255, 161, 90); stroke-opacity: 1; stroke-width: 2px;\"/></g><g class=\"legendsymbols\"><g class=\"legendpoints\"/></g></g><rect class=\"legendtoggle\" x=\"0\" y=\"-9.5\" width=\"95.890625\" height=\"19\" style=\"fill: rgb(0, 0, 0); fill-opacity: 0;\"/></g></g></g><rect class=\"scrollbar\" rx=\"20\" ry=\"3\" width=\"0\" height=\"0\" x=\"0\" y=\"0\" style=\"fill: rgb(128, 139, 164); fill-opacity: 1;\"/></g><g class=\"g-gtitle\"><text class=\"gtitle\" x=\"50\" y=\"50\" text-anchor=\"start\" dy=\"0em\" style=\"font-family: 'Open Sans', verdana, arial, sans-serif; font-size: 17px; fill: rgb(42, 63, 95); opacity: 1; font-weight: normal; white-space: pre;\">SARIMAX Predictions - DEN</text></g><g class=\"g-xtitle\"/><g class=\"g-x2title\"/><g class=\"g-ytitle\"/><g class=\"g-y2title\"/></g></svg>"
     },
     "metadata": {},
     "output_type": "display_data"
    }
   ],
   "source": [
    "model_name='SARIMAX'\n",
    "\n",
    "# Build model\n",
    "model = sm.tsa.statespace.SARIMAX(train[dep_var],order=(0,1,2),seasonal_order=(0,1,1,12),exog = train[exo_var]).fit()\n",
    "\n",
    "# Predict\n",
    "predictions = model.predict(start=start, end=end, exog = test[exo_var],  dynamic=False, typ='levels')\n",
    "\n",
    "# Forecast accuracy\n",
    "forecast_accuracy(model_name, test[dep_var], predictions, True, True)"
   ]
  },
  {
   "attachments": {},
   "cell_type": "markdown",
   "metadata": {},
   "source": [
    "### Summary"
   ]
  },
  {
   "cell_type": "code",
   "execution_count": 26,
   "metadata": {},
   "outputs": [
    {
     "data": {
      "text/html": [
       "<div>\n",
       "<style scoped>\n",
       "    .dataframe tbody tr th:only-of-type {\n",
       "        vertical-align: middle;\n",
       "    }\n",
       "\n",
       "    .dataframe tbody tr th {\n",
       "        vertical-align: top;\n",
       "    }\n",
       "\n",
       "    .dataframe thead th {\n",
       "        text-align: right;\n",
       "    }\n",
       "</style>\n",
       "<table border=\"1\" class=\"dataframe\">\n",
       "  <thead>\n",
       "    <tr style=\"text-align: right;\">\n",
       "      <th></th>\n",
       "      <th>Simple Exponential Smoothing</th>\n",
       "      <th>Double Exponential Smoothing</th>\n",
       "      <th>Triple Exponential Smoothing</th>\n",
       "      <th>ARIMA</th>\n",
       "      <th>SARIMA</th>\n",
       "      <th>SARIMAX</th>\n",
       "    </tr>\n",
       "  </thead>\n",
       "  <tbody>\n",
       "    <tr>\n",
       "      <th>Mean Absolute Error</th>\n",
       "      <td>22.715779</td>\n",
       "      <td>24.455470</td>\n",
       "      <td>25.060178</td>\n",
       "      <td>18.191573</td>\n",
       "      <td>25.709606</td>\n",
       "      <td>22.130814</td>\n",
       "    </tr>\n",
       "    <tr>\n",
       "      <th>Mean Squared Error</th>\n",
       "      <td>736.196571</td>\n",
       "      <td>837.055108</td>\n",
       "      <td>858.155875</td>\n",
       "      <td>492.569237</td>\n",
       "      <td>921.501618</td>\n",
       "      <td>689.971738</td>\n",
       "    </tr>\n",
       "    <tr>\n",
       "      <th>Root Mean Squared Error</th>\n",
       "      <td>27.132943</td>\n",
       "      <td>28.931905</td>\n",
       "      <td>29.294298</td>\n",
       "      <td>22.193901</td>\n",
       "      <td>30.356245</td>\n",
       "      <td>26.267313</td>\n",
       "    </tr>\n",
       "    <tr>\n",
       "      <th>R^2</th>\n",
       "      <td>-0.715648</td>\n",
       "      <td>-0.950691</td>\n",
       "      <td>-0.999864</td>\n",
       "      <td>-0.147894</td>\n",
       "      <td>-1.147487</td>\n",
       "      <td>-0.607925</td>\n",
       "    </tr>\n",
       "    <tr>\n",
       "      <th>Mean Absolute Percentage Error</th>\n",
       "      <td>31.431946</td>\n",
       "      <td>33.821299</td>\n",
       "      <td>34.282128</td>\n",
       "      <td>24.481434</td>\n",
       "      <td>35.047868</td>\n",
       "      <td>29.845309</td>\n",
       "    </tr>\n",
       "    <tr>\n",
       "      <th>Accuracy</th>\n",
       "      <td>68.568054</td>\n",
       "      <td>66.178701</td>\n",
       "      <td>65.717872</td>\n",
       "      <td>75.518566</td>\n",
       "      <td>64.952132</td>\n",
       "      <td>70.154691</td>\n",
       "    </tr>\n",
       "  </tbody>\n",
       "</table>\n",
       "</div>"
      ],
      "text/plain": [
       "                                Simple Exponential Smoothing  \\\n",
       "Mean Absolute Error                                22.715779   \n",
       "Mean Squared Error                                736.196571   \n",
       "Root Mean Squared Error                            27.132943   \n",
       "R^2                                                -0.715648   \n",
       "Mean Absolute Percentage Error                     31.431946   \n",
       "Accuracy                                           68.568054   \n",
       "\n",
       "                                Double Exponential Smoothing  \\\n",
       "Mean Absolute Error                                24.455470   \n",
       "Mean Squared Error                                837.055108   \n",
       "Root Mean Squared Error                            28.931905   \n",
       "R^2                                                -0.950691   \n",
       "Mean Absolute Percentage Error                     33.821299   \n",
       "Accuracy                                           66.178701   \n",
       "\n",
       "                                Triple Exponential Smoothing       ARIMA  \\\n",
       "Mean Absolute Error                                25.060178   18.191573   \n",
       "Mean Squared Error                                858.155875  492.569237   \n",
       "Root Mean Squared Error                            29.294298   22.193901   \n",
       "R^2                                                -0.999864   -0.147894   \n",
       "Mean Absolute Percentage Error                     34.282128   24.481434   \n",
       "Accuracy                                           65.717872   75.518566   \n",
       "\n",
       "                                    SARIMA     SARIMAX  \n",
       "Mean Absolute Error              25.709606   22.130814  \n",
       "Mean Squared Error              921.501618  689.971738  \n",
       "Root Mean Squared Error          30.356245   26.267313  \n",
       "R^2                              -1.147487   -0.607925  \n",
       "Mean Absolute Percentage Error   35.047868   29.845309  \n",
       "Accuracy                         64.952132   70.154691  "
      ]
     },
     "execution_count": 26,
     "metadata": {},
     "output_type": "execute_result"
    }
   ],
   "source": [
    "metrics"
   ]
  },
  {
   "cell_type": "code",
   "execution_count": 27,
   "metadata": {},
   "outputs": [
    {
     "data": {
      "image/png": "[encoded data removed]",
      "text/plain": [
       "<Figure size 1080x504 with 1 Axes>"
      ]
     },
     "metadata": {
      "needs_background": "light"
     },
     "output_type": "display_data"
    }
   ],
   "source": [
    "chart = metrics.transpose()\n",
    "chart.drop(['Mean Squared Error', 'R^2', 'Accuracy'], axis=1, inplace=True)\n",
    "\n",
    "ax = chart.plot.bar(title=\"Statistical Models Performance - \" + country, figsize=(15,7))\n",
    "for container in ax.containers:\n",
    "    ax.bar_label(container)"
   ]
  },
  {
   "cell_type": "code",
   "execution_count": null,
   "metadata": {},
   "outputs": [],
   "source": []
  }
 ],
 "metadata": {
  "kernelspec": {
   "display_name": "base",
   "language": "python",
   "name": "python3"
  },
  "language_info": {
   "codemirror_mode": {
    "name": "ipython",
    "version": 3
   },
   "file_extension": ".py",
   "mimetype": "text/x-python",
   "name": "python",
   "nbconvert_exporter": "python",
   "pygments_lexer": "ipython3",
   "version": "3.8.12"
  },
  "orig_nbformat": 4,
  "vscode": {
   "interpreter": {
    "hash": "ad2bdc8ecc057115af97d19610ffacc2b4e99fae6737bb82f5d7fb13d2f2c186"
   }
  }
 },
 "nbformat": 4,
 "nbformat_minor": 2
}
