{
 "cells": [
  {
   "attachments": {},
   "cell_type": "markdown",
   "metadata": {},
   "source": [
    "### Import libraries"
   ]
  },
  {
   "cell_type": "code",
   "execution_count": 2,
   "metadata": {},
   "outputs": [],
   "source": [
    "import pandas as pd\n",
    "import time"
   ]
  },
  {
   "attachments": {},
   "cell_type": "markdown",
   "metadata": {},
   "source": [
    "### Loading and preprocessing data"
   ]
  },
  {
   "cell_type": "code",
   "execution_count": 3,
   "metadata": {},
   "outputs": [],
   "source": [
    "countries = ['FIN','DEN', 'NOR', 'SWE']"
   ]
  },
  {
   "cell_type": "code",
   "execution_count": 4,
   "metadata": {},
   "outputs": [
    {
     "name": "stdout",
     "output_type": "stream",
     "text": [
      "Loading FIN...\n",
      "Loading DEN...\n",
      "Loading NOR...\n",
      "Loading SWE...\n",
      "Completed in 6.36 minutes\n"
     ]
    }
   ],
   "source": [
    "# Input path and filename\n",
    "path = '../5. Master_thesis/Datasets/'\n",
    "filename = path + 'Retails_ALL_CY06_CY22.xlsx'\n",
    "external_file = path + 'External_indicators_extended.xlsx'\n",
    "\n",
    "start_time = time.time()\n",
    "\n",
    "for country in countries:\n",
    "\n",
    "    print(\"Loading \" + country + '...')\n",
    "\n",
    "    # Load file into pandas dataframe\n",
    "    data_int = pd.read_excel(filename, sheet_name='Retails')\n",
    "    data_ext = pd.read_excel(external_file, sheet_name=country)\n",
    "\n",
    "    df = data_int.copy()\n",
    "    df_ext = data_ext.copy()\n",
    "\n",
    "    # Remove potential extra spaces in cells using strip() function\n",
    "    df['RetailCountry'] = df['RetailCountry'].str.strip()\n",
    "    df['orderNumber'] = df['orderNumber'].str.strip()\n",
    "\n",
    "    # Sort by orderNumber and RetailDate\n",
    "    df.sort_values(by=['orderNumber', 'RetailDate'], inplace=True)\n",
    "\n",
    "    # Remove duplicates by orderNumber\n",
    "    df.drop_duplicates(subset=['orderNumber'], keep='last', inplace=True)\n",
    "\n",
    "    # Get only Finland orders\n",
    "    df = df[(df['RetailCountry'] == country)]    \n",
    "\n",
    "    # Convert RetailDate to date\n",
    "    df['Date'] = pd.to_datetime(df['RetailDate'], dayfirst=True)\n",
    "    df['Date'] = df['Date'].dt.to_period('M').dt.to_timestamp()    \n",
    "\n",
    "    # Generating index by date, grouping by and counting\n",
    "    df = df.groupby(['Date']).size().reset_index(name='Orders') \n",
    "\n",
    "    # Set index in both dataframes\n",
    "    df = df.set_index(\"Date\")\n",
    "    df_ext = df_ext.set_index(\"Date\")\n",
    "\n",
    "    # Merge both dataframes\n",
    "    data = pd.concat([df,df_ext], axis=1)       \n",
    "\n",
    "    # Save data to Excel  \n",
    "    with pd.ExcelWriter(\"Datasets/Output_files/0.xlsx\", mode=\"a\", engine=\"openpyxl\", if_sheet_exists=\"replace\") as writer:\n",
    "        data.to_excel(writer, sheet_name=country) \n",
    "\n",
    "end_time = time.time()\n",
    "time_elapsed = end_time - start_time \n",
    "\n",
    "print('Completed in {:0.2f} minutes'.format(time_elapsed/60))"
   ]
  }
 ],
 "metadata": {
  "kernelspec": {
   "display_name": "base",
   "language": "python",
   "name": "python3"
  },
  "language_info": {
   "codemirror_mode": {
    "name": "ipython",
    "version": 3
   },
   "file_extension": ".py",
   "mimetype": "text/x-python",
   "name": "python",
   "nbconvert_exporter": "python",
   "pygments_lexer": "ipython3",
   "version": "3.8.12"
  },
  "orig_nbformat": 4,
  "vscode": {
   "interpreter": {
    "hash": "ad2bdc8ecc057115af97d19610ffacc2b4e99fae6737bb82f5d7fb13d2f2c186"
   }
  }
 },
 "nbformat": 4,
 "nbformat_minor": 2
}
