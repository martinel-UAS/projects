{
 "cells": [
  {
   "cell_type": "code",
   "execution_count": 26,
   "metadata": {},
   "outputs": [
    {
     "name": "stdout",
     "output_type": "stream",
     "text": [
      "0.23.2\n"
     ]
    }
   ],
   "source": [
    "import os\n",
    "import sys\n",
    "sys.path.insert(1,os.path.abspath('../Git_Projects/0. Not_git/Sources/scikit-learn/0.23.2'))\n",
    "import sklearn\n",
    "print(sklearn.__version__)"
   ]
  },
  {
   "attachments": {},
   "cell_type": "markdown",
   "metadata": {},
   "source": [
    "### Load Data"
   ]
  },
  {
   "cell_type": "code",
   "execution_count": 27,
   "metadata": {},
   "outputs": [],
   "source": [
    "import pandas as pd\n",
    "\n",
    "# Input path and filename\n",
    "path = 'D:/Git_Projects/5. Master_thesis/Datasets/Output_files/'\n",
    "\n",
    "# Load files into a pandas dataframes\n",
    "file = path + '1.xlsx'\n",
    "df = pd.concat(pd.read_excel(file, sheet_name=None), ignore_index=True)\n",
    "\n",
    "# Dependant variable\n",
    "dep_var = 'Orders' \n",
    "\n",
    "# Set index\n",
    "df = df.set_index(\"Date\")"
   ]
  },
  {
   "cell_type": "code",
   "execution_count": 28,
   "metadata": {},
   "outputs": [
    {
     "data": {
      "text/html": [
       "<div>\n",
       "<style scoped>\n",
       "    .dataframe tbody tr th:only-of-type {\n",
       "        vertical-align: middle;\n",
       "    }\n",
       "\n",
       "    .dataframe tbody tr th {\n",
       "        vertical-align: top;\n",
       "    }\n",
       "\n",
       "    .dataframe thead th {\n",
       "        text-align: right;\n",
       "    }\n",
       "</style>\n",
       "<table border=\"1\" class=\"dataframe\">\n",
       "  <thead>\n",
       "    <tr style=\"text-align: right;\">\n",
       "      <th></th>\n",
       "      <th>Orders</th>\n",
       "      <th>CCI</th>\n",
       "      <th>CPI</th>\n",
       "      <th>Unemployment_rate</th>\n",
       "      <th>Long_term_interest_rates</th>\n",
       "      <th>Avg_Fuel_Price</th>\n",
       "      <th>TIV</th>\n",
       "    </tr>\n",
       "    <tr>\n",
       "      <th>Date</th>\n",
       "      <th></th>\n",
       "      <th></th>\n",
       "      <th></th>\n",
       "      <th></th>\n",
       "      <th></th>\n",
       "      <th></th>\n",
       "      <th></th>\n",
       "    </tr>\n",
       "  </thead>\n",
       "  <tbody>\n",
       "    <tr>\n",
       "      <th>2006-01-01</th>\n",
       "      <td>1124</td>\n",
       "      <td>100.83240</td>\n",
       "      <td>0.807265</td>\n",
       "      <td>8.3</td>\n",
       "      <td>3.280000</td>\n",
       "      <td>1.170000</td>\n",
       "      <td>20177</td>\n",
       "    </tr>\n",
       "    <tr>\n",
       "      <th>2006-02-01</th>\n",
       "      <td>1079</td>\n",
       "      <td>100.80160</td>\n",
       "      <td>0.901804</td>\n",
       "      <td>8.0</td>\n",
       "      <td>3.440000</td>\n",
       "      <td>1.186667</td>\n",
       "      <td>12845</td>\n",
       "    </tr>\n",
       "    <tr>\n",
       "      <th>2006-03-01</th>\n",
       "      <td>1210</td>\n",
       "      <td>100.60100</td>\n",
       "      <td>0.899101</td>\n",
       "      <td>7.7</td>\n",
       "      <td>3.620000</td>\n",
       "      <td>1.180000</td>\n",
       "      <td>15163</td>\n",
       "    </tr>\n",
       "    <tr>\n",
       "      <th>2006-04-01</th>\n",
       "      <td>1147</td>\n",
       "      <td>100.48250</td>\n",
       "      <td>1.297405</td>\n",
       "      <td>7.7</td>\n",
       "      <td>3.880000</td>\n",
       "      <td>1.243333</td>\n",
       "      <td>13472</td>\n",
       "    </tr>\n",
       "    <tr>\n",
       "      <th>2006-05-01</th>\n",
       "      <td>1001</td>\n",
       "      <td>100.56730</td>\n",
       "      <td>1.701702</td>\n",
       "      <td>7.9</td>\n",
       "      <td>3.940000</td>\n",
       "      <td>1.260000</td>\n",
       "      <td>16516</td>\n",
       "    </tr>\n",
       "    <tr>\n",
       "      <th>...</th>\n",
       "      <td>...</td>\n",
       "      <td>...</td>\n",
       "      <td>...</td>\n",
       "      <td>...</td>\n",
       "      <td>...</td>\n",
       "      <td>...</td>\n",
       "      <td>...</td>\n",
       "    </tr>\n",
       "    <tr>\n",
       "      <th>2022-08-01</th>\n",
       "      <td>254</td>\n",
       "      <td>94.58021</td>\n",
       "      <td>7.616082</td>\n",
       "      <td>7.2</td>\n",
       "      <td>1.624904</td>\n",
       "      <td>2.153333</td>\n",
       "      <td>8163</td>\n",
       "    </tr>\n",
       "    <tr>\n",
       "      <th>2022-09-01</th>\n",
       "      <td>228</td>\n",
       "      <td>94.10754</td>\n",
       "      <td>8.119296</td>\n",
       "      <td>7.3</td>\n",
       "      <td>2.420836</td>\n",
       "      <td>2.133333</td>\n",
       "      <td>7867</td>\n",
       "    </tr>\n",
       "    <tr>\n",
       "      <th>2022-10-01</th>\n",
       "      <td>188</td>\n",
       "      <td>93.96142</td>\n",
       "      <td>8.310766</td>\n",
       "      <td>6.4</td>\n",
       "      <td>2.894486</td>\n",
       "      <td>2.136667</td>\n",
       "      <td>7132</td>\n",
       "    </tr>\n",
       "    <tr>\n",
       "      <th>2022-11-01</th>\n",
       "      <td>204</td>\n",
       "      <td>94.09164</td>\n",
       "      <td>9.138235</td>\n",
       "      <td>6.7</td>\n",
       "      <td>2.691082</td>\n",
       "      <td>2.173333</td>\n",
       "      <td>7337</td>\n",
       "    </tr>\n",
       "    <tr>\n",
       "      <th>2022-12-01</th>\n",
       "      <td>370</td>\n",
       "      <td>94.47976</td>\n",
       "      <td>9.145037</td>\n",
       "      <td>7.2</td>\n",
       "      <td>2.706710</td>\n",
       "      <td>1.940000</td>\n",
       "      <td>7248</td>\n",
       "    </tr>\n",
       "  </tbody>\n",
       "</table>\n",
       "<p>204 rows × 7 columns</p>\n",
       "</div>"
      ],
      "text/plain": [
       "            Orders        CCI       CPI  Unemployment_rate  \\\n",
       "Date                                                         \n",
       "2006-01-01    1124  100.83240  0.807265                8.3   \n",
       "2006-02-01    1079  100.80160  0.901804                8.0   \n",
       "2006-03-01    1210  100.60100  0.899101                7.7   \n",
       "2006-04-01    1147  100.48250  1.297405                7.7   \n",
       "2006-05-01    1001  100.56730  1.701702                7.9   \n",
       "...            ...        ...       ...                ...   \n",
       "2022-08-01     254   94.58021  7.616082                7.2   \n",
       "2022-09-01     228   94.10754  8.119296                7.3   \n",
       "2022-10-01     188   93.96142  8.310766                6.4   \n",
       "2022-11-01     204   94.09164  9.138235                6.7   \n",
       "2022-12-01     370   94.47976  9.145037                7.2   \n",
       "\n",
       "            Long_term_interest_rates  Avg_Fuel_Price    TIV  \n",
       "Date                                                         \n",
       "2006-01-01                  3.280000        1.170000  20177  \n",
       "2006-02-01                  3.440000        1.186667  12845  \n",
       "2006-03-01                  3.620000        1.180000  15163  \n",
       "2006-04-01                  3.880000        1.243333  13472  \n",
       "2006-05-01                  3.940000        1.260000  16516  \n",
       "...                              ...             ...    ...  \n",
       "2022-08-01                  1.624904        2.153333   8163  \n",
       "2022-09-01                  2.420836        2.133333   7867  \n",
       "2022-10-01                  2.894486        2.136667   7132  \n",
       "2022-11-01                  2.691082        2.173333   7337  \n",
       "2022-12-01                  2.706710        1.940000   7248  \n",
       "\n",
       "[204 rows x 7 columns]"
      ]
     },
     "execution_count": 28,
     "metadata": {},
     "output_type": "execute_result"
    }
   ],
   "source": [
    "df"
   ]
  },
  {
   "attachments": {},
   "cell_type": "markdown",
   "metadata": {},
   "source": [
    "### Split Data"
   ]
  },
  {
   "cell_type": "code",
   "execution_count": 29,
   "metadata": {},
   "outputs": [
    {
     "name": "stdout",
     "output_type": "stream",
     "text": [
      "Dataset length : (n=204)\n",
      "Train dates    : 2006-01-01 00:00:00 --- 2019-12-01 00:00:00  (n=168)\n",
      "Test dates     : 2020-01-01 00:00:00 --- 2022-12-01 00:00:00  (n=36)\n"
     ]
    },
    {
     "data": {
      "text/plain": [
       "(Timestamp('2006-01-01 00:00:00'),\n",
       " Timestamp('2022-12-01 00:00:00'),\n",
       " Timestamp('2020-01-01 00:00:00'))"
      ]
     },
     "execution_count": 29,
     "metadata": {},
     "output_type": "execute_result"
    }
   ],
   "source": [
    "# Split data\n",
    "steps = 36  # Number of months of testing\n",
    "train = df[:-steps]\n",
    "test  = df[-steps:]\n",
    "\n",
    "print(f\"Dataset length : (n={len(df)})\")\n",
    "print(f\"Train dates    : {train.index.min()} --- {train.index.max()}  (n={len(train)})\")\n",
    "print(f\"Test dates     : {test.index.min()} --- {test.index.max()}  (n={len(test)})\")\n",
    "\n",
    "start = train.index.min()\n",
    "end = df.index.max()\n",
    "start_test = test.index.min()\n",
    "\n",
    "start, end, start_test"
   ]
  },
  {
   "attachments": {},
   "cell_type": "markdown",
   "metadata": {},
   "source": [
    "### Pycaret"
   ]
  },
  {
   "cell_type": "code",
   "execution_count": 30,
   "metadata": {},
   "outputs": [],
   "source": [
    "# Import the regression module\n",
    "from pycaret.regression import *"
   ]
  },
  {
   "attachments": {},
   "cell_type": "markdown",
   "metadata": {},
   "source": [
    "#### Initialize"
   ]
  },
  {
   "cell_type": "code",
   "execution_count": 31,
   "metadata": {},
   "outputs": [
    {
     "data": {
      "text/html": [
       "<style type=\"text/css\">\n",
       "#T_f2744_row42_col1 {\n",
       "  background-color: lightgreen;\n",
       "}\n",
       "</style>\n",
       "<table id=\"T_f2744\">\n",
       "  <thead>\n",
       "    <tr>\n",
       "      <th class=\"blank level0\" >&nbsp;</th>\n",
       "      <th id=\"T_f2744_level0_col0\" class=\"col_heading level0 col0\" >Description</th>\n",
       "      <th id=\"T_f2744_level0_col1\" class=\"col_heading level0 col1\" >Value</th>\n",
       "    </tr>\n",
       "  </thead>\n",
       "  <tbody>\n",
       "    <tr>\n",
       "      <th id=\"T_f2744_level0_row0\" class=\"row_heading level0 row0\" >0</th>\n",
       "      <td id=\"T_f2744_row0_col0\" class=\"data row0 col0\" >session_id</td>\n",
       "      <td id=\"T_f2744_row0_col1\" class=\"data row0 col1\" >42</td>\n",
       "    </tr>\n",
       "    <tr>\n",
       "      <th id=\"T_f2744_level0_row1\" class=\"row_heading level0 row1\" >1</th>\n",
       "      <td id=\"T_f2744_row1_col0\" class=\"data row1 col0\" >Target</td>\n",
       "      <td id=\"T_f2744_row1_col1\" class=\"data row1 col1\" >Orders</td>\n",
       "    </tr>\n",
       "    <tr>\n",
       "      <th id=\"T_f2744_level0_row2\" class=\"row_heading level0 row2\" >2</th>\n",
       "      <td id=\"T_f2744_row2_col0\" class=\"data row2 col0\" >Original Data</td>\n",
       "      <td id=\"T_f2744_row2_col1\" class=\"data row2 col1\" >(168, 7)</td>\n",
       "    </tr>\n",
       "    <tr>\n",
       "      <th id=\"T_f2744_level0_row3\" class=\"row_heading level0 row3\" >3</th>\n",
       "      <td id=\"T_f2744_row3_col0\" class=\"data row3 col0\" >Missing Values</td>\n",
       "      <td id=\"T_f2744_row3_col1\" class=\"data row3 col1\" >0</td>\n",
       "    </tr>\n",
       "    <tr>\n",
       "      <th id=\"T_f2744_level0_row4\" class=\"row_heading level0 row4\" >4</th>\n",
       "      <td id=\"T_f2744_row4_col0\" class=\"data row4 col0\" >Numeric Features</td>\n",
       "      <td id=\"T_f2744_row4_col1\" class=\"data row4 col1\" >6</td>\n",
       "    </tr>\n",
       "    <tr>\n",
       "      <th id=\"T_f2744_level0_row5\" class=\"row_heading level0 row5\" >5</th>\n",
       "      <td id=\"T_f2744_row5_col0\" class=\"data row5 col0\" >Categorical Features</td>\n",
       "      <td id=\"T_f2744_row5_col1\" class=\"data row5 col1\" >0</td>\n",
       "    </tr>\n",
       "    <tr>\n",
       "      <th id=\"T_f2744_level0_row6\" class=\"row_heading level0 row6\" >6</th>\n",
       "      <td id=\"T_f2744_row6_col0\" class=\"data row6 col0\" >Ordinal Features</td>\n",
       "      <td id=\"T_f2744_row6_col1\" class=\"data row6 col1\" >0</td>\n",
       "    </tr>\n",
       "    <tr>\n",
       "      <th id=\"T_f2744_level0_row7\" class=\"row_heading level0 row7\" >7</th>\n",
       "      <td id=\"T_f2744_row7_col0\" class=\"data row7 col0\" >High Cardinality Features</td>\n",
       "      <td id=\"T_f2744_row7_col1\" class=\"data row7 col1\" >0</td>\n",
       "    </tr>\n",
       "    <tr>\n",
       "      <th id=\"T_f2744_level0_row8\" class=\"row_heading level0 row8\" >8</th>\n",
       "      <td id=\"T_f2744_row8_col0\" class=\"data row8 col0\" >High Cardinality Method</td>\n",
       "      <td id=\"T_f2744_row8_col1\" class=\"data row8 col1\" >None</td>\n",
       "    </tr>\n",
       "    <tr>\n",
       "      <th id=\"T_f2744_level0_row9\" class=\"row_heading level0 row9\" >9</th>\n",
       "      <td id=\"T_f2744_row9_col0\" class=\"data row9 col0\" >Transformed Train Set</td>\n",
       "      <td id=\"T_f2744_row9_col1\" class=\"data row9 col1\" >(168, 6)</td>\n",
       "    </tr>\n",
       "    <tr>\n",
       "      <th id=\"T_f2744_level0_row10\" class=\"row_heading level0 row10\" >10</th>\n",
       "      <td id=\"T_f2744_row10_col0\" class=\"data row10 col0\" >Transformed Test Set</td>\n",
       "      <td id=\"T_f2744_row10_col1\" class=\"data row10 col1\" >(36, 6)</td>\n",
       "    </tr>\n",
       "    <tr>\n",
       "      <th id=\"T_f2744_level0_row11\" class=\"row_heading level0 row11\" >11</th>\n",
       "      <td id=\"T_f2744_row11_col0\" class=\"data row11 col0\" >Shuffle Train-Test</td>\n",
       "      <td id=\"T_f2744_row11_col1\" class=\"data row11 col1\" >False</td>\n",
       "    </tr>\n",
       "    <tr>\n",
       "      <th id=\"T_f2744_level0_row12\" class=\"row_heading level0 row12\" >12</th>\n",
       "      <td id=\"T_f2744_row12_col0\" class=\"data row12 col0\" >Stratify Train-Test</td>\n",
       "      <td id=\"T_f2744_row12_col1\" class=\"data row12 col1\" >False</td>\n",
       "    </tr>\n",
       "    <tr>\n",
       "      <th id=\"T_f2744_level0_row13\" class=\"row_heading level0 row13\" >13</th>\n",
       "      <td id=\"T_f2744_row13_col0\" class=\"data row13 col0\" >Fold Generator</td>\n",
       "      <td id=\"T_f2744_row13_col1\" class=\"data row13 col1\" >TimeSeriesSplit</td>\n",
       "    </tr>\n",
       "    <tr>\n",
       "      <th id=\"T_f2744_level0_row14\" class=\"row_heading level0 row14\" >14</th>\n",
       "      <td id=\"T_f2744_row14_col0\" class=\"data row14 col0\" >Fold Number</td>\n",
       "      <td id=\"T_f2744_row14_col1\" class=\"data row14 col1\" >10</td>\n",
       "    </tr>\n",
       "    <tr>\n",
       "      <th id=\"T_f2744_level0_row15\" class=\"row_heading level0 row15\" >15</th>\n",
       "      <td id=\"T_f2744_row15_col0\" class=\"data row15 col0\" >CPU Jobs</td>\n",
       "      <td id=\"T_f2744_row15_col1\" class=\"data row15 col1\" >-1</td>\n",
       "    </tr>\n",
       "    <tr>\n",
       "      <th id=\"T_f2744_level0_row16\" class=\"row_heading level0 row16\" >16</th>\n",
       "      <td id=\"T_f2744_row16_col0\" class=\"data row16 col0\" >Use GPU</td>\n",
       "      <td id=\"T_f2744_row16_col1\" class=\"data row16 col1\" >0</td>\n",
       "    </tr>\n",
       "    <tr>\n",
       "      <th id=\"T_f2744_level0_row17\" class=\"row_heading level0 row17\" >17</th>\n",
       "      <td id=\"T_f2744_row17_col0\" class=\"data row17 col0\" >Log Experiment</td>\n",
       "      <td id=\"T_f2744_row17_col1\" class=\"data row17 col1\" >0</td>\n",
       "    </tr>\n",
       "    <tr>\n",
       "      <th id=\"T_f2744_level0_row18\" class=\"row_heading level0 row18\" >18</th>\n",
       "      <td id=\"T_f2744_row18_col0\" class=\"data row18 col0\" >Experiment Name</td>\n",
       "      <td id=\"T_f2744_row18_col1\" class=\"data row18 col1\" >reg-default-name</td>\n",
       "    </tr>\n",
       "    <tr>\n",
       "      <th id=\"T_f2744_level0_row19\" class=\"row_heading level0 row19\" >19</th>\n",
       "      <td id=\"T_f2744_row19_col0\" class=\"data row19 col0\" >USI</td>\n",
       "      <td id=\"T_f2744_row19_col1\" class=\"data row19 col1\" >03a1</td>\n",
       "    </tr>\n",
       "    <tr>\n",
       "      <th id=\"T_f2744_level0_row20\" class=\"row_heading level0 row20\" >20</th>\n",
       "      <td id=\"T_f2744_row20_col0\" class=\"data row20 col0\" >Imputation Type</td>\n",
       "      <td id=\"T_f2744_row20_col1\" class=\"data row20 col1\" >simple</td>\n",
       "    </tr>\n",
       "    <tr>\n",
       "      <th id=\"T_f2744_level0_row21\" class=\"row_heading level0 row21\" >21</th>\n",
       "      <td id=\"T_f2744_row21_col0\" class=\"data row21 col0\" >Iterative Imputation Iteration</td>\n",
       "      <td id=\"T_f2744_row21_col1\" class=\"data row21 col1\" >None</td>\n",
       "    </tr>\n",
       "    <tr>\n",
       "      <th id=\"T_f2744_level0_row22\" class=\"row_heading level0 row22\" >22</th>\n",
       "      <td id=\"T_f2744_row22_col0\" class=\"data row22 col0\" >Numeric Imputer</td>\n",
       "      <td id=\"T_f2744_row22_col1\" class=\"data row22 col1\" >mean</td>\n",
       "    </tr>\n",
       "    <tr>\n",
       "      <th id=\"T_f2744_level0_row23\" class=\"row_heading level0 row23\" >23</th>\n",
       "      <td id=\"T_f2744_row23_col0\" class=\"data row23 col0\" >Iterative Imputation Numeric Model</td>\n",
       "      <td id=\"T_f2744_row23_col1\" class=\"data row23 col1\" >None</td>\n",
       "    </tr>\n",
       "    <tr>\n",
       "      <th id=\"T_f2744_level0_row24\" class=\"row_heading level0 row24\" >24</th>\n",
       "      <td id=\"T_f2744_row24_col0\" class=\"data row24 col0\" >Categorical Imputer</td>\n",
       "      <td id=\"T_f2744_row24_col1\" class=\"data row24 col1\" >constant</td>\n",
       "    </tr>\n",
       "    <tr>\n",
       "      <th id=\"T_f2744_level0_row25\" class=\"row_heading level0 row25\" >25</th>\n",
       "      <td id=\"T_f2744_row25_col0\" class=\"data row25 col0\" >Iterative Imputation Categorical Model</td>\n",
       "      <td id=\"T_f2744_row25_col1\" class=\"data row25 col1\" >None</td>\n",
       "    </tr>\n",
       "    <tr>\n",
       "      <th id=\"T_f2744_level0_row26\" class=\"row_heading level0 row26\" >26</th>\n",
       "      <td id=\"T_f2744_row26_col0\" class=\"data row26 col0\" >Unknown Categoricals Handling</td>\n",
       "      <td id=\"T_f2744_row26_col1\" class=\"data row26 col1\" >least_frequent</td>\n",
       "    </tr>\n",
       "    <tr>\n",
       "      <th id=\"T_f2744_level0_row27\" class=\"row_heading level0 row27\" >27</th>\n",
       "      <td id=\"T_f2744_row27_col0\" class=\"data row27 col0\" >Normalize</td>\n",
       "      <td id=\"T_f2744_row27_col1\" class=\"data row27 col1\" >0</td>\n",
       "    </tr>\n",
       "    <tr>\n",
       "      <th id=\"T_f2744_level0_row28\" class=\"row_heading level0 row28\" >28</th>\n",
       "      <td id=\"T_f2744_row28_col0\" class=\"data row28 col0\" >Normalize Method</td>\n",
       "      <td id=\"T_f2744_row28_col1\" class=\"data row28 col1\" >None</td>\n",
       "    </tr>\n",
       "    <tr>\n",
       "      <th id=\"T_f2744_level0_row29\" class=\"row_heading level0 row29\" >29</th>\n",
       "      <td id=\"T_f2744_row29_col0\" class=\"data row29 col0\" >Transformation</td>\n",
       "      <td id=\"T_f2744_row29_col1\" class=\"data row29 col1\" >0</td>\n",
       "    </tr>\n",
       "    <tr>\n",
       "      <th id=\"T_f2744_level0_row30\" class=\"row_heading level0 row30\" >30</th>\n",
       "      <td id=\"T_f2744_row30_col0\" class=\"data row30 col0\" >Transformation Method</td>\n",
       "      <td id=\"T_f2744_row30_col1\" class=\"data row30 col1\" >None</td>\n",
       "    </tr>\n",
       "    <tr>\n",
       "      <th id=\"T_f2744_level0_row31\" class=\"row_heading level0 row31\" >31</th>\n",
       "      <td id=\"T_f2744_row31_col0\" class=\"data row31 col0\" >PCA</td>\n",
       "      <td id=\"T_f2744_row31_col1\" class=\"data row31 col1\" >0</td>\n",
       "    </tr>\n",
       "    <tr>\n",
       "      <th id=\"T_f2744_level0_row32\" class=\"row_heading level0 row32\" >32</th>\n",
       "      <td id=\"T_f2744_row32_col0\" class=\"data row32 col0\" >PCA Method</td>\n",
       "      <td id=\"T_f2744_row32_col1\" class=\"data row32 col1\" >None</td>\n",
       "    </tr>\n",
       "    <tr>\n",
       "      <th id=\"T_f2744_level0_row33\" class=\"row_heading level0 row33\" >33</th>\n",
       "      <td id=\"T_f2744_row33_col0\" class=\"data row33 col0\" >PCA Components</td>\n",
       "      <td id=\"T_f2744_row33_col1\" class=\"data row33 col1\" >None</td>\n",
       "    </tr>\n",
       "    <tr>\n",
       "      <th id=\"T_f2744_level0_row34\" class=\"row_heading level0 row34\" >34</th>\n",
       "      <td id=\"T_f2744_row34_col0\" class=\"data row34 col0\" >Ignore Low Variance</td>\n",
       "      <td id=\"T_f2744_row34_col1\" class=\"data row34 col1\" >0</td>\n",
       "    </tr>\n",
       "    <tr>\n",
       "      <th id=\"T_f2744_level0_row35\" class=\"row_heading level0 row35\" >35</th>\n",
       "      <td id=\"T_f2744_row35_col0\" class=\"data row35 col0\" >Combine Rare Levels</td>\n",
       "      <td id=\"T_f2744_row35_col1\" class=\"data row35 col1\" >0</td>\n",
       "    </tr>\n",
       "    <tr>\n",
       "      <th id=\"T_f2744_level0_row36\" class=\"row_heading level0 row36\" >36</th>\n",
       "      <td id=\"T_f2744_row36_col0\" class=\"data row36 col0\" >Rare Level Threshold</td>\n",
       "      <td id=\"T_f2744_row36_col1\" class=\"data row36 col1\" >None</td>\n",
       "    </tr>\n",
       "    <tr>\n",
       "      <th id=\"T_f2744_level0_row37\" class=\"row_heading level0 row37\" >37</th>\n",
       "      <td id=\"T_f2744_row37_col0\" class=\"data row37 col0\" >Numeric Binning</td>\n",
       "      <td id=\"T_f2744_row37_col1\" class=\"data row37 col1\" >0</td>\n",
       "    </tr>\n",
       "    <tr>\n",
       "      <th id=\"T_f2744_level0_row38\" class=\"row_heading level0 row38\" >38</th>\n",
       "      <td id=\"T_f2744_row38_col0\" class=\"data row38 col0\" >Remove Outliers</td>\n",
       "      <td id=\"T_f2744_row38_col1\" class=\"data row38 col1\" >0</td>\n",
       "    </tr>\n",
       "    <tr>\n",
       "      <th id=\"T_f2744_level0_row39\" class=\"row_heading level0 row39\" >39</th>\n",
       "      <td id=\"T_f2744_row39_col0\" class=\"data row39 col0\" >Outliers Threshold</td>\n",
       "      <td id=\"T_f2744_row39_col1\" class=\"data row39 col1\" >None</td>\n",
       "    </tr>\n",
       "    <tr>\n",
       "      <th id=\"T_f2744_level0_row40\" class=\"row_heading level0 row40\" >40</th>\n",
       "      <td id=\"T_f2744_row40_col0\" class=\"data row40 col0\" >Remove Multicollinearity</td>\n",
       "      <td id=\"T_f2744_row40_col1\" class=\"data row40 col1\" >0</td>\n",
       "    </tr>\n",
       "    <tr>\n",
       "      <th id=\"T_f2744_level0_row41\" class=\"row_heading level0 row41\" >41</th>\n",
       "      <td id=\"T_f2744_row41_col0\" class=\"data row41 col0\" >Multicollinearity Threshold</td>\n",
       "      <td id=\"T_f2744_row41_col1\" class=\"data row41 col1\" >None</td>\n",
       "    </tr>\n",
       "    <tr>\n",
       "      <th id=\"T_f2744_level0_row42\" class=\"row_heading level0 row42\" >42</th>\n",
       "      <td id=\"T_f2744_row42_col0\" class=\"data row42 col0\" >Remove Perfect Collinearity</td>\n",
       "      <td id=\"T_f2744_row42_col1\" class=\"data row42 col1\" >1</td>\n",
       "    </tr>\n",
       "    <tr>\n",
       "      <th id=\"T_f2744_level0_row43\" class=\"row_heading level0 row43\" >43</th>\n",
       "      <td id=\"T_f2744_row43_col0\" class=\"data row43 col0\" >Clustering</td>\n",
       "      <td id=\"T_f2744_row43_col1\" class=\"data row43 col1\" >0</td>\n",
       "    </tr>\n",
       "    <tr>\n",
       "      <th id=\"T_f2744_level0_row44\" class=\"row_heading level0 row44\" >44</th>\n",
       "      <td id=\"T_f2744_row44_col0\" class=\"data row44 col0\" >Clustering Iteration</td>\n",
       "      <td id=\"T_f2744_row44_col1\" class=\"data row44 col1\" >None</td>\n",
       "    </tr>\n",
       "    <tr>\n",
       "      <th id=\"T_f2744_level0_row45\" class=\"row_heading level0 row45\" >45</th>\n",
       "      <td id=\"T_f2744_row45_col0\" class=\"data row45 col0\" >Polynomial Features</td>\n",
       "      <td id=\"T_f2744_row45_col1\" class=\"data row45 col1\" >0</td>\n",
       "    </tr>\n",
       "    <tr>\n",
       "      <th id=\"T_f2744_level0_row46\" class=\"row_heading level0 row46\" >46</th>\n",
       "      <td id=\"T_f2744_row46_col0\" class=\"data row46 col0\" >Polynomial Degree</td>\n",
       "      <td id=\"T_f2744_row46_col1\" class=\"data row46 col1\" >None</td>\n",
       "    </tr>\n",
       "    <tr>\n",
       "      <th id=\"T_f2744_level0_row47\" class=\"row_heading level0 row47\" >47</th>\n",
       "      <td id=\"T_f2744_row47_col0\" class=\"data row47 col0\" >Trignometry Features</td>\n",
       "      <td id=\"T_f2744_row47_col1\" class=\"data row47 col1\" >0</td>\n",
       "    </tr>\n",
       "    <tr>\n",
       "      <th id=\"T_f2744_level0_row48\" class=\"row_heading level0 row48\" >48</th>\n",
       "      <td id=\"T_f2744_row48_col0\" class=\"data row48 col0\" >Polynomial Threshold</td>\n",
       "      <td id=\"T_f2744_row48_col1\" class=\"data row48 col1\" >None</td>\n",
       "    </tr>\n",
       "    <tr>\n",
       "      <th id=\"T_f2744_level0_row49\" class=\"row_heading level0 row49\" >49</th>\n",
       "      <td id=\"T_f2744_row49_col0\" class=\"data row49 col0\" >Group Features</td>\n",
       "      <td id=\"T_f2744_row49_col1\" class=\"data row49 col1\" >0</td>\n",
       "    </tr>\n",
       "    <tr>\n",
       "      <th id=\"T_f2744_level0_row50\" class=\"row_heading level0 row50\" >50</th>\n",
       "      <td id=\"T_f2744_row50_col0\" class=\"data row50 col0\" >Feature Selection</td>\n",
       "      <td id=\"T_f2744_row50_col1\" class=\"data row50 col1\" >0</td>\n",
       "    </tr>\n",
       "    <tr>\n",
       "      <th id=\"T_f2744_level0_row51\" class=\"row_heading level0 row51\" >51</th>\n",
       "      <td id=\"T_f2744_row51_col0\" class=\"data row51 col0\" >Feature Selection Method</td>\n",
       "      <td id=\"T_f2744_row51_col1\" class=\"data row51 col1\" >classic</td>\n",
       "    </tr>\n",
       "    <tr>\n",
       "      <th id=\"T_f2744_level0_row52\" class=\"row_heading level0 row52\" >52</th>\n",
       "      <td id=\"T_f2744_row52_col0\" class=\"data row52 col0\" >Features Selection Threshold</td>\n",
       "      <td id=\"T_f2744_row52_col1\" class=\"data row52 col1\" >None</td>\n",
       "    </tr>\n",
       "    <tr>\n",
       "      <th id=\"T_f2744_level0_row53\" class=\"row_heading level0 row53\" >53</th>\n",
       "      <td id=\"T_f2744_row53_col0\" class=\"data row53 col0\" >Feature Interaction</td>\n",
       "      <td id=\"T_f2744_row53_col1\" class=\"data row53 col1\" >0</td>\n",
       "    </tr>\n",
       "    <tr>\n",
       "      <th id=\"T_f2744_level0_row54\" class=\"row_heading level0 row54\" >54</th>\n",
       "      <td id=\"T_f2744_row54_col0\" class=\"data row54 col0\" >Feature Ratio</td>\n",
       "      <td id=\"T_f2744_row54_col1\" class=\"data row54 col1\" >0</td>\n",
       "    </tr>\n",
       "    <tr>\n",
       "      <th id=\"T_f2744_level0_row55\" class=\"row_heading level0 row55\" >55</th>\n",
       "      <td id=\"T_f2744_row55_col0\" class=\"data row55 col0\" >Interaction Threshold</td>\n",
       "      <td id=\"T_f2744_row55_col1\" class=\"data row55 col1\" >None</td>\n",
       "    </tr>\n",
       "    <tr>\n",
       "      <th id=\"T_f2744_level0_row56\" class=\"row_heading level0 row56\" >56</th>\n",
       "      <td id=\"T_f2744_row56_col0\" class=\"data row56 col0\" >Transform Target</td>\n",
       "      <td id=\"T_f2744_row56_col1\" class=\"data row56 col1\" >0</td>\n",
       "    </tr>\n",
       "    <tr>\n",
       "      <th id=\"T_f2744_level0_row57\" class=\"row_heading level0 row57\" >57</th>\n",
       "      <td id=\"T_f2744_row57_col0\" class=\"data row57 col0\" >Transform Target Method</td>\n",
       "      <td id=\"T_f2744_row57_col1\" class=\"data row57 col1\" >box-cox</td>\n",
       "    </tr>\n",
       "  </tbody>\n",
       "</table>\n"
      ],
      "text/plain": [
       "<pandas.io.formats.style.Styler at 0x20bb9f93d90>"
      ]
     },
     "metadata": {},
     "output_type": "display_data"
    }
   ],
   "source": [
    "# Initialize setup\n",
    "s = setup(    \n",
    "    data = train, \n",
    "    test_data = test, \n",
    "    target = dep_var, \n",
    "    preprocess=True,  \n",
    "    fold_strategy = 'timeseries', \n",
    "    transform_target = False, \n",
    "    data_split_shuffle=False,\n",
    "    session_id = 42)"
   ]
  },
  {
   "attachments": {},
   "cell_type": "markdown",
   "metadata": {},
   "source": [
    "#### Model comparison"
   ]
  },
  {
   "cell_type": "code",
   "execution_count": 32,
   "metadata": {},
   "outputs": [
    {
     "data": {
      "text/html": [
       "<style type=\"text/css\">\n",
       "#T_fc538 th {\n",
       "  text-align: left;\n",
       "}\n",
       "#T_fc538_row0_col0, #T_fc538_row0_col3, #T_fc538_row0_col4, #T_fc538_row0_col5, #T_fc538_row0_col6, #T_fc538_row1_col0, #T_fc538_row1_col1, #T_fc538_row1_col2, #T_fc538_row1_col5, #T_fc538_row1_col6, #T_fc538_row2_col0, #T_fc538_row2_col1, #T_fc538_row2_col2, #T_fc538_row2_col3, #T_fc538_row2_col4, #T_fc538_row2_col5, #T_fc538_row2_col6, #T_fc538_row3_col0, #T_fc538_row3_col1, #T_fc538_row3_col2, #T_fc538_row3_col3, #T_fc538_row3_col4, #T_fc538_row3_col5, #T_fc538_row3_col6, #T_fc538_row4_col0, #T_fc538_row4_col1, #T_fc538_row4_col2, #T_fc538_row4_col3, #T_fc538_row4_col4, #T_fc538_row4_col5, #T_fc538_row4_col6, #T_fc538_row5_col0, #T_fc538_row5_col1, #T_fc538_row5_col2, #T_fc538_row5_col3, #T_fc538_row5_col4, #T_fc538_row5_col5, #T_fc538_row5_col6, #T_fc538_row6_col0, #T_fc538_row6_col1, #T_fc538_row6_col2, #T_fc538_row6_col3, #T_fc538_row6_col4, #T_fc538_row6_col5, #T_fc538_row6_col6, #T_fc538_row7_col0, #T_fc538_row7_col1, #T_fc538_row7_col2, #T_fc538_row7_col3, #T_fc538_row7_col4, #T_fc538_row7_col5, #T_fc538_row7_col6, #T_fc538_row8_col0, #T_fc538_row8_col1, #T_fc538_row8_col2, #T_fc538_row8_col3, #T_fc538_row8_col4, #T_fc538_row9_col0, #T_fc538_row9_col1, #T_fc538_row9_col2, #T_fc538_row9_col3, #T_fc538_row9_col4, #T_fc538_row9_col5, #T_fc538_row9_col6, #T_fc538_row10_col0, #T_fc538_row10_col1, #T_fc538_row10_col2, #T_fc538_row10_col3, #T_fc538_row10_col4, #T_fc538_row10_col5, #T_fc538_row10_col6, #T_fc538_row11_col0, #T_fc538_row11_col1, #T_fc538_row11_col2, #T_fc538_row11_col3, #T_fc538_row11_col4, #T_fc538_row11_col5, #T_fc538_row11_col6, #T_fc538_row12_col0, #T_fc538_row12_col1, #T_fc538_row12_col2, #T_fc538_row12_col3, #T_fc538_row12_col4, #T_fc538_row12_col5, #T_fc538_row12_col6 {\n",
       "  text-align: left;\n",
       "}\n",
       "#T_fc538_row0_col1, #T_fc538_row0_col2, #T_fc538_row1_col3, #T_fc538_row1_col4, #T_fc538_row8_col5, #T_fc538_row8_col6 {\n",
       "  text-align: left;\n",
       "  background-color: yellow;\n",
       "}\n",
       "#T_fc538_row0_col7, #T_fc538_row1_col7, #T_fc538_row2_col7, #T_fc538_row3_col7, #T_fc538_row4_col7, #T_fc538_row5_col7, #T_fc538_row6_col7, #T_fc538_row7_col7, #T_fc538_row9_col7, #T_fc538_row10_col7, #T_fc538_row11_col7 {\n",
       "  text-align: left;\n",
       "  background-color: lightgrey;\n",
       "}\n",
       "#T_fc538_row8_col7, #T_fc538_row12_col7 {\n",
       "  text-align: left;\n",
       "  background-color: yellow;\n",
       "  background-color: lightgrey;\n",
       "}\n",
       "</style>\n",
       "<table id=\"T_fc538\">\n",
       "  <thead>\n",
       "    <tr>\n",
       "      <th class=\"blank level0\" >&nbsp;</th>\n",
       "      <th id=\"T_fc538_level0_col0\" class=\"col_heading level0 col0\" >Model</th>\n",
       "      <th id=\"T_fc538_level0_col1\" class=\"col_heading level0 col1\" >MAE</th>\n",
       "      <th id=\"T_fc538_level0_col2\" class=\"col_heading level0 col2\" >MSE</th>\n",
       "      <th id=\"T_fc538_level0_col3\" class=\"col_heading level0 col3\" >RMSE</th>\n",
       "      <th id=\"T_fc538_level0_col4\" class=\"col_heading level0 col4\" >R2</th>\n",
       "      <th id=\"T_fc538_level0_col5\" class=\"col_heading level0 col5\" >RMSLE</th>\n",
       "      <th id=\"T_fc538_level0_col6\" class=\"col_heading level0 col6\" >MAPE</th>\n",
       "      <th id=\"T_fc538_level0_col7\" class=\"col_heading level0 col7\" >TT (Sec)</th>\n",
       "    </tr>\n",
       "  </thead>\n",
       "  <tbody>\n",
       "    <tr>\n",
       "      <th id=\"T_fc538_level0_row0\" class=\"row_heading level0 row0\" >ada</th>\n",
       "      <td id=\"T_fc538_row0_col0\" class=\"data row0 col0\" >AdaBoost Regressor</td>\n",
       "      <td id=\"T_fc538_row0_col1\" class=\"data row0 col1\" >167.7616</td>\n",
       "      <td id=\"T_fc538_row0_col2\" class=\"data row0 col2\" >51146.8483</td>\n",
       "      <td id=\"T_fc538_row0_col3\" class=\"data row0 col3\" >211.8106</td>\n",
       "      <td id=\"T_fc538_row0_col4\" class=\"data row0 col4\" >-1.9561</td>\n",
       "      <td id=\"T_fc538_row0_col5\" class=\"data row0 col5\" >0.3641</td>\n",
       "      <td id=\"T_fc538_row0_col6\" class=\"data row0 col6\" >0.3780</td>\n",
       "      <td id=\"T_fc538_row0_col7\" class=\"data row0 col7\" >0.0230</td>\n",
       "    </tr>\n",
       "    <tr>\n",
       "      <th id=\"T_fc538_level0_row1\" class=\"row_heading level0 row1\" >lightgbm</th>\n",
       "      <td id=\"T_fc538_row1_col0\" class=\"data row1 col0\" >Light Gradient Boosting Machine</td>\n",
       "      <td id=\"T_fc538_row1_col1\" class=\"data row1 col1\" >171.5904</td>\n",
       "      <td id=\"T_fc538_row1_col2\" class=\"data row1 col2\" >52478.6324</td>\n",
       "      <td id=\"T_fc538_row1_col3\" class=\"data row1 col3\" >207.3520</td>\n",
       "      <td id=\"T_fc538_row1_col4\" class=\"data row1 col4\" >-1.6755</td>\n",
       "      <td id=\"T_fc538_row1_col5\" class=\"data row1 col5\" >0.3734</td>\n",
       "      <td id=\"T_fc538_row1_col6\" class=\"data row1 col6\" >0.4321</td>\n",
       "      <td id=\"T_fc538_row1_col7\" class=\"data row1 col7\" >0.3090</td>\n",
       "    </tr>\n",
       "    <tr>\n",
       "      <th id=\"T_fc538_level0_row2\" class=\"row_heading level0 row2\" >et</th>\n",
       "      <td id=\"T_fc538_row2_col0\" class=\"data row2 col0\" >Extra Trees Regressor</td>\n",
       "      <td id=\"T_fc538_row2_col1\" class=\"data row2 col1\" >168.9976</td>\n",
       "      <td id=\"T_fc538_row2_col2\" class=\"data row2 col2\" >55929.3326</td>\n",
       "      <td id=\"T_fc538_row2_col3\" class=\"data row2 col3\" >210.8237</td>\n",
       "      <td id=\"T_fc538_row2_col4\" class=\"data row2 col4\" >-2.0558</td>\n",
       "      <td id=\"T_fc538_row2_col5\" class=\"data row2 col5\" >0.3624</td>\n",
       "      <td id=\"T_fc538_row2_col6\" class=\"data row2 col6\" >0.4069</td>\n",
       "      <td id=\"T_fc538_row2_col7\" class=\"data row2 col7\" >0.0450</td>\n",
       "    </tr>\n",
       "    <tr>\n",
       "      <th id=\"T_fc538_level0_row3\" class=\"row_heading level0 row3\" >ridge</th>\n",
       "      <td id=\"T_fc538_row3_col0\" class=\"data row3 col0\" >Ridge Regression</td>\n",
       "      <td id=\"T_fc538_row3_col1\" class=\"data row3 col1\" >175.9674</td>\n",
       "      <td id=\"T_fc538_row3_col2\" class=\"data row3 col2\" >60614.4712</td>\n",
       "      <td id=\"T_fc538_row3_col3\" class=\"data row3 col3\" >207.8910</td>\n",
       "      <td id=\"T_fc538_row3_col4\" class=\"data row3 col4\" >-2.3802</td>\n",
       "      <td id=\"T_fc538_row3_col5\" class=\"data row3 col5\" >0.3748</td>\n",
       "      <td id=\"T_fc538_row3_col6\" class=\"data row3 col6\" >0.4169</td>\n",
       "      <td id=\"T_fc538_row3_col7\" class=\"data row3 col7\" >0.0120</td>\n",
       "    </tr>\n",
       "    <tr>\n",
       "      <th id=\"T_fc538_level0_row4\" class=\"row_heading level0 row4\" >rf</th>\n",
       "      <td id=\"T_fc538_row4_col0\" class=\"data row4 col0\" >Random Forest Regressor</td>\n",
       "      <td id=\"T_fc538_row4_col1\" class=\"data row4 col1\" >175.3499</td>\n",
       "      <td id=\"T_fc538_row4_col2\" class=\"data row4 col2\" >61518.9541</td>\n",
       "      <td id=\"T_fc538_row4_col3\" class=\"data row4 col3\" >219.1872</td>\n",
       "      <td id=\"T_fc538_row4_col4\" class=\"data row4 col4\" >-2.4974</td>\n",
       "      <td id=\"T_fc538_row4_col5\" class=\"data row4 col5\" >0.3719</td>\n",
       "      <td id=\"T_fc538_row4_col6\" class=\"data row4 col6\" >0.4170</td>\n",
       "      <td id=\"T_fc538_row4_col7\" class=\"data row4 col7\" >0.0540</td>\n",
       "    </tr>\n",
       "    <tr>\n",
       "      <th id=\"T_fc538_level0_row5\" class=\"row_heading level0 row5\" >gbr</th>\n",
       "      <td id=\"T_fc538_row5_col0\" class=\"data row5 col0\" >Gradient Boosting Regressor</td>\n",
       "      <td id=\"T_fc538_row5_col1\" class=\"data row5 col1\" >188.8359</td>\n",
       "      <td id=\"T_fc538_row5_col2\" class=\"data row5 col2\" >63135.4986</td>\n",
       "      <td id=\"T_fc538_row5_col3\" class=\"data row5 col3\" >229.0186</td>\n",
       "      <td id=\"T_fc538_row5_col4\" class=\"data row5 col4\" >-2.6214</td>\n",
       "      <td id=\"T_fc538_row5_col5\" class=\"data row5 col5\" >0.4003</td>\n",
       "      <td id=\"T_fc538_row5_col6\" class=\"data row5 col6\" >0.4351</td>\n",
       "      <td id=\"T_fc538_row5_col7\" class=\"data row5 col7\" >0.0140</td>\n",
       "    </tr>\n",
       "    <tr>\n",
       "      <th id=\"T_fc538_level0_row6\" class=\"row_heading level0 row6\" >xgboost</th>\n",
       "      <td id=\"T_fc538_row6_col0\" class=\"data row6 col0\" >Extreme Gradient Boosting</td>\n",
       "      <td id=\"T_fc538_row6_col1\" class=\"data row6 col1\" >178.3549</td>\n",
       "      <td id=\"T_fc538_row6_col2\" class=\"data row6 col2\" >63210.8911</td>\n",
       "      <td id=\"T_fc538_row6_col3\" class=\"data row6 col3\" >220.0666</td>\n",
       "      <td id=\"T_fc538_row6_col4\" class=\"data row6 col4\" >-2.6312</td>\n",
       "      <td id=\"T_fc538_row6_col5\" class=\"data row6 col5\" >0.3847</td>\n",
       "      <td id=\"T_fc538_row6_col6\" class=\"data row6 col6\" >0.3955</td>\n",
       "      <td id=\"T_fc538_row6_col7\" class=\"data row6 col7\" >0.0280</td>\n",
       "    </tr>\n",
       "    <tr>\n",
       "      <th id=\"T_fc538_level0_row7\" class=\"row_heading level0 row7\" >llar</th>\n",
       "      <td id=\"T_fc538_row7_col0\" class=\"data row7 col0\" >Lasso Least Angle Regression</td>\n",
       "      <td id=\"T_fc538_row7_col1\" class=\"data row7 col1\" >179.8280</td>\n",
       "      <td id=\"T_fc538_row7_col2\" class=\"data row7 col2\" >64868.4590</td>\n",
       "      <td id=\"T_fc538_row7_col3\" class=\"data row7 col3\" >212.5281</td>\n",
       "      <td id=\"T_fc538_row7_col4\" class=\"data row7 col4\" >-2.1223</td>\n",
       "      <td id=\"T_fc538_row7_col5\" class=\"data row7 col5\" >0.4113</td>\n",
       "      <td id=\"T_fc538_row7_col6\" class=\"data row7 col6\" >0.4076</td>\n",
       "      <td id=\"T_fc538_row7_col7\" class=\"data row7 col7\" >0.0090</td>\n",
       "    </tr>\n",
       "    <tr>\n",
       "      <th id=\"T_fc538_level0_row8\" class=\"row_heading level0 row8\" >par</th>\n",
       "      <td id=\"T_fc538_row8_col0\" class=\"data row8 col0\" >Passive Aggressive Regressor</td>\n",
       "      <td id=\"T_fc538_row8_col1\" class=\"data row8 col1\" >196.0841</td>\n",
       "      <td id=\"T_fc538_row8_col2\" class=\"data row8 col2\" >67528.8007</td>\n",
       "      <td id=\"T_fc538_row8_col3\" class=\"data row8 col3\" >226.8035</td>\n",
       "      <td id=\"T_fc538_row8_col4\" class=\"data row8 col4\" >-1.7142</td>\n",
       "      <td id=\"T_fc538_row8_col5\" class=\"data row8 col5\" >0.3387</td>\n",
       "      <td id=\"T_fc538_row8_col6\" class=\"data row8 col6\" >0.3634</td>\n",
       "      <td id=\"T_fc538_row8_col7\" class=\"data row8 col7\" >0.0080</td>\n",
       "    </tr>\n",
       "    <tr>\n",
       "      <th id=\"T_fc538_level0_row9\" class=\"row_heading level0 row9\" >lasso</th>\n",
       "      <td id=\"T_fc538_row9_col0\" class=\"data row9 col0\" >Lasso Regression</td>\n",
       "      <td id=\"T_fc538_row9_col1\" class=\"data row9 col1\" >197.7515</td>\n",
       "      <td id=\"T_fc538_row9_col2\" class=\"data row9 col2\" >76554.8840</td>\n",
       "      <td id=\"T_fc538_row9_col3\" class=\"data row9 col3\" >232.2810</td>\n",
       "      <td id=\"T_fc538_row9_col4\" class=\"data row9 col4\" >-2.8975</td>\n",
       "      <td id=\"T_fc538_row9_col5\" class=\"data row9 col5\" >0.4320</td>\n",
       "      <td id=\"T_fc538_row9_col6\" class=\"data row9 col6\" >0.4565</td>\n",
       "      <td id=\"T_fc538_row9_col7\" class=\"data row9 col7\" >0.4930</td>\n",
       "    </tr>\n",
       "    <tr>\n",
       "      <th id=\"T_fc538_level0_row10\" class=\"row_heading level0 row10\" >lar</th>\n",
       "      <td id=\"T_fc538_row10_col0\" class=\"data row10 col0\" >Least Angle Regression</td>\n",
       "      <td id=\"T_fc538_row10_col1\" class=\"data row10 col1\" >204.2404</td>\n",
       "      <td id=\"T_fc538_row10_col2\" class=\"data row10 col2\" >80296.8735</td>\n",
       "      <td id=\"T_fc538_row10_col3\" class=\"data row10 col3\" >236.6613</td>\n",
       "      <td id=\"T_fc538_row10_col4\" class=\"data row10 col4\" >-3.1616</td>\n",
       "      <td id=\"T_fc538_row10_col5\" class=\"data row10 col5\" >0.4860</td>\n",
       "      <td id=\"T_fc538_row10_col6\" class=\"data row10 col6\" >0.4773</td>\n",
       "      <td id=\"T_fc538_row10_col7\" class=\"data row10 col7\" >0.0090</td>\n",
       "    </tr>\n",
       "    <tr>\n",
       "      <th id=\"T_fc538_level0_row11\" class=\"row_heading level0 row11\" >lr</th>\n",
       "      <td id=\"T_fc538_row11_col0\" class=\"data row11 col0\" >Linear Regression</td>\n",
       "      <td id=\"T_fc538_row11_col1\" class=\"data row11 col1\" >204.2762</td>\n",
       "      <td id=\"T_fc538_row11_col2\" class=\"data row11 col2\" >80327.2677</td>\n",
       "      <td id=\"T_fc538_row11_col3\" class=\"data row11 col3\" >236.7064</td>\n",
       "      <td id=\"T_fc538_row11_col4\" class=\"data row11 col4\" >-3.1623</td>\n",
       "      <td id=\"T_fc538_row11_col5\" class=\"data row11 col5\" >0.4862</td>\n",
       "      <td id=\"T_fc538_row11_col6\" class=\"data row11 col6\" >0.4773</td>\n",
       "      <td id=\"T_fc538_row11_col7\" class=\"data row11 col7\" >1.6220</td>\n",
       "    </tr>\n",
       "    <tr>\n",
       "      <th id=\"T_fc538_level0_row12\" class=\"row_heading level0 row12\" >dt</th>\n",
       "      <td id=\"T_fc538_row12_col0\" class=\"data row12 col0\" >Decision Tree Regressor</td>\n",
       "      <td id=\"T_fc538_row12_col1\" class=\"data row12 col1\" >220.6600</td>\n",
       "      <td id=\"T_fc538_row12_col2\" class=\"data row12 col2\" >94616.6200</td>\n",
       "      <td id=\"T_fc538_row12_col3\" class=\"data row12 col3\" >273.4467</td>\n",
       "      <td id=\"T_fc538_row12_col4\" class=\"data row12 col4\" >-4.3379</td>\n",
       "      <td id=\"T_fc538_row12_col5\" class=\"data row12 col5\" >0.4611</td>\n",
       "      <td id=\"T_fc538_row12_col6\" class=\"data row12 col6\" >0.5232</td>\n",
       "      <td id=\"T_fc538_row12_col7\" class=\"data row12 col7\" >0.0080</td>\n",
       "    </tr>\n",
       "  </tbody>\n",
       "</table>\n"
      ],
      "text/plain": [
       "<pandas.io.formats.style.Styler at 0x20bb5d09eb0>"
      ]
     },
     "metadata": {},
     "output_type": "display_data"
    }
   ],
   "source": [
    "# Train and evaluate models\n",
    "best = compare_models(exclude = ['dummy', 'br', 'knn', 'en', 'omp', 'huber'], sort = 'MSE')"
   ]
  },
  {
   "attachments": {},
   "cell_type": "markdown",
   "metadata": {},
   "source": [
    "#### Create best model"
   ]
  },
  {
   "cell_type": "code",
   "execution_count": 33,
   "metadata": {},
   "outputs": [
    {
     "data": {
      "text/html": [
       "<style type=\"text/css\">\n",
       "#T_44d67_row10_col0, #T_44d67_row10_col1, #T_44d67_row10_col2, #T_44d67_row10_col3, #T_44d67_row10_col4, #T_44d67_row10_col5 {\n",
       "  background: yellow;\n",
       "}\n",
       "</style>\n",
       "<table id=\"T_44d67\">\n",
       "  <thead>\n",
       "    <tr>\n",
       "      <th class=\"blank level0\" >&nbsp;</th>\n",
       "      <th id=\"T_44d67_level0_col0\" class=\"col_heading level0 col0\" >MAE</th>\n",
       "      <th id=\"T_44d67_level0_col1\" class=\"col_heading level0 col1\" >MSE</th>\n",
       "      <th id=\"T_44d67_level0_col2\" class=\"col_heading level0 col2\" >RMSE</th>\n",
       "      <th id=\"T_44d67_level0_col3\" class=\"col_heading level0 col3\" >R2</th>\n",
       "      <th id=\"T_44d67_level0_col4\" class=\"col_heading level0 col4\" >RMSLE</th>\n",
       "      <th id=\"T_44d67_level0_col5\" class=\"col_heading level0 col5\" >MAPE</th>\n",
       "    </tr>\n",
       "    <tr>\n",
       "      <th class=\"index_name level0\" >Fold</th>\n",
       "      <th class=\"blank col0\" >&nbsp;</th>\n",
       "      <th class=\"blank col1\" >&nbsp;</th>\n",
       "      <th class=\"blank col2\" >&nbsp;</th>\n",
       "      <th class=\"blank col3\" >&nbsp;</th>\n",
       "      <th class=\"blank col4\" >&nbsp;</th>\n",
       "      <th class=\"blank col5\" >&nbsp;</th>\n",
       "    </tr>\n",
       "  </thead>\n",
       "  <tbody>\n",
       "    <tr>\n",
       "      <th id=\"T_44d67_level0_row0\" class=\"row_heading level0 row0\" >0</th>\n",
       "      <td id=\"T_44d67_row0_col0\" class=\"data row0 col0\" >162.0422</td>\n",
       "      <td id=\"T_44d67_row0_col1\" class=\"data row0 col1\" >55884.1240</td>\n",
       "      <td id=\"T_44d67_row0_col2\" class=\"data row0 col2\" >236.3982</td>\n",
       "      <td id=\"T_44d67_row0_col3\" class=\"data row0 col3\" >-0.2398</td>\n",
       "      <td id=\"T_44d67_row0_col4\" class=\"data row0 col4\" >0.6107</td>\n",
       "      <td id=\"T_44d67_row0_col5\" class=\"data row0 col5\" >0.6754</td>\n",
       "    </tr>\n",
       "    <tr>\n",
       "      <th id=\"T_44d67_level0_row1\" class=\"row_heading level0 row1\" >1</th>\n",
       "      <td id=\"T_44d67_row1_col0\" class=\"data row1 col0\" >368.3383</td>\n",
       "      <td id=\"T_44d67_row1_col1\" class=\"data row1 col1\" >179635.2961</td>\n",
       "      <td id=\"T_44d67_row1_col2\" class=\"data row1 col2\" >423.8340</td>\n",
       "      <td id=\"T_44d67_row1_col3\" class=\"data row1 col3\" >-9.8839</td>\n",
       "      <td id=\"T_44d67_row1_col4\" class=\"data row1 col4\" >0.7694</td>\n",
       "      <td id=\"T_44d67_row1_col5\" class=\"data row1 col5\" >1.1109</td>\n",
       "    </tr>\n",
       "    <tr>\n",
       "      <th id=\"T_44d67_level0_row2\" class=\"row_heading level0 row2\" >2</th>\n",
       "      <td id=\"T_44d67_row2_col0\" class=\"data row2 col0\" >167.5340</td>\n",
       "      <td id=\"T_44d67_row2_col1\" class=\"data row2 col1\" >43153.2733</td>\n",
       "      <td id=\"T_44d67_row2_col2\" class=\"data row2 col2\" >207.7337</td>\n",
       "      <td id=\"T_44d67_row2_col3\" class=\"data row2 col3\" >-1.1765</td>\n",
       "      <td id=\"T_44d67_row2_col4\" class=\"data row2 col4\" >0.2793</td>\n",
       "      <td id=\"T_44d67_row2_col5\" class=\"data row2 col5\" >0.2749</td>\n",
       "    </tr>\n",
       "    <tr>\n",
       "      <th id=\"T_44d67_level0_row3\" class=\"row_heading level0 row3\" >3</th>\n",
       "      <td id=\"T_44d67_row3_col0\" class=\"data row3 col0\" >121.2715</td>\n",
       "      <td id=\"T_44d67_row3_col1\" class=\"data row3 col1\" >25794.5098</td>\n",
       "      <td id=\"T_44d67_row3_col2\" class=\"data row3 col2\" >160.6067</td>\n",
       "      <td id=\"T_44d67_row3_col3\" class=\"data row3 col3\" >0.5460</td>\n",
       "      <td id=\"T_44d67_row3_col4\" class=\"data row3 col4\" >0.2581</td>\n",
       "      <td id=\"T_44d67_row3_col5\" class=\"data row3 col5\" >0.1691</td>\n",
       "    </tr>\n",
       "    <tr>\n",
       "      <th id=\"T_44d67_level0_row4\" class=\"row_heading level0 row4\" >4</th>\n",
       "      <td id=\"T_44d67_row4_col0\" class=\"data row4 col0\" >93.9504</td>\n",
       "      <td id=\"T_44d67_row4_col1\" class=\"data row4 col1\" >13610.4423</td>\n",
       "      <td id=\"T_44d67_row4_col2\" class=\"data row4 col2\" >116.6638</td>\n",
       "      <td id=\"T_44d67_row4_col3\" class=\"data row4 col3\" >-0.3689</td>\n",
       "      <td id=\"T_44d67_row4_col4\" class=\"data row4 col4\" >0.2099</td>\n",
       "      <td id=\"T_44d67_row4_col5\" class=\"data row4 col5\" >0.1636</td>\n",
       "    </tr>\n",
       "    <tr>\n",
       "      <th id=\"T_44d67_level0_row5\" class=\"row_heading level0 row5\" >5</th>\n",
       "      <td id=\"T_44d67_row5_col0\" class=\"data row5 col0\" >138.0825</td>\n",
       "      <td id=\"T_44d67_row5_col1\" class=\"data row5 col1\" >41578.9022</td>\n",
       "      <td id=\"T_44d67_row5_col2\" class=\"data row5 col2\" >203.9091</td>\n",
       "      <td id=\"T_44d67_row5_col3\" class=\"data row5 col3\" >-2.6195</td>\n",
       "      <td id=\"T_44d67_row5_col4\" class=\"data row5 col4\" >0.3199</td>\n",
       "      <td id=\"T_44d67_row5_col5\" class=\"data row5 col5\" >0.2392</td>\n",
       "    </tr>\n",
       "    <tr>\n",
       "      <th id=\"T_44d67_level0_row6\" class=\"row_heading level0 row6\" >6</th>\n",
       "      <td id=\"T_44d67_row6_col0\" class=\"data row6 col0\" >137.3509</td>\n",
       "      <td id=\"T_44d67_row6_col1\" class=\"data row6 col1\" >38324.4004</td>\n",
       "      <td id=\"T_44d67_row6_col2\" class=\"data row6 col2\" >195.7662</td>\n",
       "      <td id=\"T_44d67_row6_col3\" class=\"data row6 col3\" >0.0748</td>\n",
       "      <td id=\"T_44d67_row6_col4\" class=\"data row6 col4\" >0.2896</td>\n",
       "      <td id=\"T_44d67_row6_col5\" class=\"data row6 col5\" >0.2265</td>\n",
       "    </tr>\n",
       "    <tr>\n",
       "      <th id=\"T_44d67_level0_row7\" class=\"row_heading level0 row7\" >7</th>\n",
       "      <td id=\"T_44d67_row7_col0\" class=\"data row7 col0\" >180.4777</td>\n",
       "      <td id=\"T_44d67_row7_col1\" class=\"data row7 col1\" >50193.0825</td>\n",
       "      <td id=\"T_44d67_row7_col2\" class=\"data row7 col2\" >224.0381</td>\n",
       "      <td id=\"T_44d67_row7_col3\" class=\"data row7 col3\" >-2.6233</td>\n",
       "      <td id=\"T_44d67_row7_col4\" class=\"data row7 col4\" >0.3205</td>\n",
       "      <td id=\"T_44d67_row7_col5\" class=\"data row7 col5\" >0.3029</td>\n",
       "    </tr>\n",
       "    <tr>\n",
       "      <th id=\"T_44d67_level0_row8\" class=\"row_heading level0 row8\" >8</th>\n",
       "      <td id=\"T_44d67_row8_col0\" class=\"data row8 col0\" >114.2615</td>\n",
       "      <td id=\"T_44d67_row8_col1\" class=\"data row8 col1\" >19705.3936</td>\n",
       "      <td id=\"T_44d67_row8_col2\" class=\"data row8 col2\" >140.3759</td>\n",
       "      <td id=\"T_44d67_row8_col3\" class=\"data row8 col3\" >0.2399</td>\n",
       "      <td id=\"T_44d67_row8_col4\" class=\"data row8 col4\" >0.2059</td>\n",
       "      <td id=\"T_44d67_row8_col5\" class=\"data row8 col5\" >0.1806</td>\n",
       "    </tr>\n",
       "    <tr>\n",
       "      <th id=\"T_44d67_level0_row9\" class=\"row_heading level0 row9\" >9</th>\n",
       "      <td id=\"T_44d67_row9_col0\" class=\"data row9 col0\" >194.3068</td>\n",
       "      <td id=\"T_44d67_row9_col1\" class=\"data row9 col1\" >43589.0589</td>\n",
       "      <td id=\"T_44d67_row9_col2\" class=\"data row9 col2\" >208.7799</td>\n",
       "      <td id=\"T_44d67_row9_col3\" class=\"data row9 col3\" >-3.5100</td>\n",
       "      <td id=\"T_44d67_row9_col4\" class=\"data row9 col4\" >0.3780</td>\n",
       "      <td id=\"T_44d67_row9_col5\" class=\"data row9 col5\" >0.4363</td>\n",
       "    </tr>\n",
       "    <tr>\n",
       "      <th id=\"T_44d67_level0_row10\" class=\"row_heading level0 row10\" >Mean</th>\n",
       "      <td id=\"T_44d67_row10_col0\" class=\"data row10 col0\" >167.7616</td>\n",
       "      <td id=\"T_44d67_row10_col1\" class=\"data row10 col1\" >51146.8483</td>\n",
       "      <td id=\"T_44d67_row10_col2\" class=\"data row10 col2\" >211.8106</td>\n",
       "      <td id=\"T_44d67_row10_col3\" class=\"data row10 col3\" >-1.9561</td>\n",
       "      <td id=\"T_44d67_row10_col4\" class=\"data row10 col4\" >0.3641</td>\n",
       "      <td id=\"T_44d67_row10_col5\" class=\"data row10 col5\" >0.3780</td>\n",
       "    </tr>\n",
       "    <tr>\n",
       "      <th id=\"T_44d67_level0_row11\" class=\"row_heading level0 row11\" >Std</th>\n",
       "      <td id=\"T_44d67_row11_col0\" class=\"data row11 col0\" >73.0804</td>\n",
       "      <td id=\"T_44d67_row11_col1\" class=\"data row11 col1\" >44665.3095</td>\n",
       "      <td id=\"T_44d67_row11_col2\" class=\"data row11 col2\" >79.2662</td>\n",
       "      <td id=\"T_44d67_row11_col3\" class=\"data row11 col3\" >2.9569</td>\n",
       "      <td id=\"T_44d67_row11_col4\" class=\"data row11 col4\" >0.1738</td>\n",
       "      <td id=\"T_44d67_row11_col5\" class=\"data row11 col5\" >0.2857</td>\n",
       "    </tr>\n",
       "  </tbody>\n",
       "</table>\n"
      ],
      "text/plain": [
       "<pandas.io.formats.style.Styler at 0x20bb3573580>"
      ]
     },
     "metadata": {},
     "output_type": "display_data"
    }
   ],
   "source": [
    "# Create model\n",
    "model = create_model(best)"
   ]
  },
  {
   "attachments": {},
   "cell_type": "markdown",
   "metadata": {},
   "source": [
    "#### Tune model"
   ]
  },
  {
   "cell_type": "code",
   "execution_count": 34,
   "metadata": {},
   "outputs": [
    {
     "data": {
      "text/html": [
       "<style type=\"text/css\">\n",
       "#T_1e24c_row10_col0, #T_1e24c_row10_col1, #T_1e24c_row10_col2, #T_1e24c_row10_col3, #T_1e24c_row10_col4, #T_1e24c_row10_col5 {\n",
       "  background: yellow;\n",
       "}\n",
       "</style>\n",
       "<table id=\"T_1e24c\">\n",
       "  <thead>\n",
       "    <tr>\n",
       "      <th class=\"blank level0\" >&nbsp;</th>\n",
       "      <th id=\"T_1e24c_level0_col0\" class=\"col_heading level0 col0\" >MAE</th>\n",
       "      <th id=\"T_1e24c_level0_col1\" class=\"col_heading level0 col1\" >MSE</th>\n",
       "      <th id=\"T_1e24c_level0_col2\" class=\"col_heading level0 col2\" >RMSE</th>\n",
       "      <th id=\"T_1e24c_level0_col3\" class=\"col_heading level0 col3\" >R2</th>\n",
       "      <th id=\"T_1e24c_level0_col4\" class=\"col_heading level0 col4\" >RMSLE</th>\n",
       "      <th id=\"T_1e24c_level0_col5\" class=\"col_heading level0 col5\" >MAPE</th>\n",
       "    </tr>\n",
       "    <tr>\n",
       "      <th class=\"index_name level0\" >Fold</th>\n",
       "      <th class=\"blank col0\" >&nbsp;</th>\n",
       "      <th class=\"blank col1\" >&nbsp;</th>\n",
       "      <th class=\"blank col2\" >&nbsp;</th>\n",
       "      <th class=\"blank col3\" >&nbsp;</th>\n",
       "      <th class=\"blank col4\" >&nbsp;</th>\n",
       "      <th class=\"blank col5\" >&nbsp;</th>\n",
       "    </tr>\n",
       "  </thead>\n",
       "  <tbody>\n",
       "    <tr>\n",
       "      <th id=\"T_1e24c_level0_row0\" class=\"row_heading level0 row0\" >0</th>\n",
       "      <td id=\"T_1e24c_row0_col0\" class=\"data row0 col0\" >165.0906</td>\n",
       "      <td id=\"T_1e24c_row0_col1\" class=\"data row0 col1\" >53165.8103</td>\n",
       "      <td id=\"T_1e24c_row0_col2\" class=\"data row0 col2\" >230.5771</td>\n",
       "      <td id=\"T_1e24c_row0_col3\" class=\"data row0 col3\" >-0.1794</td>\n",
       "      <td id=\"T_1e24c_row0_col4\" class=\"data row0 col4\" >0.6013</td>\n",
       "      <td id=\"T_1e24c_row0_col5\" class=\"data row0 col5\" >0.6652</td>\n",
       "    </tr>\n",
       "    <tr>\n",
       "      <th id=\"T_1e24c_level0_row1\" class=\"row_heading level0 row1\" >1</th>\n",
       "      <td id=\"T_1e24c_row1_col0\" class=\"data row1 col0\" >321.1672</td>\n",
       "      <td id=\"T_1e24c_row1_col1\" class=\"data row1 col1\" >124873.1085</td>\n",
       "      <td id=\"T_1e24c_row1_col2\" class=\"data row1 col2\" >353.3739</td>\n",
       "      <td id=\"T_1e24c_row1_col3\" class=\"data row1 col3\" >-6.5659</td>\n",
       "      <td id=\"T_1e24c_row1_col4\" class=\"data row1 col4\" >0.6995</td>\n",
       "      <td id=\"T_1e24c_row1_col5\" class=\"data row1 col5\" >0.9709</td>\n",
       "    </tr>\n",
       "    <tr>\n",
       "      <th id=\"T_1e24c_level0_row2\" class=\"row_heading level0 row2\" >2</th>\n",
       "      <td id=\"T_1e24c_row2_col0\" class=\"data row2 col0\" >156.2483</td>\n",
       "      <td id=\"T_1e24c_row2_col1\" class=\"data row2 col1\" >37419.3030</td>\n",
       "      <td id=\"T_1e24c_row2_col2\" class=\"data row2 col2\" >193.4407</td>\n",
       "      <td id=\"T_1e24c_row2_col3\" class=\"data row2 col3\" >-0.8873</td>\n",
       "      <td id=\"T_1e24c_row2_col4\" class=\"data row2 col4\" >0.2821</td>\n",
       "      <td id=\"T_1e24c_row2_col5\" class=\"data row2 col5\" >0.2660</td>\n",
       "    </tr>\n",
       "    <tr>\n",
       "      <th id=\"T_1e24c_level0_row3\" class=\"row_heading level0 row3\" >3</th>\n",
       "      <td id=\"T_1e24c_row3_col0\" class=\"data row3 col0\" >109.4524</td>\n",
       "      <td id=\"T_1e24c_row3_col1\" class=\"data row3 col1\" >21640.0748</td>\n",
       "      <td id=\"T_1e24c_row3_col2\" class=\"data row3 col2\" >147.1057</td>\n",
       "      <td id=\"T_1e24c_row3_col3\" class=\"data row3 col3\" >0.6191</td>\n",
       "      <td id=\"T_1e24c_row3_col4\" class=\"data row3 col4\" >0.2476</td>\n",
       "      <td id=\"T_1e24c_row3_col5\" class=\"data row3 col5\" >0.1585</td>\n",
       "    </tr>\n",
       "    <tr>\n",
       "      <th id=\"T_1e24c_level0_row4\" class=\"row_heading level0 row4\" >4</th>\n",
       "      <td id=\"T_1e24c_row4_col0\" class=\"data row4 col0\" >118.6889</td>\n",
       "      <td id=\"T_1e24c_row4_col1\" class=\"data row4 col1\" >20303.5763</td>\n",
       "      <td id=\"T_1e24c_row4_col2\" class=\"data row4 col2\" >142.4906</td>\n",
       "      <td id=\"T_1e24c_row4_col3\" class=\"data row4 col3\" >-1.0421</td>\n",
       "      <td id=\"T_1e24c_row4_col4\" class=\"data row4 col4\" >0.2719</td>\n",
       "      <td id=\"T_1e24c_row4_col5\" class=\"data row4 col5\" >0.2124</td>\n",
       "    </tr>\n",
       "    <tr>\n",
       "      <th id=\"T_1e24c_level0_row5\" class=\"row_heading level0 row5\" >5</th>\n",
       "      <td id=\"T_1e24c_row5_col0\" class=\"data row5 col0\" >137.7251</td>\n",
       "      <td id=\"T_1e24c_row5_col1\" class=\"data row5 col1\" >39511.5019</td>\n",
       "      <td id=\"T_1e24c_row5_col2\" class=\"data row5 col2\" >198.7750</td>\n",
       "      <td id=\"T_1e24c_row5_col3\" class=\"data row5 col3\" >-2.4395</td>\n",
       "      <td id=\"T_1e24c_row5_col4\" class=\"data row5 col4\" >0.3209</td>\n",
       "      <td id=\"T_1e24c_row5_col5\" class=\"data row5 col5\" >0.2369</td>\n",
       "    </tr>\n",
       "    <tr>\n",
       "      <th id=\"T_1e24c_level0_row6\" class=\"row_heading level0 row6\" >6</th>\n",
       "      <td id=\"T_1e24c_row6_col0\" class=\"data row6 col0\" >140.4277</td>\n",
       "      <td id=\"T_1e24c_row6_col1\" class=\"data row6 col1\" >39251.3397</td>\n",
       "      <td id=\"T_1e24c_row6_col2\" class=\"data row6 col2\" >198.1195</td>\n",
       "      <td id=\"T_1e24c_row6_col3\" class=\"data row6 col3\" >0.0524</td>\n",
       "      <td id=\"T_1e24c_row6_col4\" class=\"data row6 col4\" >0.2880</td>\n",
       "      <td id=\"T_1e24c_row6_col5\" class=\"data row6 col5\" >0.2248</td>\n",
       "    </tr>\n",
       "    <tr>\n",
       "      <th id=\"T_1e24c_level0_row7\" class=\"row_heading level0 row7\" >7</th>\n",
       "      <td id=\"T_1e24c_row7_col0\" class=\"data row7 col0\" >176.4555</td>\n",
       "      <td id=\"T_1e24c_row7_col1\" class=\"data row7 col1\" >47081.1646</td>\n",
       "      <td id=\"T_1e24c_row7_col2\" class=\"data row7 col2\" >216.9819</td>\n",
       "      <td id=\"T_1e24c_row7_col3\" class=\"data row7 col3\" >-2.3986</td>\n",
       "      <td id=\"T_1e24c_row7_col4\" class=\"data row7 col4\" >0.3155</td>\n",
       "      <td id=\"T_1e24c_row7_col5\" class=\"data row7 col5\" >0.2936</td>\n",
       "    </tr>\n",
       "    <tr>\n",
       "      <th id=\"T_1e24c_level0_row8\" class=\"row_heading level0 row8\" >8</th>\n",
       "      <td id=\"T_1e24c_row8_col0\" class=\"data row8 col0\" >111.8081</td>\n",
       "      <td id=\"T_1e24c_row8_col1\" class=\"data row8 col1\" >17901.4846</td>\n",
       "      <td id=\"T_1e24c_row8_col2\" class=\"data row8 col2\" >133.7964</td>\n",
       "      <td id=\"T_1e24c_row8_col3\" class=\"data row8 col3\" >0.3095</td>\n",
       "      <td id=\"T_1e24c_row8_col4\" class=\"data row8 col4\" >0.2025</td>\n",
       "      <td id=\"T_1e24c_row8_col5\" class=\"data row8 col5\" >0.1754</td>\n",
       "    </tr>\n",
       "    <tr>\n",
       "      <th id=\"T_1e24c_level0_row9\" class=\"row_heading level0 row9\" >9</th>\n",
       "      <td id=\"T_1e24c_row9_col0\" class=\"data row9 col0\" >197.4904</td>\n",
       "      <td id=\"T_1e24c_row9_col1\" class=\"data row9 col1\" >44054.3881</td>\n",
       "      <td id=\"T_1e24c_row9_col2\" class=\"data row9 col2\" >209.8914</td>\n",
       "      <td id=\"T_1e24c_row9_col3\" class=\"data row9 col3\" >-3.5581</td>\n",
       "      <td id=\"T_1e24c_row9_col4\" class=\"data row9 col4\" >0.3782</td>\n",
       "      <td id=\"T_1e24c_row9_col5\" class=\"data row9 col5\" >0.4390</td>\n",
       "    </tr>\n",
       "    <tr>\n",
       "      <th id=\"T_1e24c_level0_row10\" class=\"row_heading level0 row10\" >Mean</th>\n",
       "      <td id=\"T_1e24c_row10_col0\" class=\"data row10 col0\" >163.4554</td>\n",
       "      <td id=\"T_1e24c_row10_col1\" class=\"data row10 col1\" >44520.1752</td>\n",
       "      <td id=\"T_1e24c_row10_col2\" class=\"data row10 col2\" >202.4552</td>\n",
       "      <td id=\"T_1e24c_row10_col3\" class=\"data row10 col3\" >-1.6090</td>\n",
       "      <td id=\"T_1e24c_row10_col4\" class=\"data row10 col4\" >0.3607</td>\n",
       "      <td id=\"T_1e24c_row10_col5\" class=\"data row10 col5\" >0.3643</td>\n",
       "    </tr>\n",
       "    <tr>\n",
       "      <th id=\"T_1e24c_level0_row11\" class=\"row_heading level0 row11\" >Std</th>\n",
       "      <td id=\"T_1e24c_row11_col0\" class=\"data row11 col0\" >59.1905</td>\n",
       "      <td id=\"T_1e24c_row11_col1\" class=\"data row11 col1\" >29085.8792</td>\n",
       "      <td id=\"T_1e24c_row11_col2\" class=\"data row11 col2\" >59.4311</td>\n",
       "      <td id=\"T_1e24c_row11_col3\" class=\"data row11 col3\" >2.0970</td>\n",
       "      <td id=\"T_1e24c_row11_col4\" class=\"data row11 col4\" >0.1529</td>\n",
       "      <td id=\"T_1e24c_row11_col5\" class=\"data row11 col5\" >0.2481</td>\n",
       "    </tr>\n",
       "  </tbody>\n",
       "</table>\n"
      ],
      "text/plain": [
       "<pandas.io.formats.style.Styler at 0x20bb5e4c370>"
      ]
     },
     "metadata": {},
     "output_type": "display_data"
    }
   ],
   "source": [
    "# Tune model\n",
    "tuned_model = tune_model(model, optimize = 'MAE')"
   ]
  },
  {
   "attachments": {},
   "cell_type": "markdown",
   "metadata": {},
   "source": [
    "#### Plot model"
   ]
  },
  {
   "cell_type": "code",
   "execution_count": 35,
   "metadata": {},
   "outputs": [
    {
     "data": {
      "image/png": "[encoded data removed]",
      "text/plain": [
       "<Figure size 576x396 with 2 Axes>"
      ]
     },
     "metadata": {},
     "output_type": "display_data"
    }
   ],
   "source": [
    "# PLot model - Residual plot\n",
    "plot_model(model)"
   ]
  },
  {
   "cell_type": "code",
   "execution_count": 36,
   "metadata": {},
   "outputs": [
    {
     "data": {
      "image/png": "[encoded data removed]",
      "text/plain": [
       "<Figure size 576x396 with 2 Axes>"
      ]
     },
     "metadata": {},
     "output_type": "display_data"
    }
   ],
   "source": [
    "# PLot model - Residual plot\n",
    "plot_model(tuned_model)"
   ]
  },
  {
   "cell_type": "code",
   "execution_count": 37,
   "metadata": {},
   "outputs": [
    {
     "data": {
      "image/png": "[encoded data removed]",
      "text/plain": [
       "<Figure size 576x396 with 1 Axes>"
      ]
     },
     "metadata": {},
     "output_type": "display_data"
    }
   ],
   "source": [
    "# Prediction Error Plot\n",
    "plot_model(model, plot = 'error')"
   ]
  },
  {
   "cell_type": "code",
   "execution_count": 38,
   "metadata": {},
   "outputs": [
    {
     "data": {
      "image/png": "[encoded data removed]",
      "text/plain": [
       "<Figure size 576x396 with 1 Axes>"
      ]
     },
     "metadata": {},
     "output_type": "display_data"
    }
   ],
   "source": [
    "# Prediction Error Plot\n",
    "plot_model(tuned_model, plot = 'error')"
   ]
  },
  {
   "cell_type": "code",
   "execution_count": 39,
   "metadata": {},
   "outputs": [
    {
     "data": {
      "image/png": "[encoded data removed]",
      "text/plain": [
       "<Figure size 800x500 with 1 Axes>"
      ]
     },
     "metadata": {},
     "output_type": "display_data"
    }
   ],
   "source": [
    "# Feature Importance Plot\n",
    "plot_model(model, plot='feature')"
   ]
  },
  {
   "cell_type": "code",
   "execution_count": 40,
   "metadata": {},
   "outputs": [
    {
     "data": {
      "image/png": "[encoded data removed]",
      "text/plain": [
       "<Figure size 800x500 with 1 Axes>"
      ]
     },
     "metadata": {},
     "output_type": "display_data"
    }
   ],
   "source": [
    "# Feature Importance Plot\n",
    "plot_model(tuned_model, plot='feature')"
   ]
  },
  {
   "attachments": {},
   "cell_type": "markdown",
   "metadata": {},
   "source": [
    "#### Evaluate models"
   ]
  },
  {
   "cell_type": "code",
   "execution_count": 41,
   "metadata": {},
   "outputs": [
    {
     "data": {
      "application/vnd.jupyter.widget-view+json": {
       "model_id": "62863551bc0e481da2ec13ce41f14377",
       "version_major": 2,
       "version_minor": 0
      },
      "text/plain": [
       "interactive(children=(ToggleButtons(description='Plot Type:', icons=('',), options=(('Hyperparameters', 'param…"
      ]
     },
     "metadata": {},
     "output_type": "display_data"
    }
   ],
   "source": [
    "evaluate_model(model)"
   ]
  },
  {
   "cell_type": "code",
   "execution_count": 42,
   "metadata": {},
   "outputs": [
    {
     "data": {
      "application/vnd.jupyter.widget-view+json": {
       "model_id": "110811bcacdd4b48adb1b91333b3c5fc",
       "version_major": 2,
       "version_minor": 0
      },
      "text/plain": [
       "interactive(children=(ToggleButtons(description='Plot Type:', icons=('',), options=(('Hyperparameters', 'param…"
      ]
     },
     "metadata": {},
     "output_type": "display_data"
    }
   ],
   "source": [
    "evaluate_model(tuned_model)"
   ]
  },
  {
   "attachments": {},
   "cell_type": "markdown",
   "metadata": {},
   "source": [
    "#### Predict on test set"
   ]
  },
  {
   "cell_type": "code",
   "execution_count": 43,
   "metadata": {},
   "outputs": [
    {
     "data": {
      "text/html": [
       "<style type=\"text/css\">\n",
       "</style>\n",
       "<table id=\"T_5c3b2\">\n",
       "  <thead>\n",
       "    <tr>\n",
       "      <th class=\"blank level0\" >&nbsp;</th>\n",
       "      <th id=\"T_5c3b2_level0_col0\" class=\"col_heading level0 col0\" >Model</th>\n",
       "      <th id=\"T_5c3b2_level0_col1\" class=\"col_heading level0 col1\" >MAE</th>\n",
       "      <th id=\"T_5c3b2_level0_col2\" class=\"col_heading level0 col2\" >MSE</th>\n",
       "      <th id=\"T_5c3b2_level0_col3\" class=\"col_heading level0 col3\" >RMSE</th>\n",
       "      <th id=\"T_5c3b2_level0_col4\" class=\"col_heading level0 col4\" >R2</th>\n",
       "      <th id=\"T_5c3b2_level0_col5\" class=\"col_heading level0 col5\" >RMSLE</th>\n",
       "      <th id=\"T_5c3b2_level0_col6\" class=\"col_heading level0 col6\" >MAPE</th>\n",
       "    </tr>\n",
       "  </thead>\n",
       "  <tbody>\n",
       "    <tr>\n",
       "      <th id=\"T_5c3b2_level0_row0\" class=\"row_heading level0 row0\" >0</th>\n",
       "      <td id=\"T_5c3b2_row0_col0\" class=\"data row0 col0\" >AdaBoost Regressor</td>\n",
       "      <td id=\"T_5c3b2_row0_col1\" class=\"data row0 col1\" >220.6761</td>\n",
       "      <td id=\"T_5c3b2_row0_col2\" class=\"data row0 col2\" >54687.3111</td>\n",
       "      <td id=\"T_5c3b2_row0_col3\" class=\"data row0 col3\" >233.8532</td>\n",
       "      <td id=\"T_5c3b2_row0_col4\" class=\"data row0 col4\" >-4.7117</td>\n",
       "      <td id=\"T_5c3b2_row0_col5\" class=\"data row0 col5\" >0.6637</td>\n",
       "      <td id=\"T_5c3b2_row0_col6\" class=\"data row0 col6\" >0.9039</td>\n",
       "    </tr>\n",
       "  </tbody>\n",
       "</table>\n"
      ],
      "text/plain": [
       "<pandas.io.formats.style.Styler at 0x20bb5e3cd00>"
      ]
     },
     "metadata": {},
     "output_type": "display_data"
    }
   ],
   "source": [
    "prediction = predict_model(model);"
   ]
  },
  {
   "cell_type": "code",
   "execution_count": 44,
   "metadata": {},
   "outputs": [
    {
     "data": {
      "text/html": [
       "<style type=\"text/css\">\n",
       "</style>\n",
       "<table id=\"T_5a278\">\n",
       "  <thead>\n",
       "    <tr>\n",
       "      <th class=\"blank level0\" >&nbsp;</th>\n",
       "      <th id=\"T_5a278_level0_col0\" class=\"col_heading level0 col0\" >Model</th>\n",
       "      <th id=\"T_5a278_level0_col1\" class=\"col_heading level0 col1\" >MAE</th>\n",
       "      <th id=\"T_5a278_level0_col2\" class=\"col_heading level0 col2\" >MSE</th>\n",
       "      <th id=\"T_5a278_level0_col3\" class=\"col_heading level0 col3\" >RMSE</th>\n",
       "      <th id=\"T_5a278_level0_col4\" class=\"col_heading level0 col4\" >R2</th>\n",
       "      <th id=\"T_5a278_level0_col5\" class=\"col_heading level0 col5\" >RMSLE</th>\n",
       "      <th id=\"T_5a278_level0_col6\" class=\"col_heading level0 col6\" >MAPE</th>\n",
       "    </tr>\n",
       "  </thead>\n",
       "  <tbody>\n",
       "    <tr>\n",
       "      <th id=\"T_5a278_level0_row0\" class=\"row_heading level0 row0\" >0</th>\n",
       "      <td id=\"T_5a278_row0_col0\" class=\"data row0 col0\" >AdaBoost Regressor</td>\n",
       "      <td id=\"T_5a278_row0_col1\" class=\"data row0 col1\" >225.5942</td>\n",
       "      <td id=\"T_5a278_row0_col2\" class=\"data row0 col2\" >57250.4837</td>\n",
       "      <td id=\"T_5a278_row0_col3\" class=\"data row0 col3\" >239.2707</td>\n",
       "      <td id=\"T_5a278_row0_col4\" class=\"data row0 col4\" >-4.9794</td>\n",
       "      <td id=\"T_5a278_row0_col5\" class=\"data row0 col5\" >0.6760</td>\n",
       "      <td id=\"T_5a278_row0_col6\" class=\"data row0 col6\" >0.9285</td>\n",
       "    </tr>\n",
       "  </tbody>\n",
       "</table>\n"
      ],
      "text/plain": [
       "<pandas.io.formats.style.Styler at 0x20bb8c21340>"
      ]
     },
     "metadata": {},
     "output_type": "display_data"
    }
   ],
   "source": [
    "prediction_tuned = predict_model(tuned_model);"
   ]
  },
  {
   "attachments": {},
   "cell_type": "markdown",
   "metadata": {},
   "source": [
    "#### Predict full dataset"
   ]
  },
  {
   "attachments": {},
   "cell_type": "markdown",
   "metadata": {},
   "source": [
    "##### Base model"
   ]
  },
  {
   "cell_type": "code",
   "execution_count": 45,
   "metadata": {},
   "outputs": [
    {
     "data": {
      "text/html": [
       "<style type=\"text/css\">\n",
       "</style>\n",
       "<table id=\"T_b916d\">\n",
       "  <thead>\n",
       "    <tr>\n",
       "      <th class=\"blank level0\" >&nbsp;</th>\n",
       "      <th id=\"T_b916d_level0_col0\" class=\"col_heading level0 col0\" >Model</th>\n",
       "      <th id=\"T_b916d_level0_col1\" class=\"col_heading level0 col1\" >MAE</th>\n",
       "      <th id=\"T_b916d_level0_col2\" class=\"col_heading level0 col2\" >MSE</th>\n",
       "      <th id=\"T_b916d_level0_col3\" class=\"col_heading level0 col3\" >RMSE</th>\n",
       "      <th id=\"T_b916d_level0_col4\" class=\"col_heading level0 col4\" >R2</th>\n",
       "      <th id=\"T_b916d_level0_col5\" class=\"col_heading level0 col5\" >RMSLE</th>\n",
       "      <th id=\"T_b916d_level0_col6\" class=\"col_heading level0 col6\" >MAPE</th>\n",
       "    </tr>\n",
       "  </thead>\n",
       "  <tbody>\n",
       "    <tr>\n",
       "      <th id=\"T_b916d_level0_row0\" class=\"row_heading level0 row0\" >0</th>\n",
       "      <td id=\"T_b916d_row0_col0\" class=\"data row0 col0\" >AdaBoost Regressor</td>\n",
       "      <td id=\"T_b916d_row0_col1\" class=\"data row0 col1\" >111.1874</td>\n",
       "      <td id=\"T_b916d_row0_col2\" class=\"data row0 col2\" >18386.5029</td>\n",
       "      <td id=\"T_b916d_row0_col3\" class=\"data row0 col3\" >135.5968</td>\n",
       "      <td id=\"T_b916d_row0_col4\" class=\"data row0 col4\" >0.6535</td>\n",
       "      <td id=\"T_b916d_row0_col5\" class=\"data row0 col5\" >0.3356</td>\n",
       "      <td id=\"T_b916d_row0_col6\" class=\"data row0 col6\" >0.3042</td>\n",
       "    </tr>\n",
       "  </tbody>\n",
       "</table>\n"
      ],
      "text/plain": [
       "<pandas.io.formats.style.Styler at 0x20bb5f23400>"
      ]
     },
     "metadata": {},
     "output_type": "display_data"
    },
    {
     "data": {
      "application/vnd.plotly.v1+json": {
       "config": {
        "plotlyServerURL": "https://plot.ly"
       },
       "data": [
        {
         "hovertemplate": "variable=Orders<br>Date=%{x}<br>value=%{y}<extra></extra>",
         "legendgroup": "Orders",
         "line": {
          "color": "#636efa",
          "dash": "solid"
         },
         "marker": {
          "symbol": "circle"
         },
         "mode": "lines",
         "name": "Orders",
         "orientation": "v",
         "showlegend": true,
         "type": "scatter",
         "x": [
          "2006-01-01T00:00:00",
          "2006-02-01T00:00:00",
          "2006-03-01T00:00:00",
          "2006-04-01T00:00:00",
          "2006-05-01T00:00:00",
          "2006-06-01T00:00:00",
          "2006-07-01T00:00:00",
          "2006-08-01T00:00:00",
          "2006-09-01T00:00:00",
          "2006-10-01T00:00:00",
          "2006-11-01T00:00:00",
          "2006-12-01T00:00:00",
          "2007-01-01T00:00:00",
          "2007-02-01T00:00:00",
          "2007-03-01T00:00:00",
          "2007-04-01T00:00:00",
          "2007-05-01T00:00:00",
          "2007-06-01T00:00:00",
          "2007-07-01T00:00:00",
          "2007-08-01T00:00:00",
          "2007-09-01T00:00:00",
          "2007-10-01T00:00:00",
          "2007-11-01T00:00:00",
          "2007-12-01T00:00:00",
          "2008-01-01T00:00:00",
          "2008-02-01T00:00:00",
          "2008-03-01T00:00:00",
          "2008-04-01T00:00:00",
          "2008-05-01T00:00:00",
          "2008-06-01T00:00:00",
          "2008-07-01T00:00:00",
          "2008-08-01T00:00:00",
          "2008-09-01T00:00:00",
          "2008-10-01T00:00:00",
          "2008-11-01T00:00:00",
          "2008-12-01T00:00:00",
          "2009-01-01T00:00:00",
          "2009-02-01T00:00:00",
          "2009-03-01T00:00:00",
          "2009-04-01T00:00:00",
          "2009-05-01T00:00:00",
          "2009-06-01T00:00:00",
          "2009-07-01T00:00:00",
          "2009-08-01T00:00:00",
          "2009-09-01T00:00:00",
          "2009-10-01T00:00:00",
          "2009-11-01T00:00:00",
          "2009-12-01T00:00:00",
          "2010-01-01T00:00:00",
          "2010-02-01T00:00:00",
          "2010-03-01T00:00:00",
          "2010-04-01T00:00:00",
          "2010-05-01T00:00:00",
          "2010-06-01T00:00:00",
          "2010-07-01T00:00:00",
          "2010-08-01T00:00:00",
          "2010-09-01T00:00:00",
          "2010-10-01T00:00:00",
          "2010-11-01T00:00:00",
          "2010-12-01T00:00:00",
          "2011-01-01T00:00:00",
          "2011-02-01T00:00:00",
          "2011-03-01T00:00:00",
          "2011-04-01T00:00:00",
          "2011-05-01T00:00:00",
          "2011-06-01T00:00:00",
          "2011-07-01T00:00:00",
          "2011-08-01T00:00:00",
          "2011-09-01T00:00:00",
          "2011-10-01T00:00:00",
          "2011-11-01T00:00:00",
          "2011-12-01T00:00:00",
          "2012-01-01T00:00:00",
          "2012-02-01T00:00:00",
          "2012-03-01T00:00:00",
          "2012-04-01T00:00:00",
          "2012-05-01T00:00:00",
          "2012-06-01T00:00:00",
          "2012-07-01T00:00:00",
          "2012-08-01T00:00:00",
          "2012-09-01T00:00:00",
          "2012-10-01T00:00:00",
          "2012-11-01T00:00:00",
          "2012-12-01T00:00:00",
          "2013-01-01T00:00:00",
          "2013-02-01T00:00:00",
          "2013-03-01T00:00:00",
          "2013-04-01T00:00:00",
          "2013-05-01T00:00:00",
          "2013-06-01T00:00:00",
          "2013-07-01T00:00:00",
          "2013-08-01T00:00:00",
          "2013-09-01T00:00:00",
          "2013-10-01T00:00:00",
          "2013-11-01T00:00:00",
          "2013-12-01T00:00:00",
          "2014-01-01T00:00:00",
          "2014-02-01T00:00:00",
          "2014-03-01T00:00:00",
          "2014-04-01T00:00:00",
          "2014-05-01T00:00:00",
          "2014-06-01T00:00:00",
          "2014-07-01T00:00:00",
          "2014-08-01T00:00:00",
          "2014-09-01T00:00:00",
          "2014-10-01T00:00:00",
          "2014-11-01T00:00:00",
          "2014-12-01T00:00:00",
          "2015-01-01T00:00:00",
          "2015-02-01T00:00:00",
          "2015-03-01T00:00:00",
          "2015-04-01T00:00:00",
          "2015-05-01T00:00:00",
          "2015-06-01T00:00:00",
          "2015-07-01T00:00:00",
          "2015-08-01T00:00:00",
          "2015-09-01T00:00:00",
          "2015-10-01T00:00:00",
          "2015-11-01T00:00:00",
          "2015-12-01T00:00:00",
          "2016-01-01T00:00:00",
          "2016-02-01T00:00:00",
          "2016-03-01T00:00:00",
          "2016-04-01T00:00:00",
          "2016-05-01T00:00:00",
          "2016-06-01T00:00:00",
          "2016-07-01T00:00:00",
          "2016-08-01T00:00:00",
          "2016-09-01T00:00:00",
          "2016-10-01T00:00:00",
          "2016-11-01T00:00:00",
          "2016-12-01T00:00:00",
          "2017-01-01T00:00:00",
          "2017-02-01T00:00:00",
          "2017-03-01T00:00:00",
          "2017-04-01T00:00:00",
          "2017-05-01T00:00:00",
          "2017-06-01T00:00:00",
          "2017-07-01T00:00:00",
          "2017-08-01T00:00:00",
          "2017-09-01T00:00:00",
          "2017-10-01T00:00:00",
          "2017-11-01T00:00:00",
          "2017-12-01T00:00:00",
          "2018-01-01T00:00:00",
          "2018-02-01T00:00:00",
          "2018-03-01T00:00:00",
          "2018-04-01T00:00:00",
          "2018-05-01T00:00:00",
          "2018-06-01T00:00:00",
          "2018-07-01T00:00:00",
          "2018-08-01T00:00:00",
          "2018-09-01T00:00:00",
          "2018-10-01T00:00:00",
          "2018-11-01T00:00:00",
          "2018-12-01T00:00:00",
          "2019-01-01T00:00:00",
          "2019-02-01T00:00:00",
          "2019-03-01T00:00:00",
          "2019-04-01T00:00:00",
          "2019-05-01T00:00:00",
          "2019-06-01T00:00:00",
          "2019-07-01T00:00:00",
          "2019-08-01T00:00:00",
          "2019-09-01T00:00:00",
          "2019-10-01T00:00:00",
          "2019-11-01T00:00:00",
          "2019-12-01T00:00:00",
          "2020-01-01T00:00:00",
          "2020-02-01T00:00:00",
          "2020-03-01T00:00:00",
          "2020-04-01T00:00:00",
          "2020-05-01T00:00:00",
          "2020-06-01T00:00:00",
          "2020-07-01T00:00:00",
          "2020-08-01T00:00:00",
          "2020-09-01T00:00:00",
          "2020-10-01T00:00:00",
          "2020-11-01T00:00:00",
          "2020-12-01T00:00:00",
          "2021-01-01T00:00:00",
          "2021-02-01T00:00:00",
          "2021-03-01T00:00:00",
          "2021-04-01T00:00:00",
          "2021-05-01T00:00:00",
          "2021-06-01T00:00:00",
          "2021-07-01T00:00:00",
          "2021-08-01T00:00:00",
          "2021-09-01T00:00:00",
          "2021-10-01T00:00:00",
          "2021-11-01T00:00:00",
          "2021-12-01T00:00:00",
          "2022-01-01T00:00:00",
          "2022-02-01T00:00:00",
          "2022-03-01T00:00:00",
          "2022-04-01T00:00:00",
          "2022-05-01T00:00:00",
          "2022-06-01T00:00:00",
          "2022-07-01T00:00:00",
          "2022-08-01T00:00:00",
          "2022-09-01T00:00:00",
          "2022-10-01T00:00:00",
          "2022-11-01T00:00:00",
          "2022-12-01T00:00:00"
         ],
         "xaxis": "x",
         "y": [
          1124,
          1079,
          1210,
          1147,
          1001,
          1087,
          728,
          605,
          1081,
          786,
          689,
          715,
          998,
          638,
          649,
          753,
          856,
          825,
          685,
          755,
          755,
          640,
          130,
          155,
          900,
          609,
          765,
          638,
          799,
          666,
          574,
          443,
          489,
          527,
          235,
          122,
          508,
          311,
          629,
          294,
          306,
          338,
          319,
          367,
          422,
          352,
          274,
          178,
          711,
          519,
          647,
          524,
          608,
          662,
          468,
          532,
          561,
          662,
          503,
          402,
          901,
          671,
          917,
          785,
          764,
          645,
          529,
          690,
          842,
          632,
          570,
          405,
          1021,
          770,
          1268,
          349,
          413,
          473,
          408,
          485,
          765,
          604,
          584,
          519,
          648,
          553,
          728,
          456,
          609,
          465,
          440,
          518,
          559,
          657,
          600,
          481,
          441,
          653,
          928,
          527,
          602,
          587,
          511,
          587,
          612,
          653,
          578,
          650,
          710,
          693,
          1154,
          344,
          562,
          656,
          578,
          552,
          757,
          699,
          486,
          517,
          689,
          740,
          1089,
          517,
          616,
          715,
          574,
          647,
          830,
          700,
          613,
          522,
          709,
          730,
          916,
          556,
          585,
          469,
          506,
          619,
          752,
          789,
          697,
          608,
          666,
          700,
          798,
          521,
          507,
          696,
          675,
          1107,
          394,
          379,
          491,
          349,
          523,
          520,
          742,
          484,
          513,
          519,
          457,
          543,
          484,
          374,
          379,
          348,
          493,
          457,
          325,
          172,
          151,
          259,
          418,
          367,
          396,
          362,
          291,
          286,
          424,
          333,
          552,
          313,
          322,
          257,
          238,
          256,
          259,
          178,
          379,
          256,
          230,
          222,
          392,
          316,
          224,
          231,
          118,
          254,
          228,
          188,
          204,
          370
         ],
         "yaxis": "y"
        },
        {
         "hovertemplate": "variable=Label<br>Date=%{x}<br>value=%{y}<extra></extra>",
         "legendgroup": "Label",
         "line": {
          "color": "#EF553B",
          "dash": "solid"
         },
         "marker": {
          "symbol": "circle"
         },
         "mode": "lines",
         "name": "Label",
         "orientation": "v",
         "showlegend": true,
         "type": "scatter",
         "x": [
          "2006-01-01T00:00:00",
          "2006-02-01T00:00:00",
          "2006-03-01T00:00:00",
          "2006-04-01T00:00:00",
          "2006-05-01T00:00:00",
          "2006-06-01T00:00:00",
          "2006-07-01T00:00:00",
          "2006-08-01T00:00:00",
          "2006-09-01T00:00:00",
          "2006-10-01T00:00:00",
          "2006-11-01T00:00:00",
          "2006-12-01T00:00:00",
          "2007-01-01T00:00:00",
          "2007-02-01T00:00:00",
          "2007-03-01T00:00:00",
          "2007-04-01T00:00:00",
          "2007-05-01T00:00:00",
          "2007-06-01T00:00:00",
          "2007-07-01T00:00:00",
          "2007-08-01T00:00:00",
          "2007-09-01T00:00:00",
          "2007-10-01T00:00:00",
          "2007-11-01T00:00:00",
          "2007-12-01T00:00:00",
          "2008-01-01T00:00:00",
          "2008-02-01T00:00:00",
          "2008-03-01T00:00:00",
          "2008-04-01T00:00:00",
          "2008-05-01T00:00:00",
          "2008-06-01T00:00:00",
          "2008-07-01T00:00:00",
          "2008-08-01T00:00:00",
          "2008-09-01T00:00:00",
          "2008-10-01T00:00:00",
          "2008-11-01T00:00:00",
          "2008-12-01T00:00:00",
          "2009-01-01T00:00:00",
          "2009-02-01T00:00:00",
          "2009-03-01T00:00:00",
          "2009-04-01T00:00:00",
          "2009-05-01T00:00:00",
          "2009-06-01T00:00:00",
          "2009-07-01T00:00:00",
          "2009-08-01T00:00:00",
          "2009-09-01T00:00:00",
          "2009-10-01T00:00:00",
          "2009-11-01T00:00:00",
          "2009-12-01T00:00:00",
          "2010-01-01T00:00:00",
          "2010-02-01T00:00:00",
          "2010-03-01T00:00:00",
          "2010-04-01T00:00:00",
          "2010-05-01T00:00:00",
          "2010-06-01T00:00:00",
          "2010-07-01T00:00:00",
          "2010-08-01T00:00:00",
          "2010-09-01T00:00:00",
          "2010-10-01T00:00:00",
          "2010-11-01T00:00:00",
          "2010-12-01T00:00:00",
          "2011-01-01T00:00:00",
          "2011-02-01T00:00:00",
          "2011-03-01T00:00:00",
          "2011-04-01T00:00:00",
          "2011-05-01T00:00:00",
          "2011-06-01T00:00:00",
          "2011-07-01T00:00:00",
          "2011-08-01T00:00:00",
          "2011-09-01T00:00:00",
          "2011-10-01T00:00:00",
          "2011-11-01T00:00:00",
          "2011-12-01T00:00:00",
          "2012-01-01T00:00:00",
          "2012-02-01T00:00:00",
          "2012-03-01T00:00:00",
          "2012-04-01T00:00:00",
          "2012-05-01T00:00:00",
          "2012-06-01T00:00:00",
          "2012-07-01T00:00:00",
          "2012-08-01T00:00:00",
          "2012-09-01T00:00:00",
          "2012-10-01T00:00:00",
          "2012-11-01T00:00:00",
          "2012-12-01T00:00:00",
          "2013-01-01T00:00:00",
          "2013-02-01T00:00:00",
          "2013-03-01T00:00:00",
          "2013-04-01T00:00:00",
          "2013-05-01T00:00:00",
          "2013-06-01T00:00:00",
          "2013-07-01T00:00:00",
          "2013-08-01T00:00:00",
          "2013-09-01T00:00:00",
          "2013-10-01T00:00:00",
          "2013-11-01T00:00:00",
          "2013-12-01T00:00:00",
          "2014-01-01T00:00:00",
          "2014-02-01T00:00:00",
          "2014-03-01T00:00:00",
          "2014-04-01T00:00:00",
          "2014-05-01T00:00:00",
          "2014-06-01T00:00:00",
          "2014-07-01T00:00:00",
          "2014-08-01T00:00:00",
          "2014-09-01T00:00:00",
          "2014-10-01T00:00:00",
          "2014-11-01T00:00:00",
          "2014-12-01T00:00:00",
          "2015-01-01T00:00:00",
          "2015-02-01T00:00:00",
          "2015-03-01T00:00:00",
          "2015-04-01T00:00:00",
          "2015-05-01T00:00:00",
          "2015-06-01T00:00:00",
          "2015-07-01T00:00:00",
          "2015-08-01T00:00:00",
          "2015-09-01T00:00:00",
          "2015-10-01T00:00:00",
          "2015-11-01T00:00:00",
          "2015-12-01T00:00:00",
          "2016-01-01T00:00:00",
          "2016-02-01T00:00:00",
          "2016-03-01T00:00:00",
          "2016-04-01T00:00:00",
          "2016-05-01T00:00:00",
          "2016-06-01T00:00:00",
          "2016-07-01T00:00:00",
          "2016-08-01T00:00:00",
          "2016-09-01T00:00:00",
          "2016-10-01T00:00:00",
          "2016-11-01T00:00:00",
          "2016-12-01T00:00:00",
          "2017-01-01T00:00:00",
          "2017-02-01T00:00:00",
          "2017-03-01T00:00:00",
          "2017-04-01T00:00:00",
          "2017-05-01T00:00:00",
          "2017-06-01T00:00:00",
          "2017-07-01T00:00:00",
          "2017-08-01T00:00:00",
          "2017-09-01T00:00:00",
          "2017-10-01T00:00:00",
          "2017-11-01T00:00:00",
          "2017-12-01T00:00:00",
          "2018-01-01T00:00:00",
          "2018-02-01T00:00:00",
          "2018-03-01T00:00:00",
          "2018-04-01T00:00:00",
          "2018-05-01T00:00:00",
          "2018-06-01T00:00:00",
          "2018-07-01T00:00:00",
          "2018-08-01T00:00:00",
          "2018-09-01T00:00:00",
          "2018-10-01T00:00:00",
          "2018-11-01T00:00:00",
          "2018-12-01T00:00:00",
          "2019-01-01T00:00:00",
          "2019-02-01T00:00:00",
          "2019-03-01T00:00:00",
          "2019-04-01T00:00:00",
          "2019-05-01T00:00:00",
          "2019-06-01T00:00:00",
          "2019-07-01T00:00:00",
          "2019-08-01T00:00:00",
          "2019-09-01T00:00:00",
          "2019-10-01T00:00:00",
          "2019-11-01T00:00:00",
          "2019-12-01T00:00:00",
          "2020-01-01T00:00:00",
          "2020-02-01T00:00:00",
          "2020-03-01T00:00:00",
          "2020-04-01T00:00:00",
          "2020-05-01T00:00:00",
          "2020-06-01T00:00:00",
          "2020-07-01T00:00:00",
          "2020-08-01T00:00:00",
          "2020-09-01T00:00:00",
          "2020-10-01T00:00:00",
          "2020-11-01T00:00:00",
          "2020-12-01T00:00:00",
          "2021-01-01T00:00:00",
          "2021-02-01T00:00:00",
          "2021-03-01T00:00:00",
          "2021-04-01T00:00:00",
          "2021-05-01T00:00:00",
          "2021-06-01T00:00:00",
          "2021-07-01T00:00:00",
          "2021-08-01T00:00:00",
          "2021-09-01T00:00:00",
          "2021-10-01T00:00:00",
          "2021-11-01T00:00:00",
          "2021-12-01T00:00:00",
          "2022-01-01T00:00:00",
          "2022-02-01T00:00:00",
          "2022-03-01T00:00:00",
          "2022-04-01T00:00:00",
          "2022-05-01T00:00:00",
          "2022-06-01T00:00:00",
          "2022-07-01T00:00:00",
          "2022-08-01T00:00:00",
          "2022-09-01T00:00:00",
          "2022-10-01T00:00:00",
          "2022-11-01T00:00:00",
          "2022-12-01T00:00:00"
         ],
         "xaxis": "x",
         "y": [
          1033.6363636363637,
          955.8961038961039,
          1040.9354838709678,
          960.4871794871794,
          1033.6363636363637,
          1033.6363636363637,
          678.9,
          720.625,
          942.8295454545455,
          777.5140186915888,
          624.1938775510204,
          536.825,
          960.4871794871794,
          656.3333333333334,
          693.5333333333333,
          751.2235294117647,
          783.1,
          751.2235294117647,
          662.0344827586207,
          678.9,
          649.0384615384615,
          672.6,
          282.06666666666666,
          282.06666666666666,
          864.6590909090909,
          681.4285714285714,
          690.7,
          753.5833333333334,
          783.1,
          690.7,
          644.4444444444445,
          614.8591549295775,
          641.0566037735849,
          648.3333333333334,
          407.29411764705884,
          282.06666666666666,
          626.9166666666666,
          445.06382978723406,
          777.5140186915888,
          453.625,
          438.16129032258067,
          475.02222222222224,
          387.7307692307692,
          379.5,
          435.6521739130435,
          435.6521739130435,
          387.7307692307692,
          303.8125,
          816.8350515463917,
          527.25,
          625.5909090909091,
          662.0344827586207,
          690.7,
          790.4770642201835,
          527.25,
          635.1818181818181,
          642.5068493150685,
          635.1818181818181,
          579.3333333333334,
          466.1363636363636,
          860.1,
          624.1938775510204,
          799.5714285714286,
          700.5090909090909,
          860.1,
          662.0344827586207,
          573.0576923076923,
          651.25,
          656.3333333333334,
          656.3333333333334,
          614.8591549295775,
          505.3921568627451,
          990.3666666666667,
          642.5068493150685,
          1089.918918918919,
          420.3333333333333,
          525.7037037037037,
          527.5,
          512.1914893617021,
          527.25,
          587.2,
          573.0576923076923,
          536.825,
          512.1914893617021,
          627.484375,
          539.84,
          623.4415584415584,
          624.1938775510204,
          642.5068493150685,
          612.3333333333334,
          543.4383561643835,
          543.4383561643835,
          614.8591549295775,
          642.5068493150685,
          539.84,
          522.5909090909091,
          633.5909090909091,
          623.4415584415584,
          695.3888888888889,
          656.3333333333334,
          662.0344827586207,
          641.0566037735849,
          579.3333333333334,
          543.4383561643835,
          623.4415584415584,
          642.5068493150685,
          515.5,
          515.5,
          668.6818181818181,
          571.3913043478261,
          973.9545454545455,
          500.962962962963,
          640.2105263157895,
          641.0566037735849,
          527.25,
          527.25,
          623.4415584415584,
          641.0566037735849,
          614.8591549295775,
          527.25,
          802.2631578947369,
          651.25,
          959.2368421052631,
          702.0238095238095,
          690.6,
          751.2235294117647,
          525.7037037037037,
          611.78125,
          651.25,
          624.1938775510204,
          641.0566037735849,
          640.2105263157895,
          805.7045454545455,
          642.5068493150685,
          760.2264150943396,
          642.5068493150685,
          642.5068493150685,
          642.5068493150685,
          634.75,
          651.7647058823529,
          641.0566037735849,
          625.5909090909091,
          651.25,
          633,
          751.2235294117647,
          640.2105263157895,
          734.6891891891892,
          656.3333333333334,
          640.734375,
          690.7,
          635.1818181818181,
          924.7586206896551,
          505.3921568627451,
          539.84,
          624.1938775510204,
          466.1363636363636,
          693.5333333333333,
          527.25,
          640.2105263157895,
          641.015625,
          651.7647058823529,
          641.0566037735849,
          525.35,
          641.0566037735849,
          475.02222222222224,
          525.35,
          505.4594594594595,
          485.0769230769231,
          627.484375,
          475.02222222222224,
          543.4383561643835,
          428.6666666666667,
          373.6111111111111,
          485.0769230769231,
          543.4383561643835,
          539.84,
          527.25,
          503,
          503,
          528.08,
          612.3333333333334,
          507.24,
          702.0238095238095,
          543.4383561643835,
          635.1818181818181,
          635.1818181818181,
          523.1428571428571,
          522.5909090909091,
          523.1428571428571,
          515.5,
          515.5,
          505.3921568627451,
          523.1428571428571,
          481.54285714285714,
          527.5,
          466.1363636363636,
          527.25,
          505.3921568627451,
          474.6666666666667,
          515.5,
          466.1363636363636,
          449.1794871794872,
          449.1794871794872,
          461.13793103448273
         ],
         "yaxis": "y"
        }
       ],
       "layout": {
        "legend": {
         "title": {
          "text": "variable"
         },
         "tracegroupgap": 0
        },
        "margin": {
         "t": 60
        },
        "shapes": [
         {
          "fillcolor": "grey",
          "line": {
           "width": 0
          },
          "opacity": 0.25,
          "type": "rect",
          "x0": "2020-01-01T00:00:00",
          "x1": "2022-12-01T00:00:00",
          "xref": "x",
          "y0": 0,
          "y1": 1,
          "yref": "y domain"
         }
        ],
        "template": {
         "data": {
          "bar": [
           {
            "error_x": {
             "color": "#2a3f5f"
            },
            "error_y": {
             "color": "#2a3f5f"
            },
            "marker": {
             "line": {
              "color": "#E5ECF6",
              "width": 0.5
             },
             "pattern": {
              "fillmode": "overlay",
              "size": 10,
              "solidity": 0.2
             }
            },
            "type": "bar"
           }
          ],
          "barpolar": [
           {
            "marker": {
             "line": {
              "color": "#E5ECF6",
              "width": 0.5
             },
             "pattern": {
              "fillmode": "overlay",
              "size": 10,
              "solidity": 0.2
             }
            },
            "type": "barpolar"
           }
          ],
          "carpet": [
           {
            "aaxis": {
             "endlinecolor": "#2a3f5f",
             "gridcolor": "white",
             "linecolor": "white",
             "minorgridcolor": "white",
             "startlinecolor": "#2a3f5f"
            },
            "baxis": {
             "endlinecolor": "#2a3f5f",
             "gridcolor": "white",
             "linecolor": "white",
             "minorgridcolor": "white",
             "startlinecolor": "#2a3f5f"
            },
            "type": "carpet"
           }
          ],
          "choropleth": [
           {
            "colorbar": {
             "outlinewidth": 0,
             "ticks": ""
            },
            "type": "choropleth"
           }
          ],
          "contour": [
           {
            "colorbar": {
             "outlinewidth": 0,
             "ticks": ""
            },
            "colorscale": [
             [
              0,
              "#0d0887"
             ],
             [
              0.1111111111111111,
              "#46039f"
             ],
             [
              0.2222222222222222,
              "#7201a8"
             ],
             [
              0.3333333333333333,
              "#9c179e"
             ],
             [
              0.4444444444444444,
              "#bd3786"
             ],
             [
              0.5555555555555556,
              "#d8576b"
             ],
             [
              0.6666666666666666,
              "#ed7953"
             ],
             [
              0.7777777777777778,
              "#fb9f3a"
             ],
             [
              0.8888888888888888,
              "#fdca26"
             ],
             [
              1,
              "#f0f921"
             ]
            ],
            "type": "contour"
           }
          ],
          "contourcarpet": [
           {
            "colorbar": {
             "outlinewidth": 0,
             "ticks": ""
            },
            "type": "contourcarpet"
           }
          ],
          "heatmap": [
           {
            "colorbar": {
             "outlinewidth": 0,
             "ticks": ""
            },
            "colorscale": [
             [
              0,
              "#0d0887"
             ],
             [
              0.1111111111111111,
              "#46039f"
             ],
             [
              0.2222222222222222,
              "#7201a8"
             ],
             [
              0.3333333333333333,
              "#9c179e"
             ],
             [
              0.4444444444444444,
              "#bd3786"
             ],
             [
              0.5555555555555556,
              "#d8576b"
             ],
             [
              0.6666666666666666,
              "#ed7953"
             ],
             [
              0.7777777777777778,
              "#fb9f3a"
             ],
             [
              0.8888888888888888,
              "#fdca26"
             ],
             [
              1,
              "#f0f921"
             ]
            ],
            "type": "heatmap"
           }
          ],
          "heatmapgl": [
           {
            "colorbar": {
             "outlinewidth": 0,
             "ticks": ""
            },
            "colorscale": [
             [
              0,
              "#0d0887"
             ],
             [
              0.1111111111111111,
              "#46039f"
             ],
             [
              0.2222222222222222,
              "#7201a8"
             ],
             [
              0.3333333333333333,
              "#9c179e"
             ],
             [
              0.4444444444444444,
              "#bd3786"
             ],
             [
              0.5555555555555556,
              "#d8576b"
             ],
             [
              0.6666666666666666,
              "#ed7953"
             ],
             [
              0.7777777777777778,
              "#fb9f3a"
             ],
             [
              0.8888888888888888,
              "#fdca26"
             ],
             [
              1,
              "#f0f921"
             ]
            ],
            "type": "heatmapgl"
           }
          ],
          "histogram": [
           {
            "marker": {
             "pattern": {
              "fillmode": "overlay",
              "size": 10,
              "solidity": 0.2
             }
            },
            "type": "histogram"
           }
          ],
          "histogram2d": [
           {
            "colorbar": {
             "outlinewidth": 0,
             "ticks": ""
            },
            "colorscale": [
             [
              0,
              "#0d0887"
             ],
             [
              0.1111111111111111,
              "#46039f"
             ],
             [
              0.2222222222222222,
              "#7201a8"
             ],
             [
              0.3333333333333333,
              "#9c179e"
             ],
             [
              0.4444444444444444,
              "#bd3786"
             ],
             [
              0.5555555555555556,
              "#d8576b"
             ],
             [
              0.6666666666666666,
              "#ed7953"
             ],
             [
              0.7777777777777778,
              "#fb9f3a"
             ],
             [
              0.8888888888888888,
              "#fdca26"
             ],
             [
              1,
              "#f0f921"
             ]
            ],
            "type": "histogram2d"
           }
          ],
          "histogram2dcontour": [
           {
            "colorbar": {
             "outlinewidth": 0,
             "ticks": ""
            },
            "colorscale": [
             [
              0,
              "#0d0887"
             ],
             [
              0.1111111111111111,
              "#46039f"
             ],
             [
              0.2222222222222222,
              "#7201a8"
             ],
             [
              0.3333333333333333,
              "#9c179e"
             ],
             [
              0.4444444444444444,
              "#bd3786"
             ],
             [
              0.5555555555555556,
              "#d8576b"
             ],
             [
              0.6666666666666666,
              "#ed7953"
             ],
             [
              0.7777777777777778,
              "#fb9f3a"
             ],
             [
              0.8888888888888888,
              "#fdca26"
             ],
             [
              1,
              "#f0f921"
             ]
            ],
            "type": "histogram2dcontour"
           }
          ],
          "mesh3d": [
           {
            "colorbar": {
             "outlinewidth": 0,
             "ticks": ""
            },
            "type": "mesh3d"
           }
          ],
          "parcoords": [
           {
            "line": {
             "colorbar": {
              "outlinewidth": 0,
              "ticks": ""
             }
            },
            "type": "parcoords"
           }
          ],
          "pie": [
           {
            "automargin": true,
            "type": "pie"
           }
          ],
          "scatter": [
           {
            "fillpattern": {
             "fillmode": "overlay",
             "size": 10,
             "solidity": 0.2
            },
            "type": "scatter"
           }
          ],
          "scatter3d": [
           {
            "line": {
             "colorbar": {
              "outlinewidth": 0,
              "ticks": ""
             }
            },
            "marker": {
             "colorbar": {
              "outlinewidth": 0,
              "ticks": ""
             }
            },
            "type": "scatter3d"
           }
          ],
          "scattercarpet": [
           {
            "marker": {
             "colorbar": {
              "outlinewidth": 0,
              "ticks": ""
             }
            },
            "type": "scattercarpet"
           }
          ],
          "scattergeo": [
           {
            "marker": {
             "colorbar": {
              "outlinewidth": 0,
              "ticks": ""
             }
            },
            "type": "scattergeo"
           }
          ],
          "scattergl": [
           {
            "marker": {
             "colorbar": {
              "outlinewidth": 0,
              "ticks": ""
             }
            },
            "type": "scattergl"
           }
          ],
          "scattermapbox": [
           {
            "marker": {
             "colorbar": {
              "outlinewidth": 0,
              "ticks": ""
             }
            },
            "type": "scattermapbox"
           }
          ],
          "scatterpolar": [
           {
            "marker": {
             "colorbar": {
              "outlinewidth": 0,
              "ticks": ""
             }
            },
            "type": "scatterpolar"
           }
          ],
          "scatterpolargl": [
           {
            "marker": {
             "colorbar": {
              "outlinewidth": 0,
              "ticks": ""
             }
            },
            "type": "scatterpolargl"
           }
          ],
          "scatterternary": [
           {
            "marker": {
             "colorbar": {
              "outlinewidth": 0,
              "ticks": ""
             }
            },
            "type": "scatterternary"
           }
          ],
          "surface": [
           {
            "colorbar": {
             "outlinewidth": 0,
             "ticks": ""
            },
            "colorscale": [
             [
              0,
              "#0d0887"
             ],
             [
              0.1111111111111111,
              "#46039f"
             ],
             [
              0.2222222222222222,
              "#7201a8"
             ],
             [
              0.3333333333333333,
              "#9c179e"
             ],
             [
              0.4444444444444444,
              "#bd3786"
             ],
             [
              0.5555555555555556,
              "#d8576b"
             ],
             [
              0.6666666666666666,
              "#ed7953"
             ],
             [
              0.7777777777777778,
              "#fb9f3a"
             ],
             [
              0.8888888888888888,
              "#fdca26"
             ],
             [
              1,
              "#f0f921"
             ]
            ],
            "type": "surface"
           }
          ],
          "table": [
           {
            "cells": {
             "fill": {
              "color": "#EBF0F8"
             },
             "line": {
              "color": "white"
             }
            },
            "header": {
             "fill": {
              "color": "#C8D4E3"
             },
             "line": {
              "color": "white"
             }
            },
            "type": "table"
           }
          ]
         },
         "layout": {
          "annotationdefaults": {
           "arrowcolor": "#2a3f5f",
           "arrowhead": 0,
           "arrowwidth": 1
          },
          "autotypenumbers": "strict",
          "coloraxis": {
           "colorbar": {
            "outlinewidth": 0,
            "ticks": ""
           }
          },
          "colorscale": {
           "diverging": [
            [
             0,
             "#8e0152"
            ],
            [
             0.1,
             "#c51b7d"
            ],
            [
             0.2,
             "#de77ae"
            ],
            [
             0.3,
             "#f1b6da"
            ],
            [
             0.4,
             "#fde0ef"
            ],
            [
             0.5,
             "#f7f7f7"
            ],
            [
             0.6,
             "#e6f5d0"
            ],
            [
             0.7,
             "#b8e186"
            ],
            [
             0.8,
             "#7fbc41"
            ],
            [
             0.9,
             "#4d9221"
            ],
            [
             1,
             "#276419"
            ]
           ],
           "sequential": [
            [
             0,
             "#0d0887"
            ],
            [
             0.1111111111111111,
             "#46039f"
            ],
            [
             0.2222222222222222,
             "#7201a8"
            ],
            [
             0.3333333333333333,
             "#9c179e"
            ],
            [
             0.4444444444444444,
             "#bd3786"
            ],
            [
             0.5555555555555556,
             "#d8576b"
            ],
            [
             0.6666666666666666,
             "#ed7953"
            ],
            [
             0.7777777777777778,
             "#fb9f3a"
            ],
            [
             0.8888888888888888,
             "#fdca26"
            ],
            [
             1,
             "#f0f921"
            ]
           ],
           "sequentialminus": [
            [
             0,
             "#0d0887"
            ],
            [
             0.1111111111111111,
             "#46039f"
            ],
            [
             0.2222222222222222,
             "#7201a8"
            ],
            [
             0.3333333333333333,
             "#9c179e"
            ],
            [
             0.4444444444444444,
             "#bd3786"
            ],
            [
             0.5555555555555556,
             "#d8576b"
            ],
            [
             0.6666666666666666,
             "#ed7953"
            ],
            [
             0.7777777777777778,
             "#fb9f3a"
            ],
            [
             0.8888888888888888,
             "#fdca26"
            ],
            [
             1,
             "#f0f921"
            ]
           ]
          },
          "colorway": [
           "#636efa",
           "#EF553B",
           "#00cc96",
           "#ab63fa",
           "#FFA15A",
           "#19d3f3",
           "#FF6692",
           "#B6E880",
           "#FF97FF",
           "#FECB52"
          ],
          "font": {
           "color": "#2a3f5f"
          },
          "geo": {
           "bgcolor": "white",
           "lakecolor": "white",
           "landcolor": "#E5ECF6",
           "showlakes": true,
           "showland": true,
           "subunitcolor": "white"
          },
          "hoverlabel": {
           "align": "left"
          },
          "hovermode": "closest",
          "mapbox": {
           "style": "light"
          },
          "paper_bgcolor": "white",
          "plot_bgcolor": "#E5ECF6",
          "polar": {
           "angularaxis": {
            "gridcolor": "white",
            "linecolor": "white",
            "ticks": ""
           },
           "bgcolor": "#E5ECF6",
           "radialaxis": {
            "gridcolor": "white",
            "linecolor": "white",
            "ticks": ""
           }
          },
          "scene": {
           "xaxis": {
            "backgroundcolor": "#E5ECF6",
            "gridcolor": "white",
            "gridwidth": 2,
            "linecolor": "white",
            "showbackground": true,
            "ticks": "",
            "zerolinecolor": "white"
           },
           "yaxis": {
            "backgroundcolor": "#E5ECF6",
            "gridcolor": "white",
            "gridwidth": 2,
            "linecolor": "white",
            "showbackground": true,
            "ticks": "",
            "zerolinecolor": "white"
           },
           "zaxis": {
            "backgroundcolor": "#E5ECF6",
            "gridcolor": "white",
            "gridwidth": 2,
            "linecolor": "white",
            "showbackground": true,
            "ticks": "",
            "zerolinecolor": "white"
           }
          },
          "shapedefaults": {
           "line": {
            "color": "#2a3f5f"
           }
          },
          "ternary": {
           "aaxis": {
            "gridcolor": "white",
            "linecolor": "white",
            "ticks": ""
           },
           "baxis": {
            "gridcolor": "white",
            "linecolor": "white",
            "ticks": ""
           },
           "bgcolor": "#E5ECF6",
           "caxis": {
            "gridcolor": "white",
            "linecolor": "white",
            "ticks": ""
           }
          },
          "title": {
           "x": 0.05
          },
          "xaxis": {
           "automargin": true,
           "gridcolor": "white",
           "linecolor": "white",
           "ticks": "",
           "title": {
            "standoff": 15
           },
           "zerolinecolor": "white",
           "zerolinewidth": 2
          },
          "yaxis": {
           "automargin": true,
           "gridcolor": "white",
           "linecolor": "white",
           "ticks": "",
           "title": {
            "standoff": 15
           },
           "zerolinecolor": "white",
           "zerolinewidth": 2
          }
         }
        },
        "xaxis": {
         "anchor": "y",
         "domain": [
          0,
          1
         ],
         "title": {
          "text": "Date"
         }
        },
        "yaxis": {
         "anchor": "x",
         "domain": [
          0,
          1
         ],
         "title": {
          "text": "value"
         }
        }
       }
      }
     },
     "metadata": {},
     "output_type": "display_data"
    }
   ],
   "source": [
    "import plotly.express as px\n",
    "# Generate predictions on the original dataset\n",
    "predictions = predict_model(model, data=df)\n",
    "\n",
    "# Add a date column in the dataset\n",
    "predictions['Date'] = pd.date_range(start=start, end = end, freq = 'MS')\n",
    "\n",
    "# Line plot\n",
    "fig = px.line(predictions, x='Date', y=[dep_var, \"Label\"]) #, template = 'plotly_dark')\n",
    "\n",
    "# Add a vertical rectange for test-set separation\n",
    "fig.add_vrect(x0=start_test, x1=predictions.Date.max(), fillcolor=\"grey\", opacity=0.25, line_width=0)\n",
    "fig.show()"
   ]
  },
  {
   "attachments": {},
   "cell_type": "markdown",
   "metadata": {},
   "source": [
    "##### Tuned model"
   ]
  },
  {
   "cell_type": "code",
   "execution_count": 46,
   "metadata": {},
   "outputs": [
    {
     "data": {
      "text/html": [
       "<style type=\"text/css\">\n",
       "</style>\n",
       "<table id=\"T_2ea6f\">\n",
       "  <thead>\n",
       "    <tr>\n",
       "      <th class=\"blank level0\" >&nbsp;</th>\n",
       "      <th id=\"T_2ea6f_level0_col0\" class=\"col_heading level0 col0\" >Model</th>\n",
       "      <th id=\"T_2ea6f_level0_col1\" class=\"col_heading level0 col1\" >MAE</th>\n",
       "      <th id=\"T_2ea6f_level0_col2\" class=\"col_heading level0 col2\" >MSE</th>\n",
       "      <th id=\"T_2ea6f_level0_col3\" class=\"col_heading level0 col3\" >RMSE</th>\n",
       "      <th id=\"T_2ea6f_level0_col4\" class=\"col_heading level0 col4\" >R2</th>\n",
       "      <th id=\"T_2ea6f_level0_col5\" class=\"col_heading level0 col5\" >RMSLE</th>\n",
       "      <th id=\"T_2ea6f_level0_col6\" class=\"col_heading level0 col6\" >MAPE</th>\n",
       "    </tr>\n",
       "  </thead>\n",
       "  <tbody>\n",
       "    <tr>\n",
       "      <th id=\"T_2ea6f_level0_row0\" class=\"row_heading level0 row0\" >0</th>\n",
       "      <td id=\"T_2ea6f_row0_col0\" class=\"data row0 col0\" >AdaBoost Regressor</td>\n",
       "      <td id=\"T_2ea6f_row0_col1\" class=\"data row0 col1\" >111.5356</td>\n",
       "      <td id=\"T_2ea6f_row0_col2\" class=\"data row0 col2\" >18575.1396</td>\n",
       "      <td id=\"T_2ea6f_row0_col3\" class=\"data row0 col3\" >136.2906</td>\n",
       "      <td id=\"T_2ea6f_row0_col4\" class=\"data row0 col4\" >0.6499</td>\n",
       "      <td id=\"T_2ea6f_row0_col5\" class=\"data row0 col5\" >0.3310</td>\n",
       "      <td id=\"T_2ea6f_row0_col6\" class=\"data row0 col6\" >0.2993</td>\n",
       "    </tr>\n",
       "  </tbody>\n",
       "</table>\n"
      ],
      "text/plain": [
       "<pandas.io.formats.style.Styler at 0x20bb8688910>"
      ]
     },
     "metadata": {},
     "output_type": "display_data"
    },
    {
     "data": {
      "application/vnd.plotly.v1+json": {
       "config": {
        "plotlyServerURL": "https://plot.ly"
       },
       "data": [
        {
         "hovertemplate": "variable=Orders<br>Date=%{x}<br>value=%{y}<extra></extra>",
         "legendgroup": "Orders",
         "line": {
          "color": "#636efa",
          "dash": "solid"
         },
         "marker": {
          "symbol": "circle"
         },
         "mode": "lines",
         "name": "Orders",
         "orientation": "v",
         "showlegend": true,
         "type": "scatter",
         "x": [
          "2006-01-01T00:00:00",
          "2006-02-01T00:00:00",
          "2006-03-01T00:00:00",
          "2006-04-01T00:00:00",
          "2006-05-01T00:00:00",
          "2006-06-01T00:00:00",
          "2006-07-01T00:00:00",
          "2006-08-01T00:00:00",
          "2006-09-01T00:00:00",
          "2006-10-01T00:00:00",
          "2006-11-01T00:00:00",
          "2006-12-01T00:00:00",
          "2007-01-01T00:00:00",
          "2007-02-01T00:00:00",
          "2007-03-01T00:00:00",
          "2007-04-01T00:00:00",
          "2007-05-01T00:00:00",
          "2007-06-01T00:00:00",
          "2007-07-01T00:00:00",
          "2007-08-01T00:00:00",
          "2007-09-01T00:00:00",
          "2007-10-01T00:00:00",
          "2007-11-01T00:00:00",
          "2007-12-01T00:00:00",
          "2008-01-01T00:00:00",
          "2008-02-01T00:00:00",
          "2008-03-01T00:00:00",
          "2008-04-01T00:00:00",
          "2008-05-01T00:00:00",
          "2008-06-01T00:00:00",
          "2008-07-01T00:00:00",
          "2008-08-01T00:00:00",
          "2008-09-01T00:00:00",
          "2008-10-01T00:00:00",
          "2008-11-01T00:00:00",
          "2008-12-01T00:00:00",
          "2009-01-01T00:00:00",
          "2009-02-01T00:00:00",
          "2009-03-01T00:00:00",
          "2009-04-01T00:00:00",
          "2009-05-01T00:00:00",
          "2009-06-01T00:00:00",
          "2009-07-01T00:00:00",
          "2009-08-01T00:00:00",
          "2009-09-01T00:00:00",
          "2009-10-01T00:00:00",
          "2009-11-01T00:00:00",
          "2009-12-01T00:00:00",
          "2010-01-01T00:00:00",
          "2010-02-01T00:00:00",
          "2010-03-01T00:00:00",
          "2010-04-01T00:00:00",
          "2010-05-01T00:00:00",
          "2010-06-01T00:00:00",
          "2010-07-01T00:00:00",
          "2010-08-01T00:00:00",
          "2010-09-01T00:00:00",
          "2010-10-01T00:00:00",
          "2010-11-01T00:00:00",
          "2010-12-01T00:00:00",
          "2011-01-01T00:00:00",
          "2011-02-01T00:00:00",
          "2011-03-01T00:00:00",
          "2011-04-01T00:00:00",
          "2011-05-01T00:00:00",
          "2011-06-01T00:00:00",
          "2011-07-01T00:00:00",
          "2011-08-01T00:00:00",
          "2011-09-01T00:00:00",
          "2011-10-01T00:00:00",
          "2011-11-01T00:00:00",
          "2011-12-01T00:00:00",
          "2012-01-01T00:00:00",
          "2012-02-01T00:00:00",
          "2012-03-01T00:00:00",
          "2012-04-01T00:00:00",
          "2012-05-01T00:00:00",
          "2012-06-01T00:00:00",
          "2012-07-01T00:00:00",
          "2012-08-01T00:00:00",
          "2012-09-01T00:00:00",
          "2012-10-01T00:00:00",
          "2012-11-01T00:00:00",
          "2012-12-01T00:00:00",
          "2013-01-01T00:00:00",
          "2013-02-01T00:00:00",
          "2013-03-01T00:00:00",
          "2013-04-01T00:00:00",
          "2013-05-01T00:00:00",
          "2013-06-01T00:00:00",
          "2013-07-01T00:00:00",
          "2013-08-01T00:00:00",
          "2013-09-01T00:00:00",
          "2013-10-01T00:00:00",
          "2013-11-01T00:00:00",
          "2013-12-01T00:00:00",
          "2014-01-01T00:00:00",
          "2014-02-01T00:00:00",
          "2014-03-01T00:00:00",
          "2014-04-01T00:00:00",
          "2014-05-01T00:00:00",
          "2014-06-01T00:00:00",
          "2014-07-01T00:00:00",
          "2014-08-01T00:00:00",
          "2014-09-01T00:00:00",
          "2014-10-01T00:00:00",
          "2014-11-01T00:00:00",
          "2014-12-01T00:00:00",
          "2015-01-01T00:00:00",
          "2015-02-01T00:00:00",
          "2015-03-01T00:00:00",
          "2015-04-01T00:00:00",
          "2015-05-01T00:00:00",
          "2015-06-01T00:00:00",
          "2015-07-01T00:00:00",
          "2015-08-01T00:00:00",
          "2015-09-01T00:00:00",
          "2015-10-01T00:00:00",
          "2015-11-01T00:00:00",
          "2015-12-01T00:00:00",
          "2016-01-01T00:00:00",
          "2016-02-01T00:00:00",
          "2016-03-01T00:00:00",
          "2016-04-01T00:00:00",
          "2016-05-01T00:00:00",
          "2016-06-01T00:00:00",
          "2016-07-01T00:00:00",
          "2016-08-01T00:00:00",
          "2016-09-01T00:00:00",
          "2016-10-01T00:00:00",
          "2016-11-01T00:00:00",
          "2016-12-01T00:00:00",
          "2017-01-01T00:00:00",
          "2017-02-01T00:00:00",
          "2017-03-01T00:00:00",
          "2017-04-01T00:00:00",
          "2017-05-01T00:00:00",
          "2017-06-01T00:00:00",
          "2017-07-01T00:00:00",
          "2017-08-01T00:00:00",
          "2017-09-01T00:00:00",
          "2017-10-01T00:00:00",
          "2017-11-01T00:00:00",
          "2017-12-01T00:00:00",
          "2018-01-01T00:00:00",
          "2018-02-01T00:00:00",
          "2018-03-01T00:00:00",
          "2018-04-01T00:00:00",
          "2018-05-01T00:00:00",
          "2018-06-01T00:00:00",
          "2018-07-01T00:00:00",
          "2018-08-01T00:00:00",
          "2018-09-01T00:00:00",
          "2018-10-01T00:00:00",
          "2018-11-01T00:00:00",
          "2018-12-01T00:00:00",
          "2019-01-01T00:00:00",
          "2019-02-01T00:00:00",
          "2019-03-01T00:00:00",
          "2019-04-01T00:00:00",
          "2019-05-01T00:00:00",
          "2019-06-01T00:00:00",
          "2019-07-01T00:00:00",
          "2019-08-01T00:00:00",
          "2019-09-01T00:00:00",
          "2019-10-01T00:00:00",
          "2019-11-01T00:00:00",
          "2019-12-01T00:00:00",
          "2020-01-01T00:00:00",
          "2020-02-01T00:00:00",
          "2020-03-01T00:00:00",
          "2020-04-01T00:00:00",
          "2020-05-01T00:00:00",
          "2020-06-01T00:00:00",
          "2020-07-01T00:00:00",
          "2020-08-01T00:00:00",
          "2020-09-01T00:00:00",
          "2020-10-01T00:00:00",
          "2020-11-01T00:00:00",
          "2020-12-01T00:00:00",
          "2021-01-01T00:00:00",
          "2021-02-01T00:00:00",
          "2021-03-01T00:00:00",
          "2021-04-01T00:00:00",
          "2021-05-01T00:00:00",
          "2021-06-01T00:00:00",
          "2021-07-01T00:00:00",
          "2021-08-01T00:00:00",
          "2021-09-01T00:00:00",
          "2021-10-01T00:00:00",
          "2021-11-01T00:00:00",
          "2021-12-01T00:00:00",
          "2022-01-01T00:00:00",
          "2022-02-01T00:00:00",
          "2022-03-01T00:00:00",
          "2022-04-01T00:00:00",
          "2022-05-01T00:00:00",
          "2022-06-01T00:00:00",
          "2022-07-01T00:00:00",
          "2022-08-01T00:00:00",
          "2022-09-01T00:00:00",
          "2022-10-01T00:00:00",
          "2022-11-01T00:00:00",
          "2022-12-01T00:00:00"
         ],
         "xaxis": "x",
         "y": [
          1124,
          1079,
          1210,
          1147,
          1001,
          1087,
          728,
          605,
          1081,
          786,
          689,
          715,
          998,
          638,
          649,
          753,
          856,
          825,
          685,
          755,
          755,
          640,
          130,
          155,
          900,
          609,
          765,
          638,
          799,
          666,
          574,
          443,
          489,
          527,
          235,
          122,
          508,
          311,
          629,
          294,
          306,
          338,
          319,
          367,
          422,
          352,
          274,
          178,
          711,
          519,
          647,
          524,
          608,
          662,
          468,
          532,
          561,
          662,
          503,
          402,
          901,
          671,
          917,
          785,
          764,
          645,
          529,
          690,
          842,
          632,
          570,
          405,
          1021,
          770,
          1268,
          349,
          413,
          473,
          408,
          485,
          765,
          604,
          584,
          519,
          648,
          553,
          728,
          456,
          609,
          465,
          440,
          518,
          559,
          657,
          600,
          481,
          441,
          653,
          928,
          527,
          602,
          587,
          511,
          587,
          612,
          653,
          578,
          650,
          710,
          693,
          1154,
          344,
          562,
          656,
          578,
          552,
          757,
          699,
          486,
          517,
          689,
          740,
          1089,
          517,
          616,
          715,
          574,
          647,
          830,
          700,
          613,
          522,
          709,
          730,
          916,
          556,
          585,
          469,
          506,
          619,
          752,
          789,
          697,
          608,
          666,
          700,
          798,
          521,
          507,
          696,
          675,
          1107,
          394,
          379,
          491,
          349,
          523,
          520,
          742,
          484,
          513,
          519,
          457,
          543,
          484,
          374,
          379,
          348,
          493,
          457,
          325,
          172,
          151,
          259,
          418,
          367,
          396,
          362,
          291,
          286,
          424,
          333,
          552,
          313,
          322,
          257,
          238,
          256,
          259,
          178,
          379,
          256,
          230,
          222,
          392,
          316,
          224,
          231,
          118,
          254,
          228,
          188,
          204,
          370
         ],
         "yaxis": "y"
        },
        {
         "hovertemplate": "variable=Label<br>Date=%{x}<br>value=%{y}<extra></extra>",
         "legendgroup": "Label",
         "line": {
          "color": "#EF553B",
          "dash": "solid"
         },
         "marker": {
          "symbol": "circle"
         },
         "mode": "lines",
         "name": "Label",
         "orientation": "v",
         "showlegend": true,
         "type": "scatter",
         "x": [
          "2006-01-01T00:00:00",
          "2006-02-01T00:00:00",
          "2006-03-01T00:00:00",
          "2006-04-01T00:00:00",
          "2006-05-01T00:00:00",
          "2006-06-01T00:00:00",
          "2006-07-01T00:00:00",
          "2006-08-01T00:00:00",
          "2006-09-01T00:00:00",
          "2006-10-01T00:00:00",
          "2006-11-01T00:00:00",
          "2006-12-01T00:00:00",
          "2007-01-01T00:00:00",
          "2007-02-01T00:00:00",
          "2007-03-01T00:00:00",
          "2007-04-01T00:00:00",
          "2007-05-01T00:00:00",
          "2007-06-01T00:00:00",
          "2007-07-01T00:00:00",
          "2007-08-01T00:00:00",
          "2007-09-01T00:00:00",
          "2007-10-01T00:00:00",
          "2007-11-01T00:00:00",
          "2007-12-01T00:00:00",
          "2008-01-01T00:00:00",
          "2008-02-01T00:00:00",
          "2008-03-01T00:00:00",
          "2008-04-01T00:00:00",
          "2008-05-01T00:00:00",
          "2008-06-01T00:00:00",
          "2008-07-01T00:00:00",
          "2008-08-01T00:00:00",
          "2008-09-01T00:00:00",
          "2008-10-01T00:00:00",
          "2008-11-01T00:00:00",
          "2008-12-01T00:00:00",
          "2009-01-01T00:00:00",
          "2009-02-01T00:00:00",
          "2009-03-01T00:00:00",
          "2009-04-01T00:00:00",
          "2009-05-01T00:00:00",
          "2009-06-01T00:00:00",
          "2009-07-01T00:00:00",
          "2009-08-01T00:00:00",
          "2009-09-01T00:00:00",
          "2009-10-01T00:00:00",
          "2009-11-01T00:00:00",
          "2009-12-01T00:00:00",
          "2010-01-01T00:00:00",
          "2010-02-01T00:00:00",
          "2010-03-01T00:00:00",
          "2010-04-01T00:00:00",
          "2010-05-01T00:00:00",
          "2010-06-01T00:00:00",
          "2010-07-01T00:00:00",
          "2010-08-01T00:00:00",
          "2010-09-01T00:00:00",
          "2010-10-01T00:00:00",
          "2010-11-01T00:00:00",
          "2010-12-01T00:00:00",
          "2011-01-01T00:00:00",
          "2011-02-01T00:00:00",
          "2011-03-01T00:00:00",
          "2011-04-01T00:00:00",
          "2011-05-01T00:00:00",
          "2011-06-01T00:00:00",
          "2011-07-01T00:00:00",
          "2011-08-01T00:00:00",
          "2011-09-01T00:00:00",
          "2011-10-01T00:00:00",
          "2011-11-01T00:00:00",
          "2011-12-01T00:00:00",
          "2012-01-01T00:00:00",
          "2012-02-01T00:00:00",
          "2012-03-01T00:00:00",
          "2012-04-01T00:00:00",
          "2012-05-01T00:00:00",
          "2012-06-01T00:00:00",
          "2012-07-01T00:00:00",
          "2012-08-01T00:00:00",
          "2012-09-01T00:00:00",
          "2012-10-01T00:00:00",
          "2012-11-01T00:00:00",
          "2012-12-01T00:00:00",
          "2013-01-01T00:00:00",
          "2013-02-01T00:00:00",
          "2013-03-01T00:00:00",
          "2013-04-01T00:00:00",
          "2013-05-01T00:00:00",
          "2013-06-01T00:00:00",
          "2013-07-01T00:00:00",
          "2013-08-01T00:00:00",
          "2013-09-01T00:00:00",
          "2013-10-01T00:00:00",
          "2013-11-01T00:00:00",
          "2013-12-01T00:00:00",
          "2014-01-01T00:00:00",
          "2014-02-01T00:00:00",
          "2014-03-01T00:00:00",
          "2014-04-01T00:00:00",
          "2014-05-01T00:00:00",
          "2014-06-01T00:00:00",
          "2014-07-01T00:00:00",
          "2014-08-01T00:00:00",
          "2014-09-01T00:00:00",
          "2014-10-01T00:00:00",
          "2014-11-01T00:00:00",
          "2014-12-01T00:00:00",
          "2015-01-01T00:00:00",
          "2015-02-01T00:00:00",
          "2015-03-01T00:00:00",
          "2015-04-01T00:00:00",
          "2015-05-01T00:00:00",
          "2015-06-01T00:00:00",
          "2015-07-01T00:00:00",
          "2015-08-01T00:00:00",
          "2015-09-01T00:00:00",
          "2015-10-01T00:00:00",
          "2015-11-01T00:00:00",
          "2015-12-01T00:00:00",
          "2016-01-01T00:00:00",
          "2016-02-01T00:00:00",
          "2016-03-01T00:00:00",
          "2016-04-01T00:00:00",
          "2016-05-01T00:00:00",
          "2016-06-01T00:00:00",
          "2016-07-01T00:00:00",
          "2016-08-01T00:00:00",
          "2016-09-01T00:00:00",
          "2016-10-01T00:00:00",
          "2016-11-01T00:00:00",
          "2016-12-01T00:00:00",
          "2017-01-01T00:00:00",
          "2017-02-01T00:00:00",
          "2017-03-01T00:00:00",
          "2017-04-01T00:00:00",
          "2017-05-01T00:00:00",
          "2017-06-01T00:00:00",
          "2017-07-01T00:00:00",
          "2017-08-01T00:00:00",
          "2017-09-01T00:00:00",
          "2017-10-01T00:00:00",
          "2017-11-01T00:00:00",
          "2017-12-01T00:00:00",
          "2018-01-01T00:00:00",
          "2018-02-01T00:00:00",
          "2018-03-01T00:00:00",
          "2018-04-01T00:00:00",
          "2018-05-01T00:00:00",
          "2018-06-01T00:00:00",
          "2018-07-01T00:00:00",
          "2018-08-01T00:00:00",
          "2018-09-01T00:00:00",
          "2018-10-01T00:00:00",
          "2018-11-01T00:00:00",
          "2018-12-01T00:00:00",
          "2019-01-01T00:00:00",
          "2019-02-01T00:00:00",
          "2019-03-01T00:00:00",
          "2019-04-01T00:00:00",
          "2019-05-01T00:00:00",
          "2019-06-01T00:00:00",
          "2019-07-01T00:00:00",
          "2019-08-01T00:00:00",
          "2019-09-01T00:00:00",
          "2019-10-01T00:00:00",
          "2019-11-01T00:00:00",
          "2019-12-01T00:00:00",
          "2020-01-01T00:00:00",
          "2020-02-01T00:00:00",
          "2020-03-01T00:00:00",
          "2020-04-01T00:00:00",
          "2020-05-01T00:00:00",
          "2020-06-01T00:00:00",
          "2020-07-01T00:00:00",
          "2020-08-01T00:00:00",
          "2020-09-01T00:00:00",
          "2020-10-01T00:00:00",
          "2020-11-01T00:00:00",
          "2020-12-01T00:00:00",
          "2021-01-01T00:00:00",
          "2021-02-01T00:00:00",
          "2021-03-01T00:00:00",
          "2021-04-01T00:00:00",
          "2021-05-01T00:00:00",
          "2021-06-01T00:00:00",
          "2021-07-01T00:00:00",
          "2021-08-01T00:00:00",
          "2021-09-01T00:00:00",
          "2021-10-01T00:00:00",
          "2021-11-01T00:00:00",
          "2021-12-01T00:00:00",
          "2022-01-01T00:00:00",
          "2022-02-01T00:00:00",
          "2022-03-01T00:00:00",
          "2022-04-01T00:00:00",
          "2022-05-01T00:00:00",
          "2022-06-01T00:00:00",
          "2022-07-01T00:00:00",
          "2022-08-01T00:00:00",
          "2022-09-01T00:00:00",
          "2022-10-01T00:00:00",
          "2022-11-01T00:00:00",
          "2022-12-01T00:00:00"
         ],
         "xaxis": "x",
         "y": [
          1032.0666666666666,
          939.5454545454545,
          1042.7777777777778,
          996.7073170731708,
          1023.8,
          1027.3658536585365,
          719.4716981132076,
          724.7083333333334,
          967.5285714285715,
          763.8545454545455,
          579.2741935483871,
          536,
          973.5,
          682.8823529411765,
          715.258064516129,
          715,
          729.5731707317074,
          715,
          661.9,
          680.3465346534654,
          631.2,
          677.4705882352941,
          195.45454545454547,
          196.4,
          881.9739130434782,
          652.0847457627119,
          658.9888888888889,
          695.7857142857143,
          700.7142857142857,
          660,
          640.9344262295082,
          525.0540540540541,
          586.0943396226415,
          618.015625,
          430.6666666666667,
          191.4,
          646.2666666666667,
          480.44827586206895,
          737.3230769230769,
          463.75,
          455.84615384615387,
          474.94736842105266,
          414.6666666666667,
          418.6190476190476,
          440.34615384615387,
          444.84615384615387,
          414.6666666666667,
          253.5,
          845.925925925926,
          507.4878048780488,
          592.0408163265306,
          660.9387755102041,
          703.1685393258427,
          756.5172413793103,
          519,
          580.75,
          610.1555555555556,
          580.75,
          549.1777777777778,
          492.1111111111111,
          891.3039215686274,
          579.2741935483871,
          776.25,
          724.5773195876288,
          873.4307692307692,
          678.6722689075631,
          526.9677419354839,
          623.4415584415584,
          662.32,
          660.7916666666666,
          545.48,
          496.7692307692308,
          1001.0481927710844,
          680.7373737373738,
          1150.2857142857142,
          428.1860465116279,
          523,
          530.3513513513514,
          523.2894736842105,
          545.48,
          585.5625,
          579.2741935483871,
          545.48,
          531.8805970149253,
          623.4415584415584,
          538.7758620689655,
          607.1034482758621,
          610.3030303030303,
          658.9888888888889,
          610.3030303030303,
          572.8888888888889,
          572.3809523809524,
          610.1555555555556,
          644.8,
          538.063492063492,
          523.2894736842105,
          590.609756097561,
          616.1632653061224,
          712.6428571428571,
          667.8181818181819,
          681.37,
          667.1574074074074,
          592.0408163265306,
          576.0714285714286,
          652.75,
          639.1111111111111,
          510.5,
          524.6666666666666,
          683.969696969697,
          532.84,
          991.8888888888889,
          449,
          600.8243243243244,
          628.56,
          516,
          547.2615384615384,
          610.1555555555556,
          623.4415584415584,
          616.1632653061224,
          547.2615384615384,
          782.0325203252032,
          623.4415584415584,
          911.9756097560976,
          687.448275862069,
          681.37,
          780.6,
          513.4444444444445,
          557.2571428571429,
          661.5189873417721,
          592.0408163265306,
          631.2,
          606.0833333333334,
          776.25,
          639.1111111111111,
          730.44,
          607.1034482758621,
          651.1818181818181,
          649.2234042553191,
          585.5625,
          656.3118279569892,
          613.5714285714286,
          602.1304347826087,
          646.1818181818181,
          568.8048780487804,
          687.8210526315789,
          610.3571428571429,
          715.258064516129,
          672.859649122807,
          661.5189873417721,
          676.5189873417721,
          605.7,
          949.5238095238095,
          513.2666666666667,
          526.047619047619,
          623.4415584415584,
          484.72549019607845,
          677.4705882352941,
          513.4444444444445,
          557.2571428571429,
          600.2328767123288,
          656.3118279569892,
          613.3809523809524,
          511.4230769230769,
          600.8243243243244,
          484.72549019607845,
          507.4878048780488,
          501.8888888888889,
          487.4418604651163,
          631.2,
          484.72549019607845,
          514.6666666666666,
          440.34615384615387,
          375.5483870967742,
          491.1,
          545.6315789473684,
          517,
          523.2894736842105,
          495.27272727272725,
          474.68,
          507.70175438596493,
          531.8805970149253,
          511.8421052631579,
          827.4594594594595,
          585.5625,
          583.3529411764706,
          609.3,
          524.4761904761905,
          523,
          525.0540540540541,
          507.70175438596493,
          507.70175438596493,
          507.12698412698415,
          520.1,
          496.7692307692308,
          525.0540540540541,
          502.85074626865674,
          532.475,
          507.38709677419354,
          521,
          523,
          507.38709677419354,
          478.94871794871796,
          478.94871794871796,
          502.85074626865674
         ],
         "yaxis": "y"
        }
       ],
       "layout": {
        "legend": {
         "title": {
          "text": "variable"
         },
         "tracegroupgap": 0
        },
        "margin": {
         "t": 60
        },
        "shapes": [
         {
          "fillcolor": "grey",
          "line": {
           "width": 0
          },
          "opacity": 0.25,
          "type": "rect",
          "x0": "2020-01-01T00:00:00",
          "x1": "2022-12-01T00:00:00",
          "xref": "x",
          "y0": 0,
          "y1": 1,
          "yref": "y domain"
         }
        ],
        "template": {
         "data": {
          "bar": [
           {
            "error_x": {
             "color": "#2a3f5f"
            },
            "error_y": {
             "color": "#2a3f5f"
            },
            "marker": {
             "line": {
              "color": "#E5ECF6",
              "width": 0.5
             },
             "pattern": {
              "fillmode": "overlay",
              "size": 10,
              "solidity": 0.2
             }
            },
            "type": "bar"
           }
          ],
          "barpolar": [
           {
            "marker": {
             "line": {
              "color": "#E5ECF6",
              "width": 0.5
             },
             "pattern": {
              "fillmode": "overlay",
              "size": 10,
              "solidity": 0.2
             }
            },
            "type": "barpolar"
           }
          ],
          "carpet": [
           {
            "aaxis": {
             "endlinecolor": "#2a3f5f",
             "gridcolor": "white",
             "linecolor": "white",
             "minorgridcolor": "white",
             "startlinecolor": "#2a3f5f"
            },
            "baxis": {
             "endlinecolor": "#2a3f5f",
             "gridcolor": "white",
             "linecolor": "white",
             "minorgridcolor": "white",
             "startlinecolor": "#2a3f5f"
            },
            "type": "carpet"
           }
          ],
          "choropleth": [
           {
            "colorbar": {
             "outlinewidth": 0,
             "ticks": ""
            },
            "type": "choropleth"
           }
          ],
          "contour": [
           {
            "colorbar": {
             "outlinewidth": 0,
             "ticks": ""
            },
            "colorscale": [
             [
              0,
              "#0d0887"
             ],
             [
              0.1111111111111111,
              "#46039f"
             ],
             [
              0.2222222222222222,
              "#7201a8"
             ],
             [
              0.3333333333333333,
              "#9c179e"
             ],
             [
              0.4444444444444444,
              "#bd3786"
             ],
             [
              0.5555555555555556,
              "#d8576b"
             ],
             [
              0.6666666666666666,
              "#ed7953"
             ],
             [
              0.7777777777777778,
              "#fb9f3a"
             ],
             [
              0.8888888888888888,
              "#fdca26"
             ],
             [
              1,
              "#f0f921"
             ]
            ],
            "type": "contour"
           }
          ],
          "contourcarpet": [
           {
            "colorbar": {
             "outlinewidth": 0,
             "ticks": ""
            },
            "type": "contourcarpet"
           }
          ],
          "heatmap": [
           {
            "colorbar": {
             "outlinewidth": 0,
             "ticks": ""
            },
            "colorscale": [
             [
              0,
              "#0d0887"
             ],
             [
              0.1111111111111111,
              "#46039f"
             ],
             [
              0.2222222222222222,
              "#7201a8"
             ],
             [
              0.3333333333333333,
              "#9c179e"
             ],
             [
              0.4444444444444444,
              "#bd3786"
             ],
             [
              0.5555555555555556,
              "#d8576b"
             ],
             [
              0.6666666666666666,
              "#ed7953"
             ],
             [
              0.7777777777777778,
              "#fb9f3a"
             ],
             [
              0.8888888888888888,
              "#fdca26"
             ],
             [
              1,
              "#f0f921"
             ]
            ],
            "type": "heatmap"
           }
          ],
          "heatmapgl": [
           {
            "colorbar": {
             "outlinewidth": 0,
             "ticks": ""
            },
            "colorscale": [
             [
              0,
              "#0d0887"
             ],
             [
              0.1111111111111111,
              "#46039f"
             ],
             [
              0.2222222222222222,
              "#7201a8"
             ],
             [
              0.3333333333333333,
              "#9c179e"
             ],
             [
              0.4444444444444444,
              "#bd3786"
             ],
             [
              0.5555555555555556,
              "#d8576b"
             ],
             [
              0.6666666666666666,
              "#ed7953"
             ],
             [
              0.7777777777777778,
              "#fb9f3a"
             ],
             [
              0.8888888888888888,
              "#fdca26"
             ],
             [
              1,
              "#f0f921"
             ]
            ],
            "type": "heatmapgl"
           }
          ],
          "histogram": [
           {
            "marker": {
             "pattern": {
              "fillmode": "overlay",
              "size": 10,
              "solidity": 0.2
             }
            },
            "type": "histogram"
           }
          ],
          "histogram2d": [
           {
            "colorbar": {
             "outlinewidth": 0,
             "ticks": ""
            },
            "colorscale": [
             [
              0,
              "#0d0887"
             ],
             [
              0.1111111111111111,
              "#46039f"
             ],
             [
              0.2222222222222222,
              "#7201a8"
             ],
             [
              0.3333333333333333,
              "#9c179e"
             ],
             [
              0.4444444444444444,
              "#bd3786"
             ],
             [
              0.5555555555555556,
              "#d8576b"
             ],
             [
              0.6666666666666666,
              "#ed7953"
             ],
             [
              0.7777777777777778,
              "#fb9f3a"
             ],
             [
              0.8888888888888888,
              "#fdca26"
             ],
             [
              1,
              "#f0f921"
             ]
            ],
            "type": "histogram2d"
           }
          ],
          "histogram2dcontour": [
           {
            "colorbar": {
             "outlinewidth": 0,
             "ticks": ""
            },
            "colorscale": [
             [
              0,
              "#0d0887"
             ],
             [
              0.1111111111111111,
              "#46039f"
             ],
             [
              0.2222222222222222,
              "#7201a8"
             ],
             [
              0.3333333333333333,
              "#9c179e"
             ],
             [
              0.4444444444444444,
              "#bd3786"
             ],
             [
              0.5555555555555556,
              "#d8576b"
             ],
             [
              0.6666666666666666,
              "#ed7953"
             ],
             [
              0.7777777777777778,
              "#fb9f3a"
             ],
             [
              0.8888888888888888,
              "#fdca26"
             ],
             [
              1,
              "#f0f921"
             ]
            ],
            "type": "histogram2dcontour"
           }
          ],
          "mesh3d": [
           {
            "colorbar": {
             "outlinewidth": 0,
             "ticks": ""
            },
            "type": "mesh3d"
           }
          ],
          "parcoords": [
           {
            "line": {
             "colorbar": {
              "outlinewidth": 0,
              "ticks": ""
             }
            },
            "type": "parcoords"
           }
          ],
          "pie": [
           {
            "automargin": true,
            "type": "pie"
           }
          ],
          "scatter": [
           {
            "fillpattern": {
             "fillmode": "overlay",
             "size": 10,
             "solidity": 0.2
            },
            "type": "scatter"
           }
          ],
          "scatter3d": [
           {
            "line": {
             "colorbar": {
              "outlinewidth": 0,
              "ticks": ""
             }
            },
            "marker": {
             "colorbar": {
              "outlinewidth": 0,
              "ticks": ""
             }
            },
            "type": "scatter3d"
           }
          ],
          "scattercarpet": [
           {
            "marker": {
             "colorbar": {
              "outlinewidth": 0,
              "ticks": ""
             }
            },
            "type": "scattercarpet"
           }
          ],
          "scattergeo": [
           {
            "marker": {
             "colorbar": {
              "outlinewidth": 0,
              "ticks": ""
             }
            },
            "type": "scattergeo"
           }
          ],
          "scattergl": [
           {
            "marker": {
             "colorbar": {
              "outlinewidth": 0,
              "ticks": ""
             }
            },
            "type": "scattergl"
           }
          ],
          "scattermapbox": [
           {
            "marker": {
             "colorbar": {
              "outlinewidth": 0,
              "ticks": ""
             }
            },
            "type": "scattermapbox"
           }
          ],
          "scatterpolar": [
           {
            "marker": {
             "colorbar": {
              "outlinewidth": 0,
              "ticks": ""
             }
            },
            "type": "scatterpolar"
           }
          ],
          "scatterpolargl": [
           {
            "marker": {
             "colorbar": {
              "outlinewidth": 0,
              "ticks": ""
             }
            },
            "type": "scatterpolargl"
           }
          ],
          "scatterternary": [
           {
            "marker": {
             "colorbar": {
              "outlinewidth": 0,
              "ticks": ""
             }
            },
            "type": "scatterternary"
           }
          ],
          "surface": [
           {
            "colorbar": {
             "outlinewidth": 0,
             "ticks": ""
            },
            "colorscale": [
             [
              0,
              "#0d0887"
             ],
             [
              0.1111111111111111,
              "#46039f"
             ],
             [
              0.2222222222222222,
              "#7201a8"
             ],
             [
              0.3333333333333333,
              "#9c179e"
             ],
             [
              0.4444444444444444,
              "#bd3786"
             ],
             [
              0.5555555555555556,
              "#d8576b"
             ],
             [
              0.6666666666666666,
              "#ed7953"
             ],
             [
              0.7777777777777778,
              "#fb9f3a"
             ],
             [
              0.8888888888888888,
              "#fdca26"
             ],
             [
              1,
              "#f0f921"
             ]
            ],
            "type": "surface"
           }
          ],
          "table": [
           {
            "cells": {
             "fill": {
              "color": "#EBF0F8"
             },
             "line": {
              "color": "white"
             }
            },
            "header": {
             "fill": {
              "color": "#C8D4E3"
             },
             "line": {
              "color": "white"
             }
            },
            "type": "table"
           }
          ]
         },
         "layout": {
          "annotationdefaults": {
           "arrowcolor": "#2a3f5f",
           "arrowhead": 0,
           "arrowwidth": 1
          },
          "autotypenumbers": "strict",
          "coloraxis": {
           "colorbar": {
            "outlinewidth": 0,
            "ticks": ""
           }
          },
          "colorscale": {
           "diverging": [
            [
             0,
             "#8e0152"
            ],
            [
             0.1,
             "#c51b7d"
            ],
            [
             0.2,
             "#de77ae"
            ],
            [
             0.3,
             "#f1b6da"
            ],
            [
             0.4,
             "#fde0ef"
            ],
            [
             0.5,
             "#f7f7f7"
            ],
            [
             0.6,
             "#e6f5d0"
            ],
            [
             0.7,
             "#b8e186"
            ],
            [
             0.8,
             "#7fbc41"
            ],
            [
             0.9,
             "#4d9221"
            ],
            [
             1,
             "#276419"
            ]
           ],
           "sequential": [
            [
             0,
             "#0d0887"
            ],
            [
             0.1111111111111111,
             "#46039f"
            ],
            [
             0.2222222222222222,
             "#7201a8"
            ],
            [
             0.3333333333333333,
             "#9c179e"
            ],
            [
             0.4444444444444444,
             "#bd3786"
            ],
            [
             0.5555555555555556,
             "#d8576b"
            ],
            [
             0.6666666666666666,
             "#ed7953"
            ],
            [
             0.7777777777777778,
             "#fb9f3a"
            ],
            [
             0.8888888888888888,
             "#fdca26"
            ],
            [
             1,
             "#f0f921"
            ]
           ],
           "sequentialminus": [
            [
             0,
             "#0d0887"
            ],
            [
             0.1111111111111111,
             "#46039f"
            ],
            [
             0.2222222222222222,
             "#7201a8"
            ],
            [
             0.3333333333333333,
             "#9c179e"
            ],
            [
             0.4444444444444444,
             "#bd3786"
            ],
            [
             0.5555555555555556,
             "#d8576b"
            ],
            [
             0.6666666666666666,
             "#ed7953"
            ],
            [
             0.7777777777777778,
             "#fb9f3a"
            ],
            [
             0.8888888888888888,
             "#fdca26"
            ],
            [
             1,
             "#f0f921"
            ]
           ]
          },
          "colorway": [
           "#636efa",
           "#EF553B",
           "#00cc96",
           "#ab63fa",
           "#FFA15A",
           "#19d3f3",
           "#FF6692",
           "#B6E880",
           "#FF97FF",
           "#FECB52"
          ],
          "font": {
           "color": "#2a3f5f"
          },
          "geo": {
           "bgcolor": "white",
           "lakecolor": "white",
           "landcolor": "#E5ECF6",
           "showlakes": true,
           "showland": true,
           "subunitcolor": "white"
          },
          "hoverlabel": {
           "align": "left"
          },
          "hovermode": "closest",
          "mapbox": {
           "style": "light"
          },
          "paper_bgcolor": "white",
          "plot_bgcolor": "#E5ECF6",
          "polar": {
           "angularaxis": {
            "gridcolor": "white",
            "linecolor": "white",
            "ticks": ""
           },
           "bgcolor": "#E5ECF6",
           "radialaxis": {
            "gridcolor": "white",
            "linecolor": "white",
            "ticks": ""
           }
          },
          "scene": {
           "xaxis": {
            "backgroundcolor": "#E5ECF6",
            "gridcolor": "white",
            "gridwidth": 2,
            "linecolor": "white",
            "showbackground": true,
            "ticks": "",
            "zerolinecolor": "white"
           },
           "yaxis": {
            "backgroundcolor": "#E5ECF6",
            "gridcolor": "white",
            "gridwidth": 2,
            "linecolor": "white",
            "showbackground": true,
            "ticks": "",
            "zerolinecolor": "white"
           },
           "zaxis": {
            "backgroundcolor": "#E5ECF6",
            "gridcolor": "white",
            "gridwidth": 2,
            "linecolor": "white",
            "showbackground": true,
            "ticks": "",
            "zerolinecolor": "white"
           }
          },
          "shapedefaults": {
           "line": {
            "color": "#2a3f5f"
           }
          },
          "ternary": {
           "aaxis": {
            "gridcolor": "white",
            "linecolor": "white",
            "ticks": ""
           },
           "baxis": {
            "gridcolor": "white",
            "linecolor": "white",
            "ticks": ""
           },
           "bgcolor": "#E5ECF6",
           "caxis": {
            "gridcolor": "white",
            "linecolor": "white",
            "ticks": ""
           }
          },
          "title": {
           "x": 0.05
          },
          "xaxis": {
           "automargin": true,
           "gridcolor": "white",
           "linecolor": "white",
           "ticks": "",
           "title": {
            "standoff": 15
           },
           "zerolinecolor": "white",
           "zerolinewidth": 2
          },
          "yaxis": {
           "automargin": true,
           "gridcolor": "white",
           "linecolor": "white",
           "ticks": "",
           "title": {
            "standoff": 15
           },
           "zerolinecolor": "white",
           "zerolinewidth": 2
          }
         }
        },
        "xaxis": {
         "anchor": "y",
         "domain": [
          0,
          1
         ],
         "title": {
          "text": "Date"
         }
        },
        "yaxis": {
         "anchor": "x",
         "domain": [
          0,
          1
         ],
         "title": {
          "text": "value"
         }
        }
       }
      }
     },
     "metadata": {},
     "output_type": "display_data"
    }
   ],
   "source": [
    "import plotly.express as px\n",
    "# Generate predictions on the original dataset\n",
    "predictions = predict_model(tuned_model, data=df)\n",
    "\n",
    "# Add a date column in the dataset\n",
    "predictions['Date'] = pd.date_range(start=start, end = end, freq = 'MS')\n",
    "\n",
    "# Line plot\n",
    "fig = px.line(predictions, x='Date', y=[dep_var, \"Label\"]) #, template = 'plotly_dark')\n",
    "\n",
    "# Add a vertical rectange for test-set separation\n",
    "fig.add_vrect(x0=start_test, x1=predictions.Date.max(), fillcolor=\"grey\", opacity=0.25, line_width=0)\n",
    "fig.show()"
   ]
  },
  {
   "attachments": {},
   "cell_type": "markdown",
   "metadata": {},
   "source": [
    "#### Finalize model"
   ]
  },
  {
   "cell_type": "code",
   "execution_count": 47,
   "metadata": {},
   "outputs": [],
   "source": [
    "# Finalize the model i.e. train the best model on the entire dataset (this time, including the test set).\n",
    "final = finalize_model(tuned_model)"
   ]
  },
  {
   "cell_type": "code",
   "execution_count": 48,
   "metadata": {},
   "outputs": [
    {
     "data": {
      "text/plain": [
       "AdaBoostRegressor(base_estimator=None, learning_rate=0.3, loss='square',\n",
       "                  n_estimators=250, random_state=42)"
      ]
     },
     "execution_count": 48,
     "metadata": {},
     "output_type": "execute_result"
    }
   ],
   "source": [
    "final"
   ]
  },
  {
   "cell_type": "code",
   "execution_count": 49,
   "metadata": {},
   "outputs": [
    {
     "data": {
      "text/html": [
       "<div>\n",
       "<style scoped>\n",
       "    .dataframe tbody tr th:only-of-type {\n",
       "        vertical-align: middle;\n",
       "    }\n",
       "\n",
       "    .dataframe tbody tr th {\n",
       "        vertical-align: top;\n",
       "    }\n",
       "\n",
       "    .dataframe thead th {\n",
       "        text-align: right;\n",
       "    }\n",
       "</style>\n",
       "<table border=\"1\" class=\"dataframe\">\n",
       "  <thead>\n",
       "    <tr style=\"text-align: right;\">\n",
       "      <th></th>\n",
       "      <th>CCI</th>\n",
       "      <th>CPI</th>\n",
       "      <th>Unemployment_rate</th>\n",
       "      <th>Long_term_interest_rates</th>\n",
       "      <th>Avg_Fuel_Price</th>\n",
       "      <th>TIV</th>\n",
       "    </tr>\n",
       "    <tr>\n",
       "      <th>Date</th>\n",
       "      <th></th>\n",
       "      <th></th>\n",
       "      <th></th>\n",
       "      <th></th>\n",
       "      <th></th>\n",
       "      <th></th>\n",
       "    </tr>\n",
       "  </thead>\n",
       "  <tbody>\n",
       "    <tr>\n",
       "      <th>2006-01-01</th>\n",
       "      <td>100.832397</td>\n",
       "      <td>0.807265</td>\n",
       "      <td>8.3</td>\n",
       "      <td>3.280000</td>\n",
       "      <td>1.170000</td>\n",
       "      <td>20177.0</td>\n",
       "    </tr>\n",
       "    <tr>\n",
       "      <th>2006-02-01</th>\n",
       "      <td>100.801598</td>\n",
       "      <td>0.901804</td>\n",
       "      <td>8.0</td>\n",
       "      <td>3.440000</td>\n",
       "      <td>1.186667</td>\n",
       "      <td>12845.0</td>\n",
       "    </tr>\n",
       "    <tr>\n",
       "      <th>2006-03-01</th>\n",
       "      <td>100.600998</td>\n",
       "      <td>0.899101</td>\n",
       "      <td>7.7</td>\n",
       "      <td>3.620000</td>\n",
       "      <td>1.180000</td>\n",
       "      <td>15163.0</td>\n",
       "    </tr>\n",
       "    <tr>\n",
       "      <th>2006-04-01</th>\n",
       "      <td>100.482498</td>\n",
       "      <td>1.297405</td>\n",
       "      <td>7.7</td>\n",
       "      <td>3.880000</td>\n",
       "      <td>1.243333</td>\n",
       "      <td>13472.0</td>\n",
       "    </tr>\n",
       "    <tr>\n",
       "      <th>2006-05-01</th>\n",
       "      <td>100.567299</td>\n",
       "      <td>1.701702</td>\n",
       "      <td>7.9</td>\n",
       "      <td>3.940000</td>\n",
       "      <td>1.260000</td>\n",
       "      <td>16516.0</td>\n",
       "    </tr>\n",
       "    <tr>\n",
       "      <th>...</th>\n",
       "      <td>...</td>\n",
       "      <td>...</td>\n",
       "      <td>...</td>\n",
       "      <td>...</td>\n",
       "      <td>...</td>\n",
       "      <td>...</td>\n",
       "    </tr>\n",
       "    <tr>\n",
       "      <th>2022-08-01</th>\n",
       "      <td>94.580208</td>\n",
       "      <td>7.616082</td>\n",
       "      <td>7.2</td>\n",
       "      <td>1.624904</td>\n",
       "      <td>2.153333</td>\n",
       "      <td>8163.0</td>\n",
       "    </tr>\n",
       "    <tr>\n",
       "      <th>2022-09-01</th>\n",
       "      <td>94.107536</td>\n",
       "      <td>8.119296</td>\n",
       "      <td>7.3</td>\n",
       "      <td>2.420836</td>\n",
       "      <td>2.133333</td>\n",
       "      <td>7867.0</td>\n",
       "    </tr>\n",
       "    <tr>\n",
       "      <th>2022-10-01</th>\n",
       "      <td>93.961418</td>\n",
       "      <td>8.310766</td>\n",
       "      <td>6.4</td>\n",
       "      <td>2.894486</td>\n",
       "      <td>2.136667</td>\n",
       "      <td>7132.0</td>\n",
       "    </tr>\n",
       "    <tr>\n",
       "      <th>2022-11-01</th>\n",
       "      <td>94.091637</td>\n",
       "      <td>9.138235</td>\n",
       "      <td>6.7</td>\n",
       "      <td>2.691082</td>\n",
       "      <td>2.173333</td>\n",
       "      <td>7337.0</td>\n",
       "    </tr>\n",
       "    <tr>\n",
       "      <th>2022-12-01</th>\n",
       "      <td>94.479759</td>\n",
       "      <td>9.145037</td>\n",
       "      <td>7.2</td>\n",
       "      <td>2.706710</td>\n",
       "      <td>1.940000</td>\n",
       "      <td>7248.0</td>\n",
       "    </tr>\n",
       "  </tbody>\n",
       "</table>\n",
       "<p>204 rows × 6 columns</p>\n",
       "</div>"
      ],
      "text/plain": [
       "                   CCI       CPI  Unemployment_rate  Long_term_interest_rates  \\\n",
       "Date                                                                            \n",
       "2006-01-01  100.832397  0.807265                8.3                  3.280000   \n",
       "2006-02-01  100.801598  0.901804                8.0                  3.440000   \n",
       "2006-03-01  100.600998  0.899101                7.7                  3.620000   \n",
       "2006-04-01  100.482498  1.297405                7.7                  3.880000   \n",
       "2006-05-01  100.567299  1.701702                7.9                  3.940000   \n",
       "...                ...       ...                ...                       ...   \n",
       "2022-08-01   94.580208  7.616082                7.2                  1.624904   \n",
       "2022-09-01   94.107536  8.119296                7.3                  2.420836   \n",
       "2022-10-01   93.961418  8.310766                6.4                  2.894486   \n",
       "2022-11-01   94.091637  9.138235                6.7                  2.691082   \n",
       "2022-12-01   94.479759  9.145037                7.2                  2.706710   \n",
       "\n",
       "            Avg_Fuel_Price      TIV  \n",
       "Date                                 \n",
       "2006-01-01        1.170000  20177.0  \n",
       "2006-02-01        1.186667  12845.0  \n",
       "2006-03-01        1.180000  15163.0  \n",
       "2006-04-01        1.243333  13472.0  \n",
       "2006-05-01        1.260000  16516.0  \n",
       "...                    ...      ...  \n",
       "2022-08-01        2.153333   8163.0  \n",
       "2022-09-01        2.133333   7867.0  \n",
       "2022-10-01        2.136667   7132.0  \n",
       "2022-11-01        2.173333   7337.0  \n",
       "2022-12-01        1.940000   7248.0  \n",
       "\n",
       "[204 rows x 6 columns]"
      ]
     },
     "execution_count": 49,
     "metadata": {},
     "output_type": "execute_result"
    }
   ],
   "source": [
    "# Review the transformed dataset\n",
    "prep_pipe = get_config('prep_pipe') \n",
    "prep_pipe.transform(df) "
   ]
  },
  {
   "cell_type": "code",
   "execution_count": null,
   "metadata": {},
   "outputs": [],
   "source": []
  }
 ],
 "metadata": {
  "kernelspec": {
   "display_name": "base",
   "language": "python",
   "name": "python3"
  },
  "language_info": {
   "codemirror_mode": {
    "name": "ipython",
    "version": 3
   },
   "file_extension": ".py",
   "mimetype": "text/x-python",
   "name": "python",
   "nbconvert_exporter": "python",
   "pygments_lexer": "ipython3",
   "version": "3.8.12"
  },
  "orig_nbformat": 4,
  "vscode": {
   "interpreter": {
    "hash": "ad2bdc8ecc057115af97d19610ffacc2b4e99fae6737bb82f5d7fb13d2f2c186"
   }
  }
 },
 "nbformat": 4,
 "nbformat_minor": 2
}
