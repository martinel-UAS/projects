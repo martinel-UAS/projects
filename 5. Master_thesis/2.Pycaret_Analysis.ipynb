{
 "cells": [
  {
   "cell_type": "code",
   "execution_count": 32,
   "metadata": {},
   "outputs": [
    {
     "name": "stdout",
     "output_type": "stream",
     "text": [
      "0.23.2\n"
     ]
    }
   ],
   "source": [
    "import os\n",
    "import sys\n",
    "sys.path.insert(1,os.path.abspath('../Git_Projects/0. Not_git/Sources/scikit-learn/0.23.2'))\n",
    "import sklearn\n",
    "print(sklearn.__version__)"
   ]
  },
  {
   "attachments": {},
   "cell_type": "markdown",
   "metadata": {},
   "source": [
    "### Import libraries"
   ]
  },
  {
   "cell_type": "code",
   "execution_count": 33,
   "metadata": {},
   "outputs": [],
   "source": [
    "import pandas as pd\n",
    "import plotly.express as px\n",
    "\n",
    "from pycaret.regression import *\n",
    "\n",
    "import plotly.io as pio"
   ]
  },
  {
   "cell_type": "code",
   "execution_count": 34,
   "metadata": {},
   "outputs": [],
   "source": [
    "# To render plotly into GitHub\n",
    "pio.renderers.default = \"svg\""
   ]
  },
  {
   "cell_type": "code",
   "execution_count": 35,
   "metadata": {},
   "outputs": [],
   "source": [
    "# Select country in analysys ('FIN', 'DEN', 'NOR', 'SWE')\n",
    "country = 'FIN'\n",
    "\n",
    "steps = 24  # Number of months of testing"
   ]
  },
  {
   "attachments": {},
   "cell_type": "markdown",
   "metadata": {},
   "source": [
    "### Load Data"
   ]
  },
  {
   "cell_type": "code",
   "execution_count": 36,
   "metadata": {},
   "outputs": [],
   "source": [
    "# Input path and filename\n",
    "path = '../5. Master_thesis/Datasets/Output_files/'\n",
    "\n",
    "# Load files into a pandas dataframes\n",
    "file = path + '0.xlsx'\n",
    "df = pd.read_excel(file, sheet_name=country)\n",
    "\n",
    "# Dependant variable\n",
    "dep_var = 'Orders' \n",
    "\n",
    "# Set index\n",
    "df = df.set_index(\"Date\").asfreq('MS')"
   ]
  },
  {
   "cell_type": "code",
   "execution_count": 37,
   "metadata": {},
   "outputs": [
    {
     "data": {
      "text/html": [
       "<div>\n",
       "<style scoped>\n",
       "    .dataframe tbody tr th:only-of-type {\n",
       "        vertical-align: middle;\n",
       "    }\n",
       "\n",
       "    .dataframe tbody tr th {\n",
       "        vertical-align: top;\n",
       "    }\n",
       "\n",
       "    .dataframe thead th {\n",
       "        text-align: right;\n",
       "    }\n",
       "</style>\n",
       "<table border=\"1\" class=\"dataframe\">\n",
       "  <thead>\n",
       "    <tr style=\"text-align: right;\">\n",
       "      <th></th>\n",
       "      <th>Orders</th>\n",
       "      <th>CPI</th>\n",
       "      <th>UR</th>\n",
       "      <th>LTIR</th>\n",
       "      <th>TIV</th>\n",
       "    </tr>\n",
       "    <tr>\n",
       "      <th>Date</th>\n",
       "      <th></th>\n",
       "      <th></th>\n",
       "      <th></th>\n",
       "      <th></th>\n",
       "      <th></th>\n",
       "    </tr>\n",
       "  </thead>\n",
       "  <tbody>\n",
       "    <tr>\n",
       "      <th>2006-01-01</th>\n",
       "      <td>1124</td>\n",
       "      <td>0.807265</td>\n",
       "      <td>8.3</td>\n",
       "      <td>3.28</td>\n",
       "      <td>20178</td>\n",
       "    </tr>\n",
       "    <tr>\n",
       "      <th>2006-02-01</th>\n",
       "      <td>1079</td>\n",
       "      <td>0.901804</td>\n",
       "      <td>8.0</td>\n",
       "      <td>3.44</td>\n",
       "      <td>12846</td>\n",
       "    </tr>\n",
       "    <tr>\n",
       "      <th>2006-03-01</th>\n",
       "      <td>1210</td>\n",
       "      <td>0.899101</td>\n",
       "      <td>7.7</td>\n",
       "      <td>3.62</td>\n",
       "      <td>15165</td>\n",
       "    </tr>\n",
       "    <tr>\n",
       "      <th>2006-04-01</th>\n",
       "      <td>1147</td>\n",
       "      <td>1.297405</td>\n",
       "      <td>7.7</td>\n",
       "      <td>3.88</td>\n",
       "      <td>13474</td>\n",
       "    </tr>\n",
       "    <tr>\n",
       "      <th>2006-05-01</th>\n",
       "      <td>1001</td>\n",
       "      <td>1.701702</td>\n",
       "      <td>7.9</td>\n",
       "      <td>3.94</td>\n",
       "      <td>16516</td>\n",
       "    </tr>\n",
       "  </tbody>\n",
       "</table>\n",
       "</div>"
      ],
      "text/plain": [
       "            Orders       CPI   UR  LTIR    TIV\n",
       "Date                                          \n",
       "2006-01-01    1124  0.807265  8.3  3.28  20178\n",
       "2006-02-01    1079  0.901804  8.0  3.44  12846\n",
       "2006-03-01    1210  0.899101  7.7  3.62  15165\n",
       "2006-04-01    1147  1.297405  7.7  3.88  13474\n",
       "2006-05-01    1001  1.701702  7.9  3.94  16516"
      ]
     },
     "execution_count": 37,
     "metadata": {},
     "output_type": "execute_result"
    }
   ],
   "source": [
    "df.head()"
   ]
  },
  {
   "attachments": {},
   "cell_type": "markdown",
   "metadata": {},
   "source": [
    "### Split Data"
   ]
  },
  {
   "cell_type": "code",
   "execution_count": 38,
   "metadata": {},
   "outputs": [
    {
     "name": "stdout",
     "output_type": "stream",
     "text": [
      "Dataset length : (n=204)\n",
      "Train dates    : 2006-01-01 00:00:00 --- 2020-12-01 00:00:00  (n=180)\n",
      "Test dates     : 2021-01-01 00:00:00 --- 2022-12-01 00:00:00  (n=24)\n"
     ]
    },
    {
     "data": {
      "text/plain": [
       "(Timestamp('2006-01-01 00:00:00', freq='MS'),\n",
       " Timestamp('2022-12-01 00:00:00', freq='MS'),\n",
       " Timestamp('2021-01-01 00:00:00', freq='MS'))"
      ]
     },
     "execution_count": 38,
     "metadata": {},
     "output_type": "execute_result"
    }
   ],
   "source": [
    "# Split data\n",
    "train = df[:-steps]\n",
    "test  = df[-steps:]\n",
    "\n",
    "print(f\"Dataset length : (n={len(df)})\")\n",
    "print(f\"Train dates    : {train.index.min()} --- {train.index.max()}  (n={len(train)})\")\n",
    "print(f\"Test dates     : {test.index.min()} --- {test.index.max()}  (n={len(test)})\")\n",
    "\n",
    "start = train.index.min()\n",
    "end = df.index.max()\n",
    "start_test = test.index.min()\n",
    "\n",
    "start, end, start_test"
   ]
  },
  {
   "attachments": {},
   "cell_type": "markdown",
   "metadata": {},
   "source": [
    "### Pycaret"
   ]
  },
  {
   "attachments": {},
   "cell_type": "markdown",
   "metadata": {},
   "source": [
    "#### Initialize"
   ]
  },
  {
   "cell_type": "code",
   "execution_count": 39,
   "metadata": {},
   "outputs": [
    {
     "data": {
      "text/html": [
       "<style type=\"text/css\">\n",
       "#T_b44ad_row42_col1 {\n",
       "  background-color: lightgreen;\n",
       "}\n",
       "</style>\n",
       "<table id=\"T_b44ad\">\n",
       "  <thead>\n",
       "    <tr>\n",
       "      <th class=\"blank level0\" >&nbsp;</th>\n",
       "      <th id=\"T_b44ad_level0_col0\" class=\"col_heading level0 col0\" >Description</th>\n",
       "      <th id=\"T_b44ad_level0_col1\" class=\"col_heading level0 col1\" >Value</th>\n",
       "    </tr>\n",
       "  </thead>\n",
       "  <tbody>\n",
       "    <tr>\n",
       "      <th id=\"T_b44ad_level0_row0\" class=\"row_heading level0 row0\" >0</th>\n",
       "      <td id=\"T_b44ad_row0_col0\" class=\"data row0 col0\" >session_id</td>\n",
       "      <td id=\"T_b44ad_row0_col1\" class=\"data row0 col1\" >42</td>\n",
       "    </tr>\n",
       "    <tr>\n",
       "      <th id=\"T_b44ad_level0_row1\" class=\"row_heading level0 row1\" >1</th>\n",
       "      <td id=\"T_b44ad_row1_col0\" class=\"data row1 col0\" >Target</td>\n",
       "      <td id=\"T_b44ad_row1_col1\" class=\"data row1 col1\" >Orders</td>\n",
       "    </tr>\n",
       "    <tr>\n",
       "      <th id=\"T_b44ad_level0_row2\" class=\"row_heading level0 row2\" >2</th>\n",
       "      <td id=\"T_b44ad_row2_col0\" class=\"data row2 col0\" >Original Data</td>\n",
       "      <td id=\"T_b44ad_row2_col1\" class=\"data row2 col1\" >(180, 5)</td>\n",
       "    </tr>\n",
       "    <tr>\n",
       "      <th id=\"T_b44ad_level0_row3\" class=\"row_heading level0 row3\" >3</th>\n",
       "      <td id=\"T_b44ad_row3_col0\" class=\"data row3 col0\" >Missing Values</td>\n",
       "      <td id=\"T_b44ad_row3_col1\" class=\"data row3 col1\" >0</td>\n",
       "    </tr>\n",
       "    <tr>\n",
       "      <th id=\"T_b44ad_level0_row4\" class=\"row_heading level0 row4\" >4</th>\n",
       "      <td id=\"T_b44ad_row4_col0\" class=\"data row4 col0\" >Numeric Features</td>\n",
       "      <td id=\"T_b44ad_row4_col1\" class=\"data row4 col1\" >4</td>\n",
       "    </tr>\n",
       "    <tr>\n",
       "      <th id=\"T_b44ad_level0_row5\" class=\"row_heading level0 row5\" >5</th>\n",
       "      <td id=\"T_b44ad_row5_col0\" class=\"data row5 col0\" >Categorical Features</td>\n",
       "      <td id=\"T_b44ad_row5_col1\" class=\"data row5 col1\" >0</td>\n",
       "    </tr>\n",
       "    <tr>\n",
       "      <th id=\"T_b44ad_level0_row6\" class=\"row_heading level0 row6\" >6</th>\n",
       "      <td id=\"T_b44ad_row6_col0\" class=\"data row6 col0\" >Ordinal Features</td>\n",
       "      <td id=\"T_b44ad_row6_col1\" class=\"data row6 col1\" >0</td>\n",
       "    </tr>\n",
       "    <tr>\n",
       "      <th id=\"T_b44ad_level0_row7\" class=\"row_heading level0 row7\" >7</th>\n",
       "      <td id=\"T_b44ad_row7_col0\" class=\"data row7 col0\" >High Cardinality Features</td>\n",
       "      <td id=\"T_b44ad_row7_col1\" class=\"data row7 col1\" >0</td>\n",
       "    </tr>\n",
       "    <tr>\n",
       "      <th id=\"T_b44ad_level0_row8\" class=\"row_heading level0 row8\" >8</th>\n",
       "      <td id=\"T_b44ad_row8_col0\" class=\"data row8 col0\" >High Cardinality Method</td>\n",
       "      <td id=\"T_b44ad_row8_col1\" class=\"data row8 col1\" >None</td>\n",
       "    </tr>\n",
       "    <tr>\n",
       "      <th id=\"T_b44ad_level0_row9\" class=\"row_heading level0 row9\" >9</th>\n",
       "      <td id=\"T_b44ad_row9_col0\" class=\"data row9 col0\" >Transformed Train Set</td>\n",
       "      <td id=\"T_b44ad_row9_col1\" class=\"data row9 col1\" >(180, 4)</td>\n",
       "    </tr>\n",
       "    <tr>\n",
       "      <th id=\"T_b44ad_level0_row10\" class=\"row_heading level0 row10\" >10</th>\n",
       "      <td id=\"T_b44ad_row10_col0\" class=\"data row10 col0\" >Transformed Test Set</td>\n",
       "      <td id=\"T_b44ad_row10_col1\" class=\"data row10 col1\" >(24, 4)</td>\n",
       "    </tr>\n",
       "    <tr>\n",
       "      <th id=\"T_b44ad_level0_row11\" class=\"row_heading level0 row11\" >11</th>\n",
       "      <td id=\"T_b44ad_row11_col0\" class=\"data row11 col0\" >Shuffle Train-Test</td>\n",
       "      <td id=\"T_b44ad_row11_col1\" class=\"data row11 col1\" >False</td>\n",
       "    </tr>\n",
       "    <tr>\n",
       "      <th id=\"T_b44ad_level0_row12\" class=\"row_heading level0 row12\" >12</th>\n",
       "      <td id=\"T_b44ad_row12_col0\" class=\"data row12 col0\" >Stratify Train-Test</td>\n",
       "      <td id=\"T_b44ad_row12_col1\" class=\"data row12 col1\" >False</td>\n",
       "    </tr>\n",
       "    <tr>\n",
       "      <th id=\"T_b44ad_level0_row13\" class=\"row_heading level0 row13\" >13</th>\n",
       "      <td id=\"T_b44ad_row13_col0\" class=\"data row13 col0\" >Fold Generator</td>\n",
       "      <td id=\"T_b44ad_row13_col1\" class=\"data row13 col1\" >TimeSeriesSplit</td>\n",
       "    </tr>\n",
       "    <tr>\n",
       "      <th id=\"T_b44ad_level0_row14\" class=\"row_heading level0 row14\" >14</th>\n",
       "      <td id=\"T_b44ad_row14_col0\" class=\"data row14 col0\" >Fold Number</td>\n",
       "      <td id=\"T_b44ad_row14_col1\" class=\"data row14 col1\" >10</td>\n",
       "    </tr>\n",
       "    <tr>\n",
       "      <th id=\"T_b44ad_level0_row15\" class=\"row_heading level0 row15\" >15</th>\n",
       "      <td id=\"T_b44ad_row15_col0\" class=\"data row15 col0\" >CPU Jobs</td>\n",
       "      <td id=\"T_b44ad_row15_col1\" class=\"data row15 col1\" >-1</td>\n",
       "    </tr>\n",
       "    <tr>\n",
       "      <th id=\"T_b44ad_level0_row16\" class=\"row_heading level0 row16\" >16</th>\n",
       "      <td id=\"T_b44ad_row16_col0\" class=\"data row16 col0\" >Use GPU</td>\n",
       "      <td id=\"T_b44ad_row16_col1\" class=\"data row16 col1\" >0</td>\n",
       "    </tr>\n",
       "    <tr>\n",
       "      <th id=\"T_b44ad_level0_row17\" class=\"row_heading level0 row17\" >17</th>\n",
       "      <td id=\"T_b44ad_row17_col0\" class=\"data row17 col0\" >Log Experiment</td>\n",
       "      <td id=\"T_b44ad_row17_col1\" class=\"data row17 col1\" >0</td>\n",
       "    </tr>\n",
       "    <tr>\n",
       "      <th id=\"T_b44ad_level0_row18\" class=\"row_heading level0 row18\" >18</th>\n",
       "      <td id=\"T_b44ad_row18_col0\" class=\"data row18 col0\" >Experiment Name</td>\n",
       "      <td id=\"T_b44ad_row18_col1\" class=\"data row18 col1\" >reg-default-name</td>\n",
       "    </tr>\n",
       "    <tr>\n",
       "      <th id=\"T_b44ad_level0_row19\" class=\"row_heading level0 row19\" >19</th>\n",
       "      <td id=\"T_b44ad_row19_col0\" class=\"data row19 col0\" >USI</td>\n",
       "      <td id=\"T_b44ad_row19_col1\" class=\"data row19 col1\" >a2db</td>\n",
       "    </tr>\n",
       "    <tr>\n",
       "      <th id=\"T_b44ad_level0_row20\" class=\"row_heading level0 row20\" >20</th>\n",
       "      <td id=\"T_b44ad_row20_col0\" class=\"data row20 col0\" >Imputation Type</td>\n",
       "      <td id=\"T_b44ad_row20_col1\" class=\"data row20 col1\" >simple</td>\n",
       "    </tr>\n",
       "    <tr>\n",
       "      <th id=\"T_b44ad_level0_row21\" class=\"row_heading level0 row21\" >21</th>\n",
       "      <td id=\"T_b44ad_row21_col0\" class=\"data row21 col0\" >Iterative Imputation Iteration</td>\n",
       "      <td id=\"T_b44ad_row21_col1\" class=\"data row21 col1\" >None</td>\n",
       "    </tr>\n",
       "    <tr>\n",
       "      <th id=\"T_b44ad_level0_row22\" class=\"row_heading level0 row22\" >22</th>\n",
       "      <td id=\"T_b44ad_row22_col0\" class=\"data row22 col0\" >Numeric Imputer</td>\n",
       "      <td id=\"T_b44ad_row22_col1\" class=\"data row22 col1\" >mean</td>\n",
       "    </tr>\n",
       "    <tr>\n",
       "      <th id=\"T_b44ad_level0_row23\" class=\"row_heading level0 row23\" >23</th>\n",
       "      <td id=\"T_b44ad_row23_col0\" class=\"data row23 col0\" >Iterative Imputation Numeric Model</td>\n",
       "      <td id=\"T_b44ad_row23_col1\" class=\"data row23 col1\" >None</td>\n",
       "    </tr>\n",
       "    <tr>\n",
       "      <th id=\"T_b44ad_level0_row24\" class=\"row_heading level0 row24\" >24</th>\n",
       "      <td id=\"T_b44ad_row24_col0\" class=\"data row24 col0\" >Categorical Imputer</td>\n",
       "      <td id=\"T_b44ad_row24_col1\" class=\"data row24 col1\" >constant</td>\n",
       "    </tr>\n",
       "    <tr>\n",
       "      <th id=\"T_b44ad_level0_row25\" class=\"row_heading level0 row25\" >25</th>\n",
       "      <td id=\"T_b44ad_row25_col0\" class=\"data row25 col0\" >Iterative Imputation Categorical Model</td>\n",
       "      <td id=\"T_b44ad_row25_col1\" class=\"data row25 col1\" >None</td>\n",
       "    </tr>\n",
       "    <tr>\n",
       "      <th id=\"T_b44ad_level0_row26\" class=\"row_heading level0 row26\" >26</th>\n",
       "      <td id=\"T_b44ad_row26_col0\" class=\"data row26 col0\" >Unknown Categoricals Handling</td>\n",
       "      <td id=\"T_b44ad_row26_col1\" class=\"data row26 col1\" >least_frequent</td>\n",
       "    </tr>\n",
       "    <tr>\n",
       "      <th id=\"T_b44ad_level0_row27\" class=\"row_heading level0 row27\" >27</th>\n",
       "      <td id=\"T_b44ad_row27_col0\" class=\"data row27 col0\" >Normalize</td>\n",
       "      <td id=\"T_b44ad_row27_col1\" class=\"data row27 col1\" >0</td>\n",
       "    </tr>\n",
       "    <tr>\n",
       "      <th id=\"T_b44ad_level0_row28\" class=\"row_heading level0 row28\" >28</th>\n",
       "      <td id=\"T_b44ad_row28_col0\" class=\"data row28 col0\" >Normalize Method</td>\n",
       "      <td id=\"T_b44ad_row28_col1\" class=\"data row28 col1\" >None</td>\n",
       "    </tr>\n",
       "    <tr>\n",
       "      <th id=\"T_b44ad_level0_row29\" class=\"row_heading level0 row29\" >29</th>\n",
       "      <td id=\"T_b44ad_row29_col0\" class=\"data row29 col0\" >Transformation</td>\n",
       "      <td id=\"T_b44ad_row29_col1\" class=\"data row29 col1\" >0</td>\n",
       "    </tr>\n",
       "    <tr>\n",
       "      <th id=\"T_b44ad_level0_row30\" class=\"row_heading level0 row30\" >30</th>\n",
       "      <td id=\"T_b44ad_row30_col0\" class=\"data row30 col0\" >Transformation Method</td>\n",
       "      <td id=\"T_b44ad_row30_col1\" class=\"data row30 col1\" >None</td>\n",
       "    </tr>\n",
       "    <tr>\n",
       "      <th id=\"T_b44ad_level0_row31\" class=\"row_heading level0 row31\" >31</th>\n",
       "      <td id=\"T_b44ad_row31_col0\" class=\"data row31 col0\" >PCA</td>\n",
       "      <td id=\"T_b44ad_row31_col1\" class=\"data row31 col1\" >0</td>\n",
       "    </tr>\n",
       "    <tr>\n",
       "      <th id=\"T_b44ad_level0_row32\" class=\"row_heading level0 row32\" >32</th>\n",
       "      <td id=\"T_b44ad_row32_col0\" class=\"data row32 col0\" >PCA Method</td>\n",
       "      <td id=\"T_b44ad_row32_col1\" class=\"data row32 col1\" >None</td>\n",
       "    </tr>\n",
       "    <tr>\n",
       "      <th id=\"T_b44ad_level0_row33\" class=\"row_heading level0 row33\" >33</th>\n",
       "      <td id=\"T_b44ad_row33_col0\" class=\"data row33 col0\" >PCA Components</td>\n",
       "      <td id=\"T_b44ad_row33_col1\" class=\"data row33 col1\" >None</td>\n",
       "    </tr>\n",
       "    <tr>\n",
       "      <th id=\"T_b44ad_level0_row34\" class=\"row_heading level0 row34\" >34</th>\n",
       "      <td id=\"T_b44ad_row34_col0\" class=\"data row34 col0\" >Ignore Low Variance</td>\n",
       "      <td id=\"T_b44ad_row34_col1\" class=\"data row34 col1\" >0</td>\n",
       "    </tr>\n",
       "    <tr>\n",
       "      <th id=\"T_b44ad_level0_row35\" class=\"row_heading level0 row35\" >35</th>\n",
       "      <td id=\"T_b44ad_row35_col0\" class=\"data row35 col0\" >Combine Rare Levels</td>\n",
       "      <td id=\"T_b44ad_row35_col1\" class=\"data row35 col1\" >0</td>\n",
       "    </tr>\n",
       "    <tr>\n",
       "      <th id=\"T_b44ad_level0_row36\" class=\"row_heading level0 row36\" >36</th>\n",
       "      <td id=\"T_b44ad_row36_col0\" class=\"data row36 col0\" >Rare Level Threshold</td>\n",
       "      <td id=\"T_b44ad_row36_col1\" class=\"data row36 col1\" >None</td>\n",
       "    </tr>\n",
       "    <tr>\n",
       "      <th id=\"T_b44ad_level0_row37\" class=\"row_heading level0 row37\" >37</th>\n",
       "      <td id=\"T_b44ad_row37_col0\" class=\"data row37 col0\" >Numeric Binning</td>\n",
       "      <td id=\"T_b44ad_row37_col1\" class=\"data row37 col1\" >0</td>\n",
       "    </tr>\n",
       "    <tr>\n",
       "      <th id=\"T_b44ad_level0_row38\" class=\"row_heading level0 row38\" >38</th>\n",
       "      <td id=\"T_b44ad_row38_col0\" class=\"data row38 col0\" >Remove Outliers</td>\n",
       "      <td id=\"T_b44ad_row38_col1\" class=\"data row38 col1\" >0</td>\n",
       "    </tr>\n",
       "    <tr>\n",
       "      <th id=\"T_b44ad_level0_row39\" class=\"row_heading level0 row39\" >39</th>\n",
       "      <td id=\"T_b44ad_row39_col0\" class=\"data row39 col0\" >Outliers Threshold</td>\n",
       "      <td id=\"T_b44ad_row39_col1\" class=\"data row39 col1\" >None</td>\n",
       "    </tr>\n",
       "    <tr>\n",
       "      <th id=\"T_b44ad_level0_row40\" class=\"row_heading level0 row40\" >40</th>\n",
       "      <td id=\"T_b44ad_row40_col0\" class=\"data row40 col0\" >Remove Multicollinearity</td>\n",
       "      <td id=\"T_b44ad_row40_col1\" class=\"data row40 col1\" >0</td>\n",
       "    </tr>\n",
       "    <tr>\n",
       "      <th id=\"T_b44ad_level0_row41\" class=\"row_heading level0 row41\" >41</th>\n",
       "      <td id=\"T_b44ad_row41_col0\" class=\"data row41 col0\" >Multicollinearity Threshold</td>\n",
       "      <td id=\"T_b44ad_row41_col1\" class=\"data row41 col1\" >None</td>\n",
       "    </tr>\n",
       "    <tr>\n",
       "      <th id=\"T_b44ad_level0_row42\" class=\"row_heading level0 row42\" >42</th>\n",
       "      <td id=\"T_b44ad_row42_col0\" class=\"data row42 col0\" >Remove Perfect Collinearity</td>\n",
       "      <td id=\"T_b44ad_row42_col1\" class=\"data row42 col1\" >1</td>\n",
       "    </tr>\n",
       "    <tr>\n",
       "      <th id=\"T_b44ad_level0_row43\" class=\"row_heading level0 row43\" >43</th>\n",
       "      <td id=\"T_b44ad_row43_col0\" class=\"data row43 col0\" >Clustering</td>\n",
       "      <td id=\"T_b44ad_row43_col1\" class=\"data row43 col1\" >0</td>\n",
       "    </tr>\n",
       "    <tr>\n",
       "      <th id=\"T_b44ad_level0_row44\" class=\"row_heading level0 row44\" >44</th>\n",
       "      <td id=\"T_b44ad_row44_col0\" class=\"data row44 col0\" >Clustering Iteration</td>\n",
       "      <td id=\"T_b44ad_row44_col1\" class=\"data row44 col1\" >None</td>\n",
       "    </tr>\n",
       "    <tr>\n",
       "      <th id=\"T_b44ad_level0_row45\" class=\"row_heading level0 row45\" >45</th>\n",
       "      <td id=\"T_b44ad_row45_col0\" class=\"data row45 col0\" >Polynomial Features</td>\n",
       "      <td id=\"T_b44ad_row45_col1\" class=\"data row45 col1\" >0</td>\n",
       "    </tr>\n",
       "    <tr>\n",
       "      <th id=\"T_b44ad_level0_row46\" class=\"row_heading level0 row46\" >46</th>\n",
       "      <td id=\"T_b44ad_row46_col0\" class=\"data row46 col0\" >Polynomial Degree</td>\n",
       "      <td id=\"T_b44ad_row46_col1\" class=\"data row46 col1\" >None</td>\n",
       "    </tr>\n",
       "    <tr>\n",
       "      <th id=\"T_b44ad_level0_row47\" class=\"row_heading level0 row47\" >47</th>\n",
       "      <td id=\"T_b44ad_row47_col0\" class=\"data row47 col0\" >Trignometry Features</td>\n",
       "      <td id=\"T_b44ad_row47_col1\" class=\"data row47 col1\" >0</td>\n",
       "    </tr>\n",
       "    <tr>\n",
       "      <th id=\"T_b44ad_level0_row48\" class=\"row_heading level0 row48\" >48</th>\n",
       "      <td id=\"T_b44ad_row48_col0\" class=\"data row48 col0\" >Polynomial Threshold</td>\n",
       "      <td id=\"T_b44ad_row48_col1\" class=\"data row48 col1\" >None</td>\n",
       "    </tr>\n",
       "    <tr>\n",
       "      <th id=\"T_b44ad_level0_row49\" class=\"row_heading level0 row49\" >49</th>\n",
       "      <td id=\"T_b44ad_row49_col0\" class=\"data row49 col0\" >Group Features</td>\n",
       "      <td id=\"T_b44ad_row49_col1\" class=\"data row49 col1\" >0</td>\n",
       "    </tr>\n",
       "    <tr>\n",
       "      <th id=\"T_b44ad_level0_row50\" class=\"row_heading level0 row50\" >50</th>\n",
       "      <td id=\"T_b44ad_row50_col0\" class=\"data row50 col0\" >Feature Selection</td>\n",
       "      <td id=\"T_b44ad_row50_col1\" class=\"data row50 col1\" >0</td>\n",
       "    </tr>\n",
       "    <tr>\n",
       "      <th id=\"T_b44ad_level0_row51\" class=\"row_heading level0 row51\" >51</th>\n",
       "      <td id=\"T_b44ad_row51_col0\" class=\"data row51 col0\" >Feature Selection Method</td>\n",
       "      <td id=\"T_b44ad_row51_col1\" class=\"data row51 col1\" >classic</td>\n",
       "    </tr>\n",
       "    <tr>\n",
       "      <th id=\"T_b44ad_level0_row52\" class=\"row_heading level0 row52\" >52</th>\n",
       "      <td id=\"T_b44ad_row52_col0\" class=\"data row52 col0\" >Features Selection Threshold</td>\n",
       "      <td id=\"T_b44ad_row52_col1\" class=\"data row52 col1\" >None</td>\n",
       "    </tr>\n",
       "    <tr>\n",
       "      <th id=\"T_b44ad_level0_row53\" class=\"row_heading level0 row53\" >53</th>\n",
       "      <td id=\"T_b44ad_row53_col0\" class=\"data row53 col0\" >Feature Interaction</td>\n",
       "      <td id=\"T_b44ad_row53_col1\" class=\"data row53 col1\" >0</td>\n",
       "    </tr>\n",
       "    <tr>\n",
       "      <th id=\"T_b44ad_level0_row54\" class=\"row_heading level0 row54\" >54</th>\n",
       "      <td id=\"T_b44ad_row54_col0\" class=\"data row54 col0\" >Feature Ratio</td>\n",
       "      <td id=\"T_b44ad_row54_col1\" class=\"data row54 col1\" >0</td>\n",
       "    </tr>\n",
       "    <tr>\n",
       "      <th id=\"T_b44ad_level0_row55\" class=\"row_heading level0 row55\" >55</th>\n",
       "      <td id=\"T_b44ad_row55_col0\" class=\"data row55 col0\" >Interaction Threshold</td>\n",
       "      <td id=\"T_b44ad_row55_col1\" class=\"data row55 col1\" >None</td>\n",
       "    </tr>\n",
       "    <tr>\n",
       "      <th id=\"T_b44ad_level0_row56\" class=\"row_heading level0 row56\" >56</th>\n",
       "      <td id=\"T_b44ad_row56_col0\" class=\"data row56 col0\" >Transform Target</td>\n",
       "      <td id=\"T_b44ad_row56_col1\" class=\"data row56 col1\" >0</td>\n",
       "    </tr>\n",
       "    <tr>\n",
       "      <th id=\"T_b44ad_level0_row57\" class=\"row_heading level0 row57\" >57</th>\n",
       "      <td id=\"T_b44ad_row57_col0\" class=\"data row57 col0\" >Transform Target Method</td>\n",
       "      <td id=\"T_b44ad_row57_col1\" class=\"data row57 col1\" >box-cox</td>\n",
       "    </tr>\n",
       "  </tbody>\n",
       "</table>\n"
      ],
      "text/plain": [
       "<pandas.io.formats.style.Styler at 0x19a33019670>"
      ]
     },
     "metadata": {},
     "output_type": "display_data"
    }
   ],
   "source": [
    "# Initialize setup\n",
    "s = setup(    \n",
    "    data = train, \n",
    "    test_data = test, \n",
    "    target = dep_var, \n",
    "    preprocess=True,  \n",
    "    fold_strategy = 'timeseries', \n",
    "    transform_target = False, \n",
    "    data_split_shuffle=False,\n",
    "    session_id = 42)"
   ]
  },
  {
   "cell_type": "code",
   "execution_count": 40,
   "metadata": {},
   "outputs": [],
   "source": [
    "# Review the transformed dataset\n",
    "prep_pipe = get_config('prep_pipe') \n",
    "transformed_df = prep_pipe.transform(df) "
   ]
  },
  {
   "cell_type": "code",
   "execution_count": 41,
   "metadata": {},
   "outputs": [
    {
     "data": {
      "text/html": [
       "<div>\n",
       "<style scoped>\n",
       "    .dataframe tbody tr th:only-of-type {\n",
       "        vertical-align: middle;\n",
       "    }\n",
       "\n",
       "    .dataframe tbody tr th {\n",
       "        vertical-align: top;\n",
       "    }\n",
       "\n",
       "    .dataframe thead th {\n",
       "        text-align: right;\n",
       "    }\n",
       "</style>\n",
       "<table border=\"1\" class=\"dataframe\">\n",
       "  <thead>\n",
       "    <tr style=\"text-align: right;\">\n",
       "      <th></th>\n",
       "      <th>CPI</th>\n",
       "      <th>UR</th>\n",
       "      <th>LTIR</th>\n",
       "      <th>TIV</th>\n",
       "    </tr>\n",
       "    <tr>\n",
       "      <th>Date</th>\n",
       "      <th></th>\n",
       "      <th></th>\n",
       "      <th></th>\n",
       "      <th></th>\n",
       "    </tr>\n",
       "  </thead>\n",
       "  <tbody>\n",
       "    <tr>\n",
       "      <th>2006-01-01</th>\n",
       "      <td>0.807265</td>\n",
       "      <td>8.3</td>\n",
       "      <td>3.280000</td>\n",
       "      <td>20178.0</td>\n",
       "    </tr>\n",
       "    <tr>\n",
       "      <th>2006-02-01</th>\n",
       "      <td>0.901804</td>\n",
       "      <td>8.0</td>\n",
       "      <td>3.440000</td>\n",
       "      <td>12846.0</td>\n",
       "    </tr>\n",
       "    <tr>\n",
       "      <th>2006-03-01</th>\n",
       "      <td>0.899101</td>\n",
       "      <td>7.7</td>\n",
       "      <td>3.620000</td>\n",
       "      <td>15165.0</td>\n",
       "    </tr>\n",
       "    <tr>\n",
       "      <th>2006-04-01</th>\n",
       "      <td>1.297405</td>\n",
       "      <td>7.7</td>\n",
       "      <td>3.880000</td>\n",
       "      <td>13474.0</td>\n",
       "    </tr>\n",
       "    <tr>\n",
       "      <th>2006-05-01</th>\n",
       "      <td>1.701702</td>\n",
       "      <td>7.9</td>\n",
       "      <td>3.940000</td>\n",
       "      <td>16516.0</td>\n",
       "    </tr>\n",
       "    <tr>\n",
       "      <th>...</th>\n",
       "      <td>...</td>\n",
       "      <td>...</td>\n",
       "      <td>...</td>\n",
       "      <td>...</td>\n",
       "    </tr>\n",
       "    <tr>\n",
       "      <th>2022-08-01</th>\n",
       "      <td>7.616082</td>\n",
       "      <td>7.2</td>\n",
       "      <td>1.624904</td>\n",
       "      <td>8055.0</td>\n",
       "    </tr>\n",
       "    <tr>\n",
       "      <th>2022-09-01</th>\n",
       "      <td>8.119296</td>\n",
       "      <td>7.3</td>\n",
       "      <td>2.420836</td>\n",
       "      <td>7779.0</td>\n",
       "    </tr>\n",
       "    <tr>\n",
       "      <th>2022-10-01</th>\n",
       "      <td>8.310766</td>\n",
       "      <td>6.4</td>\n",
       "      <td>2.894486</td>\n",
       "      <td>7026.0</td>\n",
       "    </tr>\n",
       "    <tr>\n",
       "      <th>2022-11-01</th>\n",
       "      <td>9.138235</td>\n",
       "      <td>6.7</td>\n",
       "      <td>2.691082</td>\n",
       "      <td>7277.0</td>\n",
       "    </tr>\n",
       "    <tr>\n",
       "      <th>2022-12-01</th>\n",
       "      <td>9.145037</td>\n",
       "      <td>7.2</td>\n",
       "      <td>2.706710</td>\n",
       "      <td>7204.0</td>\n",
       "    </tr>\n",
       "  </tbody>\n",
       "</table>\n",
       "<p>204 rows × 4 columns</p>\n",
       "</div>"
      ],
      "text/plain": [
       "                 CPI   UR      LTIR      TIV\n",
       "Date                                        \n",
       "2006-01-01  0.807265  8.3  3.280000  20178.0\n",
       "2006-02-01  0.901804  8.0  3.440000  12846.0\n",
       "2006-03-01  0.899101  7.7  3.620000  15165.0\n",
       "2006-04-01  1.297405  7.7  3.880000  13474.0\n",
       "2006-05-01  1.701702  7.9  3.940000  16516.0\n",
       "...              ...  ...       ...      ...\n",
       "2022-08-01  7.616082  7.2  1.624904   8055.0\n",
       "2022-09-01  8.119296  7.3  2.420836   7779.0\n",
       "2022-10-01  8.310766  6.4  2.894486   7026.0\n",
       "2022-11-01  9.138235  6.7  2.691082   7277.0\n",
       "2022-12-01  9.145037  7.2  2.706710   7204.0\n",
       "\n",
       "[204 rows x 4 columns]"
      ]
     },
     "execution_count": 41,
     "metadata": {},
     "output_type": "execute_result"
    }
   ],
   "source": [
    "transformed_df"
   ]
  },
  {
   "cell_type": "code",
   "execution_count": 42,
   "metadata": {},
   "outputs": [
    {
     "data": {
      "text/plain": [
       "Index(['CPI', 'UR', 'LTIR', 'TIV'], dtype='object')"
      ]
     },
     "execution_count": 42,
     "metadata": {},
     "output_type": "execute_result"
    }
   ],
   "source": [
    "transformed_df.columns"
   ]
  },
  {
   "cell_type": "code",
   "execution_count": 43,
   "metadata": {},
   "outputs": [
    {
     "data": {
      "text/plain": [
       "Index(['Orders', 'CPI', 'UR', 'LTIR', 'TIV'], dtype='object')"
      ]
     },
     "execution_count": 43,
     "metadata": {},
     "output_type": "execute_result"
    }
   ],
   "source": [
    "df.columns"
   ]
  },
  {
   "attachments": {},
   "cell_type": "markdown",
   "metadata": {},
   "source": [
    "#### Model comparison"
   ]
  },
  {
   "cell_type": "code",
   "execution_count": 46,
   "metadata": {},
   "outputs": [
    {
     "data": {
      "text/html": [
       "<style type=\"text/css\">\n",
       "#T_a38a0 th {\n",
       "  text-align: left;\n",
       "}\n",
       "#T_a38a0_row0_col0, #T_a38a0_row1_col0, #T_a38a0_row1_col1, #T_a38a0_row1_col2, #T_a38a0_row1_col3, #T_a38a0_row1_col4, #T_a38a0_row1_col5, #T_a38a0_row1_col6, #T_a38a0_row2_col0, #T_a38a0_row2_col1, #T_a38a0_row2_col2, #T_a38a0_row2_col3, #T_a38a0_row2_col4, #T_a38a0_row2_col5, #T_a38a0_row2_col6, #T_a38a0_row3_col0, #T_a38a0_row3_col1, #T_a38a0_row3_col2, #T_a38a0_row3_col3, #T_a38a0_row3_col4, #T_a38a0_row3_col5, #T_a38a0_row3_col6, #T_a38a0_row4_col0, #T_a38a0_row4_col1, #T_a38a0_row4_col2, #T_a38a0_row4_col3, #T_a38a0_row4_col4, #T_a38a0_row4_col5, #T_a38a0_row4_col6, #T_a38a0_row5_col0, #T_a38a0_row5_col1, #T_a38a0_row5_col2, #T_a38a0_row5_col3, #T_a38a0_row5_col4, #T_a38a0_row5_col5, #T_a38a0_row5_col6, #T_a38a0_row6_col0, #T_a38a0_row6_col1, #T_a38a0_row6_col2, #T_a38a0_row6_col3, #T_a38a0_row6_col4, #T_a38a0_row6_col5, #T_a38a0_row6_col6, #T_a38a0_row7_col0, #T_a38a0_row7_col1, #T_a38a0_row7_col2, #T_a38a0_row7_col3, #T_a38a0_row7_col4, #T_a38a0_row7_col5, #T_a38a0_row7_col6, #T_a38a0_row8_col0, #T_a38a0_row8_col1, #T_a38a0_row8_col2, #T_a38a0_row8_col3, #T_a38a0_row8_col4, #T_a38a0_row8_col5, #T_a38a0_row8_col6, #T_a38a0_row9_col0, #T_a38a0_row9_col1, #T_a38a0_row9_col2, #T_a38a0_row9_col3, #T_a38a0_row9_col4, #T_a38a0_row9_col5, #T_a38a0_row9_col6, #T_a38a0_row10_col0, #T_a38a0_row10_col1, #T_a38a0_row10_col2, #T_a38a0_row10_col3, #T_a38a0_row10_col4, #T_a38a0_row10_col5, #T_a38a0_row10_col6, #T_a38a0_row11_col0, #T_a38a0_row11_col1, #T_a38a0_row11_col2, #T_a38a0_row11_col3, #T_a38a0_row11_col4, #T_a38a0_row11_col5, #T_a38a0_row11_col6, #T_a38a0_row12_col0, #T_a38a0_row12_col1, #T_a38a0_row12_col2, #T_a38a0_row12_col3, #T_a38a0_row12_col4, #T_a38a0_row12_col5, #T_a38a0_row12_col6, #T_a38a0_row13_col0, #T_a38a0_row13_col1, #T_a38a0_row13_col2, #T_a38a0_row13_col3, #T_a38a0_row13_col4, #T_a38a0_row13_col5, #T_a38a0_row13_col6, #T_a38a0_row14_col0, #T_a38a0_row14_col1, #T_a38a0_row14_col2, #T_a38a0_row14_col3, #T_a38a0_row14_col4, #T_a38a0_row14_col5, #T_a38a0_row14_col6, #T_a38a0_row15_col0, #T_a38a0_row15_col1, #T_a38a0_row15_col2, #T_a38a0_row15_col3, #T_a38a0_row15_col4, #T_a38a0_row15_col5, #T_a38a0_row15_col6, #T_a38a0_row16_col0, #T_a38a0_row16_col1, #T_a38a0_row16_col2, #T_a38a0_row16_col3, #T_a38a0_row16_col4, #T_a38a0_row16_col5, #T_a38a0_row16_col6, #T_a38a0_row17_col0, #T_a38a0_row17_col1, #T_a38a0_row17_col2, #T_a38a0_row17_col3, #T_a38a0_row17_col4, #T_a38a0_row17_col5, #T_a38a0_row17_col6, #T_a38a0_row18_col0, #T_a38a0_row18_col1, #T_a38a0_row18_col2, #T_a38a0_row18_col3, #T_a38a0_row18_col4, #T_a38a0_row18_col5, #T_a38a0_row18_col6 {\n",
       "  text-align: left;\n",
       "}\n",
       "#T_a38a0_row0_col1, #T_a38a0_row0_col2, #T_a38a0_row0_col3, #T_a38a0_row0_col4, #T_a38a0_row0_col5, #T_a38a0_row0_col6 {\n",
       "  text-align: left;\n",
       "  background-color: yellow;\n",
       "}\n",
       "#T_a38a0_row0_col7, #T_a38a0_row1_col7, #T_a38a0_row4_col7, #T_a38a0_row9_col7, #T_a38a0_row16_col7 {\n",
       "  text-align: left;\n",
       "  background-color: yellow;\n",
       "  background-color: lightgrey;\n",
       "}\n",
       "#T_a38a0_row2_col7, #T_a38a0_row3_col7, #T_a38a0_row5_col7, #T_a38a0_row6_col7, #T_a38a0_row7_col7, #T_a38a0_row8_col7, #T_a38a0_row10_col7, #T_a38a0_row11_col7, #T_a38a0_row12_col7, #T_a38a0_row13_col7, #T_a38a0_row14_col7, #T_a38a0_row15_col7, #T_a38a0_row17_col7, #T_a38a0_row18_col7 {\n",
       "  text-align: left;\n",
       "  background-color: lightgrey;\n",
       "}\n",
       "</style>\n",
       "<table id=\"T_a38a0\">\n",
       "  <thead>\n",
       "    <tr>\n",
       "      <th class=\"blank level0\" >&nbsp;</th>\n",
       "      <th id=\"T_a38a0_level0_col0\" class=\"col_heading level0 col0\" >Model</th>\n",
       "      <th id=\"T_a38a0_level0_col1\" class=\"col_heading level0 col1\" >MAE</th>\n",
       "      <th id=\"T_a38a0_level0_col2\" class=\"col_heading level0 col2\" >MSE</th>\n",
       "      <th id=\"T_a38a0_level0_col3\" class=\"col_heading level0 col3\" >RMSE</th>\n",
       "      <th id=\"T_a38a0_level0_col4\" class=\"col_heading level0 col4\" >R2</th>\n",
       "      <th id=\"T_a38a0_level0_col5\" class=\"col_heading level0 col5\" >RMSLE</th>\n",
       "      <th id=\"T_a38a0_level0_col6\" class=\"col_heading level0 col6\" >MAPE</th>\n",
       "      <th id=\"T_a38a0_level0_col7\" class=\"col_heading level0 col7\" >TT (Sec)</th>\n",
       "    </tr>\n",
       "  </thead>\n",
       "  <tbody>\n",
       "    <tr>\n",
       "      <th id=\"T_a38a0_level0_row0\" class=\"row_heading level0 row0\" >br</th>\n",
       "      <td id=\"T_a38a0_row0_col0\" class=\"data row0 col0\" >Bayesian Ridge</td>\n",
       "      <td id=\"T_a38a0_row0_col1\" class=\"data row0 col1\" >132.2672</td>\n",
       "      <td id=\"T_a38a0_row0_col2\" class=\"data row0 col2\" >27757.4738</td>\n",
       "      <td id=\"T_a38a0_row0_col3\" class=\"data row0 col3\" >157.0417</td>\n",
       "      <td id=\"T_a38a0_row0_col4\" class=\"data row0 col4\" >-0.2681</td>\n",
       "      <td id=\"T_a38a0_row0_col5\" class=\"data row0 col5\" >0.3034</td>\n",
       "      <td id=\"T_a38a0_row0_col6\" class=\"data row0 col6\" >0.3160</td>\n",
       "      <td id=\"T_a38a0_row0_col7\" class=\"data row0 col7\" >0.0070</td>\n",
       "    </tr>\n",
       "    <tr>\n",
       "      <th id=\"T_a38a0_level0_row1\" class=\"row_heading level0 row1\" >omp</th>\n",
       "      <td id=\"T_a38a0_row1_col0\" class=\"data row1 col0\" >Orthogonal Matching Pursuit</td>\n",
       "      <td id=\"T_a38a0_row1_col1\" class=\"data row1 col1\" >138.8857</td>\n",
       "      <td id=\"T_a38a0_row1_col2\" class=\"data row1 col2\" >33048.6505</td>\n",
       "      <td id=\"T_a38a0_row1_col3\" class=\"data row1 col3\" >164.7517</td>\n",
       "      <td id=\"T_a38a0_row1_col4\" class=\"data row1 col4\" >-0.3554</td>\n",
       "      <td id=\"T_a38a0_row1_col5\" class=\"data row1 col5\" >0.3350</td>\n",
       "      <td id=\"T_a38a0_row1_col6\" class=\"data row1 col6\" >0.3221</td>\n",
       "      <td id=\"T_a38a0_row1_col7\" class=\"data row1 col7\" >0.0070</td>\n",
       "    </tr>\n",
       "    <tr>\n",
       "      <th id=\"T_a38a0_level0_row2\" class=\"row_heading level0 row2\" >knn</th>\n",
       "      <td id=\"T_a38a0_row2_col0\" class=\"data row2 col0\" >K Neighbors Regressor</td>\n",
       "      <td id=\"T_a38a0_row2_col1\" class=\"data row2 col1\" >140.5038</td>\n",
       "      <td id=\"T_a38a0_row2_col2\" class=\"data row2 col2\" >33160.7298</td>\n",
       "      <td id=\"T_a38a0_row2_col3\" class=\"data row2 col3\" >170.4036</td>\n",
       "      <td id=\"T_a38a0_row2_col4\" class=\"data row2 col4\" >-0.4664</td>\n",
       "      <td id=\"T_a38a0_row2_col5\" class=\"data row2 col5\" >0.3286</td>\n",
       "      <td id=\"T_a38a0_row2_col6\" class=\"data row2 col6\" >0.3462</td>\n",
       "      <td id=\"T_a38a0_row2_col7\" class=\"data row2 col7\" >0.0120</td>\n",
       "    </tr>\n",
       "    <tr>\n",
       "      <th id=\"T_a38a0_level0_row3\" class=\"row_heading level0 row3\" >en</th>\n",
       "      <td id=\"T_a38a0_row3_col0\" class=\"data row3 col0\" >Elastic Net</td>\n",
       "      <td id=\"T_a38a0_row3_col1\" class=\"data row3 col1\" >143.1369</td>\n",
       "      <td id=\"T_a38a0_row3_col2\" class=\"data row3 col2\" >35480.6702</td>\n",
       "      <td id=\"T_a38a0_row3_col3\" class=\"data row3 col3\" >170.5648</td>\n",
       "      <td id=\"T_a38a0_row3_col4\" class=\"data row3 col4\" >-0.7750</td>\n",
       "      <td id=\"T_a38a0_row3_col5\" class=\"data row3 col5\" >0.3320</td>\n",
       "      <td id=\"T_a38a0_row3_col6\" class=\"data row3 col6\" >0.3591</td>\n",
       "      <td id=\"T_a38a0_row3_col7\" class=\"data row3 col7\" >0.0080</td>\n",
       "    </tr>\n",
       "    <tr>\n",
       "      <th id=\"T_a38a0_level0_row4\" class=\"row_heading level0 row4\" >ridge</th>\n",
       "      <td id=\"T_a38a0_row4_col0\" class=\"data row4 col0\" >Ridge Regression</td>\n",
       "      <td id=\"T_a38a0_row4_col1\" class=\"data row4 col1\" >154.6867</td>\n",
       "      <td id=\"T_a38a0_row4_col2\" class=\"data row4 col2\" >45154.9894</td>\n",
       "      <td id=\"T_a38a0_row4_col3\" class=\"data row4 col3\" >182.1825</td>\n",
       "      <td id=\"T_a38a0_row4_col4\" class=\"data row4 col4\" >-1.1308</td>\n",
       "      <td id=\"T_a38a0_row4_col5\" class=\"data row4 col5\" >0.3404</td>\n",
       "      <td id=\"T_a38a0_row4_col6\" class=\"data row4 col6\" >0.3738</td>\n",
       "      <td id=\"T_a38a0_row4_col7\" class=\"data row4 col7\" >0.0070</td>\n",
       "    </tr>\n",
       "    <tr>\n",
       "      <th id=\"T_a38a0_level0_row5\" class=\"row_heading level0 row5\" >ada</th>\n",
       "      <td id=\"T_a38a0_row5_col0\" class=\"data row5 col0\" >AdaBoost Regressor</td>\n",
       "      <td id=\"T_a38a0_row5_col1\" class=\"data row5 col1\" >160.1458</td>\n",
       "      <td id=\"T_a38a0_row5_col2\" class=\"data row5 col2\" >43941.5212</td>\n",
       "      <td id=\"T_a38a0_row5_col3\" class=\"data row5 col3\" >196.8843</td>\n",
       "      <td id=\"T_a38a0_row5_col4\" class=\"data row5 col4\" >-1.0274</td>\n",
       "      <td id=\"T_a38a0_row5_col5\" class=\"data row5 col5\" >0.3768</td>\n",
       "      <td id=\"T_a38a0_row5_col6\" class=\"data row5 col6\" >0.4184</td>\n",
       "      <td id=\"T_a38a0_row5_col7\" class=\"data row5 col7\" >0.0170</td>\n",
       "    </tr>\n",
       "    <tr>\n",
       "      <th id=\"T_a38a0_level0_row6\" class=\"row_heading level0 row6\" >rf</th>\n",
       "      <td id=\"T_a38a0_row6_col0\" class=\"data row6 col0\" >Random Forest Regressor</td>\n",
       "      <td id=\"T_a38a0_row6_col1\" class=\"data row6 col1\" >163.1906</td>\n",
       "      <td id=\"T_a38a0_row6_col2\" class=\"data row6 col2\" >47078.8135</td>\n",
       "      <td id=\"T_a38a0_row6_col3\" class=\"data row6 col3\" >199.5457</td>\n",
       "      <td id=\"T_a38a0_row6_col4\" class=\"data row6 col4\" >-1.1554</td>\n",
       "      <td id=\"T_a38a0_row6_col5\" class=\"data row6 col5\" >0.3696</td>\n",
       "      <td id=\"T_a38a0_row6_col6\" class=\"data row6 col6\" >0.4221</td>\n",
       "      <td id=\"T_a38a0_row6_col7\" class=\"data row6 col7\" >0.0500</td>\n",
       "    </tr>\n",
       "    <tr>\n",
       "      <th id=\"T_a38a0_level0_row7\" class=\"row_heading level0 row7\" >llar</th>\n",
       "      <td id=\"T_a38a0_row7_col0\" class=\"data row7 col0\" >Lasso Least Angle Regression</td>\n",
       "      <td id=\"T_a38a0_row7_col1\" class=\"data row7 col1\" >164.0048</td>\n",
       "      <td id=\"T_a38a0_row7_col2\" class=\"data row7 col2\" >51553.4154</td>\n",
       "      <td id=\"T_a38a0_row7_col3\" class=\"data row7 col3\" >192.6122</td>\n",
       "      <td id=\"T_a38a0_row7_col4\" class=\"data row7 col4\" >-1.2628</td>\n",
       "      <td id=\"T_a38a0_row7_col5\" class=\"data row7 col5\" >0.4196</td>\n",
       "      <td id=\"T_a38a0_row7_col6\" class=\"data row7 col6\" >0.3856</td>\n",
       "      <td id=\"T_a38a0_row7_col7\" class=\"data row7 col7\" >0.0090</td>\n",
       "    </tr>\n",
       "    <tr>\n",
       "      <th id=\"T_a38a0_level0_row8\" class=\"row_heading level0 row8\" >lasso</th>\n",
       "      <td id=\"T_a38a0_row8_col0\" class=\"data row8 col0\" >Lasso Regression</td>\n",
       "      <td id=\"T_a38a0_row8_col1\" class=\"data row8 col1\" >167.1695</td>\n",
       "      <td id=\"T_a38a0_row8_col2\" class=\"data row8 col2\" >54904.8523</td>\n",
       "      <td id=\"T_a38a0_row8_col3\" class=\"data row8 col3\" >198.1566</td>\n",
       "      <td id=\"T_a38a0_row8_col4\" class=\"data row8 col4\" >-1.3263</td>\n",
       "      <td id=\"T_a38a0_row8_col5\" class=\"data row8 col5\" >0.3888</td>\n",
       "      <td id=\"T_a38a0_row8_col6\" class=\"data row8 col6\" >0.3870</td>\n",
       "      <td id=\"T_a38a0_row8_col7\" class=\"data row8 col7\" >0.4110</td>\n",
       "    </tr>\n",
       "    <tr>\n",
       "      <th id=\"T_a38a0_level0_row9\" class=\"row_heading level0 row9\" >par</th>\n",
       "      <td id=\"T_a38a0_row9_col0\" class=\"data row9 col0\" >Passive Aggressive Regressor</td>\n",
       "      <td id=\"T_a38a0_row9_col1\" class=\"data row9 col1\" >167.9295</td>\n",
       "      <td id=\"T_a38a0_row9_col2\" class=\"data row9 col2\" >42990.9464</td>\n",
       "      <td id=\"T_a38a0_row9_col3\" class=\"data row9 col3\" >196.3421</td>\n",
       "      <td id=\"T_a38a0_row9_col4\" class=\"data row9 col4\" >-0.8766</td>\n",
       "      <td id=\"T_a38a0_row9_col5\" class=\"data row9 col5\" >0.3606</td>\n",
       "      <td id=\"T_a38a0_row9_col6\" class=\"data row9 col6\" >0.3257</td>\n",
       "      <td id=\"T_a38a0_row9_col7\" class=\"data row9 col7\" >0.0070</td>\n",
       "    </tr>\n",
       "    <tr>\n",
       "      <th id=\"T_a38a0_level0_row10\" class=\"row_heading level0 row10\" >lightgbm</th>\n",
       "      <td id=\"T_a38a0_row10_col0\" class=\"data row10 col0\" >Light Gradient Boosting Machine</td>\n",
       "      <td id=\"T_a38a0_row10_col1\" class=\"data row10 col1\" >169.4721</td>\n",
       "      <td id=\"T_a38a0_row10_col2\" class=\"data row10 col2\" >51441.9589</td>\n",
       "      <td id=\"T_a38a0_row10_col3\" class=\"data row10 col3\" >209.0964</td>\n",
       "      <td id=\"T_a38a0_row10_col4\" class=\"data row10 col4\" >-1.1761</td>\n",
       "      <td id=\"T_a38a0_row10_col5\" class=\"data row10 col5\" >0.3930</td>\n",
       "      <td id=\"T_a38a0_row10_col6\" class=\"data row10 col6\" >0.4532</td>\n",
       "      <td id=\"T_a38a0_row10_col7\" class=\"data row10 col7\" >0.5880</td>\n",
       "    </tr>\n",
       "    <tr>\n",
       "      <th id=\"T_a38a0_level0_row11\" class=\"row_heading level0 row11\" >gbr</th>\n",
       "      <td id=\"T_a38a0_row11_col0\" class=\"data row11 col0\" >Gradient Boosting Regressor</td>\n",
       "      <td id=\"T_a38a0_row11_col1\" class=\"data row11 col1\" >170.4296</td>\n",
       "      <td id=\"T_a38a0_row11_col2\" class=\"data row11 col2\" >55270.4738</td>\n",
       "      <td id=\"T_a38a0_row11_col3\" class=\"data row11 col3\" >212.8758</td>\n",
       "      <td id=\"T_a38a0_row11_col4\" class=\"data row11 col4\" >-1.5819</td>\n",
       "      <td id=\"T_a38a0_row11_col5\" class=\"data row11 col5\" >0.3899</td>\n",
       "      <td id=\"T_a38a0_row11_col6\" class=\"data row11 col6\" >0.4450</td>\n",
       "      <td id=\"T_a38a0_row11_col7\" class=\"data row11 col7\" >0.0120</td>\n",
       "    </tr>\n",
       "    <tr>\n",
       "      <th id=\"T_a38a0_level0_row12\" class=\"row_heading level0 row12\" >lar</th>\n",
       "      <td id=\"T_a38a0_row12_col0\" class=\"data row12 col0\" >Least Angle Regression</td>\n",
       "      <td id=\"T_a38a0_row12_col1\" class=\"data row12 col1\" >170.6034</td>\n",
       "      <td id=\"T_a38a0_row12_col2\" class=\"data row12 col2\" >58464.9668</td>\n",
       "      <td id=\"T_a38a0_row12_col3\" class=\"data row12 col3\" >202.5032</td>\n",
       "      <td id=\"T_a38a0_row12_col4\" class=\"data row12 col4\" >-1.4108</td>\n",
       "      <td id=\"T_a38a0_row12_col5\" class=\"data row12 col5\" >0.4083</td>\n",
       "      <td id=\"T_a38a0_row12_col6\" class=\"data row12 col6\" >0.3925</td>\n",
       "      <td id=\"T_a38a0_row12_col7\" class=\"data row12 col7\" >0.0080</td>\n",
       "    </tr>\n",
       "    <tr>\n",
       "      <th id=\"T_a38a0_level0_row13\" class=\"row_heading level0 row13\" >lr</th>\n",
       "      <td id=\"T_a38a0_row13_col0\" class=\"data row13 col0\" >Linear Regression</td>\n",
       "      <td id=\"T_a38a0_row13_col1\" class=\"data row13 col1\" >170.6062</td>\n",
       "      <td id=\"T_a38a0_row13_col2\" class=\"data row13 col2\" >58467.6492</td>\n",
       "      <td id=\"T_a38a0_row13_col3\" class=\"data row13 col3\" >202.5063</td>\n",
       "      <td id=\"T_a38a0_row13_col4\" class=\"data row13 col4\" >-1.4109</td>\n",
       "      <td id=\"T_a38a0_row13_col5\" class=\"data row13 col5\" >0.4084</td>\n",
       "      <td id=\"T_a38a0_row13_col6\" class=\"data row13 col6\" >0.3925</td>\n",
       "      <td id=\"T_a38a0_row13_col7\" class=\"data row13 col7\" >0.8440</td>\n",
       "    </tr>\n",
       "    <tr>\n",
       "      <th id=\"T_a38a0_level0_row14\" class=\"row_heading level0 row14\" >et</th>\n",
       "      <td id=\"T_a38a0_row14_col0\" class=\"data row14 col0\" >Extra Trees Regressor</td>\n",
       "      <td id=\"T_a38a0_row14_col1\" class=\"data row14 col1\" >175.5967</td>\n",
       "      <td id=\"T_a38a0_row14_col2\" class=\"data row14 col2\" >59858.3638</td>\n",
       "      <td id=\"T_a38a0_row14_col3\" class=\"data row14 col3\" >210.0612</td>\n",
       "      <td id=\"T_a38a0_row14_col4\" class=\"data row14 col4\" >-1.7438</td>\n",
       "      <td id=\"T_a38a0_row14_col5\" class=\"data row14 col5\" >0.3859</td>\n",
       "      <td id=\"T_a38a0_row14_col6\" class=\"data row14 col6\" >0.4654</td>\n",
       "      <td id=\"T_a38a0_row14_col7\" class=\"data row14 col7\" >0.0480</td>\n",
       "    </tr>\n",
       "    <tr>\n",
       "      <th id=\"T_a38a0_level0_row15\" class=\"row_heading level0 row15\" >huber</th>\n",
       "      <td id=\"T_a38a0_row15_col0\" class=\"data row15 col0\" >Huber Regressor</td>\n",
       "      <td id=\"T_a38a0_row15_col1\" class=\"data row15 col1\" >177.9931</td>\n",
       "      <td id=\"T_a38a0_row15_col2\" class=\"data row15 col2\" >55510.2079</td>\n",
       "      <td id=\"T_a38a0_row15_col3\" class=\"data row15 col3\" >207.6200</td>\n",
       "      <td id=\"T_a38a0_row15_col4\" class=\"data row15 col4\" >-1.4823</td>\n",
       "      <td id=\"T_a38a0_row15_col5\" class=\"data row15 col5\" >0.4328</td>\n",
       "      <td id=\"T_a38a0_row15_col6\" class=\"data row15 col6\" >0.4102</td>\n",
       "      <td id=\"T_a38a0_row15_col7\" class=\"data row15 col7\" >0.0110</td>\n",
       "    </tr>\n",
       "    <tr>\n",
       "      <th id=\"T_a38a0_level0_row16\" class=\"row_heading level0 row16\" >dummy</th>\n",
       "      <td id=\"T_a38a0_row16_col0\" class=\"data row16 col0\" >Dummy Regressor</td>\n",
       "      <td id=\"T_a38a0_row16_col1\" class=\"data row16 col1\" >180.4567</td>\n",
       "      <td id=\"T_a38a0_row16_col2\" class=\"data row16 col2\" >57046.3670</td>\n",
       "      <td id=\"T_a38a0_row16_col3\" class=\"data row16 col3\" >219.1080</td>\n",
       "      <td id=\"T_a38a0_row16_col4\" class=\"data row16 col4\" >-1.5077</td>\n",
       "      <td id=\"T_a38a0_row16_col5\" class=\"data row16 col5\" >0.4079</td>\n",
       "      <td id=\"T_a38a0_row16_col6\" class=\"data row16 col6\" >0.4926</td>\n",
       "      <td id=\"T_a38a0_row16_col7\" class=\"data row16 col7\" >0.0070</td>\n",
       "    </tr>\n",
       "    <tr>\n",
       "      <th id=\"T_a38a0_level0_row17\" class=\"row_heading level0 row17\" >xgboost</th>\n",
       "      <td id=\"T_a38a0_row17_col0\" class=\"data row17 col0\" >Extreme Gradient Boosting</td>\n",
       "      <td id=\"T_a38a0_row17_col1\" class=\"data row17 col1\" >180.4870</td>\n",
       "      <td id=\"T_a38a0_row17_col2\" class=\"data row17 col2\" >64008.5217</td>\n",
       "      <td id=\"T_a38a0_row17_col3\" class=\"data row17 col3\" >227.0983</td>\n",
       "      <td id=\"T_a38a0_row17_col4\" class=\"data row17 col4\" >-1.9881</td>\n",
       "      <td id=\"T_a38a0_row17_col5\" class=\"data row17 col5\" >0.4051</td>\n",
       "      <td id=\"T_a38a0_row17_col6\" class=\"data row17 col6\" >0.4624</td>\n",
       "      <td id=\"T_a38a0_row17_col7\" class=\"data row17 col7\" >0.8900</td>\n",
       "    </tr>\n",
       "    <tr>\n",
       "      <th id=\"T_a38a0_level0_row18\" class=\"row_heading level0 row18\" >dt</th>\n",
       "      <td id=\"T_a38a0_row18_col0\" class=\"data row18 col0\" >Decision Tree Regressor</td>\n",
       "      <td id=\"T_a38a0_row18_col1\" class=\"data row18 col1\" >238.4500</td>\n",
       "      <td id=\"T_a38a0_row18_col2\" class=\"data row18 col2\" >105970.8000</td>\n",
       "      <td id=\"T_a38a0_row18_col3\" class=\"data row18 col3\" >290.5182</td>\n",
       "      <td id=\"T_a38a0_row18_col4\" class=\"data row18 col4\" >-3.9242</td>\n",
       "      <td id=\"T_a38a0_row18_col5\" class=\"data row18 col5\" >0.4929</td>\n",
       "      <td id=\"T_a38a0_row18_col6\" class=\"data row18 col6\" >0.5968</td>\n",
       "      <td id=\"T_a38a0_row18_col7\" class=\"data row18 col7\" >0.0080</td>\n",
       "    </tr>\n",
       "  </tbody>\n",
       "</table>\n"
      ],
      "text/plain": [
       "<pandas.io.formats.style.Styler at 0x19a3301ed60>"
      ]
     },
     "metadata": {},
     "output_type": "display_data"
    }
   ],
   "source": [
    "# Train and evaluate models\n",
    "exclude_list = ['dummy', 'br', 'knn', 'en', 'omp', 'huber', 'ridge', 'llar', 'lasso', 'lr', 'lar','par']\n",
    "#exclude_list = []\n",
    "best = compare_models(exclude = exclude_list, sort = 'MAE')"
   ]
  },
  {
   "attachments": {},
   "cell_type": "markdown",
   "metadata": {},
   "source": [
    "#### Create best model"
   ]
  },
  {
   "cell_type": "code",
   "execution_count": 45,
   "metadata": {},
   "outputs": [
    {
     "data": {
      "text/html": [
       "<div>\n",
       "<style scoped>\n",
       "    .dataframe tbody tr th:only-of-type {\n",
       "        vertical-align: middle;\n",
       "    }\n",
       "\n",
       "    .dataframe tbody tr th {\n",
       "        vertical-align: top;\n",
       "    }\n",
       "\n",
       "    .dataframe thead th {\n",
       "        text-align: right;\n",
       "    }\n",
       "</style>\n",
       "<table border=\"1\" class=\"dataframe\">\n",
       "  <thead>\n",
       "    <tr style=\"text-align: right;\">\n",
       "      <th></th>\n",
       "      <th></th>\n",
       "      <th></th>\n",
       "    </tr>\n",
       "    <tr>\n",
       "      <th></th>\n",
       "      <th></th>\n",
       "      <th></th>\n",
       "    </tr>\n",
       "  </thead>\n",
       "  <tbody>\n",
       "    <tr>\n",
       "      <th>Initiated</th>\n",
       "      <td>. . . . . . . . . . . . . . . . . .</td>\n",
       "      <td>20:06:28</td>\n",
       "    </tr>\n",
       "    <tr>\n",
       "      <th>Status</th>\n",
       "      <td>. . . . . . . . . . . . . . . . . .</td>\n",
       "      <td>Fitting 10 Folds</td>\n",
       "    </tr>\n",
       "    <tr>\n",
       "      <th>Estimator</th>\n",
       "      <td>. . . . . . . . . . . . . . . . . .</td>\n",
       "      <td>Bayesian Ridge</td>\n",
       "    </tr>\n",
       "  </tbody>\n",
       "</table>\n",
       "</div>"
      ],
      "text/plain": [
       "                                                                \n",
       "                                                                \n",
       "Initiated  . . . . . . . . . . . . . . . . . .          20:06:28\n",
       "Status     . . . . . . . . . . . . . . . . . .  Fitting 10 Folds\n",
       "Estimator  . . . . . . . . . . . . . . . . . .    Bayesian Ridge"
      ]
     },
     "metadata": {},
     "output_type": "display_data"
    },
    {
     "ename": "TerminatedWorkerError",
     "evalue": "A worker process managed by the executor was unexpectedly terminated. This could be caused by a segmentation fault while calling the function or by an excessive memory usage causing the Operating System to kill the worker.\n",
     "output_type": "error",
     "traceback": [
      "\u001b[1;31m---------------------------------------------------------------------------\u001b[0m",
      "\u001b[1;31mTerminatedWorkerError\u001b[0m                     Traceback (most recent call last)",
      "\u001b[1;32m~\\AppData\\Local\\Temp/ipykernel_23548/2444911591.py\u001b[0m in \u001b[0;36m<module>\u001b[1;34m\u001b[0m\n\u001b[0;32m      1\u001b[0m \u001b[1;31m# Create model\u001b[0m\u001b[1;33m\u001b[0m\u001b[1;33m\u001b[0m\u001b[1;33m\u001b[0m\u001b[0m\n\u001b[1;32m----> 2\u001b[1;33m \u001b[0mmodel\u001b[0m \u001b[1;33m=\u001b[0m \u001b[0mcreate_model\u001b[0m\u001b[1;33m(\u001b[0m\u001b[0mbest\u001b[0m\u001b[1;33m)\u001b[0m\u001b[1;33m\u001b[0m\u001b[1;33m\u001b[0m\u001b[0m\n\u001b[0m",
      "\u001b[1;32m~\\AppData\\Roaming\\Python\\Python38\\site-packages\\pycaret\\regression.py\u001b[0m in \u001b[0;36mcreate_model\u001b[1;34m(estimator, fold, round, cross_validation, fit_kwargs, groups, verbose, return_train_score, **kwargs)\u001b[0m\n\u001b[0;32m    944\u001b[0m     \"\"\"\n\u001b[0;32m    945\u001b[0m \u001b[1;33m\u001b[0m\u001b[0m\n\u001b[1;32m--> 946\u001b[1;33m     return pycaret.internal.tabular.create_model_supervised(\n\u001b[0m\u001b[0;32m    947\u001b[0m         \u001b[0mestimator\u001b[0m\u001b[1;33m=\u001b[0m\u001b[0mestimator\u001b[0m\u001b[1;33m,\u001b[0m\u001b[1;33m\u001b[0m\u001b[1;33m\u001b[0m\u001b[0m\n\u001b[0;32m    948\u001b[0m         \u001b[0mfold\u001b[0m\u001b[1;33m=\u001b[0m\u001b[0mfold\u001b[0m\u001b[1;33m,\u001b[0m\u001b[1;33m\u001b[0m\u001b[1;33m\u001b[0m\u001b[0m\n",
      "\u001b[1;32m~\\AppData\\Roaming\\Python\\Python38\\site-packages\\pycaret\\internal\\tabular.py\u001b[0m in \u001b[0;36mcreate_model_supervised\u001b[1;34m(estimator, fold, round, cross_validation, predict, fit_kwargs, groups, refit, verbose, system, X_train_data, y_train_data, metrics, experiment_custom_tags, add_to_model_list, probability_threshold, display, return_train_score, **kwargs)\u001b[0m\n\u001b[0;32m   3198\u001b[0m \u001b[1;33m\u001b[0m\u001b[0m\n\u001b[0;32m   3199\u001b[0m         \u001b[0mmodel_fit_start\u001b[0m \u001b[1;33m=\u001b[0m \u001b[0mtime\u001b[0m\u001b[1;33m.\u001b[0m\u001b[0mtime\u001b[0m\u001b[1;33m(\u001b[0m\u001b[1;33m)\u001b[0m\u001b[1;33m\u001b[0m\u001b[1;33m\u001b[0m\u001b[0m\n\u001b[1;32m-> 3200\u001b[1;33m         scores = cross_validate(\n\u001b[0m\u001b[0;32m   3201\u001b[0m             \u001b[0mpipeline_with_model\u001b[0m\u001b[1;33m,\u001b[0m\u001b[1;33m\u001b[0m\u001b[1;33m\u001b[0m\u001b[0m\n\u001b[0;32m   3202\u001b[0m             \u001b[0mdata_X\u001b[0m\u001b[1;33m,\u001b[0m\u001b[1;33m\u001b[0m\u001b[1;33m\u001b[0m\u001b[0m\n",
      "\u001b[1;32m~\\AppData\\Roaming\\Python\\Python38\\site-packages\\sklearn\\utils\\validation.py\u001b[0m in \u001b[0;36minner_f\u001b[1;34m(*args, **kwargs)\u001b[0m\n\u001b[0;32m     70\u001b[0m                           FutureWarning)\n\u001b[0;32m     71\u001b[0m         \u001b[0mkwargs\u001b[0m\u001b[1;33m.\u001b[0m\u001b[0mupdate\u001b[0m\u001b[1;33m(\u001b[0m\u001b[1;33m{\u001b[0m\u001b[0mk\u001b[0m\u001b[1;33m:\u001b[0m \u001b[0marg\u001b[0m \u001b[1;32mfor\u001b[0m \u001b[0mk\u001b[0m\u001b[1;33m,\u001b[0m \u001b[0marg\u001b[0m \u001b[1;32min\u001b[0m \u001b[0mzip\u001b[0m\u001b[1;33m(\u001b[0m\u001b[0msig\u001b[0m\u001b[1;33m.\u001b[0m\u001b[0mparameters\u001b[0m\u001b[1;33m,\u001b[0m \u001b[0margs\u001b[0m\u001b[1;33m)\u001b[0m\u001b[1;33m}\u001b[0m\u001b[1;33m)\u001b[0m\u001b[1;33m\u001b[0m\u001b[1;33m\u001b[0m\u001b[0m\n\u001b[1;32m---> 72\u001b[1;33m         \u001b[1;32mreturn\u001b[0m \u001b[0mf\u001b[0m\u001b[1;33m(\u001b[0m\u001b[1;33m**\u001b[0m\u001b[0mkwargs\u001b[0m\u001b[1;33m)\u001b[0m\u001b[1;33m\u001b[0m\u001b[1;33m\u001b[0m\u001b[0m\n\u001b[0m\u001b[0;32m     73\u001b[0m     \u001b[1;32mreturn\u001b[0m \u001b[0minner_f\u001b[0m\u001b[1;33m\u001b[0m\u001b[1;33m\u001b[0m\u001b[0m\n\u001b[0;32m     74\u001b[0m \u001b[1;33m\u001b[0m\u001b[0m\n",
      "\u001b[1;32m~\\AppData\\Roaming\\Python\\Python38\\site-packages\\sklearn\\model_selection\\_validation.py\u001b[0m in \u001b[0;36mcross_validate\u001b[1;34m(estimator, X, y, groups, scoring, cv, n_jobs, verbose, fit_params, pre_dispatch, return_train_score, return_estimator, error_score)\u001b[0m\n\u001b[0;32m    240\u001b[0m     parallel = Parallel(n_jobs=n_jobs, verbose=verbose,\n\u001b[0;32m    241\u001b[0m                         pre_dispatch=pre_dispatch)\n\u001b[1;32m--> 242\u001b[1;33m     scores = parallel(\n\u001b[0m\u001b[0;32m    243\u001b[0m         delayed(_fit_and_score)(\n\u001b[0;32m    244\u001b[0m             \u001b[0mclone\u001b[0m\u001b[1;33m(\u001b[0m\u001b[0mestimator\u001b[0m\u001b[1;33m)\u001b[0m\u001b[1;33m,\u001b[0m \u001b[0mX\u001b[0m\u001b[1;33m,\u001b[0m \u001b[0my\u001b[0m\u001b[1;33m,\u001b[0m \u001b[0mscorers\u001b[0m\u001b[1;33m,\u001b[0m \u001b[0mtrain\u001b[0m\u001b[1;33m,\u001b[0m \u001b[0mtest\u001b[0m\u001b[1;33m,\u001b[0m \u001b[0mverbose\u001b[0m\u001b[1;33m,\u001b[0m \u001b[1;32mNone\u001b[0m\u001b[1;33m,\u001b[0m\u001b[1;33m\u001b[0m\u001b[1;33m\u001b[0m\u001b[0m\n",
      "\u001b[1;32mc:\\ProgramData\\Anaconda3\\lib\\site-packages\\joblib\\parallel.py\u001b[0m in \u001b[0;36m__call__\u001b[1;34m(self, iterable)\u001b[0m\n\u001b[0;32m   1096\u001b[0m \u001b[1;33m\u001b[0m\u001b[0m\n\u001b[0;32m   1097\u001b[0m             \u001b[1;32mwith\u001b[0m \u001b[0mself\u001b[0m\u001b[1;33m.\u001b[0m\u001b[0m_backend\u001b[0m\u001b[1;33m.\u001b[0m\u001b[0mretrieval_context\u001b[0m\u001b[1;33m(\u001b[0m\u001b[1;33m)\u001b[0m\u001b[1;33m:\u001b[0m\u001b[1;33m\u001b[0m\u001b[1;33m\u001b[0m\u001b[0m\n\u001b[1;32m-> 1098\u001b[1;33m                 \u001b[0mself\u001b[0m\u001b[1;33m.\u001b[0m\u001b[0mretrieve\u001b[0m\u001b[1;33m(\u001b[0m\u001b[1;33m)\u001b[0m\u001b[1;33m\u001b[0m\u001b[1;33m\u001b[0m\u001b[0m\n\u001b[0m\u001b[0;32m   1099\u001b[0m             \u001b[1;31m# Make sure that we get a last message telling us we are done\u001b[0m\u001b[1;33m\u001b[0m\u001b[1;33m\u001b[0m\u001b[1;33m\u001b[0m\u001b[0m\n\u001b[0;32m   1100\u001b[0m             \u001b[0melapsed_time\u001b[0m \u001b[1;33m=\u001b[0m \u001b[0mtime\u001b[0m\u001b[1;33m.\u001b[0m\u001b[0mtime\u001b[0m\u001b[1;33m(\u001b[0m\u001b[1;33m)\u001b[0m \u001b[1;33m-\u001b[0m \u001b[0mself\u001b[0m\u001b[1;33m.\u001b[0m\u001b[0m_start_time\u001b[0m\u001b[1;33m\u001b[0m\u001b[1;33m\u001b[0m\u001b[0m\n",
      "\u001b[1;32mc:\\ProgramData\\Anaconda3\\lib\\site-packages\\joblib\\parallel.py\u001b[0m in \u001b[0;36mretrieve\u001b[1;34m(self)\u001b[0m\n\u001b[0;32m    973\u001b[0m             \u001b[1;32mtry\u001b[0m\u001b[1;33m:\u001b[0m\u001b[1;33m\u001b[0m\u001b[1;33m\u001b[0m\u001b[0m\n\u001b[0;32m    974\u001b[0m                 \u001b[1;32mif\u001b[0m \u001b[0mgetattr\u001b[0m\u001b[1;33m(\u001b[0m\u001b[0mself\u001b[0m\u001b[1;33m.\u001b[0m\u001b[0m_backend\u001b[0m\u001b[1;33m,\u001b[0m \u001b[1;34m'supports_timeout'\u001b[0m\u001b[1;33m,\u001b[0m \u001b[1;32mFalse\u001b[0m\u001b[1;33m)\u001b[0m\u001b[1;33m:\u001b[0m\u001b[1;33m\u001b[0m\u001b[1;33m\u001b[0m\u001b[0m\n\u001b[1;32m--> 975\u001b[1;33m                     \u001b[0mself\u001b[0m\u001b[1;33m.\u001b[0m\u001b[0m_output\u001b[0m\u001b[1;33m.\u001b[0m\u001b[0mextend\u001b[0m\u001b[1;33m(\u001b[0m\u001b[0mjob\u001b[0m\u001b[1;33m.\u001b[0m\u001b[0mget\u001b[0m\u001b[1;33m(\u001b[0m\u001b[0mtimeout\u001b[0m\u001b[1;33m=\u001b[0m\u001b[0mself\u001b[0m\u001b[1;33m.\u001b[0m\u001b[0mtimeout\u001b[0m\u001b[1;33m)\u001b[0m\u001b[1;33m)\u001b[0m\u001b[1;33m\u001b[0m\u001b[1;33m\u001b[0m\u001b[0m\n\u001b[0m\u001b[0;32m    976\u001b[0m                 \u001b[1;32melse\u001b[0m\u001b[1;33m:\u001b[0m\u001b[1;33m\u001b[0m\u001b[1;33m\u001b[0m\u001b[0m\n\u001b[0;32m    977\u001b[0m                     \u001b[0mself\u001b[0m\u001b[1;33m.\u001b[0m\u001b[0m_output\u001b[0m\u001b[1;33m.\u001b[0m\u001b[0mextend\u001b[0m\u001b[1;33m(\u001b[0m\u001b[0mjob\u001b[0m\u001b[1;33m.\u001b[0m\u001b[0mget\u001b[0m\u001b[1;33m(\u001b[0m\u001b[1;33m)\u001b[0m\u001b[1;33m)\u001b[0m\u001b[1;33m\u001b[0m\u001b[1;33m\u001b[0m\u001b[0m\n",
      "\u001b[1;32mc:\\ProgramData\\Anaconda3\\lib\\site-packages\\joblib\\_parallel_backends.py\u001b[0m in \u001b[0;36mwrap_future_result\u001b[1;34m(future, timeout)\u001b[0m\n\u001b[0;32m    565\u001b[0m         AsyncResults.get from multiprocessing.\"\"\"\n\u001b[0;32m    566\u001b[0m         \u001b[1;32mtry\u001b[0m\u001b[1;33m:\u001b[0m\u001b[1;33m\u001b[0m\u001b[1;33m\u001b[0m\u001b[0m\n\u001b[1;32m--> 567\u001b[1;33m             \u001b[1;32mreturn\u001b[0m \u001b[0mfuture\u001b[0m\u001b[1;33m.\u001b[0m\u001b[0mresult\u001b[0m\u001b[1;33m(\u001b[0m\u001b[0mtimeout\u001b[0m\u001b[1;33m=\u001b[0m\u001b[0mtimeout\u001b[0m\u001b[1;33m)\u001b[0m\u001b[1;33m\u001b[0m\u001b[1;33m\u001b[0m\u001b[0m\n\u001b[0m\u001b[0;32m    568\u001b[0m         \u001b[1;32mexcept\u001b[0m \u001b[0mCfTimeoutError\u001b[0m \u001b[1;32mas\u001b[0m \u001b[0me\u001b[0m\u001b[1;33m:\u001b[0m\u001b[1;33m\u001b[0m\u001b[1;33m\u001b[0m\u001b[0m\n\u001b[0;32m    569\u001b[0m             \u001b[1;32mraise\u001b[0m \u001b[0mTimeoutError\u001b[0m \u001b[1;32mfrom\u001b[0m \u001b[0me\u001b[0m\u001b[1;33m\u001b[0m\u001b[1;33m\u001b[0m\u001b[0m\n",
      "\u001b[1;32mc:\\ProgramData\\Anaconda3\\lib\\concurrent\\futures\\_base.py\u001b[0m in \u001b[0;36mresult\u001b[1;34m(self, timeout)\u001b[0m\n\u001b[0;32m    442\u001b[0m                     \u001b[1;32mraise\u001b[0m \u001b[0mCancelledError\u001b[0m\u001b[1;33m(\u001b[0m\u001b[1;33m)\u001b[0m\u001b[1;33m\u001b[0m\u001b[1;33m\u001b[0m\u001b[0m\n\u001b[0;32m    443\u001b[0m                 \u001b[1;32melif\u001b[0m \u001b[0mself\u001b[0m\u001b[1;33m.\u001b[0m\u001b[0m_state\u001b[0m \u001b[1;33m==\u001b[0m \u001b[0mFINISHED\u001b[0m\u001b[1;33m:\u001b[0m\u001b[1;33m\u001b[0m\u001b[1;33m\u001b[0m\u001b[0m\n\u001b[1;32m--> 444\u001b[1;33m                     \u001b[1;32mreturn\u001b[0m \u001b[0mself\u001b[0m\u001b[1;33m.\u001b[0m\u001b[0m__get_result\u001b[0m\u001b[1;33m(\u001b[0m\u001b[1;33m)\u001b[0m\u001b[1;33m\u001b[0m\u001b[1;33m\u001b[0m\u001b[0m\n\u001b[0m\u001b[0;32m    445\u001b[0m                 \u001b[1;32melse\u001b[0m\u001b[1;33m:\u001b[0m\u001b[1;33m\u001b[0m\u001b[1;33m\u001b[0m\u001b[0m\n\u001b[0;32m    446\u001b[0m                     \u001b[1;32mraise\u001b[0m \u001b[0mTimeoutError\u001b[0m\u001b[1;33m(\u001b[0m\u001b[1;33m)\u001b[0m\u001b[1;33m\u001b[0m\u001b[1;33m\u001b[0m\u001b[0m\n",
      "\u001b[1;32mc:\\ProgramData\\Anaconda3\\lib\\concurrent\\futures\\_base.py\u001b[0m in \u001b[0;36m__get_result\u001b[1;34m(self)\u001b[0m\n\u001b[0;32m    387\u001b[0m         \u001b[1;32mif\u001b[0m \u001b[0mself\u001b[0m\u001b[1;33m.\u001b[0m\u001b[0m_exception\u001b[0m\u001b[1;33m:\u001b[0m\u001b[1;33m\u001b[0m\u001b[1;33m\u001b[0m\u001b[0m\n\u001b[0;32m    388\u001b[0m             \u001b[1;32mtry\u001b[0m\u001b[1;33m:\u001b[0m\u001b[1;33m\u001b[0m\u001b[1;33m\u001b[0m\u001b[0m\n\u001b[1;32m--> 389\u001b[1;33m                 \u001b[1;32mraise\u001b[0m \u001b[0mself\u001b[0m\u001b[1;33m.\u001b[0m\u001b[0m_exception\u001b[0m\u001b[1;33m\u001b[0m\u001b[1;33m\u001b[0m\u001b[0m\n\u001b[0m\u001b[0;32m    390\u001b[0m             \u001b[1;32mfinally\u001b[0m\u001b[1;33m:\u001b[0m\u001b[1;33m\u001b[0m\u001b[1;33m\u001b[0m\u001b[0m\n\u001b[0;32m    391\u001b[0m                 \u001b[1;31m# Break a reference cycle with the exception in self._exception\u001b[0m\u001b[1;33m\u001b[0m\u001b[1;33m\u001b[0m\u001b[1;33m\u001b[0m\u001b[0m\n",
      "\u001b[1;31mTerminatedWorkerError\u001b[0m: A worker process managed by the executor was unexpectedly terminated. This could be caused by a segmentation fault while calling the function or by an excessive memory usage causing the Operating System to kill the worker.\n"
     ]
    }
   ],
   "source": [
    "# Create model\n",
    "model = create_model(best)"
   ]
  },
  {
   "attachments": {},
   "cell_type": "markdown",
   "metadata": {},
   "source": [
    "#### Tune model"
   ]
  },
  {
   "cell_type": "code",
   "execution_count": null,
   "metadata": {},
   "outputs": [
    {
     "data": {
      "text/html": [
       "<style type=\"text/css\">\n",
       "#T_4f39a_row10_col0, #T_4f39a_row10_col1, #T_4f39a_row10_col2, #T_4f39a_row10_col3, #T_4f39a_row10_col4, #T_4f39a_row10_col5 {\n",
       "  background: yellow;\n",
       "}\n",
       "</style>\n",
       "<table id=\"T_4f39a\">\n",
       "  <thead>\n",
       "    <tr>\n",
       "      <th class=\"blank level0\" >&nbsp;</th>\n",
       "      <th id=\"T_4f39a_level0_col0\" class=\"col_heading level0 col0\" >MAE</th>\n",
       "      <th id=\"T_4f39a_level0_col1\" class=\"col_heading level0 col1\" >MSE</th>\n",
       "      <th id=\"T_4f39a_level0_col2\" class=\"col_heading level0 col2\" >RMSE</th>\n",
       "      <th id=\"T_4f39a_level0_col3\" class=\"col_heading level0 col3\" >R2</th>\n",
       "      <th id=\"T_4f39a_level0_col4\" class=\"col_heading level0 col4\" >RMSLE</th>\n",
       "      <th id=\"T_4f39a_level0_col5\" class=\"col_heading level0 col5\" >MAPE</th>\n",
       "    </tr>\n",
       "    <tr>\n",
       "      <th class=\"index_name level0\" >Fold</th>\n",
       "      <th class=\"blank col0\" >&nbsp;</th>\n",
       "      <th class=\"blank col1\" >&nbsp;</th>\n",
       "      <th class=\"blank col2\" >&nbsp;</th>\n",
       "      <th class=\"blank col3\" >&nbsp;</th>\n",
       "      <th class=\"blank col4\" >&nbsp;</th>\n",
       "      <th class=\"blank col5\" >&nbsp;</th>\n",
       "    </tr>\n",
       "  </thead>\n",
       "  <tbody>\n",
       "    <tr>\n",
       "      <th id=\"T_4f39a_level0_row0\" class=\"row_heading level0 row0\" >0</th>\n",
       "      <td id=\"T_4f39a_row0_col0\" class=\"data row0 col0\" >235.4500</td>\n",
       "      <td id=\"T_4f39a_row0_col1\" class=\"data row0 col1\" >91700.0471</td>\n",
       "      <td id=\"T_4f39a_row0_col2\" class=\"data row0 col2\" >302.8202</td>\n",
       "      <td id=\"T_4f39a_row0_col3\" class=\"data row0 col3\" >-0.5796</td>\n",
       "      <td id=\"T_4f39a_row0_col4\" class=\"data row0 col4\" >0.7927</td>\n",
       "      <td id=\"T_4f39a_row0_col5\" class=\"data row0 col5\" >1.0961</td>\n",
       "    </tr>\n",
       "    <tr>\n",
       "      <th id=\"T_4f39a_level0_row1\" class=\"row_heading level0 row1\" >1</th>\n",
       "      <td id=\"T_4f39a_row1_col0\" class=\"data row1 col0\" >348.6500</td>\n",
       "      <td id=\"T_4f39a_row1_col1\" class=\"data row1 col1\" >134075.0600</td>\n",
       "      <td id=\"T_4f39a_row1_col2\" class=\"data row1 col2\" >366.1626</td>\n",
       "      <td id=\"T_4f39a_row1_col3\" class=\"data row1 col3\" >-5.0733</td>\n",
       "      <td id=\"T_4f39a_row1_col4\" class=\"data row1 col4\" >0.7221</td>\n",
       "      <td id=\"T_4f39a_row1_col5\" class=\"data row1 col5\" >1.0251</td>\n",
       "    </tr>\n",
       "    <tr>\n",
       "      <th id=\"T_4f39a_level0_row2\" class=\"row_heading level0 row2\" >2</th>\n",
       "      <td id=\"T_4f39a_row2_col0\" class=\"data row2 col0\" >84.9964</td>\n",
       "      <td id=\"T_4f39a_row2_col1\" class=\"data row2 col1\" >16124.0310</td>\n",
       "      <td id=\"T_4f39a_row2_col2\" class=\"data row2 col2\" >126.9804</td>\n",
       "      <td id=\"T_4f39a_row2_col3\" class=\"data row2 col3\" >0.1981</td>\n",
       "      <td id=\"T_4f39a_row2_col4\" class=\"data row2 col4\" >0.1671</td>\n",
       "      <td id=\"T_4f39a_row2_col5\" class=\"data row2 col5\" >0.1336</td>\n",
       "    </tr>\n",
       "    <tr>\n",
       "      <th id=\"T_4f39a_level0_row3\" class=\"row_heading level0 row3\" >3</th>\n",
       "      <td id=\"T_4f39a_row3_col0\" class=\"data row3 col0\" >101.5011</td>\n",
       "      <td id=\"T_4f39a_row3_col1\" class=\"data row3 col1\" >21254.2950</td>\n",
       "      <td id=\"T_4f39a_row3_col2\" class=\"data row3 col2\" >145.7885</td>\n",
       "      <td id=\"T_4f39a_row3_col3\" class=\"data row3 col3\" >0.6355</td>\n",
       "      <td id=\"T_4f39a_row3_col4\" class=\"data row3 col4\" >0.1863</td>\n",
       "      <td id=\"T_4f39a_row3_col5\" class=\"data row3 col5\" >0.1381</td>\n",
       "    </tr>\n",
       "    <tr>\n",
       "      <th id=\"T_4f39a_level0_row4\" class=\"row_heading level0 row4\" >4</th>\n",
       "      <td id=\"T_4f39a_row4_col0\" class=\"data row4 col0\" >127.6432</td>\n",
       "      <td id=\"T_4f39a_row4_col1\" class=\"data row4 col1\" >33071.6218</td>\n",
       "      <td id=\"T_4f39a_row4_col2\" class=\"data row4 col2\" >181.8560</td>\n",
       "      <td id=\"T_4f39a_row4_col3\" class=\"data row4 col3\" >-1.1575</td>\n",
       "      <td id=\"T_4f39a_row4_col4\" class=\"data row4 col4\" >0.2828</td>\n",
       "      <td id=\"T_4f39a_row4_col5\" class=\"data row4 col5\" >0.2381</td>\n",
       "    </tr>\n",
       "    <tr>\n",
       "      <th id=\"T_4f39a_level0_row5\" class=\"row_heading level0 row5\" >5</th>\n",
       "      <td id=\"T_4f39a_row5_col0\" class=\"data row5 col0\" >103.4118</td>\n",
       "      <td id=\"T_4f39a_row5_col1\" class=\"data row5 col1\" >24230.5014</td>\n",
       "      <td id=\"T_4f39a_row5_col2\" class=\"data row5 col2\" >155.6615</td>\n",
       "      <td id=\"T_4f39a_row5_col3\" class=\"data row5 col3\" >0.0386</td>\n",
       "      <td id=\"T_4f39a_row5_col4\" class=\"data row5 col4\" >0.2508</td>\n",
       "      <td id=\"T_4f39a_row5_col5\" class=\"data row5 col5\" >0.1806</td>\n",
       "    </tr>\n",
       "    <tr>\n",
       "      <th id=\"T_4f39a_level0_row6\" class=\"row_heading level0 row6\" >6</th>\n",
       "      <td id=\"T_4f39a_row6_col0\" class=\"data row6 col0\" >138.7205</td>\n",
       "      <td id=\"T_4f39a_row6_col1\" class=\"data row6 col1\" >28814.4885</td>\n",
       "      <td id=\"T_4f39a_row6_col2\" class=\"data row6 col2\" >169.7483</td>\n",
       "      <td id=\"T_4f39a_row6_col3\" class=\"data row6 col3\" >-0.3711</td>\n",
       "      <td id=\"T_4f39a_row6_col4\" class=\"data row6 col4\" >0.2397</td>\n",
       "      <td id=\"T_4f39a_row6_col5\" class=\"data row6 col5\" >0.2115</td>\n",
       "    </tr>\n",
       "    <tr>\n",
       "      <th id=\"T_4f39a_level0_row7\" class=\"row_heading level0 row7\" >7</th>\n",
       "      <td id=\"T_4f39a_row7_col0\" class=\"data row7 col0\" >106.9876</td>\n",
       "      <td id=\"T_4f39a_row7_col1\" class=\"data row7 col1\" >16588.3578</td>\n",
       "      <td id=\"T_4f39a_row7_col2\" class=\"data row7 col2\" >128.7958</td>\n",
       "      <td id=\"T_4f39a_row7_col3\" class=\"data row7 col3\" >-0.2059</td>\n",
       "      <td id=\"T_4f39a_row7_col4\" class=\"data row7 col4\" >0.1986</td>\n",
       "      <td id=\"T_4f39a_row7_col5\" class=\"data row7 col5\" >0.1760</td>\n",
       "    </tr>\n",
       "    <tr>\n",
       "      <th id=\"T_4f39a_level0_row8\" class=\"row_heading level0 row8\" >8</th>\n",
       "      <td id=\"T_4f39a_row8_col0\" class=\"data row8 col0\" >150.3788</td>\n",
       "      <td id=\"T_4f39a_row8_col1\" class=\"data row8 col1\" >27861.0190</td>\n",
       "      <td id=\"T_4f39a_row8_col2\" class=\"data row8 col2\" >166.9162</td>\n",
       "      <td id=\"T_4f39a_row8_col3\" class=\"data row8 col3\" >0.1080</td>\n",
       "      <td id=\"T_4f39a_row8_col4\" class=\"data row8 col4\" >0.2848</td>\n",
       "      <td id=\"T_4f39a_row8_col5\" class=\"data row8 col5\" >0.2976</td>\n",
       "    </tr>\n",
       "    <tr>\n",
       "      <th id=\"T_4f39a_level0_row9\" class=\"row_heading level0 row9\" >9</th>\n",
       "      <td id=\"T_4f39a_row9_col0\" class=\"data row9 col0\" >202.2757</td>\n",
       "      <td id=\"T_4f39a_row9_col1\" class=\"data row9 col1\" >46328.8547</td>\n",
       "      <td id=\"T_4f39a_row9_col2\" class=\"data row9 col2\" >215.2414</td>\n",
       "      <td id=\"T_4f39a_row9_col3\" class=\"data row9 col3\" >-4.0728</td>\n",
       "      <td id=\"T_4f39a_row9_col4\" class=\"data row9 col4\" >0.5603</td>\n",
       "      <td id=\"T_4f39a_row9_col5\" class=\"data row9 col5\" >0.7062</td>\n",
       "    </tr>\n",
       "    <tr>\n",
       "      <th id=\"T_4f39a_level0_row10\" class=\"row_heading level0 row10\" >Mean</th>\n",
       "      <td id=\"T_4f39a_row10_col0\" class=\"data row10 col0\" >160.0015</td>\n",
       "      <td id=\"T_4f39a_row10_col1\" class=\"data row10 col1\" >44004.8276</td>\n",
       "      <td id=\"T_4f39a_row10_col2\" class=\"data row10 col2\" >195.9971</td>\n",
       "      <td id=\"T_4f39a_row10_col3\" class=\"data row10 col3\" >-1.0480</td>\n",
       "      <td id=\"T_4f39a_row10_col4\" class=\"data row10 col4\" >0.3685</td>\n",
       "      <td id=\"T_4f39a_row10_col5\" class=\"data row10 col5\" >0.4203</td>\n",
       "    </tr>\n",
       "    <tr>\n",
       "      <th id=\"T_4f39a_level0_row11\" class=\"row_heading level0 row11\" >Std</th>\n",
       "      <td id=\"T_4f39a_row11_col0\" class=\"data row11 col0\" >77.2796</td>\n",
       "      <td id=\"T_4f39a_row11_col1\" class=\"data row11 col1\" >36662.5124</td>\n",
       "      <td id=\"T_4f39a_row11_col2\" class=\"data row11 col2\" >74.7661</td>\n",
       "      <td id=\"T_4f39a_row11_col3\" class=\"data row11 col3\" >1.8345</td>\n",
       "      <td id=\"T_4f39a_row11_col4\" class=\"data row11 col4\" >0.2212</td>\n",
       "      <td id=\"T_4f39a_row11_col5\" class=\"data row11 col5\" >0.3571</td>\n",
       "    </tr>\n",
       "  </tbody>\n",
       "</table>\n"
      ],
      "text/plain": [
       "<pandas.io.formats.style.Styler at 0x19a311540d0>"
      ]
     },
     "metadata": {},
     "output_type": "display_data"
    }
   ],
   "source": [
    "# Tune model\n",
    "tuned_model = tune_model(model, n_iter=50, optimize = 'MAE')"
   ]
  },
  {
   "cell_type": "code",
   "execution_count": null,
   "metadata": {},
   "outputs": [
    {
     "data": {
      "text/plain": [
       "AdaBoostRegressor(base_estimator=None, learning_rate=0.2, loss='exponential',\n",
       "                  n_estimators=160, random_state=42)"
      ]
     },
     "execution_count": 16,
     "metadata": {},
     "output_type": "execute_result"
    }
   ],
   "source": [
    "tuned_model"
   ]
  },
  {
   "cell_type": "code",
   "execution_count": null,
   "metadata": {},
   "outputs": [
    {
     "data": {
      "text/plain": [
       "AdaBoostRegressor(base_estimator=None, learning_rate=1.0, loss='linear',\n",
       "                  n_estimators=50, random_state=42)"
      ]
     },
     "execution_count": 17,
     "metadata": {},
     "output_type": "execute_result"
    }
   ],
   "source": [
    "model"
   ]
  },
  {
   "attachments": {},
   "cell_type": "markdown",
   "metadata": {},
   "source": [
    "#### Plot model"
   ]
  },
  {
   "cell_type": "code",
   "execution_count": null,
   "metadata": {},
   "outputs": [
    {
     "data": {
      "image/png": "[encoded data removed]",
      "text/plain": [
       "<Figure size 576x396 with 2 Axes>"
      ]
     },
     "metadata": {},
     "output_type": "display_data"
    }
   ],
   "source": [
    "# PLot model - Residual plot\n",
    "plot_model(model)"
   ]
  },
  {
   "cell_type": "code",
   "execution_count": null,
   "metadata": {},
   "outputs": [
    {
     "data": {
      "image/png": "[encoded data removed]",
      "text/plain": [
       "<Figure size 576x396 with 2 Axes>"
      ]
     },
     "metadata": {},
     "output_type": "display_data"
    }
   ],
   "source": [
    "# PLot model - Residual plot\n",
    "plot_model(tuned_model)"
   ]
  },
  {
   "cell_type": "code",
   "execution_count": null,
   "metadata": {},
   "outputs": [
    {
     "data": {
      "image/png": "[encoded data removed]",
      "text/plain": [
       "<Figure size 576x396 with 1 Axes>"
      ]
     },
     "metadata": {},
     "output_type": "display_data"
    }
   ],
   "source": [
    "# Prediction Error Plot\n",
    "plot_model(model, plot = 'error')"
   ]
  },
  {
   "cell_type": "code",
   "execution_count": null,
   "metadata": {},
   "outputs": [
    {
     "data": {
      "image/png": "[encoded data removed]",
      "text/plain": [
       "<Figure size 576x396 with 1 Axes>"
      ]
     },
     "metadata": {},
     "output_type": "display_data"
    }
   ],
   "source": [
    "# Prediction Error Plot\n",
    "plot_model(tuned_model, plot = 'error')"
   ]
  },
  {
   "cell_type": "code",
   "execution_count": null,
   "metadata": {},
   "outputs": [
    {
     "data": {
      "image/png": "[encoded data removed]",
      "text/plain": [
       "<Figure size 800x500 with 1 Axes>"
      ]
     },
     "metadata": {},
     "output_type": "display_data"
    }
   ],
   "source": [
    "# Feature Importance Plot\n",
    "plot_model(model, plot='feature')"
   ]
  },
  {
   "cell_type": "code",
   "execution_count": null,
   "metadata": {},
   "outputs": [
    {
     "data": {
      "image/png": "[encoded data removed]",
      "text/plain": [
       "<Figure size 800x500 with 1 Axes>"
      ]
     },
     "metadata": {},
     "output_type": "display_data"
    }
   ],
   "source": [
    "# Feature Importance Plot\n",
    "plot_model(tuned_model, plot='feature')"
   ]
  },
  {
   "attachments": {},
   "cell_type": "markdown",
   "metadata": {},
   "source": [
    "#### Evaluate models"
   ]
  },
  {
   "cell_type": "code",
   "execution_count": null,
   "metadata": {},
   "outputs": [
    {
     "data": {
      "application/vnd.jupyter.widget-view+json": {
       "model_id": "08d216795c774cf49e624870d2ac3dd6",
       "version_major": 2,
       "version_minor": 0
      },
      "text/plain": [
       "interactive(children=(ToggleButtons(description='Plot Type:', icons=('',), options=(('Hyperparameters', 'param…"
      ]
     },
     "metadata": {},
     "output_type": "display_data"
    }
   ],
   "source": [
    "evaluate_model(model)"
   ]
  },
  {
   "cell_type": "code",
   "execution_count": null,
   "metadata": {},
   "outputs": [
    {
     "data": {
      "application/vnd.jupyter.widget-view+json": {
       "model_id": "2d0479d438eb41c89e946cc49284a9b8",
       "version_major": 2,
       "version_minor": 0
      },
      "text/plain": [
       "interactive(children=(ToggleButtons(description='Plot Type:', icons=('',), options=(('Hyperparameters', 'param…"
      ]
     },
     "metadata": {},
     "output_type": "display_data"
    }
   ],
   "source": [
    "evaluate_model(tuned_model)"
   ]
  },
  {
   "attachments": {},
   "cell_type": "markdown",
   "metadata": {},
   "source": [
    "#### Predict on test set"
   ]
  },
  {
   "cell_type": "code",
   "execution_count": null,
   "metadata": {},
   "outputs": [
    {
     "data": {
      "text/html": [
       "<style type=\"text/css\">\n",
       "</style>\n",
       "<table id=\"T_6d40c\">\n",
       "  <thead>\n",
       "    <tr>\n",
       "      <th class=\"blank level0\" >&nbsp;</th>\n",
       "      <th id=\"T_6d40c_level0_col0\" class=\"col_heading level0 col0\" >Model</th>\n",
       "      <th id=\"T_6d40c_level0_col1\" class=\"col_heading level0 col1\" >MAE</th>\n",
       "      <th id=\"T_6d40c_level0_col2\" class=\"col_heading level0 col2\" >MSE</th>\n",
       "      <th id=\"T_6d40c_level0_col3\" class=\"col_heading level0 col3\" >RMSE</th>\n",
       "      <th id=\"T_6d40c_level0_col4\" class=\"col_heading level0 col4\" >R2</th>\n",
       "      <th id=\"T_6d40c_level0_col5\" class=\"col_heading level0 col5\" >RMSLE</th>\n",
       "      <th id=\"T_6d40c_level0_col6\" class=\"col_heading level0 col6\" >MAPE</th>\n",
       "    </tr>\n",
       "  </thead>\n",
       "  <tbody>\n",
       "    <tr>\n",
       "      <th id=\"T_6d40c_level0_row0\" class=\"row_heading level0 row0\" >0</th>\n",
       "      <td id=\"T_6d40c_row0_col0\" class=\"data row0 col0\" >AdaBoost Regressor</td>\n",
       "      <td id=\"T_6d40c_row0_col1\" class=\"data row0 col1\" >202.0847</td>\n",
       "      <td id=\"T_6d40c_row0_col2\" class=\"data row0 col2\" >48486.6368</td>\n",
       "      <td id=\"T_6d40c_row0_col3\" class=\"data row0 col3\" >220.1968</td>\n",
       "      <td id=\"T_6d40c_row0_col4\" class=\"data row0 col4\" >-4.7707</td>\n",
       "      <td id=\"T_6d40c_row0_col5\" class=\"data row0 col5\" >0.6556</td>\n",
       "      <td id=\"T_6d40c_row0_col6\" class=\"data row0 col6\" >0.8792</td>\n",
       "    </tr>\n",
       "  </tbody>\n",
       "</table>\n"
      ],
      "text/plain": [
       "<pandas.io.formats.style.Styler at 0x19a2d1fa190>"
      ]
     },
     "metadata": {},
     "output_type": "display_data"
    }
   ],
   "source": [
    "prediction = predict_model(model)"
   ]
  },
  {
   "cell_type": "code",
   "execution_count": null,
   "metadata": {},
   "outputs": [
    {
     "data": {
      "text/html": [
       "<style type=\"text/css\">\n",
       "</style>\n",
       "<table id=\"T_eab86\">\n",
       "  <thead>\n",
       "    <tr>\n",
       "      <th class=\"blank level0\" >&nbsp;</th>\n",
       "      <th id=\"T_eab86_level0_col0\" class=\"col_heading level0 col0\" >Model</th>\n",
       "      <th id=\"T_eab86_level0_col1\" class=\"col_heading level0 col1\" >MAE</th>\n",
       "      <th id=\"T_eab86_level0_col2\" class=\"col_heading level0 col2\" >MSE</th>\n",
       "      <th id=\"T_eab86_level0_col3\" class=\"col_heading level0 col3\" >RMSE</th>\n",
       "      <th id=\"T_eab86_level0_col4\" class=\"col_heading level0 col4\" >R2</th>\n",
       "      <th id=\"T_eab86_level0_col5\" class=\"col_heading level0 col5\" >RMSLE</th>\n",
       "      <th id=\"T_eab86_level0_col6\" class=\"col_heading level0 col6\" >MAPE</th>\n",
       "    </tr>\n",
       "  </thead>\n",
       "  <tbody>\n",
       "    <tr>\n",
       "      <th id=\"T_eab86_level0_row0\" class=\"row_heading level0 row0\" >0</th>\n",
       "      <td id=\"T_eab86_row0_col0\" class=\"data row0 col0\" >AdaBoost Regressor</td>\n",
       "      <td id=\"T_eab86_row0_col1\" class=\"data row0 col1\" >198.7312</td>\n",
       "      <td id=\"T_eab86_row0_col2\" class=\"data row0 col2\" >45304.5714</td>\n",
       "      <td id=\"T_eab86_row0_col3\" class=\"data row0 col3\" >212.8487</td>\n",
       "      <td id=\"T_eab86_row0_col4\" class=\"data row0 col4\" >-4.3920</td>\n",
       "      <td id=\"T_eab86_row0_col5\" class=\"data row0 col5\" >0.6340</td>\n",
       "      <td id=\"T_eab86_row0_col6\" class=\"data row0 col6\" >0.8452</td>\n",
       "    </tr>\n",
       "  </tbody>\n",
       "</table>\n"
      ],
      "text/plain": [
       "<pandas.io.formats.style.Styler at 0x19a314a8dc0>"
      ]
     },
     "metadata": {},
     "output_type": "display_data"
    }
   ],
   "source": [
    "prediction_tuned = predict_model(tuned_model)"
   ]
  },
  {
   "attachments": {},
   "cell_type": "markdown",
   "metadata": {},
   "source": [
    "#### Predict full dataset"
   ]
  },
  {
   "attachments": {},
   "cell_type": "markdown",
   "metadata": {},
   "source": [
    "##### Base model"
   ]
  },
  {
   "cell_type": "code",
   "execution_count": null,
   "metadata": {},
   "outputs": [
    {
     "data": {
      "text/html": [
       "<style type=\"text/css\">\n",
       "</style>\n",
       "<table id=\"T_7a7fa\">\n",
       "  <thead>\n",
       "    <tr>\n",
       "      <th class=\"blank level0\" >&nbsp;</th>\n",
       "      <th id=\"T_7a7fa_level0_col0\" class=\"col_heading level0 col0\" >Model</th>\n",
       "      <th id=\"T_7a7fa_level0_col1\" class=\"col_heading level0 col1\" >MAE</th>\n",
       "      <th id=\"T_7a7fa_level0_col2\" class=\"col_heading level0 col2\" >MSE</th>\n",
       "      <th id=\"T_7a7fa_level0_col3\" class=\"col_heading level0 col3\" >RMSE</th>\n",
       "      <th id=\"T_7a7fa_level0_col4\" class=\"col_heading level0 col4\" >R2</th>\n",
       "      <th id=\"T_7a7fa_level0_col5\" class=\"col_heading level0 col5\" >RMSLE</th>\n",
       "      <th id=\"T_7a7fa_level0_col6\" class=\"col_heading level0 col6\" >MAPE</th>\n",
       "    </tr>\n",
       "  </thead>\n",
       "  <tbody>\n",
       "    <tr>\n",
       "      <th id=\"T_7a7fa_level0_row0\" class=\"row_heading level0 row0\" >0</th>\n",
       "      <td id=\"T_7a7fa_row0_col0\" class=\"data row0 col0\" >AdaBoost Regressor</td>\n",
       "      <td id=\"T_7a7fa_row0_col1\" class=\"data row0 col1\" >102.9414</td>\n",
       "      <td id=\"T_7a7fa_row0_col2\" class=\"data row0 col2\" >16103.0463</td>\n",
       "      <td id=\"T_7a7fa_row0_col3\" class=\"data row0 col3\" >126.8978</td>\n",
       "      <td id=\"T_7a7fa_row0_col4\" class=\"data row0 col4\" >0.6965</td>\n",
       "      <td id=\"T_7a7fa_row0_col5\" class=\"data row0 col5\" >0.2979</td>\n",
       "      <td id=\"T_7a7fa_row0_col6\" class=\"data row0 col6\" >0.2629</td>\n",
       "    </tr>\n",
       "  </tbody>\n",
       "</table>\n"
      ],
      "text/plain": [
       "<pandas.io.formats.style.Styler at 0x19a313d7b80>"
      ]
     },
     "metadata": {},
     "output_type": "display_data"
    },
    {
     "data": {
      "image/svg+xml": "<svg class=\"main-svg\" xmlns=\"http://www.w3.org/2000/svg\" xmlns:xlink=\"http://www.w3.org/1999/xlink\" width=\"1200\" height=\"400\" style=\"\" viewBox=\"0 0 1200 400\"><rect x=\"0\" y=\"0\" width=\"1200\" height=\"400\" style=\"fill: rgb(255, 255, 255); fill-opacity: 1;\"/><defs id=\"defs-797e8f\"><g class=\"clips\"><clipPath id=\"clip797e8fxyplot\" class=\"plotclip\"><rect width=\"1001\" height=\"260\"/></clipPath><clipPath class=\"axesclip\" id=\"clip797e8fx\"><rect x=\"80\" y=\"0\" width=\"1001\" height=\"400\"/></clipPath><clipPath class=\"axesclip\" id=\"clip797e8fy\"><rect x=\"0\" y=\"60\" width=\"1200\" height=\"260\"/></clipPath><clipPath class=\"axesclip\" id=\"clip797e8fxy\"><rect x=\"80\" y=\"60\" width=\"1001\" height=\"260\"/></clipPath></g><g class=\"gradients\"/><g class=\"patterns\"/></defs><g class=\"bglayer\"><rect class=\"bg\" x=\"80\" y=\"60\" width=\"1001\" height=\"260\" style=\"fill: rgb(229, 236, 246); fill-opacity: 1; stroke-width: 0;\"/></g><g class=\"layer-below\"><g class=\"imagelayer\"/><g class=\"shapelayer\"/></g><g class=\"cartesianlayer\"><g class=\"subplot xy\"><g class=\"layer-subplot\"><g class=\"shapelayer\"/><g class=\"imagelayer\"/></g><g class=\"minor-gridlayer\"><g class=\"x\"/><g class=\"y\"/></g><g class=\"gridlayer\"><g class=\"x\"><path class=\"xgrid crisp\" transform=\"translate(198.28,0)\" d=\"M0,60v260\" style=\"stroke: rgb(255, 255, 255); stroke-opacity: 1; stroke-width: 1px;\"/><path class=\"xgrid crisp\" transform=\"translate(316.72,0)\" d=\"M0,60v260\" style=\"stroke: rgb(255, 255, 255); stroke-opacity: 1; stroke-width: 1px;\"/><path class=\"xgrid crisp\" transform=\"translate(435,0)\" d=\"M0,60v260\" style=\"stroke: rgb(255, 255, 255); stroke-opacity: 1; stroke-width: 1px;\"/><path class=\"xgrid crisp\" transform=\"translate(553.44,0)\" d=\"M0,60v260\" style=\"stroke: rgb(255, 255, 255); stroke-opacity: 1; stroke-width: 1px;\"/><path class=\"xgrid crisp\" transform=\"translate(671.72,0)\" d=\"M0,60v260\" style=\"stroke: rgb(255, 255, 255); stroke-opacity: 1; stroke-width: 1px;\"/><path class=\"xgrid crisp\" transform=\"translate(790.16,0)\" d=\"M0,60v260\" style=\"stroke: rgb(255, 255, 255); stroke-opacity: 1; stroke-width: 1px;\"/><path class=\"xgrid crisp\" transform=\"translate(908.44,0)\" d=\"M0,60v260\" style=\"stroke: rgb(255, 255, 255); stroke-opacity: 1; stroke-width: 1px;\"/><path class=\"xgrid crisp\" transform=\"translate(1026.88,0)\" d=\"M0,60v260\" style=\"stroke: rgb(255, 255, 255); stroke-opacity: 1; stroke-width: 1px;\"/></g><g class=\"y\"><path class=\"ygrid crisp\" transform=\"translate(0,290.31)\" d=\"M80,0h1001\" style=\"stroke: rgb(255, 255, 255); stroke-opacity: 1; stroke-width: 1px;\"/><path class=\"ygrid crisp\" transform=\"translate(0,249.62)\" d=\"M80,0h1001\" style=\"stroke: rgb(255, 255, 255); stroke-opacity: 1; stroke-width: 1px;\"/><path class=\"ygrid crisp\" transform=\"translate(0,208.92)\" d=\"M80,0h1001\" style=\"stroke: rgb(255, 255, 255); stroke-opacity: 1; stroke-width: 1px;\"/><path class=\"ygrid crisp\" transform=\"translate(0,168.23000000000002)\" d=\"M80,0h1001\" style=\"stroke: rgb(255, 255, 255); stroke-opacity: 1; stroke-width: 1px;\"/><path class=\"ygrid crisp\" transform=\"translate(0,127.53)\" d=\"M80,0h1001\" style=\"stroke: rgb(255, 255, 255); stroke-opacity: 1; stroke-width: 1px;\"/><path class=\"ygrid crisp\" transform=\"translate(0,86.84)\" d=\"M80,0h1001\" style=\"stroke: rgb(255, 255, 255); stroke-opacity: 1; stroke-width: 1px;\"/></g></g><g class=\"zerolinelayer\"/><path class=\"xlines-below\"/><path class=\"ylines-below\"/><g class=\"overlines-below\"/><g class=\"xaxislayer-below\"/><g class=\"yaxislayer-below\"/><g class=\"overaxes-below\"/><g class=\"plot\" transform=\"translate(80,60)\" clip-path=\"url(#clip797e8fxyplot)\"><g class=\"scatterlayer mlayer\"><g class=\"trace scatter trace8d9f2b\" style=\"stroke-miterlimit: 2; opacity: 1;\"><g class=\"fills\"/><g class=\"errorbars\"/><g class=\"lines\"><path class=\"js-line\" d=\"M0,42.3L5.02,51.46L9.56,24.8L14.58,37.62L19.44,67.33L24.47,49.83L29.33,122.88L34.35,147.91L39.37,51.05L44.23,111.08L49.26,130.81L54.12,125.52L59.14,67.94L64.16,141.19L68.7,138.95L78.58,96.83L83.61,103.14L88.47,131.63L93.49,117.38L98.51,117.38L103.37,140.78L108.4,244.56L113.26,239.47L118.28,87.88L123.3,147.09L128,115.35L133.02,141.19L137.88,108.43L142.91,135.49L147.77,154.21L152.79,180.87L162.67,163.78L167.7,223.19L172.56,246.19L177.58,167.64L182.6,207.73L187.14,143.02L192.16,211.19L197.02,208.75L202.05,202.23L206.91,206.1L216.95,185.14L221.81,199.39L226.84,215.26L231.7,234.79L236.72,126.34L241.74,165.41L246.28,139.36L251.3,164.39L256.16,147.3L261.19,136.31L266.05,175.78L271.07,162.76L276.09,156.86L280.95,136.31L285.98,168.66L290.84,189.21L295.86,87.68L300.88,134.48L305.42,84.42L310.44,111.28L315.3,115.55L320.33,139.77L325.19,163.37L330.21,130.61L335.23,99.68L340.09,142.41L345.12,155.03L349.98,188.6L355,63.26L360.02,114.33L364.72,13L369.74,200L379.63,174.77L384.49,187.99L389.51,172.32L394.53,115.35L399.4,148.11L404.42,152.18L409.28,165.41L414.3,139.16L419.32,158.49L423.86,122.88L428.88,178.22L433.75,147.09L438.77,176.39L443.63,181.48L448.65,165.61L453.67,157.27L458.54,137.33L463.56,148.92L468.42,173.14L473.44,181.28L478.46,138.14L483,82.18L488.02,163.78L492.88,148.52L497.91,151.57L502.77,167.03L507.79,151.57L512.81,146.48L517.67,138.14L522.7,153.4L527.56,138.75L532.58,126.54L537.6,130L542.14,36.2L547.16,201.01L552.02,156.66L557.05,137.53L561.91,153.4L566.93,158.69L571.95,116.98L576.81,128.78L581.84,172.12L586.7,165.81L591.72,130.81L596.74,120.44L601.44,49.42L606.47,165.81L611.33,145.67L616.35,125.52L621.21,154.21L626.23,139.36L631.26,102.12L636.12,128.58L641.14,146.28L646,164.79L651.02,126.74L656.05,122.47L660.58,84.62L665.61,157.88L670.47,151.98L675.49,175.58L680.35,168.05L685.37,145.06L690.4,117.99L695.26,110.47L700.28,129.19L705.14,147.3L710.16,135.49L715.19,128.58L719.72,108.63L724.74,165L729.61,167.85L734.63,129.39L739.49,133.66L744.51,45.76L749.53,190.84L754.4,193.89L759.42,171.1L764.28,200L769.3,164.59L774.32,165.2L778.86,120.03L783.88,172.53L788.75,166.63L793.77,165.41L798.63,178.02L803.65,160.52L808.67,172.53L813.54,194.91L818.56,193.89L823.42,200.2L828.44,170.7L833.46,178.02L838.16,204.88L843.19,236.01L848.05,240.29L853.07,218.31L857.93,185.96L862.95,196.33L867.98,190.43L872.84,197.35L877.86,211.8L882.72,212.82L887.74,184.74L892.77,203.25L897.3,158.69L902.33,207.32L907.19,205.49L912.21,218.72L917.07,222.58L922.09,218.92L927.12,218.31L931.98,234.79L937,193.89L941.86,218.92L946.88,224.21L951.91,225.84L956.44,191.25L961.47,206.71L966.33,225.43L971.35,224.01L976.21,247L981.23,219.33L986.26,224.62L991.12,232.76L996.14,229.5L1001,195.72\" style=\"vector-effect: non-scaling-stroke; fill: none; stroke: rgb(99, 110, 250); stroke-opacity: 1; stroke-width: 2px; opacity: 1;\"/></g><g class=\"points\"/><g class=\"text\"/></g><g class=\"trace scatter tracefea001\" style=\"stroke-miterlimit: 2; opacity: 1;\"><g class=\"fills\"/><g class=\"errorbars\"/><g class=\"lines\"><path class=\"js-line\" d=\"M0,53.36L5.02,82.87L9.56,52.44L14.58,82.87L19.44,60.26L24.47,60.26L29.33,136.06L34.35,125.54L39.37,83.93L44.23,122.56L49.26,140.6L54.12,168.03L59.14,77.6L64.16,140.6L68.7,125.54L73.72,122.56L78.58,122.56L83.61,122.56L88.47,142.01L93.49,135.48L98.51,140.6L103.37,124.27L108.4,230.52L113.26,229.32L118.28,105.81L123.3,124.27L128,124.27L133.02,108.71L137.88,121.47L142.91,122.56L147.77,130.38L152.79,145.32L157.81,144.77L162.67,142.01L167.7,186.83L172.56,230.52L177.58,137.44L182.6,172.87L187.14,122.56L192.16,180.26L197.02,186.83L202.05,182.37L206.91,190.79L211.93,186.83L216.95,186.83L221.81,186.83L226.84,191.96L231.7,222.4L236.72,95.41L241.74,170.41L246.28,138.09L251.3,133.75L256.16,133.75L261.19,101.24L266.05,169.47L271.07,142.01L276.09,135.48L280.95,138.09L285.98,150.25L290.84,170.41L295.86,107.4L300.88,138.09L305.42,122.56L310.44,122.56L315.3,105.81L320.33,123.97L325.19,144.77L330.21,136.06L335.23,135.48L340.09,135.48L345.12,140.6L349.98,165.34L355,63.47L360.02,136.06L364.72,48.19L369.74,182.37L374.61,170.41L379.63,168.03L384.49,169.47L389.51,167.7L394.53,150.25L399.4,150.25L404.42,167.7L409.28,170.41L414.3,136.06L419.32,153.65L423.86,140.6L428.88,142.01L433.75,140.25L438.77,142.01L443.63,150.25L448.65,167.7L453.67,149.6L458.54,136.06L463.56,154.91L468.42,167.7L473.44,130.38L478.46,144.77L483,133.75L488.02,135.48L492.88,135.15L497.91,135.48L502.77,156.55L507.79,167.7L512.81,149.6L517.67,136.99L522.7,154.91L527.56,168.03L532.58,136.99L537.6,156.55L542.14,93.45L547.16,154.91L552.02,136.99L557.05,135.48L561.91,154.91L566.93,168.03L571.95,150.25L576.81,142.01L581.84,142.01L586.7,162.98L591.72,106.42L596.74,136.99L601.44,93.45L606.47,125.54L611.33,136.99L616.35,135.48L621.21,150.25L626.23,140.25L631.26,138.09L636.12,140.25L641.14,136.92L646,144.77L651.02,111.42L656.05,136.92L660.58,107.4L665.61,136.99L670.47,125.54L680.35,144.77L685.37,136.06L690.4,136.06L695.26,142.01L700.28,136.06L705.14,150.25L710.16,122.56L715.19,136.99L719.72,106.42L724.74,124.15L729.61,128.85L734.63,130.38L739.49,142.01L744.51,82.87L749.53,172.87L754.4,154.91L759.42,149.6L764.28,176.91L769.3,130.38L774.32,156.55L778.86,144.77L783.88,142.01L788.75,149.6L793.77,150.25L798.63,183.78L803.65,162.98L808.67,183.85L813.54,170.54L818.56,180.26L823.42,183.85L828.44,165.34L833.46,183.85L838.16,178.56L843.19,196.93L848.05,216.27L853.07,187.1L857.93,180.26L862.95,186.3L867.98,183.85L872.84,186.83L877.86,186.83L882.72,183.85L887.74,162.98L892.77,180.26L897.3,152.78L902.33,170.54L907.19,149.6L912.21,152.78L917.07,182.37L922.09,182.37L927.12,182.37L931.98,186.83L937,196.93L941.86,182.37L946.88,154.91L951.91,176.91L956.44,172.87L961.47,176.91L971.35,169.47L976.21,182.37L981.23,168.03L986.26,170.41L991.12,176.91L996.14,176.91L1001,170.41\" style=\"vector-effect: non-scaling-stroke; fill: none; stroke: rgb(239, 85, 59); stroke-opacity: 1; stroke-width: 2px; opacity: 1;\"/></g><g class=\"points\"/><g class=\"text\"/></g></g></g><g class=\"overplot\"/><path class=\"xlines-above crisp\" d=\"M0,0\" style=\"fill: none;\"/><path class=\"ylines-above crisp\" d=\"M0,0\" style=\"fill: none;\"/><g class=\"overlines-above\"/><g class=\"xaxislayer-above\"><g class=\"xtick\"><text text-anchor=\"middle\" x=\"0\" y=\"333\" transform=\"translate(80,0)\" style=\"font-family: 'Open Sans', verdana, arial, sans-serif; font-size: 12px; fill: rgb(42, 63, 95); fill-opacity: 1; white-space: pre; opacity: 1;\">2006</text></g><g class=\"xtick\"><text text-anchor=\"middle\" x=\"0\" y=\"333\" style=\"font-family: 'Open Sans', verdana, arial, sans-serif; font-size: 12px; fill: rgb(42, 63, 95); fill-opacity: 1; white-space: pre; opacity: 1;\" transform=\"translate(198.28,0)\">2008</text></g><g class=\"xtick\"><text text-anchor=\"middle\" x=\"0\" y=\"333\" style=\"font-family: 'Open Sans', verdana, arial, sans-serif; font-size: 12px; fill: rgb(42, 63, 95); fill-opacity: 1; white-space: pre; opacity: 1;\" transform=\"translate(316.72,0)\">2010</text></g><g class=\"xtick\"><text text-anchor=\"middle\" x=\"0\" y=\"333\" style=\"font-family: 'Open Sans', verdana, arial, sans-serif; font-size: 12px; fill: rgb(42, 63, 95); fill-opacity: 1; white-space: pre; opacity: 1;\" transform=\"translate(435,0)\">2012</text></g><g class=\"xtick\"><text text-anchor=\"middle\" x=\"0\" y=\"333\" style=\"font-family: 'Open Sans', verdana, arial, sans-serif; font-size: 12px; fill: rgb(42, 63, 95); fill-opacity: 1; white-space: pre; opacity: 1;\" transform=\"translate(553.44,0)\">2014</text></g><g class=\"xtick\"><text text-anchor=\"middle\" x=\"0\" y=\"333\" style=\"font-family: 'Open Sans', verdana, arial, sans-serif; font-size: 12px; fill: rgb(42, 63, 95); fill-opacity: 1; white-space: pre; opacity: 1;\" transform=\"translate(671.72,0)\">2016</text></g><g class=\"xtick\"><text text-anchor=\"middle\" x=\"0\" y=\"333\" style=\"font-family: 'Open Sans', verdana, arial, sans-serif; font-size: 12px; fill: rgb(42, 63, 95); fill-opacity: 1; white-space: pre; opacity: 1;\" transform=\"translate(790.16,0)\">2018</text></g><g class=\"xtick\"><text text-anchor=\"middle\" x=\"0\" y=\"333\" style=\"font-family: 'Open Sans', verdana, arial, sans-serif; font-size: 12px; fill: rgb(42, 63, 95); fill-opacity: 1; white-space: pre; opacity: 1;\" transform=\"translate(908.44,0)\">2020</text></g><g class=\"xtick\"><text text-anchor=\"middle\" x=\"0\" y=\"333\" style=\"font-family: 'Open Sans', verdana, arial, sans-serif; font-size: 12px; fill: rgb(42, 63, 95); fill-opacity: 1; white-space: pre; opacity: 1;\" transform=\"translate(1026.88,0)\">2022</text></g></g><g class=\"yaxislayer-above\"><g class=\"ytick\"><text text-anchor=\"end\" x=\"79\" y=\"4.199999999999999\" transform=\"translate(0,290.31)\" style=\"font-family: 'Open Sans', verdana, arial, sans-serif; font-size: 12px; fill: rgb(42, 63, 95); fill-opacity: 1; white-space: pre; opacity: 1;\">200</text></g><g class=\"ytick\"><text text-anchor=\"end\" x=\"79\" y=\"4.199999999999999\" style=\"font-family: 'Open Sans', verdana, arial, sans-serif; font-size: 12px; fill: rgb(42, 63, 95); fill-opacity: 1; white-space: pre; opacity: 1;\" transform=\"translate(0,249.62)\">400</text></g><g class=\"ytick\"><text text-anchor=\"end\" x=\"79\" y=\"4.199999999999999\" style=\"font-family: 'Open Sans', verdana, arial, sans-serif; font-size: 12px; fill: rgb(42, 63, 95); fill-opacity: 1; white-space: pre; opacity: 1;\" transform=\"translate(0,208.92)\">600</text></g><g class=\"ytick\"><text text-anchor=\"end\" x=\"79\" y=\"4.199999999999999\" style=\"font-family: 'Open Sans', verdana, arial, sans-serif; font-size: 12px; fill: rgb(42, 63, 95); fill-opacity: 1; white-space: pre; opacity: 1;\" transform=\"translate(0,168.23000000000002)\">800</text></g><g class=\"ytick\"><text text-anchor=\"end\" x=\"79\" y=\"4.199999999999999\" style=\"font-family: 'Open Sans', verdana, arial, sans-serif; font-size: 12px; fill: rgb(42, 63, 95); fill-opacity: 1; white-space: pre; opacity: 1;\" transform=\"translate(0,127.53)\">1000</text></g><g class=\"ytick\"><text text-anchor=\"end\" x=\"79\" y=\"4.199999999999999\" style=\"font-family: 'Open Sans', verdana, arial, sans-serif; font-size: 12px; fill: rgb(42, 63, 95); fill-opacity: 1; white-space: pre; opacity: 1;\" transform=\"translate(0,86.84)\">1200</text></g></g><g class=\"overaxes-above\"/></g></g><g class=\"polarlayer\"/><g class=\"smithlayer\"/><g class=\"ternarylayer\"/><g class=\"geolayer\"/><g class=\"funnelarealayer\"/><g class=\"pielayer\"/><g class=\"iciclelayer\"/><g class=\"treemaplayer\"/><g class=\"sunburstlayer\"/><g class=\"glimages\"/><defs id=\"topdefs-797e8f\"><g class=\"clips\"/><clipPath id=\"legend797e8f\"><rect width=\"87\" height=\"67\" x=\"0\" y=\"0\"/></clipPath></defs><g class=\"layer-above\"><g class=\"imagelayer\"/><g class=\"shapelayer\"><path data-index=\"0\" fill-rule=\"evenodd\" d=\"M967.74,320H1081V60H967.74Z\" clip-path=\"url(#clip797e8fx)\" style=\"opacity: 0.25; stroke: rgb(0, 0, 0); stroke-opacity: 0; fill: rgb(128, 128, 128); fill-opacity: 1; stroke-width: 0px;\"/></g></g><g class=\"infolayer\"><g class=\"legend\" pointer-events=\"all\" transform=\"translate(1101.02,60)\"><rect class=\"bg\" shape-rendering=\"crispEdges\" style=\"stroke: rgb(68, 68, 68); stroke-opacity: 1; fill: rgb(255, 255, 255); fill-opacity: 1; stroke-width: 0px;\" width=\"87\" height=\"67\" x=\"0\" y=\"0\"/><g class=\"scrollbox\" transform=\"\" clip-path=\"url(#legend797e8f)\"><text class=\"legendtitletext\" text-anchor=\"start\" x=\"2\" y=\"18.2\" style=\"font-family: 'Open Sans', verdana, arial, sans-serif; font-size: 14px; fill: rgb(42, 63, 95); fill-opacity: 1; white-space: pre;\">variable</text><g class=\"groups\" transform=\"\"><g class=\"traces\" transform=\"translate(0,32.7)\" style=\"opacity: 1;\"><text class=\"legendtext\" text-anchor=\"start\" x=\"40\" y=\"4.680000000000001\" style=\"font-family: 'Open Sans', verdana, arial, sans-serif; font-size: 12px; fill: rgb(42, 63, 95); fill-opacity: 1; white-space: pre;\">Orders</text><g class=\"layers\" style=\"opacity: 1;\"><g class=\"legendfill\"/><g class=\"legendlines\"><path class=\"js-line\" d=\"M5,0h30\" style=\"fill: none; stroke: rgb(99, 110, 250); stroke-opacity: 1; stroke-width: 2px;\"/></g><g class=\"legendsymbols\"><g class=\"legendpoints\"/></g></g><rect class=\"legendtoggle\" x=\"0\" y=\"-9.5\" width=\"81.3125\" height=\"19\" style=\"fill: rgb(0, 0, 0); fill-opacity: 0;\"/></g></g><g class=\"groups\" transform=\"\"><g class=\"traces\" transform=\"translate(0,51.7)\" style=\"opacity: 1;\"><text class=\"legendtext\" text-anchor=\"start\" x=\"40\" y=\"4.680000000000001\" style=\"font-family: 'Open Sans', verdana, arial, sans-serif; font-size: 12px; fill: rgb(42, 63, 95); fill-opacity: 1; white-space: pre;\">Label</text><g class=\"layers\" style=\"opacity: 1;\"><g class=\"legendfill\"/><g class=\"legendlines\"><path class=\"js-line\" d=\"M5,0h30\" style=\"fill: none; stroke: rgb(239, 85, 59); stroke-opacity: 1; stroke-width: 2px;\"/></g><g class=\"legendsymbols\"><g class=\"legendpoints\"/></g></g><rect class=\"legendtoggle\" x=\"0\" y=\"-9.5\" width=\"81.3125\" height=\"19\" style=\"fill: rgb(0, 0, 0); fill-opacity: 0;\"/></g></g></g><rect class=\"scrollbar\" rx=\"20\" ry=\"3\" width=\"0\" height=\"0\" style=\"fill: rgb(128, 139, 164); fill-opacity: 1;\" x=\"0\" y=\"0\"/></g><g class=\"g-gtitle\"/><g class=\"g-xtitle\"><text class=\"xtitle\" x=\"580.5\" y=\"360.3\" text-anchor=\"middle\" style=\"font-family: 'Open Sans', verdana, arial, sans-serif; font-size: 14px; fill: rgb(42, 63, 95); opacity: 1; font-weight: normal; white-space: pre;\">Date</text></g><g class=\"g-ytitle\"><text class=\"ytitle\" transform=\"rotate(-90,24.184375000000003,190)\" x=\"24.184375000000003\" y=\"190\" text-anchor=\"middle\" style=\"font-family: 'Open Sans', verdana, arial, sans-serif; font-size: 14px; fill: rgb(42, 63, 95); opacity: 1; font-weight: normal; white-space: pre;\">value</text></g></g></svg>"
     },
     "metadata": {},
     "output_type": "display_data"
    }
   ],
   "source": [
    "# Generate predictions on the original dataset\n",
    "predictions = predict_model(model, data=df)\n",
    "\n",
    "# Add a date column in the dataset\n",
    "predictions['Date'] = pd.date_range(start=start, end = end, freq = 'MS')\n",
    "\n",
    "# Line plot\n",
    "fig = px.line(predictions, x='Date', y=[dep_var, \"Label\"]) #, template = 'plotly_dark')\n",
    "\n",
    "# Add a vertical rectange for test-set separation\n",
    "fig.add_vrect(x0=start_test, x1=predictions.Date.max(), fillcolor=\"grey\", opacity=0.25, line_width=0)\n",
    "fig.update_layout(height=400, width=1200)\n",
    "fig.show()"
   ]
  },
  {
   "attachments": {},
   "cell_type": "markdown",
   "metadata": {},
   "source": [
    "##### Tuned model"
   ]
  },
  {
   "cell_type": "code",
   "execution_count": null,
   "metadata": {},
   "outputs": [
    {
     "data": {
      "text/html": [
       "<style type=\"text/css\">\n",
       "</style>\n",
       "<table id=\"T_002b4\">\n",
       "  <thead>\n",
       "    <tr>\n",
       "      <th class=\"blank level0\" >&nbsp;</th>\n",
       "      <th id=\"T_002b4_level0_col0\" class=\"col_heading level0 col0\" >Model</th>\n",
       "      <th id=\"T_002b4_level0_col1\" class=\"col_heading level0 col1\" >MAE</th>\n",
       "      <th id=\"T_002b4_level0_col2\" class=\"col_heading level0 col2\" >MSE</th>\n",
       "      <th id=\"T_002b4_level0_col3\" class=\"col_heading level0 col3\" >RMSE</th>\n",
       "      <th id=\"T_002b4_level0_col4\" class=\"col_heading level0 col4\" >R2</th>\n",
       "      <th id=\"T_002b4_level0_col5\" class=\"col_heading level0 col5\" >RMSLE</th>\n",
       "      <th id=\"T_002b4_level0_col6\" class=\"col_heading level0 col6\" >MAPE</th>\n",
       "    </tr>\n",
       "  </thead>\n",
       "  <tbody>\n",
       "    <tr>\n",
       "      <th id=\"T_002b4_level0_row0\" class=\"row_heading level0 row0\" >0</th>\n",
       "      <td id=\"T_002b4_row0_col0\" class=\"data row0 col0\" >AdaBoost Regressor</td>\n",
       "      <td id=\"T_002b4_row0_col1\" class=\"data row0 col1\" >103.6053</td>\n",
       "      <td id=\"T_002b4_row0_col2\" class=\"data row0 col2\" >15734.6244</td>\n",
       "      <td id=\"T_002b4_row0_col3\" class=\"data row0 col3\" >125.4377</td>\n",
       "      <td id=\"T_002b4_row0_col4\" class=\"data row0 col4\" >0.7035</td>\n",
       "      <td id=\"T_002b4_row0_col5\" class=\"data row0 col5\" >0.2969</td>\n",
       "      <td id=\"T_002b4_row0_col6\" class=\"data row0 col6\" >0.2643</td>\n",
       "    </tr>\n",
       "  </tbody>\n",
       "</table>\n"
      ],
      "text/plain": [
       "<pandas.io.formats.style.Styler at 0x19a31381c40>"
      ]
     },
     "metadata": {},
     "output_type": "display_data"
    },
    {
     "data": {
      "image/svg+xml": "<svg class=\"main-svg\" xmlns=\"http://www.w3.org/2000/svg\" xmlns:xlink=\"http://www.w3.org/1999/xlink\" width=\"1200\" height=\"400\" style=\"\" viewBox=\"0 0 1200 400\"><rect x=\"0\" y=\"0\" width=\"1200\" height=\"400\" style=\"fill: rgb(255, 255, 255); fill-opacity: 1;\"/><defs id=\"defs-d22962\"><g class=\"clips\"><clipPath id=\"clipd22962xyplot\" class=\"plotclip\"><rect width=\"1001\" height=\"260\"/></clipPath><clipPath class=\"axesclip\" id=\"clipd22962x\"><rect x=\"80\" y=\"0\" width=\"1001\" height=\"400\"/></clipPath><clipPath class=\"axesclip\" id=\"clipd22962y\"><rect x=\"0\" y=\"60\" width=\"1200\" height=\"260\"/></clipPath><clipPath class=\"axesclip\" id=\"clipd22962xy\"><rect x=\"80\" y=\"60\" width=\"1001\" height=\"260\"/></clipPath></g><g class=\"gradients\"/><g class=\"patterns\"/></defs><g class=\"bglayer\"><rect class=\"bg\" x=\"80\" y=\"60\" width=\"1001\" height=\"260\" style=\"fill: rgb(229, 236, 246); fill-opacity: 1; stroke-width: 0;\"/></g><g class=\"layer-below\"><g class=\"imagelayer\"/><g class=\"shapelayer\"/></g><g class=\"cartesianlayer\"><g class=\"subplot xy\"><g class=\"layer-subplot\"><g class=\"shapelayer\"/><g class=\"imagelayer\"/></g><g class=\"minor-gridlayer\"><g class=\"x\"/><g class=\"y\"/></g><g class=\"gridlayer\"><g class=\"x\"><path class=\"xgrid crisp\" transform=\"translate(198.28,0)\" d=\"M0,60v260\" style=\"stroke: rgb(255, 255, 255); stroke-opacity: 1; stroke-width: 1px;\"/><path class=\"xgrid crisp\" transform=\"translate(316.72,0)\" d=\"M0,60v260\" style=\"stroke: rgb(255, 255, 255); stroke-opacity: 1; stroke-width: 1px;\"/><path class=\"xgrid crisp\" transform=\"translate(435,0)\" d=\"M0,60v260\" style=\"stroke: rgb(255, 255, 255); stroke-opacity: 1; stroke-width: 1px;\"/><path class=\"xgrid crisp\" transform=\"translate(553.44,0)\" d=\"M0,60v260\" style=\"stroke: rgb(255, 255, 255); stroke-opacity: 1; stroke-width: 1px;\"/><path class=\"xgrid crisp\" transform=\"translate(671.72,0)\" d=\"M0,60v260\" style=\"stroke: rgb(255, 255, 255); stroke-opacity: 1; stroke-width: 1px;\"/><path class=\"xgrid crisp\" transform=\"translate(790.16,0)\" d=\"M0,60v260\" style=\"stroke: rgb(255, 255, 255); stroke-opacity: 1; stroke-width: 1px;\"/><path class=\"xgrid crisp\" transform=\"translate(908.44,0)\" d=\"M0,60v260\" style=\"stroke: rgb(255, 255, 255); stroke-opacity: 1; stroke-width: 1px;\"/><path class=\"xgrid crisp\" transform=\"translate(1026.88,0)\" d=\"M0,60v260\" style=\"stroke: rgb(255, 255, 255); stroke-opacity: 1; stroke-width: 1px;\"/></g><g class=\"y\"><path class=\"ygrid crisp\" transform=\"translate(0,290.31)\" d=\"M80,0h1001\" style=\"stroke: rgb(255, 255, 255); stroke-opacity: 1; stroke-width: 1px;\"/><path class=\"ygrid crisp\" transform=\"translate(0,249.62)\" d=\"M80,0h1001\" style=\"stroke: rgb(255, 255, 255); stroke-opacity: 1; stroke-width: 1px;\"/><path class=\"ygrid crisp\" transform=\"translate(0,208.92)\" d=\"M80,0h1001\" style=\"stroke: rgb(255, 255, 255); stroke-opacity: 1; stroke-width: 1px;\"/><path class=\"ygrid crisp\" transform=\"translate(0,168.23000000000002)\" d=\"M80,0h1001\" style=\"stroke: rgb(255, 255, 255); stroke-opacity: 1; stroke-width: 1px;\"/><path class=\"ygrid crisp\" transform=\"translate(0,127.53)\" d=\"M80,0h1001\" style=\"stroke: rgb(255, 255, 255); stroke-opacity: 1; stroke-width: 1px;\"/><path class=\"ygrid crisp\" transform=\"translate(0,86.84)\" d=\"M80,0h1001\" style=\"stroke: rgb(255, 255, 255); stroke-opacity: 1; stroke-width: 1px;\"/></g></g><g class=\"zerolinelayer\"/><path class=\"xlines-below\"/><path class=\"ylines-below\"/><g class=\"overlines-below\"/><g class=\"xaxislayer-below\"/><g class=\"yaxislayer-below\"/><g class=\"overaxes-below\"/><g class=\"plot\" transform=\"translate(80,60)\" clip-path=\"url(#clipd22962xyplot)\"><g class=\"scatterlayer mlayer\"><g class=\"trace scatter trace39a898\" style=\"stroke-miterlimit: 2; opacity: 1;\"><g class=\"fills\"/><g class=\"errorbars\"/><g class=\"lines\"><path class=\"js-line\" d=\"M0,42.3L5.02,51.46L9.56,24.8L14.58,37.62L19.44,67.33L24.47,49.83L29.33,122.88L34.35,147.91L39.37,51.05L44.23,111.08L49.26,130.81L54.12,125.52L59.14,67.94L64.16,141.19L68.7,138.95L78.58,96.83L83.61,103.14L88.47,131.63L93.49,117.38L98.51,117.38L103.37,140.78L108.4,244.56L113.26,239.47L118.28,87.88L123.3,147.09L128,115.35L133.02,141.19L137.88,108.43L142.91,135.49L147.77,154.21L152.79,180.87L162.67,163.78L167.7,223.19L172.56,246.19L177.58,167.64L182.6,207.73L187.14,143.02L192.16,211.19L197.02,208.75L202.05,202.23L206.91,206.1L216.95,185.14L221.81,199.39L226.84,215.26L231.7,234.79L236.72,126.34L241.74,165.41L246.28,139.36L251.3,164.39L256.16,147.3L261.19,136.31L266.05,175.78L271.07,162.76L276.09,156.86L280.95,136.31L285.98,168.66L290.84,189.21L295.86,87.68L300.88,134.48L305.42,84.42L310.44,111.28L315.3,115.55L320.33,139.77L325.19,163.37L330.21,130.61L335.23,99.68L340.09,142.41L345.12,155.03L349.98,188.6L355,63.26L360.02,114.33L364.72,13L369.74,200L379.63,174.77L384.49,187.99L389.51,172.32L394.53,115.35L399.4,148.11L404.42,152.18L409.28,165.41L414.3,139.16L419.32,158.49L423.86,122.88L428.88,178.22L433.75,147.09L438.77,176.39L443.63,181.48L448.65,165.61L453.67,157.27L458.54,137.33L463.56,148.92L468.42,173.14L473.44,181.28L478.46,138.14L483,82.18L488.02,163.78L492.88,148.52L497.91,151.57L502.77,167.03L507.79,151.57L512.81,146.48L517.67,138.14L522.7,153.4L527.56,138.75L532.58,126.54L537.6,130L542.14,36.2L547.16,201.01L552.02,156.66L557.05,137.53L561.91,153.4L566.93,158.69L571.95,116.98L576.81,128.78L581.84,172.12L586.7,165.81L591.72,130.81L596.74,120.44L601.44,49.42L606.47,165.81L611.33,145.67L616.35,125.52L621.21,154.21L626.23,139.36L631.26,102.12L636.12,128.58L641.14,146.28L646,164.79L651.02,126.74L656.05,122.47L660.58,84.62L665.61,157.88L670.47,151.98L675.49,175.58L680.35,168.05L685.37,145.06L690.4,117.99L695.26,110.47L700.28,129.19L705.14,147.3L710.16,135.49L715.19,128.58L719.72,108.63L724.74,165L729.61,167.85L734.63,129.39L739.49,133.66L744.51,45.76L749.53,190.84L754.4,193.89L759.42,171.1L764.28,200L769.3,164.59L774.32,165.2L778.86,120.03L783.88,172.53L788.75,166.63L793.77,165.41L798.63,178.02L803.65,160.52L808.67,172.53L813.54,194.91L818.56,193.89L823.42,200.2L828.44,170.7L833.46,178.02L838.16,204.88L843.19,236.01L848.05,240.29L853.07,218.31L857.93,185.96L862.95,196.33L867.98,190.43L872.84,197.35L877.86,211.8L882.72,212.82L887.74,184.74L892.77,203.25L897.3,158.69L902.33,207.32L907.19,205.49L912.21,218.72L917.07,222.58L922.09,218.92L927.12,218.31L931.98,234.79L937,193.89L941.86,218.92L946.88,224.21L951.91,225.84L956.44,191.25L961.47,206.71L966.33,225.43L971.35,224.01L976.21,247L981.23,219.33L986.26,224.62L991.12,232.76L996.14,229.5L1001,195.72\" style=\"vector-effect: non-scaling-stroke; fill: none; stroke: rgb(99, 110, 250); stroke-opacity: 1; stroke-width: 2px; opacity: 1;\"/></g><g class=\"points\"/><g class=\"text\"/></g><g class=\"trace scatter trace4369da\" style=\"stroke-miterlimit: 2; opacity: 1;\"><g class=\"fills\"/><g class=\"errorbars\"/><g class=\"lines\"><path class=\"js-line\" d=\"M0,63.33L5.02,85.23L9.56,55.68L14.58,80.07L19.44,62.39L24.47,61.81L29.33,139.49L34.35,128.7L39.37,80.23L44.23,119.61L49.26,142.22L54.12,167.96L59.14,81.62L64.16,142.01L68.7,121.69L73.72,122.56L78.58,116.54L83.61,123.46L88.47,143.75L93.49,133.27L98.51,142.75L103.37,131.72L108.4,224.34L113.26,217.94L118.28,94.73L123.3,126.24L128,121.69L133.02,111.35L137.88,110.28L142.91,122.56L147.77,138.76L152.79,145.77L157.81,145.77L162.67,144.58L167.7,193.3L172.56,224.34L177.58,134.27L182.6,175.4L187.14,113.6L192.16,177.28L197.02,185.49L202.05,182.23L206.91,187.9L211.93,185.41L216.95,184.44L221.81,181.88L226.84,185.49L231.7,209.78L236.72,102.01L241.74,177.91L246.28,140.44L251.3,134.87L256.16,134.27L261.19,107.09L266.05,172.54L271.07,140.78L276.09,137.19L280.95,138.51L285.98,148.88L290.84,172.42L295.86,94.66L300.88,140.44L305.42,113.44L310.44,116.28L315.3,92.33L325.19,143.67L330.21,140.46L335.23,138.14L340.09,138.57L345.12,141.37L349.98,163.02L355,64.56L360.02,140L364.72,53.09L369.74,190.25L374.61,170.64L379.63,168.19L384.49,172.93L389.51,164.41L394.53,148.88L399.4,150.21L404.42,163.7L409.28,172.63L414.3,139.49L419.32,160.88L423.86,141.37L428.88,141.37L433.75,140.44L438.77,146.02L443.63,151L448.65,167.96L453.67,148.45L458.54,140.44L463.56,167.39L468.42,169.64L473.44,139.8L478.46,147.82L483,130.51L488.02,140.71L492.88,135.59L497.91,140.46L502.77,160.97L507.79,167.39L512.81,148.88L517.67,141.27L522.7,169.41L527.56,167.96L532.58,140L537.6,159.95L542.14,92.06L547.16,159.95L552.02,141.94L557.05,143.67L566.93,161.84L571.95,150.11L576.81,147.82L581.84,150.5L586.7,160.97L591.72,107.86L596.74,140L601.44,91.68L606.47,121.36L611.33,138.14L616.35,138.57L621.21,162.72L626.23,141.94L631.26,141.27L636.12,146.02L641.14,141.27L646,144.58L651.02,116.1L656.05,138.51L660.58,112.16L665.61,137.45L670.47,121.36L675.49,137.19L680.35,144.06L685.37,139.49L690.4,136.01L695.26,144.06L700.28,140L705.14,151L710.16,116.28L715.19,141.24L719.72,108.13L724.74,122.56L729.61,131.93L734.63,129.39L739.49,144.49L744.51,94.06L749.53,177.28L754.4,159.77L759.42,148.45L764.28,182.23L769.3,131.42L774.32,161.29L778.86,144.06L783.88,145.77L788.75,148.88L793.77,151.25L798.63,177.18L803.65,153.61L808.67,182.69L813.54,168.28L818.56,176.81L823.42,182.36L828.44,154.51L833.46,182.69L838.16,176.81L843.19,200.31L848.05,212.54L857.93,168.74L862.95,182.36L867.98,182.29L872.84,188.4L877.86,190.25L882.72,182.36L887.74,145.67L892.77,176.94L897.3,145.67L902.33,160.8L907.19,148.85L912.21,151.59L917.07,182.01L922.09,179.8L927.12,179.8L931.98,193.3L937,196.6L941.86,181.7L946.88,166.05L951.91,181.7L956.44,174.85L961.47,181.7L966.33,174.66L971.35,174.19L976.21,187.9L981.23,170.64L986.26,174.19L991.12,181.88L996.14,182.23L1001,174.19\" style=\"vector-effect: non-scaling-stroke; fill: none; stroke: rgb(239, 85, 59); stroke-opacity: 1; stroke-width: 2px; opacity: 1;\"/></g><g class=\"points\"/><g class=\"text\"/></g></g></g><g class=\"overplot\"/><path class=\"xlines-above crisp\" d=\"M0,0\" style=\"fill: none;\"/><path class=\"ylines-above crisp\" d=\"M0,0\" style=\"fill: none;\"/><g class=\"overlines-above\"/><g class=\"xaxislayer-above\"><g class=\"xtick\"><text text-anchor=\"middle\" x=\"0\" y=\"333\" transform=\"translate(80,0)\" style=\"font-family: 'Open Sans', verdana, arial, sans-serif; font-size: 12px; fill: rgb(42, 63, 95); fill-opacity: 1; white-space: pre; opacity: 1;\">2006</text></g><g class=\"xtick\"><text text-anchor=\"middle\" x=\"0\" y=\"333\" style=\"font-family: 'Open Sans', verdana, arial, sans-serif; font-size: 12px; fill: rgb(42, 63, 95); fill-opacity: 1; white-space: pre; opacity: 1;\" transform=\"translate(198.28,0)\">2008</text></g><g class=\"xtick\"><text text-anchor=\"middle\" x=\"0\" y=\"333\" style=\"font-family: 'Open Sans', verdana, arial, sans-serif; font-size: 12px; fill: rgb(42, 63, 95); fill-opacity: 1; white-space: pre; opacity: 1;\" transform=\"translate(316.72,0)\">2010</text></g><g class=\"xtick\"><text text-anchor=\"middle\" x=\"0\" y=\"333\" style=\"font-family: 'Open Sans', verdana, arial, sans-serif; font-size: 12px; fill: rgb(42, 63, 95); fill-opacity: 1; white-space: pre; opacity: 1;\" transform=\"translate(435,0)\">2012</text></g><g class=\"xtick\"><text text-anchor=\"middle\" x=\"0\" y=\"333\" style=\"font-family: 'Open Sans', verdana, arial, sans-serif; font-size: 12px; fill: rgb(42, 63, 95); fill-opacity: 1; white-space: pre; opacity: 1;\" transform=\"translate(553.44,0)\">2014</text></g><g class=\"xtick\"><text text-anchor=\"middle\" x=\"0\" y=\"333\" style=\"font-family: 'Open Sans', verdana, arial, sans-serif; font-size: 12px; fill: rgb(42, 63, 95); fill-opacity: 1; white-space: pre; opacity: 1;\" transform=\"translate(671.72,0)\">2016</text></g><g class=\"xtick\"><text text-anchor=\"middle\" x=\"0\" y=\"333\" style=\"font-family: 'Open Sans', verdana, arial, sans-serif; font-size: 12px; fill: rgb(42, 63, 95); fill-opacity: 1; white-space: pre; opacity: 1;\" transform=\"translate(790.16,0)\">2018</text></g><g class=\"xtick\"><text text-anchor=\"middle\" x=\"0\" y=\"333\" style=\"font-family: 'Open Sans', verdana, arial, sans-serif; font-size: 12px; fill: rgb(42, 63, 95); fill-opacity: 1; white-space: pre; opacity: 1;\" transform=\"translate(908.44,0)\">2020</text></g><g class=\"xtick\"><text text-anchor=\"middle\" x=\"0\" y=\"333\" style=\"font-family: 'Open Sans', verdana, arial, sans-serif; font-size: 12px; fill: rgb(42, 63, 95); fill-opacity: 1; white-space: pre; opacity: 1;\" transform=\"translate(1026.88,0)\">2022</text></g></g><g class=\"yaxislayer-above\"><g class=\"ytick\"><text text-anchor=\"end\" x=\"79\" y=\"4.199999999999999\" transform=\"translate(0,290.31)\" style=\"font-family: 'Open Sans', verdana, arial, sans-serif; font-size: 12px; fill: rgb(42, 63, 95); fill-opacity: 1; white-space: pre; opacity: 1;\">200</text></g><g class=\"ytick\"><text text-anchor=\"end\" x=\"79\" y=\"4.199999999999999\" style=\"font-family: 'Open Sans', verdana, arial, sans-serif; font-size: 12px; fill: rgb(42, 63, 95); fill-opacity: 1; white-space: pre; opacity: 1;\" transform=\"translate(0,249.62)\">400</text></g><g class=\"ytick\"><text text-anchor=\"end\" x=\"79\" y=\"4.199999999999999\" style=\"font-family: 'Open Sans', verdana, arial, sans-serif; font-size: 12px; fill: rgb(42, 63, 95); fill-opacity: 1; white-space: pre; opacity: 1;\" transform=\"translate(0,208.92)\">600</text></g><g class=\"ytick\"><text text-anchor=\"end\" x=\"79\" y=\"4.199999999999999\" style=\"font-family: 'Open Sans', verdana, arial, sans-serif; font-size: 12px; fill: rgb(42, 63, 95); fill-opacity: 1; white-space: pre; opacity: 1;\" transform=\"translate(0,168.23000000000002)\">800</text></g><g class=\"ytick\"><text text-anchor=\"end\" x=\"79\" y=\"4.199999999999999\" style=\"font-family: 'Open Sans', verdana, arial, sans-serif; font-size: 12px; fill: rgb(42, 63, 95); fill-opacity: 1; white-space: pre; opacity: 1;\" transform=\"translate(0,127.53)\">1000</text></g><g class=\"ytick\"><text text-anchor=\"end\" x=\"79\" y=\"4.199999999999999\" style=\"font-family: 'Open Sans', verdana, arial, sans-serif; font-size: 12px; fill: rgb(42, 63, 95); fill-opacity: 1; white-space: pre; opacity: 1;\" transform=\"translate(0,86.84)\">1200</text></g></g><g class=\"overaxes-above\"/></g></g><g class=\"polarlayer\"/><g class=\"smithlayer\"/><g class=\"ternarylayer\"/><g class=\"geolayer\"/><g class=\"funnelarealayer\"/><g class=\"pielayer\"/><g class=\"iciclelayer\"/><g class=\"treemaplayer\"/><g class=\"sunburstlayer\"/><g class=\"glimages\"/><defs id=\"topdefs-d22962\"><g class=\"clips\"/><clipPath id=\"legendd22962\"><rect width=\"87\" height=\"67\" x=\"0\" y=\"0\"/></clipPath></defs><g class=\"layer-above\"><g class=\"imagelayer\"/><g class=\"shapelayer\"><path data-index=\"0\" fill-rule=\"evenodd\" d=\"M967.74,320H1081V60H967.74Z\" clip-path=\"url(#clipd22962x)\" style=\"opacity: 0.25; stroke: rgb(0, 0, 0); stroke-opacity: 0; fill: rgb(128, 128, 128); fill-opacity: 1; stroke-width: 0px;\"/></g></g><g class=\"infolayer\"><g class=\"legend\" pointer-events=\"all\" transform=\"translate(1101.02,60)\"><rect class=\"bg\" shape-rendering=\"crispEdges\" width=\"87\" height=\"67\" x=\"0\" y=\"0\" style=\"stroke: rgb(68, 68, 68); stroke-opacity: 1; fill: rgb(255, 255, 255); fill-opacity: 1; stroke-width: 0px;\"/><g class=\"scrollbox\" transform=\"\" clip-path=\"url(#legendd22962)\"><text class=\"legendtitletext\" text-anchor=\"start\" x=\"2\" y=\"18.2\" style=\"font-family: 'Open Sans', verdana, arial, sans-serif; font-size: 14px; fill: rgb(42, 63, 95); fill-opacity: 1; white-space: pre;\">variable</text><g class=\"groups\" transform=\"\"><g class=\"traces\" transform=\"translate(0,32.7)\" style=\"opacity: 1;\"><text class=\"legendtext\" text-anchor=\"start\" x=\"40\" y=\"4.680000000000001\" style=\"font-family: 'Open Sans', verdana, arial, sans-serif; font-size: 12px; fill: rgb(42, 63, 95); fill-opacity: 1; white-space: pre;\">Orders</text><g class=\"layers\" style=\"opacity: 1;\"><g class=\"legendfill\"/><g class=\"legendlines\"><path class=\"js-line\" d=\"M5,0h30\" style=\"fill: none; stroke: rgb(99, 110, 250); stroke-opacity: 1; stroke-width: 2px;\"/></g><g class=\"legendsymbols\"><g class=\"legendpoints\"/></g></g><rect class=\"legendtoggle\" x=\"0\" y=\"-9.5\" width=\"81.3125\" height=\"19\" style=\"fill: rgb(0, 0, 0); fill-opacity: 0;\"/></g></g><g class=\"groups\" transform=\"\"><g class=\"traces\" transform=\"translate(0,51.7)\" style=\"opacity: 1;\"><text class=\"legendtext\" text-anchor=\"start\" x=\"40\" y=\"4.680000000000001\" style=\"font-family: 'Open Sans', verdana, arial, sans-serif; font-size: 12px; fill: rgb(42, 63, 95); fill-opacity: 1; white-space: pre;\">Label</text><g class=\"layers\" style=\"opacity: 1;\"><g class=\"legendfill\"/><g class=\"legendlines\"><path class=\"js-line\" d=\"M5,0h30\" style=\"fill: none; stroke: rgb(239, 85, 59); stroke-opacity: 1; stroke-width: 2px;\"/></g><g class=\"legendsymbols\"><g class=\"legendpoints\"/></g></g><rect class=\"legendtoggle\" x=\"0\" y=\"-9.5\" width=\"81.3125\" height=\"19\" style=\"fill: rgb(0, 0, 0); fill-opacity: 0;\"/></g></g></g><rect class=\"scrollbar\" rx=\"20\" ry=\"3\" width=\"0\" height=\"0\" x=\"0\" y=\"0\" style=\"fill: rgb(128, 139, 164); fill-opacity: 1;\"/></g><g class=\"g-gtitle\"/><g class=\"g-xtitle\"><text class=\"xtitle\" x=\"580.5\" y=\"360.3\" text-anchor=\"middle\" style=\"font-family: 'Open Sans', verdana, arial, sans-serif; font-size: 14px; fill: rgb(42, 63, 95); opacity: 1; font-weight: normal; white-space: pre;\">Date</text></g><g class=\"g-ytitle\"><text class=\"ytitle\" transform=\"rotate(-90,24.184375000000003,190)\" x=\"24.184375000000003\" y=\"190\" text-anchor=\"middle\" style=\"font-family: 'Open Sans', verdana, arial, sans-serif; font-size: 14px; fill: rgb(42, 63, 95); opacity: 1; font-weight: normal; white-space: pre;\">value</text></g></g></svg>"
     },
     "metadata": {},
     "output_type": "display_data"
    }
   ],
   "source": [
    "# Generate predictions on the original dataset\n",
    "predictions = predict_model(tuned_model, data=df)\n",
    "\n",
    "# Add a date column in the dataset\n",
    "predictions['Date'] = pd.date_range(start=start, end = end, freq = 'MS')\n",
    "\n",
    "# Line plot\n",
    "fig = px.line(predictions, x='Date', y=[dep_var, \"Label\"]) #, template = 'plotly_dark')\n",
    "\n",
    "# Add a vertical rectange for test-set separation\n",
    "fig.add_vrect(x0=start_test, x1=predictions.Date.max(), fillcolor=\"grey\", opacity=0.25, line_width=0)\n",
    "fig.update_layout(height=400, width=1200)\n",
    "fig.show()"
   ]
  },
  {
   "attachments": {},
   "cell_type": "markdown",
   "metadata": {},
   "source": [
    "#### Finalize model"
   ]
  },
  {
   "cell_type": "code",
   "execution_count": null,
   "metadata": {},
   "outputs": [],
   "source": [
    "# Finalize the model i.e. train the best model on the entire dataset (this time, including the test set).\n",
    "final = finalize_model(tuned_model)"
   ]
  },
  {
   "cell_type": "code",
   "execution_count": null,
   "metadata": {},
   "outputs": [
    {
     "data": {
      "text/plain": [
       "AdaBoostRegressor(base_estimator=None, learning_rate=0.2, loss='exponential',\n",
       "                  n_estimators=160, random_state=42)"
      ]
     },
     "execution_count": 31,
     "metadata": {},
     "output_type": "execute_result"
    }
   ],
   "source": [
    "final"
   ]
  },
  {
   "cell_type": "code",
   "execution_count": null,
   "metadata": {},
   "outputs": [],
   "source": []
  }
 ],
 "metadata": {
  "kernelspec": {
   "display_name": "base",
   "language": "python",
   "name": "python3"
  },
  "language_info": {
   "codemirror_mode": {
    "name": "ipython",
    "version": 3
   },
   "file_extension": ".py",
   "mimetype": "text/x-python",
   "name": "python",
   "nbconvert_exporter": "python",
   "pygments_lexer": "ipython3",
   "version": "3.8.12"
  },
  "orig_nbformat": 4,
  "vscode": {
   "interpreter": {
    "hash": "ad2bdc8ecc057115af97d19610ffacc2b4e99fae6737bb82f5d7fb13d2f2c186"
   }
  }
 },
 "nbformat": 4,
 "nbformat_minor": 2
}
