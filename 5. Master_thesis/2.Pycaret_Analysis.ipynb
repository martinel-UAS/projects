{
 "cells": [
  {
   "cell_type": "code",
   "execution_count": 1,
   "metadata": {},
   "outputs": [
    {
     "name": "stdout",
     "output_type": "stream",
     "text": [
      "0.23.2\n"
     ]
    }
   ],
   "source": [
    "import os\n",
    "import sys\n",
    "sys.path.insert(1,os.path.abspath('../Git_Projects/0. Not_git/Sources/scikit-learn/0.23.2'))\n",
    "import sklearn\n",
    "print(sklearn.__version__)"
   ]
  },
  {
   "attachments": {},
   "cell_type": "markdown",
   "metadata": {},
   "source": [
    "### Import libraries"
   ]
  },
  {
   "cell_type": "code",
   "execution_count": 2,
   "metadata": {},
   "outputs": [],
   "source": [
    "import pandas as pd\n",
    "import plotly.express as px\n",
    "\n",
    "from pycaret.regression import *\n",
    "\n",
    "import plotly.io as pio"
   ]
  },
  {
   "cell_type": "code",
   "execution_count": 3,
   "metadata": {},
   "outputs": [],
   "source": [
    "# To render plotly into GitHub\n",
    "pio.renderers.default = \"svg\""
   ]
  },
  {
   "cell_type": "code",
   "execution_count": 4,
   "metadata": {},
   "outputs": [],
   "source": [
    "# Select country in analysys ('FIN', 'DEN', 'NOR', 'SWE')\n",
    "country = 'NOR'"
   ]
  },
  {
   "attachments": {},
   "cell_type": "markdown",
   "metadata": {},
   "source": [
    "### Load Data"
   ]
  },
  {
   "cell_type": "code",
   "execution_count": 5,
   "metadata": {},
   "outputs": [
    {
     "ename": "FileNotFoundError",
     "evalue": "[Errno 2] No such file or directory: '../5. Master_thesis/Datasets/Output_files/1.xlsx'",
     "output_type": "error",
     "traceback": [
      "\u001b[1;31m---------------------------------------------------------------------------\u001b[0m",
      "\u001b[1;31mFileNotFoundError\u001b[0m                         Traceback (most recent call last)",
      "\u001b[1;32m~\\AppData\\Local\\Temp/ipykernel_9164/988813886.py\u001b[0m in \u001b[0;36m<module>\u001b[1;34m\u001b[0m\n\u001b[0;32m      4\u001b[0m \u001b[1;31m# Load files into a pandas dataframes\u001b[0m\u001b[1;33m\u001b[0m\u001b[1;33m\u001b[0m\u001b[1;33m\u001b[0m\u001b[0m\n\u001b[0;32m      5\u001b[0m \u001b[0mfile\u001b[0m \u001b[1;33m=\u001b[0m \u001b[0mpath\u001b[0m \u001b[1;33m+\u001b[0m \u001b[1;34m'1.xlsx'\u001b[0m\u001b[1;33m\u001b[0m\u001b[1;33m\u001b[0m\u001b[0m\n\u001b[1;32m----> 6\u001b[1;33m \u001b[0mdf\u001b[0m \u001b[1;33m=\u001b[0m \u001b[0mpd\u001b[0m\u001b[1;33m.\u001b[0m\u001b[0mread_excel\u001b[0m\u001b[1;33m(\u001b[0m\u001b[0mfile\u001b[0m\u001b[1;33m,\u001b[0m \u001b[0msheet_name\u001b[0m\u001b[1;33m=\u001b[0m\u001b[0mcountry\u001b[0m\u001b[1;33m)\u001b[0m\u001b[1;33m\u001b[0m\u001b[1;33m\u001b[0m\u001b[0m\n\u001b[0m\u001b[0;32m      7\u001b[0m \u001b[1;33m\u001b[0m\u001b[0m\n\u001b[0;32m      8\u001b[0m \u001b[1;31m# Dependant variable\u001b[0m\u001b[1;33m\u001b[0m\u001b[1;33m\u001b[0m\u001b[1;33m\u001b[0m\u001b[0m\n",
      "\u001b[1;32mc:\\ProgramData\\Anaconda3\\lib\\site-packages\\pandas\\util\\_decorators.py\u001b[0m in \u001b[0;36mwrapper\u001b[1;34m(*args, **kwargs)\u001b[0m\n\u001b[0;32m    309\u001b[0m                     \u001b[0mstacklevel\u001b[0m\u001b[1;33m=\u001b[0m\u001b[0mstacklevel\u001b[0m\u001b[1;33m,\u001b[0m\u001b[1;33m\u001b[0m\u001b[1;33m\u001b[0m\u001b[0m\n\u001b[0;32m    310\u001b[0m                 )\n\u001b[1;32m--> 311\u001b[1;33m             \u001b[1;32mreturn\u001b[0m \u001b[0mfunc\u001b[0m\u001b[1;33m(\u001b[0m\u001b[1;33m*\u001b[0m\u001b[0margs\u001b[0m\u001b[1;33m,\u001b[0m \u001b[1;33m**\u001b[0m\u001b[0mkwargs\u001b[0m\u001b[1;33m)\u001b[0m\u001b[1;33m\u001b[0m\u001b[1;33m\u001b[0m\u001b[0m\n\u001b[0m\u001b[0;32m    312\u001b[0m \u001b[1;33m\u001b[0m\u001b[0m\n\u001b[0;32m    313\u001b[0m         \u001b[1;32mreturn\u001b[0m \u001b[0mwrapper\u001b[0m\u001b[1;33m\u001b[0m\u001b[1;33m\u001b[0m\u001b[0m\n",
      "\u001b[1;32mc:\\ProgramData\\Anaconda3\\lib\\site-packages\\pandas\\io\\excel\\_base.py\u001b[0m in \u001b[0;36mread_excel\u001b[1;34m(io, sheet_name, header, names, index_col, usecols, squeeze, dtype, engine, converters, true_values, false_values, skiprows, nrows, na_values, keep_default_na, na_filter, verbose, parse_dates, date_parser, thousands, decimal, comment, skipfooter, convert_float, mangle_dupe_cols, storage_options)\u001b[0m\n\u001b[0;32m    455\u001b[0m     \u001b[1;32mif\u001b[0m \u001b[1;32mnot\u001b[0m \u001b[0misinstance\u001b[0m\u001b[1;33m(\u001b[0m\u001b[0mio\u001b[0m\u001b[1;33m,\u001b[0m \u001b[0mExcelFile\u001b[0m\u001b[1;33m)\u001b[0m\u001b[1;33m:\u001b[0m\u001b[1;33m\u001b[0m\u001b[1;33m\u001b[0m\u001b[0m\n\u001b[0;32m    456\u001b[0m         \u001b[0mshould_close\u001b[0m \u001b[1;33m=\u001b[0m \u001b[1;32mTrue\u001b[0m\u001b[1;33m\u001b[0m\u001b[1;33m\u001b[0m\u001b[0m\n\u001b[1;32m--> 457\u001b[1;33m         \u001b[0mio\u001b[0m \u001b[1;33m=\u001b[0m \u001b[0mExcelFile\u001b[0m\u001b[1;33m(\u001b[0m\u001b[0mio\u001b[0m\u001b[1;33m,\u001b[0m \u001b[0mstorage_options\u001b[0m\u001b[1;33m=\u001b[0m\u001b[0mstorage_options\u001b[0m\u001b[1;33m,\u001b[0m \u001b[0mengine\u001b[0m\u001b[1;33m=\u001b[0m\u001b[0mengine\u001b[0m\u001b[1;33m)\u001b[0m\u001b[1;33m\u001b[0m\u001b[1;33m\u001b[0m\u001b[0m\n\u001b[0m\u001b[0;32m    458\u001b[0m     \u001b[1;32melif\u001b[0m \u001b[0mengine\u001b[0m \u001b[1;32mand\u001b[0m \u001b[0mengine\u001b[0m \u001b[1;33m!=\u001b[0m \u001b[0mio\u001b[0m\u001b[1;33m.\u001b[0m\u001b[0mengine\u001b[0m\u001b[1;33m:\u001b[0m\u001b[1;33m\u001b[0m\u001b[1;33m\u001b[0m\u001b[0m\n\u001b[0;32m    459\u001b[0m         raise ValueError(\n",
      "\u001b[1;32mc:\\ProgramData\\Anaconda3\\lib\\site-packages\\pandas\\io\\excel\\_base.py\u001b[0m in \u001b[0;36m__init__\u001b[1;34m(self, path_or_buffer, engine, storage_options)\u001b[0m\n\u001b[0;32m   1374\u001b[0m                 \u001b[0mext\u001b[0m \u001b[1;33m=\u001b[0m \u001b[1;34m\"xls\"\u001b[0m\u001b[1;33m\u001b[0m\u001b[1;33m\u001b[0m\u001b[0m\n\u001b[0;32m   1375\u001b[0m             \u001b[1;32melse\u001b[0m\u001b[1;33m:\u001b[0m\u001b[1;33m\u001b[0m\u001b[1;33m\u001b[0m\u001b[0m\n\u001b[1;32m-> 1376\u001b[1;33m                 ext = inspect_excel_format(\n\u001b[0m\u001b[0;32m   1377\u001b[0m                     \u001b[0mcontent_or_path\u001b[0m\u001b[1;33m=\u001b[0m\u001b[0mpath_or_buffer\u001b[0m\u001b[1;33m,\u001b[0m \u001b[0mstorage_options\u001b[0m\u001b[1;33m=\u001b[0m\u001b[0mstorage_options\u001b[0m\u001b[1;33m\u001b[0m\u001b[1;33m\u001b[0m\u001b[0m\n\u001b[0;32m   1378\u001b[0m                 )\n",
      "\u001b[1;32mc:\\ProgramData\\Anaconda3\\lib\\site-packages\\pandas\\io\\excel\\_base.py\u001b[0m in \u001b[0;36minspect_excel_format\u001b[1;34m(content_or_path, storage_options)\u001b[0m\n\u001b[0;32m   1248\u001b[0m         \u001b[0mcontent_or_path\u001b[0m \u001b[1;33m=\u001b[0m \u001b[0mBytesIO\u001b[0m\u001b[1;33m(\u001b[0m\u001b[0mcontent_or_path\u001b[0m\u001b[1;33m)\u001b[0m\u001b[1;33m\u001b[0m\u001b[1;33m\u001b[0m\u001b[0m\n\u001b[0;32m   1249\u001b[0m \u001b[1;33m\u001b[0m\u001b[0m\n\u001b[1;32m-> 1250\u001b[1;33m     with get_handle(\n\u001b[0m\u001b[0;32m   1251\u001b[0m         \u001b[0mcontent_or_path\u001b[0m\u001b[1;33m,\u001b[0m \u001b[1;34m\"rb\"\u001b[0m\u001b[1;33m,\u001b[0m \u001b[0mstorage_options\u001b[0m\u001b[1;33m=\u001b[0m\u001b[0mstorage_options\u001b[0m\u001b[1;33m,\u001b[0m \u001b[0mis_text\u001b[0m\u001b[1;33m=\u001b[0m\u001b[1;32mFalse\u001b[0m\u001b[1;33m\u001b[0m\u001b[1;33m\u001b[0m\u001b[0m\n\u001b[0;32m   1252\u001b[0m     ) as handle:\n",
      "\u001b[1;32mc:\\ProgramData\\Anaconda3\\lib\\site-packages\\pandas\\io\\common.py\u001b[0m in \u001b[0;36mget_handle\u001b[1;34m(path_or_buf, mode, encoding, compression, memory_map, is_text, errors, storage_options)\u001b[0m\n\u001b[0;32m    796\u001b[0m         \u001b[1;32melse\u001b[0m\u001b[1;33m:\u001b[0m\u001b[1;33m\u001b[0m\u001b[1;33m\u001b[0m\u001b[0m\n\u001b[0;32m    797\u001b[0m             \u001b[1;31m# Binary mode\u001b[0m\u001b[1;33m\u001b[0m\u001b[1;33m\u001b[0m\u001b[1;33m\u001b[0m\u001b[0m\n\u001b[1;32m--> 798\u001b[1;33m             \u001b[0mhandle\u001b[0m \u001b[1;33m=\u001b[0m \u001b[0mopen\u001b[0m\u001b[1;33m(\u001b[0m\u001b[0mhandle\u001b[0m\u001b[1;33m,\u001b[0m \u001b[0mioargs\u001b[0m\u001b[1;33m.\u001b[0m\u001b[0mmode\u001b[0m\u001b[1;33m)\u001b[0m\u001b[1;33m\u001b[0m\u001b[1;33m\u001b[0m\u001b[0m\n\u001b[0m\u001b[0;32m    799\u001b[0m         \u001b[0mhandles\u001b[0m\u001b[1;33m.\u001b[0m\u001b[0mappend\u001b[0m\u001b[1;33m(\u001b[0m\u001b[0mhandle\u001b[0m\u001b[1;33m)\u001b[0m\u001b[1;33m\u001b[0m\u001b[1;33m\u001b[0m\u001b[0m\n\u001b[0;32m    800\u001b[0m \u001b[1;33m\u001b[0m\u001b[0m\n",
      "\u001b[1;31mFileNotFoundError\u001b[0m: [Errno 2] No such file or directory: '../5. Master_thesis/Datasets/Output_files/1.xlsx'"
     ]
    }
   ],
   "source": [
    "# Input path and filename\n",
    "path = '../5. Master_thesis/Datasets/Output_files/'\n",
    "\n",
    "# Load files into a pandas dataframes\n",
    "file = path + '1.xlsx'\n",
    "df = pd.read_excel(file, sheet_name=country)\n",
    "\n",
    "# Dependant variable\n",
    "dep_var = 'Orders' \n",
    "\n",
    "# Set index\n",
    "df = df.set_index(\"Date\").asfreq('MS')"
   ]
  },
  {
   "cell_type": "code",
   "execution_count": null,
   "metadata": {},
   "outputs": [
    {
     "data": {
      "text/html": [
       "<div>\n",
       "<style scoped>\n",
       "    .dataframe tbody tr th:only-of-type {\n",
       "        vertical-align: middle;\n",
       "    }\n",
       "\n",
       "    .dataframe tbody tr th {\n",
       "        vertical-align: top;\n",
       "    }\n",
       "\n",
       "    .dataframe thead th {\n",
       "        text-align: right;\n",
       "    }\n",
       "</style>\n",
       "<table border=\"1\" class=\"dataframe\">\n",
       "  <thead>\n",
       "    <tr style=\"text-align: right;\">\n",
       "      <th></th>\n",
       "      <th>Orders</th>\n",
       "      <th>CPI</th>\n",
       "      <th>UR</th>\n",
       "      <th>LTIR</th>\n",
       "      <th>TIV</th>\n",
       "      <th>Orders_rolled_detrended</th>\n",
       "      <th>TIV_rolled_detrended</th>\n",
       "      <th>Orders_lagged_12m</th>\n",
       "    </tr>\n",
       "    <tr>\n",
       "      <th>Date</th>\n",
       "      <th></th>\n",
       "      <th></th>\n",
       "      <th></th>\n",
       "      <th></th>\n",
       "      <th></th>\n",
       "      <th></th>\n",
       "      <th></th>\n",
       "      <th></th>\n",
       "    </tr>\n",
       "  </thead>\n",
       "  <tbody>\n",
       "    <tr>\n",
       "      <th>2007-01-01</th>\n",
       "      <td>284</td>\n",
       "      <td>1.209190</td>\n",
       "      <td>3.1</td>\n",
       "      <td>4.39</td>\n",
       "      <td>102.454424</td>\n",
       "      <td>-219.416667</td>\n",
       "      <td>18.228719</td>\n",
       "      <td>233</td>\n",
       "    </tr>\n",
       "    <tr>\n",
       "      <th>2007-02-01</th>\n",
       "      <td>483</td>\n",
       "      <td>0.719425</td>\n",
       "      <td>2.9</td>\n",
       "      <td>4.52</td>\n",
       "      <td>80.687125</td>\n",
       "      <td>-38.166667</td>\n",
       "      <td>-4.874719</td>\n",
       "      <td>270</td>\n",
       "    </tr>\n",
       "    <tr>\n",
       "      <th>2007-03-01</th>\n",
       "      <td>512</td>\n",
       "      <td>1.076555</td>\n",
       "      <td>2.8</td>\n",
       "      <td>4.45</td>\n",
       "      <td>95.082620</td>\n",
       "      <td>-18.000000</td>\n",
       "      <td>8.673815</td>\n",
       "      <td>406</td>\n",
       "    </tr>\n",
       "    <tr>\n",
       "      <th>2007-04-01</th>\n",
       "      <td>565</td>\n",
       "      <td>0.237248</td>\n",
       "      <td>2.9</td>\n",
       "      <td>4.71</td>\n",
       "      <td>75.786240</td>\n",
       "      <td>17.583333</td>\n",
       "      <td>-10.830750</td>\n",
       "      <td>356</td>\n",
       "    </tr>\n",
       "    <tr>\n",
       "      <th>2007-05-01</th>\n",
       "      <td>526</td>\n",
       "      <td>0.355872</td>\n",
       "      <td>2.7</td>\n",
       "      <td>4.88</td>\n",
       "      <td>101.887887</td>\n",
       "      <td>-19.166667</td>\n",
       "      <td>14.358522</td>\n",
       "      <td>553</td>\n",
       "    </tr>\n",
       "  </tbody>\n",
       "</table>\n",
       "</div>"
      ],
      "text/plain": [
       "            Orders       CPI   UR  LTIR         TIV  Orders_rolled_detrended  \\\n",
       "Date                                                                           \n",
       "2007-01-01     284  1.209190  3.1  4.39  102.454424              -219.416667   \n",
       "2007-02-01     483  0.719425  2.9  4.52   80.687125               -38.166667   \n",
       "2007-03-01     512  1.076555  2.8  4.45   95.082620               -18.000000   \n",
       "2007-04-01     565  0.237248  2.9  4.71   75.786240                17.583333   \n",
       "2007-05-01     526  0.355872  2.7  4.88  101.887887               -19.166667   \n",
       "\n",
       "            TIV_rolled_detrended  Orders_lagged_12m  \n",
       "Date                                                 \n",
       "2007-01-01             18.228719                233  \n",
       "2007-02-01             -4.874719                270  \n",
       "2007-03-01              8.673815                406  \n",
       "2007-04-01            -10.830750                356  \n",
       "2007-05-01             14.358522                553  "
      ]
     },
     "execution_count": 6,
     "metadata": {},
     "output_type": "execute_result"
    }
   ],
   "source": [
    "df.head()"
   ]
  },
  {
   "attachments": {},
   "cell_type": "markdown",
   "metadata": {},
   "source": [
    "### Split Data"
   ]
  },
  {
   "cell_type": "code",
   "execution_count": null,
   "metadata": {},
   "outputs": [
    {
     "name": "stdout",
     "output_type": "stream",
     "text": [
      "Dataset length : (n=192)\n",
      "Train dates    : 2007-01-01 00:00:00 --- 2019-12-01 00:00:00  (n=156)\n",
      "Test dates     : 2020-01-01 00:00:00 --- 2022-12-01 00:00:00  (n=36)\n"
     ]
    },
    {
     "data": {
      "text/plain": [
       "(Timestamp('2007-01-01 00:00:00', freq='MS'),\n",
       " Timestamp('2022-12-01 00:00:00', freq='MS'),\n",
       " Timestamp('2020-01-01 00:00:00', freq='MS'))"
      ]
     },
     "execution_count": 7,
     "metadata": {},
     "output_type": "execute_result"
    }
   ],
   "source": [
    "# Split data\n",
    "steps = 36  # Number of months of testing\n",
    "train = df[:-steps]\n",
    "test  = df[-steps:]\n",
    "\n",
    "print(f\"Dataset length : (n={len(df)})\")\n",
    "print(f\"Train dates    : {train.index.min()} --- {train.index.max()}  (n={len(train)})\")\n",
    "print(f\"Test dates     : {test.index.min()} --- {test.index.max()}  (n={len(test)})\")\n",
    "\n",
    "start = train.index.min()\n",
    "end = df.index.max()\n",
    "start_test = test.index.min()\n",
    "\n",
    "start, end, start_test"
   ]
  },
  {
   "attachments": {},
   "cell_type": "markdown",
   "metadata": {},
   "source": [
    "### Pycaret"
   ]
  },
  {
   "attachments": {},
   "cell_type": "markdown",
   "metadata": {},
   "source": [
    "#### Initialize"
   ]
  },
  {
   "cell_type": "code",
   "execution_count": null,
   "metadata": {},
   "outputs": [
    {
     "data": {
      "text/html": [
       "<style type=\"text/css\">\n",
       "#T_1108f_row42_col1 {\n",
       "  background-color: lightgreen;\n",
       "}\n",
       "</style>\n",
       "<table id=\"T_1108f\">\n",
       "  <thead>\n",
       "    <tr>\n",
       "      <th class=\"blank level0\" >&nbsp;</th>\n",
       "      <th id=\"T_1108f_level0_col0\" class=\"col_heading level0 col0\" >Description</th>\n",
       "      <th id=\"T_1108f_level0_col1\" class=\"col_heading level0 col1\" >Value</th>\n",
       "    </tr>\n",
       "  </thead>\n",
       "  <tbody>\n",
       "    <tr>\n",
       "      <th id=\"T_1108f_level0_row0\" class=\"row_heading level0 row0\" >0</th>\n",
       "      <td id=\"T_1108f_row0_col0\" class=\"data row0 col0\" >session_id</td>\n",
       "      <td id=\"T_1108f_row0_col1\" class=\"data row0 col1\" >42</td>\n",
       "    </tr>\n",
       "    <tr>\n",
       "      <th id=\"T_1108f_level0_row1\" class=\"row_heading level0 row1\" >1</th>\n",
       "      <td id=\"T_1108f_row1_col0\" class=\"data row1 col0\" >Target</td>\n",
       "      <td id=\"T_1108f_row1_col1\" class=\"data row1 col1\" >Orders</td>\n",
       "    </tr>\n",
       "    <tr>\n",
       "      <th id=\"T_1108f_level0_row2\" class=\"row_heading level0 row2\" >2</th>\n",
       "      <td id=\"T_1108f_row2_col0\" class=\"data row2 col0\" >Original Data</td>\n",
       "      <td id=\"T_1108f_row2_col1\" class=\"data row2 col1\" >(156, 8)</td>\n",
       "    </tr>\n",
       "    <tr>\n",
       "      <th id=\"T_1108f_level0_row3\" class=\"row_heading level0 row3\" >3</th>\n",
       "      <td id=\"T_1108f_row3_col0\" class=\"data row3 col0\" >Missing Values</td>\n",
       "      <td id=\"T_1108f_row3_col1\" class=\"data row3 col1\" >0</td>\n",
       "    </tr>\n",
       "    <tr>\n",
       "      <th id=\"T_1108f_level0_row4\" class=\"row_heading level0 row4\" >4</th>\n",
       "      <td id=\"T_1108f_row4_col0\" class=\"data row4 col0\" >Numeric Features</td>\n",
       "      <td id=\"T_1108f_row4_col1\" class=\"data row4 col1\" >7</td>\n",
       "    </tr>\n",
       "    <tr>\n",
       "      <th id=\"T_1108f_level0_row5\" class=\"row_heading level0 row5\" >5</th>\n",
       "      <td id=\"T_1108f_row5_col0\" class=\"data row5 col0\" >Categorical Features</td>\n",
       "      <td id=\"T_1108f_row5_col1\" class=\"data row5 col1\" >0</td>\n",
       "    </tr>\n",
       "    <tr>\n",
       "      <th id=\"T_1108f_level0_row6\" class=\"row_heading level0 row6\" >6</th>\n",
       "      <td id=\"T_1108f_row6_col0\" class=\"data row6 col0\" >Ordinal Features</td>\n",
       "      <td id=\"T_1108f_row6_col1\" class=\"data row6 col1\" >0</td>\n",
       "    </tr>\n",
       "    <tr>\n",
       "      <th id=\"T_1108f_level0_row7\" class=\"row_heading level0 row7\" >7</th>\n",
       "      <td id=\"T_1108f_row7_col0\" class=\"data row7 col0\" >High Cardinality Features</td>\n",
       "      <td id=\"T_1108f_row7_col1\" class=\"data row7 col1\" >0</td>\n",
       "    </tr>\n",
       "    <tr>\n",
       "      <th id=\"T_1108f_level0_row8\" class=\"row_heading level0 row8\" >8</th>\n",
       "      <td id=\"T_1108f_row8_col0\" class=\"data row8 col0\" >High Cardinality Method</td>\n",
       "      <td id=\"T_1108f_row8_col1\" class=\"data row8 col1\" >None</td>\n",
       "    </tr>\n",
       "    <tr>\n",
       "      <th id=\"T_1108f_level0_row9\" class=\"row_heading level0 row9\" >9</th>\n",
       "      <td id=\"T_1108f_row9_col0\" class=\"data row9 col0\" >Transformed Train Set</td>\n",
       "      <td id=\"T_1108f_row9_col1\" class=\"data row9 col1\" >(156, 7)</td>\n",
       "    </tr>\n",
       "    <tr>\n",
       "      <th id=\"T_1108f_level0_row10\" class=\"row_heading level0 row10\" >10</th>\n",
       "      <td id=\"T_1108f_row10_col0\" class=\"data row10 col0\" >Transformed Test Set</td>\n",
       "      <td id=\"T_1108f_row10_col1\" class=\"data row10 col1\" >(36, 7)</td>\n",
       "    </tr>\n",
       "    <tr>\n",
       "      <th id=\"T_1108f_level0_row11\" class=\"row_heading level0 row11\" >11</th>\n",
       "      <td id=\"T_1108f_row11_col0\" class=\"data row11 col0\" >Shuffle Train-Test</td>\n",
       "      <td id=\"T_1108f_row11_col1\" class=\"data row11 col1\" >False</td>\n",
       "    </tr>\n",
       "    <tr>\n",
       "      <th id=\"T_1108f_level0_row12\" class=\"row_heading level0 row12\" >12</th>\n",
       "      <td id=\"T_1108f_row12_col0\" class=\"data row12 col0\" >Stratify Train-Test</td>\n",
       "      <td id=\"T_1108f_row12_col1\" class=\"data row12 col1\" >False</td>\n",
       "    </tr>\n",
       "    <tr>\n",
       "      <th id=\"T_1108f_level0_row13\" class=\"row_heading level0 row13\" >13</th>\n",
       "      <td id=\"T_1108f_row13_col0\" class=\"data row13 col0\" >Fold Generator</td>\n",
       "      <td id=\"T_1108f_row13_col1\" class=\"data row13 col1\" >TimeSeriesSplit</td>\n",
       "    </tr>\n",
       "    <tr>\n",
       "      <th id=\"T_1108f_level0_row14\" class=\"row_heading level0 row14\" >14</th>\n",
       "      <td id=\"T_1108f_row14_col0\" class=\"data row14 col0\" >Fold Number</td>\n",
       "      <td id=\"T_1108f_row14_col1\" class=\"data row14 col1\" >10</td>\n",
       "    </tr>\n",
       "    <tr>\n",
       "      <th id=\"T_1108f_level0_row15\" class=\"row_heading level0 row15\" >15</th>\n",
       "      <td id=\"T_1108f_row15_col0\" class=\"data row15 col0\" >CPU Jobs</td>\n",
       "      <td id=\"T_1108f_row15_col1\" class=\"data row15 col1\" >-1</td>\n",
       "    </tr>\n",
       "    <tr>\n",
       "      <th id=\"T_1108f_level0_row16\" class=\"row_heading level0 row16\" >16</th>\n",
       "      <td id=\"T_1108f_row16_col0\" class=\"data row16 col0\" >Use GPU</td>\n",
       "      <td id=\"T_1108f_row16_col1\" class=\"data row16 col1\" >0</td>\n",
       "    </tr>\n",
       "    <tr>\n",
       "      <th id=\"T_1108f_level0_row17\" class=\"row_heading level0 row17\" >17</th>\n",
       "      <td id=\"T_1108f_row17_col0\" class=\"data row17 col0\" >Log Experiment</td>\n",
       "      <td id=\"T_1108f_row17_col1\" class=\"data row17 col1\" >0</td>\n",
       "    </tr>\n",
       "    <tr>\n",
       "      <th id=\"T_1108f_level0_row18\" class=\"row_heading level0 row18\" >18</th>\n",
       "      <td id=\"T_1108f_row18_col0\" class=\"data row18 col0\" >Experiment Name</td>\n",
       "      <td id=\"T_1108f_row18_col1\" class=\"data row18 col1\" >reg-default-name</td>\n",
       "    </tr>\n",
       "    <tr>\n",
       "      <th id=\"T_1108f_level0_row19\" class=\"row_heading level0 row19\" >19</th>\n",
       "      <td id=\"T_1108f_row19_col0\" class=\"data row19 col0\" >USI</td>\n",
       "      <td id=\"T_1108f_row19_col1\" class=\"data row19 col1\" >067c</td>\n",
       "    </tr>\n",
       "    <tr>\n",
       "      <th id=\"T_1108f_level0_row20\" class=\"row_heading level0 row20\" >20</th>\n",
       "      <td id=\"T_1108f_row20_col0\" class=\"data row20 col0\" >Imputation Type</td>\n",
       "      <td id=\"T_1108f_row20_col1\" class=\"data row20 col1\" >simple</td>\n",
       "    </tr>\n",
       "    <tr>\n",
       "      <th id=\"T_1108f_level0_row21\" class=\"row_heading level0 row21\" >21</th>\n",
       "      <td id=\"T_1108f_row21_col0\" class=\"data row21 col0\" >Iterative Imputation Iteration</td>\n",
       "      <td id=\"T_1108f_row21_col1\" class=\"data row21 col1\" >None</td>\n",
       "    </tr>\n",
       "    <tr>\n",
       "      <th id=\"T_1108f_level0_row22\" class=\"row_heading level0 row22\" >22</th>\n",
       "      <td id=\"T_1108f_row22_col0\" class=\"data row22 col0\" >Numeric Imputer</td>\n",
       "      <td id=\"T_1108f_row22_col1\" class=\"data row22 col1\" >mean</td>\n",
       "    </tr>\n",
       "    <tr>\n",
       "      <th id=\"T_1108f_level0_row23\" class=\"row_heading level0 row23\" >23</th>\n",
       "      <td id=\"T_1108f_row23_col0\" class=\"data row23 col0\" >Iterative Imputation Numeric Model</td>\n",
       "      <td id=\"T_1108f_row23_col1\" class=\"data row23 col1\" >None</td>\n",
       "    </tr>\n",
       "    <tr>\n",
       "      <th id=\"T_1108f_level0_row24\" class=\"row_heading level0 row24\" >24</th>\n",
       "      <td id=\"T_1108f_row24_col0\" class=\"data row24 col0\" >Categorical Imputer</td>\n",
       "      <td id=\"T_1108f_row24_col1\" class=\"data row24 col1\" >constant</td>\n",
       "    </tr>\n",
       "    <tr>\n",
       "      <th id=\"T_1108f_level0_row25\" class=\"row_heading level0 row25\" >25</th>\n",
       "      <td id=\"T_1108f_row25_col0\" class=\"data row25 col0\" >Iterative Imputation Categorical Model</td>\n",
       "      <td id=\"T_1108f_row25_col1\" class=\"data row25 col1\" >None</td>\n",
       "    </tr>\n",
       "    <tr>\n",
       "      <th id=\"T_1108f_level0_row26\" class=\"row_heading level0 row26\" >26</th>\n",
       "      <td id=\"T_1108f_row26_col0\" class=\"data row26 col0\" >Unknown Categoricals Handling</td>\n",
       "      <td id=\"T_1108f_row26_col1\" class=\"data row26 col1\" >least_frequent</td>\n",
       "    </tr>\n",
       "    <tr>\n",
       "      <th id=\"T_1108f_level0_row27\" class=\"row_heading level0 row27\" >27</th>\n",
       "      <td id=\"T_1108f_row27_col0\" class=\"data row27 col0\" >Normalize</td>\n",
       "      <td id=\"T_1108f_row27_col1\" class=\"data row27 col1\" >0</td>\n",
       "    </tr>\n",
       "    <tr>\n",
       "      <th id=\"T_1108f_level0_row28\" class=\"row_heading level0 row28\" >28</th>\n",
       "      <td id=\"T_1108f_row28_col0\" class=\"data row28 col0\" >Normalize Method</td>\n",
       "      <td id=\"T_1108f_row28_col1\" class=\"data row28 col1\" >None</td>\n",
       "    </tr>\n",
       "    <tr>\n",
       "      <th id=\"T_1108f_level0_row29\" class=\"row_heading level0 row29\" >29</th>\n",
       "      <td id=\"T_1108f_row29_col0\" class=\"data row29 col0\" >Transformation</td>\n",
       "      <td id=\"T_1108f_row29_col1\" class=\"data row29 col1\" >0</td>\n",
       "    </tr>\n",
       "    <tr>\n",
       "      <th id=\"T_1108f_level0_row30\" class=\"row_heading level0 row30\" >30</th>\n",
       "      <td id=\"T_1108f_row30_col0\" class=\"data row30 col0\" >Transformation Method</td>\n",
       "      <td id=\"T_1108f_row30_col1\" class=\"data row30 col1\" >None</td>\n",
       "    </tr>\n",
       "    <tr>\n",
       "      <th id=\"T_1108f_level0_row31\" class=\"row_heading level0 row31\" >31</th>\n",
       "      <td id=\"T_1108f_row31_col0\" class=\"data row31 col0\" >PCA</td>\n",
       "      <td id=\"T_1108f_row31_col1\" class=\"data row31 col1\" >0</td>\n",
       "    </tr>\n",
       "    <tr>\n",
       "      <th id=\"T_1108f_level0_row32\" class=\"row_heading level0 row32\" >32</th>\n",
       "      <td id=\"T_1108f_row32_col0\" class=\"data row32 col0\" >PCA Method</td>\n",
       "      <td id=\"T_1108f_row32_col1\" class=\"data row32 col1\" >None</td>\n",
       "    </tr>\n",
       "    <tr>\n",
       "      <th id=\"T_1108f_level0_row33\" class=\"row_heading level0 row33\" >33</th>\n",
       "      <td id=\"T_1108f_row33_col0\" class=\"data row33 col0\" >PCA Components</td>\n",
       "      <td id=\"T_1108f_row33_col1\" class=\"data row33 col1\" >None</td>\n",
       "    </tr>\n",
       "    <tr>\n",
       "      <th id=\"T_1108f_level0_row34\" class=\"row_heading level0 row34\" >34</th>\n",
       "      <td id=\"T_1108f_row34_col0\" class=\"data row34 col0\" >Ignore Low Variance</td>\n",
       "      <td id=\"T_1108f_row34_col1\" class=\"data row34 col1\" >0</td>\n",
       "    </tr>\n",
       "    <tr>\n",
       "      <th id=\"T_1108f_level0_row35\" class=\"row_heading level0 row35\" >35</th>\n",
       "      <td id=\"T_1108f_row35_col0\" class=\"data row35 col0\" >Combine Rare Levels</td>\n",
       "      <td id=\"T_1108f_row35_col1\" class=\"data row35 col1\" >0</td>\n",
       "    </tr>\n",
       "    <tr>\n",
       "      <th id=\"T_1108f_level0_row36\" class=\"row_heading level0 row36\" >36</th>\n",
       "      <td id=\"T_1108f_row36_col0\" class=\"data row36 col0\" >Rare Level Threshold</td>\n",
       "      <td id=\"T_1108f_row36_col1\" class=\"data row36 col1\" >None</td>\n",
       "    </tr>\n",
       "    <tr>\n",
       "      <th id=\"T_1108f_level0_row37\" class=\"row_heading level0 row37\" >37</th>\n",
       "      <td id=\"T_1108f_row37_col0\" class=\"data row37 col0\" >Numeric Binning</td>\n",
       "      <td id=\"T_1108f_row37_col1\" class=\"data row37 col1\" >0</td>\n",
       "    </tr>\n",
       "    <tr>\n",
       "      <th id=\"T_1108f_level0_row38\" class=\"row_heading level0 row38\" >38</th>\n",
       "      <td id=\"T_1108f_row38_col0\" class=\"data row38 col0\" >Remove Outliers</td>\n",
       "      <td id=\"T_1108f_row38_col1\" class=\"data row38 col1\" >0</td>\n",
       "    </tr>\n",
       "    <tr>\n",
       "      <th id=\"T_1108f_level0_row39\" class=\"row_heading level0 row39\" >39</th>\n",
       "      <td id=\"T_1108f_row39_col0\" class=\"data row39 col0\" >Outliers Threshold</td>\n",
       "      <td id=\"T_1108f_row39_col1\" class=\"data row39 col1\" >None</td>\n",
       "    </tr>\n",
       "    <tr>\n",
       "      <th id=\"T_1108f_level0_row40\" class=\"row_heading level0 row40\" >40</th>\n",
       "      <td id=\"T_1108f_row40_col0\" class=\"data row40 col0\" >Remove Multicollinearity</td>\n",
       "      <td id=\"T_1108f_row40_col1\" class=\"data row40 col1\" >0</td>\n",
       "    </tr>\n",
       "    <tr>\n",
       "      <th id=\"T_1108f_level0_row41\" class=\"row_heading level0 row41\" >41</th>\n",
       "      <td id=\"T_1108f_row41_col0\" class=\"data row41 col0\" >Multicollinearity Threshold</td>\n",
       "      <td id=\"T_1108f_row41_col1\" class=\"data row41 col1\" >None</td>\n",
       "    </tr>\n",
       "    <tr>\n",
       "      <th id=\"T_1108f_level0_row42\" class=\"row_heading level0 row42\" >42</th>\n",
       "      <td id=\"T_1108f_row42_col0\" class=\"data row42 col0\" >Remove Perfect Collinearity</td>\n",
       "      <td id=\"T_1108f_row42_col1\" class=\"data row42 col1\" >1</td>\n",
       "    </tr>\n",
       "    <tr>\n",
       "      <th id=\"T_1108f_level0_row43\" class=\"row_heading level0 row43\" >43</th>\n",
       "      <td id=\"T_1108f_row43_col0\" class=\"data row43 col0\" >Clustering</td>\n",
       "      <td id=\"T_1108f_row43_col1\" class=\"data row43 col1\" >0</td>\n",
       "    </tr>\n",
       "    <tr>\n",
       "      <th id=\"T_1108f_level0_row44\" class=\"row_heading level0 row44\" >44</th>\n",
       "      <td id=\"T_1108f_row44_col0\" class=\"data row44 col0\" >Clustering Iteration</td>\n",
       "      <td id=\"T_1108f_row44_col1\" class=\"data row44 col1\" >None</td>\n",
       "    </tr>\n",
       "    <tr>\n",
       "      <th id=\"T_1108f_level0_row45\" class=\"row_heading level0 row45\" >45</th>\n",
       "      <td id=\"T_1108f_row45_col0\" class=\"data row45 col0\" >Polynomial Features</td>\n",
       "      <td id=\"T_1108f_row45_col1\" class=\"data row45 col1\" >0</td>\n",
       "    </tr>\n",
       "    <tr>\n",
       "      <th id=\"T_1108f_level0_row46\" class=\"row_heading level0 row46\" >46</th>\n",
       "      <td id=\"T_1108f_row46_col0\" class=\"data row46 col0\" >Polynomial Degree</td>\n",
       "      <td id=\"T_1108f_row46_col1\" class=\"data row46 col1\" >None</td>\n",
       "    </tr>\n",
       "    <tr>\n",
       "      <th id=\"T_1108f_level0_row47\" class=\"row_heading level0 row47\" >47</th>\n",
       "      <td id=\"T_1108f_row47_col0\" class=\"data row47 col0\" >Trignometry Features</td>\n",
       "      <td id=\"T_1108f_row47_col1\" class=\"data row47 col1\" >0</td>\n",
       "    </tr>\n",
       "    <tr>\n",
       "      <th id=\"T_1108f_level0_row48\" class=\"row_heading level0 row48\" >48</th>\n",
       "      <td id=\"T_1108f_row48_col0\" class=\"data row48 col0\" >Polynomial Threshold</td>\n",
       "      <td id=\"T_1108f_row48_col1\" class=\"data row48 col1\" >None</td>\n",
       "    </tr>\n",
       "    <tr>\n",
       "      <th id=\"T_1108f_level0_row49\" class=\"row_heading level0 row49\" >49</th>\n",
       "      <td id=\"T_1108f_row49_col0\" class=\"data row49 col0\" >Group Features</td>\n",
       "      <td id=\"T_1108f_row49_col1\" class=\"data row49 col1\" >0</td>\n",
       "    </tr>\n",
       "    <tr>\n",
       "      <th id=\"T_1108f_level0_row50\" class=\"row_heading level0 row50\" >50</th>\n",
       "      <td id=\"T_1108f_row50_col0\" class=\"data row50 col0\" >Feature Selection</td>\n",
       "      <td id=\"T_1108f_row50_col1\" class=\"data row50 col1\" >0</td>\n",
       "    </tr>\n",
       "    <tr>\n",
       "      <th id=\"T_1108f_level0_row51\" class=\"row_heading level0 row51\" >51</th>\n",
       "      <td id=\"T_1108f_row51_col0\" class=\"data row51 col0\" >Feature Selection Method</td>\n",
       "      <td id=\"T_1108f_row51_col1\" class=\"data row51 col1\" >classic</td>\n",
       "    </tr>\n",
       "    <tr>\n",
       "      <th id=\"T_1108f_level0_row52\" class=\"row_heading level0 row52\" >52</th>\n",
       "      <td id=\"T_1108f_row52_col0\" class=\"data row52 col0\" >Features Selection Threshold</td>\n",
       "      <td id=\"T_1108f_row52_col1\" class=\"data row52 col1\" >None</td>\n",
       "    </tr>\n",
       "    <tr>\n",
       "      <th id=\"T_1108f_level0_row53\" class=\"row_heading level0 row53\" >53</th>\n",
       "      <td id=\"T_1108f_row53_col0\" class=\"data row53 col0\" >Feature Interaction</td>\n",
       "      <td id=\"T_1108f_row53_col1\" class=\"data row53 col1\" >0</td>\n",
       "    </tr>\n",
       "    <tr>\n",
       "      <th id=\"T_1108f_level0_row54\" class=\"row_heading level0 row54\" >54</th>\n",
       "      <td id=\"T_1108f_row54_col0\" class=\"data row54 col0\" >Feature Ratio</td>\n",
       "      <td id=\"T_1108f_row54_col1\" class=\"data row54 col1\" >0</td>\n",
       "    </tr>\n",
       "    <tr>\n",
       "      <th id=\"T_1108f_level0_row55\" class=\"row_heading level0 row55\" >55</th>\n",
       "      <td id=\"T_1108f_row55_col0\" class=\"data row55 col0\" >Interaction Threshold</td>\n",
       "      <td id=\"T_1108f_row55_col1\" class=\"data row55 col1\" >None</td>\n",
       "    </tr>\n",
       "    <tr>\n",
       "      <th id=\"T_1108f_level0_row56\" class=\"row_heading level0 row56\" >56</th>\n",
       "      <td id=\"T_1108f_row56_col0\" class=\"data row56 col0\" >Transform Target</td>\n",
       "      <td id=\"T_1108f_row56_col1\" class=\"data row56 col1\" >0</td>\n",
       "    </tr>\n",
       "    <tr>\n",
       "      <th id=\"T_1108f_level0_row57\" class=\"row_heading level0 row57\" >57</th>\n",
       "      <td id=\"T_1108f_row57_col0\" class=\"data row57 col0\" >Transform Target Method</td>\n",
       "      <td id=\"T_1108f_row57_col1\" class=\"data row57 col1\" >box-cox</td>\n",
       "    </tr>\n",
       "  </tbody>\n",
       "</table>\n"
      ],
      "text/plain": [
       "<pandas.io.formats.style.Styler at 0x13c2d7687c0>"
      ]
     },
     "metadata": {},
     "output_type": "display_data"
    }
   ],
   "source": [
    "# Initialize setup\n",
    "s = setup(    \n",
    "    data = train, \n",
    "    test_data = test, \n",
    "    target = dep_var, \n",
    "    preprocess=True,  \n",
    "    fold_strategy = 'timeseries', \n",
    "    transform_target = False, \n",
    "    data_split_shuffle=False,\n",
    "    session_id = 42)"
   ]
  },
  {
   "cell_type": "code",
   "execution_count": null,
   "metadata": {},
   "outputs": [],
   "source": [
    "# Review the transformed dataset\n",
    "prep_pipe = get_config('prep_pipe') \n",
    "transformed_df = prep_pipe.transform(df) "
   ]
  },
  {
   "cell_type": "code",
   "execution_count": null,
   "metadata": {},
   "outputs": [
    {
     "data": {
      "text/html": [
       "<div>\n",
       "<style scoped>\n",
       "    .dataframe tbody tr th:only-of-type {\n",
       "        vertical-align: middle;\n",
       "    }\n",
       "\n",
       "    .dataframe tbody tr th {\n",
       "        vertical-align: top;\n",
       "    }\n",
       "\n",
       "    .dataframe thead th {\n",
       "        text-align: right;\n",
       "    }\n",
       "</style>\n",
       "<table border=\"1\" class=\"dataframe\">\n",
       "  <thead>\n",
       "    <tr style=\"text-align: right;\">\n",
       "      <th></th>\n",
       "      <th>CPI</th>\n",
       "      <th>UR</th>\n",
       "      <th>LTIR</th>\n",
       "      <th>TIV</th>\n",
       "      <th>Orders_rolled_detrended</th>\n",
       "      <th>TIV_rolled_detrended</th>\n",
       "      <th>Orders_lagged_12m</th>\n",
       "    </tr>\n",
       "    <tr>\n",
       "      <th>Date</th>\n",
       "      <th></th>\n",
       "      <th></th>\n",
       "      <th></th>\n",
       "      <th></th>\n",
       "      <th></th>\n",
       "      <th></th>\n",
       "      <th></th>\n",
       "    </tr>\n",
       "  </thead>\n",
       "  <tbody>\n",
       "    <tr>\n",
       "      <th>2007-01-01</th>\n",
       "      <td>1.209190</td>\n",
       "      <td>3.1</td>\n",
       "      <td>4.39</td>\n",
       "      <td>102.454422</td>\n",
       "      <td>-219.416672</td>\n",
       "      <td>18.228720</td>\n",
       "      <td>233.0</td>\n",
       "    </tr>\n",
       "    <tr>\n",
       "      <th>2007-02-01</th>\n",
       "      <td>0.719424</td>\n",
       "      <td>2.9</td>\n",
       "      <td>4.52</td>\n",
       "      <td>80.687126</td>\n",
       "      <td>-38.166668</td>\n",
       "      <td>-4.874719</td>\n",
       "      <td>270.0</td>\n",
       "    </tr>\n",
       "    <tr>\n",
       "      <th>2007-03-01</th>\n",
       "      <td>1.076555</td>\n",
       "      <td>2.8</td>\n",
       "      <td>4.45</td>\n",
       "      <td>95.082619</td>\n",
       "      <td>-18.000000</td>\n",
       "      <td>8.673815</td>\n",
       "      <td>406.0</td>\n",
       "    </tr>\n",
       "    <tr>\n",
       "      <th>2007-04-01</th>\n",
       "      <td>0.237248</td>\n",
       "      <td>2.9</td>\n",
       "      <td>4.71</td>\n",
       "      <td>75.786240</td>\n",
       "      <td>17.583334</td>\n",
       "      <td>-10.830750</td>\n",
       "      <td>356.0</td>\n",
       "    </tr>\n",
       "    <tr>\n",
       "      <th>2007-05-01</th>\n",
       "      <td>0.355872</td>\n",
       "      <td>2.7</td>\n",
       "      <td>4.88</td>\n",
       "      <td>101.887886</td>\n",
       "      <td>-19.166666</td>\n",
       "      <td>14.358522</td>\n",
       "      <td>553.0</td>\n",
       "    </tr>\n",
       "    <tr>\n",
       "      <th>...</th>\n",
       "      <td>...</td>\n",
       "      <td>...</td>\n",
       "      <td>...</td>\n",
       "      <td>...</td>\n",
       "      <td>...</td>\n",
       "      <td>...</td>\n",
       "      <td>...</td>\n",
       "    </tr>\n",
       "    <tr>\n",
       "      <th>2022-08-01</th>\n",
       "      <td>6.534824</td>\n",
       "      <td>3.6</td>\n",
       "      <td>2.99</td>\n",
       "      <td>94.243050</td>\n",
       "      <td>-7.000000</td>\n",
       "      <td>-3.034612</td>\n",
       "      <td>568.0</td>\n",
       "    </tr>\n",
       "    <tr>\n",
       "      <th>2022-09-01</th>\n",
       "      <td>6.893617</td>\n",
       "      <td>3.4</td>\n",
       "      <td>3.34</td>\n",
       "      <td>109.443985</td>\n",
       "      <td>-44.083332</td>\n",
       "      <td>14.385825</td>\n",
       "      <td>474.0</td>\n",
       "    </tr>\n",
       "    <tr>\n",
       "      <th>2022-10-01</th>\n",
       "      <td>7.508533</td>\n",
       "      <td>3.2</td>\n",
       "      <td>3.54</td>\n",
       "      <td>94.714027</td>\n",
       "      <td>82.000000</td>\n",
       "      <td>-0.622280</td>\n",
       "      <td>510.0</td>\n",
       "    </tr>\n",
       "    <tr>\n",
       "      <th>2022-11-01</th>\n",
       "      <td>6.519898</td>\n",
       "      <td>3.1</td>\n",
       "      <td>3.24</td>\n",
       "      <td>142.344070</td>\n",
       "      <td>253.666672</td>\n",
       "      <td>44.355961</td>\n",
       "      <td>823.0</td>\n",
       "    </tr>\n",
       "    <tr>\n",
       "      <th>2022-12-01</th>\n",
       "      <td>5.887300</td>\n",
       "      <td>3.4</td>\n",
       "      <td>3.03</td>\n",
       "      <td>292.967773</td>\n",
       "      <td>360.916656</td>\n",
       "      <td>182.495941</td>\n",
       "      <td>541.0</td>\n",
       "    </tr>\n",
       "  </tbody>\n",
       "</table>\n",
       "<p>192 rows × 7 columns</p>\n",
       "</div>"
      ],
      "text/plain": [
       "                 CPI   UR  LTIR         TIV  Orders_rolled_detrended  \\\n",
       "Date                                                                   \n",
       "2007-01-01  1.209190  3.1  4.39  102.454422              -219.416672   \n",
       "2007-02-01  0.719424  2.9  4.52   80.687126               -38.166668   \n",
       "2007-03-01  1.076555  2.8  4.45   95.082619               -18.000000   \n",
       "2007-04-01  0.237248  2.9  4.71   75.786240                17.583334   \n",
       "2007-05-01  0.355872  2.7  4.88  101.887886               -19.166666   \n",
       "...              ...  ...   ...         ...                      ...   \n",
       "2022-08-01  6.534824  3.6  2.99   94.243050                -7.000000   \n",
       "2022-09-01  6.893617  3.4  3.34  109.443985               -44.083332   \n",
       "2022-10-01  7.508533  3.2  3.54   94.714027                82.000000   \n",
       "2022-11-01  6.519898  3.1  3.24  142.344070               253.666672   \n",
       "2022-12-01  5.887300  3.4  3.03  292.967773               360.916656   \n",
       "\n",
       "            TIV_rolled_detrended  Orders_lagged_12m  \n",
       "Date                                                 \n",
       "2007-01-01             18.228720              233.0  \n",
       "2007-02-01             -4.874719              270.0  \n",
       "2007-03-01              8.673815              406.0  \n",
       "2007-04-01            -10.830750              356.0  \n",
       "2007-05-01             14.358522              553.0  \n",
       "...                          ...                ...  \n",
       "2022-08-01             -3.034612              568.0  \n",
       "2022-09-01             14.385825              474.0  \n",
       "2022-10-01             -0.622280              510.0  \n",
       "2022-11-01             44.355961              823.0  \n",
       "2022-12-01            182.495941              541.0  \n",
       "\n",
       "[192 rows x 7 columns]"
      ]
     },
     "execution_count": 10,
     "metadata": {},
     "output_type": "execute_result"
    }
   ],
   "source": [
    "transformed_df"
   ]
  },
  {
   "cell_type": "code",
   "execution_count": null,
   "metadata": {},
   "outputs": [
    {
     "data": {
      "text/plain": [
       "Index(['CPI', 'UR', 'LTIR', 'TIV', 'Orders_rolled_detrended',\n",
       "       'TIV_rolled_detrended', 'Orders_lagged_12m'],\n",
       "      dtype='object')"
      ]
     },
     "execution_count": 11,
     "metadata": {},
     "output_type": "execute_result"
    }
   ],
   "source": [
    "transformed_df.columns"
   ]
  },
  {
   "cell_type": "code",
   "execution_count": null,
   "metadata": {},
   "outputs": [
    {
     "data": {
      "text/plain": [
       "Index(['Orders', 'CPI', 'UR', 'LTIR', 'TIV', 'Orders_rolled_detrended',\n",
       "       'TIV_rolled_detrended', 'Orders_lagged_12m'],\n",
       "      dtype='object')"
      ]
     },
     "execution_count": 12,
     "metadata": {},
     "output_type": "execute_result"
    }
   ],
   "source": [
    "df.columns"
   ]
  },
  {
   "attachments": {},
   "cell_type": "markdown",
   "metadata": {},
   "source": [
    "#### Model comparison"
   ]
  },
  {
   "cell_type": "code",
   "execution_count": null,
   "metadata": {},
   "outputs": [
    {
     "data": {
      "text/html": [
       "<style type=\"text/css\">\n",
       "#T_97f1c th {\n",
       "  text-align: left;\n",
       "}\n",
       "#T_97f1c_row0_col0, #T_97f1c_row0_col2, #T_97f1c_row0_col3, #T_97f1c_row1_col0, #T_97f1c_row1_col1, #T_97f1c_row1_col4, #T_97f1c_row1_col5, #T_97f1c_row1_col6, #T_97f1c_row2_col0, #T_97f1c_row2_col1, #T_97f1c_row2_col2, #T_97f1c_row2_col3, #T_97f1c_row2_col4, #T_97f1c_row2_col5, #T_97f1c_row2_col6, #T_97f1c_row3_col0, #T_97f1c_row3_col1, #T_97f1c_row3_col2, #T_97f1c_row3_col3, #T_97f1c_row3_col4, #T_97f1c_row3_col5, #T_97f1c_row3_col6, #T_97f1c_row4_col0, #T_97f1c_row4_col1, #T_97f1c_row4_col2, #T_97f1c_row4_col3, #T_97f1c_row4_col4, #T_97f1c_row4_col5, #T_97f1c_row4_col6, #T_97f1c_row5_col0, #T_97f1c_row5_col1, #T_97f1c_row5_col2, #T_97f1c_row5_col3, #T_97f1c_row5_col4, #T_97f1c_row5_col5, #T_97f1c_row5_col6, #T_97f1c_row6_col0, #T_97f1c_row6_col1, #T_97f1c_row6_col2, #T_97f1c_row6_col3, #T_97f1c_row6_col4, #T_97f1c_row6_col5, #T_97f1c_row6_col6 {\n",
       "  text-align: left;\n",
       "}\n",
       "#T_97f1c_row0_col1, #T_97f1c_row0_col4, #T_97f1c_row0_col5, #T_97f1c_row0_col6, #T_97f1c_row1_col2, #T_97f1c_row1_col3 {\n",
       "  text-align: left;\n",
       "  background-color: yellow;\n",
       "}\n",
       "#T_97f1c_row0_col7, #T_97f1c_row1_col7, #T_97f1c_row2_col7, #T_97f1c_row4_col7, #T_97f1c_row5_col7, #T_97f1c_row6_col7 {\n",
       "  text-align: left;\n",
       "  background-color: lightgrey;\n",
       "}\n",
       "#T_97f1c_row3_col7 {\n",
       "  text-align: left;\n",
       "  background-color: yellow;\n",
       "  background-color: lightgrey;\n",
       "}\n",
       "</style>\n",
       "<table id=\"T_97f1c\">\n",
       "  <thead>\n",
       "    <tr>\n",
       "      <th class=\"blank level0\" >&nbsp;</th>\n",
       "      <th id=\"T_97f1c_level0_col0\" class=\"col_heading level0 col0\" >Model</th>\n",
       "      <th id=\"T_97f1c_level0_col1\" class=\"col_heading level0 col1\" >MAE</th>\n",
       "      <th id=\"T_97f1c_level0_col2\" class=\"col_heading level0 col2\" >MSE</th>\n",
       "      <th id=\"T_97f1c_level0_col3\" class=\"col_heading level0 col3\" >RMSE</th>\n",
       "      <th id=\"T_97f1c_level0_col4\" class=\"col_heading level0 col4\" >R2</th>\n",
       "      <th id=\"T_97f1c_level0_col5\" class=\"col_heading level0 col5\" >RMSLE</th>\n",
       "      <th id=\"T_97f1c_level0_col6\" class=\"col_heading level0 col6\" >MAPE</th>\n",
       "      <th id=\"T_97f1c_level0_col7\" class=\"col_heading level0 col7\" >TT (Sec)</th>\n",
       "    </tr>\n",
       "  </thead>\n",
       "  <tbody>\n",
       "    <tr>\n",
       "      <th id=\"T_97f1c_level0_row0\" class=\"row_heading level0 row0\" >et</th>\n",
       "      <td id=\"T_97f1c_row0_col0\" class=\"data row0 col0\" >Extra Trees Regressor</td>\n",
       "      <td id=\"T_97f1c_row0_col1\" class=\"data row0 col1\" >132.2331</td>\n",
       "      <td id=\"T_97f1c_row0_col2\" class=\"data row0 col2\" >45693.1755</td>\n",
       "      <td id=\"T_97f1c_row0_col3\" class=\"data row0 col3\" >166.3402</td>\n",
       "      <td id=\"T_97f1c_row0_col4\" class=\"data row0 col4\" >-0.0288</td>\n",
       "      <td id=\"T_97f1c_row0_col5\" class=\"data row0 col5\" >0.2375</td>\n",
       "      <td id=\"T_97f1c_row0_col6\" class=\"data row0 col6\" >0.1892</td>\n",
       "      <td id=\"T_97f1c_row0_col7\" class=\"data row0 col7\" >0.0500</td>\n",
       "    </tr>\n",
       "    <tr>\n",
       "      <th id=\"T_97f1c_level0_row1\" class=\"row_heading level0 row1\" >xgboost</th>\n",
       "      <td id=\"T_97f1c_row1_col0\" class=\"data row1 col0\" >Extreme Gradient Boosting</td>\n",
       "      <td id=\"T_97f1c_row1_col1\" class=\"data row1 col1\" >132.7814</td>\n",
       "      <td id=\"T_97f1c_row1_col2\" class=\"data row1 col2\" >38753.7944</td>\n",
       "      <td id=\"T_97f1c_row1_col3\" class=\"data row1 col3\" >160.5051</td>\n",
       "      <td id=\"T_97f1c_row1_col4\" class=\"data row1 col4\" >-0.2003</td>\n",
       "      <td id=\"T_97f1c_row1_col5\" class=\"data row1 col5\" >0.2381</td>\n",
       "      <td id=\"T_97f1c_row1_col6\" class=\"data row1 col6\" >0.1913</td>\n",
       "      <td id=\"T_97f1c_row1_col7\" class=\"data row1 col7\" >0.0260</td>\n",
       "    </tr>\n",
       "    <tr>\n",
       "      <th id=\"T_97f1c_level0_row2\" class=\"row_heading level0 row2\" >rf</th>\n",
       "      <td id=\"T_97f1c_row2_col0\" class=\"data row2 col0\" >Random Forest Regressor</td>\n",
       "      <td id=\"T_97f1c_row2_col1\" class=\"data row2 col1\" >143.8430</td>\n",
       "      <td id=\"T_97f1c_row2_col2\" class=\"data row2 col2\" >52324.7480</td>\n",
       "      <td id=\"T_97f1c_row2_col3\" class=\"data row2 col3\" >178.4367</td>\n",
       "      <td id=\"T_97f1c_row2_col4\" class=\"data row2 col4\" >-0.1689</td>\n",
       "      <td id=\"T_97f1c_row2_col5\" class=\"data row2 col5\" >0.2524</td>\n",
       "      <td id=\"T_97f1c_row2_col6\" class=\"data row2 col6\" >0.2095</td>\n",
       "      <td id=\"T_97f1c_row2_col7\" class=\"data row2 col7\" >0.5540</td>\n",
       "    </tr>\n",
       "    <tr>\n",
       "      <th id=\"T_97f1c_level0_row3\" class=\"row_heading level0 row3\" >gbr</th>\n",
       "      <td id=\"T_97f1c_row3_col0\" class=\"data row3 col0\" >Gradient Boosting Regressor</td>\n",
       "      <td id=\"T_97f1c_row3_col1\" class=\"data row3 col1\" >144.1242</td>\n",
       "      <td id=\"T_97f1c_row3_col2\" class=\"data row3 col2\" >51824.3472</td>\n",
       "      <td id=\"T_97f1c_row3_col3\" class=\"data row3 col3\" >179.7565</td>\n",
       "      <td id=\"T_97f1c_row3_col4\" class=\"data row3 col4\" >-0.3369</td>\n",
       "      <td id=\"T_97f1c_row3_col5\" class=\"data row3 col5\" >0.2558</td>\n",
       "      <td id=\"T_97f1c_row3_col6\" class=\"data row3 col6\" >0.2093</td>\n",
       "      <td id=\"T_97f1c_row3_col7\" class=\"data row3 col7\" >0.0130</td>\n",
       "    </tr>\n",
       "    <tr>\n",
       "      <th id=\"T_97f1c_level0_row4\" class=\"row_heading level0 row4\" >ada</th>\n",
       "      <td id=\"T_97f1c_row4_col0\" class=\"data row4 col0\" >AdaBoost Regressor</td>\n",
       "      <td id=\"T_97f1c_row4_col1\" class=\"data row4 col1\" >149.8222</td>\n",
       "      <td id=\"T_97f1c_row4_col2\" class=\"data row4 col2\" >57787.3677</td>\n",
       "      <td id=\"T_97f1c_row4_col3\" class=\"data row4 col3\" >184.1680</td>\n",
       "      <td id=\"T_97f1c_row4_col4\" class=\"data row4 col4\" >-0.2040</td>\n",
       "      <td id=\"T_97f1c_row4_col5\" class=\"data row4 col5\" >0.2590</td>\n",
       "      <td id=\"T_97f1c_row4_col6\" class=\"data row4 col6\" >0.2144</td>\n",
       "      <td id=\"T_97f1c_row4_col7\" class=\"data row4 col7\" >0.0270</td>\n",
       "    </tr>\n",
       "    <tr>\n",
       "      <th id=\"T_97f1c_level0_row5\" class=\"row_heading level0 row5\" >dt</th>\n",
       "      <td id=\"T_97f1c_row5_col0\" class=\"data row5 col0\" >Decision Tree Regressor</td>\n",
       "      <td id=\"T_97f1c_row5_col1\" class=\"data row5 col1\" >152.6857</td>\n",
       "      <td id=\"T_97f1c_row5_col2\" class=\"data row5 col2\" >44408.7143</td>\n",
       "      <td id=\"T_97f1c_row5_col3\" class=\"data row5 col3\" >183.7441</td>\n",
       "      <td id=\"T_97f1c_row5_col4\" class=\"data row5 col4\" >-1.4541</td>\n",
       "      <td id=\"T_97f1c_row5_col5\" class=\"data row5 col5\" >0.2872</td>\n",
       "      <td id=\"T_97f1c_row5_col6\" class=\"data row5 col6\" >0.2541</td>\n",
       "      <td id=\"T_97f1c_row5_col7\" class=\"data row5 col7\" >1.1370</td>\n",
       "    </tr>\n",
       "    <tr>\n",
       "      <th id=\"T_97f1c_level0_row6\" class=\"row_heading level0 row6\" >lightgbm</th>\n",
       "      <td id=\"T_97f1c_row6_col0\" class=\"data row6 col0\" >Light Gradient Boosting Machine</td>\n",
       "      <td id=\"T_97f1c_row6_col1\" class=\"data row6 col1\" >169.2065</td>\n",
       "      <td id=\"T_97f1c_row6_col2\" class=\"data row6 col2\" >72036.7752</td>\n",
       "      <td id=\"T_97f1c_row6_col3\" class=\"data row6 col3\" >215.1909</td>\n",
       "      <td id=\"T_97f1c_row6_col4\" class=\"data row6 col4\" >-0.8981</td>\n",
       "      <td id=\"T_97f1c_row6_col5\" class=\"data row6 col5\" >0.3055</td>\n",
       "      <td id=\"T_97f1c_row6_col6\" class=\"data row6 col6\" >0.2642</td>\n",
       "      <td id=\"T_97f1c_row6_col7\" class=\"data row6 col7\" >0.2360</td>\n",
       "    </tr>\n",
       "  </tbody>\n",
       "</table>\n"
      ],
      "text/plain": [
       "<pandas.io.formats.style.Styler at 0x13c734eb130>"
      ]
     },
     "metadata": {},
     "output_type": "display_data"
    }
   ],
   "source": [
    "# Train and evaluate models\n",
    "exclude_list = ['dummy', 'br', 'knn', 'en', 'omp', 'huber', 'ridge', 'llar', 'lasso', 'lr', 'lar','par']\n",
    "#exclude_list = []\n",
    "best = compare_models(exclude = exclude_list, sort = 'MAE')"
   ]
  },
  {
   "attachments": {},
   "cell_type": "markdown",
   "metadata": {},
   "source": [
    "#### Create best model"
   ]
  },
  {
   "cell_type": "code",
   "execution_count": 14,
   "metadata": {},
   "outputs": [
    {
     "data": {
      "text/html": [
       "<style type=\"text/css\">\n",
       "#T_6ddd8_row10_col0, #T_6ddd8_row10_col1, #T_6ddd8_row10_col2, #T_6ddd8_row10_col3, #T_6ddd8_row10_col4, #T_6ddd8_row10_col5 {\n",
       "  background: yellow;\n",
       "}\n",
       "</style>\n",
       "<table id=\"T_6ddd8\">\n",
       "  <thead>\n",
       "    <tr>\n",
       "      <th class=\"blank level0\" >&nbsp;</th>\n",
       "      <th id=\"T_6ddd8_level0_col0\" class=\"col_heading level0 col0\" >MAE</th>\n",
       "      <th id=\"T_6ddd8_level0_col1\" class=\"col_heading level0 col1\" >MSE</th>\n",
       "      <th id=\"T_6ddd8_level0_col2\" class=\"col_heading level0 col2\" >RMSE</th>\n",
       "      <th id=\"T_6ddd8_level0_col3\" class=\"col_heading level0 col3\" >R2</th>\n",
       "      <th id=\"T_6ddd8_level0_col4\" class=\"col_heading level0 col4\" >RMSLE</th>\n",
       "      <th id=\"T_6ddd8_level0_col5\" class=\"col_heading level0 col5\" >MAPE</th>\n",
       "    </tr>\n",
       "    <tr>\n",
       "      <th class=\"index_name level0\" >Fold</th>\n",
       "      <th class=\"blank col0\" >&nbsp;</th>\n",
       "      <th class=\"blank col1\" >&nbsp;</th>\n",
       "      <th class=\"blank col2\" >&nbsp;</th>\n",
       "      <th class=\"blank col3\" >&nbsp;</th>\n",
       "      <th class=\"blank col4\" >&nbsp;</th>\n",
       "      <th class=\"blank col5\" >&nbsp;</th>\n",
       "    </tr>\n",
       "  </thead>\n",
       "  <tbody>\n",
       "    <tr>\n",
       "      <th id=\"T_6ddd8_level0_row0\" class=\"row_heading level0 row0\" >0</th>\n",
       "      <td id=\"T_6ddd8_row0_col0\" class=\"data row0 col0\" >104.5993</td>\n",
       "      <td id=\"T_6ddd8_row0_col1\" class=\"data row0 col1\" >15835.8743</td>\n",
       "      <td id=\"T_6ddd8_row0_col2\" class=\"data row0 col2\" >125.8407</td>\n",
       "      <td id=\"T_6ddd8_row0_col3\" class=\"data row0 col3\" >-0.0807</td>\n",
       "      <td id=\"T_6ddd8_row0_col4\" class=\"data row0 col4\" >0.3679</td>\n",
       "      <td id=\"T_6ddd8_row0_col5\" class=\"data row0 col5\" >0.3741</td>\n",
       "    </tr>\n",
       "    <tr>\n",
       "      <th id=\"T_6ddd8_level0_row1\" class=\"row_heading level0 row1\" >1</th>\n",
       "      <td id=\"T_6ddd8_row1_col0\" class=\"data row1 col0\" >56.1207</td>\n",
       "      <td id=\"T_6ddd8_row1_col1\" class=\"data row1 col1\" >4688.6089</td>\n",
       "      <td id=\"T_6ddd8_row1_col2\" class=\"data row1 col2\" >68.4734</td>\n",
       "      <td id=\"T_6ddd8_row1_col3\" class=\"data row1 col3\" >-0.4000</td>\n",
       "      <td id=\"T_6ddd8_row1_col4\" class=\"data row1 col4\" >0.1431</td>\n",
       "      <td id=\"T_6ddd8_row1_col5\" class=\"data row1 col5\" >0.1251</td>\n",
       "    </tr>\n",
       "    <tr>\n",
       "      <th id=\"T_6ddd8_level0_row2\" class=\"row_heading level0 row2\" >2</th>\n",
       "      <td id=\"T_6ddd8_row2_col0\" class=\"data row2 col0\" >80.2186</td>\n",
       "      <td id=\"T_6ddd8_row2_col1\" class=\"data row2 col1\" >7794.0800</td>\n",
       "      <td id=\"T_6ddd8_row2_col2\" class=\"data row2 col2\" >88.2841</td>\n",
       "      <td id=\"T_6ddd8_row2_col3\" class=\"data row2 col3\" >-1.3405</td>\n",
       "      <td id=\"T_6ddd8_row2_col4\" class=\"data row2 col4\" >0.1661</td>\n",
       "      <td id=\"T_6ddd8_row2_col5\" class=\"data row2 col5\" >0.1398</td>\n",
       "    </tr>\n",
       "    <tr>\n",
       "      <th id=\"T_6ddd8_level0_row3\" class=\"row_heading level0 row3\" >3</th>\n",
       "      <td id=\"T_6ddd8_row3_col0\" class=\"data row3 col0\" >94.4386</td>\n",
       "      <td id=\"T_6ddd8_row3_col1\" class=\"data row3 col1\" >10716.0385</td>\n",
       "      <td id=\"T_6ddd8_row3_col2\" class=\"data row3 col2\" >103.5183</td>\n",
       "      <td id=\"T_6ddd8_row3_col3\" class=\"data row3 col3\" >-0.1403</td>\n",
       "      <td id=\"T_6ddd8_row3_col4\" class=\"data row3 col4\" >0.1674</td>\n",
       "      <td id=\"T_6ddd8_row3_col5\" class=\"data row3 col5\" >0.1429</td>\n",
       "    </tr>\n",
       "    <tr>\n",
       "      <th id=\"T_6ddd8_level0_row4\" class=\"row_heading level0 row4\" >4</th>\n",
       "      <td id=\"T_6ddd8_row4_col0\" class=\"data row4 col0\" >138.6571</td>\n",
       "      <td id=\"T_6ddd8_row4_col1\" class=\"data row4 col1\" >25018.1278</td>\n",
       "      <td id=\"T_6ddd8_row4_col2\" class=\"data row4 col2\" >158.1712</td>\n",
       "      <td id=\"T_6ddd8_row4_col3\" class=\"data row4 col3\" >0.0103</td>\n",
       "      <td id=\"T_6ddd8_row4_col4\" class=\"data row4 col4\" >0.2194</td>\n",
       "      <td id=\"T_6ddd8_row4_col5\" class=\"data row4 col5\" >0.1758</td>\n",
       "    </tr>\n",
       "    <tr>\n",
       "      <th id=\"T_6ddd8_level0_row5\" class=\"row_heading level0 row5\" >5</th>\n",
       "      <td id=\"T_6ddd8_row5_col0\" class=\"data row5 col0\" >124.5750</td>\n",
       "      <td id=\"T_6ddd8_row5_col1\" class=\"data row5 col1\" >17095.7000</td>\n",
       "      <td id=\"T_6ddd8_row5_col2\" class=\"data row5 col2\" >130.7505</td>\n",
       "      <td id=\"T_6ddd8_row5_col3\" class=\"data row5 col3\" >0.5359</td>\n",
       "      <td id=\"T_6ddd8_row5_col4\" class=\"data row5 col4\" >0.1712</td>\n",
       "      <td id=\"T_6ddd8_row5_col5\" class=\"data row5 col5\" >0.1514</td>\n",
       "    </tr>\n",
       "    <tr>\n",
       "      <th id=\"T_6ddd8_level0_row6\" class=\"row_heading level0 row6\" >6</th>\n",
       "      <td id=\"T_6ddd8_row6_col0\" class=\"data row6 col0\" >64.2493</td>\n",
       "      <td id=\"T_6ddd8_row6_col1\" class=\"data row6 col1\" >9696.3910</td>\n",
       "      <td id=\"T_6ddd8_row6_col2\" class=\"data row6 col2\" >98.4703</td>\n",
       "      <td id=\"T_6ddd8_row6_col3\" class=\"data row6 col3\" >0.8610</td>\n",
       "      <td id=\"T_6ddd8_row6_col4\" class=\"data row6 col4\" >0.1331</td>\n",
       "      <td id=\"T_6ddd8_row6_col5\" class=\"data row6 col5\" >0.0951</td>\n",
       "    </tr>\n",
       "    <tr>\n",
       "      <th id=\"T_6ddd8_level0_row7\" class=\"row_heading level0 row7\" >7</th>\n",
       "      <td id=\"T_6ddd8_row7_col0\" class=\"data row7 col0\" >44.7193</td>\n",
       "      <td id=\"T_6ddd8_row7_col1\" class=\"data row7 col1\" >3876.7564</td>\n",
       "      <td id=\"T_6ddd8_row7_col2\" class=\"data row7 col2\" >62.2636</td>\n",
       "      <td id=\"T_6ddd8_row7_col3\" class=\"data row7 col3\" >0.8254</td>\n",
       "      <td id=\"T_6ddd8_row7_col4\" class=\"data row7 col4\" >0.0981</td>\n",
       "      <td id=\"T_6ddd8_row7_col5\" class=\"data row7 col5\" >0.0713</td>\n",
       "    </tr>\n",
       "    <tr>\n",
       "      <th id=\"T_6ddd8_level0_row8\" class=\"row_heading level0 row8\" >8</th>\n",
       "      <td id=\"T_6ddd8_row8_col0\" class=\"data row8 col0\" >370.7800</td>\n",
       "      <td id=\"T_6ddd8_row8_col1\" class=\"data row8 col1\" >263295.7898</td>\n",
       "      <td id=\"T_6ddd8_row8_col2\" class=\"data row8 col2\" >513.1236</td>\n",
       "      <td id=\"T_6ddd8_row8_col3\" class=\"data row8 col3\" >0.4657</td>\n",
       "      <td id=\"T_6ddd8_row8_col4\" class=\"data row8 col4\" >0.4128</td>\n",
       "      <td id=\"T_6ddd8_row8_col5\" class=\"data row8 col5\" >0.3370</td>\n",
       "    </tr>\n",
       "    <tr>\n",
       "      <th id=\"T_6ddd8_level0_row9\" class=\"row_heading level0 row9\" >9</th>\n",
       "      <td id=\"T_6ddd8_row9_col0\" class=\"data row9 col0\" >243.9729</td>\n",
       "      <td id=\"T_6ddd8_row9_col1\" class=\"data row9 col1\" >98914.3882</td>\n",
       "      <td id=\"T_6ddd8_row9_col2\" class=\"data row9 col2\" >314.5066</td>\n",
       "      <td id=\"T_6ddd8_row9_col3\" class=\"data row9 col3\" >-1.0252</td>\n",
       "      <td id=\"T_6ddd8_row9_col4\" class=\"data row9 col4\" >0.4964</td>\n",
       "      <td id=\"T_6ddd8_row9_col5\" class=\"data row9 col5\" >0.2797</td>\n",
       "    </tr>\n",
       "    <tr>\n",
       "      <th id=\"T_6ddd8_level0_row10\" class=\"row_heading level0 row10\" >Mean</th>\n",
       "      <td id=\"T_6ddd8_row10_col0\" class=\"data row10 col0\" >132.2331</td>\n",
       "      <td id=\"T_6ddd8_row10_col1\" class=\"data row10 col1\" >45693.1755</td>\n",
       "      <td id=\"T_6ddd8_row10_col2\" class=\"data row10 col2\" >166.3402</td>\n",
       "      <td id=\"T_6ddd8_row10_col3\" class=\"data row10 col3\" >-0.0288</td>\n",
       "      <td id=\"T_6ddd8_row10_col4\" class=\"data row10 col4\" >0.2375</td>\n",
       "      <td id=\"T_6ddd8_row10_col5\" class=\"data row10 col5\" >0.1892</td>\n",
       "    </tr>\n",
       "    <tr>\n",
       "      <th id=\"T_6ddd8_level0_row11\" class=\"row_heading level0 row11\" >Std</th>\n",
       "      <td id=\"T_6ddd8_row11_col0\" class=\"data row11 col0\" >96.1569</td>\n",
       "      <td id=\"T_6ddd8_row11_col1\" class=\"data row11 col1\" >77269.4146</td>\n",
       "      <td id=\"T_6ddd8_row11_col2\" class=\"data row11 col2\" >134.2539</td>\n",
       "      <td id=\"T_6ddd8_row11_col3\" class=\"data row11 col3\" >0.7037</td>\n",
       "      <td id=\"T_6ddd8_row11_col4\" class=\"data row11 col4\" >0.1299</td>\n",
       "      <td id=\"T_6ddd8_row11_col5\" class=\"data row11 col5\" >0.0986</td>\n",
       "    </tr>\n",
       "  </tbody>\n",
       "</table>\n"
      ],
      "text/plain": [
       "<pandas.io.formats.style.Styler at 0x13c2d87bf70>"
      ]
     },
     "metadata": {},
     "output_type": "display_data"
    }
   ],
   "source": [
    "# Create model\n",
    "model = create_model(best)"
   ]
  },
  {
   "attachments": {},
   "cell_type": "markdown",
   "metadata": {},
   "source": [
    "#### Tune model"
   ]
  },
  {
   "cell_type": "code",
   "execution_count": 15,
   "metadata": {},
   "outputs": [
    {
     "data": {
      "text/html": [
       "<style type=\"text/css\">\n",
       "#T_fc03d_row10_col0, #T_fc03d_row10_col1, #T_fc03d_row10_col2, #T_fc03d_row10_col3, #T_fc03d_row10_col4, #T_fc03d_row10_col5 {\n",
       "  background: yellow;\n",
       "}\n",
       "</style>\n",
       "<table id=\"T_fc03d\">\n",
       "  <thead>\n",
       "    <tr>\n",
       "      <th class=\"blank level0\" >&nbsp;</th>\n",
       "      <th id=\"T_fc03d_level0_col0\" class=\"col_heading level0 col0\" >MAE</th>\n",
       "      <th id=\"T_fc03d_level0_col1\" class=\"col_heading level0 col1\" >MSE</th>\n",
       "      <th id=\"T_fc03d_level0_col2\" class=\"col_heading level0 col2\" >RMSE</th>\n",
       "      <th id=\"T_fc03d_level0_col3\" class=\"col_heading level0 col3\" >R2</th>\n",
       "      <th id=\"T_fc03d_level0_col4\" class=\"col_heading level0 col4\" >RMSLE</th>\n",
       "      <th id=\"T_fc03d_level0_col5\" class=\"col_heading level0 col5\" >MAPE</th>\n",
       "    </tr>\n",
       "    <tr>\n",
       "      <th class=\"index_name level0\" >Fold</th>\n",
       "      <th class=\"blank col0\" >&nbsp;</th>\n",
       "      <th class=\"blank col1\" >&nbsp;</th>\n",
       "      <th class=\"blank col2\" >&nbsp;</th>\n",
       "      <th class=\"blank col3\" >&nbsp;</th>\n",
       "      <th class=\"blank col4\" >&nbsp;</th>\n",
       "      <th class=\"blank col5\" >&nbsp;</th>\n",
       "    </tr>\n",
       "  </thead>\n",
       "  <tbody>\n",
       "    <tr>\n",
       "      <th id=\"T_fc03d_level0_row0\" class=\"row_heading level0 row0\" >0</th>\n",
       "      <td id=\"T_fc03d_row0_col0\" class=\"data row0 col0\" >131.3490</td>\n",
       "      <td id=\"T_fc03d_row0_col1\" class=\"data row0 col1\" >24666.3651</td>\n",
       "      <td id=\"T_fc03d_row0_col2\" class=\"data row0 col2\" >157.0553</td>\n",
       "      <td id=\"T_fc03d_row0_col3\" class=\"data row0 col3\" >-0.6832</td>\n",
       "      <td id=\"T_fc03d_row0_col4\" class=\"data row0 col4\" >0.4389</td>\n",
       "      <td id=\"T_fc03d_row0_col5\" class=\"data row0 col5\" >0.4757</td>\n",
       "    </tr>\n",
       "    <tr>\n",
       "      <th id=\"T_fc03d_level0_row1\" class=\"row_heading level0 row1\" >1</th>\n",
       "      <td id=\"T_fc03d_row1_col0\" class=\"data row1 col0\" >47.2567</td>\n",
       "      <td id=\"T_fc03d_row1_col1\" class=\"data row1 col1\" >3182.7709</td>\n",
       "      <td id=\"T_fc03d_row1_col2\" class=\"data row1 col2\" >56.4161</td>\n",
       "      <td id=\"T_fc03d_row1_col3\" class=\"data row1 col3\" >0.0497</td>\n",
       "      <td id=\"T_fc03d_row1_col4\" class=\"data row1 col4\" >0.1229</td>\n",
       "      <td id=\"T_fc03d_row1_col5\" class=\"data row1 col5\" >0.1047</td>\n",
       "    </tr>\n",
       "    <tr>\n",
       "      <th id=\"T_fc03d_level0_row2\" class=\"row_heading level0 row2\" >2</th>\n",
       "      <td id=\"T_fc03d_row2_col0\" class=\"data row2 col0\" >80.9523</td>\n",
       "      <td id=\"T_fc03d_row2_col1\" class=\"data row2 col1\" >8000.0391</td>\n",
       "      <td id=\"T_fc03d_row2_col2\" class=\"data row2 col2\" >89.4429</td>\n",
       "      <td id=\"T_fc03d_row2_col3\" class=\"data row2 col3\" >-1.4024</td>\n",
       "      <td id=\"T_fc03d_row2_col4\" class=\"data row2 col4\" >0.1671</td>\n",
       "      <td id=\"T_fc03d_row2_col5\" class=\"data row2 col5\" >0.1404</td>\n",
       "    </tr>\n",
       "    <tr>\n",
       "      <th id=\"T_fc03d_level0_row3\" class=\"row_heading level0 row3\" >3</th>\n",
       "      <td id=\"T_fc03d_row3_col0\" class=\"data row3 col0\" >103.8804</td>\n",
       "      <td id=\"T_fc03d_row3_col1\" class=\"data row3 col1\" >13865.5807</td>\n",
       "      <td id=\"T_fc03d_row3_col2\" class=\"data row3 col2\" >117.7522</td>\n",
       "      <td id=\"T_fc03d_row3_col3\" class=\"data row3 col3\" >-0.4754</td>\n",
       "      <td id=\"T_fc03d_row3_col4\" class=\"data row3 col4\" >0.1880</td>\n",
       "      <td id=\"T_fc03d_row3_col5\" class=\"data row3 col5\" >0.1554</td>\n",
       "    </tr>\n",
       "    <tr>\n",
       "      <th id=\"T_fc03d_level0_row4\" class=\"row_heading level0 row4\" >4</th>\n",
       "      <td id=\"T_fc03d_row4_col0\" class=\"data row4 col0\" >149.7996</td>\n",
       "      <td id=\"T_fc03d_row4_col1\" class=\"data row4 col1\" >31799.4522</td>\n",
       "      <td id=\"T_fc03d_row4_col2\" class=\"data row4 col2\" >178.3240</td>\n",
       "      <td id=\"T_fc03d_row4_col3\" class=\"data row4 col3\" >-0.2579</td>\n",
       "      <td id=\"T_fc03d_row4_col4\" class=\"data row4 col4\" >0.2392</td>\n",
       "      <td id=\"T_fc03d_row4_col5\" class=\"data row4 col5\" >0.1847</td>\n",
       "    </tr>\n",
       "    <tr>\n",
       "      <th id=\"T_fc03d_level0_row5\" class=\"row_heading level0 row5\" >5</th>\n",
       "      <td id=\"T_fc03d_row5_col0\" class=\"data row5 col0\" >139.1919</td>\n",
       "      <td id=\"T_fc03d_row5_col1\" class=\"data row5 col1\" >25052.9794</td>\n",
       "      <td id=\"T_fc03d_row5_col2\" class=\"data row5 col2\" >158.2813</td>\n",
       "      <td id=\"T_fc03d_row5_col3\" class=\"data row5 col3\" >0.3198</td>\n",
       "      <td id=\"T_fc03d_row5_col4\" class=\"data row5 col4\" >0.1869</td>\n",
       "      <td id=\"T_fc03d_row5_col5\" class=\"data row5 col5\" >0.1593</td>\n",
       "    </tr>\n",
       "    <tr>\n",
       "      <th id=\"T_fc03d_level0_row6\" class=\"row_heading level0 row6\" >6</th>\n",
       "      <td id=\"T_fc03d_row6_col0\" class=\"data row6 col0\" >82.9571</td>\n",
       "      <td id=\"T_fc03d_row6_col1\" class=\"data row6 col1\" >15448.2807</td>\n",
       "      <td id=\"T_fc03d_row6_col2\" class=\"data row6 col2\" >124.2911</td>\n",
       "      <td id=\"T_fc03d_row6_col3\" class=\"data row6 col3\" >0.7786</td>\n",
       "      <td id=\"T_fc03d_row6_col4\" class=\"data row6 col4\" >0.1690</td>\n",
       "      <td id=\"T_fc03d_row6_col5\" class=\"data row6 col5\" >0.1228</td>\n",
       "    </tr>\n",
       "    <tr>\n",
       "      <th id=\"T_fc03d_level0_row7\" class=\"row_heading level0 row7\" >7</th>\n",
       "      <td id=\"T_fc03d_row7_col0\" class=\"data row7 col0\" >49.0916</td>\n",
       "      <td id=\"T_fc03d_row7_col1\" class=\"data row7 col1\" >3978.2719</td>\n",
       "      <td id=\"T_fc03d_row7_col2\" class=\"data row7 col2\" >63.0735</td>\n",
       "      <td id=\"T_fc03d_row7_col3\" class=\"data row7 col3\" >0.8208</td>\n",
       "      <td id=\"T_fc03d_row7_col4\" class=\"data row7 col4\" >0.1072</td>\n",
       "      <td id=\"T_fc03d_row7_col5\" class=\"data row7 col5\" >0.0798</td>\n",
       "    </tr>\n",
       "    <tr>\n",
       "      <th id=\"T_fc03d_level0_row8\" class=\"row_heading level0 row8\" >8</th>\n",
       "      <td id=\"T_fc03d_row8_col0\" class=\"data row8 col0\" >412.0690</td>\n",
       "      <td id=\"T_fc03d_row8_col1\" class=\"data row8 col1\" >326056.0634</td>\n",
       "      <td id=\"T_fc03d_row8_col2\" class=\"data row8 col2\" >571.0132</td>\n",
       "      <td id=\"T_fc03d_row8_col3\" class=\"data row8 col3\" >0.3384</td>\n",
       "      <td id=\"T_fc03d_row8_col4\" class=\"data row8 col4\" >0.4560</td>\n",
       "      <td id=\"T_fc03d_row8_col5\" class=\"data row8 col5\" >0.3650</td>\n",
       "    </tr>\n",
       "    <tr>\n",
       "      <th id=\"T_fc03d_level0_row9\" class=\"row_heading level0 row9\" >9</th>\n",
       "      <td id=\"T_fc03d_row9_col0\" class=\"data row9 col0\" >218.0173</td>\n",
       "      <td id=\"T_fc03d_row9_col1\" class=\"data row9 col1\" >87031.4909</td>\n",
       "      <td id=\"T_fc03d_row9_col2\" class=\"data row9 col2\" >295.0110</td>\n",
       "      <td id=\"T_fc03d_row9_col3\" class=\"data row9 col3\" >-0.7819</td>\n",
       "      <td id=\"T_fc03d_row9_col4\" class=\"data row9 col4\" >0.4269</td>\n",
       "      <td id=\"T_fc03d_row9_col5\" class=\"data row9 col5\" >0.2397</td>\n",
       "    </tr>\n",
       "    <tr>\n",
       "      <th id=\"T_fc03d_level0_row10\" class=\"row_heading level0 row10\" >Mean</th>\n",
       "      <td id=\"T_fc03d_row10_col0\" class=\"data row10 col0\" >141.4565</td>\n",
       "      <td id=\"T_fc03d_row10_col1\" class=\"data row10 col1\" >53908.1294</td>\n",
       "      <td id=\"T_fc03d_row10_col2\" class=\"data row10 col2\" >181.0661</td>\n",
       "      <td id=\"T_fc03d_row10_col3\" class=\"data row10 col3\" >-0.1294</td>\n",
       "      <td id=\"T_fc03d_row10_col4\" class=\"data row10 col4\" >0.2502</td>\n",
       "      <td id=\"T_fc03d_row10_col5\" class=\"data row10 col5\" >0.2028</td>\n",
       "    </tr>\n",
       "    <tr>\n",
       "      <th id=\"T_fc03d_level0_row11\" class=\"row_heading level0 row11\" >Std</th>\n",
       "      <td id=\"T_fc03d_row11_col0\" class=\"data row11 col0\" >102.5521</td>\n",
       "      <td id=\"T_fc03d_row11_col1\" class=\"data row11 col1\" >93591.8374</td>\n",
       "      <td id=\"T_fc03d_row11_col2\" class=\"data row11 col2\" >145.3383</td>\n",
       "      <td id=\"T_fc03d_row11_col3\" class=\"data row11 col3\" >0.6833</td>\n",
       "      <td id=\"T_fc03d_row11_col4\" class=\"data row11 col4\" >0.1294</td>\n",
       "      <td id=\"T_fc03d_row11_col5\" class=\"data row11 col5\" >0.1190</td>\n",
       "    </tr>\n",
       "  </tbody>\n",
       "</table>\n"
      ],
      "text/plain": [
       "<pandas.io.formats.style.Styler at 0x13c2b1d3880>"
      ]
     },
     "metadata": {},
     "output_type": "display_data"
    }
   ],
   "source": [
    "# Tune model\n",
    "tuned_model = tune_model(model, n_iter=50, optimize = 'MAE')"
   ]
  },
  {
   "cell_type": "code",
   "execution_count": 16,
   "metadata": {},
   "outputs": [
    {
     "data": {
      "text/plain": [
       "ExtraTreesRegressor(bootstrap=False, ccp_alpha=0.0, criterion='mse',\n",
       "                    max_depth=7, max_features=1.0, max_leaf_nodes=None,\n",
       "                    max_samples=None, min_impurity_decrease=0.2,\n",
       "                    min_impurity_split=None, min_samples_leaf=2,\n",
       "                    min_samples_split=2, min_weight_fraction_leaf=0.0,\n",
       "                    n_estimators=280, n_jobs=-1, oob_score=False,\n",
       "                    random_state=42, verbose=0, warm_start=False)"
      ]
     },
     "execution_count": 16,
     "metadata": {},
     "output_type": "execute_result"
    }
   ],
   "source": [
    "tuned_model"
   ]
  },
  {
   "cell_type": "code",
   "execution_count": 17,
   "metadata": {},
   "outputs": [
    {
     "data": {
      "text/plain": [
       "ExtraTreesRegressor(bootstrap=False, ccp_alpha=0.0, criterion='mse',\n",
       "                    max_depth=None, max_features='auto', max_leaf_nodes=None,\n",
       "                    max_samples=None, min_impurity_decrease=0.0,\n",
       "                    min_impurity_split=None, min_samples_leaf=1,\n",
       "                    min_samples_split=2, min_weight_fraction_leaf=0.0,\n",
       "                    n_estimators=100, n_jobs=-1, oob_score=False,\n",
       "                    random_state=42, verbose=0, warm_start=False)"
      ]
     },
     "execution_count": 17,
     "metadata": {},
     "output_type": "execute_result"
    }
   ],
   "source": [
    "model"
   ]
  },
  {
   "attachments": {},
   "cell_type": "markdown",
   "metadata": {},
   "source": [
    "#### Plot model"
   ]
  },
  {
   "cell_type": "code",
   "execution_count": 18,
   "metadata": {},
   "outputs": [
    {
     "data": {
      "image/png": "[encoded data removed]",
      "text/plain": [
       "<Figure size 576x396 with 2 Axes>"
      ]
     },
     "metadata": {},
     "output_type": "display_data"
    }
   ],
   "source": [
    "# PLot model - Residual plot\n",
    "plot_model(model)"
   ]
  },
  {
   "cell_type": "code",
   "execution_count": 19,
   "metadata": {},
   "outputs": [
    {
     "data": {
      "image/png": "[encoded data removed]",
      "text/plain": [
       "<Figure size 576x396 with 2 Axes>"
      ]
     },
     "metadata": {},
     "output_type": "display_data"
    }
   ],
   "source": [
    "# PLot model - Residual plot\n",
    "plot_model(tuned_model)"
   ]
  },
  {
   "cell_type": "code",
   "execution_count": 20,
   "metadata": {},
   "outputs": [
    {
     "data": {
      "image/png": "[encoded data removed]",
      "text/plain": [
       "<Figure size 576x396 with 1 Axes>"
      ]
     },
     "metadata": {},
     "output_type": "display_data"
    }
   ],
   "source": [
    "# Prediction Error Plot\n",
    "plot_model(model, plot = 'error')"
   ]
  },
  {
   "cell_type": "code",
   "execution_count": 21,
   "metadata": {},
   "outputs": [
    {
     "data": {
      "image/png": "[encoded data removed]",
      "text/plain": [
       "<Figure size 576x396 with 1 Axes>"
      ]
     },
     "metadata": {},
     "output_type": "display_data"
    }
   ],
   "source": [
    "# Prediction Error Plot\n",
    "plot_model(tuned_model, plot = 'error')"
   ]
  },
  {
   "cell_type": "code",
   "execution_count": 22,
   "metadata": {},
   "outputs": [
    {
     "data": {
      "image/png": "[encoded data removed]",
      "text/plain": [
       "<Figure size 800x500 with 1 Axes>"
      ]
     },
     "metadata": {},
     "output_type": "display_data"
    }
   ],
   "source": [
    "# Feature Importance Plot\n",
    "plot_model(model, plot='feature')"
   ]
  },
  {
   "cell_type": "code",
   "execution_count": 23,
   "metadata": {},
   "outputs": [
    {
     "data": {
      "image/png": "[encoded data removed]",
      "text/plain": [
       "<Figure size 800x500 with 1 Axes>"
      ]
     },
     "metadata": {},
     "output_type": "display_data"
    }
   ],
   "source": [
    "# Feature Importance Plot\n",
    "plot_model(tuned_model, plot='feature')"
   ]
  },
  {
   "attachments": {},
   "cell_type": "markdown",
   "metadata": {},
   "source": [
    "#### Evaluate models"
   ]
  },
  {
   "cell_type": "code",
   "execution_count": 24,
   "metadata": {},
   "outputs": [
    {
     "data": {
      "application/vnd.jupyter.widget-view+json": {
       "model_id": "0756d469b91740288130d87ae3e0af69",
       "version_major": 2,
       "version_minor": 0
      },
      "text/plain": [
       "interactive(children=(ToggleButtons(description='Plot Type:', icons=('',), options=(('Hyperparameters', 'param…"
      ]
     },
     "metadata": {},
     "output_type": "display_data"
    }
   ],
   "source": [
    "evaluate_model(model)"
   ]
  },
  {
   "cell_type": "code",
   "execution_count": 25,
   "metadata": {},
   "outputs": [
    {
     "data": {
      "application/vnd.jupyter.widget-view+json": {
       "model_id": "c79d6f8485b049feb1d979b3fe7b5991",
       "version_major": 2,
       "version_minor": 0
      },
      "text/plain": [
       "interactive(children=(ToggleButtons(description='Plot Type:', icons=('',), options=(('Hyperparameters', 'param…"
      ]
     },
     "metadata": {},
     "output_type": "display_data"
    }
   ],
   "source": [
    "evaluate_model(tuned_model)"
   ]
  },
  {
   "attachments": {},
   "cell_type": "markdown",
   "metadata": {},
   "source": [
    "#### Predict on test set"
   ]
  },
  {
   "cell_type": "code",
   "execution_count": 26,
   "metadata": {},
   "outputs": [
    {
     "data": {
      "text/html": [
       "<style type=\"text/css\">\n",
       "</style>\n",
       "<table id=\"T_0c983\">\n",
       "  <thead>\n",
       "    <tr>\n",
       "      <th class=\"blank level0\" >&nbsp;</th>\n",
       "      <th id=\"T_0c983_level0_col0\" class=\"col_heading level0 col0\" >Model</th>\n",
       "      <th id=\"T_0c983_level0_col1\" class=\"col_heading level0 col1\" >MAE</th>\n",
       "      <th id=\"T_0c983_level0_col2\" class=\"col_heading level0 col2\" >MSE</th>\n",
       "      <th id=\"T_0c983_level0_col3\" class=\"col_heading level0 col3\" >RMSE</th>\n",
       "      <th id=\"T_0c983_level0_col4\" class=\"col_heading level0 col4\" >R2</th>\n",
       "      <th id=\"T_0c983_level0_col5\" class=\"col_heading level0 col5\" >RMSLE</th>\n",
       "      <th id=\"T_0c983_level0_col6\" class=\"col_heading level0 col6\" >MAPE</th>\n",
       "    </tr>\n",
       "  </thead>\n",
       "  <tbody>\n",
       "    <tr>\n",
       "      <th id=\"T_0c983_level0_row0\" class=\"row_heading level0 row0\" >0</th>\n",
       "      <td id=\"T_0c983_row0_col0\" class=\"data row0 col0\" >Extra Trees Regressor</td>\n",
       "      <td id=\"T_0c983_row0_col1\" class=\"data row0 col1\" >265.5828</td>\n",
       "      <td id=\"T_0c983_row0_col2\" class=\"data row0 col2\" >90072.7706</td>\n",
       "      <td id=\"T_0c983_row0_col3\" class=\"data row0 col3\" >300.1213</td>\n",
       "      <td id=\"T_0c983_row0_col4\" class=\"data row0 col4\" >-1.8006</td>\n",
       "      <td id=\"T_0c983_row0_col5\" class=\"data row0 col5\" >0.6110</td>\n",
       "      <td id=\"T_0c983_row0_col6\" class=\"data row0 col6\" >0.7690</td>\n",
       "    </tr>\n",
       "  </tbody>\n",
       "</table>\n"
      ],
      "text/plain": [
       "<pandas.io.formats.style.Styler at 0x13c2ed83790>"
      ]
     },
     "metadata": {},
     "output_type": "display_data"
    }
   ],
   "source": [
    "prediction = predict_model(model)"
   ]
  },
  {
   "cell_type": "code",
   "execution_count": 27,
   "metadata": {},
   "outputs": [
    {
     "data": {
      "text/html": [
       "<style type=\"text/css\">\n",
       "</style>\n",
       "<table id=\"T_fe54c\">\n",
       "  <thead>\n",
       "    <tr>\n",
       "      <th class=\"blank level0\" >&nbsp;</th>\n",
       "      <th id=\"T_fe54c_level0_col0\" class=\"col_heading level0 col0\" >Model</th>\n",
       "      <th id=\"T_fe54c_level0_col1\" class=\"col_heading level0 col1\" >MAE</th>\n",
       "      <th id=\"T_fe54c_level0_col2\" class=\"col_heading level0 col2\" >MSE</th>\n",
       "      <th id=\"T_fe54c_level0_col3\" class=\"col_heading level0 col3\" >RMSE</th>\n",
       "      <th id=\"T_fe54c_level0_col4\" class=\"col_heading level0 col4\" >R2</th>\n",
       "      <th id=\"T_fe54c_level0_col5\" class=\"col_heading level0 col5\" >RMSLE</th>\n",
       "      <th id=\"T_fe54c_level0_col6\" class=\"col_heading level0 col6\" >MAPE</th>\n",
       "    </tr>\n",
       "  </thead>\n",
       "  <tbody>\n",
       "    <tr>\n",
       "      <th id=\"T_fe54c_level0_row0\" class=\"row_heading level0 row0\" >0</th>\n",
       "      <td id=\"T_fe54c_row0_col0\" class=\"data row0 col0\" >Extra Trees Regressor</td>\n",
       "      <td id=\"T_fe54c_row0_col1\" class=\"data row0 col1\" >244.6877</td>\n",
       "      <td id=\"T_fe54c_row0_col2\" class=\"data row0 col2\" >75638.4253</td>\n",
       "      <td id=\"T_fe54c_row0_col3\" class=\"data row0 col3\" >275.0244</td>\n",
       "      <td id=\"T_fe54c_row0_col4\" class=\"data row0 col4\" >-1.3518</td>\n",
       "      <td id=\"T_fe54c_row0_col5\" class=\"data row0 col5\" >0.5965</td>\n",
       "      <td id=\"T_fe54c_row0_col6\" class=\"data row0 col6\" >0.7380</td>\n",
       "    </tr>\n",
       "  </tbody>\n",
       "</table>\n"
      ],
      "text/plain": [
       "<pandas.io.formats.style.Styler at 0x13c2ec55be0>"
      ]
     },
     "metadata": {},
     "output_type": "display_data"
    }
   ],
   "source": [
    "prediction_tuned = predict_model(tuned_model)"
   ]
  },
  {
   "attachments": {},
   "cell_type": "markdown",
   "metadata": {},
   "source": [
    "#### Predict full dataset"
   ]
  },
  {
   "attachments": {},
   "cell_type": "markdown",
   "metadata": {},
   "source": [
    "##### Base model"
   ]
  },
  {
   "cell_type": "code",
   "execution_count": 28,
   "metadata": {},
   "outputs": [
    {
     "data": {
      "text/html": [
       "<style type=\"text/css\">\n",
       "</style>\n",
       "<table id=\"T_97926\">\n",
       "  <thead>\n",
       "    <tr>\n",
       "      <th class=\"blank level0\" >&nbsp;</th>\n",
       "      <th id=\"T_97926_level0_col0\" class=\"col_heading level0 col0\" >Model</th>\n",
       "      <th id=\"T_97926_level0_col1\" class=\"col_heading level0 col1\" >MAE</th>\n",
       "      <th id=\"T_97926_level0_col2\" class=\"col_heading level0 col2\" >MSE</th>\n",
       "      <th id=\"T_97926_level0_col3\" class=\"col_heading level0 col3\" >RMSE</th>\n",
       "      <th id=\"T_97926_level0_col4\" class=\"col_heading level0 col4\" >R2</th>\n",
       "      <th id=\"T_97926_level0_col5\" class=\"col_heading level0 col5\" >RMSLE</th>\n",
       "      <th id=\"T_97926_level0_col6\" class=\"col_heading level0 col6\" >MAPE</th>\n",
       "    </tr>\n",
       "  </thead>\n",
       "  <tbody>\n",
       "    <tr>\n",
       "      <th id=\"T_97926_level0_row0\" class=\"row_heading level0 row0\" >0</th>\n",
       "      <td id=\"T_97926_row0_col0\" class=\"data row0 col0\" >Extra Trees Regressor</td>\n",
       "      <td id=\"T_97926_row0_col1\" class=\"data row0 col1\" >49.7968</td>\n",
       "      <td id=\"T_97926_row0_col2\" class=\"data row0 col2\" >16888.6445</td>\n",
       "      <td id=\"T_97926_row0_col3\" class=\"data row0 col3\" >129.9563</td>\n",
       "      <td id=\"T_97926_row0_col4\" class=\"data row0 col4\" >0.8230</td>\n",
       "      <td id=\"T_97926_row0_col5\" class=\"data row0 col5\" >0.2646</td>\n",
       "      <td id=\"T_97926_row0_col6\" class=\"data row0 col6\" >0.1442</td>\n",
       "    </tr>\n",
       "  </tbody>\n",
       "</table>\n"
      ],
      "text/plain": [
       "<pandas.io.formats.style.Styler at 0x13c2ebe6ca0>"
      ]
     },
     "metadata": {},
     "output_type": "display_data"
    },
    {
     "data": {
      "image/svg+xml": "<svg class=\"main-svg\" xmlns=\"http://www.w3.org/2000/svg\" xmlns:xlink=\"http://www.w3.org/1999/xlink\" width=\"1200\" height=\"400\" style=\"\" viewBox=\"0 0 1200 400\"><rect x=\"0\" y=\"0\" width=\"1200\" height=\"400\" style=\"fill: rgb(255, 255, 255); fill-opacity: 1;\"/><defs id=\"defs-f0c954\"><g class=\"clips\"><clipPath id=\"clipf0c954xyplot\" class=\"plotclip\"><rect width=\"1001\" height=\"260\"/></clipPath><clipPath class=\"axesclip\" id=\"clipf0c954x\"><rect x=\"80\" y=\"0\" width=\"1001\" height=\"400\"/></clipPath><clipPath class=\"axesclip\" id=\"clipf0c954y\"><rect x=\"0\" y=\"60\" width=\"1200\" height=\"260\"/></clipPath><clipPath class=\"axesclip\" id=\"clipf0c954xy\"><rect x=\"80\" y=\"60\" width=\"1001\" height=\"260\"/></clipPath></g><g class=\"gradients\"/><g class=\"patterns\"/></defs><g class=\"bglayer\"><rect class=\"bg\" x=\"80\" y=\"60\" width=\"1001\" height=\"260\" style=\"fill: rgb(229, 236, 246); fill-opacity: 1; stroke-width: 0;\"/></g><g class=\"layer-below\"><g class=\"imagelayer\"/><g class=\"shapelayer\"/></g><g class=\"cartesianlayer\"><g class=\"subplot xy\"><g class=\"layer-subplot\"><g class=\"shapelayer\"/><g class=\"imagelayer\"/></g><g class=\"minor-gridlayer\"><g class=\"x\"/><g class=\"y\"/></g><g class=\"gridlayer\"><g class=\"x\"><path class=\"xgrid crisp\" transform=\"translate(142.85,0)\" d=\"M0,60v260\" style=\"stroke: rgb(255, 255, 255); stroke-opacity: 1; stroke-width: 1px;\"/><path class=\"xgrid crisp\" transform=\"translate(268.73,0)\" d=\"M0,60v260\" style=\"stroke: rgb(255, 255, 255); stroke-opacity: 1; stroke-width: 1px;\"/><path class=\"xgrid crisp\" transform=\"translate(394.44,0)\" d=\"M0,60v260\" style=\"stroke: rgb(255, 255, 255); stroke-opacity: 1; stroke-width: 1px;\"/><path class=\"xgrid crisp\" transform=\"translate(520.3199999999999,0)\" d=\"M0,60v260\" style=\"stroke: rgb(255, 255, 255); stroke-opacity: 1; stroke-width: 1px;\"/><path class=\"xgrid crisp\" transform=\"translate(646.02,0)\" d=\"M0,60v260\" style=\"stroke: rgb(255, 255, 255); stroke-opacity: 1; stroke-width: 1px;\"/><path class=\"xgrid crisp\" transform=\"translate(771.9,0)\" d=\"M0,60v260\" style=\"stroke: rgb(255, 255, 255); stroke-opacity: 1; stroke-width: 1px;\"/><path class=\"xgrid crisp\" transform=\"translate(897.61,0)\" d=\"M0,60v260\" style=\"stroke: rgb(255, 255, 255); stroke-opacity: 1; stroke-width: 1px;\"/><path class=\"xgrid crisp\" transform=\"translate(1023.49,0)\" d=\"M0,60v260\" style=\"stroke: rgb(255, 255, 255); stroke-opacity: 1; stroke-width: 1px;\"/></g><g class=\"y\"><path class=\"ygrid crisp\" transform=\"translate(0,270.16999999999996)\" d=\"M80,0h1001\" style=\"stroke: rgb(255, 255, 255); stroke-opacity: 1; stroke-width: 1px;\"/><path class=\"ygrid crisp\" transform=\"translate(0,220)\" d=\"M80,0h1001\" style=\"stroke: rgb(255, 255, 255); stroke-opacity: 1; stroke-width: 1px;\"/><path class=\"ygrid crisp\" transform=\"translate(0,169.82999999999998)\" d=\"M80,0h1001\" style=\"stroke: rgb(255, 255, 255); stroke-opacity: 1; stroke-width: 1px;\"/><path class=\"ygrid crisp\" transform=\"translate(0,119.66)\" d=\"M80,0h1001\" style=\"stroke: rgb(255, 255, 255); stroke-opacity: 1; stroke-width: 1px;\"/><path class=\"ygrid crisp\" transform=\"translate(0,69.49)\" d=\"M80,0h1001\" style=\"stroke: rgb(255, 255, 255); stroke-opacity: 1; stroke-width: 1px;\"/></g></g><g class=\"zerolinelayer\"/><path class=\"xlines-below\"/><path class=\"ylines-below\"/><g class=\"overlines-below\"/><g class=\"xaxislayer-below\"/><g class=\"yaxislayer-below\"/><g class=\"overaxes-below\"/><g class=\"plot\" transform=\"translate(80,60)\" clip-path=\"url(#clipf0c954xyplot)\"><g class=\"scatterlayer mlayer\"><g class=\"trace scatter trace35d9d8\" style=\"stroke-miterlimit: 2; opacity: 1;\"><g class=\"fills\"/><g class=\"errorbars\"/><g class=\"lines\"><path class=\"js-line\" d=\"M0,231.85L5.34,211.88L10.16,208.97L15.5,203.65L20.66,207.57L26,204.66L31.17,207.97L36.51,206.76L41.84,189L47.01,177.26L52.35,198.73L57.51,199.84L62.85,184.39L68.19,180.37L73.19,203.35L78.52,217.3L83.69,203.25L89.03,201.34L94.19,219.41L99.53,210.68L104.87,222.42L110.04,223.42L115.37,234.16L120.54,240.58L125.88,227.93L131.22,236.46L136.04,215.89L141.38,238.17L146.54,232.35L151.88,229.94L157.05,217.9L162.38,214.79L167.72,216.3L172.89,217.7L178.23,209.87L183.39,225.53L188.73,223.92L194.07,221.21L198.89,212.88L204.23,207.46L209.4,211.38L214.73,205.66L219.9,212.58L225.24,209.27L230.58,207.16L235.74,206.16L241.08,202.45L246.25,219.1L251.58,201.04L256.92,201.54L261.74,207.57L267.08,199.24L272.25,199.94L277.59,204.15L282.75,213.49L293.43,195.62L298.6,202.55L303.93,189.5L309.1,200.34L314.44,171.34L319.78,203.85L324.77,183.98L330.11,205.56L340.61,197.43L345.78,208.17L351.12,194.02L356.45,187.3L361.62,195.62L366.96,194.42L372.12,205.96L377.46,200.44L382.8,187.6L387.62,147.66L392.96,209.57L398.13,197.03L403.47,191.91L408.63,203.55L413.97,188.5L419.31,182.08L424.47,163.82L429.81,169.84L434.98,192.31L440.32,179.77L445.65,182.48L450.48,151.57L455.81,189.9L460.98,183.68L466.32,197.63L471.48,197.93L476.82,179.47L482.16,173.15L487.33,168.83L492.66,175.46L497.83,177.16L503.17,181.28L508.51,174.05L513.33,129.7L518.67,210.58L523.83,215.49L529.17,173.25L534.34,199.94L539.68,176.06L545.01,176.56L550.18,183.78L555.52,200.54L560.68,171.14L566.02,220.81L571.36,173.65L576.35,108.73L581.69,204.35L586.86,201.95L592.2,193.52L597.36,193.32L602.7,191.41L608.04,186.19L613.21,195.83L618.54,174.65L629.05,198.33L634.39,169.54L639.21,161.01L644.55,224.32L649.71,193.82L655.05,196.33L660.22,203.45L665.55,199.74L670.89,210.88L676.06,202.05L686.56,231.15L691.9,238.87L697.24,61.87L702.06,13L707.4,212.18L712.56,157.19L717.9,137.63L723.07,41L728.41,132.71L733.75,114.95L738.91,141.34L744.25,143.35L749.42,164.72L754.75,178.87L760.09,167.33L764.91,134.42L770.25,213.28L775.42,207.87L780.76,169.94L785.92,187.6L791.26,203.05L796.6,173.85L801.76,196.03L807.1,191.81L812.27,187.7L817.61,186.59L822.94,192.11L827.94,199.14L833.28,214.99L838.44,212.88L843.78,215.89L848.95,224.02L854.29,217.3L859.62,194.32L864.79,187.1L870.13,188.4L875.29,194.72L880.63,209.47L885.97,201.04L890.79,188.6L896.13,224.02L901.3,216.09L906.63,212.38L911.8,225.43L917.14,203.35L922.48,212.78L927.64,209.17L932.98,177.76L943.49,237.67L948.82,229.24L953.64,226.33L958.98,242.38L964.15,239.78L969.49,244.19L974.65,247L979.99,225.53L985.33,230.74L990.5,218.9L995.83,203.85L1001,191.91\" style=\"vector-effect: non-scaling-stroke; fill: none; stroke: rgb(99, 110, 250); stroke-opacity: 1; stroke-width: 2px; opacity: 1;\"/></g><g class=\"points\"/><g class=\"text\"/></g><g class=\"trace scatter tracecb56d6\" style=\"stroke-miterlimit: 2; opacity: 1;\"><g class=\"fills\"/><g class=\"errorbars\"/><g class=\"lines\"><path class=\"js-line\" d=\"M0,231.85L5.34,211.88L10.16,208.97L15.5,203.65L20.66,207.57L26,204.66L31.17,207.97L36.51,206.76L41.84,189L47.01,177.26L52.35,198.73L57.51,199.84L62.85,184.39L68.19,180.37L73.19,203.35L78.52,217.3L83.69,203.25L89.03,201.34L94.19,219.41L99.53,210.68L104.87,222.42L110.04,223.42L115.37,234.16L120.54,240.58L125.88,227.93L131.22,236.46L136.04,215.89L141.38,238.17L146.54,232.35L151.88,229.94L157.05,217.9L162.38,214.79L167.72,216.3L172.89,217.7L178.23,209.87L183.39,225.53L188.73,223.92L194.07,221.21L198.89,212.88L204.23,207.46L209.4,211.38L214.73,205.66L219.9,212.58L225.24,209.27L230.58,207.16L235.74,206.16L241.08,202.45L246.25,219.1L251.58,201.04L256.92,201.54L261.74,207.57L267.08,199.24L272.25,199.94L277.59,204.15L282.75,213.49L293.43,195.62L298.6,202.55L303.93,189.5L309.1,200.34L314.44,171.34L319.78,203.85L324.77,183.98L330.11,205.56L340.61,197.43L345.78,208.17L351.12,194.02L356.45,187.3L361.62,195.62L366.96,194.42L372.12,205.96L377.46,200.44L382.8,187.6L387.62,147.66L392.96,209.57L398.13,197.03L403.47,191.91L408.63,203.55L413.97,188.5L419.31,182.08L424.47,163.82L429.81,169.84L434.98,192.31L440.32,179.77L445.65,182.48L450.48,151.57L455.81,189.9L460.98,183.68L466.32,197.63L471.48,197.93L476.82,179.47L482.16,173.15L487.33,168.83L492.66,175.46L497.83,177.16L503.17,181.28L508.51,174.05L513.33,129.7L518.67,210.58L523.83,215.49L529.17,173.25L534.34,199.94L539.68,176.06L545.01,176.56L550.18,183.78L555.52,200.54L560.68,171.14L566.02,220.81L571.36,173.65L576.35,108.73L581.69,204.35L586.86,201.95L592.2,193.52L597.36,193.32L602.7,191.41L608.04,186.19L613.21,195.83L618.54,174.65L629.05,198.33L634.39,169.54L639.21,161.01L644.55,224.32L649.71,193.82L655.05,196.33L660.22,203.45L665.55,199.74L670.89,210.88L676.06,202.05L686.56,231.15L691.9,238.87L697.24,61.87L702.06,13L707.4,212.18L712.56,157.19L717.9,137.63L723.07,41L728.41,132.71L733.75,114.95L738.91,141.34L744.25,143.35L749.42,164.72L754.75,178.87L760.09,167.33L764.91,134.42L770.25,213.28L775.42,207.87L780.76,169.94L785.92,187.6L791.26,203.05L796.6,173.85L801.76,196.03L807.1,191.81L812.27,187.7L817.61,188.25L822.94,191.22L827.94,189.51L833.28,217.77L838.44,209.73L843.78,202.01L848.95,207.62L854.29,200.47L859.62,163.71L864.79,174.85L870.13,175.99L875.29,163.66L880.63,194.1L885.97,178.09L890.79,160.04L896.13,203.75L901.3,196.22L906.63,178.07L911.8,203.48L917.14,179.98L922.48,171.53L927.64,169.78L932.98,140.21L938.15,165.47L943.49,199.12L948.82,194.75L953.64,186.27L958.98,200.57L964.15,191.87L969.49,201.68L974.65,207.39L979.99,184.9L985.33,202.92L990.5,202.52L995.83,156.9L1001,146.22\" style=\"vector-effect: non-scaling-stroke; fill: none; stroke: rgb(239, 85, 59); stroke-opacity: 1; stroke-width: 2px; opacity: 1;\"/></g><g class=\"points\"/><g class=\"text\"/></g></g></g><g class=\"overplot\"/><path class=\"xlines-above crisp\" d=\"M0,0\" style=\"fill: none;\"/><path class=\"ylines-above crisp\" d=\"M0,0\" style=\"fill: none;\"/><g class=\"overlines-above\"/><g class=\"xaxislayer-above\"><g class=\"xtick\"><text text-anchor=\"middle\" x=\"0\" y=\"333\" transform=\"translate(142.85,0)\" style=\"font-family: 'Open Sans', verdana, arial, sans-serif; font-size: 12px; fill: rgb(42, 63, 95); fill-opacity: 1; white-space: pre; opacity: 1;\">2008</text></g><g class=\"xtick\"><text text-anchor=\"middle\" x=\"0\" y=\"333\" style=\"font-family: 'Open Sans', verdana, arial, sans-serif; font-size: 12px; fill: rgb(42, 63, 95); fill-opacity: 1; white-space: pre; opacity: 1;\" transform=\"translate(268.73,0)\">2010</text></g><g class=\"xtick\"><text text-anchor=\"middle\" x=\"0\" y=\"333\" style=\"font-family: 'Open Sans', verdana, arial, sans-serif; font-size: 12px; fill: rgb(42, 63, 95); fill-opacity: 1; white-space: pre; opacity: 1;\" transform=\"translate(394.44,0)\">2012</text></g><g class=\"xtick\"><text text-anchor=\"middle\" x=\"0\" y=\"333\" style=\"font-family: 'Open Sans', verdana, arial, sans-serif; font-size: 12px; fill: rgb(42, 63, 95); fill-opacity: 1; white-space: pre; opacity: 1;\" transform=\"translate(520.3199999999999,0)\">2014</text></g><g class=\"xtick\"><text text-anchor=\"middle\" x=\"0\" y=\"333\" style=\"font-family: 'Open Sans', verdana, arial, sans-serif; font-size: 12px; fill: rgb(42, 63, 95); fill-opacity: 1; white-space: pre; opacity: 1;\" transform=\"translate(646.02,0)\">2016</text></g><g class=\"xtick\"><text text-anchor=\"middle\" x=\"0\" y=\"333\" style=\"font-family: 'Open Sans', verdana, arial, sans-serif; font-size: 12px; fill: rgb(42, 63, 95); fill-opacity: 1; white-space: pre; opacity: 1;\" transform=\"translate(771.9,0)\">2018</text></g><g class=\"xtick\"><text text-anchor=\"middle\" x=\"0\" y=\"333\" style=\"font-family: 'Open Sans', verdana, arial, sans-serif; font-size: 12px; fill: rgb(42, 63, 95); fill-opacity: 1; white-space: pre; opacity: 1;\" transform=\"translate(897.61,0)\">2020</text></g><g class=\"xtick\"><text text-anchor=\"middle\" x=\"0\" y=\"333\" style=\"font-family: 'Open Sans', verdana, arial, sans-serif; font-size: 12px; fill: rgb(42, 63, 95); fill-opacity: 1; white-space: pre; opacity: 1;\" transform=\"translate(1023.49,0)\">2022</text></g></g><g class=\"yaxislayer-above\"><g class=\"ytick\"><text text-anchor=\"end\" x=\"79\" y=\"4.199999999999999\" transform=\"translate(0,270.16999999999996)\" style=\"font-family: 'Open Sans', verdana, arial, sans-serif; font-size: 12px; fill: rgb(42, 63, 95); fill-opacity: 1; white-space: pre; opacity: 1;\">500</text></g><g class=\"ytick\"><text text-anchor=\"end\" x=\"79\" y=\"4.199999999999999\" style=\"font-family: 'Open Sans', verdana, arial, sans-serif; font-size: 12px; fill: rgb(42, 63, 95); fill-opacity: 1; white-space: pre; opacity: 1;\" transform=\"translate(0,220)\">1000</text></g><g class=\"ytick\"><text text-anchor=\"end\" x=\"79\" y=\"4.199999999999999\" style=\"font-family: 'Open Sans', verdana, arial, sans-serif; font-size: 12px; fill: rgb(42, 63, 95); fill-opacity: 1; white-space: pre; opacity: 1;\" transform=\"translate(0,169.82999999999998)\">1500</text></g><g class=\"ytick\"><text text-anchor=\"end\" x=\"79\" y=\"4.199999999999999\" style=\"font-family: 'Open Sans', verdana, arial, sans-serif; font-size: 12px; fill: rgb(42, 63, 95); fill-opacity: 1; white-space: pre; opacity: 1;\" transform=\"translate(0,119.66)\">2000</text></g><g class=\"ytick\"><text text-anchor=\"end\" x=\"79\" y=\"4.199999999999999\" style=\"font-family: 'Open Sans', verdana, arial, sans-serif; font-size: 12px; fill: rgb(42, 63, 95); fill-opacity: 1; white-space: pre; opacity: 1;\" transform=\"translate(0,69.49)\">2500</text></g></g><g class=\"overaxes-above\"/></g></g><g class=\"polarlayer\"/><g class=\"smithlayer\"/><g class=\"ternarylayer\"/><g class=\"geolayer\"/><g class=\"funnelarealayer\"/><g class=\"pielayer\"/><g class=\"iciclelayer\"/><g class=\"treemaplayer\"/><g class=\"sunburstlayer\"/><g class=\"glimages\"/><defs id=\"topdefs-f0c954\"><g class=\"clips\"/><clipPath id=\"legendf0c954\"><rect width=\"87\" height=\"67\" x=\"0\" y=\"0\"/></clipPath></defs><g class=\"layer-above\"><g class=\"imagelayer\"/><g class=\"shapelayer\"><path data-index=\"0\" fill-rule=\"evenodd\" d=\"M897.61,320H1081V60H897.61Z\" clip-path=\"url(#clipf0c954x)\" style=\"opacity: 0.25; stroke: rgb(0, 0, 0); stroke-opacity: 0; fill: rgb(128, 128, 128); fill-opacity: 1; stroke-width: 0px;\"/></g></g><g class=\"infolayer\"><g class=\"legend\" pointer-events=\"all\" transform=\"translate(1101.02,60)\"><rect class=\"bg\" shape-rendering=\"crispEdges\" style=\"stroke: rgb(68, 68, 68); stroke-opacity: 1; fill: rgb(255, 255, 255); fill-opacity: 1; stroke-width: 0px;\" width=\"87\" height=\"67\" x=\"0\" y=\"0\"/><g class=\"scrollbox\" transform=\"\" clip-path=\"url(#legendf0c954)\"><text class=\"legendtitletext\" text-anchor=\"start\" x=\"2\" y=\"18.2\" style=\"font-family: 'Open Sans', verdana, arial, sans-serif; font-size: 14px; fill: rgb(42, 63, 95); fill-opacity: 1; white-space: pre;\">variable</text><g class=\"groups\" transform=\"\"><g class=\"traces\" transform=\"translate(0,32.7)\" style=\"opacity: 1;\"><text class=\"legendtext\" text-anchor=\"start\" x=\"40\" y=\"4.680000000000001\" style=\"font-family: 'Open Sans', verdana, arial, sans-serif; font-size: 12px; fill: rgb(42, 63, 95); fill-opacity: 1; white-space: pre;\">Orders</text><g class=\"layers\" style=\"opacity: 1;\"><g class=\"legendfill\"/><g class=\"legendlines\"><path class=\"js-line\" d=\"M5,0h30\" style=\"fill: none; stroke: rgb(99, 110, 250); stroke-opacity: 1; stroke-width: 2px;\"/></g><g class=\"legendsymbols\"><g class=\"legendpoints\"/></g></g><rect class=\"legendtoggle\" x=\"0\" y=\"-9.5\" width=\"81.3125\" height=\"19\" style=\"fill: rgb(0, 0, 0); fill-opacity: 0;\"/></g></g><g class=\"groups\" transform=\"\"><g class=\"traces\" transform=\"translate(0,51.7)\" style=\"opacity: 1;\"><text class=\"legendtext\" text-anchor=\"start\" x=\"40\" y=\"4.680000000000001\" style=\"font-family: 'Open Sans', verdana, arial, sans-serif; font-size: 12px; fill: rgb(42, 63, 95); fill-opacity: 1; white-space: pre;\">Label</text><g class=\"layers\" style=\"opacity: 1;\"><g class=\"legendfill\"/><g class=\"legendlines\"><path class=\"js-line\" d=\"M5,0h30\" style=\"fill: none; stroke: rgb(239, 85, 59); stroke-opacity: 1; stroke-width: 2px;\"/></g><g class=\"legendsymbols\"><g class=\"legendpoints\"/></g></g><rect class=\"legendtoggle\" x=\"0\" y=\"-9.5\" width=\"81.3125\" height=\"19\" style=\"fill: rgb(0, 0, 0); fill-opacity: 0;\"/></g></g></g><rect class=\"scrollbar\" rx=\"20\" ry=\"3\" width=\"0\" height=\"0\" style=\"fill: rgb(128, 139, 164); fill-opacity: 1;\" x=\"0\" y=\"0\"/></g><g class=\"g-gtitle\"/><g class=\"g-xtitle\"><text class=\"xtitle\" x=\"580.5\" y=\"360.3\" text-anchor=\"middle\" style=\"font-family: 'Open Sans', verdana, arial, sans-serif; font-size: 14px; fill: rgb(42, 63, 95); opacity: 1; font-weight: normal; white-space: pre;\">Date</text></g><g class=\"g-ytitle\"><text class=\"ytitle\" transform=\"rotate(-90,24.184375000000003,190)\" x=\"24.184375000000003\" y=\"190\" text-anchor=\"middle\" style=\"font-family: 'Open Sans', verdana, arial, sans-serif; font-size: 14px; fill: rgb(42, 63, 95); opacity: 1; font-weight: normal; white-space: pre;\">value</text></g></g></svg>"
     },
     "metadata": {},
     "output_type": "display_data"
    }
   ],
   "source": [
    "# Generate predictions on the original dataset\n",
    "predictions = predict_model(model, data=df)\n",
    "\n",
    "# Add a date column in the dataset\n",
    "predictions['Date'] = pd.date_range(start=start, end = end, freq = 'MS')\n",
    "\n",
    "# Line plot\n",
    "fig = px.line(predictions, x='Date', y=[dep_var, \"Label\"]) #, template = 'plotly_dark')\n",
    "\n",
    "# Add a vertical rectange for test-set separation\n",
    "fig.add_vrect(x0=start_test, x1=predictions.Date.max(), fillcolor=\"grey\", opacity=0.25, line_width=0)\n",
    "fig.update_layout(height=400, width=1200)\n",
    "fig.show()"
   ]
  },
  {
   "attachments": {},
   "cell_type": "markdown",
   "metadata": {},
   "source": [
    "##### Tuned model"
   ]
  },
  {
   "cell_type": "code",
   "execution_count": 29,
   "metadata": {},
   "outputs": [
    {
     "data": {
      "text/html": [
       "<style type=\"text/css\">\n",
       "</style>\n",
       "<table id=\"T_a3da0\">\n",
       "  <thead>\n",
       "    <tr>\n",
       "      <th class=\"blank level0\" >&nbsp;</th>\n",
       "      <th id=\"T_a3da0_level0_col0\" class=\"col_heading level0 col0\" >Model</th>\n",
       "      <th id=\"T_a3da0_level0_col1\" class=\"col_heading level0 col1\" >MAE</th>\n",
       "      <th id=\"T_a3da0_level0_col2\" class=\"col_heading level0 col2\" >MSE</th>\n",
       "      <th id=\"T_a3da0_level0_col3\" class=\"col_heading level0 col3\" >RMSE</th>\n",
       "      <th id=\"T_a3da0_level0_col4\" class=\"col_heading level0 col4\" >R2</th>\n",
       "      <th id=\"T_a3da0_level0_col5\" class=\"col_heading level0 col5\" >RMSLE</th>\n",
       "      <th id=\"T_a3da0_level0_col6\" class=\"col_heading level0 col6\" >MAPE</th>\n",
       "    </tr>\n",
       "  </thead>\n",
       "  <tbody>\n",
       "    <tr>\n",
       "      <th id=\"T_a3da0_level0_row0\" class=\"row_heading level0 row0\" >0</th>\n",
       "      <td id=\"T_a3da0_row0_col0\" class=\"data row0 col0\" >Extra Trees Regressor</td>\n",
       "      <td id=\"T_a3da0_row0_col1\" class=\"data row0 col1\" >87.9052</td>\n",
       "      <td id=\"T_a3da0_row0_col2\" class=\"data row0 col2\" >18764.4957</td>\n",
       "      <td id=\"T_a3da0_row0_col3\" class=\"data row0 col3\" >136.9836</td>\n",
       "      <td id=\"T_a3da0_row0_col4\" class=\"data row0 col4\" >0.8034</td>\n",
       "      <td id=\"T_a3da0_row0_col5\" class=\"data row0 col5\" >0.2789</td>\n",
       "      <td id=\"T_a3da0_row0_col6\" class=\"data row0 col6\" >0.2074</td>\n",
       "    </tr>\n",
       "  </tbody>\n",
       "</table>\n"
      ],
      "text/plain": [
       "<pandas.io.formats.style.Styler at 0x13c2f76b0d0>"
      ]
     },
     "metadata": {},
     "output_type": "display_data"
    },
    {
     "data": {
      "image/svg+xml": "<svg class=\"main-svg\" xmlns=\"http://www.w3.org/2000/svg\" xmlns:xlink=\"http://www.w3.org/1999/xlink\" width=\"1200\" height=\"400\" style=\"\" viewBox=\"0 0 1200 400\"><rect x=\"0\" y=\"0\" width=\"1200\" height=\"400\" style=\"fill: rgb(255, 255, 255); fill-opacity: 1;\"/><defs id=\"defs-4722fc\"><g class=\"clips\"><clipPath id=\"clip4722fcxyplot\" class=\"plotclip\"><rect width=\"1001\" height=\"260\"/></clipPath><clipPath class=\"axesclip\" id=\"clip4722fcx\"><rect x=\"80\" y=\"0\" width=\"1001\" height=\"400\"/></clipPath><clipPath class=\"axesclip\" id=\"clip4722fcy\"><rect x=\"0\" y=\"60\" width=\"1200\" height=\"260\"/></clipPath><clipPath class=\"axesclip\" id=\"clip4722fcxy\"><rect x=\"80\" y=\"60\" width=\"1001\" height=\"260\"/></clipPath></g><g class=\"gradients\"/><g class=\"patterns\"/></defs><g class=\"bglayer\"><rect class=\"bg\" x=\"80\" y=\"60\" width=\"1001\" height=\"260\" style=\"fill: rgb(229, 236, 246); fill-opacity: 1; stroke-width: 0;\"/></g><g class=\"layer-below\"><g class=\"imagelayer\"/><g class=\"shapelayer\"/></g><g class=\"cartesianlayer\"><g class=\"subplot xy\"><g class=\"layer-subplot\"><g class=\"shapelayer\"/><g class=\"imagelayer\"/></g><g class=\"minor-gridlayer\"><g class=\"x\"/><g class=\"y\"/></g><g class=\"gridlayer\"><g class=\"x\"><path class=\"xgrid crisp\" transform=\"translate(142.85,0)\" d=\"M0,60v260\" style=\"stroke: rgb(255, 255, 255); stroke-opacity: 1; stroke-width: 1px;\"/><path class=\"xgrid crisp\" transform=\"translate(268.73,0)\" d=\"M0,60v260\" style=\"stroke: rgb(255, 255, 255); stroke-opacity: 1; stroke-width: 1px;\"/><path class=\"xgrid crisp\" transform=\"translate(394.44,0)\" d=\"M0,60v260\" style=\"stroke: rgb(255, 255, 255); stroke-opacity: 1; stroke-width: 1px;\"/><path class=\"xgrid crisp\" transform=\"translate(520.3199999999999,0)\" d=\"M0,60v260\" style=\"stroke: rgb(255, 255, 255); stroke-opacity: 1; stroke-width: 1px;\"/><path class=\"xgrid crisp\" transform=\"translate(646.02,0)\" d=\"M0,60v260\" style=\"stroke: rgb(255, 255, 255); stroke-opacity: 1; stroke-width: 1px;\"/><path class=\"xgrid crisp\" transform=\"translate(771.9,0)\" d=\"M0,60v260\" style=\"stroke: rgb(255, 255, 255); stroke-opacity: 1; stroke-width: 1px;\"/><path class=\"xgrid crisp\" transform=\"translate(897.61,0)\" d=\"M0,60v260\" style=\"stroke: rgb(255, 255, 255); stroke-opacity: 1; stroke-width: 1px;\"/><path class=\"xgrid crisp\" transform=\"translate(1023.49,0)\" d=\"M0,60v260\" style=\"stroke: rgb(255, 255, 255); stroke-opacity: 1; stroke-width: 1px;\"/></g><g class=\"y\"><path class=\"ygrid crisp\" transform=\"translate(0,270.16999999999996)\" d=\"M80,0h1001\" style=\"stroke: rgb(255, 255, 255); stroke-opacity: 1; stroke-width: 1px;\"/><path class=\"ygrid crisp\" transform=\"translate(0,220)\" d=\"M80,0h1001\" style=\"stroke: rgb(255, 255, 255); stroke-opacity: 1; stroke-width: 1px;\"/><path class=\"ygrid crisp\" transform=\"translate(0,169.82999999999998)\" d=\"M80,0h1001\" style=\"stroke: rgb(255, 255, 255); stroke-opacity: 1; stroke-width: 1px;\"/><path class=\"ygrid crisp\" transform=\"translate(0,119.66)\" d=\"M80,0h1001\" style=\"stroke: rgb(255, 255, 255); stroke-opacity: 1; stroke-width: 1px;\"/><path class=\"ygrid crisp\" transform=\"translate(0,69.49)\" d=\"M80,0h1001\" style=\"stroke: rgb(255, 255, 255); stroke-opacity: 1; stroke-width: 1px;\"/></g></g><g class=\"zerolinelayer\"/><path class=\"xlines-below\"/><path class=\"ylines-below\"/><g class=\"overlines-below\"/><g class=\"xaxislayer-below\"/><g class=\"yaxislayer-below\"/><g class=\"overaxes-below\"/><g class=\"plot\" transform=\"translate(80,60)\" clip-path=\"url(#clip4722fcxyplot)\"><g class=\"scatterlayer mlayer\"><g class=\"trace scatter trace9f25f2\" style=\"stroke-miterlimit: 2; opacity: 1;\"><g class=\"fills\"/><g class=\"errorbars\"/><g class=\"lines\"><path class=\"js-line\" d=\"M0,231.85L5.34,211.88L10.16,208.97L15.5,203.65L20.66,207.57L26,204.66L31.17,207.97L36.51,206.76L41.84,189L47.01,177.26L52.35,198.73L57.51,199.84L62.85,184.39L68.19,180.37L73.19,203.35L78.52,217.3L83.69,203.25L89.03,201.34L94.19,219.41L99.53,210.68L104.87,222.42L110.04,223.42L115.37,234.16L120.54,240.58L125.88,227.93L131.22,236.46L136.04,215.89L141.38,238.17L146.54,232.35L151.88,229.94L157.05,217.9L162.38,214.79L167.72,216.3L172.89,217.7L178.23,209.87L183.39,225.53L188.73,223.92L194.07,221.21L198.89,212.88L204.23,207.46L209.4,211.38L214.73,205.66L219.9,212.58L225.24,209.27L230.58,207.16L235.74,206.16L241.08,202.45L246.25,219.1L251.58,201.04L256.92,201.54L261.74,207.57L267.08,199.24L272.25,199.94L277.59,204.15L282.75,213.49L293.43,195.62L298.6,202.55L303.93,189.5L309.1,200.34L314.44,171.34L319.78,203.85L324.77,183.98L330.11,205.56L340.61,197.43L345.78,208.17L351.12,194.02L356.45,187.3L361.62,195.62L366.96,194.42L372.12,205.96L377.46,200.44L382.8,187.6L387.62,147.66L392.96,209.57L398.13,197.03L403.47,191.91L408.63,203.55L413.97,188.5L419.31,182.08L424.47,163.82L429.81,169.84L434.98,192.31L440.32,179.77L445.65,182.48L450.48,151.57L455.81,189.9L460.98,183.68L466.32,197.63L471.48,197.93L476.82,179.47L482.16,173.15L487.33,168.83L492.66,175.46L497.83,177.16L503.17,181.28L508.51,174.05L513.33,129.7L518.67,210.58L523.83,215.49L529.17,173.25L534.34,199.94L539.68,176.06L545.01,176.56L550.18,183.78L555.52,200.54L560.68,171.14L566.02,220.81L571.36,173.65L576.35,108.73L581.69,204.35L586.86,201.95L592.2,193.52L597.36,193.32L602.7,191.41L608.04,186.19L613.21,195.83L618.54,174.65L629.05,198.33L634.39,169.54L639.21,161.01L644.55,224.32L649.71,193.82L655.05,196.33L660.22,203.45L665.55,199.74L670.89,210.88L676.06,202.05L686.56,231.15L691.9,238.87L697.24,61.87L702.06,13L707.4,212.18L712.56,157.19L717.9,137.63L723.07,41L728.41,132.71L733.75,114.95L738.91,141.34L744.25,143.35L749.42,164.72L754.75,178.87L760.09,167.33L764.91,134.42L770.25,213.28L775.42,207.87L780.76,169.94L785.92,187.6L791.26,203.05L796.6,173.85L801.76,196.03L807.1,191.81L812.27,187.7L817.61,186.59L822.94,192.11L827.94,199.14L833.28,214.99L838.44,212.88L843.78,215.89L848.95,224.02L854.29,217.3L859.62,194.32L864.79,187.1L870.13,188.4L875.29,194.72L880.63,209.47L885.97,201.04L890.79,188.6L896.13,224.02L901.3,216.09L906.63,212.38L911.8,225.43L917.14,203.35L922.48,212.78L927.64,209.17L932.98,177.76L943.49,237.67L948.82,229.24L953.64,226.33L958.98,242.38L964.15,239.78L969.49,244.19L974.65,247L979.99,225.53L985.33,230.74L990.5,218.9L995.83,203.85L1001,191.91\" style=\"vector-effect: non-scaling-stroke; fill: none; stroke: rgb(99, 110, 250); stroke-opacity: 1; stroke-width: 2px; opacity: 1;\"/></g><g class=\"points\"/><g class=\"text\"/></g><g class=\"trace scatter trace4a7687\" style=\"stroke-miterlimit: 2; opacity: 1;\"><g class=\"fills\"/><g class=\"errorbars\"/><g class=\"lines\"><path class=\"js-line\" d=\"M0,224.25L5.34,208.6L10.16,207.65L15.5,205.4L20.66,206.22L26,202.54L31.17,206.88L36.51,205.99L41.84,188.58L47.01,180.87L52.35,201.33L57.51,201.59L62.85,190.98L68.19,186.64L73.19,206.56L78.52,216.98L83.69,204.99L89.03,205.41L94.19,216.7L99.53,213.02L104.87,220.83L110.04,222.65L115.37,232.61L120.54,236.04L125.88,228.86L131.22,233.22L136.04,216.29L141.38,232.87L146.54,228.55L151.88,223.86L157.05,214.23L172.89,213.7L178.23,209.25L183.39,218.15L188.73,218.94L194.07,217.89L198.89,209.08L204.23,207.28L209.4,206.97L214.73,204.33L219.9,206.36L225.24,200.92L230.58,203.66L235.74,203.4L241.08,201.59L246.25,213.23L251.58,204.39L256.92,204.95L261.74,207.23L267.08,203.22L272.25,203.2L277.59,202.13L282.75,205.3L288.09,196.78L293.43,191.22L298.6,195.85L303.93,188.24L309.1,196.02L314.44,168.82L319.78,196.68L324.77,187.31L330.11,198.78L335.27,196.7L340.61,194.18L345.78,202.03L351.12,193.52L356.45,188.29L361.62,194.08L366.96,191.91L372.12,201.31L377.46,192.61L382.8,188.55L387.62,143.93L392.96,202.91L398.13,192.7L403.47,187.01L408.63,195.18L413.97,185.07L419.31,187L424.47,166.13L429.81,175.28L434.98,194.67L440.32,187.42L445.65,187.69L450.48,154.22L455.81,195.72L460.98,191.44L466.32,197.37L471.48,198.63L476.82,187.15L482.16,181.3L487.33,173.86L492.66,181.67L497.83,183.15L503.17,185.47L508.51,181.07L513.33,132.02L518.67,209.31L523.83,210.03L529.17,176.17L534.34,202.78L539.68,182.47L545.01,181.91L550.18,187.36L555.52,198.79L560.68,175.22L566.02,206.2L571.36,173.45L576.35,106.44L581.69,200.46L586.86,197.59L592.2,191.39L597.36,192.11L602.7,189.69L608.04,184.87L613.21,191.51L618.54,175.71L623.71,181.89L629.05,197.02L634.39,172.06L639.21,155.02L644.55,211.41L649.71,192.09L655.05,194.14L660.22,200.38L665.55,198.9L670.89,204.49L676.06,198.29L681.4,205.77L686.56,214.91L691.9,218.33L697.24,43.9L702.06,43.78L707.4,205.56L712.56,163.4L717.9,139.56L723.07,57.05L728.41,144.73L733.75,131.92L738.91,174.89L744.25,174.35L749.42,178.65L754.75,189.73L760.09,178.83L764.91,153.34L770.25,204.88L775.42,203.47L780.76,185.38L785.92,184.05L791.26,202.02L796.6,182.68L801.76,195.11L807.1,192.13L812.27,189.49L817.61,189.43L822.94,192.44L827.94,190.88L833.28,211.6L838.44,207.8L843.78,201.6L848.95,206.3L854.29,201.34L859.62,176.64L864.79,174.19L870.13,179.19L875.29,177.01L880.63,192.47L885.97,180.59L890.79,162.08L896.13,200.24L901.3,195.63L906.63,184.46L911.8,197.67L917.14,176.82L922.48,177.67L927.64,178.99L932.98,150.26L943.49,200.47L948.82,198.23L953.64,185.69L958.98,198.78L964.15,191.76L969.49,198.85L974.65,209.48L979.99,188.19L985.33,201.44L990.5,201.05L995.83,165.8L1001,155.25\" style=\"vector-effect: non-scaling-stroke; fill: none; stroke: rgb(239, 85, 59); stroke-opacity: 1; stroke-width: 2px; opacity: 1;\"/></g><g class=\"points\"/><g class=\"text\"/></g></g></g><g class=\"overplot\"/><path class=\"xlines-above crisp\" d=\"M0,0\" style=\"fill: none;\"/><path class=\"ylines-above crisp\" d=\"M0,0\" style=\"fill: none;\"/><g class=\"overlines-above\"/><g class=\"xaxislayer-above\"><g class=\"xtick\"><text text-anchor=\"middle\" x=\"0\" y=\"333\" transform=\"translate(142.85,0)\" style=\"font-family: 'Open Sans', verdana, arial, sans-serif; font-size: 12px; fill: rgb(42, 63, 95); fill-opacity: 1; white-space: pre; opacity: 1;\">2008</text></g><g class=\"xtick\"><text text-anchor=\"middle\" x=\"0\" y=\"333\" style=\"font-family: 'Open Sans', verdana, arial, sans-serif; font-size: 12px; fill: rgb(42, 63, 95); fill-opacity: 1; white-space: pre; opacity: 1;\" transform=\"translate(268.73,0)\">2010</text></g><g class=\"xtick\"><text text-anchor=\"middle\" x=\"0\" y=\"333\" style=\"font-family: 'Open Sans', verdana, arial, sans-serif; font-size: 12px; fill: rgb(42, 63, 95); fill-opacity: 1; white-space: pre; opacity: 1;\" transform=\"translate(394.44,0)\">2012</text></g><g class=\"xtick\"><text text-anchor=\"middle\" x=\"0\" y=\"333\" style=\"font-family: 'Open Sans', verdana, arial, sans-serif; font-size: 12px; fill: rgb(42, 63, 95); fill-opacity: 1; white-space: pre; opacity: 1;\" transform=\"translate(520.3199999999999,0)\">2014</text></g><g class=\"xtick\"><text text-anchor=\"middle\" x=\"0\" y=\"333\" style=\"font-family: 'Open Sans', verdana, arial, sans-serif; font-size: 12px; fill: rgb(42, 63, 95); fill-opacity: 1; white-space: pre; opacity: 1;\" transform=\"translate(646.02,0)\">2016</text></g><g class=\"xtick\"><text text-anchor=\"middle\" x=\"0\" y=\"333\" style=\"font-family: 'Open Sans', verdana, arial, sans-serif; font-size: 12px; fill: rgb(42, 63, 95); fill-opacity: 1; white-space: pre; opacity: 1;\" transform=\"translate(771.9,0)\">2018</text></g><g class=\"xtick\"><text text-anchor=\"middle\" x=\"0\" y=\"333\" style=\"font-family: 'Open Sans', verdana, arial, sans-serif; font-size: 12px; fill: rgb(42, 63, 95); fill-opacity: 1; white-space: pre; opacity: 1;\" transform=\"translate(897.61,0)\">2020</text></g><g class=\"xtick\"><text text-anchor=\"middle\" x=\"0\" y=\"333\" style=\"font-family: 'Open Sans', verdana, arial, sans-serif; font-size: 12px; fill: rgb(42, 63, 95); fill-opacity: 1; white-space: pre; opacity: 1;\" transform=\"translate(1023.49,0)\">2022</text></g></g><g class=\"yaxislayer-above\"><g class=\"ytick\"><text text-anchor=\"end\" x=\"79\" y=\"4.199999999999999\" transform=\"translate(0,270.16999999999996)\" style=\"font-family: 'Open Sans', verdana, arial, sans-serif; font-size: 12px; fill: rgb(42, 63, 95); fill-opacity: 1; white-space: pre; opacity: 1;\">500</text></g><g class=\"ytick\"><text text-anchor=\"end\" x=\"79\" y=\"4.199999999999999\" style=\"font-family: 'Open Sans', verdana, arial, sans-serif; font-size: 12px; fill: rgb(42, 63, 95); fill-opacity: 1; white-space: pre; opacity: 1;\" transform=\"translate(0,220)\">1000</text></g><g class=\"ytick\"><text text-anchor=\"end\" x=\"79\" y=\"4.199999999999999\" style=\"font-family: 'Open Sans', verdana, arial, sans-serif; font-size: 12px; fill: rgb(42, 63, 95); fill-opacity: 1; white-space: pre; opacity: 1;\" transform=\"translate(0,169.82999999999998)\">1500</text></g><g class=\"ytick\"><text text-anchor=\"end\" x=\"79\" y=\"4.199999999999999\" style=\"font-family: 'Open Sans', verdana, arial, sans-serif; font-size: 12px; fill: rgb(42, 63, 95); fill-opacity: 1; white-space: pre; opacity: 1;\" transform=\"translate(0,119.66)\">2000</text></g><g class=\"ytick\"><text text-anchor=\"end\" x=\"79\" y=\"4.199999999999999\" style=\"font-family: 'Open Sans', verdana, arial, sans-serif; font-size: 12px; fill: rgb(42, 63, 95); fill-opacity: 1; white-space: pre; opacity: 1;\" transform=\"translate(0,69.49)\">2500</text></g></g><g class=\"overaxes-above\"/></g></g><g class=\"polarlayer\"/><g class=\"smithlayer\"/><g class=\"ternarylayer\"/><g class=\"geolayer\"/><g class=\"funnelarealayer\"/><g class=\"pielayer\"/><g class=\"iciclelayer\"/><g class=\"treemaplayer\"/><g class=\"sunburstlayer\"/><g class=\"glimages\"/><defs id=\"topdefs-4722fc\"><g class=\"clips\"/><clipPath id=\"legend4722fc\"><rect width=\"87\" height=\"67\" x=\"0\" y=\"0\"/></clipPath></defs><g class=\"layer-above\"><g class=\"imagelayer\"/><g class=\"shapelayer\"><path data-index=\"0\" fill-rule=\"evenodd\" d=\"M897.61,320H1081V60H897.61Z\" clip-path=\"url(#clip4722fcx)\" style=\"opacity: 0.25; stroke: rgb(0, 0, 0); stroke-opacity: 0; fill: rgb(128, 128, 128); fill-opacity: 1; stroke-width: 0px;\"/></g></g><g class=\"infolayer\"><g class=\"legend\" pointer-events=\"all\" transform=\"translate(1101.02,60)\"><rect class=\"bg\" shape-rendering=\"crispEdges\" width=\"87\" height=\"67\" x=\"0\" y=\"0\" style=\"stroke: rgb(68, 68, 68); stroke-opacity: 1; fill: rgb(255, 255, 255); fill-opacity: 1; stroke-width: 0px;\"/><g class=\"scrollbox\" transform=\"\" clip-path=\"url(#legend4722fc)\"><text class=\"legendtitletext\" text-anchor=\"start\" x=\"2\" y=\"18.2\" style=\"font-family: 'Open Sans', verdana, arial, sans-serif; font-size: 14px; fill: rgb(42, 63, 95); fill-opacity: 1; white-space: pre;\">variable</text><g class=\"groups\" transform=\"\"><g class=\"traces\" transform=\"translate(0,32.7)\" style=\"opacity: 1;\"><text class=\"legendtext\" text-anchor=\"start\" x=\"40\" y=\"4.680000000000001\" style=\"font-family: 'Open Sans', verdana, arial, sans-serif; font-size: 12px; fill: rgb(42, 63, 95); fill-opacity: 1; white-space: pre;\">Orders</text><g class=\"layers\" style=\"opacity: 1;\"><g class=\"legendfill\"/><g class=\"legendlines\"><path class=\"js-line\" d=\"M5,0h30\" style=\"fill: none; stroke: rgb(99, 110, 250); stroke-opacity: 1; stroke-width: 2px;\"/></g><g class=\"legendsymbols\"><g class=\"legendpoints\"/></g></g><rect class=\"legendtoggle\" x=\"0\" y=\"-9.5\" width=\"81.3125\" height=\"19\" style=\"fill: rgb(0, 0, 0); fill-opacity: 0;\"/></g></g><g class=\"groups\" transform=\"\"><g class=\"traces\" transform=\"translate(0,51.7)\" style=\"opacity: 1;\"><text class=\"legendtext\" text-anchor=\"start\" x=\"40\" y=\"4.680000000000001\" style=\"font-family: 'Open Sans', verdana, arial, sans-serif; font-size: 12px; fill: rgb(42, 63, 95); fill-opacity: 1; white-space: pre;\">Label</text><g class=\"layers\" style=\"opacity: 1;\"><g class=\"legendfill\"/><g class=\"legendlines\"><path class=\"js-line\" d=\"M5,0h30\" style=\"fill: none; stroke: rgb(239, 85, 59); stroke-opacity: 1; stroke-width: 2px;\"/></g><g class=\"legendsymbols\"><g class=\"legendpoints\"/></g></g><rect class=\"legendtoggle\" x=\"0\" y=\"-9.5\" width=\"81.3125\" height=\"19\" style=\"fill: rgb(0, 0, 0); fill-opacity: 0;\"/></g></g></g><rect class=\"scrollbar\" rx=\"20\" ry=\"3\" width=\"0\" height=\"0\" x=\"0\" y=\"0\" style=\"fill: rgb(128, 139, 164); fill-opacity: 1;\"/></g><g class=\"g-gtitle\"/><g class=\"g-xtitle\"><text class=\"xtitle\" x=\"580.5\" y=\"360.3\" text-anchor=\"middle\" style=\"font-family: 'Open Sans', verdana, arial, sans-serif; font-size: 14px; fill: rgb(42, 63, 95); opacity: 1; font-weight: normal; white-space: pre;\">Date</text></g><g class=\"g-ytitle\"><text class=\"ytitle\" transform=\"rotate(-90,24.184375000000003,190)\" x=\"24.184375000000003\" y=\"190\" text-anchor=\"middle\" style=\"font-family: 'Open Sans', verdana, arial, sans-serif; font-size: 14px; fill: rgb(42, 63, 95); opacity: 1; font-weight: normal; white-space: pre;\">value</text></g></g></svg>"
     },
     "metadata": {},
     "output_type": "display_data"
    }
   ],
   "source": [
    "# Generate predictions on the original dataset\n",
    "predictions = predict_model(tuned_model, data=df)\n",
    "\n",
    "# Add a date column in the dataset\n",
    "predictions['Date'] = pd.date_range(start=start, end = end, freq = 'MS')\n",
    "\n",
    "# Line plot\n",
    "fig = px.line(predictions, x='Date', y=[dep_var, \"Label\"]) #, template = 'plotly_dark')\n",
    "\n",
    "# Add a vertical rectange for test-set separation\n",
    "fig.add_vrect(x0=start_test, x1=predictions.Date.max(), fillcolor=\"grey\", opacity=0.25, line_width=0)\n",
    "fig.update_layout(height=400, width=1200)\n",
    "fig.show()"
   ]
  },
  {
   "attachments": {},
   "cell_type": "markdown",
   "metadata": {},
   "source": [
    "#### Finalize model"
   ]
  },
  {
   "cell_type": "code",
   "execution_count": 30,
   "metadata": {},
   "outputs": [],
   "source": [
    "# Finalize the model i.e. train the best model on the entire dataset (this time, including the test set).\n",
    "final = finalize_model(tuned_model)"
   ]
  },
  {
   "cell_type": "code",
   "execution_count": 31,
   "metadata": {},
   "outputs": [
    {
     "data": {
      "text/plain": [
       "ExtraTreesRegressor(bootstrap=False, ccp_alpha=0.0, criterion='mse',\n",
       "                    max_depth=7, max_features=1.0, max_leaf_nodes=None,\n",
       "                    max_samples=None, min_impurity_decrease=0.2,\n",
       "                    min_impurity_split=None, min_samples_leaf=2,\n",
       "                    min_samples_split=2, min_weight_fraction_leaf=0.0,\n",
       "                    n_estimators=280, n_jobs=-1, oob_score=False,\n",
       "                    random_state=42, verbose=0, warm_start=False)"
      ]
     },
     "execution_count": 31,
     "metadata": {},
     "output_type": "execute_result"
    }
   ],
   "source": [
    "final"
   ]
  },
  {
   "cell_type": "code",
   "execution_count": null,
   "metadata": {},
   "outputs": [],
   "source": []
  }
 ],
 "metadata": {
  "kernelspec": {
   "display_name": "base",
   "language": "python",
   "name": "python3"
  },
  "language_info": {
   "codemirror_mode": {
    "name": "ipython",
    "version": 3
   },
   "file_extension": ".py",
   "mimetype": "text/x-python",
   "name": "python",
   "nbconvert_exporter": "python",
   "pygments_lexer": "ipython3",
   "version": "3.8.12"
  },
  "orig_nbformat": 4,
  "vscode": {
   "interpreter": {
    "hash": "ad2bdc8ecc057115af97d19610ffacc2b4e99fae6737bb82f5d7fb13d2f2c186"
   }
  }
 },
 "nbformat": 4,
 "nbformat_minor": 2
}
