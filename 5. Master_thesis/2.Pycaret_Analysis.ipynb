{
 "cells": [
  {
   "cell_type": "code",
   "execution_count": 1,
   "metadata": {},
   "outputs": [
    {
     "name": "stdout",
     "output_type": "stream",
     "text": [
      "0.23.2\n"
     ]
    }
   ],
   "source": [
    "import os\n",
    "import sys\n",
    "sys.path.insert(1,os.path.abspath('../Git_Projects/0. Not_git/Sources/scikit-learn/0.23.2'))\n",
    "import sklearn\n",
    "print(sklearn.__version__)"
   ]
  },
  {
   "attachments": {},
   "cell_type": "markdown",
   "metadata": {},
   "source": [
    "### Import libraries"
   ]
  },
  {
   "cell_type": "code",
   "execution_count": 2,
   "metadata": {},
   "outputs": [],
   "source": [
    "import pandas as pd\n",
    "import plotly.express as px\n",
    "\n",
    "from pycaret.regression import *\n",
    "\n",
    "import plotly.io as pio"
   ]
  },
  {
   "cell_type": "code",
   "execution_count": 3,
   "metadata": {},
   "outputs": [],
   "source": [
    "# To render plotly into GitHub\n",
    "pio.renderers.default = \"svg\""
   ]
  },
  {
   "attachments": {},
   "cell_type": "markdown",
   "metadata": {},
   "source": [
    "### Load Data"
   ]
  },
  {
   "cell_type": "code",
   "execution_count": 4,
   "metadata": {},
   "outputs": [],
   "source": [
    "# Input path and filename\n",
    "path = '../5. Master_thesis/Datasets/Output_files/'\n",
    "\n",
    "# Load files into a pandas dataframes\n",
    "file = path + '2.xlsx'\n",
    "df = pd.concat(pd.read_excel(file, sheet_name=None), ignore_index=True)\n",
    "\n",
    "# Dependant variable\n",
    "dep_var = 'Orders' \n",
    "\n",
    "# Set index\n",
    "df = df.set_index(\"Date\").asfreq('MS')"
   ]
  },
  {
   "cell_type": "code",
   "execution_count": 6,
   "metadata": {},
   "outputs": [
    {
     "data": {
      "text/html": [
       "<div>\n",
       "<style scoped>\n",
       "    .dataframe tbody tr th:only-of-type {\n",
       "        vertical-align: middle;\n",
       "    }\n",
       "\n",
       "    .dataframe tbody tr th {\n",
       "        vertical-align: top;\n",
       "    }\n",
       "\n",
       "    .dataframe thead th {\n",
       "        text-align: right;\n",
       "    }\n",
       "</style>\n",
       "<table border=\"1\" class=\"dataframe\">\n",
       "  <thead>\n",
       "    <tr style=\"text-align: right;\">\n",
       "      <th></th>\n",
       "      <th>Orders</th>\n",
       "      <th>CCI</th>\n",
       "      <th>CPI</th>\n",
       "      <th>Unemployment_rate</th>\n",
       "      <th>Long_term_interest_rates</th>\n",
       "      <th>Avg_Fuel_Price</th>\n",
       "      <th>TIV</th>\n",
       "      <th>Orders_rolled_detrended</th>\n",
       "      <th>TIV_rolled_detrended</th>\n",
       "      <th>Orders_lagged_12m</th>\n",
       "    </tr>\n",
       "    <tr>\n",
       "      <th>Date</th>\n",
       "      <th></th>\n",
       "      <th></th>\n",
       "      <th></th>\n",
       "      <th></th>\n",
       "      <th></th>\n",
       "      <th></th>\n",
       "      <th></th>\n",
       "      <th></th>\n",
       "      <th></th>\n",
       "      <th></th>\n",
       "    </tr>\n",
       "  </thead>\n",
       "  <tbody>\n",
       "    <tr>\n",
       "      <th>2007-01-01</th>\n",
       "      <td>998</td>\n",
       "      <td>101.0667</td>\n",
       "      <td>2.302302</td>\n",
       "      <td>7.2</td>\n",
       "      <td>4.05</td>\n",
       "      <td>1.120000</td>\n",
       "      <td>18851</td>\n",
       "      <td>70.833333</td>\n",
       "      <td>5547.500000</td>\n",
       "      <td>1124</td>\n",
       "    </tr>\n",
       "    <tr>\n",
       "      <th>2007-02-01</th>\n",
       "      <td>638</td>\n",
       "      <td>100.9806</td>\n",
       "      <td>2.184707</td>\n",
       "      <td>7.2</td>\n",
       "      <td>4.08</td>\n",
       "      <td>1.133333</td>\n",
       "      <td>11852</td>\n",
       "      <td>-252.416667</td>\n",
       "      <td>-1368.750000</td>\n",
       "      <td>1079</td>\n",
       "    </tr>\n",
       "    <tr>\n",
       "      <th>2007-03-01</th>\n",
       "      <td>649</td>\n",
       "      <td>100.9416</td>\n",
       "      <td>2.574257</td>\n",
       "      <td>7.1</td>\n",
       "      <td>3.98</td>\n",
       "      <td>1.183333</td>\n",
       "      <td>14386</td>\n",
       "      <td>-194.666667</td>\n",
       "      <td>1230.000000</td>\n",
       "      <td>1210</td>\n",
       "    </tr>\n",
       "    <tr>\n",
       "      <th>2007-04-01</th>\n",
       "      <td>753</td>\n",
       "      <td>100.9870</td>\n",
       "      <td>2.561576</td>\n",
       "      <td>6.5</td>\n",
       "      <td>4.20</td>\n",
       "      <td>1.203333</td>\n",
       "      <td>13761</td>\n",
       "      <td>-57.833333</td>\n",
       "      <td>580.916667</td>\n",
       "      <td>1147</td>\n",
       "    </tr>\n",
       "    <tr>\n",
       "      <th>2007-05-01</th>\n",
       "      <td>856</td>\n",
       "      <td>100.9911</td>\n",
       "      <td>2.362205</td>\n",
       "      <td>6.6</td>\n",
       "      <td>4.33</td>\n",
       "      <td>1.236667</td>\n",
       "      <td>14917</td>\n",
       "      <td>57.250000</td>\n",
       "      <td>1870.166667</td>\n",
       "      <td>1001</td>\n",
       "    </tr>\n",
       "  </tbody>\n",
       "</table>\n",
       "</div>"
      ],
      "text/plain": [
       "            Orders       CCI       CPI  Unemployment_rate  \\\n",
       "Date                                                        \n",
       "2007-01-01     998  101.0667  2.302302                7.2   \n",
       "2007-02-01     638  100.9806  2.184707                7.2   \n",
       "2007-03-01     649  100.9416  2.574257                7.1   \n",
       "2007-04-01     753  100.9870  2.561576                6.5   \n",
       "2007-05-01     856  100.9911  2.362205                6.6   \n",
       "\n",
       "            Long_term_interest_rates  Avg_Fuel_Price    TIV  \\\n",
       "Date                                                          \n",
       "2007-01-01                      4.05        1.120000  18851   \n",
       "2007-02-01                      4.08        1.133333  11852   \n",
       "2007-03-01                      3.98        1.183333  14386   \n",
       "2007-04-01                      4.20        1.203333  13761   \n",
       "2007-05-01                      4.33        1.236667  14917   \n",
       "\n",
       "            Orders_rolled_detrended  TIV_rolled_detrended  Orders_lagged_12m  \n",
       "Date                                                                          \n",
       "2007-01-01                70.833333           5547.500000               1124  \n",
       "2007-02-01              -252.416667          -1368.750000               1079  \n",
       "2007-03-01              -194.666667           1230.000000               1210  \n",
       "2007-04-01               -57.833333            580.916667               1147  \n",
       "2007-05-01                57.250000           1870.166667               1001  "
      ]
     },
     "execution_count": 6,
     "metadata": {},
     "output_type": "execute_result"
    }
   ],
   "source": [
    "df.head()"
   ]
  },
  {
   "attachments": {},
   "cell_type": "markdown",
   "metadata": {},
   "source": [
    "### Split Data"
   ]
  },
  {
   "cell_type": "code",
   "execution_count": 7,
   "metadata": {},
   "outputs": [
    {
     "name": "stdout",
     "output_type": "stream",
     "text": [
      "Dataset length : (n=192)\n",
      "Train dates    : 2007-01-01 00:00:00 --- 2019-12-01 00:00:00  (n=156)\n",
      "Test dates     : 2020-01-01 00:00:00 --- 2022-12-01 00:00:00  (n=36)\n"
     ]
    },
    {
     "data": {
      "text/plain": [
       "(Timestamp('2007-01-01 00:00:00', freq='MS'),\n",
       " Timestamp('2022-12-01 00:00:00', freq='MS'),\n",
       " Timestamp('2020-01-01 00:00:00', freq='MS'))"
      ]
     },
     "execution_count": 7,
     "metadata": {},
     "output_type": "execute_result"
    }
   ],
   "source": [
    "# Split data\n",
    "steps = 36  # Number of months of testing\n",
    "train = df[:-steps]\n",
    "test  = df[-steps:]\n",
    "\n",
    "print(f\"Dataset length : (n={len(df)})\")\n",
    "print(f\"Train dates    : {train.index.min()} --- {train.index.max()}  (n={len(train)})\")\n",
    "print(f\"Test dates     : {test.index.min()} --- {test.index.max()}  (n={len(test)})\")\n",
    "\n",
    "start = train.index.min()\n",
    "end = df.index.max()\n",
    "start_test = test.index.min()\n",
    "\n",
    "start, end, start_test"
   ]
  },
  {
   "attachments": {},
   "cell_type": "markdown",
   "metadata": {},
   "source": [
    "### Pycaret"
   ]
  },
  {
   "attachments": {},
   "cell_type": "markdown",
   "metadata": {},
   "source": [
    "#### Initialize"
   ]
  },
  {
   "cell_type": "code",
   "execution_count": 8,
   "metadata": {},
   "outputs": [
    {
     "data": {
      "text/html": [
       "<style type=\"text/css\">\n",
       "#T_82e35_row42_col1 {\n",
       "  background-color: lightgreen;\n",
       "}\n",
       "</style>\n",
       "<table id=\"T_82e35\">\n",
       "  <thead>\n",
       "    <tr>\n",
       "      <th class=\"blank level0\" >&nbsp;</th>\n",
       "      <th id=\"T_82e35_level0_col0\" class=\"col_heading level0 col0\" >Description</th>\n",
       "      <th id=\"T_82e35_level0_col1\" class=\"col_heading level0 col1\" >Value</th>\n",
       "    </tr>\n",
       "  </thead>\n",
       "  <tbody>\n",
       "    <tr>\n",
       "      <th id=\"T_82e35_level0_row0\" class=\"row_heading level0 row0\" >0</th>\n",
       "      <td id=\"T_82e35_row0_col0\" class=\"data row0 col0\" >session_id</td>\n",
       "      <td id=\"T_82e35_row0_col1\" class=\"data row0 col1\" >42</td>\n",
       "    </tr>\n",
       "    <tr>\n",
       "      <th id=\"T_82e35_level0_row1\" class=\"row_heading level0 row1\" >1</th>\n",
       "      <td id=\"T_82e35_row1_col0\" class=\"data row1 col0\" >Target</td>\n",
       "      <td id=\"T_82e35_row1_col1\" class=\"data row1 col1\" >Orders</td>\n",
       "    </tr>\n",
       "    <tr>\n",
       "      <th id=\"T_82e35_level0_row2\" class=\"row_heading level0 row2\" >2</th>\n",
       "      <td id=\"T_82e35_row2_col0\" class=\"data row2 col0\" >Original Data</td>\n",
       "      <td id=\"T_82e35_row2_col1\" class=\"data row2 col1\" >(156, 10)</td>\n",
       "    </tr>\n",
       "    <tr>\n",
       "      <th id=\"T_82e35_level0_row3\" class=\"row_heading level0 row3\" >3</th>\n",
       "      <td id=\"T_82e35_row3_col0\" class=\"data row3 col0\" >Missing Values</td>\n",
       "      <td id=\"T_82e35_row3_col1\" class=\"data row3 col1\" >0</td>\n",
       "    </tr>\n",
       "    <tr>\n",
       "      <th id=\"T_82e35_level0_row4\" class=\"row_heading level0 row4\" >4</th>\n",
       "      <td id=\"T_82e35_row4_col0\" class=\"data row4 col0\" >Numeric Features</td>\n",
       "      <td id=\"T_82e35_row4_col1\" class=\"data row4 col1\" >9</td>\n",
       "    </tr>\n",
       "    <tr>\n",
       "      <th id=\"T_82e35_level0_row5\" class=\"row_heading level0 row5\" >5</th>\n",
       "      <td id=\"T_82e35_row5_col0\" class=\"data row5 col0\" >Categorical Features</td>\n",
       "      <td id=\"T_82e35_row5_col1\" class=\"data row5 col1\" >0</td>\n",
       "    </tr>\n",
       "    <tr>\n",
       "      <th id=\"T_82e35_level0_row6\" class=\"row_heading level0 row6\" >6</th>\n",
       "      <td id=\"T_82e35_row6_col0\" class=\"data row6 col0\" >Ordinal Features</td>\n",
       "      <td id=\"T_82e35_row6_col1\" class=\"data row6 col1\" >0</td>\n",
       "    </tr>\n",
       "    <tr>\n",
       "      <th id=\"T_82e35_level0_row7\" class=\"row_heading level0 row7\" >7</th>\n",
       "      <td id=\"T_82e35_row7_col0\" class=\"data row7 col0\" >High Cardinality Features</td>\n",
       "      <td id=\"T_82e35_row7_col1\" class=\"data row7 col1\" >0</td>\n",
       "    </tr>\n",
       "    <tr>\n",
       "      <th id=\"T_82e35_level0_row8\" class=\"row_heading level0 row8\" >8</th>\n",
       "      <td id=\"T_82e35_row8_col0\" class=\"data row8 col0\" >High Cardinality Method</td>\n",
       "      <td id=\"T_82e35_row8_col1\" class=\"data row8 col1\" >None</td>\n",
       "    </tr>\n",
       "    <tr>\n",
       "      <th id=\"T_82e35_level0_row9\" class=\"row_heading level0 row9\" >9</th>\n",
       "      <td id=\"T_82e35_row9_col0\" class=\"data row9 col0\" >Transformed Train Set</td>\n",
       "      <td id=\"T_82e35_row9_col1\" class=\"data row9 col1\" >(156, 9)</td>\n",
       "    </tr>\n",
       "    <tr>\n",
       "      <th id=\"T_82e35_level0_row10\" class=\"row_heading level0 row10\" >10</th>\n",
       "      <td id=\"T_82e35_row10_col0\" class=\"data row10 col0\" >Transformed Test Set</td>\n",
       "      <td id=\"T_82e35_row10_col1\" class=\"data row10 col1\" >(36, 9)</td>\n",
       "    </tr>\n",
       "    <tr>\n",
       "      <th id=\"T_82e35_level0_row11\" class=\"row_heading level0 row11\" >11</th>\n",
       "      <td id=\"T_82e35_row11_col0\" class=\"data row11 col0\" >Shuffle Train-Test</td>\n",
       "      <td id=\"T_82e35_row11_col1\" class=\"data row11 col1\" >False</td>\n",
       "    </tr>\n",
       "    <tr>\n",
       "      <th id=\"T_82e35_level0_row12\" class=\"row_heading level0 row12\" >12</th>\n",
       "      <td id=\"T_82e35_row12_col0\" class=\"data row12 col0\" >Stratify Train-Test</td>\n",
       "      <td id=\"T_82e35_row12_col1\" class=\"data row12 col1\" >False</td>\n",
       "    </tr>\n",
       "    <tr>\n",
       "      <th id=\"T_82e35_level0_row13\" class=\"row_heading level0 row13\" >13</th>\n",
       "      <td id=\"T_82e35_row13_col0\" class=\"data row13 col0\" >Fold Generator</td>\n",
       "      <td id=\"T_82e35_row13_col1\" class=\"data row13 col1\" >TimeSeriesSplit</td>\n",
       "    </tr>\n",
       "    <tr>\n",
       "      <th id=\"T_82e35_level0_row14\" class=\"row_heading level0 row14\" >14</th>\n",
       "      <td id=\"T_82e35_row14_col0\" class=\"data row14 col0\" >Fold Number</td>\n",
       "      <td id=\"T_82e35_row14_col1\" class=\"data row14 col1\" >10</td>\n",
       "    </tr>\n",
       "    <tr>\n",
       "      <th id=\"T_82e35_level0_row15\" class=\"row_heading level0 row15\" >15</th>\n",
       "      <td id=\"T_82e35_row15_col0\" class=\"data row15 col0\" >CPU Jobs</td>\n",
       "      <td id=\"T_82e35_row15_col1\" class=\"data row15 col1\" >-1</td>\n",
       "    </tr>\n",
       "    <tr>\n",
       "      <th id=\"T_82e35_level0_row16\" class=\"row_heading level0 row16\" >16</th>\n",
       "      <td id=\"T_82e35_row16_col0\" class=\"data row16 col0\" >Use GPU</td>\n",
       "      <td id=\"T_82e35_row16_col1\" class=\"data row16 col1\" >0</td>\n",
       "    </tr>\n",
       "    <tr>\n",
       "      <th id=\"T_82e35_level0_row17\" class=\"row_heading level0 row17\" >17</th>\n",
       "      <td id=\"T_82e35_row17_col0\" class=\"data row17 col0\" >Log Experiment</td>\n",
       "      <td id=\"T_82e35_row17_col1\" class=\"data row17 col1\" >0</td>\n",
       "    </tr>\n",
       "    <tr>\n",
       "      <th id=\"T_82e35_level0_row18\" class=\"row_heading level0 row18\" >18</th>\n",
       "      <td id=\"T_82e35_row18_col0\" class=\"data row18 col0\" >Experiment Name</td>\n",
       "      <td id=\"T_82e35_row18_col1\" class=\"data row18 col1\" >reg-default-name</td>\n",
       "    </tr>\n",
       "    <tr>\n",
       "      <th id=\"T_82e35_level0_row19\" class=\"row_heading level0 row19\" >19</th>\n",
       "      <td id=\"T_82e35_row19_col0\" class=\"data row19 col0\" >USI</td>\n",
       "      <td id=\"T_82e35_row19_col1\" class=\"data row19 col1\" >3f4f</td>\n",
       "    </tr>\n",
       "    <tr>\n",
       "      <th id=\"T_82e35_level0_row20\" class=\"row_heading level0 row20\" >20</th>\n",
       "      <td id=\"T_82e35_row20_col0\" class=\"data row20 col0\" >Imputation Type</td>\n",
       "      <td id=\"T_82e35_row20_col1\" class=\"data row20 col1\" >simple</td>\n",
       "    </tr>\n",
       "    <tr>\n",
       "      <th id=\"T_82e35_level0_row21\" class=\"row_heading level0 row21\" >21</th>\n",
       "      <td id=\"T_82e35_row21_col0\" class=\"data row21 col0\" >Iterative Imputation Iteration</td>\n",
       "      <td id=\"T_82e35_row21_col1\" class=\"data row21 col1\" >None</td>\n",
       "    </tr>\n",
       "    <tr>\n",
       "      <th id=\"T_82e35_level0_row22\" class=\"row_heading level0 row22\" >22</th>\n",
       "      <td id=\"T_82e35_row22_col0\" class=\"data row22 col0\" >Numeric Imputer</td>\n",
       "      <td id=\"T_82e35_row22_col1\" class=\"data row22 col1\" >mean</td>\n",
       "    </tr>\n",
       "    <tr>\n",
       "      <th id=\"T_82e35_level0_row23\" class=\"row_heading level0 row23\" >23</th>\n",
       "      <td id=\"T_82e35_row23_col0\" class=\"data row23 col0\" >Iterative Imputation Numeric Model</td>\n",
       "      <td id=\"T_82e35_row23_col1\" class=\"data row23 col1\" >None</td>\n",
       "    </tr>\n",
       "    <tr>\n",
       "      <th id=\"T_82e35_level0_row24\" class=\"row_heading level0 row24\" >24</th>\n",
       "      <td id=\"T_82e35_row24_col0\" class=\"data row24 col0\" >Categorical Imputer</td>\n",
       "      <td id=\"T_82e35_row24_col1\" class=\"data row24 col1\" >constant</td>\n",
       "    </tr>\n",
       "    <tr>\n",
       "      <th id=\"T_82e35_level0_row25\" class=\"row_heading level0 row25\" >25</th>\n",
       "      <td id=\"T_82e35_row25_col0\" class=\"data row25 col0\" >Iterative Imputation Categorical Model</td>\n",
       "      <td id=\"T_82e35_row25_col1\" class=\"data row25 col1\" >None</td>\n",
       "    </tr>\n",
       "    <tr>\n",
       "      <th id=\"T_82e35_level0_row26\" class=\"row_heading level0 row26\" >26</th>\n",
       "      <td id=\"T_82e35_row26_col0\" class=\"data row26 col0\" >Unknown Categoricals Handling</td>\n",
       "      <td id=\"T_82e35_row26_col1\" class=\"data row26 col1\" >least_frequent</td>\n",
       "    </tr>\n",
       "    <tr>\n",
       "      <th id=\"T_82e35_level0_row27\" class=\"row_heading level0 row27\" >27</th>\n",
       "      <td id=\"T_82e35_row27_col0\" class=\"data row27 col0\" >Normalize</td>\n",
       "      <td id=\"T_82e35_row27_col1\" class=\"data row27 col1\" >0</td>\n",
       "    </tr>\n",
       "    <tr>\n",
       "      <th id=\"T_82e35_level0_row28\" class=\"row_heading level0 row28\" >28</th>\n",
       "      <td id=\"T_82e35_row28_col0\" class=\"data row28 col0\" >Normalize Method</td>\n",
       "      <td id=\"T_82e35_row28_col1\" class=\"data row28 col1\" >None</td>\n",
       "    </tr>\n",
       "    <tr>\n",
       "      <th id=\"T_82e35_level0_row29\" class=\"row_heading level0 row29\" >29</th>\n",
       "      <td id=\"T_82e35_row29_col0\" class=\"data row29 col0\" >Transformation</td>\n",
       "      <td id=\"T_82e35_row29_col1\" class=\"data row29 col1\" >0</td>\n",
       "    </tr>\n",
       "    <tr>\n",
       "      <th id=\"T_82e35_level0_row30\" class=\"row_heading level0 row30\" >30</th>\n",
       "      <td id=\"T_82e35_row30_col0\" class=\"data row30 col0\" >Transformation Method</td>\n",
       "      <td id=\"T_82e35_row30_col1\" class=\"data row30 col1\" >None</td>\n",
       "    </tr>\n",
       "    <tr>\n",
       "      <th id=\"T_82e35_level0_row31\" class=\"row_heading level0 row31\" >31</th>\n",
       "      <td id=\"T_82e35_row31_col0\" class=\"data row31 col0\" >PCA</td>\n",
       "      <td id=\"T_82e35_row31_col1\" class=\"data row31 col1\" >0</td>\n",
       "    </tr>\n",
       "    <tr>\n",
       "      <th id=\"T_82e35_level0_row32\" class=\"row_heading level0 row32\" >32</th>\n",
       "      <td id=\"T_82e35_row32_col0\" class=\"data row32 col0\" >PCA Method</td>\n",
       "      <td id=\"T_82e35_row32_col1\" class=\"data row32 col1\" >None</td>\n",
       "    </tr>\n",
       "    <tr>\n",
       "      <th id=\"T_82e35_level0_row33\" class=\"row_heading level0 row33\" >33</th>\n",
       "      <td id=\"T_82e35_row33_col0\" class=\"data row33 col0\" >PCA Components</td>\n",
       "      <td id=\"T_82e35_row33_col1\" class=\"data row33 col1\" >None</td>\n",
       "    </tr>\n",
       "    <tr>\n",
       "      <th id=\"T_82e35_level0_row34\" class=\"row_heading level0 row34\" >34</th>\n",
       "      <td id=\"T_82e35_row34_col0\" class=\"data row34 col0\" >Ignore Low Variance</td>\n",
       "      <td id=\"T_82e35_row34_col1\" class=\"data row34 col1\" >0</td>\n",
       "    </tr>\n",
       "    <tr>\n",
       "      <th id=\"T_82e35_level0_row35\" class=\"row_heading level0 row35\" >35</th>\n",
       "      <td id=\"T_82e35_row35_col0\" class=\"data row35 col0\" >Combine Rare Levels</td>\n",
       "      <td id=\"T_82e35_row35_col1\" class=\"data row35 col1\" >0</td>\n",
       "    </tr>\n",
       "    <tr>\n",
       "      <th id=\"T_82e35_level0_row36\" class=\"row_heading level0 row36\" >36</th>\n",
       "      <td id=\"T_82e35_row36_col0\" class=\"data row36 col0\" >Rare Level Threshold</td>\n",
       "      <td id=\"T_82e35_row36_col1\" class=\"data row36 col1\" >None</td>\n",
       "    </tr>\n",
       "    <tr>\n",
       "      <th id=\"T_82e35_level0_row37\" class=\"row_heading level0 row37\" >37</th>\n",
       "      <td id=\"T_82e35_row37_col0\" class=\"data row37 col0\" >Numeric Binning</td>\n",
       "      <td id=\"T_82e35_row37_col1\" class=\"data row37 col1\" >0</td>\n",
       "    </tr>\n",
       "    <tr>\n",
       "      <th id=\"T_82e35_level0_row38\" class=\"row_heading level0 row38\" >38</th>\n",
       "      <td id=\"T_82e35_row38_col0\" class=\"data row38 col0\" >Remove Outliers</td>\n",
       "      <td id=\"T_82e35_row38_col1\" class=\"data row38 col1\" >0</td>\n",
       "    </tr>\n",
       "    <tr>\n",
       "      <th id=\"T_82e35_level0_row39\" class=\"row_heading level0 row39\" >39</th>\n",
       "      <td id=\"T_82e35_row39_col0\" class=\"data row39 col0\" >Outliers Threshold</td>\n",
       "      <td id=\"T_82e35_row39_col1\" class=\"data row39 col1\" >None</td>\n",
       "    </tr>\n",
       "    <tr>\n",
       "      <th id=\"T_82e35_level0_row40\" class=\"row_heading level0 row40\" >40</th>\n",
       "      <td id=\"T_82e35_row40_col0\" class=\"data row40 col0\" >Remove Multicollinearity</td>\n",
       "      <td id=\"T_82e35_row40_col1\" class=\"data row40 col1\" >0</td>\n",
       "    </tr>\n",
       "    <tr>\n",
       "      <th id=\"T_82e35_level0_row41\" class=\"row_heading level0 row41\" >41</th>\n",
       "      <td id=\"T_82e35_row41_col0\" class=\"data row41 col0\" >Multicollinearity Threshold</td>\n",
       "      <td id=\"T_82e35_row41_col1\" class=\"data row41 col1\" >None</td>\n",
       "    </tr>\n",
       "    <tr>\n",
       "      <th id=\"T_82e35_level0_row42\" class=\"row_heading level0 row42\" >42</th>\n",
       "      <td id=\"T_82e35_row42_col0\" class=\"data row42 col0\" >Remove Perfect Collinearity</td>\n",
       "      <td id=\"T_82e35_row42_col1\" class=\"data row42 col1\" >1</td>\n",
       "    </tr>\n",
       "    <tr>\n",
       "      <th id=\"T_82e35_level0_row43\" class=\"row_heading level0 row43\" >43</th>\n",
       "      <td id=\"T_82e35_row43_col0\" class=\"data row43 col0\" >Clustering</td>\n",
       "      <td id=\"T_82e35_row43_col1\" class=\"data row43 col1\" >0</td>\n",
       "    </tr>\n",
       "    <tr>\n",
       "      <th id=\"T_82e35_level0_row44\" class=\"row_heading level0 row44\" >44</th>\n",
       "      <td id=\"T_82e35_row44_col0\" class=\"data row44 col0\" >Clustering Iteration</td>\n",
       "      <td id=\"T_82e35_row44_col1\" class=\"data row44 col1\" >None</td>\n",
       "    </tr>\n",
       "    <tr>\n",
       "      <th id=\"T_82e35_level0_row45\" class=\"row_heading level0 row45\" >45</th>\n",
       "      <td id=\"T_82e35_row45_col0\" class=\"data row45 col0\" >Polynomial Features</td>\n",
       "      <td id=\"T_82e35_row45_col1\" class=\"data row45 col1\" >0</td>\n",
       "    </tr>\n",
       "    <tr>\n",
       "      <th id=\"T_82e35_level0_row46\" class=\"row_heading level0 row46\" >46</th>\n",
       "      <td id=\"T_82e35_row46_col0\" class=\"data row46 col0\" >Polynomial Degree</td>\n",
       "      <td id=\"T_82e35_row46_col1\" class=\"data row46 col1\" >None</td>\n",
       "    </tr>\n",
       "    <tr>\n",
       "      <th id=\"T_82e35_level0_row47\" class=\"row_heading level0 row47\" >47</th>\n",
       "      <td id=\"T_82e35_row47_col0\" class=\"data row47 col0\" >Trignometry Features</td>\n",
       "      <td id=\"T_82e35_row47_col1\" class=\"data row47 col1\" >0</td>\n",
       "    </tr>\n",
       "    <tr>\n",
       "      <th id=\"T_82e35_level0_row48\" class=\"row_heading level0 row48\" >48</th>\n",
       "      <td id=\"T_82e35_row48_col0\" class=\"data row48 col0\" >Polynomial Threshold</td>\n",
       "      <td id=\"T_82e35_row48_col1\" class=\"data row48 col1\" >None</td>\n",
       "    </tr>\n",
       "    <tr>\n",
       "      <th id=\"T_82e35_level0_row49\" class=\"row_heading level0 row49\" >49</th>\n",
       "      <td id=\"T_82e35_row49_col0\" class=\"data row49 col0\" >Group Features</td>\n",
       "      <td id=\"T_82e35_row49_col1\" class=\"data row49 col1\" >0</td>\n",
       "    </tr>\n",
       "    <tr>\n",
       "      <th id=\"T_82e35_level0_row50\" class=\"row_heading level0 row50\" >50</th>\n",
       "      <td id=\"T_82e35_row50_col0\" class=\"data row50 col0\" >Feature Selection</td>\n",
       "      <td id=\"T_82e35_row50_col1\" class=\"data row50 col1\" >0</td>\n",
       "    </tr>\n",
       "    <tr>\n",
       "      <th id=\"T_82e35_level0_row51\" class=\"row_heading level0 row51\" >51</th>\n",
       "      <td id=\"T_82e35_row51_col0\" class=\"data row51 col0\" >Feature Selection Method</td>\n",
       "      <td id=\"T_82e35_row51_col1\" class=\"data row51 col1\" >classic</td>\n",
       "    </tr>\n",
       "    <tr>\n",
       "      <th id=\"T_82e35_level0_row52\" class=\"row_heading level0 row52\" >52</th>\n",
       "      <td id=\"T_82e35_row52_col0\" class=\"data row52 col0\" >Features Selection Threshold</td>\n",
       "      <td id=\"T_82e35_row52_col1\" class=\"data row52 col1\" >None</td>\n",
       "    </tr>\n",
       "    <tr>\n",
       "      <th id=\"T_82e35_level0_row53\" class=\"row_heading level0 row53\" >53</th>\n",
       "      <td id=\"T_82e35_row53_col0\" class=\"data row53 col0\" >Feature Interaction</td>\n",
       "      <td id=\"T_82e35_row53_col1\" class=\"data row53 col1\" >0</td>\n",
       "    </tr>\n",
       "    <tr>\n",
       "      <th id=\"T_82e35_level0_row54\" class=\"row_heading level0 row54\" >54</th>\n",
       "      <td id=\"T_82e35_row54_col0\" class=\"data row54 col0\" >Feature Ratio</td>\n",
       "      <td id=\"T_82e35_row54_col1\" class=\"data row54 col1\" >0</td>\n",
       "    </tr>\n",
       "    <tr>\n",
       "      <th id=\"T_82e35_level0_row55\" class=\"row_heading level0 row55\" >55</th>\n",
       "      <td id=\"T_82e35_row55_col0\" class=\"data row55 col0\" >Interaction Threshold</td>\n",
       "      <td id=\"T_82e35_row55_col1\" class=\"data row55 col1\" >None</td>\n",
       "    </tr>\n",
       "    <tr>\n",
       "      <th id=\"T_82e35_level0_row56\" class=\"row_heading level0 row56\" >56</th>\n",
       "      <td id=\"T_82e35_row56_col0\" class=\"data row56 col0\" >Transform Target</td>\n",
       "      <td id=\"T_82e35_row56_col1\" class=\"data row56 col1\" >0</td>\n",
       "    </tr>\n",
       "    <tr>\n",
       "      <th id=\"T_82e35_level0_row57\" class=\"row_heading level0 row57\" >57</th>\n",
       "      <td id=\"T_82e35_row57_col0\" class=\"data row57 col0\" >Transform Target Method</td>\n",
       "      <td id=\"T_82e35_row57_col1\" class=\"data row57 col1\" >box-cox</td>\n",
       "    </tr>\n",
       "  </tbody>\n",
       "</table>\n"
      ],
      "text/plain": [
       "<pandas.io.formats.style.Styler at 0x2bf1a5dc880>"
      ]
     },
     "metadata": {},
     "output_type": "display_data"
    }
   ],
   "source": [
    "# Initialize setup\n",
    "s = setup(    \n",
    "    data = train, \n",
    "    test_data = test, \n",
    "    target = dep_var, \n",
    "    preprocess=True,  \n",
    "    fold_strategy = 'timeseries', \n",
    "    transform_target = False, \n",
    "    data_split_shuffle=False,\n",
    "    session_id = 42)"
   ]
  },
  {
   "cell_type": "code",
   "execution_count": 9,
   "metadata": {},
   "outputs": [],
   "source": [
    "# Review the transformed dataset\n",
    "prep_pipe = get_config('prep_pipe') \n",
    "transformed_df = prep_pipe.transform(df) "
   ]
  },
  {
   "cell_type": "code",
   "execution_count": 11,
   "metadata": {},
   "outputs": [
    {
     "data": {
      "text/html": [
       "<div>\n",
       "<style scoped>\n",
       "    .dataframe tbody tr th:only-of-type {\n",
       "        vertical-align: middle;\n",
       "    }\n",
       "\n",
       "    .dataframe tbody tr th {\n",
       "        vertical-align: top;\n",
       "    }\n",
       "\n",
       "    .dataframe thead th {\n",
       "        text-align: right;\n",
       "    }\n",
       "</style>\n",
       "<table border=\"1\" class=\"dataframe\">\n",
       "  <thead>\n",
       "    <tr style=\"text-align: right;\">\n",
       "      <th></th>\n",
       "      <th>CCI</th>\n",
       "      <th>CPI</th>\n",
       "      <th>Unemployment_rate</th>\n",
       "      <th>Long_term_interest_rates</th>\n",
       "      <th>Avg_Fuel_Price</th>\n",
       "      <th>TIV</th>\n",
       "      <th>Orders_rolled_detrended</th>\n",
       "      <th>TIV_rolled_detrended</th>\n",
       "      <th>Orders_lagged_12m</th>\n",
       "    </tr>\n",
       "    <tr>\n",
       "      <th>Date</th>\n",
       "      <th></th>\n",
       "      <th></th>\n",
       "      <th></th>\n",
       "      <th></th>\n",
       "      <th></th>\n",
       "      <th></th>\n",
       "      <th></th>\n",
       "      <th></th>\n",
       "      <th></th>\n",
       "    </tr>\n",
       "  </thead>\n",
       "  <tbody>\n",
       "    <tr>\n",
       "      <th>2007-01-01</th>\n",
       "      <td>101.066704</td>\n",
       "      <td>2.302302</td>\n",
       "      <td>7.2</td>\n",
       "      <td>4.050000</td>\n",
       "      <td>1.120000</td>\n",
       "      <td>18851.0</td>\n",
       "      <td>70.833336</td>\n",
       "      <td>5547.500000</td>\n",
       "      <td>1124.0</td>\n",
       "    </tr>\n",
       "    <tr>\n",
       "      <th>2007-02-01</th>\n",
       "      <td>100.980598</td>\n",
       "      <td>2.184707</td>\n",
       "      <td>7.2</td>\n",
       "      <td>4.080000</td>\n",
       "      <td>1.133333</td>\n",
       "      <td>11852.0</td>\n",
       "      <td>-252.416672</td>\n",
       "      <td>-1368.750000</td>\n",
       "      <td>1079.0</td>\n",
       "    </tr>\n",
       "    <tr>\n",
       "      <th>2007-03-01</th>\n",
       "      <td>100.941597</td>\n",
       "      <td>2.574257</td>\n",
       "      <td>7.1</td>\n",
       "      <td>3.980000</td>\n",
       "      <td>1.183333</td>\n",
       "      <td>14386.0</td>\n",
       "      <td>-194.666672</td>\n",
       "      <td>1230.000000</td>\n",
       "      <td>1210.0</td>\n",
       "    </tr>\n",
       "    <tr>\n",
       "      <th>2007-04-01</th>\n",
       "      <td>100.987000</td>\n",
       "      <td>2.561576</td>\n",
       "      <td>6.5</td>\n",
       "      <td>4.200000</td>\n",
       "      <td>1.203333</td>\n",
       "      <td>13761.0</td>\n",
       "      <td>-57.833332</td>\n",
       "      <td>580.916687</td>\n",
       "      <td>1147.0</td>\n",
       "    </tr>\n",
       "    <tr>\n",
       "      <th>2007-05-01</th>\n",
       "      <td>100.991096</td>\n",
       "      <td>2.362205</td>\n",
       "      <td>6.6</td>\n",
       "      <td>4.330000</td>\n",
       "      <td>1.236667</td>\n",
       "      <td>14917.0</td>\n",
       "      <td>57.250000</td>\n",
       "      <td>1870.166626</td>\n",
       "      <td>1001.0</td>\n",
       "    </tr>\n",
       "    <tr>\n",
       "      <th>...</th>\n",
       "      <td>...</td>\n",
       "      <td>...</td>\n",
       "      <td>...</td>\n",
       "      <td>...</td>\n",
       "      <td>...</td>\n",
       "      <td>...</td>\n",
       "      <td>...</td>\n",
       "      <td>...</td>\n",
       "      <td>...</td>\n",
       "    </tr>\n",
       "    <tr>\n",
       "      <th>2022-08-01</th>\n",
       "      <td>94.580208</td>\n",
       "      <td>7.616082</td>\n",
       "      <td>7.2</td>\n",
       "      <td>1.624904</td>\n",
       "      <td>2.153333</td>\n",
       "      <td>8163.0</td>\n",
       "      <td>-0.916667</td>\n",
       "      <td>369.500000</td>\n",
       "      <td>256.0</td>\n",
       "    </tr>\n",
       "    <tr>\n",
       "      <th>2022-09-01</th>\n",
       "      <td>94.107536</td>\n",
       "      <td>8.119296</td>\n",
       "      <td>7.3</td>\n",
       "      <td>2.420836</td>\n",
       "      <td>2.133333</td>\n",
       "      <td>7867.0</td>\n",
       "      <td>-24.333334</td>\n",
       "      <td>50.750000</td>\n",
       "      <td>259.0</td>\n",
       "    </tr>\n",
       "    <tr>\n",
       "      <th>2022-10-01</th>\n",
       "      <td>93.961418</td>\n",
       "      <td>8.310766</td>\n",
       "      <td>6.4</td>\n",
       "      <td>2.894486</td>\n",
       "      <td>2.136667</td>\n",
       "      <td>7132.0</td>\n",
       "      <td>-65.166664</td>\n",
       "      <td>-648.916687</td>\n",
       "      <td>178.0</td>\n",
       "    </tr>\n",
       "    <tr>\n",
       "      <th>2022-11-01</th>\n",
       "      <td>94.091637</td>\n",
       "      <td>9.138235</td>\n",
       "      <td>6.7</td>\n",
       "      <td>2.691082</td>\n",
       "      <td>2.173333</td>\n",
       "      <td>7337.0</td>\n",
       "      <td>-34.583332</td>\n",
       "      <td>-423.166656</td>\n",
       "      <td>379.0</td>\n",
       "    </tr>\n",
       "    <tr>\n",
       "      <th>2022-12-01</th>\n",
       "      <td>94.479759</td>\n",
       "      <td>9.145037</td>\n",
       "      <td>7.2</td>\n",
       "      <td>2.706710</td>\n",
       "      <td>1.940000</td>\n",
       "      <td>7248.0</td>\n",
       "      <td>121.916664</td>\n",
       "      <td>-492.916656</td>\n",
       "      <td>256.0</td>\n",
       "    </tr>\n",
       "  </tbody>\n",
       "</table>\n",
       "<p>192 rows × 9 columns</p>\n",
       "</div>"
      ],
      "text/plain": [
       "                   CCI       CPI  Unemployment_rate  Long_term_interest_rates  \\\n",
       "Date                                                                            \n",
       "2007-01-01  101.066704  2.302302                7.2                  4.050000   \n",
       "2007-02-01  100.980598  2.184707                7.2                  4.080000   \n",
       "2007-03-01  100.941597  2.574257                7.1                  3.980000   \n",
       "2007-04-01  100.987000  2.561576                6.5                  4.200000   \n",
       "2007-05-01  100.991096  2.362205                6.6                  4.330000   \n",
       "...                ...       ...                ...                       ...   \n",
       "2022-08-01   94.580208  7.616082                7.2                  1.624904   \n",
       "2022-09-01   94.107536  8.119296                7.3                  2.420836   \n",
       "2022-10-01   93.961418  8.310766                6.4                  2.894486   \n",
       "2022-11-01   94.091637  9.138235                6.7                  2.691082   \n",
       "2022-12-01   94.479759  9.145037                7.2                  2.706710   \n",
       "\n",
       "            Avg_Fuel_Price      TIV  Orders_rolled_detrended  \\\n",
       "Date                                                           \n",
       "2007-01-01        1.120000  18851.0                70.833336   \n",
       "2007-02-01        1.133333  11852.0              -252.416672   \n",
       "2007-03-01        1.183333  14386.0              -194.666672   \n",
       "2007-04-01        1.203333  13761.0               -57.833332   \n",
       "2007-05-01        1.236667  14917.0                57.250000   \n",
       "...                    ...      ...                      ...   \n",
       "2022-08-01        2.153333   8163.0                -0.916667   \n",
       "2022-09-01        2.133333   7867.0               -24.333334   \n",
       "2022-10-01        2.136667   7132.0               -65.166664   \n",
       "2022-11-01        2.173333   7337.0               -34.583332   \n",
       "2022-12-01        1.940000   7248.0               121.916664   \n",
       "\n",
       "            TIV_rolled_detrended  Orders_lagged_12m  \n",
       "Date                                                 \n",
       "2007-01-01           5547.500000             1124.0  \n",
       "2007-02-01          -1368.750000             1079.0  \n",
       "2007-03-01           1230.000000             1210.0  \n",
       "2007-04-01            580.916687             1147.0  \n",
       "2007-05-01           1870.166626             1001.0  \n",
       "...                          ...                ...  \n",
       "2022-08-01            369.500000              256.0  \n",
       "2022-09-01             50.750000              259.0  \n",
       "2022-10-01           -648.916687              178.0  \n",
       "2022-11-01           -423.166656              379.0  \n",
       "2022-12-01           -492.916656              256.0  \n",
       "\n",
       "[192 rows x 9 columns]"
      ]
     },
     "execution_count": 11,
     "metadata": {},
     "output_type": "execute_result"
    }
   ],
   "source": [
    "transformed_df"
   ]
  },
  {
   "cell_type": "code",
   "execution_count": 12,
   "metadata": {},
   "outputs": [
    {
     "data": {
      "text/plain": [
       "Index(['CCI', 'CPI', 'Unemployment_rate', 'Long_term_interest_rates',\n",
       "       'Avg_Fuel_Price', 'TIV', 'Orders_rolled_detrended',\n",
       "       'TIV_rolled_detrended', 'Orders_lagged_12m'],\n",
       "      dtype='object')"
      ]
     },
     "execution_count": 12,
     "metadata": {},
     "output_type": "execute_result"
    }
   ],
   "source": [
    "transformed_df.columns"
   ]
  },
  {
   "cell_type": "code",
   "execution_count": 13,
   "metadata": {},
   "outputs": [
    {
     "data": {
      "text/plain": [
       "Index(['Orders', 'CCI', 'CPI', 'Unemployment_rate', 'Long_term_interest_rates',\n",
       "       'Avg_Fuel_Price', 'TIV', 'Orders_rolled_detrended',\n",
       "       'TIV_rolled_detrended', 'Orders_lagged_12m'],\n",
       "      dtype='object')"
      ]
     },
     "execution_count": 13,
     "metadata": {},
     "output_type": "execute_result"
    }
   ],
   "source": [
    "df.columns"
   ]
  },
  {
   "attachments": {},
   "cell_type": "markdown",
   "metadata": {},
   "source": [
    "#### Model comparison"
   ]
  },
  {
   "cell_type": "code",
   "execution_count": 14,
   "metadata": {},
   "outputs": [
    {
     "data": {
      "text/html": [
       "<style type=\"text/css\">\n",
       "#T_acef6 th {\n",
       "  text-align: left;\n",
       "}\n",
       "#T_acef6_row0_col0, #T_acef6_row1_col0, #T_acef6_row1_col1, #T_acef6_row1_col2, #T_acef6_row1_col3, #T_acef6_row1_col4, #T_acef6_row1_col5, #T_acef6_row1_col6, #T_acef6_row2_col0, #T_acef6_row2_col1, #T_acef6_row2_col2, #T_acef6_row2_col3, #T_acef6_row2_col4, #T_acef6_row2_col5, #T_acef6_row2_col6, #T_acef6_row3_col0, #T_acef6_row3_col1, #T_acef6_row3_col2, #T_acef6_row3_col3, #T_acef6_row3_col4, #T_acef6_row3_col5, #T_acef6_row3_col6, #T_acef6_row4_col0, #T_acef6_row4_col1, #T_acef6_row4_col2, #T_acef6_row4_col3, #T_acef6_row4_col4, #T_acef6_row4_col5, #T_acef6_row4_col6, #T_acef6_row5_col0, #T_acef6_row5_col1, #T_acef6_row5_col2, #T_acef6_row5_col3, #T_acef6_row5_col4, #T_acef6_row5_col5, #T_acef6_row5_col6, #T_acef6_row6_col0, #T_acef6_row6_col1, #T_acef6_row6_col2, #T_acef6_row6_col3, #T_acef6_row6_col4, #T_acef6_row6_col5, #T_acef6_row6_col6 {\n",
       "  text-align: left;\n",
       "}\n",
       "#T_acef6_row0_col1, #T_acef6_row0_col2, #T_acef6_row0_col3, #T_acef6_row0_col4, #T_acef6_row0_col5, #T_acef6_row0_col6 {\n",
       "  text-align: left;\n",
       "  background-color: yellow;\n",
       "}\n",
       "#T_acef6_row0_col7, #T_acef6_row1_col7, #T_acef6_row3_col7, #T_acef6_row4_col7, #T_acef6_row5_col7, #T_acef6_row6_col7 {\n",
       "  text-align: left;\n",
       "  background-color: lightgrey;\n",
       "}\n",
       "#T_acef6_row2_col7 {\n",
       "  text-align: left;\n",
       "  background-color: yellow;\n",
       "  background-color: lightgrey;\n",
       "}\n",
       "</style>\n",
       "<table id=\"T_acef6\">\n",
       "  <thead>\n",
       "    <tr>\n",
       "      <th class=\"blank level0\" >&nbsp;</th>\n",
       "      <th id=\"T_acef6_level0_col0\" class=\"col_heading level0 col0\" >Model</th>\n",
       "      <th id=\"T_acef6_level0_col1\" class=\"col_heading level0 col1\" >MAE</th>\n",
       "      <th id=\"T_acef6_level0_col2\" class=\"col_heading level0 col2\" >MSE</th>\n",
       "      <th id=\"T_acef6_level0_col3\" class=\"col_heading level0 col3\" >RMSE</th>\n",
       "      <th id=\"T_acef6_level0_col4\" class=\"col_heading level0 col4\" >R2</th>\n",
       "      <th id=\"T_acef6_level0_col5\" class=\"col_heading level0 col5\" >RMSLE</th>\n",
       "      <th id=\"T_acef6_level0_col6\" class=\"col_heading level0 col6\" >MAPE</th>\n",
       "      <th id=\"T_acef6_level0_col7\" class=\"col_heading level0 col7\" >TT (Sec)</th>\n",
       "    </tr>\n",
       "  </thead>\n",
       "  <tbody>\n",
       "    <tr>\n",
       "      <th id=\"T_acef6_level0_row0\" class=\"row_heading level0 row0\" >et</th>\n",
       "      <td id=\"T_acef6_row0_col0\" class=\"data row0 col0\" >Extra Trees Regressor</td>\n",
       "      <td id=\"T_acef6_row0_col1\" class=\"data row0 col1\" >81.6446</td>\n",
       "      <td id=\"T_acef6_row0_col2\" class=\"data row0 col2\" >11601.8621</td>\n",
       "      <td id=\"T_acef6_row0_col3\" class=\"data row0 col3\" >101.4219</td>\n",
       "      <td id=\"T_acef6_row0_col4\" class=\"data row0 col4\" >0.4561</td>\n",
       "      <td id=\"T_acef6_row0_col5\" class=\"data row0 col5\" >0.1828</td>\n",
       "      <td id=\"T_acef6_row0_col6\" class=\"data row0 col6\" >0.1593</td>\n",
       "      <td id=\"T_acef6_row0_col7\" class=\"data row0 col7\" >0.0450</td>\n",
       "    </tr>\n",
       "    <tr>\n",
       "      <th id=\"T_acef6_level0_row1\" class=\"row_heading level0 row1\" >xgboost</th>\n",
       "      <td id=\"T_acef6_row1_col0\" class=\"data row1 col0\" >Extreme Gradient Boosting</td>\n",
       "      <td id=\"T_acef6_row1_col1\" class=\"data row1 col1\" >89.3188</td>\n",
       "      <td id=\"T_acef6_row1_col2\" class=\"data row1 col2\" >14514.6503</td>\n",
       "      <td id=\"T_acef6_row1_col3\" class=\"data row1 col3\" >116.4145</td>\n",
       "      <td id=\"T_acef6_row1_col4\" class=\"data row1 col4\" >0.3634</td>\n",
       "      <td id=\"T_acef6_row1_col5\" class=\"data row1 col5\" >0.2070</td>\n",
       "      <td id=\"T_acef6_row1_col6\" class=\"data row1 col6\" >0.1665</td>\n",
       "      <td id=\"T_acef6_row1_col7\" class=\"data row1 col7\" >0.0270</td>\n",
       "    </tr>\n",
       "    <tr>\n",
       "      <th id=\"T_acef6_level0_row2\" class=\"row_heading level0 row2\" >gbr</th>\n",
       "      <td id=\"T_acef6_row2_col0\" class=\"data row2 col0\" >Gradient Boosting Regressor</td>\n",
       "      <td id=\"T_acef6_row2_col1\" class=\"data row2 col1\" >93.2671</td>\n",
       "      <td id=\"T_acef6_row2_col2\" class=\"data row2 col2\" >15301.3875</td>\n",
       "      <td id=\"T_acef6_row2_col3\" class=\"data row2 col3\" >116.9870</td>\n",
       "      <td id=\"T_acef6_row2_col4\" class=\"data row2 col4\" >0.3041</td>\n",
       "      <td id=\"T_acef6_row2_col5\" class=\"data row2 col5\" >0.2084</td>\n",
       "      <td id=\"T_acef6_row2_col6\" class=\"data row2 col6\" >0.1796</td>\n",
       "      <td id=\"T_acef6_row2_col7\" class=\"data row2 col7\" >0.0140</td>\n",
       "    </tr>\n",
       "    <tr>\n",
       "      <th id=\"T_acef6_level0_row3\" class=\"row_heading level0 row3\" >rf</th>\n",
       "      <td id=\"T_acef6_row3_col0\" class=\"data row3 col0\" >Random Forest Regressor</td>\n",
       "      <td id=\"T_acef6_row3_col1\" class=\"data row3 col1\" >95.3454</td>\n",
       "      <td id=\"T_acef6_row3_col2\" class=\"data row3 col2\" >16261.2515</td>\n",
       "      <td id=\"T_acef6_row3_col3\" class=\"data row3 col3\" >119.4576</td>\n",
       "      <td id=\"T_acef6_row3_col4\" class=\"data row3 col4\" >0.2877</td>\n",
       "      <td id=\"T_acef6_row3_col5\" class=\"data row3 col5\" >0.2116</td>\n",
       "      <td id=\"T_acef6_row3_col6\" class=\"data row3 col6\" >0.1872</td>\n",
       "      <td id=\"T_acef6_row3_col7\" class=\"data row3 col7\" >0.6310</td>\n",
       "    </tr>\n",
       "    <tr>\n",
       "      <th id=\"T_acef6_level0_row4\" class=\"row_heading level0 row4\" >ada</th>\n",
       "      <td id=\"T_acef6_row4_col0\" class=\"data row4 col0\" >AdaBoost Regressor</td>\n",
       "      <td id=\"T_acef6_row4_col1\" class=\"data row4 col1\" >97.9896</td>\n",
       "      <td id=\"T_acef6_row4_col2\" class=\"data row4 col2\" >17008.4608</td>\n",
       "      <td id=\"T_acef6_row4_col3\" class=\"data row4 col3\" >122.2074</td>\n",
       "      <td id=\"T_acef6_row4_col4\" class=\"data row4 col4\" >0.3083</td>\n",
       "      <td id=\"T_acef6_row4_col5\" class=\"data row4 col5\" >0.2185</td>\n",
       "      <td id=\"T_acef6_row4_col6\" class=\"data row4 col6\" >0.1882</td>\n",
       "      <td id=\"T_acef6_row4_col7\" class=\"data row4 col7\" >0.0220</td>\n",
       "    </tr>\n",
       "    <tr>\n",
       "      <th id=\"T_acef6_level0_row5\" class=\"row_heading level0 row5\" >lightgbm</th>\n",
       "      <td id=\"T_acef6_row5_col0\" class=\"data row5 col0\" >Light Gradient Boosting Machine</td>\n",
       "      <td id=\"T_acef6_row5_col1\" class=\"data row5 col1\" >121.2437</td>\n",
       "      <td id=\"T_acef6_row5_col2\" class=\"data row5 col2\" >26289.4478</td>\n",
       "      <td id=\"T_acef6_row5_col3\" class=\"data row5 col3\" >147.5375</td>\n",
       "      <td id=\"T_acef6_row5_col4\" class=\"data row5 col4\" >-0.0950</td>\n",
       "      <td id=\"T_acef6_row5_col5\" class=\"data row5 col5\" >0.2825</td>\n",
       "      <td id=\"T_acef6_row5_col6\" class=\"data row5 col6\" >0.2736</td>\n",
       "      <td id=\"T_acef6_row5_col7\" class=\"data row5 col7\" >0.2270</td>\n",
       "    </tr>\n",
       "    <tr>\n",
       "      <th id=\"T_acef6_level0_row6\" class=\"row_heading level0 row6\" >dt</th>\n",
       "      <td id=\"T_acef6_row6_col0\" class=\"data row6 col0\" >Decision Tree Regressor</td>\n",
       "      <td id=\"T_acef6_row6_col1\" class=\"data row6 col1\" >121.6071</td>\n",
       "      <td id=\"T_acef6_row6_col2\" class=\"data row6 col2\" >26517.6071</td>\n",
       "      <td id=\"T_acef6_row6_col3\" class=\"data row6 col3\" >154.5242</td>\n",
       "      <td id=\"T_acef6_row6_col4\" class=\"data row6 col4\" >-0.1579</td>\n",
       "      <td id=\"T_acef6_row6_col5\" class=\"data row6 col5\" >0.2899</td>\n",
       "      <td id=\"T_acef6_row6_col6\" class=\"data row6 col6\" >0.2296</td>\n",
       "      <td id=\"T_acef6_row6_col7\" class=\"data row6 col7\" >1.1510</td>\n",
       "    </tr>\n",
       "  </tbody>\n",
       "</table>\n"
      ],
      "text/plain": [
       "<pandas.io.formats.style.Styler at 0x2bf1cb40760>"
      ]
     },
     "metadata": {},
     "output_type": "display_data"
    }
   ],
   "source": [
    "# Train and evaluate models\n",
    "exclude_list = ['dummy', 'br', 'knn', 'en', 'omp', 'huber', 'ridge', 'llar', 'lasso', 'lr', 'lar','par']\n",
    "#exclude_list = []\n",
    "best = compare_models(exclude = exclude_list, sort = 'MAE')"
   ]
  },
  {
   "attachments": {},
   "cell_type": "markdown",
   "metadata": {},
   "source": [
    "#### Create best model"
   ]
  },
  {
   "cell_type": "code",
   "execution_count": 15,
   "metadata": {},
   "outputs": [
    {
     "data": {
      "text/html": [
       "<style type=\"text/css\">\n",
       "#T_8017b_row10_col0, #T_8017b_row10_col1, #T_8017b_row10_col2, #T_8017b_row10_col3, #T_8017b_row10_col4, #T_8017b_row10_col5 {\n",
       "  background: yellow;\n",
       "}\n",
       "</style>\n",
       "<table id=\"T_8017b\">\n",
       "  <thead>\n",
       "    <tr>\n",
       "      <th class=\"blank level0\" >&nbsp;</th>\n",
       "      <th id=\"T_8017b_level0_col0\" class=\"col_heading level0 col0\" >MAE</th>\n",
       "      <th id=\"T_8017b_level0_col1\" class=\"col_heading level0 col1\" >MSE</th>\n",
       "      <th id=\"T_8017b_level0_col2\" class=\"col_heading level0 col2\" >RMSE</th>\n",
       "      <th id=\"T_8017b_level0_col3\" class=\"col_heading level0 col3\" >R2</th>\n",
       "      <th id=\"T_8017b_level0_col4\" class=\"col_heading level0 col4\" >RMSLE</th>\n",
       "      <th id=\"T_8017b_level0_col5\" class=\"col_heading level0 col5\" >MAPE</th>\n",
       "    </tr>\n",
       "    <tr>\n",
       "      <th class=\"index_name level0\" >Fold</th>\n",
       "      <th class=\"blank col0\" >&nbsp;</th>\n",
       "      <th class=\"blank col1\" >&nbsp;</th>\n",
       "      <th class=\"blank col2\" >&nbsp;</th>\n",
       "      <th class=\"blank col3\" >&nbsp;</th>\n",
       "      <th class=\"blank col4\" >&nbsp;</th>\n",
       "      <th class=\"blank col5\" >&nbsp;</th>\n",
       "    </tr>\n",
       "  </thead>\n",
       "  <tbody>\n",
       "    <tr>\n",
       "      <th id=\"T_8017b_level0_row0\" class=\"row_heading level0 row0\" >0</th>\n",
       "      <td id=\"T_8017b_row0_col0\" class=\"data row0 col0\" >155.3871</td>\n",
       "      <td id=\"T_8017b_row0_col1\" class=\"data row0 col1\" >29758.9405</td>\n",
       "      <td id=\"T_8017b_row0_col2\" class=\"data row0 col2\" >172.5078</td>\n",
       "      <td id=\"T_8017b_row0_col3\" class=\"data row0 col3\" >0.0888</td>\n",
       "      <td id=\"T_8017b_row0_col4\" class=\"data row0 col4\" >0.3992</td>\n",
       "      <td id=\"T_8017b_row0_col5\" class=\"data row0 col5\" >0.4470</td>\n",
       "    </tr>\n",
       "    <tr>\n",
       "      <th id=\"T_8017b_level0_row1\" class=\"row_heading level0 row1\" >1</th>\n",
       "      <td id=\"T_8017b_row1_col0\" class=\"data row1 col0\" >55.9593</td>\n",
       "      <td id=\"T_8017b_row1_col1\" class=\"data row1 col1\" >4663.2640</td>\n",
       "      <td id=\"T_8017b_row1_col2\" class=\"data row1 col2\" >68.2881</td>\n",
       "      <td id=\"T_8017b_row1_col3\" class=\"data row1 col3\" >0.8008</td>\n",
       "      <td id=\"T_8017b_row1_col4\" class=\"data row1 col4\" >0.1602</td>\n",
       "      <td id=\"T_8017b_row1_col5\" class=\"data row1 col5\" >0.1395</td>\n",
       "    </tr>\n",
       "    <tr>\n",
       "      <th id=\"T_8017b_level0_row2\" class=\"row_heading level0 row2\" >2</th>\n",
       "      <td id=\"T_8017b_row2_col0\" class=\"data row2 col0\" >103.7214</td>\n",
       "      <td id=\"T_8017b_row2_col1\" class=\"data row2 col1\" >15798.5689</td>\n",
       "      <td id=\"T_8017b_row2_col2\" class=\"data row2 col2\" >125.6924</td>\n",
       "      <td id=\"T_8017b_row2_col3\" class=\"data row2 col3\" >0.2601</td>\n",
       "      <td id=\"T_8017b_row2_col4\" class=\"data row2 col4\" >0.1851</td>\n",
       "      <td id=\"T_8017b_row2_col5\" class=\"data row2 col5\" >0.1446</td>\n",
       "    </tr>\n",
       "    <tr>\n",
       "      <th id=\"T_8017b_level0_row3\" class=\"row_heading level0 row3\" >3</th>\n",
       "      <td id=\"T_8017b_row3_col0\" class=\"data row3 col0\" >106.2721</td>\n",
       "      <td id=\"T_8017b_row3_col1\" class=\"data row3 col1\" >19932.2152</td>\n",
       "      <td id=\"T_8017b_row3_col2\" class=\"data row3 col2\" >141.1815</td>\n",
       "      <td id=\"T_8017b_row3_col3\" class=\"data row3 col3\" >0.6849</td>\n",
       "      <td id=\"T_8017b_row3_col4\" class=\"data row3 col4\" >0.2491</td>\n",
       "      <td id=\"T_8017b_row3_col5\" class=\"data row3 col5\" >0.1662</td>\n",
       "    </tr>\n",
       "    <tr>\n",
       "      <th id=\"T_8017b_level0_row4\" class=\"row_heading level0 row4\" >4</th>\n",
       "      <td id=\"T_8017b_row4_col0\" class=\"data row4 col0\" >71.4064</td>\n",
       "      <td id=\"T_8017b_row4_col1\" class=\"data row4 col1\" >9602.8593</td>\n",
       "      <td id=\"T_8017b_row4_col2\" class=\"data row4 col2\" >97.9942</td>\n",
       "      <td id=\"T_8017b_row4_col3\" class=\"data row4 col3\" >-0.1751</td>\n",
       "      <td id=\"T_8017b_row4_col4\" class=\"data row4 col4\" >0.1759</td>\n",
       "      <td id=\"T_8017b_row4_col5\" class=\"data row4 col5\" >0.1420</td>\n",
       "    </tr>\n",
       "    <tr>\n",
       "      <th id=\"T_8017b_level0_row5\" class=\"row_heading level0 row5\" >5</th>\n",
       "      <td id=\"T_8017b_row5_col0\" class=\"data row5 col0\" >84.1443</td>\n",
       "      <td id=\"T_8017b_row5_col1\" class=\"data row5 col1\" >13550.5820</td>\n",
       "      <td id=\"T_8017b_row5_col2\" class=\"data row5 col2\" >116.4070</td>\n",
       "      <td id=\"T_8017b_row5_col3\" class=\"data row5 col3\" >0.6061</td>\n",
       "      <td id=\"T_8017b_row5_col4\" class=\"data row5 col4\" >0.1638</td>\n",
       "      <td id=\"T_8017b_row5_col5\" class=\"data row5 col5\" >0.1211</td>\n",
       "    </tr>\n",
       "    <tr>\n",
       "      <th id=\"T_8017b_level0_row6\" class=\"row_heading level0 row6\" >6</th>\n",
       "      <td id=\"T_8017b_row6_col0\" class=\"data row6 col0\" >63.2629</td>\n",
       "      <td id=\"T_8017b_row6_col1\" class=\"data row6 col1\" >4601.7489</td>\n",
       "      <td id=\"T_8017b_row6_col2\" class=\"data row6 col2\" >67.8362</td>\n",
       "      <td id=\"T_8017b_row6_col3\" class=\"data row6 col3\" >0.7895</td>\n",
       "      <td id=\"T_8017b_row6_col4\" class=\"data row6 col4\" >0.1188</td>\n",
       "      <td id=\"T_8017b_row6_col5\" class=\"data row6 col5\" >0.1022</td>\n",
       "    </tr>\n",
       "    <tr>\n",
       "      <th id=\"T_8017b_level0_row7\" class=\"row_heading level0 row7\" >7</th>\n",
       "      <td id=\"T_8017b_row7_col0\" class=\"data row7 col0\" >46.5193</td>\n",
       "      <td id=\"T_8017b_row7_col1\" class=\"data row7 col1\" >3732.0080</td>\n",
       "      <td id=\"T_8017b_row7_col2\" class=\"data row7 col2\" >61.0902</td>\n",
       "      <td id=\"T_8017b_row7_col3\" class=\"data row7 col3\" >0.7457</td>\n",
       "      <td id=\"T_8017b_row7_col4\" class=\"data row7 col4\" >0.0873</td>\n",
       "      <td id=\"T_8017b_row7_col5\" class=\"data row7 col5\" >0.0682</td>\n",
       "    </tr>\n",
       "    <tr>\n",
       "      <th id=\"T_8017b_level0_row8\" class=\"row_heading level0 row8\" >8</th>\n",
       "      <td id=\"T_8017b_row8_col0\" class=\"data row8 col0\" >37.6279</td>\n",
       "      <td id=\"T_8017b_row8_col1\" class=\"data row8 col1\" >3435.4869</td>\n",
       "      <td id=\"T_8017b_row8_col2\" class=\"data row8 col2\" >58.6130</td>\n",
       "      <td id=\"T_8017b_row8_col3\" class=\"data row8 col3\" >0.8915</td>\n",
       "      <td id=\"T_8017b_row8_col4\" class=\"data row8 col4\" >0.0781</td>\n",
       "      <td id=\"T_8017b_row8_col5\" class=\"data row8 col5\" >0.0562</td>\n",
       "    </tr>\n",
       "    <tr>\n",
       "      <th id=\"T_8017b_level0_row9\" class=\"row_heading level0 row9\" >9</th>\n",
       "      <td id=\"T_8017b_row9_col0\" class=\"data row9 col0\" >92.1457</td>\n",
       "      <td id=\"T_8017b_row9_col1\" class=\"data row9 col1\" >10942.9474</td>\n",
       "      <td id=\"T_8017b_row9_col2\" class=\"data row9 col2\" >104.6085</td>\n",
       "      <td id=\"T_8017b_row9_col3\" class=\"data row9 col3\" >-0.1317</td>\n",
       "      <td id=\"T_8017b_row9_col4\" class=\"data row9 col4\" >0.2104</td>\n",
       "      <td id=\"T_8017b_row9_col5\" class=\"data row9 col5\" >0.2065</td>\n",
       "    </tr>\n",
       "    <tr>\n",
       "      <th id=\"T_8017b_level0_row10\" class=\"row_heading level0 row10\" >Mean</th>\n",
       "      <td id=\"T_8017b_row10_col0\" class=\"data row10 col0\" >81.6446</td>\n",
       "      <td id=\"T_8017b_row10_col1\" class=\"data row10 col1\" >11601.8621</td>\n",
       "      <td id=\"T_8017b_row10_col2\" class=\"data row10 col2\" >101.4219</td>\n",
       "      <td id=\"T_8017b_row10_col3\" class=\"data row10 col3\" >0.4561</td>\n",
       "      <td id=\"T_8017b_row10_col4\" class=\"data row10 col4\" >0.1828</td>\n",
       "      <td id=\"T_8017b_row10_col5\" class=\"data row10 col5\" >0.1593</td>\n",
       "    </tr>\n",
       "    <tr>\n",
       "      <th id=\"T_8017b_level0_row11\" class=\"row_heading level0 row11\" >Std</th>\n",
       "      <td id=\"T_8017b_row11_col0\" class=\"data row11 col0\" >33.0486</td>\n",
       "      <td id=\"T_8017b_row11_col1\" class=\"data row11 col1\" >8066.5007</td>\n",
       "      <td id=\"T_8017b_row11_col2\" class=\"data row11 col2\" >36.2693</td>\n",
       "      <td id=\"T_8017b_row11_col3\" class=\"data row11 col3\" >0.3867</td>\n",
       "      <td id=\"T_8017b_row11_col4\" class=\"data row11 col4\" >0.0878</td>\n",
       "      <td id=\"T_8017b_row11_col5\" class=\"data row11 col5\" >0.1047</td>\n",
       "    </tr>\n",
       "  </tbody>\n",
       "</table>\n"
      ],
      "text/plain": [
       "<pandas.io.formats.style.Styler at 0x2bf1cc99c70>"
      ]
     },
     "metadata": {},
     "output_type": "display_data"
    }
   ],
   "source": [
    "# Create model\n",
    "model = create_model(best)"
   ]
  },
  {
   "attachments": {},
   "cell_type": "markdown",
   "metadata": {},
   "source": [
    "#### Tune model"
   ]
  },
  {
   "cell_type": "code",
   "execution_count": 16,
   "metadata": {},
   "outputs": [
    {
     "data": {
      "text/html": [
       "<style type=\"text/css\">\n",
       "#T_b1e2e_row10_col0, #T_b1e2e_row10_col1, #T_b1e2e_row10_col2, #T_b1e2e_row10_col3, #T_b1e2e_row10_col4, #T_b1e2e_row10_col5 {\n",
       "  background: yellow;\n",
       "}\n",
       "</style>\n",
       "<table id=\"T_b1e2e\">\n",
       "  <thead>\n",
       "    <tr>\n",
       "      <th class=\"blank level0\" >&nbsp;</th>\n",
       "      <th id=\"T_b1e2e_level0_col0\" class=\"col_heading level0 col0\" >MAE</th>\n",
       "      <th id=\"T_b1e2e_level0_col1\" class=\"col_heading level0 col1\" >MSE</th>\n",
       "      <th id=\"T_b1e2e_level0_col2\" class=\"col_heading level0 col2\" >RMSE</th>\n",
       "      <th id=\"T_b1e2e_level0_col3\" class=\"col_heading level0 col3\" >R2</th>\n",
       "      <th id=\"T_b1e2e_level0_col4\" class=\"col_heading level0 col4\" >RMSLE</th>\n",
       "      <th id=\"T_b1e2e_level0_col5\" class=\"col_heading level0 col5\" >MAPE</th>\n",
       "    </tr>\n",
       "    <tr>\n",
       "      <th class=\"index_name level0\" >Fold</th>\n",
       "      <th class=\"blank col0\" >&nbsp;</th>\n",
       "      <th class=\"blank col1\" >&nbsp;</th>\n",
       "      <th class=\"blank col2\" >&nbsp;</th>\n",
       "      <th class=\"blank col3\" >&nbsp;</th>\n",
       "      <th class=\"blank col4\" >&nbsp;</th>\n",
       "      <th class=\"blank col5\" >&nbsp;</th>\n",
       "    </tr>\n",
       "  </thead>\n",
       "  <tbody>\n",
       "    <tr>\n",
       "      <th id=\"T_b1e2e_level0_row0\" class=\"row_heading level0 row0\" >0</th>\n",
       "      <td id=\"T_b1e2e_row0_col0\" class=\"data row0 col0\" >164.3920</td>\n",
       "      <td id=\"T_b1e2e_row0_col1\" class=\"data row0 col1\" >32778.5326</td>\n",
       "      <td id=\"T_b1e2e_row0_col2\" class=\"data row0 col2\" >181.0484</td>\n",
       "      <td id=\"T_b1e2e_row0_col3\" class=\"data row0 col3\" >-0.0036</td>\n",
       "      <td id=\"T_b1e2e_row0_col4\" class=\"data row0 col4\" >0.4293</td>\n",
       "      <td id=\"T_b1e2e_row0_col5\" class=\"data row0 col5\" >0.4872</td>\n",
       "    </tr>\n",
       "    <tr>\n",
       "      <th id=\"T_b1e2e_level0_row1\" class=\"row_heading level0 row1\" >1</th>\n",
       "      <td id=\"T_b1e2e_row1_col0\" class=\"data row1 col0\" >55.8781</td>\n",
       "      <td id=\"T_b1e2e_row1_col1\" class=\"data row1 col1\" >4560.1655</td>\n",
       "      <td id=\"T_b1e2e_row1_col2\" class=\"data row1 col2\" >67.5290</td>\n",
       "      <td id=\"T_b1e2e_row1_col3\" class=\"data row1 col3\" >0.8052</td>\n",
       "      <td id=\"T_b1e2e_row1_col4\" class=\"data row1 col4\" >0.1740</td>\n",
       "      <td id=\"T_b1e2e_row1_col5\" class=\"data row1 col5\" >0.1487</td>\n",
       "    </tr>\n",
       "    <tr>\n",
       "      <th id=\"T_b1e2e_level0_row2\" class=\"row_heading level0 row2\" >2</th>\n",
       "      <td id=\"T_b1e2e_row2_col0\" class=\"data row2 col0\" >103.9874</td>\n",
       "      <td id=\"T_b1e2e_row2_col1\" class=\"data row2 col1\" >16038.5248</td>\n",
       "      <td id=\"T_b1e2e_row2_col2\" class=\"data row2 col2\" >126.6433</td>\n",
       "      <td id=\"T_b1e2e_row2_col3\" class=\"data row2 col3\" >0.2488</td>\n",
       "      <td id=\"T_b1e2e_row2_col4\" class=\"data row2 col4\" >0.1871</td>\n",
       "      <td id=\"T_b1e2e_row2_col5\" class=\"data row2 col5\" >0.1444</td>\n",
       "    </tr>\n",
       "    <tr>\n",
       "      <th id=\"T_b1e2e_level0_row3\" class=\"row_heading level0 row3\" >3</th>\n",
       "      <td id=\"T_b1e2e_row3_col0\" class=\"data row3 col0\" >107.5085</td>\n",
       "      <td id=\"T_b1e2e_row3_col1\" class=\"data row3 col1\" >20892.7888</td>\n",
       "      <td id=\"T_b1e2e_row3_col2\" class=\"data row3 col2\" >144.5434</td>\n",
       "      <td id=\"T_b1e2e_row3_col3\" class=\"data row3 col3\" >0.6697</td>\n",
       "      <td id=\"T_b1e2e_row3_col4\" class=\"data row3 col4\" >0.2354</td>\n",
       "      <td id=\"T_b1e2e_row3_col5\" class=\"data row3 col5\" >0.1639</td>\n",
       "    </tr>\n",
       "    <tr>\n",
       "      <th id=\"T_b1e2e_level0_row4\" class=\"row_heading level0 row4\" >4</th>\n",
       "      <td id=\"T_b1e2e_row4_col0\" class=\"data row4 col0\" >65.1188</td>\n",
       "      <td id=\"T_b1e2e_row4_col1\" class=\"data row4 col1\" >9440.6101</td>\n",
       "      <td id=\"T_b1e2e_row4_col2\" class=\"data row4 col2\" >97.1628</td>\n",
       "      <td id=\"T_b1e2e_row4_col3\" class=\"data row4 col3\" >-0.1552</td>\n",
       "      <td id=\"T_b1e2e_row4_col4\" class=\"data row4 col4\" >0.1761</td>\n",
       "      <td id=\"T_b1e2e_row4_col5\" class=\"data row4 col5\" >0.1338</td>\n",
       "    </tr>\n",
       "    <tr>\n",
       "      <th id=\"T_b1e2e_level0_row5\" class=\"row_heading level0 row5\" >5</th>\n",
       "      <td id=\"T_b1e2e_row5_col0\" class=\"data row5 col0\" >94.5509</td>\n",
       "      <td id=\"T_b1e2e_row5_col1\" class=\"data row5 col1\" >20548.9933</td>\n",
       "      <td id=\"T_b1e2e_row5_col2\" class=\"data row5 col2\" >143.3492</td>\n",
       "      <td id=\"T_b1e2e_row5_col3\" class=\"data row5 col3\" >0.4027</td>\n",
       "      <td id=\"T_b1e2e_row5_col4\" class=\"data row5 col4\" >0.1919</td>\n",
       "      <td id=\"T_b1e2e_row5_col5\" class=\"data row5 col5\" >0.1314</td>\n",
       "    </tr>\n",
       "    <tr>\n",
       "      <th id=\"T_b1e2e_level0_row6\" class=\"row_heading level0 row6\" >6</th>\n",
       "      <td id=\"T_b1e2e_row6_col0\" class=\"data row6 col0\" >57.4695</td>\n",
       "      <td id=\"T_b1e2e_row6_col1\" class=\"data row6 col1\" >4023.8656</td>\n",
       "      <td id=\"T_b1e2e_row6_col2\" class=\"data row6 col2\" >63.4339</td>\n",
       "      <td id=\"T_b1e2e_row6_col3\" class=\"data row6 col3\" >0.8159</td>\n",
       "      <td id=\"T_b1e2e_row6_col4\" class=\"data row6 col4\" >0.1024</td>\n",
       "      <td id=\"T_b1e2e_row6_col5\" class=\"data row6 col5\" >0.0884</td>\n",
       "    </tr>\n",
       "    <tr>\n",
       "      <th id=\"T_b1e2e_level0_row7\" class=\"row_heading level0 row7\" >7</th>\n",
       "      <td id=\"T_b1e2e_row7_col0\" class=\"data row7 col0\" >56.0265</td>\n",
       "      <td id=\"T_b1e2e_row7_col1\" class=\"data row7 col1\" >4573.6491</td>\n",
       "      <td id=\"T_b1e2e_row7_col2\" class=\"data row7 col2\" >67.6288</td>\n",
       "      <td id=\"T_b1e2e_row7_col3\" class=\"data row7 col3\" >0.6884</td>\n",
       "      <td id=\"T_b1e2e_row7_col4\" class=\"data row7 col4\" >0.0991</td>\n",
       "      <td id=\"T_b1e2e_row7_col5\" class=\"data row7 col5\" >0.0833</td>\n",
       "    </tr>\n",
       "    <tr>\n",
       "      <th id=\"T_b1e2e_level0_row8\" class=\"row_heading level0 row8\" >8</th>\n",
       "      <td id=\"T_b1e2e_row8_col0\" class=\"data row8 col0\" >44.5699</td>\n",
       "      <td id=\"T_b1e2e_row8_col1\" class=\"data row8 col1\" >4007.4097</td>\n",
       "      <td id=\"T_b1e2e_row8_col2\" class=\"data row8 col2\" >63.3041</td>\n",
       "      <td id=\"T_b1e2e_row8_col3\" class=\"data row8 col3\" >0.8735</td>\n",
       "      <td id=\"T_b1e2e_row8_col4\" class=\"data row8 col4\" >0.0894</td>\n",
       "      <td id=\"T_b1e2e_row8_col5\" class=\"data row8 col5\" >0.0679</td>\n",
       "    </tr>\n",
       "    <tr>\n",
       "      <th id=\"T_b1e2e_level0_row9\" class=\"row_heading level0 row9\" >9</th>\n",
       "      <td id=\"T_b1e2e_row9_col0\" class=\"data row9 col0\" >91.4676</td>\n",
       "      <td id=\"T_b1e2e_row9_col1\" class=\"data row9 col1\" >10878.2987</td>\n",
       "      <td id=\"T_b1e2e_row9_col2\" class=\"data row9 col2\" >104.2991</td>\n",
       "      <td id=\"T_b1e2e_row9_col3\" class=\"data row9 col3\" >-0.1250</td>\n",
       "      <td id=\"T_b1e2e_row9_col4\" class=\"data row9 col4\" >0.2117</td>\n",
       "      <td id=\"T_b1e2e_row9_col5\" class=\"data row9 col5\" >0.2073</td>\n",
       "    </tr>\n",
       "    <tr>\n",
       "      <th id=\"T_b1e2e_level0_row10\" class=\"row_heading level0 row10\" >Mean</th>\n",
       "      <td id=\"T_b1e2e_row10_col0\" class=\"data row10 col0\" >84.0969</td>\n",
       "      <td id=\"T_b1e2e_row10_col1\" class=\"data row10 col1\" >12774.2838</td>\n",
       "      <td id=\"T_b1e2e_row10_col2\" class=\"data row10 col2\" >105.8942</td>\n",
       "      <td id=\"T_b1e2e_row10_col3\" class=\"data row10 col3\" >0.4220</td>\n",
       "      <td id=\"T_b1e2e_row10_col4\" class=\"data row10 col4\" >0.1896</td>\n",
       "      <td id=\"T_b1e2e_row10_col5\" class=\"data row10 col5\" >0.1656</td>\n",
       "    </tr>\n",
       "    <tr>\n",
       "      <th id=\"T_b1e2e_level0_row11\" class=\"row_heading level0 row11\" >Std</th>\n",
       "      <td id=\"T_b1e2e_row11_col0\" class=\"data row11 col0\" >34.3081</td>\n",
       "      <td id=\"T_b1e2e_row11_col1\" class=\"data row11 col1\" >9165.3677</td>\n",
       "      <td id=\"T_b1e2e_row11_col2\" class=\"data row11 col2\" >39.5057</td>\n",
       "      <td id=\"T_b1e2e_row11_col3\" class=\"data row11 col3\" >0.3850</td>\n",
       "      <td id=\"T_b1e2e_row11_col4\" class=\"data row11 col4\" >0.0929</td>\n",
       "      <td id=\"T_b1e2e_row11_col5\" class=\"data row11 col5\" >0.1142</td>\n",
       "    </tr>\n",
       "  </tbody>\n",
       "</table>\n"
      ],
      "text/plain": [
       "<pandas.io.formats.style.Styler at 0x2bf1a2b4eb0>"
      ]
     },
     "metadata": {},
     "output_type": "display_data"
    }
   ],
   "source": [
    "# Tune model\n",
    "tuned_model = tune_model(model, n_iter=50, optimize = 'MAE')"
   ]
  },
  {
   "cell_type": "code",
   "execution_count": 17,
   "metadata": {},
   "outputs": [
    {
     "data": {
      "text/plain": [
       "ExtraTreesRegressor(bootstrap=False, ccp_alpha=0.0, criterion='mse',\n",
       "                    max_depth=7, max_features=1.0, max_leaf_nodes=None,\n",
       "                    max_samples=None, min_impurity_decrease=0.2,\n",
       "                    min_impurity_split=None, min_samples_leaf=2,\n",
       "                    min_samples_split=2, min_weight_fraction_leaf=0.0,\n",
       "                    n_estimators=280, n_jobs=-1, oob_score=False,\n",
       "                    random_state=42, verbose=0, warm_start=False)"
      ]
     },
     "execution_count": 17,
     "metadata": {},
     "output_type": "execute_result"
    }
   ],
   "source": [
    "tuned_model"
   ]
  },
  {
   "cell_type": "code",
   "execution_count": 18,
   "metadata": {},
   "outputs": [
    {
     "data": {
      "text/plain": [
       "ExtraTreesRegressor(bootstrap=False, ccp_alpha=0.0, criterion='mse',\n",
       "                    max_depth=None, max_features='auto', max_leaf_nodes=None,\n",
       "                    max_samples=None, min_impurity_decrease=0.0,\n",
       "                    min_impurity_split=None, min_samples_leaf=1,\n",
       "                    min_samples_split=2, min_weight_fraction_leaf=0.0,\n",
       "                    n_estimators=100, n_jobs=-1, oob_score=False,\n",
       "                    random_state=42, verbose=0, warm_start=False)"
      ]
     },
     "execution_count": 18,
     "metadata": {},
     "output_type": "execute_result"
    }
   ],
   "source": [
    "model"
   ]
  },
  {
   "attachments": {},
   "cell_type": "markdown",
   "metadata": {},
   "source": [
    "#### Plot model"
   ]
  },
  {
   "cell_type": "code",
   "execution_count": 19,
   "metadata": {},
   "outputs": [
    {
     "data": {
      "image/png": "[encoded data removed]",
      "text/plain": [
       "<Figure size 576x396 with 2 Axes>"
      ]
     },
     "metadata": {},
     "output_type": "display_data"
    }
   ],
   "source": [
    "# PLot model - Residual plot\n",
    "plot_model(model)"
   ]
  },
  {
   "cell_type": "code",
   "execution_count": 20,
   "metadata": {},
   "outputs": [
    {
     "data": {
      "image/png": "[encoded data removed]",
      "text/plain": [
       "<Figure size 576x396 with 2 Axes>"
      ]
     },
     "metadata": {},
     "output_type": "display_data"
    }
   ],
   "source": [
    "# PLot model - Residual plot\n",
    "plot_model(tuned_model)"
   ]
  },
  {
   "cell_type": "code",
   "execution_count": 21,
   "metadata": {},
   "outputs": [
    {
     "data": {
      "image/png": "[encoded data removed]",
      "text/plain": [
       "<Figure size 576x396 with 1 Axes>"
      ]
     },
     "metadata": {},
     "output_type": "display_data"
    }
   ],
   "source": [
    "# Prediction Error Plot\n",
    "plot_model(model, plot = 'error')"
   ]
  },
  {
   "cell_type": "code",
   "execution_count": 22,
   "metadata": {},
   "outputs": [
    {
     "data": {
      "image/png": "[encoded data removed]",
      "text/plain": [
       "<Figure size 576x396 with 1 Axes>"
      ]
     },
     "metadata": {},
     "output_type": "display_data"
    }
   ],
   "source": [
    "# Prediction Error Plot\n",
    "plot_model(tuned_model, plot = 'error')"
   ]
  },
  {
   "cell_type": "code",
   "execution_count": 23,
   "metadata": {},
   "outputs": [
    {
     "data": {
      "image/png": "[encoded data removed]",
      "text/plain": [
       "<Figure size 800x500 with 1 Axes>"
      ]
     },
     "metadata": {},
     "output_type": "display_data"
    }
   ],
   "source": [
    "# Feature Importance Plot\n",
    "plot_model(model, plot='feature')"
   ]
  },
  {
   "cell_type": "code",
   "execution_count": 24,
   "metadata": {},
   "outputs": [
    {
     "data": {
      "image/png": "[encoded data removed]",
      "text/plain": [
       "<Figure size 800x500 with 1 Axes>"
      ]
     },
     "metadata": {},
     "output_type": "display_data"
    }
   ],
   "source": [
    "# Feature Importance Plot\n",
    "plot_model(tuned_model, plot='feature')"
   ]
  },
  {
   "attachments": {},
   "cell_type": "markdown",
   "metadata": {},
   "source": [
    "#### Evaluate models"
   ]
  },
  {
   "cell_type": "code",
   "execution_count": 25,
   "metadata": {},
   "outputs": [
    {
     "data": {
      "application/vnd.jupyter.widget-view+json": {
       "model_id": "80ff2f253cca4f77b51dbe9c5617ac6a",
       "version_major": 2,
       "version_minor": 0
      },
      "text/plain": [
       "interactive(children=(ToggleButtons(description='Plot Type:', icons=('',), options=(('Hyperparameters', 'param…"
      ]
     },
     "metadata": {},
     "output_type": "display_data"
    }
   ],
   "source": [
    "evaluate_model(model)"
   ]
  },
  {
   "cell_type": "code",
   "execution_count": 26,
   "metadata": {},
   "outputs": [
    {
     "data": {
      "application/vnd.jupyter.widget-view+json": {
       "model_id": "5f02f48b62294d0790d51c87e615ee1e",
       "version_major": 2,
       "version_minor": 0
      },
      "text/plain": [
       "interactive(children=(ToggleButtons(description='Plot Type:', icons=('',), options=(('Hyperparameters', 'param…"
      ]
     },
     "metadata": {},
     "output_type": "display_data"
    }
   ],
   "source": [
    "evaluate_model(tuned_model)"
   ]
  },
  {
   "attachments": {},
   "cell_type": "markdown",
   "metadata": {},
   "source": [
    "#### Predict on test set"
   ]
  },
  {
   "cell_type": "code",
   "execution_count": 27,
   "metadata": {},
   "outputs": [
    {
     "data": {
      "text/html": [
       "<style type=\"text/css\">\n",
       "</style>\n",
       "<table id=\"T_4a01a\">\n",
       "  <thead>\n",
       "    <tr>\n",
       "      <th class=\"blank level0\" >&nbsp;</th>\n",
       "      <th id=\"T_4a01a_level0_col0\" class=\"col_heading level0 col0\" >Model</th>\n",
       "      <th id=\"T_4a01a_level0_col1\" class=\"col_heading level0 col1\" >MAE</th>\n",
       "      <th id=\"T_4a01a_level0_col2\" class=\"col_heading level0 col2\" >MSE</th>\n",
       "      <th id=\"T_4a01a_level0_col3\" class=\"col_heading level0 col3\" >RMSE</th>\n",
       "      <th id=\"T_4a01a_level0_col4\" class=\"col_heading level0 col4\" >R2</th>\n",
       "      <th id=\"T_4a01a_level0_col5\" class=\"col_heading level0 col5\" >RMSLE</th>\n",
       "      <th id=\"T_4a01a_level0_col6\" class=\"col_heading level0 col6\" >MAPE</th>\n",
       "    </tr>\n",
       "  </thead>\n",
       "  <tbody>\n",
       "    <tr>\n",
       "      <th id=\"T_4a01a_level0_row0\" class=\"row_heading level0 row0\" >0</th>\n",
       "      <td id=\"T_4a01a_row0_col0\" class=\"data row0 col0\" >Extra Trees Regressor</td>\n",
       "      <td id=\"T_4a01a_row0_col1\" class=\"data row0 col1\" >236.1147</td>\n",
       "      <td id=\"T_4a01a_row0_col2\" class=\"data row0 col2\" >58529.2910</td>\n",
       "      <td id=\"T_4a01a_row0_col3\" class=\"data row0 col3\" >241.9283</td>\n",
       "      <td id=\"T_4a01a_row0_col4\" class=\"data row0 col4\" >-5.1130</td>\n",
       "      <td id=\"T_4a01a_row0_col5\" class=\"data row0 col5\" >0.6591</td>\n",
       "      <td id=\"T_4a01a_row0_col6\" class=\"data row0 col6\" >0.9140</td>\n",
       "    </tr>\n",
       "  </tbody>\n",
       "</table>\n"
      ],
      "text/plain": [
       "<pandas.io.formats.style.Styler at 0x2bf188cc0d0>"
      ]
     },
     "metadata": {},
     "output_type": "display_data"
    }
   ],
   "source": [
    "prediction = predict_model(model)"
   ]
  },
  {
   "cell_type": "code",
   "execution_count": 28,
   "metadata": {},
   "outputs": [
    {
     "data": {
      "text/html": [
       "<style type=\"text/css\">\n",
       "</style>\n",
       "<table id=\"T_23e19\">\n",
       "  <thead>\n",
       "    <tr>\n",
       "      <th class=\"blank level0\" >&nbsp;</th>\n",
       "      <th id=\"T_23e19_level0_col0\" class=\"col_heading level0 col0\" >Model</th>\n",
       "      <th id=\"T_23e19_level0_col1\" class=\"col_heading level0 col1\" >MAE</th>\n",
       "      <th id=\"T_23e19_level0_col2\" class=\"col_heading level0 col2\" >MSE</th>\n",
       "      <th id=\"T_23e19_level0_col3\" class=\"col_heading level0 col3\" >RMSE</th>\n",
       "      <th id=\"T_23e19_level0_col4\" class=\"col_heading level0 col4\" >R2</th>\n",
       "      <th id=\"T_23e19_level0_col5\" class=\"col_heading level0 col5\" >RMSLE</th>\n",
       "      <th id=\"T_23e19_level0_col6\" class=\"col_heading level0 col6\" >MAPE</th>\n",
       "    </tr>\n",
       "  </thead>\n",
       "  <tbody>\n",
       "    <tr>\n",
       "      <th id=\"T_23e19_level0_row0\" class=\"row_heading level0 row0\" >0</th>\n",
       "      <td id=\"T_23e19_row0_col0\" class=\"data row0 col0\" >Extra Trees Regressor</td>\n",
       "      <td id=\"T_23e19_row0_col1\" class=\"data row0 col1\" >246.9630</td>\n",
       "      <td id=\"T_23e19_row0_col2\" class=\"data row0 col2\" >63569.4805</td>\n",
       "      <td id=\"T_23e19_row0_col3\" class=\"data row0 col3\" >252.1299</td>\n",
       "      <td id=\"T_23e19_row0_col4\" class=\"data row0 col4\" >-5.6394</td>\n",
       "      <td id=\"T_23e19_row0_col5\" class=\"data row0 col5\" >0.6828</td>\n",
       "      <td id=\"T_23e19_row0_col6\" class=\"data row0 col6\" >0.9607</td>\n",
       "    </tr>\n",
       "  </tbody>\n",
       "</table>\n"
      ],
      "text/plain": [
       "<pandas.io.formats.style.Styler at 0x2bf1a2a0f10>"
      ]
     },
     "metadata": {},
     "output_type": "display_data"
    }
   ],
   "source": [
    "prediction_tuned = predict_model(tuned_model)"
   ]
  },
  {
   "attachments": {},
   "cell_type": "markdown",
   "metadata": {},
   "source": [
    "#### Predict full dataset"
   ]
  },
  {
   "attachments": {},
   "cell_type": "markdown",
   "metadata": {},
   "source": [
    "##### Base model"
   ]
  },
  {
   "cell_type": "code",
   "execution_count": 32,
   "metadata": {},
   "outputs": [
    {
     "data": {
      "text/html": [
       "<style type=\"text/css\">\n",
       "</style>\n",
       "<table id=\"T_729e3\">\n",
       "  <thead>\n",
       "    <tr>\n",
       "      <th class=\"blank level0\" >&nbsp;</th>\n",
       "      <th id=\"T_729e3_level0_col0\" class=\"col_heading level0 col0\" >Model</th>\n",
       "      <th id=\"T_729e3_level0_col1\" class=\"col_heading level0 col1\" >MAE</th>\n",
       "      <th id=\"T_729e3_level0_col2\" class=\"col_heading level0 col2\" >MSE</th>\n",
       "      <th id=\"T_729e3_level0_col3\" class=\"col_heading level0 col3\" >RMSE</th>\n",
       "      <th id=\"T_729e3_level0_col4\" class=\"col_heading level0 col4\" >R2</th>\n",
       "      <th id=\"T_729e3_level0_col5\" class=\"col_heading level0 col5\" >RMSLE</th>\n",
       "      <th id=\"T_729e3_level0_col6\" class=\"col_heading level0 col6\" >MAPE</th>\n",
       "    </tr>\n",
       "  </thead>\n",
       "  <tbody>\n",
       "    <tr>\n",
       "      <th id=\"T_729e3_level0_row0\" class=\"row_heading level0 row0\" >0</th>\n",
       "      <td id=\"T_729e3_row0_col0\" class=\"data row0 col0\" >Extra Trees Regressor</td>\n",
       "      <td id=\"T_729e3_row0_col1\" class=\"data row0 col1\" >44.2715</td>\n",
       "      <td id=\"T_729e3_row0_col2\" class=\"data row0 col2\" >10974.2421</td>\n",
       "      <td id=\"T_729e3_row0_col3\" class=\"data row0 col3\" >104.7580</td>\n",
       "      <td id=\"T_729e3_row0_col4\" class=\"data row0 col4\" >0.7528</td>\n",
       "      <td id=\"T_729e3_row0_col5\" class=\"data row0 col5\" >0.2854</td>\n",
       "      <td id=\"T_729e3_row0_col6\" class=\"data row0 col6\" >0.1714</td>\n",
       "    </tr>\n",
       "  </tbody>\n",
       "</table>\n"
      ],
      "text/plain": [
       "<pandas.io.formats.style.Styler at 0x2bf1ec51b50>"
      ]
     },
     "metadata": {},
     "output_type": "display_data"
    },
    {
     "data": {
      "image/svg+xml": "<svg class=\"main-svg\" xmlns=\"http://www.w3.org/2000/svg\" xmlns:xlink=\"http://www.w3.org/1999/xlink\" width=\"1200\" height=\"400\" style=\"\" viewBox=\"0 0 1200 400\"><rect x=\"0\" y=\"0\" width=\"1200\" height=\"400\" style=\"fill: rgb(255, 255, 255); fill-opacity: 1;\"/><defs id=\"defs-3e7eca\"><g class=\"clips\"><clipPath id=\"clip3e7ecaxyplot\" class=\"plotclip\"><rect width=\"1001\" height=\"260\"/></clipPath><clipPath class=\"axesclip\" id=\"clip3e7ecax\"><rect x=\"80\" y=\"0\" width=\"1001\" height=\"400\"/></clipPath><clipPath class=\"axesclip\" id=\"clip3e7ecay\"><rect x=\"0\" y=\"60\" width=\"1200\" height=\"260\"/></clipPath><clipPath class=\"axesclip\" id=\"clip3e7ecaxy\"><rect x=\"80\" y=\"60\" width=\"1001\" height=\"260\"/></clipPath></g><g class=\"gradients\"/><g class=\"patterns\"/></defs><g class=\"bglayer\"><rect class=\"bg\" x=\"80\" y=\"60\" width=\"1001\" height=\"260\" style=\"fill: rgb(229, 236, 246); fill-opacity: 1; stroke-width: 0;\"/></g><g class=\"layer-below\"><g class=\"imagelayer\"/><g class=\"shapelayer\"/></g><g class=\"cartesianlayer\"><g class=\"subplot xy\"><g class=\"layer-subplot\"><g class=\"shapelayer\"/><g class=\"imagelayer\"/></g><g class=\"minor-gridlayer\"><g class=\"x\"/><g class=\"y\"/></g><g class=\"gridlayer\"><g class=\"x\"><path class=\"xgrid crisp\" transform=\"translate(142.85,0)\" d=\"M0,60v260\" style=\"stroke: rgb(255, 255, 255); stroke-opacity: 1; stroke-width: 1px;\"/><path class=\"xgrid crisp\" transform=\"translate(268.73,0)\" d=\"M0,60v260\" style=\"stroke: rgb(255, 255, 255); stroke-opacity: 1; stroke-width: 1px;\"/><path class=\"xgrid crisp\" transform=\"translate(394.44,0)\" d=\"M0,60v260\" style=\"stroke: rgb(255, 255, 255); stroke-opacity: 1; stroke-width: 1px;\"/><path class=\"xgrid crisp\" transform=\"translate(520.3199999999999,0)\" d=\"M0,60v260\" style=\"stroke: rgb(255, 255, 255); stroke-opacity: 1; stroke-width: 1px;\"/><path class=\"xgrid crisp\" transform=\"translate(646.02,0)\" d=\"M0,60v260\" style=\"stroke: rgb(255, 255, 255); stroke-opacity: 1; stroke-width: 1px;\"/><path class=\"xgrid crisp\" transform=\"translate(771.9,0)\" d=\"M0,60v260\" style=\"stroke: rgb(255, 255, 255); stroke-opacity: 1; stroke-width: 1px;\"/><path class=\"xgrid crisp\" transform=\"translate(897.61,0)\" d=\"M0,60v260\" style=\"stroke: rgb(255, 255, 255); stroke-opacity: 1; stroke-width: 1px;\"/><path class=\"xgrid crisp\" transform=\"translate(1023.49,0)\" d=\"M0,60v260\" style=\"stroke: rgb(255, 255, 255); stroke-opacity: 1; stroke-width: 1px;\"/></g><g class=\"y\"><path class=\"ygrid crisp\" transform=\"translate(0,290.31)\" d=\"M80,0h1001\" style=\"stroke: rgb(255, 255, 255); stroke-opacity: 1; stroke-width: 1px;\"/><path class=\"ygrid crisp\" transform=\"translate(0,249.62)\" d=\"M80,0h1001\" style=\"stroke: rgb(255, 255, 255); stroke-opacity: 1; stroke-width: 1px;\"/><path class=\"ygrid crisp\" transform=\"translate(0,208.92)\" d=\"M80,0h1001\" style=\"stroke: rgb(255, 255, 255); stroke-opacity: 1; stroke-width: 1px;\"/><path class=\"ygrid crisp\" transform=\"translate(0,168.23000000000002)\" d=\"M80,0h1001\" style=\"stroke: rgb(255, 255, 255); stroke-opacity: 1; stroke-width: 1px;\"/><path class=\"ygrid crisp\" transform=\"translate(0,127.53)\" d=\"M80,0h1001\" style=\"stroke: rgb(255, 255, 255); stroke-opacity: 1; stroke-width: 1px;\"/><path class=\"ygrid crisp\" transform=\"translate(0,86.84)\" d=\"M80,0h1001\" style=\"stroke: rgb(255, 255, 255); stroke-opacity: 1; stroke-width: 1px;\"/></g></g><g class=\"zerolinelayer\"/><path class=\"xlines-below\"/><path class=\"ylines-below\"/><g class=\"overlines-below\"/><g class=\"xaxislayer-below\"/><g class=\"yaxislayer-below\"/><g class=\"overaxes-below\"/><g class=\"plot\" transform=\"translate(80,60)\" clip-path=\"url(#clip3e7ecaxyplot)\"><g class=\"scatterlayer mlayer\"><g class=\"trace scatter trace33b2d3\" style=\"stroke-miterlimit: 2; opacity: 1;\"><g class=\"fills\"/><g class=\"errorbars\"/><g class=\"lines\"><path class=\"js-line\" d=\"M0,67.94L5.34,141.19L10.16,138.95L20.66,96.83L26,103.14L31.17,131.63L36.51,117.38L41.84,117.38L47.01,140.78L52.35,244.56L57.51,239.47L62.85,87.88L68.19,147.09L73.19,115.35L78.52,141.19L83.69,108.43L89.03,135.49L94.19,154.21L99.53,180.87L110.04,163.78L115.37,223.19L120.54,246.19L125.88,167.64L131.22,207.73L136.04,143.02L141.38,211.19L146.54,208.75L151.88,202.23L157.05,206.1L167.72,185.14L172.89,199.39L178.23,215.26L183.39,234.79L188.73,126.34L194.07,165.41L198.89,139.36L204.23,164.39L209.4,147.3L214.73,136.31L219.9,175.78L225.24,162.76L230.58,156.86L235.74,136.31L241.08,168.66L246.25,189.21L251.58,87.68L256.92,134.48L261.74,84.42L267.08,111.28L272.25,115.55L277.59,139.77L282.75,163.37L288.09,130.61L293.43,99.68L298.6,142.41L303.93,155.03L309.1,188.6L314.44,63.26L319.78,114.33L324.77,13L330.11,200L340.61,174.77L345.78,187.99L351.12,172.32L356.45,115.35L361.62,148.11L366.96,152.18L372.12,165.41L377.46,139.16L382.8,158.49L387.62,122.88L392.96,178.22L398.13,147.09L403.47,176.39L408.63,181.48L413.97,165.61L419.31,157.27L424.47,137.33L429.81,148.92L434.98,173.14L440.32,181.28L445.65,138.14L450.48,82.18L455.81,163.78L460.98,148.52L466.32,151.57L471.48,167.03L476.82,151.57L482.16,146.48L487.33,138.14L492.66,153.4L497.83,138.75L503.17,126.54L508.51,130L513.33,36.2L518.67,201.01L523.83,156.66L529.17,137.53L534.34,153.4L539.68,158.69L545.01,116.98L550.18,128.78L555.52,172.12L560.68,165.81L566.02,130.81L571.36,120.44L576.35,49.42L581.69,165.81L586.86,145.67L592.2,125.52L597.36,154.21L602.7,139.36L608.04,102.12L613.21,128.58L618.54,146.28L623.71,164.79L629.05,126.74L634.39,122.47L639.21,84.62L644.55,157.88L649.71,151.98L655.05,175.58L660.22,168.05L665.55,145.06L670.89,117.99L676.06,110.47L681.4,129.19L686.56,147.3L691.9,135.49L697.24,128.58L702.06,108.63L707.4,165L712.56,167.85L717.9,129.39L723.07,133.66L728.41,45.76L733.75,190.84L738.91,193.89L744.25,171.1L749.42,200L754.75,164.59L760.09,165.2L764.91,120.03L770.25,172.53L775.42,166.63L780.76,165.41L785.92,178.02L791.26,160.52L796.6,172.53L801.76,194.91L807.1,193.89L812.27,200.2L817.61,170.7L822.94,178.02L827.94,204.88L833.28,236.01L838.44,240.29L843.78,218.31L848.95,185.96L854.29,196.33L859.62,190.43L864.79,197.35L870.13,211.8L875.29,212.82L880.63,184.74L885.97,203.25L890.79,158.69L896.13,207.32L901.3,205.49L906.63,218.72L911.8,222.58L917.14,218.92L922.48,218.31L927.64,234.79L932.98,193.89L938.15,218.92L943.49,224.21L948.82,225.84L953.64,191.25L958.98,206.71L964.15,225.43L969.49,224.01L974.65,247L979.99,219.33L985.33,224.62L990.5,232.76L995.83,229.5L1001,195.72\" style=\"vector-effect: non-scaling-stroke; fill: none; stroke: rgb(99, 110, 250); stroke-opacity: 1; stroke-width: 2px; opacity: 1;\"/></g><g class=\"points\"/><g class=\"text\"/></g><g class=\"trace scatter trace3694ae\" style=\"stroke-miterlimit: 2; opacity: 1;\"><g class=\"fills\"/><g class=\"errorbars\"/><g class=\"lines\"><path class=\"js-line\" d=\"M0,67.94L5.34,141.19L10.16,138.95L20.66,96.83L26,103.14L31.17,131.63L36.51,117.38L41.84,117.38L47.01,140.78L52.35,244.56L57.51,239.47L62.85,87.88L68.19,147.09L73.19,115.35L78.52,141.19L83.69,108.43L89.03,135.49L94.19,154.21L99.53,180.87L110.04,163.78L115.37,223.19L120.54,246.19L125.88,167.64L131.22,207.73L136.04,143.02L141.38,211.19L146.54,208.75L151.88,202.23L157.05,206.1L167.72,185.14L172.89,199.39L178.23,215.26L183.39,234.79L188.73,126.34L194.07,165.41L198.89,139.36L204.23,164.39L209.4,147.3L214.73,136.31L219.9,175.78L225.24,162.76L230.58,156.86L235.74,136.31L241.08,168.66L246.25,189.21L251.58,87.68L256.92,134.48L261.74,84.42L267.08,111.28L272.25,115.55L277.59,139.77L282.75,163.37L288.09,130.61L293.43,99.68L298.6,142.41L303.93,155.03L309.1,188.6L314.44,63.26L319.78,114.33L324.77,13L330.11,200L340.61,174.77L345.78,187.99L351.12,172.32L356.45,115.35L361.62,148.11L366.96,152.18L372.12,165.41L377.46,139.16L382.8,158.49L387.62,122.88L392.96,178.22L398.13,147.09L403.47,176.39L408.63,181.48L413.97,165.61L419.31,157.27L424.47,137.33L429.81,148.92L434.98,173.14L440.32,181.28L445.65,138.14L450.48,82.18L455.81,163.78L460.98,148.52L466.32,151.57L471.48,167.03L476.82,151.57L482.16,146.48L487.33,138.14L492.66,153.4L497.83,138.75L503.17,126.54L508.51,130L513.33,36.2L518.67,201.01L523.83,156.66L529.17,137.53L534.34,153.4L539.68,158.69L545.01,116.98L550.18,128.78L555.52,172.12L560.68,165.81L566.02,130.81L571.36,120.44L576.35,49.42L581.69,165.81L586.86,145.67L592.2,125.52L597.36,154.21L602.7,139.36L608.04,102.12L613.21,128.58L618.54,146.28L623.71,164.79L629.05,126.74L634.39,122.47L639.21,84.62L644.55,157.88L649.71,151.98L655.05,175.58L660.22,168.05L665.55,145.06L670.89,117.99L676.06,110.47L681.4,129.19L686.56,147.3L691.9,135.49L697.24,128.58L702.06,108.63L707.4,165L712.56,167.85L717.9,129.39L723.07,133.66L728.41,45.76L733.75,190.84L738.91,193.89L744.25,171.1L749.42,200L754.75,164.59L760.09,165.2L764.91,120.03L770.25,172.53L775.42,166.63L780.76,165.41L785.92,178.02L791.26,160.52L796.6,172.53L801.76,194.91L807.1,193.89L812.27,200.2L817.61,144.41L822.94,164.57L827.94,179.24L833.28,198.37L838.44,204.38L843.78,177.76L848.95,139.92L854.29,140.9L859.62,138.1L864.79,149.16L870.13,167.93L875.29,165.71L880.63,132.01L885.97,146.33L890.79,117.81L896.13,161.2L901.3,160.13L906.63,175.55L911.8,174.39L917.14,173.64L922.48,169.74L927.64,176.4L932.98,149.46L938.15,169.16L943.49,166.75L948.82,174.67L953.64,126.95L958.98,154.93L964.15,167.84L969.49,166.76L974.65,178.77L979.99,159.05L985.33,168.67L990.5,180.43L995.83,174.39L1001,149.82\" style=\"vector-effect: non-scaling-stroke; fill: none; stroke: rgb(239, 85, 59); stroke-opacity: 1; stroke-width: 2px; opacity: 1;\"/></g><g class=\"points\"/><g class=\"text\"/></g></g></g><g class=\"overplot\"/><path class=\"xlines-above crisp\" d=\"M0,0\" style=\"fill: none;\"/><path class=\"ylines-above crisp\" d=\"M0,0\" style=\"fill: none;\"/><g class=\"overlines-above\"/><g class=\"xaxislayer-above\"><g class=\"xtick\"><text text-anchor=\"middle\" x=\"0\" y=\"333\" transform=\"translate(142.85,0)\" style=\"font-family: 'Open Sans', verdana, arial, sans-serif; font-size: 12px; fill: rgb(42, 63, 95); fill-opacity: 1; white-space: pre; opacity: 1;\">2008</text></g><g class=\"xtick\"><text text-anchor=\"middle\" x=\"0\" y=\"333\" style=\"font-family: 'Open Sans', verdana, arial, sans-serif; font-size: 12px; fill: rgb(42, 63, 95); fill-opacity: 1; white-space: pre; opacity: 1;\" transform=\"translate(268.73,0)\">2010</text></g><g class=\"xtick\"><text text-anchor=\"middle\" x=\"0\" y=\"333\" style=\"font-family: 'Open Sans', verdana, arial, sans-serif; font-size: 12px; fill: rgb(42, 63, 95); fill-opacity: 1; white-space: pre; opacity: 1;\" transform=\"translate(394.44,0)\">2012</text></g><g class=\"xtick\"><text text-anchor=\"middle\" x=\"0\" y=\"333\" style=\"font-family: 'Open Sans', verdana, arial, sans-serif; font-size: 12px; fill: rgb(42, 63, 95); fill-opacity: 1; white-space: pre; opacity: 1;\" transform=\"translate(520.3199999999999,0)\">2014</text></g><g class=\"xtick\"><text text-anchor=\"middle\" x=\"0\" y=\"333\" style=\"font-family: 'Open Sans', verdana, arial, sans-serif; font-size: 12px; fill: rgb(42, 63, 95); fill-opacity: 1; white-space: pre; opacity: 1;\" transform=\"translate(646.02,0)\">2016</text></g><g class=\"xtick\"><text text-anchor=\"middle\" x=\"0\" y=\"333\" style=\"font-family: 'Open Sans', verdana, arial, sans-serif; font-size: 12px; fill: rgb(42, 63, 95); fill-opacity: 1; white-space: pre; opacity: 1;\" transform=\"translate(771.9,0)\">2018</text></g><g class=\"xtick\"><text text-anchor=\"middle\" x=\"0\" y=\"333\" style=\"font-family: 'Open Sans', verdana, arial, sans-serif; font-size: 12px; fill: rgb(42, 63, 95); fill-opacity: 1; white-space: pre; opacity: 1;\" transform=\"translate(897.61,0)\">2020</text></g><g class=\"xtick\"><text text-anchor=\"middle\" x=\"0\" y=\"333\" style=\"font-family: 'Open Sans', verdana, arial, sans-serif; font-size: 12px; fill: rgb(42, 63, 95); fill-opacity: 1; white-space: pre; opacity: 1;\" transform=\"translate(1023.49,0)\">2022</text></g></g><g class=\"yaxislayer-above\"><g class=\"ytick\"><text text-anchor=\"end\" x=\"79\" y=\"4.199999999999999\" transform=\"translate(0,290.31)\" style=\"font-family: 'Open Sans', verdana, arial, sans-serif; font-size: 12px; fill: rgb(42, 63, 95); fill-opacity: 1; white-space: pre; opacity: 1;\">200</text></g><g class=\"ytick\"><text text-anchor=\"end\" x=\"79\" y=\"4.199999999999999\" style=\"font-family: 'Open Sans', verdana, arial, sans-serif; font-size: 12px; fill: rgb(42, 63, 95); fill-opacity: 1; white-space: pre; opacity: 1;\" transform=\"translate(0,249.62)\">400</text></g><g class=\"ytick\"><text text-anchor=\"end\" x=\"79\" y=\"4.199999999999999\" style=\"font-family: 'Open Sans', verdana, arial, sans-serif; font-size: 12px; fill: rgb(42, 63, 95); fill-opacity: 1; white-space: pre; opacity: 1;\" transform=\"translate(0,208.92)\">600</text></g><g class=\"ytick\"><text text-anchor=\"end\" x=\"79\" y=\"4.199999999999999\" style=\"font-family: 'Open Sans', verdana, arial, sans-serif; font-size: 12px; fill: rgb(42, 63, 95); fill-opacity: 1; white-space: pre; opacity: 1;\" transform=\"translate(0,168.23000000000002)\">800</text></g><g class=\"ytick\"><text text-anchor=\"end\" x=\"79\" y=\"4.199999999999999\" style=\"font-family: 'Open Sans', verdana, arial, sans-serif; font-size: 12px; fill: rgb(42, 63, 95); fill-opacity: 1; white-space: pre; opacity: 1;\" transform=\"translate(0,127.53)\">1000</text></g><g class=\"ytick\"><text text-anchor=\"end\" x=\"79\" y=\"4.199999999999999\" style=\"font-family: 'Open Sans', verdana, arial, sans-serif; font-size: 12px; fill: rgb(42, 63, 95); fill-opacity: 1; white-space: pre; opacity: 1;\" transform=\"translate(0,86.84)\">1200</text></g></g><g class=\"overaxes-above\"/></g></g><g class=\"polarlayer\"/><g class=\"smithlayer\"/><g class=\"ternarylayer\"/><g class=\"geolayer\"/><g class=\"funnelarealayer\"/><g class=\"pielayer\"/><g class=\"iciclelayer\"/><g class=\"treemaplayer\"/><g class=\"sunburstlayer\"/><g class=\"glimages\"/><defs id=\"topdefs-3e7eca\"><g class=\"clips\"/><clipPath id=\"legend3e7eca\"><rect width=\"87\" height=\"67\" x=\"0\" y=\"0\"/></clipPath></defs><g class=\"layer-above\"><g class=\"imagelayer\"/><g class=\"shapelayer\"><path data-index=\"0\" fill-rule=\"evenodd\" d=\"M897.61,320H1081V60H897.61Z\" clip-path=\"url(#clip3e7ecax)\" style=\"opacity: 0.25; stroke: rgb(0, 0, 0); stroke-opacity: 0; fill: rgb(128, 128, 128); fill-opacity: 1; stroke-width: 0px;\"/></g></g><g class=\"infolayer\"><g class=\"legend\" pointer-events=\"all\" transform=\"translate(1101.02,60)\"><rect class=\"bg\" shape-rendering=\"crispEdges\" width=\"87\" height=\"67\" x=\"0\" y=\"0\" style=\"stroke: rgb(68, 68, 68); stroke-opacity: 1; fill: rgb(255, 255, 255); fill-opacity: 1; stroke-width: 0px;\"/><g class=\"scrollbox\" transform=\"\" clip-path=\"url(#legend3e7eca)\"><text class=\"legendtitletext\" text-anchor=\"start\" x=\"2\" y=\"18.2\" style=\"font-family: 'Open Sans', verdana, arial, sans-serif; font-size: 14px; fill: rgb(42, 63, 95); fill-opacity: 1; white-space: pre;\">variable</text><g class=\"groups\" transform=\"\"><g class=\"traces\" transform=\"translate(0,32.7)\" style=\"opacity: 1;\"><text class=\"legendtext\" text-anchor=\"start\" x=\"40\" y=\"4.680000000000001\" style=\"font-family: 'Open Sans', verdana, arial, sans-serif; font-size: 12px; fill: rgb(42, 63, 95); fill-opacity: 1; white-space: pre;\">Orders</text><g class=\"layers\" style=\"opacity: 1;\"><g class=\"legendfill\"/><g class=\"legendlines\"><path class=\"js-line\" d=\"M5,0h30\" style=\"fill: none; stroke: rgb(99, 110, 250); stroke-opacity: 1; stroke-width: 2px;\"/></g><g class=\"legendsymbols\"><g class=\"legendpoints\"/></g></g><rect class=\"legendtoggle\" x=\"0\" y=\"-9.5\" width=\"81.3125\" height=\"19\" style=\"fill: rgb(0, 0, 0); fill-opacity: 0;\"/></g></g><g class=\"groups\" transform=\"\"><g class=\"traces\" transform=\"translate(0,51.7)\" style=\"opacity: 1;\"><text class=\"legendtext\" text-anchor=\"start\" x=\"40\" y=\"4.680000000000001\" style=\"font-family: 'Open Sans', verdana, arial, sans-serif; font-size: 12px; fill: rgb(42, 63, 95); fill-opacity: 1; white-space: pre;\">Label</text><g class=\"layers\" style=\"opacity: 1;\"><g class=\"legendfill\"/><g class=\"legendlines\"><path class=\"js-line\" d=\"M5,0h30\" style=\"fill: none; stroke: rgb(239, 85, 59); stroke-opacity: 1; stroke-width: 2px;\"/></g><g class=\"legendsymbols\"><g class=\"legendpoints\"/></g></g><rect class=\"legendtoggle\" x=\"0\" y=\"-9.5\" width=\"81.3125\" height=\"19\" style=\"fill: rgb(0, 0, 0); fill-opacity: 0;\"/></g></g></g><rect class=\"scrollbar\" rx=\"20\" ry=\"3\" width=\"0\" height=\"0\" x=\"0\" y=\"0\" style=\"fill: rgb(128, 139, 164); fill-opacity: 1;\"/></g><g class=\"g-gtitle\"/><g class=\"g-xtitle\"><text class=\"xtitle\" x=\"580.5\" y=\"360.3\" text-anchor=\"middle\" style=\"font-family: 'Open Sans', verdana, arial, sans-serif; font-size: 14px; fill: rgb(42, 63, 95); opacity: 1; font-weight: normal; white-space: pre;\">Date</text></g><g class=\"g-ytitle\"><text class=\"ytitle\" transform=\"rotate(-90,24.184375000000003,190)\" x=\"24.184375000000003\" y=\"190\" text-anchor=\"middle\" style=\"font-family: 'Open Sans', verdana, arial, sans-serif; font-size: 14px; fill: rgb(42, 63, 95); opacity: 1; font-weight: normal; white-space: pre;\">value</text></g></g></svg>"
     },
     "metadata": {},
     "output_type": "display_data"
    }
   ],
   "source": [
    "# Generate predictions on the original dataset\n",
    "predictions = predict_model(model, data=df)\n",
    "\n",
    "# Add a date column in the dataset\n",
    "predictions['Date'] = pd.date_range(start=start, end = end, freq = 'MS')\n",
    "\n",
    "# Line plot\n",
    "fig = px.line(predictions, x='Date', y=[dep_var, \"Label\"]) #, template = 'plotly_dark')\n",
    "\n",
    "# Add a vertical rectange for test-set separation\n",
    "fig.add_vrect(x0=start_test, x1=predictions.Date.max(), fillcolor=\"grey\", opacity=0.25, line_width=0)\n",
    "fig.update_layout(height=400, width=1200)\n",
    "fig.show()"
   ]
  },
  {
   "attachments": {},
   "cell_type": "markdown",
   "metadata": {},
   "source": [
    "##### Tuned model"
   ]
  },
  {
   "cell_type": "code",
   "execution_count": 33,
   "metadata": {},
   "outputs": [
    {
     "data": {
      "text/html": [
       "<style type=\"text/css\">\n",
       "</style>\n",
       "<table id=\"T_45c54\">\n",
       "  <thead>\n",
       "    <tr>\n",
       "      <th class=\"blank level0\" >&nbsp;</th>\n",
       "      <th id=\"T_45c54_level0_col0\" class=\"col_heading level0 col0\" >Model</th>\n",
       "      <th id=\"T_45c54_level0_col1\" class=\"col_heading level0 col1\" >MAE</th>\n",
       "      <th id=\"T_45c54_level0_col2\" class=\"col_heading level0 col2\" >MSE</th>\n",
       "      <th id=\"T_45c54_level0_col3\" class=\"col_heading level0 col3\" >RMSE</th>\n",
       "      <th id=\"T_45c54_level0_col4\" class=\"col_heading level0 col4\" >R2</th>\n",
       "      <th id=\"T_45c54_level0_col5\" class=\"col_heading level0 col5\" >RMSLE</th>\n",
       "      <th id=\"T_45c54_level0_col6\" class=\"col_heading level0 col6\" >MAPE</th>\n",
       "    </tr>\n",
       "  </thead>\n",
       "  <tbody>\n",
       "    <tr>\n",
       "      <th id=\"T_45c54_level0_row0\" class=\"row_heading level0 row0\" >0</th>\n",
       "      <td id=\"T_45c54_row0_col0\" class=\"data row0 col0\" >Extra Trees Regressor</td>\n",
       "      <td id=\"T_45c54_row0_col1\" class=\"data row0 col1\" >70.3912</td>\n",
       "      <td id=\"T_45c54_row0_col2\" class=\"data row0 col2\" >13057.2109</td>\n",
       "      <td id=\"T_45c54_row0_col3\" class=\"data row0 col3\" >114.2682</td>\n",
       "      <td id=\"T_45c54_row0_col4\" class=\"data row0 col4\" >0.7059</td>\n",
       "      <td id=\"T_45c54_row0_col5\" class=\"data row0 col5\" >0.3033</td>\n",
       "      <td id=\"T_45c54_row0_col6\" class=\"data row0 col6\" >0.2264</td>\n",
       "    </tr>\n",
       "  </tbody>\n",
       "</table>\n"
      ],
      "text/plain": [
       "<pandas.io.formats.style.Styler at 0x2bf1ec26af0>"
      ]
     },
     "metadata": {},
     "output_type": "display_data"
    },
    {
     "data": {
      "image/svg+xml": "<svg class=\"main-svg\" xmlns=\"http://www.w3.org/2000/svg\" xmlns:xlink=\"http://www.w3.org/1999/xlink\" width=\"1200\" height=\"400\" style=\"\" viewBox=\"0 0 1200 400\"><rect x=\"0\" y=\"0\" width=\"1200\" height=\"400\" style=\"fill: rgb(255, 255, 255); fill-opacity: 1;\"/><defs id=\"defs-f5b7cc\"><g class=\"clips\"><clipPath id=\"clipf5b7ccxyplot\" class=\"plotclip\"><rect width=\"1001\" height=\"260\"/></clipPath><clipPath class=\"axesclip\" id=\"clipf5b7ccx\"><rect x=\"80\" y=\"0\" width=\"1001\" height=\"400\"/></clipPath><clipPath class=\"axesclip\" id=\"clipf5b7ccy\"><rect x=\"0\" y=\"60\" width=\"1200\" height=\"260\"/></clipPath><clipPath class=\"axesclip\" id=\"clipf5b7ccxy\"><rect x=\"80\" y=\"60\" width=\"1001\" height=\"260\"/></clipPath></g><g class=\"gradients\"/><g class=\"patterns\"/></defs><g class=\"bglayer\"><rect class=\"bg\" x=\"80\" y=\"60\" width=\"1001\" height=\"260\" style=\"fill: rgb(229, 236, 246); fill-opacity: 1; stroke-width: 0;\"/></g><g class=\"layer-below\"><g class=\"imagelayer\"/><g class=\"shapelayer\"/></g><g class=\"cartesianlayer\"><g class=\"subplot xy\"><g class=\"layer-subplot\"><g class=\"shapelayer\"/><g class=\"imagelayer\"/></g><g class=\"minor-gridlayer\"><g class=\"x\"/><g class=\"y\"/></g><g class=\"gridlayer\"><g class=\"x\"><path class=\"xgrid crisp\" transform=\"translate(142.85,0)\" d=\"M0,60v260\" style=\"stroke: rgb(255, 255, 255); stroke-opacity: 1; stroke-width: 1px;\"/><path class=\"xgrid crisp\" transform=\"translate(268.73,0)\" d=\"M0,60v260\" style=\"stroke: rgb(255, 255, 255); stroke-opacity: 1; stroke-width: 1px;\"/><path class=\"xgrid crisp\" transform=\"translate(394.44,0)\" d=\"M0,60v260\" style=\"stroke: rgb(255, 255, 255); stroke-opacity: 1; stroke-width: 1px;\"/><path class=\"xgrid crisp\" transform=\"translate(520.3199999999999,0)\" d=\"M0,60v260\" style=\"stroke: rgb(255, 255, 255); stroke-opacity: 1; stroke-width: 1px;\"/><path class=\"xgrid crisp\" transform=\"translate(646.02,0)\" d=\"M0,60v260\" style=\"stroke: rgb(255, 255, 255); stroke-opacity: 1; stroke-width: 1px;\"/><path class=\"xgrid crisp\" transform=\"translate(771.9,0)\" d=\"M0,60v260\" style=\"stroke: rgb(255, 255, 255); stroke-opacity: 1; stroke-width: 1px;\"/><path class=\"xgrid crisp\" transform=\"translate(897.61,0)\" d=\"M0,60v260\" style=\"stroke: rgb(255, 255, 255); stroke-opacity: 1; stroke-width: 1px;\"/><path class=\"xgrid crisp\" transform=\"translate(1023.49,0)\" d=\"M0,60v260\" style=\"stroke: rgb(255, 255, 255); stroke-opacity: 1; stroke-width: 1px;\"/></g><g class=\"y\"><path class=\"ygrid crisp\" transform=\"translate(0,290.31)\" d=\"M80,0h1001\" style=\"stroke: rgb(255, 255, 255); stroke-opacity: 1; stroke-width: 1px;\"/><path class=\"ygrid crisp\" transform=\"translate(0,249.62)\" d=\"M80,0h1001\" style=\"stroke: rgb(255, 255, 255); stroke-opacity: 1; stroke-width: 1px;\"/><path class=\"ygrid crisp\" transform=\"translate(0,208.92)\" d=\"M80,0h1001\" style=\"stroke: rgb(255, 255, 255); stroke-opacity: 1; stroke-width: 1px;\"/><path class=\"ygrid crisp\" transform=\"translate(0,168.23000000000002)\" d=\"M80,0h1001\" style=\"stroke: rgb(255, 255, 255); stroke-opacity: 1; stroke-width: 1px;\"/><path class=\"ygrid crisp\" transform=\"translate(0,127.53)\" d=\"M80,0h1001\" style=\"stroke: rgb(255, 255, 255); stroke-opacity: 1; stroke-width: 1px;\"/><path class=\"ygrid crisp\" transform=\"translate(0,86.84)\" d=\"M80,0h1001\" style=\"stroke: rgb(255, 255, 255); stroke-opacity: 1; stroke-width: 1px;\"/></g></g><g class=\"zerolinelayer\"/><path class=\"xlines-below\"/><path class=\"ylines-below\"/><g class=\"overlines-below\"/><g class=\"xaxislayer-below\"/><g class=\"yaxislayer-below\"/><g class=\"overaxes-below\"/><g class=\"plot\" transform=\"translate(80,60)\" clip-path=\"url(#clipf5b7ccxyplot)\"><g class=\"scatterlayer mlayer\"><g class=\"trace scatter trace1b56d3\" style=\"stroke-miterlimit: 2; opacity: 1;\"><g class=\"fills\"/><g class=\"errorbars\"/><g class=\"lines\"><path class=\"js-line\" d=\"M0,67.94L5.34,141.19L10.16,138.95L20.66,96.83L26,103.14L31.17,131.63L36.51,117.38L41.84,117.38L47.01,140.78L52.35,244.56L57.51,239.47L62.85,87.88L68.19,147.09L73.19,115.35L78.52,141.19L83.69,108.43L89.03,135.49L94.19,154.21L99.53,180.87L110.04,163.78L115.37,223.19L120.54,246.19L125.88,167.64L131.22,207.73L136.04,143.02L141.38,211.19L146.54,208.75L151.88,202.23L157.05,206.1L167.72,185.14L172.89,199.39L178.23,215.26L183.39,234.79L188.73,126.34L194.07,165.41L198.89,139.36L204.23,164.39L209.4,147.3L214.73,136.31L219.9,175.78L225.24,162.76L230.58,156.86L235.74,136.31L241.08,168.66L246.25,189.21L251.58,87.68L256.92,134.48L261.74,84.42L267.08,111.28L272.25,115.55L277.59,139.77L282.75,163.37L288.09,130.61L293.43,99.68L298.6,142.41L303.93,155.03L309.1,188.6L314.44,63.26L319.78,114.33L324.77,13L330.11,200L340.61,174.77L345.78,187.99L351.12,172.32L356.45,115.35L361.62,148.11L366.96,152.18L372.12,165.41L377.46,139.16L382.8,158.49L387.62,122.88L392.96,178.22L398.13,147.09L403.47,176.39L408.63,181.48L413.97,165.61L419.31,157.27L424.47,137.33L429.81,148.92L434.98,173.14L440.32,181.28L445.65,138.14L450.48,82.18L455.81,163.78L460.98,148.52L466.32,151.57L471.48,167.03L476.82,151.57L482.16,146.48L487.33,138.14L492.66,153.4L497.83,138.75L503.17,126.54L508.51,130L513.33,36.2L518.67,201.01L523.83,156.66L529.17,137.53L534.34,153.4L539.68,158.69L545.01,116.98L550.18,128.78L555.52,172.12L560.68,165.81L566.02,130.81L571.36,120.44L576.35,49.42L581.69,165.81L586.86,145.67L592.2,125.52L597.36,154.21L602.7,139.36L608.04,102.12L613.21,128.58L618.54,146.28L623.71,164.79L629.05,126.74L634.39,122.47L639.21,84.62L644.55,157.88L649.71,151.98L655.05,175.58L660.22,168.05L665.55,145.06L670.89,117.99L676.06,110.47L681.4,129.19L686.56,147.3L691.9,135.49L697.24,128.58L702.06,108.63L707.4,165L712.56,167.85L717.9,129.39L723.07,133.66L728.41,45.76L733.75,190.84L738.91,193.89L744.25,171.1L749.42,200L754.75,164.59L760.09,165.2L764.91,120.03L770.25,172.53L775.42,166.63L780.76,165.41L785.92,178.02L791.26,160.52L796.6,172.53L801.76,194.91L807.1,193.89L812.27,200.2L817.61,170.7L822.94,178.02L827.94,204.88L833.28,236.01L838.44,240.29L843.78,218.31L848.95,185.96L854.29,196.33L859.62,190.43L864.79,197.35L870.13,211.8L875.29,212.82L880.63,184.74L885.97,203.25L890.79,158.69L896.13,207.32L901.3,205.49L906.63,218.72L911.8,222.58L917.14,218.92L922.48,218.31L927.64,234.79L932.98,193.89L938.15,218.92L943.49,224.21L948.82,225.84L953.64,191.25L958.98,206.71L964.15,225.43L969.49,224.01L974.65,247L979.99,219.33L985.33,224.62L990.5,232.76L995.83,229.5L1001,195.72\" style=\"vector-effect: non-scaling-stroke; fill: none; stroke: rgb(99, 110, 250); stroke-opacity: 1; stroke-width: 2px; opacity: 1;\"/></g><g class=\"points\"/><g class=\"text\"/></g><g class=\"trace scatter trace992d9a\" style=\"stroke-miterlimit: 2; opacity: 1;\"><g class=\"fills\"/><g class=\"errorbars\"/><g class=\"lines\"><path class=\"js-line\" d=\"M0,88.65L5.34,145.6L10.16,137.71L15.5,128.28L20.66,100.69L26,109.72L31.17,143.53L41.84,128.23L47.01,143.32L52.35,241.35L57.51,239.94L62.85,85.81L68.19,146.91L73.19,118.86L78.52,139.78L83.69,108.78L89.03,134.13L99.53,173.26L104.87,162.89L110.04,154.29L115.37,221.02L120.54,237.59L125.88,152.13L131.22,208.26L136.04,132.21L141.38,207.09L146.54,202.7L151.88,187.02L157.05,200.52L162.38,194.03L167.72,177.91L172.89,185.43L178.23,207.1L183.39,223.88L188.73,118.24L194.07,164.22L198.89,128.79L204.23,151.35L209.4,144.53L214.73,136.11L219.9,169.02L225.24,152.92L230.58,146.98L235.74,138.25L241.08,162.4L246.25,189.08L251.58,90.02L256.92,134.56L261.74,88.73L267.08,116.22L272.25,118.03L282.75,167.73L288.09,137.97L293.43,112.95L298.6,155.09L303.93,165.84L309.1,188.78L314.44,70.68L319.78,128.63L324.77,33.35L330.11,206.68L335.27,187.39L340.61,177.53L345.78,186.66L351.12,172.41L356.45,122.28L361.62,153.6L366.96,156.95L372.12,171.52L377.46,140.96L382.8,156.75L387.62,119.6L392.96,169.93L398.13,144.08L403.47,170.7L408.63,173.93L413.97,162.57L419.31,150.45L424.47,133.52L429.81,146.07L434.98,170.78L440.32,168.44L445.65,134.9L450.48,78.47L455.81,158.83L460.98,141.28L466.32,148.26L471.48,164.73L476.82,153.06L482.16,145.98L487.33,136.12L492.66,154.25L497.83,144.09L503.17,134.93L508.51,134.82L513.33,35.48L518.67,186.89L523.83,160.47L529.17,142.27L534.34,159.83L539.68,162.64L545.01,128.19L550.18,135.52L555.52,169.7L560.68,166.37L566.02,131.72L571.36,126.96L576.35,43.99L581.69,166.37L586.86,151.27L592.2,132.7L597.36,159.53L602.7,147.52L608.04,115.19L613.21,135.48L618.54,156.49L623.71,167.84L629.05,134.62L634.39,133.27L639.21,95.2L644.55,163.66L649.71,158.42L655.05,168.22L660.22,166.62L665.55,147.4L670.89,122.52L676.06,117.03L681.4,134.23L686.56,156.31L691.9,137.53L697.24,132.95L702.06,110.09L707.4,164.03L712.56,166.24L717.9,135.94L723.07,142.55L728.41,56.24L733.75,192.72L738.91,186.88L744.25,170.7L749.42,194.58L754.75,160.87L760.09,162.97L764.91,117.54L770.25,165.23L775.42,161.58L780.76,156.68L785.92,168.53L791.26,141.16L796.6,163.11L801.76,179.23L807.1,175.8L812.27,183.07L817.61,145.9L822.94,159.03L827.94,170.9L833.28,195.14L838.44,202.85L843.78,169.82L848.95,141.01L854.29,144.32L859.62,140.61L864.79,150.96L870.13,164.11L875.29,160.9L880.63,133.11L885.97,147.19L890.79,121.09L896.13,157.38L901.3,157L906.63,168.97L911.8,170.13L917.14,167.94L922.48,168.27L927.64,174.4L932.98,151.25L938.15,168.8L943.49,163.94L948.82,170.06L953.64,129.66L958.98,152.6L964.15,162.34L969.49,162.23L974.65,180.83L979.99,157.52L985.33,163.68L990.5,175.45L995.83,167.35L1001,149.11\" style=\"vector-effect: non-scaling-stroke; fill: none; stroke: rgb(239, 85, 59); stroke-opacity: 1; stroke-width: 2px; opacity: 1;\"/></g><g class=\"points\"/><g class=\"text\"/></g></g></g><g class=\"overplot\"/><path class=\"xlines-above crisp\" d=\"M0,0\" style=\"fill: none;\"/><path class=\"ylines-above crisp\" d=\"M0,0\" style=\"fill: none;\"/><g class=\"overlines-above\"/><g class=\"xaxislayer-above\"><g class=\"xtick\"><text text-anchor=\"middle\" x=\"0\" y=\"333\" transform=\"translate(142.85,0)\" style=\"font-family: 'Open Sans', verdana, arial, sans-serif; font-size: 12px; fill: rgb(42, 63, 95); fill-opacity: 1; white-space: pre; opacity: 1;\">2008</text></g><g class=\"xtick\"><text text-anchor=\"middle\" x=\"0\" y=\"333\" style=\"font-family: 'Open Sans', verdana, arial, sans-serif; font-size: 12px; fill: rgb(42, 63, 95); fill-opacity: 1; white-space: pre; opacity: 1;\" transform=\"translate(268.73,0)\">2010</text></g><g class=\"xtick\"><text text-anchor=\"middle\" x=\"0\" y=\"333\" style=\"font-family: 'Open Sans', verdana, arial, sans-serif; font-size: 12px; fill: rgb(42, 63, 95); fill-opacity: 1; white-space: pre; opacity: 1;\" transform=\"translate(394.44,0)\">2012</text></g><g class=\"xtick\"><text text-anchor=\"middle\" x=\"0\" y=\"333\" style=\"font-family: 'Open Sans', verdana, arial, sans-serif; font-size: 12px; fill: rgb(42, 63, 95); fill-opacity: 1; white-space: pre; opacity: 1;\" transform=\"translate(520.3199999999999,0)\">2014</text></g><g class=\"xtick\"><text text-anchor=\"middle\" x=\"0\" y=\"333\" style=\"font-family: 'Open Sans', verdana, arial, sans-serif; font-size: 12px; fill: rgb(42, 63, 95); fill-opacity: 1; white-space: pre; opacity: 1;\" transform=\"translate(646.02,0)\">2016</text></g><g class=\"xtick\"><text text-anchor=\"middle\" x=\"0\" y=\"333\" style=\"font-family: 'Open Sans', verdana, arial, sans-serif; font-size: 12px; fill: rgb(42, 63, 95); fill-opacity: 1; white-space: pre; opacity: 1;\" transform=\"translate(771.9,0)\">2018</text></g><g class=\"xtick\"><text text-anchor=\"middle\" x=\"0\" y=\"333\" style=\"font-family: 'Open Sans', verdana, arial, sans-serif; font-size: 12px; fill: rgb(42, 63, 95); fill-opacity: 1; white-space: pre; opacity: 1;\" transform=\"translate(897.61,0)\">2020</text></g><g class=\"xtick\"><text text-anchor=\"middle\" x=\"0\" y=\"333\" style=\"font-family: 'Open Sans', verdana, arial, sans-serif; font-size: 12px; fill: rgb(42, 63, 95); fill-opacity: 1; white-space: pre; opacity: 1;\" transform=\"translate(1023.49,0)\">2022</text></g></g><g class=\"yaxislayer-above\"><g class=\"ytick\"><text text-anchor=\"end\" x=\"79\" y=\"4.199999999999999\" transform=\"translate(0,290.31)\" style=\"font-family: 'Open Sans', verdana, arial, sans-serif; font-size: 12px; fill: rgb(42, 63, 95); fill-opacity: 1; white-space: pre; opacity: 1;\">200</text></g><g class=\"ytick\"><text text-anchor=\"end\" x=\"79\" y=\"4.199999999999999\" style=\"font-family: 'Open Sans', verdana, arial, sans-serif; font-size: 12px; fill: rgb(42, 63, 95); fill-opacity: 1; white-space: pre; opacity: 1;\" transform=\"translate(0,249.62)\">400</text></g><g class=\"ytick\"><text text-anchor=\"end\" x=\"79\" y=\"4.199999999999999\" style=\"font-family: 'Open Sans', verdana, arial, sans-serif; font-size: 12px; fill: rgb(42, 63, 95); fill-opacity: 1; white-space: pre; opacity: 1;\" transform=\"translate(0,208.92)\">600</text></g><g class=\"ytick\"><text text-anchor=\"end\" x=\"79\" y=\"4.199999999999999\" style=\"font-family: 'Open Sans', verdana, arial, sans-serif; font-size: 12px; fill: rgb(42, 63, 95); fill-opacity: 1; white-space: pre; opacity: 1;\" transform=\"translate(0,168.23000000000002)\">800</text></g><g class=\"ytick\"><text text-anchor=\"end\" x=\"79\" y=\"4.199999999999999\" style=\"font-family: 'Open Sans', verdana, arial, sans-serif; font-size: 12px; fill: rgb(42, 63, 95); fill-opacity: 1; white-space: pre; opacity: 1;\" transform=\"translate(0,127.53)\">1000</text></g><g class=\"ytick\"><text text-anchor=\"end\" x=\"79\" y=\"4.199999999999999\" style=\"font-family: 'Open Sans', verdana, arial, sans-serif; font-size: 12px; fill: rgb(42, 63, 95); fill-opacity: 1; white-space: pre; opacity: 1;\" transform=\"translate(0,86.84)\">1200</text></g></g><g class=\"overaxes-above\"/></g></g><g class=\"polarlayer\"/><g class=\"smithlayer\"/><g class=\"ternarylayer\"/><g class=\"geolayer\"/><g class=\"funnelarealayer\"/><g class=\"pielayer\"/><g class=\"iciclelayer\"/><g class=\"treemaplayer\"/><g class=\"sunburstlayer\"/><g class=\"glimages\"/><defs id=\"topdefs-f5b7cc\"><g class=\"clips\"/><clipPath id=\"legendf5b7cc\"><rect width=\"87\" height=\"67\" x=\"0\" y=\"0\"/></clipPath></defs><g class=\"layer-above\"><g class=\"imagelayer\"/><g class=\"shapelayer\"><path data-index=\"0\" fill-rule=\"evenodd\" d=\"M897.61,320H1081V60H897.61Z\" clip-path=\"url(#clipf5b7ccx)\" style=\"opacity: 0.25; stroke: rgb(0, 0, 0); stroke-opacity: 0; fill: rgb(128, 128, 128); fill-opacity: 1; stroke-width: 0px;\"/></g></g><g class=\"infolayer\"><g class=\"legend\" pointer-events=\"all\" transform=\"translate(1101.02,60)\"><rect class=\"bg\" shape-rendering=\"crispEdges\" width=\"87\" height=\"67\" x=\"0\" y=\"0\" style=\"stroke: rgb(68, 68, 68); stroke-opacity: 1; fill: rgb(255, 255, 255); fill-opacity: 1; stroke-width: 0px;\"/><g class=\"scrollbox\" transform=\"\" clip-path=\"url(#legendf5b7cc)\"><text class=\"legendtitletext\" text-anchor=\"start\" x=\"2\" y=\"18.2\" style=\"font-family: 'Open Sans', verdana, arial, sans-serif; font-size: 14px; fill: rgb(42, 63, 95); fill-opacity: 1; white-space: pre;\">variable</text><g class=\"groups\" transform=\"\"><g class=\"traces\" transform=\"translate(0,32.7)\" style=\"opacity: 1;\"><text class=\"legendtext\" text-anchor=\"start\" x=\"40\" y=\"4.680000000000001\" style=\"font-family: 'Open Sans', verdana, arial, sans-serif; font-size: 12px; fill: rgb(42, 63, 95); fill-opacity: 1; white-space: pre;\">Orders</text><g class=\"layers\" style=\"opacity: 1;\"><g class=\"legendfill\"/><g class=\"legendlines\"><path class=\"js-line\" d=\"M5,0h30\" style=\"fill: none; stroke: rgb(99, 110, 250); stroke-opacity: 1; stroke-width: 2px;\"/></g><g class=\"legendsymbols\"><g class=\"legendpoints\"/></g></g><rect class=\"legendtoggle\" x=\"0\" y=\"-9.5\" width=\"81.3125\" height=\"19\" style=\"fill: rgb(0, 0, 0); fill-opacity: 0;\"/></g></g><g class=\"groups\" transform=\"\"><g class=\"traces\" transform=\"translate(0,51.7)\" style=\"opacity: 1;\"><text class=\"legendtext\" text-anchor=\"start\" x=\"40\" y=\"4.680000000000001\" style=\"font-family: 'Open Sans', verdana, arial, sans-serif; font-size: 12px; fill: rgb(42, 63, 95); fill-opacity: 1; white-space: pre;\">Label</text><g class=\"layers\" style=\"opacity: 1;\"><g class=\"legendfill\"/><g class=\"legendlines\"><path class=\"js-line\" d=\"M5,0h30\" style=\"fill: none; stroke: rgb(239, 85, 59); stroke-opacity: 1; stroke-width: 2px;\"/></g><g class=\"legendsymbols\"><g class=\"legendpoints\"/></g></g><rect class=\"legendtoggle\" x=\"0\" y=\"-9.5\" width=\"81.3125\" height=\"19\" style=\"fill: rgb(0, 0, 0); fill-opacity: 0;\"/></g></g></g><rect class=\"scrollbar\" rx=\"20\" ry=\"3\" width=\"0\" height=\"0\" x=\"0\" y=\"0\" style=\"fill: rgb(128, 139, 164); fill-opacity: 1;\"/></g><g class=\"g-gtitle\"/><g class=\"g-xtitle\"><text class=\"xtitle\" x=\"580.5\" y=\"360.3\" text-anchor=\"middle\" style=\"font-family: 'Open Sans', verdana, arial, sans-serif; font-size: 14px; fill: rgb(42, 63, 95); opacity: 1; font-weight: normal; white-space: pre;\">Date</text></g><g class=\"g-ytitle\"><text class=\"ytitle\" transform=\"rotate(-90,24.184375000000003,190)\" x=\"24.184375000000003\" y=\"190\" text-anchor=\"middle\" style=\"font-family: 'Open Sans', verdana, arial, sans-serif; font-size: 14px; fill: rgb(42, 63, 95); opacity: 1; font-weight: normal; white-space: pre;\">value</text></g></g></svg>"
     },
     "metadata": {},
     "output_type": "display_data"
    }
   ],
   "source": [
    "# Generate predictions on the original dataset\n",
    "predictions = predict_model(tuned_model, data=df)\n",
    "\n",
    "# Add a date column in the dataset\n",
    "predictions['Date'] = pd.date_range(start=start, end = end, freq = 'MS')\n",
    "\n",
    "# Line plot\n",
    "fig = px.line(predictions, x='Date', y=[dep_var, \"Label\"]) #, template = 'plotly_dark')\n",
    "\n",
    "# Add a vertical rectange for test-set separation\n",
    "fig.add_vrect(x0=start_test, x1=predictions.Date.max(), fillcolor=\"grey\", opacity=0.25, line_width=0)\n",
    "fig.update_layout(height=400, width=1200)\n",
    "fig.show()"
   ]
  },
  {
   "attachments": {},
   "cell_type": "markdown",
   "metadata": {},
   "source": [
    "#### Finalize model"
   ]
  },
  {
   "cell_type": "code",
   "execution_count": 34,
   "metadata": {},
   "outputs": [],
   "source": [
    "# Finalize the model i.e. train the best model on the entire dataset (this time, including the test set).\n",
    "final = finalize_model(tuned_model)"
   ]
  },
  {
   "cell_type": "code",
   "execution_count": 35,
   "metadata": {},
   "outputs": [
    {
     "data": {
      "text/plain": [
       "ExtraTreesRegressor(bootstrap=False, ccp_alpha=0.0, criterion='mse',\n",
       "                    max_depth=7, max_features=1.0, max_leaf_nodes=None,\n",
       "                    max_samples=None, min_impurity_decrease=0.2,\n",
       "                    min_impurity_split=None, min_samples_leaf=2,\n",
       "                    min_samples_split=2, min_weight_fraction_leaf=0.0,\n",
       "                    n_estimators=280, n_jobs=-1, oob_score=False,\n",
       "                    random_state=42, verbose=0, warm_start=False)"
      ]
     },
     "execution_count": 35,
     "metadata": {},
     "output_type": "execute_result"
    }
   ],
   "source": [
    "final"
   ]
  },
  {
   "cell_type": "code",
   "execution_count": null,
   "metadata": {},
   "outputs": [],
   "source": []
  }
 ],
 "metadata": {
  "kernelspec": {
   "display_name": "base",
   "language": "python",
   "name": "python3"
  },
  "language_info": {
   "codemirror_mode": {
    "name": "ipython",
    "version": 3
   },
   "file_extension": ".py",
   "mimetype": "text/x-python",
   "name": "python",
   "nbconvert_exporter": "python",
   "pygments_lexer": "ipython3",
   "version": "3.8.12"
  },
  "orig_nbformat": 4,
  "vscode": {
   "interpreter": {
    "hash": "ad2bdc8ecc057115af97d19610ffacc2b4e99fae6737bb82f5d7fb13d2f2c186"
   }
  }
 },
 "nbformat": 4,
 "nbformat_minor": 2
}
