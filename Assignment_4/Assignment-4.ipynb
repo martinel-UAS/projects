{
 "cells": [
  {
   "cell_type": "markdown",
   "metadata": {},
   "source": [
    "# Excersice 4\n",
    "\n",
    "Feature selection:\n",
    "\n",
    "1. You need to load the UCI Arrhythmia dataset\n",
    "https://archive.ics.uci.edu/ml/datasets/arrhythmia\n",
    "* the problem is a multi-class classification\n",
    "\n",
    "2. For comparing the result you need to use kNN (k=3), and compare based on the accuracy with the original dataset (with the all features).\n",
    "\n",
    "2. Run three different types of feature selection methods (Univariate Statistics, model based, and Iterative Feature Selection).\n",
    "* The original data set has 279 features.\n",
    "* You need to run the methods for number_of_features= 20, 50, 100, 150, 200\n",
    "* All the results should show in the same figure (At the end we have just one figure)"
   ]
  },
  {
   "cell_type": "code",
   "execution_count": 11,
   "metadata": {},
   "outputs": [],
   "source": [
    "from sklearn.ensemble import RandomForestClassifier, ExtraTreesClassifier\n",
    "from sklearn.model_selection import train_test_split\n",
    "from sklearn.impute import SimpleImputer\n",
    "from sklearn.preprocessing import MinMaxScaler\n",
    "from sklearn.neighbors import KNeighborsClassifier\n",
    "from sklearn.feature_selection import SelectKBest, chi2, RFE, SelectFromModel\n",
    "\n",
    "import seaborn as sns\n",
    "import matplotlib.pyplot as plt\n",
    "import pandas as pd\n",
    "import numpy as np\n",
    "\n",
    "# Import libraries\n",
    "%matplotlib inline\n",
    "\n",
    "plt.rcParams[\"figure.figsize\"] = [16, 9]\n"
   ]
  },
  {
   "cell_type": "code",
   "execution_count": 12,
   "metadata": {},
   "outputs": [
    {
     "name": "stdout",
     "output_type": "stream",
     "text": [
      "(452, 280)\n",
      "Column 10 is missing 8 values (1.8%)\n",
      "Column 11 is missing 22 values (4.9%)\n",
      "Column 12 is missing 1 values (0.2%)\n",
      "Column 13 is missing 376 values (83.2%)\n",
      "Column 14 is missing 1 values (0.2%)\n"
     ]
    }
   ],
   "source": [
    "# Load dataset\n",
    "url = \"https://people.arcada.fi/~martinel/\"\n",
    "df = pd.read_csv(url + 'arrhythmia.data', header=None)\n",
    "\n",
    "# Print shape of our data\n",
    "print(df.shape)\n",
    "\n",
    "# Replace missing '?' values by NaN\n",
    "df = df.replace('?', np.NaN)\n",
    "\n",
    "# Summarize the rows with missing values for each column\n",
    "for i in df.columns:\n",
    "    # Count number of rows with missing values\n",
    "    n_miss = df[[i]].isnull().sum()\n",
    "    perc = n_miss / df.shape[0] * 100\n",
    "    if(perc[i] > 0):\n",
    "        print('Column %d is missing %d values (%.1f%%)' % (i, n_miss, perc))\n"
   ]
  },
  {
   "cell_type": "code",
   "execution_count": 13,
   "metadata": {},
   "outputs": [],
   "source": [
    "# Drop column 13 as it's full of missing values\n",
    "df.drop(columns=[13], inplace=True)\n",
    "\n",
    "# Separate features and target\n",
    "X = df.iloc[:, :-1].values\n",
    "y = df.iloc[:, -1].values\n",
    "\n",
    "# Replace missing values by the mean\n",
    "# Define imputer\n",
    "imputer = SimpleImputer(strategy='mean')\n",
    "# Fit on the dataset\n",
    "imputer.fit(X)\n",
    "# Transform the dataset\n",
    "X = imputer.transform(X)\n"
   ]
  },
  {
   "cell_type": "code",
   "execution_count": 14,
   "metadata": {},
   "outputs": [
    {
     "name": "stdout",
     "output_type": "stream",
     "text": [
      "[0.549, 0.593, 0.611, 0.549, 0.566, 0.54]\n"
     ]
    }
   ],
   "source": [
    "scores_A = []\n",
    "\n",
    "# Split train and test\n",
    "X_train, X_test, Y_train, Y_test = train_test_split(\n",
    "    X, y, test_size=0.25, random_state=42)\n",
    "\n",
    "# Evaluate score with the original dataset\n",
    "score = KNeighborsClassifier(n_neighbors=3).fit(\n",
    "    X_train, Y_train).score(X_test, Y_test)\n",
    "format_score = \"{:.3f}\".format(score)\n",
    "scores_A.append(float(format_score))\n",
    "\n",
    "number_of_features = [20, 50, 100, 150, 200]\n",
    "\n",
    "for features in number_of_features:\n",
    "\n",
    "    # Split train and test\n",
    "    X_train, X_test, Y_train, Y_test = train_test_split(\n",
    "        X, y, test_size=0.25, random_state=42)\n",
    "\n",
    "    # Scaling the data (MIN MAX Scaling)\n",
    "    scaler = MinMaxScaler(feature_range=(0, 1))\n",
    "    X_train = scaler.fit_transform(X_train)\n",
    "    X_test = scaler.transform(X_test)\n",
    "\n",
    "    # Feature selection\n",
    "    sel_chi2 = SelectKBest(chi2, k=features)            # Select k features\n",
    "    X_train = sel_chi2.fit_transform(X_train, Y_train)  # Fit transform train set\n",
    "    X_test = sel_chi2.transform(X_test)                 # Transform X_test\n",
    "\n",
    "    # Evaluate score\n",
    "    score = KNeighborsClassifier(n_neighbors=3).fit(\n",
    "        X_train, Y_train).score(X_test, Y_test)\n",
    "    format_score = \"{:.3f}\".format(score)\n",
    "    scores_A.append(float(format_score))\n",
    "\n",
    "print(scores_A)"
   ]
  },
  {
   "cell_type": "code",
   "execution_count": 15,
   "metadata": {},
   "outputs": [
    {
     "name": "stdout",
     "output_type": "stream",
     "text": [
      "[0.549, 0.602, 0.611, 0.611, 0.611, 0.602]\n"
     ]
    }
   ],
   "source": [
    "scores_B = []\n",
    "\n",
    "# Split train and test\n",
    "X_train, X_test, Y_train, Y_test = train_test_split(\n",
    "    X, y, test_size=0.25, random_state=42)\n",
    "\n",
    "# Evaluate score with the original dataset\n",
    "score = KNeighborsClassifier(n_neighbors=3).fit(\n",
    "    X_train, Y_train).score(X_test, Y_test)\n",
    "format_score = \"{:.3f}\".format(score)\n",
    "scores_B.append(float(format_score))\n",
    "\n",
    "number_of_features = [20, 50, 100, 150, 200]\n",
    "\n",
    "for features in number_of_features:\n",
    "\n",
    "    # Split train and test\n",
    "    X_train, X_test, Y_train, Y_test = train_test_split(\n",
    "        X, y, test_size=0.25, random_state=42)\n",
    "\n",
    "    # Scaling the data (MIN MAX Scaling)\n",
    "    scaler = MinMaxScaler(feature_range=(0, 1))\n",
    "    X_train = scaler.fit_transform(X_train)\n",
    "    X_test = scaler.transform(X_test)\n",
    "\n",
    "    # Feature selection\n",
    "    clf = ExtraTreesClassifier(n_estimators=features)\n",
    "    clf = clf.fit(X_train, Y_train)\n",
    "    model = SelectFromModel(clf)\n",
    "    X_train = model.fit_transform(X_train, Y_train)\n",
    "    X_test = model.transform(X_test)   \n",
    "\n",
    "    # Evaluate score\n",
    "    score = KNeighborsClassifier(n_neighbors=3).fit(X_train, Y_train).score(X_test, Y_test)\n",
    "    format_score = \"{:.3f}\".format(score)\n",
    "    scores_B.append(float(format_score))\n",
    "\n",
    "print(scores_B)"
   ]
  },
  {
   "cell_type": "code",
   "execution_count": 16,
   "metadata": {},
   "outputs": [
    {
     "name": "stdout",
     "output_type": "stream",
     "text": [
      "[0.549, 0.619, 0.611, 0.575, 0.593, 0.584]\n"
     ]
    }
   ],
   "source": [
    "scores_C = []\n",
    "\n",
    "# Split train and test\n",
    "X_train, X_test, Y_train, Y_test = train_test_split(\n",
    "    X, y, test_size=0.25, random_state=42)\n",
    "\n",
    "# Evaluate score with the original dataset\n",
    "score = KNeighborsClassifier(n_neighbors=3).fit(\n",
    "    X_train, Y_train).score(X_test, Y_test)\n",
    "format_score = \"{:.3f}\".format(score)\n",
    "scores_C.append(float(format_score))\n",
    "\n",
    "number_of_features = [20, 50, 100, 150, 200]\n",
    "\n",
    "for features in number_of_features:\n",
    "\n",
    "    # Split train and test\n",
    "    X_train, X_test, Y_train, Y_test = train_test_split(\n",
    "        X, y, test_size=0.25, random_state=42)\n",
    "\n",
    "    # Scaling the data (MIN MAX Scaling)\n",
    "    scaler = MinMaxScaler(feature_range=(0, 1))\n",
    "    X_train = scaler.fit_transform(X_train)\n",
    "    X_test = scaler.transform(X_test)\n",
    "\n",
    "    # Feature selection\n",
    "    select = RFE(RandomForestClassifier(n_estimators=100, random_state=42), n_features_to_select=features)\n",
    "    # Fit transform train set\n",
    "    X_train = select.fit_transform(X_train, Y_train)\n",
    "    # Transform X_test\n",
    "    X_test = select.transform(X_test)\n",
    "\n",
    "    # Evaluate score\n",
    "    score = KNeighborsClassifier(n_neighbors=3).fit(X_train, Y_train).score(X_test, Y_test)\n",
    "    format_score = \"{:.3f}\".format(score)\n",
    "    scores_C.append(float(format_score))\n",
    "\n",
    "print(scores_C)\n"
   ]
  },
  {
   "cell_type": "code",
   "execution_count": 17,
   "metadata": {},
   "outputs": [
    {
     "data": {
      "text/html": [
       "<div>\n",
       "<style scoped>\n",
       "    .dataframe tbody tr th:only-of-type {\n",
       "        vertical-align: middle;\n",
       "    }\n",
       "\n",
       "    .dataframe tbody tr th {\n",
       "        vertical-align: top;\n",
       "    }\n",
       "\n",
       "    .dataframe thead th {\n",
       "        text-align: right;\n",
       "    }\n",
       "</style>\n",
       "<table border=\"1\" class=\"dataframe\">\n",
       "  <thead>\n",
       "    <tr style=\"text-align: right;\">\n",
       "      <th></th>\n",
       "      <th>Univariate Statistics</th>\n",
       "      <th>Model based</th>\n",
       "      <th>Iterative Selection</th>\n",
       "    </tr>\n",
       "  </thead>\n",
       "  <tbody>\n",
       "    <tr>\n",
       "      <th>Original</th>\n",
       "      <td>0.549</td>\n",
       "      <td>0.549</td>\n",
       "      <td>0.549</td>\n",
       "    </tr>\n",
       "    <tr>\n",
       "      <th>20 features</th>\n",
       "      <td>0.593</td>\n",
       "      <td>0.602</td>\n",
       "      <td>0.619</td>\n",
       "    </tr>\n",
       "    <tr>\n",
       "      <th>50 features</th>\n",
       "      <td>0.611</td>\n",
       "      <td>0.611</td>\n",
       "      <td>0.611</td>\n",
       "    </tr>\n",
       "    <tr>\n",
       "      <th>100 features</th>\n",
       "      <td>0.549</td>\n",
       "      <td>0.611</td>\n",
       "      <td>0.575</td>\n",
       "    </tr>\n",
       "    <tr>\n",
       "      <th>150 features</th>\n",
       "      <td>0.566</td>\n",
       "      <td>0.611</td>\n",
       "      <td>0.593</td>\n",
       "    </tr>\n",
       "    <tr>\n",
       "      <th>200 features</th>\n",
       "      <td>0.540</td>\n",
       "      <td>0.602</td>\n",
       "      <td>0.584</td>\n",
       "    </tr>\n",
       "  </tbody>\n",
       "</table>\n",
       "</div>"
      ],
      "text/plain": [
       "              Univariate Statistics  Model based  Iterative Selection\n",
       "Original                      0.549        0.549                0.549\n",
       "20 features                   0.593        0.602                0.619\n",
       "50 features                   0.611        0.611                0.611\n",
       "100 features                  0.549        0.611                0.575\n",
       "150 features                  0.566        0.611                0.593\n",
       "200 features                  0.540        0.602                0.584"
      ]
     },
     "execution_count": 17,
     "metadata": {},
     "output_type": "execute_result"
    }
   ],
   "source": [
    "# Show results\n",
    "frame = {'Univariate Statistics': scores_A,\n",
    "         'Model based': scores_B, 'Iterative Selection': scores_C}\n",
    "result = pd.DataFrame(frame, index=[\n",
    "                      \"Original\", \"20 features\", \"50 features\", \"100 features\", \"150 features\", \"200 features\"])\n",
    "result\n"
   ]
  },
  {
   "cell_type": "code",
   "execution_count": 18,
   "metadata": {},
   "outputs": [
    {
     "data": {
      "image/png": "[encoded data removed]",
      "text/plain": [
       "<Figure size 1152x648 with 2 Axes>"
      ]
     },
     "metadata": {
      "needs_background": "light"
     },
     "output_type": "display_data"
    }
   ],
   "source": [
    "# Plot results on a heatmap\n",
    "sns.heatmap(result, annot=True)\n",
    "plt.yticks(rotation=0) \n",
    "plt.show()"
   ]
  }
 ],
 "metadata": {
  "interpreter": {
   "hash": "b3ba2566441a7c06988d0923437866b63cedc61552a5af99d1f4fb67d367b25f"
  },
  "kernelspec": {
   "display_name": "Python 3.8.8 64-bit ('base': conda)",
   "name": "python3"
  },
  "language_info": {
   "codemirror_mode": {
    "name": "ipython",
    "version": 3
   },
   "file_extension": ".py",
   "mimetype": "text/x-python",
   "name": "python",
   "nbconvert_exporter": "python",
   "pygments_lexer": "ipython3",
   "version": "3.8.8"
  }
 },
 "nbformat": 4,
 "nbformat_minor": 4
}
