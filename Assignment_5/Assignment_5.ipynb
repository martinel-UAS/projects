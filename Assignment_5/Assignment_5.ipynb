{
 "cells": [
  {
   "cell_type": "markdown",
   "metadata": {},
   "source": [
    "# Assignment 5\n",
    "\n",
    "SqueezeNet: AlexNet-level accuracy with 50x fewer parameters and <0.5MB model size\n",
    "(https://arxiv.org/abs/1602.07360)\n",
    "\n",
    "In this assigment you're going to use the pretrained network SqueezeNetv1.2 (~ 5 Mb) "
   ]
  },
  {
   "cell_type": "markdown",
   "metadata": {},
   "source": [
    "# Task 1 (5 points):\n",
    "\n",
    "Go to https://github.com/miaow1988/SqueezeNet_v1.2 and download the 'symbol.json' and '.params' files (there is not a 'synset.txt' file! so don't use these lines, Hint: just comment these lines).\n",
    "\n",
    "* Install MXNet v1.5 (hint: create a new conda environmet with python 3, pip install mxnet==1.5.1) and follow the same steps of the lecture (part: *Using pre-trained models as feature extractors*). Find the flatten output layer and create a feature extractor (hint: It should be a numpy array of 1000 elements).\n",
    "* Download the dogs versus cats *training folder* from https://www.kaggle.com/c/dogs-vs-cats-redux-kernels-edition/data (Remember the number of images is 12500 for each class).\n",
    "* Extract the array of features for different number of images (N: 10, 100, 500, 1000, also 5000 and 12500) and for each value train your favorite binary classifier (only one!!!) using GridSearch to optimize some hyperparameters. Consider to use https://notebooks.csc.fi if you have computational limitations. \n",
    "\n",
    "* Report the accuracy for each value of N and the computational time during the training step.\n",
    "\n"
   ]
  },
  {
   "cell_type": "markdown",
   "metadata": {},
   "source": [
    "# Make sure to copy your kaggle.json token to the root folder of CSC"
   ]
  },
  {
   "cell_type": "markdown",
   "metadata": {},
   "source": [
    "Install MXNet v1.5 (hint: create a new conda environmet with python 3, pip install mxnet==1.5.1) and follow the same steps of the lecture (part: Using pre-trained models as feature extractors). Find the flatten output layer and create a feature extractor (hint: It should be a numpy array of 1000 elements)."
   ]
  },
  {
   "cell_type": "code",
   "execution_count": 30,
   "metadata": {},
   "outputs": [
    {
     "name": "stdout",
     "output_type": "stream",
     "text": [
      "Requirement already satisfied: mxnet==1.5.1 in /opt/conda/lib/python3.7/site-packages (1.5.1)\n",
      "Requirement already satisfied: graphviz<0.9.0,>=0.8.1 in /opt/conda/lib/python3.7/site-packages (from mxnet==1.5.1) (0.8.4)\n",
      "Requirement already satisfied: numpy<2.0.0,>1.16.0 in /opt/conda/lib/python3.7/site-packages (from mxnet==1.5.1) (1.18.2)\n",
      "Requirement already satisfied: requests<3,>=2.20.0 in /opt/conda/lib/python3.7/site-packages (from mxnet==1.5.1) (2.23.0)\n",
      "Requirement already satisfied: certifi>=2017.4.17 in /opt/conda/lib/python3.7/site-packages (from requests<3,>=2.20.0->mxnet==1.5.1) (2019.11.28)\n",
      "Requirement already satisfied: chardet<4,>=3.0.2 in /opt/conda/lib/python3.7/site-packages (from requests<3,>=2.20.0->mxnet==1.5.1) (3.0.4)\n",
      "Requirement already satisfied: idna<3,>=2.5 in /opt/conda/lib/python3.7/site-packages (from requests<3,>=2.20.0->mxnet==1.5.1) (2.9)\n",
      "Requirement already satisfied: urllib3!=1.25.0,!=1.25.1,<1.26,>=1.21.1 in /opt/conda/lib/python3.7/site-packages (from requests<3,>=2.20.0->mxnet==1.5.1) (1.25.7)\n",
      "Requirement already satisfied: art in /opt/conda/lib/python3.7/site-packages (5.3)\n",
      "Requirement already satisfied: opencv-python-headless in /opt/conda/lib/python3.7/site-packages (4.5.4.58)\n",
      "Requirement already satisfied: numpy>=1.14.5 in /opt/conda/lib/python3.7/site-packages (from opencv-python-headless) (1.18.2)\n"
     ]
    },
    {
     "data": {
      "text/plain": [
       "'1.5.1'"
      ]
     },
     "execution_count": 30,
     "metadata": {},
     "output_type": "execute_result"
    }
   ],
   "source": [
    "!pip install mxnet==1.5.1\n",
    "!pip install art\n",
    "!pip install opencv-python-headless\n",
    "\n",
    "import mxnet as mx\n",
    "mx.__version__"
   ]
  },
  {
   "cell_type": "code",
   "execution_count": 31,
   "metadata": {},
   "outputs": [
    {
     "data": {
      "text/plain": [
       "['./SqueezeNet_v1.2/model-0000.params', './SqueezeNet_v1.2/model-symbol.json']"
      ]
     },
     "execution_count": 31,
     "metadata": {},
     "output_type": "execute_result"
    }
   ],
   "source": [
    "import mxnet as mx\n",
    "# Download the pretrained network\n",
    "path='https://github.com/miaow1988/SqueezeNet_v1.2/'\n",
    "directory = './SqueezeNet_v1.2/'\n",
    "[mx.test_utils.download(path+'raw/master/model-0000.params', dirname=directory),\n",
    " mx.test_utils.download(path+'raw/master/model-symbol.json', dirname=directory)]"
   ]
  },
  {
   "cell_type": "code",
   "execution_count": 32,
   "metadata": {},
   "outputs": [],
   "source": [
    "sym, arg_params, aux_params = mx.model.load_checkpoint(\"SqueezeNet_v1.2/model\", 0)\n",
    "mod = mx.mod.Module(symbol=sym, context=mx.cpu(), label_names=None)\n",
    "mod.bind(for_training=False, data_shapes=[('data', (1,3,224,224))], \n",
    "         label_shapes=mod._label_shapes)\n",
    "mod.set_params(arg_params, aux_params, allow_missing=True)"
   ]
  },
  {
   "cell_type": "code",
   "execution_count": 33,
   "metadata": {},
   "outputs": [
    {
     "data": {
      "text/plain": [
       "['fire9_concat_output',\n",
       " 'dropout0_output',\n",
       " 'conv10_conv_weight',\n",
       " 'conv10_conv_bias',\n",
       " 'conv10_conv_output',\n",
       " 'conv10_relu_output',\n",
       " 'pool10_output',\n",
       " 'flatten0_output',\n",
       " 'softmax_label',\n",
       " 'softmax_output']"
      ]
     },
     "execution_count": 33,
     "metadata": {},
     "output_type": "execute_result"
    }
   ],
   "source": [
    "# list the last 10 layers\n",
    "all_layers = sym.get_internals()\n",
    "all_layers.list_outputs()[-10:]"
   ]
  },
  {
   "cell_type": "code",
   "execution_count": 34,
   "metadata": {},
   "outputs": [],
   "source": [
    "fe_sym = all_layers['flatten0_output']\n",
    "fe_mod = mx.mod.Module(symbol=fe_sym, context=mx.cpu(), label_names=None)\n",
    "fe_mod.bind(for_training=False, data_shapes=[('data', (1,3,224,224))])\n",
    "fe_mod.set_params(arg_params, aux_params)"
   ]
  },
  {
   "cell_type": "code",
   "execution_count": 35,
   "metadata": {},
   "outputs": [],
   "source": [
    "%matplotlib inline\n",
    "import matplotlib.pyplot as plt\n",
    "import numpy as np\n",
    "# define a simple data batch\n",
    "from collections import namedtuple\n",
    "Batch = namedtuple('Batch', ['data'])\n",
    "\n",
    "def get_image(url, show=False):\n",
    "    # download and show the image. Remove query string from the file name.\n",
    "    if url.startswith('http'):\n",
    "        fname = mx.test_utils.download(url, fname=url.split('/')[-1].split('?')[0])\n",
    "    else:\n",
    "        fname = url\n",
    "    img = mx.image.imread(fname)\n",
    "    if img is None:\n",
    "        return None\n",
    "    if show:\n",
    "        plt.imshow(img.asnumpy())\n",
    "        plt.axis('off')\n",
    "    # convert into format (batch, RGB, width, height)\n",
    "    img = mx.image.imresize(img, 224, 224) # resize\n",
    "    img = img.transpose((2, 0, 1)) # Channel first\n",
    "    img = img.expand_dims(axis=0) # batchify\n",
    "    img = img.astype('float32') # for gpu context\n",
    "    return img\n",
    "\n",
    "def predict(url):\n",
    "    img = get_image(url, show=True)\n",
    "    # compute the predict probabilities\n",
    "    mod.forward(Batch([img]))\n",
    "    prob = mod.get_outputs()[0].asnumpy()\n",
    "    # print the top-5\n",
    "    prob = np.squeeze(prob)\n",
    "    a = np.argsort(prob)[::-1]\n",
    "    for i in a[0:5]:\n",
    "        print('probability=%f, class=%s' %(prob[i], labels[i]))\n",
    "        \n",
    "def get_features(img):\n",
    "    fe_mod.forward(Batch([mx.nd.array(img)]))\n",
    "    features = fe_mod.get_outputs()[0].asnumpy()\n",
    "    return features        "
   ]
  },
  {
   "cell_type": "code",
   "execution_count": 36,
   "metadata": {},
   "outputs": [
    {
     "name": "stdout",
     "output_type": "stream",
     "text": [
      "Shape (1, 1000)\n",
      "[[ 7.740564    9.480387    3.9907155   5.550856    7.4798946   8.9992075\n",
      "   7.18169    13.219108   17.030085   19.92069    14.087179   14.110888\n",
      "  11.295056   11.314932   13.278534    8.8031225  14.675961   17.594906\n",
      "  10.547035    7.3058777   9.917198   16.946892   10.613432   13.36103\n",
      "  11.913334    6.9719872  12.397531   12.817046    7.8395066   7.3672657\n",
      "   6.2191815   9.127987    8.44347     5.85803     5.6687      9.273978\n",
      "   8.574013    9.891539   13.275679    7.9678736  12.7983675   7.098754\n",
      "  11.217385   14.532465   10.495641    5.708142   12.013867   11.896805\n",
      "   6.9982615   7.134784    4.5558195   8.647603    6.5585046   5.2419167\n",
      "   7.987683    4.515832    3.2960477   4.1781144   5.6512504   4.645506\n",
      "   4.848237    7.1156077   7.929356    7.1285825   5.3620315   5.362695\n",
      "  12.981428    6.515897    8.095128    5.671469    4.5027547   4.4114804\n",
      "   5.565266    7.5312557   5.857764    4.9016113   6.294036    7.9544945\n",
      "  12.700937    6.1515536  10.765704   10.15429    15.898388   12.85379\n",
      "  13.799753   14.084925   17.007256    7.086439   13.037895   15.696794\n",
      "   6.062806   11.222302   10.734053   11.770234    9.542957    8.0526495\n",
      "   6.0128384   8.120467    8.634621    9.341887    6.672779    8.301927\n",
      "  14.304609    7.596553   22.627544    9.569063   20.15566     6.8281846\n",
      "  11.313418    9.102426   10.961902    3.1225288  11.996294   11.740311\n",
      "  12.088455   13.225002    4.991919    6.855308    3.893409    3.9825897\n",
      "   5.5588818   2.519215    3.194138    2.2020278   7.0147023   8.220063\n",
      "   8.327362    7.663717    7.6525083   6.4441357   5.2946596   6.1706767\n",
      "   8.447229    8.571941   12.208938    6.5253315   8.7771      6.127838\n",
      "  13.949259    8.614532    7.9778485   7.8468413   5.0729594   8.769564\n",
      "   9.554114   14.954123    7.683323    2.4954228   5.7708235   4.6383157\n",
      "   7.400334   26.318245   18.490503   11.432884   14.2487135   9.926853\n",
      "  11.009549   21.291843   20.562159    8.161322    8.970039    6.18424\n",
      "   9.295366    7.0431      5.6179633   6.919959    5.823152    9.217957\n",
      "   8.381271   10.562471   10.648421   13.780256    8.906649   14.548725\n",
      "  19.612617   10.991986    6.481636    8.7228      9.497492   10.058557\n",
      "   9.08077    10.241318   13.894897   11.679      11.222469   17.088507\n",
      "  19.751698   16.718142   14.571568   15.057042   10.4250555  10.591149\n",
      "  14.569002   19.490135   11.611093   13.918876   10.240041    8.3825445\n",
      "  12.450882   13.698427   13.330508   14.863046   10.5420885  12.681851\n",
      "   9.766412   10.09217     8.431177   14.936713   12.451516    8.966267\n",
      "   5.3314233  10.623185    9.255422   10.383013    9.708744    9.967197\n",
      "  11.120121    8.675934   10.316385    9.279045   10.608499    8.715468\n",
      "  12.512979   23.62928    17.489016   16.604633   11.756342   20.855854\n",
      "   9.327467   10.5855055  21.650366   22.592005   17.49133    12.305412\n",
      "  10.132675   17.799652   10.2579565  14.727693    9.676165   12.163177\n",
      "  12.957817   11.623152    9.457713    8.744906   12.03832    14.95855\n",
      "   5.8689246  10.716738   24.126194   17.69131    19.133396    5.7450876\n",
      "  13.103264   23.2273     10.61174    14.608642   11.430906   13.401344\n",
      "  15.937037   24.381968   14.180765   18.382578   15.780078   27.563208\n",
      "  22.617605   11.2952585  11.755726   10.013845   12.9435215  19.931988\n",
      "  21.993567   18.909697   25.40284    20.758375   22.845621   10.241499\n",
      "  16.474007   32.023567   31.495058   25.008623   30.264341   25.370295\n",
      "  28.185059   19.713829   23.615824   28.936628   22.501705   25.440405\n",
      "  14.163181   14.358205   16.708408   15.519394   18.193747   16.965122\n",
      "  12.343986   15.946081   12.3151245  12.905986   24.943848   21.18826\n",
      "   6.575604   12.513993    8.770299    8.814621    9.909487    7.545599\n",
      "  11.212865    9.2149515  12.377845   12.614999   10.88934     9.734173\n",
      "  10.245578    9.10263     6.244524    7.829928   10.587607   10.631872\n",
      "  10.793352    9.483814    8.809012    8.722188   16.599878    7.2908144\n",
      "   9.671048   11.76354    13.779408   12.48473     7.7128415   8.153039\n",
      "  23.540066   24.711159   13.491703   21.810816   13.712642   24.536547\n",
      "  19.341183   11.803214   11.04801    10.545197   12.305745   18.623158\n",
      "  17.267633   13.104511   14.869399   11.29177     9.641464   12.029924\n",
      "  13.470218   11.131646   13.220619    6.3872395  12.095287   14.998263\n",
      "   8.842593   18.692043   25.733826   21.414217   20.271112   18.128252\n",
      "  14.585126   17.406237   15.4595785  13.1288185   5.399599   11.768278\n",
      "   8.53348     9.981207   13.127526    9.439838   16.294426   19.48085\n",
      "  14.652799   18.124737   14.8234005   9.713352    9.913068   15.945196\n",
      "  12.961156    8.852621   17.066032   14.784131   14.77939    16.270191\n",
      "  17.213926    8.064633    8.5907955  13.753615    6.6216655   8.116093\n",
      "   6.9561586   9.79243     9.686607   10.417652    8.255538    8.446557\n",
      "   4.0701103  10.355396    9.0181465  11.743367    8.397703    5.371044\n",
      "   4.568917    1.1263542   4.136857    5.352971   10.337888    1.2258369\n",
      "   4.978473    4.8288727   8.880856    9.529671   17.121271    7.0284934\n",
      "  13.046304    7.522945    4.7566595   4.443179    9.423075   13.344015\n",
      "   9.2800455   6.4637423   4.433349    4.2951226   8.048727    5.4499464\n",
      "   4.318174   12.350938   16.273264   11.525172    6.9760633  14.188861\n",
      "   6.163792    4.2464395  19.543322   12.697091    3.0492852   6.1953835\n",
      "   5.4558177   8.766043    8.620674    8.61136     7.4493036  13.781541\n",
      "   4.4777813   9.118412    9.21629     9.104043   10.034233   10.631664\n",
      "   2.3199985  10.675689   14.222641   14.988436    9.66389     9.540497\n",
      "  10.444121   15.676502    8.631852    5.2347164   4.6162066   6.671257\n",
      "  10.278647   26.602491    5.636379    7.162211    2.1670768   5.6064935\n",
      "   1.2304287  14.430155   15.435523    6.002836    8.100583   12.938683\n",
      "   6.1830306   7.7308908   7.767509    8.692292   20.358755   10.284028\n",
      "   7.342569    4.729667    4.5695014  11.767008    7.5916953   8.376465\n",
      "   7.377227   10.275467    6.1287594  11.800827    5.662001   10.744465\n",
      "  10.911493   11.888354   11.310741    9.6398     12.012556    7.1184673\n",
      "   3.612704    5.977542    5.544292   12.942789    8.56381     6.7507644\n",
      "  14.689688   10.078579    9.297567   10.18385    19.254868    4.086025\n",
      "   3.8271735   2.5113752   7.9326563   5.5014396  12.349175   14.899658\n",
      "  14.287693    3.6010828   5.14672    14.743502   15.169049   10.354699\n",
      "  13.853299    5.495166    5.981528    5.681123    7.9736285  12.954812\n",
      "   2.1247838  15.323766    8.353307    4.3817472   9.190265    6.9526057\n",
      "  19.617285    5.2087746   5.6105976  11.46634     8.545995   17.737669\n",
      "   4.2590446  11.465765    9.4217     14.495377    9.971476   11.48839\n",
      "   4.9685864   1.9384602   5.1857505  10.440465    5.671004    8.850027\n",
      "  16.644783   14.008619    2.6025486   3.9122875  12.577044    4.2654095\n",
      "   5.4517536   9.016039    7.3746467   2.6224072   7.5686417   6.0899816\n",
      "   8.177476    3.9477353   8.0896845   5.2077875   8.834155    3.6231148\n",
      "   4.5932684   4.470379   15.460575    5.0308795  12.25106     4.395149\n",
      "   4.1671486   8.545948    9.74079     4.812689    8.989258    3.5194418\n",
      "   6.603043    3.1225913  11.720675    5.471985    6.5419602   6.692269\n",
      "  19.970964    6.4755917   8.9152155   7.890382    7.2274437   9.806826\n",
      "   7.953831    5.9384904  12.40481     6.3309627   3.0101032  11.298861\n",
      "  12.638905    8.034248    8.4872      7.966245    4.7571235  11.5228405\n",
      "  12.932773    9.621036   11.480769    4.7856584   6.6461987  14.821272\n",
      "   3.2951052   4.8658404   9.868587    4.106817    5.5278044   6.9017854\n",
      "   8.745448    9.027696   18.474592    7.023072   20.405258    9.567322\n",
      "   7.872965    5.0153904  11.4942875   4.233396    3.2287965   9.132179\n",
      "   7.3325205  10.987532    5.936082   12.166238    7.295634   12.209755\n",
      "  13.356375   12.366091    7.9680514   8.483229    4.907291    5.6665897\n",
      "   7.724329   10.892211    6.3515244   8.41483     5.923494    6.4610095\n",
      "  12.686335    8.874461    7.053649    9.272576    8.806841   12.844493\n",
      "   2.475161   10.514647    3.7983966   5.7265873   6.914965    7.945447\n",
      "   6.515296    3.364294    6.863144    7.018389   18.9336      5.2596755\n",
      "   8.265259    7.0303845   7.2748322   8.336516    8.310509    7.0003715\n",
      "   8.787369   15.769334   14.929396    3.813008   16.831469    9.501479\n",
      "   5.455564    4.691199   17.752748   17.766539   11.738585    4.8298306\n",
      "   6.540737    2.5869765   4.956642    2.8416386   7.890264    8.690115\n",
      "   8.472143    3.2017334  11.527799    6.7866964   6.74244     8.757093\n",
      "  10.462415   13.321903   10.240598    7.4173484  20.890713    8.140273\n",
      "   7.1191397  14.228727    4.503275    4.3122745  11.340922    6.4057393\n",
      "  10.548992   11.618936   12.550294   13.226874    8.526235   11.131156\n",
      "   3.871313   10.073394   17.057667    2.7465415   6.212902   13.941716\n",
      "  11.067624   12.678769   16.469856   18.230747    5.510096   15.046324\n",
      "   6.0415497   3.775673   21.755243    8.656616   11.117608    8.04639\n",
      "   3.4759238  13.327577    0.27168187  8.987158    5.465092    7.829859\n",
      "  12.597742   10.130056    7.4962263   7.2624216  17.471039    4.6190834\n",
      "   6.735814    5.2708898   2.8612487  11.321323   12.443592    9.020594\n",
      "  17.218554    5.984305    6.8300495  12.978904   11.831623    8.873442\n",
      "  11.2246065   3.2035038  12.420021    6.7866163  14.497524   18.637768\n",
      "   8.134447   10.577673    7.1111755   9.780469    3.0609343  11.900219\n",
      "   9.373892   18.45222     7.9641156   4.881043    8.8613     17.574133\n",
      "   6.0145855   9.969436    5.2706394  10.36623    11.832342    4.81155\n",
      "   7.7970233   4.8305674  19.22927    11.079123   11.321458    7.5790076\n",
      "   7.0279183  13.061712    9.365551    5.2395425  15.235403    7.0119824\n",
      "  11.631751   12.382865   16.096033    5.2467422   7.680496   17.980282\n",
      "   5.394157   13.40587     7.311281    3.8251753   2.1727066   4.3360906\n",
      "  11.594782   15.177419   10.507587    8.068528    9.816041    9.218299\n",
      "   6.5386524  18.793325    5.3635607   7.091622    4.4181385   6.2387943\n",
      "   8.008315    5.473954    8.825489    4.1109557   2.2175543   3.2294972\n",
      "   7.232572    8.016731    6.7553306   7.6121354   4.8269134  10.587107\n",
      "   9.612384    4.4383593   4.1517954   9.18688     6.111032    5.7565513\n",
      "   6.427063   15.553814    9.69641    12.925864   13.546842    7.633081\n",
      "  12.955913   16.460325    9.598186    9.696468    8.385262   11.376019\n",
      "   9.793783    5.8836617   5.4781213   8.520364   10.157907   14.431726\n",
      "  18.885746    4.680969    4.603513   11.762884    8.190667    7.455237\n",
      "   4.576158   10.903018    5.2697353  20.619574    9.618156    5.4064593\n",
      "   2.5801854   8.309626    8.99391     5.081901    9.03099     8.202368\n",
      "   9.673765    4.6030483   8.037778    9.583724    1.2406417   7.6975436\n",
      "  19.014301    7.7798805   6.2676682  15.235507    6.419618   10.117832\n",
      "   6.526381   15.291899    6.4970775  10.635722    3.9165082   6.844935\n",
      "   5.3112793   6.9277177   5.0349073   3.6957252   6.054876   10.715216\n",
      "  10.254344    7.5348406  15.668162   19.833683   12.741107   14.060327\n",
      "   3.8918114   7.833903    8.914416    9.796875   21.204124   11.318749\n",
      "   5.819607    6.6325674   5.1417346   7.5953918   8.495249    8.8622465\n",
      "  17.599054    5.5421386   7.0771255   7.0627127   7.843836    8.271026\n",
      "  15.485607    7.8300586   5.350855   10.033935    3.958342    4.636338\n",
      "  13.7214985   9.713041    2.8186753   8.75723     8.085571   16.849821\n",
      "   4.512032    3.1064124   2.6565623   5.0085826   7.1976643   4.1969953\n",
      "   6.610343   18.887007    5.847842   12.369053    4.772274    3.3731546\n",
      "   7.2421165  11.507337    9.364502    7.7497025  10.155437   14.066408\n",
      "  15.398919   12.524772   10.626471   11.916949   10.443991    9.755637\n",
      "  10.183577   11.417261    6.309401   10.661629   16.745132    4.1924496\n",
      "   6.809862    5.6483464   1.4915136   2.5665817   5.001793    6.5044146\n",
      "   7.594732    6.283283   17.532019   12.801558    6.1281753  13.777569\n",
      "   4.8780017   7.3011956   8.039888   11.652339    5.579995    9.906184\n",
      "   9.2078705   5.814577    3.0840547  10.490825    7.7534094   2.0750763\n",
      "  12.201636    8.897316    7.7184525  19.104113   14.389445    7.974358\n",
      "  12.390828   11.22986    13.565611   15.096689   11.931063   12.92819\n",
      "  14.703046    9.909587   17.433922   18.61964   ]]\n"
     ]
    }
   ],
   "source": [
    "img = get_image('https://github.com/dmlc/web-data/blob/master/mxnet/doc/tutorials/python/predict_image/cat.jpg?raw=true')\n",
    "fe_mod.forward(Batch([img]))\n",
    "features = fe_mod.get_outputs()[0]\n",
    "print('Shape',features.shape)\n",
    "print(features.asnumpy())\n",
    "assert features.shape == (1, 1000)"
   ]
  },
  {
   "cell_type": "markdown",
   "metadata": {},
   "source": [
    "Download the dogs versus cats training folder from https://www.kaggle.com/c/dogs-vs-cats-redux-kernels-edition/data (Remember the number of images is 12500 for each class)."
   ]
  },
  {
   "cell_type": "code",
   "execution_count": 37,
   "metadata": {},
   "outputs": [],
   "source": [
    "! pip install -q kaggle\n",
    "! rm -r ~/.kaggle\n",
    "! mkdir ~/.kaggle\n",
    "! cp kaggle.json ~/.kaggle/\n",
    "! chmod 600 ~/.kaggle/kaggle.json"
   ]
  },
  {
   "cell_type": "code",
   "execution_count": 38,
   "metadata": {},
   "outputs": [
    {
     "name": "stdout",
     "output_type": "stream",
     "text": [
      "Archive:  dogs-vs-cats-redux-kernels-edition.zip\n",
      "  inflating: sample_submission.csv   \n",
      "  inflating: test.zip                \n",
      "  inflating: train.zip               \n",
      "\n",
      "Runtime 22.30 sec\n"
     ]
    }
   ],
   "source": [
    "# Download and unzip data\n",
    "from time import time\n",
    "start = time()\n",
    "! kaggle competitions download --quiet -c dogs-vs-cats-redux-kernels-edition;\n",
    "! unzip -o dogs-vs-cats-redux-kernels-edition.zip;\n",
    "! unzip -o -qq train.zip;\n",
    "! unzip -o -qq test.zip;\n",
    "\n",
    "print(f'\\nRuntime {time()-start:.2f} sec')"
   ]
  },
  {
   "cell_type": "code",
   "execution_count": 39,
   "metadata": {},
   "outputs": [
    {
     "data": {
      "image/jpeg": "[encoded data removed]",
      "text/plain": [
       "<IPython.core.display.Image object>"
      ]
     },
     "metadata": {},
     "output_type": "display_data"
    }
   ],
   "source": [
    "import os\n",
    "from IPython.core.display import Image\n",
    "display(Image(f'{os.getcwd()}/train/cat.12.jpg'))"
   ]
  },
  {
   "cell_type": "code",
   "execution_count": 40,
   "metadata": {},
   "outputs": [
    {
     "name": "stdout",
     "output_type": "stream",
     "text": [
      "N° of training images : 25000\n",
      "N° of test images : 12500\n",
      "\n",
      "N° of training cat images : 12500\n",
      "N° of training dog images : 12500\n"
     ]
    }
   ],
   "source": [
    "import glob\n",
    "\n",
    "train_items = glob.glob('./train/*.jpg')\n",
    "print(f'N° of training images : {len(train_items)}')\n",
    "\n",
    "test_items = glob.glob('./test/*.jpg')\n",
    "print(f'N° of test images : {len(test_items)}')\n",
    "\n",
    "train_cat_items = glob.glob('./train/cat*.jpg')\n",
    "print(f'\\nN° of training cat images : {len(train_cat_items)}')\n",
    "train_dog_items = glob.glob('./train/dog*.jpg')\n",
    "print(f'N° of training dog images : {len(train_dog_items)}')"
   ]
  },
  {
   "cell_type": "code",
   "execution_count": 41,
   "metadata": {},
   "outputs": [
    {
     "name": "stdout",
     "output_type": "stream",
     "text": [
      "cats: 12500 and dogs: 12500\n"
     ]
    }
   ],
   "source": [
    "from os import listdir\n",
    "from os.path import isfile, join\n",
    "import os\n",
    "\n",
    "mypath = ('./train')\n",
    "\n",
    "cats_imgs = [join(mypath,f) for f in listdir(mypath) if f.startswith('cat')]\n",
    "dogs_imgs = [join(mypath,f) for f in listdir(mypath) if f.startswith('dog')]\n",
    "print(\"cats: {} and dogs: {}\".format(len(cats_imgs),len(dogs_imgs)))"
   ]
  },
  {
   "cell_type": "code",
   "execution_count": 42,
   "metadata": {},
   "outputs": [],
   "source": [
    "import cv2\n",
    "Nmax = 10\n",
    "cats_features = [get_features(get_image(img)).ravel() for img in cats_imgs[:Nmax]]\n",
    "dogs_features = [get_features(get_image(img)).ravel() for img in dogs_imgs[:Nmax]]"
   ]
  },
  {
   "cell_type": "code",
   "execution_count": 43,
   "metadata": {},
   "outputs": [],
   "source": [
    "Y_cats = np.array(Nmax * [1])\n",
    "Y_dogs = np.array(Nmax * [0])"
   ]
  },
  {
   "cell_type": "code",
   "execution_count": 44,
   "metadata": {},
   "outputs": [],
   "source": [
    "X_cvd = np.vstack([cats_features,dogs_features])\n",
    "Y_cvd = np.vstack([Y_cats,Y_dogs]).ravel()"
   ]
  },
  {
   "cell_type": "code",
   "execution_count": 45,
   "metadata": {},
   "outputs": [],
   "source": [
    "from sklearn.model_selection import train_test_split\n",
    "\n",
    "X_train, X_test, y_train, y_test = train_test_split(X_cvd, Y_cvd, shuffle=True, random_state=42)"
   ]
  },
  {
   "cell_type": "code",
   "execution_count": 46,
   "metadata": {},
   "outputs": [
    {
     "name": "stdout",
     "output_type": "stream",
     "text": [
      "Test set score: 1.00\n"
     ]
    }
   ],
   "source": [
    "from sklearn import svm\n",
    "\n",
    "model = svm.SVC(probability=True).fit(X_train, y_train)\n",
    "\n",
    "print(\"Test set score: {:.2f}\".format(model.score(X_test, y_test)))"
   ]
  },
  {
   "cell_type": "code",
   "execution_count": 47,
   "metadata": {},
   "outputs": [
    {
     "data": {
      "image/png": "[encoded data removed]",
      "text/plain": [
       "<Figure size 432x288 with 1 Axes>"
      ]
     },
     "metadata": {
      "needs_background": "light"
     },
     "output_type": "display_data"
    }
   ],
   "source": [
    "import matplotlib.image as mpimg\n",
    "\n",
    "dog_test_path = './test/3.jpg'\n",
    "cat_test_path = './test/103.jpg'\n",
    "\n",
    "img = mpimg.imread(dog_test_path)\n",
    "imgplot = plt.imshow(img)\n",
    "plt.show()"
   ]
  },
  {
   "cell_type": "code",
   "execution_count": 48,
   "metadata": {},
   "outputs": [
    {
     "data": {
      "image/png": "[encoded data removed]",
      "text/plain": [
       "<Figure size 432x288 with 1 Axes>"
      ]
     },
     "metadata": {
      "needs_background": "light"
     },
     "output_type": "display_data"
    }
   ],
   "source": [
    "img = mpimg.imread(cat_test_path)\n",
    "imgplot = plt.imshow(img)\n",
    "plt.show()"
   ]
  },
  {
   "cell_type": "code",
   "execution_count": 49,
   "metadata": {},
   "outputs": [
    {
     "name": "stdout",
     "output_type": "stream",
     "text": [
      "prob: [[0.21277415 0.78722585]] and prediction: cat\n"
     ]
    }
   ],
   "source": [
    "features_out = get_features(get_image(cat_test_path))\n",
    "\n",
    "prob = model.predict_proba(features_out)\n",
    "pred = model.predict(features_out)\n",
    "\n",
    "if pred[0] == 1:\n",
    "    fpred = 'cat'\n",
    "else:\n",
    "    fpred = 'dog'\n",
    "    \n",
    "print(\"prob: {} and prediction: {}\".format(prob,fpred))"
   ]
  },
  {
   "cell_type": "code",
   "execution_count": 50,
   "metadata": {},
   "outputs": [
    {
     "name": "stdout",
     "output_type": "stream",
     "text": [
      "prob: [[0.86943193 0.13056807]] and prediction: dog\n"
     ]
    }
   ],
   "source": [
    "features_out = get_features(get_image(dog_test_path))\n",
    "\n",
    "prob = model.predict_proba(features_out)\n",
    "pred = model.predict(features_out)\n",
    "\n",
    "if pred[0] == 1:\n",
    "    fpred = 'cat'\n",
    "else:\n",
    "    fpred = 'dog'\n",
    "    \n",
    "print(\"prob: {} and prediction: {}\".format(prob,fpred))"
   ]
  },
  {
   "cell_type": "markdown",
   "metadata": {},
   "source": [
    "Extract the array of features for different number of images (N: 10, 100, 500, 1000, also 5000 and 12500) and for each value train your favorite binary classifier (only one!!!) using GridSearch to optimize some hyperparameters. Consider to use https://notebooks.csc.fi if you have computational limitations."
   ]
  },
  {
   "cell_type": "code",
   "execution_count": 51,
   "metadata": {},
   "outputs": [
    {
     "name": "stdout",
     "output_type": "stream",
     "text": [
      "** Using 10 images **\n",
      "Accuracy: 1.00\tFit time:0.00s\tScore time:0.00s\n",
      "\n",
      "** Using 100 images **\n",
      "Accuracy: 0.94\tFit time:0.05s\tScore time:0.00s\n",
      "\n",
      "** Using 500 images **\n",
      "Accuracy: 0.94\tFit time:0.76s\tScore time:0.03s\n",
      "\n",
      "** Using 1000 images **\n",
      "Accuracy: 0.95\tFit time:2.62s\tScore time:0.11s\n",
      "\n"
     ]
    }
   ],
   "source": [
    "from sklearn.model_selection import GridSearchCV\n",
    "\n",
    "N = [10, 100, 500, 1000, 5000, 12500]\n",
    "# Reduce execution time\n",
    "N = [10, 100, 500, 1000]\n",
    "\n",
    "for Nmax in N:\n",
    "    print(\"** Using %d images **\"%(Nmax))\n",
    "    cats_features = [get_features(get_image(img)).ravel() for img in cats_imgs[:Nmax]]\n",
    "    dogs_features = [get_features(get_image(img)).ravel() for img in dogs_imgs[:Nmax]]\n",
    "    Y_cats = np.array(Nmax * [1])\n",
    "    Y_dogs = np.array(Nmax * [0])\n",
    "    X_cvd = np.vstack([cats_features,dogs_features])\n",
    "    Y_cvd = np.vstack([Y_cats,Y_dogs]).ravel()    \n",
    "    X_train, X_test, y_train, y_test = train_test_split(X_cvd, Y_cvd, random_state=42)    \n",
    "    model = svm.SVC(probability=True).fit(X_train, y_train)\n",
    "    \n",
    "    param_grid = {'C': [0.001, 0.01, 0.1, 1.0]}\n",
    "    search = GridSearchCV(model, param_grid, n_jobs=-1)\n",
    "    search.fit(X_train, y_train)\n",
    "    print(\"Accuracy: %.2f\\tFit time:%.2fs\\tScore time:%.2fs\\n\"%(\n",
    "        search.score(X_test, y_test),\n",
    "        search.cv_results_['mean_fit_time'][search.best_index_],\n",
    "        search.cv_results_['mean_score_time'][search.best_index_]\n",
    "    ))    "
   ]
  },
  {
   "cell_type": "markdown",
   "metadata": {},
   "source": [
    "#### Task 2 (5 points):\n",
    "\n",
    "Repeat all previous steps using MobileNet V2 (https://github.com/KeyKy/mobilenet-mxnet). How the two networks compare in terms of accuracy and running time?\n",
    "\n",
    "**WARNING**: At least for N= 5000 and 12500 it can take some time in your computer, depending of your resources. The time can largely increases depending of your chosen classifier."
   ]
  },
  {
   "cell_type": "code",
   "execution_count": 24,
   "metadata": {},
   "outputs": [
    {
     "data": {
      "text/plain": [
       "['./mobilenet-mxnet/mobilenet_v2-0000.params',\n",
       " './mobilenet-mxnet/mobilenet_v2-symbol.json']"
      ]
     },
     "execution_count": 24,
     "metadata": {},
     "output_type": "execute_result"
    }
   ],
   "source": [
    "# Download the pretrained network\n",
    "path='https://github.com/KeyKy/mobilenet-mxnet/'\n",
    "directory = './mobilenet-mxnet/'\n",
    "[mx.test_utils.download(path+'raw/master/mobilenet_v2-0000.params', dirname=directory, overwrite=True),\n",
    " mx.test_utils.download(path+'raw/master/mobilenet_v2-symbol.json', dirname=directory, overwrite=True)]"
   ]
  },
  {
   "cell_type": "code",
   "execution_count": 25,
   "metadata": {},
   "outputs": [],
   "source": [
    "sym, arg_params, aux_params = mx.model.load_checkpoint(\"mobilenet-mxnet/mobilenet_v2\", 0)\n",
    "mod = mx.mod.Module(symbol=sym, context=mx.cpu(), label_names=None)\n",
    "mod.bind(for_training=False, data_shapes=[('data', (1,3,224,224))], \n",
    "         label_shapes=mod._label_shapes)\n",
    "mod.set_params(arg_params, aux_params, allow_missing=True)"
   ]
  },
  {
   "cell_type": "code",
   "execution_count": 26,
   "metadata": {},
   "outputs": [
    {
     "data": {
      "text/plain": [
       "['conv6_4_bn_moving_var',\n",
       " 'conv6_4_bn_output',\n",
       " 'relu6_4_output',\n",
       " 'pool6_output',\n",
       " 'fc7_weight',\n",
       " 'fc7_bias',\n",
       " 'fc7_output',\n",
       " 'fc7_output',\n",
       " 'prob_label',\n",
       " 'prob_output']"
      ]
     },
     "execution_count": 26,
     "metadata": {},
     "output_type": "execute_result"
    }
   ],
   "source": [
    "# list the last 10 layers\n",
    "all_layers = sym.get_internals()\n",
    "all_layers.list_outputs()[-10:]"
   ]
  },
  {
   "cell_type": "code",
   "execution_count": 27,
   "metadata": {},
   "outputs": [],
   "source": [
    "fe_sym = sym.get_internals()[len(sym.get_internals().list_outputs())-3]\n",
    "fe_mod = mx.mod.Module(symbol=fe_sym, context=mx.cpu(), label_names=None)\n",
    "fe_mod.bind(for_training=False, data_shapes=[('data', (1,3,224,224))])\n",
    "fe_mod.set_params(arg_params, aux_params)"
   ]
  },
  {
   "cell_type": "code",
   "execution_count": 28,
   "metadata": {},
   "outputs": [
    {
     "name": "stdout",
     "output_type": "stream",
     "text": [
      "** Using 10 images **\n",
      "Accuracy: 0.40\tFit time:0.00s\tScore time:0.00s\n",
      "\n",
      "** Using 100 images **\n",
      "Accuracy: 0.48\tFit time:0.09s\tScore time:0.00s\n",
      "\n",
      "** Using 500 images **\n",
      "Accuracy: 0.57\tFit time:2.28s\tScore time:0.11s\n",
      "\n",
      "** Using 1000 images **\n",
      "Accuracy: 0.57\tFit time:9.28s\tScore time:0.45s\n",
      "\n"
     ]
    }
   ],
   "source": [
    "from sklearn.model_selection import GridSearchCV\n",
    "\n",
    "N = [10, 100, 500, 1000, 5000, 12500]\n",
    "# Reduce execution time\n",
    "N = [10, 100, 500, 1000]\n",
    "\n",
    "for Nmax in N:\n",
    "    print(\"** Using %d images **\"%(Nmax))\n",
    "    cats_features = [get_features(get_image(img)).ravel() for img in cats_imgs[:Nmax]]\n",
    "    dogs_features = [get_features(get_image(img)).ravel() for img in dogs_imgs[:Nmax]]\n",
    "    Y_cats = np.array(Nmax * [1])\n",
    "    Y_dogs = np.array(Nmax * [0])\n",
    "    X_cvd = np.vstack([cats_features,dogs_features])\n",
    "    Y_cvd = np.vstack([Y_cats,Y_dogs]).ravel()    \n",
    "    X_train, X_test, y_train, y_test = train_test_split(X_cvd, Y_cvd, random_state=42)    \n",
    "    model = svm.SVC(probability=True).fit(X_train, y_train)\n",
    "    \n",
    "    param_grid = {'C': [0.001, 0.01, 0.1, 1.0]}\n",
    "    search = GridSearchCV(model, param_grid, n_jobs=-1)\n",
    "    search.fit(X_train, y_train)\n",
    "    print(\"Accuracy: %.2f\\tFit time:%.2fs\\tScore time:%.2fs\\n\"%(\n",
    "        search.score(X_test, y_test),\n",
    "        search.cv_results_['mean_fit_time'][search.best_index_],\n",
    "        search.cv_results_['mean_score_time'][search.best_index_]\n",
    "    ))       "
   ]
  },
  {
   "cell_type": "markdown",
   "metadata": {},
   "source": [
    "#### Task 3 (5 points):\n",
    "\n",
    "Using the best network. Train a machine learning model able to predic COVID-19 from chest X-Ray images. Use the data from https://www.kaggle.com/praveengovi/coronahack-chest-xraydataset. \n",
    "\n",
    "Present and discuss your best model."
   ]
  },
  {
   "cell_type": "code",
   "execution_count": 186,
   "metadata": {},
   "outputs": [
    {
     "name": "stdout",
     "output_type": "stream",
     "text": [
      "Requirement already satisfied: opendatasets in /opt/conda/lib/python3.7/site-packages (0.1.20)\n",
      "Requirement already satisfied: click in /opt/conda/lib/python3.7/site-packages (from opendatasets) (8.0.3)\n",
      "Requirement already satisfied: kaggle in /opt/conda/lib/python3.7/site-packages (from opendatasets) (1.5.12)\n",
      "Requirement already satisfied: tqdm in /opt/conda/lib/python3.7/site-packages (from opendatasets) (4.43.0)\n",
      "Requirement already satisfied: importlib-metadata; python_version < \"3.8\" in /opt/conda/lib/python3.7/site-packages (from click->opendatasets) (1.5.0)\n",
      "Requirement already satisfied: urllib3 in /opt/conda/lib/python3.7/site-packages (from kaggle->opendatasets) (1.25.7)\n",
      "Requirement already satisfied: python-dateutil in /opt/conda/lib/python3.7/site-packages (from kaggle->opendatasets) (2.8.1)\n",
      "Requirement already satisfied: six>=1.10 in /opt/conda/lib/python3.7/site-packages (from kaggle->opendatasets) (1.14.0)\n",
      "Requirement already satisfied: python-slugify in /opt/conda/lib/python3.7/site-packages (from kaggle->opendatasets) (5.0.2)\n",
      "Requirement already satisfied: requests in /opt/conda/lib/python3.7/site-packages (from kaggle->opendatasets) (2.23.0)\n",
      "Requirement already satisfied: certifi in /opt/conda/lib/python3.7/site-packages (from kaggle->opendatasets) (2019.11.28)\n",
      "Requirement already satisfied: zipp>=0.5 in /opt/conda/lib/python3.7/site-packages (from importlib-metadata; python_version < \"3.8\"->click->opendatasets) (3.1.0)\n",
      "Requirement already satisfied: text-unidecode>=1.3 in /opt/conda/lib/python3.7/site-packages (from python-slugify->kaggle->opendatasets) (1.3)\n",
      "Requirement already satisfied: idna<3,>=2.5 in /opt/conda/lib/python3.7/site-packages (from requests->kaggle->opendatasets) (2.9)\n",
      "Requirement already satisfied: chardet<4,>=3.0.2 in /opt/conda/lib/python3.7/site-packages (from requests->kaggle->opendatasets) (3.0.4)\n",
      "Skipping, found downloaded files in \"./coronahack-chest-xraydataset\" (use force=True to force download)\n"
     ]
    }
   ],
   "source": [
    "!pip install opendatasets\n",
    "import opendatasets as od\n",
    "od.download(\"https://www.kaggle.com/praveengovi/coronahack-chest-xraydataset\")"
   ]
  },
  {
   "cell_type": "code",
   "execution_count": 187,
   "metadata": {},
   "outputs": [
    {
     "name": "stdout",
     "output_type": "stream",
     "text": [
      "Requirement already satisfied: tensorflow==2.2.0 in /opt/conda/lib/python3.7/site-packages (2.2.0)\n",
      "Requirement already satisfied: tensorboard<2.3.0,>=2.2.0 in /opt/conda/lib/python3.7/site-packages (from tensorflow==2.2.0) (2.2.2)\n",
      "Requirement already satisfied: six>=1.12.0 in /opt/conda/lib/python3.7/site-packages (from tensorflow==2.2.0) (1.14.0)\n",
      "Requirement already satisfied: grpcio>=1.8.6 in /opt/conda/lib/python3.7/site-packages (from tensorflow==2.2.0) (1.28.1)\n",
      "Requirement already satisfied: protobuf>=3.8.0 in /opt/conda/lib/python3.7/site-packages (from tensorflow==2.2.0) (3.11.3)\n",
      "Requirement already satisfied: wheel>=0.26; python_version >= \"3\" in /opt/conda/lib/python3.7/site-packages (from tensorflow==2.2.0) (0.34.2)\n",
      "Requirement already satisfied: astunparse==1.6.3 in /opt/conda/lib/python3.7/site-packages (from tensorflow==2.2.0) (1.6.3)\n",
      "Requirement already satisfied: opt-einsum>=2.3.2 in /opt/conda/lib/python3.7/site-packages (from tensorflow==2.2.0) (3.2.1)\n",
      "Requirement already satisfied: numpy<2.0,>=1.16.0 in /opt/conda/lib/python3.7/site-packages (from tensorflow==2.2.0) (1.18.2)\n",
      "Requirement already satisfied: gast==0.3.3 in /opt/conda/lib/python3.7/site-packages (from tensorflow==2.2.0) (0.3.3)\n",
      "Requirement already satisfied: keras-preprocessing>=1.1.0 in /opt/conda/lib/python3.7/site-packages (from tensorflow==2.2.0) (1.1.0)\n",
      "Requirement already satisfied: h5py<2.11.0,>=2.10.0 in /opt/conda/lib/python3.7/site-packages (from tensorflow==2.2.0) (2.10.0)\n",
      "Requirement already satisfied: scipy==1.4.1; python_version >= \"3\" in /opt/conda/lib/python3.7/site-packages (from tensorflow==2.2.0) (1.4.1)\n",
      "Requirement already satisfied: termcolor>=1.1.0 in /opt/conda/lib/python3.7/site-packages (from tensorflow==2.2.0) (1.1.0)\n",
      "Requirement already satisfied: absl-py>=0.7.0 in /opt/conda/lib/python3.7/site-packages (from tensorflow==2.2.0) (0.9.0)\n",
      "Requirement already satisfied: google-pasta>=0.1.8 in /opt/conda/lib/python3.7/site-packages (from tensorflow==2.2.0) (0.2.0)\n",
      "Requirement already satisfied: tensorflow-estimator<2.3.0,>=2.2.0 in /opt/conda/lib/python3.7/site-packages (from tensorflow==2.2.0) (2.2.0)\n",
      "Requirement already satisfied: wrapt>=1.11.1 in /opt/conda/lib/python3.7/site-packages (from tensorflow==2.2.0) (1.12.1)\n",
      "Requirement already satisfied: markdown>=2.6.8 in /opt/conda/lib/python3.7/site-packages (from tensorboard<2.3.0,>=2.2.0->tensorflow==2.2.0) (3.2.1)\n",
      "Requirement already satisfied: tensorboard-plugin-wit>=1.6.0 in /opt/conda/lib/python3.7/site-packages (from tensorboard<2.3.0,>=2.2.0->tensorflow==2.2.0) (1.8.0)\n",
      "Requirement already satisfied: setuptools>=41.0.0 in /opt/conda/lib/python3.7/site-packages (from tensorboard<2.3.0,>=2.2.0->tensorflow==2.2.0) (46.1.3)\n",
      "Requirement already satisfied: werkzeug>=0.11.15 in /opt/conda/lib/python3.7/site-packages (from tensorboard<2.3.0,>=2.2.0->tensorflow==2.2.0) (1.0.1)\n",
      "Requirement already satisfied: google-auth-oauthlib<0.5,>=0.4.1 in /opt/conda/lib/python3.7/site-packages (from tensorboard<2.3.0,>=2.2.0->tensorflow==2.2.0) (0.4.1)\n",
      "Requirement already satisfied: requests<3,>=2.21.0 in /opt/conda/lib/python3.7/site-packages (from tensorboard<2.3.0,>=2.2.0->tensorflow==2.2.0) (2.23.0)\n",
      "Requirement already satisfied: google-auth<2,>=1.6.3 in /opt/conda/lib/python3.7/site-packages (from tensorboard<2.3.0,>=2.2.0->tensorflow==2.2.0) (1.14.0)\n",
      "Requirement already satisfied: requests-oauthlib>=0.7.0 in /opt/conda/lib/python3.7/site-packages (from google-auth-oauthlib<0.5,>=0.4.1->tensorboard<2.3.0,>=2.2.0->tensorflow==2.2.0) (1.3.0)\n",
      "Requirement already satisfied: certifi>=2017.4.17 in /opt/conda/lib/python3.7/site-packages (from requests<3,>=2.21.0->tensorboard<2.3.0,>=2.2.0->tensorflow==2.2.0) (2019.11.28)\n",
      "Requirement already satisfied: idna<3,>=2.5 in /opt/conda/lib/python3.7/site-packages (from requests<3,>=2.21.0->tensorboard<2.3.0,>=2.2.0->tensorflow==2.2.0) (2.9)\n",
      "Requirement already satisfied: urllib3!=1.25.0,!=1.25.1,<1.26,>=1.21.1 in /opt/conda/lib/python3.7/site-packages (from requests<3,>=2.21.0->tensorboard<2.3.0,>=2.2.0->tensorflow==2.2.0) (1.25.7)\n",
      "Requirement already satisfied: chardet<4,>=3.0.2 in /opt/conda/lib/python3.7/site-packages (from requests<3,>=2.21.0->tensorboard<2.3.0,>=2.2.0->tensorflow==2.2.0) (3.0.4)\n",
      "Requirement already satisfied: rsa<4.1,>=3.1.4 in /opt/conda/lib/python3.7/site-packages (from google-auth<2,>=1.6.3->tensorboard<2.3.0,>=2.2.0->tensorflow==2.2.0) (4.0)\n",
      "Requirement already satisfied: cachetools<5.0,>=2.0.0 in /opt/conda/lib/python3.7/site-packages (from google-auth<2,>=1.6.3->tensorboard<2.3.0,>=2.2.0->tensorflow==2.2.0) (4.1.0)\n",
      "Requirement already satisfied: pyasn1-modules>=0.2.1 in /opt/conda/lib/python3.7/site-packages (from google-auth<2,>=1.6.3->tensorboard<2.3.0,>=2.2.0->tensorflow==2.2.0) (0.2.8)\n",
      "Requirement already satisfied: oauthlib>=3.0.0 in /opt/conda/lib/python3.7/site-packages (from requests-oauthlib>=0.7.0->google-auth-oauthlib<0.5,>=0.4.1->tensorboard<2.3.0,>=2.2.0->tensorflow==2.2.0) (3.0.1)\n",
      "Requirement already satisfied: pyasn1>=0.1.3 in /opt/conda/lib/python3.7/site-packages (from rsa<4.1,>=3.1.4->google-auth<2,>=1.6.3->tensorboard<2.3.0,>=2.2.0->tensorflow==2.2.0) (0.4.8)\n"
     ]
    }
   ],
   "source": [
    "!pip install tensorflow==2.2.0"
   ]
  },
  {
   "cell_type": "code",
   "execution_count": 188,
   "metadata": {},
   "outputs": [
    {
     "name": "stdout",
     "output_type": "stream",
     "text": [
      "The training dataset has rows :  5910\n",
      "The training dataset has cols :  6\n"
     ]
    }
   ],
   "source": [
    "train_df = pd.read_csv('./coronahack-chest-xraydataset/Chest_xray_Corona_Metadata.csv')\n",
    "valid_df = pd.read_csv('./coronahack-chest-xraydataset/Chest_xray_Corona_dataset_Summary.csv')\n",
    "\n",
    "print('The training dataset has rows : ', format(train_df.shape[0]))\n",
    "print('The training dataset has cols : ', format(train_df.shape[1]))"
   ]
  },
  {
   "cell_type": "code",
   "execution_count": 189,
   "metadata": {},
   "outputs": [
    {
     "data": {
      "text/html": [
       "<div>\n",
       "<style scoped>\n",
       "    .dataframe tbody tr th:only-of-type {\n",
       "        vertical-align: middle;\n",
       "    }\n",
       "\n",
       "    .dataframe tbody tr th {\n",
       "        vertical-align: top;\n",
       "    }\n",
       "\n",
       "    .dataframe thead th {\n",
       "        text-align: right;\n",
       "    }\n",
       "</style>\n",
       "<table border=\"1\" class=\"dataframe\">\n",
       "  <thead>\n",
       "    <tr style=\"text-align: right;\">\n",
       "      <th></th>\n",
       "      <th>Unnamed: 0</th>\n",
       "      <th>X_ray_image_name</th>\n",
       "      <th>Label</th>\n",
       "      <th>Dataset_type</th>\n",
       "      <th>Label_2_Virus_category</th>\n",
       "      <th>Label_1_Virus_category</th>\n",
       "    </tr>\n",
       "  </thead>\n",
       "  <tbody>\n",
       "    <tr>\n",
       "      <th>0</th>\n",
       "      <td>0</td>\n",
       "      <td>IM-0128-0001.jpeg</td>\n",
       "      <td>Normal</td>\n",
       "      <td>TRAIN</td>\n",
       "      <td>NaN</td>\n",
       "      <td>NaN</td>\n",
       "    </tr>\n",
       "    <tr>\n",
       "      <th>1</th>\n",
       "      <td>1</td>\n",
       "      <td>IM-0127-0001.jpeg</td>\n",
       "      <td>Normal</td>\n",
       "      <td>TRAIN</td>\n",
       "      <td>NaN</td>\n",
       "      <td>NaN</td>\n",
       "    </tr>\n",
       "    <tr>\n",
       "      <th>2</th>\n",
       "      <td>2</td>\n",
       "      <td>IM-0125-0001.jpeg</td>\n",
       "      <td>Normal</td>\n",
       "      <td>TRAIN</td>\n",
       "      <td>NaN</td>\n",
       "      <td>NaN</td>\n",
       "    </tr>\n",
       "    <tr>\n",
       "      <th>3</th>\n",
       "      <td>3</td>\n",
       "      <td>IM-0122-0001.jpeg</td>\n",
       "      <td>Normal</td>\n",
       "      <td>TRAIN</td>\n",
       "      <td>NaN</td>\n",
       "      <td>NaN</td>\n",
       "    </tr>\n",
       "    <tr>\n",
       "      <th>4</th>\n",
       "      <td>4</td>\n",
       "      <td>IM-0119-0001.jpeg</td>\n",
       "      <td>Normal</td>\n",
       "      <td>TRAIN</td>\n",
       "      <td>NaN</td>\n",
       "      <td>NaN</td>\n",
       "    </tr>\n",
       "  </tbody>\n",
       "</table>\n",
       "</div>"
      ],
      "text/plain": [
       "   Unnamed: 0   X_ray_image_name   Label Dataset_type Label_2_Virus_category  \\\n",
       "0           0  IM-0128-0001.jpeg  Normal        TRAIN                    NaN   \n",
       "1           1  IM-0127-0001.jpeg  Normal        TRAIN                    NaN   \n",
       "2           2  IM-0125-0001.jpeg  Normal        TRAIN                    NaN   \n",
       "3           3  IM-0122-0001.jpeg  Normal        TRAIN                    NaN   \n",
       "4           4  IM-0119-0001.jpeg  Normal        TRAIN                    NaN   \n",
       "\n",
       "  Label_1_Virus_category  \n",
       "0                    NaN  \n",
       "1                    NaN  \n",
       "2                    NaN  \n",
       "3                    NaN  \n",
       "4                    NaN  "
      ]
     },
     "execution_count": 189,
     "metadata": {},
     "output_type": "execute_result"
    }
   ],
   "source": [
    "train_df.head(5)"
   ]
  },
  {
   "cell_type": "code",
   "execution_count": 29,
   "metadata": {},
   "outputs": [
    {
     "name": "stdout",
     "output_type": "stream",
     "text": [
      " ____                                                                  _ \n",
      "/ ___|   ___   ___    _   _   ___   _   _    ___   ___    ___   _ __  | |\n",
      "\\___ \\  / _ \\ / _ \\  | | | | / _ \\ | | | |  / __| / _ \\  / _ \\ | '_ \\ | |\n",
      " ___) ||  __/|  __/  | |_| || (_) || |_| |  \\__ \\| (_) || (_) || | | ||_|\n",
      "|____/  \\___| \\___|   \\__, | \\___/  \\__,_|  |___/ \\___/  \\___/ |_| |_|(_)\n",
      "                      |___/                                              \n",
      "\n"
     ]
    }
   ],
   "source": [
    "from art import tprint, aprint\n",
    "tprint('See  you  soon!')"
   ]
  }
 ],
 "metadata": {
  "kernelspec": {
   "display_name": "Python 3",
   "language": "python",
   "name": "python3"
  },
  "language_info": {
   "codemirror_mode": {
    "name": "ipython",
    "version": 3
   },
   "file_extension": ".py",
   "mimetype": "text/x-python",
   "name": "python",
   "nbconvert_exporter": "python",
   "pygments_lexer": "ipython3",
   "version": "3.8.8"
  }
 },
 "nbformat": 4,
 "nbformat_minor": 4
}
